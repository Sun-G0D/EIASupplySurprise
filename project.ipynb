{
 "cells": [
  {
   "cell_type": "code",
   "execution_count": null,
   "metadata": {},
   "outputs": [],
   "source": [
    "import pandas as pd\n",
    "import datetime\n",
    "import pytz\n",
    "import plotly.graph_objects as go\n",
    "from plotly.offline import iplot\n",
    "from plotly.subplots import make_subplots\n",
    "from scipy import stats\n",
    "import numpy as np\n",
    "import matplotlib.pyplot as plt\n",
    "import plotly.express as px\n",
    "\n",
    "pd.set_option('display.max_rows', 400)\n",
    "pd.set_option('display.max_columns', 20)\n",
    "\n",
    "icom_eia_forecasts = pd.read_csv('data/InvestingcomEIA.csv')\n",
    "print(\"icom_eia_forecasts:\")\n",
    "display(icom_eia_forecasts)\n",
    "\n",
    "fxstreet_eia_forecasts = pd.read_csv('data/FXStreetEIA.csv')\n",
    "print(\"fxstreet_eia_forecasts:\")\n",
    "display(fxstreet_eia_forecasts)\n",
    "print(\"fxstreet_api_forecasts:\")\n",
    "fxstreet_api_forecasts = pd.read_csv('data/FXStreetAPI.csv')\n",
    "display(fxstreet_api_forecasts)\n",
    "\n",
    "min_WTI = pd.read_csv(\n",
    "    'data/cl-1m.csv',\n",
    "    sep=';',\n",
    "    header=None,\n",
    "    names=['Date', 'Time', 'Open', 'High', 'Low', 'Close', 'Volume']\n",
    ")\n",
    "\n",
    "# Print the head of the DataFrame to verify it's loaded correctly\n",
    "display(min_WTI)\n",
    "min_WTI = min_WTI[1225975:]\n",
    "display(min_WTI)\n",
    "\n"
   ]
  },
  {
   "cell_type": "code",
   "execution_count": null,
   "metadata": {},
   "outputs": [
    {
     "data": {
      "text/html": [
       "<div>\n",
       "<style scoped>\n",
       "    .dataframe tbody tr th:only-of-type {\n",
       "        vertical-align: middle;\n",
       "    }\n",
       "\n",
       "    .dataframe tbody tr th {\n",
       "        vertical-align: top;\n",
       "    }\n",
       "\n",
       "    .dataframe thead th {\n",
       "        text-align: right;\n",
       "    }\n",
       "</style>\n",
       "<table border=\"1\" class=\"dataframe\">\n",
       "  <thead>\n",
       "    <tr style=\"text-align: right;\">\n",
       "      <th></th>\n",
       "      <th>Date</th>\n",
       "      <th>Time</th>\n",
       "      <th>Open</th>\n",
       "      <th>High</th>\n",
       "      <th>Low</th>\n",
       "      <th>Close</th>\n",
       "      <th>Volume</th>\n",
       "      <th>Datetime</th>\n",
       "    </tr>\n",
       "    <tr>\n",
       "      <th>Datetime_CST</th>\n",
       "      <th></th>\n",
       "      <th></th>\n",
       "      <th></th>\n",
       "      <th></th>\n",
       "      <th></th>\n",
       "      <th></th>\n",
       "      <th></th>\n",
       "      <th></th>\n",
       "    </tr>\n",
       "  </thead>\n",
       "  <tbody>\n",
       "    <tr>\n",
       "      <th>2011-03-07 23:59:00-06:00</th>\n",
       "      <td>07/03/2011</td>\n",
       "      <td>23:59:00</td>\n",
       "      <td>104.74</td>\n",
       "      <td>104.77</td>\n",
       "      <td>104.73</td>\n",
       "      <td>104.73</td>\n",
       "      <td>18</td>\n",
       "      <td>2011-03-07 23:59:00</td>\n",
       "    </tr>\n",
       "    <tr>\n",
       "      <th>2011-03-08 00:00:00-06:00</th>\n",
       "      <td>08/03/2011</td>\n",
       "      <td>00:00:00</td>\n",
       "      <td>104.74</td>\n",
       "      <td>104.82</td>\n",
       "      <td>104.74</td>\n",
       "      <td>104.81</td>\n",
       "      <td>34</td>\n",
       "      <td>2011-03-08 00:00:00</td>\n",
       "    </tr>\n",
       "    <tr>\n",
       "      <th>2011-03-08 00:01:00-06:00</th>\n",
       "      <td>08/03/2011</td>\n",
       "      <td>00:01:00</td>\n",
       "      <td>104.82</td>\n",
       "      <td>104.84</td>\n",
       "      <td>104.82</td>\n",
       "      <td>104.82</td>\n",
       "      <td>12</td>\n",
       "      <td>2011-03-08 00:01:00</td>\n",
       "    </tr>\n",
       "    <tr>\n",
       "      <th>2011-03-08 00:02:00-06:00</th>\n",
       "      <td>08/03/2011</td>\n",
       "      <td>00:02:00</td>\n",
       "      <td>104.81</td>\n",
       "      <td>104.81</td>\n",
       "      <td>104.73</td>\n",
       "      <td>104.75</td>\n",
       "      <td>20</td>\n",
       "      <td>2011-03-08 00:02:00</td>\n",
       "    </tr>\n",
       "    <tr>\n",
       "      <th>2011-03-08 00:03:00-06:00</th>\n",
       "      <td>08/03/2011</td>\n",
       "      <td>00:03:00</td>\n",
       "      <td>104.74</td>\n",
       "      <td>104.76</td>\n",
       "      <td>104.71</td>\n",
       "      <td>104.76</td>\n",
       "      <td>25</td>\n",
       "      <td>2011-03-08 00:03:00</td>\n",
       "    </tr>\n",
       "    <tr>\n",
       "      <th>...</th>\n",
       "      <td>...</td>\n",
       "      <td>...</td>\n",
       "      <td>...</td>\n",
       "      <td>...</td>\n",
       "      <td>...</td>\n",
       "      <td>...</td>\n",
       "      <td>...</td>\n",
       "      <td>...</td>\n",
       "    </tr>\n",
       "    <tr>\n",
       "      <th>2025-03-11 23:54:00-05:00</th>\n",
       "      <td>11/03/2025</td>\n",
       "      <td>23:54:00</td>\n",
       "      <td>66.75</td>\n",
       "      <td>66.75</td>\n",
       "      <td>66.75</td>\n",
       "      <td>66.75</td>\n",
       "      <td>13</td>\n",
       "      <td>2025-03-11 23:54:00</td>\n",
       "    </tr>\n",
       "    <tr>\n",
       "      <th>2025-03-11 23:56:00-05:00</th>\n",
       "      <td>11/03/2025</td>\n",
       "      <td>23:56:00</td>\n",
       "      <td>66.75</td>\n",
       "      <td>66.75</td>\n",
       "      <td>66.74</td>\n",
       "      <td>66.74</td>\n",
       "      <td>3</td>\n",
       "      <td>2025-03-11 23:56:00</td>\n",
       "    </tr>\n",
       "    <tr>\n",
       "      <th>2025-03-11 23:58:00-05:00</th>\n",
       "      <td>11/03/2025</td>\n",
       "      <td>23:58:00</td>\n",
       "      <td>66.75</td>\n",
       "      <td>66.75</td>\n",
       "      <td>66.75</td>\n",
       "      <td>66.75</td>\n",
       "      <td>3</td>\n",
       "      <td>2025-03-11 23:58:00</td>\n",
       "    </tr>\n",
       "    <tr>\n",
       "      <th>2025-03-11 23:59:00-05:00</th>\n",
       "      <td>11/03/2025</td>\n",
       "      <td>23:59:00</td>\n",
       "      <td>66.75</td>\n",
       "      <td>66.75</td>\n",
       "      <td>66.75</td>\n",
       "      <td>66.75</td>\n",
       "      <td>1</td>\n",
       "      <td>2025-03-11 23:59:00</td>\n",
       "    </tr>\n",
       "    <tr>\n",
       "      <th>2025-03-12 00:00:00-05:00</th>\n",
       "      <td>12/03/2025</td>\n",
       "      <td>00:00:00</td>\n",
       "      <td>66.74</td>\n",
       "      <td>66.76</td>\n",
       "      <td>66.71</td>\n",
       "      <td>66.75</td>\n",
       "      <td>41</td>\n",
       "      <td>2025-03-12 00:00:00</td>\n",
       "    </tr>\n",
       "  </tbody>\n",
       "</table>\n",
       "<p>4811559 rows × 8 columns</p>\n",
       "</div>"
      ],
      "text/plain": [
       "                                 Date      Time    Open    High     Low  \\\n",
       "Datetime_CST                                                              \n",
       "2011-03-07 23:59:00-06:00  07/03/2011  23:59:00  104.74  104.77  104.73   \n",
       "2011-03-08 00:00:00-06:00  08/03/2011  00:00:00  104.74  104.82  104.74   \n",
       "2011-03-08 00:01:00-06:00  08/03/2011  00:01:00  104.82  104.84  104.82   \n",
       "2011-03-08 00:02:00-06:00  08/03/2011  00:02:00  104.81  104.81  104.73   \n",
       "2011-03-08 00:03:00-06:00  08/03/2011  00:03:00  104.74  104.76  104.71   \n",
       "...                               ...       ...     ...     ...     ...   \n",
       "2025-03-11 23:54:00-05:00  11/03/2025  23:54:00   66.75   66.75   66.75   \n",
       "2025-03-11 23:56:00-05:00  11/03/2025  23:56:00   66.75   66.75   66.74   \n",
       "2025-03-11 23:58:00-05:00  11/03/2025  23:58:00   66.75   66.75   66.75   \n",
       "2025-03-11 23:59:00-05:00  11/03/2025  23:59:00   66.75   66.75   66.75   \n",
       "2025-03-12 00:00:00-05:00  12/03/2025  00:00:00   66.74   66.76   66.71   \n",
       "\n",
       "                            Close  Volume            Datetime  \n",
       "Datetime_CST                                                   \n",
       "2011-03-07 23:59:00-06:00  104.73      18 2011-03-07 23:59:00  \n",
       "2011-03-08 00:00:00-06:00  104.81      34 2011-03-08 00:00:00  \n",
       "2011-03-08 00:01:00-06:00  104.82      12 2011-03-08 00:01:00  \n",
       "2011-03-08 00:02:00-06:00  104.75      20 2011-03-08 00:02:00  \n",
       "2011-03-08 00:03:00-06:00  104.76      25 2011-03-08 00:03:00  \n",
       "...                           ...     ...                 ...  \n",
       "2025-03-11 23:54:00-05:00   66.75      13 2025-03-11 23:54:00  \n",
       "2025-03-11 23:56:00-05:00   66.74       3 2025-03-11 23:56:00  \n",
       "2025-03-11 23:58:00-05:00   66.75       3 2025-03-11 23:58:00  \n",
       "2025-03-11 23:59:00-05:00   66.75       1 2025-03-11 23:59:00  \n",
       "2025-03-12 00:00:00-05:00   66.75      41 2025-03-12 00:00:00  \n",
       "\n",
       "[4811559 rows x 8 columns]"
      ]
     },
     "metadata": {},
     "output_type": "display_data"
    },
    {
     "data": {
      "text/html": [
       "<div>\n",
       "<style scoped>\n",
       "    .dataframe tbody tr th:only-of-type {\n",
       "        vertical-align: middle;\n",
       "    }\n",
       "\n",
       "    .dataframe tbody tr th {\n",
       "        vertical-align: top;\n",
       "    }\n",
       "\n",
       "    .dataframe thead th {\n",
       "        text-align: right;\n",
       "    }\n",
       "</style>\n",
       "<table border=\"1\" class=\"dataframe\">\n",
       "  <thead>\n",
       "    <tr style=\"text-align: right;\">\n",
       "      <th></th>\n",
       "      <th>Release Date</th>\n",
       "      <th>Time</th>\n",
       "      <th>Actual</th>\n",
       "      <th>Forecast</th>\n",
       "      <th>Previous</th>\n",
       "      <th>Release_Datetime</th>\n",
       "      <th>Release_Datetime_EST</th>\n",
       "      <th>supply_surprise</th>\n",
       "    </tr>\n",
       "    <tr>\n",
       "      <th>Release_Datetime_CST</th>\n",
       "      <th></th>\n",
       "      <th></th>\n",
       "      <th></th>\n",
       "      <th></th>\n",
       "      <th></th>\n",
       "      <th></th>\n",
       "      <th></th>\n",
       "      <th></th>\n",
       "    </tr>\n",
       "  </thead>\n",
       "  <tbody>\n",
       "    <tr>\n",
       "      <th>2011-03-09 09:30:00-06:00</th>\n",
       "      <td>9-Mar-11</td>\n",
       "      <td>10:30</td>\n",
       "      <td>2.500M</td>\n",
       "      <td>1.100M</td>\n",
       "      <td>-0.400M</td>\n",
       "      <td>2011-03-09 10:30:00</td>\n",
       "      <td>2011-03-09 10:30:00-05:00</td>\n",
       "      <td>1.400</td>\n",
       "    </tr>\n",
       "    <tr>\n",
       "      <th>2011-03-16 08:30:00-05:00</th>\n",
       "      <td>16-Mar-11</td>\n",
       "      <td>9:30</td>\n",
       "      <td>1.700M</td>\n",
       "      <td>1.800M</td>\n",
       "      <td>2.500M</td>\n",
       "      <td>2011-03-16 09:30:00</td>\n",
       "      <td>2011-03-16 09:30:00-04:00</td>\n",
       "      <td>-0.100</td>\n",
       "    </tr>\n",
       "    <tr>\n",
       "      <th>2011-03-23 08:30:00-05:00</th>\n",
       "      <td>23-Mar-11</td>\n",
       "      <td>9:30</td>\n",
       "      <td>2.100M</td>\n",
       "      <td>2.000M</td>\n",
       "      <td>1.700M</td>\n",
       "      <td>2011-03-23 09:30:00</td>\n",
       "      <td>2011-03-23 09:30:00-04:00</td>\n",
       "      <td>0.100</td>\n",
       "    </tr>\n",
       "    <tr>\n",
       "      <th>2011-03-30 08:30:00-05:00</th>\n",
       "      <td>30-Mar-11</td>\n",
       "      <td>9:30</td>\n",
       "      <td>2.900M</td>\n",
       "      <td>2.000M</td>\n",
       "      <td>2.100M</td>\n",
       "      <td>2011-03-30 09:30:00</td>\n",
       "      <td>2011-03-30 09:30:00-04:00</td>\n",
       "      <td>0.900</td>\n",
       "    </tr>\n",
       "    <tr>\n",
       "      <th>2011-04-06 08:30:00-05:00</th>\n",
       "      <td>6-Apr-11</td>\n",
       "      <td>9:30</td>\n",
       "      <td>2.000M</td>\n",
       "      <td>1.300M</td>\n",
       "      <td>2.900M</td>\n",
       "      <td>2011-04-06 09:30:00</td>\n",
       "      <td>2011-04-06 09:30:00-04:00</td>\n",
       "      <td>0.700</td>\n",
       "    </tr>\n",
       "    <tr>\n",
       "      <th>...</th>\n",
       "      <td>...</td>\n",
       "      <td>...</td>\n",
       "      <td>...</td>\n",
       "      <td>...</td>\n",
       "      <td>...</td>\n",
       "      <td>...</td>\n",
       "      <td>...</td>\n",
       "      <td>...</td>\n",
       "    </tr>\n",
       "    <tr>\n",
       "      <th>2025-02-12 09:30:00-06:00</th>\n",
       "      <td>12-Feb-25</td>\n",
       "      <td>10:30</td>\n",
       "      <td>4.070M</td>\n",
       "      <td>2.400M</td>\n",
       "      <td>8.664M</td>\n",
       "      <td>2025-02-12 10:30:00</td>\n",
       "      <td>2025-02-12 10:30:00-05:00</td>\n",
       "      <td>1.670</td>\n",
       "    </tr>\n",
       "    <tr>\n",
       "      <th>2025-02-20 11:00:00-06:00</th>\n",
       "      <td>20-Feb-25</td>\n",
       "      <td>12:00</td>\n",
       "      <td>4.633M</td>\n",
       "      <td>3.200M</td>\n",
       "      <td>4.070M</td>\n",
       "      <td>2025-02-20 12:00:00</td>\n",
       "      <td>2025-02-20 12:00:00-05:00</td>\n",
       "      <td>1.433</td>\n",
       "    </tr>\n",
       "    <tr>\n",
       "      <th>2025-02-26 09:00:00-06:00</th>\n",
       "      <td>26-Feb-25</td>\n",
       "      <td>10:00</td>\n",
       "      <td>-2.332M</td>\n",
       "      <td>2.500M</td>\n",
       "      <td>4.633M</td>\n",
       "      <td>2025-02-26 10:00:00</td>\n",
       "      <td>2025-02-26 10:00:00-05:00</td>\n",
       "      <td>-4.832</td>\n",
       "    </tr>\n",
       "    <tr>\n",
       "      <th>2025-03-05 09:30:00-06:00</th>\n",
       "      <td>5-Mar-25</td>\n",
       "      <td>10:30</td>\n",
       "      <td>3.614M</td>\n",
       "      <td>0.600M</td>\n",
       "      <td>-2.332M</td>\n",
       "      <td>2025-03-05 10:30:00</td>\n",
       "      <td>2025-03-05 10:30:00-05:00</td>\n",
       "      <td>3.014</td>\n",
       "    </tr>\n",
       "    <tr>\n",
       "      <th>2025-03-12 07:30:00-05:00</th>\n",
       "      <td>12-Mar-25</td>\n",
       "      <td>8:30</td>\n",
       "      <td>NaN</td>\n",
       "      <td>NaN</td>\n",
       "      <td>3.614M</td>\n",
       "      <td>2025-03-12 08:30:00</td>\n",
       "      <td>2025-03-12 08:30:00-04:00</td>\n",
       "      <td>NaN</td>\n",
       "    </tr>\n",
       "  </tbody>\n",
       "</table>\n",
       "<p>732 rows × 8 columns</p>\n",
       "</div>"
      ],
      "text/plain": [
       "                          Release Date   Time   Actual Forecast Previous  \\\n",
       "Release_Datetime_CST                                                       \n",
       "2011-03-09 09:30:00-06:00     9-Mar-11  10:30   2.500M   1.100M  -0.400M   \n",
       "2011-03-16 08:30:00-05:00    16-Mar-11   9:30   1.700M   1.800M   2.500M   \n",
       "2011-03-23 08:30:00-05:00    23-Mar-11   9:30   2.100M   2.000M   1.700M   \n",
       "2011-03-30 08:30:00-05:00    30-Mar-11   9:30   2.900M   2.000M   2.100M   \n",
       "2011-04-06 08:30:00-05:00     6-Apr-11   9:30   2.000M   1.300M   2.900M   \n",
       "...                                ...    ...      ...      ...      ...   \n",
       "2025-02-12 09:30:00-06:00    12-Feb-25  10:30   4.070M   2.400M   8.664M   \n",
       "2025-02-20 11:00:00-06:00    20-Feb-25  12:00   4.633M   3.200M   4.070M   \n",
       "2025-02-26 09:00:00-06:00    26-Feb-25  10:00  -2.332M   2.500M   4.633M   \n",
       "2025-03-05 09:30:00-06:00     5-Mar-25  10:30   3.614M   0.600M  -2.332M   \n",
       "2025-03-12 07:30:00-05:00    12-Mar-25   8:30      NaN      NaN   3.614M   \n",
       "\n",
       "                             Release_Datetime      Release_Datetime_EST  \\\n",
       "Release_Datetime_CST                                                      \n",
       "2011-03-09 09:30:00-06:00 2011-03-09 10:30:00 2011-03-09 10:30:00-05:00   \n",
       "2011-03-16 08:30:00-05:00 2011-03-16 09:30:00 2011-03-16 09:30:00-04:00   \n",
       "2011-03-23 08:30:00-05:00 2011-03-23 09:30:00 2011-03-23 09:30:00-04:00   \n",
       "2011-03-30 08:30:00-05:00 2011-03-30 09:30:00 2011-03-30 09:30:00-04:00   \n",
       "2011-04-06 08:30:00-05:00 2011-04-06 09:30:00 2011-04-06 09:30:00-04:00   \n",
       "...                                       ...                       ...   \n",
       "2025-02-12 09:30:00-06:00 2025-02-12 10:30:00 2025-02-12 10:30:00-05:00   \n",
       "2025-02-20 11:00:00-06:00 2025-02-20 12:00:00 2025-02-20 12:00:00-05:00   \n",
       "2025-02-26 09:00:00-06:00 2025-02-26 10:00:00 2025-02-26 10:00:00-05:00   \n",
       "2025-03-05 09:30:00-06:00 2025-03-05 10:30:00 2025-03-05 10:30:00-05:00   \n",
       "2025-03-12 07:30:00-05:00 2025-03-12 08:30:00 2025-03-12 08:30:00-04:00   \n",
       "\n",
       "                           supply_surprise  \n",
       "Release_Datetime_CST                        \n",
       "2011-03-09 09:30:00-06:00            1.400  \n",
       "2011-03-16 08:30:00-05:00           -0.100  \n",
       "2011-03-23 08:30:00-05:00            0.100  \n",
       "2011-03-30 08:30:00-05:00            0.900  \n",
       "2011-04-06 08:30:00-05:00            0.700  \n",
       "...                                    ...  \n",
       "2025-02-12 09:30:00-06:00            1.670  \n",
       "2025-02-20 11:00:00-06:00            1.433  \n",
       "2025-02-26 09:00:00-06:00           -4.832  \n",
       "2025-03-05 09:30:00-06:00            3.014  \n",
       "2025-03-12 07:30:00-05:00              NaN  \n",
       "\n",
       "[732 rows x 8 columns]"
      ]
     },
     "metadata": {},
     "output_type": "display_data"
    }
   ],
   "source": [
    "display(min_WTI)\n",
    "display(icom_eia_forecasts)"
   ]
  },
  {
   "cell_type": "code",
   "execution_count": null,
   "metadata": {},
   "outputs": [],
   "source": [
    "def standardize_eia_datetime(row):\n",
    "    release_date = pd.to_datetime(row['Release Date'], format='%d-%b-%y', errors='coerce').date()\n",
    "    release_time = pd.to_datetime(row['Time'], format='%H:%M', errors='coerce').time()\n",
    "\n",
    "    if pd.isna(release_date) or pd.isna(release_time):\n",
    "        print('nan') #If this triggers, something is wrong\n",
    "        return pd.NaT\n",
    "\n",
    "    combined_datetime = pd.Timestamp.combine(release_date, release_time)\n",
    "    return combined_datetime\n",
    "\n",
    "icom_eia_forecasts['Release_Datetime'] = icom_eia_forecasts.apply(standardize_eia_datetime, axis=1)\n",
    "\n",
    "display(icom_eia_forecasts)\n",
    "\n",
    "eastern_tz = pytz.timezone('US/Eastern')\n",
    "icom_eia_forecasts['Release_Datetime_EST'] = icom_eia_forecasts['Release_Datetime'].dt.tz_localize(eastern_tz, ambiguous='infer', nonexistent='shift_forward')\n",
    "\n",
    "chicago_tz = pytz.timezone('America/Chicago')\n",
    "icom_eia_forecasts['Release_Datetime_CST'] = icom_eia_forecasts['Release_Datetime_EST'].dt.tz_convert(chicago_tz)\n",
    "\n",
    "display(icom_eia_forecasts)"
   ]
  },
  {
   "cell_type": "code",
   "execution_count": null,
   "metadata": {},
   "outputs": [],
   "source": [
    "def standardize_wti_datetime(row):\n",
    "    \"\"\"Standardizes datetime for min_res_OIH dataframe.\"\"\"\n",
    "    date_str = row['Date']\n",
    "    time_str = row['Time']\n",
    "\n",
    "    #print(date_str + ' ' + time_str)#debug\n",
    "\n",
    "    combined_datetime = pd.to_datetime(date_str + ' ' + time_str, format='%d/%m/%Y %H:%M:%S', errors='coerce') # Combined format\n",
    "\n",
    "    #print(combined_datetime)#debug\n",
    "\n",
    "    if pd.isna(combined_datetime):\n",
    "        print('nan')#If this triggers, something is wrong\n",
    "        return pd.NaT\n",
    "    return combined_datetime\n",
    "\n",
    "min_WTI['Datetime'] = min_WTI.apply(standardize_wti_datetime, axis=1)\n",
    "\n",
    "min_WTI['Datetime_CST'] = min_WTI['Datetime'].dt.tz_localize(chicago_tz, ambiguous='infer', nonexistent='shift_forward')\n",
    "display(min_WTI)"
   ]
  },
  {
   "cell_type": "code",
   "execution_count": null,
   "metadata": {},
   "outputs": [],
   "source": [
    "icom_eia_forecasts = icom_eia_forecasts.set_index('Release_Datetime_CST').sort_index()\n",
    "min_WTI = min_WTI.set_index('Datetime_CST').sort_index()"
   ]
  },
  {
   "cell_type": "code",
   "execution_count": null,
   "metadata": {},
   "outputs": [],
   "source": [
    "display(icom_eia_forecasts)\n",
    "display(min_WTI)\n"
   ]
  },
  {
   "cell_type": "code",
   "execution_count": null,
   "metadata": {},
   "outputs": [],
   "source": [
    "'''\n",
    "def calculate_price_change(eia_release_times, price_data, time_interval_minutes):\n",
    "    \"\"\"\n",
    "    Calculates the percentage price change in the price_data dataframe\n",
    "    for each release time in eia_release_times, over the specified time interval.\n",
    "\n",
    "    Args:\n",
    "        eia_release_times (pd.DatetimeIndex): Index of the icom_eia_forecasts dataframe (release datetimes).\n",
    "        price_data (pd.DataFrame): min_res_OIH dataframe with Datetime index and 'Close' price column.\n",
    "        time_interval_minutes (int): Time interval in minutes for price change calculation.\n",
    "\n",
    "    Returns:\n",
    "        list: List of price changes for each release event, or pd.NA if data is missing.\n",
    "    \"\"\"\n",
    "    price_changes = []\n",
    "    for release_time in eia_release_times:\n",
    "        try:\n",
    "            # Get price at release time\n",
    "            release_price = price_data.loc[release_time]['Close']\n",
    "\n",
    "            # Get price at time_interval_minutes after release\n",
    "            future_time = release_time + pd.Timedelta(minutes=time_interval_minutes)\n",
    "            future_price = price_data.loc[future_time]['Close']\n",
    "\n",
    "            price_change = ((future_price - release_price) / release_price) * 100.0\n",
    "            price_changes.append(price_change)\n",
    "\n",
    "        except KeyError:\n",
    "            #price data is missing when 0 volume so give 0 % price change\n",
    "            price_changes.append(0.0)\n",
    "\n",
    "    return price_changes\n",
    "\n",
    "time_intervals_minutes = [1, 5, 10, 60]\n",
    "\n",
    "price_change_column_names = []\n",
    "for interval in time_intervals_minutes:\n",
    "    col_name = f'{interval}_Minute_Percent_Price_Change' if interval < 60 else f'{interval//60}_Hour_Percent_Price_Change'\n",
    "    price_change_column_names.append(col_name)\n",
    "\n",
    "# remove cols if already there\n",
    "columns_to_drop = [col for col in price_change_column_names if col in icom_eia_forecasts.columns]\n",
    "if columns_to_drop:\n",
    "    print(f\"Removing existing columns: {columns_to_drop}\")\n",
    "    icom_eia_forecasts.drop(columns=columns_to_drop, inplace=True)\n",
    "\n",
    "# add % price change columns\n",
    "for interval, col_name in zip(time_intervals_minutes, price_change_column_names):\n",
    "    icom_eia_forecasts[col_name] = calculate_price_change(icom_eia_forecasts.index, min_res_OIH, interval)\n",
    "\n",
    "\n",
    "display(icom_eia_forecasts)\n",
    "'''"
   ]
  },
  {
   "cell_type": "code",
   "execution_count": null,
   "metadata": {},
   "outputs": [],
   "source": [
    "'''\n",
    "\n",
    "percentage_change_columns = [\n",
    "    '1_Minute_Percent_Price_Change',\n",
    "    '5_Minute_Percent_Price_Change',\n",
    "    '10_Minute_Percent_Price_Change',\n",
    "    '1_Hour_Percent_Price_Change'\n",
    "]\n",
    "\n",
    "average_price_changes = icom_eia_forecasts[percentage_change_columns].abs().mean() # want to look at raw magnitude of price change values, so abs()\n",
    "\n",
    "intervals = [\n",
    "    '1-Minute',\n",
    "    '5-Minute',\n",
    "    '10-Minute',\n",
    "    '1-Hour'\n",
    "]\n",
    "\n",
    "\n",
    "fig = go.Figure(data=[go.Bar(x=intervals, y=average_price_changes.values,\n",
    "                            text=average_price_changes.values.round(3), # Display values on bars\n",
    "                            textposition='outside')])\n",
    "\n",
    "fig.update_layout(\n",
    "    title='Average Percentage Price Change Following EIA WPSR Report Releases',\n",
    "    xaxis_title='Time Interval After Release',\n",
    "    yaxis_title='Average Percentage Price Change',\n",
    "    yaxis_gridcolor='lightgray' # Add light gray grid lines for better readability\n",
    ")\n",
    "\n",
    "iplot(fig)\n",
    "'''"
   ]
  },
  {
   "cell_type": "code",
   "execution_count": null,
   "metadata": {},
   "outputs": [],
   "source": [
    "def calculate_supply_surprise(df):\n",
    "    \"\"\"\n",
    "    Calculates the 'supply_surprise' column as the difference between 'Actual' and 'Forecast'.\n",
    "    Handles 'M' suffix and converts to numeric.\n",
    "\n",
    "    Args:\n",
    "        df (pd.DataFrame): icom_eia_forecasts DataFrame.\n",
    "\n",
    "    Returns:\n",
    "        pd.Series: Supply surprise values.\n",
    "    \"\"\"\n",
    "    actual = df['Actual'].str.replace('M', '', regex=False).astype(float)\n",
    "    forecast = df['Forecast'].str.replace('M', '', regex=False).astype(float)\n",
    "    supply_surprise = actual - forecast\n",
    "    return supply_surprise\n",
    "\n",
    "icom_eia_forecasts['supply_surprise'] = calculate_supply_surprise(icom_eia_forecasts)\n",
    "\n",
    "display(icom_eia_forecasts)"
   ]
  },
  {
   "cell_type": "code",
   "execution_count": null,
   "metadata": {},
   "outputs": [],
   "source": [
    "supply_surprise_data = icom_eia_forecasts['supply_surprise']\n",
    "\n",
    "fig_hist = go.Figure(data=[go.Histogram(x=supply_surprise_data, nbinsx=100)])\n",
    "\n",
    "fig_hist.update_layout(\n",
    "    title='Histogram of EIA WPSR Crude Oil Supply Surprise',\n",
    "    xaxis_title='Supply Surprise (Actual - Forecast, Million Barrels)',\n",
    "    yaxis_title='Frequency (Number of Releases)',\n",
    "    bargap=0.1\n",
    ")\n",
    "\n",
    "fig_hist.show()"
   ]
  },
  {
   "cell_type": "code",
   "execution_count": null,
   "metadata": {},
   "outputs": [],
   "source": [
    "'''\n",
    "price_change_columns = [\n",
    "    '1_Minute_Percent_Price_Change',\n",
    "    '5_Minute_Percent_Price_Change',\n",
    "    '10_Minute_Percent_Price_Change',\n",
    "    '1_Hour_Percent_Price_Change'\n",
    "]\n",
    "\n",
    "for col in price_change_columns:\n",
    "    price_change_data = icom_eia_forecasts[col].dropna()\n",
    "\n",
    "    fig_hist_price_change = go.Figure(data=[go.Histogram(x=price_change_data, nbinsx=100)])\n",
    "\n",
    "    fig_hist_price_change.update_layout(\n",
    "        title=f'Histogram of {col} After EIA WPSR Release',\n",
    "        xaxis_title='Percentage Price Change (%)',\n",
    "        yaxis_title='Frequency (Number of Releases)',\n",
    "        bargap=0.1\n",
    "    )\n",
    "\n",
    "    fig_hist_price_change.show()\n",
    "'''"
   ]
  },
  {
   "cell_type": "code",
   "execution_count": null,
   "metadata": {},
   "outputs": [],
   "source": [
    "'''\n",
    "from plotly.subplots import make_subplots\n",
    "from scipy import stats  # Import scipy.stats for statistical tests\n",
    "\n",
    "# Assume your dataframes are already loaded as icom_eia_forecasts and min_res_OIH\n",
    "# and that you have run all the previous code blocks, including price change calculations and supply_surprise\n",
    "\n",
    "# --- Kolmogorov-Smirnov Test ---\n",
    "\n",
    "price_change_columns = [\n",
    "    '1_Minute_Percent_Price_Change',\n",
    "    '5_Minute_Percent_Price_Change',\n",
    "    '10_Minute_Percent_Price_Change',\n",
    "    '1_Hour_Percent_Price_Change'\n",
    "]\n",
    "\n",
    "print(\"Kolmogorov-Smirnov Test for Normality of Price Changes:\\n\")\n",
    "\n",
    "for col in price_change_columns:\n",
    "    price_change_data = icom_eia_forecasts[col].dropna() # Drop NA values\n",
    "\n",
    "    # Standardize the data to have mean=0 and std=1 for comparison with standard normal\n",
    "    standardized_data = (price_change_data - price_change_data.mean()) / price_change_data.std()\n",
    "\n",
    "    # Perform Kolmogorov-Smirnov test against standard normal distribution (cdf='norm')\n",
    "    ks_statistic, p_value = stats.kstest(standardized_data, 'norm')\n",
    "\n",
    "    print(f\"Column: {col}\")\n",
    "    print(f\"KS Statistic: {ks_statistic:.4f}\")\n",
    "    print(f\"P-value: {p_value:.4f}\")\n",
    "\n",
    "    alpha = 0.05  # Significance level\n",
    "    if p_value < alpha:\n",
    "        print(f\"P-value < {alpha}: Reject the null hypothesis. Distribution is significantly different from normal.\\n\")\n",
    "    else:\n",
    "        print(f\"P-value >= {alpha}: Fail to reject the null hypothesis. Distribution is not significantly different from normal (at alpha={alpha}).\\n\")\n",
    "    print(\"-\" * 40)\n",
    "'''"
   ]
  },
  {
   "cell_type": "code",
   "execution_count": null,
   "metadata": {},
   "outputs": [],
   "source": [
    "display(min_WTI.head())"
   ]
  },
  {
   "cell_type": "code",
   "execution_count": null,
   "metadata": {},
   "outputs": [],
   "source": [
    "#1 minute 30 seconds\n",
    "\n",
    "percentage_price_changes_1min_wti = []\n",
    "previous_close_price = None\n",
    "\n",
    "for index, row in min_WTI.iterrows():\n",
    "    current_close_price = row['Close']\n",
    "    if previous_close_price is not None and previous_close_price != 0:\n",
    "        percentage_change = ((current_close_price - previous_close_price) / previous_close_price) * 100.0\n",
    "        percentage_price_changes_1min_wti.append(percentage_change)\n",
    "    else:\n",
    "        percentage_price_changes_1min_wti.append(float('nan'))\n",
    "    previous_close_price = current_close_price\n",
    "\n",
    "percentage_price_changes_1min_wti_series = pd.Series(percentage_price_changes_1min_wti, index=min_WTI.index)\n",
    "display(percentage_price_changes_1min_wti_series)\n",
    "min_WTI['Percent_Change'] = percentage_price_changes_1min_wti_series\n",
    "percentage_price_changes_1min_wti_series = percentage_price_changes_1min_wti_series.dropna()\n",
    "\n",
    "# --- Histogram of Filtered One-Minute Percentage Price Changes in min_res_OIH ---\n",
    "\n",
    "fig_hist_1min_wti = go.Figure(data=[go.Histogram(x=percentage_price_changes_1min_wti, nbinsx=1600)])\n",
    "\n",
    "fig_hist_1min_wti.update_layout(\n",
    "    title='Histogram of One-Minute Percentage Price Changes in Crude Price',\n",
    "    xaxis_title='One-Minute Percentage Price Change (%)',\n",
    "    yaxis_title='Frequency (Number of Minutes)',\n",
    "    xaxis_range=[-3, 3],\n",
    "    #yaxis_range=[0, 300000]\n",
    ")\n",
    "\n",
    "fig_hist_1min_wti.show()\n"
   ]
  },
  {
   "cell_type": "code",
   "execution_count": 48,
   "metadata": {},
   "outputs": [
    {
     "data": {
      "text/html": [
       "<div>\n",
       "<style scoped>\n",
       "    .dataframe tbody tr th:only-of-type {\n",
       "        vertical-align: middle;\n",
       "    }\n",
       "\n",
       "    .dataframe tbody tr th {\n",
       "        vertical-align: top;\n",
       "    }\n",
       "\n",
       "    .dataframe thead th {\n",
       "        text-align: right;\n",
       "    }\n",
       "</style>\n",
       "<table border=\"1\" class=\"dataframe\">\n",
       "  <thead>\n",
       "    <tr style=\"text-align: right;\">\n",
       "      <th></th>\n",
       "      <th>Date</th>\n",
       "      <th>Time</th>\n",
       "      <th>Open</th>\n",
       "      <th>High</th>\n",
       "      <th>Low</th>\n",
       "      <th>Close</th>\n",
       "      <th>Volume</th>\n",
       "      <th>Datetime</th>\n",
       "      <th>Percent_Change</th>\n",
       "    </tr>\n",
       "    <tr>\n",
       "      <th>Datetime_CST</th>\n",
       "      <th></th>\n",
       "      <th></th>\n",
       "      <th></th>\n",
       "      <th></th>\n",
       "      <th></th>\n",
       "      <th></th>\n",
       "      <th></th>\n",
       "      <th></th>\n",
       "      <th></th>\n",
       "    </tr>\n",
       "  </thead>\n",
       "  <tbody>\n",
       "    <tr>\n",
       "      <th>2011-03-07 23:59:00-06:00</th>\n",
       "      <td>07/03/2011</td>\n",
       "      <td>23:59:00</td>\n",
       "      <td>104.74</td>\n",
       "      <td>104.77</td>\n",
       "      <td>104.73</td>\n",
       "      <td>104.73</td>\n",
       "      <td>18</td>\n",
       "      <td>2011-03-07 23:59:00</td>\n",
       "      <td>NaN</td>\n",
       "    </tr>\n",
       "    <tr>\n",
       "      <th>2011-03-08 00:00:00-06:00</th>\n",
       "      <td>08/03/2011</td>\n",
       "      <td>00:00:00</td>\n",
       "      <td>104.74</td>\n",
       "      <td>104.82</td>\n",
       "      <td>104.74</td>\n",
       "      <td>104.81</td>\n",
       "      <td>34</td>\n",
       "      <td>2011-03-08 00:00:00</td>\n",
       "      <td>0.076387</td>\n",
       "    </tr>\n",
       "    <tr>\n",
       "      <th>2011-03-08 00:01:00-06:00</th>\n",
       "      <td>08/03/2011</td>\n",
       "      <td>00:01:00</td>\n",
       "      <td>104.82</td>\n",
       "      <td>104.84</td>\n",
       "      <td>104.82</td>\n",
       "      <td>104.82</td>\n",
       "      <td>12</td>\n",
       "      <td>2011-03-08 00:01:00</td>\n",
       "      <td>0.009541</td>\n",
       "    </tr>\n",
       "    <tr>\n",
       "      <th>2011-03-08 00:02:00-06:00</th>\n",
       "      <td>08/03/2011</td>\n",
       "      <td>00:02:00</td>\n",
       "      <td>104.81</td>\n",
       "      <td>104.81</td>\n",
       "      <td>104.73</td>\n",
       "      <td>104.75</td>\n",
       "      <td>20</td>\n",
       "      <td>2011-03-08 00:02:00</td>\n",
       "      <td>-0.066781</td>\n",
       "    </tr>\n",
       "    <tr>\n",
       "      <th>2011-03-08 00:03:00-06:00</th>\n",
       "      <td>08/03/2011</td>\n",
       "      <td>00:03:00</td>\n",
       "      <td>104.74</td>\n",
       "      <td>104.76</td>\n",
       "      <td>104.71</td>\n",
       "      <td>104.76</td>\n",
       "      <td>25</td>\n",
       "      <td>2011-03-08 00:03:00</td>\n",
       "      <td>0.009547</td>\n",
       "    </tr>\n",
       "    <tr>\n",
       "      <th>...</th>\n",
       "      <td>...</td>\n",
       "      <td>...</td>\n",
       "      <td>...</td>\n",
       "      <td>...</td>\n",
       "      <td>...</td>\n",
       "      <td>...</td>\n",
       "      <td>...</td>\n",
       "      <td>...</td>\n",
       "      <td>...</td>\n",
       "    </tr>\n",
       "    <tr>\n",
       "      <th>2025-03-11 23:54:00-05:00</th>\n",
       "      <td>11/03/2025</td>\n",
       "      <td>23:54:00</td>\n",
       "      <td>66.75</td>\n",
       "      <td>66.75</td>\n",
       "      <td>66.75</td>\n",
       "      <td>66.75</td>\n",
       "      <td>13</td>\n",
       "      <td>2025-03-11 23:54:00</td>\n",
       "      <td>0.000000</td>\n",
       "    </tr>\n",
       "    <tr>\n",
       "      <th>2025-03-11 23:56:00-05:00</th>\n",
       "      <td>11/03/2025</td>\n",
       "      <td>23:56:00</td>\n",
       "      <td>66.75</td>\n",
       "      <td>66.75</td>\n",
       "      <td>66.74</td>\n",
       "      <td>66.74</td>\n",
       "      <td>3</td>\n",
       "      <td>2025-03-11 23:56:00</td>\n",
       "      <td>-0.014981</td>\n",
       "    </tr>\n",
       "    <tr>\n",
       "      <th>2025-03-11 23:58:00-05:00</th>\n",
       "      <td>11/03/2025</td>\n",
       "      <td>23:58:00</td>\n",
       "      <td>66.75</td>\n",
       "      <td>66.75</td>\n",
       "      <td>66.75</td>\n",
       "      <td>66.75</td>\n",
       "      <td>3</td>\n",
       "      <td>2025-03-11 23:58:00</td>\n",
       "      <td>0.014984</td>\n",
       "    </tr>\n",
       "    <tr>\n",
       "      <th>2025-03-11 23:59:00-05:00</th>\n",
       "      <td>11/03/2025</td>\n",
       "      <td>23:59:00</td>\n",
       "      <td>66.75</td>\n",
       "      <td>66.75</td>\n",
       "      <td>66.75</td>\n",
       "      <td>66.75</td>\n",
       "      <td>1</td>\n",
       "      <td>2025-03-11 23:59:00</td>\n",
       "      <td>0.000000</td>\n",
       "    </tr>\n",
       "    <tr>\n",
       "      <th>2025-03-12 00:00:00-05:00</th>\n",
       "      <td>12/03/2025</td>\n",
       "      <td>00:00:00</td>\n",
       "      <td>66.74</td>\n",
       "      <td>66.76</td>\n",
       "      <td>66.71</td>\n",
       "      <td>66.75</td>\n",
       "      <td>41</td>\n",
       "      <td>2025-03-12 00:00:00</td>\n",
       "      <td>0.000000</td>\n",
       "    </tr>\n",
       "  </tbody>\n",
       "</table>\n",
       "<p>4811559 rows × 9 columns</p>\n",
       "</div>"
      ],
      "text/plain": [
       "                                 Date      Time    Open    High     Low  \\\n",
       "Datetime_CST                                                              \n",
       "2011-03-07 23:59:00-06:00  07/03/2011  23:59:00  104.74  104.77  104.73   \n",
       "2011-03-08 00:00:00-06:00  08/03/2011  00:00:00  104.74  104.82  104.74   \n",
       "2011-03-08 00:01:00-06:00  08/03/2011  00:01:00  104.82  104.84  104.82   \n",
       "2011-03-08 00:02:00-06:00  08/03/2011  00:02:00  104.81  104.81  104.73   \n",
       "2011-03-08 00:03:00-06:00  08/03/2011  00:03:00  104.74  104.76  104.71   \n",
       "...                               ...       ...     ...     ...     ...   \n",
       "2025-03-11 23:54:00-05:00  11/03/2025  23:54:00   66.75   66.75   66.75   \n",
       "2025-03-11 23:56:00-05:00  11/03/2025  23:56:00   66.75   66.75   66.74   \n",
       "2025-03-11 23:58:00-05:00  11/03/2025  23:58:00   66.75   66.75   66.75   \n",
       "2025-03-11 23:59:00-05:00  11/03/2025  23:59:00   66.75   66.75   66.75   \n",
       "2025-03-12 00:00:00-05:00  12/03/2025  00:00:00   66.74   66.76   66.71   \n",
       "\n",
       "                            Close  Volume            Datetime  Percent_Change  \n",
       "Datetime_CST                                                                   \n",
       "2011-03-07 23:59:00-06:00  104.73      18 2011-03-07 23:59:00             NaN  \n",
       "2011-03-08 00:00:00-06:00  104.81      34 2011-03-08 00:00:00        0.076387  \n",
       "2011-03-08 00:01:00-06:00  104.82      12 2011-03-08 00:01:00        0.009541  \n",
       "2011-03-08 00:02:00-06:00  104.75      20 2011-03-08 00:02:00       -0.066781  \n",
       "2011-03-08 00:03:00-06:00  104.76      25 2011-03-08 00:03:00        0.009547  \n",
       "...                           ...     ...                 ...             ...  \n",
       "2025-03-11 23:54:00-05:00   66.75      13 2025-03-11 23:54:00        0.000000  \n",
       "2025-03-11 23:56:00-05:00   66.74       3 2025-03-11 23:56:00       -0.014981  \n",
       "2025-03-11 23:58:00-05:00   66.75       3 2025-03-11 23:58:00        0.014984  \n",
       "2025-03-11 23:59:00-05:00   66.75       1 2025-03-11 23:59:00        0.000000  \n",
       "2025-03-12 00:00:00-05:00   66.75      41 2025-03-12 00:00:00        0.000000  \n",
       "\n",
       "[4811559 rows x 9 columns]"
      ]
     },
     "metadata": {},
     "output_type": "display_data"
    }
   ],
   "source": [
    "min_WTI.describe().apply(lambda s: s.apply('{0:.5f}'.format))\n",
    "display(min_WTI)"
   ]
  },
  {
   "cell_type": "code",
   "execution_count": null,
   "metadata": {},
   "outputs": [],
   "source": [
    "'''\n",
    "price_change_columns_eia = [\n",
    "    '1_Minute_Percent_Price_Change',\n",
    "    '5_Minute_Percent_Price_Change',\n",
    "    '10_Minute_Percent_Price_Change',\n",
    "    '1_Hour_Percent_Price_Change'\n",
    "]\n",
    "\n",
    "print(\"Kolmogorov-Smirnov Test Comparing Distributions:\\n\"\n",
    "      \"  Distribution 1: One-Minute Percentage Price Changes (All Minutes)\\n\"\n",
    "      \"  Distribution 2: Percentage Price Changes After EIA WPSR Release (at different intervals)\\n\\n\")\n",
    "\n",
    "for col_eia in price_change_columns_eia:\n",
    "    price_change_data_eia = icom_eia_forecasts[col_eia].dropna() # Drop NA values from EIA release price changes\n",
    "\n",
    "    # Ensure both datasets have data to compare, if not skip this column\n",
    "    if price_change_data_eia.empty or percentage_price_changes_1min_oih_series.empty:\n",
    "        print(f\"Warning: Skipping KS test for {col_eia} due to empty data in one or both samples.\")\n",
    "        print(\"-\" * 40)\n",
    "        continue\n",
    "\n",
    "\n",
    "    # Perform 2-sample Kolmogorov-Smirnov test to compare EIA release price changes vs. all 1-minute price changes\n",
    "    ks_statistic_2samp, p_value_2samp = stats.ks_2samp(price_change_data_eia, percentage_price_changes_1min_oih_series)\n",
    "\n",
    "    print(f\"EIA Release Price Change Column: {col_eia}\")\n",
    "    print(f\"KS Statistic (2-sample): {ks_statistic_2samp:.4f}\")\n",
    "    print(f\"P-value (2-sample): {p_value_2samp:.4f}\")\n",
    "\n",
    "    alpha = 0.05  # Significance level\n",
    "    if p_value_2samp < alpha:\n",
    "        print(f\"P-value < {alpha}: Reject the null hypothesis. Distributions are significantly different.\\n\")\n",
    "    else:\n",
    "        print(f\"P-value >= {alpha}: Fail to reject the null hypothesis. Distributions are not significantly different (at alpha={alpha}).\\n\")\n",
    "    print(\"-\" * 40)\n",
    "'''"
   ]
  },
  {
   "cell_type": "code",
   "execution_count": 54,
   "metadata": {},
   "outputs": [
    {
     "name": "stdout",
     "output_type": "stream",
     "text": [
      "Price data windows extracted successfully!\n",
      "\n",
      "Shape of price_window_60min: (88344, 10)\n"
     ]
    }
   ],
   "source": [
    "def get_price_windows(eia_release_times, price_data, window_minutes_before=60, window_minutes_after=60):\n",
    "    \"\"\"\n",
    "    Extracts price data windows around EIA report release times.\n",
    "\n",
    "    Args:\n",
    "        eia_release_times (pd.DatetimeIndex): Index of icom_eia_forecasts (release datetimes).\n",
    "        price_data (pd.DataFrame): min_res_OIH dataframe with Datetime index.\n",
    "        window_minutes_before (int): Minutes to include before release time.\n",
    "        window_minutes_after (int): Minutes to include after release time.\n",
    "\n",
    "    Returns:\n",
    "        pd.DataFrame: A DataFrame containing price data for all events, within the specified windows.\n",
    "                      Returns an empty DataFrame if no data is found within any window.\n",
    "    \"\"\"\n",
    "    price_windows_list = []\n",
    "\n",
    "    for release_time in eia_release_times:\n",
    "        start_time = release_time - pd.Timedelta(minutes=window_minutes_before)\n",
    "        #print(start_time)\n",
    "        end_time = release_time + pd.Timedelta(minutes=window_minutes_after)\n",
    "        #print(end_time)\n",
    "\n",
    "        # Select rows from min_res_OIH within the time window\n",
    "        window_data = price_data.loc[start_time:end_time].copy()\n",
    "        #display(window_data.head)\n",
    "\n",
    "        if not window_data.empty: # Only append if there is data in the window\n",
    "            window_data['Release_Datetime'] = release_time # Add release time as a column for reference\n",
    "            price_windows_list.append(window_data)\n",
    "\n",
    "    if price_windows_list:\n",
    "        price_windows_df = pd.concat(price_windows_list)\n",
    "        return price_windows_df\n",
    "    else:\n",
    "        return pd.DataFrame() # Return empty DataFrame if no data found in any window\n",
    "\n",
    "# --- Extract Price Windows ---\n",
    "price_window_60min = get_price_windows(icom_eia_forecasts.index, min_WTI, window_minutes_before=60, window_minutes_after=60)\n",
    "price_window_60min.sort_index(inplace=True)\n",
    "if not price_window_60min.empty:\n",
    "    print(\"Price data windows extracted successfully!\")\n",
    "    print(f\"\\nShape of price_window_60min: {price_window_60min.shape}\")\n",
    "else:\n",
    "    print(\"No price data found within the specified windows around EIA releases.\")\n"
   ]
  },
  {
   "cell_type": "code",
   "execution_count": 55,
   "metadata": {},
   "outputs": [
    {
     "data": {
      "text/html": [
       "<div>\n",
       "<style scoped>\n",
       "    .dataframe tbody tr th:only-of-type {\n",
       "        vertical-align: middle;\n",
       "    }\n",
       "\n",
       "    .dataframe tbody tr th {\n",
       "        vertical-align: top;\n",
       "    }\n",
       "\n",
       "    .dataframe thead th {\n",
       "        text-align: right;\n",
       "    }\n",
       "</style>\n",
       "<table border=\"1\" class=\"dataframe\">\n",
       "  <thead>\n",
       "    <tr style=\"text-align: right;\">\n",
       "      <th></th>\n",
       "      <th>Date</th>\n",
       "      <th>Time</th>\n",
       "      <th>Open</th>\n",
       "      <th>High</th>\n",
       "      <th>Low</th>\n",
       "      <th>Close</th>\n",
       "      <th>Volume</th>\n",
       "      <th>Datetime</th>\n",
       "      <th>Percent_Change</th>\n",
       "      <th>Release_Datetime</th>\n",
       "    </tr>\n",
       "    <tr>\n",
       "      <th>Datetime_CST</th>\n",
       "      <th></th>\n",
       "      <th></th>\n",
       "      <th></th>\n",
       "      <th></th>\n",
       "      <th></th>\n",
       "      <th></th>\n",
       "      <th></th>\n",
       "      <th></th>\n",
       "      <th></th>\n",
       "      <th></th>\n",
       "    </tr>\n",
       "  </thead>\n",
       "  <tbody>\n",
       "    <tr>\n",
       "      <th>2011-03-09 08:30:00-06:00</th>\n",
       "      <td>09/03/2011</td>\n",
       "      <td>08:30:00</td>\n",
       "      <td>105.56</td>\n",
       "      <td>105.56</td>\n",
       "      <td>105.44</td>\n",
       "      <td>105.46</td>\n",
       "      <td>514</td>\n",
       "      <td>2011-03-09 08:30:00</td>\n",
       "      <td>-0.094733</td>\n",
       "      <td>2011-03-09 09:30:00-06:00</td>\n",
       "    </tr>\n",
       "    <tr>\n",
       "      <th>2011-03-09 08:31:00-06:00</th>\n",
       "      <td>09/03/2011</td>\n",
       "      <td>08:31:00</td>\n",
       "      <td>105.46</td>\n",
       "      <td>105.52</td>\n",
       "      <td>105.45</td>\n",
       "      <td>105.46</td>\n",
       "      <td>323</td>\n",
       "      <td>2011-03-09 08:31:00</td>\n",
       "      <td>0.000000</td>\n",
       "      <td>2011-03-09 09:30:00-06:00</td>\n",
       "    </tr>\n",
       "    <tr>\n",
       "      <th>2011-03-09 08:32:00-06:00</th>\n",
       "      <td>09/03/2011</td>\n",
       "      <td>08:32:00</td>\n",
       "      <td>105.45</td>\n",
       "      <td>105.47</td>\n",
       "      <td>105.31</td>\n",
       "      <td>105.32</td>\n",
       "      <td>899</td>\n",
       "      <td>2011-03-09 08:32:00</td>\n",
       "      <td>-0.132752</td>\n",
       "      <td>2011-03-09 09:30:00-06:00</td>\n",
       "    </tr>\n",
       "    <tr>\n",
       "      <th>2011-03-09 08:33:00-06:00</th>\n",
       "      <td>09/03/2011</td>\n",
       "      <td>08:33:00</td>\n",
       "      <td>105.31</td>\n",
       "      <td>105.37</td>\n",
       "      <td>105.25</td>\n",
       "      <td>105.33</td>\n",
       "      <td>716</td>\n",
       "      <td>2011-03-09 08:33:00</td>\n",
       "      <td>0.009495</td>\n",
       "      <td>2011-03-09 09:30:00-06:00</td>\n",
       "    </tr>\n",
       "    <tr>\n",
       "      <th>2011-03-09 08:34:00-06:00</th>\n",
       "      <td>09/03/2011</td>\n",
       "      <td>08:34:00</td>\n",
       "      <td>105.34</td>\n",
       "      <td>105.45</td>\n",
       "      <td>105.31</td>\n",
       "      <td>105.40</td>\n",
       "      <td>660</td>\n",
       "      <td>2011-03-09 08:34:00</td>\n",
       "      <td>0.066458</td>\n",
       "      <td>2011-03-09 09:30:00-06:00</td>\n",
       "    </tr>\n",
       "    <tr>\n",
       "      <th>...</th>\n",
       "      <td>...</td>\n",
       "      <td>...</td>\n",
       "      <td>...</td>\n",
       "      <td>...</td>\n",
       "      <td>...</td>\n",
       "      <td>...</td>\n",
       "      <td>...</td>\n",
       "      <td>...</td>\n",
       "      <td>...</td>\n",
       "      <td>...</td>\n",
       "    </tr>\n",
       "    <tr>\n",
       "      <th>2025-03-05 10:26:00-06:00</th>\n",
       "      <td>05/03/2025</td>\n",
       "      <td>10:26:00</td>\n",
       "      <td>65.42</td>\n",
       "      <td>65.46</td>\n",
       "      <td>65.37</td>\n",
       "      <td>65.38</td>\n",
       "      <td>713</td>\n",
       "      <td>2025-03-05 10:26:00</td>\n",
       "      <td>-0.061143</td>\n",
       "      <td>2025-03-05 09:30:00-06:00</td>\n",
       "    </tr>\n",
       "    <tr>\n",
       "      <th>2025-03-05 10:27:00-06:00</th>\n",
       "      <td>05/03/2025</td>\n",
       "      <td>10:27:00</td>\n",
       "      <td>65.37</td>\n",
       "      <td>65.41</td>\n",
       "      <td>65.37</td>\n",
       "      <td>65.39</td>\n",
       "      <td>640</td>\n",
       "      <td>2025-03-05 10:27:00</td>\n",
       "      <td>0.015295</td>\n",
       "      <td>2025-03-05 09:30:00-06:00</td>\n",
       "    </tr>\n",
       "    <tr>\n",
       "      <th>2025-03-05 10:28:00-06:00</th>\n",
       "      <td>05/03/2025</td>\n",
       "      <td>10:28:00</td>\n",
       "      <td>65.40</td>\n",
       "      <td>65.42</td>\n",
       "      <td>65.33</td>\n",
       "      <td>65.36</td>\n",
       "      <td>796</td>\n",
       "      <td>2025-03-05 10:28:00</td>\n",
       "      <td>-0.045879</td>\n",
       "      <td>2025-03-05 09:30:00-06:00</td>\n",
       "    </tr>\n",
       "    <tr>\n",
       "      <th>2025-03-05 10:29:00-06:00</th>\n",
       "      <td>05/03/2025</td>\n",
       "      <td>10:29:00</td>\n",
       "      <td>65.35</td>\n",
       "      <td>65.40</td>\n",
       "      <td>65.35</td>\n",
       "      <td>65.37</td>\n",
       "      <td>658</td>\n",
       "      <td>2025-03-05 10:29:00</td>\n",
       "      <td>0.015300</td>\n",
       "      <td>2025-03-05 09:30:00-06:00</td>\n",
       "    </tr>\n",
       "    <tr>\n",
       "      <th>2025-03-05 10:30:00-06:00</th>\n",
       "      <td>05/03/2025</td>\n",
       "      <td>10:30:00</td>\n",
       "      <td>65.38</td>\n",
       "      <td>65.45</td>\n",
       "      <td>65.34</td>\n",
       "      <td>65.43</td>\n",
       "      <td>842</td>\n",
       "      <td>2025-03-05 10:30:00</td>\n",
       "      <td>0.091785</td>\n",
       "      <td>2025-03-05 09:30:00-06:00</td>\n",
       "    </tr>\n",
       "  </tbody>\n",
       "</table>\n",
       "<p>88344 rows × 10 columns</p>\n",
       "</div>"
      ],
      "text/plain": [
       "                                 Date      Time    Open    High     Low  \\\n",
       "Datetime_CST                                                              \n",
       "2011-03-09 08:30:00-06:00  09/03/2011  08:30:00  105.56  105.56  105.44   \n",
       "2011-03-09 08:31:00-06:00  09/03/2011  08:31:00  105.46  105.52  105.45   \n",
       "2011-03-09 08:32:00-06:00  09/03/2011  08:32:00  105.45  105.47  105.31   \n",
       "2011-03-09 08:33:00-06:00  09/03/2011  08:33:00  105.31  105.37  105.25   \n",
       "2011-03-09 08:34:00-06:00  09/03/2011  08:34:00  105.34  105.45  105.31   \n",
       "...                               ...       ...     ...     ...     ...   \n",
       "2025-03-05 10:26:00-06:00  05/03/2025  10:26:00   65.42   65.46   65.37   \n",
       "2025-03-05 10:27:00-06:00  05/03/2025  10:27:00   65.37   65.41   65.37   \n",
       "2025-03-05 10:28:00-06:00  05/03/2025  10:28:00   65.40   65.42   65.33   \n",
       "2025-03-05 10:29:00-06:00  05/03/2025  10:29:00   65.35   65.40   65.35   \n",
       "2025-03-05 10:30:00-06:00  05/03/2025  10:30:00   65.38   65.45   65.34   \n",
       "\n",
       "                            Close  Volume            Datetime  Percent_Change  \\\n",
       "Datetime_CST                                                                    \n",
       "2011-03-09 08:30:00-06:00  105.46     514 2011-03-09 08:30:00       -0.094733   \n",
       "2011-03-09 08:31:00-06:00  105.46     323 2011-03-09 08:31:00        0.000000   \n",
       "2011-03-09 08:32:00-06:00  105.32     899 2011-03-09 08:32:00       -0.132752   \n",
       "2011-03-09 08:33:00-06:00  105.33     716 2011-03-09 08:33:00        0.009495   \n",
       "2011-03-09 08:34:00-06:00  105.40     660 2011-03-09 08:34:00        0.066458   \n",
       "...                           ...     ...                 ...             ...   \n",
       "2025-03-05 10:26:00-06:00   65.38     713 2025-03-05 10:26:00       -0.061143   \n",
       "2025-03-05 10:27:00-06:00   65.39     640 2025-03-05 10:27:00        0.015295   \n",
       "2025-03-05 10:28:00-06:00   65.36     796 2025-03-05 10:28:00       -0.045879   \n",
       "2025-03-05 10:29:00-06:00   65.37     658 2025-03-05 10:29:00        0.015300   \n",
       "2025-03-05 10:30:00-06:00   65.43     842 2025-03-05 10:30:00        0.091785   \n",
       "\n",
       "                                   Release_Datetime  \n",
       "Datetime_CST                                         \n",
       "2011-03-09 08:30:00-06:00 2011-03-09 09:30:00-06:00  \n",
       "2011-03-09 08:31:00-06:00 2011-03-09 09:30:00-06:00  \n",
       "2011-03-09 08:32:00-06:00 2011-03-09 09:30:00-06:00  \n",
       "2011-03-09 08:33:00-06:00 2011-03-09 09:30:00-06:00  \n",
       "2011-03-09 08:34:00-06:00 2011-03-09 09:30:00-06:00  \n",
       "...                                             ...  \n",
       "2025-03-05 10:26:00-06:00 2025-03-05 09:30:00-06:00  \n",
       "2025-03-05 10:27:00-06:00 2025-03-05 09:30:00-06:00  \n",
       "2025-03-05 10:28:00-06:00 2025-03-05 09:30:00-06:00  \n",
       "2025-03-05 10:29:00-06:00 2025-03-05 09:30:00-06:00  \n",
       "2025-03-05 10:30:00-06:00 2025-03-05 09:30:00-06:00  \n",
       "\n",
       "[88344 rows x 10 columns]"
      ]
     },
     "metadata": {},
     "output_type": "display_data"
    }
   ],
   "source": [
    "display(price_window_60min)"
   ]
  },
  {
   "cell_type": "code",
   "execution_count": 56,
   "metadata": {},
   "outputs": [
    {
     "data": {
      "application/vnd.plotly.v1+json": {
       "config": {
        "plotlyServerURL": "https://plot.ly"
       },
       "data": [
        {
         "hovertemplate": "Time to Release: %{x:.0f} minutes<br>Average Volume: %{y:.0f}<extra></extra>",
         "marker": {
          "size": 8
         },
         "mode": "markers",
         "text": {
          "bdata": "N8Z+opA5hEDWq1evXtWAQH5hKbnY/31AINpNNQQCfUBd7AtLyb17QDx37ty5035A8xlnATZnfUB9xlmAzQ97QGVURmVUKHpAXiKrvN+VeUDrMocXhU18QLSX0F5Ce3pAC7D5jLMweUA5JYZSncB5QIM5pn8ycHlAhNR1uD3IfEBeFDbWzit7QEz/ZDDH5HhArLmaq7lSeUCvN3NV5Gx6QK2DGE6zcHtAXhy97NTgeUCAMphj+qd4QH/vRiZL2ndAOi40sfKBeEBOYNebudp6QHZiJ3Ziu3hAeq1iv3dDeEDDaRZAq5V3QEYot2+TkXtAwmKSeoaMkEA5etmpwWWKQHTnzp07i4ZAfDcyWdK5g0C/sJRc7F+CQPGtKB4Jc4RA73eJrPK6gkDIn2H6j2aBQNpNNQSi9YBAP1HIjKrrf0ALRii3b5uBQJQu4Yc0bn9A/0ul+M4Tf0CTgQpGKHd9QCx50iX8MHxAnLkqck5ggUBh3h9/Tyd/QOtzr5EgiX9AYuWjRHScfkBrHcRwmoV/QIMRyu3blIBAyN/T2VYofkDecqgNW7R8QFMpvvNYtnxA8vd0thVGfEC0m2oIRKt9QCVPuoQf8npA46HrySlRe0C73sxVkfN5QE5g15u5+n1AkRlVN8bYoEBNWVPWlEmWQMgy/ZdKkZJAURu2aA8cj0CV4juPZSqNQO+Pv6ezSZFA+ieDOaZfjkCeO3fu3BGLQEMSrAY1GYpAIQlWg5oYiUBRPBK+Ff2KQPN+l8gqx4hAZJX3u0T6hkBHJ+hpbdCFQIVvRfFItIVARowYMWLgiECJCrINAf2GQDAsJRf7ioZA3u8SWeW9hUCt8n6XyN6DQA+3B6nrxIZAPuMswOZ/hECXyCrvdzGEQL4VxSPhq4JAeLo1Pyyig0Dl/S6RVcaFQFJv+1S+woRA7ty5c+eGgkD8XSKrvNOCQLzHe7zHcoNAntcq9nuni0BrruZqrnyHQIRDOIRDooRAm6u5mquChECKndiJnQuGQAMt0AItkYZAZUlHve1rhEDTf7Quc/iCQKZf+qVf+IFAeLo1Pyz6gUBdh9uD1LmDQH2UiI4L1YFAST1DwAEhg0Ck8UqedAmCQFMNgWg3+YBAGfuJQma8hEC3wrw//laCQHa9masid4FACDggLCZZgUD3bTJQwRCBQFNysS8srYJABXa9matKgkDxQxqv5GGBQCDSeCVP6oBAUs8QcEAAgkBH3BF3xI2CQPKkS/ghFYFAiIeHh4f3gEDi9iB1HeKBQD/3GgmSVYpA/JDGK3n+q0A=",
          "dtype": "f8"
         },
         "type": "scatter",
         "x": {
          "bdata": "AAAAAAAATsAAAAAAAIBNwAAAAAAAAE3AAAAAAACATMAAAAAAAABMwAAAAAAAgEvAAAAAAAAAS8AAAAAAAIBKwAAAAAAAAErAAAAAAACAScAAAAAAAABJwAAAAAAAgEjAAAAAAAAASMAAAAAAAIBHwAAAAAAAAEfAAAAAAACARsAAAAAAAABGwAAAAAAAgEXAAAAAAAAARcAAAAAAAIBEwAAAAAAAAETAAAAAAACAQ8AAAAAAAABDwAAAAAAAgELAAAAAAAAAQsAAAAAAAIBBwAAAAAAAAEHAAAAAAACAQMAAAAAAAABAwAAAAAAAAD/AAAAAAAAAPsAAAAAAAAA9wAAAAAAAADzAAAAAAAAAO8AAAAAAAAA6wAAAAAAAADnAAAAAAAAAOMAAAAAAAAA3wAAAAAAAADbAAAAAAAAANcAAAAAAAAA0wAAAAAAAADPAAAAAAAAAMsAAAAAAAAAxwAAAAAAAADDAAAAAAAAALsAAAAAAAAAswAAAAAAAACrAAAAAAAAAKMAAAAAAAAAmwAAAAAAAACTAAAAAAAAAIsAAAAAAAAAgwAAAAAAAABzAAAAAAAAAGMAAAAAAAAAUwAAAAAAAABDAAAAAAAAACMAAAAAAAAAAwAAAAAAAAPC/AAAAAAAAAAAAAAAAAADwPwAAAAAAAABAAAAAAAAACEAAAAAAAAAQQAAAAAAAABRAAAAAAAAAGEAAAAAAAAAcQAAAAAAAACBAAAAAAAAAIkAAAAAAAAAkQAAAAAAAACZAAAAAAAAAKEAAAAAAAAAqQAAAAAAAACxAAAAAAAAALkAAAAAAAAAwQAAAAAAAADFAAAAAAAAAMkAAAAAAAAAzQAAAAAAAADRAAAAAAAAANUAAAAAAAAA2QAAAAAAAADdAAAAAAAAAOEAAAAAAAAA5QAAAAAAAADpAAAAAAAAAO0AAAAAAAAA8QAAAAAAAAD1AAAAAAAAAPkAAAAAAAAA/QAAAAAAAAEBAAAAAAACAQEAAAAAAAABBQAAAAAAAgEFAAAAAAAAAQkAAAAAAAIBCQAAAAAAAAENAAAAAAACAQ0AAAAAAAABEQAAAAAAAgERAAAAAAAAARUAAAAAAAIBFQAAAAAAAAEZAAAAAAACARkAAAAAAAABHQAAAAAAAgEdAAAAAAAAASEAAAAAAAIBIQAAAAAAAAElAAAAAAACASUAAAAAAAABKQAAAAAAAgEpAAAAAAAAAS0AAAAAAAIBLQAAAAAAAAExAAAAAAACATEAAAAAAAABNQAAAAAAAgE1AAAAAAAAATkA=",
          "dtype": "f8"
         },
         "y": {
          "bdata": "N8Z+opA5hEDWq1evXtWAQH5hKbnY/31AINpNNQQCfUBd7AtLyb17QDx37ty5035A8xlnATZnfUB9xlmAzQ97QGVURmVUKHpAXiKrvN+VeUDrMocXhU18QLSX0F5Ce3pAC7D5jLMweUA5JYZSncB5QIM5pn8ycHlAhNR1uD3IfEBeFDbWzit7QEz/ZDDH5HhArLmaq7lSeUCvN3NV5Gx6QK2DGE6zcHtAXhy97NTgeUCAMphj+qd4QH/vRiZL2ndAOi40sfKBeEBOYNebudp6QHZiJ3Ziu3hAeq1iv3dDeEDDaRZAq5V3QEYot2+TkXtAwmKSeoaMkEA5etmpwWWKQHTnzp07i4ZAfDcyWdK5g0C/sJRc7F+CQPGtKB4Jc4RA73eJrPK6gkDIn2H6j2aBQNpNNQSi9YBAP1HIjKrrf0ALRii3b5uBQJQu4Yc0bn9A/0ul+M4Tf0CTgQpGKHd9QCx50iX8MHxAnLkqck5ggUBh3h9/Tyd/QOtzr5EgiX9AYuWjRHScfkBrHcRwmoV/QIMRyu3blIBAyN/T2VYofkDecqgNW7R8QFMpvvNYtnxA8vd0thVGfEC0m2oIRKt9QCVPuoQf8npA46HrySlRe0C73sxVkfN5QE5g15u5+n1AkRlVN8bYoEBNWVPWlEmWQMgy/ZdKkZJAURu2aA8cj0CV4juPZSqNQO+Pv6ezSZFA+ieDOaZfjkCeO3fu3BGLQEMSrAY1GYpAIQlWg5oYiUBRPBK+Ff2KQPN+l8gqx4hAZJX3u0T6hkBHJ+hpbdCFQIVvRfFItIVARowYMWLgiECJCrINAf2GQDAsJRf7ioZA3u8SWeW9hUCt8n6XyN6DQA+3B6nrxIZAPuMswOZ/hECXyCrvdzGEQL4VxSPhq4JAeLo1Pyyig0Dl/S6RVcaFQFJv+1S+woRA7ty5c+eGgkD8XSKrvNOCQLzHe7zHcoNAntcq9nuni0BrruZqrnyHQIRDOIRDooRAm6u5mquChECKndiJnQuGQAMt0AItkYZAZUlHve1rhEDTf7Quc/iCQKZf+qVf+IFAeLo1Pyz6gUBdh9uD1LmDQH2UiI4L1YFAST1DwAEhg0Ck8UqedAmCQFMNgWg3+YBAGfuJQma8hEC3wrw//laCQHa9masid4FACDggLCZZgUD3bTJQwRCBQFNysS8srYJABXa9matKgkDxQxqv5GGBQCDSeCVP6oBAUs8QcEAAgkBH3BF3xI2CQPKkS/ghFYFAiIeHh4f3gEDi9iB1HeKBQD/3GgmSVYpA/JDGK3n+q0A=",
          "dtype": "f8"
         }
        }
       ],
       "layout": {
        "hovermode": "closest",
        "template": {
         "data": {
          "bar": [
           {
            "error_x": {
             "color": "#2a3f5f"
            },
            "error_y": {
             "color": "#2a3f5f"
            },
            "marker": {
             "line": {
              "color": "#E5ECF6",
              "width": 0.5
             },
             "pattern": {
              "fillmode": "overlay",
              "size": 10,
              "solidity": 0.2
             }
            },
            "type": "bar"
           }
          ],
          "barpolar": [
           {
            "marker": {
             "line": {
              "color": "#E5ECF6",
              "width": 0.5
             },
             "pattern": {
              "fillmode": "overlay",
              "size": 10,
              "solidity": 0.2
             }
            },
            "type": "barpolar"
           }
          ],
          "carpet": [
           {
            "aaxis": {
             "endlinecolor": "#2a3f5f",
             "gridcolor": "white",
             "linecolor": "white",
             "minorgridcolor": "white",
             "startlinecolor": "#2a3f5f"
            },
            "baxis": {
             "endlinecolor": "#2a3f5f",
             "gridcolor": "white",
             "linecolor": "white",
             "minorgridcolor": "white",
             "startlinecolor": "#2a3f5f"
            },
            "type": "carpet"
           }
          ],
          "choropleth": [
           {
            "colorbar": {
             "outlinewidth": 0,
             "ticks": ""
            },
            "type": "choropleth"
           }
          ],
          "contour": [
           {
            "colorbar": {
             "outlinewidth": 0,
             "ticks": ""
            },
            "colorscale": [
             [
              0,
              "#0d0887"
             ],
             [
              0.1111111111111111,
              "#46039f"
             ],
             [
              0.2222222222222222,
              "#7201a8"
             ],
             [
              0.3333333333333333,
              "#9c179e"
             ],
             [
              0.4444444444444444,
              "#bd3786"
             ],
             [
              0.5555555555555556,
              "#d8576b"
             ],
             [
              0.6666666666666666,
              "#ed7953"
             ],
             [
              0.7777777777777778,
              "#fb9f3a"
             ],
             [
              0.8888888888888888,
              "#fdca26"
             ],
             [
              1,
              "#f0f921"
             ]
            ],
            "type": "contour"
           }
          ],
          "contourcarpet": [
           {
            "colorbar": {
             "outlinewidth": 0,
             "ticks": ""
            },
            "type": "contourcarpet"
           }
          ],
          "heatmap": [
           {
            "colorbar": {
             "outlinewidth": 0,
             "ticks": ""
            },
            "colorscale": [
             [
              0,
              "#0d0887"
             ],
             [
              0.1111111111111111,
              "#46039f"
             ],
             [
              0.2222222222222222,
              "#7201a8"
             ],
             [
              0.3333333333333333,
              "#9c179e"
             ],
             [
              0.4444444444444444,
              "#bd3786"
             ],
             [
              0.5555555555555556,
              "#d8576b"
             ],
             [
              0.6666666666666666,
              "#ed7953"
             ],
             [
              0.7777777777777778,
              "#fb9f3a"
             ],
             [
              0.8888888888888888,
              "#fdca26"
             ],
             [
              1,
              "#f0f921"
             ]
            ],
            "type": "heatmap"
           }
          ],
          "histogram": [
           {
            "marker": {
             "pattern": {
              "fillmode": "overlay",
              "size": 10,
              "solidity": 0.2
             }
            },
            "type": "histogram"
           }
          ],
          "histogram2d": [
           {
            "colorbar": {
             "outlinewidth": 0,
             "ticks": ""
            },
            "colorscale": [
             [
              0,
              "#0d0887"
             ],
             [
              0.1111111111111111,
              "#46039f"
             ],
             [
              0.2222222222222222,
              "#7201a8"
             ],
             [
              0.3333333333333333,
              "#9c179e"
             ],
             [
              0.4444444444444444,
              "#bd3786"
             ],
             [
              0.5555555555555556,
              "#d8576b"
             ],
             [
              0.6666666666666666,
              "#ed7953"
             ],
             [
              0.7777777777777778,
              "#fb9f3a"
             ],
             [
              0.8888888888888888,
              "#fdca26"
             ],
             [
              1,
              "#f0f921"
             ]
            ],
            "type": "histogram2d"
           }
          ],
          "histogram2dcontour": [
           {
            "colorbar": {
             "outlinewidth": 0,
             "ticks": ""
            },
            "colorscale": [
             [
              0,
              "#0d0887"
             ],
             [
              0.1111111111111111,
              "#46039f"
             ],
             [
              0.2222222222222222,
              "#7201a8"
             ],
             [
              0.3333333333333333,
              "#9c179e"
             ],
             [
              0.4444444444444444,
              "#bd3786"
             ],
             [
              0.5555555555555556,
              "#d8576b"
             ],
             [
              0.6666666666666666,
              "#ed7953"
             ],
             [
              0.7777777777777778,
              "#fb9f3a"
             ],
             [
              0.8888888888888888,
              "#fdca26"
             ],
             [
              1,
              "#f0f921"
             ]
            ],
            "type": "histogram2dcontour"
           }
          ],
          "mesh3d": [
           {
            "colorbar": {
             "outlinewidth": 0,
             "ticks": ""
            },
            "type": "mesh3d"
           }
          ],
          "parcoords": [
           {
            "line": {
             "colorbar": {
              "outlinewidth": 0,
              "ticks": ""
             }
            },
            "type": "parcoords"
           }
          ],
          "pie": [
           {
            "automargin": true,
            "type": "pie"
           }
          ],
          "scatter": [
           {
            "fillpattern": {
             "fillmode": "overlay",
             "size": 10,
             "solidity": 0.2
            },
            "type": "scatter"
           }
          ],
          "scatter3d": [
           {
            "line": {
             "colorbar": {
              "outlinewidth": 0,
              "ticks": ""
             }
            },
            "marker": {
             "colorbar": {
              "outlinewidth": 0,
              "ticks": ""
             }
            },
            "type": "scatter3d"
           }
          ],
          "scattercarpet": [
           {
            "marker": {
             "colorbar": {
              "outlinewidth": 0,
              "ticks": ""
             }
            },
            "type": "scattercarpet"
           }
          ],
          "scattergeo": [
           {
            "marker": {
             "colorbar": {
              "outlinewidth": 0,
              "ticks": ""
             }
            },
            "type": "scattergeo"
           }
          ],
          "scattergl": [
           {
            "marker": {
             "colorbar": {
              "outlinewidth": 0,
              "ticks": ""
             }
            },
            "type": "scattergl"
           }
          ],
          "scattermap": [
           {
            "marker": {
             "colorbar": {
              "outlinewidth": 0,
              "ticks": ""
             }
            },
            "type": "scattermap"
           }
          ],
          "scattermapbox": [
           {
            "marker": {
             "colorbar": {
              "outlinewidth": 0,
              "ticks": ""
             }
            },
            "type": "scattermapbox"
           }
          ],
          "scatterpolar": [
           {
            "marker": {
             "colorbar": {
              "outlinewidth": 0,
              "ticks": ""
             }
            },
            "type": "scatterpolar"
           }
          ],
          "scatterpolargl": [
           {
            "marker": {
             "colorbar": {
              "outlinewidth": 0,
              "ticks": ""
             }
            },
            "type": "scatterpolargl"
           }
          ],
          "scatterternary": [
           {
            "marker": {
             "colorbar": {
              "outlinewidth": 0,
              "ticks": ""
             }
            },
            "type": "scatterternary"
           }
          ],
          "surface": [
           {
            "colorbar": {
             "outlinewidth": 0,
             "ticks": ""
            },
            "colorscale": [
             [
              0,
              "#0d0887"
             ],
             [
              0.1111111111111111,
              "#46039f"
             ],
             [
              0.2222222222222222,
              "#7201a8"
             ],
             [
              0.3333333333333333,
              "#9c179e"
             ],
             [
              0.4444444444444444,
              "#bd3786"
             ],
             [
              0.5555555555555556,
              "#d8576b"
             ],
             [
              0.6666666666666666,
              "#ed7953"
             ],
             [
              0.7777777777777778,
              "#fb9f3a"
             ],
             [
              0.8888888888888888,
              "#fdca26"
             ],
             [
              1,
              "#f0f921"
             ]
            ],
            "type": "surface"
           }
          ],
          "table": [
           {
            "cells": {
             "fill": {
              "color": "#EBF0F8"
             },
             "line": {
              "color": "white"
             }
            },
            "header": {
             "fill": {
              "color": "#C8D4E3"
             },
             "line": {
              "color": "white"
             }
            },
            "type": "table"
           }
          ]
         },
         "layout": {
          "annotationdefaults": {
           "arrowcolor": "#2a3f5f",
           "arrowhead": 0,
           "arrowwidth": 1
          },
          "autotypenumbers": "strict",
          "coloraxis": {
           "colorbar": {
            "outlinewidth": 0,
            "ticks": ""
           }
          },
          "colorscale": {
           "diverging": [
            [
             0,
             "#8e0152"
            ],
            [
             0.1,
             "#c51b7d"
            ],
            [
             0.2,
             "#de77ae"
            ],
            [
             0.3,
             "#f1b6da"
            ],
            [
             0.4,
             "#fde0ef"
            ],
            [
             0.5,
             "#f7f7f7"
            ],
            [
             0.6,
             "#e6f5d0"
            ],
            [
             0.7,
             "#b8e186"
            ],
            [
             0.8,
             "#7fbc41"
            ],
            [
             0.9,
             "#4d9221"
            ],
            [
             1,
             "#276419"
            ]
           ],
           "sequential": [
            [
             0,
             "#0d0887"
            ],
            [
             0.1111111111111111,
             "#46039f"
            ],
            [
             0.2222222222222222,
             "#7201a8"
            ],
            [
             0.3333333333333333,
             "#9c179e"
            ],
            [
             0.4444444444444444,
             "#bd3786"
            ],
            [
             0.5555555555555556,
             "#d8576b"
            ],
            [
             0.6666666666666666,
             "#ed7953"
            ],
            [
             0.7777777777777778,
             "#fb9f3a"
            ],
            [
             0.8888888888888888,
             "#fdca26"
            ],
            [
             1,
             "#f0f921"
            ]
           ],
           "sequentialminus": [
            [
             0,
             "#0d0887"
            ],
            [
             0.1111111111111111,
             "#46039f"
            ],
            [
             0.2222222222222222,
             "#7201a8"
            ],
            [
             0.3333333333333333,
             "#9c179e"
            ],
            [
             0.4444444444444444,
             "#bd3786"
            ],
            [
             0.5555555555555556,
             "#d8576b"
            ],
            [
             0.6666666666666666,
             "#ed7953"
            ],
            [
             0.7777777777777778,
             "#fb9f3a"
            ],
            [
             0.8888888888888888,
             "#fdca26"
            ],
            [
             1,
             "#f0f921"
            ]
           ]
          },
          "colorway": [
           "#636efa",
           "#EF553B",
           "#00cc96",
           "#ab63fa",
           "#FFA15A",
           "#19d3f3",
           "#FF6692",
           "#B6E880",
           "#FF97FF",
           "#FECB52"
          ],
          "font": {
           "color": "#2a3f5f"
          },
          "geo": {
           "bgcolor": "white",
           "lakecolor": "white",
           "landcolor": "#E5ECF6",
           "showlakes": true,
           "showland": true,
           "subunitcolor": "white"
          },
          "hoverlabel": {
           "align": "left"
          },
          "hovermode": "closest",
          "mapbox": {
           "style": "light"
          },
          "paper_bgcolor": "white",
          "plot_bgcolor": "#E5ECF6",
          "polar": {
           "angularaxis": {
            "gridcolor": "white",
            "linecolor": "white",
            "ticks": ""
           },
           "bgcolor": "#E5ECF6",
           "radialaxis": {
            "gridcolor": "white",
            "linecolor": "white",
            "ticks": ""
           }
          },
          "scene": {
           "xaxis": {
            "backgroundcolor": "#E5ECF6",
            "gridcolor": "white",
            "gridwidth": 2,
            "linecolor": "white",
            "showbackground": true,
            "ticks": "",
            "zerolinecolor": "white"
           },
           "yaxis": {
            "backgroundcolor": "#E5ECF6",
            "gridcolor": "white",
            "gridwidth": 2,
            "linecolor": "white",
            "showbackground": true,
            "ticks": "",
            "zerolinecolor": "white"
           },
           "zaxis": {
            "backgroundcolor": "#E5ECF6",
            "gridcolor": "white",
            "gridwidth": 2,
            "linecolor": "white",
            "showbackground": true,
            "ticks": "",
            "zerolinecolor": "white"
           }
          },
          "shapedefaults": {
           "line": {
            "color": "#2a3f5f"
           }
          },
          "ternary": {
           "aaxis": {
            "gridcolor": "white",
            "linecolor": "white",
            "ticks": ""
           },
           "baxis": {
            "gridcolor": "white",
            "linecolor": "white",
            "ticks": ""
           },
           "bgcolor": "#E5ECF6",
           "caxis": {
            "gridcolor": "white",
            "linecolor": "white",
            "ticks": ""
           }
          },
          "title": {
           "x": 0.05
          },
          "xaxis": {
           "automargin": true,
           "gridcolor": "white",
           "linecolor": "white",
           "ticks": "",
           "title": {
            "standoff": 15
           },
           "zerolinecolor": "white",
           "zerolinewidth": 2
          },
          "yaxis": {
           "automargin": true,
           "gridcolor": "white",
           "linecolor": "white",
           "ticks": "",
           "title": {
            "standoff": 15
           },
           "zerolinecolor": "white",
           "zerolinewidth": 2
          }
         }
        },
        "title": {
         "text": "Average Trading Volume Around EIA WPSR Release"
        },
        "xaxis": {
         "ticktext": [
          "-60",
          "-45",
          "-30",
          "-15",
          "Release",
          "+15",
          "+30",
          "+45",
          "+60"
         ],
         "tickvals": [
          -60,
          -45,
          -30,
          -15,
          0,
          15,
          30,
          45,
          60
         ],
         "title": {
          "text": "Minutes Relative to EIA Report Release"
         }
        },
        "yaxis": {
         "title": {
          "text": "Average Volume"
         }
        }
       }
      }
     },
     "metadata": {},
     "output_type": "display_data"
    }
   ],
   "source": [
    "\n",
    "# Assume your price_window_60min dataframe is already loaded\n",
    "# and has columns 'Datetime', 'Release_Datetime', and 'Volume'\n",
    "\n",
    "# --- Calculate Time to Release (in minutes) ---\n",
    "price_window_60min['Time_to_Release_Minutes'] = (price_window_60min.index - price_window_60min['Release_Datetime']).dt.total_seconds() / 60\n",
    "# --- Group by Time to Release and Calculate Average Volume ---\n",
    "average_volume_by_time = price_window_60min.groupby('Time_to_Release_Minutes')['Volume'].mean().reset_index()\n",
    "\n",
    "# --- Create Scatter Plot of Average Volume ---\n",
    "fig_volume_scatter = go.Figure(data=[go.Scatter(\n",
    "    x=average_volume_by_time['Time_to_Release_Minutes'],\n",
    "    y=average_volume_by_time['Volume'],\n",
    "    mode='markers', # Use markers for scatter plot\n",
    "    marker=dict(size=8),\n",
    "    text=average_volume_by_time['Volume'], # Hover text is the volume\n",
    "    hovertemplate=\"Time to Release: %{x:.0f} minutes<br>Average Volume: %{y:.0f}<extra></extra>\" # Custom hover template\n",
    ")])\n",
    "\n",
    "fig_volume_scatter.update_layout(\n",
    "\n",
    "    title='Average Trading Volume Around EIA WPSR Release',\n",
    "    xaxis_title='Minutes Relative to EIA Report Release',\n",
    "    yaxis_title='Average Volume',\n",
    "    xaxis=dict(\n",
    "        tickvals=[-60, -45, -30, -15, 0, 15, 30, 45, 60], # Define specific x-axis ticks\n",
    "        ticktext=['-60', '-45', '-30', '-15', 'Release', '+15', '+30', '+45', '+60'] # Custom tick labels\n",
    "    ),\n",
    "    hovermode=\"closest\"\n",
    ")\n",
    "\n",
    "fig_volume_scatter.show()"
   ]
  },
  {
   "cell_type": "markdown",
   "metadata": {},
   "source": [
    "#gonna ignore the huge uptick at +60 b/c im assuming it's the large institutional algos kicking in after market settles from EIA relase."
   ]
  },
  {
   "cell_type": "code",
   "execution_count": 108,
   "metadata": {},
   "outputs": [
    {
     "name": "stderr",
     "output_type": "stream",
     "text": [
      "C:\\Users\\evans\\AppData\\Local\\Temp\\ipykernel_23536\\1453523888.py:20: FutureWarning:\n",
      "\n",
      "The default of observed=False is deprecated and will be changed to True in a future version of pandas. Pass observed=False to retain current behavior or observed=True to adopt the future default and silence this warning.\n",
      "\n"
     ]
    },
    {
     "data": {
      "application/vnd.plotly.v1+json": {
       "config": {
        "plotlyServerURL": "https://plot.ly"
       },
       "data": [
        {
         "colorbar": {
          "title": {
           "text": "Frequency"
          }
         },
         "colorscale": [
          [
           0,
           "#440154"
          ],
          [
           0.1111111111111111,
           "#482878"
          ],
          [
           0.2222222222222222,
           "#3e4989"
          ],
          [
           0.3333333333333333,
           "#31688e"
          ],
          [
           0.4444444444444444,
           "#26828e"
          ],
          [
           0.5555555555555556,
           "#1f9e89"
          ],
          [
           0.6666666666666666,
           "#35b779"
          ],
          [
           0.7777777777777778,
           "#6ece58"
          ],
          [
           0.8888888888888888,
           "#b5de2b"
          ],
          [
           1,
           "#fde725"
          ]
         ],
         "type": "heatmap",
         "x": {
          "bdata": "AAAAAAAATsAAAAAAAIBNwAAAAAAAAE3AAAAAAACATMAAAAAAAABMwAAAAAAAgEvAAAAAAAAAS8AAAAAAAIBKwAAAAAAAAErAAAAAAACAScAAAAAAAABJwAAAAAAAgEjAAAAAAAAASMAAAAAAAIBHwAAAAAAAAEfAAAAAAACARsAAAAAAAABGwAAAAAAAgEXAAAAAAAAARcAAAAAAAIBEwAAAAAAAAETAAAAAAACAQ8AAAAAAAABDwAAAAAAAgELAAAAAAAAAQsAAAAAAAIBBwAAAAAAAAEHAAAAAAACAQMAAAAAAAABAwAAAAAAAAD/AAAAAAAAAPsAAAAAAAAA9wAAAAAAAADzAAAAAAAAAO8AAAAAAAAA6wAAAAAAAADnAAAAAAAAAOMAAAAAAAAA3wAAAAAAAADbAAAAAAAAANcAAAAAAAAA0wAAAAAAAADPAAAAAAAAAMsAAAAAAAAAxwAAAAAAAADDAAAAAAAAALsAAAAAAAAAswAAAAAAAACrAAAAAAAAAKMAAAAAAAAAmwAAAAAAAACTAAAAAAAAAIsAAAAAAAAAgwAAAAAAAABzAAAAAAAAAGMAAAAAAAAAUwAAAAAAAABDAAAAAAAAACMAAAAAAAAAAwAAAAAAAAPC/AAAAAAAAAAAAAAAAAADwPwAAAAAAAABAAAAAAAAACEAAAAAAAAAQQAAAAAAAABRAAAAAAAAAGEAAAAAAAAAcQAAAAAAAACBAAAAAAAAAIkAAAAAAAAAkQAAAAAAAACZAAAAAAAAAKEAAAAAAAAAqQAAAAAAAACxAAAAAAAAALkAAAAAAAAAwQAAAAAAAADFAAAAAAAAAMkAAAAAAAAAzQAAAAAAAADRAAAAAAAAANUAAAAAAAAA2QAAAAAAAADdAAAAAAAAAOEAAAAAAAAA5QAAAAAAAADpAAAAAAAAAO0AAAAAAAAA8QAAAAAAAAD1AAAAAAAAAPkAAAAAAAAA/QAAAAAAAAEBAAAAAAACAQEAAAAAAAABBQAAAAAAAgEFAAAAAAAAAQkAAAAAAAIBCQAAAAAAAAENAAAAAAACAQ0AAAAAAAABEQAAAAAAAgERAAAAAAAAARUAAAAAAAIBFQAAAAAAAAEZAAAAAAACARkAAAAAAAABHQAAAAAAAgEdAAAAAAAAASEAAAAAAAIBIQAAAAAAAAElAAAAAAACASUAAAAAAAABKQAAAAAAAgEpAAAAAAAAAS0AAAAAAAIBLQAAAAAAAAExAAAAAAACATEAAAAAAAABNQAAAAAAAgE1AAAAAAAAATkA=",
          "dtype": "f8"
         },
         "y": [
          "-1.00%",
          "-0.95%",
          "-0.90%",
          "-0.85%",
          "-0.80%",
          "-0.75%",
          "-0.70%",
          "-0.65%",
          "-0.60%",
          "-0.55%",
          "-0.50%",
          "-0.45%",
          "-0.40%",
          "-0.35%",
          "-0.30%",
          "-0.25%",
          "-0.20%",
          "-0.15%",
          "-0.10%",
          "-0.05%",
          "0.00%",
          "0.05%",
          "0.10%",
          "0.15%",
          "0.20%",
          "0.25%",
          "0.30%",
          "0.35%",
          "0.40%",
          "0.45%",
          "0.50%",
          "0.55%",
          "0.60%",
          "0.65%",
          "0.70%",
          "0.75%",
          "0.80%",
          "0.85%",
          "0.90%",
          "0.95%"
         ],
         "z": {
          "bdata": "AAAAAAAAAAAAAAAAAAAAAAAAAAAAAAAAAAAAAAAAAAABAAAAAAAAAAAAAAAAAAAAAAAAAAAAAAAAAAAAAAAAAAAAAAAAAAAAAAAAAAAAAAAAAAAAAAAAAAAAAAAAAAAAAAAAAAAAAAAAAAAAAAAAAAAAAAAAAAAABAAAAAAAAAAAAAAAAAAAAAAAAQAAAAAAAAAAAAAAAAAAAAAAAAAAAAAAAQAAAAAAAAAAAAAAAAAAAAAAAAAAAAAAAAAAAAAAAAAAAAAAAAAAAAAAAAAAAAAAAAAAAAAAAAABAAAAAAAAAAAAAAAAAAAAAAAAAAAAAgAAAAAAAAAAAAAAAAAAAAAAAAAAAAAAAAAAAAEAAAAAAAAAAAAAAAAAAAAAAAAAAAAAAAAAAAAAAAAAAAAAAAAAAAAAAAAAAAAAAAAAAAAAAAAAAAAAAAAAAAAAAAAAAAAAAAAAAAAAAAAAAAAAAAAAAAAAAAAAAAACAAAAAAAAAAAAAAAAAAAAAAAAAAAAAAAAAAAAAAAAAAAAAAAAAAAAAAAAAAEAAAAAAAAAAAAAAAAAAAAAAAAAAAAAAAAAAAAAAAAAAAAAAAAAAAAAAAAAAQAAAAAAAAAAAAAAAAAAAAAAAAAAAAAAAAAAAAAAAAACAAAAAAAAAAAAAAAAAAAAAAAAAAAAAAAAAAAAAAAAAAAAAAAAAAAAAAAAAAAAAAAAAAAAAAAAAAAAAAAAAAAAAAAAAAAAAAAAAAAAAAAAAAAAAAAAAAAAAAAAAAAAAAAAAAAAAAAAAAAAAAAAAAAAAAAAAAAAAAAAAAUAAQAAAAAAAAAAAAAAAAABAAAAAAAAAAAAAAAAAAAAAAAAAAAAAAAAAAAAAAAAAAAAAQAAAAAAAAAAAAAAAAAAAAAAAAABAAAAAAAAAAAAAAAAAAAAAAAAAAAAAAAAAAAAAAAAAAAAAAAAAAAAAAABAAAAAAAAAAIAAAAAAAAAAAAAAAAAAAAAAAAAAAAAAAAAAAAAAAEAAAAAAAAAAAAAAAAAAAAAAAAAAAAAAAAAAQAAAAAAAAAAAAAAAAAAAAAAAAAAAAAAAAAAAAAAAAAAAAAAAAAAAAAAAAAAAAAAAAAAAAAAAAAAAAAAAAAAAAAAAQAAAAAAAAAAAAAAAAAAAAAAAAAAAAAAAQAAAAAAAAAAAAAAAAAAAAAAAAAAAAAAAAAAAAAAAAAAAAAAAAAAAAAAAAAAAAAAAAAAAAAAAAAAAAAAAAABAAAAAAAAAAAAAAAAAAAAAAAAAAAAAAAAAAAAAAAAAAAABAABAAEAAAAAAAAAAQAAAAAAAAAAAAAAAAAAAAAAAAAAAAAAAAAAAAAAAAAAAAAAAAAAAAAAAAAAAAAAAAAAAAAAAAAAAAAAAAAAAAAAAAAAAAAAAAAAAAAAAAAAAAAAAAAAAAAAAAAAAAAAAAAAAAAAAAAAAAAAAAAAAAAAAAAAAAAAAQAAAAAAAAAAAAAAAAAAAAEAAAAAAAAAAAAAAAAAAQAAAAAAAAAAAAAAAAAAAAAAAAAAAAAAAAAAAAAAAAAAAAAAAAAAAAAAAAAAAAAAAAAAAAAAAAAAAAAAAAAAAAAAAAAAAAAAAAAAAAAAAQACAAAAAAAAAAAAAAAAAAAAAAAAAAAAAAAAAAAAAAAAAAAAAQAAAAAAAAAAAAAAAAAAAAAAAAAAAAAAAAAAAAAAAAAAAAAAAAABAAAAAQAAAAAAAAAAAAAAAAABAAAAAAAAAAAAAAAAAAAAAAAAAAAAAAAAAAAAAAAAAAIAAAAAAAAAAAAAAAEAAAAAAAAAAAAAAAAAAQAAAAAAAAAAAAAAAAAAAAAAAAAAAAAAAAAAAAAAAAAAAAEAAQAAAAAAAAAAAAAAAAAAAAAAAAAAAAAAAAAAAAEAAAAAAAAAAAAAAAAAAAAAAAAAAAAAAAAAAQABAAQAAQAAAAAAAAAAAAAAAAAAAAAAAAAAAAAAAQABAAAAAAAAAAAAAAAAAAAAAAAAAAAAAAAAAAAAAAAAAAAAAQAAAAAAAAAAAAAAAAABAAAAAAAAAAAAAAAAAAAAAAABAAAAAAAAAAAAAAAAAAAAAAAAAAAAAAAAAAAAAwAAAAAAAwABAAAAAAAAAAAAAAAAAAAAAAAAAAAAAAAAAAAAAAAAAAAAAAAAAAEAAAABAAAAAAAAAAAAAAAAAAAAAAAAAAAAAAABAAAAAAAAAAAAAAAAAAAAAAAAAAAAAAAAAAAAAAAAAAAAAAAAAAAAAAAAAAEABAAAAAAAAAAAAAAAAAAAAAAAAAAAAAAAAAAAAAAAAAAAAAAAAAAAAAEAAAABAAAAAAAAAAAAAAAAAAAAAQAAAAAAAAAAAAAAAAAAAAAAAQABAAAAAAAAAAAAAAAAAAAAAAAAAAAAAAAAAAAAAAAAAAAAAAAAAAAAAAACAAAAAQABAAAAAQAAAAEAAQAAAAAAAAAAAAAAAAAAAAEAAAAAAAEAAAABAAEAAAABAAEAAAABAAEAAAAAAAAAAAAAAAAAAAAAAAAAAAABAAAAAAAAAAAAAAAAAAAAAAABAAAAAAAAAAAAAAAAAAAAAAAAAAAAAQADAAAAAAABAAEAAAAAAAAAAAAAAAAAAAAAAAAAAAAAAAEAAAAAAAAAAAAAAAAAAAAAAAAAAAAAAAAAAAABAAAAAQAAAAAAAAAAAAAAAAAAAAAAAAAAAAAAAAAAAAAAAAAAAAAAAAAAAAAAAAAAAAAAAAAAAAAAAQAAAAYAAQAAAAEAAQACAAEAAAAAAAAAAQAAAAAAAAAAAAAAAAABAAAAAQAAAAAAAQAAAAAAAAAAAAAAAAAAAAAAAAABAAAAAAAAAAAAAAAAAAAAAAAAAAAAAAAAAAAAAAAAAAEAAAAAAAAAAAAAAAAAAAAAAAAAAAABAAoAAQABAAAAAAAAAAAAAAAAAAAAAAAAAAAAAAAAAAAAAQAAAAAAAAABAAAAAAAAAAAAAAABAAAAAAAAAAAAAAAAAAAAAAAAAAAAAAAAAAEAAAAAAAAAAAAAAAAAAAAAAAAAAAAAAAAAAAABAAAAAAABAAAAAAAAAAAABwABAAAAAAABAAAAAQAAAAIAAgAAAAAAAgABAAEAAAAAAAEAAAAAAAAAAQABAAAAAQABAAAAAAACAAEAAAAAAAAAAAAAAAEAAQAAAAAAAAABAAEAAAAAAAAAAAAAAAAAAAAAAAAAAAAAAAAAAAAAAAAAAAAAAAAABgAAAAAAAQAAAAAAAAAAAAAAAAAAAAAAAAABAAAAAAAAAAAAAAABAAEAAAAAAAAAAAAAAAAAAAAAAAAAAAAAAAMAAAAAAAAAAgAAAAAAAQAAAAAAAAAAAAEAAAAAAAAAAAAAAAAAAAAAAAAAAAAAAAAAAQAAAAAAAAAGAAIAAwABAAQAAQAAAAAAAgAAAAEAAAABAAAAAAABAAAAAAABAAEAAQABAAAAAAABAAEAAAAAAAEAAAABAAEAAQABAAAAAAABAAAAAAAAAAAAAAAAAAAAAAAAAAAAAAAAAAEAAAABAAEAAQAAAAAAAAABAAAAAgAQAAEAAAAAAAAAAQABAAEAAAABAAAAAAAAAAAAAAAAAAQAAQAAAAAAAAAAAAAAAAABAAAAAAABAAAAAAAAAAMAAwAAAAAAAQAAAAEAAQAAAAAAAAAAAAEAAAACAAIAAQAAAAEAAAAAAAEAAAAAAAMAAAAAAAAAAQAAAAYABAAEAAAAAAABAAAAAQAAAAAAAQAAAAAAAAAAAAAAAAAAAAIAAgABAAAAAgAAAAIAAAAAAAAAAAABAAEAAQAAAAEAAAABAAEAAAABAAAAAAAAAAIAAAACAAEAAAACAAEAAAABAAAAAQABAAAAAAAAAAEAAAABAAgABAADAAAAAQACAAEAAgAAAAAAAQABAAEAAQAAAAAAAQABAAEAAQAAAAEAAgAAAAAAAAAAAAAAAAAAAAAAAwAEAAEAAgACAAIAAgABAAEAAQACAAIAAAABAAAAAQAAAAAAAAAAAAEAAAABAAIAAAAAAAEAAAABAAEACQAFAAEABAAEAAUAAQADAAIAAgADAAEAAAAAAAEAAQABAAIAAAABAAAAAgAAAAMAAAAAAAIAAAABAAAAAAABAAIAAQACAAAAAAAAAAAAAgABAAAAAAADAAAAAAACAAAAAAAAAAEAAgABAAEAAQAAAAAAAAABAAIADQADAAEAAQADAAAAAgABAAEAAgABAAIAAAABAAEAAAACAAEAAgABAAAAAgACAAEAAQAAAAEAAQAAAAAAAgABAAMABAABAAEAAQABAAEAAQACAAIAAAACAAEAAQABAAIAAQAAAAAAAQACAAIAAQAAAAIAAQABAAAAAgALAAUABwACAAQACAAFAAMAAwAAAAMAAgABAAEAAAABAAEAAgABAAEABAACAAMAAQABAAIABAADAAAAAQAEAAEAAgABAAAAAwABAAEAAgAEAAIAAwABAAMAAQABAAEAAQADAAQAAgACAAIAAgABAAEAAAADAAEAAwAPAAgABQAHAAMABAACAAIAAwAEAAAAAwACAAEABAADAAEAAQADAAMAAAACAAIABAAAAAIABQAEAAUAAQACAAkABQAGAAMABAACAAcABQAGAAEABQABAAQABAADAAUAAgAEAAEAAwADAAAAAgAAAAAAAgABAAAAAgACABQADwAGAAcACAAKAAoABwAFAAQACAAFAAIAAgAEAAoACQAIAAIABAAHAAMABAAFAAIAAwABAAYABwAEAAoABQAEAAUABAADAAEABAAAAAMAAwAKAAMAAwABAAYABQAEAAIAAgAEAAIAAwADAAMABAADAAQABAADABAACwAEAAgACQAFAAcABgAEAAYAAgAGAAUAAgADAAQACwAGAAUAAgACAAcABgADAAUABAAFAAoABgACAAYAEgANAAsABwAJAAUACAAJAAQACQAKAAcAAgAFAAIACAADAAgABAAGAAsAAwADAAEABAAEAAYABwACAAUAGAAVABEACwANABIAFAALAAcACgANAAYACwAFAAYACQALAAYACQANAAkADgAHAAQABgANAAUABgALAAQACQAFAAgACwAHAAYAAwAGAAMABwAJAAkABwAHAAUACQAGAAcABwAGAAcABwAEAAQABAAGAAcABwAGAAkAGQASAA4ADwATAA8ADwAOAAoADwAKAAwACgAGAAoACgAKAA0ADAALAAwACQAPAAsADQAKAAsACgAOAAkABgAaABwAFwASAB8AEgAJAA8ACgAMABkAEQAPAAgACwAPAAkADAAOAAkACgASAAoACAAMAAgACgAJAAcAEAAYABsAGAATABYAGgAcABYACQAYABIAGAAWABEADQAQABYAFAAOABEAFwAOABUAEwAUABAAEQANAA4ACwASAA8AEAAPAA4AEAAQABUACwARAA8AFQAUAAwAEgATAA0ADgALAA0AEQAOABEADQAJAA0ACAALABEAFQAjADIAJgAcAB8AMAAfAB0AIQAjACEAHwAlAB8AGQAdABgAJAAaABoAJAAYAB0AGAAVAB4AEQAgACIAFgAiAEAANgAtACsAGwAtACMAJgAfACsAIwAkAB0AMgAcACMAJgAdAB0AFQAmACUAIAAdACIAIwAbABgAGwAeADMAOwApADQAJQAjACsAMwAzACUAOgAvACoAKQAqACgAMgAlACQAJQAkACsAIAAhACAAMwAoADEAJwAsADIAKwArADIAIgAwACQAJgAtACMALAAoAB4AHQAfADUAMAAgABoAKAAxACQAKAApACkAHwAiACQAKQAnAB8AaQBeAF4AVABRAE0AYABWAFkAWwBgAEkATgBZAGUAWABlAFoATgBYAE0AVABQAEwAUgBeAFkATgBjAF8AawBdAHcAYwBfAFUAcgBeAGwAVgBYAGIAXwBLAF4AYgBjAGIAXQBcAEsAVgBWAGMAWQBnAGIAXgBfAF8ATQBUAFUAWgBtAFoAZwBbAFQAWwBoAGcAXABaAGAAUgBfAFkAXABUAGEAZQBgAEcAXgBlAFcAVgBuAGcAZQBtAF8AawBcAFEAdgBmAFkAXwBUAHIAYwBuAFkAYwBjAGwATgBnAFYAXgBLAEwAWQBqAGQATwBiAGoAPwDSAPsA8AAMAQQBBAEMAQcB9gARAeoABwEcARwBBQH/AAUBBgEXARYBCwEKAQ4BIAEUAf0AFAEVASMB8wCnAMQAywDgAPMA0gDyAOMABgEOAdwA5wD+AAYB/wDpAPsADwHsAO4A8wAIARwBEgEKAe8AIgEiAQgB9ACPAKIAtADHANIAyQC3ANIA2ADSAMUAygDSAN8A1gDQAMYA9ADmAOsA4gDOAOgA+QDbANoA9gDqAPEA8wC0AO0A2ADGAPcA0ADWAOcA8QDbAP4A8QDkAO8A+gDfAPAA5gD2ABIB4wDkAPAA+gD9APYA8AAFAdkAzwBeAJgAnwCvAJkAqwCoAJ4AsQDAALQAyQDFALcAvQDAALkArQC6AMUAuwDGALIA1AC+AL0AtwC1AL8ApwC2AGgAdACQAJoApgCcAJwAqACjALAArgC7AK4AtADDAKsAuACgANIAwgCxAKsAtgC2AL4ArgC0ALAAxQCzAGAAhgB/AJYAhwB3AI8AjQCSAK4AkACZAJgAnwCjAKYApwCgAKsArQCYAKQApAC1AKoAngCjAK0AowCvAIMAhgCdAJwAlQCTAKcAsACpAMkAiQCWALMAtQC3AKcAmwC4ALUAnwCyALYAvACwALEAmgCsAMMArgCXAD0ARwBfAF4AaQBWAGQAXgBiAFEAWwBLAFsAVwBZAFYAXQBWAFsAVwBRAFYAYABSAFoAWgBbAFIAUQBZAGEAXABhAFsAZQBTAGkAVABcAFAAUgBbAF0AYABjAFwAYQBVAFwAUQBlAHAAYwBOAE4ATwBsAFEAUABYAGIASQBUAGYAUQBgAFYAbABhAFsAVQBWAFwAawBpAFwAXQBfAF0AWABhAGMAcABVAGgAZABaAFEAZQBOAE4AbwBgAG0AaQBnAHQAXQBVAGsAVABxAFYAYwBIAFoATQBbAFYAbQBNAFAAVwBeAGYAYQBnAGsAUQBhAF0APAAoACAAIQAeAB4AJwAiACIAIQAgACUAGwAdABYAGwAgABgAIgAXABUAHwAjABoAGQAfACMAGgAUACMAJQA6ADgALgAmACgAMAAjAC8AIgAWAC0AIQAhABoAGgArABwAGwAiACsAIgAbACAAIwAeACEAGAAcABYAGgAkADQAQwA0ACoAKwAnACoAOgAoADAAJgAxACwAMgA4ACYAIgAsACwAIgAhACwAIAAuACkALwAiAB0AHgAuAC8AKQAvACYAMQAoACIAIAAhACYAJAAkADIAIAAtACsAJgAXAB0ALwAuACUAKgAjACUAIQAfACoAKQAmABoACAAUAAkACgANAAwACgAOAAgACwAJABAABwAJAAsADgANAAkADwANAAgACAAHAAgAFQAHAAsABAAOACAAEgAQABEAFAAeABQAEAAQAA4AFgAPAA0ADgALAAsAEgATAAoACwANAAsACAAKABAADAAFAAsADgAOAB8AHAAZAB0AEwAjABQAFwAaABoAFAAaABIAFQATABQAFgAOABUACQARAA8AEAAMABIAEQANAA4AEQAKAB8ACgASAA0AEQAaAA8AEwAMAAwAEgAJAAsADgANAAsADQAMABcADAASAA0AEwALAA0AEgAQAAoAEAANACgACwANAAcACAAKAAQABwAHAAcAAwAIAAQABgACAAQABgAEAAMABwACAAYABQACAAUABgAJAAYABAAHAAgAFgATAA4ACQACAAkACQAHAAQABAAHAAUACAABAAQAAwADAAIACQAHAAYABAAEAAcAAwAFAAIABQAFAAYADQAMABEAEwAJABAABQAKAAsAAwAJAAwACgAJABAADQAMAAYACgAGAAcABgAMAAUACQAJAAsABQAGAAwADQAKAAkACQAJAAsACwADAAcABwAHAAcABgACAAkABgAJAAUACgAGAAcACwAEAAQAAwAEAAcAAwAHAAkAFAAHAAMAAgACAAIAAgAAAAMAAAADAAMAAgACAAEAAAABAAIAAAABAAAAAgAAAAIAAQABAAAAAQADAAAAAAAMAAoABgAHAAMAAwADAAIAAgAEAAAAAQACAAEAAQAEAAUAAwAEAAAAAgABAAQAAgADAAMAAwACAAAABAAOAAsACwAEAAYADAAHAAMABAAFAAcABwAEAAUABAAFAAIAAwABAAEABwAFAAEABQAFAAIAAgACAAMABQALAAYABAAFAAUABwADAAEABgADAAIAAQAGAAIAAAAHAAMABAAEAAIAAwACAAEAAgACAAMAAQABAAMACAAUAAEABAADAAIAAQABAAEAAAAAAAAAAQAEAAAAAAACAAIAAQABAAAAAwADAAAABAABAAAAAwACAAMAAgABAAUAAwAAAAQAAAADAAMAAgACAAIAAgACAAEAAAACAAIAAQACAAEAAQADAAIAAAAAAAAAAAAAAAEAAgADAAoACAAEAAIAAQAJAAEABAADAAcAAwAEAAEAAgAEAAMAAQAEAAAAAAACAAIAAwAAAAAAAAAFAAEAAgADAAQAAAACAAEAAgABAAEAAgABAAAAAAAAAAEAAwACAAEAAgABAAIAAQACAAIAAQACAAAAAAAAAAEAAgAFABoAAgABAAEAAAABAAIAAgAAAAAAAAACAAEAAAABAAAAAAAAAAAAAQAAAAIAAAAAAAIAAAAAAAAAAQABAAEAAgAEAAAAAQABAAEAAAAAAAAAAgACAAAAAQADAAAAAAABAAEAAQACAAAAAAAAAAAAAAABAAEAAQABAAIACQAGAAQAAAABAAIABAADAAAAAgACAAIAAQABAAAAAwABAAIABAABAAEAAwABAAMAAAABAAIAAQABAAEAAQABAAAAAQADAAEAAgABAAAAAgAAAAAAAAAAAAEAAgABAAAAAgABAAEAAQACAAAAAAAAAAEAAwABAAMAEQABAAIAAAABAAIAAgAAAAAAAQABAAIAAQABAAAAAAABAAIAAAAAAAEAAAABAAAAAAABAAAAAAAAAAAAAAABAAEAAAAAAAAAAAAAAAEAAQAAAAAAAgAAAAAAAQAAAAAAAAABAAAAAAAAAAAAAAAAAAAAAAAAAAEAAQAHAAMAAgABAAEAAgACAAMAAgABAAAAAQABAAAAAAAAAAAAAQAAAAAAAgABAAEAAQABAAAAAQAAAAEAAgABAAIAAAABAAAAAQABAAIAAQACAAAAAQAAAAAAAQABAAAAAAAAAAAAAAABAAAAAAAAAAAAAAABAAIAAwALAAUAAQAAAAAAAAABAAEAAAABAAAAAAAAAAAAAAAAAAEAAAAAAAAAAQABAAAAAAAAAAAAAQAAAAAAAQAAAAAAAgAAAAAAAAACAAEAAAAAAAAAAAAAAAAAAAAAAAAAAAAAAAEAAQABAAAAAQAAAAEAAAAAAAAAAAAAAAUAAAAAAAEAAwACAAEAAQABAAEAAQAAAAEAAAABAAEAAQAAAAAAAAAAAAAAAgAAAAAAAAAAAAAAAQAAAAIAAgAAAAAAAAAAAAEAAgAAAAEAAAABAAAAAAAAAAAAAAAAAAAAAAAAAAAAAAAAAAEAAQAAAAEAAAABAAoAAAAAAAAAAAAAAAAAAAAAAAAAAAACAAAAAAAAAAAAAAAAAAAAAAAAAAAAAAAAAAEAAAAAAAAAAAAAAAAAAAAAAAAAAAABAAAAAAABAAAAAAAAAAAAAAAAAAEAAAAAAAAAAAAAAAAAAwAAAAEAAAAAAAAAAAAAAAAABwACAAAAAAAAAAAAAQABAAAAAQAAAAEAAAAAAAIAAAAAAAAAAQABAAIAAAAAAAAAAAABAAAAAAAAAAAAAQAAAAAAAAAAAAEAAgAAAAAAAAAAAAAAAQAAAAAAAQAAAAAAAAAAAAAAAAAAAAAAAAABAAAAAAAAAAIACgACAAAAAAAAAAEAAAAAAAAAAAAAAAAAAAAAAAAAAAAAAAAAAAAAAAAAAAAAAAAAAQAAAAAAAAAAAAAAAAAAAAAAAAAAAAAAAQAAAAAAAAAAAAAAAQABAAAAAAAAAAAAAAAAAAAAAAAAAAAAAAAAAAAAAAAAAAAAAAADAAAAAgABAAAAAwABAAEAAAABAAEAAgAAAAAAAAAAAAEAAQAAAAAAAAAAAAAAAAABAAEAAAABAAAAAAAAAAAAAAAAAAAAAAAAAAAAAAABAAEAAQAAAAAAAAAAAAAAAAABAAAAAAAAAAAAAAAAAAEAAAABAAAAAAAEAAAAAAAAAAAAAAAAAAAAAAAAAAAAAAABAAAAAAAAAAAAAAAAAAEAAAAAAAAAAAAAAAAAAQAAAAAAAQAAAAAAAAAAAAAAAAAAAAAAAAAAAAAAAAAAAAAAAAAAAAEAAAAAAAEAAAAAAAAAAAAAAAAAAAAAAAAAAAACAAYAAQAAAAAAAgAAAAEAAAAAAAAAAAABAAAAAAABAAEAAAAAAAAAAAAAAAAAAAAAAAAAAAAAAAAAAAAAAAAAAAAAAAAAAAAAAAAAAAAAAAAAAAAAAAEAAAAAAAAAAAAAAAAAAAAAAAAAAAAAAAEAAAAAAAAAAAABAAUAAAAAAAAAAAAAAAAAAQAAAAAAAAAAAAAAAAAAAAEAAAAAAAAAAAAAAAAAAAAAAAAAAAAAAAAAAAAAAAAAAAABAAAAAQAAAAAAAAAAAAAAAAABAAAAAAAAAAAAAAAAAAAAAAAAAAEAAAAAAAAAAAAAAAAAAAAAAAAAAgAAAAAAAAAAAAAAAAAAAAEAAAAAAAAAAAAAAAAAAAAAAAAAAQAAAAAAAAAAAAAAAAAAAAAAAAAAAAAAAAAAAAAAAAABAAAAAAAAAAAAAAAAAAAAAAAAAAEAAQAAAAAAAAAAAAAAAAAAAAAAAAABAAAAAAAAAAAACAAAAAAAAAAAAAAAAAAAAAAAAAAAAAAAAAAAAAAAAAAAAAAAAAAAAAAAAAAAAAAAAAAAAAAAAAAAAAAAAAAAAAAAAAAAAAAAAAAAAAAAAQAAAAAAAAAAAAAAAAAAAAAAAQAAAAAAAAAAAAAAAAAAAAAAAAAAAAAAAAABAAAAAAAAAAEAAQAAAAAAAQAAAAAAAAAAAAAAAAAAAAAAAAAAAAAAAQAAAAAAAAAAAAAAAAAAAAEAAAAAAAAAAAAAAAEAAAAAAAAAAAAAAAEAAAAAAAAAAAAAAAAAAQAAAAAAAAAAAAAAAAAAAAAAAAAAAAAAAAAGAAAAAAAAAAAAAAAAAAAAAAABAAAAAAAAAAAAAAAAAAAAAAAAAAAAAAAAAAAAAAAAAAEAAAAAAAAAAAAAAAEAAAAAAAAAAAAAAAAAAAAAAAAAAAAAAAAAAAAAAAAAAAAAAAAAAAAAAAAAAAAAAAEAAAAAAAAAAAAAAAIAAgAAAAAAAAAAAAEAAAAAAAAAAAAAAAAAAQAAAAAAAAAAAAEAAAAAAAAAAAAAAAAAAAAAAAAAAQAAAAAAAAAAAAAAAAAAAAAAAAAAAAAAAAAAAAAAAAAAAAAAAAAAAAAAAAAAAAAAAAAAAAAAAAAAAAAAAAACAAIAAAAAAAAAAAAAAAEAAAAAAAAAAAABAAAAAAAAAAAAAAAAAAAAAAAAAAAAAAAAAAAAAAAAAAAAAAAAAAAAAAAAAAAAAAAAAAAAAAAAAAAAAAAAAAAAAAAAAAEAAAAAAAAAAAAAAAAAAQAAAAAAAAAAAAAAAAAAAAAAAAABAAAAAAAAAAEAAAAAAAAAAQAAAAAAAAAAAAAAAAAAAAAAAAAAAAAAAAAAAAAAAAAAAAAAAAAAAAAAAAAAAAAAAAAAAAAAAAAAAAAAAAAAAAAAAAAAAAAAAAAAAAAAAAAAAAAAAAAAAAAAAAAAAAAAAAAAAAAAAgAAAAAAAAAAAAAAAAAAAAAAAAAAAAAAAAAAAAAAAAAAAAAAAAAAAAAAAAAAAAAAAAAAAAAAAAAAAAAAAAAAAAAAAAAAAAAAAAAAAAAAAAAAAAAAAAAAAAAAAAAAAAAAAAAAAAEAAAAAAAAAAAAAAAAAAAAAAAAAAAACAAAAAAAAAAAAAAAAAAEAAAAAAAAAAAABAAAAAAAAAAAAAAAAAAAAAAAAAAAAAAAAAAAAAAAAAAAAAAAAAAAAAAAAAAAAAAAAAAAAAAAAAAAAAAAAAAAAAAAAAAAAAAAAAAAAAAAAAAAAAAAAAAAAAAAAAAAAAAABAAAAAAAAAAAAAAAAAAAAAAAAAAAAAAAAAAAAAAAAAAAAAAAAAAAAAAAAAAAAAAABAAAAAAAAAAAAAAAAAAAAAAAAAAAAAAAAAAAAAAAAAAAAAAAAAAAAAAAAAAAAAAAAAAAAAAAAAAAAAAABAAAAAAAAAAAAAQAAAAAAAAAAAAAAAAABAAAAAAABAAAAAAAAAAAAAAAAAAAAAAAAAAAAAAAAAAAAAAAAAAAAAAAAAAAAAAAAAAAAAAAAAAAAAAAAAAAAAAABAAAAAAAAAAAAAAAAAAAAAAAAAAAAAAAAAAAAAAAAAAAAAAAAAAAAAAAAAAUAAAAAAAAAAAAAAAAAAAAAAAAAAAAAAAAAAAAAAAAAAAAAAAAAAAAAAAAAAAAAAAAAAAAAAAAAAAAAAAAAAQAAAAAAAAAAAAEAAAAAAAAAAAAAAAAAAAAAAAAAAAAAAAAAAAAAAAAAAAABAAAAAAAAAAAAAAAAAAAAAQAAAAAAAAABAAAAAAAAAAAAAAAAAAAAAAAAAAAAAAAAAAAAAAAAAAAAAAAAAAAAAAAAAAAAAAAAAAAAAAAAAAAAAAAAAAAAAAAAAAAAAAAAAAAAAAAAAAAAAAAAAAAAAAAAAAAAAAAAAAAAAAAAAAAAAAAAAAAAAgA=",
          "dtype": "i2",
          "shape": "40, 121"
         }
        }
       ],
       "layout": {
        "template": {
         "data": {
          "bar": [
           {
            "error_x": {
             "color": "#2a3f5f"
            },
            "error_y": {
             "color": "#2a3f5f"
            },
            "marker": {
             "line": {
              "color": "#E5ECF6",
              "width": 0.5
             },
             "pattern": {
              "fillmode": "overlay",
              "size": 10,
              "solidity": 0.2
             }
            },
            "type": "bar"
           }
          ],
          "barpolar": [
           {
            "marker": {
             "line": {
              "color": "#E5ECF6",
              "width": 0.5
             },
             "pattern": {
              "fillmode": "overlay",
              "size": 10,
              "solidity": 0.2
             }
            },
            "type": "barpolar"
           }
          ],
          "carpet": [
           {
            "aaxis": {
             "endlinecolor": "#2a3f5f",
             "gridcolor": "white",
             "linecolor": "white",
             "minorgridcolor": "white",
             "startlinecolor": "#2a3f5f"
            },
            "baxis": {
             "endlinecolor": "#2a3f5f",
             "gridcolor": "white",
             "linecolor": "white",
             "minorgridcolor": "white",
             "startlinecolor": "#2a3f5f"
            },
            "type": "carpet"
           }
          ],
          "choropleth": [
           {
            "colorbar": {
             "outlinewidth": 0,
             "ticks": ""
            },
            "type": "choropleth"
           }
          ],
          "contour": [
           {
            "colorbar": {
             "outlinewidth": 0,
             "ticks": ""
            },
            "colorscale": [
             [
              0,
              "#0d0887"
             ],
             [
              0.1111111111111111,
              "#46039f"
             ],
             [
              0.2222222222222222,
              "#7201a8"
             ],
             [
              0.3333333333333333,
              "#9c179e"
             ],
             [
              0.4444444444444444,
              "#bd3786"
             ],
             [
              0.5555555555555556,
              "#d8576b"
             ],
             [
              0.6666666666666666,
              "#ed7953"
             ],
             [
              0.7777777777777778,
              "#fb9f3a"
             ],
             [
              0.8888888888888888,
              "#fdca26"
             ],
             [
              1,
              "#f0f921"
             ]
            ],
            "type": "contour"
           }
          ],
          "contourcarpet": [
           {
            "colorbar": {
             "outlinewidth": 0,
             "ticks": ""
            },
            "type": "contourcarpet"
           }
          ],
          "heatmap": [
           {
            "colorbar": {
             "outlinewidth": 0,
             "ticks": ""
            },
            "colorscale": [
             [
              0,
              "#0d0887"
             ],
             [
              0.1111111111111111,
              "#46039f"
             ],
             [
              0.2222222222222222,
              "#7201a8"
             ],
             [
              0.3333333333333333,
              "#9c179e"
             ],
             [
              0.4444444444444444,
              "#bd3786"
             ],
             [
              0.5555555555555556,
              "#d8576b"
             ],
             [
              0.6666666666666666,
              "#ed7953"
             ],
             [
              0.7777777777777778,
              "#fb9f3a"
             ],
             [
              0.8888888888888888,
              "#fdca26"
             ],
             [
              1,
              "#f0f921"
             ]
            ],
            "type": "heatmap"
           }
          ],
          "histogram": [
           {
            "marker": {
             "pattern": {
              "fillmode": "overlay",
              "size": 10,
              "solidity": 0.2
             }
            },
            "type": "histogram"
           }
          ],
          "histogram2d": [
           {
            "colorbar": {
             "outlinewidth": 0,
             "ticks": ""
            },
            "colorscale": [
             [
              0,
              "#0d0887"
             ],
             [
              0.1111111111111111,
              "#46039f"
             ],
             [
              0.2222222222222222,
              "#7201a8"
             ],
             [
              0.3333333333333333,
              "#9c179e"
             ],
             [
              0.4444444444444444,
              "#bd3786"
             ],
             [
              0.5555555555555556,
              "#d8576b"
             ],
             [
              0.6666666666666666,
              "#ed7953"
             ],
             [
              0.7777777777777778,
              "#fb9f3a"
             ],
             [
              0.8888888888888888,
              "#fdca26"
             ],
             [
              1,
              "#f0f921"
             ]
            ],
            "type": "histogram2d"
           }
          ],
          "histogram2dcontour": [
           {
            "colorbar": {
             "outlinewidth": 0,
             "ticks": ""
            },
            "colorscale": [
             [
              0,
              "#0d0887"
             ],
             [
              0.1111111111111111,
              "#46039f"
             ],
             [
              0.2222222222222222,
              "#7201a8"
             ],
             [
              0.3333333333333333,
              "#9c179e"
             ],
             [
              0.4444444444444444,
              "#bd3786"
             ],
             [
              0.5555555555555556,
              "#d8576b"
             ],
             [
              0.6666666666666666,
              "#ed7953"
             ],
             [
              0.7777777777777778,
              "#fb9f3a"
             ],
             [
              0.8888888888888888,
              "#fdca26"
             ],
             [
              1,
              "#f0f921"
             ]
            ],
            "type": "histogram2dcontour"
           }
          ],
          "mesh3d": [
           {
            "colorbar": {
             "outlinewidth": 0,
             "ticks": ""
            },
            "type": "mesh3d"
           }
          ],
          "parcoords": [
           {
            "line": {
             "colorbar": {
              "outlinewidth": 0,
              "ticks": ""
             }
            },
            "type": "parcoords"
           }
          ],
          "pie": [
           {
            "automargin": true,
            "type": "pie"
           }
          ],
          "scatter": [
           {
            "fillpattern": {
             "fillmode": "overlay",
             "size": 10,
             "solidity": 0.2
            },
            "type": "scatter"
           }
          ],
          "scatter3d": [
           {
            "line": {
             "colorbar": {
              "outlinewidth": 0,
              "ticks": ""
             }
            },
            "marker": {
             "colorbar": {
              "outlinewidth": 0,
              "ticks": ""
             }
            },
            "type": "scatter3d"
           }
          ],
          "scattercarpet": [
           {
            "marker": {
             "colorbar": {
              "outlinewidth": 0,
              "ticks": ""
             }
            },
            "type": "scattercarpet"
           }
          ],
          "scattergeo": [
           {
            "marker": {
             "colorbar": {
              "outlinewidth": 0,
              "ticks": ""
             }
            },
            "type": "scattergeo"
           }
          ],
          "scattergl": [
           {
            "marker": {
             "colorbar": {
              "outlinewidth": 0,
              "ticks": ""
             }
            },
            "type": "scattergl"
           }
          ],
          "scattermap": [
           {
            "marker": {
             "colorbar": {
              "outlinewidth": 0,
              "ticks": ""
             }
            },
            "type": "scattermap"
           }
          ],
          "scattermapbox": [
           {
            "marker": {
             "colorbar": {
              "outlinewidth": 0,
              "ticks": ""
             }
            },
            "type": "scattermapbox"
           }
          ],
          "scatterpolar": [
           {
            "marker": {
             "colorbar": {
              "outlinewidth": 0,
              "ticks": ""
             }
            },
            "type": "scatterpolar"
           }
          ],
          "scatterpolargl": [
           {
            "marker": {
             "colorbar": {
              "outlinewidth": 0,
              "ticks": ""
             }
            },
            "type": "scatterpolargl"
           }
          ],
          "scatterternary": [
           {
            "marker": {
             "colorbar": {
              "outlinewidth": 0,
              "ticks": ""
             }
            },
            "type": "scatterternary"
           }
          ],
          "surface": [
           {
            "colorbar": {
             "outlinewidth": 0,
             "ticks": ""
            },
            "colorscale": [
             [
              0,
              "#0d0887"
             ],
             [
              0.1111111111111111,
              "#46039f"
             ],
             [
              0.2222222222222222,
              "#7201a8"
             ],
             [
              0.3333333333333333,
              "#9c179e"
             ],
             [
              0.4444444444444444,
              "#bd3786"
             ],
             [
              0.5555555555555556,
              "#d8576b"
             ],
             [
              0.6666666666666666,
              "#ed7953"
             ],
             [
              0.7777777777777778,
              "#fb9f3a"
             ],
             [
              0.8888888888888888,
              "#fdca26"
             ],
             [
              1,
              "#f0f921"
             ]
            ],
            "type": "surface"
           }
          ],
          "table": [
           {
            "cells": {
             "fill": {
              "color": "#EBF0F8"
             },
             "line": {
              "color": "white"
             }
            },
            "header": {
             "fill": {
              "color": "#C8D4E3"
             },
             "line": {
              "color": "white"
             }
            },
            "type": "table"
           }
          ]
         },
         "layout": {
          "annotationdefaults": {
           "arrowcolor": "#2a3f5f",
           "arrowhead": 0,
           "arrowwidth": 1
          },
          "autotypenumbers": "strict",
          "coloraxis": {
           "colorbar": {
            "outlinewidth": 0,
            "ticks": ""
           }
          },
          "colorscale": {
           "diverging": [
            [
             0,
             "#8e0152"
            ],
            [
             0.1,
             "#c51b7d"
            ],
            [
             0.2,
             "#de77ae"
            ],
            [
             0.3,
             "#f1b6da"
            ],
            [
             0.4,
             "#fde0ef"
            ],
            [
             0.5,
             "#f7f7f7"
            ],
            [
             0.6,
             "#e6f5d0"
            ],
            [
             0.7,
             "#b8e186"
            ],
            [
             0.8,
             "#7fbc41"
            ],
            [
             0.9,
             "#4d9221"
            ],
            [
             1,
             "#276419"
            ]
           ],
           "sequential": [
            [
             0,
             "#0d0887"
            ],
            [
             0.1111111111111111,
             "#46039f"
            ],
            [
             0.2222222222222222,
             "#7201a8"
            ],
            [
             0.3333333333333333,
             "#9c179e"
            ],
            [
             0.4444444444444444,
             "#bd3786"
            ],
            [
             0.5555555555555556,
             "#d8576b"
            ],
            [
             0.6666666666666666,
             "#ed7953"
            ],
            [
             0.7777777777777778,
             "#fb9f3a"
            ],
            [
             0.8888888888888888,
             "#fdca26"
            ],
            [
             1,
             "#f0f921"
            ]
           ],
           "sequentialminus": [
            [
             0,
             "#0d0887"
            ],
            [
             0.1111111111111111,
             "#46039f"
            ],
            [
             0.2222222222222222,
             "#7201a8"
            ],
            [
             0.3333333333333333,
             "#9c179e"
            ],
            [
             0.4444444444444444,
             "#bd3786"
            ],
            [
             0.5555555555555556,
             "#d8576b"
            ],
            [
             0.6666666666666666,
             "#ed7953"
            ],
            [
             0.7777777777777778,
             "#fb9f3a"
            ],
            [
             0.8888888888888888,
             "#fdca26"
            ],
            [
             1,
             "#f0f921"
            ]
           ]
          },
          "colorway": [
           "#636efa",
           "#EF553B",
           "#00cc96",
           "#ab63fa",
           "#FFA15A",
           "#19d3f3",
           "#FF6692",
           "#B6E880",
           "#FF97FF",
           "#FECB52"
          ],
          "font": {
           "color": "#2a3f5f"
          },
          "geo": {
           "bgcolor": "white",
           "lakecolor": "white",
           "landcolor": "#E5ECF6",
           "showlakes": true,
           "showland": true,
           "subunitcolor": "white"
          },
          "hoverlabel": {
           "align": "left"
          },
          "hovermode": "closest",
          "mapbox": {
           "style": "light"
          },
          "paper_bgcolor": "white",
          "plot_bgcolor": "#E5ECF6",
          "polar": {
           "angularaxis": {
            "gridcolor": "white",
            "linecolor": "white",
            "ticks": ""
           },
           "bgcolor": "#E5ECF6",
           "radialaxis": {
            "gridcolor": "white",
            "linecolor": "white",
            "ticks": ""
           }
          },
          "scene": {
           "xaxis": {
            "backgroundcolor": "#E5ECF6",
            "gridcolor": "white",
            "gridwidth": 2,
            "linecolor": "white",
            "showbackground": true,
            "ticks": "",
            "zerolinecolor": "white"
           },
           "yaxis": {
            "backgroundcolor": "#E5ECF6",
            "gridcolor": "white",
            "gridwidth": 2,
            "linecolor": "white",
            "showbackground": true,
            "ticks": "",
            "zerolinecolor": "white"
           },
           "zaxis": {
            "backgroundcolor": "#E5ECF6",
            "gridcolor": "white",
            "gridwidth": 2,
            "linecolor": "white",
            "showbackground": true,
            "ticks": "",
            "zerolinecolor": "white"
           }
          },
          "shapedefaults": {
           "line": {
            "color": "#2a3f5f"
           }
          },
          "ternary": {
           "aaxis": {
            "gridcolor": "white",
            "linecolor": "white",
            "ticks": ""
           },
           "baxis": {
            "gridcolor": "white",
            "linecolor": "white",
            "ticks": ""
           },
           "bgcolor": "#E5ECF6",
           "caxis": {
            "gridcolor": "white",
            "linecolor": "white",
            "ticks": ""
           }
          },
          "title": {
           "x": 0.05
          },
          "xaxis": {
           "automargin": true,
           "gridcolor": "white",
           "linecolor": "white",
           "ticks": "",
           "title": {
            "standoff": 15
           },
           "zerolinecolor": "white",
           "zerolinewidth": 2
          },
          "yaxis": {
           "automargin": true,
           "gridcolor": "white",
           "linecolor": "white",
           "ticks": "",
           "title": {
            "standoff": 15
           },
           "zerolinecolor": "white",
           "zerolinewidth": 2
          }
         }
        },
        "title": {
         "text": "Frequency of Percentage Price Changes Around EIA WPSR Release"
        },
        "xaxis": {
         "ticktext": [
          -60,
          -55,
          -50,
          -45,
          -40,
          -35,
          -30,
          -25,
          -20,
          -15,
          -10,
          -5,
          0,
          5,
          10,
          15,
          20,
          25,
          30,
          35,
          40,
          45,
          50,
          55,
          60
         ],
         "tickvals": [
          -60,
          -55,
          -50,
          -45,
          -40,
          -35,
          -30,
          -25,
          -20,
          -15,
          -10,
          -5,
          0,
          5,
          10,
          15,
          20,
          25,
          30,
          35,
          40,
          45,
          50,
          55,
          60
         ],
         "title": {
          "text": "Time Relative to Release (Minutes)"
         }
        },
        "yaxis": {
         "autorange": "reversed",
         "title": {
          "text": "Percentage Price Change Bins"
         }
        }
       }
      }
     },
     "metadata": {},
     "output_type": "display_data"
    },
    {
     "data": {
      "text/html": [
       "<div>\n",
       "<style scoped>\n",
       "    .dataframe tbody tr th:only-of-type {\n",
       "        vertical-align: middle;\n",
       "    }\n",
       "\n",
       "    .dataframe tbody tr th {\n",
       "        vertical-align: top;\n",
       "    }\n",
       "\n",
       "    .dataframe thead th {\n",
       "        text-align: right;\n",
       "    }\n",
       "</style>\n",
       "<table border=\"1\" class=\"dataframe\">\n",
       "  <thead>\n",
       "    <tr style=\"text-align: right;\">\n",
       "      <th></th>\n",
       "      <th>Date</th>\n",
       "      <th>Time</th>\n",
       "      <th>Open</th>\n",
       "      <th>High</th>\n",
       "      <th>Low</th>\n",
       "      <th>Close</th>\n",
       "      <th>Volume</th>\n",
       "      <th>Datetime</th>\n",
       "      <th>Percent_Change</th>\n",
       "      <th>Release_Datetime</th>\n",
       "      <th>Time_to_Release_Minutes</th>\n",
       "      <th>Time_Delta_Minutes</th>\n",
       "      <th>Price_Change_Bin</th>\n",
       "    </tr>\n",
       "    <tr>\n",
       "      <th>Datetime_CST</th>\n",
       "      <th></th>\n",
       "      <th></th>\n",
       "      <th></th>\n",
       "      <th></th>\n",
       "      <th></th>\n",
       "      <th></th>\n",
       "      <th></th>\n",
       "      <th></th>\n",
       "      <th></th>\n",
       "      <th></th>\n",
       "      <th></th>\n",
       "      <th></th>\n",
       "      <th></th>\n",
       "    </tr>\n",
       "  </thead>\n",
       "  <tbody>\n",
       "    <tr>\n",
       "      <th>2011-03-09 08:30:00-06:00</th>\n",
       "      <td>09/03/2011</td>\n",
       "      <td>08:30:00</td>\n",
       "      <td>105.56</td>\n",
       "      <td>105.56</td>\n",
       "      <td>105.44</td>\n",
       "      <td>105.46</td>\n",
       "      <td>514</td>\n",
       "      <td>2011-03-09 08:30:00</td>\n",
       "      <td>-0.094733</td>\n",
       "      <td>2011-03-09 09:30:00-06:00</td>\n",
       "      <td>-60.0</td>\n",
       "      <td>-60.0</td>\n",
       "      <td>-0.10%</td>\n",
       "    </tr>\n",
       "    <tr>\n",
       "      <th>2011-03-09 08:31:00-06:00</th>\n",
       "      <td>09/03/2011</td>\n",
       "      <td>08:31:00</td>\n",
       "      <td>105.46</td>\n",
       "      <td>105.52</td>\n",
       "      <td>105.45</td>\n",
       "      <td>105.46</td>\n",
       "      <td>323</td>\n",
       "      <td>2011-03-09 08:31:00</td>\n",
       "      <td>0.000000</td>\n",
       "      <td>2011-03-09 09:30:00-06:00</td>\n",
       "      <td>-59.0</td>\n",
       "      <td>-59.0</td>\n",
       "      <td>-0.05%</td>\n",
       "    </tr>\n",
       "    <tr>\n",
       "      <th>2011-03-09 08:32:00-06:00</th>\n",
       "      <td>09/03/2011</td>\n",
       "      <td>08:32:00</td>\n",
       "      <td>105.45</td>\n",
       "      <td>105.47</td>\n",
       "      <td>105.31</td>\n",
       "      <td>105.32</td>\n",
       "      <td>899</td>\n",
       "      <td>2011-03-09 08:32:00</td>\n",
       "      <td>-0.132752</td>\n",
       "      <td>2011-03-09 09:30:00-06:00</td>\n",
       "      <td>-58.0</td>\n",
       "      <td>-58.0</td>\n",
       "      <td>-0.15%</td>\n",
       "    </tr>\n",
       "    <tr>\n",
       "      <th>2011-03-09 08:33:00-06:00</th>\n",
       "      <td>09/03/2011</td>\n",
       "      <td>08:33:00</td>\n",
       "      <td>105.31</td>\n",
       "      <td>105.37</td>\n",
       "      <td>105.25</td>\n",
       "      <td>105.33</td>\n",
       "      <td>716</td>\n",
       "      <td>2011-03-09 08:33:00</td>\n",
       "      <td>0.009495</td>\n",
       "      <td>2011-03-09 09:30:00-06:00</td>\n",
       "      <td>-57.0</td>\n",
       "      <td>-57.0</td>\n",
       "      <td>0.00%</td>\n",
       "    </tr>\n",
       "    <tr>\n",
       "      <th>2011-03-09 08:34:00-06:00</th>\n",
       "      <td>09/03/2011</td>\n",
       "      <td>08:34:00</td>\n",
       "      <td>105.34</td>\n",
       "      <td>105.45</td>\n",
       "      <td>105.31</td>\n",
       "      <td>105.40</td>\n",
       "      <td>660</td>\n",
       "      <td>2011-03-09 08:34:00</td>\n",
       "      <td>0.066458</td>\n",
       "      <td>2011-03-09 09:30:00-06:00</td>\n",
       "      <td>-56.0</td>\n",
       "      <td>-56.0</td>\n",
       "      <td>0.05%</td>\n",
       "    </tr>\n",
       "    <tr>\n",
       "      <th>...</th>\n",
       "      <td>...</td>\n",
       "      <td>...</td>\n",
       "      <td>...</td>\n",
       "      <td>...</td>\n",
       "      <td>...</td>\n",
       "      <td>...</td>\n",
       "      <td>...</td>\n",
       "      <td>...</td>\n",
       "      <td>...</td>\n",
       "      <td>...</td>\n",
       "      <td>...</td>\n",
       "      <td>...</td>\n",
       "      <td>...</td>\n",
       "    </tr>\n",
       "    <tr>\n",
       "      <th>2025-03-05 10:26:00-06:00</th>\n",
       "      <td>05/03/2025</td>\n",
       "      <td>10:26:00</td>\n",
       "      <td>65.42</td>\n",
       "      <td>65.46</td>\n",
       "      <td>65.37</td>\n",
       "      <td>65.38</td>\n",
       "      <td>713</td>\n",
       "      <td>2025-03-05 10:26:00</td>\n",
       "      <td>-0.061143</td>\n",
       "      <td>2025-03-05 09:30:00-06:00</td>\n",
       "      <td>56.0</td>\n",
       "      <td>56.0</td>\n",
       "      <td>-0.10%</td>\n",
       "    </tr>\n",
       "    <tr>\n",
       "      <th>2025-03-05 10:27:00-06:00</th>\n",
       "      <td>05/03/2025</td>\n",
       "      <td>10:27:00</td>\n",
       "      <td>65.37</td>\n",
       "      <td>65.41</td>\n",
       "      <td>65.37</td>\n",
       "      <td>65.39</td>\n",
       "      <td>640</td>\n",
       "      <td>2025-03-05 10:27:00</td>\n",
       "      <td>0.015295</td>\n",
       "      <td>2025-03-05 09:30:00-06:00</td>\n",
       "      <td>57.0</td>\n",
       "      <td>57.0</td>\n",
       "      <td>0.00%</td>\n",
       "    </tr>\n",
       "    <tr>\n",
       "      <th>2025-03-05 10:28:00-06:00</th>\n",
       "      <td>05/03/2025</td>\n",
       "      <td>10:28:00</td>\n",
       "      <td>65.40</td>\n",
       "      <td>65.42</td>\n",
       "      <td>65.33</td>\n",
       "      <td>65.36</td>\n",
       "      <td>796</td>\n",
       "      <td>2025-03-05 10:28:00</td>\n",
       "      <td>-0.045879</td>\n",
       "      <td>2025-03-05 09:30:00-06:00</td>\n",
       "      <td>58.0</td>\n",
       "      <td>58.0</td>\n",
       "      <td>-0.05%</td>\n",
       "    </tr>\n",
       "    <tr>\n",
       "      <th>2025-03-05 10:29:00-06:00</th>\n",
       "      <td>05/03/2025</td>\n",
       "      <td>10:29:00</td>\n",
       "      <td>65.35</td>\n",
       "      <td>65.40</td>\n",
       "      <td>65.35</td>\n",
       "      <td>65.37</td>\n",
       "      <td>658</td>\n",
       "      <td>2025-03-05 10:29:00</td>\n",
       "      <td>0.015300</td>\n",
       "      <td>2025-03-05 09:30:00-06:00</td>\n",
       "      <td>59.0</td>\n",
       "      <td>59.0</td>\n",
       "      <td>0.00%</td>\n",
       "    </tr>\n",
       "    <tr>\n",
       "      <th>2025-03-05 10:30:00-06:00</th>\n",
       "      <td>05/03/2025</td>\n",
       "      <td>10:30:00</td>\n",
       "      <td>65.38</td>\n",
       "      <td>65.45</td>\n",
       "      <td>65.34</td>\n",
       "      <td>65.43</td>\n",
       "      <td>842</td>\n",
       "      <td>2025-03-05 10:30:00</td>\n",
       "      <td>0.091785</td>\n",
       "      <td>2025-03-05 09:30:00-06:00</td>\n",
       "      <td>60.0</td>\n",
       "      <td>60.0</td>\n",
       "      <td>0.05%</td>\n",
       "    </tr>\n",
       "  </tbody>\n",
       "</table>\n",
       "<p>88344 rows × 13 columns</p>\n",
       "</div>"
      ],
      "text/plain": [
       "                                 Date      Time    Open    High     Low  \\\n",
       "Datetime_CST                                                              \n",
       "2011-03-09 08:30:00-06:00  09/03/2011  08:30:00  105.56  105.56  105.44   \n",
       "2011-03-09 08:31:00-06:00  09/03/2011  08:31:00  105.46  105.52  105.45   \n",
       "2011-03-09 08:32:00-06:00  09/03/2011  08:32:00  105.45  105.47  105.31   \n",
       "2011-03-09 08:33:00-06:00  09/03/2011  08:33:00  105.31  105.37  105.25   \n",
       "2011-03-09 08:34:00-06:00  09/03/2011  08:34:00  105.34  105.45  105.31   \n",
       "...                               ...       ...     ...     ...     ...   \n",
       "2025-03-05 10:26:00-06:00  05/03/2025  10:26:00   65.42   65.46   65.37   \n",
       "2025-03-05 10:27:00-06:00  05/03/2025  10:27:00   65.37   65.41   65.37   \n",
       "2025-03-05 10:28:00-06:00  05/03/2025  10:28:00   65.40   65.42   65.33   \n",
       "2025-03-05 10:29:00-06:00  05/03/2025  10:29:00   65.35   65.40   65.35   \n",
       "2025-03-05 10:30:00-06:00  05/03/2025  10:30:00   65.38   65.45   65.34   \n",
       "\n",
       "                            Close  Volume            Datetime  Percent_Change  \\\n",
       "Datetime_CST                                                                    \n",
       "2011-03-09 08:30:00-06:00  105.46     514 2011-03-09 08:30:00       -0.094733   \n",
       "2011-03-09 08:31:00-06:00  105.46     323 2011-03-09 08:31:00        0.000000   \n",
       "2011-03-09 08:32:00-06:00  105.32     899 2011-03-09 08:32:00       -0.132752   \n",
       "2011-03-09 08:33:00-06:00  105.33     716 2011-03-09 08:33:00        0.009495   \n",
       "2011-03-09 08:34:00-06:00  105.40     660 2011-03-09 08:34:00        0.066458   \n",
       "...                           ...     ...                 ...             ...   \n",
       "2025-03-05 10:26:00-06:00   65.38     713 2025-03-05 10:26:00       -0.061143   \n",
       "2025-03-05 10:27:00-06:00   65.39     640 2025-03-05 10:27:00        0.015295   \n",
       "2025-03-05 10:28:00-06:00   65.36     796 2025-03-05 10:28:00       -0.045879   \n",
       "2025-03-05 10:29:00-06:00   65.37     658 2025-03-05 10:29:00        0.015300   \n",
       "2025-03-05 10:30:00-06:00   65.43     842 2025-03-05 10:30:00        0.091785   \n",
       "\n",
       "                                   Release_Datetime  Time_to_Release_Minutes  \\\n",
       "Datetime_CST                                                                   \n",
       "2011-03-09 08:30:00-06:00 2011-03-09 09:30:00-06:00                    -60.0   \n",
       "2011-03-09 08:31:00-06:00 2011-03-09 09:30:00-06:00                    -59.0   \n",
       "2011-03-09 08:32:00-06:00 2011-03-09 09:30:00-06:00                    -58.0   \n",
       "2011-03-09 08:33:00-06:00 2011-03-09 09:30:00-06:00                    -57.0   \n",
       "2011-03-09 08:34:00-06:00 2011-03-09 09:30:00-06:00                    -56.0   \n",
       "...                                             ...                      ...   \n",
       "2025-03-05 10:26:00-06:00 2025-03-05 09:30:00-06:00                     56.0   \n",
       "2025-03-05 10:27:00-06:00 2025-03-05 09:30:00-06:00                     57.0   \n",
       "2025-03-05 10:28:00-06:00 2025-03-05 09:30:00-06:00                     58.0   \n",
       "2025-03-05 10:29:00-06:00 2025-03-05 09:30:00-06:00                     59.0   \n",
       "2025-03-05 10:30:00-06:00 2025-03-05 09:30:00-06:00                     60.0   \n",
       "\n",
       "                           Time_Delta_Minutes Price_Change_Bin  \n",
       "Datetime_CST                                                    \n",
       "2011-03-09 08:30:00-06:00               -60.0           -0.10%  \n",
       "2011-03-09 08:31:00-06:00               -59.0           -0.05%  \n",
       "2011-03-09 08:32:00-06:00               -58.0           -0.15%  \n",
       "2011-03-09 08:33:00-06:00               -57.0            0.00%  \n",
       "2011-03-09 08:34:00-06:00               -56.0            0.05%  \n",
       "...                                       ...              ...  \n",
       "2025-03-05 10:26:00-06:00                56.0           -0.10%  \n",
       "2025-03-05 10:27:00-06:00                57.0            0.00%  \n",
       "2025-03-05 10:28:00-06:00                58.0           -0.05%  \n",
       "2025-03-05 10:29:00-06:00                59.0            0.00%  \n",
       "2025-03-05 10:30:00-06:00                60.0            0.05%  \n",
       "\n",
       "[88344 rows x 13 columns]"
      ]
     },
     "metadata": {},
     "output_type": "display_data"
    }
   ],
   "source": [
    "\n",
    "# Assume price_window_60min dataframe is already loaded and has 'Datetime', 'Close', and 'Release_Datetime' columns\n",
    "\n",
    "# 1. Calculate Price Changes Relative to Pre-Release Minute\n",
    "price_window_60min['Time_Delta_Minutes'] = price_window_60min.index - price_window_60min['Release_Datetime']\n",
    "price_window_60min['Time_Delta_Minutes'] = price_window_60min['Time_Delta_Minutes'].apply(lambda td: td.total_seconds() / 60)\n",
    "#price_window_60min['Price_Change'] = price_window_60min.groupby('Release_Datetime')['Close'].transform(lambda x: x - x.shift(1))\n",
    "#price_window_60min['Percent_Change'] = price_window_60min.groupby('Release_Datetime')['Close'].pct_change() * 100\n",
    "\n",
    "#price_window_60min = price_window_60min.dropna(subset=['Percent_Change']) # Remove rows where shift resulted in NaN\n",
    "\n",
    "# 2. Define Time Intervals and Price Change Bins for Heatmap\n",
    "time_intervals_release = sorted(price_window_60min['Time_Delta_Minutes'].unique())\n",
    "price_change_bins_release = np.linspace(-1, 1, num=41) # Example: Bins from -1% to +1% in 0.05% increments, adjust as needed\n",
    "price_change_labels_release = [f'{bin_val:.2f}%' for bin_val in price_change_bins] # Labels for bins\n",
    "\n",
    "# 3.  Bin Price Changes and Count Frequencies\n",
    "price_window_60min['Price_Change_Bin'] = pd.cut(price_window_60min['Percent_Change'], bins=price_change_bins, labels=price_change_labels[:-1], include_lowest=True)\n",
    "\n",
    "\n",
    "heatmap_data_release = price_window_60min.groupby(['Price_Change_Bin', 'Time_Delta_Minutes']).size().unstack(fill_value=0)\n",
    "\n",
    "# Reindex columns and rows to ensure all intervals and bins are present, even if count is zero\n",
    "heatmap_data_release = heatmap_data_release.reindex(columns=time_intervals, fill_value=0)\n",
    "heatmap_data_release = heatmap_data_release.reindex(index=price_change_labels[:-1], fill_value=0)\n",
    "\n",
    "# 4. Create Interactive Heatmap with Plotly\n",
    "fig_heatmap_release = go.Figure(data=go.Heatmap(\n",
    "    z=heatmap_data_release.values,\n",
    "    x=heatmap_data_release.columns,\n",
    "    y=heatmap_data.index,\n",
    "    colorscale='Viridis', # Choose a colorscale that suits your preference\n",
    "    colorbar=dict(title='Frequency')\n",
    "))\n",
    "\n",
    "fig_heatmap_release.update_layout(\n",
    "    title='Frequency of Percentage Price Changes Around EIA WPSR Release',\n",
    "    xaxis_title='Time Relative to Release (Minutes)',\n",
    "    yaxis_title='Percentage Price Change Bins',\n",
    "    yaxis=dict(autorange=\"reversed\"), # Invert y-axis to have positive changes at the top\n",
    "    xaxis=dict(tickvals=time_intervals[::5], ticktext=[int(x) for x in time_intervals[::5]]) # Show x-axis ticks every 5 minutes\n",
    ")\n",
    "\n",
    "fig_heatmap_release.show()\n",
    "display(price_window_60min)"
   ]
  },
  {
   "cell_type": "code",
   "execution_count": 58,
   "metadata": {},
   "outputs": [
    {
     "data": {
      "text/html": [
       "<div>\n",
       "<style scoped>\n",
       "    .dataframe tbody tr th:only-of-type {\n",
       "        vertical-align: middle;\n",
       "    }\n",
       "\n",
       "    .dataframe tbody tr th {\n",
       "        vertical-align: top;\n",
       "    }\n",
       "\n",
       "    .dataframe thead th {\n",
       "        text-align: right;\n",
       "    }\n",
       "</style>\n",
       "<table border=\"1\" class=\"dataframe\">\n",
       "  <thead>\n",
       "    <tr style=\"text-align: right;\">\n",
       "      <th></th>\n",
       "      <th>Date</th>\n",
       "      <th>Time</th>\n",
       "      <th>Open</th>\n",
       "      <th>High</th>\n",
       "      <th>Low</th>\n",
       "      <th>Close</th>\n",
       "      <th>Volume</th>\n",
       "      <th>Datetime</th>\n",
       "      <th>Percent_Change</th>\n",
       "    </tr>\n",
       "    <tr>\n",
       "      <th>Datetime_CST</th>\n",
       "      <th></th>\n",
       "      <th></th>\n",
       "      <th></th>\n",
       "      <th></th>\n",
       "      <th></th>\n",
       "      <th></th>\n",
       "      <th></th>\n",
       "      <th></th>\n",
       "      <th></th>\n",
       "    </tr>\n",
       "  </thead>\n",
       "  <tbody>\n",
       "    <tr>\n",
       "      <th>2011-03-07 23:59:00-06:00</th>\n",
       "      <td>07/03/2011</td>\n",
       "      <td>23:59:00</td>\n",
       "      <td>104.74</td>\n",
       "      <td>104.77</td>\n",
       "      <td>104.73</td>\n",
       "      <td>104.73</td>\n",
       "      <td>18</td>\n",
       "      <td>2011-03-07 23:59:00</td>\n",
       "      <td>NaN</td>\n",
       "    </tr>\n",
       "    <tr>\n",
       "      <th>2011-03-08 00:00:00-06:00</th>\n",
       "      <td>08/03/2011</td>\n",
       "      <td>00:00:00</td>\n",
       "      <td>104.74</td>\n",
       "      <td>104.82</td>\n",
       "      <td>104.74</td>\n",
       "      <td>104.81</td>\n",
       "      <td>34</td>\n",
       "      <td>2011-03-08 00:00:00</td>\n",
       "      <td>0.076387</td>\n",
       "    </tr>\n",
       "    <tr>\n",
       "      <th>2011-03-08 00:01:00-06:00</th>\n",
       "      <td>08/03/2011</td>\n",
       "      <td>00:01:00</td>\n",
       "      <td>104.82</td>\n",
       "      <td>104.84</td>\n",
       "      <td>104.82</td>\n",
       "      <td>104.82</td>\n",
       "      <td>12</td>\n",
       "      <td>2011-03-08 00:01:00</td>\n",
       "      <td>0.009541</td>\n",
       "    </tr>\n",
       "    <tr>\n",
       "      <th>2011-03-08 00:02:00-06:00</th>\n",
       "      <td>08/03/2011</td>\n",
       "      <td>00:02:00</td>\n",
       "      <td>104.81</td>\n",
       "      <td>104.81</td>\n",
       "      <td>104.73</td>\n",
       "      <td>104.75</td>\n",
       "      <td>20</td>\n",
       "      <td>2011-03-08 00:02:00</td>\n",
       "      <td>-0.066781</td>\n",
       "    </tr>\n",
       "    <tr>\n",
       "      <th>2011-03-08 00:03:00-06:00</th>\n",
       "      <td>08/03/2011</td>\n",
       "      <td>00:03:00</td>\n",
       "      <td>104.74</td>\n",
       "      <td>104.76</td>\n",
       "      <td>104.71</td>\n",
       "      <td>104.76</td>\n",
       "      <td>25</td>\n",
       "      <td>2011-03-08 00:03:00</td>\n",
       "      <td>0.009547</td>\n",
       "    </tr>\n",
       "    <tr>\n",
       "      <th>...</th>\n",
       "      <td>...</td>\n",
       "      <td>...</td>\n",
       "      <td>...</td>\n",
       "      <td>...</td>\n",
       "      <td>...</td>\n",
       "      <td>...</td>\n",
       "      <td>...</td>\n",
       "      <td>...</td>\n",
       "      <td>...</td>\n",
       "    </tr>\n",
       "    <tr>\n",
       "      <th>2025-03-11 23:54:00-05:00</th>\n",
       "      <td>11/03/2025</td>\n",
       "      <td>23:54:00</td>\n",
       "      <td>66.75</td>\n",
       "      <td>66.75</td>\n",
       "      <td>66.75</td>\n",
       "      <td>66.75</td>\n",
       "      <td>13</td>\n",
       "      <td>2025-03-11 23:54:00</td>\n",
       "      <td>0.000000</td>\n",
       "    </tr>\n",
       "    <tr>\n",
       "      <th>2025-03-11 23:56:00-05:00</th>\n",
       "      <td>11/03/2025</td>\n",
       "      <td>23:56:00</td>\n",
       "      <td>66.75</td>\n",
       "      <td>66.75</td>\n",
       "      <td>66.74</td>\n",
       "      <td>66.74</td>\n",
       "      <td>3</td>\n",
       "      <td>2025-03-11 23:56:00</td>\n",
       "      <td>-0.014981</td>\n",
       "    </tr>\n",
       "    <tr>\n",
       "      <th>2025-03-11 23:58:00-05:00</th>\n",
       "      <td>11/03/2025</td>\n",
       "      <td>23:58:00</td>\n",
       "      <td>66.75</td>\n",
       "      <td>66.75</td>\n",
       "      <td>66.75</td>\n",
       "      <td>66.75</td>\n",
       "      <td>3</td>\n",
       "      <td>2025-03-11 23:58:00</td>\n",
       "      <td>0.014984</td>\n",
       "    </tr>\n",
       "    <tr>\n",
       "      <th>2025-03-11 23:59:00-05:00</th>\n",
       "      <td>11/03/2025</td>\n",
       "      <td>23:59:00</td>\n",
       "      <td>66.75</td>\n",
       "      <td>66.75</td>\n",
       "      <td>66.75</td>\n",
       "      <td>66.75</td>\n",
       "      <td>1</td>\n",
       "      <td>2025-03-11 23:59:00</td>\n",
       "      <td>0.000000</td>\n",
       "    </tr>\n",
       "    <tr>\n",
       "      <th>2025-03-12 00:00:00-05:00</th>\n",
       "      <td>12/03/2025</td>\n",
       "      <td>00:00:00</td>\n",
       "      <td>66.74</td>\n",
       "      <td>66.76</td>\n",
       "      <td>66.71</td>\n",
       "      <td>66.75</td>\n",
       "      <td>41</td>\n",
       "      <td>2025-03-12 00:00:00</td>\n",
       "      <td>0.000000</td>\n",
       "    </tr>\n",
       "  </tbody>\n",
       "</table>\n",
       "<p>4811559 rows × 9 columns</p>\n",
       "</div>"
      ],
      "text/plain": [
       "                                 Date      Time    Open    High     Low  \\\n",
       "Datetime_CST                                                              \n",
       "2011-03-07 23:59:00-06:00  07/03/2011  23:59:00  104.74  104.77  104.73   \n",
       "2011-03-08 00:00:00-06:00  08/03/2011  00:00:00  104.74  104.82  104.74   \n",
       "2011-03-08 00:01:00-06:00  08/03/2011  00:01:00  104.82  104.84  104.82   \n",
       "2011-03-08 00:02:00-06:00  08/03/2011  00:02:00  104.81  104.81  104.73   \n",
       "2011-03-08 00:03:00-06:00  08/03/2011  00:03:00  104.74  104.76  104.71   \n",
       "...                               ...       ...     ...     ...     ...   \n",
       "2025-03-11 23:54:00-05:00  11/03/2025  23:54:00   66.75   66.75   66.75   \n",
       "2025-03-11 23:56:00-05:00  11/03/2025  23:56:00   66.75   66.75   66.74   \n",
       "2025-03-11 23:58:00-05:00  11/03/2025  23:58:00   66.75   66.75   66.75   \n",
       "2025-03-11 23:59:00-05:00  11/03/2025  23:59:00   66.75   66.75   66.75   \n",
       "2025-03-12 00:00:00-05:00  12/03/2025  00:00:00   66.74   66.76   66.71   \n",
       "\n",
       "                            Close  Volume            Datetime  Percent_Change  \n",
       "Datetime_CST                                                                   \n",
       "2011-03-07 23:59:00-06:00  104.73      18 2011-03-07 23:59:00             NaN  \n",
       "2011-03-08 00:00:00-06:00  104.81      34 2011-03-08 00:00:00        0.076387  \n",
       "2011-03-08 00:01:00-06:00  104.82      12 2011-03-08 00:01:00        0.009541  \n",
       "2011-03-08 00:02:00-06:00  104.75      20 2011-03-08 00:02:00       -0.066781  \n",
       "2011-03-08 00:03:00-06:00  104.76      25 2011-03-08 00:03:00        0.009547  \n",
       "...                           ...     ...                 ...             ...  \n",
       "2025-03-11 23:54:00-05:00   66.75      13 2025-03-11 23:54:00        0.000000  \n",
       "2025-03-11 23:56:00-05:00   66.74       3 2025-03-11 23:56:00       -0.014981  \n",
       "2025-03-11 23:58:00-05:00   66.75       3 2025-03-11 23:58:00        0.014984  \n",
       "2025-03-11 23:59:00-05:00   66.75       1 2025-03-11 23:59:00        0.000000  \n",
       "2025-03-12 00:00:00-05:00   66.75      41 2025-03-12 00:00:00        0.000000  \n",
       "\n",
       "[4811559 rows x 9 columns]"
      ]
     },
     "metadata": {},
     "output_type": "display_data"
    },
    {
     "data": {
      "text/html": [
       "<div>\n",
       "<style scoped>\n",
       "    .dataframe tbody tr th:only-of-type {\n",
       "        vertical-align: middle;\n",
       "    }\n",
       "\n",
       "    .dataframe tbody tr th {\n",
       "        vertical-align: top;\n",
       "    }\n",
       "\n",
       "    .dataframe thead th {\n",
       "        text-align: right;\n",
       "    }\n",
       "</style>\n",
       "<table border=\"1\" class=\"dataframe\">\n",
       "  <thead>\n",
       "    <tr style=\"text-align: right;\">\n",
       "      <th></th>\n",
       "      <th>Release Date</th>\n",
       "      <th>Time</th>\n",
       "      <th>Actual</th>\n",
       "      <th>Forecast</th>\n",
       "      <th>Previous</th>\n",
       "      <th>Release_Datetime</th>\n",
       "      <th>Release_Datetime_EST</th>\n",
       "      <th>supply_surprise</th>\n",
       "    </tr>\n",
       "    <tr>\n",
       "      <th>Release_Datetime_CST</th>\n",
       "      <th></th>\n",
       "      <th></th>\n",
       "      <th></th>\n",
       "      <th></th>\n",
       "      <th></th>\n",
       "      <th></th>\n",
       "      <th></th>\n",
       "      <th></th>\n",
       "    </tr>\n",
       "  </thead>\n",
       "  <tbody>\n",
       "    <tr>\n",
       "      <th>2011-03-09 09:30:00-06:00</th>\n",
       "      <td>9-Mar-11</td>\n",
       "      <td>10:30</td>\n",
       "      <td>2.500M</td>\n",
       "      <td>1.100M</td>\n",
       "      <td>-0.400M</td>\n",
       "      <td>2011-03-09 10:30:00</td>\n",
       "      <td>2011-03-09 10:30:00-05:00</td>\n",
       "      <td>1.400</td>\n",
       "    </tr>\n",
       "    <tr>\n",
       "      <th>2011-03-16 08:30:00-05:00</th>\n",
       "      <td>16-Mar-11</td>\n",
       "      <td>9:30</td>\n",
       "      <td>1.700M</td>\n",
       "      <td>1.800M</td>\n",
       "      <td>2.500M</td>\n",
       "      <td>2011-03-16 09:30:00</td>\n",
       "      <td>2011-03-16 09:30:00-04:00</td>\n",
       "      <td>-0.100</td>\n",
       "    </tr>\n",
       "    <tr>\n",
       "      <th>2011-03-23 08:30:00-05:00</th>\n",
       "      <td>23-Mar-11</td>\n",
       "      <td>9:30</td>\n",
       "      <td>2.100M</td>\n",
       "      <td>2.000M</td>\n",
       "      <td>1.700M</td>\n",
       "      <td>2011-03-23 09:30:00</td>\n",
       "      <td>2011-03-23 09:30:00-04:00</td>\n",
       "      <td>0.100</td>\n",
       "    </tr>\n",
       "    <tr>\n",
       "      <th>2011-03-30 08:30:00-05:00</th>\n",
       "      <td>30-Mar-11</td>\n",
       "      <td>9:30</td>\n",
       "      <td>2.900M</td>\n",
       "      <td>2.000M</td>\n",
       "      <td>2.100M</td>\n",
       "      <td>2011-03-30 09:30:00</td>\n",
       "      <td>2011-03-30 09:30:00-04:00</td>\n",
       "      <td>0.900</td>\n",
       "    </tr>\n",
       "    <tr>\n",
       "      <th>2011-04-06 08:30:00-05:00</th>\n",
       "      <td>6-Apr-11</td>\n",
       "      <td>9:30</td>\n",
       "      <td>2.000M</td>\n",
       "      <td>1.300M</td>\n",
       "      <td>2.900M</td>\n",
       "      <td>2011-04-06 09:30:00</td>\n",
       "      <td>2011-04-06 09:30:00-04:00</td>\n",
       "      <td>0.700</td>\n",
       "    </tr>\n",
       "    <tr>\n",
       "      <th>...</th>\n",
       "      <td>...</td>\n",
       "      <td>...</td>\n",
       "      <td>...</td>\n",
       "      <td>...</td>\n",
       "      <td>...</td>\n",
       "      <td>...</td>\n",
       "      <td>...</td>\n",
       "      <td>...</td>\n",
       "    </tr>\n",
       "    <tr>\n",
       "      <th>2025-02-12 09:30:00-06:00</th>\n",
       "      <td>12-Feb-25</td>\n",
       "      <td>10:30</td>\n",
       "      <td>4.070M</td>\n",
       "      <td>2.400M</td>\n",
       "      <td>8.664M</td>\n",
       "      <td>2025-02-12 10:30:00</td>\n",
       "      <td>2025-02-12 10:30:00-05:00</td>\n",
       "      <td>1.670</td>\n",
       "    </tr>\n",
       "    <tr>\n",
       "      <th>2025-02-20 11:00:00-06:00</th>\n",
       "      <td>20-Feb-25</td>\n",
       "      <td>12:00</td>\n",
       "      <td>4.633M</td>\n",
       "      <td>3.200M</td>\n",
       "      <td>4.070M</td>\n",
       "      <td>2025-02-20 12:00:00</td>\n",
       "      <td>2025-02-20 12:00:00-05:00</td>\n",
       "      <td>1.433</td>\n",
       "    </tr>\n",
       "    <tr>\n",
       "      <th>2025-02-26 09:00:00-06:00</th>\n",
       "      <td>26-Feb-25</td>\n",
       "      <td>10:00</td>\n",
       "      <td>-2.332M</td>\n",
       "      <td>2.500M</td>\n",
       "      <td>4.633M</td>\n",
       "      <td>2025-02-26 10:00:00</td>\n",
       "      <td>2025-02-26 10:00:00-05:00</td>\n",
       "      <td>-4.832</td>\n",
       "    </tr>\n",
       "    <tr>\n",
       "      <th>2025-03-05 09:30:00-06:00</th>\n",
       "      <td>5-Mar-25</td>\n",
       "      <td>10:30</td>\n",
       "      <td>3.614M</td>\n",
       "      <td>0.600M</td>\n",
       "      <td>-2.332M</td>\n",
       "      <td>2025-03-05 10:30:00</td>\n",
       "      <td>2025-03-05 10:30:00-05:00</td>\n",
       "      <td>3.014</td>\n",
       "    </tr>\n",
       "    <tr>\n",
       "      <th>2025-03-12 07:30:00-05:00</th>\n",
       "      <td>12-Mar-25</td>\n",
       "      <td>8:30</td>\n",
       "      <td>NaN</td>\n",
       "      <td>NaN</td>\n",
       "      <td>3.614M</td>\n",
       "      <td>2025-03-12 08:30:00</td>\n",
       "      <td>2025-03-12 08:30:00-04:00</td>\n",
       "      <td>NaN</td>\n",
       "    </tr>\n",
       "  </tbody>\n",
       "</table>\n",
       "<p>732 rows × 8 columns</p>\n",
       "</div>"
      ],
      "text/plain": [
       "                          Release Date   Time   Actual Forecast Previous  \\\n",
       "Release_Datetime_CST                                                       \n",
       "2011-03-09 09:30:00-06:00     9-Mar-11  10:30   2.500M   1.100M  -0.400M   \n",
       "2011-03-16 08:30:00-05:00    16-Mar-11   9:30   1.700M   1.800M   2.500M   \n",
       "2011-03-23 08:30:00-05:00    23-Mar-11   9:30   2.100M   2.000M   1.700M   \n",
       "2011-03-30 08:30:00-05:00    30-Mar-11   9:30   2.900M   2.000M   2.100M   \n",
       "2011-04-06 08:30:00-05:00     6-Apr-11   9:30   2.000M   1.300M   2.900M   \n",
       "...                                ...    ...      ...      ...      ...   \n",
       "2025-02-12 09:30:00-06:00    12-Feb-25  10:30   4.070M   2.400M   8.664M   \n",
       "2025-02-20 11:00:00-06:00    20-Feb-25  12:00   4.633M   3.200M   4.070M   \n",
       "2025-02-26 09:00:00-06:00    26-Feb-25  10:00  -2.332M   2.500M   4.633M   \n",
       "2025-03-05 09:30:00-06:00     5-Mar-25  10:30   3.614M   0.600M  -2.332M   \n",
       "2025-03-12 07:30:00-05:00    12-Mar-25   8:30      NaN      NaN   3.614M   \n",
       "\n",
       "                             Release_Datetime      Release_Datetime_EST  \\\n",
       "Release_Datetime_CST                                                      \n",
       "2011-03-09 09:30:00-06:00 2011-03-09 10:30:00 2011-03-09 10:30:00-05:00   \n",
       "2011-03-16 08:30:00-05:00 2011-03-16 09:30:00 2011-03-16 09:30:00-04:00   \n",
       "2011-03-23 08:30:00-05:00 2011-03-23 09:30:00 2011-03-23 09:30:00-04:00   \n",
       "2011-03-30 08:30:00-05:00 2011-03-30 09:30:00 2011-03-30 09:30:00-04:00   \n",
       "2011-04-06 08:30:00-05:00 2011-04-06 09:30:00 2011-04-06 09:30:00-04:00   \n",
       "...                                       ...                       ...   \n",
       "2025-02-12 09:30:00-06:00 2025-02-12 10:30:00 2025-02-12 10:30:00-05:00   \n",
       "2025-02-20 11:00:00-06:00 2025-02-20 12:00:00 2025-02-20 12:00:00-05:00   \n",
       "2025-02-26 09:00:00-06:00 2025-02-26 10:00:00 2025-02-26 10:00:00-05:00   \n",
       "2025-03-05 09:30:00-06:00 2025-03-05 10:30:00 2025-03-05 10:30:00-05:00   \n",
       "2025-03-12 07:30:00-05:00 2025-03-12 08:30:00 2025-03-12 08:30:00-04:00   \n",
       "\n",
       "                           supply_surprise  \n",
       "Release_Datetime_CST                        \n",
       "2011-03-09 09:30:00-06:00            1.400  \n",
       "2011-03-16 08:30:00-05:00           -0.100  \n",
       "2011-03-23 08:30:00-05:00            0.100  \n",
       "2011-03-30 08:30:00-05:00            0.900  \n",
       "2011-04-06 08:30:00-05:00            0.700  \n",
       "...                                    ...  \n",
       "2025-02-12 09:30:00-06:00            1.670  \n",
       "2025-02-20 11:00:00-06:00            1.433  \n",
       "2025-02-26 09:00:00-06:00           -4.832  \n",
       "2025-03-05 09:30:00-06:00            3.014  \n",
       "2025-03-12 07:30:00-05:00              NaN  \n",
       "\n",
       "[732 rows x 8 columns]"
      ]
     },
     "metadata": {},
     "output_type": "display_data"
    }
   ],
   "source": [
    "display(min_WTI)\n",
    "display(icom_eia_forecasts)"
   ]
  },
  {
   "cell_type": "code",
   "execution_count": 59,
   "metadata": {},
   "outputs": [
    {
     "data": {
      "text/plain": [
       "np.int64(3840660)"
      ]
     },
     "metadata": {},
     "output_type": "display_data"
    },
    {
     "name": "stdout",
     "output_type": "stream",
     "text": [
      "Original min_WTI date range: 2011-03-07 to 2025-03-12\n",
      "Filtered min_WTI date range (EIA days removed): 2011-03-07 to 2025-03-11\n",
      "Original min_WTI rows: 4811559\n",
      "Filtered min_WTI rows (EIA days removed): 3840660\n"
     ]
    },
    {
     "data": {
      "text/html": [
       "<div>\n",
       "<style scoped>\n",
       "    .dataframe tbody tr th:only-of-type {\n",
       "        vertical-align: middle;\n",
       "    }\n",
       "\n",
       "    .dataframe tbody tr th {\n",
       "        vertical-align: top;\n",
       "    }\n",
       "\n",
       "    .dataframe thead th {\n",
       "        text-align: right;\n",
       "    }\n",
       "</style>\n",
       "<table border=\"1\" class=\"dataframe\">\n",
       "  <thead>\n",
       "    <tr style=\"text-align: right;\">\n",
       "      <th></th>\n",
       "      <th>Datetime_CST</th>\n",
       "      <th>Date</th>\n",
       "      <th>Time</th>\n",
       "      <th>Open</th>\n",
       "      <th>High</th>\n",
       "      <th>Low</th>\n",
       "      <th>Close</th>\n",
       "      <th>Volume</th>\n",
       "      <th>Datetime</th>\n",
       "      <th>Percent_Change</th>\n",
       "    </tr>\n",
       "  </thead>\n",
       "  <tbody>\n",
       "    <tr>\n",
       "      <th>0</th>\n",
       "      <td>2011-03-07 23:59:00-06:00</td>\n",
       "      <td>07/03/2011</td>\n",
       "      <td>23:59:00</td>\n",
       "      <td>104.74</td>\n",
       "      <td>104.77</td>\n",
       "      <td>104.73</td>\n",
       "      <td>104.73</td>\n",
       "      <td>18</td>\n",
       "      <td>2011-03-07 23:59:00</td>\n",
       "      <td>NaN</td>\n",
       "    </tr>\n",
       "    <tr>\n",
       "      <th>1</th>\n",
       "      <td>2011-03-08 00:00:00-06:00</td>\n",
       "      <td>08/03/2011</td>\n",
       "      <td>00:00:00</td>\n",
       "      <td>104.74</td>\n",
       "      <td>104.82</td>\n",
       "      <td>104.74</td>\n",
       "      <td>104.81</td>\n",
       "      <td>34</td>\n",
       "      <td>2011-03-08 00:00:00</td>\n",
       "      <td>0.076387</td>\n",
       "    </tr>\n",
       "    <tr>\n",
       "      <th>2</th>\n",
       "      <td>2011-03-08 00:01:00-06:00</td>\n",
       "      <td>08/03/2011</td>\n",
       "      <td>00:01:00</td>\n",
       "      <td>104.82</td>\n",
       "      <td>104.84</td>\n",
       "      <td>104.82</td>\n",
       "      <td>104.82</td>\n",
       "      <td>12</td>\n",
       "      <td>2011-03-08 00:01:00</td>\n",
       "      <td>0.009541</td>\n",
       "    </tr>\n",
       "    <tr>\n",
       "      <th>3</th>\n",
       "      <td>2011-03-08 00:02:00-06:00</td>\n",
       "      <td>08/03/2011</td>\n",
       "      <td>00:02:00</td>\n",
       "      <td>104.81</td>\n",
       "      <td>104.81</td>\n",
       "      <td>104.73</td>\n",
       "      <td>104.75</td>\n",
       "      <td>20</td>\n",
       "      <td>2011-03-08 00:02:00</td>\n",
       "      <td>-0.066781</td>\n",
       "    </tr>\n",
       "    <tr>\n",
       "      <th>4</th>\n",
       "      <td>2011-03-08 00:03:00-06:00</td>\n",
       "      <td>08/03/2011</td>\n",
       "      <td>00:03:00</td>\n",
       "      <td>104.74</td>\n",
       "      <td>104.76</td>\n",
       "      <td>104.71</td>\n",
       "      <td>104.76</td>\n",
       "      <td>25</td>\n",
       "      <td>2011-03-08 00:03:00</td>\n",
       "      <td>0.009547</td>\n",
       "    </tr>\n",
       "    <tr>\n",
       "      <th>...</th>\n",
       "      <td>...</td>\n",
       "      <td>...</td>\n",
       "      <td>...</td>\n",
       "      <td>...</td>\n",
       "      <td>...</td>\n",
       "      <td>...</td>\n",
       "      <td>...</td>\n",
       "      <td>...</td>\n",
       "      <td>...</td>\n",
       "      <td>...</td>\n",
       "    </tr>\n",
       "    <tr>\n",
       "      <th>4811553</th>\n",
       "      <td>2025-03-11 23:53:00-05:00</td>\n",
       "      <td>11/03/2025</td>\n",
       "      <td>23:53:00</td>\n",
       "      <td>66.75</td>\n",
       "      <td>66.76</td>\n",
       "      <td>66.74</td>\n",
       "      <td>66.75</td>\n",
       "      <td>23</td>\n",
       "      <td>2025-03-11 23:53:00</td>\n",
       "      <td>0.000000</td>\n",
       "    </tr>\n",
       "    <tr>\n",
       "      <th>4811554</th>\n",
       "      <td>2025-03-11 23:54:00-05:00</td>\n",
       "      <td>11/03/2025</td>\n",
       "      <td>23:54:00</td>\n",
       "      <td>66.75</td>\n",
       "      <td>66.75</td>\n",
       "      <td>66.75</td>\n",
       "      <td>66.75</td>\n",
       "      <td>13</td>\n",
       "      <td>2025-03-11 23:54:00</td>\n",
       "      <td>0.000000</td>\n",
       "    </tr>\n",
       "    <tr>\n",
       "      <th>4811555</th>\n",
       "      <td>2025-03-11 23:56:00-05:00</td>\n",
       "      <td>11/03/2025</td>\n",
       "      <td>23:56:00</td>\n",
       "      <td>66.75</td>\n",
       "      <td>66.75</td>\n",
       "      <td>66.74</td>\n",
       "      <td>66.74</td>\n",
       "      <td>3</td>\n",
       "      <td>2025-03-11 23:56:00</td>\n",
       "      <td>-0.014981</td>\n",
       "    </tr>\n",
       "    <tr>\n",
       "      <th>4811556</th>\n",
       "      <td>2025-03-11 23:58:00-05:00</td>\n",
       "      <td>11/03/2025</td>\n",
       "      <td>23:58:00</td>\n",
       "      <td>66.75</td>\n",
       "      <td>66.75</td>\n",
       "      <td>66.75</td>\n",
       "      <td>66.75</td>\n",
       "      <td>3</td>\n",
       "      <td>2025-03-11 23:58:00</td>\n",
       "      <td>0.014984</td>\n",
       "    </tr>\n",
       "    <tr>\n",
       "      <th>4811557</th>\n",
       "      <td>2025-03-11 23:59:00-05:00</td>\n",
       "      <td>11/03/2025</td>\n",
       "      <td>23:59:00</td>\n",
       "      <td>66.75</td>\n",
       "      <td>66.75</td>\n",
       "      <td>66.75</td>\n",
       "      <td>66.75</td>\n",
       "      <td>1</td>\n",
       "      <td>2025-03-11 23:59:00</td>\n",
       "      <td>0.000000</td>\n",
       "    </tr>\n",
       "  </tbody>\n",
       "</table>\n",
       "<p>3840660 rows × 10 columns</p>\n",
       "</div>"
      ],
      "text/plain": [
       "                     Datetime_CST        Date      Time    Open    High  \\\n",
       "0       2011-03-07 23:59:00-06:00  07/03/2011  23:59:00  104.74  104.77   \n",
       "1       2011-03-08 00:00:00-06:00  08/03/2011  00:00:00  104.74  104.82   \n",
       "2       2011-03-08 00:01:00-06:00  08/03/2011  00:01:00  104.82  104.84   \n",
       "3       2011-03-08 00:02:00-06:00  08/03/2011  00:02:00  104.81  104.81   \n",
       "4       2011-03-08 00:03:00-06:00  08/03/2011  00:03:00  104.74  104.76   \n",
       "...                           ...         ...       ...     ...     ...   \n",
       "4811553 2025-03-11 23:53:00-05:00  11/03/2025  23:53:00   66.75   66.76   \n",
       "4811554 2025-03-11 23:54:00-05:00  11/03/2025  23:54:00   66.75   66.75   \n",
       "4811555 2025-03-11 23:56:00-05:00  11/03/2025  23:56:00   66.75   66.75   \n",
       "4811556 2025-03-11 23:58:00-05:00  11/03/2025  23:58:00   66.75   66.75   \n",
       "4811557 2025-03-11 23:59:00-05:00  11/03/2025  23:59:00   66.75   66.75   \n",
       "\n",
       "            Low   Close  Volume            Datetime  Percent_Change  \n",
       "0        104.73  104.73      18 2011-03-07 23:59:00             NaN  \n",
       "1        104.74  104.81      34 2011-03-08 00:00:00        0.076387  \n",
       "2        104.82  104.82      12 2011-03-08 00:01:00        0.009541  \n",
       "3        104.73  104.75      20 2011-03-08 00:02:00       -0.066781  \n",
       "4        104.71  104.76      25 2011-03-08 00:03:00        0.009547  \n",
       "...         ...     ...     ...                 ...             ...  \n",
       "4811553   66.74   66.75      23 2025-03-11 23:53:00        0.000000  \n",
       "4811554   66.75   66.75      13 2025-03-11 23:54:00        0.000000  \n",
       "4811555   66.74   66.74       3 2025-03-11 23:56:00       -0.014981  \n",
       "4811556   66.75   66.75       3 2025-03-11 23:58:00        0.014984  \n",
       "4811557   66.75   66.75       1 2025-03-11 23:59:00        0.000000  \n",
       "\n",
       "[3840660 rows x 10 columns]"
      ]
     },
     "metadata": {},
     "output_type": "display_data"
    }
   ],
   "source": [
    "\n",
    "# 1. Extract the *dates* of EIA releases from 'icom_eia_forecasts'\n",
    "eia_release_dates = icom_eia_forecasts.reset_index()['Release_Datetime_CST'].dt.date\n",
    "# 2. Extract the *dates* from 'min_WTI['Datetime_Chicago_Aware']'\n",
    "min_wti_dates = min_WTI.reset_index()['Datetime_CST'].dt.date\n",
    "# 3. Identify dates in 'min_WTI' that are *not* in the EIA release dates list\n",
    "#    We use `.isin()` to check if each date in 'min_wti_dates' is present in 'eia_release_dates'\n",
    "#    Then we negate it with `~` to get the dates that are *not* in the EIA release dates.\n",
    "mask_non_eia_days = ~min_wti_dates.isin(eia_release_dates)\n",
    "display(mask_non_eia_days.sum())\n",
    "\n",
    "# 4. Apply the mask to filter 'min_WTI'\n",
    "min_WTI_no_eia_days = min_WTI.reset_index()[mask_non_eia_days].copy() # Use .copy() to avoid SettingWithCopyWarning if you modify later\n",
    "\n",
    "# 5. (Optional) Verify the filtering - check the date ranges of the original and filtered dataframes\n",
    "print(\"Original min_WTI date range:\", min_WTI.reset_index()['Datetime_CST'].dt.date.min(), \"to\", min_WTI.reset_index()['Datetime_CST'].dt.date.max())\n",
    "print(\"Filtered min_WTI date range (EIA days removed):\", min_WTI_no_eia_days['Datetime_CST'].dt.date.min(), \"to\", min_WTI_no_eia_days['Datetime_CST'].dt.date.max())\n",
    "\n",
    "# 6. (Optional) Count rows before and after filtering\n",
    "print(f\"Original min_WTI rows: {len(min_WTI)}\")\n",
    "print(f\"Filtered min_WTI rows (EIA days removed): {len(min_WTI_no_eia_days)}\")\n",
    "\n",
    "# Now 'min_WTI_no_eia_days' contains your minute-resolution WTI data,\n",
    "# with all rows from days that had an EIA release removed.\n",
    "\n",
    "# You can proceed with your analysis (e.g., recalculating percentage price changes, histograms)\n",
    "# using 'min_WTI_no_eia_days' instead of 'min_WTI'.\n",
    "display(min_WTI_no_eia_days)"
   ]
  },
  {
   "cell_type": "code",
   "execution_count": 60,
   "metadata": {},
   "outputs": [
    {
     "name": "stdout",
     "output_type": "stream",
     "text": [
      "                Datetime_CST      Release_Datetime_CST  Actual Forecast\n",
      "0  2011-03-07 23:59:00-06:00 2011-03-09 09:30:00-06:00  2.500M   1.100M\n",
      "1  2011-03-08 00:00:00-06:00 2011-03-09 09:30:00-06:00  2.500M   1.100M\n",
      "2  2011-03-08 00:01:00-06:00 2011-03-09 09:30:00-06:00  2.500M   1.100M\n",
      "3  2011-03-08 00:02:00-06:00 2011-03-09 09:30:00-06:00  2.500M   1.100M\n",
      "4  2011-03-08 00:03:00-06:00 2011-03-09 09:30:00-06:00  2.500M   1.100M\n",
      "5  2011-03-08 00:04:00-06:00 2011-03-09 09:30:00-06:00  2.500M   1.100M\n",
      "6  2011-03-08 00:05:00-06:00 2011-03-09 09:30:00-06:00  2.500M   1.100M\n",
      "7  2011-03-08 00:06:00-06:00 2011-03-09 09:30:00-06:00  2.500M   1.100M\n",
      "8  2011-03-08 00:07:00-06:00 2011-03-09 09:30:00-06:00  2.500M   1.100M\n",
      "9  2011-03-08 00:08:00-06:00 2011-03-09 09:30:00-06:00  2.500M   1.100M\n",
      "10 2011-03-08 00:09:00-06:00 2011-03-09 09:30:00-06:00  2.500M   1.100M\n",
      "11 2011-03-08 00:10:00-06:00 2011-03-09 09:30:00-06:00  2.500M   1.100M\n",
      "12 2011-03-08 00:11:00-06:00 2011-03-09 09:30:00-06:00  2.500M   1.100M\n",
      "13 2011-03-08 00:12:00-06:00 2011-03-09 09:30:00-06:00  2.500M   1.100M\n",
      "14 2011-03-08 00:13:00-06:00 2011-03-09 09:30:00-06:00  2.500M   1.100M\n",
      "15 2011-03-08 00:14:00-06:00 2011-03-09 09:30:00-06:00  2.500M   1.100M\n",
      "16 2011-03-08 00:15:00-06:00 2011-03-09 09:30:00-06:00  2.500M   1.100M\n",
      "17 2011-03-08 00:16:00-06:00 2011-03-09 09:30:00-06:00  2.500M   1.100M\n",
      "18 2011-03-08 00:17:00-06:00 2011-03-09 09:30:00-06:00  2.500M   1.100M\n",
      "19 2011-03-08 00:18:00-06:00 2011-03-09 09:30:00-06:00  2.500M   1.100M\n",
      "                           index        Date    Time_x    Open    High  \\\n",
      "Datetime_CST                                                             \n",
      "2011-03-07 23:59:00-06:00      0  07/03/2011  23:59:00  104.74  104.77   \n",
      "2011-03-08 00:00:00-06:00      1  08/03/2011  00:00:00  104.74  104.82   \n",
      "2011-03-08 00:01:00-06:00      2  08/03/2011  00:01:00  104.82  104.84   \n",
      "2011-03-08 00:02:00-06:00      3  08/03/2011  00:02:00  104.81  104.81   \n",
      "2011-03-08 00:03:00-06:00      4  08/03/2011  00:03:00  104.74  104.76   \n",
      "2011-03-08 00:04:00-06:00      5  08/03/2011  00:04:00  104.74  104.74   \n",
      "2011-03-08 00:05:00-06:00      6  08/03/2011  00:05:00  104.71  104.71   \n",
      "2011-03-08 00:06:00-06:00      7  08/03/2011  00:06:00  104.67  104.67   \n",
      "2011-03-08 00:07:00-06:00      8  08/03/2011  00:07:00  104.65  104.67   \n",
      "2011-03-08 00:08:00-06:00      9  08/03/2011  00:08:00  104.62  104.67   \n",
      "2011-03-08 00:09:00-06:00     10  08/03/2011  00:09:00  104.63  104.64   \n",
      "2011-03-08 00:10:00-06:00     11  08/03/2011  00:10:00  104.60  104.60   \n",
      "2011-03-08 00:11:00-06:00     12  08/03/2011  00:11:00  104.58  104.65   \n",
      "2011-03-08 00:12:00-06:00     13  08/03/2011  00:12:00  104.65  104.66   \n",
      "2011-03-08 00:13:00-06:00     14  08/03/2011  00:13:00  104.54  104.57   \n",
      "2011-03-08 00:14:00-06:00     15  08/03/2011  00:14:00  104.54  104.54   \n",
      "2011-03-08 00:15:00-06:00     16  08/03/2011  00:15:00  104.36  104.37   \n",
      "2011-03-08 00:16:00-06:00     17  08/03/2011  00:16:00  104.29  104.30   \n",
      "2011-03-08 00:17:00-06:00     18  08/03/2011  00:17:00  104.15  104.17   \n",
      "2011-03-08 00:18:00-06:00     19  08/03/2011  00:18:00  104.08  104.14   \n",
      "2011-03-08 00:19:00-06:00     20  08/03/2011  00:19:00  103.84  103.95   \n",
      "2011-03-08 00:20:00-06:00     21  08/03/2011  00:20:00  103.90  103.94   \n",
      "2011-03-08 00:21:00-06:00     22  08/03/2011  00:21:00  103.94  103.97   \n",
      "2011-03-08 00:22:00-06:00     23  08/03/2011  00:22:00  103.92  104.13   \n",
      "2011-03-08 00:23:00-06:00     24  08/03/2011  00:23:00  103.93  103.99   \n",
      "2011-03-08 00:24:00-06:00     25  08/03/2011  00:24:00  103.93  103.93   \n",
      "2011-03-08 00:25:00-06:00     26  08/03/2011  00:25:00  103.90  103.97   \n",
      "2011-03-08 00:26:00-06:00     27  08/03/2011  00:26:00  103.97  103.97   \n",
      "2011-03-08 00:27:00-06:00     28  08/03/2011  00:27:00  103.81  103.87   \n",
      "2011-03-08 00:28:00-06:00     29  08/03/2011  00:28:00  103.84  103.92   \n",
      "2011-03-08 00:29:00-06:00     30  08/03/2011  00:29:00  103.89  103.98   \n",
      "2011-03-08 00:30:00-06:00     31  08/03/2011  00:30:00  103.91  103.95   \n",
      "2011-03-08 00:31:00-06:00     32  08/03/2011  00:31:00  103.89  103.93   \n",
      "2011-03-08 00:32:00-06:00     33  08/03/2011  00:32:00  103.94  103.94   \n",
      "2011-03-08 00:33:00-06:00     34  08/03/2011  00:33:00  103.93  103.95   \n",
      "2011-03-08 00:34:00-06:00     35  08/03/2011  00:34:00  103.92  104.00   \n",
      "2011-03-08 00:35:00-06:00     36  08/03/2011  00:35:00  103.99  104.11   \n",
      "2011-03-08 00:36:00-06:00     37  08/03/2011  00:36:00  104.08  104.10   \n",
      "2011-03-08 00:37:00-06:00     38  08/03/2011  00:37:00  104.03  104.06   \n",
      "2011-03-08 00:38:00-06:00     39  08/03/2011  00:38:00  104.07  104.09   \n",
      "2011-03-08 00:39:00-06:00     40  08/03/2011  00:39:00  104.03  104.08   \n",
      "2011-03-08 00:40:00-06:00     41  08/03/2011  00:40:00  104.07  104.10   \n",
      "2011-03-08 00:41:00-06:00     42  08/03/2011  00:41:00  104.12  104.14   \n",
      "2011-03-08 00:42:00-06:00     43  08/03/2011  00:42:00  104.14  104.26   \n",
      "2011-03-08 00:43:00-06:00     44  08/03/2011  00:43:00  104.22  104.26   \n",
      "2011-03-08 00:44:00-06:00     45  08/03/2011  00:44:00  104.21  104.24   \n",
      "2011-03-08 00:45:00-06:00     46  08/03/2011  00:45:00  104.20  104.21   \n",
      "2011-03-08 00:46:00-06:00     47  08/03/2011  00:46:00  104.13  104.21   \n",
      "2011-03-08 00:47:00-06:00     48  08/03/2011  00:47:00  104.05  104.06   \n",
      "2011-03-08 00:48:00-06:00     49  08/03/2011  00:48:00  103.96  104.07   \n",
      "\n",
      "                              Low   Close  Volume            Datetime  \\\n",
      "Datetime_CST                                                            \n",
      "2011-03-07 23:59:00-06:00  104.73  104.73      18 2011-03-07 23:59:00   \n",
      "2011-03-08 00:00:00-06:00  104.74  104.81      34 2011-03-08 00:00:00   \n",
      "2011-03-08 00:01:00-06:00  104.82  104.82      12 2011-03-08 00:01:00   \n",
      "2011-03-08 00:02:00-06:00  104.73  104.75      20 2011-03-08 00:02:00   \n",
      "2011-03-08 00:03:00-06:00  104.71  104.76      25 2011-03-08 00:03:00   \n",
      "2011-03-08 00:04:00-06:00  104.70  104.70      22 2011-03-08 00:04:00   \n",
      "2011-03-08 00:05:00-06:00  104.67  104.69      26 2011-03-08 00:05:00   \n",
      "2011-03-08 00:06:00-06:00  104.64  104.64      15 2011-03-08 00:06:00   \n",
      "2011-03-08 00:07:00-06:00  104.62  104.62      20 2011-03-08 00:07:00   \n",
      "2011-03-08 00:08:00-06:00  104.62  104.63      29 2011-03-08 00:08:00   \n",
      "2011-03-08 00:09:00-06:00  104.60  104.60       9 2011-03-08 00:09:00   \n",
      "2011-03-08 00:10:00-06:00  104.55  104.56      31 2011-03-08 00:10:00   \n",
      "2011-03-08 00:11:00-06:00  104.58  104.65      25 2011-03-08 00:11:00   \n",
      "2011-03-08 00:12:00-06:00  104.54  104.54      62 2011-03-08 00:12:00   \n",
      "2011-03-08 00:13:00-06:00  104.53  104.55      31 2011-03-08 00:13:00   \n",
      "2011-03-08 00:14:00-06:00  104.32  104.34     478 2011-03-08 00:14:00   \n",
      "2011-03-08 00:15:00-06:00  104.28  104.29     301 2011-03-08 00:15:00   \n",
      "2011-03-08 00:16:00-06:00  104.15  104.15     409 2011-03-08 00:16:00   \n",
      "2011-03-08 00:17:00-06:00  104.07  104.09     208 2011-03-08 00:17:00   \n",
      "2011-03-08 00:18:00-06:00  103.75  103.85     906 2011-03-08 00:18:00   \n",
      "2011-03-08 00:19:00-06:00  103.82  103.87     229 2011-03-08 00:19:00   \n",
      "2011-03-08 00:20:00-06:00  103.85  103.94     111 2011-03-08 00:20:00   \n",
      "2011-03-08 00:21:00-06:00  103.93  103.93      76 2011-03-08 00:21:00   \n",
      "2011-03-08 00:22:00-06:00  103.91  103.93     269 2011-03-08 00:22:00   \n",
      "2011-03-08 00:23:00-06:00  103.92  103.95      48 2011-03-08 00:23:00   \n",
      "2011-03-08 00:24:00-06:00  103.86  103.89     133 2011-03-08 00:24:00   \n",
      "2011-03-08 00:25:00-06:00  103.82  103.97      99 2011-03-08 00:25:00   \n",
      "2011-03-08 00:26:00-06:00  103.77  103.80     187 2011-03-08 00:26:00   \n",
      "2011-03-08 00:27:00-06:00  103.77  103.82      55 2011-03-08 00:27:00   \n",
      "2011-03-08 00:28:00-06:00  103.84  103.90      37 2011-03-08 00:28:00   \n",
      "2011-03-08 00:29:00-06:00  103.89  103.92      65 2011-03-08 00:29:00   \n",
      "2011-03-08 00:30:00-06:00  103.89  103.89      26 2011-03-08 00:30:00   \n",
      "2011-03-08 00:31:00-06:00  103.88  103.92      34 2011-03-08 00:31:00   \n",
      "2011-03-08 00:32:00-06:00  103.86  103.89      64 2011-03-08 00:32:00   \n",
      "2011-03-08 00:33:00-06:00  103.91  103.94      23 2011-03-08 00:33:00   \n",
      "2011-03-08 00:34:00-06:00  103.88  104.00      92 2011-03-08 00:34:00   \n",
      "2011-03-08 00:35:00-06:00  103.97  104.10     132 2011-03-08 00:35:00   \n",
      "2011-03-08 00:36:00-06:00  104.02  104.02      27 2011-03-08 00:36:00   \n",
      "2011-03-08 00:37:00-06:00  104.03  104.05      20 2011-03-08 00:37:00   \n",
      "2011-03-08 00:38:00-06:00  104.03  104.03      31 2011-03-08 00:38:00   \n",
      "2011-03-08 00:39:00-06:00  103.98  104.07      39 2011-03-08 00:39:00   \n",
      "2011-03-08 00:40:00-06:00  104.06  104.10      32 2011-03-08 00:40:00   \n",
      "2011-03-08 00:41:00-06:00  104.11  104.14      39 2011-03-08 00:41:00   \n",
      "2011-03-08 00:42:00-06:00  104.13  104.21     170 2011-03-08 00:42:00   \n",
      "2011-03-08 00:43:00-06:00  104.18  104.20      90 2011-03-08 00:43:00   \n",
      "2011-03-08 00:44:00-06:00  104.19  104.19      33 2011-03-08 00:44:00   \n",
      "2011-03-08 00:45:00-06:00  104.14  104.14      37 2011-03-08 00:45:00   \n",
      "2011-03-08 00:46:00-06:00  104.05  104.05      76 2011-03-08 00:46:00   \n",
      "2011-03-08 00:47:00-06:00  103.95  103.97      62 2011-03-08 00:47:00   \n",
      "2011-03-08 00:48:00-06:00  103.95  104.05      65 2011-03-08 00:48:00   \n",
      "\n",
      "                           Percent_Change      Release_Datetime_CST  \\\n",
      "Datetime_CST                                                          \n",
      "2011-03-07 23:59:00-06:00             NaN 2011-03-09 09:30:00-06:00   \n",
      "2011-03-08 00:00:00-06:00        0.076387 2011-03-09 09:30:00-06:00   \n",
      "2011-03-08 00:01:00-06:00        0.009541 2011-03-09 09:30:00-06:00   \n",
      "2011-03-08 00:02:00-06:00       -0.066781 2011-03-09 09:30:00-06:00   \n",
      "2011-03-08 00:03:00-06:00        0.009547 2011-03-09 09:30:00-06:00   \n",
      "2011-03-08 00:04:00-06:00       -0.057274 2011-03-09 09:30:00-06:00   \n",
      "2011-03-08 00:05:00-06:00       -0.009551 2011-03-09 09:30:00-06:00   \n",
      "2011-03-08 00:06:00-06:00       -0.047760 2011-03-09 09:30:00-06:00   \n",
      "2011-03-08 00:07:00-06:00       -0.019113 2011-03-09 09:30:00-06:00   \n",
      "2011-03-08 00:08:00-06:00        0.009558 2011-03-09 09:30:00-06:00   \n",
      "2011-03-08 00:09:00-06:00       -0.028672 2011-03-09 09:30:00-06:00   \n",
      "2011-03-08 00:10:00-06:00       -0.038241 2011-03-09 09:30:00-06:00   \n",
      "2011-03-08 00:11:00-06:00        0.086075 2011-03-09 09:30:00-06:00   \n",
      "2011-03-08 00:12:00-06:00       -0.105112 2011-03-09 09:30:00-06:00   \n",
      "2011-03-08 00:13:00-06:00        0.009566 2011-03-09 09:30:00-06:00   \n",
      "2011-03-08 00:14:00-06:00       -0.200861 2011-03-09 09:30:00-06:00   \n",
      "2011-03-08 00:15:00-06:00       -0.047920 2011-03-09 09:30:00-06:00   \n",
      "2011-03-08 00:16:00-06:00       -0.134241 2011-03-09 09:30:00-06:00   \n",
      "2011-03-08 00:17:00-06:00       -0.057609 2011-03-09 09:30:00-06:00   \n",
      "2011-03-08 00:18:00-06:00       -0.230570 2011-03-09 09:30:00-06:00   \n",
      "2011-03-08 00:19:00-06:00        0.019259 2011-03-09 09:30:00-06:00   \n",
      "2011-03-08 00:20:00-06:00        0.067392 2011-03-09 09:30:00-06:00   \n",
      "2011-03-08 00:21:00-06:00       -0.009621 2011-03-09 09:30:00-06:00   \n",
      "2011-03-08 00:22:00-06:00        0.000000 2011-03-09 09:30:00-06:00   \n",
      "2011-03-08 00:23:00-06:00        0.019244 2011-03-09 09:30:00-06:00   \n",
      "2011-03-08 00:24:00-06:00       -0.057720 2011-03-09 09:30:00-06:00   \n",
      "2011-03-08 00:25:00-06:00        0.077005 2011-03-09 09:30:00-06:00   \n",
      "2011-03-08 00:26:00-06:00       -0.163509 2011-03-09 09:30:00-06:00   \n",
      "2011-03-08 00:27:00-06:00        0.019268 2011-03-09 09:30:00-06:00   \n",
      "2011-03-08 00:28:00-06:00        0.077056 2011-03-09 09:30:00-06:00   \n",
      "2011-03-08 00:29:00-06:00        0.019249 2011-03-09 09:30:00-06:00   \n",
      "2011-03-08 00:30:00-06:00       -0.028868 2011-03-09 09:30:00-06:00   \n",
      "2011-03-08 00:31:00-06:00        0.028877 2011-03-09 09:30:00-06:00   \n",
      "2011-03-08 00:32:00-06:00       -0.028868 2011-03-09 09:30:00-06:00   \n",
      "2011-03-08 00:33:00-06:00        0.048128 2011-03-09 09:30:00-06:00   \n",
      "2011-03-08 00:34:00-06:00        0.057726 2011-03-09 09:30:00-06:00   \n",
      "2011-03-08 00:35:00-06:00        0.096154 2011-03-09 09:30:00-06:00   \n",
      "2011-03-08 00:36:00-06:00       -0.076849 2011-03-09 09:30:00-06:00   \n",
      "2011-03-08 00:37:00-06:00        0.028841 2011-03-09 09:30:00-06:00   \n",
      "2011-03-08 00:38:00-06:00       -0.019222 2011-03-09 09:30:00-06:00   \n",
      "2011-03-08 00:39:00-06:00        0.038450 2011-03-09 09:30:00-06:00   \n",
      "2011-03-08 00:40:00-06:00        0.028827 2011-03-09 09:30:00-06:00   \n",
      "2011-03-08 00:41:00-06:00        0.038425 2011-03-09 09:30:00-06:00   \n",
      "2011-03-08 00:42:00-06:00        0.067217 2011-03-09 09:30:00-06:00   \n",
      "2011-03-08 00:43:00-06:00       -0.009596 2011-03-09 09:30:00-06:00   \n",
      "2011-03-08 00:44:00-06:00       -0.009597 2011-03-09 09:30:00-06:00   \n",
      "2011-03-08 00:45:00-06:00       -0.047989 2011-03-09 09:30:00-06:00   \n",
      "2011-03-08 00:46:00-06:00       -0.086422 2011-03-09 09:30:00-06:00   \n",
      "2011-03-08 00:47:00-06:00       -0.076886 2011-03-09 09:30:00-06:00   \n",
      "2011-03-08 00:48:00-06:00        0.076945 2011-03-09 09:30:00-06:00   \n",
      "\n",
      "                          Release Date Time_y  Actual Forecast Previous  \\\n",
      "Datetime_CST                                                              \n",
      "2011-03-07 23:59:00-06:00     9-Mar-11  10:30  2.500M   1.100M  -0.400M   \n",
      "2011-03-08 00:00:00-06:00     9-Mar-11  10:30  2.500M   1.100M  -0.400M   \n",
      "2011-03-08 00:01:00-06:00     9-Mar-11  10:30  2.500M   1.100M  -0.400M   \n",
      "2011-03-08 00:02:00-06:00     9-Mar-11  10:30  2.500M   1.100M  -0.400M   \n",
      "2011-03-08 00:03:00-06:00     9-Mar-11  10:30  2.500M   1.100M  -0.400M   \n",
      "2011-03-08 00:04:00-06:00     9-Mar-11  10:30  2.500M   1.100M  -0.400M   \n",
      "2011-03-08 00:05:00-06:00     9-Mar-11  10:30  2.500M   1.100M  -0.400M   \n",
      "2011-03-08 00:06:00-06:00     9-Mar-11  10:30  2.500M   1.100M  -0.400M   \n",
      "2011-03-08 00:07:00-06:00     9-Mar-11  10:30  2.500M   1.100M  -0.400M   \n",
      "2011-03-08 00:08:00-06:00     9-Mar-11  10:30  2.500M   1.100M  -0.400M   \n",
      "2011-03-08 00:09:00-06:00     9-Mar-11  10:30  2.500M   1.100M  -0.400M   \n",
      "2011-03-08 00:10:00-06:00     9-Mar-11  10:30  2.500M   1.100M  -0.400M   \n",
      "2011-03-08 00:11:00-06:00     9-Mar-11  10:30  2.500M   1.100M  -0.400M   \n",
      "2011-03-08 00:12:00-06:00     9-Mar-11  10:30  2.500M   1.100M  -0.400M   \n",
      "2011-03-08 00:13:00-06:00     9-Mar-11  10:30  2.500M   1.100M  -0.400M   \n",
      "2011-03-08 00:14:00-06:00     9-Mar-11  10:30  2.500M   1.100M  -0.400M   \n",
      "2011-03-08 00:15:00-06:00     9-Mar-11  10:30  2.500M   1.100M  -0.400M   \n",
      "2011-03-08 00:16:00-06:00     9-Mar-11  10:30  2.500M   1.100M  -0.400M   \n",
      "2011-03-08 00:17:00-06:00     9-Mar-11  10:30  2.500M   1.100M  -0.400M   \n",
      "2011-03-08 00:18:00-06:00     9-Mar-11  10:30  2.500M   1.100M  -0.400M   \n",
      "2011-03-08 00:19:00-06:00     9-Mar-11  10:30  2.500M   1.100M  -0.400M   \n",
      "2011-03-08 00:20:00-06:00     9-Mar-11  10:30  2.500M   1.100M  -0.400M   \n",
      "2011-03-08 00:21:00-06:00     9-Mar-11  10:30  2.500M   1.100M  -0.400M   \n",
      "2011-03-08 00:22:00-06:00     9-Mar-11  10:30  2.500M   1.100M  -0.400M   \n",
      "2011-03-08 00:23:00-06:00     9-Mar-11  10:30  2.500M   1.100M  -0.400M   \n",
      "2011-03-08 00:24:00-06:00     9-Mar-11  10:30  2.500M   1.100M  -0.400M   \n",
      "2011-03-08 00:25:00-06:00     9-Mar-11  10:30  2.500M   1.100M  -0.400M   \n",
      "2011-03-08 00:26:00-06:00     9-Mar-11  10:30  2.500M   1.100M  -0.400M   \n",
      "2011-03-08 00:27:00-06:00     9-Mar-11  10:30  2.500M   1.100M  -0.400M   \n",
      "2011-03-08 00:28:00-06:00     9-Mar-11  10:30  2.500M   1.100M  -0.400M   \n",
      "2011-03-08 00:29:00-06:00     9-Mar-11  10:30  2.500M   1.100M  -0.400M   \n",
      "2011-03-08 00:30:00-06:00     9-Mar-11  10:30  2.500M   1.100M  -0.400M   \n",
      "2011-03-08 00:31:00-06:00     9-Mar-11  10:30  2.500M   1.100M  -0.400M   \n",
      "2011-03-08 00:32:00-06:00     9-Mar-11  10:30  2.500M   1.100M  -0.400M   \n",
      "2011-03-08 00:33:00-06:00     9-Mar-11  10:30  2.500M   1.100M  -0.400M   \n",
      "2011-03-08 00:34:00-06:00     9-Mar-11  10:30  2.500M   1.100M  -0.400M   \n",
      "2011-03-08 00:35:00-06:00     9-Mar-11  10:30  2.500M   1.100M  -0.400M   \n",
      "2011-03-08 00:36:00-06:00     9-Mar-11  10:30  2.500M   1.100M  -0.400M   \n",
      "2011-03-08 00:37:00-06:00     9-Mar-11  10:30  2.500M   1.100M  -0.400M   \n",
      "2011-03-08 00:38:00-06:00     9-Mar-11  10:30  2.500M   1.100M  -0.400M   \n",
      "2011-03-08 00:39:00-06:00     9-Mar-11  10:30  2.500M   1.100M  -0.400M   \n",
      "2011-03-08 00:40:00-06:00     9-Mar-11  10:30  2.500M   1.100M  -0.400M   \n",
      "2011-03-08 00:41:00-06:00     9-Mar-11  10:30  2.500M   1.100M  -0.400M   \n",
      "2011-03-08 00:42:00-06:00     9-Mar-11  10:30  2.500M   1.100M  -0.400M   \n",
      "2011-03-08 00:43:00-06:00     9-Mar-11  10:30  2.500M   1.100M  -0.400M   \n",
      "2011-03-08 00:44:00-06:00     9-Mar-11  10:30  2.500M   1.100M  -0.400M   \n",
      "2011-03-08 00:45:00-06:00     9-Mar-11  10:30  2.500M   1.100M  -0.400M   \n",
      "2011-03-08 00:46:00-06:00     9-Mar-11  10:30  2.500M   1.100M  -0.400M   \n",
      "2011-03-08 00:47:00-06:00     9-Mar-11  10:30  2.500M   1.100M  -0.400M   \n",
      "2011-03-08 00:48:00-06:00     9-Mar-11  10:30  2.500M   1.100M  -0.400M   \n",
      "\n",
      "                             Release_Datetime      Release_Datetime_EST  \\\n",
      "Datetime_CST                                                              \n",
      "2011-03-07 23:59:00-06:00 2011-03-09 10:30:00 2011-03-09 10:30:00-05:00   \n",
      "2011-03-08 00:00:00-06:00 2011-03-09 10:30:00 2011-03-09 10:30:00-05:00   \n",
      "2011-03-08 00:01:00-06:00 2011-03-09 10:30:00 2011-03-09 10:30:00-05:00   \n",
      "2011-03-08 00:02:00-06:00 2011-03-09 10:30:00 2011-03-09 10:30:00-05:00   \n",
      "2011-03-08 00:03:00-06:00 2011-03-09 10:30:00 2011-03-09 10:30:00-05:00   \n",
      "2011-03-08 00:04:00-06:00 2011-03-09 10:30:00 2011-03-09 10:30:00-05:00   \n",
      "2011-03-08 00:05:00-06:00 2011-03-09 10:30:00 2011-03-09 10:30:00-05:00   \n",
      "2011-03-08 00:06:00-06:00 2011-03-09 10:30:00 2011-03-09 10:30:00-05:00   \n",
      "2011-03-08 00:07:00-06:00 2011-03-09 10:30:00 2011-03-09 10:30:00-05:00   \n",
      "2011-03-08 00:08:00-06:00 2011-03-09 10:30:00 2011-03-09 10:30:00-05:00   \n",
      "2011-03-08 00:09:00-06:00 2011-03-09 10:30:00 2011-03-09 10:30:00-05:00   \n",
      "2011-03-08 00:10:00-06:00 2011-03-09 10:30:00 2011-03-09 10:30:00-05:00   \n",
      "2011-03-08 00:11:00-06:00 2011-03-09 10:30:00 2011-03-09 10:30:00-05:00   \n",
      "2011-03-08 00:12:00-06:00 2011-03-09 10:30:00 2011-03-09 10:30:00-05:00   \n",
      "2011-03-08 00:13:00-06:00 2011-03-09 10:30:00 2011-03-09 10:30:00-05:00   \n",
      "2011-03-08 00:14:00-06:00 2011-03-09 10:30:00 2011-03-09 10:30:00-05:00   \n",
      "2011-03-08 00:15:00-06:00 2011-03-09 10:30:00 2011-03-09 10:30:00-05:00   \n",
      "2011-03-08 00:16:00-06:00 2011-03-09 10:30:00 2011-03-09 10:30:00-05:00   \n",
      "2011-03-08 00:17:00-06:00 2011-03-09 10:30:00 2011-03-09 10:30:00-05:00   \n",
      "2011-03-08 00:18:00-06:00 2011-03-09 10:30:00 2011-03-09 10:30:00-05:00   \n",
      "2011-03-08 00:19:00-06:00 2011-03-09 10:30:00 2011-03-09 10:30:00-05:00   \n",
      "2011-03-08 00:20:00-06:00 2011-03-09 10:30:00 2011-03-09 10:30:00-05:00   \n",
      "2011-03-08 00:21:00-06:00 2011-03-09 10:30:00 2011-03-09 10:30:00-05:00   \n",
      "2011-03-08 00:22:00-06:00 2011-03-09 10:30:00 2011-03-09 10:30:00-05:00   \n",
      "2011-03-08 00:23:00-06:00 2011-03-09 10:30:00 2011-03-09 10:30:00-05:00   \n",
      "2011-03-08 00:24:00-06:00 2011-03-09 10:30:00 2011-03-09 10:30:00-05:00   \n",
      "2011-03-08 00:25:00-06:00 2011-03-09 10:30:00 2011-03-09 10:30:00-05:00   \n",
      "2011-03-08 00:26:00-06:00 2011-03-09 10:30:00 2011-03-09 10:30:00-05:00   \n",
      "2011-03-08 00:27:00-06:00 2011-03-09 10:30:00 2011-03-09 10:30:00-05:00   \n",
      "2011-03-08 00:28:00-06:00 2011-03-09 10:30:00 2011-03-09 10:30:00-05:00   \n",
      "2011-03-08 00:29:00-06:00 2011-03-09 10:30:00 2011-03-09 10:30:00-05:00   \n",
      "2011-03-08 00:30:00-06:00 2011-03-09 10:30:00 2011-03-09 10:30:00-05:00   \n",
      "2011-03-08 00:31:00-06:00 2011-03-09 10:30:00 2011-03-09 10:30:00-05:00   \n",
      "2011-03-08 00:32:00-06:00 2011-03-09 10:30:00 2011-03-09 10:30:00-05:00   \n",
      "2011-03-08 00:33:00-06:00 2011-03-09 10:30:00 2011-03-09 10:30:00-05:00   \n",
      "2011-03-08 00:34:00-06:00 2011-03-09 10:30:00 2011-03-09 10:30:00-05:00   \n",
      "2011-03-08 00:35:00-06:00 2011-03-09 10:30:00 2011-03-09 10:30:00-05:00   \n",
      "2011-03-08 00:36:00-06:00 2011-03-09 10:30:00 2011-03-09 10:30:00-05:00   \n",
      "2011-03-08 00:37:00-06:00 2011-03-09 10:30:00 2011-03-09 10:30:00-05:00   \n",
      "2011-03-08 00:38:00-06:00 2011-03-09 10:30:00 2011-03-09 10:30:00-05:00   \n",
      "2011-03-08 00:39:00-06:00 2011-03-09 10:30:00 2011-03-09 10:30:00-05:00   \n",
      "2011-03-08 00:40:00-06:00 2011-03-09 10:30:00 2011-03-09 10:30:00-05:00   \n",
      "2011-03-08 00:41:00-06:00 2011-03-09 10:30:00 2011-03-09 10:30:00-05:00   \n",
      "2011-03-08 00:42:00-06:00 2011-03-09 10:30:00 2011-03-09 10:30:00-05:00   \n",
      "2011-03-08 00:43:00-06:00 2011-03-09 10:30:00 2011-03-09 10:30:00-05:00   \n",
      "2011-03-08 00:44:00-06:00 2011-03-09 10:30:00 2011-03-09 10:30:00-05:00   \n",
      "2011-03-08 00:45:00-06:00 2011-03-09 10:30:00 2011-03-09 10:30:00-05:00   \n",
      "2011-03-08 00:46:00-06:00 2011-03-09 10:30:00 2011-03-09 10:30:00-05:00   \n",
      "2011-03-08 00:47:00-06:00 2011-03-09 10:30:00 2011-03-09 10:30:00-05:00   \n",
      "2011-03-08 00:48:00-06:00 2011-03-09 10:30:00 2011-03-09 10:30:00-05:00   \n",
      "\n",
      "                           supply_surprise  \n",
      "Datetime_CST                                \n",
      "2011-03-07 23:59:00-06:00              1.4  \n",
      "2011-03-08 00:00:00-06:00              1.4  \n",
      "2011-03-08 00:01:00-06:00              1.4  \n",
      "2011-03-08 00:02:00-06:00              1.4  \n",
      "2011-03-08 00:03:00-06:00              1.4  \n",
      "2011-03-08 00:04:00-06:00              1.4  \n",
      "2011-03-08 00:05:00-06:00              1.4  \n",
      "2011-03-08 00:06:00-06:00              1.4  \n",
      "2011-03-08 00:07:00-06:00              1.4  \n",
      "2011-03-08 00:08:00-06:00              1.4  \n",
      "2011-03-08 00:09:00-06:00              1.4  \n",
      "2011-03-08 00:10:00-06:00              1.4  \n",
      "2011-03-08 00:11:00-06:00              1.4  \n",
      "2011-03-08 00:12:00-06:00              1.4  \n",
      "2011-03-08 00:13:00-06:00              1.4  \n",
      "2011-03-08 00:14:00-06:00              1.4  \n",
      "2011-03-08 00:15:00-06:00              1.4  \n",
      "2011-03-08 00:16:00-06:00              1.4  \n",
      "2011-03-08 00:17:00-06:00              1.4  \n",
      "2011-03-08 00:18:00-06:00              1.4  \n",
      "2011-03-08 00:19:00-06:00              1.4  \n",
      "2011-03-08 00:20:00-06:00              1.4  \n",
      "2011-03-08 00:21:00-06:00              1.4  \n",
      "2011-03-08 00:22:00-06:00              1.4  \n",
      "2011-03-08 00:23:00-06:00              1.4  \n",
      "2011-03-08 00:24:00-06:00              1.4  \n",
      "2011-03-08 00:25:00-06:00              1.4  \n",
      "2011-03-08 00:26:00-06:00              1.4  \n",
      "2011-03-08 00:27:00-06:00              1.4  \n",
      "2011-03-08 00:28:00-06:00              1.4  \n",
      "2011-03-08 00:29:00-06:00              1.4  \n",
      "2011-03-08 00:30:00-06:00              1.4  \n",
      "2011-03-08 00:31:00-06:00              1.4  \n",
      "2011-03-08 00:32:00-06:00              1.4  \n",
      "2011-03-08 00:33:00-06:00              1.4  \n",
      "2011-03-08 00:34:00-06:00              1.4  \n",
      "2011-03-08 00:35:00-06:00              1.4  \n",
      "2011-03-08 00:36:00-06:00              1.4  \n",
      "2011-03-08 00:37:00-06:00              1.4  \n",
      "2011-03-08 00:38:00-06:00              1.4  \n",
      "2011-03-08 00:39:00-06:00              1.4  \n",
      "2011-03-08 00:40:00-06:00              1.4  \n",
      "2011-03-08 00:41:00-06:00              1.4  \n",
      "2011-03-08 00:42:00-06:00              1.4  \n",
      "2011-03-08 00:43:00-06:00              1.4  \n",
      "2011-03-08 00:44:00-06:00              1.4  \n",
      "2011-03-08 00:45:00-06:00              1.4  \n",
      "2011-03-08 00:46:00-06:00              1.4  \n",
      "2011-03-08 00:47:00-06:00              1.4  \n",
      "2011-03-08 00:48:00-06:00              1.4  \n"
     ]
    }
   ],
   "source": [
    "\n",
    "# 2. Perform the merge_asof\n",
    "wti_with_eia_releases = pd.merge_asof(\n",
    "    left=min_WTI_no_eia_days.reset_index(), # Reset index to make 'Datetime_CST' a regular column for merge_asof\n",
    "    right=icom_eia_forecasts.reset_index(),\n",
    "    left_on='Datetime_CST',       # Column in min_WTI to merge on\n",
    "    right_on='Release_Datetime_CST', # Column in icom_eia_forecasts to merge on\n",
    "    direction='nearest',         # Match to the most recent EIA release *before* each WTI time\n",
    "    tolerance=pd.Timedelta('2D')\n",
    ")\n",
    "\n",
    "# 3. Examine the result\n",
    "print(wti_with_eia_releases[['Datetime_CST', 'Release_Datetime_CST', 'Actual', 'Forecast']].head(20))\n",
    "# You'll see that for each minute in min_WTI, the 'Release_Datetime_GMT_minus_6' column (and other EIA columns)\n",
    "# will be populated with the data from the *most recent* EIA release prior to that minute.\n",
    "# If there was no EIA release before a particular WTI time (e.g., at the very beginning of your WTI data),\n",
    "# the EIA columns will be NaN.\n",
    "\n",
    "# 4. (Optional) Clean up and set index back if needed\n",
    "wti_with_eia_releases = wti_with_eia_releases.set_index('Datetime_CST') # Set 'Datetime_CST' back as index if you prefer\n",
    "# You might want to rename 'Release_Datetime_GMT_minus_6' to something more descriptive in the merged dataframe, e.g., 'Associated_EIA_Release_Time'\n",
    "\n",
    "\n",
    "print(wti_with_eia_releases.head(50)) # Display the first few rows of the merged dataframe"
   ]
  },
  {
   "cell_type": "code",
   "execution_count": 61,
   "metadata": {},
   "outputs": [
    {
     "data": {
      "text/html": [
       "<div>\n",
       "<style scoped>\n",
       "    .dataframe tbody tr th:only-of-type {\n",
       "        vertical-align: middle;\n",
       "    }\n",
       "\n",
       "    .dataframe tbody tr th {\n",
       "        vertical-align: top;\n",
       "    }\n",
       "\n",
       "    .dataframe thead th {\n",
       "        text-align: right;\n",
       "    }\n",
       "</style>\n",
       "<table border=\"1\" class=\"dataframe\">\n",
       "  <thead>\n",
       "    <tr style=\"text-align: right;\">\n",
       "      <th></th>\n",
       "      <th>index</th>\n",
       "      <th>Date</th>\n",
       "      <th>Time_x</th>\n",
       "      <th>Open</th>\n",
       "      <th>High</th>\n",
       "      <th>Low</th>\n",
       "      <th>Close</th>\n",
       "      <th>Volume</th>\n",
       "      <th>Datetime</th>\n",
       "      <th>Percent_Change</th>\n",
       "      <th>Release_Datetime_CST</th>\n",
       "      <th>Release Date</th>\n",
       "      <th>Time_y</th>\n",
       "      <th>Actual</th>\n",
       "      <th>Forecast</th>\n",
       "      <th>Previous</th>\n",
       "      <th>Release_Datetime</th>\n",
       "      <th>Release_Datetime_EST</th>\n",
       "      <th>supply_surprise</th>\n",
       "    </tr>\n",
       "    <tr>\n",
       "      <th>Datetime_CST</th>\n",
       "      <th></th>\n",
       "      <th></th>\n",
       "      <th></th>\n",
       "      <th></th>\n",
       "      <th></th>\n",
       "      <th></th>\n",
       "      <th></th>\n",
       "      <th></th>\n",
       "      <th></th>\n",
       "      <th></th>\n",
       "      <th></th>\n",
       "      <th></th>\n",
       "      <th></th>\n",
       "      <th></th>\n",
       "      <th></th>\n",
       "      <th></th>\n",
       "      <th></th>\n",
       "      <th></th>\n",
       "      <th></th>\n",
       "    </tr>\n",
       "  </thead>\n",
       "  <tbody>\n",
       "    <tr>\n",
       "      <th>2011-03-07 23:59:00-06:00</th>\n",
       "      <td>0</td>\n",
       "      <td>07/03/2011</td>\n",
       "      <td>23:59:00</td>\n",
       "      <td>104.74</td>\n",
       "      <td>104.77</td>\n",
       "      <td>104.73</td>\n",
       "      <td>104.73</td>\n",
       "      <td>18</td>\n",
       "      <td>2011-03-07 23:59:00</td>\n",
       "      <td>NaN</td>\n",
       "      <td>2011-03-09 09:30:00-06:00</td>\n",
       "      <td>9-Mar-11</td>\n",
       "      <td>10:30</td>\n",
       "      <td>2.500M</td>\n",
       "      <td>1.100M</td>\n",
       "      <td>-0.400M</td>\n",
       "      <td>2011-03-09 10:30:00</td>\n",
       "      <td>2011-03-09 10:30:00-05:00</td>\n",
       "      <td>1.4</td>\n",
       "    </tr>\n",
       "    <tr>\n",
       "      <th>2011-03-08 00:00:00-06:00</th>\n",
       "      <td>1</td>\n",
       "      <td>08/03/2011</td>\n",
       "      <td>00:00:00</td>\n",
       "      <td>104.74</td>\n",
       "      <td>104.82</td>\n",
       "      <td>104.74</td>\n",
       "      <td>104.81</td>\n",
       "      <td>34</td>\n",
       "      <td>2011-03-08 00:00:00</td>\n",
       "      <td>0.076387</td>\n",
       "      <td>2011-03-09 09:30:00-06:00</td>\n",
       "      <td>9-Mar-11</td>\n",
       "      <td>10:30</td>\n",
       "      <td>2.500M</td>\n",
       "      <td>1.100M</td>\n",
       "      <td>-0.400M</td>\n",
       "      <td>2011-03-09 10:30:00</td>\n",
       "      <td>2011-03-09 10:30:00-05:00</td>\n",
       "      <td>1.4</td>\n",
       "    </tr>\n",
       "    <tr>\n",
       "      <th>2011-03-08 00:01:00-06:00</th>\n",
       "      <td>2</td>\n",
       "      <td>08/03/2011</td>\n",
       "      <td>00:01:00</td>\n",
       "      <td>104.82</td>\n",
       "      <td>104.84</td>\n",
       "      <td>104.82</td>\n",
       "      <td>104.82</td>\n",
       "      <td>12</td>\n",
       "      <td>2011-03-08 00:01:00</td>\n",
       "      <td>0.009541</td>\n",
       "      <td>2011-03-09 09:30:00-06:00</td>\n",
       "      <td>9-Mar-11</td>\n",
       "      <td>10:30</td>\n",
       "      <td>2.500M</td>\n",
       "      <td>1.100M</td>\n",
       "      <td>-0.400M</td>\n",
       "      <td>2011-03-09 10:30:00</td>\n",
       "      <td>2011-03-09 10:30:00-05:00</td>\n",
       "      <td>1.4</td>\n",
       "    </tr>\n",
       "    <tr>\n",
       "      <th>2011-03-08 00:02:00-06:00</th>\n",
       "      <td>3</td>\n",
       "      <td>08/03/2011</td>\n",
       "      <td>00:02:00</td>\n",
       "      <td>104.81</td>\n",
       "      <td>104.81</td>\n",
       "      <td>104.73</td>\n",
       "      <td>104.75</td>\n",
       "      <td>20</td>\n",
       "      <td>2011-03-08 00:02:00</td>\n",
       "      <td>-0.066781</td>\n",
       "      <td>2011-03-09 09:30:00-06:00</td>\n",
       "      <td>9-Mar-11</td>\n",
       "      <td>10:30</td>\n",
       "      <td>2.500M</td>\n",
       "      <td>1.100M</td>\n",
       "      <td>-0.400M</td>\n",
       "      <td>2011-03-09 10:30:00</td>\n",
       "      <td>2011-03-09 10:30:00-05:00</td>\n",
       "      <td>1.4</td>\n",
       "    </tr>\n",
       "    <tr>\n",
       "      <th>2011-03-08 00:03:00-06:00</th>\n",
       "      <td>4</td>\n",
       "      <td>08/03/2011</td>\n",
       "      <td>00:03:00</td>\n",
       "      <td>104.74</td>\n",
       "      <td>104.76</td>\n",
       "      <td>104.71</td>\n",
       "      <td>104.76</td>\n",
       "      <td>25</td>\n",
       "      <td>2011-03-08 00:03:00</td>\n",
       "      <td>0.009547</td>\n",
       "      <td>2011-03-09 09:30:00-06:00</td>\n",
       "      <td>9-Mar-11</td>\n",
       "      <td>10:30</td>\n",
       "      <td>2.500M</td>\n",
       "      <td>1.100M</td>\n",
       "      <td>-0.400M</td>\n",
       "      <td>2011-03-09 10:30:00</td>\n",
       "      <td>2011-03-09 10:30:00-05:00</td>\n",
       "      <td>1.4</td>\n",
       "    </tr>\n",
       "    <tr>\n",
       "      <th>...</th>\n",
       "      <td>...</td>\n",
       "      <td>...</td>\n",
       "      <td>...</td>\n",
       "      <td>...</td>\n",
       "      <td>...</td>\n",
       "      <td>...</td>\n",
       "      <td>...</td>\n",
       "      <td>...</td>\n",
       "      <td>...</td>\n",
       "      <td>...</td>\n",
       "      <td>...</td>\n",
       "      <td>...</td>\n",
       "      <td>...</td>\n",
       "      <td>...</td>\n",
       "      <td>...</td>\n",
       "      <td>...</td>\n",
       "      <td>...</td>\n",
       "      <td>...</td>\n",
       "      <td>...</td>\n",
       "    </tr>\n",
       "    <tr>\n",
       "      <th>2025-03-11 23:53:00-05:00</th>\n",
       "      <td>4811553</td>\n",
       "      <td>11/03/2025</td>\n",
       "      <td>23:53:00</td>\n",
       "      <td>66.75</td>\n",
       "      <td>66.76</td>\n",
       "      <td>66.74</td>\n",
       "      <td>66.75</td>\n",
       "      <td>23</td>\n",
       "      <td>2025-03-11 23:53:00</td>\n",
       "      <td>0.000000</td>\n",
       "      <td>2025-03-12 07:30:00-05:00</td>\n",
       "      <td>12-Mar-25</td>\n",
       "      <td>8:30</td>\n",
       "      <td>NaN</td>\n",
       "      <td>NaN</td>\n",
       "      <td>3.614M</td>\n",
       "      <td>2025-03-12 08:30:00</td>\n",
       "      <td>2025-03-12 08:30:00-04:00</td>\n",
       "      <td>NaN</td>\n",
       "    </tr>\n",
       "    <tr>\n",
       "      <th>2025-03-11 23:54:00-05:00</th>\n",
       "      <td>4811554</td>\n",
       "      <td>11/03/2025</td>\n",
       "      <td>23:54:00</td>\n",
       "      <td>66.75</td>\n",
       "      <td>66.75</td>\n",
       "      <td>66.75</td>\n",
       "      <td>66.75</td>\n",
       "      <td>13</td>\n",
       "      <td>2025-03-11 23:54:00</td>\n",
       "      <td>0.000000</td>\n",
       "      <td>2025-03-12 07:30:00-05:00</td>\n",
       "      <td>12-Mar-25</td>\n",
       "      <td>8:30</td>\n",
       "      <td>NaN</td>\n",
       "      <td>NaN</td>\n",
       "      <td>3.614M</td>\n",
       "      <td>2025-03-12 08:30:00</td>\n",
       "      <td>2025-03-12 08:30:00-04:00</td>\n",
       "      <td>NaN</td>\n",
       "    </tr>\n",
       "    <tr>\n",
       "      <th>2025-03-11 23:56:00-05:00</th>\n",
       "      <td>4811555</td>\n",
       "      <td>11/03/2025</td>\n",
       "      <td>23:56:00</td>\n",
       "      <td>66.75</td>\n",
       "      <td>66.75</td>\n",
       "      <td>66.74</td>\n",
       "      <td>66.74</td>\n",
       "      <td>3</td>\n",
       "      <td>2025-03-11 23:56:00</td>\n",
       "      <td>-0.014981</td>\n",
       "      <td>2025-03-12 07:30:00-05:00</td>\n",
       "      <td>12-Mar-25</td>\n",
       "      <td>8:30</td>\n",
       "      <td>NaN</td>\n",
       "      <td>NaN</td>\n",
       "      <td>3.614M</td>\n",
       "      <td>2025-03-12 08:30:00</td>\n",
       "      <td>2025-03-12 08:30:00-04:00</td>\n",
       "      <td>NaN</td>\n",
       "    </tr>\n",
       "    <tr>\n",
       "      <th>2025-03-11 23:58:00-05:00</th>\n",
       "      <td>4811556</td>\n",
       "      <td>11/03/2025</td>\n",
       "      <td>23:58:00</td>\n",
       "      <td>66.75</td>\n",
       "      <td>66.75</td>\n",
       "      <td>66.75</td>\n",
       "      <td>66.75</td>\n",
       "      <td>3</td>\n",
       "      <td>2025-03-11 23:58:00</td>\n",
       "      <td>0.014984</td>\n",
       "      <td>2025-03-12 07:30:00-05:00</td>\n",
       "      <td>12-Mar-25</td>\n",
       "      <td>8:30</td>\n",
       "      <td>NaN</td>\n",
       "      <td>NaN</td>\n",
       "      <td>3.614M</td>\n",
       "      <td>2025-03-12 08:30:00</td>\n",
       "      <td>2025-03-12 08:30:00-04:00</td>\n",
       "      <td>NaN</td>\n",
       "    </tr>\n",
       "    <tr>\n",
       "      <th>2025-03-11 23:59:00-05:00</th>\n",
       "      <td>4811557</td>\n",
       "      <td>11/03/2025</td>\n",
       "      <td>23:59:00</td>\n",
       "      <td>66.75</td>\n",
       "      <td>66.75</td>\n",
       "      <td>66.75</td>\n",
       "      <td>66.75</td>\n",
       "      <td>1</td>\n",
       "      <td>2025-03-11 23:59:00</td>\n",
       "      <td>0.000000</td>\n",
       "      <td>2025-03-12 07:30:00-05:00</td>\n",
       "      <td>12-Mar-25</td>\n",
       "      <td>8:30</td>\n",
       "      <td>NaN</td>\n",
       "      <td>NaN</td>\n",
       "      <td>3.614M</td>\n",
       "      <td>2025-03-12 08:30:00</td>\n",
       "      <td>2025-03-12 08:30:00-04:00</td>\n",
       "      <td>NaN</td>\n",
       "    </tr>\n",
       "  </tbody>\n",
       "</table>\n",
       "<p>3840660 rows × 19 columns</p>\n",
       "</div>"
      ],
      "text/plain": [
       "                             index        Date    Time_x    Open    High  \\\n",
       "Datetime_CST                                                               \n",
       "2011-03-07 23:59:00-06:00        0  07/03/2011  23:59:00  104.74  104.77   \n",
       "2011-03-08 00:00:00-06:00        1  08/03/2011  00:00:00  104.74  104.82   \n",
       "2011-03-08 00:01:00-06:00        2  08/03/2011  00:01:00  104.82  104.84   \n",
       "2011-03-08 00:02:00-06:00        3  08/03/2011  00:02:00  104.81  104.81   \n",
       "2011-03-08 00:03:00-06:00        4  08/03/2011  00:03:00  104.74  104.76   \n",
       "...                            ...         ...       ...     ...     ...   \n",
       "2025-03-11 23:53:00-05:00  4811553  11/03/2025  23:53:00   66.75   66.76   \n",
       "2025-03-11 23:54:00-05:00  4811554  11/03/2025  23:54:00   66.75   66.75   \n",
       "2025-03-11 23:56:00-05:00  4811555  11/03/2025  23:56:00   66.75   66.75   \n",
       "2025-03-11 23:58:00-05:00  4811556  11/03/2025  23:58:00   66.75   66.75   \n",
       "2025-03-11 23:59:00-05:00  4811557  11/03/2025  23:59:00   66.75   66.75   \n",
       "\n",
       "                              Low   Close  Volume            Datetime  \\\n",
       "Datetime_CST                                                            \n",
       "2011-03-07 23:59:00-06:00  104.73  104.73      18 2011-03-07 23:59:00   \n",
       "2011-03-08 00:00:00-06:00  104.74  104.81      34 2011-03-08 00:00:00   \n",
       "2011-03-08 00:01:00-06:00  104.82  104.82      12 2011-03-08 00:01:00   \n",
       "2011-03-08 00:02:00-06:00  104.73  104.75      20 2011-03-08 00:02:00   \n",
       "2011-03-08 00:03:00-06:00  104.71  104.76      25 2011-03-08 00:03:00   \n",
       "...                           ...     ...     ...                 ...   \n",
       "2025-03-11 23:53:00-05:00   66.74   66.75      23 2025-03-11 23:53:00   \n",
       "2025-03-11 23:54:00-05:00   66.75   66.75      13 2025-03-11 23:54:00   \n",
       "2025-03-11 23:56:00-05:00   66.74   66.74       3 2025-03-11 23:56:00   \n",
       "2025-03-11 23:58:00-05:00   66.75   66.75       3 2025-03-11 23:58:00   \n",
       "2025-03-11 23:59:00-05:00   66.75   66.75       1 2025-03-11 23:59:00   \n",
       "\n",
       "                           Percent_Change      Release_Datetime_CST  \\\n",
       "Datetime_CST                                                          \n",
       "2011-03-07 23:59:00-06:00             NaN 2011-03-09 09:30:00-06:00   \n",
       "2011-03-08 00:00:00-06:00        0.076387 2011-03-09 09:30:00-06:00   \n",
       "2011-03-08 00:01:00-06:00        0.009541 2011-03-09 09:30:00-06:00   \n",
       "2011-03-08 00:02:00-06:00       -0.066781 2011-03-09 09:30:00-06:00   \n",
       "2011-03-08 00:03:00-06:00        0.009547 2011-03-09 09:30:00-06:00   \n",
       "...                                   ...                       ...   \n",
       "2025-03-11 23:53:00-05:00        0.000000 2025-03-12 07:30:00-05:00   \n",
       "2025-03-11 23:54:00-05:00        0.000000 2025-03-12 07:30:00-05:00   \n",
       "2025-03-11 23:56:00-05:00       -0.014981 2025-03-12 07:30:00-05:00   \n",
       "2025-03-11 23:58:00-05:00        0.014984 2025-03-12 07:30:00-05:00   \n",
       "2025-03-11 23:59:00-05:00        0.000000 2025-03-12 07:30:00-05:00   \n",
       "\n",
       "                          Release Date Time_y  Actual Forecast Previous  \\\n",
       "Datetime_CST                                                              \n",
       "2011-03-07 23:59:00-06:00     9-Mar-11  10:30  2.500M   1.100M  -0.400M   \n",
       "2011-03-08 00:00:00-06:00     9-Mar-11  10:30  2.500M   1.100M  -0.400M   \n",
       "2011-03-08 00:01:00-06:00     9-Mar-11  10:30  2.500M   1.100M  -0.400M   \n",
       "2011-03-08 00:02:00-06:00     9-Mar-11  10:30  2.500M   1.100M  -0.400M   \n",
       "2011-03-08 00:03:00-06:00     9-Mar-11  10:30  2.500M   1.100M  -0.400M   \n",
       "...                                ...    ...     ...      ...      ...   \n",
       "2025-03-11 23:53:00-05:00    12-Mar-25   8:30     NaN      NaN   3.614M   \n",
       "2025-03-11 23:54:00-05:00    12-Mar-25   8:30     NaN      NaN   3.614M   \n",
       "2025-03-11 23:56:00-05:00    12-Mar-25   8:30     NaN      NaN   3.614M   \n",
       "2025-03-11 23:58:00-05:00    12-Mar-25   8:30     NaN      NaN   3.614M   \n",
       "2025-03-11 23:59:00-05:00    12-Mar-25   8:30     NaN      NaN   3.614M   \n",
       "\n",
       "                             Release_Datetime      Release_Datetime_EST  \\\n",
       "Datetime_CST                                                              \n",
       "2011-03-07 23:59:00-06:00 2011-03-09 10:30:00 2011-03-09 10:30:00-05:00   \n",
       "2011-03-08 00:00:00-06:00 2011-03-09 10:30:00 2011-03-09 10:30:00-05:00   \n",
       "2011-03-08 00:01:00-06:00 2011-03-09 10:30:00 2011-03-09 10:30:00-05:00   \n",
       "2011-03-08 00:02:00-06:00 2011-03-09 10:30:00 2011-03-09 10:30:00-05:00   \n",
       "2011-03-08 00:03:00-06:00 2011-03-09 10:30:00 2011-03-09 10:30:00-05:00   \n",
       "...                                       ...                       ...   \n",
       "2025-03-11 23:53:00-05:00 2025-03-12 08:30:00 2025-03-12 08:30:00-04:00   \n",
       "2025-03-11 23:54:00-05:00 2025-03-12 08:30:00 2025-03-12 08:30:00-04:00   \n",
       "2025-03-11 23:56:00-05:00 2025-03-12 08:30:00 2025-03-12 08:30:00-04:00   \n",
       "2025-03-11 23:58:00-05:00 2025-03-12 08:30:00 2025-03-12 08:30:00-04:00   \n",
       "2025-03-11 23:59:00-05:00 2025-03-12 08:30:00 2025-03-12 08:30:00-04:00   \n",
       "\n",
       "                           supply_surprise  \n",
       "Datetime_CST                                \n",
       "2011-03-07 23:59:00-06:00              1.4  \n",
       "2011-03-08 00:00:00-06:00              1.4  \n",
       "2011-03-08 00:01:00-06:00              1.4  \n",
       "2011-03-08 00:02:00-06:00              1.4  \n",
       "2011-03-08 00:03:00-06:00              1.4  \n",
       "...                                    ...  \n",
       "2025-03-11 23:53:00-05:00              NaN  \n",
       "2025-03-11 23:54:00-05:00              NaN  \n",
       "2025-03-11 23:56:00-05:00              NaN  \n",
       "2025-03-11 23:58:00-05:00              NaN  \n",
       "2025-03-11 23:59:00-05:00              NaN  \n",
       "\n",
       "[3840660 rows x 19 columns]"
      ]
     },
     "metadata": {},
     "output_type": "display_data"
    }
   ],
   "source": [
    "display(wti_with_eia_releases)"
   ]
  },
  {
   "cell_type": "code",
   "execution_count": 62,
   "metadata": {},
   "outputs": [
    {
     "data": {
      "text/plain": [
       "index                                             int64\n",
       "Date                                             object\n",
       "Time_x                                           object\n",
       "Open                                            float64\n",
       "High                                            float64\n",
       "Low                                             float64\n",
       "Close                                           float64\n",
       "Volume                                            int64\n",
       "Datetime                                 datetime64[ns]\n",
       "Percent_Change                                  float64\n",
       "Release_Datetime_CST    datetime64[ns, America/Chicago]\n",
       "Release Date                                     object\n",
       "Time_y                                           object\n",
       "Actual                                           object\n",
       "Forecast                                         object\n",
       "Previous                                         object\n",
       "Release_Datetime                         datetime64[ns]\n",
       "Release_Datetime_EST         datetime64[ns, US/Eastern]\n",
       "supply_surprise                                 float64\n",
       "dtype: object"
      ]
     },
     "execution_count": 62,
     "metadata": {},
     "output_type": "execute_result"
    }
   ],
   "source": [
    "wti_with_eia_releases.dtypes"
   ]
  },
  {
   "cell_type": "code",
   "execution_count": 99,
   "metadata": {},
   "outputs": [
    {
     "data": {
      "text/html": [
       "<div>\n",
       "<style scoped>\n",
       "    .dataframe tbody tr th:only-of-type {\n",
       "        vertical-align: middle;\n",
       "    }\n",
       "\n",
       "    .dataframe tbody tr th {\n",
       "        vertical-align: top;\n",
       "    }\n",
       "\n",
       "    .dataframe thead th {\n",
       "        text-align: right;\n",
       "    }\n",
       "</style>\n",
       "<table border=\"1\" class=\"dataframe\">\n",
       "  <thead>\n",
       "    <tr style=\"text-align: right;\">\n",
       "      <th></th>\n",
       "      <th>Open</th>\n",
       "      <th>High</th>\n",
       "      <th>Low</th>\n",
       "      <th>Close</th>\n",
       "      <th>Volume</th>\n",
       "      <th>Percent_Change</th>\n",
       "      <th>Release_Datetime_CST</th>\n",
       "      <th>Actual</th>\n",
       "      <th>Forecast</th>\n",
       "      <th>Previous</th>\n",
       "      <th>Release_Datetime_EST</th>\n",
       "      <th>supply_surprise</th>\n",
       "      <th>Time_till_Release</th>\n",
       "    </tr>\n",
       "    <tr>\n",
       "      <th>Datetime_CST</th>\n",
       "      <th></th>\n",
       "      <th></th>\n",
       "      <th></th>\n",
       "      <th></th>\n",
       "      <th></th>\n",
       "      <th></th>\n",
       "      <th></th>\n",
       "      <th></th>\n",
       "      <th></th>\n",
       "      <th></th>\n",
       "      <th></th>\n",
       "      <th></th>\n",
       "      <th></th>\n",
       "    </tr>\n",
       "  </thead>\n",
       "  <tbody>\n",
       "    <tr>\n",
       "      <th>2011-03-07 23:59:00-06:00</th>\n",
       "      <td>104.74</td>\n",
       "      <td>104.77</td>\n",
       "      <td>104.73</td>\n",
       "      <td>104.73</td>\n",
       "      <td>18</td>\n",
       "      <td>NaN</td>\n",
       "      <td>2011-03-09 09:30:00-06:00</td>\n",
       "      <td>2.500M</td>\n",
       "      <td>1.100M</td>\n",
       "      <td>-0.400M</td>\n",
       "      <td>2011-03-09 10:30:00-05:00</td>\n",
       "      <td>1.4</td>\n",
       "      <td>869.0</td>\n",
       "    </tr>\n",
       "    <tr>\n",
       "      <th>2011-03-08 00:00:00-06:00</th>\n",
       "      <td>104.74</td>\n",
       "      <td>104.82</td>\n",
       "      <td>104.74</td>\n",
       "      <td>104.81</td>\n",
       "      <td>34</td>\n",
       "      <td>0.076387</td>\n",
       "      <td>2011-03-09 09:30:00-06:00</td>\n",
       "      <td>2.500M</td>\n",
       "      <td>1.100M</td>\n",
       "      <td>-0.400M</td>\n",
       "      <td>2011-03-09 10:30:00-05:00</td>\n",
       "      <td>1.4</td>\n",
       "      <td>-570.0</td>\n",
       "    </tr>\n",
       "    <tr>\n",
       "      <th>2011-03-08 00:01:00-06:00</th>\n",
       "      <td>104.82</td>\n",
       "      <td>104.84</td>\n",
       "      <td>104.82</td>\n",
       "      <td>104.82</td>\n",
       "      <td>12</td>\n",
       "      <td>0.009541</td>\n",
       "      <td>2011-03-09 09:30:00-06:00</td>\n",
       "      <td>2.500M</td>\n",
       "      <td>1.100M</td>\n",
       "      <td>-0.400M</td>\n",
       "      <td>2011-03-09 10:30:00-05:00</td>\n",
       "      <td>1.4</td>\n",
       "      <td>-569.0</td>\n",
       "    </tr>\n",
       "    <tr>\n",
       "      <th>2011-03-08 00:02:00-06:00</th>\n",
       "      <td>104.81</td>\n",
       "      <td>104.81</td>\n",
       "      <td>104.73</td>\n",
       "      <td>104.75</td>\n",
       "      <td>20</td>\n",
       "      <td>-0.066781</td>\n",
       "      <td>2011-03-09 09:30:00-06:00</td>\n",
       "      <td>2.500M</td>\n",
       "      <td>1.100M</td>\n",
       "      <td>-0.400M</td>\n",
       "      <td>2011-03-09 10:30:00-05:00</td>\n",
       "      <td>1.4</td>\n",
       "      <td>-568.0</td>\n",
       "    </tr>\n",
       "    <tr>\n",
       "      <th>2011-03-08 00:03:00-06:00</th>\n",
       "      <td>104.74</td>\n",
       "      <td>104.76</td>\n",
       "      <td>104.71</td>\n",
       "      <td>104.76</td>\n",
       "      <td>25</td>\n",
       "      <td>0.009547</td>\n",
       "      <td>2011-03-09 09:30:00-06:00</td>\n",
       "      <td>2.500M</td>\n",
       "      <td>1.100M</td>\n",
       "      <td>-0.400M</td>\n",
       "      <td>2011-03-09 10:30:00-05:00</td>\n",
       "      <td>1.4</td>\n",
       "      <td>-567.0</td>\n",
       "    </tr>\n",
       "    <tr>\n",
       "      <th>...</th>\n",
       "      <td>...</td>\n",
       "      <td>...</td>\n",
       "      <td>...</td>\n",
       "      <td>...</td>\n",
       "      <td>...</td>\n",
       "      <td>...</td>\n",
       "      <td>...</td>\n",
       "      <td>...</td>\n",
       "      <td>...</td>\n",
       "      <td>...</td>\n",
       "      <td>...</td>\n",
       "      <td>...</td>\n",
       "      <td>...</td>\n",
       "    </tr>\n",
       "    <tr>\n",
       "      <th>2025-03-11 23:53:00-05:00</th>\n",
       "      <td>66.75</td>\n",
       "      <td>66.76</td>\n",
       "      <td>66.74</td>\n",
       "      <td>66.75</td>\n",
       "      <td>23</td>\n",
       "      <td>0.000000</td>\n",
       "      <td>2025-03-12 07:30:00-05:00</td>\n",
       "      <td>NaN</td>\n",
       "      <td>NaN</td>\n",
       "      <td>3.614M</td>\n",
       "      <td>2025-03-12 08:30:00-04:00</td>\n",
       "      <td>NaN</td>\n",
       "      <td>983.0</td>\n",
       "    </tr>\n",
       "    <tr>\n",
       "      <th>2025-03-11 23:54:00-05:00</th>\n",
       "      <td>66.75</td>\n",
       "      <td>66.75</td>\n",
       "      <td>66.75</td>\n",
       "      <td>66.75</td>\n",
       "      <td>13</td>\n",
       "      <td>0.000000</td>\n",
       "      <td>2025-03-12 07:30:00-05:00</td>\n",
       "      <td>NaN</td>\n",
       "      <td>NaN</td>\n",
       "      <td>3.614M</td>\n",
       "      <td>2025-03-12 08:30:00-04:00</td>\n",
       "      <td>NaN</td>\n",
       "      <td>984.0</td>\n",
       "    </tr>\n",
       "    <tr>\n",
       "      <th>2025-03-11 23:56:00-05:00</th>\n",
       "      <td>66.75</td>\n",
       "      <td>66.75</td>\n",
       "      <td>66.74</td>\n",
       "      <td>66.74</td>\n",
       "      <td>3</td>\n",
       "      <td>-0.014981</td>\n",
       "      <td>2025-03-12 07:30:00-05:00</td>\n",
       "      <td>NaN</td>\n",
       "      <td>NaN</td>\n",
       "      <td>3.614M</td>\n",
       "      <td>2025-03-12 08:30:00-04:00</td>\n",
       "      <td>NaN</td>\n",
       "      <td>986.0</td>\n",
       "    </tr>\n",
       "    <tr>\n",
       "      <th>2025-03-11 23:58:00-05:00</th>\n",
       "      <td>66.75</td>\n",
       "      <td>66.75</td>\n",
       "      <td>66.75</td>\n",
       "      <td>66.75</td>\n",
       "      <td>3</td>\n",
       "      <td>0.014984</td>\n",
       "      <td>2025-03-12 07:30:00-05:00</td>\n",
       "      <td>NaN</td>\n",
       "      <td>NaN</td>\n",
       "      <td>3.614M</td>\n",
       "      <td>2025-03-12 08:30:00-04:00</td>\n",
       "      <td>NaN</td>\n",
       "      <td>988.0</td>\n",
       "    </tr>\n",
       "    <tr>\n",
       "      <th>2025-03-11 23:59:00-05:00</th>\n",
       "      <td>66.75</td>\n",
       "      <td>66.75</td>\n",
       "      <td>66.75</td>\n",
       "      <td>66.75</td>\n",
       "      <td>1</td>\n",
       "      <td>0.000000</td>\n",
       "      <td>2025-03-12 07:30:00-05:00</td>\n",
       "      <td>NaN</td>\n",
       "      <td>NaN</td>\n",
       "      <td>3.614M</td>\n",
       "      <td>2025-03-12 08:30:00-04:00</td>\n",
       "      <td>NaN</td>\n",
       "      <td>989.0</td>\n",
       "    </tr>\n",
       "  </tbody>\n",
       "</table>\n",
       "<p>2779439 rows × 13 columns</p>\n",
       "</div>"
      ],
      "text/plain": [
       "                             Open    High     Low   Close  Volume  \\\n",
       "Datetime_CST                                                        \n",
       "2011-03-07 23:59:00-06:00  104.74  104.77  104.73  104.73      18   \n",
       "2011-03-08 00:00:00-06:00  104.74  104.82  104.74  104.81      34   \n",
       "2011-03-08 00:01:00-06:00  104.82  104.84  104.82  104.82      12   \n",
       "2011-03-08 00:02:00-06:00  104.81  104.81  104.73  104.75      20   \n",
       "2011-03-08 00:03:00-06:00  104.74  104.76  104.71  104.76      25   \n",
       "...                           ...     ...     ...     ...     ...   \n",
       "2025-03-11 23:53:00-05:00   66.75   66.76   66.74   66.75      23   \n",
       "2025-03-11 23:54:00-05:00   66.75   66.75   66.75   66.75      13   \n",
       "2025-03-11 23:56:00-05:00   66.75   66.75   66.74   66.74       3   \n",
       "2025-03-11 23:58:00-05:00   66.75   66.75   66.75   66.75       3   \n",
       "2025-03-11 23:59:00-05:00   66.75   66.75   66.75   66.75       1   \n",
       "\n",
       "                           Percent_Change      Release_Datetime_CST  Actual  \\\n",
       "Datetime_CST                                                                  \n",
       "2011-03-07 23:59:00-06:00             NaN 2011-03-09 09:30:00-06:00  2.500M   \n",
       "2011-03-08 00:00:00-06:00        0.076387 2011-03-09 09:30:00-06:00  2.500M   \n",
       "2011-03-08 00:01:00-06:00        0.009541 2011-03-09 09:30:00-06:00  2.500M   \n",
       "2011-03-08 00:02:00-06:00       -0.066781 2011-03-09 09:30:00-06:00  2.500M   \n",
       "2011-03-08 00:03:00-06:00        0.009547 2011-03-09 09:30:00-06:00  2.500M   \n",
       "...                                   ...                       ...     ...   \n",
       "2025-03-11 23:53:00-05:00        0.000000 2025-03-12 07:30:00-05:00     NaN   \n",
       "2025-03-11 23:54:00-05:00        0.000000 2025-03-12 07:30:00-05:00     NaN   \n",
       "2025-03-11 23:56:00-05:00       -0.014981 2025-03-12 07:30:00-05:00     NaN   \n",
       "2025-03-11 23:58:00-05:00        0.014984 2025-03-12 07:30:00-05:00     NaN   \n",
       "2025-03-11 23:59:00-05:00        0.000000 2025-03-12 07:30:00-05:00     NaN   \n",
       "\n",
       "                          Forecast Previous      Release_Datetime_EST  \\\n",
       "Datetime_CST                                                            \n",
       "2011-03-07 23:59:00-06:00   1.100M  -0.400M 2011-03-09 10:30:00-05:00   \n",
       "2011-03-08 00:00:00-06:00   1.100M  -0.400M 2011-03-09 10:30:00-05:00   \n",
       "2011-03-08 00:01:00-06:00   1.100M  -0.400M 2011-03-09 10:30:00-05:00   \n",
       "2011-03-08 00:02:00-06:00   1.100M  -0.400M 2011-03-09 10:30:00-05:00   \n",
       "2011-03-08 00:03:00-06:00   1.100M  -0.400M 2011-03-09 10:30:00-05:00   \n",
       "...                            ...      ...                       ...   \n",
       "2025-03-11 23:53:00-05:00      NaN   3.614M 2025-03-12 08:30:00-04:00   \n",
       "2025-03-11 23:54:00-05:00      NaN   3.614M 2025-03-12 08:30:00-04:00   \n",
       "2025-03-11 23:56:00-05:00      NaN   3.614M 2025-03-12 08:30:00-04:00   \n",
       "2025-03-11 23:58:00-05:00      NaN   3.614M 2025-03-12 08:30:00-04:00   \n",
       "2025-03-11 23:59:00-05:00      NaN   3.614M 2025-03-12 08:30:00-04:00   \n",
       "\n",
       "                           supply_surprise  Time_till_Release  \n",
       "Datetime_CST                                                   \n",
       "2011-03-07 23:59:00-06:00              1.4              869.0  \n",
       "2011-03-08 00:00:00-06:00              1.4             -570.0  \n",
       "2011-03-08 00:01:00-06:00              1.4             -569.0  \n",
       "2011-03-08 00:02:00-06:00              1.4             -568.0  \n",
       "2011-03-08 00:03:00-06:00              1.4             -567.0  \n",
       "...                                    ...                ...  \n",
       "2025-03-11 23:53:00-05:00              NaN              983.0  \n",
       "2025-03-11 23:54:00-05:00              NaN              984.0  \n",
       "2025-03-11 23:56:00-05:00              NaN              986.0  \n",
       "2025-03-11 23:58:00-05:00              NaN              988.0  \n",
       "2025-03-11 23:59:00-05:00              NaN              989.0  \n",
       "\n",
       "[2779439 rows x 13 columns]"
      ]
     },
     "metadata": {},
     "output_type": "display_data"
    },
    {
     "name": "stdout",
     "output_type": "stream",
     "text": [
      "                               Release_Datetime_CST  Time_till_Release\n",
      "Datetime_CST                                                          \n",
      "2011-03-07 23:59:00-06:00 2011-03-09 09:30:00-06:00              869.0\n",
      "2011-03-08 00:00:00-06:00 2011-03-09 09:30:00-06:00             -570.0\n",
      "2011-03-08 00:01:00-06:00 2011-03-09 09:30:00-06:00             -569.0\n",
      "2011-03-08 00:02:00-06:00 2011-03-09 09:30:00-06:00             -568.0\n",
      "2011-03-08 00:03:00-06:00 2011-03-09 09:30:00-06:00             -567.0\n",
      "\n",
      "Summary statistics for Time_till_Release:\n",
      "count    2.779439e+06\n",
      "mean     1.652097e+02\n",
      "std      4.138760e+02\n",
      "min     -7.200000e+02\n",
      "25%     -1.860000e+02\n",
      "50%      1.460000e+02\n",
      "75%      5.340000e+02\n",
      "max      9.890000e+02\n",
      "Name: Time_till_Release, dtype: float64\n"
     ]
    }
   ],
   "source": [
    "# 2. Calculate the time difference: Release_Datetime_CST - Datetime_CST\n",
    "#    This will give you a pandas Timedelta object.\n",
    "def time_difference(time1, time2):\n",
    "    \"\"\"\n",
    "    Calculates the time difference in seconds between two datetime.time objects.\n",
    "\n",
    "    Args:\n",
    "        time1: The first datetime.time object.\n",
    "        time2: The second datetime.time object.\n",
    "\n",
    "    Returns:\n",
    "        The time difference in minutes as a float.\n",
    "    \"\"\"\n",
    "    # Choose a dummy date (it can be any date, as we only care about time difference)\n",
    "    dummy_date = datetime.date(1, 1, 1)  # January 1, Year 1\n",
    "\n",
    "    # Combine the dummy date with the times to create datetime.datetime objects\n",
    "    datetime1 = datetime.datetime.combine(dummy_date, time1)\n",
    "    datetime2 = datetime.datetime.combine(dummy_date, time2)\n",
    "\n",
    "    # Calculate the difference (this will be a timedelta object)\n",
    "    time_delta = datetime2 - datetime1\n",
    "\n",
    "    # Return the difference in seconds (you can adjust to minutes, hours, etc.)\n",
    "    return time_delta.total_seconds() / 60\n",
    "\n",
    "wti_with_eia_releases.dropna(subset=['Release_Datetime_CST'], inplace=True)\n",
    "\n",
    "time_diff = [time_difference(t1, t2) for t1, t2 in zip(wti_with_eia_releases.reset_index()['Release_Datetime_CST'].dt.time, wti_with_eia_releases.reset_index()['Datetime_CST'].dt.time)]\n",
    "\n",
    "# 3. Convert the Timedelta to minutes\n",
    "#    Timedelta objects have a .dt.total_seconds() method, then divide by 60 to get minutes.\n",
    "time_diff_series = pd.Series(time_diff)\n",
    "wti_with_eia_releases.reset_index(inplace=True)\n",
    "wti_with_eia_releases['Time_till_Release'] = (time_diff_series)\n",
    "wti_with_eia_releases.set_index('Datetime_CST', inplace=True)\n",
    "display(wti_with_eia_releases)\n",
    "# 4. (Optional) Display the first few rows with the new column\n",
    "print(wti_with_eia_releases[['Release_Datetime_CST', 'Time_till_Release']].head())\n",
    "\n",
    "# 5. (Optional) Summary statistics of the Time_to_Release_minutes\n",
    "print(\"\\nSummary statistics for Time_till_Release:\")\n",
    "print(wti_with_eia_releases['Time_till_Release'].describe())"
   ]
  },
  {
   "cell_type": "code",
   "execution_count": 102,
   "metadata": {},
   "outputs": [
    {
     "data": {
      "text/html": [
       "<div>\n",
       "<style scoped>\n",
       "    .dataframe tbody tr th:only-of-type {\n",
       "        vertical-align: middle;\n",
       "    }\n",
       "\n",
       "    .dataframe tbody tr th {\n",
       "        vertical-align: top;\n",
       "    }\n",
       "\n",
       "    .dataframe thead th {\n",
       "        text-align: right;\n",
       "    }\n",
       "</style>\n",
       "<table border=\"1\" class=\"dataframe\">\n",
       "  <thead>\n",
       "    <tr style=\"text-align: right;\">\n",
       "      <th></th>\n",
       "      <th>Volume</th>\n",
       "      <th>Percent_Change</th>\n",
       "      <th>Actual</th>\n",
       "      <th>Forecast</th>\n",
       "      <th>Previous</th>\n",
       "      <th>supply_surprise</th>\n",
       "      <th>Time_till_Release</th>\n",
       "    </tr>\n",
       "  </thead>\n",
       "  <tbody>\n",
       "    <tr>\n",
       "      <th>0</th>\n",
       "      <td>875</td>\n",
       "      <td>-0.142383</td>\n",
       "      <td>2.500M</td>\n",
       "      <td>1.100M</td>\n",
       "      <td>-0.400M</td>\n",
       "      <td>1.4</td>\n",
       "      <td>-60.0</td>\n",
       "    </tr>\n",
       "    <tr>\n",
       "      <th>1</th>\n",
       "      <td>566</td>\n",
       "      <td>0.019011</td>\n",
       "      <td>2.500M</td>\n",
       "      <td>1.100M</td>\n",
       "      <td>-0.400M</td>\n",
       "      <td>1.4</td>\n",
       "      <td>-59.0</td>\n",
       "    </tr>\n",
       "    <tr>\n",
       "      <th>2</th>\n",
       "      <td>921</td>\n",
       "      <td>-0.076031</td>\n",
       "      <td>2.500M</td>\n",
       "      <td>1.100M</td>\n",
       "      <td>-0.400M</td>\n",
       "      <td>1.4</td>\n",
       "      <td>-58.0</td>\n",
       "    </tr>\n",
       "    <tr>\n",
       "      <th>3</th>\n",
       "      <td>574</td>\n",
       "      <td>-0.066578</td>\n",
       "      <td>2.500M</td>\n",
       "      <td>1.100M</td>\n",
       "      <td>-0.400M</td>\n",
       "      <td>1.4</td>\n",
       "      <td>-57.0</td>\n",
       "    </tr>\n",
       "    <tr>\n",
       "      <th>4</th>\n",
       "      <td>1099</td>\n",
       "      <td>-0.057105</td>\n",
       "      <td>2.500M</td>\n",
       "      <td>1.100M</td>\n",
       "      <td>-0.400M</td>\n",
       "      <td>1.4</td>\n",
       "      <td>-56.0</td>\n",
       "    </tr>\n",
       "    <tr>\n",
       "      <th>...</th>\n",
       "      <td>...</td>\n",
       "      <td>...</td>\n",
       "      <td>...</td>\n",
       "      <td>...</td>\n",
       "      <td>...</td>\n",
       "      <td>...</td>\n",
       "      <td>...</td>\n",
       "    </tr>\n",
       "    <tr>\n",
       "      <th>255333</th>\n",
       "      <td>128</td>\n",
       "      <td>0.000000</td>\n",
       "      <td>NaN</td>\n",
       "      <td>NaN</td>\n",
       "      <td>3.614M</td>\n",
       "      <td>NaN</td>\n",
       "      <td>56.0</td>\n",
       "    </tr>\n",
       "    <tr>\n",
       "      <th>255334</th>\n",
       "      <td>133</td>\n",
       "      <td>0.000000</td>\n",
       "      <td>NaN</td>\n",
       "      <td>NaN</td>\n",
       "      <td>3.614M</td>\n",
       "      <td>NaN</td>\n",
       "      <td>57.0</td>\n",
       "    </tr>\n",
       "    <tr>\n",
       "      <th>255335</th>\n",
       "      <td>88</td>\n",
       "      <td>0.014968</td>\n",
       "      <td>NaN</td>\n",
       "      <td>NaN</td>\n",
       "      <td>3.614M</td>\n",
       "      <td>NaN</td>\n",
       "      <td>58.0</td>\n",
       "    </tr>\n",
       "    <tr>\n",
       "      <th>255336</th>\n",
       "      <td>275</td>\n",
       "      <td>0.000000</td>\n",
       "      <td>NaN</td>\n",
       "      <td>NaN</td>\n",
       "      <td>3.614M</td>\n",
       "      <td>NaN</td>\n",
       "      <td>59.0</td>\n",
       "    </tr>\n",
       "    <tr>\n",
       "      <th>255337</th>\n",
       "      <td>284</td>\n",
       "      <td>0.014966</td>\n",
       "      <td>NaN</td>\n",
       "      <td>NaN</td>\n",
       "      <td>3.614M</td>\n",
       "      <td>NaN</td>\n",
       "      <td>60.0</td>\n",
       "    </tr>\n",
       "  </tbody>\n",
       "</table>\n",
       "<p>255338 rows × 7 columns</p>\n",
       "</div>"
      ],
      "text/plain": [
       "        Volume  Percent_Change  Actual Forecast Previous  supply_surprise  \\\n",
       "0          875       -0.142383  2.500M   1.100M  -0.400M              1.4   \n",
       "1          566        0.019011  2.500M   1.100M  -0.400M              1.4   \n",
       "2          921       -0.076031  2.500M   1.100M  -0.400M              1.4   \n",
       "3          574       -0.066578  2.500M   1.100M  -0.400M              1.4   \n",
       "4         1099       -0.057105  2.500M   1.100M  -0.400M              1.4   \n",
       "...        ...             ...     ...      ...      ...              ...   \n",
       "255333     128        0.000000     NaN      NaN   3.614M              NaN   \n",
       "255334     133        0.000000     NaN      NaN   3.614M              NaN   \n",
       "255335      88        0.014968     NaN      NaN   3.614M              NaN   \n",
       "255336     275        0.000000     NaN      NaN   3.614M              NaN   \n",
       "255337     284        0.014966     NaN      NaN   3.614M              NaN   \n",
       "\n",
       "        Time_till_Release  \n",
       "0                   -60.0  \n",
       "1                   -59.0  \n",
       "2                   -58.0  \n",
       "3                   -57.0  \n",
       "4                   -56.0  \n",
       "...                   ...  \n",
       "255333               56.0  \n",
       "255334               57.0  \n",
       "255335               58.0  \n",
       "255336               59.0  \n",
       "255337               60.0  \n",
       "\n",
       "[255338 rows x 7 columns]"
      ]
     },
     "metadata": {},
     "output_type": "display_data"
    }
   ],
   "source": [
    "non_release_price_windows_60min = wti_with_eia_releases.copy().loc[wti_with_eia_releases['Time_till_Release'].abs() <= 60.0]\n",
    "non_release_price_windows_60min.reset_index(inplace=True)\n",
    "non_release_price_windows_60min.drop(columns=['Datetime_CST', 'Open', 'High', 'Low', 'Close', 'Release_Datetime_CST', 'Release_Datetime_EST'], inplace=True)\n",
    "display(non_release_price_windows_60min)"
   ]
  },
  {
   "cell_type": "code",
   "execution_count": null,
   "metadata": {},
   "outputs": [
    {
     "name": "stderr",
     "output_type": "stream",
     "text": [
      "C:\\Users\\evans\\AppData\\Local\\Temp\\ipykernel_23536\\1659211699.py:10: FutureWarning:\n",
      "\n",
      "The default of observed=False is deprecated and will be changed to True in a future version of pandas. Pass observed=False to retain current behavior or observed=True to adopt the future default and silence this warning.\n",
      "\n"
     ]
    },
    {
     "data": {
      "application/vnd.plotly.v1+json": {
       "config": {
        "plotlyServerURL": "https://plot.ly"
       },
       "data": [
        {
         "colorbar": {
          "title": {
           "text": "Frequency"
          }
         },
         "colorscale": [
          [
           0,
           "#440154"
          ],
          [
           0.1111111111111111,
           "#482878"
          ],
          [
           0.2222222222222222,
           "#3e4989"
          ],
          [
           0.3333333333333333,
           "#31688e"
          ],
          [
           0.4444444444444444,
           "#26828e"
          ],
          [
           0.5555555555555556,
           "#1f9e89"
          ],
          [
           0.6666666666666666,
           "#35b779"
          ],
          [
           0.7777777777777778,
           "#6ece58"
          ],
          [
           0.8888888888888888,
           "#b5de2b"
          ],
          [
           1,
           "#fde725"
          ]
         ],
         "type": "heatmap",
         "x": {
          "bdata": "AAAAAAAATsAAAAAAAIBNwAAAAAAAAE3AAAAAAACATMAAAAAAAABMwAAAAAAAgEvAAAAAAAAAS8AAAAAAAIBKwAAAAAAAAErAAAAAAACAScAAAAAAAABJwAAAAAAAgEjAAAAAAAAASMAAAAAAAIBHwAAAAAAAAEfAAAAAAACARsAAAAAAAABGwAAAAAAAgEXAAAAAAAAARcAAAAAAAIBEwAAAAAAAAETAAAAAAACAQ8AAAAAAAABDwAAAAAAAgELAAAAAAAAAQsAAAAAAAIBBwAAAAAAAAEHAAAAAAACAQMAAAAAAAABAwAAAAAAAAD/AAAAAAAAAPsAAAAAAAAA9wAAAAAAAADzAAAAAAAAAO8AAAAAAAAA6wAAAAAAAADnAAAAAAAAAOMAAAAAAAAA3wAAAAAAAADbAAAAAAAAANcAAAAAAAAA0wAAAAAAAADPAAAAAAAAAMsAAAAAAAAAxwAAAAAAAADDAAAAAAAAALsAAAAAAAAAswAAAAAAAACrAAAAAAAAAKMAAAAAAAAAmwAAAAAAAACTAAAAAAAAAIsAAAAAAAAAgwAAAAAAAABzAAAAAAAAAGMAAAAAAAAAUwAAAAAAAABDAAAAAAAAACMAAAAAAAAAAwAAAAAAAAPC/AAAAAAAAAAAAAAAAAADwPwAAAAAAAABAAAAAAAAACEAAAAAAAAAQQAAAAAAAABRAAAAAAAAAGEAAAAAAAAAcQAAAAAAAACBAAAAAAAAAIkAAAAAAAAAkQAAAAAAAACZAAAAAAAAAKEAAAAAAAAAqQAAAAAAAACxAAAAAAAAALkAAAAAAAAAwQAAAAAAAADFAAAAAAAAAMkAAAAAAAAAzQAAAAAAAADRAAAAAAAAANUAAAAAAAAA2QAAAAAAAADdAAAAAAAAAOEAAAAAAAAA5QAAAAAAAADpAAAAAAAAAO0AAAAAAAAA8QAAAAAAAAD1AAAAAAAAAPkAAAAAAAAA/QAAAAAAAAEBAAAAAAACAQEAAAAAAAABBQAAAAAAAgEFAAAAAAAAAQkAAAAAAAIBCQAAAAAAAAENAAAAAAACAQ0AAAAAAAABEQAAAAAAAgERAAAAAAAAARUAAAAAAAIBFQAAAAAAAAEZAAAAAAACARkAAAAAAAABHQAAAAAAAgEdAAAAAAAAASEAAAAAAAIBIQAAAAAAAAElAAAAAAACASUAAAAAAAABKQAAAAAAAgEpAAAAAAAAAS0AAAAAAAIBLQAAAAAAAAExAAAAAAACATEAAAAAAAABNQAAAAAAAgE1AAAAAAAAATkA=",
          "dtype": "f8"
         },
         "y": [
          "-1.00%",
          "-0.95%",
          "-0.90%",
          "-0.85%",
          "-0.80%",
          "-0.75%",
          "-0.70%",
          "-0.65%",
          "-0.60%",
          "-0.55%",
          "-0.50%",
          "-0.45%",
          "-0.40%",
          "-0.35%",
          "-0.30%",
          "-0.25%",
          "-0.20%",
          "-0.15%",
          "-0.10%",
          "-0.05%",
          "0.00%",
          "0.05%",
          "0.10%",
          "0.15%",
          "0.20%",
          "0.25%",
          "0.30%",
          "0.35%",
          "0.40%",
          "0.45%",
          "0.50%",
          "0.55%",
          "0.60%",
          "0.65%",
          "0.70%",
          "0.75%",
          "0.80%",
          "0.85%",
          "0.90%",
          "0.95%"
         ],
         "z": {
          "bdata": "k5Un7ho5wD8AAAAAAAAAAAAAAAAAAAAAAAAAAAAAAAAAAAAAAAAAAAAAAAAAAAAAAAAAAAAAAAAAAAAAAAAAAJOVJ+4aOcA/AAAAAAAAAAAAAAAAAAAAAAAAAAAAAAAAAAAAAAAAAAAAAAAAAAAAAAAAAAAAAAAAAAAAAAAAAAAAAAAAAAAAAAAAAAAAAAAAAAAAAAAAAACTlSfuGjnAPwAAAAAAAAAAAAAAAAAAAAAAAAAAAAAAAAAAAAAAAAAAAAAAAAAAAAAAAAAAAAAAAAAAAAAAAAAAAAAAAAAAAAAAAAAAAAAAAAAAAAAAAAAAk5Un7ho5wD8AAAAAAAAAAJOVJ+4aOcA/AAAAAAAAAAAAAAAAAAAAAJOVJ+4aOcA/AAAAAAAAAAAAAAAAAAAAAAAAAAAAAAAAAAAAAAAAAAAAAAAAAAAAAAAAAAAAAAAAAAAAAAAAAAAAAAAAAAAAAAAAAAAAAAAAAAAAAAAAAAAAAAAAAAAAAAAAAAAAAAAAAAAAAAAAAAAAAAAAAAAAAAAAAAAAAAAAAAAAAAAAAAAAAAAAAAAAAJOVJ+4aOcA/AAAAAAAAAAAAAAAAAAAAAJOVJ+4aOcA/AAAAAAAAAAAAAAAAAAAAAAAAAAAAAAAAAAAAAAAAAACTlSfuGjnAPwAAAAAAAAAAAAAAAAAAAAAAAAAAAAAAAAAAAAAAAAAAAAAAAAAAAAAAAAAAAAAAAJOVJ+4aOcA/AAAAAAAAAAAAAAAAAAAAAAAAAAAAAAAAAAAAAAAAAAAAAAAAAAAAAAAAAAAAAAAAAAAAAAAAAAAAAAAAAAAAAAAAAAAAAAAAk5Un7ho5wD8AAAAAAAAAAAAAAAAAAAAAAAAAAAAAAAAAAAAAAAAAAAAAAAAAAAAAAAAAAAAAAAAAAAAAAAAAAAAAAAAAAAAAAAAAAAAAAAAAAAAAAAAAAAAAAAAAAAAAAAAAAAAAAAAAAAAAAAAAAAAAAAAAAAAAAAAAAAAAAAAAAAAAAAAAAAAAAAAAAAAAAAAAAAAAAAAAAAAAAAAAAAAAAAAAAAAAAAAAAAAAAAAAAAAAAAAAAAAAAAAAAAAAAAAAAAAAAAAAAAAAAAAAAAAAAAAAAAAAk5Un7ho5wD8AAAAAAAAAAAAAAAAAAAAAAAAAAAAAAAAAAAAAAAAAAAAAAAAAAAAAAAAAAAAAAAAAAAAAAAAAAAAAAAAAAAAAAAAAAAAAAAAAAAAAAAAAAAAAAAAAAAAAAAAAAAAAAAAAAAAAAAAAAAAAAAAAAAAAAAAAAAAAAAAAAAAAAAAAAAAAAAAAAAAAAAAAAAAAAAAAAAAAAAAAAAAAAAAAAAAAAAAAAAAAAAAAAAAAAAAAAAAAAAAAAAAAAAAAAAAAAAAAAAAAAAAAAAAAAAAAAAAAAAAAAAAAAAAAAAAAAAAAAAAAAAAAAAAAAAAAAAAAAAAAAAAAAAAAAAAAAAAAAAAAAAAAAAAAAAAAAAAAAAAAAAAAAAAAAAAAAAAAAAAAAAAAAAAAAAAAAAAAAAAAAAAAAAAAAAAAAAAAAAAAAAAAAAAAAAAAAAAAAAAAAAAAAAAAAAAAAAAAAAAAAAAAAAAAAAAAAAAAAACTlSfuGjnAPwAAAAAAAAAAAAAAAAAAAAAAAAAAAAAAAAAAAAAAAAAAAAAAAAAAAAAAAAAAAAAAAAAAAAAAAAAAk5Un7ho5wD+TlSfuGjnAPwAAAAAAAAAAAAAAAAAAAAAAAAAAAAAAAAAAAAAAAAAAAAAAAAAAAAAAAAAAAAAAAAAAAAAAAAAAAAAAAAAAAAAAAAAAAAAAAAAAAAAAAAAAAAAAAAAAAAAAAAAAAAAAAAAAAAAAAAAAAAAAAAAAAAAAAAAAAAAAAJOVJ+4aOcA/AAAAAAAAAAAAAAAAAAAAAAAAAAAAAAAAAAAAAAAAAAAAAAAAAAAAAAAAAAAAAAAAAAAAAAAAAAAAAAAAAAAAAAAAAAAAAAAAAAAAAAAAAAAAAAAAAAAAAAAAAAAAAAAAAAAAAAAAAAAAAAAAAAAAAAAAAAAAAAAAAAAAAAAAAAAAAAAAAAAAAAAAAAAAAAAAAAAAAAAAAAAAAAAAAAAAAAAAAAAAAAAAAAAAAAAAAAAAAAAAAAAAAAAAAAAAAAAAAAAAAAAAAAAAAAAAAAAAAAAAAAAAAAAAAAAAAAAAAAAAAAAAAAAAAAAAAAAAAAAAAAAAAAAAAAAAAAAAAAAAAAAAAAAAAAAAAAAAAAAAAACTlSfuGjnQPwAAAAAAAAAAAAAAAAAAAAAAAAAAAAAAAAAAAAAAAAAAAAAAAAAAAAAAAAAAAAAAAAAAAAAAAAAAk5Un7ho5wD8AAAAAAAAAAAAAAAAAAAAAAAAAAAAAAAAAAAAAAAAAAAAAAAAAAAAAAAAAAAAAAAAAAAAAAAAAAAAAAAAAAAAAAAAAAAAAAAAAAAAAAAAAAJOVJ+4aOdA/AAAAAAAAAAAAAAAAAAAAAAAAAAAAAAAAAAAAAAAAAAAAAAAAAAAAAAAAAAAAAAAAk5Un7ho5wD8AAAAAAAAAAAAAAAAAAAAAAAAAAAAAAAAAAAAAAAAAAAAAAAAAAAAAAAAAAAAAAAAAAAAAAAAAAAAAAAAAAAAAAAAAAAAAAACTlSfuGjnAPwAAAAAAAAAAAAAAAAAAAACTlSfuGjnAPwAAAAAAAAAAk5Un7ho5wD8AAAAAAAAAAAAAAAAAAAAAAAAAAAAAAAAAAAAAAAAAAAAAAAAAAAAAAAAAAAAAAAAAAAAAAAAAAJOVJ+4aOcA/AAAAAAAAAAAAAAAAAAAAAAAAAAAAAAAAAAAAAAAAAAAAAAAAAAAAAAAAAAAAAAAAAAAAAAAAAAAAAAAAAAAAAAAAAAAAAAAAAAAAAAAAAAAAAAAAAAAAAAAAAAAAAAAAAAAAAAAAAAAAAAAAAAAAAAAAAAAAAAAAAAAAAAAAAAAAAAAAAAAAAAAAAAAAAAAAk5Un7ho5wD8AAAAAAAAAAAAAAAAAAAAAAAAAAAAAAAAAAAAAAAAAAAAAAAAAAAAAAAAAAAAAAAAAAAAAAAAAAAAAAAAAAAAAAAAAAAAAAAAAAAAAAAAAAJOVJ+4aOcA/AAAAAAAAAAAAAAAAAAAAAAAAAAAAAAAAAAAAAAAAAAAAAAAAAAAAAAAAAAAAAAAAAAAAAAAAAAAAAAAAAAAAAJOVJ+4aOcA/AAAAAAAAAAAAAAAAAAAAAAAAAAAAAAAAAAAAAAAAAAAAAAAAAAAAAJOVJ+4aOcA/AAAAAAAAAAAAAAAAAAAAAAAAAAAAAAAAAAAAAAAAAACTlSfuGjnAPwAAAAAAAAAAAAAAAAAAAACTlSfuGjnAP5OVJ+4aOcA/AAAAAAAAAACTlSfuGjnAPwAAAAAAAAAAAAAAAAAAAAAAAAAAAAAAAAAAAAAAAAAAAAAAAAAAAAAAAAAAAAAAAAAAAAAAAAAAAAAAAAAAAAAAAAAAAAAAAAAAAAAAAAAAAAAAAAAAAACTlSfuGjnAP5OVJ+4aOcA/AAAAAAAAAAAAAAAAAAAAAAAAAAAAAAAAAAAAAAAAAAAAAAAAAAAAAAAAAAAAAAAAAAAAAAAAAAAAAAAAAAAAAJOVJ+4aOcA/AAAAAAAAAAAAAAAAAAAAAAAAAAAAAAAAAAAAAAAAAAAAAAAAAAAAAAAAAAAAAAAAAAAAAAAAAAAAAAAAAAAAAAAAAAAAAAAAAAAAAAAAAAAAAAAAAAAAAAAAAAAAAAAAAAAAAAAAAAAAAAAAAAAAAAAAAAAAAAAAAAAAAAAAAAAAAAAAAAAAAAAAAAAAAAAAAAAAAAAAAAAAAAAAAAAAAJOVJ+4aOcA/k5Un7ho5wD8AAAAAAAAAAAAAAAAAAAAAk5Un7ho5wD+TlSfuGjnAPwAAAAAAAAAAAAAAAAAAAAAAAAAAAAAAAAAAAAAAAAAAAAAAAAAAAAAAAAAAAAAAAAAAAAAAAAAAAAAAAAAAAAAAAAAAAAAAAAAAAAAAAAAAAAAAAAAAAAAAAAAAAAAAAAAAAAAAAAAAAAAAAAAAAAAAAAAAAAAAAAAAAAAAAAAAAAAAAAAAAAAAAAAAAAAAAAAAAAAAAAAAAAAAAAAAAAAAAAAAAAAAAAAAAAAAAAAAAAAAAAAAAAAAAAAAAAAAAAAAAAAAAAAAk5Un7ho5wD+TlSfuGjnAPwAAAAAAAAAAAAAAAAAAAACTlSfuGjnAP5OVJ+4aOcA/AAAAAAAAAACTlSfuGjnAPwAAAAAAAAAAAAAAAAAAAACTlSfuGjnAPwAAAAAAAAAAAAAAAAAAAAAAAAAAAAAAAAAAAAAAAAAAk5Un7ho5wD8AAAAAAAAAAJOVJ+4aOcA/AAAAAAAAAAAAAAAAAAAAAAAAAAAAAAAAAAAAAAAAAAAAAAAAAAAAAAAAAAAAAAAAAAAAAAAAAAAAAAAAAAAAAAAAAAAAAAAAAAAAAAAAAAAAAAAAAAAAAAAAAAAAAAAAAAAAAAAAAAAAAAAAAAAAAAAAAAAAAAAAAAAAAAAAAACTlSfuGjnAP5OVJ+4aOcA/AAAAAAAAAAAAAAAAAAAAAJOVJ+4aOcA/AAAAAAAAAACTlSfuGjnAPwAAAAAAAAAAAAAAAAAAAAAAAAAAAAAAAF1gO2WoVdg/AAAAAAAAAAAAAAAAAAAAAAAAAAAAAAAAAAAAAAAAAAAAAAAAAAAAAAAAAAAAAAAAAAAAAAAAAAAAAAAAAAAAAAAAAAAAAAAAAAAAAAAAAAAAAAAAAAAAAAAAAAAAAAAAAAAAAAAAAAAAAAAAAAAAAAAAAAAAAAAAAAAAAAAAAAAAAAAAAAAAAAAAAAAAAAAAAAAAAAAAAACTlSfuGjnAP5OVJ+4aOcA/AAAAAAAAAAAAAAAAAAAAAJOVJ+4aOcA/AAAAAAAAAACTlSfuGjnAP5OVJ+4aOcA/AAAAAAAAAAAAAAAAAAAAAAAAAAAAAAAAAAAAAAAAAAAAAAAAAAAAAAAAAAAAAAAAAAAAAAAAAAAAAAAAAAAAAAAAAAAAAAAAAAAAAAAAAAAAAAAAAAAAAAAAAAAAAAAAAAAAAAAAAAAAAAAAAAAAAAAAAAAAAAAAAAAAAAAAAAAAAAAAAAAAAAAAAAAAAAAAAAAAAAAAAAAAAAAAAAAAAAAAAAAAAAAAAAAAAAAAAAAAAAAAAAAAAAAAAAAAAAAAAAAAAAAAAAAAAAAAAAAAAAAAAAAAAAAAAAAAAAAAAAAAAAAAAAAAAAAAAAAAAAAAAAAAAAAAAAAAAAAAAAAAAAAAAAAAAAAAAAAAAAAAAAAAAAAAAAAAAAAAAAAAAAAAAAAAAAAAAACTlSfuGjnAPwAAAAAAAAAAAAAAAAAAAAAAAAAAAAAAAAAAAAAAAAAAk5Un7ho5wD8AAAAAAAAAAAAAAAAAAAAAAAAAAAAAAAAAAAAAAAAAAJOVJ+4aOcA/AAAAAAAAAAAAAAAAAAAAAAAAAAAAAAAAAAAAAAAAAACTlSfuGjnQPwAAAAAAAAAAAAAAAAAAAAAAAAAAAAAAAJOVJ+4aOcA/AAAAAAAAAAAAAAAAAAAAAJOVJ+4aOcA/AAAAAAAAAAAAAAAAAAAAAAAAAAAAAAAAAAAAAAAAAAAAAAAAAAAAAAAAAAAAAAAAAAAAAAAAAAAAAAAAAAAAAAAAAAAAAAAAk5Un7ho5wD8AAAAAAAAAAAAAAAAAAAAAAAAAAAAAAAAAAAAAAAAAAAAAAAAAAAAAAAAAAAAAAAAAAAAAAAAAAAAAAAAAAAAAk5Un7ho5wD8AAAAAAAAAAAAAAAAAAAAAAAAAAAAAAACTlSfuGjnAPwAAAAAAAAAAAAAAAAAAAAAAAAAAAAAAAAAAAAAAAAAAAAAAAAAAAACTlSfuGjnAPwAAAAAAAAAAAAAAAAAAAAAAAAAAAAAAAAAAAAAAAAAAAAAAAAAAAAAAAAAAAAAAAAAAAAAAAAAAAAAAAAAAAAAAAAAAAAAAAJOVJ+4aOdA/AAAAAAAAAAAAAAAAAAAAAAAAAAAAAAAAAAAAAAAAAAAAAAAAAAAAAAAAAAAAAAAAAAAAAAAAAACTlSfuGjnAPwAAAAAAAAAAk5Un7ho5wD8AAAAAAAAAAAAAAAAAAAAAAAAAAAAAAAAAAAAAAAAAAJOVJ+4aOdA/AAAAAAAAAAAAAAAAAAAAAAAAAAAAAAAAAAAAAAAAAAAAAAAAAAAAAJOVJ+4aOcA/AAAAAAAAAAAAAAAAAAAAAAAAAAAAAAAAAAAAAAAAAAAAAAAAAAAAAAAAAAAAAAAAAAAAAAAAAAAAAAAAAAAAAAAAAAAAAAAAk5Un7ho5wD8AAAAAAAAAAAAAAAAAAAAAAAAAAAAAAACTlSfuGjnAPwAAAAAAAAAAAAAAAAAAAACTlSfuGjnAPwAAAAAAAAAAAAAAAAAAAAAAAAAAAAAAAAAAAAAAAAAAAAAAAAAAAAAAAAAAAAAAAJOVJ+4aOcA/k5Un7ho5wD+TlSfuGjnAPwAAAAAAAAAAAAAAAAAAAACTlSfuGjnAPwAAAAAAAAAAAAAAAAAAAAAAAAAAAAAAAJOVJ+4aOcA/AAAAAAAAAAAAAAAAAAAAAAAAAAAAAAAAAAAAAAAAAAAAAAAAAAAAAAAAAAAAAAAAk5Un7ho5wD8AAAAAAAAAAAAAAAAAAAAAAAAAAAAAAAAAAAAAAAAAAAAAAAAAAAAAAAAAAAAAAACTlSfuGjnAPwAAAAAAAAAAk5Un7ho5wD8AAAAAAAAAAAAAAAAAAAAAAAAAAAAAAAAAAAAAAAAAAF1gO2WoVdg/AAAAAAAAAAAAAAAAAAAAAAAAAAAAAAAAAAAAAAAAAACTlSfuGjnQPwAAAAAAAAAAk5Un7ho5wD8AAAAAAAAAAJOVJ+4aOcA/AAAAAAAAAAAAAAAAAAAAAAAAAAAAAAAAk5Un7ho5wD8AAAAAAAAAAAAAAAAAAAAAAAAAAAAAAAAAAAAAAAAAAAAAAAAAAAAAAAAAAAAAAAAAAAAAAAAAAAAAAAAAAAAAAAAAAAAAAACTlSfuGjnAPwAAAAAAAAAAAAAAAAAAAAAAAAAAAAAAAAAAAAAAAAAAAAAAAAAAAAAAAAAAAAAAAAAAAAAAAAAAAAAAAAAAAAAAAAAAAAAAAAAAAAAAAAAAk5Un7ho5wD8AAAAAAAAAAAAAAAAAAAAAAAAAAAAAAAAAAAAAAAAAAAAAAAAAAAAAAAAAAAAAAAAAAAAAAAAAAJOVJ+4aOcA/AAAAAAAAAAAAAAAAAAAAAAAAAAAAAAAAAAAAAAAAAACTlSfuGjnAPwAAAAAAAAAAAAAAAAAAAAAAAAAAAAAAAAAAAAAAAAAAAAAAAAAAAAAAAAAAAAAAAAAAAAAAAAAAk5Un7ho5wD8AAAAAAAAAAAAAAAAAAAAAAAAAAAAAAAAAAAAAAAAAAJOVJ+4aOdA/AAAAAAAAAAAAAAAAAAAAAJOVJ+4aOcA/AAAAAAAAAAAAAAAAAAAAAAAAAAAAAAAAAAAAAAAAAAAAAAAAAAAAAJOVJ+4aOcA/AAAAAAAAAAAAAAAAAAAAAAAAAAAAAAAAAAAAAAAAAAAAAAAAAAAAAAAAAAAAAAAAAAAAAAAAAAAAAAAAAAAAAAAAAAAAAAAAAAAAAAAAAACTlSfuGjnAPwAAAAAAAAAAAAAAAAAAAAAAAAAAAAAAAAAAAAAAAAAAAAAAAAAAAAAAAAAAAAAAAAAAAAAAAAAAAAAAAAAAAAAAAAAAAAAAAAAAAAAAAAAAk5Un7ho50D8AAAAAAAAAAJOVJ+4aOcA/AAAAAAAAAAAAAAAAAAAAAAAAAAAAAAAAAAAAAAAAAAAAAAAAAAAAAAAAAAAAAAAAk5Un7ho5wD+TlSfuGjnAP5OVJ+4aOcA/AAAAAAAAAAAAAAAAAAAAAAAAAAAAAAAAk5Un7ho5wD8AAAAAAAAAAJOVJ+4aOcA/AAAAAAAAAAAAAAAAAAAAAJOVJ+4aOcA/k5Un7ho5wD8AAAAAAAAAAAAAAAAAAAAAAAAAAAAAAAAAAAAAAAAAAAAAAAAAAAAAAAAAAAAAAAAAAAAAAAAAAAAAAAAAAAAAAAAAAAAAAACTlSfuGjnAP5OVJ+4aOcA/k5Un7ho5wD+TlSfuGjnAPwAAAAAAAAAAAAAAAAAAAACTlSfuGjnAPwAAAAAAAAAAAAAAAAAAAACTlSfuGjnAPwAAAAAAAAAAAAAAAAAAAAAAAAAAAAAAAAAAAAAAAAAAk5Un7ho50D8AAAAAAAAAAAAAAAAAAAAAk5Un7ho50D8AAAAAAAAAAAAAAAAAAAAAAAAAAAAAAACTlSfuGjnQPwAAAAAAAAAAAAAAAAAAAAAAAAAAAAAAAJOVJ+4aOcA/AAAAAAAAAAAAAAAAAAAAAAAAAAAAAAAAk5Un7ho5wD+TlSfuGjnQP5OVJ+4aOcA/AAAAAAAAAACTlSfuGjnAP5OVJ+4aOcA/k5Un7ho5wD8AAAAAAAAAAAAAAAAAAAAAAAAAAAAAAAAAAAAAAAAAAAAAAAAAAAAAAAAAAAAAAACTlSfuGjnQPwAAAAAAAAAAk5Un7ho50D8AAAAAAAAAAJOVJ+4aOcA/AAAAAAAAAAAAAAAAAAAAAAAAAAAAAAAAAAAAAAAAAAAAAAAAAAAAAAAAAAAAAAAAAAAAAAAAAAAAAAAAAAAAAAAAAAAAAAAAk5Un7ho5wD8AAAAAAAAAAAAAAAAAAAAAk5Un7ho50D+TlSfuGjnAP5OVJ+4aOcA/k5Un7ho5wD8AAAAAAAAAAAAAAAAAAAAAAAAAAAAAAAAAAAAAAAAAAAAAAAAAAAAAAAAAAAAAAAAAAAAAAAAAAAAAAAAAAAAAAAAAAAAAAAAAAAAAAAAAAAAAAAAAAAAAAAAAAAAAAAAAAAAAAAAAAJOVJ+4aOcA/k5Un7ho5wD8AAAAAAAAAAAAAAAAAAAAAAAAAAAAAAAAAAAAAAAAAAAAAAAAAAAAAAAAAAAAAAAAAAAAAAAAAAAAAAAAAAAAAAAAAAAAAAAAAAAAAAAAAAAAAAAAAAAAAAAAAAAAAAACTlSfuGjnAPwAAAAAAAAAAAAAAAAAAAAAAAAAAAAAAAAAAAAAAAAAAAAAAAAAAAAAAAAAAAAAAAAAAAAAAAAAAAAAAAAAAAACTlSfuGjnAP5OVJ+4aOcA/AAAAAAAAAACTlSfuGjnAPwAAAAAAAAAAAAAAAAAAAACTlSfuGjnAPwAAAAAAAAAAk5Un7ho5wD8AAAAAAAAAAJOVJ+4aOcA/k5Un7ho5wD8AAAAAAAAAAAAAAAAAAAAAAAAAAAAAAAAAAAAAAAAAAAAAAAAAAAAAk5Un7ho50D8AAAAAAAAAAAAAAAAAAAAAAAAAAAAAAABGiOxLPkDyPwAAAAAAAAAAk5Un7ho5wD8AAAAAAAAAAAAAAAAAAAAAk5Un7ho5wD+TlSfuGjnQPwAAAAAAAAAAk5Un7ho5wD+TlSfuGjnAP11gO2WoVdg/AAAAAAAAAAAAAAAAAAAAAAAAAAAAAAAAAAAAAAAAAAAAAAAAAAAAAJOVJ+4aOcA/AAAAAAAAAAAAAAAAAAAAAJOVJ+4aOcA/k5Un7ho50D8AAAAAAAAAAAAAAAAAAAAAAAAAAAAAAACTlSfuGjnAPwAAAAAAAAAAAAAAAAAAAAAAAAAAAAAAAAAAAAAAAAAAAAAAAAAAAACTlSfuGjnAPwAAAAAAAAAAk5Un7ho5wD+TlSfuGjnQPwAAAAAAAAAAk5Un7ho5wD+TlSfuGjnAPwAAAAAAAAAAk5Un7ho50D8AAAAAAAAAAJOVJ+4aOcA/AAAAAAAAAAAAAAAAAAAAAAAAAAAAAAAAk5Un7ho5wD9dYDtlqFXYP5OVJ+4aOcA/AAAAAAAAAAAAAAAAAAAAAJOVJ+4aOcA/AAAAAAAAAAAAAAAAAAAAAAAAAAAAAAAAAAAAAAAAAAAAAAAAAAAAAJOVJ+4aOdA/AAAAAAAAAAAAAAAAAAAAAJOVJ+4aOcA/AAAAAAAAAACTlSfuGjngPwAAAAAAAAAAAAAAAAAAAAAAAAAAAAAAAAAAAAAAAAAAk5Un7ho5wD8AAAAAAAAAAAAAAAAAAAAAk5Un7ho5wD8AAAAAAAAAAAAAAAAAAAAAk5Un7ho5wD+TlSfuGjnAPwAAAAAAAAAAAAAAAAAAAAAAAAAAAAAAAAAAAAAAAAAAAAAAAAAAAACTlSfuGjnAPwAAAAAAAAAAAAAAAAAAAAAAAAAAAAAAAJOVJ+4aOcA/AAAAAAAAAAAAAAAAAAAAAAAAAAAAAAAAAAAAAAAAAACTlSfuGjnAPwAAAAAAAAAAAAAAAAAAAACTlSfuGjnAP5OVJ+4aOcA/k5Un7ho5wD+TlSfuGjnAP5OVJ+4aOcA/AAAAAAAAAAAAAAAAAAAAAAAAAAAAAAAAk5Un7ho5wD+TlSfuGjnAPwAAAAAAAAAAAAAAAAAAAAAAAAAAAAAAAJOVJ+4aOcA/k5Un7ho5wD8AAAAAAAAAAAAAAAAAAAAAAAAAAAAAAAAAAAAAAAAAAAAAAAAAAAAAk5Un7ho5wD8AAAAAAAAAAAAAAAAAAAAAAAAAAAAAAAAAAAAAAAAAAAAAAAAAAAAAAAAAAAAAAACTlSfuGjnAPwAAAAAAAAAAAAAAAAAAAAAAAAAAAAAAAJOVJ+4aOeA/k5Un7ho5wD8AAAAAAAAAAAAAAAAAAAAAAAAAAAAAAAAAAAAAAAAAAAAAAAAAAAAAk5Un7ho50D8AAAAAAAAAAJOVJ+4aOdA/AAAAAAAAAAAAAAAAAAAAAAAAAAAAAAAAAAAAAAAAAACTlSfuGjnAPwAAAAAAAAAAk5Un7ho5wD+TlSfuGjnAPwAAAAAAAAAAAAAAAAAAAACTlSfuGjnAP5OVJ+4aOdA/AAAAAAAAAAAAAAAAAAAAAJOVJ+4aOdA/AAAAAAAAAAAAAAAAAAAAAAAAAAAAAAAAk5Un7ho50D+TlSfuGjnAP11gO2WoVeg/k5Un7ho50D8AAAAAAAAAAAAAAAAAAAAAAAAAAAAAAACTlSfuGjnAPwAAAAAAAAAAk5Un7ho50D+TlSfuGjnAP5OVJ+4aOcA/AAAAAAAAAACTlSfuGjnAPwAAAAAAAAAAk5Un7ho5wD9dYDtlqFXYPwAAAAAAAAAAAAAAAAAAAAAAAAAAAAAAAJOVJ+4aOcA/AAAAAAAAAAAAAAAAAAAAAAAAAAAAAAAAAAAAAAAAAAAAAAAAAAAAAAAAAAAAAAAAk5Un7ho5wD+TlSfuGjnAPwAAAAAAAAAAk5Un7ho5wD8AAAAAAAAAAJOVJ+4aOcA/AAAAAAAAAAAAAAAAAAAAAJOVJ+4aOdA/k5Un7ho50D8AAAAAAAAAAF1gO2WoVdg/AAAAAAAAAAAAAAAAAAAAAJOVJ+4aOcA/k5Un7ho5wD+TlSfuGjnAPwAAAAAAAAAAAAAAAAAAAAAAAAAAAAAAAJOVJ+4aOcA/AAAAAAAAAACTlSfuGjnAP5OVJ+4aOcA/AAAAAAAAAACTlSfuGjnAPwAAAAAAAAAAAAAAAAAAAAAAAAAAAAAAAAAAAAAAAAAAk5Un7ho50D8AAAAAAAAAAAAAAAAAAAAAAAAAAAAAAACTlSfuGjnAP5OVJ+4aOdA/+HqxqWFH5D+TlSfuGjnAP11gO2WoVdg/AAAAAAAAAAAAAAAAAAAAAJOVJ+4aOcA/k5Un7ho5wD+TlSfuGjnAP5OVJ+4aOcA/k5Un7ho5wD8AAAAAAAAAAAAAAAAAAAAAk5Un7ho5wD8AAAAAAAAAAJOVJ+4aOcA/AAAAAAAAAAAAAAAAAAAAAJOVJ+4aOcA/AAAAAAAAAAAAAAAAAAAAAJOVJ+4aOcA/k5Un7ho5wD+TlSfuGjnAP5OVJ+4aOcA/AAAAAAAAAACTlSfuGjnQPwAAAAAAAAAAAAAAAAAAAACTlSfuGjnAPwAAAAAAAAAA+HqxqWFH5D+TlSfuGjnQP11gO2WoVdg/k5Un7ho5wD+TlSfuGjnAP5OVJ+4aOcA/k5Un7ho5wD9dYDtlqFXYP5OVJ+4aOcA/k5Un7ho5wD+TlSfuGjnAP5OVJ+4aOcA/k5Un7ho5wD8AAAAAAAAAAJOVJ+4aOdA/k5Un7ho50D+TlSfuGjnAP5OVJ+4aOdA/AAAAAAAAAAAAAAAAAAAAAJOVJ+4aOcA/AAAAAAAAAAAAAAAAAAAAAAAAAAAAAAAAk5Un7ho5wD8AAAAAAAAAAAAAAAAAAAAAAAAAAAAAAAAAAAAAAAAAAAAAAAAAAAAAk5Un7ho50D+TlSfuGjnAPwAAAAAAAAAAk5Un7ho50D+TlSfuGjnQP5OVJ+4aOdA/k5Un7ho5wD+TlSfuGjnQPwAAAAAAAAAAk5Un7ho5wD+TlSfuGjnQPwAAAAAAAAAAk5Un7ho5wD+TlSfuGjnQPwAAAAAAAAAAk5Un7ho5wD+TlSfuGjnQPwAAAAAAAAAAk5Un7ho5wD+TlSfuGjnAPwAAAAAAAAAAk5Un7ho5wD8AAAAAAAAAAAAAAAAAAAAAAAAAAAAAAACTlSfuGjnQP5OVJ+4aOcA/AAAAAAAAAAAAAAAAAAAAAAAAAAAAAAAAk5Un7ho54D+TlSfuGjnQP5OVJ+4aOcA/k5Un7ho50D+TlSfuGjnQP5OVJ+4aOcA/k5Un7ho5wD8AAAAAAAAAAAAAAAAAAAAAAAAAAAAAAACTlSfuGjnAPwAAAAAAAAAAk5Un7ho50D8AAAAAAAAAAJOVJ+4aOdA/k5Un7ho5wD+TlSfuGjnQPwAAAAAAAAAAk5Un7ho5wD8AAAAAAAAAAJOVJ+4aOcA/AAAAAAAAAAAAAAAAAAAAAAAAAAAAAAAAAAAAAAAAAACTlSfuGjnAP5OVJ+4aOcA/AAAAAAAAAAAAAAAAAAAAAJOVJ+4aOdA/XWA7ZahV2D9dYDtlqFXYP11gO2WoVdg/k5Un7ho5wD+TlSfuGjnQPwAAAAAAAAAAk5Un7ho50D+TlSfuGjngPwAAAAAAAAAAk5Un7ho5wD8AAAAAAAAAAJOVJ+4aOdA/k5Un7ho50D8AAAAAAAAAAAAAAAAAAAAAAAAAAAAAAAAAAAAAAAAAAJOVJ+4aOcA/AAAAAAAAAAAAAAAAAAAAAAAAAAAAAAAAk5Un7ho50D8AAAAAAAAAAAAAAAAAAAAAAAAAAAAAAACTlSfuGjnAP5OVJ+4aOcA/AAAAAAAAAAAAAAAAAAAAAAAAAAAAAAAAk5Un7ho5wD/4erGpYUfkP/h6salhR+Q/k5Un7ho5wD8AAAAAAAAAAJOVJ+4aOcA/k5Un7ho54D+TlSfuGjnAP11gO2WoVdg/k5Un7ho5wD+TlSfuGjnAP5OVJ+4aOdA/k5Un7ho5wD8AAAAAAAAAAJOVJ+4aOcA/AAAAAAAAAAAAAAAAAAAAAF1gO2WoVdg/AAAAAAAAAACTlSfuGjnAP5OVJ+4aOcA/k5Un7ho5wD8AAAAAAAAAAAAAAAAAAAAAk5Un7ho5wD+TlSfuGjnAP5OVJ+4aOcA/k5Un7ho5wD+TlSfuGjnQPwAAAAAAAAAAAAAAAAAAAACTlSfuGjnAP5OVJ+4aOcA/k5Un7ho54D+TlSfuGjnAP5OVJ+4aOcA/k5Un7ho5wD9dYDtlqFXYP11gO2WoVdg/k5Un7ho5wD+TlSfuGjnAP5OVJ+4aOcA/k5Un7ho5wD8AAAAAAAAAAJOVJ+4aOdA/XWA7ZahV2D9dYDtlqFXYP5OVJ+4aOcA/AAAAAAAAAACTlSfuGjnAP5OVJ+4aOdA/k5Un7ho5wD8AAAAAAAAAAJOVJ+4aOcA/AAAAAAAAAAAAAAAAAAAAAAAAAAAAAAAAAAAAAAAAAACTlSfuGjnAPwAAAAAAAAAAk5Un7ho50D9dYDtlqFXoP11gO2WoVdg/AAAAAAAAAACTlSfuGjnAPwAAAAAAAAAAAAAAAAAAAABdYDtlqFXYP11gO2WoVdg/k5Un7ho5wD+TlSfuGjnAP5OVJ+4aOcA/k5Un7ho50D9dYDtlqFXYP5OVJ+4aOdA/XWA7ZahV2D+TlSfuGjnQP11gO2WoVdg/k5Un7ho50D9dYDtlqFXYPwAAAAAAAAAAk5Un7ho5wD+TlSfuGjnQP5OVJ+4aOdA/k5Un7ho5wD+TlSfuGjnAP5OVJ+4aOdA/XWA7ZahV2D+TlSfuGjnAP5OVJ+4aOcA/AAAAAAAAAABdYDtlqFXYP5OVJ+4aOdA/k5Un7ho50D+TlSfuGjnQP5OVJ+4aOdA/k5Un7ho50D+TlSfuGjnQP5OVJ+4aOdA/AAAAAAAAAABdYDtlqFXYPwAAAAAAAAAAk5Un7ho54D9dYDtlqFXYP5OVJ+4aOdA/XWA7ZahV2D+TlSfuGjnAP11gO2WoVdg/k5Un7ho50D+TlSfuGjnQP5OVJ+4aOcA/k5Un7ho54D9dYDtlqFXYP5OVJ+4aOcA/k5Un7ho5wD+TlSfuGjnAPwAAAAAAAAAAXWA7ZahV2D+TlSfuGjnAP11gO2WoVdg/AAAAAAAAAABdYDtlqFXYP6ttdgeFTvY/wkXFIO9j7D/4erGpYUf0P5OVJ+4aOcA/k5Un7ho54D+TlSfuGjnQPwAAAAAAAAAAk5Un7ho5wD+TlSfuGjnAPwAAAAAAAAAA+HqxqWFH5D9dYDtlqFXYP5OVJ+4aOcA/AAAAAAAAAACTlSfuGjnAP5OVJ+4aOcA/k5Un7ho50D+TlSfuGjnAP5OVJ+4aOdA/AAAAAAAAAACTlSfuGjnQP11gO2WoVdg/k5Un7ho50D+TlSfuGjnAP5OVJ+4aOcA/AAAAAAAAAACTlSfuGjnAP5OVJ+4aOdA/AAAAAAAAAACTlSfuGjnAP5OVJ+4aOeA/XWA7ZahV2D8AAAAAAAAAAF1gO2WoVeg/XWA7ZahV2D8AAAAAAAAAAJOVJ+4aOeA/wkXFIO9j7D+TlSfuGjnQP11gO2WoVdg/+HqxqWFH5D+TlSfuGjnQP5OVJ+4aOdA/k5Un7ho5wD+TlSfuGjnAP5OVJ+4aOeA/k5Un7ho54D8AAAAAAAAAAF1gO2WoVdg/k5Un7ho5wD+TlSfuGjnAP5OVJ+4aOdA/k5Un7ho5wD8AAAAAAAAAAAAAAAAAAAAAAAAAAAAAAACTlSfuGjnAP5OVJ+4aOcA/k5Un7ho5wD9dYDtlqFXYP8JFxSDvY+w/k5Un7ho50D+TlSfuGjnQP5OVJ+4aOfA/k5Un7ho50D+TlSfuGjnQP5OVJ+4aOdA/XWA7ZahV2D+TlSfuGjnQP5OVJ+4aOcA/k5Un7ho5wD+TlSfuGjngP5OVJ+4aOcA/+HqxqWFH5D+TlSfuGjnAP5OVJ+4aOdA/k5Un7ho50D8AAAAAAAAAAF1gO2WoVdg/XWA7ZahV2D8AAAAAAAAAAF1gO2WoVdg/AAAAAAAAAAAAAAAAAAAAAJOVJ+4aOdA/AAAAAAAAAACTlSfuGjnQP5OVJ+4aOcA/k5Un7ho50D+TlSfuGjnAP11gO2WoVdg/XWA7ZahV2D9dYDtlqFXYP5OVJ+4aOeA/XWA7ZahV2D9dYDtlqFXoPwAAAAAAAAAAk5Un7ho5wD/CRcUg72PsP5OVJ+4aOdA/k5Un7ho50D+TlSfuGjngP11gO2WoVdg/XWA7ZahV2D9dYDtlqFXYP5OVJ+4aOdA/XWA7ZahV2D9dYDtlqFXYP5OVJ+4aOcA/XWA7ZahV2D/4erGpYUfkP5OVJ+4aOdA/AAAAAAAAAABdYDtlqFXYPwAAAAAAAAAAk5Un7ho50D8AAAAAAAAAAJOVJ+4aOcA/k5Un7ho50D8AAAAAAAAAAPh6salhR+Q/7Q4Knaw8AUDCRcUg72PsP5OVJ+4aOcA/+HqxqWFH5D9dYDtlqFXYP/h6salhR+Q/XWA7ZahV6D+TlSfuGjnQP8JFxSDvY+w/k5Un7ho5wD+TlSfuGjnQP5OVJ+4aOdA/k5Un7ho5wD9dYDtlqFXYP11gO2WoVdg/wkXFIO9j7D+TlSfuGjngP5OVJ+4aOdA/k5Un7ho50D+TlSfuGjnQP5OVJ+4aOeA/XWA7ZahV2D9dYDtlqFXYPwAAAAAAAAAAk5Un7ho54D+TlSfuGjnQP5OVJ+4aOcA/+HqxqWFH5D9dYDtlqFXYP5OVJ+4aOdA/wkXFIO9j7D9dYDtlqFXoP5OVJ+4aOeA/XWA7ZahV2D9dYDtlqFXYP11gO2WoVeg/+HqxqWFH5D/4erGpYUfkP11gO2WoVdg/k5Un7ho5wD+TlSfuGjnQP/h6salhR+Q/k5Un7ho50D+TlSfuGjnAP5OVJ+4aOcA/k5Un7ho54D+TlSfuGjngP11gO2WoVdg/k5Un7ho50D+TlSfuGjnAP5OVJ+4aOdA/k5Un7ho50D9dYDtlqFXYP5OVJ+4aOeA/k5Un7ho50D+TlSfuGjnAP11gO2WoVdg/k5Un7ho50D/4erGpYUfkP11gO2WoVdg/q212B4VO9j9dYDtlqFX4P/h6salhR+Q/+HqxqWFH5D/4erGpYUfkP/h6salhR+Q/+HqxqWFH5D9dYDtlqFXYP5OVJ+4aOdA/XWA7ZahV2D+TlSfuGjnQP5OVJ+4aOdA/XWA7ZahV6D+TlSfuGjnQP/h6salhR+Q/+HqxqWFH5D9dYDtlqFXYP5OVJ+4aOdA/k5Un7ho50D+TlSfuGjngP8JFxSDvY+w/k5Un7ho50D9dYDtlqFXYP/h6salhR+Q/XWA7ZahV2D+TlSfuGjngP5OVJ+4aOcA/k5Un7ho5wD+TlSfuGjnAP5OVJ+4aOcA/wkXFIO9j7D+rbXYHhU72P/h6salhR/Q/XWA7ZahV6D+TlSfuGjngP8JFxSDvY+w/k5Un7ho54D/CRcUg72PsP11gO2WoVdg/k5Un7ho5wD+TlSfuGjnwP8JFxSDvY+w/XWA7ZahV2D/4erGpYUfkP5OVJ+4aOcA/+HqxqWFH5D/CRcUg72PsP11gO2WoVdg/k5Un7ho54D+TlSfuGjngP5OVJ+4aOeA/k5Un7ho5wD9dYDtlqFXYP5OVJ+4aOdA/+HqxqWFH5D+TlSfuGjnQP11gO2WoVeg/XWA7ZahV2D9dYDtlqFXYP5OVJ+4aOeA/+HqxqWFH9D8cv6fPgGcNQEaI7Es+QPI/EFMAw8tc+j91OIp+Emv+P5OVJ+4aOdA/+HqxqWFH9D9dYDtlqFXYP5OVJ+4aOfA/+HqxqWFH5D+TlSfuGjnwP5OVJ+4aOeA/k5Un7ho54D/4erGpYUfkP5OVJ+4aOfA/k5Un7ho54D/CRcUg72PsP/h6salhR+Q/XWA7ZahV2D+TlSfuGjnQP11gO2WoVeg/q212B4VO9j+TlSfuGjnQP5OVJ+4aOcA/XWA7ZahV2D/4erGpYUfkP11gO2WoVeg/XWA7ZahV2D+TlSfuGjnAP/h6salhR+Q/XWA7ZahV2D/tDgqdrDwBQMJFxSDvY+w/RojsSz5A8j/CRcUg72PsP/h6salhR+Q/RojsSz5A8j9dYDtlqFXoP5OVJ+4aOfA/XWA7ZahV+D9dYDtlqFXoP0aI7Es+QPI/k5Un7ho54D9dYDtlqFXoP11gO2WoVeg/wkXFIO9j7D/CRcUg72P8P5OVJ+4aOeA/k5Un7ho58D9dYDtlqFXoP8JFxSDvY+w/EFMAw8tc+j9dYDtlqFXoP11gO2WoVdg/XWA7ZahV6D+TlSfuGjnwP0aI7Es+QPI/k5Un7ho54D+TlSfuGjngP11gO2WoVeg/k5Un7ho5wD9GiOxLPkACQEaI7Es+QPI/wkXFIO9j7D+TlSfuGjnwP11gO2WoVdg/k5Un7ho58D9dYDtlqFX4P0aI7Es+QPI/k5Un7ho54D9dYDtlqFXoP8JFxSDvY/w/XWA7ZahV6D+TlSfuGjnwP/h6salhR+Q/XWA7ZahV2D/4erGpYUfkP8JFxSDvY+w/q212B4VO9j+TlSfuGjngP5OVJ+4aOeA/XWA7ZahV6D/4erGpYUfkP5OVJ+4aOeA/+HqxqWFH5D+TlSfuGjngP0aI7Es+QPI/k5Un7ho58D9dYDtlqFXYP11gO2WoVdg/XWA7ZahV6D+TlSfuGjngP11gO2WoVfg/XWA7ZahV+D9dYDtlqFX4P8JFxSDvY/w/XWA7ZahV+D+rbXYHhU72P+0OCp2sPAFA+HqxqWFH9D/4erGpYUf0P/h6salhR/Q/q212B4VO9j+rbXYHhU72P0aI7Es+QPI/+HqxqWFH9D+rbXYHhU72PxBTAMPLXPo/+HqxqWFH9D/4erGpYUfkP11gO2WoVfg/XWA7ZahV2D/CRcUg72PsP0aI7Es+QPI/k5Un7ho54D/4erGpYUfkP11gO2WoVdg/RojsSz5A8j9dYDtlqFXoP/h6salhR/Q/+HqxqWFH5D+TlSfuGjngP1H0k1jzShVAk5Un7ho5AEDCRcUg72MMQMJFxSDvY/w/k5Un7ho58D91OIp+Emv+P5OVJ+4aOQBAXWA7ZahV+D/CRcUg72P8P8JFxSDvY/w/+HqxqWFH9D8QUwDDy1z6P11gO2WoVeg/wkXFIO9j7D9dYDtlqFX4P3U4in4Sa/4/+HqxqWFH9D9dYDtlqFX4P11gO2WoVfg/k5Un7ho58D+TlSfuGjkAQEaI7Es+QPI/XWA7ZahV+D8QUwDDy1z6P11gO2WoVdg/k5Un7ho58D9GiOxLPkDyP5OVJ+4aOeA/k5Un7ho58D+TlSfuGjnwP1H0k1jzSgVARojsSz5AAkB1OIp+Emv+PxBTAMPLXPo/EFMAw8tc+j8E51i2FlIHQBBTAMPLXPo/XWA7ZahV+D/tDgqdrDwBQF1gO2WoVeg/XWA7ZahV+D9GiOxLPkACQF1gO2WoVfg/k5Un7ho5AEAQUwDDy1z6P3U4in4Sa/4/RojsSz5A8j9GiOxLPkACQMJFxSDvY+w/RojsSz5A8j9GiOxLPkDyP3U4in4Sa/4/RojsSz5A8j+rbXYHhU72P11gO2WoVfg/q212B4VO9j/CRcUg72PsP5OVJ+4aOfA/+HqxqWFH9D+rbXYHhU72P11gO2WoVQhA7Q4Knaw8AUCfAc/6z0MDQF1gO2WoVfg/q212B4VO9j+TlSfuGjkAQEaI7Es+QAJAdTiKfhJr/j9dYDtlqFX4P5OVJ+4aOfA/+HqxqWFH9D+TlSfuGjnwP0aI7Es+QPI/RojsSz5A8j/4erGpYUf0P+0OCp2sPAFAnwHP+s9DA0CTlSfuGjnwP/h6salhR/Q/k5Un7ho58D/CRcUg72PsP0aI7Es+QPI/wkXFIO9j7D/4erGpYUf0PxBTAMPLXPo/wkXFIO9j/D9GiOxLPkDyP0aI7Es+QPI/RojsSz5A8j9dYDtlqFX4P3U4in4Sa/4/88RdIwfCEkBdYDtlqFUIQBy/p8+AZw1A+HqxqWFHBEDtDgqdrDwBQO0OCp2sPAFA+HqxqWFHBED4erGpYUcEQHU4in4Sa/4/k5Un7ho5AECrbXYHhU72PxBTAMPLXPo/nwHP+s9DA0B1OIp+Emv+P3U4in4Sa/4/7Q4Knaw8AUAE51i2FlIHQPh6salhR/Q/7Q4Knaw8AUBR9JNY80oFQEaI7Es+QAJAUfSTWPNKBUB1OIp+Emv+P3U4in4Sa/4/+HqxqWFH9D91OIp+Emv+P11gO2WoVfg/nwHP+s9DA0D4erGpYUcEQLfZHRQ6WQlA6jPgWf95IEBdYDtlqFUYQO0OCp2sPBFAaczicV1gC0C32R0UOlkJQM6xbC2kbg9AdTiKfhJrDkBGiOxLPkACQFH0k1jzSgVAq212B4VOBkDzxF0jB8ISQPh6salhRwRAq212B4VOBkCfAc/6z0MDQKttdgeFTgZAzrFsLaRuD0BdYDtlqFUIQPh6salhRwRARojsSz5AAkCrbXYHhU4GQEaI7Es+QAJAdTiKfhJr/j91OIp+Emv+PxBTAMPLXPo/nwHP+s9DA0DtDgqdrDwBQEaI7Es+QAJAk5Un7ho5AECTlSfuGjkAQHU4in4Sa/4/aczicV1gG0CfAc/6z0MTQPh6salhRxRAk5Un7ho5EEC32R0UOlkJQM6xbC2kbg9Aq212B4VOBkAQUwDDy1wKQFH0k1jzSgVAEFMAw8tcCkCaS3t0db4RQBBTAMPLXApA7Q4Knaw8AUD4erGpYUcEQFH0k1jzSgVARojsSz5AEkDtDgqdrDwBQJOVJ+4aORBAnwHP+s9DA0DCRcUg72MMQGnM4nFdYAtAnwHP+s9DA0AE51i2FlIHQFH0k1jzSgVAq212B4VOBkAcv6fPgGcNQJ8Bz/rPQwNA+HqxqWFHBECrbXYHhU4GQFH0k1jzSgVAUfSTWPNKFUCltyKBKskUQHU4in4Saw5AUfSTWPNKBUAQUwDDy1wKQKttdgeFTgZA+HqxqWFHBEAcv6fPgGcNQATnWLYWUgdA+HqxqWFHBEBdYDtlqFUIQJ8Bz/rPQwNAaczicV1gC0BdYDtlqFX4P3U4in4Sa/4/wkXFIO9j/D/CRcUg72MMQKttdgeFTgZAaczicV1gC0DtDgqdrDwBQPh6salhRwRAEFMAw8tcCkAE51i2FlIHQHU4in4Sa/4/aczicV1gC0BpzOJxXWALQKttdgeFTgZAq212B4VOBkBdYDtlqFX4P2nM4nFdYAtAaczicV1gC0Bugjb4t+UcQGnM4nFdYBtAvI9xmpTeGkC8j3GalN4aQF1gO2WoVRhAHL+nz4BnHUD4erGpYUcUQJ8Bz/rPQxNAUfSTWPNKFUCfAc/6z0MTQPh6salhRxRAnwHP+s9DE0CaS3t0db4RQPPEXSMHwhJAdTiKfhJrDkBMPkDSmMUTQKttdgeFThZAk5Un7ho5EEDzxF0jB8ISQEDSmMXjuhBACp2sPHHXGECltyKBKskUQATnWLYWUhdAk5Un7ho5EED4erGpYUcUQO0OCp2sPBFAq212B4VOFkCfAc/6z0MTQPh6salhRwRAXWA7ZahVGEANeNZ/HpopQJwmpbcigSJARojsSz5AIkDOsWwtpG4fQMn7GKdJ6R1AdTiKfhJrHkAcv6fPgGcdQGnM4nFdYBtAsSPKjd/TF0DOsWwtpG4fQGnM4nFdYBtAaczicV1gG0D/MAUwvMwVQLEjyo3f0xdApbcigSrJFEC8j3GalN4aQGMWj+sC2xlAnwHP+s9DE0BYqufeTdAWQPh6salhRxRAzrFsLaRuH0CxI8qN39MXQO0OCp2sPBFA/zAFMLzMFUC32R0UOlkJQLEjyo3f0xdAEFMAw8tcGkBA0pjF47oQQKW3IoEqyRRA/zAFMLzMFUCxI8qN39MnQJwmpbcigSJAQNKYxeO6IEC32R0UOlkZQG6CNvi35RxAotz4PX0GJEDtDgqdrDwhQBBTAMPLXBpAEFMAw8tcGkDJ+xinSekdQEw+QNKYxSNAXWA7ZahVGEAKnaw8cdcYQMJFxSDvYxxAWKrn3k3QFkCTlSfuGjkgQJOVJ+4aOSBAk5Un7ho5IEAE51i2FlIXQLfZHRQ6WRlAyfsYp0npHUAE51i2FlIXQFiq595N0BZAWKrn3k3QFkAE51i2FlIXQKttdgeFThZACp2sPHHXGECxI8qN39MXQKW3IoEqyRRAt9kdFDpZGUCfAc/6z0MjQAEML3NpjyZAe+7dBG3wH0CaS3t0db4hQJ8Bz/rPQyNAQNKYxeO6IEAidftV2+weQP8wBTC8zBVAwkXFIO9jHEBYqufeTdAWQM6xbC2kbh9AYxaP6wLbGUAQUwDDy1waQGMWj+sC2xlA/zAFMLzMFUAcv6fPgGcdQKttdgeFThZA88RdIwfCEkCltyKBKskUQF1gO2WoVRhAsSPKjd/TF0C32R0UOlkZQO0OCp2sPCFAEFMAw8tcGkBdYDtlqFUYQG6CNvi35RxAHL+nz4BnHUAE51i2FlIXQLfZHRQ6WRlAk5Un7ho5IECcJqW3IoEiQJ8Bz/rPQzNAxiDvY5wmLUBoRku4qBgwQGbxuC6wnSpAYxaP6wLbKUANeNZ/HpopQLEjyo3f0ydAVc+9m6ANJkD4erGpYUckQKW3IoEqySRAvI9xmpTeKkBYqufeTdAmQKiSTMTXiyVAvI9xmpTeKkAHwoL5wxQoQBBTAMPLXCpACp2sPHHXKEBYqufeTdAmQAqdrDxx1yhAqJJMxNeLJUCltyKBKskkQLEjyo3f0ydAYDtlqFUYKUD/MAUwvMwlQAfCgvnDFChAYxaP6wLbKUBJYxaP6wIjQFiq595N0CZAWKrn3k3QJkBxXWA7ZagtQAEML3NpjzZAylCrMEJkM0Bu/J4+A54xQGwhdftV2zBAv2qb3UGhK0BGiOxLPkAyQMWaV6rn3jFAxiDvY5wmLUC32R0UOlkpQLfZHRQ6WSlAcV1gO2WoLUCxI8qN39MnQBQuKgZ5HytAFC4qBnkfK0AVCVRJJuIrQOoz4Fn/eTBAytZC6varLkAVCVRJJuIrQG2nDLUKIyxA/zAFMLzMJUBtpwy1CiMsQLfZHRQ6WSlAEFMAw8tcKkBVz72boA0mQGMWj+sC2ylAubRHV+cbKkBtpwy1CiMsQAEML3NpjyZArkigSjIRJ0CokkzE14slQOIo+kmseTlAGzkQFswfMkDqM+BZ/3kwQG6CNvi35SxAGOR9jNOkLEAjyo3f02c0QHHXyIGwYDJA7Q4Knaw8MUDCRcUg72MsQGwhdftV2zBAk5Un7ho5MEAVg7yPcZowQL9qm91BoStAv2qb3UGhK0AY5H2M06QsQEDSmMXjujBA7Q4Knaw8MUCTlSfuGjkwQBWDvI9xmjBAboI2+LflLEAbORAWzB8yQG6CNvi35SxAFQlUSSbiK0BxXWA7ZagtQJdwUTHI+zBAaczicV1gK0AlUCWZiK8vQG2nDLUKIyxA/FXb7A4KJUBoRku4qBgwQHeNHAgL5jNAbvyePgOeMUAYXubSHl0xQBhe5tIeXTFAcV1gO2WoLUB77t0EbfAvQGwhdftV2zBAl3BRMcj7MEDJ+xinSektQHvu3QRt8C9ARojsSz5AMkAYXubSHl0xQL/kAySNWTBAEFMAw8tcKkBdYDtlqFUoQPPEXSMHwjJAbvyePgOeMUBtpwy1CiMsQG6CNvi35SxAZvG4LrCdKkCXcFExyPswQBWDvI9xmjBADXjWfx6aKUDqM+BZ/3kwQBBTAMPLXCpAJVAlmYivL0BsIXX7VdswQGbxuC6wnSpAwkXFIO9jLEAULioGeR8rQHHXyIGwYDJAeBO0wb8tP0DW+YbgHMtAQCJ1+1Xb7D5Al3BRMcj7QECqqqqqqqpAQBWDvI9xmkBAaEZLuKgYQED3JR8gacw+QPFvy5kORz1A2dSwI8qNQUBsIXX7VdtAQCVQJZmIrz9Ak5Un7ho5QEBQnwHP+s8/QMG/LWc6HEFAWsJFxSDvQUAVg7yPcZpAQO2UoVZhhDxAytZC6varPkCgh2a0hIs+QOoz4Fn/eUBAQNKYxeO6QEBNxNeLTQ0/QMrWQur2qz5Awb8tZzocQUDqM+BZ/3lAQJOVJ+4aOUBAHL+nz4BnPUD5AEljFo8/QC9zaY+uzkFA1vmG4BzLQEDZ1LAjyo1BQMWaV6rn3kFAnwHP+s9DQ0DBvy1nOhxBQCq9FQlUSUBAbCF1+1XbQEAYXubSHl1BQP5tOdPhKEBAxZpXqufeQUC/5AMkjVlAQJdwUTHI+0BAqqqqqqqqQEBJYxaP6wJDQIM2+LflTEFAL3Npj67OQUBA0pjF47pAQNnUsCPKjUFA8Okz4Fn/QUCuhdTtV21BQMG/LWc6HEFA7Q4Knaw8QUDOsWwtpG4/QPkASWMWjz9AQNKYxeO6QEDBvy1nOhxBQJysPHHXyD1A+QBJYxaPP0B77t0EbfA/QEDSmMXjukBAtP7z0IyWSEB3jRwIC+ZDQPPEXSMHwkJARojsSz5AQkCaS3t0db5BQDrfEJxj2URA34oEqiQTQ0C/5AMkjVlAQBs5EBbMH0JAnwHP+s9DQ0DFmleq595BQPPEXSMHwkJAszsodLLyQkBsIXX7VdtAQPDpM+BZ/0FAhREi+5IPQkAyTpPSW5FCQEljFo/rAkNAnCaltyKBQkB77t0EbfA/QNyv2mZ3UEJAUJ8Bz/rPP0Dcr9pmd1BCQBhe5tIeXUFAGzkQFswfQkCFESL7kg9CQFrCRcUg70FAmkt7dHW+QUD5AEljFo8/QMn7GKdJ6T1A9yUfIGnMPkDBvy1nOhxBQHHXyIGwYEJAL3Npj67OQUBA0pjF47pAQL/kAySNWUBAYHiZS3t0Q0CxYP4wBTBCQKLc+D19BkRA3K/aZndQQkBX5xuCcyxBQEOtwgiRfUFARojsSz5AQkCDNvi35UxBQGwhdftV20BAe+7dBG3wP0Ah72OcJqVDQDgE51i2FkRAQ63CCJF9QUCDNvi35UxBQEw+QNKYxUNA5EBYMH+YREDZ1LAjyo1BQGhGS7ioGEBAGF7m0h5dQUBVDPI+xmlAQH9bznQ4ikBAnCaltyKBQkDw6TPgWf9BQNnUsCPKjUFAbvyePgOeQUAoseaV6rlSQJsadkS58VRAI8qN39NnVEBwy5kOR9FUQLUKI0T2JVZAuvF7+gx4VEDdftU2u4NVQPSTWPNK9VVATg07otz4VkDGaVJ6KxJVQFH0k1jzSlVATg07otz4VkDCgvnDFMBWQE4NO6Lc+FZABOdYthZSV0C8zKU9ujpVQJBxmpTeildA0tX5huAcWEC45UyHo+hWQLUKI0T2JVZAX2xq2BHlVUB2ge2UoVZWQGzkQFgwf1ZAUOhk5Ym7V0Ce9Z+HZrRVQJsadkS58VRALzY17IhyV0CSTMTXi01YQPCs/zw0o1dAOATnWLYWVEBdYDtlqFVIQG6CNvi35UxAroXU7VdtUUDmTIej6CdSQGB4mUt7dFNAdr4hOMeyUEDmTIej6CdSQB4UOll54lJAZi7t0dX5VEC92NSwI8pSQIjsSz5A0lJADbUKI0T2U0DyuC6wnTJVQNPhKPpJrFVAaAkXFYO8VUDrAtspQ61TQNfIgbBg/lNAh+Acy9ZCVUDkQFgwf5hUQJczHY6in1ZAlWQivl5sU0ACGF7m0h5UQLUKI0T2JVZAIr5ebGrYVkAJzrFsLaRVQHOmw1H0k1VAbORAWDB/VkDt0dX5huBWQAEML3Npj1ZALFsLqduvVkCrbXYHhU5WQLv9qm12B1JAGS3homKQVEDXyIGwYP5TQOgbgnMsW1VAV+cbgnMsUUANtQojRPZTQLzMpT26OlVAkX3JB0gaVUATa16pnntVQN+KBKokE1NARXy92NSwVEA+ujrfEJxVQFiq595N0FZAh+Acy9ZCVUA/xmlSeitTQJk/TAEML1RAv6fPgGf9VUBwy5kOR9FUQLvAdspQq1dAQqGTlSfuU0CrbXYHhU5WQFH0k1jzSlVA1rxSPfduVkAVRojsSz5WQIQF84cpgFRAodDJyhN3VkAqgOFlLu1VQAAAAAAAAFlA2Zd8gKQxV0AVg7yPcZpQQJCuzjcE51FAnwHP+s9DU0Bs5EBYMH9WQLIv+QBJY1VAszsodLLyUkDu3QRt8G9UQMZpUnorElVAYkeUG7+nVkBfbGrYEeVVQMpQqzBCZFNAkX3JB0gaVUDyuC6wnTJVQNa8Uj33blZAIr5ebGrYVkA1Kb0VCVRTQCaltyKBKlVAnvWfh2a0VUD4erGpYUdUQAup26/aZlZAY1PDjig3VEB9Q3COZWtVQCK+Xmxq2FZA1rxSPfduVkDgWf95aEZWQPh6salhR1RA9JNY80r1VUAYIbIv+QBXQJoOR9FPYldAFUaI7Es+VkB+T58Bz/pSQEZLuKgY5EdADXjWfx6aSUBugjb4t+VMQPFvy5kOR01AvI9xmpTeSkCEvI9xmpRMQMrWQur2q05Ao2KQ9zFOT0ALYHiZS3tOQFfnG4JzLFFANq9Uz72bTkCgh2a0hItOQM6xbC2kbk9A+QBJYxaPT0A5in4Sa15PQOq5dxO0wUtABKokE/H1TECXcFExyPtQQLec6XAU/U5Al3BRMcj7UEAlUCWZiK9PQOAQnGPZWk5AUJ8Bz/rPT0D+bTnT4ShQQEDSmMXjulBAYf4wBTC8TkAlUCWZiK9PQGTZWkjdfk9A0x5dnW8IUECvC2ynDLVMQPkASWMWjz9AfUNwjmVrRUCaDkfRT2JHQNmXfICkMUdADXjWfx6aSUBjFo/rAttJQCGyL/kASUlAHL+nz4BnTUBWkon4erFLQDPUKowQ2U1A06T0ViRQS0AidftV2+xOQIhy4/f0GU5A2lpI3X7VTECFl7m0R1dNQLm0R1fnG0pAK0OtwgiRS0Bh/jAFMLxOQCwe1wW2U0xAqFUYIbIvS0CrMEJkX/JLQKCHZrSEi05As8G/LWc6TkCIcuP39BlOQLec6XAU/U5APn0GPOs/S0DGIO9jnCZNQAgL5g9TAFBAjyg3fk+fT0CMTQ07otxOQI8oN35Pn09AZvG4LrCdSkDTpPRWJFBLQK8LbKcMtUxABKokE/H1TEDO7qDQycpJQBjkfYzTpExAInX7VdvsTkB4E7TBvy1PQOAQnGPZWk5AWW2zOyh0TECY9ujqfENMQMn7GKdJ6U1Ae+7dBG3wT0CPKDd+T59PQFK3X7XN7kpAxiDvY5wmTUBugjb4t+VMQOXG7+kz4E9AboI2+LflTECoVRghsi9LQMn7GKdJ6U1A0x5dnW8IUECy5pXquXdNQAiFTlaeuE1AsuaV6rl3TUBNxNeLTQ1PQFUM8j7GaVBA4JYzHY6iUEBk2VpI3X5PQIivF5sadkhA3TVyICyYTUDquXcTtMFLQEJYMH+YAkxAyfsYp0npTUDJ+xinSelNQAiFTlaeuE1AcV1gO2WoTUCEvI9xmpRMQA47otz4PU9AHL+nz4BnTUBaSN1+1TZNQIxNDTui3E5ACAvmD1MAUECeMtQqjBBQQNZ/HprREkxA8W/LmQ5HTUCMTQ07otxOQDY17Ihy41BAS29FAlWSUEDdNXIgLJhNQDavVM+9m05ADjui3Pg9T0D+bTnT4ShQQGhGS7ioGFBAdTiKfhJrTkALYHiZS3tOQPTQjJZwUVBAL/kASWMWTUCFl7m0R1dNQIDhZS7t0UtA1vmG4BzLQED0SvXcuwk+QFUM8j7GaUBA1vmG4BzLQEBA0pjF47pAQH9bznQ4ikBAInX7VdvsPkBNxNeLTQ0/QNb5huAcy0BA6jPgWf95QEBGDoQF84c9QNMeXZ1vCEBAVQzyPsZpQEDJ+xinSek9QG6CNvi35TxATcTXi00NP0AY5H2M06Q8QG2nDLUKIzxAUJ8Bz/rPP0BQnwHP+s8/QPkASWMWjz9AVQzyPsZpQECTlSfuGjlAQJvREi4qBj1AUJ8Bz/rPP0BVDPI+xmlAQMrWQur2qz5AoIdmtISLPkC/5AMkjVlAQEOtwgiRfUFAv+QDJI1ZQECI7Es+QNJCQIM2+LflTEFAgzb4t+VMQUBx18iBsGBCQJwmpbcigUJAxZpXqufeQUBA0pjF47pAQMWaV6rn3kFA2dSwI8qNQUCFESL7kg9CQCyYP0wBDEFA6jPgWf95QEBGDoQF84c9QMG/LWc6HEFAV+cbgnMsQUBu/J4+A55BQJysPHHXyD1A7Q4Knaw8QUCuhdTtV21BQOoz4Fn/eUBAQ63CCJF9QUDw6TPgWf9BQCq9FQlUSUBAVQzyPsZpQEBA0pjF47pAQO0OCp2sPEFA9yUfIGnMPkCjYpD3MU4/QCyYP0wBDEFAhtTtV22zR0BGiOxLPkBCQHgTtMG/LT9ATD5A0pjFQ0CaS3t0db5BQLFg/jAFMEJAAUljFo/rQEDW+YbgHMtAQJpLe3R1vkFAInX7VdvsPkDIdYHtlKFCQOFlLu3R1UNAwb8tZzocQUABSWMWj+tAQFrCRcUg70FAsWD+MAUwQkAEJI1ZPK5BQErprUigSj5AcdfIgbBgQkDw6TPgWf9BQKLc+D19BkRA4WUu7dHVQ0BdnW8IzrFCQAf/tpzpcEJAV+cbgnMsQUBMPkDSmMVDQPRK9dy7CT5AGF7m0h5dQUB77t0EbfA/QF2dbwjOsUJAdLLyxF0jQ0CXcFExyPtAQBhe5tIeXUFAInX7VdvsPkBx18iBsGBCQEw+QNKYxUNAAUljFo/rQECzOyh0svJCQMG/LWc6HEFA2dSwI8qNQUDcr9pmd1BCQHHXyIGwYEJAyHWB7ZShQkCuhdTtV21BQC9zaY+uzkFAi8d1ge2UQ0CuhdTtV21BQAFJYxaP60BAmkt7dHW+QUBX5xuCcyxBQB4UOll54kJAQNKYxeO6QEBVDPI+xmlAQIM2+LflTEFA34oEqiQTQ0D4erGpYUdEQK6F1O1XbUFAmkt7dHW+QUCcJqW3IoFCQDUpvRUJVENAMk6T0luRQkDGIO9jnCYtQGhGS7ioGDBAvI9xmpTeKkBYqufeTdAmQLm0R1fnGypAv2qb3UGhK0C5tEdX5xsqQBQuKgZ5HytAXWA7ZahVKEBJYxaP6wIjQGbxuC6wnSpAWKrn3k3QJkABDC9zaY8mQPxV2+wOCiVAUfSTWPNKJUBpzOJxXWArQK5IoEoyESdAqJJMxNeLJUD8VdvsDgolQE8ZahVGiCRAotz4PX0GJECxI8qN39MnQFXPvZugDSZADXjWfx6aKUCrbXYHhU4mQHU4in4Say5AB8KC+cMUKEBPGWoVRogkQJdwUTHI+yBAv2qb3UGhK0D/MAUwvMw1QMpQqzBCZDNAxZpXqufeMUBx18iBsGAyQHvu3QRt8C9Al3BRMcj7MEAbORAWzB8yQBy/p8+AZy1At9kdFDpZKUDCRcUg72MsQCJ1+1Xb7C5AbacMtQojLECuSKBKMhEnQLEjyo3f0ydAAQwvc2mPJkDGIO9jnCYtQMYg72OcJi1At9kdFDpZKUAVCVRJJuIrQG2nDLUKIyxAwkXFIO9jLEBgO2WoVRgpQF1gO2WoVShAq212B4VOJkC0/vPQjJYoQHgTtMG/LS9AWKrn3k3QJkBm8bgusJ0qQA141n8emilA7Q4Knaw8IUBdYDtlqFU4QM6xbC2kbi9AbCF1+1XbMEB4E7TBvy0vQEDSmMXjujBA8Okz4Fn/MUBu/J4+A54xQJOVJ+4aOTBAyfsYp0npLUDGIO9jnCYtQGwhdftV2zBAwkXFIO9jLEBoRku4qBgwQMJFxSDvYyxAwkXFIO9jLECcJqW3IoEyQEOtwgiRfTFA6jPgWf95MEBxXWA7ZagtQBjkfYzTpCxA6jPgWf95MEDJ+xinSektQBUJVEkm4itAcV1gO2WoLUC/apvdQaErQBWDvI9xmjBAk5Un7ho5MEB77t0EbfAvQL9qm91BoStAZvG4LrCdKkDKUKswQmQzQMh1ge2UoTJAylCrMEJkM0DJ+xinSektQEDSmMXjujBAFYO8j3GaMEDJ+xinSektQAfCgvnDFChAv2qb3UGhK0B1OIp+EmsuQBhe5tIeXTFAeBO0wb8tL0DGIO9jnCYtQMrWQur2qy5AeBO0wb8tL0BGiOxLPkAyQG6CNvi35SxAdTiKfhJrLkDBvy1nOhwxQLfZHRQ6WSlAboI2+LflLEBtpwy1CiMsQJdwUTHI+zBAwkXFIO9jLEBdYDtlqFUoQM6xbC2kbi9AbacMtQojLEBR9JNY80olQLyPcZqU3ipAxiDvY5wmLUDIdYHtlKEyQEljFo/rAiNAt9kdFDpZGUD/MAUwvMwVQLEjyo3f0xdAsSPKjd/TF0AVCVRJJuIbQLEjyo3f0xdAq212B4VOFkBGiOxLPkASQO0OCp2sPBFA/zAFMLzMFUBdYDtlqFUYQM6xbC2kbg9A+HqxqWFHFEAcv6fPgGcNQO0OCp2sPCFA88RdIwfCEkDtDgqdrDwRQKW3IoEqyRRARojsSz5AEkBpzOJxXWAbQPh6salhRxRAEFMAw8tcCkDtDgqdrDwRQJpLe3R1vhFAvI9xmpTeGkBA0pjF47oQQO0OCp2sPBFAq212B4VOFkCxI8qN39MXQFiq595N0CZABOdYthZSJ0BjFo/rAtsZQBy/p8+AZx1AzrFsLaRuH0CXcFExyPsgQMJFxSDvYxxAwkXFIO9jHEAcv6fPgGcdQLfZHRQ6WRlAFQlUSSbiG0BGiOxLPkASQGMWj+sC2xlA+HqxqWFHFECfAc/6z0MTQAqdrDxx1xhAYxaP6wLbGUBGiOxLPkASQGMWj+sC2xlA+HqxqWFHFEDtDgqdrDwhQATnWLYWUhdAHL+nz4BnDUBR9JNY80oVQG6CNvi35RxAaczicV1gG0BR9JNY80oVQKttdgeFThZAmkt7dHW+EUBGiOxLPkASQEljFo/rAiNAnwHP+s9DI0BJYxaP6wIjQPPEXSMHwiJAInX7VdvsHkBA0pjF47ogQBBTAMPLXBpAWKrn3k3QFkB77t0EbfAfQBUJVEkm4htAnwHP+s9DI0AKnaw8cdcYQMn7GKdJ6R1AnwHP+s9DE0B1OIp+EmseQCJ1+1Xb7B5AQNKYxeO6IEAE51i2FlIXQEaI7Es+QBJAvI9xmpTeGkDOsWwtpG4fQF1gO2WoVRhAt9kdFDpZGUAidftV2+weQGMWj+sC2xlAdTiKfhJrHkDJ+xinSekdQO0OCp2sPBFAnwHP+s9DE0BGiOxLPkASQKW3IoEqySRAk5Un7ho5IECXcFExyPsgQMJFxSDvYxxAYxaP6wLbGUCcJqW3IoEiQBBTAMPLXBpABOdYthZSF0AE51i2FlIXQKttdgeFThZAotz4PX0GJEDJ+xinSekdQEaI7Es+QBJAsSPKjd/TF0BpzOJxXWAbQKLc+D19BiRAsSPKjd/TF0AKnaw8cdcYQBUJVEkm4htAvI9xmpTeGkAcv6fPgGcdQFH0k1jzShVAnwHP+s9DE0Bugjb4t+UcQJpLe3R1vhFAEFMAw8tcGkDCRcUg72McQHU4in4Saw5AFQlUSSbiG0D/MAUwvMwVQJpLe3R1viFAXWA7ZahVCEDCRcUg72MMQJOVJ+4aOQBABOdYthZSB0BR9JNY80oFQBy/p8+AZw1A+HqxqWFHBEBdYDtlqFUIQJ8Bz/rPQwNAk5Un7ho5AEC32R0UOlkJQMJFxSDvY/w/q212B4VO9j9dYDtlqFX4P0aI7Es+QAJA7Q4Knaw8AUDtDgqdrDwBQMJFxSDvY/w/+HqxqWFHBEDCRcUg72P8P5OVJ+4aOQBARojsSz5A8j9R9JNY80oFQF1gO2WoVfg/wkXFIO9j/D/CRcUg72P8P6ttdgeFTvY/EFMAw8tc+j/4erGpYUcEQEaI7Es+QAJAzrFsLaRuH0CTlSfuGjkQQPPEXSMHwhJAq212B4VOBkAcv6fPgGcNQJ8Bz/rPQxNAaczicV1gC0BR9JNY80oFQATnWLYWUgdAk5Un7ho5AEBpzOJxXWALQGnM4nFdYAtAq212B4VOBkD4erGpYUcEQJOVJ+4aOQBA7Q4Knaw8AUCfAc/6z0MDQLfZHRQ6WQlA7Q4Knaw8AUCTlSfuGjkAQATnWLYWUgdAXWA7ZahVCEDCRcUg72P8P/h6salhRwRAdTiKfhJr/j/4erGpYUcEQO0OCp2sPAFAk5Un7ho58D+rbXYHhU72P11gO2WoVQhAboI2+LflHEBMPkDSmMUTQBBTAMPLXApABOdYthZSB0CTlSfuGjkQQEDSmMXjuhBAEFMAw8tcCkC32R0UOlkJQO0OCp2sPAFAXWA7ZahVCEBdYDtlqFUIQEDSmMXjuhBAwkXFIO9jDED4erGpYUcEQF1gO2WoVQhAk5Un7ho5EED4erGpYUcEQPh6salhRwRAdTiKfhJrDkC32R0UOlkJQATnWLYWUgdAdTiKfhJrDkD4erGpYUcEQJ8Bz/rPQwNAk5Un7ho5EECrbXYHhU4GQATnWLYWUgdA+HqxqWFHBECTlSfuGjkAQF1gO2WoVQhAUfSTWPNKFUBA0pjF47oQQO0OCp2sPBFAXWA7ZahVCEB1OIp+Emv+P8JFxSDvYwxA7Q4Knaw8AUCTlSfuGjkQQFH0k1jzSgVA+HqxqWFHBEBA0pjF47oQQJ8Bz/rPQwNAnwHP+s9DA0DtDgqdrDwBQMJFxSDvY/w/mkt7dHW+EUD4erGpYUcEQKttdgeFTgZAUfSTWPNKBUBGiOxLPkACQF1gO2WoVQhA7Q4Knaw8AUCfAc/6z0MDQHU4in4Sa/4/q212B4VOBkBR9JNY80oFQLfZHRQ6WQlABOdYthZSB0BdYDtlqFUIQEaI7Es+QAJAzrFsLaRuD0CfAc/6z0MDQEaI7Es+QAJA7Q4Knaw8AUCrbXYHhU72P11gO2WoVfg/wkXFIO9j7D/4erGpYUf0P8JFxSDvY+w/wkXFIO9j/D9GiOxLPkDyP/h6salhR/Q/k5Un7ho58D+rbXYHhU72PxBTAMPLXPo/XWA7ZahV6D9GiOxLPkDyP0aI7Es+QPI/wkXFIO9j7D9GiOxLPkDyP8JFxSDvY/w/wkXFIO9j7D+TlSfuGjngP0aI7Es+QPI/wkXFIO9j7D9dYDtlqFXoP5OVJ+4aOfA/q212B4VO9j+TlSfuGjngP8JFxSDvY+w/XWA7ZahV2D+aS3t0db4RQEDSmMXjuhBA+HqxqWFH9D9R9JNY80oFQKttdgeFTvY/+HqxqWFHBECfAc/6z0MDQPh6salhR/Q/wkXFIO9j7D8QUwDDy1z6P58Bz/rPQwNAwkXFIO9j7D+rbXYHhU72P11gO2WoVfg/+HqxqWFH5D9GiOxLPkDyP/h6salhR/Q/wkXFIO9j/D/CRcUg72PsP6ttdgeFTvY/RojsSz5A8j+TlSfuGjnwP5OVJ+4aOeA/XWA7ZahV+D/4erGpYUf0P0aI7Es+QPI/RojsSz5A8j9dYDtlqFXoP0aI7Es+QPI/k5Un7ho54D91OIp+EmsOQEaI7Es+QAJAq212B4VO9j8QUwDDy1z6P0aI7Es+QPI/EFMAw8tc+j9GiOxLPkDyP+0OCp2sPAFAXWA7ZahV6D9dYDtlqFX4P8JFxSDvY/w/q212B4VO9j/CRcUg72P8P0aI7Es+QPI/wkXFIO9j7D9R9JNY80oFQPh6salhR/Q/+HqxqWFH9D+TlSfuGjnwP11gO2WoVfg/EFMAw8tc+j+rbXYHhU72P6ttdgeFTvY/XWA7ZahV6D9dYDtlqFXYP/h6salhR/Q/q212B4VO9j+rbXYHhU72P/h6salhR+Q/RojsSz5A8j9pzOJxXWALQJOVJ+4aOQBAq212B4VO9j8QUwDDy1z6P0aI7Es+QPI/RojsSz5AAkAE51i2FlIHQJOVJ+4aOQBAwkXFIO9j7D9GiOxLPkDyP11gO2WoVeg/+HqxqWFHBEBdYDtlqFXYP3U4in4Sa/4/wkXFIO9j7D+TlSfuGjkAQKttdgeFTvY/+HqxqWFH9D/CRcUg72PsPxBTAMPLXPo/RojsSz5A8j+TlSfuGjnwP8JFxSDvY+w/+HqxqWFH5D9GiOxLPkDyP6ttdgeFTvY/XWA7ZahV+D9dYDtlqFX4P11gO2WoVeg/k5Un7ho58D9dYDtlqFX4P58Bz/rPQwNAXWA7ZahV6D+TlSfuGjngP5OVJ+4aOeA/RojsSz5A8j8QUwDDy1z6P11gO2WoVeg/wkXFIO9j7D/CRcUg72PsPwAAAAAAAAAAk5Un7ho54D9dYDtlqFXYP5OVJ+4aOdA/k5Un7ho50D9dYDtlqFXoP5OVJ+4aOeA/+HqxqWFH5D+TlSfuGjnQP11gO2WoVdg/+HqxqWFH5D9GiOxLPkDyP8JFxSDvY+w/XWA7ZahV2D+TlSfuGjnQP/h6salhR+Q/XWA7ZahV2D9dYDtlqFXYP5OVJ+4aOdA/k5Un7ho5wD+TlSfuGjnQP5OVJ+4aOQBAq212B4VO9j/4erGpYUf0P8JFxSDvY+w/k5Un7ho58D8QUwDDy1z6P/h6salhR/Q/+HqxqWFH5D/4erGpYUfkP11gO2WoVdg/RojsSz5A8j9dYDtlqFXoP5OVJ+4aOeA/k5Un7ho54D+TlSfuGjnAP5OVJ+4aOeA/wkXFIO9j7D/4erGpYUfkP5OVJ+4aOdA/k5Un7ho50D+TlSfuGjngP0aI7Es+QPI/RojsSz5A8j+TlSfuGjnwP5OVJ+4aOcA/k5Un7ho54D+TlSfuGjnQP5OVJ+4aOdA/+HqxqWFH5D9dYDtlqFXoP+0OCp2sPAFAq212B4VO9j9GiOxLPkDyP5OVJ+4aOfA/XWA7ZahV6D+rbXYHhU72P0aI7Es+QPI/XWA7ZahV6D/4erGpYUfkP/h6salhR+Q/+HqxqWFH5D/4erGpYUfkP11gO2WoVeg/+HqxqWFH5D9dYDtlqFXoPxBTAMPLXPo/XWA7ZahV2D/CRcUg72PsP5OVJ+4aOeA/XWA7ZahV2D+TlSfuGjnwP5OVJ+4aOeA/k5Un7ho58D9dYDtlqFXoP5OVJ+4aOeA/+HqxqWFH5D/4erGpYUfkP5OVJ+4aOeA/+HqxqWFH5D+TlSfuGjnAP0aI7Es+QAJARojsSz5A8j+TlSfuGjnwP5OVJ+4aOeA/k5Un7ho54D/4erGpYUf0P11gO2WoVdg/k5Un7ho54D9dYDtlqFXoP5OVJ+4aOdA/wkXFIO9j7D/4erGpYUf0P0aI7Es+QPI/XWA7ZahV2D+TlSfuGjngP0aI7Es+QPI/k5Un7ho54D9dYDtlqFXoP5OVJ+4aOeA/wkXFIO9j7D+TlSfuGjnwP5OVJ+4aOeA/k5Un7ho54D/CRcUg72PsP/h6salhR+Q/XWA7ZahV6D+TlSfuGjngP/h6salhR+Q/k5Un7ho54D9dYDtlqFXoP/h6salhR+Q/k5Un7ho50D9dYDtlqFXoP5OVJ+4aOfA/k5Un7ho54D+TlSfuGjngP11gO2WoVeg/k5Un7ho50D9dYDtlqFXYP/h6salhR+Q/AAAAAAAAAABdYDtlqFXoP5OVJ+4aOdA/k5Un7ho50D8AAAAAAAAAAPh6salhR+Q/XWA7ZahV2D9dYDtlqFXYP5OVJ+4aOdA/XWA7ZahV2D8AAAAAAAAAAJOVJ+4aOeA/XWA7ZahV2D+TlSfuGjnAP5OVJ+4aOcA/k5Un7ho5wD+TlSfuGjngP11gO2WoVdg/XWA7ZahV2D+TlSfuGjnQP/h6salhR+Q/wkXFIO9j/D/4erGpYUf0P5OVJ+4aOdA/+HqxqWFH5D9dYDtlqFXoP5OVJ+4aOcA/k5Un7ho50D9dYDtlqFXoP5OVJ+4aOeA/k5Un7ho54D9dYDtlqFXYP5OVJ+4aOdA/+HqxqWFH5D9dYDtlqFXYP5OVJ+4aOdA/k5Un7ho50D9dYDtlqFXYP5OVJ+4aOdA/k5Un7ho5wD8AAAAAAAAAAPh6salhR+Q/+HqxqWFH5D+TlSfuGjngP5OVJ+4aOdA/XWA7ZahV2D+TlSfuGjnAP5OVJ+4aOeA/k5Un7ho5wD+TlSfuGjnAP11gO2WoVdg/+HqxqWFH9D+TlSfuGjnQP11gO2WoVeg/k5Un7ho54D+TlSfuGjngP11gO2WoVeg/XWA7ZahV2D/4erGpYUfkP11gO2WoVdg/k5Un7ho54D+TlSfuGjnQP5OVJ+4aOdA/XWA7ZahV2D+TlSfuGjnAP5OVJ+4aOeA/XWA7ZahV2D+TlSfuGjngP11gO2WoVdg/k5Un7ho54D9dYDtlqFXYP5OVJ+4aOcA/k5Un7ho5wD9dYDtlqFXoP5OVJ+4aOeA/k5Un7ho50D/CRcUg72PsP5OVJ+4aOdA/k5Un7ho54D+TlSfuGjngP5OVJ+4aOdA/XWA7ZahV+D9dYDtlqFXYP/h6salhR+Q/XWA7ZahV2D9dYDtlqFXoP11gO2WoVeg/k5Un7ho54D/4erGpYUfkP5OVJ+4aOcA/k5Un7ho50D+TlSfuGjnAP5OVJ+4aOcA/k5Un7ho50D9dYDtlqFXYP5OVJ+4aOdA/+HqxqWFH5D+TlSfuGjnQP11gO2WoVdg/XWA7ZahV2D/4erGpYUfkP0aI7Es+QPI/+HqxqWFH5D+TlSfuGjnQP5OVJ+4aOcA/XWA7ZahV2D9dYDtlqFXYP11gO2WoVeg/k5Un7ho54D/4erGpYUfkP5OVJ+4aOcA/XWA7ZahV2D9dYDtlqFXYP11gO2WoVeg/k5Un7ho5wD+TlSfuGjngP5OVJ+4aOcA/XWA7ZahV2D+TlSfuGjnAP5OVJ+4aOdA/k5Un7ho5wD+TlSfuGjnAP11gO2WoVdg/k5Un7ho5wD9dYDtlqFXYPwAAAAAAAAAAAAAAAAAAAAAAAAAAAAAAAJOVJ+4aOdA/k5Un7ho5wD8AAAAAAAAAAJOVJ+4aOcA/k5Un7ho54D9dYDtlqFXYP11gO2WoVdg/XWA7ZahV2D+TlSfuGjnQP5OVJ+4aOcA/AAAAAAAAAAAAAAAAAAAAAF1gO2WoVdg/AAAAAAAAAABdYDtlqFXoP8JFxSDvY+w/+HqxqWFH5D+TlSfuGjnQP5OVJ+4aOdA/k5Un7ho50D+TlSfuGjnQP5OVJ+4aOeA/XWA7ZahV2D9dYDtlqFXYPwAAAAAAAAAAk5Un7ho50D+TlSfuGjngP11gO2WoVdg/k5Un7ho5wD9dYDtlqFXoP5OVJ+4aOcA/XWA7ZahV2D+TlSfuGjnAPwAAAAAAAAAAk5Un7ho54D+TlSfuGjnAP5OVJ+4aOdA/k5Un7ho50D+TlSfuGjnAPwAAAAAAAAAAXWA7ZahV2D+TlSfuGjngP5OVJ+4aOdA/k5Un7ho50D/CRcUg72PsP5OVJ+4aOcA/k5Un7ho50D9dYDtlqFXYP11gO2WoVdg/k5Un7ho54D+TlSfuGjngP5OVJ+4aOcA/AAAAAAAAAACTlSfuGjngP11gO2WoVeg/k5Un7ho50D+TlSfuGjnQP5OVJ+4aOeA/XWA7ZahV2D9dYDtlqFXYP5OVJ+4aOeA/k5Un7ho5wD+TlSfuGjnQP5OVJ+4aOcA/XWA7ZahV2D+TlSfuGjnQPwAAAAAAAAAAk5Un7ho50D9dYDtlqFXYP/h6salhR+Q/XWA7ZahV2D+TlSfuGjnAP5OVJ+4aOdA/k5Un7ho5wD/4erGpYUfkP5OVJ+4aOcA/k5Un7ho54D8AAAAAAAAAAJOVJ+4aOdA/+HqxqWFH5D+TlSfuGjnAP5OVJ+4aOeA/k5Un7ho5wD8AAAAAAAAAAJOVJ+4aOcA/XWA7ZahV2D+TlSfuGjnAP/h6salhR+Q/XWA7ZahV2D+TlSfuGjnQP11gO2WoVdg/k5Un7ho5wD+TlSfuGjnQP11gO2WoVdg/k5Un7ho5wD+TlSfuGjnAP5OVJ+4aOcA/k5Un7ho50D+TlSfuGjnAP5OVJ+4aOeA/k5Un7ho5wD+TlSfuGjnQP5OVJ+4aOcA/k5Un7ho50D8AAAAAAAAAAPh6salhR+Q/k5Un7ho5wD+TlSfuGjnQP5OVJ+4aOcA/AAAAAAAAAACTlSfuGjnAP5OVJ+4aOdA/AAAAAAAAAAAAAAAAAAAAAAAAAAAAAAAAk5Un7ho5wD8AAAAAAAAAAAAAAAAAAAAAk5Un7ho50D9dYDtlqFXYP5OVJ+4aOcA/XWA7ZahV2D+TlSfuGjnAPwAAAAAAAAAAXWA7ZahV2D9dYDtlqFXYP5OVJ+4aOcA/k5Un7ho50D+TlSfuGjnAP5OVJ+4aOcA/AAAAAAAAAACTlSfuGjnAPwAAAAAAAAAAAAAAAAAAAACTlSfuGjnAP5OVJ+4aOeA/k5Un7ho54D+TlSfuGjnQPwAAAAAAAAAAAAAAAAAAAACTlSfuGjnAP11gO2WoVdg/k5Un7ho5wD+TlSfuGjnAPwAAAAAAAAAAk5Un7ho5wD+TlSfuGjnQPwAAAAAAAAAAAAAAAAAAAAAAAAAAAAAAAF1gO2WoVdg/k5Un7ho50D8AAAAAAAAAAAAAAAAAAAAAk5Un7ho50D+TlSfuGjnAP5OVJ+4aOcA/AAAAAAAAAACTlSfuGjnAPwAAAAAAAAAAAAAAAAAAAAAAAAAAAAAAAJOVJ+4aOcA/k5Un7ho5wD+TlSfuGjnQP5OVJ+4aOdA/AAAAAAAAAAD4erGpYUfkP5OVJ+4aOcA/k5Un7ho5wD9dYDtlqFXYP5OVJ+4aOdA/k5Un7ho5wD+TlSfuGjnQP5OVJ+4aOcA/XWA7ZahV2D8AAAAAAAAAAJOVJ+4aOcA/k5Un7ho5wD8AAAAAAAAAAJOVJ+4aOeA/XWA7ZahV2D+TlSfuGjnQP5OVJ+4aOdA/k5Un7ho50D+TlSfuGjnAP5OVJ+4aOcA/k5Un7ho5wD8AAAAAAAAAAJOVJ+4aOeA/k5Un7ho5wD8AAAAAAAAAAJOVJ+4aOcA/k5Un7ho50D9dYDtlqFXYP/h6salhR+Q/k5Un7ho5wD+TlSfuGjnQP5OVJ+4aOcA/k5Un7ho5wD+TlSfuGjnAPwAAAAAAAAAAk5Un7ho5wD8AAAAAAAAAAJOVJ+4aOdA/k5Un7ho50D+TlSfuGjnQPwAAAAAAAAAAk5Un7ho5wD+TlSfuGjnQP11gO2WoVdg/k5Un7ho5wD8AAAAAAAAAAJOVJ+4aOcA/k5Un7ho5wD+TlSfuGjnAP5OVJ+4aOcA/AAAAAAAAAABdYDtlqFXYP5OVJ+4aOcA/AAAAAAAAAACTlSfuGjnAP5OVJ+4aOcA/AAAAAAAAAACTlSfuGjnQP11gO2WoVdg/AAAAAAAAAACTlSfuGjnAP5OVJ+4aOcA/AAAAAAAAAAAAAAAAAAAAAJOVJ+4aOcA/AAAAAAAAAAAAAAAAAAAAAAAAAAAAAAAAk5Un7ho5wD+TlSfuGjnAPwAAAAAAAAAAk5Un7ho5wD+TlSfuGjnAPwAAAAAAAAAAk5Un7ho50D+TlSfuGjnAPwAAAAAAAAAAXWA7ZahV2D+TlSfuGjnAPwAAAAAAAAAAk5Un7ho5wD+TlSfuGjnAP5OVJ+4aOdA/AAAAAAAAAAAAAAAAAAAAAJOVJ+4aOcA/AAAAAAAAAAAAAAAAAAAAAAAAAAAAAAAAXWA7ZahV2D+TlSfuGjnQP11gO2WoVdg/k5Un7ho5wD+TlSfuGjnQP5OVJ+4aOcA/AAAAAAAAAACTlSfuGjnAP11gO2WoVdg/k5Un7ho5wD+TlSfuGjnAP5OVJ+4aOcA/k5Un7ho5wD+TlSfuGjnQPwAAAAAAAAAAk5Un7ho50D+TlSfuGjnAPwAAAAAAAAAAk5Un7ho5wD8AAAAAAAAAAJOVJ+4aOcA/AAAAAAAAAACTlSfuGjnQPwAAAAAAAAAAAAAAAAAAAACTlSfuGjnQPwAAAAAAAAAAAAAAAAAAAAAAAAAAAAAAAJOVJ+4aOcA/AAAAAAAAAABdYDtlqFXYPwAAAAAAAAAAAAAAAAAAAACTlSfuGjnAP5OVJ+4aOdA/AAAAAAAAAAAAAAAAAAAAAAAAAAAAAAAAk5Un7ho5wD8AAAAAAAAAAJOVJ+4aOcA/AAAAAAAAAACTlSfuGjnAPwAAAAAAAAAAAAAAAAAAAACTlSfuGjnQPwAAAAAAAAAAk5Un7ho5wD8AAAAAAAAAAJOVJ+4aOcA/AAAAAAAAAACTlSfuGjnQP11gO2WoVdg/AAAAAAAAAACTlSfuGjnAPwAAAAAAAAAAk5Un7ho5wD8AAAAAAAAAAJOVJ+4aOcA/k5Un7ho50D8AAAAAAAAAAJOVJ+4aOcA/AAAAAAAAAAAAAAAAAAAAAJOVJ+4aOcA/AAAAAAAAAAAAAAAAAAAAAJOVJ+4aOcA/k5Un7ho50D8AAAAAAAAAAAAAAAAAAAAAk5Un7ho50D8AAAAAAAAAAJOVJ+4aOcA/AAAAAAAAAAAAAAAAAAAAAJOVJ+4aOcA/AAAAAAAAAAAAAAAAAAAAAAAAAAAAAAAAk5Un7ho5wD+TlSfuGjnAP5OVJ+4aOcA/k5Un7ho5wD+TlSfuGjngPwAAAAAAAAAAAAAAAAAAAAAAAAAAAAAAAAAAAAAAAAAAk5Un7ho5wD+TlSfuGjnQP5OVJ+4aOdA/AAAAAAAAAAAAAAAAAAAAAAAAAAAAAAAAAAAAAAAAAAAAAAAAAAAAAJOVJ+4aOeA/AAAAAAAAAAAAAAAAAAAAAAAAAAAAAAAAAAAAAAAAAAAAAAAAAAAAAAAAAAAAAAAAAAAAAAAAAAAAAAAAAAAAAAAAAAAAAAAAAAAAAAAAAAAAAAAAAAAAAJOVJ+4aOcA/AAAAAAAAAAAAAAAAAAAAAJOVJ+4aOdA/AAAAAAAAAAAAAAAAAAAAAJOVJ+4aOcA/AAAAAAAAAAAAAAAAAAAAAAAAAAAAAAAAAAAAAAAAAACTlSfuGjnQP5OVJ+4aOdA/AAAAAAAAAACTlSfuGjnAPwAAAAAAAAAAk5Un7ho50D8AAAAAAAAAAJOVJ+4aOdA/AAAAAAAAAACTlSfuGjnAP5OVJ+4aOcA/k5Un7ho50D+TlSfuGjnAPwAAAAAAAAAAk5Un7ho5wD+TlSfuGjnQPwAAAAAAAAAAAAAAAAAAAACTlSfuGjnQPwAAAAAAAAAAk5Un7ho5wD+TlSfuGjnAP5OVJ+4aOcA/k5Un7ho5wD+TlSfuGjnAPwAAAAAAAAAAk5Un7ho5wD8AAAAAAAAAAAAAAAAAAAAAk5Un7ho50D8AAAAAAAAAAJOVJ+4aOcA/k5Un7ho5wD+TlSfuGjnAPwAAAAAAAAAAk5Un7ho5wD8AAAAAAAAAAAAAAAAAAAAAk5Un7ho5wD8AAAAAAAAAAJOVJ+4aOcA/AAAAAAAAAACTlSfuGjnQPwAAAAAAAAAAk5Un7ho5wD+TlSfuGjnAPwAAAAAAAAAAAAAAAAAAAAAAAAAAAAAAAAAAAAAAAAAAk5Un7ho50D+TlSfuGjnAPwAAAAAAAAAAk5Un7ho5wD+TlSfuGjnAP5OVJ+4aOeA/AAAAAAAAAAAAAAAAAAAAAAAAAAAAAAAAAAAAAAAAAACTlSfuGjngPwAAAAAAAAAAAAAAAAAAAAAAAAAAAAAAAAAAAAAAAAAAAAAAAAAAAACTlSfuGjnAP5OVJ+4aOcA/AAAAAAAAAACTlSfuGjnQP5OVJ+4aOdA/AAAAAAAAAACTlSfuGjnQP5OVJ+4aOdA/k5Un7ho5wD+TlSfuGjnQP5OVJ+4aOcA/AAAAAAAAAACTlSfuGjnAPwAAAAAAAAAAAAAAAAAAAAAAAAAAAAAAAAAAAAAAAAAAk5Un7ho5wD+TlSfuGjnAPwAAAAAAAAAAAAAAAAAAAAAAAAAAAAAAAAAAAAAAAAAAAAAAAAAAAAAAAAAAAAAAAF1gO2WoVdg/AAAAAAAAAAAAAAAAAAAAAJOVJ+4aOcA/AAAAAAAAAAAAAAAAAAAAAJOVJ+4aOdA/AAAAAAAAAAAAAAAAAAAAAAAAAAAAAAAAAAAAAAAAAACTlSfuGjnAPwAAAAAAAAAAAAAAAAAAAAAAAAAAAAAAAAAAAAAAAAAAk5Un7ho5wD+TlSfuGjnAPwAAAAAAAAAAAAAAAAAAAAAAAAAAAAAAAJOVJ+4aOcA/k5Un7ho5wD8AAAAAAAAAAAAAAAAAAAAAAAAAAAAAAACTlSfuGjnAPwAAAAAAAAAAAAAAAAAAAAAAAAAAAAAAAJOVJ+4aOeA/k5Un7ho50D+TlSfuGjnAP5OVJ+4aOdA/k5Un7ho5wD+TlSfuGjnAPwAAAAAAAAAAAAAAAAAAAACTlSfuGjnAP5OVJ+4aOcA/AAAAAAAAAAAAAAAAAAAAAAAAAAAAAAAAAAAAAAAAAAAAAAAAAAAAAJOVJ+4aOcA/k5Un7ho5wD8AAAAAAAAAAAAAAAAAAAAAAAAAAAAAAACTlSfuGjnAP5OVJ+4aOcA/k5Un7ho5wD9dYDtlqFXYPwAAAAAAAAAAAAAAAAAAAAAAAAAAAAAAAAAAAAAAAAAAAAAAAAAAAACTlSfuGjnAP5OVJ+4aOcA/AAAAAAAAAAAAAAAAAAAAAJOVJ+4aOcA/AAAAAAAAAACTlSfuGjnAPwAAAAAAAAAAAAAAAAAAAAAAAAAAAAAAAAAAAAAAAAAAAAAAAAAAAAAAAAAAAAAAAJOVJ+4aOcA/AAAAAAAAAACTlSfuGjnQPwAAAAAAAAAAAAAAAAAAAACTlSfuGjnQPwAAAAAAAAAAAAAAAAAAAAAAAAAAAAAAAAAAAAAAAAAAk5Un7ho5wD8AAAAAAAAAAAAAAAAAAAAAAAAAAAAAAAAAAAAAAAAAAJOVJ+4aOcA/AAAAAAAAAAAAAAAAAAAAAAAAAAAAAAAAk5Un7ho5wD8AAAAAAAAAAAAAAAAAAAAAAAAAAAAAAAAAAAAAAAAAAAAAAAAAAAAAAAAAAAAAAAAAAAAAAAAAAJOVJ+4aOcA/AAAAAAAAAACTlSfuGjnAPwAAAAAAAAAAAAAAAAAAAACTlSfuGjnAP5OVJ+4aOcA/k5Un7ho5wD+TlSfuGjnAPwAAAAAAAAAAk5Un7ho5wD+TlSfuGjnAPwAAAAAAAAAAAAAAAAAAAAAAAAAAAAAAAJOVJ+4aOcA/AAAAAAAAAACTlSfuGjnQPwAAAAAAAAAAAAAAAAAAAAAAAAAAAAAAAAAAAAAAAAAAk5Un7ho50D+TlSfuGjnAP5OVJ+4aOcA/k5Un7ho50D8AAAAAAAAAAAAAAAAAAAAAAAAAAAAAAACTlSfuGjnAP5OVJ+4aOcA/AAAAAAAAAAAAAAAAAAAAAAAAAAAAAAAAAAAAAAAAAAAAAAAAAAAAAAAAAAAAAAAAk5Un7ho5wD+TlSfuGjnAPwAAAAAAAAAAAAAAAAAAAAAAAAAAAAAAAAAAAAAAAAAAAAAAAAAAAAAAAAAAAAAAAAAAAAAAAAAAk5Un7ho5wD8AAAAAAAAAAAAAAAAAAAAAAAAAAAAAAAAAAAAAAAAAAJOVJ+4aOcA/k5Un7ho5wD+TlSfuGjnAPwAAAAAAAAAAk5Un7ho5wD+TlSfuGjnQP5OVJ+4aOcA/AAAAAAAAAAAAAAAAAAAAAAAAAAAAAAAAAAAAAAAAAACTlSfuGjnAP5OVJ+4aOcA/AAAAAAAAAAAAAAAAAAAAAJOVJ+4aOcA/AAAAAAAAAAAAAAAAAAAAAJOVJ+4aOcA/AAAAAAAAAAAAAAAAAAAAAJOVJ+4aOcA/k5Un7ho5wD8AAAAAAAAAAAAAAAAAAAAAAAAAAAAAAAAAAAAAAAAAAAAAAAAAAAAAk5Un7ho5wD8AAAAAAAAAAJOVJ+4aOcA/AAAAAAAAAAAAAAAAAAAAAJOVJ+4aOcA/AAAAAAAAAAAAAAAAAAAAAJOVJ+4aOcA/AAAAAAAAAACTlSfuGjnAPwAAAAAAAAAAk5Un7ho5wD8AAAAAAAAAAJOVJ+4aOcA/AAAAAAAAAACTlSfuGjnAPwAAAAAAAAAAAAAAAAAAAAAAAAAAAAAAAJOVJ+4aOcA/AAAAAAAAAAAAAAAAAAAAAAAAAAAAAAAAAAAAAAAAAAAAAAAAAAAAAJOVJ+4aOcA/AAAAAAAAAAAAAAAAAAAAAAAAAAAAAAAAAAAAAAAAAAAAAAAAAAAAAJOVJ+4aOcA/k5Un7ho5wD8AAAAAAAAAAAAAAAAAAAAAAAAAAAAAAAAAAAAAAAAAAJOVJ+4aOcA/AAAAAAAAAACTlSfuGjnAP5OVJ+4aOcA/AAAAAAAAAAAAAAAAAAAAAJOVJ+4aOcA/k5Un7ho5wD8AAAAAAAAAAJOVJ+4aOcA/AAAAAAAAAAAAAAAAAAAAAAAAAAAAAAAAAAAAAAAAAAAAAAAAAAAAAAAAAAAAAAAAAAAAAAAAAAAAAAAAAAAAAAAAAAAAAAAAAAAAAAAAAAAAAAAAAAAAAAAAAAAAAAAAk5Un7ho5wD8AAAAAAAAAAAAAAAAAAAAAAAAAAAAAAACTlSfuGjnAPwAAAAAAAAAAAAAAAAAAAAAAAAAAAAAAAAAAAAAAAAAAAAAAAAAAAAAAAAAAAAAAAAAAAAAAAAAAAAAAAAAAAAAAAAAAAAAAAJOVJ+4aOcA/AAAAAAAAAAAAAAAAAAAAAJOVJ+4aOcA/AAAAAAAAAAAAAAAAAAAAAAAAAAAAAAAAAAAAAAAAAACTlSfuGjnAPwAAAAAAAAAAAAAAAAAAAAAAAAAAAAAAAAAAAAAAAAAAAAAAAAAAAAAAAAAAAAAAAAAAAAAAAAAAAAAAAAAAAAAAAAAAAAAAAAAAAAAAAAAAAAAAAAAAAABdYDtlqFXYPwAAAAAAAAAAAAAAAAAAAAAAAAAAAAAAAAAAAAAAAAAAk5Un7ho5wD8AAAAAAAAAAAAAAAAAAAAAk5Un7ho50D8AAAAAAAAAAAAAAAAAAAAAAAAAAAAAAAAAAAAAAAAAAAAAAAAAAAAAAAAAAAAAAAAAAAAAAAAAAAAAAAAAAAAAAAAAAAAAAACTlSfuGjnAPwAAAAAAAAAAAAAAAAAAAAAAAAAAAAAAAAAAAAAAAAAAAAAAAAAAAAAAAAAAAAAAAAAAAAAAAAAAAAAAAAAAAAAAAAAAAAAAAJOVJ+4aOcA/AAAAAAAAAAAAAAAAAAAAAJOVJ+4aOcA/k5Un7ho5wD8AAAAAAAAAAAAAAAAAAAAAk5Un7ho5wD8AAAAAAAAAAAAAAAAAAAAAk5Un7ho5wD+TlSfuGjnAPwAAAAAAAAAAAAAAAAAAAAAAAAAAAAAAAAAAAAAAAAAAAAAAAAAAAAAAAAAAAAAAAAAAAAAAAAAAAAAAAAAAAAAAAAAAAAAAAAAAAAAAAAAAAAAAAAAAAAAAAAAAAAAAAAAAAAAAAAAAAAAAAAAAAAAAAAAAAAAAAAAAAAAAAAAAAAAAAAAAAACTlSfuGjnAPwAAAAAAAAAAk5Un7ho5wD8AAAAAAAAAAAAAAAAAAAAAk5Un7ho5wD8AAAAAAAAAAAAAAAAAAAAAk5Un7ho5wD+TlSfuGjnAPwAAAAAAAAAAk5Un7ho5wD8AAAAAAAAAAAAAAAAAAAAAk5Un7ho50D8AAAAAAAAAAJOVJ+4aOcA/k5Un7ho5wD8AAAAAAAAAAJOVJ+4aOcA/AAAAAAAAAAAAAAAAAAAAAAAAAAAAAAAAAAAAAAAAAAAAAAAAAAAAAJOVJ+4aOcA/AAAAAAAAAAAAAAAAAAAAAAAAAAAAAAAAAAAAAAAAAAAAAAAAAAAAAAAAAAAAAAAAAAAAAAAAAAAAAAAAAAAAAJOVJ+4aOcA/k5Un7ho5wD+TlSfuGjnAPwAAAAAAAAAAAAAAAAAAAAAAAAAAAAAAAJOVJ+4aOcA/AAAAAAAAAAAAAAAAAAAAAAAAAAAAAAAAk5Un7ho5wD8AAAAAAAAAAAAAAAAAAAAAAAAAAAAAAAAAAAAAAAAAAJOVJ+4aOcA/AAAAAAAAAAAAAAAAAAAAAAAAAAAAAAAAAAAAAAAAAAAAAAAAAAAAAAAAAAAAAAAAAAAAAAAAAAAAAAAAAAAAAAAAAAAAAAAAAAAAAAAAAAAAAAAAAAAAAAAAAAAAAAAAAAAAAAAAAAAAAAAAAAAAAAAAAAAAAAAAAAAAAAAAAACTlSfuGjnAPwAAAAAAAAAAAAAAAAAAAAAAAAAAAAAAAAAAAAAAAAAAAAAAAAAAAAAAAAAAAAAAAAAAAAAAAAAAAAAAAAAAAAAAAAAAAAAAAAAAAAAAAAAAAAAAAAAAAAAAAAAAAAAAAAAAAAAAAAAAAAAAAAAAAAAAAAAAAAAAAAAAAAAAAAAAk5Un7ho50D8AAAAAAAAAAAAAAAAAAAAAAAAAAAAAAAAAAAAAAAAAAAAAAAAAAAAAAAAAAAAAAAAAAAAAAAAAAAAAAAAAAAAAAAAAAAAAAAAAAAAAAAAAAAAAAAAAAAAAAAAAAAAAAAAAAAAAAAAAAAAAAAAAAAAAAAAAAAAAAAAAAAAAAAAAAAAAAAAAAAAAAAAAAAAAAAAAAAAAAAAAAJOVJ+4aOcA/AAAAAAAAAACTlSfuGjnAPwAAAAAAAAAAAAAAAAAAAAAAAAAAAAAAAAAAAAAAAAAAk5Un7ho5wD+TlSfuGjnAP5OVJ+4aOcA/k5Un7ho5wD+TlSfuGjnAPwAAAAAAAAAAAAAAAAAAAAAAAAAAAAAAAAAAAAAAAAAAAAAAAAAAAACTlSfuGjnQPwAAAAAAAAAAAAAAAAAAAACTlSfuGjnQP5OVJ+4aOcA/AAAAAAAAAAAAAAAAAAAAAAAAAAAAAAAAAAAAAAAAAACTlSfuGjnAPwAAAAAAAAAAAAAAAAAAAAAAAAAAAAAAAAAAAAAAAAAAk5Un7ho5wD8AAAAAAAAAAAAAAAAAAAAAAAAAAAAAAAAAAAAAAAAAAAAAAAAAAAAAAAAAAAAAAAAAAAAAAAAAAAAAAAAAAAAAAAAAAAAAAAAAAAAAAAAAAAAAAAAAAAAAAAAAAAAAAAAAAAAAAAAAAAAAAAAAAAAAAAAAAAAAAAAAAAAAAAAAAAAAAAAAAAAAAAAAAAAAAAAAAAAAAAAAAAAAAAAAAAAAAAAAAAAAAACTlSfuGjnAPwAAAAAAAAAAAAAAAAAAAAAAAAAAAAAAAAAAAAAAAAAAAAAAAAAAAAAAAAAAAAAAAAAAAAAAAAAAAAAAAAAAAAAAAAAAAAAAAAAAAAAAAAAAAAAAAAAAAAAAAAAAAAAAAJOVJ+4aOcA/AAAAAAAAAAAAAAAAAAAAAAAAAAAAAAAAAAAAAAAAAAAAAAAAAAAAAAAAAAAAAAAAAAAAAAAAAAAAAAAAAAAAAAAAAAAAAAAAAAAAAAAAAAAAAAAAAAAAAAAAAAAAAAAAAAAAAAAAAAAAAAAAAAAAAAAAAAAAAAAAk5Un7ho5wD+TlSfuGjnAPwAAAAAAAAAAk5Un7ho5wD8AAAAAAAAAAAAAAAAAAAAAAAAAAAAAAAAAAAAAAAAAAJOVJ+4aOcA/AAAAAAAAAAAAAAAAAAAAAAAAAAAAAAAAAAAAAAAAAAAAAAAAAAAAAAAAAAAAAAAAAAAAAAAAAAAAAAAAAAAAAAAAAAAAAAAAAAAAAAAAAAAAAAAAAAAAAAAAAAAAAAAAAAAAAAAAAAAAAAAAAAAAAAAAAAAAAAAAAAAAAAAAAAAAAAAAAAAAAAAAAAAAAAAAAAAAAAAAAAAAAAAAAAAAAAAAAAAAAAAAAAAAAAAAAAAAAAAAAAAAAJOVJ+4aOcA/AAAAAAAAAACTlSfuGjnAPwAAAAAAAAAAk5Un7ho5wD8AAAAAAAAAAAAAAAAAAAAAAAAAAAAAAAAAAAAAAAAAAJOVJ+4aOcA/AAAAAAAAAAAAAAAAAAAAAAAAAAAAAAAAAAAAAAAAAAAAAAAAAAAAAAAAAAAAAAAAk5Un7ho5wD8AAAAAAAAAAAAAAAAAAAAAAAAAAAAAAAAAAAAAAAAAAAAAAAAAAAAAk5Un7ho5wD8AAAAAAAAAAAAAAAAAAAAAAAAAAAAAAAAAAAAAAAAAAJOVJ+4aOcA/k5Un7ho5wD+TlSfuGjnAPwAAAAAAAAAAAAAAAAAAAAAAAAAAAAAAAAAAAAAAAAAAAAAAAAAAAAAAAAAAAAAAAAAAAAAAAAAAAAAAAAAAAAAAAAAAAAAAAAAAAAAAAAAAAAAAAAAAAAAAAAAAAAAAAAAAAAAAAAAAAAAAAAAAAAAAAAAAAAAAAAAAAAAAAAAAk5Un7ho5wD8AAAAAAAAAAAAAAAAAAAAAAAAAAAAAAAAAAAAAAAAAAAAAAAAAAAAAAAAAAAAAAAAAAAAAAAAAAAAAAAAAAAAAk5Un7ho5wD8AAAAAAAAAAAAAAAAAAAAAAAAAAAAAAAAAAAAAAAAAAAAAAAAAAAAAAAAAAAAAAACTlSfuGjnAPwAAAAAAAAAAAAAAAAAAAAAAAAAAAAAAAAAAAAAAAAAAk5Un7ho5wD8AAAAAAAAAAAAAAAAAAAAAAAAAAAAAAAAAAAAAAAAAAAAAAAAAAAAAAAAAAAAAAAAAAAAAAAAAAAAAAAAAAAAAAAAAAAAAAAAAAAAAAAAAAAAAAAAAAAAAAAAAAAAAAAAAAAAAAAAAAAAAAAAAAAAAAAAAAAAAAAAAAAAAAAAAAAAAAAAAAAAAAAAAAAAAAAAAAAAAAAAAAAAAAAAAAAAAAAAAAAAAAAAAAAAAAAAAAAAAAAAAAAAAk5Un7ho5wD8AAAAAAAAAAAAAAAAAAAAAAAAAAAAAAAAAAAAAAAAAAAAAAAAAAAAAAAAAAAAAAAAAAAAAAAAAAAAAAAAAAAAAAAAAAAAAAAAAAAAAAAAAAAAAAAAAAAAAAAAAAAAAAAAAAAAAAAAAAAAAAAAAAAAAAAAAAAAAAAAAAAAAAAAAAAAAAAAAAAAAAAAAAAAAAAAAAAAAAAAAAAAAAAAAAAAAAAAAAAAAAAAAAAAAAAAAAAAAAAAAAAAAAAAAAAAAAAAAAAAAAAAAAAAAAAAAAAAAAAAAAAAAAAAAAAAAAAAAAAAAAAAAAAAAAAAAAAAAAAAAAAAAAAAAAAAAAAAAAAAAAAAAAAAAAACTlSfuGjnAPwAAAAAAAAAAAAAAAAAAAAAAAAAAAAAAAAAAAAAAAAAAAAAAAAAAAAAAAAAAAAAAAAAAAAAAAAAAAAAAAAAAAAAAAAAAAAAAAAAAAAAAAAAAAAAAAAAAAAAAAAAAAAAAAAAAAAAAAAAAk5Un7ho5wD+TlSfuGjnQPwAAAAAAAAAAk5Un7ho5wD8AAAAAAAAAAAAAAAAAAAAAAAAAAAAAAAAAAAAAAAAAAAAAAAAAAAAAAAAAAAAAAAAAAAAAAAAAAAAAAAAAAAAAk5Un7ho5wD8AAAAAAAAAAAAAAAAAAAAAAAAAAAAAAAAAAAAAAAAAAAAAAAAAAAAAAAAAAAAAAACTlSfuGjnAPwAAAAAAAAAAAAAAAAAAAACTlSfuGjnAPwAAAAAAAAAAAAAAAAAAAAAAAAAAAAAAAAAAAAAAAAAAAAAAAAAAAAAAAAAAAAAAAAAAAAAAAAAAAAAAAAAAAAAAAAAAAAAAAAAAAAAAAAAAAAAAAAAAAAAAAAAAAAAAAAAAAAAAAAAAAAAAAAAAAAAAAAAAAAAAAAAAAAAAAAAAk5Un7ho5wD+TlSfuGjnAPwAAAAAAAAAAAAAAAAAAAAAAAAAAAAAAAAAAAAAAAAAAAAAAAAAAAAAAAAAAAAAAAJOVJ+4aOcA/AAAAAAAAAAAAAAAAAAAAAAAAAAAAAAAAAAAAAAAAAAAAAAAAAAAAAAAAAAAAAAAAAAAAAAAAAAAAAAAAAAAAAAAAAAAAAAAAAAAAAAAAAAAAAAAAAAAAAAAAAAAAAAAAAAAAAAAAAAAAAAAAAAAAAAAAAAAAAAAAAAAAAAAAAAAAAAAAAAAAAAAAAAAAAAAAAAAAAAAAAAAAAAAAAAAAAAAAAAAAAAAAAAAAAAAAAAAAAAAAAAAAAJOVJ+4aOcA/k5Un7ho5wD8AAAAAAAAAAAAAAAAAAAAAAAAAAAAAAAAAAAAAAAAAAAAAAAAAAAAAAAAAAAAAAAAAAAAAAAAAAAAAAAAAAAAAAAAAAAAAAAAAAAAAAAAAAAAAAAAAAAAAAAAAAAAAAAAAAAAAAAAAAAAAAAAAAAAAAAAAAAAAAAAAAAAAAAAAAAAAAAAAAAAAAAAAAAAAAAAAAAAAAAAAAAAAAAAAAAAAAAAAAAAAAAAAAAAAAAAAAAAAAAAAAAAAAAAAAAAAAAAAAAAAAAAAAAAAAAAAAAAAAAAAAAAAAAAAAAAAAAAAAAAAAAAAAAAAAAAAAAAAAAAAAAAAAAAAAAAAAAAAAAAAAAAAAAAAAAAAAAAAAAAAAAAAAAAAAAAAAAAAAAAAAAAAAAAAAAAAAAAAAAAAAAAAAAAAAAAAAAAAAAAAAAAAAAAAAAAAAAAAAAAAAAAAAACTlSfuGjnAP5OVJ+4aOcA/AAAAAAAAAAAAAAAAAAAAAAAAAAAAAAAAAAAAAAAAAACTlSfuGjnAPwAAAAAAAAAAAAAAAAAAAAAAAAAAAAAAAAAAAAAAAAAAAAAAAAAAAAAAAAAAAAAAAAAAAAAAAAAAAAAAAAAAAAAAAAAAAAAAAAAAAAAAAAAAAAAAAAAAAACTlSfuGjnAP5OVJ+4aOcA/AAAAAAAAAAAAAAAAAAAAAAAAAAAAAAAAAAAAAAAAAAAAAAAAAAAAAAAAAAAAAAAAAAAAAAAAAAAAAAAAAAAAAAAAAAAAAAAAAAAAAAAAAAAAAAAAAAAAAAAAAAAAAAAAAAAAAAAAAAAAAAAAAAAAAAAAAAAAAAAAAAAAAAAAAAAAAAAAAAAAAAAAAAAAAAAAAAAAAAAAAAAAAAAAAAAAAAAAAAAAAAAAAAAAAAAAAAAAAAAAAAAAAAAAAAAAAAAAAAAAAAAAAAAAAAAAAAAAAAAAAAAAAAAAk5Un7ho5wD8AAAAAAAAAAAAAAAAAAAAAAAAAAAAAAAAAAAAAAAAAAAAAAAAAAAAAAAAAAAAAAAAAAAAAAAAAAAAAAAAAAAAAAAAAAAAAAAAAAAAAAAAAAAAAAAAAAAAAAAAAAAAAAAAAAAAAAAAAAAAAAAAAAAAAAAAAAAAAAAAAAAAAAAAAAAAAAAAAAAAAAAAAAAAAAAAAAAAAAAAAAAAAAAAAAAAAAAAAAAAAAAAAAAAAAAAAAJOVJ+4aOcA/AAAAAAAAAAAAAAAAAAAAAAAAAAAAAAAAAAAAAAAAAAAAAAAAAAAAAAAAAAAAAAAAAAAAAAAAAAAAAAAAAAAAAAAAAAAAAAAAAAAAAAAAAAAAAAAAAAAAAAAAAAAAAAAAk5Un7ho5wD8AAAAAAAAAAAAAAAAAAAAAAAAAAAAAAAAAAAAAAAAAAAAAAAAAAAAAAAAAAAAAAAAAAAAAAAAAAAAAAAAAAAAAAAAAAAAAAAAAAAAAAAAAAAAAAAAAAAAAAAAAAAAAAAAAAAAAAAAAAAAAAAAAAAAAAAAAAAAAAAAAAAAAAAAAAAAAAAAAAAAAAAAAAAAAAAAAAAAAAAAAAAAAAAAAAAAAAAAAAAAAAAAAAAAAAAAAAAAAAAAAAAAAAAAAAAAAAAAAAAAAAAAAAJOVJ+4aOdA/AAAAAAAAAAAAAAAAAAAAAAAAAAAAAAAAAAAAAAAAAAAAAAAAAAAAAAAAAAAAAAAAAAAAAAAAAAAAAAAAAAAAAJOVJ+4aOcA/AAAAAAAAAACTlSfuGjnAPwAAAAAAAAAAAAAAAAAAAAAAAAAAAAAAAAAAAAAAAAAAAAAAAAAAAAAAAAAAAAAAAAAAAAAAAAAAAAAAAAAAAAAAAAAAAAAAAAAAAAAAAAAAAAAAAAAAAACTlSfuGjnAP5OVJ+4aOcA/k5Un7ho5wD8AAAAAAAAAAAAAAAAAAAAAk5Un7ho5wD8AAAAAAAAAAAAAAAAAAAAAAAAAAAAAAAAAAAAAAAAAAAAAAAAAAAAAAAAAAAAAAAAAAAAAAAAAAAAAAAAAAAAAAAAAAAAAAAAAAAAAAAAAAJOVJ+4aOcA/AAAAAAAAAAAAAAAAAAAAAAAAAAAAAAAAk5Un7ho5wD8AAAAAAAAAAAAAAAAAAAAAAAAAAAAAAAAAAAAAAAAAAAAAAAAAAAAAAAAAAAAAAAAAAAAAAAAAAAAAAAAAAAAAAAAAAAAAAAAAAAAAAAAAAAAAAAAAAAAAAAAAAAAAAACTlSfuGjnAPwAAAAAAAAAAAAAAAAAAAAA=",
          "dtype": "f8",
          "shape": "40, 121"
         }
        }
       ],
       "layout": {
        "template": {
         "data": {
          "bar": [
           {
            "error_x": {
             "color": "#2a3f5f"
            },
            "error_y": {
             "color": "#2a3f5f"
            },
            "marker": {
             "line": {
              "color": "#E5ECF6",
              "width": 0.5
             },
             "pattern": {
              "fillmode": "overlay",
              "size": 10,
              "solidity": 0.2
             }
            },
            "type": "bar"
           }
          ],
          "barpolar": [
           {
            "marker": {
             "line": {
              "color": "#E5ECF6",
              "width": 0.5
             },
             "pattern": {
              "fillmode": "overlay",
              "size": 10,
              "solidity": 0.2
             }
            },
            "type": "barpolar"
           }
          ],
          "carpet": [
           {
            "aaxis": {
             "endlinecolor": "#2a3f5f",
             "gridcolor": "white",
             "linecolor": "white",
             "minorgridcolor": "white",
             "startlinecolor": "#2a3f5f"
            },
            "baxis": {
             "endlinecolor": "#2a3f5f",
             "gridcolor": "white",
             "linecolor": "white",
             "minorgridcolor": "white",
             "startlinecolor": "#2a3f5f"
            },
            "type": "carpet"
           }
          ],
          "choropleth": [
           {
            "colorbar": {
             "outlinewidth": 0,
             "ticks": ""
            },
            "type": "choropleth"
           }
          ],
          "contour": [
           {
            "colorbar": {
             "outlinewidth": 0,
             "ticks": ""
            },
            "colorscale": [
             [
              0,
              "#0d0887"
             ],
             [
              0.1111111111111111,
              "#46039f"
             ],
             [
              0.2222222222222222,
              "#7201a8"
             ],
             [
              0.3333333333333333,
              "#9c179e"
             ],
             [
              0.4444444444444444,
              "#bd3786"
             ],
             [
              0.5555555555555556,
              "#d8576b"
             ],
             [
              0.6666666666666666,
              "#ed7953"
             ],
             [
              0.7777777777777778,
              "#fb9f3a"
             ],
             [
              0.8888888888888888,
              "#fdca26"
             ],
             [
              1,
              "#f0f921"
             ]
            ],
            "type": "contour"
           }
          ],
          "contourcarpet": [
           {
            "colorbar": {
             "outlinewidth": 0,
             "ticks": ""
            },
            "type": "contourcarpet"
           }
          ],
          "heatmap": [
           {
            "colorbar": {
             "outlinewidth": 0,
             "ticks": ""
            },
            "colorscale": [
             [
              0,
              "#0d0887"
             ],
             [
              0.1111111111111111,
              "#46039f"
             ],
             [
              0.2222222222222222,
              "#7201a8"
             ],
             [
              0.3333333333333333,
              "#9c179e"
             ],
             [
              0.4444444444444444,
              "#bd3786"
             ],
             [
              0.5555555555555556,
              "#d8576b"
             ],
             [
              0.6666666666666666,
              "#ed7953"
             ],
             [
              0.7777777777777778,
              "#fb9f3a"
             ],
             [
              0.8888888888888888,
              "#fdca26"
             ],
             [
              1,
              "#f0f921"
             ]
            ],
            "type": "heatmap"
           }
          ],
          "histogram": [
           {
            "marker": {
             "pattern": {
              "fillmode": "overlay",
              "size": 10,
              "solidity": 0.2
             }
            },
            "type": "histogram"
           }
          ],
          "histogram2d": [
           {
            "colorbar": {
             "outlinewidth": 0,
             "ticks": ""
            },
            "colorscale": [
             [
              0,
              "#0d0887"
             ],
             [
              0.1111111111111111,
              "#46039f"
             ],
             [
              0.2222222222222222,
              "#7201a8"
             ],
             [
              0.3333333333333333,
              "#9c179e"
             ],
             [
              0.4444444444444444,
              "#bd3786"
             ],
             [
              0.5555555555555556,
              "#d8576b"
             ],
             [
              0.6666666666666666,
              "#ed7953"
             ],
             [
              0.7777777777777778,
              "#fb9f3a"
             ],
             [
              0.8888888888888888,
              "#fdca26"
             ],
             [
              1,
              "#f0f921"
             ]
            ],
            "type": "histogram2d"
           }
          ],
          "histogram2dcontour": [
           {
            "colorbar": {
             "outlinewidth": 0,
             "ticks": ""
            },
            "colorscale": [
             [
              0,
              "#0d0887"
             ],
             [
              0.1111111111111111,
              "#46039f"
             ],
             [
              0.2222222222222222,
              "#7201a8"
             ],
             [
              0.3333333333333333,
              "#9c179e"
             ],
             [
              0.4444444444444444,
              "#bd3786"
             ],
             [
              0.5555555555555556,
              "#d8576b"
             ],
             [
              0.6666666666666666,
              "#ed7953"
             ],
             [
              0.7777777777777778,
              "#fb9f3a"
             ],
             [
              0.8888888888888888,
              "#fdca26"
             ],
             [
              1,
              "#f0f921"
             ]
            ],
            "type": "histogram2dcontour"
           }
          ],
          "mesh3d": [
           {
            "colorbar": {
             "outlinewidth": 0,
             "ticks": ""
            },
            "type": "mesh3d"
           }
          ],
          "parcoords": [
           {
            "line": {
             "colorbar": {
              "outlinewidth": 0,
              "ticks": ""
             }
            },
            "type": "parcoords"
           }
          ],
          "pie": [
           {
            "automargin": true,
            "type": "pie"
           }
          ],
          "scatter": [
           {
            "fillpattern": {
             "fillmode": "overlay",
             "size": 10,
             "solidity": 0.2
            },
            "type": "scatter"
           }
          ],
          "scatter3d": [
           {
            "line": {
             "colorbar": {
              "outlinewidth": 0,
              "ticks": ""
             }
            },
            "marker": {
             "colorbar": {
              "outlinewidth": 0,
              "ticks": ""
             }
            },
            "type": "scatter3d"
           }
          ],
          "scattercarpet": [
           {
            "marker": {
             "colorbar": {
              "outlinewidth": 0,
              "ticks": ""
             }
            },
            "type": "scattercarpet"
           }
          ],
          "scattergeo": [
           {
            "marker": {
             "colorbar": {
              "outlinewidth": 0,
              "ticks": ""
             }
            },
            "type": "scattergeo"
           }
          ],
          "scattergl": [
           {
            "marker": {
             "colorbar": {
              "outlinewidth": 0,
              "ticks": ""
             }
            },
            "type": "scattergl"
           }
          ],
          "scattermap": [
           {
            "marker": {
             "colorbar": {
              "outlinewidth": 0,
              "ticks": ""
             }
            },
            "type": "scattermap"
           }
          ],
          "scattermapbox": [
           {
            "marker": {
             "colorbar": {
              "outlinewidth": 0,
              "ticks": ""
             }
            },
            "type": "scattermapbox"
           }
          ],
          "scatterpolar": [
           {
            "marker": {
             "colorbar": {
              "outlinewidth": 0,
              "ticks": ""
             }
            },
            "type": "scatterpolar"
           }
          ],
          "scatterpolargl": [
           {
            "marker": {
             "colorbar": {
              "outlinewidth": 0,
              "ticks": ""
             }
            },
            "type": "scatterpolargl"
           }
          ],
          "scatterternary": [
           {
            "marker": {
             "colorbar": {
              "outlinewidth": 0,
              "ticks": ""
             }
            },
            "type": "scatterternary"
           }
          ],
          "surface": [
           {
            "colorbar": {
             "outlinewidth": 0,
             "ticks": ""
            },
            "colorscale": [
             [
              0,
              "#0d0887"
             ],
             [
              0.1111111111111111,
              "#46039f"
             ],
             [
              0.2222222222222222,
              "#7201a8"
             ],
             [
              0.3333333333333333,
              "#9c179e"
             ],
             [
              0.4444444444444444,
              "#bd3786"
             ],
             [
              0.5555555555555556,
              "#d8576b"
             ],
             [
              0.6666666666666666,
              "#ed7953"
             ],
             [
              0.7777777777777778,
              "#fb9f3a"
             ],
             [
              0.8888888888888888,
              "#fdca26"
             ],
             [
              1,
              "#f0f921"
             ]
            ],
            "type": "surface"
           }
          ],
          "table": [
           {
            "cells": {
             "fill": {
              "color": "#EBF0F8"
             },
             "line": {
              "color": "white"
             }
            },
            "header": {
             "fill": {
              "color": "#C8D4E3"
             },
             "line": {
              "color": "white"
             }
            },
            "type": "table"
           }
          ]
         },
         "layout": {
          "annotationdefaults": {
           "arrowcolor": "#2a3f5f",
           "arrowhead": 0,
           "arrowwidth": 1
          },
          "autotypenumbers": "strict",
          "coloraxis": {
           "colorbar": {
            "outlinewidth": 0,
            "ticks": ""
           }
          },
          "colorscale": {
           "diverging": [
            [
             0,
             "#8e0152"
            ],
            [
             0.1,
             "#c51b7d"
            ],
            [
             0.2,
             "#de77ae"
            ],
            [
             0.3,
             "#f1b6da"
            ],
            [
             0.4,
             "#fde0ef"
            ],
            [
             0.5,
             "#f7f7f7"
            ],
            [
             0.6,
             "#e6f5d0"
            ],
            [
             0.7,
             "#b8e186"
            ],
            [
             0.8,
             "#7fbc41"
            ],
            [
             0.9,
             "#4d9221"
            ],
            [
             1,
             "#276419"
            ]
           ],
           "sequential": [
            [
             0,
             "#0d0887"
            ],
            [
             0.1111111111111111,
             "#46039f"
            ],
            [
             0.2222222222222222,
             "#7201a8"
            ],
            [
             0.3333333333333333,
             "#9c179e"
            ],
            [
             0.4444444444444444,
             "#bd3786"
            ],
            [
             0.5555555555555556,
             "#d8576b"
            ],
            [
             0.6666666666666666,
             "#ed7953"
            ],
            [
             0.7777777777777778,
             "#fb9f3a"
            ],
            [
             0.8888888888888888,
             "#fdca26"
            ],
            [
             1,
             "#f0f921"
            ]
           ],
           "sequentialminus": [
            [
             0,
             "#0d0887"
            ],
            [
             0.1111111111111111,
             "#46039f"
            ],
            [
             0.2222222222222222,
             "#7201a8"
            ],
            [
             0.3333333333333333,
             "#9c179e"
            ],
            [
             0.4444444444444444,
             "#bd3786"
            ],
            [
             0.5555555555555556,
             "#d8576b"
            ],
            [
             0.6666666666666666,
             "#ed7953"
            ],
            [
             0.7777777777777778,
             "#fb9f3a"
            ],
            [
             0.8888888888888888,
             "#fdca26"
            ],
            [
             1,
             "#f0f921"
            ]
           ]
          },
          "colorway": [
           "#636efa",
           "#EF553B",
           "#00cc96",
           "#ab63fa",
           "#FFA15A",
           "#19d3f3",
           "#FF6692",
           "#B6E880",
           "#FF97FF",
           "#FECB52"
          ],
          "font": {
           "color": "#2a3f5f"
          },
          "geo": {
           "bgcolor": "white",
           "lakecolor": "white",
           "landcolor": "#E5ECF6",
           "showlakes": true,
           "showland": true,
           "subunitcolor": "white"
          },
          "hoverlabel": {
           "align": "left"
          },
          "hovermode": "closest",
          "mapbox": {
           "style": "light"
          },
          "paper_bgcolor": "white",
          "plot_bgcolor": "#E5ECF6",
          "polar": {
           "angularaxis": {
            "gridcolor": "white",
            "linecolor": "white",
            "ticks": ""
           },
           "bgcolor": "#E5ECF6",
           "radialaxis": {
            "gridcolor": "white",
            "linecolor": "white",
            "ticks": ""
           }
          },
          "scene": {
           "xaxis": {
            "backgroundcolor": "#E5ECF6",
            "gridcolor": "white",
            "gridwidth": 2,
            "linecolor": "white",
            "showbackground": true,
            "ticks": "",
            "zerolinecolor": "white"
           },
           "yaxis": {
            "backgroundcolor": "#E5ECF6",
            "gridcolor": "white",
            "gridwidth": 2,
            "linecolor": "white",
            "showbackground": true,
            "ticks": "",
            "zerolinecolor": "white"
           },
           "zaxis": {
            "backgroundcolor": "#E5ECF6",
            "gridcolor": "white",
            "gridwidth": 2,
            "linecolor": "white",
            "showbackground": true,
            "ticks": "",
            "zerolinecolor": "white"
           }
          },
          "shapedefaults": {
           "line": {
            "color": "#2a3f5f"
           }
          },
          "ternary": {
           "aaxis": {
            "gridcolor": "white",
            "linecolor": "white",
            "ticks": ""
           },
           "baxis": {
            "gridcolor": "white",
            "linecolor": "white",
            "ticks": ""
           },
           "bgcolor": "#E5ECF6",
           "caxis": {
            "gridcolor": "white",
            "linecolor": "white",
            "ticks": ""
           }
          },
          "title": {
           "x": 0.05
          },
          "xaxis": {
           "automargin": true,
           "gridcolor": "white",
           "linecolor": "white",
           "ticks": "",
           "title": {
            "standoff": 15
           },
           "zerolinecolor": "white",
           "zerolinewidth": 2
          },
          "yaxis": {
           "automargin": true,
           "gridcolor": "white",
           "linecolor": "white",
           "ticks": "",
           "title": {
            "standoff": 15
           },
           "zerolinecolor": "white",
           "zerolinewidth": 2
          }
         }
        },
        "title": {
         "text": "Frequency of Percentage Price Changes Around EIA WPSR Release On Non-Release Days"
        },
        "xaxis": {
         "ticktext": [
          -60,
          -55,
          -50,
          -45,
          -40,
          -35,
          -30,
          -25,
          -20,
          -15,
          -10,
          -5,
          0,
          5,
          10,
          15,
          20,
          25,
          30,
          35,
          40,
          45,
          50,
          55,
          60
         ],
         "tickvals": [
          -60,
          -55,
          -50,
          -45,
          -40,
          -35,
          -30,
          -25,
          -20,
          -15,
          -10,
          -5,
          0,
          5,
          10,
          15,
          20,
          25,
          30,
          35,
          40,
          45,
          50,
          55,
          60
         ],
         "title": {
          "text": "Time Relative to Release (Minutes)"
         }
        },
        "yaxis": {
         "title": {
          "text": "Percentage Price Change Bins"
         }
        }
       }
      }
     },
     "metadata": {},
     "output_type": "display_data"
    },
    {
     "name": "stderr",
     "output_type": "stream",
     "text": [
      "C:\\Users\\evans\\AppData\\Local\\Temp\\ipykernel_23536\\1659211699.py:63: FutureWarning:\n",
      "\n",
      "The default of observed=False is deprecated and will be changed to True in a future version of pandas. Pass observed=False to retain current behavior or observed=True to adopt the future default and silence this warning.\n",
      "\n"
     ]
    },
    {
     "data": {
      "application/vnd.plotly.v1+json": {
       "config": {
        "plotlyServerURL": "https://plot.ly"
       },
       "data": [
        {
         "colorbar": {
          "title": {
           "text": "Frequency"
          }
         },
         "colorscale": [
          [
           0,
           "#440154"
          ],
          [
           0.1111111111111111,
           "#482878"
          ],
          [
           0.2222222222222222,
           "#3e4989"
          ],
          [
           0.3333333333333333,
           "#31688e"
          ],
          [
           0.4444444444444444,
           "#26828e"
          ],
          [
           0.5555555555555556,
           "#1f9e89"
          ],
          [
           0.6666666666666666,
           "#35b779"
          ],
          [
           0.7777777777777778,
           "#6ece58"
          ],
          [
           0.8888888888888888,
           "#b5de2b"
          ],
          [
           1,
           "#fde725"
          ]
         ],
         "type": "heatmap",
         "x": {
          "bdata": "AAAAAAAATsAAAAAAAIBNwAAAAAAAAE3AAAAAAACATMAAAAAAAABMwAAAAAAAgEvAAAAAAAAAS8AAAAAAAIBKwAAAAAAAAErAAAAAAACAScAAAAAAAABJwAAAAAAAgEjAAAAAAAAASMAAAAAAAIBHwAAAAAAAAEfAAAAAAACARsAAAAAAAABGwAAAAAAAgEXAAAAAAAAARcAAAAAAAIBEwAAAAAAAAETAAAAAAACAQ8AAAAAAAABDwAAAAAAAgELAAAAAAAAAQsAAAAAAAIBBwAAAAAAAAEHAAAAAAACAQMAAAAAAAABAwAAAAAAAAD/AAAAAAAAAPsAAAAAAAAA9wAAAAAAAADzAAAAAAAAAO8AAAAAAAAA6wAAAAAAAADnAAAAAAAAAOMAAAAAAAAA3wAAAAAAAADbAAAAAAAAANcAAAAAAAAA0wAAAAAAAADPAAAAAAAAAMsAAAAAAAAAxwAAAAAAAADDAAAAAAAAALsAAAAAAAAAswAAAAAAAACrAAAAAAAAAKMAAAAAAAAAmwAAAAAAAACTAAAAAAAAAIsAAAAAAAAAgwAAAAAAAABzAAAAAAAAAGMAAAAAAAAAUwAAAAAAAABDAAAAAAAAACMAAAAAAAAAAwAAAAAAAAPC/AAAAAAAAAAAAAAAAAADwPwAAAAAAAABAAAAAAAAACEAAAAAAAAAQQAAAAAAAABRAAAAAAAAAGEAAAAAAAAAcQAAAAAAAACBAAAAAAAAAIkAAAAAAAAAkQAAAAAAAACZAAAAAAAAAKEAAAAAAAAAqQAAAAAAAACxAAAAAAAAALkAAAAAAAAAwQAAAAAAAADFAAAAAAAAAMkAAAAAAAAAzQAAAAAAAADRAAAAAAAAANUAAAAAAAAA2QAAAAAAAADdAAAAAAAAAOEAAAAAAAAA5QAAAAAAAADpAAAAAAAAAO0AAAAAAAAA8QAAAAAAAAD1AAAAAAAAAPkAAAAAAAAA/QAAAAAAAAEBAAAAAAACAQEAAAAAAAABBQAAAAAAAgEFAAAAAAAAAQkAAAAAAAIBCQAAAAAAAAENAAAAAAACAQ0AAAAAAAABEQAAAAAAAgERAAAAAAAAARUAAAAAAAIBFQAAAAAAAAEZAAAAAAACARkAAAAAAAABHQAAAAAAAgEdAAAAAAAAASEAAAAAAAIBIQAAAAAAAAElAAAAAAACASUAAAAAAAABKQAAAAAAAgEpAAAAAAAAAS0AAAAAAAIBLQAAAAAAAAExAAAAAAACATEAAAAAAAABNQAAAAAAAgE1AAAAAAAAATkA=",
          "dtype": "f8"
         },
         "y": [
          "-1.00%",
          "-0.95%",
          "-0.90%",
          "-0.85%",
          "-0.80%",
          "-0.75%",
          "-0.70%",
          "-0.65%",
          "-0.60%",
          "-0.55%",
          "-0.50%",
          "-0.45%",
          "-0.40%",
          "-0.35%",
          "-0.30%",
          "-0.25%",
          "-0.20%",
          "-0.15%",
          "-0.10%",
          "-0.05%",
          "0.00%",
          "0.05%",
          "0.10%",
          "0.15%",
          "0.20%",
          "0.25%",
          "0.30%",
          "0.35%",
          "0.40%",
          "0.45%",
          "0.50%",
          "0.55%",
          "0.60%",
          "0.65%",
          "0.70%",
          "0.75%",
          "0.80%",
          "0.85%",
          "0.90%",
          "0.95%"
         ],
         "z": {
          "bdata": "AAAAAAAAAAAAAAAAAAAAAAAAAAAAAAAAAAAAAAAAAAAAAAAAAAAAAAAAAAAAAAAAAAAAAAAAAAAAAAAAAAAAAAAAAAAAAAAAAAAAAAAAAAAAAAAAAAAAAAAAAAAAAAAAAAAAAAAAAAAAAAAAAAAAAAAAAAAAAAAAAAAAAAAAAAAWbayUPf7VPwAAAAAAAAAAAAAAAAAAAAAAAAAAAAAAAAAAAAAAAAAAAAAAAAAAAAAAAAAAAAAAAAAAAAAAAAAAAAAAAAAAAAAAAAAAAAAAAAAAAAAAAAAAAAAAAAAAAAAAAAAAAAAAAAAAAAAAAAAAAAAAAAAAAAAAAAAAAAAAAAAAAAAAAAAAAAAAAAAAAAAAAAAAAAAAAAAAAAAAAAAAAAAAAAAAAAAAAAAAAAAAAAAAAAAAAAAAAAAAAAAAAAAAAAAAAAAAAAAAAAAAAAAAAAAAAAAAAAAAAAAAAAAAAAAAAAAAAAAAAAAAAAAAAAAAAAAAAAAAAAAAAAAAAAAAAAAAAAAAAAAAAAAAAAAAAAAAAAAAAAAAAAAAAAAAAAAAAAAAAAAAAAAAAAAAAAAAAAAAAAAAAAAAAAAAAAAAAAAAAAAAAAAAAAAAAAAAAAAAAAAAAAAAAAAAAAAAAAAAFm2slD3+9T8AAAAAAAAAAAAAAAAAAAAAAAAAAAAAAAAAAAAAAAAAAAAAAAAAAAAAAAAAAAAAAAAAAAAAAAAAAAAAAAAAAAAAFm2slD3+1T8AAAAAAAAAAAAAAAAAAAAAAAAAAAAAAAAAAAAAAAAAAAAAAAAAAAAAAAAAAAAAAAAAAAAAAAAAAAAAAAAAAAAAAAAAAAAAAAAAAAAAAAAAAAAAAAAAAAAAFm2slD3+1T8AAAAAAAAAAAAAAAAAAAAAAAAAAAAAAAAAAAAAAAAAAAAAAAAAAAAAAAAAAAAAAAAAAAAAAAAAAAAAAAAAAAAAAAAAAAAAAAAAAAAAAAAAAAAAAAAAAAAAAAAAAAAAAAAAAAAAAAAAAAAAAAAAAAAAAAAAAAAAAAAAAAAAAAAAAAAAAAAAAAAAAAAAAAAAAAAAAAAAAAAAAAAAAAAAAAAAAAAAAAAAAAAAAAAAAAAAAAAAAAAAAAAAAAAAAAAAAAAAAAAAAAAAAAAAAAAAAAAAAAAAAAAAAAAWbayUPf7VPwAAAAAAAAAAAAAAAAAAAAAAAAAAAAAAAAAAAAAAAAAAAAAAAAAAAAAAAAAAAAAAAAAAAAAAAAAAAAAAAAAAAAAAAAAAAAAAAAAAAAAAAAAAFm2slD3+5T8AAAAAAAAAAAAAAAAAAAAAAAAAAAAAAAAAAAAAAAAAAAAAAAAAAAAAAAAAAAAAAAAAAAAAAAAAAAAAAAAAAAAAAAAAAAAAAAAAAAAAAAAAAAAAAAAAAAAAAAAAAAAAAAAAAAAAAAAAABZtrJQ9/tU/AAAAAAAAAAAAAAAAAAAAAAAAAAAAAAAAAAAAAAAAAAAAAAAAAAAAAAAAAAAAAAAAAAAAAAAAAAAAAAAAAAAAAAAAAAAAAAAAAAAAAAAAAAAAAAAAAAAAAAAAAAAAAAAAAAAAAAAAAAAAAAAAAAAAAAAAAAAAAAAAAAAAAAAAAAAAAAAAAAAAAAAAAAAAAAAAAAAAAAAAAAAAAAAAAAAAAAAAAAAAAAAAAAAAAAAAAAAAAAAAAAAAAAAAAAAAAAAAAAAAAAAAAAAAAAAAAAAAAAAAAAAAAAAAAAAAAAAAAAAAAAAAAAAAAAAAAAAAAAAAAAAAAAAAAAAAAAAAAAAAAAAAAAAAAAAAAAAAAAAAAAAAAAAAAAAAAAAAAAAAAAAAAAAAAAAAAAAAAAAAAAAAAAAAAAAAAAAAAAAAAAAAAAAAAAAAAAAAAAAAAAAAAAAAAAAAAAAAAAAAAAAAAAAAAAAAAAAAAAAAAAAAAAAAAAAWbayUPf7lPwAAAAAAAAAAAAAAAAAAAAAAAAAAAAAAAAAAAAAAAAAAAAAAAAAAAAAAAAAAAAAAAAAAAAAAAAAAAAAAAAAAAAAAAAAAAAAAAAAAAAAAAAAAAAAAAAAAAAAAAAAAAAAAAAAAAAAAAAAAAAAAAAAAAAAAAAAAAAAAAAAAAAAAAAAAAAAAAAAAAAAAAAAAAAAAAAAAAAAAAAAAAAAAAAAAAAAAAAAAAAAAABZtrJQ9/tU/AAAAAAAAAAAAAAAAAAAAAAAAAAAAAAAAAAAAAAAAAAAAAAAAAAAAAAAAAAAAAAAAAAAAAAAAAAAAAAAAAAAAAAAAAAAAAAAAAAAAAAAAAAAAAAAAAAAAAAAAAAAAAAAAAAAAAAAAAAAAAAAAAAAAAAAAAAAAAAAAAAAAAAAAAAAAAAAAAAAAAAAAAAAAAAAAAAAAAAAAAAAAAAAAAAAAAAAAAAAAAAAAFm2slD3+1T8AAAAAAAAAAAAAAAAAAAAAAAAAAAAAAAAAAAAAAAAAAAAAAAAAAAAAAAAAAAAAAAAAAAAAAAAAAAAAAAAAAAAAAAAAAAAAAAAAAAAAAAAAAAAAAAAAAAAAAAAAAAAAAAAAAAAAAAAAAAAAAAAAAAAAAAAAAAAAAAAWbayUPf7lPwAAAAAAAAAAAAAAAAAAAAAAAAAAAAAAAAAAAAAAAAAAAAAAAAAAAAAAAAAAAAAAAAAAAAAAAAAAAAAAAAAAAAAAAAAAAAAAAAAAAAAAAAAAAAAAAAAAAAAAAAAAAAAAAAAAAAAAAAAAAAAAAAAAAAAAAAAAAAAAAAAAAAAAAAAAAAAAAAAAAAAAAAAAAAAAAAAAAAAAAAAAAAAAAAAAAAAAAAAAAAAAAAAAAAAAAAAAAAAAAAAAAAAAAAAAAAAAAAAAAAAAAAAAAAAAAAAAAAAAAAAAAAAAAAAAAAAAAAAAAAAAAAAAAAAAAAAAAAAAAAAAAAAAAAAAAAAAAAAAAAAAAAAAAAAAAAAAAAAAAAAAAAAAAAAAAAAAAAAAAAAAAAAAAAAAAAAAAAAAAAAAAAAAAAAAAAAAAAAAAAAAAAAAAAAAAAAAAAAAAAAAAAAAAAAAAAAAAAAAAAAAAAAAAAAAAAAAAAAAAAAAAAAAAAAAAAAAAAAAAAAAAAAAAAAAAAAAAAAAAAAAAAAAAAAAAAAAAAAAAAAAAAAAAAAAAAAAAAAAAAAAAAAAAAAAAAAAAAAAAAAAAAAAAAAAAAAAAAAAAAAAAAAAAAAAAAAAAAAAAAAAAAAAAAAAAAAAAAAAAFyI1/nMffs/Fm2slD3+1T8AAAAAAAAAAAAAAAAAAAAAAAAAAAAAAAAAAAAAAAAAAAAAAAAAAAAAAAAAAAAAAAAWbayUPf7VPwAAAAAAAAAAAAAAAAAAAAAAAAAAAAAAAAAAAAAAAAAAAAAAAAAAAAAAAAAAAAAAAAAAAAAAAAAAAAAAAAAAAAAAAAAAAAAAAAAAAAAAAAAAAAAAAAAAAAAAAAAAAAAAAAAAAAAAAAAAAAAAAAAAAAAAAAAAAAAAAAAAAAAAAAAAFm2slD3+1T8AAAAAAAAAAAAAAAAAAAAAAAAAAAAAAAAAAAAAAAAAAAAAAAAAAAAAAAAAAAAAAAAAAAAAAAAAAAAAAAAAAAAAAAAAAAAAAAAWbayUPf7VPwAAAAAAAAAAAAAAAAAAAAAAAAAAAAAAAAAAAAAAAAAAAAAAAAAAAAAAAAAAAAAAAAAAAAAAAAAAAAAAAAAAAAAAAAAAAAAAAAAAAAAAAAAAAAAAAAAAAAAAAAAAAAAAAAAAAAAAAAAAAAAAAAAAAAAAAAAAAAAAAAAAAAAAAAAAAAAAAAAAAAAAAAAAAAAAAAAAAAAAAAAAAAAAAAAAAAAWbayUPf7VPwAAAAAAAAAAAAAAAAAAAAAAAAAAAAAAABZtrJQ9/uU/AAAAAAAAAAAAAAAAAAAAAAAAAAAAAAAAAAAAAAAAAAAAAAAAAAAAAAAAAAAAAAAAAAAAAAAAAAAAAAAAAAAAAAAAAAAAAAAAAAAAAAAAAAAAAAAAAAAAAAAAAAAAAAAAAAAAAAAAAAAAAAAAAAAAABZtrJQ9/tU/AAAAAAAAAAAAAAAAAAAAAAAAAAAAAAAAAAAAAAAAAAAAAAAAAAAAAAAAAAAAAAAAAAAAAAAAAAAAAAAAAAAAAAAAAAAAAAAAAAAAAAAAAAAAAAAAAAAAAAAAAAAAAAAAFm2slD3+1T8AAAAAAAAAAAAAAAAAAAAAAAAAAAAAAAAAAAAAAAAAAAAAAAAAAAAAAAAAAAAAAAAAAAAAAAAAAAAAAAAAAAAAAAAAAAAAAAAAAAAAAAAAAAAAAAAAAAAAAAAAAAAAAAAAAAAAAAAAAAAAAAAAAAAAAAAAAAAAAAAAAAAAAAAAAAAAAAAAAAAAAAAAAAAAAAAAAAAAAAAAAAAAAAAAAAAAAAAAAAAAAAAAAAAAAAAAAAAAAAAAAAAAAAAAAAAAAAAAAAAAAAAAAAAAAAAAAAAAAAAAAAAAAAAAAAAAAAAAAAAAAAAAAAAAAAAAAAAAAAAAAAAAAAAAAAAAAAAAAAAAFm2slD3+1T8AAAAAAAAAAAAAAAAAAAAAAAAAAAAAAAAAAAAAAAAAAAAAAAAAAAAAAAAAAAAAAAAAAAAAAAAAAAAAAAAAAAAAAAAAAAAAAAAAAAAAAAAAAAAAAAAAAAAAFm2slD3+1T8AAAAAAAAAAAAAAAAAAAAAAAAAAAAAAAAAAAAAAAAAAAAAAAAAAAAAAAAAAAAAAAAAAAAAAAAAAAAAAAAAAAAAAAAAAAAAAAAAAAAAAAAAAAAAAAAAAAAAAAAAAAAAAAAAAAAAAAAAAAAAAAAAAAAAAAAAAAAAAAAAAAAAAAAAAAAAAAAAAAAAAAAAAAAAAAAAAAAAAAAAAAAAAAAAAAAAAAAAAAAAAAAAAAAAAAAAAAAAAAAAAAAAAAAAAAAAAAAAAAAAAAAAAAAAAAAAAAAAAAAAAAAAAAAAAAAAAAAAAAAAAAAAAAAAAAAAAAAAAAAWbayUPf7VPwAAAAAAAAAAAAAAAAAAAAAAAAAAAAAAAAAAAAAAAAAAAAAAAAAAAAAAAAAAAAAAAAAAAAAAAAAAAAAAAAAAAAAAAAAAAAAAAAAAAAAAAAAAAAAAAAAAAAAAAAAAAAAAAAAAAAAAAAAAAAAAAAAAAAAAAAAAAAAAAAAAAAAAAAAAFm2slD3+9T8WbayUPf7VPxZtrJQ9/tU/AAAAAAAAAAAAAAAAAAAAAAAAAAAAAAAAFm2slD3+1T8AAAAAAAAAAAAAAAAAAAAAAAAAAAAAAAAAAAAAAAAAAAAAAAAAAAAAAAAAAAAAAAAAAAAAAAAAAAAAAAAAAAAAAAAAAAAAAAAAAAAAAAAAAAAAAAAAAAAAAAAAAAAAAAAAAAAAAAAAAAAAAAAAAAAAAAAAAAAAAAAAAAAAAAAAAAAAAAAAAAAAAAAAAAAAAAAAAAAAAAAAAAAAAAAAAAAAAAAAAAAAAAAAAAAAAAAAAAAAAAAAAAAAAAAAAAAAAAAAAAAAAAAAAAAAAAAAAAAAAAAAAAAAAAAAAAAAAAAAAAAAAAAAAAAAAAAAAAAAAAAAAAAAAAAAAAAAAAAAAAAAAAAAAAAAAAAAAAAAAAAAAAAAAAAAAAAAAAAAAAAAAAAAAAAAAAAAAAAAAAAAAAAAAAAAAAAAAAAAAAAAAAAAAAAAAAAAAAAAAAAAAAAAAAAAAAAAAAAAAAAAAAAAAAAAAAAAAAAAAAAAAAAAAAAAAAAAAAAAAAAAAAAAAAAAAAAAAAAAAAAAAAAAAAAAAAAAAAAAAAAAAAAAAAAAAAAAAAAAAAAAAAAAAAAAAAAAAAAAAAAAAAAAAAAAAAAAAAAAAAAAAAAAAAAAAAAAAAAAAAAAAAAAAAAAFm2slD3+1T8AAAAAAAAAAAAAAAAAAAAAAAAAAAAAAAAAAAAAAAAAAAAAAAAAAAAAAAAAAAAAAAAAAAAAAAAAABZtrJQ9/tU/AAAAAAAAAAAAAAAAAAAAAAAAAAAAAAAAAAAAAAAAAAAAAAAAAAAAAAAAAAAAAAAAFm2slD3+1T8AAAAAAAAAAAAAAAAAAAAAAAAAAAAAAAAAAAAAAAAAAAAAAAAAAAAAAAAAAAAAAAAAAAAAAAAAAAAAAAAAAAAAAAAAAAAAAAAAAAAAAAAAAAAAAAAAAAAAAAAAAAAAAAAAAAAAAAAAAAAAAAAAAAAAAAAAAAAAAAAAAAAAAAAAAAAAAAAAAAAAAAAAAAAAAAAAAAAAAAAAAAAAAAAAAAAAAAAAAAAAAAAAAAAAAAAAAAAAAAAAAAAAAAAAAAAAAAAAAAAAAAAAAAAAAAAAAAAAAAAAAAAAAAAAAAAAAAAAAAAAAAAAAAAAAAAAAAAAAAAAAAAAAAAAAAAAAAAAAAAAAAAAAAAAAAAAAAAAAAAAAAAAAAAAAAAAAAAAAAAAAAAAAAAAAAAAAAAAAAAAAAAAFm2slD3+1T8WbayUPf7lPwAAAAAAAAAAAAAAAAAAAAAAAAAAAAAAAAAAAAAAAAAAAAAAAAAAAAAAAAAAAAAAAAAAAAAAAAAAAAAAAAAAAAAAAAAAAAAAAAAAAAAAAAAAAAAAAAAAAAAAAAAAAAAAAAAAAAAAAAAAAAAAAAAAAAAAAAAAAAAAAAAAAAAAAAAAFm2slD3+1T8AAAAAAAAAAAAAAAAAAAAAAAAAAAAAAAAAAAAAAAAAAAAAAAAAAAAAAAAAAAAAAAAAAAAAAAAAAAAAAAAAAAAAAAAAAAAAAAAAAAAAAAAAAAAAAAAAAAAAAAAAAAAAAAAAAAAAAAAAAAAAAAAAAAAAAAAAAAAAAAAAAAAAAAAAAAAAAAAAAAAAAAAAAAAAAAAWbayUPf7VPwAAAAAAAAAAFm2slD3+1T8AAAAAAAAAAAAAAAAAAAAAAAAAAAAAAAAAAAAAAAAAAAAAAAAAAAAAAAAAAAAAAAAWbayUPf7VPwAAAAAAAAAAAAAAAAAAAAAAAAAAAAAAAAAAAAAAAAAAAAAAAAAAAAAAAAAAAAAAAAAAAAAAAAAAAAAAAAAAAAAAAAAAAAAAAAAAAAAAAAAAAAAAAAAAAAAAAAAAAAAAAAAAAAAAAAAAAAAAAAAAAAAAAAAAAAAAABZtrJQ9/uU/AAAAAAAAAAAAAAAAAAAAAAAAAAAAAAAAAAAAAAAAAAAAAAAAAAAAABZtrJQ9/tU/AAAAAAAAAAAAAAAAAAAAAAAAAAAAAAAAAAAAAAAAAAAAAAAAAAAAAAAAAAAAAAAAFm2slD3+1T8AAAAAAAAAAAAAAAAAAAAAAAAAAAAAAAAAAAAAAAAAAAAAAAAAAAAAAAAAAAAAAAAAAAAAAAAAAAAAAAAAAAAAAAAAAAAAAAAAAAAAAAAAAAAAAAAAAAAAAAAAAAAAAAAAAAAAAAAAAAAAAAAAAAAAAAAAAAAAAAAAAAAAAAAAABZtrJQ9/tU/Fm2slD3+1T8AAAAAAAAAAAAAAAAAAAAAAAAAAAAAAAAAAAAAAAAAAAAAAAAAAAAAAAAAAAAAAAAAAAAAAAAAAAAAAAAAAAAAAAAAAAAAAAAAAAAAAAAAAAAAAAAAAAAAAAAAAAAAAAAAAAAAAAAAABZtrJQ9/tU/AAAAAAAAAAAAAAAAAAAAAAAAAAAAAAAAAAAAAAAAAAAAAAAAAAAAAAAAAAAAAAAAAAAAAAAAAAAAAAAAAAAAAAAAAAAAAAAAAAAAAAAAAAAAAAAAAAAAAAAAAAAAAAAAFm2slD3+1T8WbayUPf7VPxZtrJQ9/vU/Fm2slD3+1T8AAAAAAAAAAAAAAAAAAAAAAAAAAAAAAAAAAAAAAAAAAAAAAAAAAAAAAAAAAAAAAAAAAAAAAAAAAAAAAAAAAAAAAAAAAAAAAAAAAAAAAAAAAAAAAAAAAAAAFm2slD3+1T8WbayUPf7VPwAAAAAAAAAAAAAAAAAAAAAAAAAAAAAAAAAAAAAAAAAAAAAAAAAAAAAAAAAAAAAAAAAAAAAAAAAAAAAAAAAAAAAAAAAAAAAAAAAAAAAAAAAAAAAAAAAAAAAAAAAAAAAAAAAAAAAAAAAAAAAAAAAAAAAAAAAAAAAAAAAAAAAAAAAAFm2slD3+1T8AAAAAAAAAAAAAAAAAAAAAAAAAAAAAAAAAAAAAAAAAAAAAAAAAAAAAAAAAAAAAAAAWbayUPf7VPwAAAAAAAAAAAAAAAAAAAAAAAAAAAAAAAAAAAAAAAAAAAAAAAAAAAAAAAAAAAAAAAAAAAAAAAAAAAAAAAAAAAAAWbayUPf7VPwAAAAAAAAAAAAAAAAAAAAAAAAAAAAAAAAAAAAAAAAAAAAAAAAAAAAAAAAAAAAAAAAAAAAAAAAAAAAAAAAAAAAAAAAAAAAAAAAAAAAAAAAAAAAAAAAAAAAAAAAAAAAAAAAAAAAAAAAAA0FGBL65+8D8AAAAAAAAAAAAAAAAAAAAA0FGBL65+8D8WbayUPf7VPwAAAAAAAAAAAAAAAAAAAAAAAAAAAAAAAAAAAAAAAAAAAAAAAAAAAAAAAAAAAAAAAAAAAAAAAAAAAAAAAAAAAAAAAAAAAAAAAAAAAAAAAAAAAAAAAAAAAAAAAAAAAAAAAAAAAAAAAAAAAAAAAAAAAAAAAAAAAAAAAAAAAAAAAAAAAAAAAAAAAAAAAAAAAAAAABZtrJQ9/tU/AAAAAAAAAAAWbayUPf7VPwAAAAAAAAAAAAAAAAAAAAAAAAAAAAAAAAAAAAAAAAAAAAAAAAAAAAAAAAAAAAAAAAAAAAAAAAAAAAAAAAAAAAAAAAAAAAAAAAAAAAAAAAAAAAAAAAAAAAAWbayUPf7VPwAAAAAAAAAAAAAAAAAAAAAAAAAAAAAAAAAAAAAAAAAAAAAAAAAAAAAAAAAAAAAAAAAAAAAAAAAAAAAAAAAAAAAAAAAAAAAAAAAAAAAAAAAAAAAAAAAAAAAAAAAAAAAAAAAAAAAAAAAAAAAAAAAAAAAAAAAAAAAAAAAAAAAAAAAAAAAAAAAAAAAAAAAAAAAAAAAAAAAAAAAAAAAAAAAAAAAAAAAAAAAAABZtrJQ9/tU/Fm2slD3+9T8AAAAAAAAAAAAAAAAAAAAAAAAAAAAAAAAAAAAAAAAAAAAAAAAAAAAAAAAAAAAAAAAAAAAAAAAAAAAAAAAAAAAAAAAAAAAAAAAAAAAAAAAAAAAAAAAAAAAAAAAAAAAAAAAAAAAAAAAAAAAAAAAAAAAAAAAAAAAAAAAAAAAAAAAAAAAAAAAAAAAAAAAAAAAAAAAAAAAAAAAAABZtrJQ9/tU/AAAAAAAAAAAWbayUPf7VPwAAAAAAAAAAAAAAAAAAAAAAAAAAAAAAAAAAAAAAAAAAAAAAAAAAAAAAAAAAAAAAAAAAAAAAAAAAFm2slD3+1T8AAAAAAAAAAAAAAAAAAAAAAAAAAAAAAAAAAAAAAAAAAAAAAAAAAAAAAAAAAAAAAAAAAAAAAAAAAAAAAAAAAAAAFm2slD3+1T8WbayUPf7VPwAAAAAAAAAAAAAAAAAAAAAAAAAAAAAAAAAAAAAAAAAAAAAAAAAAAAAAAAAAAAAAAAAAAAAAAAAAAAAAAAAAAAAAAAAAAAAAAAAAAAAAAAAAAAAAAAAAAAAAAAAAAAAAAAAAAAAAAAAAAAAAAAAAAAAAAAAAAAAAAAAAAAAAAAAAAAAAAAAAAAAAAAAAAAAAAAAAAAAAAAAAAAAAAAAAAAAWbayUPf7lPwAAAAAAAAAAFm2slD3+1T8WbayUPf7VPwAAAAAAAAAAFm2slD3+1T8AAAAAAAAAABZtrJQ9/tU/Fm2slD3+1T8AAAAAAAAAAAAAAAAAAAAAAAAAAAAAAAAAAAAAAAAAAAAAAAAAAAAAAAAAAAAAAAAAAAAAAAAAABZtrJQ9/tU/AAAAAAAAAAAAAAAAAAAAABZtrJQ9/tU/AAAAAAAAAAAWbayUPf7VPxZtrJQ9/tU/AAAAAAAAAAAWbayUPf7VPxZtrJQ9/tU/AAAAAAAAAAAWbayUPf7VPxZtrJQ9/tU/AAAAAAAAAAAAAAAAAAAAAAAAAAAAAAAAAAAAAAAAAAAAAAAAAAAAAAAAAAAAAAAAAAAAAAAAAAAAAAAAAAAAAAAAAAAAAAAAAAAAAAAAAAAWbayUPf7VPwAAAAAAAAAAAAAAAAAAAAAAAAAAAAAAAAAAAAAAAAAAAAAAAAAAAAAAAAAAAAAAAAAAAAAAAAAAAAAAAAAAAAAWbayUPf7VPwAAAAAAAAAAAAAAAAAAAAAAAAAAAAAAAAAAAAAAAAAAAAAAAAAAAAAAAAAAAAAAAAAAAAAAAAAAAAAAAAAAAAAAAAAAAAAAAAAAAAAAAAAAFm2slD3+1T/QUYEvrn7wPwAAAAAAAAAAAAAAAAAAAAAWbayUPf7VPxZtrJQ9/tU/AAAAAAAAAAAAAAAAAAAAAAAAAAAAAAAAAAAAAAAAAAAAAAAAAAAAAAAAAAAAAAAAAAAAAAAAAAAAAAAAAAAAAAAAAAAAAAAAAAAAAAAAAAAAAAAAAAAAABZtrJQ9/tU/AAAAAAAAAAAAAAAAAAAAAAAAAAAAAAAAAAAAAAAAAAAAAAAAAAAAAAAAAAAAAAAAAAAAAAAAAAAAAAAAAAAAAAAAAAAAAAAAAAAAAAAAAAAAAAAAAAAAAAAAAAAAAAAAAAAAAAAAAAAWbayUPf7VPwAAAAAAAAAAFm2slD3+1T8AAAAAAAAAAAAAAAAAAAAAAAAAAAAAAAAAAAAAAAAAAAAAAAAAAAAAAAAAAAAAAAAAAAAAAAAAAAAAAAAAAAAAAAAAAAAAAAAAAAAAAAAAAAAAAAAAAAAAAAAAAAAAAAAAAAAAAAAAAAAAAAAAAAAAAAAAAAAAAAAAAAAAAAAAAAAAAAAAAAAAAAAAAAAAAAAAAAAAAAAAAAAAAAAAAAAAAAAAAAAAAAAAAAAAAAAAAAAAAAAAAAAAAAAAAAAAAAAAAAAAAAAAAAAAAAAAAAAAFm2slD3+1T8AAAAAAAAAANBRgS+ufgBAFm2slD3+1T8AAAAAAAAAABZtrJQ9/tU/Fm2slD3+1T8WbayUPf7lPxZtrJQ9/tU/AAAAAAAAAAAAAAAAAAAAAAAAAAAAAAAAFm2slD3+1T8AAAAAAAAAAAAAAAAAAAAAAAAAAAAAAAAAAAAAAAAAAAAAAAAAAAAAAAAAAAAAAAAWbayUPf7VPwAAAAAAAAAAFm2slD3+1T8AAAAAAAAAAAAAAAAAAAAAFm2slD3+1T8AAAAAAAAAAAAAAAAAAAAAAAAAAAAAAAAAAAAAAAAAAAAAAAAAAAAAAAAAAAAAAAAAAAAAAAAAAAAAAAAAAAAAAAAAAAAAAAAWbayUPf7VPwAAAAAAAAAAAAAAAAAAAAAAAAAAAAAAAAAAAAAAAAAAAAAAAAAAAAAAAAAAAAAAAAAAAAAAAAAAAAAAAAAAAAAAAAAAAAAAAAAAAAAAAAAAAAAAAAAAAAAAAAAAAAAAAAAAAAAAAAAAAAAAAAAAAAAAAAAAAAAAABZtrJQ9/tU/AAAAAAAAAAAAAAAAAAAAAAAAAAAAAAAAAAAAAAAAAAAAAAAAAAAAAAAAAAAAAAAAAAAAAAAAAAAAAAAAAAAAAAAAAAAAAAAAAAAAAAAAAAAWbayUPf7VP1yI1/nMfQtAFm2slD3+1T8WbayUPf7VPwAAAAAAAAAAAAAAAAAAAAAAAAAAAAAAAAAAAAAAAAAAAAAAAAAAAAAAAAAAAAAAAAAAAAAAAAAAAAAAAAAAAAAAAAAAAAAAAAAAAAAAAAAAAAAAAAAAAAAAAAAAAAAAAAAAAAAAAAAAFm2slD3+1T8AAAAAAAAAAAAAAAAAAAAAAAAAAAAAAAAWbayUPf7VPwAAAAAAAAAAAAAAAAAAAAAAAAAAAAAAAAAAAAAAAAAAAAAAAAAAAAAWbayUPf7VPwAAAAAAAAAAAAAAAAAAAAAAAAAAAAAAAAAAAAAAAAAAAAAAAAAAAAAAAAAAAAAAAAAAAAAAAAAAAAAAAAAAAAAAAAAAAAAAAAAAAAAAAAAAAAAAAAAAAAAAAAAAAAAAABZtrJQ9/tU/AAAAAAAAAAAAAAAAAAAAAAAAAAAAAAAAAAAAAAAAAAAAAAAAAAAAAAAAAAAAAAAAAAAAAAAAAAAAAAAAAAAAAAAAAAAAAAAAAAAAAAAAAAAAAAAAAAAAAAAAAAAAAAAAAAAAAAAAAAAWbayUPf7VPwAAAAAAAAAAAAAAAAAAAAAWbayUPf7VPwAAAAAAAAAAAAAAAAAAAAAAAAAAAAAAAAAAAAAAAAAAdN8W4nU+A0AWbayUPf7VPwAAAAAAAAAAAAAAAAAAAAAWbayUPf7VPwAAAAAAAAAAFm2slD3+1T8AAAAAAAAAABZtrJQ9/uU/Fm2slD3+5T8AAAAAAAAAAAAAAAAAAAAAFm2slD3+5T8WbayUPf7VPxZtrJQ9/tU/AAAAAAAAAAAAAAAAAAAAABZtrJQ9/tU/AAAAAAAAAAAAAAAAAAAAAAAAAAAAAAAAFm2slD3+1T8WbayUPf7VPwAAAAAAAAAAFm2slD3+1T8WbayUPf7VPwAAAAAAAAAAAAAAAAAAAAAWbayUPf7lPxZtrJQ9/tU/AAAAAAAAAAAAAAAAAAAAAAAAAAAAAAAAAAAAAAAAAAAAAAAAAAAAABZtrJQ9/tU/Fm2slD3+1T8AAAAAAAAAAAAAAAAAAAAAAAAAAAAAAAAWbayUPf7VPxZtrJQ9/tU/AAAAAAAAAAAAAAAAAAAAAAAAAAAAAAAAAAAAAAAAAAAAAAAAAAAAAAAAAAAAAAAAAAAAAAAAAAAAAAAAAAAAAAAAAAAAAAAAAAAAAAAAAAAAAAAAAAAAAAAAAAAAAAAAAAAAAAAAAAAAAAAAAAAAAAAAAAAAAAAAAAAAAAAAAAAAAAAAAAAAAAAAAAAAAAAA0FGBL65+AEAAAAAAAAAAAAAAAAAAAAAAFm2slD3+1T8AAAAAAAAAAAAAAAAAAAAAAAAAAAAAAAAAAAAAAAAAAAAAAAAAAAAAAAAAAAAAAAAAAAAAAAAAAAAAAAAAAAAAAAAAAAAAAAAWbayUPf7VPwAAAAAAAAAAAAAAAAAAAAAAAAAAAAAAAAAAAAAAAAAAAAAAAAAAAAAWbayUPf7VPxZtrJQ9/tU/AAAAAAAAAAAAAAAAAAAAAAAAAAAAAAAAAAAAAAAAAAAAAAAAAAAAAAAAAAAAAAAAAAAAAAAAAAAAAAAAAAAAAAAAAAAAAAAAAAAAAAAAAAAAAAAAAAAAANBRgS+ufvA/AAAAAAAAAAAAAAAAAAAAAAAAAAAAAAAAFm2slD3+5T8AAAAAAAAAAAAAAAAAAAAAFm2slD3+1T8AAAAAAAAAAAAAAAAAAAAAAAAAAAAAAAAAAAAAAAAAABZtrJQ9/tU/AAAAAAAAAAAAAAAAAAAAAAAAAAAAAAAAAAAAAAAAAAAAAAAAAAAAAAAAAAAAAAAAAAAAAAAAAAAAAAAAAAAAAAAAAAAAAAAAAAAAAAAAAAAAAAAAAAAAAAAAAAAAAAAAFm2slD3+1T8AAAAAAAAAAAAAAAAAAAAAAAAAAAAAAADQUYEvrn4AQBZtrJQ9/uU/0FGBL65+8D8WbayUPf7VPxZtrJQ9/vU/Fm2slD3+1T8AAAAAAAAAAAAAAAAAAAAAFm2slD3+5T8AAAAAAAAAABZtrJQ9/tU/AAAAAAAAAAAWbayUPf7VPwAAAAAAAAAAAAAAAAAAAAAWbayUPf7VPwAAAAAAAAAAAAAAAAAAAAAWbayUPf7VPxZtrJQ9/tU/Fm2slD3+1T8WbayUPf7VPwAAAAAAAAAAAAAAAAAAAAAWbayUPf7VPxZtrJQ9/tU/AAAAAAAAAAAAAAAAAAAAABZtrJQ9/tU/AAAAAAAAAAAWbayUPf7VPxZtrJQ9/tU/Fm2slD3+1T8WbayUPf7VPwAAAAAAAAAAAAAAAAAAAAAWbayUPf7VPwAAAAAAAAAAAAAAAAAAAAAAAAAAAAAAAAAAAAAAAAAAAAAAAAAAAAAAAAAAAAAAAAAAAAAAAAAAAAAAAAAAAAAAAAAAAAAAAAAAAAAAAAAAAAAAAAAAAAAAAAAAAAAAABZtrJQ9/tU/AAAAAAAAAAAWbayUPf7VPxZtrJQ9/tU/Fm2slD3+1T8AAAAAAAAAAAAAAAAAAAAAAAAAAAAAAAAWbayUPf7VPwAAAAAAAAAAFm2slD3+5T8WbayUPf4VQBZtrJQ9/tU/AAAAAAAAAAAAAAAAAAAAAAAAAAAAAAAAFm2slD3+1T8WbayUPf7VPxZtrJQ9/tU/AAAAAAAAAAAWbayUPf7VPwAAAAAAAAAAAAAAAAAAAAAAAAAAAAAAAAAAAAAAAAAAAAAAAAAAAAAAAAAAAAAAABZtrJQ9/vU/Fm2slD3+1T8AAAAAAAAAAAAAAAAAAAAAAAAAAAAAAAAAAAAAAAAAAAAAAAAAAAAAAAAAAAAAAAAWbayUPf7VPwAAAAAAAAAAAAAAAAAAAAAWbayUPf7VPwAAAAAAAAAAAAAAAAAAAAAAAAAAAAAAANBRgS+ufvA/0FGBL65+8D8AAAAAAAAAAAAAAAAAAAAAFm2slD3+1T8AAAAAAAAAABZtrJQ9/tU/Fm2slD3+1T8AAAAAAAAAAAAAAAAAAAAAAAAAAAAAAAAAAAAAAAAAABZtrJQ9/tU/AAAAAAAAAAAWbayUPf7lPxZtrJQ9/uU/Fm2slD3+1T8AAAAAAAAAABZtrJQ9/tU/AAAAAAAAAAAAAAAAAAAAABZtrJQ9/tU/AAAAAAAAAAAAAAAAAAAAANBRgS+ufvA/AAAAAAAAAAAAAAAAAAAAAAAAAAAAAAAAFm2slD3+1T8AAAAAAAAAANBRgS+ufgBAFm2slD3+9T8WbayUPf71PwAAAAAAAAAAAAAAAAAAAAAWbayUPf7VPwAAAAAAAAAAFm2slD3+1T8AAAAAAAAAAAAAAAAAAAAAFm2slD3+1T8AAAAAAAAAAAAAAAAAAAAAAAAAAAAAAAAAAAAAAAAAAAAAAAAAAAAAAAAAAAAAAAAAAAAAAAAAABZtrJQ9/uU/Fm2slD3+5T8WbayUPf7VPwAAAAAAAAAAFm2slD3+5T8AAAAAAAAAABZtrJQ9/uU/AAAAAAAAAAAAAAAAAAAAAAAAAAAAAAAAAAAAAAAAAAAWbayUPf7VPxZtrJQ9/tU/Fm2slD3+1T8AAAAAAAAAABZtrJQ9/tU/AAAAAAAAAAAWbayUPf7VPxZtrJQ9/tU/AAAAAAAAAAAWbayUPf7VPwAAAAAAAAAAAAAAAAAAAAAAAAAAAAAAABZtrJQ9/uU/AAAAAAAAAAAWbayUPf7lPxZtrJQ9/tU/AAAAAAAAAAAWbayUPf7lPxZtrJQ9/tU/AAAAAAAAAAAWbayUPf7VPwAAAAAAAAAAFm2slD3+1T8WbayUPf7VPwAAAAAAAAAAAAAAAAAAAAAAAAAAAAAAABZtrJQ9/tU/AAAAAAAAAAAWbayUPf7VPxZtrJQ9/gVAFm2slD3+9T/QUYEvrn7wPwAAAAAAAAAAFm2slD3+1T8WbayUPf7lPxZtrJQ9/tU/Fm2slD3+5T8AAAAAAAAAAAAAAAAAAAAAFm2slD3+1T8WbayUPf7VPxZtrJQ9/tU/Fm2slD3+1T8AAAAAAAAAAAAAAAAAAAAAFm2slD3+1T8WbayUPf7VPxZtrJQ9/tU/Fm2slD3+1T8AAAAAAAAAABZtrJQ9/tU/Fm2slD3+5T8AAAAAAAAAAAAAAAAAAAAAAAAAAAAAAAAAAAAAAAAAAAAAAAAAAAAAAAAAAAAAAAAAAAAAAAAAAAAAAAAAAAAA0FGBL65+8D8WbayUPf71PxZtrJQ9/tU/Fm2slD3+5T8WbayUPf7lPxZtrJQ9/uU/Fm2slD3+5T8WbayUPf7VPxZtrJQ9/tU/Fm2slD3+1T8WbayUPf7lPxZtrJQ9/uU/AAAAAAAAAAAWbayUPf7VPwAAAAAAAAAAFm2slD3+1T8AAAAAAAAAAAAAAAAAAAAAAAAAAAAAAAAAAAAAAAAAABZtrJQ9/tU/AAAAAAAAAAAWbayUPf7VPxZtrJQ9/uU/AAAAAAAAAAAAAAAAAAAAABZtrJQ9/tU/AAAAAAAAAAAWbayUPf7VPxZtrJQ9/tU/ufpBRwW+CEBciNf5zH37PxZtrJQ9/tU/Fm2slD3+9T8WbayUPf71P1yI1/nMffs/Fm2slD3+1T/QUYEvrn7wPxZtrJQ9/uU/Fm2slD3+5T/QUYEvrn7wPxZtrJQ9/tU/AAAAAAAAAAAAAAAAAAAAABZtrJQ9/tU/Fm2slD3+1T8WbayUPf7VPxZtrJQ9/uU/AAAAAAAAAAAWbayUPf7VPwAAAAAAAAAAFm2slD3+5T8AAAAAAAAAANBRgS+ufvA/AAAAAAAAAAAAAAAAAAAAABZtrJQ9/uU/AAAAAAAAAAAWbayUPf7VPwAAAAAAAAAAAAAAAAAAAAAWbayUPf7VPxZtrJQ9/uU/Fm2slD3+1T8WbayUPf7lPwAAAAAAAAAAAAAAAAAAAAAAAAAAAAAAAAAAAAAAAAAAFm2slD3+5T8WbayUPf7VPwAAAAAAAAAAAAAAAAAAAADQUYEvrn7wPwAAAAAAAAAAAAAAAAAAAAAWbayUPf7lPwAAAAAAAAAAAAAAAAAAAAAAAAAAAAAAABZtrJQ9/tU/Fm2slD3+5T8WbayUPf7VPxZtrJQ9/tU/Fm2slD3+1T8AAAAAAAAAAAAAAAAAAAAAAAAAAAAAAAAWbayUPf7VPxZtrJQ9/uU/ohjMCJLeEUDQUYEvrn7wPxZtrJQ9/tU/Fm2slD3+1T/QUYEvrn7wPwAAAAAAAAAAFm2slD3+5T8WbayUPf7VPxZtrJQ9/tU/Fm2slD3+5T8WbayUPf7VPxZtrJQ9/uU/AAAAAAAAAAAWbayUPf7VPxZtrJQ9/tU/AAAAAAAAAAAWbayUPf7lPxZtrJQ9/tU/Fm2slD3+5T8WbayUPf7VPwAAAAAAAAAAFm2slD3+5T8WbayUPf7lPxZtrJQ9/tU/Fm2slD3+1T8AAAAAAAAAABZtrJQ9/tU/Fm2slD3+1T8AAAAAAAAAAAAAAAAAAAAAFm2slD3+5T8WbayUPf7VP9BRgS+ufvA/Fm2slD3+9T8WbayUPf7VPxZtrJQ9/tU/Fm2slD3+1T8WbayUPf7VPxZtrJQ9/tU/Fm2slD3+1T8WbayUPf7lPxZtrJQ9/uU/AAAAAAAAAAAWbayUPf7lPxZtrJQ9/tU/Fm2slD3+1T8WbayUPf7VPxZtrJQ9/uU/Fm2slD3+1T8AAAAAAAAAAAAAAAAAAAAAFm2slD3+1T8WbayUPf7lPxZtrJQ9/uU/Fm2slD3+1T8AAAAAAAAAABZtrJQ9/uU/Fm2slD3+1T8WbayUPf7VPwAAAAAAAAAAFm2slD3+5T/+FW2slD0OQFyI1/nMffs/dN8W4nU+A0AWbayUPf7lPxZtrJQ9/vU/Fm2slD3+BUBciNf5zH37P9BRgS+ufvA/0FGBL65+8D8AAAAAAAAAANBRgS+ufvA/Fm2slD3+5T8WbayUPf7VPxZtrJQ9/tU/AAAAAAAAAAAWbayUPf7VPxZtrJQ9/tU/Fm2slD3+5T8WbayUPf7VPxZtrJQ9/tU/Fm2slD3+9T8WbayUPf7lP9BRgS+ufvA/Fm2slD3+1T8WbayUPf7VPxZtrJQ9/uU/Fm2slD3+9T/QUYEvrn7wPwAAAAAAAAAAFm2slD3+1T8WbayUPf71PxZtrJQ9/tU/Fm2slD3+5T8WbayUPf7VPwAAAAAAAAAA0FGBL65+8D8WbayUPf7VPxZtrJQ9/tU/Fm2slD3+5T8WbayUPf71PxZtrJQ9/uU/0FGBL65+8D8WbayUPf7VP9BRgS+ufvA/Fm2slD3+1T8WbayUPf7VPxZtrJQ9/tU/Fm2slD3+1T/QUYEvrn7wPxZtrJQ9/vU/Fm2slD3+5T8WbayUPf7lPxZtrJQ9/uU/Fm2slD3+5T8WbayUPf7VPxZtrJQ9/tU/AAAAAAAAAADQUYEvrn7wPxZtrJQ9/tU/0FGBL65+8D9EpmG7WZ4UQBZtrJQ9/gVAXIjX+cx9+z903xbidT4DQNBRgS+ufvA/Fm2slD3+9T8WbayUPf7lPxZtrJQ9/uU/0FGBL65+8D8WbayUPf71PwAAAAAAAAAA0FGBL65+8D8WbayUPf7lPxZtrJQ9/tU/Fm2slD3+9T/QUYEvrn7wPxZtrJQ9/tU/Fm2slD3+1T/QUYEvrn7wP9BRgS+ufvA/AAAAAAAAAAAWbayUPf7lPxZtrJQ9/uU/Fm2slD3+9T8AAAAAAAAAABZtrJQ9/uU/XIjX+cx9+z8WbayUPf71P1yI1/nMffs/Fm2slD3+1T8WbayUPf7lP7n6QUcFvghAXIjX+cx9+z/QUYEvrn4AQNBRgS+ufvA/Fm2slD3+9T8WbayUPf7lP3TfFuJ1PgNAXIjX+cx9+z/QUYEvrn4AQBZtrJQ9/tU/XIjX+cx9+z8WbayUPf7VPxZtrJQ9/vU/Fm2slD3+9T/QUYEvrn7wP1yI1/nMffs/Fm2slD3+5T8WbayUPf71PxZtrJQ9/tU/0FGBL65+8D/QUYEvrn7wPwAAAAAAAAAAFm2slD3+5T8AAAAAAAAAAAAAAAAAAAAAFm2slD3+5T8WbayUPf7VPwAAAAAAAAAAFm2slD3+5T8WbayUPf7lP1yI1/nMfRtARKZhu1meFEDQUYEvrn4AQHTfFuJ1PgNAFm2slD3+BUBciNf5zH0LQFyI1/nMfQtAdN8W4nU+A0BciNf5zH37PxZtrJQ9/vU/Fm2slD3+BUBciNf5zH37PxZtrJQ9/uU/Fm2slD3+5T8WbayUPf71P1yI1/nMfQtAufpBRwW+CEAWbayUPf4FQBZtrJQ9/uU/Fm2slD3+9T903xbidT4DQNBRgS+ufvA/Fm2slD3+9T9ciNf5zH37PxZtrJQ9/uU/0FGBL65+8D8WbayUPf7VP9BRgS+ufgBAdN8W4nU+A0AWbayUPf71P1yI1/nMfQtAXIjX+cx9+z8WbayUPf71P1yI1/nMffs/Fm2slD3+9T/QUYEvrn7wPxZtrJQ9/tU/Fm2slD3+9T8AAAAAAAAAANBRgS+ufvA/0FGBL65+8D9ciNf5zH0LQNBRgS+ufvA/0FGBL65+8D8WbayUPf7VP9BRgS+ufgBAXIjX+cx9+z8WbayUPf71PxZtrJQ9/uU/Fm2slD3+5T8WbayUPf71PxZtrJQ9/uU/0FGBL65+8D/QUYEvrn7wP9BRgS+ufvA/Fm2slD3+9T/QUYEvrn7wPxZtrJQ9/vU/Fm2slD3+9T/QUYEvrn7wPxZtrJQ9/hVA/hVtrJQ9DkAWbayUPf71PxZtrJQ9/gVAufpBRwW+CEBciNf5zH37P3TfFuJ1PgNA0FGBL65+AEAWbayUPf71P9BRgS+ufgBAFm2slD3+5T/QUYEvrn4AQFyI1/nMffs/Fm2slD3+5T/QUYEvrn7wPxZtrJQ9/vU//hVtrJQ9DkDQUYEvrn4AQFyI1/nMffs/Fm2slD3+5T8WbayUPf7lP3TfFuJ1PgNA0FGBL65+AEDQUYEvrn7wP1yI1/nMffs/Fm2slD3+9T9ciNf5zH37P1yI1/nMfQtA0FGBL65+AEAWbayUPf7lP9BRgS+ufgBAufpBRwW+GECiGMwIkt4RQP4VbayUPQ5AdN8W4nU+A0C5+kFHBb4IQFyI1/nMffs/Fm2slD3+BUC5+kFHBb4IQBZtrJQ9/vU/ufpBRwW+CEBciNf5zH0LQHTfFuJ1PgNAFm2slD3+5T9ciNf5zH37PxZtrJQ9/uU/Fm2slD3+BUDQUYEvrn7wPxZtrJQ9/gVAFm2slD3+9T/QUYEvrn4AQP4VbayUPQ5A0FGBL65+8D/QUYEvrn7wPxZtrJQ9/tU/Fm2slD3+9T8WbayUPf71P9BRgS+ufgBAdN8W4nU+A0AWbayUPf7lP1yI1/nMffs/0FGBL65+IEAsTyLTsN0cQOcz920hXhdA/hVtrJQ9DkCiGMwIkt4RQLn6QUcFvhhAXIjX+cx9G0D+FW2slD0OQHTfFuJ1PgNAXIjX+cx9C0CiGMwIkt4RQNBRgS+ufgBA/hVtrJQ9DkBciNf5zH37P9BRgS+ufgBAufpBRwW+CED+FW2slD0OQNBRgS+ufgBAufpBRwW+CECiGMwIkt4RQLn6QUcFvghAdN8W4nU+E0B03xbidT4DQBZtrJQ9/vU/0FGBL65+AECiGMwIkt4RQFyI1/nMffs/0FGBL65+AED+FW2slD0OQBZtrJQ9/vU/ufpBRwW+CEBciNf5zH37PxZtrJQ9/gVA/hVtrJQ9DkB03xbidT4DQNBRgS+ufgBA0FGBL65+8D/QUYEvrn4AQNBRgS+ufvA/dN8W4nU+A0C5+kFHBb4IQLn6QUcFvghAdN8W4nU+A0B03xbidT4DQFyI1/nMffs/ufpBRwW+CEDQUYEvrn4AQHTfFuJ1PgNAdN8W4nU+A0DQUYEvrn4AQHTfFuJ1PgNAdN8W4nU+A0AWbayUPf71PxZtrJQ9/vU/Fm2slD3+9T/QUYEvrn4AQHTfFuJ1PgNAdN8W4nU+A0DQUYEvrn4AQLn6QUcFvghAObUmHKAuIUC5+kFHBb4YQHTfFuJ1PhNARKZhu1meFECLwYwg6R0aQESmYbtZnhRARKZhu1meFEB03xbidT4TQFyI1/nMfQtARKZhu1meFEBciNf5zH0LQNBRgS+ufhBAXIjX+cx9C0DQUYEvrn4AQFyI1/nMfQtAXIjX+cx9C0BciNf5zH0LQKIYzAiS3hFA0FGBL65+EED+FW2slD0OQNBRgS+ufhBAufpBRwW+CEBEpmG7WZ4UQP4VbayUPQ5AohjMCJLeEUBciNf5zH0LQP4VbayUPQ5AXIjX+cx9C0B03xbidT4TQLn6QUcFvghA0FGBL65+AECiGMwIkt4hQHTfFuJ1PiNAz9y3hXidH0C5+kFHBb4YQK0JB6hLTiVAufpBRwW+GEC5+kFHBb4IQESmYbtZnhRAXIjX+cx9C0DQUYEvrn4QQDm1JhygLiFA5zP3bSFeF0BEpmG7WZ4UQBZtrJQ9/gVA/hVtrJQ9DkBEpmG7WZ4UQLn6QUcFvghA0FGBL65+EEB03xbidT4TQLn6QUcFvghAXIjX+cx9C0C5+kFHBb4YQFyI1/nMfQtAFm2slD3+BUDQUYEvrn4QQBZtrJQ9/gVAXIjX+cx9C0C5+kFHBb4IQHTfFuJ1PgNAFm2slD3+FUDQUYEvrn4gQAt8cfWDjiJA0FGBL65+IECLwYwg6R0aQP4VbayUPR5AohjMCJLeIUB03xbidT4jQP4VbayUPR5AufpBRwW+CEDQUYEvrn4gQLn6QUcFvhhA0FGBL65+IED+FW2slD0eQOcz920hXhdAohjMCJLeEUAWbayUPf4VQP4VbayUPR5AXIjX+cx9G0B03xbidT4TQOcz920hXhdAz9y3hXidH0B03xbidT4TQCxPItOw3RxAi8GMIOkdGkBciNf5zH0bQBZtrJQ9/hVA5zP3bSFeF0CiGMwIkt4RQHTfFuJ1PhNA/hVtrJQ9DkC5+kFHBb4YQESmYbtZnhRAFm2slD3+FUBEpmG7WZ4UQHTfFuJ1PhNAFm2slD3+FUAWbayUPf4VQCxPItOw3RxA/hVtrJQ9DkDnM/dtIV4XQESmYbtZnhRALE8i07DdHEBciNf5zH0bQNBRgS+ufhBAufpBRwW+GECLwYwg6R0aQKIYzAiS3hFAdN8W4nU+E0D+FW2slD0OQKIYzAiS3hFA5zP3bSFeF0B03xbidT4TQOcz920hXhdAohjMCJLeEUC5+kFHBb4IQKIYzAiS3hFAFm2slD3+BUD+FW2slD0OQOcz920hXhdALE8i07DdHEBQl5xaEw4oQDm1JhygLjFAi8GMIOkdKkB03xbidT4jQK0JB6hLTiVA0FGBL65+MECtCQeoS04lQNxCvM5n7iNAf9BRgS+uJkBQl5xaEw4oQH/QUYEvriZArQkHqEtOJUAhXucz920pQK0JB6hLTiVAObUmHKAuIUDcQrzOZ+4jQNBRgS+ufiBAufpBRwW+KECiGMwIkt4hQKIYzAiS3iFAufpBRwW+KEDQUYEvrn4gQNxCvM5n7iNA0FGBL65+IEAsTyLTsN0cQESmYbtZniRA5zP3bSFeF0AWbayUPf4lQOcz920hXidA/hVtrJQ9HkDnM/dtIV4nQBZtrJQ9/jVAC3xx9YOOMkBneRKZhu0uQJayx7+ijS1AC3xx9YOOIkBneRKZhu0uQFCXnFoTDihAi8GMIOkdKkCtCQeoS04lQJayx7+ijS1AUJecWhMOKEC5+kFHBb4oQNxCvM5n7iNAObUmHKAuMUB03xbidT4jQFCXnFoTDihAi8GMIOkdKkDcQrzOZ+4jQNxCvM5n7iNALE8i07DdHECLwYwg6R0qQCFe5zP3bSlAFm2slD3+JUDcQrzOZ+4jQOcz920hXidAUJecWhMOKEALfHH1g44iQNBRgS+ufiBAC3xx9YOOIkBEpmG7WZ4kQO1meRKZhjFAkPQOxWBGNEDE63zmvi0sQKIYzAiS3jFAIV7nM/dtKUBQl5xaEw4oQJayx7+ijS1A7WZ5EpmGMUDtZnkSmYYxQCFe5zP3bSlA3EK8zmfuM0AcoC45tSYwQCxPItOw3SxAxOt85r4tLEAsTyLTsN0sQFyI1/nMfStAObUmHKAuMUAhXucz920pQLn6QUcFvihAIV7nM/dtKUC5+kFHBb4oQJayx7+ijS1AFm2slD3+JUB/0FGBL64mQBZtrJQ9/iVA7WZ5EpmGMUBciNf5zH0rQIUD1CWn1jBA8yQyDdvNKkD+FW2slD0uQDm1JhygLjFAlrLHv6KNLUCWsse/oo0tQDm1JhygLjFA5zP3bSFeJ0DQUYEvrn4wQLn6QUcFvihAi8GMIOkdKkBneRKZhu0uQFCXnFoTDihA/hVtrJQ9LkBciNf5zH0rQESmYbtZniRA3EK8zmfuI0CtCQeoS04lQFbKHv+KNjJA0FGBL65+MEAWbayUPf4lQKIYzAiS3iFAXIjX+cx9K0CFA9Qlp9YwQLn6QUcFvihAXIjX+cx9K0DE63zmvi0sQMTrfOa+LSxArQkHqEtOJUDnM/dtIV4nQLn6QUcFvihAxOt85r4tLEDzJDIN280qQK0JB6hLTiVAfHH1g44KQkAcoC45tSZAQBygLjm1JkBALE8i07DdPEAQOirwxdU7QD9z3xbidTpA0FGBL65+QECWsse/oo09QLPHv6KNlT5AGytlj39FP0DQUYEvrn5AQG2slD3+FTlA8yQyDdvNOkCzx7+ijZU+QBMOUJecWkFA/hVtrJQ9PkATDlCXnFpBQGd5EpmG7T5A8yQyDdvNOkD+FW2slD0+QD9z3xbidTpALE8i07DdPEBciNf5zH07QIvBjCDpHTpAxOt85r4tPEAcoC45tSZAQLPHv6KNlT5A8yQyDdvNOkBfXP2gowJBQPb4V7SxUkBAMSNIeodiQkCDjgp8cfU/QGpNOEBdckRAX1z9oKMCQUD2+Fe0sVJAQOIAdcmpNT1AKJFp2G6WQ0AcoC45tSZAQAt8cfWDjkJAlrLHv6KNPUD+FW2slD0+QIUD1CWn1kBA9vhXtLFSQEDVDzoq8MU5QBygLjm1JkBAhQPUJafWQEBfXP2gowJBQIUD1CWn1kBAg44KfHH1P0DP3LeFeJ0/QNUPOirwxTlAlrLHv6KNPUCWsse/oo09QF9c/aCjAkFAs8e/oo2VPkDIv6KNlbJBQIUD1CWn1kBAHKAuObUmQED2+Fe0sVJAQPb4V7SxUkBAP3PfFuJ1OkAsTyLTsN08QOIAdcmpNT1AZ3kSmYbtPkDl1JpwgLpCQGd5EpmG7T5AyL+ijZWyQUAbK2WPf0U/QCxPItOw3TxAGytlj39FP0CiGMwIkt5BQMi/oo2VskFAz9y3hXidP0BneRKZhu0+QNBRgS+ufkBAxOt85r4tPED2+Fe0sVJAQLPHv6KNlT5Az9y3hXidP0AsTyLTsN08QKqqqqqqqkBAEw5Ql5xaQUDQUYEvrn5AQARJ71AMZjhAHKAuObUmQEATDlCXnFpBQEpkGrab5T1AlrLHv6KNPUC/LcTrfOZCQMi/oo2VskFAEw5Ql5xaQUDl1JpwgLpCQPb4V7SxUkBAMSNIeodiQkDP3LeFeJ0/QBA6KvDF1TtAkPQOxWBGREDtZnkSmYZBQLPHv6KNlT5A9vhXtLFSQEAsTyLTsN08QCiRadhulkNAX1z9oKMCQUC/LcTrfOZCQLPHv6KNlT5AX1z9oKMCQUBfXP2gowJBQAt8cfWDjkJA8yQyDdvNOkDIv6KNlbJBQJayx7+ijT1AHKAuObUmQEDVDzoq8MU5QIvBjCDpHTpAs8e/oo2VPkBWyh7/ijZCQDm1JhygLkFAp9aEA9QlO0CFA9Qlp9ZAQFbKHv+KNkJAYrtZnkSmNUB8cfWDjgpSQPUOxWBGkFVARKZhu1meVEAzgqR3KAZXQMse/4o2VlZAyx7/ijZWVkAzgqR3KAZXQBIkvUMxmFZA07DdLE8iVUBU4IurH3RXQLab5UlkGlRAEiS9QzGYVkAESe9QDGZYQARJ71AMZlhAOMuTyDRsVkCpwBdXP+hVQDjLk8g0bFZApXcoBjOCVkDj6gcdFfhXQHY+c98W4ldAxtUPOirwVkBZKXv8K9pWQA3bzfIkMldAufpBRwW+WECb5UlkGrZXQM9n7ttCvFVAm+VJZBq2V0AIkt6hGMxXQAAAAAAAAFlAjKsfdFTgVEBS9vhXtLFMQIUD1CWn1lBAgLrk1JpwUUB03xbidT5TQIyrH3RU4FRAfHH1g44KUkAf/4o2VspUQLvk1JpwgFNApXcoBjOCVkAN283yJDJXQL8txOt85lJAb5YnkWnYU0A8FIMZQdJVQKV3KAYzglZAqcAXVz/oVUBJ71AMZgRUQPUOxWBGkFVAeodiMCNIV0CQ9A7FYEZUQGpNOEBdclRAjKsfdFTgVEB/0FGBL65WQARJ71AMZlhAwYwg6R2KV0BZKXv8K9pWQNf5zH1biFRAk1NrwgHqWECTU2vCAepYQH/QUYEvrlZA+Ve0sVL2VEDeoRjMCJJIQBA6KvDF1UtAZ3kSmYbtTkDMCJLeoRhRQHxx9YOOClJApmG7WZ5EUUD1g44KfHFPQHxx9YOOClJAC3xx9YOOUkB8cfWDjgpSQPKvaGOl7FBAEw5Ql5xaUUB8cfWDjgpSQAczgqR3KFNAMSNIeodiUkCiGMwIkt5RQF9c/aCjAlFA+Ve0sVL2VEAC6pJTa8JTQCNIeodiMFRATjhAXXJqU0DIv6KNlbJRQNxCvM5n7lNAGrab5UlkVUBSgS+uftBSQOXUmnCAulJA07DdLE8iVUC2m+VJZBpUQLJS9vhXtFRAjKsfdFTgVEBneRKZhu1OQP2gowJfXFRAC3xx9YOOUkBfXP2gowJRQEBdcmpNOFVAohjMCJLeUUAxI0h6h2JSQG+WJ5Fp2FNAslL2+Fe0VEBSgS+uftBSQDwUgxlB0lVAslL2+Fe0VEAokWnYbpZTQNf5zH1biFRAh2IwI0h6VUAHM4KkdyhTQESmYbtZnlRAAuqSU2vCU0DTsN0sTyJVQMGMIOkdildAu+TUmnCAU0AokWnYbpZTQESmYbtZnlRAh2IwI0h6VUDPZ+7bQrxVQNOw3SxPIlVARKZhu1meVEA4y5PINGxWQHgoBjOCpFJANWw3y5PIUUAcoC45tSZAQIvBjCDpHUpAgS+uftBRS0AkvUMxmBFOQGUatpvlSUpAvFmeRKZhTUAsTyLTsN1MQKfWhAPUJUtA2G6WJ5FpTkDQUYEvrn5QQGd5EpmG7U5ApmG7WZ5EUUDyr2hjpexQQPWDjgp8cU9AiUzDdrM8UEDQUYEvrn5QQKk14QB1yU9AcAvxOp+5TUCDjgp8cfVPQPKvaGOl7FBAr/OZ+7YQUEBfXP2gowJRQLPHv6KNlU5AVsoe/4o2UkD2+Fe0sVJQQIlMw3azPFBA9YOOCnxxT0BB0jsUgxlPQGOl7PGvaFBAUvb4V7SxTEAbK2WPf0VPQKIYzAiS3kFA3EK8zmfuQ0C5+kFHBb5IQD9z3xbidUpAeJ3P3LeFTEDzJDIN281KQPMkMg3bzUpALE8i07DdTEDqklNrwgFMQP4VbayUPU5ASmQatpvlTUCv85n7thBQQEpkGrab5U1AZ3kSmYbtTkAXVz/oqMBQQLxZnkSmYU1Az9y3hXidT0BciNf5zH1LQHxx9YOOClJAqqqqqqqqUEDYbpYnkWlOQLxZnkSmYU1AGytlj39FT0AbK2WPf0VPQPb4V7SxUlBASmQatpvlTUBneRKZhu1OQP4VbayUPU5A8q9oY6XsUECNIOkdisFOQNBRgS+ufkBAM4KkdygGR0A8FIMZQdJFQNUPOirwxUlADdvN8iQyR0BqTThAXXJEQN6hGMwIkkhAKvDF1Q86SEBtrJQ9/hVJQEpkGrab5U1AufpBRwW+SEBlGrab5UlKQIvBjCDpHUpAgS+uftBRS0DqklNrwgFMQHidz9y3hUxAUvb4V7SxTEBciNf5zH1LQLxZnkSmYU1AcAvxOp+5TUCLwYwg6R1KQMTrfOa+LUxAxOt85r4tTEBB0jsUgxlPQOIAdcmpNU1Ap9aEA9QlS0DqklNrwgFMQHAL8TqfuU1A6pJTa8IBTEAkvUMxmBFOQKV3KAYzgkZAM4KkdygGR0DNfVuI1/lKQPMkMg3bzUpA+7YQr/OZSUBHBb64+kFJQFL2+Fe0sUxA/hVtrJQ9TkAIqEtOrQlNQKZhu1meRFFAwYwg6R2KR0DVDzoq8MVJQI0g6R2KwU5AQdI7FIMZT0D1g44KfHFPQFL2+Fe0sUxAGcwIkt6hSkDP3LeFeJ1PQEHSOxSDGU9AgS+uftBRS0Czx7+ijZVOQBsrZY9/RU9AHKAuObUmUED+FW2slD1OQNhulieRaU5AP3PfFuJ1SkCWsse/oo1NQBdXP+iowFBASmQatpvlTUCxaGOl7PFJQPlXtLFS9jRABEnvUAxmOED2+Fe0sVJAQBygLjm1JkBAfHH1g44KQkCWsse/oo09QDm1JhygLkFAHKAuObUmQECFA9Qlp9ZAQBA6KvDF1TtAGytlj39FP0DVDzoq8MU5QBsrZY9/RT9ASmQatpvlPUCzx7+ijZU+QJayx7+ijT1Ag44KfHH1P0CWsse/oo09QBsrZY9/RT9ASmQatpvlPUAQOirwxdU7QJayx7+ijT1A0FGBL65+QEDE63zmvi08QGd5EpmG7T5AZ3kSmYbtPkAbK2WPf0U/QMTrfOa+LTxAEDoq8MXVO0Czx7+ijZU+QKqqqqqqqkBAz9y3hXidP0CqqqqqqqpAQBsrZY9/RT9AEw5Ql5xaQUB4nc/ct4U8QHxx9YOOCkJALE8i07DdPEDP3LeFeJ0/QFyI1/nMfTtAxOt85r4tPEAbK2WPf0U/QIOOCnxx9T9A0FGBL65+QEBfXP2gowJBQM/ct4V4nT9AqqqqqqqqQEDiAHXJqTU9QM/ct4V4nT9AEDoq8MXVO0ATDlCXnFpBQHTfFuJ1PkNAX1z9oKMCQUDzJDIN2806QPMkMg3bzTpAp9aEA9QlO0ALfHH1g45CQBA6KvDF1TtAXIjX+cx9O0D+FW2slD0+QIUD1CWn1kBAbayUPf4VOUAsTyLTsN08QO1meRKZhkFAEDoq8MXVO0DQUYEvrn5AQJayx7+ijT1AC3xx9YOOQkCqqqqqqqpAQBsrZY9/RT9A4gB1yak1PUCWsse/oo09QM/ct4V4nT9AMSNIeodiQkB8cfWDjgpCQM/ct4V4nT9Ag44KfHH1P0D2+Fe0sVJAQIOOCnxx9T9A/hVtrJQ9PkCqqqqqqqpAQF9c/aCjAkFAdN8W4nU+Q0DiAHXJqTU9QKIYzAiS3kFAObUmHKAuQUBneRKZhu0+QBA6KvDF1TtAEw5Ql5xaQUDzJDIN2806QPMkMg3bzTpAmYbtZnkSQ0DQUYEvrn5AQOXUmnCAukJAfHH1g44KQkDIv6KNlbJBQNxCvM5n7kNAg44KfHH1P0DiAHXJqTU9QDEjSHqHYkJALE8i07DdPEBOOEBdcmpDQJayx7+ijT1AX1z9oKMCQUC5+kFHBb44QGd5EpmG7T5AP3PfFuJ1OkAbK2WPf0U/QJayx7+ijT1A5dSacIC6QkA/c98W4nU6QFyI1/nMfTtASmQatpvlPUAcoC45tSZAQO1meRKZhkFAqqqqqqqqQEDIv6KNlbJBQDEjSHqHYkJAEDoq8MXVO0CqqqqqqqpAQIOOCnxx9T9ARKZhu1meNEBciNf5zH0rQBZtrJQ9/iVAf9BRgS+uJkBEpmG7WZ4kQESmYbtZniRA8yQyDdvNKkDnM/dtIV4nQOcz920hXidAf9BRgS+uJkAWbayUPf4lQCFe5zP3bSlAC3xx9YOOIkDcQrzOZ+4jQP4VbayUPR5AC3xx9YOOIkAWbayUPf4lQNBRgS+ufiBA5zP3bSFeJ0DP3LeFeJ0fQCxPItOw3RxArQkHqEtOJUBQl5xaEw4oQKIYzAiS3iFAObUmHKAuIUCtCQeoS04lQFCXnFoTDihAohjMCJLeIUBciNf5zH0bQFCXnFoTDihAIV7nM/dtKUDcQrzOZ+4zQHTfFuJ1PjNAz9y3hXidL0CLwYwg6R0qQFyI1/nMfStA0FGBL65+MEBQl5xaEw4oQBygLjm1JjBA5zP3bSFeJ0D+FW2slD0eQGd5EpmG7S5Af9BRgS+uJkB/0FGBL64mQKIYzAiS3iFAohjMCJLeIUCWsse/oo0tQHTfFuJ1PiNAC3xx9YOOIkDnM/dtIV4nQJayx7+ijS1A5zP3bSFeJ0ALfHH1g44iQBZtrJQ9/iVAUJecWhMOKEBEpmG7WZ4kQH/QUYEvriZA0FGBL65+IEB03xbidT4jQP4VbayUPR5AohjMCJLeIUC5+kFHBb4oQKIYzAiS3jFAM4KkdygGN0CiGMwIkt4xQCxPItOw3SxAlrLHv6KNLUDzJDIN280qQCxPItOw3SxA3EK8zmfuM0BciNf5zH0rQNBRgS+ufjBAi8GMIOkdKkCFA9Qlp9YwQP4VbayUPS5AObUmHKAuMUB03xbidT4zQIvBjCDpHSpA5zP3bSFeJ0D+FW2slD0uQP4VbayUPS5A5zP3bSFeJ0B/0FGBL64mQP4VbayUPS5AFm2slD3+JUDP3LeFeJ0vQMTrfOa+LSxAHKAuObUmMEDnM/dtIV4nQNxCvM5n7iNARKZhu1meJEDP3LeFeJ0vQBygLjm1JjBAxOt85r4tLEAcoC45tSYwQIvBjCDpHSpAhQPUJafWMEBciNf5zH0rQOcz920hXidAFm2slD3+JUB/0FGBL64mQIvBjCDpHSpAufpBRwW+KEC5+kFHBb4oQDm1JhygLjFAFm2slD3+JUBneRKZhu0uQJayx7+ijS1Ai8GMIOkdKkDP3LeFeJ0fQNxCvM5n7iNAHKAuObUmMEDP3LeFeJ0vQCFe5zP3bSlALE8i07DdLEBQl5xaEw4oQCFe5zP3bSlAf9BRgS+uJkCtCQeoS04lQCxPItOw3SxAxOt85r4tLECLwYwg6R0qQKIYzAiS3iFAFm2slD3+BUBciNf5zH0bQLn6QUcFvghAXIjX+cx9C0CiGMwIkt4RQNBRgS+ufhBAXIjX+cx9C0B03xbidT4TQBZtrJQ9/gVA/hVtrJQ9DkC5+kFHBb4IQBZtrJQ9/hVAdN8W4nU+A0C5+kFHBb4IQP4VbayUPQ5AdN8W4nU+E0CiGMwIkt4RQLn6QUcFvghARKZhu1meFECiGMwIkt4RQBZtrJQ9/gVAFm2slD3+BUB03xbidT4DQBZtrJQ9/gVALE8i07DdHEB03xbidT4DQP4VbayUPQ5AFm2slD3+9T903xbidT4TQBZtrJQ9/iVAufpBRwW+GEAWbayUPf4VQOcz920hXhdAXIjX+cx9G0BEpmG7WZ4kQFyI1/nMfRtAFm2slD3+FUAWbayUPf4VQHTfFuJ1PhNA/hVtrJQ9HkBEpmG7WZ4UQKIYzAiS3hFAdN8W4nU+E0D+FW2slD0OQP4VbayUPQ5AufpBRwW+GECLwYwg6R0aQFyI1/nMfQtA/hVtrJQ9DkCiGMwIkt4RQP4VbayUPQ5AFm2slD3+BUBciNf5zH0LQBZtrJQ9/hVA0FGBL65+EEBciNf5zH37P/4VbayUPQ5AdN8W4nU+E0B03xbidT4TQK0JB6hLTiVAdN8W4nU+I0A5tSYcoC4hQNxCvM5n7iNAi8GMIOkdGkBQl5xaEw4oQFyI1/nMfRtAz9y3hXidH0CiGMwIkt4hQKIYzAiS3iFAXIjX+cx9G0CiGMwIkt4hQLn6QUcFvhhALE8i07DdHECLwYwg6R0aQFyI1/nMfRtA/hVtrJQ9HkB03xbidT4TQCxPItOw3RxAufpBRwW+CEDnM/dtIV4XQESmYbtZnhRAFm2slD3+FUDQUYEvrn4QQLn6QUcFvhhA5zP3bSFeF0CiGMwIkt4RQHTfFuJ1PhNA5zP3bSFeF0BciNf5zH0LQK0JB6hLTiVAXIjX+cx9C0C5+kFHBb4YQKIYzAiS3hFA5zP3bSFeF0CiGMwIkt4hQESmYbtZnhRAi8GMIOkdGkDQUYEvrn4QQNBRgS+ufhBAufpBRwW+GEC5+kFHBb4IQP4VbayUPQ5AdN8W4nU+E0CiGMwIkt4RQP4VbayUPQ5AohjMCJLeEUDQUYEvrn4QQM/ct4V4nR9A0FGBL65+EEC5+kFHBb4YQKIYzAiS3hFAi8GMIOkdGkD+FW2slD0OQKIYzAiS3hFAufpBRwW+GEAWbayUPf4VQFyI1/nMfQtAFm2slD3+FUCiGMwIkt4RQFyI1/nMfStA/hVtrJQ9DkCiGMwIkt4RQHTfFuJ1PgNAFm2slD3+BUBciNf5zH0LQBZtrJQ9/vU/dN8W4nU+A0B03xbidT4DQHTfFuJ1PgNA0FGBL65+8D8WbayUPf4FQBZtrJQ9/vU/0FGBL65+AEAWbayUPf7lPxZtrJQ9/vU/0FGBL65+AEAWbayUPf71P9BRgS+ufvA/dN8W4nU+A0AWbayUPf7lP9BRgS+ufgBAXIjX+cx9+z8WbayUPf7lP1yI1/nMffs/0FGBL65+AEC5+kFHBb4IQNBRgS+ufgBAFm2slD3+9T903xbidT4DQBZtrJQ9/gVA/hVtrJQ9HkCLwYwg6R0aQHTfFuJ1PhNAufpBRwW+CEAWbayUPf7lP7n6QUcFvghAufpBRwW+CEB03xbidT4DQBZtrJQ9/vU/Fm2slD3+9T903xbidT4DQFyI1/nMffs/Fm2slD3+BUAWbayUPf7VPxZtrJQ9/vU/0FGBL65+8D/QUYEvrn7wPxZtrJQ9/uU/ufpBRwW+CEB03xbidT4DQNBRgS+ufgBAFm2slD3+9T8WbayUPf71P3TfFuJ1PgNA0FGBL65+8D9ciNf5zH37PxZtrJQ9/uU/XIjX+cx9+z9ciNf5zH37P9BRgS+ufgBAohjMCJLeEUDQUYEvrn4QQOcz920hXhdAi8GMIOkdGkC5+kFHBb4IQBZtrJQ9/hVAXIjX+cx9+z9ciNf5zH0LQP4VbayUPQ5A0FGBL65+8D+5+kFHBb4IQNBRgS+ufhBAXIjX+cx9C0C5+kFHBb4IQBZtrJQ9/hVAohjMCJLeEUDQUYEvrn4QQNBRgS+ufgBAXIjX+cx9C0DQUYEvrn4AQHTfFuJ1PgNA0FGBL65+AEDQUYEvrn4QQFyI1/nMffs/ufpBRwW+CEC5+kFHBb4IQP4VbayUPQ5AXIjX+cx9+z/QUYEvrn4AQNBRgS+ufhBAohjMCJLeEUBciNf5zH0LQLn6QUcFvghAufpBRwW+CEC5+kFHBb4IQP4VbayUPQ5A/hVtrJQ9DkDQUYEvrn7wP3TfFuJ1PgNAdN8W4nU+A0B03xbidT4DQHTfFuJ1PgNA0FGBL65+AEAWbayUPf7lP7n6QUcFvghA0FGBL65+AEC5+kFHBb4IQFyI1/nMffs/XIjX+cx9C0DQUYEvrn4AQHTfFuJ1PgNA/hVtrJQ9DkAWbayUPf71PxZtrJQ9/vU/0FGBL65+8D8WbayUPf71P3TfFuJ1PgNA0FGBL65+8D903xbidT4DQLn6QUcFvghAXIjX+cx9G0B03xbidT4DQNBRgS+ufvA/Fm2slD3+5T8WbayUPf7lPxZtrJQ9/uU/Fm2slD3+5T8AAAAAAAAAANBRgS+ufvA/AAAAAAAAAADQUYEvrn7wP9BRgS+ufvA/Fm2slD3+5T8WbayUPf7lPxZtrJQ9/tU/AAAAAAAAAAAWbayUPf7VPxZtrJQ9/uU/AAAAAAAAAAAWbayUPf7VPwAAAAAAAAAAFm2slD3+5T8AAAAAAAAAABZtrJQ9/uU/Fm2slD3+1T8WbayUPf7VPwAAAAAAAAAAFm2slD3+1T/QUYEvrn7wPwAAAAAAAAAAAAAAAAAAAADQUYEvrn4QQFyI1/nMfQtA0FGBL65+AEB03xbidT4DQNBRgS+ufvA/0FGBL65+8D/QUYEvrn7wPxZtrJQ9/uU/Fm2slD3+5T8WbayUPf71PwAAAAAAAAAAFm2slD3+1T8WbayUPf7lPxZtrJQ9/tU/Fm2slD3+1T8WbayUPf71P1yI1/nMffs/0FGBL65+8D8WbayUPf71PwAAAAAAAAAAFm2slD3+5T8WbayUPf7VPxZtrJQ9/vU/Fm2slD3+5T/QUYEvrn7wP9BRgS+ufvA/0FGBL65+8D8WbayUPf7lPwAAAAAAAAAAFm2slD3+9T903xbidT4TQP4VbayUPQ5A/hVtrJQ9DkAWbayUPf71P9BRgS+ufgBA0FGBL65+EEB03xbidT4DQNBRgS+ufvA/Fm2slD3+9T9ciNf5zH37P3TfFuJ1PgNAdN8W4nU+A0AWbayUPf71P1yI1/nMffs/Fm2slD3+9T9ciNf5zH37PxZtrJQ9/uU/0FGBL65+8D8WbayUPf7VPxZtrJQ9/tU/dN8W4nU+A0BciNf5zH37PxZtrJQ9/tU/XIjX+cx9+z9ciNf5zH37PxZtrJQ9/uU/Fm2slD3+5T8WbayUPf7lP9BRgS+ufvA/XIjX+cx9+z/+FW2slD0OQNBRgS+ufgBAFm2slD3+9T9ciNf5zH37P1yI1/nMffs/dN8W4nU+A0DQUYEvrn7wPxZtrJQ9/tU/0FGBL65+AEDQUYEvrn7wPxZtrJQ9/uU/Fm2slD3+1T/QUYEvrn4AQBZtrJQ9/uU/AAAAAAAAAAB03xbidT4DQNBRgS+ufvA/Fm2slD3+9T8WbayUPf71PxZtrJQ9/uU/0FGBL65+8D8WbayUPf7lPxZtrJQ9/tU/Fm2slD3+5T8WbayUPf7lP9BRgS+ufvA/Fm2slD3+1T8WbayUPf7VP9BRgS+ufvA/Fm2slD3+BUBciNf5zH0bQBZtrJQ9/tU/Fm2slD3+9T/QUYEvrn7wPxZtrJQ9/uU/Fm2slD3+1T8WbayUPf7VPxZtrJQ9/tU/AAAAAAAAAAAAAAAAAAAAAAAAAAAAAAAAFm2slD3+1T8WbayUPf71PwAAAAAAAAAAAAAAAAAAAAAWbayUPf7lPxZtrJQ9/uU/Fm2slD3+1T8WbayUPf7VPwAAAAAAAAAA0FGBL65+8D/QUYEvrn7wPwAAAAAAAAAAFm2slD3+9T8WbayUPf7VPwAAAAAAAAAA0FGBL65+8D8WbayUPf7lP9BRgS+ufvA/Fm2slD3+5T8WbayUPf7VP1yI1/nMffs/0FGBL65+8D8AAAAAAAAAABZtrJQ9/vU/AAAAAAAAAADQUYEvrn7wP9BRgS+ufvA/Fm2slD3+5T8WbayUPf7lPxZtrJQ9/uU/Fm2slD3+5T8WbayUPf7lPxZtrJQ9/tU/AAAAAAAAAAAWbayUPf7lPxZtrJQ9/uU/Fm2slD3+1T8WbayUPf7lPxZtrJQ9/tU/Fm2slD3+1T/QUYEvrn7wPxZtrJQ9/uU/AAAAAAAAAAAAAAAAAAAAAAAAAAAAAAAAAAAAAAAAAAAAAAAAAAAAABZtrJQ9/tU/Fm2slD3+5T/QUYEvrn7wP1yI1/nMfQtAFm2slD3+BUAWbayUPf71PxZtrJQ9/uU/Fm2slD3+1T+5+kFHBb4IQBZtrJQ9/tU/Fm2slD3+9T/QUYEvrn7wP3TfFuJ1PgNA0FGBL65+8D8WbayUPf71PxZtrJQ9/tU/Fm2slD3+5T8WbayUPf71P9BRgS+ufvA/Fm2slD3+1T8WbayUPf71PwAAAAAAAAAAAAAAAAAAAAAWbayUPf7lPxZtrJQ9/uU/0FGBL65+8D8AAAAAAAAAAAAAAAAAAAAAAAAAAAAAAABciNf5zH37PxZtrJQ9/tU/Fm2slD3+5T/QUYEvrn7wPxZtrJQ9/vU/AAAAAAAAAAAWbayUPf7lPxZtrJQ9/tU/Fm2slD3+5T8WbayUPf7VPxZtrJQ9/tU/Fm2slD3+5T8WbayUPf7VPwAAAAAAAAAAAAAAAAAAAAAAAAAAAAAAABZtrJQ9/tU/0FGBL65+8D8WbayUPf7lPxZtrJQ9/tU/Fm2slD3+5T8WbayUPf7VPxZtrJQ9/uU/Fm2slD3+1T8WbayUPf7lPxZtrJQ9/uU/Fm2slD3+1T8WbayUPf7lPwAAAAAAAAAAAAAAAAAAAAAAAAAAAAAAABZtrJQ9/tU/Fm2slD3+5T9ciNf5zH37P6IYzAiS3iFAFm2slD3+5T8WbayUPf7VPxZtrJQ9/tU/AAAAAAAAAAAWbayUPf7VPxZtrJQ9/uU/Fm2slD3+5T8AAAAAAAAAAAAAAAAAAAAAAAAAAAAAAAAWbayUPf7lPxZtrJQ9/tU/AAAAAAAAAAAWbayUPf7VPwAAAAAAAAAAAAAAAAAAAAAAAAAAAAAAAAAAAAAAAAAAFm2slD3+1T8AAAAAAAAAABZtrJQ9/uU/AAAAAAAAAAAAAAAAAAAAABZtrJQ9/uU/AAAAAAAAAAAAAAAAAAAAAAAAAAAAAAAAFm2slD3+1T8WbayUPf7VPxZtrJQ9/tU/Fm2slD3+5T8WbayUPf71PwAAAAAAAAAAFm2slD3+1T8WbayUPf7VPxZtrJQ9/tU/AAAAAAAAAAAAAAAAAAAAAAAAAAAAAAAAFm2slD3+5T8WbayUPf7lPwAAAAAAAAAAFm2slD3+1T/QUYEvrn7wPwAAAAAAAAAAAAAAAAAAAAAWbayUPf7VPxZtrJQ9/tU/Fm2slD3+1T8WbayUPf7lPwAAAAAAAAAAAAAAAAAAAAAAAAAAAAAAAAAAAAAAAAAAAAAAAAAAAAAWbayUPf7VPxZtrJQ9/tU/Fm2slD3+1T8WbayUPf7VPxZtrJQ9/uU/ufpBRwW+CEDQUYEvrn4AQBZtrJQ9/vU/AAAAAAAAAAAWbayUPf7VPxZtrJQ9/uU/Fm2slD3+9T/QUYEvrn7wPwAAAAAAAAAAFm2slD3+5T8WbayUPf7lPxZtrJQ9/uU/Fm2slD3+1T8WbayUPf7VPwAAAAAAAAAA0FGBL65+8D8WbayUPf7VPxZtrJQ9/uU/Fm2slD3+9T8WbayUPf7VPxZtrJQ9/tU/0FGBL65+8D8WbayUPf7VP9BRgS+ufvA/AAAAAAAAAAAWbayUPf7VPxZtrJQ9/uU/Fm2slD3+1T8WbayUPf7VPxZtrJQ9/tU/Fm2slD3+1T8WbayUPf7VPwAAAAAAAAAAFm2slD3+1T/QUYEvrn7wPxZtrJQ9/tU/Fm2slD3+5T8WbayUPf7VPwAAAAAAAAAAFm2slD3+5T8AAAAAAAAAAAAAAAAAAAAAAAAAAAAAAAAAAAAAAAAAABZtrJQ9/tU/Fm2slD3+5T8WbayUPf7VPwAAAAAAAAAAFm2slD3+5T8WbayUPf7VPxZtrJQ9/tU/Fm2slD3+1T8WbayUPf7lPwAAAAAAAAAAAAAAAAAAAAAAAAAAAAAAABZtrJQ9/tU/0FGBL65+8D8WbayUPf7VP9BRgS+ufvA/5zP3bSFeF0AWbayUPf7VPxZtrJQ9/uU/AAAAAAAAAAAWbayUPf7VPxZtrJQ9/uU/Fm2slD3+5T8AAAAAAAAAAAAAAAAAAAAAFm2slD3+1T8WbayUPf7VPxZtrJQ9/uU/Fm2slD3+1T8WbayUPf7VPwAAAAAAAAAAAAAAAAAAAAAWbayUPf7VPxZtrJQ9/uU/AAAAAAAAAAAAAAAAAAAAABZtrJQ9/tU/AAAAAAAAAAAWbayUPf7VPwAAAAAAAAAAAAAAAAAAAAAWbayUPf7VPwAAAAAAAAAAAAAAAAAAAAAAAAAAAAAAAAAAAAAAAAAAAAAAAAAAAAAWbayUPf7VPxZtrJQ9/tU/AAAAAAAAAAAAAAAAAAAAAAAAAAAAAAAAAAAAAAAAAAAAAAAAAAAAABZtrJQ9/tU/Fm2slD3+1T8AAAAAAAAAAAAAAAAAAAAAFm2slD3+5T8AAAAAAAAAAAAAAAAAAAAAFm2slD3+1T8AAAAAAAAAAAAAAAAAAAAAAAAAAAAAAAAWbayUPf7VPwAAAAAAAAAAAAAAAAAAAAAAAAAAAAAAAAAAAAAAAAAAAAAAAAAAAAAAAAAAAAAAAAAAAAAAAAAAAAAAAAAAAAAAAAAAAAAAABZtrJQ9/tU/Fm2slD3+1T903xbidT4DQNBRgS+ufvA/Fm2slD3+5T8WbayUPf7VPxZtrJQ9/tU/Fm2slD3+5T8WbayUPf7lP9BRgS+ufvA/Fm2slD3+5T8WbayUPf7VPwAAAAAAAAAAFm2slD3+1T8WbayUPf7VPwAAAAAAAAAAAAAAAAAAAAAAAAAAAAAAAAAAAAAAAAAAFm2slD3+1T8AAAAAAAAAAAAAAAAAAAAAFm2slD3+5T8WbayUPf7VPxZtrJQ9/tU/Fm2slD3+1T8WbayUPf7VPwAAAAAAAAAAFm2slD3+1T8AAAAAAAAAABZtrJQ9/tU/Fm2slD3+5T8WbayUPf7VPxZtrJQ9/uU/AAAAAAAAAAAWbayUPf7VPwAAAAAAAAAAFm2slD3+1T8WbayUPf7VPxZtrJQ9/uU/Fm2slD3+1T8WbayUPf7lPwAAAAAAAAAAFm2slD3+1T8AAAAAAAAAAAAAAAAAAAAAFm2slD3+1T8WbayUPf7VPwAAAAAAAAAAAAAAAAAAAAAAAAAAAAAAAAAAAAAAAAAAAAAAAAAAAAAWbayUPf7VPwAAAAAAAAAAAAAAAAAAAAAAAAAAAAAAAAAAAAAAAAAAAAAAAAAAAAAWbayUPf7VPxZtrJQ9/uU/0FGBL65+8D/+FW2slD0OQFyI1/nMffs/Fm2slD3+1T8AAAAAAAAAAAAAAAAAAAAAAAAAAAAAAAAWbayUPf7VPxZtrJQ9/tU/AAAAAAAAAAAWbayUPf7VPwAAAAAAAAAAAAAAAAAAAAAAAAAAAAAAAAAAAAAAAAAAAAAAAAAAAAAAAAAAAAAAABZtrJQ9/tU/AAAAAAAAAAAAAAAAAAAAAAAAAAAAAAAAFm2slD3+1T8WbayUPf7VPwAAAAAAAAAAAAAAAAAAAAAAAAAAAAAAAAAAAAAAAAAAFm2slD3+1T8AAAAAAAAAAAAAAAAAAAAAFm2slD3+1T8AAAAAAAAAAAAAAAAAAAAAFm2slD3+5T8AAAAAAAAAAAAAAAAAAAAAAAAAAAAAAAAWbayUPf7lPxZtrJQ9/tU/AAAAAAAAAAAAAAAAAAAAAAAAAAAAAAAAAAAAAAAAAAAAAAAAAAAAAAAAAAAAAAAAAAAAAAAAAAAAAAAAAAAAAAAAAAAAAAAAAAAAAAAAAAAAAAAAAAAAABZtrJQ9/tU/Fm2slD3+1T8WbayUPf7VPwAAAAAAAAAAFm2slD3+1T8AAAAAAAAAABZtrJQ9/tU/AAAAAAAAAAAAAAAAAAAAAAAAAAAAAAAAAAAAAAAAAAAAAAAAAAAAAFyI1/nMffs/AAAAAAAAAAAAAAAAAAAAABZtrJQ9/tU/0FGBL65+8D8WbayUPf7lPxZtrJQ9/tU/Fm2slD3+1T8WbayUPf7VPxZtrJQ9/tU/Fm2slD3+1T8AAAAAAAAAABZtrJQ9/tU/AAAAAAAAAAAWbayUPf7VPxZtrJQ9/tU/Fm2slD3+1T8AAAAAAAAAAAAAAAAAAAAAAAAAAAAAAAAAAAAAAAAAAAAAAAAAAAAAFm2slD3+5T8AAAAAAAAAAAAAAAAAAAAAAAAAAAAAAAAAAAAAAAAAAAAAAAAAAAAAFm2slD3+1T8AAAAAAAAAABZtrJQ9/uU/Fm2slD3+5T8AAAAAAAAAAAAAAAAAAAAAAAAAAAAAAAAAAAAAAAAAABZtrJQ9/tU/Fm2slD3+5T8AAAAAAAAAABZtrJQ9/tU/AAAAAAAAAAAWbayUPf7VPwAAAAAAAAAAAAAAAAAAAAAAAAAAAAAAAAAAAAAAAAAAAAAAAAAAAAAAAAAAAAAAAAAAAAAAAAAAAAAAAAAAAAAAAAAAAAAAAAAAAAAAAAAAAAAAAAAAAAAAAAAAAAAAABZtrJQ9/tU/Fm2slD3+1T8AAAAAAAAAABZtrJQ9/tU/AAAAAAAAAAAWbayUPf7VP1yI1/nMfQtAAAAAAAAAAAAAAAAAAAAAAAAAAAAAAAAAAAAAAAAAAAAAAAAAAAAAAAAAAAAAAAAAAAAAAAAAAAAAAAAAAAAAAAAAAAAAAAAAAAAAAAAAAAAWbayUPf7lPwAAAAAAAAAAAAAAAAAAAAAAAAAAAAAAAAAAAAAAAAAAAAAAAAAAAAAAAAAAAAAAAAAAAAAAAAAAAAAAAAAAAAAAAAAAAAAAAAAAAAAAAAAAAAAAAAAAAAAAAAAAAAAAABZtrJQ9/tU/AAAAAAAAAAAAAAAAAAAAAAAAAAAAAAAAAAAAAAAAAAAAAAAAAAAAAAAAAAAAAAAAAAAAAAAAAAAAAAAAAAAAAAAAAAAAAAAAAAAAAAAAAAAWbayUPf7VPwAAAAAAAAAAAAAAAAAAAAAWbayUPf7VPwAAAAAAAAAAAAAAAAAAAAAAAAAAAAAAAAAAAAAAAAAAAAAAAAAAAAAAAAAAAAAAABZtrJQ9/tU/AAAAAAAAAAAAAAAAAAAAAAAAAAAAAAAAAAAAAAAAAAAAAAAAAAAAAAAAAAAAAAAA0FGBL65+8D8AAAAAAAAAABZtrJQ9/tU/AAAAAAAAAAAAAAAAAAAAAAAAAAAAAAAAAAAAAAAAAAAAAAAAAAAAAAAAAAAAAAAAdN8W4nU+A0AWbayUPf7lPwAAAAAAAAAAAAAAAAAAAAAAAAAAAAAAAAAAAAAAAAAAFm2slD3+1T8WbayUPf7VPwAAAAAAAAAAFm2slD3+1T8AAAAAAAAAABZtrJQ9/tU/AAAAAAAAAAAAAAAAAAAAABZtrJQ9/uU/AAAAAAAAAAAAAAAAAAAAAAAAAAAAAAAAFm2slD3+1T8WbayUPf7VPxZtrJQ9/uU/AAAAAAAAAAAAAAAAAAAAAAAAAAAAAAAAAAAAAAAAAAAWbayUPf7VPwAAAAAAAAAAAAAAAAAAAAAAAAAAAAAAAAAAAAAAAAAAFm2slD3+1T8AAAAAAAAAAAAAAAAAAAAAAAAAAAAAAAAAAAAAAAAAABZtrJQ9/tU/Fm2slD3+5T8AAAAAAAAAAAAAAAAAAAAAAAAAAAAAAAAAAAAAAAAAAAAAAAAAAAAAFm2slD3+1T8AAAAAAAAAAAAAAAAAAAAAFm2slD3+1T8AAAAAAAAAAAAAAAAAAAAAAAAAAAAAAAAAAAAAAAAAAAAAAAAAAAAAAAAAAAAAAAAAAAAAAAAAAAAAAAAAAAAAAAAAAAAAAAAWbayUPf7VPwAAAAAAAAAAAAAAAAAAAAAAAAAAAAAAABZtrJQ9/uU/XIjX+cx9C0AWbayUPf7lPwAAAAAAAAAAAAAAAAAAAAAAAAAAAAAAABZtrJQ9/tU/AAAAAAAAAAAAAAAAAAAAAAAAAAAAAAAAAAAAAAAAAAAAAAAAAAAAAAAAAAAAAAAAAAAAAAAAAAAAAAAAAAAAAAAAAAAAAAAAAAAAAAAAAAAAAAAAAAAAAAAAAAAAAAAAAAAAAAAAAAAAAAAAAAAAAAAAAAAAAAAAAAAAAAAAAAAAAAAAAAAAAAAAAAAAAAAAFm2slD3+1T8AAAAAAAAAAAAAAAAAAAAAAAAAAAAAAAAAAAAAAAAAAAAAAAAAAAAAAAAAAAAAAAAAAAAAAAAAAAAAAAAAAAAAAAAAAAAAAAAAAAAAAAAAAAAAAAAAAAAAFm2slD3+1T8AAAAAAAAAAAAAAAAAAAAAAAAAAAAAAAAAAAAAAAAAAAAAAAAAAAAAFm2slD3+1T8WbayUPf7VPwAAAAAAAAAAAAAAAAAAAAAAAAAAAAAAAAAAAAAAAAAAAAAAAAAAAAAAAAAAAAAAAAAAAAAAAAAAAAAAAAAAAAAAAAAAAAAAAAAAAAAAAAAAAAAAAAAAAAAAAAAAAAAAAAAAAAAAAAAAAAAAAAAAAAAAAAAAAAAAAAAAAAAAAAAAAAAAAAAAAADQUYEvrn7wPwAAAAAAAAAAFm2slD3+5T8WbayUPf7VPwAAAAAAAAAA0FGBL65+8D8WbayUPf7VPxZtrJQ9/tU/AAAAAAAAAAAWbayUPf7VPxZtrJQ9/tU/Fm2slD3+5T8AAAAAAAAAAAAAAAAAAAAAAAAAAAAAAAAAAAAAAAAAABZtrJQ9/tU/Fm2slD3+1T8AAAAAAAAAAAAAAAAAAAAAAAAAAAAAAAAAAAAAAAAAAAAAAAAAAAAAAAAAAAAAAAAWbayUPf7VPxZtrJQ9/tU/AAAAAAAAAAAWbayUPf7VPwAAAAAAAAAAAAAAAAAAAAAAAAAAAAAAAAAAAAAAAAAAAAAAAAAAAAAAAAAAAAAAAAAAAAAAAAAAAAAAAAAAAAAAAAAAAAAAAAAAAAAAAAAAAAAAAAAAAAAWbayUPf7VPxZtrJQ9/tU/Fm2slD3+1T8AAAAAAAAAAAAAAAAAAAAAAAAAAAAAAAAAAAAAAAAAAAAAAAAAAAAAAAAAAAAAAAAWbayUPf7VPwAAAAAAAAAAAAAAAAAAAAAAAAAAAAAAAAAAAAAAAAAAAAAAAAAAAAAAAAAAAAAAABZtrJQ9/tU/AAAAAAAAAAAWbayUPf7VPwAAAAAAAAAAAAAAAAAAAAAWbayUPf71PwAAAAAAAAAAAAAAAAAAAAAAAAAAAAAAAAAAAAAAAAAAAAAAAAAAAAAAAAAAAAAAAAAAAAAAAAAAAAAAAAAAAAAAAAAAAAAAAAAAAAAAAAAAAAAAAAAAAAAWbayUPf7VPwAAAAAAAAAAAAAAAAAAAAAAAAAAAAAAAAAAAAAAAAAAAAAAAAAAAAAAAAAAAAAAABZtrJQ9/tU/AAAAAAAAAAAAAAAAAAAAAAAAAAAAAAAAAAAAAAAAAAAAAAAAAAAAAAAAAAAAAAAAFm2slD3+1T8AAAAAAAAAAAAAAAAAAAAAFm2slD3+1T8AAAAAAAAAAAAAAAAAAAAAAAAAAAAAAAAAAAAAAAAAAAAAAAAAAAAAAAAAAAAAAAAAAAAAAAAAAAAAAAAAAAAAAAAAAAAAAAAAAAAAAAAAAAAAAAAAAAAAAAAAAAAAAAAAAAAAAAAAAAAAAAAAAAAAAAAAAAAAAAAAAAAAAAAAABZtrJQ9/tU/AAAAAAAAAAAAAAAAAAAAABZtrJQ9/tU/AAAAAAAAAAAAAAAAAAAAAAAAAAAAAAAAAAAAAAAAAAAAAAAAAAAAAAAAAAAAAAAAAAAAAAAAAAAAAAAAAAAAAAAAAAAAAAAAAAAAAAAAAAAWbayUPf7lP9BRgS+ufgBAFm2slD3+1T8AAAAAAAAAAAAAAAAAAAAAFm2slD3+5T8AAAAAAAAAABZtrJQ9/tU/AAAAAAAAAAAAAAAAAAAAAAAAAAAAAAAAAAAAAAAAAAAWbayUPf7VPwAAAAAAAAAAAAAAAAAAAAAWbayUPf7VPxZtrJQ9/tU/AAAAAAAAAAAAAAAAAAAAAAAAAAAAAAAAAAAAAAAAAAAAAAAAAAAAAAAAAAAAAAAAAAAAAAAAAAAAAAAAAAAAAAAAAAAAAAAAAAAAAAAAAAAAAAAAAAAAAAAAAAAAAAAAAAAAAAAAAAAAAAAAAAAAAAAAAAAAAAAAAAAAAAAAAAAAAAAAAAAAAAAAAAAAAAAAAAAAAAAAAAAAAAAAAAAAAAAAAAAAAAAAAAAAAAAAAAAAAAAAAAAAAAAAAAAAAAAAAAAAAAAAAAAAAAAAAAAAABZtrJQ9/tU/AAAAAAAAAAAAAAAAAAAAAAAAAAAAAAAAAAAAAAAAAAAAAAAAAAAAAAAAAAAAAAAAAAAAAAAAAAAAAAAAAAAAAAAAAAAAAAAAAAAAAAAAAAAAAAAAAAAAABZtrJQ9/tU/AAAAAAAAAAAAAAAAAAAAAAAAAAAAAAAAAAAAAAAAAAAWbayUPf7VP1yI1/nMffs/AAAAAAAAAAAAAAAAAAAAAAAAAAAAAAAAAAAAAAAAAAAAAAAAAAAAAAAAAAAAAAAAFm2slD3+1T8AAAAAAAAAAAAAAAAAAAAAAAAAAAAAAAAAAAAAAAAAAAAAAAAAAAAAAAAAAAAAAAAAAAAAAAAAABZtrJQ9/tU/AAAAAAAAAAAAAAAAAAAAAAAAAAAAAAAAAAAAAAAAAAAAAAAAAAAAAAAAAAAAAAAAAAAAAAAAAAAAAAAAAAAAAAAAAAAAAAAAAAAAAAAAAAAAAAAAAAAAAAAAAAAAAAAAAAAAAAAAAAAAAAAAAAAAAAAAAAAAAAAAAAAAAAAAAAAWbayUPf7VPwAAAAAAAAAAFm2slD3+1T8AAAAAAAAAAAAAAAAAAAAAAAAAAAAAAAAAAAAAAAAAAAAAAAAAAAAAAAAAAAAAAAAWbayUPf7VPwAAAAAAAAAAAAAAAAAAAAAAAAAAAAAAAAAAAAAAAAAAAAAAAAAAAAAAAAAAAAAAAAAAAAAAAAAAAAAAAAAAAAAAAAAAAAAAABZtrJQ9/tU/AAAAAAAAAAAAAAAAAAAAAAAAAAAAAAAAAAAAAAAAAAAAAAAAAAAAAAAAAAAAAAAAAAAAAAAAAAAAAAAAAAAAAAAAAAAAAAAAFm2slD3+5T8AAAAAAAAAAAAAAAAAAAAAAAAAAAAAAAAAAAAAAAAAAAAAAAAAAAAAAAAAAAAAAAAAAAAAAAAAABZtrJQ9/tU/AAAAAAAAAAAAAAAAAAAAAAAAAAAAAAAAAAAAAAAAAAAAAAAAAAAAAAAAAAAAAAAAAAAAAAAAAAAAAAAAAAAAAAAAAAAAAAAAFm2slD3+1T8AAAAAAAAAAAAAAAAAAAAAAAAAAAAAAAAAAAAAAAAAAAAAAAAAAAAAAAAAAAAAAAAAAAAAAAAAAAAAAAAAAAAAAAAAAAAAAAAAAAAAAAAAAAAAAAAAAAAAAAAAAAAAAAAAAAAAAAAAAAAAAAAAAAAAAAAAAAAAAAAWbayUPf7VPwAAAAAAAAAAAAAAAAAAAAAAAAAAAAAAAAAAAAAAAAAAAAAAAAAAAAAAAAAAAAAAAAAAAAAAAAAAAAAAAAAAAAAAAAAAAAAAABZtrJQ9/tU/Fm2slD3+1T8AAAAAAAAAAAAAAAAAAAAAAAAAAAAAAAAAAAAAAAAAAAAAAAAAAAAAAAAAAAAAAAAAAAAAAAAAAAAAAAAAAAAAAAAAAAAAAAAWbayUPf7VPwAAAAAAAAAAAAAAAAAAAAAAAAAAAAAAAAAAAAAAAAAAFm2slD3+BUAAAAAAAAAAAAAAAAAAAAAAAAAAAAAAAAAAAAAAAAAAAAAAAAAAAAAAAAAAAAAAAAAAAAAAAAAAAAAAAAAAAAAAAAAAAAAAAAAAAAAAAAAAAAAAAAAAAAAAAAAAAAAAAAAAAAAAAAAAAAAAAAAAAAAAAAAAAAAAAAAAAAAAAAAAAAAAAAAAAAAAAAAAAAAAAAAAAAAAAAAAAAAAAAAAAAAAAAAAAAAAAAAAAAAAAAAAAAAAAAAAAAAAAAAAAAAAAAAAAAAAAAAAAAAAAAAAAAAAAAAAAAAAAAAAAAAAAAAAAAAAAAAAAAAAAAAAAAAAAAAAAAAAAAAAAAAAAAAAAAAAAAAAAAAAAAAAAAAAAAAAAAAAAAAAAAAAAAAAAAAAAAAAAAAAAAAAAAAAAAAAAAAAFm2slD3+1T8AAAAAAAAAAAAAAAAAAAAAAAAAAAAAAAAAAAAAAAAAAAAAAAAAAAAAAAAAAAAAAAAAAAAAAAAAAAAAAAAAAAAAFm2slD3+1T8AAAAAAAAAAAAAAAAAAAAAAAAAAAAAAAAAAAAAAAAAAAAAAAAAAAAAAAAAAAAAAAAAAAAAAAAAAAAAAAAAAAAAAAAAAAAAAAAAAAAAAAAAAAAAAAAAAAAAAAAAAAAAAAAWbayUPf7VPwAAAAAAAAAAAAAAAAAAAAAAAAAAAAAAABZtrJQ9/tU/Fm2slD3+1T8AAAAAAAAAAAAAAAAAAAAAFm2slD3+1T8AAAAAAAAAAAAAAAAAAAAAAAAAAAAAAAAAAAAAAAAAAAAAAAAAAAAAAAAAAAAAAAAAAAAAAAAAAAAAAAAAAAAAAAAAAAAAAAAAAAAAAAAAAAAAAAAAAAAAFm2slD3+1T8AAAAAAAAAAAAAAAAAAAAAAAAAAAAAAAAAAAAAAAAAAAAAAAAAAAAAAAAAAAAAAAAAAAAAAAAAABZtrJQ9/tU/AAAAAAAAAAAAAAAAAAAAAAAAAAAAAAAAAAAAAAAAAAAAAAAAAAAAABZtrJQ9/tU/AAAAAAAAAAAAAAAAAAAAAAAAAAAAAAAAAAAAAAAAAAAAAAAAAAAAABZtrJQ9/tU/AAAAAAAAAAAAAAAAAAAAAAAAAAAAAAAAAAAAAAAAAAAAAAAAAAAAAAAAAAAAAAAAFm2slD3+1T8AAAAAAAAAAAAAAAAAAAAAAAAAAAAAAAAAAAAAAAAAAAAAAAAAAAAAAAAAAAAAAAAAAAAAAAAAAAAAAAAAAAAAAAAAAAAAAAAAAAAAAAAAAAAAAAAAAAAAAAAAAAAAAADQUYEvrn4AQAAAAAAAAAAAAAAAAAAAAAAAAAAAAAAAAAAAAAAAAAAAAAAAAAAAAAAAAAAAAAAAAAAAAAAAAAAAAAAAAAAAAAAWbayUPf7VPwAAAAAAAAAAAAAAAAAAAAAAAAAAAAAAAAAAAAAAAAAAAAAAAAAAAAAAAAAAAAAAAAAAAAAAAAAAAAAAAAAAAAAAAAAAAAAAAAAAAAAAAAAAAAAAAAAAAAAAAAAAAAAAAAAAAAAAAAAAAAAAAAAAAAAAAAAAAAAAABZtrJQ9/tU/AAAAAAAAAAAAAAAAAAAAAAAAAAAAAAAAAAAAAAAAAAAAAAAAAAAAABZtrJQ9/tU/AAAAAAAAAAAAAAAAAAAAAAAAAAAAAAAAAAAAAAAAAAAAAAAAAAAAAAAAAAAAAAAAAAAAAAAAAAAAAAAAAAAAAAAAAAAAAAAAAAAAAAAAAAAAAAAAAAAAAAAAAAAAAAAAAAAAAAAAAAAAAAAAAAAAAAAAAAAAAAAAAAAAAAAAAAAAAAAAAAAAAAAAAAAAAAAAAAAAAAAAAAAAAAAAAAAAAAAAAAAAAAAAAAAAAAAAAAAAAAAAAAAAABZtrJQ9/tU/AAAAAAAAAAAAAAAAAAAAAAAAAAAAAAAAAAAAAAAAAAAAAAAAAAAAABZtrJQ9/uU/Fm2slD3+5T8AAAAAAAAAAAAAAAAAAAAAAAAAAAAAAAAAAAAAAAAAABZtrJQ9/tU/AAAAAAAAAAAAAAAAAAAAAAAAAAAAAAAAAAAAAAAAAAAAAAAAAAAAAAAAAAAAAAAAFm2slD3+1T8AAAAAAAAAAAAAAAAAAAAAAAAAAAAAAAAAAAAAAAAAABZtrJQ9/tU/AAAAAAAAAAAAAAAAAAAAAAAAAAAAAAAAAAAAAAAAAAAAAAAAAAAAAAAAAAAAAAAAAAAAAAAAAAAAAAAAAAAAAAAAAAAAAAAAFm2slD3+1T8AAAAAAAAAAAAAAAAAAAAAAAAAAAAAAAAAAAAAAAAAAAAAAAAAAAAAAAAAAAAAAAAAAAAAAAAAAAAAAAAAAAAAAAAAAAAAAAAAAAAAAAAAAAAAAAAAAAAAAAAAAAAAAAAAAAAAAAAAAAAAAAAAAAAAAAAAAAAAAAAAAAAAAAAAAAAAAAAAAAAAAAAAAAAAAAAAAAAAAAAAAAAAAAAAAAAAAAAAAAAAAAAAAAAAAAAAAAAAAAAAAAAAAAAAAAAAAAAAAAAAAAAAAAAAAAAAAAAAAAAAAAAAAAAAAAAAAAAAAAAAAAAAAAAAAAAAAAAAAAAWbayUPf7lPxZtrJQ9/uU/AAAAAAAAAAAAAAAAAAAAAAAAAAAAAAAAAAAAAAAAAAAAAAAAAAAAABZtrJQ9/tU/AAAAAAAAAAAAAAAAAAAAAAAAAAAAAAAAAAAAAAAAAAAWbayUPf7VPwAAAAAAAAAAAAAAAAAAAAAAAAAAAAAAAAAAAAAAAAAAAAAAAAAAAAAAAAAAAAAAAAAAAAAAAAAAAAAAAAAAAAAAAAAAAAAAAAAAAAAAAAAAAAAAAAAAAAAAAAAAAAAAAAAAAAAAAAAAAAAAAAAAAAAAAAAAAAAAAAAAAAAAAAAAAAAAAAAAAAAAAAAAAAAAAAAAAAAAAAAAAAAAAAAAAAAAAAAAAAAAAAAAAAAAAAAAAAAAAAAAAAAAAAAAAAAAAAAAAAAAAAAAAAAAAAAAAAAAAAAAAAAAAAAAAAAAAAAAAAAAAAAAAAAAAAAAAAAAAAAAAAAAAAAAAAAAAAAAAAAAAAAAAAAAABZtrJQ9/tU/AAAAAAAAAAAAAAAAAAAAAAAAAAAAAAAAAAAAAAAAAAAAAAAAAAAAAAAAAAAAAAAAFm2slD3+1T8AAAAAAAAAAAAAAAAAAAAAAAAAAAAAAAAAAAAAAAAAAAAAAAAAAAAAAAAAAAAAAAAAAAAAAAAAAAAAAAAAAAAAAAAAAAAAAAAWbayUPf7VPwAAAAAAAAAAAAAAAAAAAAAAAAAAAAAAABZtrJQ9/tU/AAAAAAAAAAAAAAAAAAAAAAAAAAAAAAAAFm2slD3+1T8AAAAAAAAAAAAAAAAAAAAAAAAAAAAAAAAAAAAAAAAAAAAAAAAAAAAAAAAAAAAAAAAAAAAAAAAAAAAAAAAAAAAAAAAAAAAAAAAAAAAAAAAAAAAAAAAAAAAAAAAAAAAAAAAAAAAAAAAAAAAAAAAAAAAAAAAAAAAAAAAAAAAAAAAAAAAAAAAAAAAAAAAAAAAAAAAAAAAAAAAAAAAAAAAAAAAAAAAAAAAAAAAAAAAAAAAAAAAAAAAAAAAAAAAAAAAAAAAAAAAAAAAAAAAAAAAAAAAAAAAAAAAAAAAAAAAAAAAAAAAAAAAAAAAAAAAAAAAAAAAAAAAAAAAAAAAAAAAAAAAAAAAAAAAAAAAAAAAAAAAAAAAAAAAAAAAAAAAAAAAAAAAAAAAAAAAAAAAAAAAAAAAAAAAAAAAAAAAAAAAAAAAAAAAAAAAAAAAAAAAAAAAAAAAAAAAAAAAAAAAAAAAAAAAAAAAAAAAAAAAAAAAAAAAAAAAAAAAAAAAAAAAAAAAAAAAAAAAAAAAAAAAAAAAAAAAAFm2slD3+5T8AAAAAAAAAAAAAAAAAAAAAAAAAAAAAAAAAAAAAAAAAAAAAAAAAAAAAAAAAAAAAAAAAAAAAAAAAAAAAAAAAAAAAAAAAAAAAAAAAAAAAAAAAAAAAAAAAAAAAAAAAAAAAAAAAAAAAAAAAAAAAAAAAAAAAAAAAAAAAAAAAAAAAAAAAAAAAAAAAAAAAAAAAAAAAAAAAAAAAAAAAAAAAAAAAAAAAAAAAAAAAAAAAAAAAAAAAAAAAAAAAAAAAAAAAAAAAAAAAAAAAAAAAAAAAAAAAAAAAAAAAAAAAAAAAAAAAAAAAAAAAAAAAAAAAAAAAAAAAAAAAAAAAAAAAAAAAAAAAAAAAAAAAAAAAAAAAAAAAAAAAAAAAAAAAAAAAAAAAAAAAAAAAAAAAAAAAAAAAAAAAAAAAAAAAAAAAAAAAAAAAAAAAAAAAAAAAAAAAAAAAAAAAAAAAAAAAAAAAAAAAAAAAAAAAAAAAAAAAAAAAAAAAAAAAAAAAAAAAAAAAAAAAAAAAAAAAAAAAAAAAABZtrJQ9/tU/AAAAAAAAAAAAAAAAAAAAAAAAAAAAAAAAAAAAAAAAAAAAAAAAAAAAAAAAAAAAAAAAAAAAAAAAAAAAAAAAAAAAAAAAAAAAAAAAAAAAAAAAAAAWbayUPf7lPwAAAAAAAAAAAAAAAAAAAAAAAAAAAAAAAAAAAAAAAAAAAAAAAAAAAAAAAAAAAAAAABZtrJQ9/tU/AAAAAAAAAAAAAAAAAAAAAAAAAAAAAAAAAAAAAAAAAAAWbayUPf7VPwAAAAAAAAAAAAAAAAAAAAAAAAAAAAAAAAAAAAAAAAAAAAAAAAAAAAAAAAAAAAAAAAAAAAAAAAAAAAAAAAAAAAAAAAAAAAAAAAAAAAAAAAAAAAAAAAAAAAAAAAAAAAAAAAAAAAAAAAAAAAAAAAAAAAAAAAAAAAAAAAAAAAAAAAAAAAAAAAAAAAAAAAAAAAAAAAAAAAAAAAAAAAAAAAAAAAAAAAAAAAAAAAAAAAAAAAAAAAAAAAAAAAAAAAAAAAAAAAAAAAAAAAAAAAAAAAAAAAAAAAAAAAAAAAAAAAAAAAAAAAAAAAAAAAAAAAAAAAAAAAAAAAAAAAAAAAAAAAAAAAAAAAAAAAAAAAAAAAAAAAAAAAAAAAAAAAAAAAAAAAAAAAAAAAAAAAAAAAAAAAAAAAAAAAAAAAAAAAAAAAAAAAAAAAAAAAAAAAAAAAAAAAAAAAAAAAAAAAAAAAAAAAAAAAAAAAAAAAAAAAAAAAAAAAAAAAAAAAAAAAAWbayUPf7VPwAAAAAAAAAAAAAAAAAAAAAAAAAAAAAAAAAAAAAAAAAAAAAAAAAAAAAAAAAAAAAAAAAAAAAAAAAAAAAAAAAAAAAAAAAAAAAAAAAAAAAAAAAAAAAAAAAAAAAAAAAAAAAAAAAAAAAAAAAAAAAAAAAAAAAAAAAAAAAAAAAAAAAAAAAAAAAAAAAAAAAAAAAAAAAAAAAAAAAAAAAAAAAAAAAAAAAAAAAAAAAAAAAAAAAAAAAAAAAAAAAAAAAWbayUPf7VPwAAAAAAAAAAAAAAAAAAAAAAAAAAAAAAAAAAAAAAAAAAAAAAAAAAAAAAAAAAAAAAAAAAAAAAAAAAAAAAAAAAAAAAAAAAAAAAAAAAAAAAAAAAAAAAAAAAAAAAAAAAAAAAAAAAAAAAAAAAAAAAAAAAAAAAAAAAAAAAAAAAAAAAAAAAAAAAAAAAAAAAAAAAAAAAAAAAAAAAAAAAAAAAAAAAAAAAAAAAAAAAAAAAAAAAAAAAAAAAAAAAAAAAAAAAAAAAAAAAAAAAAAAAAAAAAAAAAAAAAAAAAAAAAAAAAAAAAAAAAAAAAAAAAAAWbayUPf7VPwAAAAAAAAAAAAAAAAAAAAAAAAAAAAAAAAAAAAAAAAAAFm2slD3+1T8AAAAAAAAAAAAAAAAAAAAAAAAAAAAAAAAAAAAAAAAAAAAAAAAAAAAAAAAAAAAAAAAWbayUPf7VPwAAAAAAAAAAAAAAAAAAAAAWbayUPf7VPwAAAAAAAAAAAAAAAAAAAAAAAAAAAAAAAAAAAAAAAAAAAAAAAAAAAAAAAAAAAAAAAAAAAAAAAAAAAAAAAAAAAAAAAAAAAAAAAAAAAAAAAAAAAAAAAAAAAAAAAAAAAAAAAAAAAAAAAAAAAAAAAAAAAAAAAAAAAAAAAAAAAAAAAAAAAAAAAAAAAAAAAAAAAAAAAAAAAAAAAAAAAAAAAAAAAAAAAAAAAAAAAAAAAAAAAAAAAAAAAAAAAAAAAAAAAAAAAAAAAAAAAAAAAAAAAAAAAAAAAAAAAAAAAAAAAAAAAAAAAAAAAAAAAAAWbayUPf7VPwAAAAAAAAAAAAAAAAAAAAAAAAAAAAAAAAAAAAAAAAAAAAAAAAAAAAAAAAAAAAAAAAAAAAAAAAAAAAAAAAAAAAAAAAAAAAAAAAAAAAAAAAAAAAAAAAAAAAAAAAAAAAAAAAAAAAAAAAAAAAAAAAAAAAAAAAAAAAAAAAAAAAAAAAAAAAAAAAAAAAAAAAAAAAAAAAAAAAAAAAAAAAAAAAAAAAAAAAAAAAAAAFyI1/nMffs/AAAAAAAAAAAAAAAAAAAAAAAAAAAAAAAAAAAAAAAAAAAAAAAAAAAAAAAAAAAAAAAAAAAAAAAAAAAAAAAAAAAAAAAAAAAAAAAAAAAAAAAAAAAAAAAAAAAAAAAAAAAAAAAAAAAAAAAAAAAAAAAAAAAAAAAAAAAAAAAAAAAAAAAAAAAAAAAAAAAAAAAAAAAAAAAAAAAAAAAAAAAAAAAAAAAAAAAAAAAAAAAAAAAAAAAAAAAAAAAAAAAAAAAAAAAAAAAAAAAAAAAAAAAAAAAAAAAAAAAAAAAAAAAAAAAAAAAAAAAAAAAAAAAAAAAAAAAAAAAAFm2slD3+1T8AAAAAAAAAAAAAAAAAAAAAAAAAAAAAAAAAAAAAAAAAABZtrJQ9/tU/AAAAAAAAAAAAAAAAAAAAAAAAAAAAAAAAAAAAAAAAAAAAAAAAAAAAAAAAAAAAAAAAAAAAAAAAAAAAAAAAAAAAAAAAAAAAAAAAAAAAAAAAAAAAAAAAAAAAAAAAAAAAAAAAAAAAAAAAAAAAAAAAAAAAAAAAAAAAAAAAAAAAAAAAAAAWbayUPf7VPwAAAAAAAAAAAAAAAAAAAAAAAAAAAAAAAAAAAAAAAAAAAAAAAAAAAAAAAAAAAAAAAAAAAAAAAAAAFm2slD3+1T8AAAAAAAAAAAAAAAAAAAAAAAAAAAAAAAAWbayUPf7VPwAAAAAAAAAAAAAAAAAAAAAAAAAAAAAAAAAAAAAAAAAAAAAAAAAAAAAAAAAAAAAAAAAAAAAAAAAAAAAAAAAAAAAAAAAAAAAAAAAAAAAAAAAAAAAAAAAAAAAAAAAAAAAAAAAAAAAAAAAAAAAAAAAAAAAAAAAAAAAAAAAAAAAAAAAAAAAAAAAAAAAAAAAAAAAAAAAAAAAAAAAAAAAAAAAAAAAAAAAAAAAAAAAAAAAAAAAAAAAAAAAAAAAAAAAAAAAAAAAAAAAAAAAAAAAAAAAAAAAAAAAAAAAAAAAAAAAAAAAAAAAAAAAAAAAAAAAAAAAAAAAAAAAAAAAAAAAAAAAAAAAAAAAAAAAAAAAAAAAAAAAAAAAAAAAAAAAAAAAAAAAAAAAAAAAAAAAAAAAAAAAAAAAAAAAAAAAAAAAAAAAAAAAAAAAAAAAAAAAAAAAAAAAAAAAAAAAAAAAAAAAAAAAAAAAAAAAAAAAAAAAAAAAAAAAAAAAAAAAAAAAAAAAAAAAAAAAAAAAAAAAAAAAAAAAAAAAAAAAAAAAAAAAAAAAAAAAAAAAAAAAAAAAAAAAAAAAAAAAAAAAAAAAAFm2slD3+5T8=",
          "dtype": "f8",
          "shape": "40, 121"
         }
        }
       ],
       "layout": {
        "template": {
         "data": {
          "bar": [
           {
            "error_x": {
             "color": "#2a3f5f"
            },
            "error_y": {
             "color": "#2a3f5f"
            },
            "marker": {
             "line": {
              "color": "#E5ECF6",
              "width": 0.5
             },
             "pattern": {
              "fillmode": "overlay",
              "size": 10,
              "solidity": 0.2
             }
            },
            "type": "bar"
           }
          ],
          "barpolar": [
           {
            "marker": {
             "line": {
              "color": "#E5ECF6",
              "width": 0.5
             },
             "pattern": {
              "fillmode": "overlay",
              "size": 10,
              "solidity": 0.2
             }
            },
            "type": "barpolar"
           }
          ],
          "carpet": [
           {
            "aaxis": {
             "endlinecolor": "#2a3f5f",
             "gridcolor": "white",
             "linecolor": "white",
             "minorgridcolor": "white",
             "startlinecolor": "#2a3f5f"
            },
            "baxis": {
             "endlinecolor": "#2a3f5f",
             "gridcolor": "white",
             "linecolor": "white",
             "minorgridcolor": "white",
             "startlinecolor": "#2a3f5f"
            },
            "type": "carpet"
           }
          ],
          "choropleth": [
           {
            "colorbar": {
             "outlinewidth": 0,
             "ticks": ""
            },
            "type": "choropleth"
           }
          ],
          "contour": [
           {
            "colorbar": {
             "outlinewidth": 0,
             "ticks": ""
            },
            "colorscale": [
             [
              0,
              "#0d0887"
             ],
             [
              0.1111111111111111,
              "#46039f"
             ],
             [
              0.2222222222222222,
              "#7201a8"
             ],
             [
              0.3333333333333333,
              "#9c179e"
             ],
             [
              0.4444444444444444,
              "#bd3786"
             ],
             [
              0.5555555555555556,
              "#d8576b"
             ],
             [
              0.6666666666666666,
              "#ed7953"
             ],
             [
              0.7777777777777778,
              "#fb9f3a"
             ],
             [
              0.8888888888888888,
              "#fdca26"
             ],
             [
              1,
              "#f0f921"
             ]
            ],
            "type": "contour"
           }
          ],
          "contourcarpet": [
           {
            "colorbar": {
             "outlinewidth": 0,
             "ticks": ""
            },
            "type": "contourcarpet"
           }
          ],
          "heatmap": [
           {
            "colorbar": {
             "outlinewidth": 0,
             "ticks": ""
            },
            "colorscale": [
             [
              0,
              "#0d0887"
             ],
             [
              0.1111111111111111,
              "#46039f"
             ],
             [
              0.2222222222222222,
              "#7201a8"
             ],
             [
              0.3333333333333333,
              "#9c179e"
             ],
             [
              0.4444444444444444,
              "#bd3786"
             ],
             [
              0.5555555555555556,
              "#d8576b"
             ],
             [
              0.6666666666666666,
              "#ed7953"
             ],
             [
              0.7777777777777778,
              "#fb9f3a"
             ],
             [
              0.8888888888888888,
              "#fdca26"
             ],
             [
              1,
              "#f0f921"
             ]
            ],
            "type": "heatmap"
           }
          ],
          "histogram": [
           {
            "marker": {
             "pattern": {
              "fillmode": "overlay",
              "size": 10,
              "solidity": 0.2
             }
            },
            "type": "histogram"
           }
          ],
          "histogram2d": [
           {
            "colorbar": {
             "outlinewidth": 0,
             "ticks": ""
            },
            "colorscale": [
             [
              0,
              "#0d0887"
             ],
             [
              0.1111111111111111,
              "#46039f"
             ],
             [
              0.2222222222222222,
              "#7201a8"
             ],
             [
              0.3333333333333333,
              "#9c179e"
             ],
             [
              0.4444444444444444,
              "#bd3786"
             ],
             [
              0.5555555555555556,
              "#d8576b"
             ],
             [
              0.6666666666666666,
              "#ed7953"
             ],
             [
              0.7777777777777778,
              "#fb9f3a"
             ],
             [
              0.8888888888888888,
              "#fdca26"
             ],
             [
              1,
              "#f0f921"
             ]
            ],
            "type": "histogram2d"
           }
          ],
          "histogram2dcontour": [
           {
            "colorbar": {
             "outlinewidth": 0,
             "ticks": ""
            },
            "colorscale": [
             [
              0,
              "#0d0887"
             ],
             [
              0.1111111111111111,
              "#46039f"
             ],
             [
              0.2222222222222222,
              "#7201a8"
             ],
             [
              0.3333333333333333,
              "#9c179e"
             ],
             [
              0.4444444444444444,
              "#bd3786"
             ],
             [
              0.5555555555555556,
              "#d8576b"
             ],
             [
              0.6666666666666666,
              "#ed7953"
             ],
             [
              0.7777777777777778,
              "#fb9f3a"
             ],
             [
              0.8888888888888888,
              "#fdca26"
             ],
             [
              1,
              "#f0f921"
             ]
            ],
            "type": "histogram2dcontour"
           }
          ],
          "mesh3d": [
           {
            "colorbar": {
             "outlinewidth": 0,
             "ticks": ""
            },
            "type": "mesh3d"
           }
          ],
          "parcoords": [
           {
            "line": {
             "colorbar": {
              "outlinewidth": 0,
              "ticks": ""
             }
            },
            "type": "parcoords"
           }
          ],
          "pie": [
           {
            "automargin": true,
            "type": "pie"
           }
          ],
          "scatter": [
           {
            "fillpattern": {
             "fillmode": "overlay",
             "size": 10,
             "solidity": 0.2
            },
            "type": "scatter"
           }
          ],
          "scatter3d": [
           {
            "line": {
             "colorbar": {
              "outlinewidth": 0,
              "ticks": ""
             }
            },
            "marker": {
             "colorbar": {
              "outlinewidth": 0,
              "ticks": ""
             }
            },
            "type": "scatter3d"
           }
          ],
          "scattercarpet": [
           {
            "marker": {
             "colorbar": {
              "outlinewidth": 0,
              "ticks": ""
             }
            },
            "type": "scattercarpet"
           }
          ],
          "scattergeo": [
           {
            "marker": {
             "colorbar": {
              "outlinewidth": 0,
              "ticks": ""
             }
            },
            "type": "scattergeo"
           }
          ],
          "scattergl": [
           {
            "marker": {
             "colorbar": {
              "outlinewidth": 0,
              "ticks": ""
             }
            },
            "type": "scattergl"
           }
          ],
          "scattermap": [
           {
            "marker": {
             "colorbar": {
              "outlinewidth": 0,
              "ticks": ""
             }
            },
            "type": "scattermap"
           }
          ],
          "scattermapbox": [
           {
            "marker": {
             "colorbar": {
              "outlinewidth": 0,
              "ticks": ""
             }
            },
            "type": "scattermapbox"
           }
          ],
          "scatterpolar": [
           {
            "marker": {
             "colorbar": {
              "outlinewidth": 0,
              "ticks": ""
             }
            },
            "type": "scatterpolar"
           }
          ],
          "scatterpolargl": [
           {
            "marker": {
             "colorbar": {
              "outlinewidth": 0,
              "ticks": ""
             }
            },
            "type": "scatterpolargl"
           }
          ],
          "scatterternary": [
           {
            "marker": {
             "colorbar": {
              "outlinewidth": 0,
              "ticks": ""
             }
            },
            "type": "scatterternary"
           }
          ],
          "surface": [
           {
            "colorbar": {
             "outlinewidth": 0,
             "ticks": ""
            },
            "colorscale": [
             [
              0,
              "#0d0887"
             ],
             [
              0.1111111111111111,
              "#46039f"
             ],
             [
              0.2222222222222222,
              "#7201a8"
             ],
             [
              0.3333333333333333,
              "#9c179e"
             ],
             [
              0.4444444444444444,
              "#bd3786"
             ],
             [
              0.5555555555555556,
              "#d8576b"
             ],
             [
              0.6666666666666666,
              "#ed7953"
             ],
             [
              0.7777777777777778,
              "#fb9f3a"
             ],
             [
              0.8888888888888888,
              "#fdca26"
             ],
             [
              1,
              "#f0f921"
             ]
            ],
            "type": "surface"
           }
          ],
          "table": [
           {
            "cells": {
             "fill": {
              "color": "#EBF0F8"
             },
             "line": {
              "color": "white"
             }
            },
            "header": {
             "fill": {
              "color": "#C8D4E3"
             },
             "line": {
              "color": "white"
             }
            },
            "type": "table"
           }
          ]
         },
         "layout": {
          "annotationdefaults": {
           "arrowcolor": "#2a3f5f",
           "arrowhead": 0,
           "arrowwidth": 1
          },
          "autotypenumbers": "strict",
          "coloraxis": {
           "colorbar": {
            "outlinewidth": 0,
            "ticks": ""
           }
          },
          "colorscale": {
           "diverging": [
            [
             0,
             "#8e0152"
            ],
            [
             0.1,
             "#c51b7d"
            ],
            [
             0.2,
             "#de77ae"
            ],
            [
             0.3,
             "#f1b6da"
            ],
            [
             0.4,
             "#fde0ef"
            ],
            [
             0.5,
             "#f7f7f7"
            ],
            [
             0.6,
             "#e6f5d0"
            ],
            [
             0.7,
             "#b8e186"
            ],
            [
             0.8,
             "#7fbc41"
            ],
            [
             0.9,
             "#4d9221"
            ],
            [
             1,
             "#276419"
            ]
           ],
           "sequential": [
            [
             0,
             "#0d0887"
            ],
            [
             0.1111111111111111,
             "#46039f"
            ],
            [
             0.2222222222222222,
             "#7201a8"
            ],
            [
             0.3333333333333333,
             "#9c179e"
            ],
            [
             0.4444444444444444,
             "#bd3786"
            ],
            [
             0.5555555555555556,
             "#d8576b"
            ],
            [
             0.6666666666666666,
             "#ed7953"
            ],
            [
             0.7777777777777778,
             "#fb9f3a"
            ],
            [
             0.8888888888888888,
             "#fdca26"
            ],
            [
             1,
             "#f0f921"
            ]
           ],
           "sequentialminus": [
            [
             0,
             "#0d0887"
            ],
            [
             0.1111111111111111,
             "#46039f"
            ],
            [
             0.2222222222222222,
             "#7201a8"
            ],
            [
             0.3333333333333333,
             "#9c179e"
            ],
            [
             0.4444444444444444,
             "#bd3786"
            ],
            [
             0.5555555555555556,
             "#d8576b"
            ],
            [
             0.6666666666666666,
             "#ed7953"
            ],
            [
             0.7777777777777778,
             "#fb9f3a"
            ],
            [
             0.8888888888888888,
             "#fdca26"
            ],
            [
             1,
             "#f0f921"
            ]
           ]
          },
          "colorway": [
           "#636efa",
           "#EF553B",
           "#00cc96",
           "#ab63fa",
           "#FFA15A",
           "#19d3f3",
           "#FF6692",
           "#B6E880",
           "#FF97FF",
           "#FECB52"
          ],
          "font": {
           "color": "#2a3f5f"
          },
          "geo": {
           "bgcolor": "white",
           "lakecolor": "white",
           "landcolor": "#E5ECF6",
           "showlakes": true,
           "showland": true,
           "subunitcolor": "white"
          },
          "hoverlabel": {
           "align": "left"
          },
          "hovermode": "closest",
          "mapbox": {
           "style": "light"
          },
          "paper_bgcolor": "white",
          "plot_bgcolor": "#E5ECF6",
          "polar": {
           "angularaxis": {
            "gridcolor": "white",
            "linecolor": "white",
            "ticks": ""
           },
           "bgcolor": "#E5ECF6",
           "radialaxis": {
            "gridcolor": "white",
            "linecolor": "white",
            "ticks": ""
           }
          },
          "scene": {
           "xaxis": {
            "backgroundcolor": "#E5ECF6",
            "gridcolor": "white",
            "gridwidth": 2,
            "linecolor": "white",
            "showbackground": true,
            "ticks": "",
            "zerolinecolor": "white"
           },
           "yaxis": {
            "backgroundcolor": "#E5ECF6",
            "gridcolor": "white",
            "gridwidth": 2,
            "linecolor": "white",
            "showbackground": true,
            "ticks": "",
            "zerolinecolor": "white"
           },
           "zaxis": {
            "backgroundcolor": "#E5ECF6",
            "gridcolor": "white",
            "gridwidth": 2,
            "linecolor": "white",
            "showbackground": true,
            "ticks": "",
            "zerolinecolor": "white"
           }
          },
          "shapedefaults": {
           "line": {
            "color": "#2a3f5f"
           }
          },
          "ternary": {
           "aaxis": {
            "gridcolor": "white",
            "linecolor": "white",
            "ticks": ""
           },
           "baxis": {
            "gridcolor": "white",
            "linecolor": "white",
            "ticks": ""
           },
           "bgcolor": "#E5ECF6",
           "caxis": {
            "gridcolor": "white",
            "linecolor": "white",
            "ticks": ""
           }
          },
          "title": {
           "x": 0.05
          },
          "xaxis": {
           "automargin": true,
           "gridcolor": "white",
           "linecolor": "white",
           "ticks": "",
           "title": {
            "standoff": 15
           },
           "zerolinecolor": "white",
           "zerolinewidth": 2
          },
          "yaxis": {
           "automargin": true,
           "gridcolor": "white",
           "linecolor": "white",
           "ticks": "",
           "title": {
            "standoff": 15
           },
           "zerolinecolor": "white",
           "zerolinewidth": 2
          }
         }
        },
        "title": {
         "text": "Frequency of Percentage Price Changes Around EIA WPSR Release On Release Days"
        },
        "xaxis": {
         "ticktext": [
          -60,
          -55,
          -50,
          -45,
          -40,
          -35,
          -30,
          -25,
          -20,
          -15,
          -10,
          -5,
          0,
          5,
          10,
          15,
          20,
          25,
          30,
          35,
          40,
          45,
          50,
          55,
          60
         ],
         "tickvals": [
          -60,
          -55,
          -50,
          -45,
          -40,
          -35,
          -30,
          -25,
          -20,
          -15,
          -10,
          -5,
          0,
          5,
          10,
          15,
          20,
          25,
          30,
          35,
          40,
          45,
          50,
          55,
          60
         ],
         "title": {
          "text": "Time Relative to Release (Minutes)"
         }
        },
        "yaxis": {
         "title": {
          "text": "Percentage Price Change Bins"
         }
        }
       }
      }
     },
     "metadata": {},
     "output_type": "display_data"
    },
    {
     "data": {
      "text/html": [
       "<div>\n",
       "<style scoped>\n",
       "    .dataframe tbody tr th:only-of-type {\n",
       "        vertical-align: middle;\n",
       "    }\n",
       "\n",
       "    .dataframe tbody tr th {\n",
       "        vertical-align: top;\n",
       "    }\n",
       "\n",
       "    .dataframe thead th {\n",
       "        text-align: right;\n",
       "    }\n",
       "</style>\n",
       "<table border=\"1\" class=\"dataframe\">\n",
       "  <thead>\n",
       "    <tr style=\"text-align: right;\">\n",
       "      <th></th>\n",
       "      <th>Date</th>\n",
       "      <th>Time</th>\n",
       "      <th>Open</th>\n",
       "      <th>High</th>\n",
       "      <th>Low</th>\n",
       "      <th>Close</th>\n",
       "      <th>Volume</th>\n",
       "      <th>Datetime</th>\n",
       "      <th>Percent_Change</th>\n",
       "      <th>Release_Datetime</th>\n",
       "      <th>Time_to_Release_Minutes</th>\n",
       "      <th>Time_Delta_Minutes</th>\n",
       "      <th>Price_Change_Bin</th>\n",
       "    </tr>\n",
       "    <tr>\n",
       "      <th>Datetime_CST</th>\n",
       "      <th></th>\n",
       "      <th></th>\n",
       "      <th></th>\n",
       "      <th></th>\n",
       "      <th></th>\n",
       "      <th></th>\n",
       "      <th></th>\n",
       "      <th></th>\n",
       "      <th></th>\n",
       "      <th></th>\n",
       "      <th></th>\n",
       "      <th></th>\n",
       "      <th></th>\n",
       "    </tr>\n",
       "  </thead>\n",
       "  <tbody>\n",
       "    <tr>\n",
       "      <th>2011-03-09 08:30:00-06:00</th>\n",
       "      <td>09/03/2011</td>\n",
       "      <td>08:30:00</td>\n",
       "      <td>105.56</td>\n",
       "      <td>105.56</td>\n",
       "      <td>105.44</td>\n",
       "      <td>105.46</td>\n",
       "      <td>514</td>\n",
       "      <td>2011-03-09 08:30:00</td>\n",
       "      <td>-0.094733</td>\n",
       "      <td>2011-03-09 09:30:00-06:00</td>\n",
       "      <td>-60.0</td>\n",
       "      <td>-60.0</td>\n",
       "      <td>-0.10%</td>\n",
       "    </tr>\n",
       "    <tr>\n",
       "      <th>2011-03-09 08:31:00-06:00</th>\n",
       "      <td>09/03/2011</td>\n",
       "      <td>08:31:00</td>\n",
       "      <td>105.46</td>\n",
       "      <td>105.52</td>\n",
       "      <td>105.45</td>\n",
       "      <td>105.46</td>\n",
       "      <td>323</td>\n",
       "      <td>2011-03-09 08:31:00</td>\n",
       "      <td>0.000000</td>\n",
       "      <td>2011-03-09 09:30:00-06:00</td>\n",
       "      <td>-59.0</td>\n",
       "      <td>-59.0</td>\n",
       "      <td>-0.05%</td>\n",
       "    </tr>\n",
       "    <tr>\n",
       "      <th>2011-03-09 08:32:00-06:00</th>\n",
       "      <td>09/03/2011</td>\n",
       "      <td>08:32:00</td>\n",
       "      <td>105.45</td>\n",
       "      <td>105.47</td>\n",
       "      <td>105.31</td>\n",
       "      <td>105.32</td>\n",
       "      <td>899</td>\n",
       "      <td>2011-03-09 08:32:00</td>\n",
       "      <td>-0.132752</td>\n",
       "      <td>2011-03-09 09:30:00-06:00</td>\n",
       "      <td>-58.0</td>\n",
       "      <td>-58.0</td>\n",
       "      <td>-0.15%</td>\n",
       "    </tr>\n",
       "    <tr>\n",
       "      <th>2011-03-09 08:33:00-06:00</th>\n",
       "      <td>09/03/2011</td>\n",
       "      <td>08:33:00</td>\n",
       "      <td>105.31</td>\n",
       "      <td>105.37</td>\n",
       "      <td>105.25</td>\n",
       "      <td>105.33</td>\n",
       "      <td>716</td>\n",
       "      <td>2011-03-09 08:33:00</td>\n",
       "      <td>0.009495</td>\n",
       "      <td>2011-03-09 09:30:00-06:00</td>\n",
       "      <td>-57.0</td>\n",
       "      <td>-57.0</td>\n",
       "      <td>0.00%</td>\n",
       "    </tr>\n",
       "    <tr>\n",
       "      <th>2011-03-09 08:34:00-06:00</th>\n",
       "      <td>09/03/2011</td>\n",
       "      <td>08:34:00</td>\n",
       "      <td>105.34</td>\n",
       "      <td>105.45</td>\n",
       "      <td>105.31</td>\n",
       "      <td>105.40</td>\n",
       "      <td>660</td>\n",
       "      <td>2011-03-09 08:34:00</td>\n",
       "      <td>0.066458</td>\n",
       "      <td>2011-03-09 09:30:00-06:00</td>\n",
       "      <td>-56.0</td>\n",
       "      <td>-56.0</td>\n",
       "      <td>0.05%</td>\n",
       "    </tr>\n",
       "    <tr>\n",
       "      <th>...</th>\n",
       "      <td>...</td>\n",
       "      <td>...</td>\n",
       "      <td>...</td>\n",
       "      <td>...</td>\n",
       "      <td>...</td>\n",
       "      <td>...</td>\n",
       "      <td>...</td>\n",
       "      <td>...</td>\n",
       "      <td>...</td>\n",
       "      <td>...</td>\n",
       "      <td>...</td>\n",
       "      <td>...</td>\n",
       "      <td>...</td>\n",
       "    </tr>\n",
       "    <tr>\n",
       "      <th>2025-03-05 10:26:00-06:00</th>\n",
       "      <td>05/03/2025</td>\n",
       "      <td>10:26:00</td>\n",
       "      <td>65.42</td>\n",
       "      <td>65.46</td>\n",
       "      <td>65.37</td>\n",
       "      <td>65.38</td>\n",
       "      <td>713</td>\n",
       "      <td>2025-03-05 10:26:00</td>\n",
       "      <td>-0.061143</td>\n",
       "      <td>2025-03-05 09:30:00-06:00</td>\n",
       "      <td>56.0</td>\n",
       "      <td>56.0</td>\n",
       "      <td>-0.10%</td>\n",
       "    </tr>\n",
       "    <tr>\n",
       "      <th>2025-03-05 10:27:00-06:00</th>\n",
       "      <td>05/03/2025</td>\n",
       "      <td>10:27:00</td>\n",
       "      <td>65.37</td>\n",
       "      <td>65.41</td>\n",
       "      <td>65.37</td>\n",
       "      <td>65.39</td>\n",
       "      <td>640</td>\n",
       "      <td>2025-03-05 10:27:00</td>\n",
       "      <td>0.015295</td>\n",
       "      <td>2025-03-05 09:30:00-06:00</td>\n",
       "      <td>57.0</td>\n",
       "      <td>57.0</td>\n",
       "      <td>0.00%</td>\n",
       "    </tr>\n",
       "    <tr>\n",
       "      <th>2025-03-05 10:28:00-06:00</th>\n",
       "      <td>05/03/2025</td>\n",
       "      <td>10:28:00</td>\n",
       "      <td>65.40</td>\n",
       "      <td>65.42</td>\n",
       "      <td>65.33</td>\n",
       "      <td>65.36</td>\n",
       "      <td>796</td>\n",
       "      <td>2025-03-05 10:28:00</td>\n",
       "      <td>-0.045879</td>\n",
       "      <td>2025-03-05 09:30:00-06:00</td>\n",
       "      <td>58.0</td>\n",
       "      <td>58.0</td>\n",
       "      <td>-0.05%</td>\n",
       "    </tr>\n",
       "    <tr>\n",
       "      <th>2025-03-05 10:29:00-06:00</th>\n",
       "      <td>05/03/2025</td>\n",
       "      <td>10:29:00</td>\n",
       "      <td>65.35</td>\n",
       "      <td>65.40</td>\n",
       "      <td>65.35</td>\n",
       "      <td>65.37</td>\n",
       "      <td>658</td>\n",
       "      <td>2025-03-05 10:29:00</td>\n",
       "      <td>0.015300</td>\n",
       "      <td>2025-03-05 09:30:00-06:00</td>\n",
       "      <td>59.0</td>\n",
       "      <td>59.0</td>\n",
       "      <td>0.00%</td>\n",
       "    </tr>\n",
       "    <tr>\n",
       "      <th>2025-03-05 10:30:00-06:00</th>\n",
       "      <td>05/03/2025</td>\n",
       "      <td>10:30:00</td>\n",
       "      <td>65.38</td>\n",
       "      <td>65.45</td>\n",
       "      <td>65.34</td>\n",
       "      <td>65.43</td>\n",
       "      <td>842</td>\n",
       "      <td>2025-03-05 10:30:00</td>\n",
       "      <td>0.091785</td>\n",
       "      <td>2025-03-05 09:30:00-06:00</td>\n",
       "      <td>60.0</td>\n",
       "      <td>60.0</td>\n",
       "      <td>0.05%</td>\n",
       "    </tr>\n",
       "  </tbody>\n",
       "</table>\n",
       "<p>88344 rows × 13 columns</p>\n",
       "</div>"
      ],
      "text/plain": [
       "                                 Date      Time    Open    High     Low  \\\n",
       "Datetime_CST                                                              \n",
       "2011-03-09 08:30:00-06:00  09/03/2011  08:30:00  105.56  105.56  105.44   \n",
       "2011-03-09 08:31:00-06:00  09/03/2011  08:31:00  105.46  105.52  105.45   \n",
       "2011-03-09 08:32:00-06:00  09/03/2011  08:32:00  105.45  105.47  105.31   \n",
       "2011-03-09 08:33:00-06:00  09/03/2011  08:33:00  105.31  105.37  105.25   \n",
       "2011-03-09 08:34:00-06:00  09/03/2011  08:34:00  105.34  105.45  105.31   \n",
       "...                               ...       ...     ...     ...     ...   \n",
       "2025-03-05 10:26:00-06:00  05/03/2025  10:26:00   65.42   65.46   65.37   \n",
       "2025-03-05 10:27:00-06:00  05/03/2025  10:27:00   65.37   65.41   65.37   \n",
       "2025-03-05 10:28:00-06:00  05/03/2025  10:28:00   65.40   65.42   65.33   \n",
       "2025-03-05 10:29:00-06:00  05/03/2025  10:29:00   65.35   65.40   65.35   \n",
       "2025-03-05 10:30:00-06:00  05/03/2025  10:30:00   65.38   65.45   65.34   \n",
       "\n",
       "                            Close  Volume            Datetime  Percent_Change  \\\n",
       "Datetime_CST                                                                    \n",
       "2011-03-09 08:30:00-06:00  105.46     514 2011-03-09 08:30:00       -0.094733   \n",
       "2011-03-09 08:31:00-06:00  105.46     323 2011-03-09 08:31:00        0.000000   \n",
       "2011-03-09 08:32:00-06:00  105.32     899 2011-03-09 08:32:00       -0.132752   \n",
       "2011-03-09 08:33:00-06:00  105.33     716 2011-03-09 08:33:00        0.009495   \n",
       "2011-03-09 08:34:00-06:00  105.40     660 2011-03-09 08:34:00        0.066458   \n",
       "...                           ...     ...                 ...             ...   \n",
       "2025-03-05 10:26:00-06:00   65.38     713 2025-03-05 10:26:00       -0.061143   \n",
       "2025-03-05 10:27:00-06:00   65.39     640 2025-03-05 10:27:00        0.015295   \n",
       "2025-03-05 10:28:00-06:00   65.36     796 2025-03-05 10:28:00       -0.045879   \n",
       "2025-03-05 10:29:00-06:00   65.37     658 2025-03-05 10:29:00        0.015300   \n",
       "2025-03-05 10:30:00-06:00   65.43     842 2025-03-05 10:30:00        0.091785   \n",
       "\n",
       "                                   Release_Datetime  Time_to_Release_Minutes  \\\n",
       "Datetime_CST                                                                   \n",
       "2011-03-09 08:30:00-06:00 2011-03-09 09:30:00-06:00                    -60.0   \n",
       "2011-03-09 08:31:00-06:00 2011-03-09 09:30:00-06:00                    -59.0   \n",
       "2011-03-09 08:32:00-06:00 2011-03-09 09:30:00-06:00                    -58.0   \n",
       "2011-03-09 08:33:00-06:00 2011-03-09 09:30:00-06:00                    -57.0   \n",
       "2011-03-09 08:34:00-06:00 2011-03-09 09:30:00-06:00                    -56.0   \n",
       "...                                             ...                      ...   \n",
       "2025-03-05 10:26:00-06:00 2025-03-05 09:30:00-06:00                     56.0   \n",
       "2025-03-05 10:27:00-06:00 2025-03-05 09:30:00-06:00                     57.0   \n",
       "2025-03-05 10:28:00-06:00 2025-03-05 09:30:00-06:00                     58.0   \n",
       "2025-03-05 10:29:00-06:00 2025-03-05 09:30:00-06:00                     59.0   \n",
       "2025-03-05 10:30:00-06:00 2025-03-05 09:30:00-06:00                     60.0   \n",
       "\n",
       "                           Time_Delta_Minutes Price_Change_Bin  \n",
       "Datetime_CST                                                    \n",
       "2011-03-09 08:30:00-06:00               -60.0           -0.10%  \n",
       "2011-03-09 08:31:00-06:00               -59.0           -0.05%  \n",
       "2011-03-09 08:32:00-06:00               -58.0           -0.15%  \n",
       "2011-03-09 08:33:00-06:00               -57.0            0.00%  \n",
       "2011-03-09 08:34:00-06:00               -56.0            0.05%  \n",
       "...                                       ...              ...  \n",
       "2025-03-05 10:26:00-06:00                56.0           -0.10%  \n",
       "2025-03-05 10:27:00-06:00                57.0            0.00%  \n",
       "2025-03-05 10:28:00-06:00                58.0           -0.05%  \n",
       "2025-03-05 10:29:00-06:00                59.0            0.00%  \n",
       "2025-03-05 10:30:00-06:00                60.0            0.05%  \n",
       "\n",
       "[88344 rows x 13 columns]"
      ]
     },
     "metadata": {},
     "output_type": "display_data"
    },
    {
     "data": {
      "text/html": [
       "<div>\n",
       "<style scoped>\n",
       "    .dataframe tbody tr th:only-of-type {\n",
       "        vertical-align: middle;\n",
       "    }\n",
       "\n",
       "    .dataframe tbody tr th {\n",
       "        vertical-align: top;\n",
       "    }\n",
       "\n",
       "    .dataframe thead th {\n",
       "        text-align: right;\n",
       "    }\n",
       "</style>\n",
       "<table border=\"1\" class=\"dataframe\">\n",
       "  <thead>\n",
       "    <tr style=\"text-align: right;\">\n",
       "      <th></th>\n",
       "      <th>Volume</th>\n",
       "      <th>Percent_Change</th>\n",
       "      <th>Actual</th>\n",
       "      <th>Forecast</th>\n",
       "      <th>Previous</th>\n",
       "      <th>supply_surprise</th>\n",
       "      <th>Time_till_Release</th>\n",
       "      <th>Time_Bin</th>\n",
       "      <th>Percent_Change_Bin</th>\n",
       "      <th>Price_Change_Bin</th>\n",
       "    </tr>\n",
       "  </thead>\n",
       "  <tbody>\n",
       "    <tr>\n",
       "      <th>0</th>\n",
       "      <td>875</td>\n",
       "      <td>-0.142383</td>\n",
       "      <td>2.500M</td>\n",
       "      <td>1.100M</td>\n",
       "      <td>-0.400M</td>\n",
       "      <td>1.4</td>\n",
       "      <td>-60.0</td>\n",
       "      <td>[-60.0, -59.0)</td>\n",
       "      <td>[-0.15, -0.1)</td>\n",
       "      <td>-0.15%</td>\n",
       "    </tr>\n",
       "    <tr>\n",
       "      <th>1</th>\n",
       "      <td>566</td>\n",
       "      <td>0.019011</td>\n",
       "      <td>2.500M</td>\n",
       "      <td>1.100M</td>\n",
       "      <td>-0.400M</td>\n",
       "      <td>1.4</td>\n",
       "      <td>-59.0</td>\n",
       "      <td>[-59.0, -58.0)</td>\n",
       "      <td>[0.0, 0.05)</td>\n",
       "      <td>0.00%</td>\n",
       "    </tr>\n",
       "    <tr>\n",
       "      <th>2</th>\n",
       "      <td>921</td>\n",
       "      <td>-0.076031</td>\n",
       "      <td>2.500M</td>\n",
       "      <td>1.100M</td>\n",
       "      <td>-0.400M</td>\n",
       "      <td>1.4</td>\n",
       "      <td>-58.0</td>\n",
       "      <td>[-58.0, -57.0)</td>\n",
       "      <td>[-0.1, -0.05)</td>\n",
       "      <td>-0.10%</td>\n",
       "    </tr>\n",
       "    <tr>\n",
       "      <th>3</th>\n",
       "      <td>574</td>\n",
       "      <td>-0.066578</td>\n",
       "      <td>2.500M</td>\n",
       "      <td>1.100M</td>\n",
       "      <td>-0.400M</td>\n",
       "      <td>1.4</td>\n",
       "      <td>-57.0</td>\n",
       "      <td>[-57.0, -56.0)</td>\n",
       "      <td>[-0.1, -0.05)</td>\n",
       "      <td>-0.10%</td>\n",
       "    </tr>\n",
       "    <tr>\n",
       "      <th>4</th>\n",
       "      <td>1099</td>\n",
       "      <td>-0.057105</td>\n",
       "      <td>2.500M</td>\n",
       "      <td>1.100M</td>\n",
       "      <td>-0.400M</td>\n",
       "      <td>1.4</td>\n",
       "      <td>-56.0</td>\n",
       "      <td>[-56.0, -55.0)</td>\n",
       "      <td>[-0.1, -0.05)</td>\n",
       "      <td>-0.10%</td>\n",
       "    </tr>\n",
       "    <tr>\n",
       "      <th>...</th>\n",
       "      <td>...</td>\n",
       "      <td>...</td>\n",
       "      <td>...</td>\n",
       "      <td>...</td>\n",
       "      <td>...</td>\n",
       "      <td>...</td>\n",
       "      <td>...</td>\n",
       "      <td>...</td>\n",
       "      <td>...</td>\n",
       "      <td>...</td>\n",
       "    </tr>\n",
       "    <tr>\n",
       "      <th>255333</th>\n",
       "      <td>128</td>\n",
       "      <td>0.000000</td>\n",
       "      <td>NaN</td>\n",
       "      <td>NaN</td>\n",
       "      <td>3.614M</td>\n",
       "      <td>NaN</td>\n",
       "      <td>56.0</td>\n",
       "      <td>[56.0, 57.0)</td>\n",
       "      <td>[0.0, 0.05)</td>\n",
       "      <td>-0.05%</td>\n",
       "    </tr>\n",
       "    <tr>\n",
       "      <th>255334</th>\n",
       "      <td>133</td>\n",
       "      <td>0.000000</td>\n",
       "      <td>NaN</td>\n",
       "      <td>NaN</td>\n",
       "      <td>3.614M</td>\n",
       "      <td>NaN</td>\n",
       "      <td>57.0</td>\n",
       "      <td>[57.0, 58.0)</td>\n",
       "      <td>[0.0, 0.05)</td>\n",
       "      <td>-0.05%</td>\n",
       "    </tr>\n",
       "    <tr>\n",
       "      <th>255335</th>\n",
       "      <td>88</td>\n",
       "      <td>0.014968</td>\n",
       "      <td>NaN</td>\n",
       "      <td>NaN</td>\n",
       "      <td>3.614M</td>\n",
       "      <td>NaN</td>\n",
       "      <td>58.0</td>\n",
       "      <td>[58.0, 59.0)</td>\n",
       "      <td>[0.0, 0.05)</td>\n",
       "      <td>0.00%</td>\n",
       "    </tr>\n",
       "    <tr>\n",
       "      <th>255336</th>\n",
       "      <td>275</td>\n",
       "      <td>0.000000</td>\n",
       "      <td>NaN</td>\n",
       "      <td>NaN</td>\n",
       "      <td>3.614M</td>\n",
       "      <td>NaN</td>\n",
       "      <td>59.0</td>\n",
       "      <td>[59.0, 60.0)</td>\n",
       "      <td>[0.0, 0.05)</td>\n",
       "      <td>-0.05%</td>\n",
       "    </tr>\n",
       "    <tr>\n",
       "      <th>255337</th>\n",
       "      <td>284</td>\n",
       "      <td>0.014966</td>\n",
       "      <td>NaN</td>\n",
       "      <td>NaN</td>\n",
       "      <td>3.614M</td>\n",
       "      <td>NaN</td>\n",
       "      <td>60.0</td>\n",
       "      <td>NaN</td>\n",
       "      <td>[0.0, 0.05)</td>\n",
       "      <td>0.00%</td>\n",
       "    </tr>\n",
       "  </tbody>\n",
       "</table>\n",
       "<p>255338 rows × 10 columns</p>\n",
       "</div>"
      ],
      "text/plain": [
       "        Volume  Percent_Change  Actual Forecast Previous  supply_surprise  \\\n",
       "0          875       -0.142383  2.500M   1.100M  -0.400M              1.4   \n",
       "1          566        0.019011  2.500M   1.100M  -0.400M              1.4   \n",
       "2          921       -0.076031  2.500M   1.100M  -0.400M              1.4   \n",
       "3          574       -0.066578  2.500M   1.100M  -0.400M              1.4   \n",
       "4         1099       -0.057105  2.500M   1.100M  -0.400M              1.4   \n",
       "...        ...             ...     ...      ...      ...              ...   \n",
       "255333     128        0.000000     NaN      NaN   3.614M              NaN   \n",
       "255334     133        0.000000     NaN      NaN   3.614M              NaN   \n",
       "255335      88        0.014968     NaN      NaN   3.614M              NaN   \n",
       "255336     275        0.000000     NaN      NaN   3.614M              NaN   \n",
       "255337     284        0.014966     NaN      NaN   3.614M              NaN   \n",
       "\n",
       "        Time_till_Release        Time_Bin Percent_Change_Bin Price_Change_Bin  \n",
       "0                   -60.0  [-60.0, -59.0)      [-0.15, -0.1)           -0.15%  \n",
       "1                   -59.0  [-59.0, -58.0)        [0.0, 0.05)            0.00%  \n",
       "2                   -58.0  [-58.0, -57.0)      [-0.1, -0.05)           -0.10%  \n",
       "3                   -57.0  [-57.0, -56.0)      [-0.1, -0.05)           -0.10%  \n",
       "4                   -56.0  [-56.0, -55.0)      [-0.1, -0.05)           -0.10%  \n",
       "...                   ...             ...                ...              ...  \n",
       "255333               56.0    [56.0, 57.0)        [0.0, 0.05)           -0.05%  \n",
       "255334               57.0    [57.0, 58.0)        [0.0, 0.05)           -0.05%  \n",
       "255335               58.0    [58.0, 59.0)        [0.0, 0.05)            0.00%  \n",
       "255336               59.0    [59.0, 60.0)        [0.0, 0.05)           -0.05%  \n",
       "255337               60.0             NaN        [0.0, 0.05)            0.00%  \n",
       "\n",
       "[255338 rows x 10 columns]"
      ]
     },
     "metadata": {},
     "output_type": "display_data"
    }
   ],
   "source": [
    "# 2. Define Time Intervals and Price Change Bins for Heatmap\n",
    "time_intervals_non_release = sorted(non_release_price_windows_60min['Time_till_Release'].unique())\n",
    "price_change_bins= np.linspace(-1, 1, num=41) # Example: Bins from -1% to +1% in 0.05% increments, adjust as needed\n",
    "price_change_labels = [f'{bin_val:.2f}%' for bin_val in price_change_bins] # Labels for bins\n",
    "\n",
    "# 3.  Bin Price Changes and Count Frequencies\n",
    "non_release_price_windows_60min['Price_Change_Bin'] = pd.cut(non_release_price_windows_60min['Percent_Change'], bins=price_change_bins, labels=price_change_labels[:-1], include_lowest=True)\n",
    "\n",
    "\n",
    "heatmap_data_non_release = non_release_price_windows_60min.groupby(['Price_Change_Bin', 'Time_till_Release']).size().unstack(fill_value=0)\n",
    "\n",
    "# Reindex columns and rows to ensure all intervals and bins are present, even if count is zero\n",
    "heatmap_data_non_release = heatmap_data_non_release.reindex(columns=time_intervals, fill_value=0)\n",
    "heatmap_data_non_release = heatmap_data_non_release.reindex(index=price_change_labels[:-1], fill_value=0)\n",
    "\n",
    "heatmap_non_release_values = heatmap_data_non_release.values\n",
    "\n",
    "min_val = np.min(heatmap_non_release_values)\n",
    "max_val = np.max(heatmap_non_release_values)\n",
    "\n",
    "if max_val > min_val: # Avoid division by zero if all values are the same\n",
    "    heatmap_non_release_values_scaled_linear = (heatmap_non_release_values - min_val) / (max_val - min_val) * 100.0\n",
    "else:\n",
    "    heatmap_non_release_values_scaled_linear = np.zeros_like(heatmap_non_release_values) # Or handle as needed if range is zero\n",
    "\n",
    "# 4. Create Interactive Heatmap with Plotly\n",
    "fig_heatmap_non_release = go.Figure(data=go.Heatmap(\n",
    "    z=heatmap_non_release_values_scaled_linear,\n",
    "    x=heatmap_data_non_release.columns,\n",
    "    y=heatmap_data_non_release.index,\n",
    "    colorscale='Viridis', # Choose a colorscale that suits your preference\n",
    "    colorbar=dict(title='Frequency')\n",
    "))\n",
    "\n",
    "fig_heatmap_non_release.update_layout(\n",
    "    title='Frequency of Percentage Price Changes Around EIA WPSR Release On Non-Release Days',\n",
    "    xaxis_title='Time Relative to Release (Minutes)',\n",
    "    yaxis_title='Percentage Price Change Bins',\n",
    "    #yaxis=dict(autorange=\"reversed\"), # Invert y-axis to have positive changes at the top\n",
    "    xaxis=dict(tickvals=time_intervals[::5], ticktext=[int(x) for x in time_intervals[::5]]) # Show x-axis ticks every 5 minutes\n",
    ")\n",
    "\n",
    "fig_heatmap_non_release.show()\n",
    "\n",
    "\n",
    "# Assume price_window_60min dataframe is already loaded and has 'Datetime', 'Close', and 'Release_Datetime' columns\n",
    "\n",
    "# 1. Calculate Price Changes Relative to Pre-Release Minute\n",
    "price_window_60min['Time_Delta_Minutes'] = price_window_60min.index - price_window_60min['Release_Datetime']\n",
    "price_window_60min['Time_Delta_Minutes'] = price_window_60min['Time_Delta_Minutes'].apply(lambda td: td.total_seconds() / 60)\n",
    "#price_window_60min['Price_Change'] = price_window_60min.groupby('Release_Datetime')['Close'].transform(lambda x: x - x.shift(1))\n",
    "#price_window_60min['Percent_Change'] = price_window_60min.groupby('Release_Datetime')['Close'].pct_change() * 100\n",
    "\n",
    "#price_window_60min = price_window_60min.dropna(subset=['Percent_Change']) # Remove rows where shift resulted in NaN\n",
    "\n",
    "# 2. Define Time Intervals and Price Change Bins for Heatmap\n",
    "time_intervals_release = sorted(price_window_60min['Time_Delta_Minutes'].unique())\n",
    "\n",
    "# 3.  Bin Price Changes and Count Frequencies\n",
    "price_window_60min['Price_Change_Bin'] = pd.cut(price_window_60min['Percent_Change'], bins=price_change_bins, labels=price_change_labels[:-1], include_lowest=True)\n",
    "\n",
    "\n",
    "heatmap_data_release = price_window_60min.groupby(['Price_Change_Bin', 'Time_Delta_Minutes']).size().unstack(fill_value=0)\n",
    "\n",
    "# Reindex columns and rows to ensure all intervals and bins are present, even if count is zero\n",
    "heatmap_data_release = heatmap_data_release.reindex(columns=time_intervals, fill_value=0)\n",
    "heatmap_data_release = heatmap_data_release.reindex(index=price_change_labels[:-1], fill_value=0)\n",
    "\n",
    "\n",
    "heatmap_release_values = heatmap_data_release.values\n",
    "\n",
    "min_val, max_val = np.min(heatmap_release_values), np.max(heatmap_release_values)\n",
    "\n",
    "if max_val > min_val: # Avoid division by zero if all values are the same\n",
    "    heatmap_release_values_scaled_linear = (heatmap_release_values - min_val) / (max_val - min_val) * 100.0\n",
    "else:\n",
    "    heatmap_release_values_scaled_linear = np.zeros_like(heatmap_release_values) # Or handle as needed if range is zero\n",
    "\n",
    "# 4. Create Interactive Heatmap with Plotly\n",
    "fig_heatmap_release = go.Figure(data=go.Heatmap(\n",
    "    z=heatmap_release_values_scaled_linear,\n",
    "    x=heatmap_data_release.columns,\n",
    "    y=heatmap_data.index,\n",
    "    colorscale='Viridis', # Choose a colorscale that suits your preference\n",
    "    colorbar=dict(title='Frequency')\n",
    "))\n",
    "\n",
    "fig_heatmap_release.update_layout(\n",
    "    title='Frequency of Percentage Price Changes Around EIA WPSR Release On Release Days',\n",
    "    xaxis_title='Time Relative to Release (Minutes)',\n",
    "    yaxis_title='Percentage Price Change Bins',\n",
    "    #yaxis=dict(autorange=\"reversed\"), # Invert y-axis to have positive changes at the top\n",
    "    xaxis=dict(tickvals=time_intervals[::5], ticktext=[int(x) for x in time_intervals[::5]]) # Show x-axis ticks every 5 minutes\n",
    ")\n",
    "\n",
    "fig_heatmap_release.show()\n"
   ]
  },
  {
   "cell_type": "markdown",
   "metadata": {},
   "source": [
    "Visually inspecting the two heatmaps, the release heatmap seems to be noticeably different after time of release to around minute 15. Thus we will now apply the Kolmogorov-Smirnov test to statistically determine over which minutes post-release is price behavior most different?"
   ]
  },
  {
   "cell_type": "code",
   "execution_count": 120,
   "metadata": {},
   "outputs": [
    {
     "data": {
      "text/html": [
       "<div>\n",
       "<style scoped>\n",
       "    .dataframe tbody tr th:only-of-type {\n",
       "        vertical-align: middle;\n",
       "    }\n",
       "\n",
       "    .dataframe tbody tr th {\n",
       "        vertical-align: top;\n",
       "    }\n",
       "\n",
       "    .dataframe thead th {\n",
       "        text-align: right;\n",
       "    }\n",
       "</style>\n",
       "<table border=\"1\" class=\"dataframe\">\n",
       "  <thead>\n",
       "    <tr style=\"text-align: right;\">\n",
       "      <th>Time_till_Release</th>\n",
       "      <th>-60.0</th>\n",
       "      <th>-59.0</th>\n",
       "      <th>-58.0</th>\n",
       "      <th>-57.0</th>\n",
       "      <th>-56.0</th>\n",
       "      <th>-55.0</th>\n",
       "      <th>-54.0</th>\n",
       "      <th>-53.0</th>\n",
       "      <th>-52.0</th>\n",
       "      <th>-51.0</th>\n",
       "      <th>...</th>\n",
       "      <th>51.0</th>\n",
       "      <th>52.0</th>\n",
       "      <th>53.0</th>\n",
       "      <th>54.0</th>\n",
       "      <th>55.0</th>\n",
       "      <th>56.0</th>\n",
       "      <th>57.0</th>\n",
       "      <th>58.0</th>\n",
       "      <th>59.0</th>\n",
       "      <th>60.0</th>\n",
       "    </tr>\n",
       "    <tr>\n",
       "      <th>Price_Change_Bin</th>\n",
       "      <th></th>\n",
       "      <th></th>\n",
       "      <th></th>\n",
       "      <th></th>\n",
       "      <th></th>\n",
       "      <th></th>\n",
       "      <th></th>\n",
       "      <th></th>\n",
       "      <th></th>\n",
       "      <th></th>\n",
       "      <th></th>\n",
       "      <th></th>\n",
       "      <th></th>\n",
       "      <th></th>\n",
       "      <th></th>\n",
       "      <th></th>\n",
       "      <th></th>\n",
       "      <th></th>\n",
       "      <th></th>\n",
       "      <th></th>\n",
       "      <th></th>\n",
       "    </tr>\n",
       "  </thead>\n",
       "  <tbody>\n",
       "    <tr>\n",
       "      <th>-1.00%</th>\n",
       "      <td>1</td>\n",
       "      <td>0</td>\n",
       "      <td>0</td>\n",
       "      <td>0</td>\n",
       "      <td>0</td>\n",
       "      <td>0</td>\n",
       "      <td>0</td>\n",
       "      <td>0</td>\n",
       "      <td>1</td>\n",
       "      <td>0</td>\n",
       "      <td>...</td>\n",
       "      <td>0</td>\n",
       "      <td>0</td>\n",
       "      <td>0</td>\n",
       "      <td>0</td>\n",
       "      <td>0</td>\n",
       "      <td>0</td>\n",
       "      <td>0</td>\n",
       "      <td>0</td>\n",
       "      <td>0</td>\n",
       "      <td>0</td>\n",
       "    </tr>\n",
       "    <tr>\n",
       "      <th>-0.95%</th>\n",
       "      <td>0</td>\n",
       "      <td>0</td>\n",
       "      <td>0</td>\n",
       "      <td>0</td>\n",
       "      <td>0</td>\n",
       "      <td>0</td>\n",
       "      <td>0</td>\n",
       "      <td>0</td>\n",
       "      <td>0</td>\n",
       "      <td>0</td>\n",
       "      <td>...</td>\n",
       "      <td>0</td>\n",
       "      <td>0</td>\n",
       "      <td>0</td>\n",
       "      <td>0</td>\n",
       "      <td>0</td>\n",
       "      <td>1</td>\n",
       "      <td>0</td>\n",
       "      <td>0</td>\n",
       "      <td>0</td>\n",
       "      <td>0</td>\n",
       "    </tr>\n",
       "    <tr>\n",
       "      <th>-0.90%</th>\n",
       "      <td>0</td>\n",
       "      <td>0</td>\n",
       "      <td>0</td>\n",
       "      <td>0</td>\n",
       "      <td>0</td>\n",
       "      <td>1</td>\n",
       "      <td>0</td>\n",
       "      <td>0</td>\n",
       "      <td>1</td>\n",
       "      <td>0</td>\n",
       "      <td>...</td>\n",
       "      <td>0</td>\n",
       "      <td>0</td>\n",
       "      <td>0</td>\n",
       "      <td>0</td>\n",
       "      <td>0</td>\n",
       "      <td>0</td>\n",
       "      <td>1</td>\n",
       "      <td>1</td>\n",
       "      <td>0</td>\n",
       "      <td>0</td>\n",
       "    </tr>\n",
       "    <tr>\n",
       "      <th>-0.85%</th>\n",
       "      <td>1</td>\n",
       "      <td>1</td>\n",
       "      <td>0</td>\n",
       "      <td>0</td>\n",
       "      <td>0</td>\n",
       "      <td>0</td>\n",
       "      <td>0</td>\n",
       "      <td>0</td>\n",
       "      <td>0</td>\n",
       "      <td>0</td>\n",
       "      <td>...</td>\n",
       "      <td>0</td>\n",
       "      <td>0</td>\n",
       "      <td>0</td>\n",
       "      <td>0</td>\n",
       "      <td>0</td>\n",
       "      <td>0</td>\n",
       "      <td>0</td>\n",
       "      <td>0</td>\n",
       "      <td>0</td>\n",
       "      <td>0</td>\n",
       "    </tr>\n",
       "    <tr>\n",
       "      <th>-0.80%</th>\n",
       "      <td>0</td>\n",
       "      <td>0</td>\n",
       "      <td>0</td>\n",
       "      <td>0</td>\n",
       "      <td>0</td>\n",
       "      <td>0</td>\n",
       "      <td>0</td>\n",
       "      <td>0</td>\n",
       "      <td>0</td>\n",
       "      <td>0</td>\n",
       "      <td>...</td>\n",
       "      <td>1</td>\n",
       "      <td>0</td>\n",
       "      <td>0</td>\n",
       "      <td>1</td>\n",
       "      <td>0</td>\n",
       "      <td>0</td>\n",
       "      <td>0</td>\n",
       "      <td>0</td>\n",
       "      <td>0</td>\n",
       "      <td>0</td>\n",
       "    </tr>\n",
       "    <tr>\n",
       "      <th>-0.75%</th>\n",
       "      <td>1</td>\n",
       "      <td>1</td>\n",
       "      <td>1</td>\n",
       "      <td>0</td>\n",
       "      <td>0</td>\n",
       "      <td>1</td>\n",
       "      <td>0</td>\n",
       "      <td>0</td>\n",
       "      <td>0</td>\n",
       "      <td>1</td>\n",
       "      <td>...</td>\n",
       "      <td>0</td>\n",
       "      <td>0</td>\n",
       "      <td>0</td>\n",
       "      <td>0</td>\n",
       "      <td>0</td>\n",
       "      <td>0</td>\n",
       "      <td>0</td>\n",
       "      <td>0</td>\n",
       "      <td>0</td>\n",
       "      <td>0</td>\n",
       "    </tr>\n",
       "    <tr>\n",
       "      <th>-0.70%</th>\n",
       "      <td>2</td>\n",
       "      <td>0</td>\n",
       "      <td>1</td>\n",
       "      <td>0</td>\n",
       "      <td>0</td>\n",
       "      <td>0</td>\n",
       "      <td>0</td>\n",
       "      <td>0</td>\n",
       "      <td>0</td>\n",
       "      <td>1</td>\n",
       "      <td>...</td>\n",
       "      <td>0</td>\n",
       "      <td>0</td>\n",
       "      <td>0</td>\n",
       "      <td>0</td>\n",
       "      <td>0</td>\n",
       "      <td>0</td>\n",
       "      <td>0</td>\n",
       "      <td>0</td>\n",
       "      <td>0</td>\n",
       "      <td>0</td>\n",
       "    </tr>\n",
       "    <tr>\n",
       "      <th>-0.65%</th>\n",
       "      <td>1</td>\n",
       "      <td>0</td>\n",
       "      <td>0</td>\n",
       "      <td>0</td>\n",
       "      <td>0</td>\n",
       "      <td>0</td>\n",
       "      <td>0</td>\n",
       "      <td>0</td>\n",
       "      <td>0</td>\n",
       "      <td>1</td>\n",
       "      <td>...</td>\n",
       "      <td>0</td>\n",
       "      <td>1</td>\n",
       "      <td>0</td>\n",
       "      <td>0</td>\n",
       "      <td>0</td>\n",
       "      <td>0</td>\n",
       "      <td>1</td>\n",
       "      <td>0</td>\n",
       "      <td>0</td>\n",
       "      <td>1</td>\n",
       "    </tr>\n",
       "    <tr>\n",
       "      <th>-0.60%</th>\n",
       "      <td>1</td>\n",
       "      <td>1</td>\n",
       "      <td>1</td>\n",
       "      <td>1</td>\n",
       "      <td>0</td>\n",
       "      <td>0</td>\n",
       "      <td>0</td>\n",
       "      <td>1</td>\n",
       "      <td>1</td>\n",
       "      <td>0</td>\n",
       "      <td>...</td>\n",
       "      <td>0</td>\n",
       "      <td>0</td>\n",
       "      <td>0</td>\n",
       "      <td>0</td>\n",
       "      <td>2</td>\n",
       "      <td>0</td>\n",
       "      <td>0</td>\n",
       "      <td>0</td>\n",
       "      <td>1</td>\n",
       "      <td>2</td>\n",
       "    </tr>\n",
       "    <tr>\n",
       "      <th>-0.55%</th>\n",
       "      <td>5</td>\n",
       "      <td>1</td>\n",
       "      <td>3</td>\n",
       "      <td>0</td>\n",
       "      <td>0</td>\n",
       "      <td>1</td>\n",
       "      <td>1</td>\n",
       "      <td>1</td>\n",
       "      <td>1</td>\n",
       "      <td>1</td>\n",
       "      <td>...</td>\n",
       "      <td>0</td>\n",
       "      <td>0</td>\n",
       "      <td>0</td>\n",
       "      <td>0</td>\n",
       "      <td>1</td>\n",
       "      <td>1</td>\n",
       "      <td>0</td>\n",
       "      <td>0</td>\n",
       "      <td>2</td>\n",
       "      <td>3</td>\n",
       "    </tr>\n",
       "    <tr>\n",
       "      <th>-0.50%</th>\n",
       "      <td>3</td>\n",
       "      <td>3</td>\n",
       "      <td>1</td>\n",
       "      <td>2</td>\n",
       "      <td>0</td>\n",
       "      <td>2</td>\n",
       "      <td>4</td>\n",
       "      <td>0</td>\n",
       "      <td>1</td>\n",
       "      <td>0</td>\n",
       "      <td>...</td>\n",
       "      <td>2</td>\n",
       "      <td>2</td>\n",
       "      <td>1</td>\n",
       "      <td>1</td>\n",
       "      <td>2</td>\n",
       "      <td>3</td>\n",
       "      <td>1</td>\n",
       "      <td>1</td>\n",
       "      <td>0</td>\n",
       "      <td>3</td>\n",
       "    </tr>\n",
       "    <tr>\n",
       "      <th>-0.45%</th>\n",
       "      <td>2</td>\n",
       "      <td>2</td>\n",
       "      <td>2</td>\n",
       "      <td>2</td>\n",
       "      <td>2</td>\n",
       "      <td>2</td>\n",
       "      <td>2</td>\n",
       "      <td>0</td>\n",
       "      <td>3</td>\n",
       "      <td>0</td>\n",
       "      <td>...</td>\n",
       "      <td>3</td>\n",
       "      <td>0</td>\n",
       "      <td>0</td>\n",
       "      <td>2</td>\n",
       "      <td>0</td>\n",
       "      <td>2</td>\n",
       "      <td>1</td>\n",
       "      <td>2</td>\n",
       "      <td>1</td>\n",
       "      <td>3</td>\n",
       "    </tr>\n",
       "    <tr>\n",
       "      <th>-0.40%</th>\n",
       "      <td>3</td>\n",
       "      <td>3</td>\n",
       "      <td>4</td>\n",
       "      <td>3</td>\n",
       "      <td>6</td>\n",
       "      <td>0</td>\n",
       "      <td>1</td>\n",
       "      <td>7</td>\n",
       "      <td>2</td>\n",
       "      <td>2</td>\n",
       "      <td>...</td>\n",
       "      <td>2</td>\n",
       "      <td>3</td>\n",
       "      <td>5</td>\n",
       "      <td>3</td>\n",
       "      <td>4</td>\n",
       "      <td>1</td>\n",
       "      <td>1</td>\n",
       "      <td>1</td>\n",
       "      <td>1</td>\n",
       "      <td>7</td>\n",
       "    </tr>\n",
       "    <tr>\n",
       "      <th>-0.35%</th>\n",
       "      <td>11</td>\n",
       "      <td>10</td>\n",
       "      <td>6</td>\n",
       "      <td>4</td>\n",
       "      <td>7</td>\n",
       "      <td>4</td>\n",
       "      <td>7</td>\n",
       "      <td>3</td>\n",
       "      <td>1</td>\n",
       "      <td>8</td>\n",
       "      <td>...</td>\n",
       "      <td>5</td>\n",
       "      <td>4</td>\n",
       "      <td>5</td>\n",
       "      <td>4</td>\n",
       "      <td>9</td>\n",
       "      <td>8</td>\n",
       "      <td>3</td>\n",
       "      <td>3</td>\n",
       "      <td>6</td>\n",
       "      <td>4</td>\n",
       "    </tr>\n",
       "    <tr>\n",
       "      <th>-0.30%</th>\n",
       "      <td>12</td>\n",
       "      <td>12</td>\n",
       "      <td>12</td>\n",
       "      <td>14</td>\n",
       "      <td>12</td>\n",
       "      <td>11</td>\n",
       "      <td>17</td>\n",
       "      <td>10</td>\n",
       "      <td>10</td>\n",
       "      <td>10</td>\n",
       "      <td>...</td>\n",
       "      <td>9</td>\n",
       "      <td>7</td>\n",
       "      <td>10</td>\n",
       "      <td>13</td>\n",
       "      <td>14</td>\n",
       "      <td>9</td>\n",
       "      <td>9</td>\n",
       "      <td>9</td>\n",
       "      <td>12</td>\n",
       "      <td>15</td>\n",
       "    </tr>\n",
       "    <tr>\n",
       "      <th>-0.25%</th>\n",
       "      <td>37</td>\n",
       "      <td>24</td>\n",
       "      <td>29</td>\n",
       "      <td>20</td>\n",
       "      <td>17</td>\n",
       "      <td>17</td>\n",
       "      <td>20</td>\n",
       "      <td>20</td>\n",
       "      <td>15</td>\n",
       "      <td>16</td>\n",
       "      <td>...</td>\n",
       "      <td>26</td>\n",
       "      <td>23</td>\n",
       "      <td>15</td>\n",
       "      <td>27</td>\n",
       "      <td>27</td>\n",
       "      <td>22</td>\n",
       "      <td>22</td>\n",
       "      <td>12</td>\n",
       "      <td>27</td>\n",
       "      <td>27</td>\n",
       "    </tr>\n",
       "    <tr>\n",
       "      <th>-0.20%</th>\n",
       "      <td>57</td>\n",
       "      <td>54</td>\n",
       "      <td>53</td>\n",
       "      <td>53</td>\n",
       "      <td>48</td>\n",
       "      <td>58</td>\n",
       "      <td>40</td>\n",
       "      <td>38</td>\n",
       "      <td>42</td>\n",
       "      <td>38</td>\n",
       "      <td>...</td>\n",
       "      <td>50</td>\n",
       "      <td>68</td>\n",
       "      <td>52</td>\n",
       "      <td>48</td>\n",
       "      <td>57</td>\n",
       "      <td>58</td>\n",
       "      <td>46</td>\n",
       "      <td>50</td>\n",
       "      <td>64</td>\n",
       "      <td>73</td>\n",
       "    </tr>\n",
       "    <tr>\n",
       "      <th>-0.15%</th>\n",
       "      <td>152</td>\n",
       "      <td>115</td>\n",
       "      <td>127</td>\n",
       "      <td>105</td>\n",
       "      <td>102</td>\n",
       "      <td>101</td>\n",
       "      <td>94</td>\n",
       "      <td>87</td>\n",
       "      <td>80</td>\n",
       "      <td>82</td>\n",
       "      <td>...</td>\n",
       "      <td>131</td>\n",
       "      <td>101</td>\n",
       "      <td>130</td>\n",
       "      <td>104</td>\n",
       "      <td>125</td>\n",
       "      <td>133</td>\n",
       "      <td>105</td>\n",
       "      <td>112</td>\n",
       "      <td>107</td>\n",
       "      <td>145</td>\n",
       "    </tr>\n",
       "    <tr>\n",
       "      <th>-0.10%</th>\n",
       "      <td>246</td>\n",
       "      <td>265</td>\n",
       "      <td>244</td>\n",
       "      <td>268</td>\n",
       "      <td>263</td>\n",
       "      <td>262</td>\n",
       "      <td>254</td>\n",
       "      <td>243</td>\n",
       "      <td>231</td>\n",
       "      <td>277</td>\n",
       "      <td>...</td>\n",
       "      <td>325</td>\n",
       "      <td>277</td>\n",
       "      <td>254</td>\n",
       "      <td>274</td>\n",
       "      <td>259</td>\n",
       "      <td>261</td>\n",
       "      <td>292</td>\n",
       "      <td>284</td>\n",
       "      <td>277</td>\n",
       "      <td>278</td>\n",
       "    </tr>\n",
       "    <tr>\n",
       "      <th>-0.05%</th>\n",
       "      <td>591</td>\n",
       "      <td>661</td>\n",
       "      <td>644</td>\n",
       "      <td>657</td>\n",
       "      <td>699</td>\n",
       "      <td>646</td>\n",
       "      <td>679</td>\n",
       "      <td>693</td>\n",
       "      <td>725</td>\n",
       "      <td>665</td>\n",
       "      <td>...</td>\n",
       "      <td>676</td>\n",
       "      <td>721</td>\n",
       "      <td>708</td>\n",
       "      <td>703</td>\n",
       "      <td>640</td>\n",
       "      <td>693</td>\n",
       "      <td>726</td>\n",
       "      <td>738</td>\n",
       "      <td>702</td>\n",
       "      <td>599</td>\n",
       "    </tr>\n",
       "    <tr>\n",
       "      <th>0.00%</th>\n",
       "      <td>377</td>\n",
       "      <td>404</td>\n",
       "      <td>456</td>\n",
       "      <td>462</td>\n",
       "      <td>424</td>\n",
       "      <td>451</td>\n",
       "      <td>484</td>\n",
       "      <td>494</td>\n",
       "      <td>481</td>\n",
       "      <td>542</td>\n",
       "      <td>...</td>\n",
       "      <td>483</td>\n",
       "      <td>493</td>\n",
       "      <td>510</td>\n",
       "      <td>508</td>\n",
       "      <td>480</td>\n",
       "      <td>481</td>\n",
       "      <td>515</td>\n",
       "      <td>459</td>\n",
       "      <td>463</td>\n",
       "      <td>439</td>\n",
       "    </tr>\n",
       "    <tr>\n",
       "      <th>0.05%</th>\n",
       "      <td>265</td>\n",
       "      <td>237</td>\n",
       "      <td>259</td>\n",
       "      <td>265</td>\n",
       "      <td>264</td>\n",
       "      <td>261</td>\n",
       "      <td>244</td>\n",
       "      <td>245</td>\n",
       "      <td>265</td>\n",
       "      <td>260</td>\n",
       "      <td>...</td>\n",
       "      <td>264</td>\n",
       "      <td>259</td>\n",
       "      <td>273</td>\n",
       "      <td>301</td>\n",
       "      <td>320</td>\n",
       "      <td>275</td>\n",
       "      <td>280</td>\n",
       "      <td>292</td>\n",
       "      <td>305</td>\n",
       "      <td>293</td>\n",
       "    </tr>\n",
       "    <tr>\n",
       "      <th>0.10%</th>\n",
       "      <td>115</td>\n",
       "      <td>127</td>\n",
       "      <td>106</td>\n",
       "      <td>90</td>\n",
       "      <td>103</td>\n",
       "      <td>109</td>\n",
       "      <td>103</td>\n",
       "      <td>107</td>\n",
       "      <td>96</td>\n",
       "      <td>75</td>\n",
       "      <td>...</td>\n",
       "      <td>111</td>\n",
       "      <td>134</td>\n",
       "      <td>112</td>\n",
       "      <td>96</td>\n",
       "      <td>124</td>\n",
       "      <td>111</td>\n",
       "      <td>84</td>\n",
       "      <td>106</td>\n",
       "      <td>115</td>\n",
       "      <td>147</td>\n",
       "    </tr>\n",
       "    <tr>\n",
       "      <th>0.15%</th>\n",
       "      <td>75</td>\n",
       "      <td>50</td>\n",
       "      <td>43</td>\n",
       "      <td>47</td>\n",
       "      <td>47</td>\n",
       "      <td>55</td>\n",
       "      <td>47</td>\n",
       "      <td>44</td>\n",
       "      <td>36</td>\n",
       "      <td>34</td>\n",
       "      <td>...</td>\n",
       "      <td>42</td>\n",
       "      <td>38</td>\n",
       "      <td>57</td>\n",
       "      <td>35</td>\n",
       "      <td>52</td>\n",
       "      <td>56</td>\n",
       "      <td>30</td>\n",
       "      <td>55</td>\n",
       "      <td>43</td>\n",
       "      <td>70</td>\n",
       "    </tr>\n",
       "    <tr>\n",
       "      <th>0.20%</th>\n",
       "      <td>24</td>\n",
       "      <td>28</td>\n",
       "      <td>16</td>\n",
       "      <td>23</td>\n",
       "      <td>21</td>\n",
       "      <td>29</td>\n",
       "      <td>20</td>\n",
       "      <td>24</td>\n",
       "      <td>19</td>\n",
       "      <td>16</td>\n",
       "      <td>...</td>\n",
       "      <td>17</td>\n",
       "      <td>19</td>\n",
       "      <td>15</td>\n",
       "      <td>22</td>\n",
       "      <td>21</td>\n",
       "      <td>25</td>\n",
       "      <td>23</td>\n",
       "      <td>24</td>\n",
       "      <td>18</td>\n",
       "      <td>31</td>\n",
       "    </tr>\n",
       "    <tr>\n",
       "      <th>0.25%</th>\n",
       "      <td>19</td>\n",
       "      <td>18</td>\n",
       "      <td>17</td>\n",
       "      <td>11</td>\n",
       "      <td>12</td>\n",
       "      <td>7</td>\n",
       "      <td>10</td>\n",
       "      <td>7</td>\n",
       "      <td>14</td>\n",
       "      <td>9</td>\n",
       "      <td>...</td>\n",
       "      <td>8</td>\n",
       "      <td>7</td>\n",
       "      <td>5</td>\n",
       "      <td>9</td>\n",
       "      <td>11</td>\n",
       "      <td>12</td>\n",
       "      <td>12</td>\n",
       "      <td>6</td>\n",
       "      <td>8</td>\n",
       "      <td>12</td>\n",
       "    </tr>\n",
       "    <tr>\n",
       "      <th>0.30%</th>\n",
       "      <td>19</td>\n",
       "      <td>6</td>\n",
       "      <td>4</td>\n",
       "      <td>4</td>\n",
       "      <td>9</td>\n",
       "      <td>13</td>\n",
       "      <td>6</td>\n",
       "      <td>7</td>\n",
       "      <td>7</td>\n",
       "      <td>0</td>\n",
       "      <td>...</td>\n",
       "      <td>4</td>\n",
       "      <td>4</td>\n",
       "      <td>7</td>\n",
       "      <td>5</td>\n",
       "      <td>6</td>\n",
       "      <td>4</td>\n",
       "      <td>5</td>\n",
       "      <td>4</td>\n",
       "      <td>6</td>\n",
       "      <td>5</td>\n",
       "    </tr>\n",
       "    <tr>\n",
       "      <th>0.35%</th>\n",
       "      <td>2</td>\n",
       "      <td>6</td>\n",
       "      <td>8</td>\n",
       "      <td>4</td>\n",
       "      <td>4</td>\n",
       "      <td>6</td>\n",
       "      <td>2</td>\n",
       "      <td>3</td>\n",
       "      <td>5</td>\n",
       "      <td>0</td>\n",
       "      <td>...</td>\n",
       "      <td>5</td>\n",
       "      <td>2</td>\n",
       "      <td>1</td>\n",
       "      <td>3</td>\n",
       "      <td>3</td>\n",
       "      <td>6</td>\n",
       "      <td>4</td>\n",
       "      <td>5</td>\n",
       "      <td>1</td>\n",
       "      <td>3</td>\n",
       "    </tr>\n",
       "    <tr>\n",
       "      <th>0.40%</th>\n",
       "      <td>3</td>\n",
       "      <td>6</td>\n",
       "      <td>1</td>\n",
       "      <td>4</td>\n",
       "      <td>1</td>\n",
       "      <td>3</td>\n",
       "      <td>1</td>\n",
       "      <td>2</td>\n",
       "      <td>1</td>\n",
       "      <td>1</td>\n",
       "      <td>...</td>\n",
       "      <td>1</td>\n",
       "      <td>1</td>\n",
       "      <td>2</td>\n",
       "      <td>1</td>\n",
       "      <td>4</td>\n",
       "      <td>1</td>\n",
       "      <td>2</td>\n",
       "      <td>1</td>\n",
       "      <td>2</td>\n",
       "      <td>0</td>\n",
       "    </tr>\n",
       "    <tr>\n",
       "      <th>0.45%</th>\n",
       "      <td>5</td>\n",
       "      <td>1</td>\n",
       "      <td>2</td>\n",
       "      <td>1</td>\n",
       "      <td>0</td>\n",
       "      <td>1</td>\n",
       "      <td>2</td>\n",
       "      <td>0</td>\n",
       "      <td>0</td>\n",
       "      <td>0</td>\n",
       "      <td>...</td>\n",
       "      <td>1</td>\n",
       "      <td>0</td>\n",
       "      <td>3</td>\n",
       "      <td>1</td>\n",
       "      <td>0</td>\n",
       "      <td>1</td>\n",
       "      <td>1</td>\n",
       "      <td>0</td>\n",
       "      <td>2</td>\n",
       "      <td>3</td>\n",
       "    </tr>\n",
       "    <tr>\n",
       "      <th>0.50%</th>\n",
       "      <td>0</td>\n",
       "      <td>1</td>\n",
       "      <td>1</td>\n",
       "      <td>0</td>\n",
       "      <td>0</td>\n",
       "      <td>1</td>\n",
       "      <td>0</td>\n",
       "      <td>0</td>\n",
       "      <td>0</td>\n",
       "      <td>1</td>\n",
       "      <td>...</td>\n",
       "      <td>1</td>\n",
       "      <td>1</td>\n",
       "      <td>1</td>\n",
       "      <td>1</td>\n",
       "      <td>4</td>\n",
       "      <td>0</td>\n",
       "      <td>0</td>\n",
       "      <td>0</td>\n",
       "      <td>0</td>\n",
       "      <td>1</td>\n",
       "    </tr>\n",
       "    <tr>\n",
       "      <th>0.55%</th>\n",
       "      <td>2</td>\n",
       "      <td>2</td>\n",
       "      <td>0</td>\n",
       "      <td>0</td>\n",
       "      <td>0</td>\n",
       "      <td>0</td>\n",
       "      <td>0</td>\n",
       "      <td>4</td>\n",
       "      <td>0</td>\n",
       "      <td>0</td>\n",
       "      <td>...</td>\n",
       "      <td>0</td>\n",
       "      <td>0</td>\n",
       "      <td>1</td>\n",
       "      <td>1</td>\n",
       "      <td>0</td>\n",
       "      <td>0</td>\n",
       "      <td>0</td>\n",
       "      <td>0</td>\n",
       "      <td>0</td>\n",
       "      <td>0</td>\n",
       "    </tr>\n",
       "    <tr>\n",
       "      <th>0.60%</th>\n",
       "      <td>3</td>\n",
       "      <td>0</td>\n",
       "      <td>0</td>\n",
       "      <td>1</td>\n",
       "      <td>0</td>\n",
       "      <td>0</td>\n",
       "      <td>2</td>\n",
       "      <td>0</td>\n",
       "      <td>0</td>\n",
       "      <td>0</td>\n",
       "      <td>...</td>\n",
       "      <td>0</td>\n",
       "      <td>0</td>\n",
       "      <td>0</td>\n",
       "      <td>1</td>\n",
       "      <td>0</td>\n",
       "      <td>2</td>\n",
       "      <td>0</td>\n",
       "      <td>0</td>\n",
       "      <td>0</td>\n",
       "      <td>0</td>\n",
       "    </tr>\n",
       "    <tr>\n",
       "      <th>0.65%</th>\n",
       "      <td>2</td>\n",
       "      <td>1</td>\n",
       "      <td>1</td>\n",
       "      <td>2</td>\n",
       "      <td>0</td>\n",
       "      <td>0</td>\n",
       "      <td>0</td>\n",
       "      <td>1</td>\n",
       "      <td>1</td>\n",
       "      <td>0</td>\n",
       "      <td>...</td>\n",
       "      <td>0</td>\n",
       "      <td>0</td>\n",
       "      <td>0</td>\n",
       "      <td>0</td>\n",
       "      <td>0</td>\n",
       "      <td>0</td>\n",
       "      <td>1</td>\n",
       "      <td>0</td>\n",
       "      <td>0</td>\n",
       "      <td>0</td>\n",
       "    </tr>\n",
       "    <tr>\n",
       "      <th>0.70%</th>\n",
       "      <td>1</td>\n",
       "      <td>0</td>\n",
       "      <td>0</td>\n",
       "      <td>0</td>\n",
       "      <td>0</td>\n",
       "      <td>0</td>\n",
       "      <td>0</td>\n",
       "      <td>0</td>\n",
       "      <td>0</td>\n",
       "      <td>0</td>\n",
       "      <td>...</td>\n",
       "      <td>0</td>\n",
       "      <td>1</td>\n",
       "      <td>0</td>\n",
       "      <td>0</td>\n",
       "      <td>0</td>\n",
       "      <td>0</td>\n",
       "      <td>0</td>\n",
       "      <td>0</td>\n",
       "      <td>0</td>\n",
       "      <td>0</td>\n",
       "    </tr>\n",
       "    <tr>\n",
       "      <th>0.75%</th>\n",
       "      <td>1</td>\n",
       "      <td>1</td>\n",
       "      <td>1</td>\n",
       "      <td>0</td>\n",
       "      <td>0</td>\n",
       "      <td>0</td>\n",
       "      <td>1</td>\n",
       "      <td>0</td>\n",
       "      <td>0</td>\n",
       "      <td>0</td>\n",
       "      <td>...</td>\n",
       "      <td>0</td>\n",
       "      <td>0</td>\n",
       "      <td>0</td>\n",
       "      <td>0</td>\n",
       "      <td>0</td>\n",
       "      <td>0</td>\n",
       "      <td>0</td>\n",
       "      <td>0</td>\n",
       "      <td>0</td>\n",
       "      <td>0</td>\n",
       "    </tr>\n",
       "    <tr>\n",
       "      <th>0.80%</th>\n",
       "      <td>0</td>\n",
       "      <td>1</td>\n",
       "      <td>0</td>\n",
       "      <td>0</td>\n",
       "      <td>0</td>\n",
       "      <td>0</td>\n",
       "      <td>0</td>\n",
       "      <td>0</td>\n",
       "      <td>0</td>\n",
       "      <td>0</td>\n",
       "      <td>...</td>\n",
       "      <td>0</td>\n",
       "      <td>0</td>\n",
       "      <td>0</td>\n",
       "      <td>0</td>\n",
       "      <td>0</td>\n",
       "      <td>0</td>\n",
       "      <td>1</td>\n",
       "      <td>0</td>\n",
       "      <td>0</td>\n",
       "      <td>0</td>\n",
       "    </tr>\n",
       "    <tr>\n",
       "      <th>0.85%</th>\n",
       "      <td>0</td>\n",
       "      <td>0</td>\n",
       "      <td>0</td>\n",
       "      <td>1</td>\n",
       "      <td>0</td>\n",
       "      <td>0</td>\n",
       "      <td>0</td>\n",
       "      <td>0</td>\n",
       "      <td>1</td>\n",
       "      <td>0</td>\n",
       "      <td>...</td>\n",
       "      <td>0</td>\n",
       "      <td>0</td>\n",
       "      <td>0</td>\n",
       "      <td>0</td>\n",
       "      <td>0</td>\n",
       "      <td>0</td>\n",
       "      <td>0</td>\n",
       "      <td>0</td>\n",
       "      <td>1</td>\n",
       "      <td>1</td>\n",
       "    </tr>\n",
       "    <tr>\n",
       "      <th>0.90%</th>\n",
       "      <td>0</td>\n",
       "      <td>0</td>\n",
       "      <td>0</td>\n",
       "      <td>0</td>\n",
       "      <td>0</td>\n",
       "      <td>0</td>\n",
       "      <td>1</td>\n",
       "      <td>0</td>\n",
       "      <td>0</td>\n",
       "      <td>0</td>\n",
       "      <td>...</td>\n",
       "      <td>0</td>\n",
       "      <td>0</td>\n",
       "      <td>0</td>\n",
       "      <td>0</td>\n",
       "      <td>0</td>\n",
       "      <td>0</td>\n",
       "      <td>0</td>\n",
       "      <td>0</td>\n",
       "      <td>0</td>\n",
       "      <td>0</td>\n",
       "    </tr>\n",
       "    <tr>\n",
       "      <th>0.95%</th>\n",
       "      <td>1</td>\n",
       "      <td>0</td>\n",
       "      <td>0</td>\n",
       "      <td>0</td>\n",
       "      <td>0</td>\n",
       "      <td>0</td>\n",
       "      <td>0</td>\n",
       "      <td>0</td>\n",
       "      <td>0</td>\n",
       "      <td>0</td>\n",
       "      <td>...</td>\n",
       "      <td>0</td>\n",
       "      <td>0</td>\n",
       "      <td>0</td>\n",
       "      <td>0</td>\n",
       "      <td>0</td>\n",
       "      <td>0</td>\n",
       "      <td>0</td>\n",
       "      <td>1</td>\n",
       "      <td>0</td>\n",
       "      <td>0</td>\n",
       "    </tr>\n",
       "  </tbody>\n",
       "</table>\n",
       "<p>40 rows × 121 columns</p>\n",
       "</div>"
      ],
      "text/plain": [
       "Time_till_Release  -60.0  -59.0  -58.0  -57.0  -56.0  -55.0  -54.0  -53.0  \\\n",
       "Price_Change_Bin                                                            \n",
       "-1.00%                 1      0      0      0      0      0      0      0   \n",
       "-0.95%                 0      0      0      0      0      0      0      0   \n",
       "-0.90%                 0      0      0      0      0      1      0      0   \n",
       "-0.85%                 1      1      0      0      0      0      0      0   \n",
       "-0.80%                 0      0      0      0      0      0      0      0   \n",
       "-0.75%                 1      1      1      0      0      1      0      0   \n",
       "-0.70%                 2      0      1      0      0      0      0      0   \n",
       "-0.65%                 1      0      0      0      0      0      0      0   \n",
       "-0.60%                 1      1      1      1      0      0      0      1   \n",
       "-0.55%                 5      1      3      0      0      1      1      1   \n",
       "-0.50%                 3      3      1      2      0      2      4      0   \n",
       "-0.45%                 2      2      2      2      2      2      2      0   \n",
       "-0.40%                 3      3      4      3      6      0      1      7   \n",
       "-0.35%                11     10      6      4      7      4      7      3   \n",
       "-0.30%                12     12     12     14     12     11     17     10   \n",
       "-0.25%                37     24     29     20     17     17     20     20   \n",
       "-0.20%                57     54     53     53     48     58     40     38   \n",
       "-0.15%               152    115    127    105    102    101     94     87   \n",
       "-0.10%               246    265    244    268    263    262    254    243   \n",
       "-0.05%               591    661    644    657    699    646    679    693   \n",
       "0.00%                377    404    456    462    424    451    484    494   \n",
       "0.05%                265    237    259    265    264    261    244    245   \n",
       "0.10%                115    127    106     90    103    109    103    107   \n",
       "0.15%                 75     50     43     47     47     55     47     44   \n",
       "0.20%                 24     28     16     23     21     29     20     24   \n",
       "0.25%                 19     18     17     11     12      7     10      7   \n",
       "0.30%                 19      6      4      4      9     13      6      7   \n",
       "0.35%                  2      6      8      4      4      6      2      3   \n",
       "0.40%                  3      6      1      4      1      3      1      2   \n",
       "0.45%                  5      1      2      1      0      1      2      0   \n",
       "0.50%                  0      1      1      0      0      1      0      0   \n",
       "0.55%                  2      2      0      0      0      0      0      4   \n",
       "0.60%                  3      0      0      1      0      0      2      0   \n",
       "0.65%                  2      1      1      2      0      0      0      1   \n",
       "0.70%                  1      0      0      0      0      0      0      0   \n",
       "0.75%                  1      1      1      0      0      0      1      0   \n",
       "0.80%                  0      1      0      0      0      0      0      0   \n",
       "0.85%                  0      0      0      1      0      0      0      0   \n",
       "0.90%                  0      0      0      0      0      0      1      0   \n",
       "0.95%                  1      0      0      0      0      0      0      0   \n",
       "\n",
       "Time_till_Release  -52.0  -51.0  ...   51.0   52.0   53.0   54.0   55.0  \\\n",
       "Price_Change_Bin                 ...                                      \n",
       "-1.00%                 1      0  ...      0      0      0      0      0   \n",
       "-0.95%                 0      0  ...      0      0      0      0      0   \n",
       "-0.90%                 1      0  ...      0      0      0      0      0   \n",
       "-0.85%                 0      0  ...      0      0      0      0      0   \n",
       "-0.80%                 0      0  ...      1      0      0      1      0   \n",
       "-0.75%                 0      1  ...      0      0      0      0      0   \n",
       "-0.70%                 0      1  ...      0      0      0      0      0   \n",
       "-0.65%                 0      1  ...      0      1      0      0      0   \n",
       "-0.60%                 1      0  ...      0      0      0      0      2   \n",
       "-0.55%                 1      1  ...      0      0      0      0      1   \n",
       "-0.50%                 1      0  ...      2      2      1      1      2   \n",
       "-0.45%                 3      0  ...      3      0      0      2      0   \n",
       "-0.40%                 2      2  ...      2      3      5      3      4   \n",
       "-0.35%                 1      8  ...      5      4      5      4      9   \n",
       "-0.30%                10     10  ...      9      7     10     13     14   \n",
       "-0.25%                15     16  ...     26     23     15     27     27   \n",
       "-0.20%                42     38  ...     50     68     52     48     57   \n",
       "-0.15%                80     82  ...    131    101    130    104    125   \n",
       "-0.10%               231    277  ...    325    277    254    274    259   \n",
       "-0.05%               725    665  ...    676    721    708    703    640   \n",
       "0.00%                481    542  ...    483    493    510    508    480   \n",
       "0.05%                265    260  ...    264    259    273    301    320   \n",
       "0.10%                 96     75  ...    111    134    112     96    124   \n",
       "0.15%                 36     34  ...     42     38     57     35     52   \n",
       "0.20%                 19     16  ...     17     19     15     22     21   \n",
       "0.25%                 14      9  ...      8      7      5      9     11   \n",
       "0.30%                  7      0  ...      4      4      7      5      6   \n",
       "0.35%                  5      0  ...      5      2      1      3      3   \n",
       "0.40%                  1      1  ...      1      1      2      1      4   \n",
       "0.45%                  0      0  ...      1      0      3      1      0   \n",
       "0.50%                  0      1  ...      1      1      1      1      4   \n",
       "0.55%                  0      0  ...      0      0      1      1      0   \n",
       "0.60%                  0      0  ...      0      0      0      1      0   \n",
       "0.65%                  1      0  ...      0      0      0      0      0   \n",
       "0.70%                  0      0  ...      0      1      0      0      0   \n",
       "0.75%                  0      0  ...      0      0      0      0      0   \n",
       "0.80%                  0      0  ...      0      0      0      0      0   \n",
       "0.85%                  1      0  ...      0      0      0      0      0   \n",
       "0.90%                  0      0  ...      0      0      0      0      0   \n",
       "0.95%                  0      0  ...      0      0      0      0      0   \n",
       "\n",
       "Time_till_Release   56.0   57.0   58.0   59.0   60.0  \n",
       "Price_Change_Bin                                      \n",
       "-1.00%                 0      0      0      0      0  \n",
       "-0.95%                 1      0      0      0      0  \n",
       "-0.90%                 0      1      1      0      0  \n",
       "-0.85%                 0      0      0      0      0  \n",
       "-0.80%                 0      0      0      0      0  \n",
       "-0.75%                 0      0      0      0      0  \n",
       "-0.70%                 0      0      0      0      0  \n",
       "-0.65%                 0      1      0      0      1  \n",
       "-0.60%                 0      0      0      1      2  \n",
       "-0.55%                 1      0      0      2      3  \n",
       "-0.50%                 3      1      1      0      3  \n",
       "-0.45%                 2      1      2      1      3  \n",
       "-0.40%                 1      1      1      1      7  \n",
       "-0.35%                 8      3      3      6      4  \n",
       "-0.30%                 9      9      9     12     15  \n",
       "-0.25%                22     22     12     27     27  \n",
       "-0.20%                58     46     50     64     73  \n",
       "-0.15%               133    105    112    107    145  \n",
       "-0.10%               261    292    284    277    278  \n",
       "-0.05%               693    726    738    702    599  \n",
       "0.00%                481    515    459    463    439  \n",
       "0.05%                275    280    292    305    293  \n",
       "0.10%                111     84    106    115    147  \n",
       "0.15%                 56     30     55     43     70  \n",
       "0.20%                 25     23     24     18     31  \n",
       "0.25%                 12     12      6      8     12  \n",
       "0.30%                  4      5      4      6      5  \n",
       "0.35%                  6      4      5      1      3  \n",
       "0.40%                  1      2      1      2      0  \n",
       "0.45%                  1      1      0      2      3  \n",
       "0.50%                  0      0      0      0      1  \n",
       "0.55%                  0      0      0      0      0  \n",
       "0.60%                  2      0      0      0      0  \n",
       "0.65%                  0      1      0      0      0  \n",
       "0.70%                  0      0      0      0      0  \n",
       "0.75%                  0      0      0      0      0  \n",
       "0.80%                  0      1      0      0      0  \n",
       "0.85%                  0      0      0      1      1  \n",
       "0.90%                  0      0      0      0      0  \n",
       "0.95%                  0      0      1      0      0  \n",
       "\n",
       "[40 rows x 121 columns]"
      ]
     },
     "metadata": {},
     "output_type": "display_data"
    },
    {
     "data": {
      "text/html": [
       "<div>\n",
       "<style scoped>\n",
       "    .dataframe tbody tr th:only-of-type {\n",
       "        vertical-align: middle;\n",
       "    }\n",
       "\n",
       "    .dataframe tbody tr th {\n",
       "        vertical-align: top;\n",
       "    }\n",
       "\n",
       "    .dataframe thead th {\n",
       "        text-align: right;\n",
       "    }\n",
       "</style>\n",
       "<table border=\"1\" class=\"dataframe\">\n",
       "  <thead>\n",
       "    <tr style=\"text-align: right;\">\n",
       "      <th>Time_Delta_Minutes</th>\n",
       "      <th>-60.0</th>\n",
       "      <th>-59.0</th>\n",
       "      <th>-58.0</th>\n",
       "      <th>-57.0</th>\n",
       "      <th>-56.0</th>\n",
       "      <th>-55.0</th>\n",
       "      <th>-54.0</th>\n",
       "      <th>-53.0</th>\n",
       "      <th>-52.0</th>\n",
       "      <th>-51.0</th>\n",
       "      <th>...</th>\n",
       "      <th>51.0</th>\n",
       "      <th>52.0</th>\n",
       "      <th>53.0</th>\n",
       "      <th>54.0</th>\n",
       "      <th>55.0</th>\n",
       "      <th>56.0</th>\n",
       "      <th>57.0</th>\n",
       "      <th>58.0</th>\n",
       "      <th>59.0</th>\n",
       "      <th>60.0</th>\n",
       "    </tr>\n",
       "    <tr>\n",
       "      <th>Price_Change_Bin</th>\n",
       "      <th></th>\n",
       "      <th></th>\n",
       "      <th></th>\n",
       "      <th></th>\n",
       "      <th></th>\n",
       "      <th></th>\n",
       "      <th></th>\n",
       "      <th></th>\n",
       "      <th></th>\n",
       "      <th></th>\n",
       "      <th></th>\n",
       "      <th></th>\n",
       "      <th></th>\n",
       "      <th></th>\n",
       "      <th></th>\n",
       "      <th></th>\n",
       "      <th></th>\n",
       "      <th></th>\n",
       "      <th></th>\n",
       "      <th></th>\n",
       "      <th></th>\n",
       "    </tr>\n",
       "  </thead>\n",
       "  <tbody>\n",
       "    <tr>\n",
       "      <th>-1.00%</th>\n",
       "      <td>0</td>\n",
       "      <td>0</td>\n",
       "      <td>0</td>\n",
       "      <td>0</td>\n",
       "      <td>0</td>\n",
       "      <td>0</td>\n",
       "      <td>0</td>\n",
       "      <td>0</td>\n",
       "      <td>0</td>\n",
       "      <td>0</td>\n",
       "      <td>...</td>\n",
       "      <td>0</td>\n",
       "      <td>0</td>\n",
       "      <td>0</td>\n",
       "      <td>0</td>\n",
       "      <td>0</td>\n",
       "      <td>0</td>\n",
       "      <td>0</td>\n",
       "      <td>0</td>\n",
       "      <td>0</td>\n",
       "      <td>2</td>\n",
       "    </tr>\n",
       "    <tr>\n",
       "      <th>-0.95%</th>\n",
       "      <td>0</td>\n",
       "      <td>0</td>\n",
       "      <td>0</td>\n",
       "      <td>0</td>\n",
       "      <td>0</td>\n",
       "      <td>0</td>\n",
       "      <td>0</td>\n",
       "      <td>0</td>\n",
       "      <td>0</td>\n",
       "      <td>0</td>\n",
       "      <td>...</td>\n",
       "      <td>0</td>\n",
       "      <td>0</td>\n",
       "      <td>0</td>\n",
       "      <td>0</td>\n",
       "      <td>0</td>\n",
       "      <td>0</td>\n",
       "      <td>0</td>\n",
       "      <td>0</td>\n",
       "      <td>0</td>\n",
       "      <td>2</td>\n",
       "    </tr>\n",
       "    <tr>\n",
       "      <th>-0.90%</th>\n",
       "      <td>0</td>\n",
       "      <td>0</td>\n",
       "      <td>0</td>\n",
       "      <td>0</td>\n",
       "      <td>0</td>\n",
       "      <td>0</td>\n",
       "      <td>0</td>\n",
       "      <td>0</td>\n",
       "      <td>0</td>\n",
       "      <td>0</td>\n",
       "      <td>...</td>\n",
       "      <td>0</td>\n",
       "      <td>0</td>\n",
       "      <td>0</td>\n",
       "      <td>0</td>\n",
       "      <td>0</td>\n",
       "      <td>1</td>\n",
       "      <td>0</td>\n",
       "      <td>0</td>\n",
       "      <td>0</td>\n",
       "      <td>2</td>\n",
       "    </tr>\n",
       "    <tr>\n",
       "      <th>-0.85%</th>\n",
       "      <td>0</td>\n",
       "      <td>0</td>\n",
       "      <td>0</td>\n",
       "      <td>0</td>\n",
       "      <td>0</td>\n",
       "      <td>0</td>\n",
       "      <td>0</td>\n",
       "      <td>0</td>\n",
       "      <td>0</td>\n",
       "      <td>0</td>\n",
       "      <td>...</td>\n",
       "      <td>0</td>\n",
       "      <td>0</td>\n",
       "      <td>0</td>\n",
       "      <td>0</td>\n",
       "      <td>0</td>\n",
       "      <td>0</td>\n",
       "      <td>0</td>\n",
       "      <td>0</td>\n",
       "      <td>0</td>\n",
       "      <td>4</td>\n",
       "    </tr>\n",
       "    <tr>\n",
       "      <th>-0.80%</th>\n",
       "      <td>1</td>\n",
       "      <td>1</td>\n",
       "      <td>0</td>\n",
       "      <td>0</td>\n",
       "      <td>0</td>\n",
       "      <td>1</td>\n",
       "      <td>0</td>\n",
       "      <td>0</td>\n",
       "      <td>0</td>\n",
       "      <td>0</td>\n",
       "      <td>...</td>\n",
       "      <td>0</td>\n",
       "      <td>0</td>\n",
       "      <td>0</td>\n",
       "      <td>0</td>\n",
       "      <td>0</td>\n",
       "      <td>0</td>\n",
       "      <td>0</td>\n",
       "      <td>0</td>\n",
       "      <td>1</td>\n",
       "      <td>2</td>\n",
       "    </tr>\n",
       "    <tr>\n",
       "      <th>-0.75%</th>\n",
       "      <td>0</td>\n",
       "      <td>0</td>\n",
       "      <td>0</td>\n",
       "      <td>0</td>\n",
       "      <td>0</td>\n",
       "      <td>0</td>\n",
       "      <td>0</td>\n",
       "      <td>0</td>\n",
       "      <td>0</td>\n",
       "      <td>0</td>\n",
       "      <td>...</td>\n",
       "      <td>0</td>\n",
       "      <td>0</td>\n",
       "      <td>0</td>\n",
       "      <td>0</td>\n",
       "      <td>0</td>\n",
       "      <td>0</td>\n",
       "      <td>0</td>\n",
       "      <td>1</td>\n",
       "      <td>1</td>\n",
       "      <td>4</td>\n",
       "    </tr>\n",
       "    <tr>\n",
       "      <th>-0.70%</th>\n",
       "      <td>1</td>\n",
       "      <td>0</td>\n",
       "      <td>0</td>\n",
       "      <td>0</td>\n",
       "      <td>0</td>\n",
       "      <td>0</td>\n",
       "      <td>0</td>\n",
       "      <td>0</td>\n",
       "      <td>0</td>\n",
       "      <td>0</td>\n",
       "      <td>...</td>\n",
       "      <td>0</td>\n",
       "      <td>0</td>\n",
       "      <td>0</td>\n",
       "      <td>0</td>\n",
       "      <td>0</td>\n",
       "      <td>0</td>\n",
       "      <td>0</td>\n",
       "      <td>0</td>\n",
       "      <td>1</td>\n",
       "      <td>4</td>\n",
       "    </tr>\n",
       "    <tr>\n",
       "      <th>-0.65%</th>\n",
       "      <td>0</td>\n",
       "      <td>0</td>\n",
       "      <td>0</td>\n",
       "      <td>0</td>\n",
       "      <td>0</td>\n",
       "      <td>0</td>\n",
       "      <td>0</td>\n",
       "      <td>0</td>\n",
       "      <td>0</td>\n",
       "      <td>0</td>\n",
       "      <td>...</td>\n",
       "      <td>0</td>\n",
       "      <td>0</td>\n",
       "      <td>0</td>\n",
       "      <td>0</td>\n",
       "      <td>0</td>\n",
       "      <td>0</td>\n",
       "      <td>0</td>\n",
       "      <td>0</td>\n",
       "      <td>1</td>\n",
       "      <td>3</td>\n",
       "    </tr>\n",
       "    <tr>\n",
       "      <th>-0.60%</th>\n",
       "      <td>0</td>\n",
       "      <td>0</td>\n",
       "      <td>1</td>\n",
       "      <td>1</td>\n",
       "      <td>0</td>\n",
       "      <td>0</td>\n",
       "      <td>0</td>\n",
       "      <td>0</td>\n",
       "      <td>0</td>\n",
       "      <td>0</td>\n",
       "      <td>...</td>\n",
       "      <td>0</td>\n",
       "      <td>0</td>\n",
       "      <td>0</td>\n",
       "      <td>0</td>\n",
       "      <td>0</td>\n",
       "      <td>0</td>\n",
       "      <td>0</td>\n",
       "      <td>0</td>\n",
       "      <td>1</td>\n",
       "      <td>10</td>\n",
       "    </tr>\n",
       "    <tr>\n",
       "      <th>-0.55%</th>\n",
       "      <td>1</td>\n",
       "      <td>1</td>\n",
       "      <td>0</td>\n",
       "      <td>0</td>\n",
       "      <td>0</td>\n",
       "      <td>0</td>\n",
       "      <td>0</td>\n",
       "      <td>0</td>\n",
       "      <td>0</td>\n",
       "      <td>0</td>\n",
       "      <td>...</td>\n",
       "      <td>0</td>\n",
       "      <td>0</td>\n",
       "      <td>0</td>\n",
       "      <td>0</td>\n",
       "      <td>0</td>\n",
       "      <td>0</td>\n",
       "      <td>0</td>\n",
       "      <td>0</td>\n",
       "      <td>0</td>\n",
       "      <td>6</td>\n",
       "    </tr>\n",
       "    <tr>\n",
       "      <th>-0.50%</th>\n",
       "      <td>0</td>\n",
       "      <td>0</td>\n",
       "      <td>1</td>\n",
       "      <td>0</td>\n",
       "      <td>0</td>\n",
       "      <td>0</td>\n",
       "      <td>0</td>\n",
       "      <td>0</td>\n",
       "      <td>0</td>\n",
       "      <td>0</td>\n",
       "      <td>...</td>\n",
       "      <td>1</td>\n",
       "      <td>1</td>\n",
       "      <td>1</td>\n",
       "      <td>0</td>\n",
       "      <td>0</td>\n",
       "      <td>0</td>\n",
       "      <td>1</td>\n",
       "      <td>0</td>\n",
       "      <td>2</td>\n",
       "      <td>16</td>\n",
       "    </tr>\n",
       "    <tr>\n",
       "      <th>-0.45%</th>\n",
       "      <td>1</td>\n",
       "      <td>0</td>\n",
       "      <td>0</td>\n",
       "      <td>0</td>\n",
       "      <td>1</td>\n",
       "      <td>1</td>\n",
       "      <td>1</td>\n",
       "      <td>0</td>\n",
       "      <td>1</td>\n",
       "      <td>0</td>\n",
       "      <td>...</td>\n",
       "      <td>0</td>\n",
       "      <td>1</td>\n",
       "      <td>1</td>\n",
       "      <td>0</td>\n",
       "      <td>0</td>\n",
       "      <td>0</td>\n",
       "      <td>1</td>\n",
       "      <td>0</td>\n",
       "      <td>1</td>\n",
       "      <td>8</td>\n",
       "    </tr>\n",
       "    <tr>\n",
       "      <th>-0.40%</th>\n",
       "      <td>4</td>\n",
       "      <td>3</td>\n",
       "      <td>0</td>\n",
       "      <td>1</td>\n",
       "      <td>2</td>\n",
       "      <td>1</td>\n",
       "      <td>2</td>\n",
       "      <td>0</td>\n",
       "      <td>0</td>\n",
       "      <td>1</td>\n",
       "      <td>...</td>\n",
       "      <td>2</td>\n",
       "      <td>1</td>\n",
       "      <td>1</td>\n",
       "      <td>1</td>\n",
       "      <td>0</td>\n",
       "      <td>0</td>\n",
       "      <td>0</td>\n",
       "      <td>1</td>\n",
       "      <td>2</td>\n",
       "      <td>13</td>\n",
       "    </tr>\n",
       "    <tr>\n",
       "      <th>-0.35%</th>\n",
       "      <td>3</td>\n",
       "      <td>1</td>\n",
       "      <td>1</td>\n",
       "      <td>3</td>\n",
       "      <td>0</td>\n",
       "      <td>2</td>\n",
       "      <td>1</td>\n",
       "      <td>1</td>\n",
       "      <td>2</td>\n",
       "      <td>1</td>\n",
       "      <td>...</td>\n",
       "      <td>2</td>\n",
       "      <td>2</td>\n",
       "      <td>2</td>\n",
       "      <td>1</td>\n",
       "      <td>1</td>\n",
       "      <td>0</td>\n",
       "      <td>3</td>\n",
       "      <td>1</td>\n",
       "      <td>3</td>\n",
       "      <td>15</td>\n",
       "    </tr>\n",
       "    <tr>\n",
       "      <th>-0.30%</th>\n",
       "      <td>8</td>\n",
       "      <td>5</td>\n",
       "      <td>7</td>\n",
       "      <td>3</td>\n",
       "      <td>4</td>\n",
       "      <td>2</td>\n",
       "      <td>2</td>\n",
       "      <td>3</td>\n",
       "      <td>4</td>\n",
       "      <td>0</td>\n",
       "      <td>...</td>\n",
       "      <td>2</td>\n",
       "      <td>3</td>\n",
       "      <td>3</td>\n",
       "      <td>3</td>\n",
       "      <td>4</td>\n",
       "      <td>3</td>\n",
       "      <td>4</td>\n",
       "      <td>4</td>\n",
       "      <td>3</td>\n",
       "      <td>16</td>\n",
       "    </tr>\n",
       "    <tr>\n",
       "      <th>-0.25%</th>\n",
       "      <td>11</td>\n",
       "      <td>4</td>\n",
       "      <td>8</td>\n",
       "      <td>9</td>\n",
       "      <td>5</td>\n",
       "      <td>7</td>\n",
       "      <td>6</td>\n",
       "      <td>4</td>\n",
       "      <td>6</td>\n",
       "      <td>2</td>\n",
       "      <td>...</td>\n",
       "      <td>7</td>\n",
       "      <td>4</td>\n",
       "      <td>4</td>\n",
       "      <td>4</td>\n",
       "      <td>6</td>\n",
       "      <td>7</td>\n",
       "      <td>7</td>\n",
       "      <td>6</td>\n",
       "      <td>9</td>\n",
       "      <td>25</td>\n",
       "    </tr>\n",
       "    <tr>\n",
       "      <th>-0.20%</th>\n",
       "      <td>18</td>\n",
       "      <td>14</td>\n",
       "      <td>15</td>\n",
       "      <td>19</td>\n",
       "      <td>15</td>\n",
       "      <td>15</td>\n",
       "      <td>14</td>\n",
       "      <td>10</td>\n",
       "      <td>15</td>\n",
       "      <td>10</td>\n",
       "      <td>...</td>\n",
       "      <td>14</td>\n",
       "      <td>17</td>\n",
       "      <td>13</td>\n",
       "      <td>9</td>\n",
       "      <td>13</td>\n",
       "      <td>8</td>\n",
       "      <td>11</td>\n",
       "      <td>17</td>\n",
       "      <td>21</td>\n",
       "      <td>35</td>\n",
       "    </tr>\n",
       "    <tr>\n",
       "      <th>-0.15%</th>\n",
       "      <td>50</td>\n",
       "      <td>38</td>\n",
       "      <td>28</td>\n",
       "      <td>31</td>\n",
       "      <td>48</td>\n",
       "      <td>31</td>\n",
       "      <td>29</td>\n",
       "      <td>33</td>\n",
       "      <td>35</td>\n",
       "      <td>33</td>\n",
       "      <td>...</td>\n",
       "      <td>36</td>\n",
       "      <td>40</td>\n",
       "      <td>41</td>\n",
       "      <td>41</td>\n",
       "      <td>31</td>\n",
       "      <td>34</td>\n",
       "      <td>36</td>\n",
       "      <td>41</td>\n",
       "      <td>39</td>\n",
       "      <td>31</td>\n",
       "    </tr>\n",
       "    <tr>\n",
       "      <th>-0.10%</th>\n",
       "      <td>105</td>\n",
       "      <td>94</td>\n",
       "      <td>94</td>\n",
       "      <td>84</td>\n",
       "      <td>81</td>\n",
       "      <td>77</td>\n",
       "      <td>96</td>\n",
       "      <td>86</td>\n",
       "      <td>89</td>\n",
       "      <td>91</td>\n",
       "      <td>...</td>\n",
       "      <td>94</td>\n",
       "      <td>75</td>\n",
       "      <td>76</td>\n",
       "      <td>89</td>\n",
       "      <td>106</td>\n",
       "      <td>100</td>\n",
       "      <td>79</td>\n",
       "      <td>98</td>\n",
       "      <td>106</td>\n",
       "      <td>63</td>\n",
       "    </tr>\n",
       "    <tr>\n",
       "      <th>-0.05%</th>\n",
       "      <td>210</td>\n",
       "      <td>251</td>\n",
       "      <td>240</td>\n",
       "      <td>268</td>\n",
       "      <td>260</td>\n",
       "      <td>260</td>\n",
       "      <td>268</td>\n",
       "      <td>263</td>\n",
       "      <td>246</td>\n",
       "      <td>273</td>\n",
       "      <td>...</td>\n",
       "      <td>228</td>\n",
       "      <td>240</td>\n",
       "      <td>250</td>\n",
       "      <td>253</td>\n",
       "      <td>246</td>\n",
       "      <td>240</td>\n",
       "      <td>261</td>\n",
       "      <td>217</td>\n",
       "      <td>207</td>\n",
       "      <td>94</td>\n",
       "    </tr>\n",
       "    <tr>\n",
       "      <th>0.00%</th>\n",
       "      <td>152</td>\n",
       "      <td>159</td>\n",
       "      <td>175</td>\n",
       "      <td>153</td>\n",
       "      <td>171</td>\n",
       "      <td>168</td>\n",
       "      <td>158</td>\n",
       "      <td>177</td>\n",
       "      <td>192</td>\n",
       "      <td>180</td>\n",
       "      <td>...</td>\n",
       "      <td>182</td>\n",
       "      <td>188</td>\n",
       "      <td>176</td>\n",
       "      <td>177</td>\n",
       "      <td>154</td>\n",
       "      <td>172</td>\n",
       "      <td>195</td>\n",
       "      <td>174</td>\n",
       "      <td>151</td>\n",
       "      <td>61</td>\n",
       "    </tr>\n",
       "    <tr>\n",
       "      <th>0.05%</th>\n",
       "      <td>71</td>\n",
       "      <td>95</td>\n",
       "      <td>94</td>\n",
       "      <td>105</td>\n",
       "      <td>86</td>\n",
       "      <td>100</td>\n",
       "      <td>94</td>\n",
       "      <td>98</td>\n",
       "      <td>81</td>\n",
       "      <td>91</td>\n",
       "      <td>...</td>\n",
       "      <td>87</td>\n",
       "      <td>94</td>\n",
       "      <td>102</td>\n",
       "      <td>97</td>\n",
       "      <td>103</td>\n",
       "      <td>107</td>\n",
       "      <td>81</td>\n",
       "      <td>97</td>\n",
       "      <td>93</td>\n",
       "      <td>60</td>\n",
       "    </tr>\n",
       "    <tr>\n",
       "      <th>0.10%</th>\n",
       "      <td>40</td>\n",
       "      <td>32</td>\n",
       "      <td>33</td>\n",
       "      <td>30</td>\n",
       "      <td>30</td>\n",
       "      <td>39</td>\n",
       "      <td>34</td>\n",
       "      <td>34</td>\n",
       "      <td>33</td>\n",
       "      <td>32</td>\n",
       "      <td>...</td>\n",
       "      <td>46</td>\n",
       "      <td>37</td>\n",
       "      <td>42</td>\n",
       "      <td>35</td>\n",
       "      <td>37</td>\n",
       "      <td>33</td>\n",
       "      <td>31</td>\n",
       "      <td>42</td>\n",
       "      <td>41</td>\n",
       "      <td>38</td>\n",
       "    </tr>\n",
       "    <tr>\n",
       "      <th>0.15%</th>\n",
       "      <td>26</td>\n",
       "      <td>8</td>\n",
       "      <td>20</td>\n",
       "      <td>9</td>\n",
       "      <td>10</td>\n",
       "      <td>13</td>\n",
       "      <td>12</td>\n",
       "      <td>10</td>\n",
       "      <td>14</td>\n",
       "      <td>8</td>\n",
       "      <td>...</td>\n",
       "      <td>13</td>\n",
       "      <td>19</td>\n",
       "      <td>11</td>\n",
       "      <td>13</td>\n",
       "      <td>18</td>\n",
       "      <td>16</td>\n",
       "      <td>10</td>\n",
       "      <td>16</td>\n",
       "      <td>13</td>\n",
       "      <td>40</td>\n",
       "    </tr>\n",
       "    <tr>\n",
       "      <th>0.20%</th>\n",
       "      <td>11</td>\n",
       "      <td>13</td>\n",
       "      <td>7</td>\n",
       "      <td>8</td>\n",
       "      <td>10</td>\n",
       "      <td>4</td>\n",
       "      <td>7</td>\n",
       "      <td>7</td>\n",
       "      <td>7</td>\n",
       "      <td>3</td>\n",
       "      <td>...</td>\n",
       "      <td>11</td>\n",
       "      <td>4</td>\n",
       "      <td>4</td>\n",
       "      <td>3</td>\n",
       "      <td>4</td>\n",
       "      <td>7</td>\n",
       "      <td>3</td>\n",
       "      <td>7</td>\n",
       "      <td>9</td>\n",
       "      <td>20</td>\n",
       "    </tr>\n",
       "    <tr>\n",
       "      <th>0.25%</th>\n",
       "      <td>7</td>\n",
       "      <td>3</td>\n",
       "      <td>2</td>\n",
       "      <td>2</td>\n",
       "      <td>2</td>\n",
       "      <td>2</td>\n",
       "      <td>0</td>\n",
       "      <td>3</td>\n",
       "      <td>0</td>\n",
       "      <td>3</td>\n",
       "      <td>...</td>\n",
       "      <td>2</td>\n",
       "      <td>1</td>\n",
       "      <td>2</td>\n",
       "      <td>2</td>\n",
       "      <td>3</td>\n",
       "      <td>1</td>\n",
       "      <td>1</td>\n",
       "      <td>3</td>\n",
       "      <td>8</td>\n",
       "      <td>20</td>\n",
       "    </tr>\n",
       "    <tr>\n",
       "      <th>0.30%</th>\n",
       "      <td>1</td>\n",
       "      <td>4</td>\n",
       "      <td>3</td>\n",
       "      <td>2</td>\n",
       "      <td>1</td>\n",
       "      <td>1</td>\n",
       "      <td>1</td>\n",
       "      <td>0</td>\n",
       "      <td>0</td>\n",
       "      <td>0</td>\n",
       "      <td>...</td>\n",
       "      <td>2</td>\n",
       "      <td>1</td>\n",
       "      <td>2</td>\n",
       "      <td>0</td>\n",
       "      <td>0</td>\n",
       "      <td>0</td>\n",
       "      <td>1</td>\n",
       "      <td>2</td>\n",
       "      <td>5</td>\n",
       "      <td>26</td>\n",
       "    </tr>\n",
       "    <tr>\n",
       "      <th>0.35%</th>\n",
       "      <td>2</td>\n",
       "      <td>1</td>\n",
       "      <td>1</td>\n",
       "      <td>0</td>\n",
       "      <td>1</td>\n",
       "      <td>2</td>\n",
       "      <td>2</td>\n",
       "      <td>0</td>\n",
       "      <td>0</td>\n",
       "      <td>0</td>\n",
       "      <td>...</td>\n",
       "      <td>1</td>\n",
       "      <td>2</td>\n",
       "      <td>0</td>\n",
       "      <td>0</td>\n",
       "      <td>0</td>\n",
       "      <td>1</td>\n",
       "      <td>3</td>\n",
       "      <td>1</td>\n",
       "      <td>3</td>\n",
       "      <td>17</td>\n",
       "    </tr>\n",
       "    <tr>\n",
       "      <th>0.40%</th>\n",
       "      <td>1</td>\n",
       "      <td>2</td>\n",
       "      <td>0</td>\n",
       "      <td>1</td>\n",
       "      <td>2</td>\n",
       "      <td>2</td>\n",
       "      <td>0</td>\n",
       "      <td>0</td>\n",
       "      <td>1</td>\n",
       "      <td>1</td>\n",
       "      <td>...</td>\n",
       "      <td>1</td>\n",
       "      <td>0</td>\n",
       "      <td>0</td>\n",
       "      <td>0</td>\n",
       "      <td>0</td>\n",
       "      <td>0</td>\n",
       "      <td>1</td>\n",
       "      <td>2</td>\n",
       "      <td>3</td>\n",
       "      <td>11</td>\n",
       "    </tr>\n",
       "    <tr>\n",
       "      <th>0.45%</th>\n",
       "      <td>5</td>\n",
       "      <td>1</td>\n",
       "      <td>0</td>\n",
       "      <td>0</td>\n",
       "      <td>0</td>\n",
       "      <td>1</td>\n",
       "      <td>1</td>\n",
       "      <td>0</td>\n",
       "      <td>1</td>\n",
       "      <td>0</td>\n",
       "      <td>...</td>\n",
       "      <td>0</td>\n",
       "      <td>0</td>\n",
       "      <td>0</td>\n",
       "      <td>1</td>\n",
       "      <td>1</td>\n",
       "      <td>0</td>\n",
       "      <td>1</td>\n",
       "      <td>0</td>\n",
       "      <td>1</td>\n",
       "      <td>10</td>\n",
       "    </tr>\n",
       "    <tr>\n",
       "      <th>0.50%</th>\n",
       "      <td>0</td>\n",
       "      <td>0</td>\n",
       "      <td>0</td>\n",
       "      <td>0</td>\n",
       "      <td>0</td>\n",
       "      <td>0</td>\n",
       "      <td>0</td>\n",
       "      <td>0</td>\n",
       "      <td>0</td>\n",
       "      <td>0</td>\n",
       "      <td>...</td>\n",
       "      <td>0</td>\n",
       "      <td>0</td>\n",
       "      <td>0</td>\n",
       "      <td>0</td>\n",
       "      <td>1</td>\n",
       "      <td>0</td>\n",
       "      <td>0</td>\n",
       "      <td>0</td>\n",
       "      <td>2</td>\n",
       "      <td>10</td>\n",
       "    </tr>\n",
       "    <tr>\n",
       "      <th>0.55%</th>\n",
       "      <td>2</td>\n",
       "      <td>0</td>\n",
       "      <td>0</td>\n",
       "      <td>0</td>\n",
       "      <td>1</td>\n",
       "      <td>0</td>\n",
       "      <td>0</td>\n",
       "      <td>0</td>\n",
       "      <td>0</td>\n",
       "      <td>0</td>\n",
       "      <td>...</td>\n",
       "      <td>0</td>\n",
       "      <td>0</td>\n",
       "      <td>0</td>\n",
       "      <td>0</td>\n",
       "      <td>1</td>\n",
       "      <td>0</td>\n",
       "      <td>1</td>\n",
       "      <td>0</td>\n",
       "      <td>0</td>\n",
       "      <td>4</td>\n",
       "    </tr>\n",
       "    <tr>\n",
       "      <th>0.60%</th>\n",
       "      <td>0</td>\n",
       "      <td>0</td>\n",
       "      <td>0</td>\n",
       "      <td>0</td>\n",
       "      <td>0</td>\n",
       "      <td>0</td>\n",
       "      <td>0</td>\n",
       "      <td>0</td>\n",
       "      <td>0</td>\n",
       "      <td>0</td>\n",
       "      <td>...</td>\n",
       "      <td>0</td>\n",
       "      <td>0</td>\n",
       "      <td>0</td>\n",
       "      <td>1</td>\n",
       "      <td>0</td>\n",
       "      <td>0</td>\n",
       "      <td>0</td>\n",
       "      <td>0</td>\n",
       "      <td>1</td>\n",
       "      <td>5</td>\n",
       "    </tr>\n",
       "    <tr>\n",
       "      <th>0.65%</th>\n",
       "      <td>0</td>\n",
       "      <td>0</td>\n",
       "      <td>0</td>\n",
       "      <td>0</td>\n",
       "      <td>0</td>\n",
       "      <td>0</td>\n",
       "      <td>1</td>\n",
       "      <td>0</td>\n",
       "      <td>0</td>\n",
       "      <td>0</td>\n",
       "      <td>...</td>\n",
       "      <td>0</td>\n",
       "      <td>0</td>\n",
       "      <td>0</td>\n",
       "      <td>0</td>\n",
       "      <td>1</td>\n",
       "      <td>0</td>\n",
       "      <td>0</td>\n",
       "      <td>0</td>\n",
       "      <td>0</td>\n",
       "      <td>8</td>\n",
       "    </tr>\n",
       "    <tr>\n",
       "      <th>0.70%</th>\n",
       "      <td>0</td>\n",
       "      <td>0</td>\n",
       "      <td>0</td>\n",
       "      <td>0</td>\n",
       "      <td>0</td>\n",
       "      <td>0</td>\n",
       "      <td>0</td>\n",
       "      <td>0</td>\n",
       "      <td>0</td>\n",
       "      <td>0</td>\n",
       "      <td>...</td>\n",
       "      <td>0</td>\n",
       "      <td>0</td>\n",
       "      <td>0</td>\n",
       "      <td>0</td>\n",
       "      <td>0</td>\n",
       "      <td>0</td>\n",
       "      <td>0</td>\n",
       "      <td>0</td>\n",
       "      <td>0</td>\n",
       "      <td>6</td>\n",
       "    </tr>\n",
       "    <tr>\n",
       "      <th>0.75%</th>\n",
       "      <td>0</td>\n",
       "      <td>0</td>\n",
       "      <td>0</td>\n",
       "      <td>0</td>\n",
       "      <td>0</td>\n",
       "      <td>0</td>\n",
       "      <td>0</td>\n",
       "      <td>0</td>\n",
       "      <td>1</td>\n",
       "      <td>0</td>\n",
       "      <td>...</td>\n",
       "      <td>0</td>\n",
       "      <td>0</td>\n",
       "      <td>0</td>\n",
       "      <td>0</td>\n",
       "      <td>0</td>\n",
       "      <td>0</td>\n",
       "      <td>0</td>\n",
       "      <td>0</td>\n",
       "      <td>2</td>\n",
       "      <td>2</td>\n",
       "    </tr>\n",
       "    <tr>\n",
       "      <th>0.80%</th>\n",
       "      <td>0</td>\n",
       "      <td>0</td>\n",
       "      <td>0</td>\n",
       "      <td>0</td>\n",
       "      <td>0</td>\n",
       "      <td>1</td>\n",
       "      <td>0</td>\n",
       "      <td>0</td>\n",
       "      <td>0</td>\n",
       "      <td>0</td>\n",
       "      <td>...</td>\n",
       "      <td>0</td>\n",
       "      <td>0</td>\n",
       "      <td>0</td>\n",
       "      <td>0</td>\n",
       "      <td>0</td>\n",
       "      <td>0</td>\n",
       "      <td>0</td>\n",
       "      <td>0</td>\n",
       "      <td>0</td>\n",
       "      <td>2</td>\n",
       "    </tr>\n",
       "    <tr>\n",
       "      <th>0.85%</th>\n",
       "      <td>0</td>\n",
       "      <td>0</td>\n",
       "      <td>0</td>\n",
       "      <td>0</td>\n",
       "      <td>0</td>\n",
       "      <td>0</td>\n",
       "      <td>0</td>\n",
       "      <td>0</td>\n",
       "      <td>0</td>\n",
       "      <td>0</td>\n",
       "      <td>...</td>\n",
       "      <td>0</td>\n",
       "      <td>0</td>\n",
       "      <td>0</td>\n",
       "      <td>0</td>\n",
       "      <td>0</td>\n",
       "      <td>0</td>\n",
       "      <td>0</td>\n",
       "      <td>0</td>\n",
       "      <td>0</td>\n",
       "      <td>1</td>\n",
       "    </tr>\n",
       "    <tr>\n",
       "      <th>0.90%</th>\n",
       "      <td>0</td>\n",
       "      <td>0</td>\n",
       "      <td>0</td>\n",
       "      <td>0</td>\n",
       "      <td>0</td>\n",
       "      <td>0</td>\n",
       "      <td>0</td>\n",
       "      <td>0</td>\n",
       "      <td>0</td>\n",
       "      <td>0</td>\n",
       "      <td>...</td>\n",
       "      <td>0</td>\n",
       "      <td>0</td>\n",
       "      <td>0</td>\n",
       "      <td>0</td>\n",
       "      <td>0</td>\n",
       "      <td>0</td>\n",
       "      <td>0</td>\n",
       "      <td>0</td>\n",
       "      <td>0</td>\n",
       "      <td>5</td>\n",
       "    </tr>\n",
       "    <tr>\n",
       "      <th>0.95%</th>\n",
       "      <td>0</td>\n",
       "      <td>0</td>\n",
       "      <td>0</td>\n",
       "      <td>0</td>\n",
       "      <td>0</td>\n",
       "      <td>0</td>\n",
       "      <td>0</td>\n",
       "      <td>0</td>\n",
       "      <td>0</td>\n",
       "      <td>0</td>\n",
       "      <td>...</td>\n",
       "      <td>0</td>\n",
       "      <td>0</td>\n",
       "      <td>0</td>\n",
       "      <td>0</td>\n",
       "      <td>0</td>\n",
       "      <td>0</td>\n",
       "      <td>0</td>\n",
       "      <td>0</td>\n",
       "      <td>0</td>\n",
       "      <td>2</td>\n",
       "    </tr>\n",
       "  </tbody>\n",
       "</table>\n",
       "<p>40 rows × 121 columns</p>\n",
       "</div>"
      ],
      "text/plain": [
       "Time_Delta_Minutes  -60.0  -59.0  -58.0  -57.0  -56.0  -55.0  -54.0  -53.0  \\\n",
       "Price_Change_Bin                                                             \n",
       "-1.00%                  0      0      0      0      0      0      0      0   \n",
       "-0.95%                  0      0      0      0      0      0      0      0   \n",
       "-0.90%                  0      0      0      0      0      0      0      0   \n",
       "-0.85%                  0      0      0      0      0      0      0      0   \n",
       "-0.80%                  1      1      0      0      0      1      0      0   \n",
       "-0.75%                  0      0      0      0      0      0      0      0   \n",
       "-0.70%                  1      0      0      0      0      0      0      0   \n",
       "-0.65%                  0      0      0      0      0      0      0      0   \n",
       "-0.60%                  0      0      1      1      0      0      0      0   \n",
       "-0.55%                  1      1      0      0      0      0      0      0   \n",
       "-0.50%                  0      0      1      0      0      0      0      0   \n",
       "-0.45%                  1      0      0      0      1      1      1      0   \n",
       "-0.40%                  4      3      0      1      2      1      2      0   \n",
       "-0.35%                  3      1      1      3      0      2      1      1   \n",
       "-0.30%                  8      5      7      3      4      2      2      3   \n",
       "-0.25%                 11      4      8      9      5      7      6      4   \n",
       "-0.20%                 18     14     15     19     15     15     14     10   \n",
       "-0.15%                 50     38     28     31     48     31     29     33   \n",
       "-0.10%                105     94     94     84     81     77     96     86   \n",
       "-0.05%                210    251    240    268    260    260    268    263   \n",
       "0.00%                 152    159    175    153    171    168    158    177   \n",
       "0.05%                  71     95     94    105     86    100     94     98   \n",
       "0.10%                  40     32     33     30     30     39     34     34   \n",
       "0.15%                  26      8     20      9     10     13     12     10   \n",
       "0.20%                  11     13      7      8     10      4      7      7   \n",
       "0.25%                   7      3      2      2      2      2      0      3   \n",
       "0.30%                   1      4      3      2      1      1      1      0   \n",
       "0.35%                   2      1      1      0      1      2      2      0   \n",
       "0.40%                   1      2      0      1      2      2      0      0   \n",
       "0.45%                   5      1      0      0      0      1      1      0   \n",
       "0.50%                   0      0      0      0      0      0      0      0   \n",
       "0.55%                   2      0      0      0      1      0      0      0   \n",
       "0.60%                   0      0      0      0      0      0      0      0   \n",
       "0.65%                   0      0      0      0      0      0      1      0   \n",
       "0.70%                   0      0      0      0      0      0      0      0   \n",
       "0.75%                   0      0      0      0      0      0      0      0   \n",
       "0.80%                   0      0      0      0      0      1      0      0   \n",
       "0.85%                   0      0      0      0      0      0      0      0   \n",
       "0.90%                   0      0      0      0      0      0      0      0   \n",
       "0.95%                   0      0      0      0      0      0      0      0   \n",
       "\n",
       "Time_Delta_Minutes  -52.0  -51.0  ...   51.0   52.0   53.0   54.0   55.0  \\\n",
       "Price_Change_Bin                  ...                                      \n",
       "-1.00%                  0      0  ...      0      0      0      0      0   \n",
       "-0.95%                  0      0  ...      0      0      0      0      0   \n",
       "-0.90%                  0      0  ...      0      0      0      0      0   \n",
       "-0.85%                  0      0  ...      0      0      0      0      0   \n",
       "-0.80%                  0      0  ...      0      0      0      0      0   \n",
       "-0.75%                  0      0  ...      0      0      0      0      0   \n",
       "-0.70%                  0      0  ...      0      0      0      0      0   \n",
       "-0.65%                  0      0  ...      0      0      0      0      0   \n",
       "-0.60%                  0      0  ...      0      0      0      0      0   \n",
       "-0.55%                  0      0  ...      0      0      0      0      0   \n",
       "-0.50%                  0      0  ...      1      1      1      0      0   \n",
       "-0.45%                  1      0  ...      0      1      1      0      0   \n",
       "-0.40%                  0      1  ...      2      1      1      1      0   \n",
       "-0.35%                  2      1  ...      2      2      2      1      1   \n",
       "-0.30%                  4      0  ...      2      3      3      3      4   \n",
       "-0.25%                  6      2  ...      7      4      4      4      6   \n",
       "-0.20%                 15     10  ...     14     17     13      9     13   \n",
       "-0.15%                 35     33  ...     36     40     41     41     31   \n",
       "-0.10%                 89     91  ...     94     75     76     89    106   \n",
       "-0.05%                246    273  ...    228    240    250    253    246   \n",
       "0.00%                 192    180  ...    182    188    176    177    154   \n",
       "0.05%                  81     91  ...     87     94    102     97    103   \n",
       "0.10%                  33     32  ...     46     37     42     35     37   \n",
       "0.15%                  14      8  ...     13     19     11     13     18   \n",
       "0.20%                   7      3  ...     11      4      4      3      4   \n",
       "0.25%                   0      3  ...      2      1      2      2      3   \n",
       "0.30%                   0      0  ...      2      1      2      0      0   \n",
       "0.35%                   0      0  ...      1      2      0      0      0   \n",
       "0.40%                   1      1  ...      1      0      0      0      0   \n",
       "0.45%                   1      0  ...      0      0      0      1      1   \n",
       "0.50%                   0      0  ...      0      0      0      0      1   \n",
       "0.55%                   0      0  ...      0      0      0      0      1   \n",
       "0.60%                   0      0  ...      0      0      0      1      0   \n",
       "0.65%                   0      0  ...      0      0      0      0      1   \n",
       "0.70%                   0      0  ...      0      0      0      0      0   \n",
       "0.75%                   1      0  ...      0      0      0      0      0   \n",
       "0.80%                   0      0  ...      0      0      0      0      0   \n",
       "0.85%                   0      0  ...      0      0      0      0      0   \n",
       "0.90%                   0      0  ...      0      0      0      0      0   \n",
       "0.95%                   0      0  ...      0      0      0      0      0   \n",
       "\n",
       "Time_Delta_Minutes   56.0   57.0   58.0   59.0   60.0  \n",
       "Price_Change_Bin                                       \n",
       "-1.00%                  0      0      0      0      2  \n",
       "-0.95%                  0      0      0      0      2  \n",
       "-0.90%                  1      0      0      0      2  \n",
       "-0.85%                  0      0      0      0      4  \n",
       "-0.80%                  0      0      0      1      2  \n",
       "-0.75%                  0      0      1      1      4  \n",
       "-0.70%                  0      0      0      1      4  \n",
       "-0.65%                  0      0      0      1      3  \n",
       "-0.60%                  0      0      0      1     10  \n",
       "-0.55%                  0      0      0      0      6  \n",
       "-0.50%                  0      1      0      2     16  \n",
       "-0.45%                  0      1      0      1      8  \n",
       "-0.40%                  0      0      1      2     13  \n",
       "-0.35%                  0      3      1      3     15  \n",
       "-0.30%                  3      4      4      3     16  \n",
       "-0.25%                  7      7      6      9     25  \n",
       "-0.20%                  8     11     17     21     35  \n",
       "-0.15%                 34     36     41     39     31  \n",
       "-0.10%                100     79     98    106     63  \n",
       "-0.05%                240    261    217    207     94  \n",
       "0.00%                 172    195    174    151     61  \n",
       "0.05%                 107     81     97     93     60  \n",
       "0.10%                  33     31     42     41     38  \n",
       "0.15%                  16     10     16     13     40  \n",
       "0.20%                   7      3      7      9     20  \n",
       "0.25%                   1      1      3      8     20  \n",
       "0.30%                   0      1      2      5     26  \n",
       "0.35%                   1      3      1      3     17  \n",
       "0.40%                   0      1      2      3     11  \n",
       "0.45%                   0      1      0      1     10  \n",
       "0.50%                   0      0      0      2     10  \n",
       "0.55%                   0      1      0      0      4  \n",
       "0.60%                   0      0      0      1      5  \n",
       "0.65%                   0      0      0      0      8  \n",
       "0.70%                   0      0      0      0      6  \n",
       "0.75%                   0      0      0      2      2  \n",
       "0.80%                   0      0      0      0      2  \n",
       "0.85%                   0      0      0      0      1  \n",
       "0.90%                   0      0      0      0      5  \n",
       "0.95%                   0      0      0      0      2  \n",
       "\n",
       "[40 rows x 121 columns]"
      ]
     },
     "metadata": {},
     "output_type": "display_data"
    }
   ],
   "source": [
    "display(heatmap_data_non_release)\n",
    "display(heatmap_data_release)"
   ]
  },
  {
   "cell_type": "code",
   "execution_count": 132,
   "metadata": {},
   "outputs": [
    {
     "name": "stdout",
     "output_type": "stream",
     "text": [
      "    Minute  KS Statistic   P-value\n",
      "0      0.0      0.108216  0.000003\n",
      "1      1.0      0.056039  0.061736\n",
      "2      2.0      0.080936  0.001456\n",
      "3      3.0      0.033433  0.560752\n",
      "4      4.0      0.046275  0.185258\n",
      "5      5.0      0.049322  0.134454\n",
      "6      6.0      0.034071  0.536437\n",
      "7      7.0      0.030623  0.670872\n",
      "8      8.0      0.048583  0.146750\n",
      "9      9.0      0.039437  0.353639\n",
      "10    10.0      0.031992  0.618228\n",
      "11    11.0      0.027882  0.776619\n",
      "12    12.0      0.027904  0.775911\n",
      "13    13.0      0.045514  0.200916\n",
      "14    14.0      0.031489  0.637217\n",
      "15    15.0      0.040567  0.320107\n"
     ]
    },
    {
     "data": {
      "image/png": "[encoded data removed]",
      "text/plain": [
       "<Figure size 1000x600 with 1 Axes>"
      ]
     },
     "metadata": {},
     "output_type": "display_data"
    }
   ],
   "source": [
    "import matplotlib.pyplot as plt\n",
    "\n",
    "\n",
    "# Assuming heatmap_data_non_release and heatmap_data_release are already defined as pandas DataFrames\n",
    "\n",
    "# 1. Get Price Change Bin midpoints\n",
    "price_change_bins_labels = heatmap_data_non_release.index\n",
    "price_change_bins_midpoints = []\n",
    "for label in price_change_bins_labels:\n",
    "    lower_bound_str = label.split('%')[0]\n",
    "    # Assuming bins are like '-1.00%' to '-0.95%', taking the lower bound as midpoint representative\n",
    "    # For more accurate midpoint, you'd need to parse bin ranges if available instead of labels\n",
    "    midpoint = float(lower_bound_str) / 100.0\n",
    "    price_change_bins_midpoints.append(midpoint)\n",
    "price_change_bins_midpoints = np.array(price_change_bins_midpoints)\n",
    "\n",
    "# 2. Minutes to test (0 to 15)\n",
    "minutes_to_test =pd.Series([float(m) for m in range(0, 16)]) # Convert to string to match column names\n",
    "# 3. Store KS test results\n",
    "ks_results = []\n",
    "\n",
    "for minute in minutes_to_test:\n",
    "    if minute not in heatmap_data_non_release.columns or minute not in heatmap_data_release.columns:\n",
    "        print(f\"Minute {minute} not found in both heatmaps. Skipping.\")\n",
    "        continue\n",
    "\n",
    "    # Reconstruct samples for non-release data\n",
    "    sample_non_release = []\n",
    "    frequencies_non_release = heatmap_data_non_release[minute]\n",
    "    for i, freq in enumerate(frequencies_non_release):\n",
    "        sample_non_release.extend([price_change_bins_midpoints[i]] * freq)\n",
    "    sample_non_release = np.array(sample_non_release)\n",
    "\n",
    "    # Reconstruct samples for release data\n",
    "    sample_release = []\n",
    "    frequencies_release = heatmap_data_release[minute]\n",
    "    for i, freq in enumerate(frequencies_release):\n",
    "        sample_release.extend([price_change_bins_midpoints[i]] * freq)\n",
    "    sample_release = np.array(sample_release)\n",
    "\n",
    "    # Perform KS test if both samples are not empty\n",
    "    if sample_non_release.size > 0 and sample_release.size > 0:\n",
    "        ks_statistic, p_value = stats.ks_2samp(sample_non_release, sample_release)\n",
    "        ks_results.append({\n",
    "            'Minute': float(minute),\n",
    "            'KS Statistic': ks_statistic,\n",
    "            'P-value': p_value\n",
    "        })\n",
    "    else:\n",
    "        ks_results.append({\n",
    "            'Minute': float(minute),\n",
    "            'KS Statistic': np.nan,\n",
    "            'P-value': np.nan,\n",
    "            'Warning': 'One or both samples are empty, KS test not performed.'\n",
    "        })\n",
    "\n",
    "# 4. Convert results to DataFrame for easier viewing\n",
    "ks_results_df = pd.DataFrame(ks_results)\n",
    "print(ks_results_df)\n",
    "\n",
    "# 5. Optional: Plot p-values\n",
    "plt.figure(figsize=(10, 6))\n",
    "plt.plot(ks_results_df['Minute'], ks_results_df['P-value'], marker='o', linestyle='-')\n",
    "plt.axhline(0.1, color='r', linestyle='--', label='Significance Level (0.1)')\n",
    "plt.title('KS Test P-values for Price Change Distributions (Release vs. Non-Release Days)')\n",
    "plt.xlabel('Minutes Relative to Release')\n",
    "plt.ylabel('P-value')\n",
    "plt.xticks(ks_results_df['Minute'])\n",
    "plt.legend()\n",
    "plt.grid(True)\n",
    "plt.show()"
   ]
  },
  {
   "cell_type": "markdown",
   "metadata": {},
   "source": [
    "Ah, a very pertinent question! The choice between a p-value cutoff of 0.05 and 0.1 (or any other value) is not arbitrary, and it hinges on understanding the trade-offs in hypothesis testing and the specific context of your analysis.  Let's delve into a justification for using a p-value of 0.1 instead of the more conventional 0.05 in your EIA WPSR crude oil surprise project.\n",
    "\n",
    "**Justification for using a p-value cutoff of 0.1 (instead of 0.05):**\n",
    "\n",
    "The decision to use a p-value cutoff of 0.1 is fundamentally about **balancing the risk of Type I error (false positive) and Type II error (false negative)** in your hypothesis testing framework.\n",
    "\n",
    "Here's a breakdown of the rationale:\n",
    "\n",
    "1.  **Increased Power and Reduced Risk of Type II Error (False Negatives):**\n",
    "\n",
    "    *   **What is Type II Error?**  A Type II error occurs when you *fail to reject the null hypothesis when it is actually false*. In your context, this would mean concluding that there is *no statistically significant difference* in the price change distributions between release and non-release minutes, when in reality, a difference *does* exist. You'd be missing a real effect.\n",
    "    *   **Why 0.1 increases power:** By raising the p-value threshold from 0.05 to 0.1, you are *increasing the power* of your test. Power is the probability of correctly rejecting the null hypothesis when it is false (i.e., avoiding a Type II error). A higher p-value cutoff makes it *easier* to reject the null hypothesis.\n",
    "    *   **Relevance to Exploratory Analysis:**  If your project is in an **exploratory phase**, where you are trying to identify potential signals or effects of EIA releases, minimizing Type II errors can be more important than strictly controlling Type I errors. You might be willing to accept a slightly higher chance of a false positive (Type I error) to ensure you don't miss potentially real and interesting effects (Type II error).\n",
    "\n",
    "2.  **Context of Financial Markets and Signal Detection:**\n",
    "\n",
    "    *   **Noisy Data:** Financial market data, especially high-frequency data, is inherently noisy.  There are many factors influencing price movements beyond just EIA releases. Detecting statistically significant effects in such noisy environments can be challenging. Using a less stringent p-value cutoff might be necessary to detect signals that are genuinely present but are somewhat weak amidst the noise.\n",
    "    *   **Economic Significance vs. Strict Statistical Significance:** In finance, sometimes an effect might be *economically significant* (i.e., practically important for trading or risk management) even if it doesn't reach a very strict statistical significance level like p < 0.05.  A p-value of 0.1 might indicate a potential effect worth further investigation, even if it's not a \"slam dunk\" in terms of statistical certainty at the 0.05 level.\n",
    "    *   **Early Stage Signal Identification:** You might be using the KS test at this stage to *screen* for minutes where there *might* be a reaction to EIA releases.  Minutes showing p-values between 0.05 and 0.1 could be flagged for more in-depth analysis using other methods or focusing on different aspects (e.g., effect size, consistency across releases, economic implications).\n",
    "\n",
    "3.  **Sample Size and Statistical Power Considerations:**\n",
    "\n",
    "    *   **Limited Sample Size:** If you have a relatively limited number of EIA release events in your dataset, your statistical power might be inherently lower.  In situations with lower power, using a more lenient p-value cutoff can be a pragmatic way to increase the chance of detecting real effects that might be missed at the 0.05 level simply due to lack of statistical power.\n",
    "    *   **Balancing Power and Type I Error:**  While increasing alpha (to 0.1) increases the risk of Type I error, it's a direct way to boost statistical power, especially when sample sizes are not very large.\n",
    "\n",
    "4.  **Cost of Errors in Your Specific Project:**\n",
    "\n",
    "    *   **Consider the Consequences of False Positives vs. False Negatives:**\n",
    "        *   **Type I Error (False Positive at 0.1):**  You might conclude there's a difference in distributions at a particular minute when there isn't a real, consistent difference.  This might lead you to further investigate that minute, perhaps look at trading strategies based on it, which could turn out to be less effective than you initially thought. The \"cost\" might be some wasted research time.\n",
    "        *   **Type II Error (False Negative at 0.05):** You might miss a genuine, albeit weaker, market reaction at a specific minute by using too strict a cutoff. This could mean overlooking a potentially valuable insight into market behavior around EIA releases. The \"cost\" could be missing a real effect and potentially underestimating the market's response.\n",
    "\n",
    "    *   **In Exploratory Research, False Negatives Can Be More Costly:**  In the early stages of research, especially in a field like quantitative finance where identifying new signals is valuable, missing a real signal (Type II error) might be considered more detrimental than pursuing a few false leads (Type I errors).\n",
    "\n",
    "**Important Caveats and Considerations when using p=0.1:**\n",
    "\n",
    "*   **Transparency is Key:**  If you choose to use a p-value of 0.1, **be transparent and clearly state this choice in your report or analysis.** Explain your justification for using a less stringent cutoff. Don't present results as if they were significant at the 0.05 level if they are only significant at 0.1.\n",
    "*   **Increased Type I Error Rate:**  Be aware that using p < 0.1 means you are accepting a 10% chance of making a Type I error for each test you perform. If you are conducting many tests, the overall probability of getting at least one false positive will increase. Consider corrections for multiple testing if you are performing many KS tests across different minutes (though for exploratory analysis, strict multiple testing corrections are sometimes relaxed).\n",
    "*   **Confirmation is Important:**  If you find minutes that are \"significant\" at the p < 0.1 level, treat these as **potential signals that warrant further investigation, not definitive conclusions.**  Follow up with:\n",
    "    *   **Visual Inspection:**  Carefully examine the distributions visually (histograms, CDFs) to understand the nature of the difference.\n",
    "    *   **Robustness Checks:**  Test the finding on different datasets, time periods, or using different methodologies.\n",
    "    *   **Economic Plausibility:**  Does the finding make sense from an economic or market microstructure perspective?\n",
    "\n",
    "**In conclusion, using a p-value cutoff of 0.1 can be a justifiable choice in exploratory quantitative finance research, especially when:**\n",
    "\n",
    "*   You are in a signal-seeking phase.\n",
    "*   Minimizing Type II errors (false negatives) is prioritized over strictly controlling Type I errors.\n",
    "*   Working with noisy financial market data.\n",
    "*   Sample sizes are potentially limited, and statistical power might be a concern.\n",
    "\n",
    "Just remember to be transparent about your choice, understand the implications for Type I error, and treat \"significant\" findings at this level as preliminary signals requiring further validation."
   ]
  },
  {
   "cell_type": "code",
   "execution_count": 130,
   "metadata": {},
   "outputs": [
    {
     "name": "stdout",
     "output_type": "stream",
     "text": [
      "KS Test Results for Minute 0.0:\n",
      "KS Statistic: 0.1082\n",
      "P-value: 0.0000\n"
     ]
    },
    {
     "data": {
      "image/png": "[encoded data removed]",
      "text/plain": [
       "<Figure size 1200x600 with 1 Axes>"
      ]
     },
     "metadata": {},
     "output_type": "display_data"
    }
   ],
   "source": [
    "\n",
    "minute_to_test = 0.0  # Or '0' if your column name is just '0'\n",
    "\n",
    "# 1. Get Price Change Bin midpoints (same as before)\n",
    "price_change_bins_labels = heatmap_data_non_release.index\n",
    "price_change_bins_midpoints = []\n",
    "for label in price_change_bins_labels:\n",
    "    lower_bound_str = label.split('%')[0]\n",
    "    midpoint = float(lower_bound_str) / 100.0\n",
    "    price_change_bins_midpoints.append(midpoint)\n",
    "price_change_bins_midpoints = np.array(price_change_bins_midpoints)\n",
    "\n",
    "# 2. Extract frequency distributions for minute 0\n",
    "if minute_to_test not in heatmap_data_non_release.columns or minute_to_test not in heatmap_data_release.columns:\n",
    "    print(f\"Minute {minute_to_test} not found in both heatmaps. Cannot perform KS test.\")\n",
    "else:\n",
    "    frequencies_non_release_minute_0 = heatmap_data_non_release[minute_to_test]\n",
    "    frequencies_release_minute_0 = heatmap_data_release[minute_to_test]\n",
    "\n",
    "    # 3. Reconstruct samples for minute 0\n",
    "    sample_non_release_minute_0 = []\n",
    "    for i, freq in enumerate(frequencies_non_release_minute_0):\n",
    "        sample_non_release_minute_0.extend([price_change_bins_midpoints[i]] * freq)\n",
    "    sample_non_release_minute_0 = np.array(sample_non_release_minute_0)\n",
    "\n",
    "    sample_release_minute_0 = []\n",
    "    for i, freq in enumerate(frequencies_release_minute_0):\n",
    "        sample_release_minute_0.extend([price_change_bins_midpoints[i]] * freq)\n",
    "    sample_release_minute_0 = np.array(sample_release_minute_0)\n",
    "\n",
    "    # 4. Perform KS test if both samples are not empty\n",
    "    if sample_non_release_minute_0.size > 0 and sample_release_minute_0.size > 0:\n",
    "        ks_statistic, p_value = stats.ks_2samp(sample_non_release_minute_0, sample_release_minute_0)\n",
    "\n",
    "        print(f\"KS Test Results for Minute {minute_to_test}:\")\n",
    "        print(f\"KS Statistic: {ks_statistic:.4f}\")\n",
    "        print(f\"P-value: {p_value:.4f}\")\n",
    "\n",
    "        # 5. Optional: Visualize the distributions (Histograms)\n",
    "        plt.figure(figsize=(12, 6))\n",
    "        plt.hist(sample_non_release_minute_0, bins=price_change_bins_midpoints, alpha=0.6, label='Non-Release Days (Minute 0)', density=True)\n",
    "        plt.hist(sample_release_minute_0, bins=price_change_bins_midpoints, alpha=0.6, label='Release Days (Minute 0)', density=True)\n",
    "        plt.title(f'Distribution of Price Changes at Minute {minute_to_test} (Release vs. Non-Release Days)')\n",
    "        plt.xlabel('Percentage Price Change')\n",
    "        plt.ylabel('Density')\n",
    "        plt.legend(loc='upper right')\n",
    "        plt.grid(axis='y', alpha=0.75)\n",
    "        plt.show()\n",
    "\n",
    "    else:\n",
    "        print(f\"Warning: One or both samples for Minute {minute_to_test} are empty. KS test not performed.\")"
   ]
  },
  {
   "cell_type": "markdown",
   "metadata": {},
   "source": [
    "Since the p-value seems to be below the chosen threshold (<0.1) until minute 2 we conclude that the EIA release takes around 2 minutes to be fully accounted for by market price."
   ]
  },
  {
   "cell_type": "code",
   "execution_count": 138,
   "metadata": {},
   "outputs": [
    {
     "data": {
      "text/html": [
       "<div>\n",
       "<style scoped>\n",
       "    .dataframe tbody tr th:only-of-type {\n",
       "        vertical-align: middle;\n",
       "    }\n",
       "\n",
       "    .dataframe tbody tr th {\n",
       "        vertical-align: top;\n",
       "    }\n",
       "\n",
       "    .dataframe thead th {\n",
       "        text-align: right;\n",
       "    }\n",
       "</style>\n",
       "<table border=\"1\" class=\"dataframe\">\n",
       "  <thead>\n",
       "    <tr style=\"text-align: right;\">\n",
       "      <th></th>\n",
       "      <th>Date</th>\n",
       "      <th>Time</th>\n",
       "      <th>Open</th>\n",
       "      <th>High</th>\n",
       "      <th>Low</th>\n",
       "      <th>Close</th>\n",
       "      <th>Volume</th>\n",
       "      <th>Datetime</th>\n",
       "      <th>Percent_Change</th>\n",
       "    </tr>\n",
       "    <tr>\n",
       "      <th>Datetime_CST</th>\n",
       "      <th></th>\n",
       "      <th></th>\n",
       "      <th></th>\n",
       "      <th></th>\n",
       "      <th></th>\n",
       "      <th></th>\n",
       "      <th></th>\n",
       "      <th></th>\n",
       "      <th></th>\n",
       "    </tr>\n",
       "  </thead>\n",
       "  <tbody>\n",
       "    <tr>\n",
       "      <th>2011-03-07 23:59:00-06:00</th>\n",
       "      <td>07/03/2011</td>\n",
       "      <td>23:59:00</td>\n",
       "      <td>104.74</td>\n",
       "      <td>104.77</td>\n",
       "      <td>104.73</td>\n",
       "      <td>104.73</td>\n",
       "      <td>18</td>\n",
       "      <td>2011-03-07 23:59:00</td>\n",
       "      <td>NaN</td>\n",
       "    </tr>\n",
       "    <tr>\n",
       "      <th>2011-03-08 00:00:00-06:00</th>\n",
       "      <td>08/03/2011</td>\n",
       "      <td>00:00:00</td>\n",
       "      <td>104.74</td>\n",
       "      <td>104.82</td>\n",
       "      <td>104.74</td>\n",
       "      <td>104.81</td>\n",
       "      <td>34</td>\n",
       "      <td>2011-03-08 00:00:00</td>\n",
       "      <td>0.076387</td>\n",
       "    </tr>\n",
       "    <tr>\n",
       "      <th>2011-03-08 00:01:00-06:00</th>\n",
       "      <td>08/03/2011</td>\n",
       "      <td>00:01:00</td>\n",
       "      <td>104.82</td>\n",
       "      <td>104.84</td>\n",
       "      <td>104.82</td>\n",
       "      <td>104.82</td>\n",
       "      <td>12</td>\n",
       "      <td>2011-03-08 00:01:00</td>\n",
       "      <td>0.009541</td>\n",
       "    </tr>\n",
       "    <tr>\n",
       "      <th>2011-03-08 00:02:00-06:00</th>\n",
       "      <td>08/03/2011</td>\n",
       "      <td>00:02:00</td>\n",
       "      <td>104.81</td>\n",
       "      <td>104.81</td>\n",
       "      <td>104.73</td>\n",
       "      <td>104.75</td>\n",
       "      <td>20</td>\n",
       "      <td>2011-03-08 00:02:00</td>\n",
       "      <td>-0.066781</td>\n",
       "    </tr>\n",
       "    <tr>\n",
       "      <th>2011-03-08 00:03:00-06:00</th>\n",
       "      <td>08/03/2011</td>\n",
       "      <td>00:03:00</td>\n",
       "      <td>104.74</td>\n",
       "      <td>104.76</td>\n",
       "      <td>104.71</td>\n",
       "      <td>104.76</td>\n",
       "      <td>25</td>\n",
       "      <td>2011-03-08 00:03:00</td>\n",
       "      <td>0.009547</td>\n",
       "    </tr>\n",
       "    <tr>\n",
       "      <th>...</th>\n",
       "      <td>...</td>\n",
       "      <td>...</td>\n",
       "      <td>...</td>\n",
       "      <td>...</td>\n",
       "      <td>...</td>\n",
       "      <td>...</td>\n",
       "      <td>...</td>\n",
       "      <td>...</td>\n",
       "      <td>...</td>\n",
       "    </tr>\n",
       "    <tr>\n",
       "      <th>2025-03-11 23:54:00-05:00</th>\n",
       "      <td>11/03/2025</td>\n",
       "      <td>23:54:00</td>\n",
       "      <td>66.75</td>\n",
       "      <td>66.75</td>\n",
       "      <td>66.75</td>\n",
       "      <td>66.75</td>\n",
       "      <td>13</td>\n",
       "      <td>2025-03-11 23:54:00</td>\n",
       "      <td>0.000000</td>\n",
       "    </tr>\n",
       "    <tr>\n",
       "      <th>2025-03-11 23:56:00-05:00</th>\n",
       "      <td>11/03/2025</td>\n",
       "      <td>23:56:00</td>\n",
       "      <td>66.75</td>\n",
       "      <td>66.75</td>\n",
       "      <td>66.74</td>\n",
       "      <td>66.74</td>\n",
       "      <td>3</td>\n",
       "      <td>2025-03-11 23:56:00</td>\n",
       "      <td>-0.014981</td>\n",
       "    </tr>\n",
       "    <tr>\n",
       "      <th>2025-03-11 23:58:00-05:00</th>\n",
       "      <td>11/03/2025</td>\n",
       "      <td>23:58:00</td>\n",
       "      <td>66.75</td>\n",
       "      <td>66.75</td>\n",
       "      <td>66.75</td>\n",
       "      <td>66.75</td>\n",
       "      <td>3</td>\n",
       "      <td>2025-03-11 23:58:00</td>\n",
       "      <td>0.014984</td>\n",
       "    </tr>\n",
       "    <tr>\n",
       "      <th>2025-03-11 23:59:00-05:00</th>\n",
       "      <td>11/03/2025</td>\n",
       "      <td>23:59:00</td>\n",
       "      <td>66.75</td>\n",
       "      <td>66.75</td>\n",
       "      <td>66.75</td>\n",
       "      <td>66.75</td>\n",
       "      <td>1</td>\n",
       "      <td>2025-03-11 23:59:00</td>\n",
       "      <td>0.000000</td>\n",
       "    </tr>\n",
       "    <tr>\n",
       "      <th>2025-03-12 00:00:00-05:00</th>\n",
       "      <td>12/03/2025</td>\n",
       "      <td>00:00:00</td>\n",
       "      <td>66.74</td>\n",
       "      <td>66.76</td>\n",
       "      <td>66.71</td>\n",
       "      <td>66.75</td>\n",
       "      <td>41</td>\n",
       "      <td>2025-03-12 00:00:00</td>\n",
       "      <td>0.000000</td>\n",
       "    </tr>\n",
       "  </tbody>\n",
       "</table>\n",
       "<p>4811559 rows × 9 columns</p>\n",
       "</div>"
      ],
      "text/plain": [
       "                                 Date      Time    Open    High     Low  \\\n",
       "Datetime_CST                                                              \n",
       "2011-03-07 23:59:00-06:00  07/03/2011  23:59:00  104.74  104.77  104.73   \n",
       "2011-03-08 00:00:00-06:00  08/03/2011  00:00:00  104.74  104.82  104.74   \n",
       "2011-03-08 00:01:00-06:00  08/03/2011  00:01:00  104.82  104.84  104.82   \n",
       "2011-03-08 00:02:00-06:00  08/03/2011  00:02:00  104.81  104.81  104.73   \n",
       "2011-03-08 00:03:00-06:00  08/03/2011  00:03:00  104.74  104.76  104.71   \n",
       "...                               ...       ...     ...     ...     ...   \n",
       "2025-03-11 23:54:00-05:00  11/03/2025  23:54:00   66.75   66.75   66.75   \n",
       "2025-03-11 23:56:00-05:00  11/03/2025  23:56:00   66.75   66.75   66.74   \n",
       "2025-03-11 23:58:00-05:00  11/03/2025  23:58:00   66.75   66.75   66.75   \n",
       "2025-03-11 23:59:00-05:00  11/03/2025  23:59:00   66.75   66.75   66.75   \n",
       "2025-03-12 00:00:00-05:00  12/03/2025  00:00:00   66.74   66.76   66.71   \n",
       "\n",
       "                            Close  Volume            Datetime  Percent_Change  \n",
       "Datetime_CST                                                                   \n",
       "2011-03-07 23:59:00-06:00  104.73      18 2011-03-07 23:59:00             NaN  \n",
       "2011-03-08 00:00:00-06:00  104.81      34 2011-03-08 00:00:00        0.076387  \n",
       "2011-03-08 00:01:00-06:00  104.82      12 2011-03-08 00:01:00        0.009541  \n",
       "2011-03-08 00:02:00-06:00  104.75      20 2011-03-08 00:02:00       -0.066781  \n",
       "2011-03-08 00:03:00-06:00  104.76      25 2011-03-08 00:03:00        0.009547  \n",
       "...                           ...     ...                 ...             ...  \n",
       "2025-03-11 23:54:00-05:00   66.75      13 2025-03-11 23:54:00        0.000000  \n",
       "2025-03-11 23:56:00-05:00   66.74       3 2025-03-11 23:56:00       -0.014981  \n",
       "2025-03-11 23:58:00-05:00   66.75       3 2025-03-11 23:58:00        0.014984  \n",
       "2025-03-11 23:59:00-05:00   66.75       1 2025-03-11 23:59:00        0.000000  \n",
       "2025-03-12 00:00:00-05:00   66.75      41 2025-03-12 00:00:00        0.000000  \n",
       "\n",
       "[4811559 rows x 9 columns]"
      ]
     },
     "metadata": {},
     "output_type": "display_data"
    },
    {
     "data": {
      "text/html": [
       "<div>\n",
       "<style scoped>\n",
       "    .dataframe tbody tr th:only-of-type {\n",
       "        vertical-align: middle;\n",
       "    }\n",
       "\n",
       "    .dataframe tbody tr th {\n",
       "        vertical-align: top;\n",
       "    }\n",
       "\n",
       "    .dataframe thead th {\n",
       "        text-align: right;\n",
       "    }\n",
       "</style>\n",
       "<table border=\"1\" class=\"dataframe\">\n",
       "  <thead>\n",
       "    <tr style=\"text-align: right;\">\n",
       "      <th></th>\n",
       "      <th>Date</th>\n",
       "      <th>Time</th>\n",
       "      <th>Open</th>\n",
       "      <th>High</th>\n",
       "      <th>Low</th>\n",
       "      <th>Close</th>\n",
       "      <th>Volume</th>\n",
       "      <th>Datetime</th>\n",
       "      <th>Percent_Change</th>\n",
       "      <th>Release_Datetime</th>\n",
       "      <th>Time_to_Release_Minutes</th>\n",
       "      <th>Time_Delta_Minutes</th>\n",
       "      <th>Price_Change_Bin</th>\n",
       "    </tr>\n",
       "    <tr>\n",
       "      <th>Datetime_CST</th>\n",
       "      <th></th>\n",
       "      <th></th>\n",
       "      <th></th>\n",
       "      <th></th>\n",
       "      <th></th>\n",
       "      <th></th>\n",
       "      <th></th>\n",
       "      <th></th>\n",
       "      <th></th>\n",
       "      <th></th>\n",
       "      <th></th>\n",
       "      <th></th>\n",
       "      <th></th>\n",
       "    </tr>\n",
       "  </thead>\n",
       "  <tbody>\n",
       "    <tr>\n",
       "      <th>2011-03-09 08:30:00-06:00</th>\n",
       "      <td>09/03/2011</td>\n",
       "      <td>08:30:00</td>\n",
       "      <td>105.56</td>\n",
       "      <td>105.56</td>\n",
       "      <td>105.44</td>\n",
       "      <td>105.46</td>\n",
       "      <td>514</td>\n",
       "      <td>2011-03-09 08:30:00</td>\n",
       "      <td>-0.094733</td>\n",
       "      <td>2011-03-09 09:30:00-06:00</td>\n",
       "      <td>-60.0</td>\n",
       "      <td>-60.0</td>\n",
       "      <td>-0.10%</td>\n",
       "    </tr>\n",
       "    <tr>\n",
       "      <th>2011-03-09 08:31:00-06:00</th>\n",
       "      <td>09/03/2011</td>\n",
       "      <td>08:31:00</td>\n",
       "      <td>105.46</td>\n",
       "      <td>105.52</td>\n",
       "      <td>105.45</td>\n",
       "      <td>105.46</td>\n",
       "      <td>323</td>\n",
       "      <td>2011-03-09 08:31:00</td>\n",
       "      <td>0.000000</td>\n",
       "      <td>2011-03-09 09:30:00-06:00</td>\n",
       "      <td>-59.0</td>\n",
       "      <td>-59.0</td>\n",
       "      <td>-0.05%</td>\n",
       "    </tr>\n",
       "    <tr>\n",
       "      <th>2011-03-09 08:32:00-06:00</th>\n",
       "      <td>09/03/2011</td>\n",
       "      <td>08:32:00</td>\n",
       "      <td>105.45</td>\n",
       "      <td>105.47</td>\n",
       "      <td>105.31</td>\n",
       "      <td>105.32</td>\n",
       "      <td>899</td>\n",
       "      <td>2011-03-09 08:32:00</td>\n",
       "      <td>-0.132752</td>\n",
       "      <td>2011-03-09 09:30:00-06:00</td>\n",
       "      <td>-58.0</td>\n",
       "      <td>-58.0</td>\n",
       "      <td>-0.15%</td>\n",
       "    </tr>\n",
       "    <tr>\n",
       "      <th>2011-03-09 08:33:00-06:00</th>\n",
       "      <td>09/03/2011</td>\n",
       "      <td>08:33:00</td>\n",
       "      <td>105.31</td>\n",
       "      <td>105.37</td>\n",
       "      <td>105.25</td>\n",
       "      <td>105.33</td>\n",
       "      <td>716</td>\n",
       "      <td>2011-03-09 08:33:00</td>\n",
       "      <td>0.009495</td>\n",
       "      <td>2011-03-09 09:30:00-06:00</td>\n",
       "      <td>-57.0</td>\n",
       "      <td>-57.0</td>\n",
       "      <td>0.00%</td>\n",
       "    </tr>\n",
       "    <tr>\n",
       "      <th>2011-03-09 08:34:00-06:00</th>\n",
       "      <td>09/03/2011</td>\n",
       "      <td>08:34:00</td>\n",
       "      <td>105.34</td>\n",
       "      <td>105.45</td>\n",
       "      <td>105.31</td>\n",
       "      <td>105.40</td>\n",
       "      <td>660</td>\n",
       "      <td>2011-03-09 08:34:00</td>\n",
       "      <td>0.066458</td>\n",
       "      <td>2011-03-09 09:30:00-06:00</td>\n",
       "      <td>-56.0</td>\n",
       "      <td>-56.0</td>\n",
       "      <td>0.05%</td>\n",
       "    </tr>\n",
       "    <tr>\n",
       "      <th>...</th>\n",
       "      <td>...</td>\n",
       "      <td>...</td>\n",
       "      <td>...</td>\n",
       "      <td>...</td>\n",
       "      <td>...</td>\n",
       "      <td>...</td>\n",
       "      <td>...</td>\n",
       "      <td>...</td>\n",
       "      <td>...</td>\n",
       "      <td>...</td>\n",
       "      <td>...</td>\n",
       "      <td>...</td>\n",
       "      <td>...</td>\n",
       "    </tr>\n",
       "    <tr>\n",
       "      <th>2025-03-05 10:26:00-06:00</th>\n",
       "      <td>05/03/2025</td>\n",
       "      <td>10:26:00</td>\n",
       "      <td>65.42</td>\n",
       "      <td>65.46</td>\n",
       "      <td>65.37</td>\n",
       "      <td>65.38</td>\n",
       "      <td>713</td>\n",
       "      <td>2025-03-05 10:26:00</td>\n",
       "      <td>-0.061143</td>\n",
       "      <td>2025-03-05 09:30:00-06:00</td>\n",
       "      <td>56.0</td>\n",
       "      <td>56.0</td>\n",
       "      <td>-0.10%</td>\n",
       "    </tr>\n",
       "    <tr>\n",
       "      <th>2025-03-05 10:27:00-06:00</th>\n",
       "      <td>05/03/2025</td>\n",
       "      <td>10:27:00</td>\n",
       "      <td>65.37</td>\n",
       "      <td>65.41</td>\n",
       "      <td>65.37</td>\n",
       "      <td>65.39</td>\n",
       "      <td>640</td>\n",
       "      <td>2025-03-05 10:27:00</td>\n",
       "      <td>0.015295</td>\n",
       "      <td>2025-03-05 09:30:00-06:00</td>\n",
       "      <td>57.0</td>\n",
       "      <td>57.0</td>\n",
       "      <td>0.00%</td>\n",
       "    </tr>\n",
       "    <tr>\n",
       "      <th>2025-03-05 10:28:00-06:00</th>\n",
       "      <td>05/03/2025</td>\n",
       "      <td>10:28:00</td>\n",
       "      <td>65.40</td>\n",
       "      <td>65.42</td>\n",
       "      <td>65.33</td>\n",
       "      <td>65.36</td>\n",
       "      <td>796</td>\n",
       "      <td>2025-03-05 10:28:00</td>\n",
       "      <td>-0.045879</td>\n",
       "      <td>2025-03-05 09:30:00-06:00</td>\n",
       "      <td>58.0</td>\n",
       "      <td>58.0</td>\n",
       "      <td>-0.05%</td>\n",
       "    </tr>\n",
       "    <tr>\n",
       "      <th>2025-03-05 10:29:00-06:00</th>\n",
       "      <td>05/03/2025</td>\n",
       "      <td>10:29:00</td>\n",
       "      <td>65.35</td>\n",
       "      <td>65.40</td>\n",
       "      <td>65.35</td>\n",
       "      <td>65.37</td>\n",
       "      <td>658</td>\n",
       "      <td>2025-03-05 10:29:00</td>\n",
       "      <td>0.015300</td>\n",
       "      <td>2025-03-05 09:30:00-06:00</td>\n",
       "      <td>59.0</td>\n",
       "      <td>59.0</td>\n",
       "      <td>0.00%</td>\n",
       "    </tr>\n",
       "    <tr>\n",
       "      <th>2025-03-05 10:30:00-06:00</th>\n",
       "      <td>05/03/2025</td>\n",
       "      <td>10:30:00</td>\n",
       "      <td>65.38</td>\n",
       "      <td>65.45</td>\n",
       "      <td>65.34</td>\n",
       "      <td>65.43</td>\n",
       "      <td>842</td>\n",
       "      <td>2025-03-05 10:30:00</td>\n",
       "      <td>0.091785</td>\n",
       "      <td>2025-03-05 09:30:00-06:00</td>\n",
       "      <td>60.0</td>\n",
       "      <td>60.0</td>\n",
       "      <td>0.05%</td>\n",
       "    </tr>\n",
       "  </tbody>\n",
       "</table>\n",
       "<p>88344 rows × 13 columns</p>\n",
       "</div>"
      ],
      "text/plain": [
       "                                 Date      Time    Open    High     Low  \\\n",
       "Datetime_CST                                                              \n",
       "2011-03-09 08:30:00-06:00  09/03/2011  08:30:00  105.56  105.56  105.44   \n",
       "2011-03-09 08:31:00-06:00  09/03/2011  08:31:00  105.46  105.52  105.45   \n",
       "2011-03-09 08:32:00-06:00  09/03/2011  08:32:00  105.45  105.47  105.31   \n",
       "2011-03-09 08:33:00-06:00  09/03/2011  08:33:00  105.31  105.37  105.25   \n",
       "2011-03-09 08:34:00-06:00  09/03/2011  08:34:00  105.34  105.45  105.31   \n",
       "...                               ...       ...     ...     ...     ...   \n",
       "2025-03-05 10:26:00-06:00  05/03/2025  10:26:00   65.42   65.46   65.37   \n",
       "2025-03-05 10:27:00-06:00  05/03/2025  10:27:00   65.37   65.41   65.37   \n",
       "2025-03-05 10:28:00-06:00  05/03/2025  10:28:00   65.40   65.42   65.33   \n",
       "2025-03-05 10:29:00-06:00  05/03/2025  10:29:00   65.35   65.40   65.35   \n",
       "2025-03-05 10:30:00-06:00  05/03/2025  10:30:00   65.38   65.45   65.34   \n",
       "\n",
       "                            Close  Volume            Datetime  Percent_Change  \\\n",
       "Datetime_CST                                                                    \n",
       "2011-03-09 08:30:00-06:00  105.46     514 2011-03-09 08:30:00       -0.094733   \n",
       "2011-03-09 08:31:00-06:00  105.46     323 2011-03-09 08:31:00        0.000000   \n",
       "2011-03-09 08:32:00-06:00  105.32     899 2011-03-09 08:32:00       -0.132752   \n",
       "2011-03-09 08:33:00-06:00  105.33     716 2011-03-09 08:33:00        0.009495   \n",
       "2011-03-09 08:34:00-06:00  105.40     660 2011-03-09 08:34:00        0.066458   \n",
       "...                           ...     ...                 ...             ...   \n",
       "2025-03-05 10:26:00-06:00   65.38     713 2025-03-05 10:26:00       -0.061143   \n",
       "2025-03-05 10:27:00-06:00   65.39     640 2025-03-05 10:27:00        0.015295   \n",
       "2025-03-05 10:28:00-06:00   65.36     796 2025-03-05 10:28:00       -0.045879   \n",
       "2025-03-05 10:29:00-06:00   65.37     658 2025-03-05 10:29:00        0.015300   \n",
       "2025-03-05 10:30:00-06:00   65.43     842 2025-03-05 10:30:00        0.091785   \n",
       "\n",
       "                                   Release_Datetime  Time_to_Release_Minutes  \\\n",
       "Datetime_CST                                                                   \n",
       "2011-03-09 08:30:00-06:00 2011-03-09 09:30:00-06:00                    -60.0   \n",
       "2011-03-09 08:31:00-06:00 2011-03-09 09:30:00-06:00                    -59.0   \n",
       "2011-03-09 08:32:00-06:00 2011-03-09 09:30:00-06:00                    -58.0   \n",
       "2011-03-09 08:33:00-06:00 2011-03-09 09:30:00-06:00                    -57.0   \n",
       "2011-03-09 08:34:00-06:00 2011-03-09 09:30:00-06:00                    -56.0   \n",
       "...                                             ...                      ...   \n",
       "2025-03-05 10:26:00-06:00 2025-03-05 09:30:00-06:00                     56.0   \n",
       "2025-03-05 10:27:00-06:00 2025-03-05 09:30:00-06:00                     57.0   \n",
       "2025-03-05 10:28:00-06:00 2025-03-05 09:30:00-06:00                     58.0   \n",
       "2025-03-05 10:29:00-06:00 2025-03-05 09:30:00-06:00                     59.0   \n",
       "2025-03-05 10:30:00-06:00 2025-03-05 09:30:00-06:00                     60.0   \n",
       "\n",
       "                           Time_Delta_Minutes Price_Change_Bin  \n",
       "Datetime_CST                                                    \n",
       "2011-03-09 08:30:00-06:00               -60.0           -0.10%  \n",
       "2011-03-09 08:31:00-06:00               -59.0           -0.05%  \n",
       "2011-03-09 08:32:00-06:00               -58.0           -0.15%  \n",
       "2011-03-09 08:33:00-06:00               -57.0            0.00%  \n",
       "2011-03-09 08:34:00-06:00               -56.0            0.05%  \n",
       "...                                       ...              ...  \n",
       "2025-03-05 10:26:00-06:00                56.0           -0.10%  \n",
       "2025-03-05 10:27:00-06:00                57.0            0.00%  \n",
       "2025-03-05 10:28:00-06:00                58.0           -0.05%  \n",
       "2025-03-05 10:29:00-06:00                59.0            0.00%  \n",
       "2025-03-05 10:30:00-06:00                60.0            0.05%  \n",
       "\n",
       "[88344 rows x 13 columns]"
      ]
     },
     "metadata": {},
     "output_type": "display_data"
    },
    {
     "data": {
      "text/html": [
       "<div>\n",
       "<style scoped>\n",
       "    .dataframe tbody tr th:only-of-type {\n",
       "        vertical-align: middle;\n",
       "    }\n",
       "\n",
       "    .dataframe tbody tr th {\n",
       "        vertical-align: top;\n",
       "    }\n",
       "\n",
       "    .dataframe thead th {\n",
       "        text-align: right;\n",
       "    }\n",
       "</style>\n",
       "<table border=\"1\" class=\"dataframe\">\n",
       "  <thead>\n",
       "    <tr style=\"text-align: right;\">\n",
       "      <th></th>\n",
       "      <th>Release Date</th>\n",
       "      <th>Time</th>\n",
       "      <th>Actual</th>\n",
       "      <th>Forecast</th>\n",
       "      <th>Previous</th>\n",
       "      <th>Release_Datetime</th>\n",
       "      <th>Release_Datetime_EST</th>\n",
       "      <th>supply_surprise</th>\n",
       "    </tr>\n",
       "    <tr>\n",
       "      <th>Release_Datetime_CST</th>\n",
       "      <th></th>\n",
       "      <th></th>\n",
       "      <th></th>\n",
       "      <th></th>\n",
       "      <th></th>\n",
       "      <th></th>\n",
       "      <th></th>\n",
       "      <th></th>\n",
       "    </tr>\n",
       "  </thead>\n",
       "  <tbody>\n",
       "    <tr>\n",
       "      <th>2011-03-09 09:30:00-06:00</th>\n",
       "      <td>9-Mar-11</td>\n",
       "      <td>10:30</td>\n",
       "      <td>2.500M</td>\n",
       "      <td>1.100M</td>\n",
       "      <td>-0.400M</td>\n",
       "      <td>2011-03-09 10:30:00</td>\n",
       "      <td>2011-03-09 10:30:00-05:00</td>\n",
       "      <td>1.400</td>\n",
       "    </tr>\n",
       "    <tr>\n",
       "      <th>2011-03-16 08:30:00-05:00</th>\n",
       "      <td>16-Mar-11</td>\n",
       "      <td>9:30</td>\n",
       "      <td>1.700M</td>\n",
       "      <td>1.800M</td>\n",
       "      <td>2.500M</td>\n",
       "      <td>2011-03-16 09:30:00</td>\n",
       "      <td>2011-03-16 09:30:00-04:00</td>\n",
       "      <td>-0.100</td>\n",
       "    </tr>\n",
       "    <tr>\n",
       "      <th>2011-03-23 08:30:00-05:00</th>\n",
       "      <td>23-Mar-11</td>\n",
       "      <td>9:30</td>\n",
       "      <td>2.100M</td>\n",
       "      <td>2.000M</td>\n",
       "      <td>1.700M</td>\n",
       "      <td>2011-03-23 09:30:00</td>\n",
       "      <td>2011-03-23 09:30:00-04:00</td>\n",
       "      <td>0.100</td>\n",
       "    </tr>\n",
       "    <tr>\n",
       "      <th>2011-03-30 08:30:00-05:00</th>\n",
       "      <td>30-Mar-11</td>\n",
       "      <td>9:30</td>\n",
       "      <td>2.900M</td>\n",
       "      <td>2.000M</td>\n",
       "      <td>2.100M</td>\n",
       "      <td>2011-03-30 09:30:00</td>\n",
       "      <td>2011-03-30 09:30:00-04:00</td>\n",
       "      <td>0.900</td>\n",
       "    </tr>\n",
       "    <tr>\n",
       "      <th>2011-04-06 08:30:00-05:00</th>\n",
       "      <td>6-Apr-11</td>\n",
       "      <td>9:30</td>\n",
       "      <td>2.000M</td>\n",
       "      <td>1.300M</td>\n",
       "      <td>2.900M</td>\n",
       "      <td>2011-04-06 09:30:00</td>\n",
       "      <td>2011-04-06 09:30:00-04:00</td>\n",
       "      <td>0.700</td>\n",
       "    </tr>\n",
       "    <tr>\n",
       "      <th>...</th>\n",
       "      <td>...</td>\n",
       "      <td>...</td>\n",
       "      <td>...</td>\n",
       "      <td>...</td>\n",
       "      <td>...</td>\n",
       "      <td>...</td>\n",
       "      <td>...</td>\n",
       "      <td>...</td>\n",
       "    </tr>\n",
       "    <tr>\n",
       "      <th>2025-02-12 09:30:00-06:00</th>\n",
       "      <td>12-Feb-25</td>\n",
       "      <td>10:30</td>\n",
       "      <td>4.070M</td>\n",
       "      <td>2.400M</td>\n",
       "      <td>8.664M</td>\n",
       "      <td>2025-02-12 10:30:00</td>\n",
       "      <td>2025-02-12 10:30:00-05:00</td>\n",
       "      <td>1.670</td>\n",
       "    </tr>\n",
       "    <tr>\n",
       "      <th>2025-02-20 11:00:00-06:00</th>\n",
       "      <td>20-Feb-25</td>\n",
       "      <td>12:00</td>\n",
       "      <td>4.633M</td>\n",
       "      <td>3.200M</td>\n",
       "      <td>4.070M</td>\n",
       "      <td>2025-02-20 12:00:00</td>\n",
       "      <td>2025-02-20 12:00:00-05:00</td>\n",
       "      <td>1.433</td>\n",
       "    </tr>\n",
       "    <tr>\n",
       "      <th>2025-02-26 09:00:00-06:00</th>\n",
       "      <td>26-Feb-25</td>\n",
       "      <td>10:00</td>\n",
       "      <td>-2.332M</td>\n",
       "      <td>2.500M</td>\n",
       "      <td>4.633M</td>\n",
       "      <td>2025-02-26 10:00:00</td>\n",
       "      <td>2025-02-26 10:00:00-05:00</td>\n",
       "      <td>-4.832</td>\n",
       "    </tr>\n",
       "    <tr>\n",
       "      <th>2025-03-05 09:30:00-06:00</th>\n",
       "      <td>5-Mar-25</td>\n",
       "      <td>10:30</td>\n",
       "      <td>3.614M</td>\n",
       "      <td>0.600M</td>\n",
       "      <td>-2.332M</td>\n",
       "      <td>2025-03-05 10:30:00</td>\n",
       "      <td>2025-03-05 10:30:00-05:00</td>\n",
       "      <td>3.014</td>\n",
       "    </tr>\n",
       "    <tr>\n",
       "      <th>2025-03-12 07:30:00-05:00</th>\n",
       "      <td>12-Mar-25</td>\n",
       "      <td>8:30</td>\n",
       "      <td>NaN</td>\n",
       "      <td>NaN</td>\n",
       "      <td>3.614M</td>\n",
       "      <td>2025-03-12 08:30:00</td>\n",
       "      <td>2025-03-12 08:30:00-04:00</td>\n",
       "      <td>NaN</td>\n",
       "    </tr>\n",
       "  </tbody>\n",
       "</table>\n",
       "<p>732 rows × 8 columns</p>\n",
       "</div>"
      ],
      "text/plain": [
       "                          Release Date   Time   Actual Forecast Previous  \\\n",
       "Release_Datetime_CST                                                       \n",
       "2011-03-09 09:30:00-06:00     9-Mar-11  10:30   2.500M   1.100M  -0.400M   \n",
       "2011-03-16 08:30:00-05:00    16-Mar-11   9:30   1.700M   1.800M   2.500M   \n",
       "2011-03-23 08:30:00-05:00    23-Mar-11   9:30   2.100M   2.000M   1.700M   \n",
       "2011-03-30 08:30:00-05:00    30-Mar-11   9:30   2.900M   2.000M   2.100M   \n",
       "2011-04-06 08:30:00-05:00     6-Apr-11   9:30   2.000M   1.300M   2.900M   \n",
       "...                                ...    ...      ...      ...      ...   \n",
       "2025-02-12 09:30:00-06:00    12-Feb-25  10:30   4.070M   2.400M   8.664M   \n",
       "2025-02-20 11:00:00-06:00    20-Feb-25  12:00   4.633M   3.200M   4.070M   \n",
       "2025-02-26 09:00:00-06:00    26-Feb-25  10:00  -2.332M   2.500M   4.633M   \n",
       "2025-03-05 09:30:00-06:00     5-Mar-25  10:30   3.614M   0.600M  -2.332M   \n",
       "2025-03-12 07:30:00-05:00    12-Mar-25   8:30      NaN      NaN   3.614M   \n",
       "\n",
       "                             Release_Datetime      Release_Datetime_EST  \\\n",
       "Release_Datetime_CST                                                      \n",
       "2011-03-09 09:30:00-06:00 2011-03-09 10:30:00 2011-03-09 10:30:00-05:00   \n",
       "2011-03-16 08:30:00-05:00 2011-03-16 09:30:00 2011-03-16 09:30:00-04:00   \n",
       "2011-03-23 08:30:00-05:00 2011-03-23 09:30:00 2011-03-23 09:30:00-04:00   \n",
       "2011-03-30 08:30:00-05:00 2011-03-30 09:30:00 2011-03-30 09:30:00-04:00   \n",
       "2011-04-06 08:30:00-05:00 2011-04-06 09:30:00 2011-04-06 09:30:00-04:00   \n",
       "...                                       ...                       ...   \n",
       "2025-02-12 09:30:00-06:00 2025-02-12 10:30:00 2025-02-12 10:30:00-05:00   \n",
       "2025-02-20 11:00:00-06:00 2025-02-20 12:00:00 2025-02-20 12:00:00-05:00   \n",
       "2025-02-26 09:00:00-06:00 2025-02-26 10:00:00 2025-02-26 10:00:00-05:00   \n",
       "2025-03-05 09:30:00-06:00 2025-03-05 10:30:00 2025-03-05 10:30:00-05:00   \n",
       "2025-03-12 07:30:00-05:00 2025-03-12 08:30:00 2025-03-12 08:30:00-04:00   \n",
       "\n",
       "                           supply_surprise  \n",
       "Release_Datetime_CST                        \n",
       "2011-03-09 09:30:00-06:00            1.400  \n",
       "2011-03-16 08:30:00-05:00           -0.100  \n",
       "2011-03-23 08:30:00-05:00            0.100  \n",
       "2011-03-30 08:30:00-05:00            0.900  \n",
       "2011-04-06 08:30:00-05:00            0.700  \n",
       "...                                    ...  \n",
       "2025-02-12 09:30:00-06:00            1.670  \n",
       "2025-02-20 11:00:00-06:00            1.433  \n",
       "2025-02-26 09:00:00-06:00           -4.832  \n",
       "2025-03-05 09:30:00-06:00            3.014  \n",
       "2025-03-12 07:30:00-05:00              NaN  \n",
       "\n",
       "[732 rows x 8 columns]"
      ]
     },
     "metadata": {},
     "output_type": "display_data"
    }
   ],
   "source": [
    "display(min_WTI)\n",
    "display(price_window_60min)\n",
    "display(icom_eia_forecasts)"
   ]
  },
  {
   "cell_type": "code",
   "execution_count": 137,
   "metadata": {},
   "outputs": [
    {
     "data": {
      "text/html": [
       "<div>\n",
       "<style scoped>\n",
       "    .dataframe tbody tr th:only-of-type {\n",
       "        vertical-align: middle;\n",
       "    }\n",
       "\n",
       "    .dataframe tbody tr th {\n",
       "        vertical-align: top;\n",
       "    }\n",
       "\n",
       "    .dataframe thead th {\n",
       "        text-align: right;\n",
       "    }\n",
       "</style>\n",
       "<table border=\"1\" class=\"dataframe\">\n",
       "  <thead>\n",
       "    <tr style=\"text-align: right;\">\n",
       "      <th></th>\n",
       "      <th>Date</th>\n",
       "      <th>Time</th>\n",
       "      <th>Open</th>\n",
       "      <th>High</th>\n",
       "      <th>Low</th>\n",
       "      <th>Close</th>\n",
       "      <th>Volume</th>\n",
       "      <th>Datetime</th>\n",
       "      <th>Percent_Change</th>\n",
       "      <th>Release_Datetime</th>\n",
       "      <th>Time_to_Release_Minutes</th>\n",
       "      <th>Time_Delta_Minutes</th>\n",
       "      <th>Price_Change_Bin</th>\n",
       "    </tr>\n",
       "    <tr>\n",
       "      <th>Datetime_CST</th>\n",
       "      <th></th>\n",
       "      <th></th>\n",
       "      <th></th>\n",
       "      <th></th>\n",
       "      <th></th>\n",
       "      <th></th>\n",
       "      <th></th>\n",
       "      <th></th>\n",
       "      <th></th>\n",
       "      <th></th>\n",
       "      <th></th>\n",
       "      <th></th>\n",
       "      <th></th>\n",
       "    </tr>\n",
       "  </thead>\n",
       "  <tbody>\n",
       "    <tr>\n",
       "      <th>2011-03-09 09:30:00-06:00</th>\n",
       "      <td>09/03/2011</td>\n",
       "      <td>09:30:00</td>\n",
       "      <td>105.24</td>\n",
       "      <td>105.43</td>\n",
       "      <td>105.07</td>\n",
       "      <td>105.33</td>\n",
       "      <td>2458</td>\n",
       "      <td>2011-03-09 09:30:00</td>\n",
       "      <td>0.190241</td>\n",
       "      <td>2011-03-09 09:30:00-06:00</td>\n",
       "      <td>0.0</td>\n",
       "      <td>0.0</td>\n",
       "      <td>0.15%</td>\n",
       "    </tr>\n",
       "    <tr>\n",
       "      <th>2011-03-09 09:31:00-06:00</th>\n",
       "      <td>09/03/2011</td>\n",
       "      <td>09:31:00</td>\n",
       "      <td>105.33</td>\n",
       "      <td>105.48</td>\n",
       "      <td>105.21</td>\n",
       "      <td>105.36</td>\n",
       "      <td>2052</td>\n",
       "      <td>2011-03-09 09:31:00</td>\n",
       "      <td>0.028482</td>\n",
       "      <td>2011-03-09 09:30:00-06:00</td>\n",
       "      <td>1.0</td>\n",
       "      <td>1.0</td>\n",
       "      <td>0.00%</td>\n",
       "    </tr>\n",
       "    <tr>\n",
       "      <th>2011-03-09 09:32:00-06:00</th>\n",
       "      <td>09/03/2011</td>\n",
       "      <td>09:32:00</td>\n",
       "      <td>105.37</td>\n",
       "      <td>105.45</td>\n",
       "      <td>105.31</td>\n",
       "      <td>105.34</td>\n",
       "      <td>1250</td>\n",
       "      <td>2011-03-09 09:32:00</td>\n",
       "      <td>-0.018983</td>\n",
       "      <td>2011-03-09 09:30:00-06:00</td>\n",
       "      <td>2.0</td>\n",
       "      <td>2.0</td>\n",
       "      <td>-0.05%</td>\n",
       "    </tr>\n",
       "    <tr>\n",
       "      <th>2011-03-16 08:30:00-05:00</th>\n",
       "      <td>16/03/2011</td>\n",
       "      <td>08:30:00</td>\n",
       "      <td>98.40</td>\n",
       "      <td>98.44</td>\n",
       "      <td>98.28</td>\n",
       "      <td>98.44</td>\n",
       "      <td>588</td>\n",
       "      <td>2011-03-16 08:30:00</td>\n",
       "      <td>0.060988</td>\n",
       "      <td>2011-03-16 08:30:00-05:00</td>\n",
       "      <td>0.0</td>\n",
       "      <td>0.0</td>\n",
       "      <td>0.05%</td>\n",
       "    </tr>\n",
       "    <tr>\n",
       "      <th>2011-03-16 08:31:00-05:00</th>\n",
       "      <td>16/03/2011</td>\n",
       "      <td>08:31:00</td>\n",
       "      <td>98.44</td>\n",
       "      <td>98.55</td>\n",
       "      <td>98.44</td>\n",
       "      <td>98.48</td>\n",
       "      <td>473</td>\n",
       "      <td>2011-03-16 08:31:00</td>\n",
       "      <td>0.040634</td>\n",
       "      <td>2011-03-16 08:30:00-05:00</td>\n",
       "      <td>1.0</td>\n",
       "      <td>1.0</td>\n",
       "      <td>0.00%</td>\n",
       "    </tr>\n",
       "    <tr>\n",
       "      <th>...</th>\n",
       "      <td>...</td>\n",
       "      <td>...</td>\n",
       "      <td>...</td>\n",
       "      <td>...</td>\n",
       "      <td>...</td>\n",
       "      <td>...</td>\n",
       "      <td>...</td>\n",
       "      <td>...</td>\n",
       "      <td>...</td>\n",
       "      <td>...</td>\n",
       "      <td>...</td>\n",
       "      <td>...</td>\n",
       "      <td>...</td>\n",
       "    </tr>\n",
       "    <tr>\n",
       "      <th>2025-02-26 09:01:00-06:00</th>\n",
       "      <td>26/02/2025</td>\n",
       "      <td>09:01:00</td>\n",
       "      <td>68.99</td>\n",
       "      <td>69.05</td>\n",
       "      <td>68.99</td>\n",
       "      <td>69.03</td>\n",
       "      <td>349</td>\n",
       "      <td>2025-02-26 09:01:00</td>\n",
       "      <td>0.043478</td>\n",
       "      <td>2025-02-26 09:00:00-06:00</td>\n",
       "      <td>1.0</td>\n",
       "      <td>1.0</td>\n",
       "      <td>0.00%</td>\n",
       "    </tr>\n",
       "    <tr>\n",
       "      <th>2025-02-26 09:02:00-06:00</th>\n",
       "      <td>26/02/2025</td>\n",
       "      <td>09:02:00</td>\n",
       "      <td>69.03</td>\n",
       "      <td>69.10</td>\n",
       "      <td>69.03</td>\n",
       "      <td>69.05</td>\n",
       "      <td>384</td>\n",
       "      <td>2025-02-26 09:02:00</td>\n",
       "      <td>0.028973</td>\n",
       "      <td>2025-02-26 09:00:00-06:00</td>\n",
       "      <td>2.0</td>\n",
       "      <td>2.0</td>\n",
       "      <td>0.00%</td>\n",
       "    </tr>\n",
       "    <tr>\n",
       "      <th>2025-03-05 09:30:00-06:00</th>\n",
       "      <td>05/03/2025</td>\n",
       "      <td>09:30:00</td>\n",
       "      <td>66.21</td>\n",
       "      <td>66.32</td>\n",
       "      <td>66.10</td>\n",
       "      <td>66.22</td>\n",
       "      <td>940</td>\n",
       "      <td>2025-03-05 09:30:00</td>\n",
       "      <td>0.000000</td>\n",
       "      <td>2025-03-05 09:30:00-06:00</td>\n",
       "      <td>0.0</td>\n",
       "      <td>0.0</td>\n",
       "      <td>-0.05%</td>\n",
       "    </tr>\n",
       "    <tr>\n",
       "      <th>2025-03-05 09:31:00-06:00</th>\n",
       "      <td>05/03/2025</td>\n",
       "      <td>09:31:00</td>\n",
       "      <td>66.22</td>\n",
       "      <td>66.32</td>\n",
       "      <td>66.22</td>\n",
       "      <td>66.25</td>\n",
       "      <td>644</td>\n",
       "      <td>2025-03-05 09:31:00</td>\n",
       "      <td>0.045304</td>\n",
       "      <td>2025-03-05 09:30:00-06:00</td>\n",
       "      <td>1.0</td>\n",
       "      <td>1.0</td>\n",
       "      <td>0.00%</td>\n",
       "    </tr>\n",
       "    <tr>\n",
       "      <th>2025-03-05 09:32:00-06:00</th>\n",
       "      <td>05/03/2025</td>\n",
       "      <td>09:32:00</td>\n",
       "      <td>66.24</td>\n",
       "      <td>66.26</td>\n",
       "      <td>66.13</td>\n",
       "      <td>66.15</td>\n",
       "      <td>440</td>\n",
       "      <td>2025-03-05 09:32:00</td>\n",
       "      <td>-0.150943</td>\n",
       "      <td>2025-03-05 09:30:00-06:00</td>\n",
       "      <td>2.0</td>\n",
       "      <td>2.0</td>\n",
       "      <td>-0.20%</td>\n",
       "    </tr>\n",
       "  </tbody>\n",
       "</table>\n",
       "<p>2193 rows × 13 columns</p>\n",
       "</div>"
      ],
      "text/plain": [
       "                                 Date      Time    Open    High     Low  \\\n",
       "Datetime_CST                                                              \n",
       "2011-03-09 09:30:00-06:00  09/03/2011  09:30:00  105.24  105.43  105.07   \n",
       "2011-03-09 09:31:00-06:00  09/03/2011  09:31:00  105.33  105.48  105.21   \n",
       "2011-03-09 09:32:00-06:00  09/03/2011  09:32:00  105.37  105.45  105.31   \n",
       "2011-03-16 08:30:00-05:00  16/03/2011  08:30:00   98.40   98.44   98.28   \n",
       "2011-03-16 08:31:00-05:00  16/03/2011  08:31:00   98.44   98.55   98.44   \n",
       "...                               ...       ...     ...     ...     ...   \n",
       "2025-02-26 09:01:00-06:00  26/02/2025  09:01:00   68.99   69.05   68.99   \n",
       "2025-02-26 09:02:00-06:00  26/02/2025  09:02:00   69.03   69.10   69.03   \n",
       "2025-03-05 09:30:00-06:00  05/03/2025  09:30:00   66.21   66.32   66.10   \n",
       "2025-03-05 09:31:00-06:00  05/03/2025  09:31:00   66.22   66.32   66.22   \n",
       "2025-03-05 09:32:00-06:00  05/03/2025  09:32:00   66.24   66.26   66.13   \n",
       "\n",
       "                            Close  Volume            Datetime  Percent_Change  \\\n",
       "Datetime_CST                                                                    \n",
       "2011-03-09 09:30:00-06:00  105.33    2458 2011-03-09 09:30:00        0.190241   \n",
       "2011-03-09 09:31:00-06:00  105.36    2052 2011-03-09 09:31:00        0.028482   \n",
       "2011-03-09 09:32:00-06:00  105.34    1250 2011-03-09 09:32:00       -0.018983   \n",
       "2011-03-16 08:30:00-05:00   98.44     588 2011-03-16 08:30:00        0.060988   \n",
       "2011-03-16 08:31:00-05:00   98.48     473 2011-03-16 08:31:00        0.040634   \n",
       "...                           ...     ...                 ...             ...   \n",
       "2025-02-26 09:01:00-06:00   69.03     349 2025-02-26 09:01:00        0.043478   \n",
       "2025-02-26 09:02:00-06:00   69.05     384 2025-02-26 09:02:00        0.028973   \n",
       "2025-03-05 09:30:00-06:00   66.22     940 2025-03-05 09:30:00        0.000000   \n",
       "2025-03-05 09:31:00-06:00   66.25     644 2025-03-05 09:31:00        0.045304   \n",
       "2025-03-05 09:32:00-06:00   66.15     440 2025-03-05 09:32:00       -0.150943   \n",
       "\n",
       "                                   Release_Datetime  Time_to_Release_Minutes  \\\n",
       "Datetime_CST                                                                   \n",
       "2011-03-09 09:30:00-06:00 2011-03-09 09:30:00-06:00                      0.0   \n",
       "2011-03-09 09:31:00-06:00 2011-03-09 09:30:00-06:00                      1.0   \n",
       "2011-03-09 09:32:00-06:00 2011-03-09 09:30:00-06:00                      2.0   \n",
       "2011-03-16 08:30:00-05:00 2011-03-16 08:30:00-05:00                      0.0   \n",
       "2011-03-16 08:31:00-05:00 2011-03-16 08:30:00-05:00                      1.0   \n",
       "...                                             ...                      ...   \n",
       "2025-02-26 09:01:00-06:00 2025-02-26 09:00:00-06:00                      1.0   \n",
       "2025-02-26 09:02:00-06:00 2025-02-26 09:00:00-06:00                      2.0   \n",
       "2025-03-05 09:30:00-06:00 2025-03-05 09:30:00-06:00                      0.0   \n",
       "2025-03-05 09:31:00-06:00 2025-03-05 09:30:00-06:00                      1.0   \n",
       "2025-03-05 09:32:00-06:00 2025-03-05 09:30:00-06:00                      2.0   \n",
       "\n",
       "                           Time_Delta_Minutes Price_Change_Bin  \n",
       "Datetime_CST                                                    \n",
       "2011-03-09 09:30:00-06:00                 0.0            0.15%  \n",
       "2011-03-09 09:31:00-06:00                 1.0            0.00%  \n",
       "2011-03-09 09:32:00-06:00                 2.0           -0.05%  \n",
       "2011-03-16 08:30:00-05:00                 0.0            0.05%  \n",
       "2011-03-16 08:31:00-05:00                 1.0            0.00%  \n",
       "...                                       ...              ...  \n",
       "2025-02-26 09:01:00-06:00                 1.0            0.00%  \n",
       "2025-02-26 09:02:00-06:00                 2.0            0.00%  \n",
       "2025-03-05 09:30:00-06:00                 0.0           -0.05%  \n",
       "2025-03-05 09:31:00-06:00                 1.0            0.00%  \n",
       "2025-03-05 09:32:00-06:00                 2.0           -0.20%  \n",
       "\n",
       "[2193 rows x 13 columns]"
      ]
     },
     "metadata": {},
     "output_type": "display_data"
    },
    {
     "name": "stdout",
     "output_type": "stream",
     "text": [
      "\n",
      "Shape of the original DataFrame: (88344, 13)\n",
      "Shape of the filtered DataFrame (Time_Delta_Minutes 0 to 2): (2193, 13)\n"
     ]
    }
   ],
   "source": [
    "price_window_0to2min = price_window_60min[\n",
    "    (price_window_60min['Time_Delta_Minutes'] >= 0.0) & (price_window_60min['Time_Delta_Minutes'] <= 2.0)\n",
    "]\n",
    "\n",
    "# Display the head of the new DataFrame to verify the filtering\n",
    "display(price_window_0to2min)\n",
    "\n",
    "# Optionally, display the shape to see how many rows were filtered\n",
    "print(f\"\\nShape of the original DataFrame: {price_window_60min.shape}\")\n",
    "print(f\"Shape of the filtered DataFrame (Time_Delta_Minutes 0 to 2): {price_window_0to2min.shape}\")"
   ]
  },
  {
   "cell_type": "code",
   "execution_count": 140,
   "metadata": {},
   "outputs": [
    {
     "data": {
      "text/html": [
       "<div>\n",
       "<style scoped>\n",
       "    .dataframe tbody tr th:only-of-type {\n",
       "        vertical-align: middle;\n",
       "    }\n",
       "\n",
       "    .dataframe tbody tr th {\n",
       "        vertical-align: top;\n",
       "    }\n",
       "\n",
       "    .dataframe thead th {\n",
       "        text-align: right;\n",
       "    }\n",
       "</style>\n",
       "<table border=\"1\" class=\"dataframe\">\n",
       "  <thead>\n",
       "    <tr style=\"text-align: right;\">\n",
       "      <th></th>\n",
       "      <th>Datetime_CST</th>\n",
       "      <th>Date</th>\n",
       "      <th>Time</th>\n",
       "      <th>Open</th>\n",
       "      <th>High</th>\n",
       "      <th>Low</th>\n",
       "      <th>Close</th>\n",
       "      <th>Volume</th>\n",
       "      <th>Datetime</th>\n",
       "      <th>Percent_Change</th>\n",
       "      <th>Release_Datetime</th>\n",
       "      <th>Time_to_Release_Minutes</th>\n",
       "      <th>Time_Delta_Minutes</th>\n",
       "      <th>Price_Change_Bin</th>\n",
       "      <th>supply_surprise</th>\n",
       "    </tr>\n",
       "  </thead>\n",
       "  <tbody>\n",
       "    <tr>\n",
       "      <th>0</th>\n",
       "      <td>2011-03-09 09:30:00-06:00</td>\n",
       "      <td>09/03/2011</td>\n",
       "      <td>09:30:00</td>\n",
       "      <td>105.24</td>\n",
       "      <td>105.43</td>\n",
       "      <td>105.07</td>\n",
       "      <td>105.33</td>\n",
       "      <td>2458</td>\n",
       "      <td>2011-03-09 09:30:00</td>\n",
       "      <td>0.190241</td>\n",
       "      <td>2011-03-09 09:30:00-06:00</td>\n",
       "      <td>0.0</td>\n",
       "      <td>0.0</td>\n",
       "      <td>0.15%</td>\n",
       "      <td>1.400</td>\n",
       "    </tr>\n",
       "    <tr>\n",
       "      <th>1</th>\n",
       "      <td>2011-03-09 09:31:00-06:00</td>\n",
       "      <td>09/03/2011</td>\n",
       "      <td>09:31:00</td>\n",
       "      <td>105.33</td>\n",
       "      <td>105.48</td>\n",
       "      <td>105.21</td>\n",
       "      <td>105.36</td>\n",
       "      <td>2052</td>\n",
       "      <td>2011-03-09 09:31:00</td>\n",
       "      <td>0.028482</td>\n",
       "      <td>2011-03-09 09:30:00-06:00</td>\n",
       "      <td>1.0</td>\n",
       "      <td>1.0</td>\n",
       "      <td>0.00%</td>\n",
       "      <td>1.400</td>\n",
       "    </tr>\n",
       "    <tr>\n",
       "      <th>2</th>\n",
       "      <td>2011-03-09 09:32:00-06:00</td>\n",
       "      <td>09/03/2011</td>\n",
       "      <td>09:32:00</td>\n",
       "      <td>105.37</td>\n",
       "      <td>105.45</td>\n",
       "      <td>105.31</td>\n",
       "      <td>105.34</td>\n",
       "      <td>1250</td>\n",
       "      <td>2011-03-09 09:32:00</td>\n",
       "      <td>-0.018983</td>\n",
       "      <td>2011-03-09 09:30:00-06:00</td>\n",
       "      <td>2.0</td>\n",
       "      <td>2.0</td>\n",
       "      <td>-0.05%</td>\n",
       "      <td>1.400</td>\n",
       "    </tr>\n",
       "    <tr>\n",
       "      <th>3</th>\n",
       "      <td>2011-03-16 08:30:00-05:00</td>\n",
       "      <td>16/03/2011</td>\n",
       "      <td>08:30:00</td>\n",
       "      <td>98.40</td>\n",
       "      <td>98.44</td>\n",
       "      <td>98.28</td>\n",
       "      <td>98.44</td>\n",
       "      <td>588</td>\n",
       "      <td>2011-03-16 08:30:00</td>\n",
       "      <td>0.060988</td>\n",
       "      <td>2011-03-16 08:30:00-05:00</td>\n",
       "      <td>0.0</td>\n",
       "      <td>0.0</td>\n",
       "      <td>0.05%</td>\n",
       "      <td>-0.100</td>\n",
       "    </tr>\n",
       "    <tr>\n",
       "      <th>4</th>\n",
       "      <td>2011-03-16 08:31:00-05:00</td>\n",
       "      <td>16/03/2011</td>\n",
       "      <td>08:31:00</td>\n",
       "      <td>98.44</td>\n",
       "      <td>98.55</td>\n",
       "      <td>98.44</td>\n",
       "      <td>98.48</td>\n",
       "      <td>473</td>\n",
       "      <td>2011-03-16 08:31:00</td>\n",
       "      <td>0.040634</td>\n",
       "      <td>2011-03-16 08:30:00-05:00</td>\n",
       "      <td>1.0</td>\n",
       "      <td>1.0</td>\n",
       "      <td>0.00%</td>\n",
       "      <td>-0.100</td>\n",
       "    </tr>\n",
       "    <tr>\n",
       "      <th>...</th>\n",
       "      <td>...</td>\n",
       "      <td>...</td>\n",
       "      <td>...</td>\n",
       "      <td>...</td>\n",
       "      <td>...</td>\n",
       "      <td>...</td>\n",
       "      <td>...</td>\n",
       "      <td>...</td>\n",
       "      <td>...</td>\n",
       "      <td>...</td>\n",
       "      <td>...</td>\n",
       "      <td>...</td>\n",
       "      <td>...</td>\n",
       "      <td>...</td>\n",
       "      <td>...</td>\n",
       "    </tr>\n",
       "    <tr>\n",
       "      <th>2188</th>\n",
       "      <td>2025-02-26 09:01:00-06:00</td>\n",
       "      <td>26/02/2025</td>\n",
       "      <td>09:01:00</td>\n",
       "      <td>68.99</td>\n",
       "      <td>69.05</td>\n",
       "      <td>68.99</td>\n",
       "      <td>69.03</td>\n",
       "      <td>349</td>\n",
       "      <td>2025-02-26 09:01:00</td>\n",
       "      <td>0.043478</td>\n",
       "      <td>2025-02-26 09:00:00-06:00</td>\n",
       "      <td>1.0</td>\n",
       "      <td>1.0</td>\n",
       "      <td>0.00%</td>\n",
       "      <td>-4.832</td>\n",
       "    </tr>\n",
       "    <tr>\n",
       "      <th>2189</th>\n",
       "      <td>2025-02-26 09:02:00-06:00</td>\n",
       "      <td>26/02/2025</td>\n",
       "      <td>09:02:00</td>\n",
       "      <td>69.03</td>\n",
       "      <td>69.10</td>\n",
       "      <td>69.03</td>\n",
       "      <td>69.05</td>\n",
       "      <td>384</td>\n",
       "      <td>2025-02-26 09:02:00</td>\n",
       "      <td>0.028973</td>\n",
       "      <td>2025-02-26 09:00:00-06:00</td>\n",
       "      <td>2.0</td>\n",
       "      <td>2.0</td>\n",
       "      <td>0.00%</td>\n",
       "      <td>-4.832</td>\n",
       "    </tr>\n",
       "    <tr>\n",
       "      <th>2190</th>\n",
       "      <td>2025-03-05 09:30:00-06:00</td>\n",
       "      <td>05/03/2025</td>\n",
       "      <td>09:30:00</td>\n",
       "      <td>66.21</td>\n",
       "      <td>66.32</td>\n",
       "      <td>66.10</td>\n",
       "      <td>66.22</td>\n",
       "      <td>940</td>\n",
       "      <td>2025-03-05 09:30:00</td>\n",
       "      <td>0.000000</td>\n",
       "      <td>2025-03-05 09:30:00-06:00</td>\n",
       "      <td>0.0</td>\n",
       "      <td>0.0</td>\n",
       "      <td>-0.05%</td>\n",
       "      <td>3.014</td>\n",
       "    </tr>\n",
       "    <tr>\n",
       "      <th>2191</th>\n",
       "      <td>2025-03-05 09:31:00-06:00</td>\n",
       "      <td>05/03/2025</td>\n",
       "      <td>09:31:00</td>\n",
       "      <td>66.22</td>\n",
       "      <td>66.32</td>\n",
       "      <td>66.22</td>\n",
       "      <td>66.25</td>\n",
       "      <td>644</td>\n",
       "      <td>2025-03-05 09:31:00</td>\n",
       "      <td>0.045304</td>\n",
       "      <td>2025-03-05 09:30:00-06:00</td>\n",
       "      <td>1.0</td>\n",
       "      <td>1.0</td>\n",
       "      <td>0.00%</td>\n",
       "      <td>3.014</td>\n",
       "    </tr>\n",
       "    <tr>\n",
       "      <th>2192</th>\n",
       "      <td>2025-03-05 09:32:00-06:00</td>\n",
       "      <td>05/03/2025</td>\n",
       "      <td>09:32:00</td>\n",
       "      <td>66.24</td>\n",
       "      <td>66.26</td>\n",
       "      <td>66.13</td>\n",
       "      <td>66.15</td>\n",
       "      <td>440</td>\n",
       "      <td>2025-03-05 09:32:00</td>\n",
       "      <td>-0.150943</td>\n",
       "      <td>2025-03-05 09:30:00-06:00</td>\n",
       "      <td>2.0</td>\n",
       "      <td>2.0</td>\n",
       "      <td>-0.20%</td>\n",
       "      <td>3.014</td>\n",
       "    </tr>\n",
       "  </tbody>\n",
       "</table>\n",
       "<p>2193 rows × 15 columns</p>\n",
       "</div>"
      ],
      "text/plain": [
       "                  Datetime_CST        Date      Time    Open    High     Low  \\\n",
       "0    2011-03-09 09:30:00-06:00  09/03/2011  09:30:00  105.24  105.43  105.07   \n",
       "1    2011-03-09 09:31:00-06:00  09/03/2011  09:31:00  105.33  105.48  105.21   \n",
       "2    2011-03-09 09:32:00-06:00  09/03/2011  09:32:00  105.37  105.45  105.31   \n",
       "3    2011-03-16 08:30:00-05:00  16/03/2011  08:30:00   98.40   98.44   98.28   \n",
       "4    2011-03-16 08:31:00-05:00  16/03/2011  08:31:00   98.44   98.55   98.44   \n",
       "...                        ...         ...       ...     ...     ...     ...   \n",
       "2188 2025-02-26 09:01:00-06:00  26/02/2025  09:01:00   68.99   69.05   68.99   \n",
       "2189 2025-02-26 09:02:00-06:00  26/02/2025  09:02:00   69.03   69.10   69.03   \n",
       "2190 2025-03-05 09:30:00-06:00  05/03/2025  09:30:00   66.21   66.32   66.10   \n",
       "2191 2025-03-05 09:31:00-06:00  05/03/2025  09:31:00   66.22   66.32   66.22   \n",
       "2192 2025-03-05 09:32:00-06:00  05/03/2025  09:32:00   66.24   66.26   66.13   \n",
       "\n",
       "       Close  Volume            Datetime  Percent_Change  \\\n",
       "0     105.33    2458 2011-03-09 09:30:00        0.190241   \n",
       "1     105.36    2052 2011-03-09 09:31:00        0.028482   \n",
       "2     105.34    1250 2011-03-09 09:32:00       -0.018983   \n",
       "3      98.44     588 2011-03-16 08:30:00        0.060988   \n",
       "4      98.48     473 2011-03-16 08:31:00        0.040634   \n",
       "...      ...     ...                 ...             ...   \n",
       "2188   69.03     349 2025-02-26 09:01:00        0.043478   \n",
       "2189   69.05     384 2025-02-26 09:02:00        0.028973   \n",
       "2190   66.22     940 2025-03-05 09:30:00        0.000000   \n",
       "2191   66.25     644 2025-03-05 09:31:00        0.045304   \n",
       "2192   66.15     440 2025-03-05 09:32:00       -0.150943   \n",
       "\n",
       "              Release_Datetime  Time_to_Release_Minutes  Time_Delta_Minutes  \\\n",
       "0    2011-03-09 09:30:00-06:00                      0.0                 0.0   \n",
       "1    2011-03-09 09:30:00-06:00                      1.0                 1.0   \n",
       "2    2011-03-09 09:30:00-06:00                      2.0                 2.0   \n",
       "3    2011-03-16 08:30:00-05:00                      0.0                 0.0   \n",
       "4    2011-03-16 08:30:00-05:00                      1.0                 1.0   \n",
       "...                        ...                      ...                 ...   \n",
       "2188 2025-02-26 09:00:00-06:00                      1.0                 1.0   \n",
       "2189 2025-02-26 09:00:00-06:00                      2.0                 2.0   \n",
       "2190 2025-03-05 09:30:00-06:00                      0.0                 0.0   \n",
       "2191 2025-03-05 09:30:00-06:00                      1.0                 1.0   \n",
       "2192 2025-03-05 09:30:00-06:00                      2.0                 2.0   \n",
       "\n",
       "     Price_Change_Bin  supply_surprise  \n",
       "0               0.15%            1.400  \n",
       "1               0.00%            1.400  \n",
       "2              -0.05%            1.400  \n",
       "3               0.05%           -0.100  \n",
       "4               0.00%           -0.100  \n",
       "...               ...              ...  \n",
       "2188            0.00%           -4.832  \n",
       "2189            0.00%           -4.832  \n",
       "2190           -0.05%            3.014  \n",
       "2191            0.00%            3.014  \n",
       "2192           -0.20%            3.014  \n",
       "\n",
       "[2193 rows x 15 columns]"
      ]
     },
     "metadata": {},
     "output_type": "display_data"
    }
   ],
   "source": [
    "merged_price_window_0to2min = pd.merge(\n",
    "    price_window_0to2min.reset_index(),\n",
    "    icom_eia_forecasts.reset_index()[['Release_Datetime_CST', 'supply_surprise']], # Select only necessary columns from icom_eia_forecasts\n",
    "    left_on='Release_Datetime',\n",
    "    right_on='Release_Datetime_CST',\n",
    "    how='left' # Left join to keep all rows from price_window_0to2min\n",
    ")\n",
    "\n",
    "# Drop the redundant 'Release_Datetime_CST' column after merging (optional)\n",
    "merged_price_window_0to2min = merged_price_window_0to2min.drop(columns=['Release_Datetime_CST'])\n",
    "\n",
    "# Display the head of the merged dataframe to verify\n",
    "display(merged_price_window_0to2min)\n"
   ]
  },
  {
   "cell_type": "code",
   "execution_count": 141,
   "metadata": {},
   "outputs": [
    {
     "data": {
      "text/html": [
       "<div>\n",
       "<style scoped>\n",
       "    .dataframe tbody tr th:only-of-type {\n",
       "        vertical-align: middle;\n",
       "    }\n",
       "\n",
       "    .dataframe tbody tr th {\n",
       "        vertical-align: top;\n",
       "    }\n",
       "\n",
       "    .dataframe thead th {\n",
       "        text-align: right;\n",
       "    }\n",
       "</style>\n",
       "<table border=\"1\" class=\"dataframe\">\n",
       "  <thead>\n",
       "    <tr style=\"text-align: right;\">\n",
       "      <th></th>\n",
       "      <th>Date</th>\n",
       "      <th>Start_Datetime</th>\n",
       "      <th>End_Datetime</th>\n",
       "      <th>Start_Price</th>\n",
       "      <th>End_Price</th>\n",
       "      <th>Percentage_Change_0to2min</th>\n",
       "      <th>supply_surprise</th>\n",
       "    </tr>\n",
       "  </thead>\n",
       "  <tbody>\n",
       "    <tr>\n",
       "      <th>0</th>\n",
       "      <td>01/02/2012</td>\n",
       "      <td>2012-02-01 09:30:00-06:00</td>\n",
       "      <td>2012-02-01 09:32:00-06:00</td>\n",
       "      <td>98.47</td>\n",
       "      <td>98.44</td>\n",
       "      <td>-0.030466</td>\n",
       "      <td>1.200</td>\n",
       "    </tr>\n",
       "    <tr>\n",
       "      <th>1</th>\n",
       "      <td>01/02/2017</td>\n",
       "      <td>2017-02-01 09:30:00-06:00</td>\n",
       "      <td>2017-02-01 09:32:00-06:00</td>\n",
       "      <td>53.04</td>\n",
       "      <td>53.09</td>\n",
       "      <td>0.094268</td>\n",
       "      <td>3.177</td>\n",
       "    </tr>\n",
       "    <tr>\n",
       "      <th>2</th>\n",
       "      <td>01/02/2023</td>\n",
       "      <td>2023-02-01 09:30:00-06:00</td>\n",
       "      <td>2023-02-01 09:32:00-06:00</td>\n",
       "      <td>78.46</td>\n",
       "      <td>78.75</td>\n",
       "      <td>0.369615</td>\n",
       "      <td>3.764</td>\n",
       "    </tr>\n",
       "    <tr>\n",
       "      <th>3</th>\n",
       "      <td>01/03/2017</td>\n",
       "      <td>2017-03-01 09:30:00-06:00</td>\n",
       "      <td>2017-03-01 09:32:00-06:00</td>\n",
       "      <td>54.35</td>\n",
       "      <td>54.31</td>\n",
       "      <td>-0.073597</td>\n",
       "      <td>-1.578</td>\n",
       "    </tr>\n",
       "    <tr>\n",
       "      <th>4</th>\n",
       "      <td>01/03/2023</td>\n",
       "      <td>2023-03-01 09:30:00-06:00</td>\n",
       "      <td>2023-03-01 09:32:00-06:00</td>\n",
       "      <td>76.86</td>\n",
       "      <td>77.05</td>\n",
       "      <td>0.247203</td>\n",
       "      <td>0.708</td>\n",
       "    </tr>\n",
       "    <tr>\n",
       "      <th>...</th>\n",
       "      <td>...</td>\n",
       "      <td>...</td>\n",
       "      <td>...</td>\n",
       "      <td>...</td>\n",
       "      <td>...</td>\n",
       "      <td>...</td>\n",
       "      <td>...</td>\n",
       "    </tr>\n",
       "    <tr>\n",
       "      <th>724</th>\n",
       "      <td>31/08/2011</td>\n",
       "      <td>2011-08-31 08:30:00-05:00</td>\n",
       "      <td>2011-08-31 08:32:00-05:00</td>\n",
       "      <td>88.35</td>\n",
       "      <td>88.47</td>\n",
       "      <td>0.135823</td>\n",
       "      <td>4.400</td>\n",
       "    </tr>\n",
       "    <tr>\n",
       "      <th>725</th>\n",
       "      <td>31/08/2016</td>\n",
       "      <td>2016-08-31 08:30:00-05:00</td>\n",
       "      <td>2016-08-31 08:32:00-05:00</td>\n",
       "      <td>45.85</td>\n",
       "      <td>45.90</td>\n",
       "      <td>0.109051</td>\n",
       "      <td>1.355</td>\n",
       "    </tr>\n",
       "    <tr>\n",
       "      <th>726</th>\n",
       "      <td>31/08/2022</td>\n",
       "      <td>2022-08-31 08:30:00-05:00</td>\n",
       "      <td>2022-08-31 08:32:00-05:00</td>\n",
       "      <td>89.63</td>\n",
       "      <td>89.52</td>\n",
       "      <td>-0.122727</td>\n",
       "      <td>-1.843</td>\n",
       "    </tr>\n",
       "    <tr>\n",
       "      <th>727</th>\n",
       "      <td>31/10/2018</td>\n",
       "      <td>2018-10-31 08:30:00-05:00</td>\n",
       "      <td>2018-10-31 08:32:00-05:00</td>\n",
       "      <td>65.98</td>\n",
       "      <td>65.99</td>\n",
       "      <td>0.015156</td>\n",
       "      <td>-0.893</td>\n",
       "    </tr>\n",
       "    <tr>\n",
       "      <th>728</th>\n",
       "      <td>31/12/2014</td>\n",
       "      <td>2014-12-31 09:30:00-06:00</td>\n",
       "      <td>2014-12-31 09:32:00-06:00</td>\n",
       "      <td>53.51</td>\n",
       "      <td>53.33</td>\n",
       "      <td>-0.336386</td>\n",
       "      <td>-1.684</td>\n",
       "    </tr>\n",
       "  </tbody>\n",
       "</table>\n",
       "<p>729 rows × 7 columns</p>\n",
       "</div>"
      ],
      "text/plain": [
       "           Date            Start_Datetime              End_Datetime  \\\n",
       "0    01/02/2012 2012-02-01 09:30:00-06:00 2012-02-01 09:32:00-06:00   \n",
       "1    01/02/2017 2017-02-01 09:30:00-06:00 2017-02-01 09:32:00-06:00   \n",
       "2    01/02/2023 2023-02-01 09:30:00-06:00 2023-02-01 09:32:00-06:00   \n",
       "3    01/03/2017 2017-03-01 09:30:00-06:00 2017-03-01 09:32:00-06:00   \n",
       "4    01/03/2023 2023-03-01 09:30:00-06:00 2023-03-01 09:32:00-06:00   \n",
       "..          ...                       ...                       ...   \n",
       "724  31/08/2011 2011-08-31 08:30:00-05:00 2011-08-31 08:32:00-05:00   \n",
       "725  31/08/2016 2016-08-31 08:30:00-05:00 2016-08-31 08:32:00-05:00   \n",
       "726  31/08/2022 2022-08-31 08:30:00-05:00 2022-08-31 08:32:00-05:00   \n",
       "727  31/10/2018 2018-10-31 08:30:00-05:00 2018-10-31 08:32:00-05:00   \n",
       "728  31/12/2014 2014-12-31 09:30:00-06:00 2014-12-31 09:32:00-06:00   \n",
       "\n",
       "     Start_Price  End_Price  Percentage_Change_0to2min  supply_surprise  \n",
       "0          98.47      98.44                  -0.030466            1.200  \n",
       "1          53.04      53.09                   0.094268            3.177  \n",
       "2          78.46      78.75                   0.369615            3.764  \n",
       "3          54.35      54.31                  -0.073597           -1.578  \n",
       "4          76.86      77.05                   0.247203            0.708  \n",
       "..           ...        ...                        ...              ...  \n",
       "724        88.35      88.47                   0.135823            4.400  \n",
       "725        45.85      45.90                   0.109051            1.355  \n",
       "726        89.63      89.52                  -0.122727           -1.843  \n",
       "727        65.98      65.99                   0.015156           -0.893  \n",
       "728        53.51      53.33                  -0.336386           -1.684  \n",
       "\n",
       "[729 rows x 7 columns]"
      ]
     },
     "metadata": {},
     "output_type": "display_data"
    }
   ],
   "source": [
    "\n",
    "# 1. Group by 'Date'\n",
    "grouped_by_date = merged_price_window_0to2min.groupby('Date')\n",
    "\n",
    "# 2. Initialize a list to store results\n",
    "date_percentage_changes = []\n",
    "\n",
    "# 3. Iterate through each group (date)\n",
    "for date, group_df in grouped_by_date:\n",
    "    # Find the earliest Datetime_CST and its Close price\n",
    "    earliest_minute_row = group_df.sort_values(by='Datetime_CST').iloc[0]\n",
    "    earliest_close_price = earliest_minute_row['Close']\n",
    "\n",
    "    # Find the latest Datetime_CST and its Close price\n",
    "    latest_minute_row = group_df.sort_values(by='Datetime_CST').iloc[-1]\n",
    "    latest_close_price = latest_minute_row['Close']\n",
    "\n",
    "    # Calculate percentage price change\n",
    "    if earliest_close_price != 0:  # Avoid division by zero\n",
    "        percentage_change = ((latest_close_price - earliest_close_price) / earliest_close_price) * 100.0\n",
    "    else:\n",
    "        percentage_change = float('nan')  # Handle case where earliest price is zero\n",
    "\n",
    "    # Append results to the list\n",
    "    date_percentage_changes.append({\n",
    "        'Date': date,\n",
    "        'Start_Datetime': earliest_minute_row['Datetime_CST'],\n",
    "        'End_Datetime': latest_minute_row['Datetime_CST'],\n",
    "        'Start_Price': earliest_close_price,\n",
    "        'End_Price': latest_close_price,\n",
    "        'Percentage_Change_0to2min': percentage_change,\n",
    "        'supply_surprise': earliest_minute_row['supply_surprise'] # Take supply surprise from the earliest minute row (should be consistent for the date)\n",
    "    })\n",
    "\n",
    "# 4. Create a new DataFrame from the results list\n",
    "date_percentage_change_df = pd.DataFrame(date_percentage_changes)\n",
    "\n",
    "# Display the new DataFrame\n",
    "display(date_percentage_change_df)"
   ]
  },
  {
   "cell_type": "code",
   "execution_count": 145,
   "metadata": {},
   "outputs": [
    {
     "data": {
      "application/vnd.plotly.v1+json": {
       "config": {
        "plotlyServerURL": "https://plot.ly"
       },
       "data": [
        {
         "customdata": [
          [
           "01/02/2012",
           "2012-02-01T09:30:00",
           "2012-02-01T09:32:00",
           98.47,
           98.44
          ],
          [
           "01/02/2017",
           "2017-02-01T09:30:00",
           "2017-02-01T09:32:00",
           53.04,
           53.09
          ],
          [
           "01/02/2023",
           "2023-02-01T09:30:00",
           "2023-02-01T09:32:00",
           78.46,
           78.75
          ],
          [
           "01/03/2017",
           "2017-03-01T09:30:00",
           "2017-03-01T09:32:00",
           54.35,
           54.31
          ],
          [
           "01/03/2023",
           "2023-03-01T09:30:00",
           "2023-03-01T09:32:00",
           76.86,
           77.05
          ],
          [
           "01/04/2015",
           "2015-04-01T08:30:00",
           "2015-04-01T08:32:00",
           48.02,
           47.98
          ],
          [
           "01/04/2020",
           "2020-04-01T08:30:00",
           "2020-04-01T08:32:00",
           20.37,
           20.3
          ],
          [
           "01/05/2013",
           "2013-05-01T08:30:00",
           "2013-05-01T08:32:00",
           90.86,
           90.95
          ],
          [
           "01/05/2019",
           "2019-05-01T08:30:00",
           "2019-05-01T08:32:00",
           63.87,
           63.84
          ],
          [
           "01/05/2024",
           "2024-05-01T08:30:00",
           "2024-05-01T08:32:00",
           80.48,
           80.81
          ],
          [
           "01/06/2017",
           "2017-06-01T09:00:00",
           "2017-06-01T09:02:00",
           48.29,
           48.35
          ],
          [
           "01/06/2023",
           "2023-06-01T09:00:00",
           "2023-06-01T09:02:00",
           68.03,
           68.27
          ],
          [
           "01/07/2015",
           "2015-07-01T08:30:00",
           "2015-07-01T08:32:00",
           58.31,
           58.29
          ],
          [
           "01/07/2020",
           "2020-07-01T08:30:00",
           "2020-07-01T08:32:00",
           39.83,
           39.89
          ],
          [
           "01/08/2012",
           "2012-08-01T08:30:00",
           "2012-08-01T08:32:00",
           88.69,
           88.69
          ],
          [
           "01/08/2018",
           "2018-08-01T08:30:00",
           "2018-08-01T08:32:00",
           66.68,
           66.65
          ],
          [
           "01/09/2021",
           "2021-09-01T08:30:00",
           "2021-09-01T08:32:00",
           67.46,
           67.38
          ],
          [
           "01/10/2014",
           "2014-10-01T08:30:00",
           "2014-10-01T08:32:00",
           91.91,
           91.92
          ],
          [
           "01/11/2012",
           "2012-11-01T09:00:00",
           "2012-11-01T09:02:00",
           86.3,
           86.34
          ],
          [
           "01/11/2017",
           "2017-11-01T08:30:00",
           "2017-11-01T08:32:00",
           54.95,
           54.97
          ],
          [
           "01/11/2023",
           "2023-11-01T08:30:00",
           "2023-11-01T08:32:00",
           83.05,
           82.9
          ],
          [
           "01/12/2021",
           "2021-12-01T09:30:00",
           "2021-12-01T09:32:00",
           68.08,
           68.14
          ],
          [
           "02/01/2025",
           "2025-01-02T10:00:00",
           "2025-01-02T10:02:00",
           73.32,
           73.27
          ],
          [
           "02/02/2022",
           "2022-02-02T09:30:00",
           "2022-02-02T09:32:00",
           88.17,
           88.06
          ],
          [
           "02/03/2016",
           "2016-03-02T09:30:00",
           "2016-03-02T09:32:00",
           34.03,
           33.83
          ],
          [
           "02/03/2022",
           "2022-03-02T09:30:00",
           "2022-03-02T09:32:00",
           108.68,
           108.84
          ],
          [
           "02/04/2014",
           "2014-04-02T08:30:00",
           "2014-04-02T08:32:00",
           99.25,
           99.17
          ],
          [
           "02/05/2012",
           "2012-05-02T08:30:00",
           "2012-05-02T08:32:00",
           105.7,
           105.66
          ],
          [
           "02/05/2018",
           "2018-05-02T08:30:00",
           "2018-05-02T08:32:00",
           67.13,
           67.22
          ],
          [
           "02/06/2011",
           "2011-06-02T09:00:00",
           "2011-06-02T09:02:00",
           100.46,
           100.39
          ],
          [
           "02/06/2016",
           "2016-06-02T09:00:00",
           "2016-06-02T09:02:00",
           48.29,
           48.32
          ],
          [
           "02/06/2022",
           "2022-06-02T09:00:00",
           "2022-06-02T09:02:00",
           116.39,
           116.22
          ],
          [
           "02/07/2014",
           "2014-07-02T08:30:00",
           "2014-07-02T08:32:00",
           104.8,
           104.89
          ],
          [
           "02/08/2017",
           "2017-08-02T08:30:00",
           "2017-08-02T08:32:00",
           49.36,
           49.34
          ],
          [
           "02/08/2023",
           "2023-08-02T08:30:00",
           "2023-08-02T08:32:00",
           80.77,
           80.45
          ],
          [
           "02/09/2015",
           "2015-09-02T08:30:00",
           "2015-09-02T08:32:00",
           45.98,
           45.69
          ],
          [
           "02/09/2020",
           "2020-09-02T08:30:00",
           "2020-09-02T08:32:00",
           42.76,
           42.73
          ],
          [
           "02/10/2013",
           "2013-10-02T08:30:00",
           "2013-10-02T08:32:00",
           101.73,
           101.7
          ],
          [
           "02/10/2019",
           "2019-10-02T08:30:00",
           "2019-10-02T08:32:00",
           53.54,
           53.53
          ],
          [
           "02/10/2024",
           "2024-10-02T08:30:00",
           "2024-10-02T08:32:00",
           72.18,
           72.12
          ],
          [
           "02/11/2011",
           "2011-11-02T08:30:00",
           "2011-11-02T08:32:00",
           93.52,
           93.57
          ],
          [
           "02/11/2016",
           "2016-11-02T08:30:00",
           "2016-11-02T08:32:00",
           45.79,
           45.86
          ],
          [
           "02/11/2022",
           "2022-11-02T08:30:00",
           "2022-11-02T08:32:00",
           88.2,
           88.3
          ],
          [
           "02/12/2015",
           "2015-12-02T09:30:00",
           "2015-12-02T09:32:00",
           41.1,
           40.87
          ],
          [
           "02/12/2020",
           "2020-12-02T09:30:00",
           "2020-12-02T09:32:00",
           44.98,
           44.96
          ],
          [
           "03/01/2014",
           "2014-01-03T10:00:00",
           "2014-01-03T10:02:00",
           94.76,
           94.56
          ],
          [
           "03/01/2020",
           "2020-01-03T10:00:00",
           "2020-01-03T10:02:00",
           63.37,
           63.4
          ],
          [
           "03/02/2016",
           "2016-02-03T09:30:00",
           "2016-02-03T09:32:00",
           30.01,
           30.02
          ],
          [
           "03/02/2021",
           "2021-02-03T09:30:00",
           "2021-02-03T09:32:00",
           55.63,
           55.61
          ],
          [
           "03/03/2021",
           "2021-03-03T09:30:00",
           "2021-03-03T09:32:00",
           60.66,
           60.59
          ],
          [
           "03/04/2013",
           "2013-04-03T08:30:00",
           "2013-04-03T08:32:00",
           96.83,
           96.85
          ],
          [
           "03/04/2019",
           "2019-04-03T08:30:00",
           "2019-04-03T08:32:00",
           62.62,
           62.69
          ],
          [
           "03/04/2024",
           "2024-04-03T08:30:00",
           "2024-04-03T08:32:00",
           85.6,
           85.62
          ],
          [
           "03/05/2017",
           "2017-05-03T08:30:00",
           "2017-05-03T08:32:00",
           47.77,
           47.75
          ],
          [
           "03/05/2023",
           "2023-05-03T08:30:00",
           "2023-05-03T08:32:00",
           69.27,
           69.47
          ],
          [
           "03/06/2015",
           "2015-06-03T08:30:00",
           "2015-06-03T08:32:00",
           60.68,
           60.69
          ],
          [
           "03/06/2020",
           "2020-06-03T08:30:00",
           "2020-06-03T08:32:00",
           36.91,
           36.95
          ],
          [
           "03/06/2021",
           "2021-06-03T09:00:00",
           "2021-06-03T09:02:00",
           68.85,
           68.85
          ],
          [
           "03/07/2013",
           "2013-07-03T08:30:00",
           "2013-07-03T08:32:00",
           101.53,
           101.58
          ],
          [
           "03/07/2019",
           "2019-07-03T08:30:00",
           "2019-07-03T08:32:00",
           56.88,
           56.87
          ],
          [
           "03/07/2024",
           "2024-07-03T08:30:00",
           "2024-07-03T08:32:00",
           83,
           82.88
          ],
          [
           "03/08/2011",
           "2011-08-03T08:30:00",
           "2011-08-03T08:32:00",
           93.64,
           93.76
          ],
          [
           "03/08/2016",
           "2016-08-03T08:30:00",
           "2016-08-03T08:32:00",
           40.46,
           40.43
          ],
          [
           "03/08/2022",
           "2022-08-03T08:30:00",
           "2022-08-03T08:32:00",
           93.21,
           93.24
          ],
          [
           "03/10/2012",
           "2012-10-03T08:30:00",
           "2012-10-03T08:32:00",
           90.48,
           90.49
          ],
          [
           "03/10/2018",
           "2018-10-03T08:30:00",
           "2018-10-03T08:32:00",
           75.06,
           75.03
          ],
          [
           "03/11/2021",
           "2021-11-03T08:30:00",
           "2021-11-03T08:32:00",
           81.39,
           81.32
          ],
          [
           "03/12/2014",
           "2014-12-03T09:30:00",
           "2014-12-03T09:32:00",
           67.79,
           67.5
          ],
          [
           "04/01/2013",
           "2013-01-04T10:00:00",
           "2013-01-04T10:02:00",
           92.94,
           92.79
          ],
          [
           "04/01/2018",
           "2018-01-04T10:00:00",
           "2018-01-04T10:02:00",
           61.75,
           61.71
          ],
          [
           "04/01/2019",
           "2019-01-04T10:00:00",
           "2019-01-04T10:02:00",
           48.69,
           48.81
          ],
          [
           "04/01/2024",
           "2024-01-04T10:00:00",
           "2024-01-04T10:02:00",
           71.97,
           71.93
          ],
          [
           "04/02/2015",
           "2015-02-04T09:30:00",
           "2015-02-04T09:32:00",
           50.39,
           50.25
          ],
          [
           "04/03/2015",
           "2015-03-04T09:30:00",
           "2015-03-04T09:32:00",
           50.08,
           49.86
          ],
          [
           "04/03/2020",
           "2020-03-04T09:30:00",
           "2020-03-04T09:32:00",
           48.24,
           48.2
          ],
          [
           "04/04/2012",
           "2012-04-04T08:30:00",
           "2012-04-04T08:32:00",
           102.66,
           102.65
          ],
          [
           "04/04/2018",
           "2018-04-04T08:30:00",
           "2018-04-04T08:32:00",
           62.28,
           62.35
          ],
          [
           "04/05/2011",
           "2011-05-04T08:30:00",
           "2011-05-04T08:32:00",
           110.57,
           110.43
          ],
          [
           "04/05/2016",
           "2016-05-04T08:30:00",
           "2016-05-04T08:32:00",
           44.44,
           44.58
          ],
          [
           "04/05/2022",
           "2022-05-04T08:30:00",
           "2022-05-04T08:32:00",
           107.05,
           107.15
          ],
          [
           "04/06/2014",
           "2014-06-04T08:30:00",
           "2014-06-04T08:32:00",
           103.36,
           103.34
          ],
          [
           "04/08/2021",
           "2021-08-04T08:30:00",
           "2021-08-04T08:32:00",
           68.09,
           67.89
          ],
          [
           "04/09/2014",
           "2014-09-04T09:00:00",
           "2014-09-04T09:02:00",
           95.1,
           95.09
          ],
          [
           "04/10/2017",
           "2017-10-04T08:30:00",
           "2017-10-04T08:32:00",
           50.38,
           50.37
          ],
          [
           "04/10/2023",
           "2023-10-04T08:30:00",
           "2023-10-04T08:32:00",
           87.1,
           86.98
          ],
          [
           "04/11/2015",
           "2015-11-04T09:30:00",
           "2015-11-04T09:32:00",
           47.45,
           47.74
          ],
          [
           "04/11/2020",
           "2020-11-04T09:30:00",
           "2020-11-04T09:32:00",
           38.47,
           38.33
          ],
          [
           "04/12/2013",
           "2013-12-04T09:30:00",
           "2013-12-04T09:32:00",
           96.71,
           96.73
          ],
          [
           "04/12/2019",
           "2019-12-04T09:30:00",
           "2019-12-04T09:32:00",
           58.26,
           58.24
          ],
          [
           "04/12/2024",
           "2024-12-04T09:30:00",
           "2024-12-04T09:32:00",
           70.07,
           69.95
          ],
          [
           "05/01/2012",
           "2012-01-05T10:00:00",
           "2012-01-05T10:02:00",
           102.38,
           102.28
          ],
          [
           "05/01/2017",
           "2017-01-05T10:00:00",
           "2017-01-05T10:02:00",
           53.55,
           53.26
          ],
          [
           "05/01/2022",
           "2022-01-05T09:30:00",
           "2022-01-05T09:32:00",
           77.88,
           78.05
          ],
          [
           "05/01/2023",
           "2023-01-05T10:00:00",
           "2023-01-05T10:02:00",
           73.88,
           73.66
          ],
          [
           "05/02/2014",
           "2014-02-05T09:30:00",
           "2014-02-05T09:32:00",
           97.68,
           97.61
          ],
          [
           "05/02/2020",
           "2020-02-05T09:30:00",
           "2020-02-05T09:32:00",
           51.38,
           51.64
          ],
          [
           "05/02/2025",
           "2025-02-05T09:30:00",
           "2025-02-05T09:32:00",
           71.57,
           71.53
          ],
          [
           "05/03/2014",
           "2014-03-05T09:30:00",
           "2014-03-05T09:32:00",
           102.79,
           102.6
          ],
          [
           "05/03/2025",
           "2025-03-05T09:30:00",
           "2025-03-05T09:32:00",
           66.22,
           66.15
          ],
          [
           "05/04/2017",
           "2017-04-05T08:30:00",
           "2017-04-05T08:32:00",
           51.67,
           51.7
          ],
          [
           "05/04/2023",
           "2023-04-05T08:30:00",
           "2023-04-05T08:32:00",
           80.56,
           80.48
          ],
          [
           "05/05/2021",
           "2021-05-05T08:30:00",
           "2021-05-05T08:32:00",
           66.27,
           66.32
          ],
          [
           "05/06/2013",
           "2013-06-05T08:30:00",
           "2013-06-05T08:32:00",
           93.98,
           93.94
          ],
          [
           "05/06/2019",
           "2019-06-05T08:30:00",
           "2019-06-05T08:32:00",
           52.87,
           52.84
          ],
          [
           "05/06/2024",
           "2024-06-05T08:30:00",
           "2024-06-05T08:32:00",
           73.68,
           73.6
          ],
          [
           "05/07/2012",
           "2012-07-05T09:00:00",
           "2012-07-05T09:02:00",
           86.85,
           86.75
          ],
          [
           "05/07/2018",
           "2018-07-05T09:00:00",
           "2018-07-05T09:02:00",
           73.96,
           73.89
          ],
          [
           "05/08/2015",
           "2015-08-05T08:30:00",
           "2015-08-05T08:32:00",
           46.57,
           46.58
          ],
          [
           "05/08/2020",
           "2020-08-05T08:30:00",
           "2020-08-05T08:32:00",
           43.4,
           43.5
          ],
          [
           "05/09/2013",
           "2013-09-05T09:00:00",
           "2013-09-05T09:02:00",
           107.37,
           107.43
          ],
          [
           "05/09/2019",
           "2019-09-05T09:00:00",
           "2019-09-05T09:02:00",
           56.74,
           56.78
          ],
          [
           "05/09/2024",
           "2024-09-05T09:00:00",
           "2024-09-05T09:02:00",
           70.17,
           70.11
          ],
          [
           "05/10/2011",
           "2011-10-05T08:30:00",
           "2011-10-05T08:32:00",
           77.47,
           77.22
          ],
          [
           "05/10/2016",
           "2016-10-05T08:30:00",
           "2016-10-05T08:32:00",
           49.69,
           49.63
          ],
          [
           "05/10/2022",
           "2022-10-05T08:30:00",
           "2022-10-05T08:32:00",
           87.22,
           87.29
          ],
          [
           "05/11/2014",
           "2014-11-05T09:30:00",
           "2014-11-05T09:32:00",
           77.82,
           78.14
          ],
          [
           "05/12/2012",
           "2012-12-05T09:30:00",
           "2012-12-05T09:32:00",
           88.14,
           88.15
          ],
          [
           "06/01/2016",
           "2016-01-06T09:30:00",
           "2016-01-06T09:32:00",
           34.74,
           34.68
          ],
          [
           "06/01/2021",
           "2021-01-06T09:30:00",
           "2021-01-06T09:32:00",
           50.2,
           50.31
          ],
          [
           "06/02/2013",
           "2013-02-06T09:30:00",
           "2013-02-06T09:32:00",
           95.64,
           95.73
          ],
          [
           "06/02/2019",
           "2019-02-06T09:30:00",
           "2019-02-06T09:32:00",
           53.27,
           53.36
          ],
          [
           "06/03/2013",
           "2013-03-06T09:30:00",
           "2013-03-06T09:32:00",
           89.98,
           89.9
          ],
          [
           "06/03/2019",
           "2019-03-06T09:30:00",
           "2019-03-06T09:32:00",
           55.79,
           55.76
          ],
          [
           "06/03/2024",
           "2024-03-06T09:30:00",
           "2024-03-06T09:32:00",
           79.99,
           80.02
          ],
          [
           "06/04/2011",
           "2011-04-06T08:30:00",
           "2011-04-06T08:32:00",
           108.62,
           108.53
          ],
          [
           "06/04/2016",
           "2016-04-06T08:30:00",
           "2016-04-06T08:32:00",
           37.03,
           36.96
          ],
          [
           "06/04/2022",
           "2022-04-06T08:30:00",
           "2022-04-06T08:32:00",
           102.24,
           102.18
          ],
          [
           "06/05/2015",
           "2015-05-06T08:30:00",
           "2015-05-06T08:32:00",
           61.75,
           61.7
          ],
          [
           "06/05/2020",
           "2020-05-06T08:30:00",
           "2020-05-06T08:32:00",
           23.71,
           23.92
          ],
          [
           "06/06/2012",
           "2012-06-06T08:30:00",
           "2012-06-06T08:32:00",
           85.23,
           85.23
          ],
          [
           "06/06/2018",
           "2018-06-06T08:30:00",
           "2018-06-06T08:32:00",
           65.19,
           65.16
          ],
          [
           "06/07/2017",
           "2017-07-06T09:00:00",
           "2017-07-06T09:02:00",
           45.91,
           45.91
          ],
          [
           "06/07/2023",
           "2023-07-06T09:00:00",
           "2023-07-06T09:02:00",
           70.31,
           70.45
          ],
          [
           "06/08/2014",
           "2014-08-06T08:30:00",
           "2014-08-06T08:32:00",
           96.97,
           96.99
          ],
          [
           "06/09/2012",
           "2012-09-06T09:00:00",
           "2012-09-06T09:02:00",
           97.12,
           97.25
          ],
          [
           "06/09/2018",
           "2018-09-06T09:00:00",
           "2018-09-06T09:02:00",
           68.75,
           68.74
          ],
          [
           "06/10/2021",
           "2021-10-06T08:30:00",
           "2021-10-06T08:32:00",
           77.94,
           77.9
          ],
          [
           "06/11/2013",
           "2013-11-06T09:30:00",
           "2013-11-06T09:32:00",
           94.56,
           94.34
          ],
          [
           "06/11/2019",
           "2019-11-06T09:30:00",
           "2019-11-06T09:32:00",
           57.35,
           57.23
          ],
          [
           "06/11/2024",
           "2024-11-06T09:30:00",
           "2024-11-06T09:32:00",
           71.6,
           71.73
          ],
          [
           "06/12/2017",
           "2017-12-06T09:30:00",
           "2017-12-06T09:32:00",
           57.02,
           56.89
          ],
          [
           "06/12/2018",
           "2018-12-06T10:00:00",
           "2018-12-06T10:02:00",
           51.13,
           51.14
          ],
          [
           "06/12/2023",
           "2023-12-06T09:30:00",
           "2023-12-06T09:32:00",
           70.63,
           70.67
          ],
          [
           "07/01/2015",
           "2015-01-07T09:30:00",
           "2015-01-07T09:32:00",
           48.56,
           48.45
          ],
          [
           "07/02/2018",
           "2018-02-07T09:30:00",
           "2018-02-07T09:32:00",
           63.1,
           63.05
          ],
          [
           "07/02/2024",
           "2024-02-07T09:30:00",
           "2024-02-07T09:32:00",
           73.82,
           73.78
          ],
          [
           "07/03/2012",
           "2012-03-07T09:30:00",
           "2012-03-07T09:32:00",
           104.82,
           104.67
          ],
          [
           "07/03/2018",
           "2018-03-07T09:30:00",
           "2018-03-07T09:32:00",
           62.25,
           62.27
          ],
          [
           "07/04/2021",
           "2021-04-07T08:30:00",
           "2021-04-07T08:32:00",
           58.99,
           59.15
          ],
          [
           "07/05/2014",
           "2014-05-07T08:30:00",
           "2014-05-07T08:32:00",
           100.44,
           100.35
          ],
          [
           "07/06/2017",
           "2017-06-07T08:30:00",
           "2017-06-07T08:32:00",
           47.61,
           47.64
          ],
          [
           "07/06/2023",
           "2023-06-07T08:30:00",
           "2023-06-07T08:32:00",
           72.31,
           72.27
          ],
          [
           "07/07/2011",
           "2011-07-07T09:00:00",
           "2011-07-07T09:02:00",
           98.6,
           98.59
          ],
          [
           "07/07/2016",
           "2016-07-07T09:00:00",
           "2016-07-07T09:02:00",
           47.94,
           47.96
          ],
          [
           "07/07/2022",
           "2022-07-07T09:00:00",
           "2022-07-07T09:02:00",
           103.55,
           103.33
          ],
          [
           "07/08/2013",
           "2013-08-07T08:30:00",
           "2013-08-07T08:32:00",
           104.26,
           104.33
          ],
          [
           "07/08/2019",
           "2019-08-07T08:30:00",
           "2019-08-07T08:32:00",
           52.04,
           51.78
          ],
          [
           "07/08/2024",
           "2024-08-07T08:30:00",
           "2024-08-07T08:32:00",
           73.64,
           73.56
          ],
          [
           "07/09/2017",
           "2017-09-07T09:00:00",
           "2017-09-07T09:02:00",
           48.87,
           48.85
          ],
          [
           "07/09/2023",
           "2023-09-07T09:00:00",
           "2023-09-07T09:02:00",
           87.24,
           87.27
          ],
          [
           "07/10/2015",
           "2015-10-07T08:30:00",
           "2015-10-07T08:32:00",
           49.29,
           49.3
          ],
          [
           "07/10/2020",
           "2020-10-07T08:30:00",
           "2020-10-07T08:32:00",
           39.72,
           39.84
          ],
          [
           "07/11/2012",
           "2012-11-07T09:30:00",
           "2012-11-07T09:32:00",
           85.96,
           85.67
          ],
          [
           "07/11/2018",
           "2018-11-07T09:30:00",
           "2018-11-07T09:32:00",
           62.21,
           61.9
          ],
          [
           "07/12/2011",
           "2011-12-07T09:30:00",
           "2011-12-07T09:32:00",
           100.52,
           100.43
          ],
          [
           "07/12/2016",
           "2016-12-07T09:30:00",
           "2016-12-07T09:32:00",
           50.44,
           50.41
          ],
          [
           "07/12/2022",
           "2022-12-07T09:30:00",
           "2022-12-07T09:32:00",
           74.59,
           74.45
          ],
          [
           "08/01/2014",
           "2014-01-08T09:30:00",
           "2014-01-08T09:32:00",
           93.19,
           93.13
          ],
          [
           "08/01/2020",
           "2020-01-08T09:30:00",
           "2020-01-08T09:32:00",
           61.37,
           61.36
          ],
          [
           "08/01/2025",
           "2025-01-08T09:30:00",
           "2025-01-08T09:32:00",
           74.23,
           74.09
          ],
          [
           "08/02/2012",
           "2012-02-08T09:30:00",
           "2012-02-08T09:32:00",
           99.42,
           99.47
          ],
          [
           "08/02/2017",
           "2017-02-08T09:30:00",
           "2017-02-08T09:32:00",
           51.91,
           51.81
          ],
          [
           "08/02/2023",
           "2023-02-08T09:30:00",
           "2023-02-08T09:32:00",
           77.63,
           77.43
          ],
          [
           "08/03/2017",
           "2017-03-08T09:30:00",
           "2017-03-08T09:32:00",
           52.55,
           52.71
          ],
          [
           "08/03/2023",
           "2023-03-08T09:30:00",
           "2023-03-08T09:32:00",
           77.12,
           77.05
          ],
          [
           "08/04/2015",
           "2015-04-08T08:30:00",
           "2015-04-08T08:32:00",
           52.68,
           52.62
          ],
          [
           "08/04/2020",
           "2020-04-08T08:30:00",
           "2020-04-08T08:32:00",
           24.54,
           24.52
          ],
          [
           "08/05/2013",
           "2013-05-08T08:30:00",
           "2013-05-08T08:32:00",
           95.93,
           96
          ],
          [
           "08/05/2019",
           "2019-05-08T08:30:00",
           "2019-05-08T08:32:00",
           61.4,
           61.35
          ],
          [
           "08/05/2024",
           "2024-05-08T08:30:00",
           "2024-05-08T08:32:00",
           77.62,
           77.5
          ],
          [
           "08/06/2011",
           "2011-06-08T08:30:00",
           "2011-06-08T08:32:00",
           99.91,
           100.48
          ],
          [
           "08/06/2016",
           "2016-06-08T08:30:00",
           "2016-06-08T08:32:00",
           50.99,
           51.04
          ],
          [
           "08/06/2022",
           "2022-06-08T08:30:00",
           "2022-06-08T08:32:00",
           120.29,
           120.25
          ],
          [
           "08/07/2015",
           "2015-07-08T08:30:00",
           "2015-07-08T08:32:00",
           52.51,
           52.48
          ],
          [
           "08/07/2020",
           "2020-07-08T08:30:00",
           "2020-07-08T08:32:00",
           40.61,
           40.66
          ],
          [
           "08/07/2021",
           "2021-07-08T09:00:00",
           "2021-07-08T09:02:00",
           71.57,
           71.69
          ],
          [
           "08/08/2012",
           "2012-08-08T08:30:00",
           "2012-08-08T08:32:00",
           94.06,
           94.14
          ],
          [
           "08/08/2018",
           "2018-08-08T08:30:00",
           "2018-08-08T08:32:00",
           67.49,
           67.45
          ],
          [
           "08/09/2011",
           "2011-09-08T09:00:00",
           "2011-09-08T09:02:00",
           89.33,
           89.5
          ],
          [
           "08/09/2016",
           "2016-09-08T09:00:00",
           "2016-09-08T09:02:00",
           46.21,
           46.23
          ],
          [
           "08/09/2022",
           "2022-09-08T09:00:00",
           "2022-09-08T09:02:00",
           83.67,
           83.65
          ],
          [
           "08/10/2014",
           "2014-10-08T08:30:00",
           "2014-10-08T08:32:00",
           87.91,
           87.88
          ],
          [
           "08/11/2017",
           "2017-11-08T09:30:00",
           "2017-11-08T09:32:00",
           56.73,
           56.56
          ],
          [
           "08/12/2021",
           "2021-12-08T09:30:00",
           "2021-12-08T09:32:00",
           71.7,
           71.73
          ],
          [
           "09/01/2013",
           "2013-01-09T09:30:00",
           "2013-01-09T09:32:00",
           93.24,
           93.2
          ],
          [
           "09/01/2019",
           "2019-01-09T09:30:00",
           "2019-01-09T09:32:00",
           51.07,
           50.86
          ],
          [
           "09/02/2022",
           "2022-02-09T09:30:00",
           "2022-02-09T09:32:00",
           90.33,
           90.36
          ],
          [
           "09/03/2011",
           "2011-03-09T09:30:00",
           "2011-03-09T09:32:00",
           105.33,
           105.34
          ],
          [
           "09/03/2016",
           "2016-03-09T09:30:00",
           "2016-03-09T09:32:00",
           37.52,
           37.59
          ],
          [
           "09/03/2022",
           "2022-03-09T09:30:00",
           "2022-03-09T09:32:00",
           118.44,
           118.31
          ],
          [
           "09/04/2014",
           "2014-04-09T08:30:00",
           "2014-04-09T08:32:00",
           102.69,
           102.73
          ],
          [
           "09/05/2012",
           "2012-05-09T08:30:00",
           "2012-05-09T08:32:00",
           95.63,
           95.69
          ],
          [
           "09/05/2018",
           "2018-05-09T08:30:00",
           "2018-05-09T08:32:00",
           70.71,
           70.74
          ],
          [
           "09/06/2021",
           "2021-06-09T08:30:00",
           "2021-06-09T08:32:00",
           70.27,
           70.31
          ],
          [
           "09/07/2014",
           "2014-07-09T08:30:00",
           "2014-07-09T08:32:00",
           102.8,
           102.78
          ],
          [
           "09/08/2017",
           "2017-08-09T08:30:00",
           "2017-08-09T08:32:00",
           49.6,
           49.61
          ],
          [
           "09/08/2023",
           "2023-08-09T08:30:00",
           "2023-08-09T08:32:00",
           83.18,
           82.97
          ],
          [
           "09/09/2021",
           "2021-09-09T09:00:00",
           "2021-09-09T09:02:00",
           69.01,
           69
          ],
          [
           "09/10/2013",
           "2013-10-09T08:30:00",
           "2013-10-09T08:32:00",
           102.4,
           102.37
          ],
          [
           "09/10/2019",
           "2019-10-09T08:30:00",
           "2019-10-09T08:32:00",
           53.51,
           53.48
          ],
          [
           "09/10/2024",
           "2024-10-09T08:30:00",
           "2024-10-09T08:32:00",
           72.15,
           72.19
          ],
          [
           "09/11/2011",
           "2011-11-09T09:30:00",
           "2011-11-09T09:32:00",
           95.17,
           95.38
          ],
          [
           "09/11/2016",
           "2016-11-09T09:30:00",
           "2016-11-09T09:32:00",
           44.81,
           44.89
          ],
          [
           "09/11/2022",
           "2022-11-09T09:30:00",
           "2022-11-09T09:32:00",
           87.14,
           87.34
          ],
          [
           "09/12/2015",
           "2015-12-09T09:30:00",
           "2015-12-09T09:32:00",
           38.76,
           38.65
          ],
          [
           "09/12/2020",
           "2020-12-09T09:30:00",
           "2020-12-09T09:32:00",
           45.62,
           45.6
          ],
          [
           "10/01/2018",
           "2018-01-10T09:30:00",
           "2018-01-10T09:32:00",
           63.14,
           63.16
          ],
          [
           "10/01/2024",
           "2024-01-10T09:30:00",
           "2024-01-10T09:32:00",
           72.78,
           72.66
          ],
          [
           "10/02/2016",
           "2016-02-10T09:30:00",
           "2016-02-10T09:32:00",
           28.96,
           28.98
          ],
          [
           "10/02/2021",
           "2021-02-10T09:30:00",
           "2021-02-10T09:32:00",
           58.46,
           58.44
          ],
          [
           "10/03/2021",
           "2021-03-10T09:30:00",
           "2021-03-10T09:32:00",
           64.45,
           64.54
          ],
          [
           "10/04/2013",
           "2013-04-10T08:30:00",
           "2013-04-10T08:32:00",
           93.72,
           93.96
          ],
          [
           "10/04/2019",
           "2019-04-10T08:30:00",
           "2019-04-10T08:32:00",
           64.37,
           64.33
          ],
          [
           "10/04/2024",
           "2024-04-10T08:30:00",
           "2024-04-10T08:32:00",
           85.6,
           85.62
          ],
          [
           "10/05/2017",
           "2017-05-10T08:30:00",
           "2017-05-10T08:32:00",
           46.56,
           46.6
          ],
          [
           "10/05/2023",
           "2023-05-10T08:30:00",
           "2023-05-10T08:32:00",
           73.22,
           72.95
          ],
          [
           "10/06/2015",
           "2015-06-10T08:30:00",
           "2015-06-10T08:32:00",
           61.44,
           61.47
          ],
          [
           "10/06/2020",
           "2020-06-10T08:30:00",
           "2020-06-10T08:32:00",
           38.23,
           38.32
          ],
          [
           "10/07/2013",
           "2013-07-10T08:30:00",
           "2013-07-10T08:32:00",
           105.35,
           105.31
          ],
          [
           "10/07/2019",
           "2019-07-10T08:30:00",
           "2019-07-10T08:32:00",
           59.43,
           59.53
          ],
          [
           "10/07/2024",
           "2024-07-10T08:30:00",
           "2024-07-10T08:32:00",
           81.2,
           81.22
          ],
          [
           "10/08/2011",
           "2011-08-10T08:30:00",
           "2011-08-10T08:32:00",
           80.94,
           80.97
          ],
          [
           "10/08/2016",
           "2016-08-10T08:30:00",
           "2016-08-10T08:32:00",
           43.67,
           43.64
          ],
          [
           "10/08/2022",
           "2022-08-10T08:30:00",
           "2022-08-10T08:32:00",
           89.17,
           89.03
          ],
          [
           "10/09/2014",
           "2014-09-10T08:30:00",
           "2014-09-10T08:32:00",
           92.31,
           92.29
          ],
          [
           "10/09/2015",
           "2015-09-10T09:00:00",
           "2015-09-10T09:02:00",
           44.5,
           44.49
          ],
          [
           "10/09/2020",
           "2020-09-10T09:00:00",
           "2020-09-10T09:02:00",
           37.85,
           37.88
          ],
          [
           "10/11/2021",
           "2021-11-10T09:30:00",
           "2021-11-10T09:32:00",
           83.6,
           83.61
          ],
          [
           "10/12/2014",
           "2014-12-10T09:30:00",
           "2014-12-10T09:32:00",
           61.66,
           61.76
          ],
          [
           "11/01/2012",
           "2012-01-11T09:30:00",
           "2012-01-11T09:32:00",
           100.72,
           100.6
          ],
          [
           "11/01/2017",
           "2017-01-11T09:30:00",
           "2017-01-11T09:32:00",
           50.92,
           50.9
          ],
          [
           "11/01/2023",
           "2023-01-11T09:30:00",
           "2023-01-11T09:32:00",
           75.8,
           76.21
          ],
          [
           "11/02/2015",
           "2015-02-11T09:30:00",
           "2015-02-11T09:32:00",
           48.22,
           48.34
          ],
          [
           "11/03/2015",
           "2015-03-11T08:30:00",
           "2015-03-11T08:32:00",
           48.51,
           48.48
          ],
          [
           "11/03/2020",
           "2020-03-11T08:30:00",
           "2020-03-11T08:32:00",
           33.35,
           33.44
          ],
          [
           "11/04/2012",
           "2012-04-11T08:30:00",
           "2012-04-11T08:32:00",
           101.55,
           101.63
          ],
          [
           "11/04/2018",
           "2018-04-11T08:30:00",
           "2018-04-11T08:32:00",
           66.09,
           66.1
          ],
          [
           "11/05/2011",
           "2011-05-11T08:30:00",
           "2011-05-11T08:32:00",
           102.33,
           102.02
          ],
          [
           "11/05/2016",
           "2016-05-11T08:30:00",
           "2016-05-11T08:32:00",
           44.32,
           44.36
          ],
          [
           "11/05/2022",
           "2022-05-11T08:30:00",
           "2022-05-11T08:32:00",
           104.38,
           104.75
          ],
          [
           "11/06/2014",
           "2014-06-11T08:30:00",
           "2014-06-11T08:32:00",
           104.37,
           104.39
          ],
          [
           "11/07/2012",
           "2012-07-11T08:30:00",
           "2012-07-11T08:32:00",
           85.04,
           85.09
          ],
          [
           "11/07/2018",
           "2018-07-11T08:30:00",
           "2018-07-11T08:32:00",
           73.24,
           73.29
          ],
          [
           "11/08/2021",
           "2021-08-11T08:30:00",
           "2021-08-11T08:32:00",
           67.42,
           67.51
          ],
          [
           "11/09/2013",
           "2013-09-11T08:30:00",
           "2013-09-11T08:32:00",
           107.63,
           107.79
          ],
          [
           "11/09/2019",
           "2019-09-11T08:30:00",
           "2019-09-11T08:32:00",
           57.61,
           57.57
          ],
          [
           "11/09/2024",
           "2024-09-11T08:30:00",
           "2024-09-11T08:32:00",
           67.15,
           67.15
          ],
          [
           "11/10/2012",
           "2012-10-11T09:00:00",
           "2012-10-11T09:02:00",
           92.14,
           92.14
          ],
          [
           "11/10/2018",
           "2018-10-11T09:00:00",
           "2018-10-11T09:02:00",
           72.06,
           72.02
          ],
          [
           "11/12/2013",
           "2013-12-11T09:30:00",
           "2013-12-11T09:32:00",
           98.2,
           98.06
          ],
          [
           "11/12/2019",
           "2019-12-11T09:30:00",
           "2019-12-11T09:32:00",
           58.82,
           58.75
          ],
          [
           "11/12/2024",
           "2024-12-11T09:30:00",
           "2024-12-11T09:32:00",
           69.45,
           69.5
          ],
          [
           "12/01/2022",
           "2022-01-12T09:30:00",
           "2022-01-12T09:32:00",
           82.44,
           82.38
          ],
          [
           "12/02/2014",
           "2014-02-12T09:30:00",
           "2014-02-12T09:32:00",
           101.12,
           100.93
          ],
          [
           "12/02/2020",
           "2020-02-12T09:30:00",
           "2020-02-12T09:32:00",
           51.51,
           51.47
          ],
          [
           "12/02/2025",
           "2025-02-12T09:30:00",
           "2025-02-12T09:32:00",
           72.16,
           72.27
          ],
          [
           "12/03/2014",
           "2014-03-12T08:30:00",
           "2014-03-12T08:32:00",
           98.35,
           98.35
          ],
          [
           "12/04/2017",
           "2017-04-12T08:30:00",
           "2017-04-12T08:32:00",
           53.56,
           53.57
          ],
          [
           "12/04/2023",
           "2023-04-12T08:30:00",
           "2023-04-12T08:32:00",
           82.2,
           82.25
          ],
          [
           "12/05/2021",
           "2021-05-12T08:30:00",
           "2021-05-12T08:32:00",
           65.91,
           65.99
          ],
          [
           "12/06/2013",
           "2013-06-12T08:30:00",
           "2013-06-12T08:32:00",
           96.13,
           96.09
          ],
          [
           "12/06/2019",
           "2019-06-12T08:30:00",
           "2019-06-12T08:32:00",
           52.23,
           52.12
          ],
          [
           "12/06/2024",
           "2024-06-12T08:30:00",
           "2024-06-12T08:32:00",
           79.23,
           79.13
          ],
          [
           "12/07/2017",
           "2017-07-12T08:30:00",
           "2017-07-12T08:32:00",
           46.11,
           46.14
          ],
          [
           "12/07/2023",
           "2023-07-12T08:30:00",
           "2023-07-12T08:32:00",
           75.75,
           76.01
          ],
          [
           "12/08/2015",
           "2015-08-12T08:30:00",
           "2015-08-12T08:32:00",
           44.32,
           44.34
          ],
          [
           "12/08/2020",
           "2020-08-12T08:30:00",
           "2020-08-12T08:32:00",
           42.73,
           42.66
          ],
          [
           "12/09/2012",
           "2012-09-12T08:30:00",
           "2012-09-12T08:32:00",
           97.13,
           97.19
          ],
          [
           "12/09/2018",
           "2018-09-12T08:30:00",
           "2018-09-12T08:32:00",
           70.19,
           70.15
          ],
          [
           "12/10/2017",
           "2017-10-12T09:00:00",
           "2017-10-12T09:02:00",
           50.29,
           50.31
          ],
          [
           "12/10/2023",
           "2023-10-12T09:00:00",
           "2023-10-12T09:02:00",
           84.76,
           84.63
          ],
          [
           "12/11/2015",
           "2015-11-12T10:00:00",
           "2015-11-12T10:02:00",
           42.15,
           42.09
          ],
          [
           "12/11/2020",
           "2020-11-12T10:00:00",
           "2020-11-12T10:02:00",
           41.62,
           41.61
          ],
          [
           "12/12/2012",
           "2012-12-12T09:30:00",
           "2012-12-12T09:32:00",
           86.67,
           86.55
          ],
          [
           "12/12/2018",
           "2018-12-12T09:30:00",
           "2018-12-12T09:32:00",
           51.9,
           52.03
          ],
          [
           "13/01/2016",
           "2016-01-13T09:30:00",
           "2016-01-13T09:32:00",
           30.62,
           30.47
          ],
          [
           "13/01/2021",
           "2021-01-13T09:30:00",
           "2021-01-13T09:32:00",
           53.04,
           53.22
          ],
          [
           "13/02/2013",
           "2013-02-13T09:30:00",
           "2013-02-13T09:32:00",
           97.91,
           97.83
          ],
          [
           "13/02/2019",
           "2019-02-13T09:30:00",
           "2019-02-13T09:32:00",
           54.06,
           54.17
          ],
          [
           "13/03/2013",
           "2013-03-13T08:30:00",
           "2013-03-13T08:32:00",
           93.25,
           93.26
          ],
          [
           "13/03/2019",
           "2019-03-13T08:30:00",
           "2019-03-13T08:32:00",
           57.68,
           57.68
          ],
          [
           "13/03/2024",
           "2024-03-13T08:30:00",
           "2024-03-13T08:32:00",
           79.4,
           79.45
          ],
          [
           "13/04/2011",
           "2011-04-13T08:30:00",
           "2011-04-13T08:32:00",
           106.82,
           106.91
          ],
          [
           "13/04/2016",
           "2016-04-13T08:30:00",
           "2016-04-13T08:32:00",
           41.72,
           41.69
          ],
          [
           "13/04/2022",
           "2022-04-13T08:30:00",
           "2022-04-13T08:32:00",
           102.45,
           102.53
          ],
          [
           "13/05/2015",
           "2015-05-13T08:30:00",
           "2015-05-13T08:32:00",
           61.31,
           61.4
          ],
          [
           "13/05/2020",
           "2020-05-13T08:30:00",
           "2020-05-13T08:32:00",
           26.37,
           26.25
          ],
          [
           "13/06/2012",
           "2012-06-13T08:30:00",
           "2012-06-13T08:32:00",
           82.31,
           82.3
          ],
          [
           "13/06/2018",
           "2018-06-13T08:30:00",
           "2018-06-13T08:32:00",
           65.99,
           66.02
          ],
          [
           "13/07/2011",
           "2011-07-13T08:30:00",
           "2011-07-13T08:32:00",
           97.04,
           97.01
          ],
          [
           "13/07/2016",
           "2016-07-13T08:30:00",
           "2016-07-13T08:32:00",
           46.34,
           46.41
          ],
          [
           "13/07/2022",
           "2022-07-13T08:30:00",
           "2022-07-13T08:32:00",
           96,
           95.56
          ],
          [
           "13/08/2014",
           "2014-08-13T08:30:00",
           "2014-08-13T08:32:00",
           96.51,
           96.46
          ],
          [
           "13/09/2017",
           "2017-09-13T08:30:00",
           "2017-09-13T08:32:00",
           48.62,
           48.68
          ],
          [
           "13/09/2023",
           "2023-09-13T08:30:00",
           "2023-09-13T08:32:00",
           89.01,
           89.12
          ],
          [
           "13/10/2011",
           "2011-10-13T09:00:00",
           "2011-10-13T09:02:00",
           83.46,
           83.38
          ],
          [
           "13/10/2016",
           "2016-10-13T09:00:00",
           "2016-10-13T09:02:00",
           50.06,
           49.95
          ],
          [
           "13/10/2022",
           "2022-10-13T09:00:00",
           "2022-10-13T09:02:00",
           86.78,
           86.83
          ],
          [
           "13/11/2014",
           "2014-11-13T10:00:00",
           "2014-11-13T10:02:00",
           75.39,
           75.44
          ],
          [
           "13/12/2017",
           "2017-12-13T09:30:00",
           "2017-12-13T09:32:00",
           57.26,
           57.21
          ],
          [
           "13/12/2023",
           "2023-12-13T09:30:00",
           "2023-12-13T09:32:00",
           69.37,
           69.29
          ],
          [
           "14/01/2015",
           "2015-01-14T09:30:00",
           "2015-01-14T09:32:00",
           45.94,
           45.96
          ],
          [
           "14/02/2018",
           "2018-02-14T09:30:00",
           "2018-02-14T09:32:00",
           59.26,
           59.18
          ],
          [
           "14/02/2024",
           "2024-02-14T09:30:00",
           "2024-02-14T09:32:00",
           77.59,
           77.31
          ],
          [
           "14/03/2012",
           "2012-03-14T08:30:00",
           "2012-03-14T08:32:00",
           106.4,
           106.43
          ],
          [
           "14/03/2018",
           "2018-03-14T08:30:00",
           "2018-03-14T08:32:00",
           60.84,
           60.81
          ],
          [
           "14/04/2021",
           "2021-04-14T08:30:00",
           "2021-04-14T08:32:00",
           61.41,
           61.37
          ],
          [
           "14/05/2014",
           "2014-05-14T08:30:00",
           "2014-05-14T08:32:00",
           102.29,
           102.35
          ],
          [
           "14/06/2017",
           "2017-06-14T08:30:00",
           "2017-06-14T08:32:00",
           46.18,
           46.2
          ],
          [
           "14/06/2023",
           "2023-06-14T08:30:00",
           "2023-06-14T08:32:00",
           70.43,
           70.44
          ],
          [
           "14/07/2021",
           "2021-07-14T08:30:00",
           "2021-07-14T08:32:00",
           75.11,
           75.13
          ],
          [
           "14/08/2013",
           "2013-08-14T08:30:00",
           "2013-08-14T08:32:00",
           105.89,
           105.9
          ],
          [
           "14/08/2019",
           "2019-08-14T08:30:00",
           "2019-08-14T08:32:00",
           55.14,
           55.16
          ],
          [
           "14/08/2024",
           "2024-08-14T08:30:00",
           "2024-08-14T08:32:00",
           76.89,
           76.83
          ],
          [
           "14/09/2011",
           "2011-09-14T08:30:00",
           "2011-09-14T08:32:00",
           89.52,
           89.65
          ],
          [
           "14/09/2016",
           "2016-09-14T08:30:00",
           "2016-09-14T08:32:00",
           44.41,
           44.34
          ],
          [
           "14/09/2022",
           "2022-09-14T08:30:00",
           "2022-09-14T08:32:00",
           88.44,
           88.45
          ],
          [
           "14/10/2021",
           "2021-10-14T09:00:00",
           "2021-10-14T09:02:00",
           80.99,
           81.03
          ],
          [
           "14/11/2013",
           "2013-11-14T10:00:00",
           "2013-11-14T10:02:00",
           92.83,
           92.82
          ],
          [
           "14/11/2019",
           "2019-11-14T10:00:00",
           "2019-11-14T10:02:00",
           57.4,
           57.23
          ],
          [
           "14/11/2024",
           "2024-11-14T10:00:00",
           "2024-11-14T10:02:00",
           68.98,
           68.88
          ],
          [
           "14/12/2011",
           "2011-12-14T09:30:00",
           "2011-12-14T09:32:00",
           97.19,
           97.14
          ],
          [
           "14/12/2016",
           "2016-12-14T09:30:00",
           "2016-12-14T09:32:00",
           52.32,
           52.47
          ],
          [
           "14/12/2022",
           "2022-12-14T09:30:00",
           "2022-12-14T09:32:00",
           76.06,
           75.74
          ],
          [
           "15/01/2014",
           "2014-01-15T09:30:00",
           "2014-01-15T09:32:00",
           93.73,
           93.65
          ],
          [
           "15/01/2020",
           "2020-01-15T09:30:00",
           "2020-01-15T09:32:00",
           57.74,
           57.73
          ],
          [
           "15/01/2025",
           "2025-01-15T09:30:00",
           "2025-01-15T09:32:00",
           78.89,
           78.8
          ],
          [
           "15/02/2012",
           "2012-02-15T09:30:00",
           "2012-02-15T09:32:00",
           101.57,
           101.63
          ],
          [
           "15/02/2017",
           "2017-02-15T09:30:00",
           "2017-02-15T09:32:00",
           53.13,
           53.16
          ],
          [
           "15/02/2023",
           "2023-02-15T09:30:00",
           "2023-02-15T09:32:00",
           78.07,
           78.34
          ],
          [
           "15/03/2017",
           "2017-03-15T08:30:00",
           "2017-03-15T08:32:00",
           48.48,
           48.48
          ],
          [
           "15/03/2023",
           "2023-03-15T08:30:00",
           "2023-03-15T08:32:00",
           68.13,
           68.22
          ],
          [
           "15/04/2015",
           "2015-04-15T08:30:00",
           "2015-04-15T08:32:00",
           53.97,
           53.95
          ],
          [
           "15/04/2020",
           "2020-04-15T08:30:00",
           "2020-04-15T08:32:00",
           19.75,
           19.8
          ],
          [
           "15/05/2013",
           "2013-05-15T08:30:00",
           "2013-05-15T08:32:00",
           92.9,
           92.98
          ],
          [
           "15/05/2019",
           "2019-05-15T08:30:00",
           "2019-05-15T08:32:00",
           61.22,
           61.24
          ],
          [
           "15/05/2024",
           "2024-05-15T08:30:00",
           "2024-05-15T08:32:00",
           77.28,
           77.13
          ],
          [
           "15/06/2011",
           "2011-06-15T08:30:00",
           "2011-06-15T08:32:00",
           98.7,
           98.82
          ],
          [
           "15/06/2016",
           "2016-06-15T08:30:00",
           "2016-06-15T08:32:00",
           47.81,
           47.86
          ],
          [
           "15/06/2022",
           "2022-06-15T08:30:00",
           "2022-06-15T08:32:00",
           115.32,
           115.18
          ],
          [
           "15/07/2015",
           "2015-07-15T08:30:00",
           "2015-07-15T08:32:00",
           52.36,
           52.23
          ],
          [
           "15/07/2020",
           "2020-07-15T08:30:00",
           "2020-07-15T08:32:00",
           40.5,
           40.51
          ],
          [
           "15/08/2012",
           "2012-08-15T08:30:00",
           "2012-08-15T08:32:00",
           93.16,
           93.3
          ],
          [
           "15/08/2018",
           "2018-08-15T08:30:00",
           "2018-08-15T08:32:00",
           65.53,
           65.53
          ],
          [
           "15/09/2021",
           "2021-09-15T08:30:00",
           "2021-09-15T08:32:00",
           72.28,
           72.34
          ],
          [
           "15/10/2015",
           "2015-10-15T09:00:00",
           "2015-10-15T09:02:00",
           45.91,
           45.84
          ],
          [
           "15/10/2020",
           "2020-10-15T09:00:00",
           "2020-10-15T09:02:00",
           39.96,
           40.04
          ],
          [
           "15/11/2012",
           "2012-11-15T10:00:00",
           "2012-11-15T10:02:00",
           86.36,
           86.62
          ],
          [
           "15/11/2017",
           "2017-11-15T09:30:00",
           "2017-11-15T09:32:00",
           55.15,
           55.03
          ],
          [
           "15/11/2018",
           "2018-11-15T10:00:00",
           "2018-11-15T10:02:00",
           56.86,
           56.89
          ],
          [
           "15/11/2023",
           "2023-11-15T09:29:00",
           "2023-11-15T09:32:00",
           77.31,
           77.74
          ],
          [
           "15/12/2021",
           "2021-12-15T09:30:00",
           "2021-12-15T09:32:00",
           69.71,
           69.68
          ],
          [
           "16/01/2013",
           "2013-01-16T09:30:00",
           "2013-01-16T09:32:00",
           93.67,
           93.86
          ],
          [
           "16/01/2019",
           "2019-01-16T09:30:00",
           "2019-01-16T09:32:00",
           52.19,
           52.11
          ],
          [
           "16/02/2022",
           "2022-02-16T09:30:00",
           "2022-02-16T09:32:00",
           92.22,
           92.22
          ],
          [
           "16/03/2011",
           "2011-03-16T08:30:00",
           "2011-03-16T08:32:00",
           98.44,
           98.56
          ],
          [
           "16/03/2016",
           "2016-03-16T08:30:00",
           "2016-03-16T08:32:00",
           37.44,
           37.41
          ],
          [
           "16/03/2022",
           "2022-03-16T08:30:00",
           "2022-03-16T08:32:00",
           97.91,
           98.01
          ],
          [
           "16/04/2014",
           "2014-04-16T08:30:00",
           "2014-04-16T08:32:00",
           104.74,
           104.64
          ],
          [
           "16/05/2012",
           "2012-05-16T08:30:00",
           "2012-05-16T08:32:00",
           92.92,
           93
          ],
          [
           "16/05/2018",
           "2018-05-16T08:30:00",
           "2018-05-16T08:32:00",
           70.9,
           70.89
          ],
          [
           "16/06/2021",
           "2021-06-16T08:30:00",
           "2021-06-16T08:32:00",
           72.06,
           72.14
          ],
          [
           "16/07/2014",
           "2014-07-16T08:30:00",
           "2014-07-16T08:32:00",
           100.64,
           100.65
          ],
          [
           "16/08/2017",
           "2017-08-16T08:30:00",
           "2017-08-16T08:32:00",
           47.9,
           47.81
          ],
          [
           "16/08/2023",
           "2023-08-16T08:30:00",
           "2023-08-16T08:32:00",
           80.74,
           80.74
          ],
          [
           "16/09/2015",
           "2015-09-16T08:30:00",
           "2015-09-16T08:32:00",
           45.75,
           45.61
          ],
          [
           "16/09/2020",
           "2020-09-16T08:30:00",
           "2020-09-16T08:32:00",
           39.27,
           39.34
          ],
          [
           "16/10/2014",
           "2014-10-16T09:00:00",
           "2014-10-16T09:02:00",
           80.62,
           80.59
          ],
          [
           "16/11/2011",
           "2011-11-16T09:30:00",
           "2011-11-16T09:32:00",
           101.36,
           101.32
          ],
          [
           "16/11/2016",
           "2016-11-16T09:30:00",
           "2016-11-16T09:32:00",
           45.2,
           45.18
          ],
          [
           "16/11/2022",
           "2022-11-16T09:30:00",
           "2022-11-16T09:32:00",
           84.87,
           84.44
          ],
          [
           "16/12/2015",
           "2015-12-16T09:30:00",
           "2015-12-16T09:32:00",
           36.33,
           36.29
          ],
          [
           "16/12/2020",
           "2020-12-16T09:30:00",
           "2020-12-16T09:32:00",
           47.74,
           47.79
          ],
          [
           "17/03/2021",
           "2021-03-17T08:30:00",
           "2021-03-17T08:32:00",
           64.36,
           64.34
          ],
          [
           "17/04/2013",
           "2013-04-17T08:30:00",
           "2013-04-17T08:32:00",
           87.71,
           87.68
          ],
          [
           "17/04/2019",
           "2019-04-17T08:30:00",
           "2019-04-17T08:32:00",
           64.31,
           64.36
          ],
          [
           "17/04/2024",
           "2024-04-17T08:30:00",
           "2024-04-17T08:32:00",
           83.64,
           83.84
          ],
          [
           "17/05/2017",
           "2017-05-17T08:30:00",
           "2017-05-17T08:32:00",
           49.05,
           49.05
          ],
          [
           "17/05/2023",
           "2023-05-17T08:30:00",
           "2023-05-17T08:32:00",
           72.03,
           71.92
          ],
          [
           "17/06/2015",
           "2015-06-17T08:30:00",
           "2015-06-17T08:32:00",
           61.01,
           60.95
          ],
          [
           "17/06/2020",
           "2020-06-17T08:30:00",
           "2020-06-17T08:32:00",
           38.13,
           38.09
          ],
          [
           "17/07/2013",
           "2013-07-17T08:30:00",
           "2013-07-17T08:32:00",
           105.91,
           105.91
          ],
          [
           "17/07/2019",
           "2019-07-17T08:30:00",
           "2019-07-17T08:32:00",
           58.23,
           58.17
          ],
          [
           "17/07/2024",
           "2024-07-17T08:30:00",
           "2024-07-17T08:32:00",
           79.65,
           79.6
          ],
          [
           "17/08/2011",
           "2011-08-17T08:30:00",
           "2011-08-17T08:32:00",
           88.48,
           88.66
          ],
          [
           "17/08/2016",
           "2016-08-17T08:30:00",
           "2016-08-17T08:32:00",
           47.05,
           47.06
          ],
          [
           "17/08/2022",
           "2022-08-17T08:30:00",
           "2022-08-17T08:32:00",
           86.54,
           86.63
          ],
          [
           "17/09/2014",
           "2014-09-17T08:30:00",
           "2014-09-17T08:32:00",
           94.67,
           94.68
          ],
          [
           "17/10/2012",
           "2012-10-17T08:30:00",
           "2012-10-17T08:32:00",
           92.38,
           92.4
          ],
          [
           "17/10/2018",
           "2018-10-17T08:30:00",
           "2018-10-17T08:32:00",
           71.17,
           71.16
          ],
          [
           "17/10/2019",
           "2019-10-17T09:00:00",
           "2019-10-17T09:02:00",
           52.96,
           52.93
          ],
          [
           "17/10/2024",
           "2024-10-17T09:00:00",
           "2024-10-17T09:02:00",
           70.77,
           70.71
          ],
          [
           "17/11/2021",
           "2021-11-17T09:30:00",
           "2021-11-17T09:32:00",
           79.06,
           79.07
          ],
          [
           "17/12/2014",
           "2014-12-17T09:30:00",
           "2014-12-17T09:32:00",
           54.92,
           55.01
          ],
          [
           "18/01/2018",
           "2018-01-18T10:00:00",
           "2018-01-18T10:02:00",
           63.65,
           63.75
          ],
          [
           "18/01/2024",
           "2024-01-18T10:00:00",
           "2024-01-18T10:02:00",
           73.44,
           73.28
          ],
          [
           "18/02/2016",
           "2016-02-18T10:00:00",
           "2016-02-18T10:02:00",
           33.43,
           33.45
          ],
          [
           "18/02/2021",
           "2021-02-18T10:00:00",
           "2021-02-18T10:02:00",
           61,
           61.06
          ],
          [
           "18/03/2015",
           "2015-03-18T08:30:00",
           "2015-03-18T08:32:00",
           44.17,
           44.24
          ],
          [
           "18/03/2020",
           "2020-03-18T08:30:00",
           "2020-03-18T08:32:00",
           24.64,
           24.74
          ],
          [
           "18/04/2012",
           "2012-04-18T08:30:00",
           "2012-04-18T08:32:00",
           103.86,
           103.69
          ],
          [
           "18/04/2018",
           "2018-04-18T08:30:00",
           "2018-04-18T08:32:00",
           67.95,
           68.01
          ],
          [
           "18/05/2011",
           "2011-05-18T08:30:00",
           "2011-05-18T08:32:00",
           98.8,
           98.6
          ],
          [
           "18/05/2016",
           "2016-05-18T08:30:00",
           "2016-05-18T08:32:00",
           48.97,
           48.95
          ],
          [
           "18/05/2022",
           "2022-05-18T08:30:00",
           "2022-05-18T08:32:00",
           110.44,
           110.62
          ],
          [
           "18/06/2014",
           "2014-06-18T08:30:00",
           "2014-06-18T08:32:00",
           106.23,
           106.15
          ],
          [
           "18/07/2012",
           "2012-07-18T08:30:00",
           "2012-07-18T08:32:00",
           89.28,
           89.19
          ],
          [
           "18/07/2018",
           "2018-07-18T08:30:00",
           "2018-07-18T08:32:00",
           67.34,
           67.4
          ],
          [
           "18/08/2021",
           "2021-08-18T08:30:00",
           "2021-08-18T08:32:00",
           66.69,
           66.75
          ],
          [
           "18/09/2013",
           "2013-09-18T08:30:00",
           "2013-09-18T08:32:00",
           105.21,
           105.22
          ],
          [
           "18/09/2019",
           "2019-09-18T08:30:00",
           "2019-09-18T08:32:00",
           58.01,
           58.04
          ],
          [
           "18/09/2024",
           "2024-09-18T08:30:00",
           "2024-09-18T08:32:00",
           69.48,
           69.59
          ],
          [
           "18/10/2017",
           "2017-10-18T08:30:00",
           "2017-10-18T08:32:00",
           52.35,
           52.44
          ],
          [
           "18/10/2023",
           "2023-10-18T08:30:00",
           "2023-10-18T08:32:00",
           86.96,
           86.89
          ],
          [
           "18/11/2015",
           "2015-11-18T09:30:00",
           "2015-11-18T09:32:00",
           42.11,
           42.25
          ],
          [
           "18/11/2020",
           "2020-11-18T09:30:00",
           "2020-11-18T09:32:00",
           42.21,
           42
          ],
          [
           "18/12/2013",
           "2013-12-18T09:30:00",
           "2013-12-18T09:32:00",
           98.2,
           98.06
          ],
          [
           "18/12/2019",
           "2019-12-18T09:30:00",
           "2019-12-18T09:32:00",
           60.74,
           60.91
          ],
          [
           "18/12/2024",
           "2024-12-18T09:30:00",
           "2024-12-18T09:32:00",
           70.34,
           70.38
          ],
          [
           "19/01/2012",
           "2012-01-19T10:00:00",
           "2012-01-19T10:02:00",
           101.6,
           101.48
          ],
          [
           "19/01/2017",
           "2017-01-19T10:00:00",
           "2017-01-19T10:02:00",
           52.27,
           52.32
          ],
          [
           "19/01/2023",
           "2023-01-19T10:00:00",
           "2023-01-19T10:02:00",
           80.41,
           80.55
          ],
          [
           "19/02/2015",
           "2015-02-19T10:00:00",
           "2015-02-19T10:02:00",
           51.1,
           51.28
          ],
          [
           "19/03/2014",
           "2014-03-19T08:30:00",
           "2014-03-19T08:32:00",
           98.8,
           98.83
          ],
          [
           "19/04/2017",
           "2017-04-19T08:30:00",
           "2017-04-19T08:32:00",
           52.97,
           52.99
          ],
          [
           "19/04/2023",
           "2023-04-19T08:30:00",
           "2023-04-19T08:32:00",
           79.61,
           79.64
          ],
          [
           "19/05/2021",
           "2021-05-19T08:30:00",
           "2021-05-19T08:32:00",
           63.61,
           63.61
          ],
          [
           "19/06/2013",
           "2013-06-19T08:30:00",
           "2013-06-19T08:32:00",
           98.76,
           98.74
          ],
          [
           "19/06/2019",
           "2019-06-19T08:30:00",
           "2019-06-19T08:32:00",
           53.68,
           53.72
          ],
          [
           "19/07/2017",
           "2017-07-19T08:30:00",
           "2017-07-19T08:32:00",
           46.59,
           46.6
          ],
          [
           "19/07/2023",
           "2023-07-19T08:30:00",
           "2023-07-19T08:32:00",
           75.93,
           76.19
          ],
          [
           "19/08/2015",
           "2015-08-19T08:30:00",
           "2015-08-19T08:32:00",
           42.65,
           42.66
          ],
          [
           "19/08/2020",
           "2020-08-19T08:30:00",
           "2020-08-19T08:32:00",
           42.85,
           42.83
          ],
          [
           "19/09/2012",
           "2012-09-19T08:30:00",
           "2012-09-19T08:32:00",
           94.17,
           94.07
          ],
          [
           "19/09/2018",
           "2018-09-19T08:30:00",
           "2018-09-19T08:32:00",
           69.92,
           69.91
          ],
          [
           "19/10/2011",
           "2011-10-19T08:30:00",
           "2011-10-19T08:32:00",
           88.42,
           88.48
          ],
          [
           "19/10/2016",
           "2016-10-19T08:30:00",
           "2016-10-19T08:32:00",
           51.24,
           51.28
          ],
          [
           "19/10/2022",
           "2022-10-19T08:30:00",
           "2022-10-19T08:32:00",
           82.73,
           82.67
          ],
          [
           "19/11/2014",
           "2014-11-19T09:30:00",
           "2014-11-19T09:32:00",
           74.54,
           74.66
          ],
          [
           "19/12/2012",
           "2012-12-19T09:30:00",
           "2012-12-19T09:32:00",
           88.81,
           88.8
          ],
          [
           "19/12/2018",
           "2018-12-19T09:30:00",
           "2018-12-19T09:32:00",
           47.75,
           47.88
          ],
          [
           "20/01/2022",
           "2022-01-20T10:00:00",
           "2022-01-20T10:02:00",
           86.18,
           86.39
          ],
          [
           "20/02/2014",
           "2014-02-20T10:00:00",
           "2014-02-20T10:02:00",
           102.67,
           102.65
          ],
          [
           "20/02/2020",
           "2020-02-20T10:00:00",
           "2020-02-20T10:02:00",
           54.61,
           54.52
          ],
          [
           "20/02/2025",
           "2025-02-20T11:00:00",
           "2025-02-20T11:02:00",
           72.78,
           72.84
          ],
          [
           "20/03/2013",
           "2013-03-20T08:30:00",
           "2013-03-20T08:32:00",
           93.47,
           93.36
          ],
          [
           "20/03/2019",
           "2019-03-20T08:30:00",
           "2019-03-20T08:32:00",
           59.03,
           58.99
          ],
          [
           "20/03/2024",
           "2024-03-20T08:30:00",
           "2024-03-20T08:32:00",
           81.4,
           81.61
          ],
          [
           "20/04/2011",
           "2011-04-20T08:30:00",
           "2011-04-20T08:32:00",
           109.5,
           109.56
          ],
          [
           "20/04/2016",
           "2016-04-20T08:30:00",
           "2016-04-20T08:32:00",
           41.58,
           41.79
          ],
          [
           "20/04/2022",
           "2022-04-20T08:30:00",
           "2022-04-20T08:32:00",
           102.69,
           102.79
          ],
          [
           "20/05/2015",
           "2015-05-20T08:30:00",
           "2015-05-20T08:32:00",
           58.78,
           58.74
          ],
          [
           "20/05/2020",
           "2020-05-20T08:30:00",
           "2020-05-20T08:32:00",
           32.8,
           32.76
          ],
          [
           "20/06/2012",
           "2012-06-20T08:30:00",
           "2012-06-20T08:32:00",
           84.05,
           83.91
          ],
          [
           "20/06/2018",
           "2018-06-20T08:30:00",
           "2018-06-20T08:32:00",
           65.79,
           65.82
          ],
          [
           "20/06/2024",
           "2024-06-20T09:00:00",
           "2024-06-20T09:02:00",
           81.24,
           81.33
          ],
          [
           "20/07/2011",
           "2011-07-20T08:30:00",
           "2011-07-20T08:32:00",
           99.1,
           99.08
          ],
          [
           "20/07/2016",
           "2016-07-20T08:30:00",
           "2016-07-20T08:32:00",
           45.49,
           45.43
          ],
          [
           "20/07/2022",
           "2022-07-20T08:30:00",
           "2022-07-20T08:32:00",
           96.14,
           95.84
          ],
          [
           "20/08/2014",
           "2014-08-20T08:30:00",
           "2014-08-20T08:32:00",
           93.34,
           93.37
          ],
          [
           "20/09/2017",
           "2017-09-20T08:30:00",
           "2017-09-20T08:32:00",
           50.42,
           50.45
          ],
          [
           "20/09/2023",
           "2023-09-20T08:30:00",
           "2023-09-20T08:32:00",
           89.61,
           89.87
          ],
          [
           "20/10/2021",
           "2021-10-20T08:30:00",
           "2021-10-20T08:32:00",
           81.58,
           81.57
          ],
          [
           "20/11/2013",
           "2013-11-20T09:30:00",
           "2013-11-20T09:32:00",
           93.74,
           93.93
          ],
          [
           "20/11/2019",
           "2019-11-20T09:30:00",
           "2019-11-20T09:32:00",
           55.91,
           56.1
          ],
          [
           "20/11/2024",
           "2024-11-20T09:30:00",
           "2024-11-20T09:32:00",
           69,
           69.23
          ],
          [
           "20/12/2017",
           "2017-12-20T09:30:00",
           "2017-12-20T09:32:00",
           57.75,
           57.59
          ],
          [
           "20/12/2023",
           "2023-12-20T09:30:00",
           "2023-12-20T09:32:00",
           74.79,
           74.7
          ],
          [
           "21/01/2016",
           "2016-01-21T10:00:00",
           "2016-01-21T10:02:00",
           28.32,
           28.67
          ],
          [
           "21/02/2013",
           "2013-02-21T10:00:00",
           "2013-02-21T10:02:00",
           93.16,
           93.28
          ],
          [
           "21/02/2019",
           "2019-02-21T10:00:00",
           "2019-02-21T10:02:00",
           56.99,
           57.01
          ],
          [
           "21/03/2012",
           "2012-03-21T08:30:00",
           "2012-03-21T08:32:00",
           106.54,
           106.51
          ],
          [
           "21/03/2018",
           "2018-03-21T08:30:00",
           "2018-03-21T08:32:00",
           64.3,
           64.29
          ],
          [
           "21/04/2021",
           "2021-04-21T08:30:00",
           "2021-04-21T08:32:00",
           61.31,
           61.25
          ],
          [
           "21/05/2014",
           "2014-05-21T08:30:00",
           "2014-05-21T08:32:00",
           103.16,
           103.2
          ],
          [
           "21/06/2017",
           "2017-06-21T08:30:00",
           "2017-06-21T08:32:00",
           43.59,
           43.52
          ],
          [
           "21/07/2021",
           "2021-07-21T08:30:00",
           "2021-07-21T08:32:00",
           68.21,
           68.3
          ],
          [
           "21/08/2013",
           "2013-08-21T08:30:00",
           "2013-08-21T08:32:00",
           104.96,
           104.68
          ],
          [
           "21/08/2019",
           "2019-08-21T08:30:00",
           "2019-08-21T08:32:00",
           56.89,
           56.94
          ],
          [
           "21/08/2024",
           "2024-08-21T08:30:00",
           "2024-08-21T08:32:00",
           73.6,
           73.51
          ],
          [
           "21/09/2011",
           "2011-09-21T08:30:00",
           "2011-09-21T08:32:00",
           86.39,
           86.52
          ],
          [
           "21/09/2016",
           "2016-09-21T08:30:00",
           "2016-09-21T08:32:00",
           44.96,
           44.93
          ],
          [
           "21/09/2022",
           "2022-09-21T08:30:00",
           "2022-09-21T08:32:00",
           85.69,
           85.23
          ],
          [
           "21/10/2013",
           "2013-10-21T08:30:00",
           "2013-10-21T08:32:00",
           100.51,
           100.63
          ],
          [
           "21/10/2015",
           "2015-10-21T08:30:00",
           "2015-10-21T08:32:00",
           45.38,
           45.45
          ],
          [
           "21/10/2020",
           "2020-10-21T08:30:00",
           "2020-10-21T08:32:00",
           40.91,
           40.88
          ],
          [
           "21/11/2012",
           "2012-11-21T09:30:00",
           "2012-11-21T09:32:00",
           87.4,
           87.46
          ],
          [
           "21/11/2018",
           "2018-11-21T09:30:00",
           "2018-11-21T09:32:00",
           54.25,
           54.32
          ],
          [
           "21/12/2011",
           "2011-12-21T09:30:00",
           "2011-12-21T09:32:00",
           98.92,
           99.04
          ],
          [
           "21/12/2016",
           "2016-12-21T09:30:00",
           "2016-12-21T09:32:00",
           53.21,
           53.28
          ],
          [
           "21/12/2022",
           "2022-12-21T09:30:00",
           "2022-12-21T09:32:00",
           78.24,
           77.92
          ],
          [
           "22/01/2015",
           "2015-01-22T10:00:00",
           "2015-01-22T10:02:00",
           46.6,
           46.56
          ],
          [
           "22/01/2021",
           "2021-01-22T10:00:00",
           "2021-01-22T10:02:00",
           52.37,
           52.41
          ],
          [
           "22/02/2018",
           "2018-02-22T10:00:00",
           "2018-02-22T10:02:00",
           61.92,
           62.08
          ],
          [
           "22/02/2024",
           "2024-02-22T10:00:00",
           "2024-02-22T10:02:00",
           78.4,
           78.63
          ],
          [
           "22/03/2017",
           "2017-03-22T08:30:00",
           "2017-03-22T08:32:00",
           47.67,
           47.65
          ],
          [
           "22/03/2023",
           "2023-03-22T08:30:00",
           "2023-03-22T08:32:00",
           69.83,
           69.68
          ],
          [
           "22/04/2015",
           "2015-04-22T08:30:00",
           "2015-04-22T08:32:00",
           56.67,
           56.56
          ],
          [
           "22/04/2020",
           "2020-04-22T08:30:00",
           "2020-04-22T08:32:00",
           14.02,
           14
          ],
          [
           "22/05/2013",
           "2013-05-22T08:30:00",
           "2013-05-22T08:32:00",
           95.1,
           94.83
          ],
          [
           "22/05/2019",
           "2019-05-22T08:30:00",
           "2019-05-22T08:32:00",
           62.49,
           62.46
          ],
          [
           "22/05/2024",
           "2024-05-22T08:30:00",
           "2024-05-22T08:32:00",
           77.64,
           77.64
          ],
          [
           "22/06/2011",
           "2011-06-22T08:30:00",
           "2011-06-22T08:32:00",
           94.24,
           94.16
          ],
          [
           "22/06/2016",
           "2016-06-22T08:30:00",
           "2016-06-22T08:32:00",
           50.21,
           50.17
          ],
          [
           "22/06/2023",
           "2023-06-22T09:00:00",
           "2023-06-22T09:02:00",
           70.15,
           70.1
          ],
          [
           "22/07/2015",
           "2015-07-22T08:30:00",
           "2015-07-22T08:32:00",
           50.56,
           50.61
          ],
          [
           "22/07/2020",
           "2020-07-22T08:30:00",
           "2020-07-22T08:32:00",
           41.52,
           41.54
          ],
          [
           "22/08/2012",
           "2012-08-22T08:30:00",
           "2012-08-22T08:32:00",
           96.66,
           96.63
          ],
          [
           "22/08/2018",
           "2018-08-22T08:30:00",
           "2018-08-22T08:32:00",
           67.22,
           67.2
          ],
          [
           "22/09/2021",
           "2021-09-22T08:30:00",
           "2021-09-22T08:32:00",
           71.65,
           71.7
          ],
          [
           "22/10/2014",
           "2014-10-22T08:30:00",
           "2014-10-22T08:32:00",
           82.89,
           82.88
          ],
          [
           "22/11/2017",
           "2017-11-22T09:30:00",
           "2017-11-22T09:32:00",
           57.59,
           57.61
          ],
          [
           "22/11/2023",
           "2023-11-22T09:30:00",
           "2023-11-22T09:32:00",
           74.16,
           74.21
          ],
          [
           "22/12/2021",
           "2021-12-22T09:30:00",
           "2021-12-22T09:32:00",
           71.54,
           71.41
          ],
          [
           "23/01/2014",
           "2014-01-23T10:00:00",
           "2014-01-23T10:02:00",
           97.2,
           97
          ],
          [
           "23/01/2020",
           "2020-01-23T10:00:00",
           "2020-01-23T10:02:00",
           55.21,
           55.32
          ],
          [
           "23/01/2025",
           "2025-01-23T11:00:00",
           "2025-01-23T11:02:00",
           74.8,
           74.86
          ],
          [
           "23/02/2012",
           "2012-02-23T10:00:00",
           "2012-02-23T10:02:00",
           105.97,
           106.05
          ],
          [
           "23/02/2017",
           "2017-02-23T10:00:00",
           "2017-02-23T10:02:00",
           54.78,
           54.79
          ],
          [
           "23/02/2023",
           "2023-02-23T10:00:00",
           "2023-02-23T10:02:00",
           75.52,
           75.38
          ],
          [
           "23/03/2011",
           "2011-03-23T08:30:00",
           "2011-03-23T08:32:00",
           105.4,
           105.41
          ],
          [
           "23/03/2016",
           "2016-03-23T08:30:00",
           "2016-03-23T08:32:00",
           40.54,
           40.67
          ],
          [
           "23/03/2022",
           "2022-03-23T08:30:00",
           "2022-03-23T08:32:00",
           113.74,
           113.91
          ],
          [
           "23/04/2014",
           "2014-04-23T08:30:00",
           "2014-04-23T08:32:00",
           101.87,
           101.86
          ],
          [
           "23/05/2012",
           "2012-05-23T08:30:00",
           "2012-05-23T08:32:00",
           91.3,
           91.31
          ],
          [
           "23/05/2018",
           "2018-05-23T08:30:00",
           "2018-05-23T08:32:00",
           71.9,
           71.97
          ],
          [
           "23/06/2021",
           "2021-06-23T08:30:00",
           "2021-06-23T08:32:00",
           73.99,
           74.01
          ],
          [
           "23/07/2014",
           "2014-07-23T08:30:00",
           "2014-07-23T08:32:00",
           101.4,
           101.43
          ],
          [
           "23/08/2017",
           "2017-08-23T08:30:00",
           "2017-08-23T08:32:00",
           47.78,
           47.78
          ],
          [
           "23/08/2023",
           "2023-08-23T08:30:00",
           "2023-08-23T08:32:00",
           77.95,
           77.76
          ],
          [
           "23/09/2015",
           "2015-09-23T08:30:00",
           "2015-09-23T08:32:00",
           46.7,
           46.66
          ],
          [
           "23/09/2020",
           "2020-09-23T08:30:00",
           "2020-09-23T08:32:00",
           40.02,
           39.93
          ],
          [
           "23/10/2013",
           "2013-10-23T08:30:00",
           "2013-10-23T08:32:00",
           96.52,
           96.54
          ],
          [
           "23/10/2019",
           "2019-10-23T08:30:00",
           "2019-10-23T08:32:00",
           54.08,
           54
          ],
          [
           "23/10/2024",
           "2024-10-23T08:30:00",
           "2024-10-23T08:32:00",
           71.11,
           71.07
          ],
          [
           "23/11/2011",
           "2011-11-23T09:30:00",
           "2011-11-23T09:32:00",
           95.79,
           95.92
          ],
          [
           "23/11/2016",
           "2016-11-23T09:30:00",
           "2016-11-23T09:32:00",
           48.12,
           48.26
          ],
          [
           "23/11/2022",
           "2022-11-23T09:30:00",
           "2022-11-23T09:32:00",
           77.74,
           77.49
          ],
          [
           "23/12/2015",
           "2015-12-23T09:30:00",
           "2015-12-23T09:32:00",
           37.36,
           37.34
          ],
          [
           "23/12/2020",
           "2020-12-23T09:30:00",
           "2020-12-23T09:32:00",
           47.84,
           47.65
          ],
          [
           "24/01/2013",
           "2013-01-24T10:00:00",
           "2013-01-24T10:02:00",
           96.04,
           96.22
          ],
          [
           "24/01/2018",
           "2018-01-24T09:30:00",
           "2018-01-24T09:32:00",
           64.81,
           64.7
          ],
          [
           "24/01/2019",
           "2019-01-24T10:00:00",
           "2019-01-24T10:02:00",
           52.68,
           52.7
          ],
          [
           "24/01/2024",
           "2024-01-24T09:30:00",
           "2024-01-24T09:32:00",
           75.11,
           75.02
          ],
          [
           "24/02/2016",
           "2016-02-24T09:30:00",
           "2016-02-24T09:32:00",
           31.12,
           31.1
          ],
          [
           "24/02/2021",
           "2021-02-24T09:30:00",
           "2021-02-24T09:32:00",
           62.69,
           63.09
          ],
          [
           "24/02/2022",
           "2022-02-24T10:00:00",
           "2022-02-24T10:02:00",
           97.34,
           97.35
          ],
          [
           "24/03/2021",
           "2021-03-24T08:30:00",
           "2021-03-24T08:32:00",
           59.54,
           59.69
          ],
          [
           "24/04/2013",
           "2013-04-24T08:30:00",
           "2013-04-24T08:32:00",
           89.76,
           89.95
          ],
          [
           "24/04/2019",
           "2019-04-24T08:30:00",
           "2019-04-24T08:32:00",
           66.38,
           66.41
          ],
          [
           "24/04/2024",
           "2024-04-24T08:30:00",
           "2024-04-24T08:32:00",
           82.95,
           82.86
          ],
          [
           "24/05/2017",
           "2017-05-24T08:30:00",
           "2017-05-24T08:32:00",
           51.41,
           51.41
          ],
          [
           "24/05/2023",
           "2023-05-24T08:30:00",
           "2023-05-24T08:32:00",
           74.32,
           74.38
          ],
          [
           "24/06/2015",
           "2015-06-24T08:30:00",
           "2015-06-24T08:32:00",
           60.88,
           60.89
          ],
          [
           "24/06/2020",
           "2020-06-24T08:30:00",
           "2020-06-24T08:32:00",
           39.71,
           39.77
          ],
          [
           "24/07/2013",
           "2013-07-24T08:30:00",
           "2013-07-24T08:32:00",
           105.11,
           105.22
          ],
          [
           "24/07/2019",
           "2019-07-24T08:30:00",
           "2019-07-24T08:32:00",
           57,
           56.99
          ],
          [
           "24/07/2024",
           "2024-07-24T08:30:00",
           "2024-07-24T08:32:00",
           76.56,
           76.53
          ],
          [
           "24/08/2011",
           "2011-08-24T08:30:00",
           "2011-08-24T08:32:00",
           85.48,
           85.49
          ],
          [
           "24/08/2016",
           "2016-08-24T08:30:00",
           "2016-08-24T08:32:00",
           47.33,
           47.31
          ],
          [
           "24/08/2022",
           "2022-08-24T08:30:00",
           "2022-08-24T08:32:00",
           93.68,
           93.97
          ],
          [
           "24/09/2014",
           "2014-09-24T08:30:00",
           "2014-09-24T08:32:00",
           91.71,
           91.72
          ],
          [
           "24/10/2012",
           "2012-10-24T08:30:00",
           "2012-10-24T08:32:00",
           86.35,
           86.45
          ],
          [
           "24/10/2018",
           "2018-10-24T08:30:00",
           "2018-10-24T08:32:00",
           67.15,
           67.13
          ],
          [
           "24/11/2021",
           "2021-11-24T09:30:00",
           "2021-11-24T09:32:00",
           78.57,
           78.69
          ],
          [
           "24/12/2014",
           "2014-12-24T09:30:00",
           "2014-12-24T09:32:00",
           55.22,
           55.22
          ],
          [
           "25/01/2012",
           "2012-01-25T09:30:00",
           "2012-01-25T09:32:00",
           97.82,
           98.16
          ],
          [
           "25/01/2017",
           "2017-01-25T09:30:00",
           "2017-01-25T09:32:00",
           52.68,
           52.72
          ],
          [
           "25/01/2023",
           "2023-01-25T09:30:00",
           "2023-01-25T09:32:00",
           80.02,
           80.24
          ],
          [
           "25/02/2015",
           "2015-02-25T09:30:00",
           "2015-02-25T09:32:00",
           48.89,
           49.03
          ],
          [
           "25/03/2015",
           "2015-03-25T08:30:00",
           "2015-03-25T08:32:00",
           48.01,
           48.04
          ],
          [
           "25/03/2020",
           "2020-03-25T08:30:00",
           "2020-03-25T08:32:00",
           23.31,
           23.31
          ],
          [
           "25/04/2012",
           "2012-04-25T08:30:00",
           "2012-04-25T08:32:00",
           103.83,
           103.9
          ],
          [
           "25/04/2018",
           "2018-04-25T08:30:00",
           "2018-04-25T08:32:00",
           67.81,
           67.8
          ],
          [
           "25/05/2011",
           "2011-05-25T08:30:00",
           "2011-05-25T08:32:00",
           98.74,
           98.86
          ],
          [
           "25/05/2016",
           "2016-05-25T08:30:00",
           "2016-05-25T08:32:00",
           49.19,
           49.16
          ],
          [
           "25/05/2022",
           "2022-05-25T08:30:00",
           "2022-05-25T08:32:00",
           110.62,
           110.45
          ],
          [
           "25/06/2014",
           "2014-06-25T08:30:00",
           "2014-06-25T08:32:00",
           106.07,
           106.1
          ],
          [
           "25/07/2012",
           "2012-07-25T08:30:00",
           "2012-07-25T08:32:00",
           88.85,
           88.96
          ],
          [
           "25/07/2018",
           "2018-07-25T08:30:00",
           "2018-07-25T08:32:00",
           67.49,
           67.56
          ],
          [
           "25/08/2021",
           "2021-08-25T08:30:00",
           "2021-08-25T08:32:00",
           67.55,
           67.48
          ],
          [
           "25/09/2013",
           "2013-09-25T08:30:00",
           "2013-09-25T08:32:00",
           103.53,
           103.52
          ],
          [
           "25/09/2019",
           "2019-09-25T08:30:00",
           "2019-09-25T08:32:00",
           55.84,
           55.86
          ],
          [
           "25/09/2024",
           "2024-09-25T08:30:00",
           "2024-09-25T08:32:00",
           70.66,
           70.8
          ],
          [
           "25/10/2017",
           "2017-10-25T08:30:00",
           "2017-10-25T08:32:00",
           52.21,
           52.28
          ],
          [
           "25/10/2023",
           "2023-10-25T08:30:00",
           "2023-10-25T08:32:00",
           83.81,
           83.84
          ],
          [
           "25/11/2015",
           "2015-11-25T09:30:00",
           "2015-11-25T09:32:00",
           41.92,
           42.06
          ],
          [
           "25/11/2020",
           "2020-11-25T09:30:00",
           "2020-11-25T09:32:00",
           45.35,
           45.26
          ],
          [
           "26/01/2022",
           "2022-01-26T09:30:00",
           "2022-01-26T09:32:00",
           87,
           86.98
          ],
          [
           "26/02/2014",
           "2014-02-26T09:30:00",
           "2014-02-26T09:32:00",
           102.5,
           102.47
          ],
          [
           "26/02/2020",
           "2020-02-26T09:30:00",
           "2020-02-26T09:32:00",
           50.12,
           50.05
          ],
          [
           "26/02/2025",
           "2025-02-26T09:00:00",
           "2025-02-26T09:02:00",
           69,
           69.05
          ],
          [
           "26/03/2014",
           "2014-03-26T08:30:00",
           "2014-03-26T08:32:00",
           99.82,
           99.88
          ],
          [
           "26/04/2017",
           "2017-04-26T08:30:00",
           "2017-04-26T08:32:00",
           49.16,
           49.2
          ],
          [
           "26/04/2023",
           "2023-04-26T08:30:00",
           "2023-04-26T08:32:00",
           76.38,
           76.17
          ],
          [
           "26/05/2021",
           "2021-05-26T08:30:00",
           "2021-05-26T08:32:00",
           65.6,
           65.67
          ],
          [
           "26/06/2013",
           "2013-06-26T08:30:00",
           "2013-06-26T08:32:00",
           95.5,
           95.43
          ],
          [
           "26/06/2019",
           "2019-06-26T08:30:00",
           "2019-06-26T08:32:00",
           59.19,
           59.26
          ],
          [
           "26/06/2024",
           "2024-06-26T08:30:00",
           "2024-06-26T08:32:00",
           80.79,
           80.69
          ],
          [
           "26/07/2017",
           "2017-07-26T08:30:00",
           "2017-07-26T08:32:00",
           48.44,
           48.41
          ],
          [
           "26/07/2023",
           "2023-07-26T08:30:00",
           "2023-07-26T08:32:00",
           78.45,
           78.61
          ],
          [
           "26/08/2015",
           "2015-08-26T08:30:00",
           "2015-08-26T08:32:00",
           39.24,
           39.33
          ],
          [
           "26/08/2020",
           "2020-08-26T08:30:00",
           "2020-08-26T08:32:00",
           43.58,
           43.52
          ],
          [
           "26/09/2012",
           "2012-09-26T08:30:00",
           "2012-09-26T08:32:00",
           90.25,
           90.3
          ],
          [
           "26/09/2018",
           "2018-09-26T08:30:00",
           "2018-09-26T08:32:00",
           71.79,
           71.82
          ],
          [
           "26/10/2011",
           "2011-10-26T08:30:00",
           "2011-10-26T08:32:00",
           92.9,
           92.79
          ],
          [
           "26/10/2016",
           "2016-10-26T08:30:00",
           "2016-10-26T08:32:00",
           48.97,
           49
          ],
          [
           "26/10/2022",
           "2022-10-26T08:30:00",
           "2022-10-26T08:32:00",
           86.07,
           86.32
          ],
          [
           "26/11/2014",
           "2014-11-26T09:30:00",
           "2014-11-26T09:32:00",
           73.72,
           73.59
          ],
          [
           "27/01/2016",
           "2016-01-27T09:30:00",
           "2016-01-27T09:32:00",
           30.74,
           30.83
          ],
          [
           "27/01/2021",
           "2021-01-27T09:30:00",
           "2021-01-27T09:32:00",
           52.85,
           52.7
          ],
          [
           "27/02/2013",
           "2013-02-27T09:30:00",
           "2013-02-27T09:32:00",
           92.91,
           92.88
          ],
          [
           "27/02/2019",
           "2019-02-27T09:30:00",
           "2019-02-27T09:32:00",
           56.76,
           56.87
          ],
          [
           "27/03/2013",
           "2013-03-27T08:30:00",
           "2013-03-27T08:32:00",
           95.72,
           95.73
          ],
          [
           "27/03/2019",
           "2019-03-27T08:30:00",
           "2019-03-27T08:32:00",
           60.1,
           60.19
          ],
          [
           "27/03/2024",
           "2024-03-27T08:30:00",
           "2024-03-27T08:32:00",
           81.1,
           81.36
          ],
          [
           "27/04/2011",
           "2011-04-27T08:30:00",
           "2011-04-27T08:32:00",
           112.21,
           112.19
          ],
          [
           "27/04/2016",
           "2016-04-27T08:30:00",
           "2016-04-27T08:32:00",
           44.85,
           44.81
          ],
          [
           "27/04/2022",
           "2022-04-27T08:30:00",
           "2022-04-27T08:32:00",
           100.19,
           99.99
          ],
          [
           "27/06/2012",
           "2012-06-27T08:30:00",
           "2012-06-27T08:32:00",
           80.36,
           80.29
          ],
          [
           "27/06/2018",
           "2018-06-27T08:30:00",
           "2018-06-27T08:32:00",
           71.49,
           71.6
          ],
          [
           "27/07/2011",
           "2011-07-27T08:30:00",
           "2011-07-27T08:32:00",
           98.93,
           98.84
          ],
          [
           "27/07/2016",
           "2016-07-27T08:30:00",
           "2016-07-27T08:32:00",
           43.64,
           43.73
          ],
          [
           "27/07/2022",
           "2022-07-27T08:30:00",
           "2022-07-27T08:32:00",
           94.44,
           94.4
          ],
          [
           "27/08/2014",
           "2014-08-27T08:30:00",
           "2014-08-27T08:32:00",
           93.91,
           93.94
          ],
          [
           "27/09/2017",
           "2017-09-27T08:30:00",
           "2017-09-27T08:32:00",
           52.05,
           52.21
          ],
          [
           "27/09/2023",
           "2023-09-27T08:30:00",
           "2023-09-27T08:32:00",
           92.34,
           92.43
          ],
          [
           "27/10/2021",
           "2021-10-27T08:30:00",
           "2021-10-27T08:32:00",
           83.39,
           83.3
          ],
          [
           "27/11/2013",
           "2013-11-27T09:30:00",
           "2013-11-27T09:32:00",
           92.41,
           92.38
          ],
          [
           "27/11/2019",
           "2019-11-27T09:30:00",
           "2019-11-27T09:32:00",
           58.2,
           58.34
          ],
          [
           "27/11/2024",
           "2024-11-27T09:30:00",
           "2024-11-27T09:32:00",
           68.93,
           68.85
          ],
          [
           "27/12/2013",
           "2013-12-27T10:00:00",
           "2013-12-27T10:02:00",
           100.63,
           100.56
          ],
          [
           "27/12/2019",
           "2019-12-27T10:00:00",
           "2019-12-27T10:02:00",
           61.71,
           61.6
          ],
          [
           "27/12/2024",
           "2024-12-27T12:00:00",
           "2024-12-27T12:02:00",
           70.33,
           70.33
          ],
          [
           "28/01/2015",
           "2015-01-28T09:30:00",
           "2015-01-28T09:32:00",
           44.93,
           44.9
          ],
          [
           "28/02/2018",
           "2018-02-28T09:30:00",
           "2018-02-28T09:32:00",
           62.52,
           62.57
          ],
          [
           "28/02/2024",
           "2024-02-28T09:30:00",
           "2024-02-28T09:32:00",
           79.01,
           78.94
          ],
          [
           "28/03/2012",
           "2012-03-28T08:30:00",
           "2012-03-28T08:32:00",
           105.37,
           105.51
          ],
          [
           "28/03/2018",
           "2018-03-28T08:30:00",
           "2018-03-28T08:32:00",
           64.58,
           64.62
          ],
          [
           "28/04/2021",
           "2021-04-28T08:30:00",
           "2021-04-28T08:32:00",
           63.75,
           63.78
          ],
          [
           "28/05/2015",
           "2015-05-28T09:00:00",
           "2015-05-28T09:02:00",
           56.76,
           56.73
          ],
          [
           "28/05/2020",
           "2020-05-28T09:00:00",
           "2020-05-28T09:02:00",
           32.75,
           32.76
          ],
          [
           "28/06/2017",
           "2017-06-28T08:30:00",
           "2017-06-28T08:32:00",
           44.25,
           44.27
          ],
          [
           "28/06/2023",
           "2023-06-28T08:30:00",
           "2023-06-28T08:32:00",
           67.83,
           67.86
          ],
          [
           "28/07/2021",
           "2021-07-28T08:30:00",
           "2021-07-28T08:32:00",
           71.44,
           71.53
          ],
          [
           "28/08/2013",
           "2013-08-28T08:30:00",
           "2013-08-28T08:32:00",
           109.84,
           109.99
          ],
          [
           "28/08/2019",
           "2019-08-28T08:30:00",
           "2019-08-28T08:32:00",
           56.34,
           56.33
          ],
          [
           "28/08/2024",
           "2024-08-28T08:30:00",
           "2024-08-28T08:32:00",
           74.58,
           74.47
          ],
          [
           "28/09/2011",
           "2011-09-28T08:30:00",
           "2011-09-28T08:32:00",
           83.6,
           83.67
          ],
          [
           "28/09/2016",
           "2016-09-28T08:30:00",
           "2016-09-28T08:32:00",
           45.17,
           45.3
          ],
          [
           "28/09/2022",
           "2022-09-28T08:30:00",
           "2022-09-28T08:32:00",
           79.46,
           79.55
          ],
          [
           "28/10/2015",
           "2015-10-28T08:30:00",
           "2015-10-28T08:32:00",
           43.73,
           43.7
          ],
          [
           "28/10/2020",
           "2020-10-28T08:30:00",
           "2020-10-28T08:32:00",
           37.41,
           37.35
          ],
          [
           "28/11/2012",
           "2012-11-28T09:30:00",
           "2012-11-28T09:32:00",
           85.54,
           85.92
          ],
          [
           "28/11/2018",
           "2018-11-28T09:30:00",
           "2018-11-28T09:32:00",
           50.84,
           50.73
          ],
          [
           "28/12/2012",
           "2012-12-28T10:00:00",
           "2012-12-28T10:02:00",
           91.02,
           91.01
          ],
          [
           "28/12/2017",
           "2017-12-28T10:00:00",
           "2017-12-28T10:02:00",
           59.54,
           59.64
          ],
          [
           "28/12/2018",
           "2018-12-28T10:00:00",
           "2018-12-28T10:02:00",
           44.61,
           44.54
          ],
          [
           "28/12/2023",
           "2023-12-28T10:00:00",
           "2023-12-28T10:02:00",
           73.71,
           73.58
          ],
          [
           "29/01/2014",
           "2014-01-29T09:30:00",
           "2014-01-29T09:32:00",
           96.62,
           96.59
          ],
          [
           "29/01/2020",
           "2020-01-29T09:30:00",
           "2020-01-29T09:32:00",
           53,
           53.07
          ],
          [
           "29/01/2025",
           "2025-01-29T09:30:00",
           "2025-01-29T09:32:00",
           73.39,
           73.46
          ],
          [
           "29/02/2012",
           "2012-02-29T09:30:00",
           "2012-02-29T09:32:00",
           106.26,
           106.37
          ],
          [
           "29/03/2017",
           "2017-03-29T08:30:00",
           "2017-03-29T08:32:00",
           48.49,
           48.52
          ],
          [
           "29/03/2023",
           "2023-03-29T08:30:00",
           "2023-03-29T08:32:00",
           74.03,
           74.1
          ],
          [
           "29/04/2015",
           "2015-04-29T08:30:00",
           "2015-04-29T08:32:00",
           57.19,
           57.17
          ],
          [
           "29/04/2020",
           "2020-04-29T08:30:00",
           "2020-04-29T08:32:00",
           15.51,
           15.54
          ],
          [
           "29/05/2014",
           "2014-05-29T09:00:00",
           "2014-05-29T09:02:00",
           103.08,
           103.06
          ],
          [
           "29/06/2011",
           "2011-06-29T08:30:00",
           "2011-06-29T08:32:00",
           92.97,
           93.11
          ],
          [
           "29/06/2016",
           "2016-06-29T08:30:00",
           "2016-06-29T08:32:00",
           48.36,
           48.34
          ],
          [
           "29/06/2022",
           "2022-06-29T08:25:00",
           "2022-06-29T08:32:00",
           113.28,
           112.98
          ],
          [
           "29/07/2015",
           "2015-07-29T08:30:00",
           "2015-07-29T08:32:00",
           48.1,
           48.05
          ],
          [
           "29/07/2020",
           "2020-07-29T08:30:00",
           "2020-07-29T08:32:00",
           41.59,
           41.65
          ],
          [
           "29/08/2012",
           "2012-08-29T08:30:00",
           "2012-08-29T08:32:00",
           95.97,
           95.92
          ],
          [
           "29/08/2018",
           "2018-08-29T08:30:00",
           "2018-08-29T08:32:00",
           69.1,
           69.1
          ],
          [
           "29/09/2021",
           "2021-09-29T08:30:00",
           "2021-09-29T08:32:00",
           74.87,
           74.8
          ],
          [
           "29/10/2014",
           "2014-10-29T08:30:00",
           "2014-10-29T08:32:00",
           82.15,
           82.24
          ],
          [
           "29/11/2017",
           "2017-11-29T09:30:00",
           "2017-11-29T09:32:00",
           57.68,
           57.83
          ],
          [
           "29/11/2023",
           "2023-11-29T09:30:00",
           "2023-11-29T09:32:00",
           75.75,
           75.91
          ],
          [
           "29/12/2011",
           "2011-12-29T10:00:00",
           "2011-12-29T10:02:00",
           98.82,
           98.55
          ],
          [
           "29/12/2016",
           "2016-12-29T10:00:00",
           "2016-12-29T10:02:00",
           54.02,
           54.09
          ],
          [
           "29/12/2021",
           "2021-12-29T09:30:00",
           "2021-12-29T09:32:00",
           76.14,
           76.26
          ],
          [
           "29/12/2022",
           "2022-12-29T10:00:00",
           "2022-12-29T10:02:00",
           77.66,
           77.33
          ],
          [
           "30/01/2013",
           "2013-01-30T09:30:00",
           "2013-01-30T09:32:00",
           97.61,
           97.77
          ],
          [
           "30/01/2019",
           "2019-01-30T09:30:00",
           "2019-01-30T09:32:00",
           54.18,
           54.19
          ],
          [
           "30/03/2011",
           "2011-03-30T08:30:00",
           "2011-03-30T08:32:00",
           104.37,
           104.33
          ],
          [
           "30/03/2016",
           "2016-03-30T08:30:00",
           "2016-03-30T08:32:00",
           39.34,
           39.3
          ],
          [
           "30/03/2022",
           "2022-03-30T08:30:00",
           "2022-03-30T08:32:00",
           107.59,
           107.79
          ],
          [
           "30/04/2014",
           "2014-04-30T08:30:00",
           "2014-04-30T08:32:00",
           99.66,
           99.67
          ],
          [
           "30/05/2013",
           "2013-05-30T09:00:00",
           "2013-05-30T09:02:00",
           92.35,
           92.29
          ],
          [
           "30/05/2019",
           "2019-05-30T09:00:00",
           "2019-05-30T09:02:00",
           58.8,
           58.87
          ],
          [
           "30/05/2024",
           "2024-05-30T09:00:00",
           "2024-05-30T09:02:00",
           78.99,
           78.94
          ],
          [
           "30/06/2021",
           "2021-06-30T08:30:00",
           "2021-06-30T08:32:00",
           73.52,
           73.48
          ],
          [
           "30/07/2014",
           "2014-07-30T08:30:00",
           "2014-07-30T08:32:00",
           100.07,
           100.05
          ],
          [
           "30/08/2017",
           "2017-08-30T08:30:00",
           "2017-08-30T08:32:00",
           46.01,
           46.04
          ],
          [
           "30/08/2023",
           "2023-08-30T08:30:00",
           "2023-08-30T08:32:00",
           81.75,
           81.77
          ],
          [
           "30/09/2015",
           "2015-09-30T08:30:00",
           "2015-09-30T08:32:00",
           45.04,
           45.1
          ],
          [
           "30/09/2020",
           "2020-09-30T08:30:00",
           "2020-09-30T08:32:00",
           39.48,
           39.54
          ],
          [
           "30/10/2013",
           "2013-10-30T08:30:00",
           "2013-10-30T08:32:00",
           97.31,
           97.29
          ],
          [
           "30/10/2019",
           "2019-10-30T08:30:00",
           "2019-10-30T08:32:00",
           55.34,
           55.43
          ],
          [
           "30/10/2024",
           "2024-10-30T08:30:00",
           "2024-10-30T08:32:00",
           68.16,
           68.1
          ],
          [
           "30/11/2011",
           "2011-11-30T09:30:00",
           "2011-11-30T09:32:00",
           100.97,
           100.85
          ],
          [
           "30/11/2016",
           "2016-11-30T09:30:00",
           "2016-11-30T09:32:00",
           48.59,
           48.59
          ],
          [
           "30/11/2022",
           "2022-11-30T09:30:00",
           "2022-11-30T09:32:00",
           80.91,
           81
          ],
          [
           "30/12/2015",
           "2015-12-30T09:30:00",
           "2015-12-30T09:32:00",
           36.56,
           36.54
          ],
          [
           "30/12/2020",
           "2020-12-30T09:30:00",
           "2020-12-30T09:32:00",
           48.24,
           48.26
          ],
          [
           "31/01/2018",
           "2018-01-31T09:30:00",
           "2018-01-31T09:32:00",
           64.15,
           64
          ],
          [
           "31/01/2024",
           "2024-01-31T09:30:00",
           "2024-01-31T09:32:00",
           76.48,
           76.56
          ],
          [
           "31/03/2021",
           "2021-03-31T08:30:00",
           "2021-03-31T08:32:00",
           60.2,
           60.3
          ],
          [
           "31/05/2012",
           "2012-05-31T09:00:00",
           "2012-05-31T09:02:00",
           86.73,
           86.76
          ],
          [
           "31/05/2018",
           "2018-05-31T09:00:00",
           "2018-05-31T09:02:00",
           67.24,
           67.24
          ],
          [
           "31/07/2013",
           "2013-07-31T08:30:00",
           "2013-07-31T08:32:00",
           102.55,
           102.61
          ],
          [
           "31/07/2019",
           "2019-07-31T08:30:00",
           "2019-07-31T08:32:00",
           58.65,
           58.6
          ],
          [
           "31/07/2024",
           "2024-07-31T08:30:00",
           "2024-07-31T08:32:00",
           76.01,
           76.13
          ],
          [
           "31/08/2011",
           "2011-08-31T08:30:00",
           "2011-08-31T08:32:00",
           88.35,
           88.47
          ],
          [
           "31/08/2016",
           "2016-08-31T08:30:00",
           "2016-08-31T08:32:00",
           45.85,
           45.9
          ],
          [
           "31/08/2022",
           "2022-08-31T08:30:00",
           "2022-08-31T08:32:00",
           89.63,
           89.52
          ],
          [
           "31/10/2018",
           "2018-10-31T08:30:00",
           "2018-10-31T08:32:00",
           65.98,
           65.99
          ],
          [
           "31/12/2014",
           "2014-12-31T09:30:00",
           "2014-12-31T09:32:00",
           53.51,
           53.33
          ]
         ],
         "hovertemplate": "EIA WPSR Supply Surprise (Millions of Barrels)=%{x}<br>Percentage Price Change (0-2 min)=%{y}<br>Date=%{customdata[0]}<br>Start_Datetime=%{customdata[1]}<br>End_Datetime=%{customdata[2]}<br>Start_Price=%{customdata[3]}<br>End_Price=%{customdata[4]}<br>Time Progression=%{marker.color}<extra></extra>",
         "legendgroup": "",
         "marker": {
          "color": {
           "bdata": "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",
           "dtype": "f8"
          },
          "coloraxis": "coloraxis",
          "symbol": "circle"
         },
         "mode": "markers",
         "name": "",
         "orientation": "v",
         "showlegend": false,
         "type": "scatter",
         "x": {
          "bdata": "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",
          "dtype": "f8"
         },
         "xaxis": "x",
         "y": {
          "bdata": "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",
          "dtype": "f8"
         },
         "yaxis": "y"
        }
       ],
       "layout": {
        "coloraxis": {
         "colorbar": {
          "title": {
           "text": "Time Progression"
          }
         },
         "colorscale": [
          [
           0,
           "#440154"
          ],
          [
           0.1111111111111111,
           "#482878"
          ],
          [
           0.2222222222222222,
           "#3e4989"
          ],
          [
           0.3333333333333333,
           "#31688e"
          ],
          [
           0.4444444444444444,
           "#26828e"
          ],
          [
           0.5555555555555556,
           "#1f9e89"
          ],
          [
           0.6666666666666666,
           "#35b779"
          ],
          [
           0.7777777777777778,
           "#6ece58"
          ],
          [
           0.8888888888888888,
           "#b5de2b"
          ],
          [
           1,
           "#fde725"
          ]
         ]
        },
        "legend": {
         "tracegroupgap": 0
        },
        "template": {
         "data": {
          "bar": [
           {
            "error_x": {
             "color": "#2a3f5f"
            },
            "error_y": {
             "color": "#2a3f5f"
            },
            "marker": {
             "line": {
              "color": "#E5ECF6",
              "width": 0.5
             },
             "pattern": {
              "fillmode": "overlay",
              "size": 10,
              "solidity": 0.2
             }
            },
            "type": "bar"
           }
          ],
          "barpolar": [
           {
            "marker": {
             "line": {
              "color": "#E5ECF6",
              "width": 0.5
             },
             "pattern": {
              "fillmode": "overlay",
              "size": 10,
              "solidity": 0.2
             }
            },
            "type": "barpolar"
           }
          ],
          "carpet": [
           {
            "aaxis": {
             "endlinecolor": "#2a3f5f",
             "gridcolor": "white",
             "linecolor": "white",
             "minorgridcolor": "white",
             "startlinecolor": "#2a3f5f"
            },
            "baxis": {
             "endlinecolor": "#2a3f5f",
             "gridcolor": "white",
             "linecolor": "white",
             "minorgridcolor": "white",
             "startlinecolor": "#2a3f5f"
            },
            "type": "carpet"
           }
          ],
          "choropleth": [
           {
            "colorbar": {
             "outlinewidth": 0,
             "ticks": ""
            },
            "type": "choropleth"
           }
          ],
          "contour": [
           {
            "colorbar": {
             "outlinewidth": 0,
             "ticks": ""
            },
            "colorscale": [
             [
              0,
              "#0d0887"
             ],
             [
              0.1111111111111111,
              "#46039f"
             ],
             [
              0.2222222222222222,
              "#7201a8"
             ],
             [
              0.3333333333333333,
              "#9c179e"
             ],
             [
              0.4444444444444444,
              "#bd3786"
             ],
             [
              0.5555555555555556,
              "#d8576b"
             ],
             [
              0.6666666666666666,
              "#ed7953"
             ],
             [
              0.7777777777777778,
              "#fb9f3a"
             ],
             [
              0.8888888888888888,
              "#fdca26"
             ],
             [
              1,
              "#f0f921"
             ]
            ],
            "type": "contour"
           }
          ],
          "contourcarpet": [
           {
            "colorbar": {
             "outlinewidth": 0,
             "ticks": ""
            },
            "type": "contourcarpet"
           }
          ],
          "heatmap": [
           {
            "colorbar": {
             "outlinewidth": 0,
             "ticks": ""
            },
            "colorscale": [
             [
              0,
              "#0d0887"
             ],
             [
              0.1111111111111111,
              "#46039f"
             ],
             [
              0.2222222222222222,
              "#7201a8"
             ],
             [
              0.3333333333333333,
              "#9c179e"
             ],
             [
              0.4444444444444444,
              "#bd3786"
             ],
             [
              0.5555555555555556,
              "#d8576b"
             ],
             [
              0.6666666666666666,
              "#ed7953"
             ],
             [
              0.7777777777777778,
              "#fb9f3a"
             ],
             [
              0.8888888888888888,
              "#fdca26"
             ],
             [
              1,
              "#f0f921"
             ]
            ],
            "type": "heatmap"
           }
          ],
          "histogram": [
           {
            "marker": {
             "pattern": {
              "fillmode": "overlay",
              "size": 10,
              "solidity": 0.2
             }
            },
            "type": "histogram"
           }
          ],
          "histogram2d": [
           {
            "colorbar": {
             "outlinewidth": 0,
             "ticks": ""
            },
            "colorscale": [
             [
              0,
              "#0d0887"
             ],
             [
              0.1111111111111111,
              "#46039f"
             ],
             [
              0.2222222222222222,
              "#7201a8"
             ],
             [
              0.3333333333333333,
              "#9c179e"
             ],
             [
              0.4444444444444444,
              "#bd3786"
             ],
             [
              0.5555555555555556,
              "#d8576b"
             ],
             [
              0.6666666666666666,
              "#ed7953"
             ],
             [
              0.7777777777777778,
              "#fb9f3a"
             ],
             [
              0.8888888888888888,
              "#fdca26"
             ],
             [
              1,
              "#f0f921"
             ]
            ],
            "type": "histogram2d"
           }
          ],
          "histogram2dcontour": [
           {
            "colorbar": {
             "outlinewidth": 0,
             "ticks": ""
            },
            "colorscale": [
             [
              0,
              "#0d0887"
             ],
             [
              0.1111111111111111,
              "#46039f"
             ],
             [
              0.2222222222222222,
              "#7201a8"
             ],
             [
              0.3333333333333333,
              "#9c179e"
             ],
             [
              0.4444444444444444,
              "#bd3786"
             ],
             [
              0.5555555555555556,
              "#d8576b"
             ],
             [
              0.6666666666666666,
              "#ed7953"
             ],
             [
              0.7777777777777778,
              "#fb9f3a"
             ],
             [
              0.8888888888888888,
              "#fdca26"
             ],
             [
              1,
              "#f0f921"
             ]
            ],
            "type": "histogram2dcontour"
           }
          ],
          "mesh3d": [
           {
            "colorbar": {
             "outlinewidth": 0,
             "ticks": ""
            },
            "type": "mesh3d"
           }
          ],
          "parcoords": [
           {
            "line": {
             "colorbar": {
              "outlinewidth": 0,
              "ticks": ""
             }
            },
            "type": "parcoords"
           }
          ],
          "pie": [
           {
            "automargin": true,
            "type": "pie"
           }
          ],
          "scatter": [
           {
            "fillpattern": {
             "fillmode": "overlay",
             "size": 10,
             "solidity": 0.2
            },
            "type": "scatter"
           }
          ],
          "scatter3d": [
           {
            "line": {
             "colorbar": {
              "outlinewidth": 0,
              "ticks": ""
             }
            },
            "marker": {
             "colorbar": {
              "outlinewidth": 0,
              "ticks": ""
             }
            },
            "type": "scatter3d"
           }
          ],
          "scattercarpet": [
           {
            "marker": {
             "colorbar": {
              "outlinewidth": 0,
              "ticks": ""
             }
            },
            "type": "scattercarpet"
           }
          ],
          "scattergeo": [
           {
            "marker": {
             "colorbar": {
              "outlinewidth": 0,
              "ticks": ""
             }
            },
            "type": "scattergeo"
           }
          ],
          "scattergl": [
           {
            "marker": {
             "colorbar": {
              "outlinewidth": 0,
              "ticks": ""
             }
            },
            "type": "scattergl"
           }
          ],
          "scattermap": [
           {
            "marker": {
             "colorbar": {
              "outlinewidth": 0,
              "ticks": ""
             }
            },
            "type": "scattermap"
           }
          ],
          "scattermapbox": [
           {
            "marker": {
             "colorbar": {
              "outlinewidth": 0,
              "ticks": ""
             }
            },
            "type": "scattermapbox"
           }
          ],
          "scatterpolar": [
           {
            "marker": {
             "colorbar": {
              "outlinewidth": 0,
              "ticks": ""
             }
            },
            "type": "scatterpolar"
           }
          ],
          "scatterpolargl": [
           {
            "marker": {
             "colorbar": {
              "outlinewidth": 0,
              "ticks": ""
             }
            },
            "type": "scatterpolargl"
           }
          ],
          "scatterternary": [
           {
            "marker": {
             "colorbar": {
              "outlinewidth": 0,
              "ticks": ""
             }
            },
            "type": "scatterternary"
           }
          ],
          "surface": [
           {
            "colorbar": {
             "outlinewidth": 0,
             "ticks": ""
            },
            "colorscale": [
             [
              0,
              "#0d0887"
             ],
             [
              0.1111111111111111,
              "#46039f"
             ],
             [
              0.2222222222222222,
              "#7201a8"
             ],
             [
              0.3333333333333333,
              "#9c179e"
             ],
             [
              0.4444444444444444,
              "#bd3786"
             ],
             [
              0.5555555555555556,
              "#d8576b"
             ],
             [
              0.6666666666666666,
              "#ed7953"
             ],
             [
              0.7777777777777778,
              "#fb9f3a"
             ],
             [
              0.8888888888888888,
              "#fdca26"
             ],
             [
              1,
              "#f0f921"
             ]
            ],
            "type": "surface"
           }
          ],
          "table": [
           {
            "cells": {
             "fill": {
              "color": "#EBF0F8"
             },
             "line": {
              "color": "white"
             }
            },
            "header": {
             "fill": {
              "color": "#C8D4E3"
             },
             "line": {
              "color": "white"
             }
            },
            "type": "table"
           }
          ]
         },
         "layout": {
          "annotationdefaults": {
           "arrowcolor": "#2a3f5f",
           "arrowhead": 0,
           "arrowwidth": 1
          },
          "autotypenumbers": "strict",
          "coloraxis": {
           "colorbar": {
            "outlinewidth": 0,
            "ticks": ""
           }
          },
          "colorscale": {
           "diverging": [
            [
             0,
             "#8e0152"
            ],
            [
             0.1,
             "#c51b7d"
            ],
            [
             0.2,
             "#de77ae"
            ],
            [
             0.3,
             "#f1b6da"
            ],
            [
             0.4,
             "#fde0ef"
            ],
            [
             0.5,
             "#f7f7f7"
            ],
            [
             0.6,
             "#e6f5d0"
            ],
            [
             0.7,
             "#b8e186"
            ],
            [
             0.8,
             "#7fbc41"
            ],
            [
             0.9,
             "#4d9221"
            ],
            [
             1,
             "#276419"
            ]
           ],
           "sequential": [
            [
             0,
             "#0d0887"
            ],
            [
             0.1111111111111111,
             "#46039f"
            ],
            [
             0.2222222222222222,
             "#7201a8"
            ],
            [
             0.3333333333333333,
             "#9c179e"
            ],
            [
             0.4444444444444444,
             "#bd3786"
            ],
            [
             0.5555555555555556,
             "#d8576b"
            ],
            [
             0.6666666666666666,
             "#ed7953"
            ],
            [
             0.7777777777777778,
             "#fb9f3a"
            ],
            [
             0.8888888888888888,
             "#fdca26"
            ],
            [
             1,
             "#f0f921"
            ]
           ],
           "sequentialminus": [
            [
             0,
             "#0d0887"
            ],
            [
             0.1111111111111111,
             "#46039f"
            ],
            [
             0.2222222222222222,
             "#7201a8"
            ],
            [
             0.3333333333333333,
             "#9c179e"
            ],
            [
             0.4444444444444444,
             "#bd3786"
            ],
            [
             0.5555555555555556,
             "#d8576b"
            ],
            [
             0.6666666666666666,
             "#ed7953"
            ],
            [
             0.7777777777777778,
             "#fb9f3a"
            ],
            [
             0.8888888888888888,
             "#fdca26"
            ],
            [
             1,
             "#f0f921"
            ]
           ]
          },
          "colorway": [
           "#636efa",
           "#EF553B",
           "#00cc96",
           "#ab63fa",
           "#FFA15A",
           "#19d3f3",
           "#FF6692",
           "#B6E880",
           "#FF97FF",
           "#FECB52"
          ],
          "font": {
           "color": "#2a3f5f"
          },
          "geo": {
           "bgcolor": "white",
           "lakecolor": "white",
           "landcolor": "#E5ECF6",
           "showlakes": true,
           "showland": true,
           "subunitcolor": "white"
          },
          "hoverlabel": {
           "align": "left"
          },
          "hovermode": "closest",
          "mapbox": {
           "style": "light"
          },
          "paper_bgcolor": "white",
          "plot_bgcolor": "#E5ECF6",
          "polar": {
           "angularaxis": {
            "gridcolor": "white",
            "linecolor": "white",
            "ticks": ""
           },
           "bgcolor": "#E5ECF6",
           "radialaxis": {
            "gridcolor": "white",
            "linecolor": "white",
            "ticks": ""
           }
          },
          "scene": {
           "xaxis": {
            "backgroundcolor": "#E5ECF6",
            "gridcolor": "white",
            "gridwidth": 2,
            "linecolor": "white",
            "showbackground": true,
            "ticks": "",
            "zerolinecolor": "white"
           },
           "yaxis": {
            "backgroundcolor": "#E5ECF6",
            "gridcolor": "white",
            "gridwidth": 2,
            "linecolor": "white",
            "showbackground": true,
            "ticks": "",
            "zerolinecolor": "white"
           },
           "zaxis": {
            "backgroundcolor": "#E5ECF6",
            "gridcolor": "white",
            "gridwidth": 2,
            "linecolor": "white",
            "showbackground": true,
            "ticks": "",
            "zerolinecolor": "white"
           }
          },
          "shapedefaults": {
           "line": {
            "color": "#2a3f5f"
           }
          },
          "ternary": {
           "aaxis": {
            "gridcolor": "white",
            "linecolor": "white",
            "ticks": ""
           },
           "baxis": {
            "gridcolor": "white",
            "linecolor": "white",
            "ticks": ""
           },
           "bgcolor": "#E5ECF6",
           "caxis": {
            "gridcolor": "white",
            "linecolor": "white",
            "ticks": ""
           }
          },
          "title": {
           "x": 0.05
          },
          "xaxis": {
           "automargin": true,
           "gridcolor": "white",
           "linecolor": "white",
           "ticks": "",
           "title": {
            "standoff": 15
           },
           "zerolinecolor": "white",
           "zerolinewidth": 2
          },
          "yaxis": {
           "automargin": true,
           "gridcolor": "white",
           "linecolor": "white",
           "ticks": "",
           "title": {
            "standoff": 15
           },
           "zerolinecolor": "white",
           "zerolinewidth": 2
          }
         }
        },
        "title": {
         "text": "Scatter Plot of Supply Surprise vs. Percentage Price Change (0-2 min) - Even Hue Distribution"
        },
        "xaxis": {
         "anchor": "y",
         "domain": [
          0,
          1
         ],
         "title": {
          "text": "EIA WPSR Supply Surprise (Millions of Barrels)"
         }
        },
        "yaxis": {
         "anchor": "x",
         "domain": [
          0,
          1
         ],
         "title": {
          "text": "Percentage Price Change (0-2 min)"
         }
        }
       }
      }
     },
     "metadata": {},
     "output_type": "display_data"
    }
   ],
   "source": [
    "\n",
    "\n",
    "# Assuming date_percentage_change_df is already created and 'Start_Datetime' is a datetime column\n",
    "\n",
    "# 1. Convert 'Start_Datetime' to datetime objects (ensure it's datetime)\n",
    "date_percentage_change_df['Start_Datetime'] = pd.to_datetime(date_percentage_change_df['Start_Datetime'])\n",
    "\n",
    "# 2. Calculate a numerical time representation for even color distribution\n",
    "min_datetime = date_percentage_change_df['Start_Datetime'].min()\n",
    "max_datetime = date_percentage_change_df['Start_Datetime'].max()\n",
    "\n",
    "# Calculate the proportion of time elapsed since the earliest date\n",
    "date_percentage_change_df['Time_Proportion'] = (date_percentage_change_df['Start_Datetime'] - min_datetime) / (max_datetime - min_datetime)\n",
    "\n",
    "# If all dates are the same, handle the case to avoid division by zero (optional, but robust)\n",
    "if (max_datetime - min_datetime) == pd.Timedelta(0):\n",
    "    date_percentage_change_df['Time_Proportion'] = 0.5 # Or any constant value for uniform color\n",
    "\n",
    "# 3. Create the interactive scatter plot using Plotly Express, coloring by 'Time_Proportion'\n",
    "fig_scatter_surprise_vs_pricechange_even_hue = px.scatter(\n",
    "    date_percentage_change_df,\n",
    "    x='supply_surprise',\n",
    "    y='Percentage_Change_0to2min',\n",
    "    color='Time_Proportion',  # Color by the numerical time proportion\n",
    "    hover_data=['Date', 'Start_Datetime', 'End_Datetime', 'Start_Price', 'End_Price'],\n",
    "    title='Scatter Plot of Supply Surprise vs. Percentage Price Change (0-2 min) - Even Hue Distribution',\n",
    "    labels={\n",
    "        'supply_surprise': 'EIA WPSR Supply Surprise (Millions of Barrels)',\n",
    "        'Percentage_Change_0to2min': 'Percentage Price Change (0-2 min)',\n",
    "        'Time_Proportion': 'Time Progression' # Label for color legend\n",
    "    },\n",
    "    color_continuous_scale=px.colors.sequential.Viridis # Keep the same or choose a different colorscale\n",
    ")\n",
    "\n",
    "fig_scatter_surprise_vs_pricechange_even_hue.update_layout(\n",
    "    xaxis_title='EIA WPSR Supply Surprise (Millions of Barrels)',\n",
    "    yaxis_title='Percentage Price Change (0-2 min)'\n",
    ")\n",
    "\n",
    "fig_scatter_surprise_vs_pricechange_even_hue.show()"
   ]
  }
 ],
 "metadata": {
  "kernelspec": {
   "display_name": "Python 3",
   "language": "python",
   "name": "python3"
  },
  "language_info": {
   "codemirror_mode": {
    "name": "ipython",
    "version": 3
   },
   "file_extension": ".py",
   "mimetype": "text/x-python",
   "name": "python",
   "nbconvert_exporter": "python",
   "pygments_lexer": "ipython3",
   "version": "3.13.1"
  }
 },
 "nbformat": 4,
 "nbformat_minor": 2
}
