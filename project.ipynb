{
 "cells": [
  {
   "cell_type": "code",
   "execution_count": null,
   "metadata": {},
   "outputs": [],
   "source": [
    "import pandas as pd\n",
    "import datetime\n",
    "import pytz\n",
    "import plotly.graph_objects as go\n",
    "from plotly.offline import iplot\n",
    "from plotly.subplots import make_subplots\n",
    "from scipy import stats\n",
    "import numpy as np\n",
    "\n",
    "pd.set_option('display.max_rows', 400)\n",
    "pd.set_option('display.max_columns', 20)\n",
    "\n",
    "icom_eia_forecasts = pd.read_csv('data/InvestingcomEIA.csv')\n",
    "print(\"icom_eia_forecasts:\")\n",
    "display(icom_eia_forecasts)\n",
    "\n",
    "fxstreet_eia_forecasts = pd.read_csv('data/FXStreetEIA.csv')\n",
    "print(\"fxstreet_eia_forecasts:\")\n",
    "display(fxstreet_eia_forecasts)\n",
    "print(\"fxstreet_api_forecasts:\")\n",
    "fxstreet_api_forecasts = pd.read_csv('data/FXStreetAPI.csv')\n",
    "display(fxstreet_api_forecasts)\n",
    "\n",
    "min_WTI = pd.read_csv(\n",
    "    'data/cl-1m.csv',\n",
    "    sep=';',\n",
    "    header=None,\n",
    "    names=['Date', 'Time', 'Open', 'High', 'Low', 'Close', 'Volume']\n",
    ")\n",
    "\n",
    "# Print the head of the DataFrame to verify it's loaded correctly\n",
    "display(min_WTI)\n",
    "min_WTI = min_WTI[1225975:]\n",
    "display(min_WTI)\n",
    "\n"
   ]
  },
  {
   "cell_type": "code",
   "execution_count": null,
   "metadata": {},
   "outputs": [
    {
     "data": {
      "text/html": [
       "<div>\n",
       "<style scoped>\n",
       "    .dataframe tbody tr th:only-of-type {\n",
       "        vertical-align: middle;\n",
       "    }\n",
       "\n",
       "    .dataframe tbody tr th {\n",
       "        vertical-align: top;\n",
       "    }\n",
       "\n",
       "    .dataframe thead th {\n",
       "        text-align: right;\n",
       "    }\n",
       "</style>\n",
       "<table border=\"1\" class=\"dataframe\">\n",
       "  <thead>\n",
       "    <tr style=\"text-align: right;\">\n",
       "      <th></th>\n",
       "      <th>Date</th>\n",
       "      <th>Time</th>\n",
       "      <th>Open</th>\n",
       "      <th>High</th>\n",
       "      <th>Low</th>\n",
       "      <th>Close</th>\n",
       "      <th>Volume</th>\n",
       "      <th>Datetime</th>\n",
       "    </tr>\n",
       "    <tr>\n",
       "      <th>Datetime_CST</th>\n",
       "      <th></th>\n",
       "      <th></th>\n",
       "      <th></th>\n",
       "      <th></th>\n",
       "      <th></th>\n",
       "      <th></th>\n",
       "      <th></th>\n",
       "      <th></th>\n",
       "    </tr>\n",
       "  </thead>\n",
       "  <tbody>\n",
       "    <tr>\n",
       "      <th>2011-03-07 23:59:00-06:00</th>\n",
       "      <td>07/03/2011</td>\n",
       "      <td>23:59:00</td>\n",
       "      <td>104.74</td>\n",
       "      <td>104.77</td>\n",
       "      <td>104.73</td>\n",
       "      <td>104.73</td>\n",
       "      <td>18</td>\n",
       "      <td>2011-03-07 23:59:00</td>\n",
       "    </tr>\n",
       "    <tr>\n",
       "      <th>2011-03-08 00:00:00-06:00</th>\n",
       "      <td>08/03/2011</td>\n",
       "      <td>00:00:00</td>\n",
       "      <td>104.74</td>\n",
       "      <td>104.82</td>\n",
       "      <td>104.74</td>\n",
       "      <td>104.81</td>\n",
       "      <td>34</td>\n",
       "      <td>2011-03-08 00:00:00</td>\n",
       "    </tr>\n",
       "    <tr>\n",
       "      <th>2011-03-08 00:01:00-06:00</th>\n",
       "      <td>08/03/2011</td>\n",
       "      <td>00:01:00</td>\n",
       "      <td>104.82</td>\n",
       "      <td>104.84</td>\n",
       "      <td>104.82</td>\n",
       "      <td>104.82</td>\n",
       "      <td>12</td>\n",
       "      <td>2011-03-08 00:01:00</td>\n",
       "    </tr>\n",
       "    <tr>\n",
       "      <th>2011-03-08 00:02:00-06:00</th>\n",
       "      <td>08/03/2011</td>\n",
       "      <td>00:02:00</td>\n",
       "      <td>104.81</td>\n",
       "      <td>104.81</td>\n",
       "      <td>104.73</td>\n",
       "      <td>104.75</td>\n",
       "      <td>20</td>\n",
       "      <td>2011-03-08 00:02:00</td>\n",
       "    </tr>\n",
       "    <tr>\n",
       "      <th>2011-03-08 00:03:00-06:00</th>\n",
       "      <td>08/03/2011</td>\n",
       "      <td>00:03:00</td>\n",
       "      <td>104.74</td>\n",
       "      <td>104.76</td>\n",
       "      <td>104.71</td>\n",
       "      <td>104.76</td>\n",
       "      <td>25</td>\n",
       "      <td>2011-03-08 00:03:00</td>\n",
       "    </tr>\n",
       "    <tr>\n",
       "      <th>...</th>\n",
       "      <td>...</td>\n",
       "      <td>...</td>\n",
       "      <td>...</td>\n",
       "      <td>...</td>\n",
       "      <td>...</td>\n",
       "      <td>...</td>\n",
       "      <td>...</td>\n",
       "      <td>...</td>\n",
       "    </tr>\n",
       "    <tr>\n",
       "      <th>2025-03-11 23:54:00-05:00</th>\n",
       "      <td>11/03/2025</td>\n",
       "      <td>23:54:00</td>\n",
       "      <td>66.75</td>\n",
       "      <td>66.75</td>\n",
       "      <td>66.75</td>\n",
       "      <td>66.75</td>\n",
       "      <td>13</td>\n",
       "      <td>2025-03-11 23:54:00</td>\n",
       "    </tr>\n",
       "    <tr>\n",
       "      <th>2025-03-11 23:56:00-05:00</th>\n",
       "      <td>11/03/2025</td>\n",
       "      <td>23:56:00</td>\n",
       "      <td>66.75</td>\n",
       "      <td>66.75</td>\n",
       "      <td>66.74</td>\n",
       "      <td>66.74</td>\n",
       "      <td>3</td>\n",
       "      <td>2025-03-11 23:56:00</td>\n",
       "    </tr>\n",
       "    <tr>\n",
       "      <th>2025-03-11 23:58:00-05:00</th>\n",
       "      <td>11/03/2025</td>\n",
       "      <td>23:58:00</td>\n",
       "      <td>66.75</td>\n",
       "      <td>66.75</td>\n",
       "      <td>66.75</td>\n",
       "      <td>66.75</td>\n",
       "      <td>3</td>\n",
       "      <td>2025-03-11 23:58:00</td>\n",
       "    </tr>\n",
       "    <tr>\n",
       "      <th>2025-03-11 23:59:00-05:00</th>\n",
       "      <td>11/03/2025</td>\n",
       "      <td>23:59:00</td>\n",
       "      <td>66.75</td>\n",
       "      <td>66.75</td>\n",
       "      <td>66.75</td>\n",
       "      <td>66.75</td>\n",
       "      <td>1</td>\n",
       "      <td>2025-03-11 23:59:00</td>\n",
       "    </tr>\n",
       "    <tr>\n",
       "      <th>2025-03-12 00:00:00-05:00</th>\n",
       "      <td>12/03/2025</td>\n",
       "      <td>00:00:00</td>\n",
       "      <td>66.74</td>\n",
       "      <td>66.76</td>\n",
       "      <td>66.71</td>\n",
       "      <td>66.75</td>\n",
       "      <td>41</td>\n",
       "      <td>2025-03-12 00:00:00</td>\n",
       "    </tr>\n",
       "  </tbody>\n",
       "</table>\n",
       "<p>4811559 rows × 8 columns</p>\n",
       "</div>"
      ],
      "text/plain": [
       "                                 Date      Time    Open    High     Low  \\\n",
       "Datetime_CST                                                              \n",
       "2011-03-07 23:59:00-06:00  07/03/2011  23:59:00  104.74  104.77  104.73   \n",
       "2011-03-08 00:00:00-06:00  08/03/2011  00:00:00  104.74  104.82  104.74   \n",
       "2011-03-08 00:01:00-06:00  08/03/2011  00:01:00  104.82  104.84  104.82   \n",
       "2011-03-08 00:02:00-06:00  08/03/2011  00:02:00  104.81  104.81  104.73   \n",
       "2011-03-08 00:03:00-06:00  08/03/2011  00:03:00  104.74  104.76  104.71   \n",
       "...                               ...       ...     ...     ...     ...   \n",
       "2025-03-11 23:54:00-05:00  11/03/2025  23:54:00   66.75   66.75   66.75   \n",
       "2025-03-11 23:56:00-05:00  11/03/2025  23:56:00   66.75   66.75   66.74   \n",
       "2025-03-11 23:58:00-05:00  11/03/2025  23:58:00   66.75   66.75   66.75   \n",
       "2025-03-11 23:59:00-05:00  11/03/2025  23:59:00   66.75   66.75   66.75   \n",
       "2025-03-12 00:00:00-05:00  12/03/2025  00:00:00   66.74   66.76   66.71   \n",
       "\n",
       "                            Close  Volume            Datetime  \n",
       "Datetime_CST                                                   \n",
       "2011-03-07 23:59:00-06:00  104.73      18 2011-03-07 23:59:00  \n",
       "2011-03-08 00:00:00-06:00  104.81      34 2011-03-08 00:00:00  \n",
       "2011-03-08 00:01:00-06:00  104.82      12 2011-03-08 00:01:00  \n",
       "2011-03-08 00:02:00-06:00  104.75      20 2011-03-08 00:02:00  \n",
       "2011-03-08 00:03:00-06:00  104.76      25 2011-03-08 00:03:00  \n",
       "...                           ...     ...                 ...  \n",
       "2025-03-11 23:54:00-05:00   66.75      13 2025-03-11 23:54:00  \n",
       "2025-03-11 23:56:00-05:00   66.74       3 2025-03-11 23:56:00  \n",
       "2025-03-11 23:58:00-05:00   66.75       3 2025-03-11 23:58:00  \n",
       "2025-03-11 23:59:00-05:00   66.75       1 2025-03-11 23:59:00  \n",
       "2025-03-12 00:00:00-05:00   66.75      41 2025-03-12 00:00:00  \n",
       "\n",
       "[4811559 rows x 8 columns]"
      ]
     },
     "metadata": {},
     "output_type": "display_data"
    },
    {
     "data": {
      "text/html": [
       "<div>\n",
       "<style scoped>\n",
       "    .dataframe tbody tr th:only-of-type {\n",
       "        vertical-align: middle;\n",
       "    }\n",
       "\n",
       "    .dataframe tbody tr th {\n",
       "        vertical-align: top;\n",
       "    }\n",
       "\n",
       "    .dataframe thead th {\n",
       "        text-align: right;\n",
       "    }\n",
       "</style>\n",
       "<table border=\"1\" class=\"dataframe\">\n",
       "  <thead>\n",
       "    <tr style=\"text-align: right;\">\n",
       "      <th></th>\n",
       "      <th>Release Date</th>\n",
       "      <th>Time</th>\n",
       "      <th>Actual</th>\n",
       "      <th>Forecast</th>\n",
       "      <th>Previous</th>\n",
       "      <th>Release_Datetime</th>\n",
       "      <th>Release_Datetime_EST</th>\n",
       "      <th>supply_surprise</th>\n",
       "    </tr>\n",
       "    <tr>\n",
       "      <th>Release_Datetime_CST</th>\n",
       "      <th></th>\n",
       "      <th></th>\n",
       "      <th></th>\n",
       "      <th></th>\n",
       "      <th></th>\n",
       "      <th></th>\n",
       "      <th></th>\n",
       "      <th></th>\n",
       "    </tr>\n",
       "  </thead>\n",
       "  <tbody>\n",
       "    <tr>\n",
       "      <th>2011-03-09 09:30:00-06:00</th>\n",
       "      <td>9-Mar-11</td>\n",
       "      <td>10:30</td>\n",
       "      <td>2.500M</td>\n",
       "      <td>1.100M</td>\n",
       "      <td>-0.400M</td>\n",
       "      <td>2011-03-09 10:30:00</td>\n",
       "      <td>2011-03-09 10:30:00-05:00</td>\n",
       "      <td>1.400</td>\n",
       "    </tr>\n",
       "    <tr>\n",
       "      <th>2011-03-16 08:30:00-05:00</th>\n",
       "      <td>16-Mar-11</td>\n",
       "      <td>9:30</td>\n",
       "      <td>1.700M</td>\n",
       "      <td>1.800M</td>\n",
       "      <td>2.500M</td>\n",
       "      <td>2011-03-16 09:30:00</td>\n",
       "      <td>2011-03-16 09:30:00-04:00</td>\n",
       "      <td>-0.100</td>\n",
       "    </tr>\n",
       "    <tr>\n",
       "      <th>2011-03-23 08:30:00-05:00</th>\n",
       "      <td>23-Mar-11</td>\n",
       "      <td>9:30</td>\n",
       "      <td>2.100M</td>\n",
       "      <td>2.000M</td>\n",
       "      <td>1.700M</td>\n",
       "      <td>2011-03-23 09:30:00</td>\n",
       "      <td>2011-03-23 09:30:00-04:00</td>\n",
       "      <td>0.100</td>\n",
       "    </tr>\n",
       "    <tr>\n",
       "      <th>2011-03-30 08:30:00-05:00</th>\n",
       "      <td>30-Mar-11</td>\n",
       "      <td>9:30</td>\n",
       "      <td>2.900M</td>\n",
       "      <td>2.000M</td>\n",
       "      <td>2.100M</td>\n",
       "      <td>2011-03-30 09:30:00</td>\n",
       "      <td>2011-03-30 09:30:00-04:00</td>\n",
       "      <td>0.900</td>\n",
       "    </tr>\n",
       "    <tr>\n",
       "      <th>2011-04-06 08:30:00-05:00</th>\n",
       "      <td>6-Apr-11</td>\n",
       "      <td>9:30</td>\n",
       "      <td>2.000M</td>\n",
       "      <td>1.300M</td>\n",
       "      <td>2.900M</td>\n",
       "      <td>2011-04-06 09:30:00</td>\n",
       "      <td>2011-04-06 09:30:00-04:00</td>\n",
       "      <td>0.700</td>\n",
       "    </tr>\n",
       "    <tr>\n",
       "      <th>...</th>\n",
       "      <td>...</td>\n",
       "      <td>...</td>\n",
       "      <td>...</td>\n",
       "      <td>...</td>\n",
       "      <td>...</td>\n",
       "      <td>...</td>\n",
       "      <td>...</td>\n",
       "      <td>...</td>\n",
       "    </tr>\n",
       "    <tr>\n",
       "      <th>2025-02-12 09:30:00-06:00</th>\n",
       "      <td>12-Feb-25</td>\n",
       "      <td>10:30</td>\n",
       "      <td>4.070M</td>\n",
       "      <td>2.400M</td>\n",
       "      <td>8.664M</td>\n",
       "      <td>2025-02-12 10:30:00</td>\n",
       "      <td>2025-02-12 10:30:00-05:00</td>\n",
       "      <td>1.670</td>\n",
       "    </tr>\n",
       "    <tr>\n",
       "      <th>2025-02-20 11:00:00-06:00</th>\n",
       "      <td>20-Feb-25</td>\n",
       "      <td>12:00</td>\n",
       "      <td>4.633M</td>\n",
       "      <td>3.200M</td>\n",
       "      <td>4.070M</td>\n",
       "      <td>2025-02-20 12:00:00</td>\n",
       "      <td>2025-02-20 12:00:00-05:00</td>\n",
       "      <td>1.433</td>\n",
       "    </tr>\n",
       "    <tr>\n",
       "      <th>2025-02-26 09:00:00-06:00</th>\n",
       "      <td>26-Feb-25</td>\n",
       "      <td>10:00</td>\n",
       "      <td>-2.332M</td>\n",
       "      <td>2.500M</td>\n",
       "      <td>4.633M</td>\n",
       "      <td>2025-02-26 10:00:00</td>\n",
       "      <td>2025-02-26 10:00:00-05:00</td>\n",
       "      <td>-4.832</td>\n",
       "    </tr>\n",
       "    <tr>\n",
       "      <th>2025-03-05 09:30:00-06:00</th>\n",
       "      <td>5-Mar-25</td>\n",
       "      <td>10:30</td>\n",
       "      <td>3.614M</td>\n",
       "      <td>0.600M</td>\n",
       "      <td>-2.332M</td>\n",
       "      <td>2025-03-05 10:30:00</td>\n",
       "      <td>2025-03-05 10:30:00-05:00</td>\n",
       "      <td>3.014</td>\n",
       "    </tr>\n",
       "    <tr>\n",
       "      <th>2025-03-12 07:30:00-05:00</th>\n",
       "      <td>12-Mar-25</td>\n",
       "      <td>8:30</td>\n",
       "      <td>NaN</td>\n",
       "      <td>NaN</td>\n",
       "      <td>3.614M</td>\n",
       "      <td>2025-03-12 08:30:00</td>\n",
       "      <td>2025-03-12 08:30:00-04:00</td>\n",
       "      <td>NaN</td>\n",
       "    </tr>\n",
       "  </tbody>\n",
       "</table>\n",
       "<p>732 rows × 8 columns</p>\n",
       "</div>"
      ],
      "text/plain": [
       "                          Release Date   Time   Actual Forecast Previous  \\\n",
       "Release_Datetime_CST                                                       \n",
       "2011-03-09 09:30:00-06:00     9-Mar-11  10:30   2.500M   1.100M  -0.400M   \n",
       "2011-03-16 08:30:00-05:00    16-Mar-11   9:30   1.700M   1.800M   2.500M   \n",
       "2011-03-23 08:30:00-05:00    23-Mar-11   9:30   2.100M   2.000M   1.700M   \n",
       "2011-03-30 08:30:00-05:00    30-Mar-11   9:30   2.900M   2.000M   2.100M   \n",
       "2011-04-06 08:30:00-05:00     6-Apr-11   9:30   2.000M   1.300M   2.900M   \n",
       "...                                ...    ...      ...      ...      ...   \n",
       "2025-02-12 09:30:00-06:00    12-Feb-25  10:30   4.070M   2.400M   8.664M   \n",
       "2025-02-20 11:00:00-06:00    20-Feb-25  12:00   4.633M   3.200M   4.070M   \n",
       "2025-02-26 09:00:00-06:00    26-Feb-25  10:00  -2.332M   2.500M   4.633M   \n",
       "2025-03-05 09:30:00-06:00     5-Mar-25  10:30   3.614M   0.600M  -2.332M   \n",
       "2025-03-12 07:30:00-05:00    12-Mar-25   8:30      NaN      NaN   3.614M   \n",
       "\n",
       "                             Release_Datetime      Release_Datetime_EST  \\\n",
       "Release_Datetime_CST                                                      \n",
       "2011-03-09 09:30:00-06:00 2011-03-09 10:30:00 2011-03-09 10:30:00-05:00   \n",
       "2011-03-16 08:30:00-05:00 2011-03-16 09:30:00 2011-03-16 09:30:00-04:00   \n",
       "2011-03-23 08:30:00-05:00 2011-03-23 09:30:00 2011-03-23 09:30:00-04:00   \n",
       "2011-03-30 08:30:00-05:00 2011-03-30 09:30:00 2011-03-30 09:30:00-04:00   \n",
       "2011-04-06 08:30:00-05:00 2011-04-06 09:30:00 2011-04-06 09:30:00-04:00   \n",
       "...                                       ...                       ...   \n",
       "2025-02-12 09:30:00-06:00 2025-02-12 10:30:00 2025-02-12 10:30:00-05:00   \n",
       "2025-02-20 11:00:00-06:00 2025-02-20 12:00:00 2025-02-20 12:00:00-05:00   \n",
       "2025-02-26 09:00:00-06:00 2025-02-26 10:00:00 2025-02-26 10:00:00-05:00   \n",
       "2025-03-05 09:30:00-06:00 2025-03-05 10:30:00 2025-03-05 10:30:00-05:00   \n",
       "2025-03-12 07:30:00-05:00 2025-03-12 08:30:00 2025-03-12 08:30:00-04:00   \n",
       "\n",
       "                           supply_surprise  \n",
       "Release_Datetime_CST                        \n",
       "2011-03-09 09:30:00-06:00            1.400  \n",
       "2011-03-16 08:30:00-05:00           -0.100  \n",
       "2011-03-23 08:30:00-05:00            0.100  \n",
       "2011-03-30 08:30:00-05:00            0.900  \n",
       "2011-04-06 08:30:00-05:00            0.700  \n",
       "...                                    ...  \n",
       "2025-02-12 09:30:00-06:00            1.670  \n",
       "2025-02-20 11:00:00-06:00            1.433  \n",
       "2025-02-26 09:00:00-06:00           -4.832  \n",
       "2025-03-05 09:30:00-06:00            3.014  \n",
       "2025-03-12 07:30:00-05:00              NaN  \n",
       "\n",
       "[732 rows x 8 columns]"
      ]
     },
     "metadata": {},
     "output_type": "display_data"
    }
   ],
   "source": [
    "display(min_WTI)\n",
    "display(icom_eia_forecasts)"
   ]
  },
  {
   "cell_type": "code",
   "execution_count": null,
   "metadata": {},
   "outputs": [],
   "source": [
    "def standardize_eia_datetime(row):\n",
    "    release_date = pd.to_datetime(row['Release Date'], format='%d-%b-%y', errors='coerce').date()\n",
    "    release_time = pd.to_datetime(row['Time'], format='%H:%M', errors='coerce').time()\n",
    "\n",
    "    if pd.isna(release_date) or pd.isna(release_time):\n",
    "        print('nan') #If this triggers, something is wrong\n",
    "        return pd.NaT\n",
    "\n",
    "    combined_datetime = pd.Timestamp.combine(release_date, release_time)\n",
    "    return combined_datetime\n",
    "\n",
    "icom_eia_forecasts['Release_Datetime'] = icom_eia_forecasts.apply(standardize_eia_datetime, axis=1)\n",
    "\n",
    "display(icom_eia_forecasts)\n",
    "\n",
    "eastern_tz = pytz.timezone('US/Eastern')\n",
    "icom_eia_forecasts['Release_Datetime_EST'] = icom_eia_forecasts['Release_Datetime'].dt.tz_localize(eastern_tz, ambiguous='infer', nonexistent='shift_forward')\n",
    "\n",
    "chicago_tz = pytz.timezone('America/Chicago')\n",
    "icom_eia_forecasts['Release_Datetime_CST'] = icom_eia_forecasts['Release_Datetime_EST'].dt.tz_convert(chicago_tz)\n",
    "\n",
    "display(icom_eia_forecasts)"
   ]
  },
  {
   "cell_type": "code",
   "execution_count": null,
   "metadata": {},
   "outputs": [],
   "source": [
    "def standardize_wti_datetime(row):\n",
    "    \"\"\"Standardizes datetime for min_res_OIH dataframe.\"\"\"\n",
    "    date_str = row['Date']\n",
    "    time_str = row['Time']\n",
    "\n",
    "    #print(date_str + ' ' + time_str)#debug\n",
    "\n",
    "    combined_datetime = pd.to_datetime(date_str + ' ' + time_str, format='%d/%m/%Y %H:%M:%S', errors='coerce') # Combined format\n",
    "\n",
    "    #print(combined_datetime)#debug\n",
    "\n",
    "    if pd.isna(combined_datetime):\n",
    "        print('nan')#If this triggers, something is wrong\n",
    "        return pd.NaT\n",
    "    return combined_datetime\n",
    "\n",
    "min_WTI['Datetime'] = min_WTI.apply(standardize_wti_datetime, axis=1)\n",
    "\n",
    "min_WTI['Datetime_CST'] = min_WTI['Datetime'].dt.tz_localize(chicago_tz, ambiguous='infer', nonexistent='shift_forward')\n",
    "display(min_WTI)"
   ]
  },
  {
   "cell_type": "code",
   "execution_count": null,
   "metadata": {},
   "outputs": [],
   "source": [
    "icom_eia_forecasts = icom_eia_forecasts.set_index('Release_Datetime_CST').sort_index()\n",
    "min_WTI = min_WTI.set_index('Datetime_CST').sort_index()"
   ]
  },
  {
   "cell_type": "code",
   "execution_count": null,
   "metadata": {},
   "outputs": [],
   "source": [
    "display(icom_eia_forecasts)\n",
    "display(min_WTI)\n"
   ]
  },
  {
   "cell_type": "code",
   "execution_count": null,
   "metadata": {},
   "outputs": [],
   "source": [
    "'''\n",
    "def calculate_price_change(eia_release_times, price_data, time_interval_minutes):\n",
    "    \"\"\"\n",
    "    Calculates the percentage price change in the price_data dataframe\n",
    "    for each release time in eia_release_times, over the specified time interval.\n",
    "\n",
    "    Args:\n",
    "        eia_release_times (pd.DatetimeIndex): Index of the icom_eia_forecasts dataframe (release datetimes).\n",
    "        price_data (pd.DataFrame): min_res_OIH dataframe with Datetime index and 'Close' price column.\n",
    "        time_interval_minutes (int): Time interval in minutes for price change calculation.\n",
    "\n",
    "    Returns:\n",
    "        list: List of price changes for each release event, or pd.NA if data is missing.\n",
    "    \"\"\"\n",
    "    price_changes = []\n",
    "    for release_time in eia_release_times:\n",
    "        try:\n",
    "            # Get price at release time\n",
    "            release_price = price_data.loc[release_time]['Close']\n",
    "\n",
    "            # Get price at time_interval_minutes after release\n",
    "            future_time = release_time + pd.Timedelta(minutes=time_interval_minutes)\n",
    "            future_price = price_data.loc[future_time]['Close']\n",
    "\n",
    "            price_change = ((future_price - release_price) / release_price) * 100.0\n",
    "            price_changes.append(price_change)\n",
    "\n",
    "        except KeyError:\n",
    "            #price data is missing when 0 volume so give 0 % price change\n",
    "            price_changes.append(0.0)\n",
    "\n",
    "    return price_changes\n",
    "\n",
    "time_intervals_minutes = [1, 5, 10, 60]\n",
    "\n",
    "price_change_column_names = []\n",
    "for interval in time_intervals_minutes:\n",
    "    col_name = f'{interval}_Minute_Percent_Price_Change' if interval < 60 else f'{interval//60}_Hour_Percent_Price_Change'\n",
    "    price_change_column_names.append(col_name)\n",
    "\n",
    "# remove cols if already there\n",
    "columns_to_drop = [col for col in price_change_column_names if col in icom_eia_forecasts.columns]\n",
    "if columns_to_drop:\n",
    "    print(f\"Removing existing columns: {columns_to_drop}\")\n",
    "    icom_eia_forecasts.drop(columns=columns_to_drop, inplace=True)\n",
    "\n",
    "# add % price change columns\n",
    "for interval, col_name in zip(time_intervals_minutes, price_change_column_names):\n",
    "    icom_eia_forecasts[col_name] = calculate_price_change(icom_eia_forecasts.index, min_res_OIH, interval)\n",
    "\n",
    "\n",
    "display(icom_eia_forecasts)\n",
    "'''"
   ]
  },
  {
   "cell_type": "code",
   "execution_count": null,
   "metadata": {},
   "outputs": [],
   "source": [
    "'''\n",
    "\n",
    "percentage_change_columns = [\n",
    "    '1_Minute_Percent_Price_Change',\n",
    "    '5_Minute_Percent_Price_Change',\n",
    "    '10_Minute_Percent_Price_Change',\n",
    "    '1_Hour_Percent_Price_Change'\n",
    "]\n",
    "\n",
    "average_price_changes = icom_eia_forecasts[percentage_change_columns].abs().mean() # want to look at raw magnitude of price change values, so abs()\n",
    "\n",
    "intervals = [\n",
    "    '1-Minute',\n",
    "    '5-Minute',\n",
    "    '10-Minute',\n",
    "    '1-Hour'\n",
    "]\n",
    "\n",
    "\n",
    "fig = go.Figure(data=[go.Bar(x=intervals, y=average_price_changes.values,\n",
    "                            text=average_price_changes.values.round(3), # Display values on bars\n",
    "                            textposition='outside')])\n",
    "\n",
    "fig.update_layout(\n",
    "    title='Average Percentage Price Change Following EIA WPSR Report Releases',\n",
    "    xaxis_title='Time Interval After Release',\n",
    "    yaxis_title='Average Percentage Price Change',\n",
    "    yaxis_gridcolor='lightgray' # Add light gray grid lines for better readability\n",
    ")\n",
    "\n",
    "iplot(fig)\n",
    "'''"
   ]
  },
  {
   "cell_type": "code",
   "execution_count": null,
   "metadata": {},
   "outputs": [],
   "source": [
    "def calculate_supply_surprise(df):\n",
    "    \"\"\"\n",
    "    Calculates the 'supply_surprise' column as the difference between 'Actual' and 'Forecast'.\n",
    "    Handles 'M' suffix and converts to numeric.\n",
    "\n",
    "    Args:\n",
    "        df (pd.DataFrame): icom_eia_forecasts DataFrame.\n",
    "\n",
    "    Returns:\n",
    "        pd.Series: Supply surprise values.\n",
    "    \"\"\"\n",
    "    actual = df['Actual'].str.replace('M', '', regex=False).astype(float)\n",
    "    forecast = df['Forecast'].str.replace('M', '', regex=False).astype(float)\n",
    "    supply_surprise = actual - forecast\n",
    "    return supply_surprise\n",
    "\n",
    "icom_eia_forecasts['supply_surprise'] = calculate_supply_surprise(icom_eia_forecasts)\n",
    "\n",
    "display(icom_eia_forecasts)"
   ]
  },
  {
   "cell_type": "code",
   "execution_count": null,
   "metadata": {},
   "outputs": [],
   "source": [
    "supply_surprise_data = icom_eia_forecasts['supply_surprise']\n",
    "\n",
    "fig_hist = go.Figure(data=[go.Histogram(x=supply_surprise_data, nbinsx=100)])\n",
    "\n",
    "fig_hist.update_layout(\n",
    "    title='Histogram of EIA WPSR Crude Oil Supply Surprise',\n",
    "    xaxis_title='Supply Surprise (Actual - Forecast, Million Barrels)',\n",
    "    yaxis_title='Frequency (Number of Releases)',\n",
    "    bargap=0.1\n",
    ")\n",
    "\n",
    "fig_hist.show()"
   ]
  },
  {
   "cell_type": "code",
   "execution_count": null,
   "metadata": {},
   "outputs": [],
   "source": [
    "'''\n",
    "price_change_columns = [\n",
    "    '1_Minute_Percent_Price_Change',\n",
    "    '5_Minute_Percent_Price_Change',\n",
    "    '10_Minute_Percent_Price_Change',\n",
    "    '1_Hour_Percent_Price_Change'\n",
    "]\n",
    "\n",
    "for col in price_change_columns:\n",
    "    price_change_data = icom_eia_forecasts[col].dropna()\n",
    "\n",
    "    fig_hist_price_change = go.Figure(data=[go.Histogram(x=price_change_data, nbinsx=100)])\n",
    "\n",
    "    fig_hist_price_change.update_layout(\n",
    "        title=f'Histogram of {col} After EIA WPSR Release',\n",
    "        xaxis_title='Percentage Price Change (%)',\n",
    "        yaxis_title='Frequency (Number of Releases)',\n",
    "        bargap=0.1\n",
    "    )\n",
    "\n",
    "    fig_hist_price_change.show()\n",
    "'''"
   ]
  },
  {
   "cell_type": "code",
   "execution_count": null,
   "metadata": {},
   "outputs": [],
   "source": [
    "'''\n",
    "from plotly.subplots import make_subplots\n",
    "from scipy import stats  # Import scipy.stats for statistical tests\n",
    "\n",
    "# Assume your dataframes are already loaded as icom_eia_forecasts and min_res_OIH\n",
    "# and that you have run all the previous code blocks, including price change calculations and supply_surprise\n",
    "\n",
    "# --- Kolmogorov-Smirnov Test ---\n",
    "\n",
    "price_change_columns = [\n",
    "    '1_Minute_Percent_Price_Change',\n",
    "    '5_Minute_Percent_Price_Change',\n",
    "    '10_Minute_Percent_Price_Change',\n",
    "    '1_Hour_Percent_Price_Change'\n",
    "]\n",
    "\n",
    "print(\"Kolmogorov-Smirnov Test for Normality of Price Changes:\\n\")\n",
    "\n",
    "for col in price_change_columns:\n",
    "    price_change_data = icom_eia_forecasts[col].dropna() # Drop NA values\n",
    "\n",
    "    # Standardize the data to have mean=0 and std=1 for comparison with standard normal\n",
    "    standardized_data = (price_change_data - price_change_data.mean()) / price_change_data.std()\n",
    "\n",
    "    # Perform Kolmogorov-Smirnov test against standard normal distribution (cdf='norm')\n",
    "    ks_statistic, p_value = stats.kstest(standardized_data, 'norm')\n",
    "\n",
    "    print(f\"Column: {col}\")\n",
    "    print(f\"KS Statistic: {ks_statistic:.4f}\")\n",
    "    print(f\"P-value: {p_value:.4f}\")\n",
    "\n",
    "    alpha = 0.05  # Significance level\n",
    "    if p_value < alpha:\n",
    "        print(f\"P-value < {alpha}: Reject the null hypothesis. Distribution is significantly different from normal.\\n\")\n",
    "    else:\n",
    "        print(f\"P-value >= {alpha}: Fail to reject the null hypothesis. Distribution is not significantly different from normal (at alpha={alpha}).\\n\")\n",
    "    print(\"-\" * 40)\n",
    "'''"
   ]
  },
  {
   "cell_type": "code",
   "execution_count": null,
   "metadata": {},
   "outputs": [],
   "source": [
    "display(min_WTI.head())"
   ]
  },
  {
   "cell_type": "code",
   "execution_count": null,
   "metadata": {},
   "outputs": [],
   "source": [
    "#1 minute 30 seconds\n",
    "\n",
    "percentage_price_changes_1min_wti = []\n",
    "previous_close_price = None\n",
    "\n",
    "for index, row in min_WTI.iterrows():\n",
    "    current_close_price = row['Close']\n",
    "    if previous_close_price is not None and previous_close_price != 0:\n",
    "        percentage_change = ((current_close_price - previous_close_price) / previous_close_price) * 100.0\n",
    "        percentage_price_changes_1min_wti.append(percentage_change)\n",
    "    else:\n",
    "        percentage_price_changes_1min_wti.append(float('nan'))\n",
    "    previous_close_price = current_close_price\n",
    "\n",
    "percentage_price_changes_1min_wti_series = pd.Series(percentage_price_changes_1min_wti, index=min_WTI.index)\n",
    "display(percentage_price_changes_1min_wti_series)\n",
    "min_WTI['Percent_Change'] = percentage_price_changes_1min_wti_series\n",
    "percentage_price_changes_1min_wti_series = percentage_price_changes_1min_wti_series.dropna()\n",
    "\n",
    "# --- Histogram of Filtered One-Minute Percentage Price Changes in min_res_OIH ---\n",
    "\n",
    "fig_hist_1min_wti = go.Figure(data=[go.Histogram(x=percentage_price_changes_1min_wti, nbinsx=1600)])\n",
    "\n",
    "fig_hist_1min_wti.update_layout(\n",
    "    title='Histogram of One-Minute Percentage Price Changes in Crude Price',\n",
    "    xaxis_title='One-Minute Percentage Price Change (%)',\n",
    "    yaxis_title='Frequency (Number of Minutes)',\n",
    "    xaxis_range=[-3, 3],\n",
    "    #yaxis_range=[0, 300000]\n",
    ")\n",
    "\n",
    "fig_hist_1min_wti.show()\n"
   ]
  },
  {
   "cell_type": "code",
   "execution_count": 48,
   "metadata": {},
   "outputs": [
    {
     "data": {
      "text/html": [
       "<div>\n",
       "<style scoped>\n",
       "    .dataframe tbody tr th:only-of-type {\n",
       "        vertical-align: middle;\n",
       "    }\n",
       "\n",
       "    .dataframe tbody tr th {\n",
       "        vertical-align: top;\n",
       "    }\n",
       "\n",
       "    .dataframe thead th {\n",
       "        text-align: right;\n",
       "    }\n",
       "</style>\n",
       "<table border=\"1\" class=\"dataframe\">\n",
       "  <thead>\n",
       "    <tr style=\"text-align: right;\">\n",
       "      <th></th>\n",
       "      <th>Date</th>\n",
       "      <th>Time</th>\n",
       "      <th>Open</th>\n",
       "      <th>High</th>\n",
       "      <th>Low</th>\n",
       "      <th>Close</th>\n",
       "      <th>Volume</th>\n",
       "      <th>Datetime</th>\n",
       "      <th>Percent_Change</th>\n",
       "    </tr>\n",
       "    <tr>\n",
       "      <th>Datetime_CST</th>\n",
       "      <th></th>\n",
       "      <th></th>\n",
       "      <th></th>\n",
       "      <th></th>\n",
       "      <th></th>\n",
       "      <th></th>\n",
       "      <th></th>\n",
       "      <th></th>\n",
       "      <th></th>\n",
       "    </tr>\n",
       "  </thead>\n",
       "  <tbody>\n",
       "    <tr>\n",
       "      <th>2011-03-07 23:59:00-06:00</th>\n",
       "      <td>07/03/2011</td>\n",
       "      <td>23:59:00</td>\n",
       "      <td>104.74</td>\n",
       "      <td>104.77</td>\n",
       "      <td>104.73</td>\n",
       "      <td>104.73</td>\n",
       "      <td>18</td>\n",
       "      <td>2011-03-07 23:59:00</td>\n",
       "      <td>NaN</td>\n",
       "    </tr>\n",
       "    <tr>\n",
       "      <th>2011-03-08 00:00:00-06:00</th>\n",
       "      <td>08/03/2011</td>\n",
       "      <td>00:00:00</td>\n",
       "      <td>104.74</td>\n",
       "      <td>104.82</td>\n",
       "      <td>104.74</td>\n",
       "      <td>104.81</td>\n",
       "      <td>34</td>\n",
       "      <td>2011-03-08 00:00:00</td>\n",
       "      <td>0.076387</td>\n",
       "    </tr>\n",
       "    <tr>\n",
       "      <th>2011-03-08 00:01:00-06:00</th>\n",
       "      <td>08/03/2011</td>\n",
       "      <td>00:01:00</td>\n",
       "      <td>104.82</td>\n",
       "      <td>104.84</td>\n",
       "      <td>104.82</td>\n",
       "      <td>104.82</td>\n",
       "      <td>12</td>\n",
       "      <td>2011-03-08 00:01:00</td>\n",
       "      <td>0.009541</td>\n",
       "    </tr>\n",
       "    <tr>\n",
       "      <th>2011-03-08 00:02:00-06:00</th>\n",
       "      <td>08/03/2011</td>\n",
       "      <td>00:02:00</td>\n",
       "      <td>104.81</td>\n",
       "      <td>104.81</td>\n",
       "      <td>104.73</td>\n",
       "      <td>104.75</td>\n",
       "      <td>20</td>\n",
       "      <td>2011-03-08 00:02:00</td>\n",
       "      <td>-0.066781</td>\n",
       "    </tr>\n",
       "    <tr>\n",
       "      <th>2011-03-08 00:03:00-06:00</th>\n",
       "      <td>08/03/2011</td>\n",
       "      <td>00:03:00</td>\n",
       "      <td>104.74</td>\n",
       "      <td>104.76</td>\n",
       "      <td>104.71</td>\n",
       "      <td>104.76</td>\n",
       "      <td>25</td>\n",
       "      <td>2011-03-08 00:03:00</td>\n",
       "      <td>0.009547</td>\n",
       "    </tr>\n",
       "    <tr>\n",
       "      <th>...</th>\n",
       "      <td>...</td>\n",
       "      <td>...</td>\n",
       "      <td>...</td>\n",
       "      <td>...</td>\n",
       "      <td>...</td>\n",
       "      <td>...</td>\n",
       "      <td>...</td>\n",
       "      <td>...</td>\n",
       "      <td>...</td>\n",
       "    </tr>\n",
       "    <tr>\n",
       "      <th>2025-03-11 23:54:00-05:00</th>\n",
       "      <td>11/03/2025</td>\n",
       "      <td>23:54:00</td>\n",
       "      <td>66.75</td>\n",
       "      <td>66.75</td>\n",
       "      <td>66.75</td>\n",
       "      <td>66.75</td>\n",
       "      <td>13</td>\n",
       "      <td>2025-03-11 23:54:00</td>\n",
       "      <td>0.000000</td>\n",
       "    </tr>\n",
       "    <tr>\n",
       "      <th>2025-03-11 23:56:00-05:00</th>\n",
       "      <td>11/03/2025</td>\n",
       "      <td>23:56:00</td>\n",
       "      <td>66.75</td>\n",
       "      <td>66.75</td>\n",
       "      <td>66.74</td>\n",
       "      <td>66.74</td>\n",
       "      <td>3</td>\n",
       "      <td>2025-03-11 23:56:00</td>\n",
       "      <td>-0.014981</td>\n",
       "    </tr>\n",
       "    <tr>\n",
       "      <th>2025-03-11 23:58:00-05:00</th>\n",
       "      <td>11/03/2025</td>\n",
       "      <td>23:58:00</td>\n",
       "      <td>66.75</td>\n",
       "      <td>66.75</td>\n",
       "      <td>66.75</td>\n",
       "      <td>66.75</td>\n",
       "      <td>3</td>\n",
       "      <td>2025-03-11 23:58:00</td>\n",
       "      <td>0.014984</td>\n",
       "    </tr>\n",
       "    <tr>\n",
       "      <th>2025-03-11 23:59:00-05:00</th>\n",
       "      <td>11/03/2025</td>\n",
       "      <td>23:59:00</td>\n",
       "      <td>66.75</td>\n",
       "      <td>66.75</td>\n",
       "      <td>66.75</td>\n",
       "      <td>66.75</td>\n",
       "      <td>1</td>\n",
       "      <td>2025-03-11 23:59:00</td>\n",
       "      <td>0.000000</td>\n",
       "    </tr>\n",
       "    <tr>\n",
       "      <th>2025-03-12 00:00:00-05:00</th>\n",
       "      <td>12/03/2025</td>\n",
       "      <td>00:00:00</td>\n",
       "      <td>66.74</td>\n",
       "      <td>66.76</td>\n",
       "      <td>66.71</td>\n",
       "      <td>66.75</td>\n",
       "      <td>41</td>\n",
       "      <td>2025-03-12 00:00:00</td>\n",
       "      <td>0.000000</td>\n",
       "    </tr>\n",
       "  </tbody>\n",
       "</table>\n",
       "<p>4811559 rows × 9 columns</p>\n",
       "</div>"
      ],
      "text/plain": [
       "                                 Date      Time    Open    High     Low  \\\n",
       "Datetime_CST                                                              \n",
       "2011-03-07 23:59:00-06:00  07/03/2011  23:59:00  104.74  104.77  104.73   \n",
       "2011-03-08 00:00:00-06:00  08/03/2011  00:00:00  104.74  104.82  104.74   \n",
       "2011-03-08 00:01:00-06:00  08/03/2011  00:01:00  104.82  104.84  104.82   \n",
       "2011-03-08 00:02:00-06:00  08/03/2011  00:02:00  104.81  104.81  104.73   \n",
       "2011-03-08 00:03:00-06:00  08/03/2011  00:03:00  104.74  104.76  104.71   \n",
       "...                               ...       ...     ...     ...     ...   \n",
       "2025-03-11 23:54:00-05:00  11/03/2025  23:54:00   66.75   66.75   66.75   \n",
       "2025-03-11 23:56:00-05:00  11/03/2025  23:56:00   66.75   66.75   66.74   \n",
       "2025-03-11 23:58:00-05:00  11/03/2025  23:58:00   66.75   66.75   66.75   \n",
       "2025-03-11 23:59:00-05:00  11/03/2025  23:59:00   66.75   66.75   66.75   \n",
       "2025-03-12 00:00:00-05:00  12/03/2025  00:00:00   66.74   66.76   66.71   \n",
       "\n",
       "                            Close  Volume            Datetime  Percent_Change  \n",
       "Datetime_CST                                                                   \n",
       "2011-03-07 23:59:00-06:00  104.73      18 2011-03-07 23:59:00             NaN  \n",
       "2011-03-08 00:00:00-06:00  104.81      34 2011-03-08 00:00:00        0.076387  \n",
       "2011-03-08 00:01:00-06:00  104.82      12 2011-03-08 00:01:00        0.009541  \n",
       "2011-03-08 00:02:00-06:00  104.75      20 2011-03-08 00:02:00       -0.066781  \n",
       "2011-03-08 00:03:00-06:00  104.76      25 2011-03-08 00:03:00        0.009547  \n",
       "...                           ...     ...                 ...             ...  \n",
       "2025-03-11 23:54:00-05:00   66.75      13 2025-03-11 23:54:00        0.000000  \n",
       "2025-03-11 23:56:00-05:00   66.74       3 2025-03-11 23:56:00       -0.014981  \n",
       "2025-03-11 23:58:00-05:00   66.75       3 2025-03-11 23:58:00        0.014984  \n",
       "2025-03-11 23:59:00-05:00   66.75       1 2025-03-11 23:59:00        0.000000  \n",
       "2025-03-12 00:00:00-05:00   66.75      41 2025-03-12 00:00:00        0.000000  \n",
       "\n",
       "[4811559 rows x 9 columns]"
      ]
     },
     "metadata": {},
     "output_type": "display_data"
    }
   ],
   "source": [
    "min_WTI.describe().apply(lambda s: s.apply('{0:.5f}'.format))\n",
    "display(min_WTI)"
   ]
  },
  {
   "cell_type": "code",
   "execution_count": null,
   "metadata": {},
   "outputs": [],
   "source": [
    "'''\n",
    "price_change_columns_eia = [\n",
    "    '1_Minute_Percent_Price_Change',\n",
    "    '5_Minute_Percent_Price_Change',\n",
    "    '10_Minute_Percent_Price_Change',\n",
    "    '1_Hour_Percent_Price_Change'\n",
    "]\n",
    "\n",
    "print(\"Kolmogorov-Smirnov Test Comparing Distributions:\\n\"\n",
    "      \"  Distribution 1: One-Minute Percentage Price Changes (All Minutes)\\n\"\n",
    "      \"  Distribution 2: Percentage Price Changes After EIA WPSR Release (at different intervals)\\n\\n\")\n",
    "\n",
    "for col_eia in price_change_columns_eia:\n",
    "    price_change_data_eia = icom_eia_forecasts[col_eia].dropna() # Drop NA values from EIA release price changes\n",
    "\n",
    "    # Ensure both datasets have data to compare, if not skip this column\n",
    "    if price_change_data_eia.empty or percentage_price_changes_1min_oih_series.empty:\n",
    "        print(f\"Warning: Skipping KS test for {col_eia} due to empty data in one or both samples.\")\n",
    "        print(\"-\" * 40)\n",
    "        continue\n",
    "\n",
    "\n",
    "    # Perform 2-sample Kolmogorov-Smirnov test to compare EIA release price changes vs. all 1-minute price changes\n",
    "    ks_statistic_2samp, p_value_2samp = stats.ks_2samp(price_change_data_eia, percentage_price_changes_1min_oih_series)\n",
    "\n",
    "    print(f\"EIA Release Price Change Column: {col_eia}\")\n",
    "    print(f\"KS Statistic (2-sample): {ks_statistic_2samp:.4f}\")\n",
    "    print(f\"P-value (2-sample): {p_value_2samp:.4f}\")\n",
    "\n",
    "    alpha = 0.05  # Significance level\n",
    "    if p_value_2samp < alpha:\n",
    "        print(f\"P-value < {alpha}: Reject the null hypothesis. Distributions are significantly different.\\n\")\n",
    "    else:\n",
    "        print(f\"P-value >= {alpha}: Fail to reject the null hypothesis. Distributions are not significantly different (at alpha={alpha}).\\n\")\n",
    "    print(\"-\" * 40)\n",
    "'''"
   ]
  },
  {
   "cell_type": "code",
   "execution_count": 54,
   "metadata": {},
   "outputs": [
    {
     "name": "stdout",
     "output_type": "stream",
     "text": [
      "Price data windows extracted successfully!\n",
      "\n",
      "Shape of price_window_60min: (88344, 10)\n"
     ]
    }
   ],
   "source": [
    "def get_price_windows(eia_release_times, price_data, window_minutes_before=60, window_minutes_after=60):\n",
    "    \"\"\"\n",
    "    Extracts price data windows around EIA report release times.\n",
    "\n",
    "    Args:\n",
    "        eia_release_times (pd.DatetimeIndex): Index of icom_eia_forecasts (release datetimes).\n",
    "        price_data (pd.DataFrame): min_res_OIH dataframe with Datetime index.\n",
    "        window_minutes_before (int): Minutes to include before release time.\n",
    "        window_minutes_after (int): Minutes to include after release time.\n",
    "\n",
    "    Returns:\n",
    "        pd.DataFrame: A DataFrame containing price data for all events, within the specified windows.\n",
    "                      Returns an empty DataFrame if no data is found within any window.\n",
    "    \"\"\"\n",
    "    price_windows_list = []\n",
    "\n",
    "    for release_time in eia_release_times:\n",
    "        start_time = release_time - pd.Timedelta(minutes=window_minutes_before)\n",
    "        #print(start_time)\n",
    "        end_time = release_time + pd.Timedelta(minutes=window_minutes_after)\n",
    "        #print(end_time)\n",
    "\n",
    "        # Select rows from min_res_OIH within the time window\n",
    "        window_data = price_data.loc[start_time:end_time].copy()\n",
    "        #display(window_data.head)\n",
    "\n",
    "        if not window_data.empty: # Only append if there is data in the window\n",
    "            window_data['Release_Datetime'] = release_time # Add release time as a column for reference\n",
    "            price_windows_list.append(window_data)\n",
    "\n",
    "    if price_windows_list:\n",
    "        price_windows_df = pd.concat(price_windows_list)\n",
    "        return price_windows_df\n",
    "    else:\n",
    "        return pd.DataFrame() # Return empty DataFrame if no data found in any window\n",
    "\n",
    "# --- Extract Price Windows ---\n",
    "price_window_60min = get_price_windows(icom_eia_forecasts.index, min_WTI, window_minutes_before=60, window_minutes_after=60)\n",
    "price_window_60min.sort_index(inplace=True)\n",
    "if not price_window_60min.empty:\n",
    "    print(\"Price data windows extracted successfully!\")\n",
    "    print(f\"\\nShape of price_window_60min: {price_window_60min.shape}\")\n",
    "else:\n",
    "    print(\"No price data found within the specified windows around EIA releases.\")\n"
   ]
  },
  {
   "cell_type": "code",
   "execution_count": 55,
   "metadata": {},
   "outputs": [
    {
     "data": {
      "text/html": [
       "<div>\n",
       "<style scoped>\n",
       "    .dataframe tbody tr th:only-of-type {\n",
       "        vertical-align: middle;\n",
       "    }\n",
       "\n",
       "    .dataframe tbody tr th {\n",
       "        vertical-align: top;\n",
       "    }\n",
       "\n",
       "    .dataframe thead th {\n",
       "        text-align: right;\n",
       "    }\n",
       "</style>\n",
       "<table border=\"1\" class=\"dataframe\">\n",
       "  <thead>\n",
       "    <tr style=\"text-align: right;\">\n",
       "      <th></th>\n",
       "      <th>Date</th>\n",
       "      <th>Time</th>\n",
       "      <th>Open</th>\n",
       "      <th>High</th>\n",
       "      <th>Low</th>\n",
       "      <th>Close</th>\n",
       "      <th>Volume</th>\n",
       "      <th>Datetime</th>\n",
       "      <th>Percent_Change</th>\n",
       "      <th>Release_Datetime</th>\n",
       "    </tr>\n",
       "    <tr>\n",
       "      <th>Datetime_CST</th>\n",
       "      <th></th>\n",
       "      <th></th>\n",
       "      <th></th>\n",
       "      <th></th>\n",
       "      <th></th>\n",
       "      <th></th>\n",
       "      <th></th>\n",
       "      <th></th>\n",
       "      <th></th>\n",
       "      <th></th>\n",
       "    </tr>\n",
       "  </thead>\n",
       "  <tbody>\n",
       "    <tr>\n",
       "      <th>2011-03-09 08:30:00-06:00</th>\n",
       "      <td>09/03/2011</td>\n",
       "      <td>08:30:00</td>\n",
       "      <td>105.56</td>\n",
       "      <td>105.56</td>\n",
       "      <td>105.44</td>\n",
       "      <td>105.46</td>\n",
       "      <td>514</td>\n",
       "      <td>2011-03-09 08:30:00</td>\n",
       "      <td>-0.094733</td>\n",
       "      <td>2011-03-09 09:30:00-06:00</td>\n",
       "    </tr>\n",
       "    <tr>\n",
       "      <th>2011-03-09 08:31:00-06:00</th>\n",
       "      <td>09/03/2011</td>\n",
       "      <td>08:31:00</td>\n",
       "      <td>105.46</td>\n",
       "      <td>105.52</td>\n",
       "      <td>105.45</td>\n",
       "      <td>105.46</td>\n",
       "      <td>323</td>\n",
       "      <td>2011-03-09 08:31:00</td>\n",
       "      <td>0.000000</td>\n",
       "      <td>2011-03-09 09:30:00-06:00</td>\n",
       "    </tr>\n",
       "    <tr>\n",
       "      <th>2011-03-09 08:32:00-06:00</th>\n",
       "      <td>09/03/2011</td>\n",
       "      <td>08:32:00</td>\n",
       "      <td>105.45</td>\n",
       "      <td>105.47</td>\n",
       "      <td>105.31</td>\n",
       "      <td>105.32</td>\n",
       "      <td>899</td>\n",
       "      <td>2011-03-09 08:32:00</td>\n",
       "      <td>-0.132752</td>\n",
       "      <td>2011-03-09 09:30:00-06:00</td>\n",
       "    </tr>\n",
       "    <tr>\n",
       "      <th>2011-03-09 08:33:00-06:00</th>\n",
       "      <td>09/03/2011</td>\n",
       "      <td>08:33:00</td>\n",
       "      <td>105.31</td>\n",
       "      <td>105.37</td>\n",
       "      <td>105.25</td>\n",
       "      <td>105.33</td>\n",
       "      <td>716</td>\n",
       "      <td>2011-03-09 08:33:00</td>\n",
       "      <td>0.009495</td>\n",
       "      <td>2011-03-09 09:30:00-06:00</td>\n",
       "    </tr>\n",
       "    <tr>\n",
       "      <th>2011-03-09 08:34:00-06:00</th>\n",
       "      <td>09/03/2011</td>\n",
       "      <td>08:34:00</td>\n",
       "      <td>105.34</td>\n",
       "      <td>105.45</td>\n",
       "      <td>105.31</td>\n",
       "      <td>105.40</td>\n",
       "      <td>660</td>\n",
       "      <td>2011-03-09 08:34:00</td>\n",
       "      <td>0.066458</td>\n",
       "      <td>2011-03-09 09:30:00-06:00</td>\n",
       "    </tr>\n",
       "    <tr>\n",
       "      <th>...</th>\n",
       "      <td>...</td>\n",
       "      <td>...</td>\n",
       "      <td>...</td>\n",
       "      <td>...</td>\n",
       "      <td>...</td>\n",
       "      <td>...</td>\n",
       "      <td>...</td>\n",
       "      <td>...</td>\n",
       "      <td>...</td>\n",
       "      <td>...</td>\n",
       "    </tr>\n",
       "    <tr>\n",
       "      <th>2025-03-05 10:26:00-06:00</th>\n",
       "      <td>05/03/2025</td>\n",
       "      <td>10:26:00</td>\n",
       "      <td>65.42</td>\n",
       "      <td>65.46</td>\n",
       "      <td>65.37</td>\n",
       "      <td>65.38</td>\n",
       "      <td>713</td>\n",
       "      <td>2025-03-05 10:26:00</td>\n",
       "      <td>-0.061143</td>\n",
       "      <td>2025-03-05 09:30:00-06:00</td>\n",
       "    </tr>\n",
       "    <tr>\n",
       "      <th>2025-03-05 10:27:00-06:00</th>\n",
       "      <td>05/03/2025</td>\n",
       "      <td>10:27:00</td>\n",
       "      <td>65.37</td>\n",
       "      <td>65.41</td>\n",
       "      <td>65.37</td>\n",
       "      <td>65.39</td>\n",
       "      <td>640</td>\n",
       "      <td>2025-03-05 10:27:00</td>\n",
       "      <td>0.015295</td>\n",
       "      <td>2025-03-05 09:30:00-06:00</td>\n",
       "    </tr>\n",
       "    <tr>\n",
       "      <th>2025-03-05 10:28:00-06:00</th>\n",
       "      <td>05/03/2025</td>\n",
       "      <td>10:28:00</td>\n",
       "      <td>65.40</td>\n",
       "      <td>65.42</td>\n",
       "      <td>65.33</td>\n",
       "      <td>65.36</td>\n",
       "      <td>796</td>\n",
       "      <td>2025-03-05 10:28:00</td>\n",
       "      <td>-0.045879</td>\n",
       "      <td>2025-03-05 09:30:00-06:00</td>\n",
       "    </tr>\n",
       "    <tr>\n",
       "      <th>2025-03-05 10:29:00-06:00</th>\n",
       "      <td>05/03/2025</td>\n",
       "      <td>10:29:00</td>\n",
       "      <td>65.35</td>\n",
       "      <td>65.40</td>\n",
       "      <td>65.35</td>\n",
       "      <td>65.37</td>\n",
       "      <td>658</td>\n",
       "      <td>2025-03-05 10:29:00</td>\n",
       "      <td>0.015300</td>\n",
       "      <td>2025-03-05 09:30:00-06:00</td>\n",
       "    </tr>\n",
       "    <tr>\n",
       "      <th>2025-03-05 10:30:00-06:00</th>\n",
       "      <td>05/03/2025</td>\n",
       "      <td>10:30:00</td>\n",
       "      <td>65.38</td>\n",
       "      <td>65.45</td>\n",
       "      <td>65.34</td>\n",
       "      <td>65.43</td>\n",
       "      <td>842</td>\n",
       "      <td>2025-03-05 10:30:00</td>\n",
       "      <td>0.091785</td>\n",
       "      <td>2025-03-05 09:30:00-06:00</td>\n",
       "    </tr>\n",
       "  </tbody>\n",
       "</table>\n",
       "<p>88344 rows × 10 columns</p>\n",
       "</div>"
      ],
      "text/plain": [
       "                                 Date      Time    Open    High     Low  \\\n",
       "Datetime_CST                                                              \n",
       "2011-03-09 08:30:00-06:00  09/03/2011  08:30:00  105.56  105.56  105.44   \n",
       "2011-03-09 08:31:00-06:00  09/03/2011  08:31:00  105.46  105.52  105.45   \n",
       "2011-03-09 08:32:00-06:00  09/03/2011  08:32:00  105.45  105.47  105.31   \n",
       "2011-03-09 08:33:00-06:00  09/03/2011  08:33:00  105.31  105.37  105.25   \n",
       "2011-03-09 08:34:00-06:00  09/03/2011  08:34:00  105.34  105.45  105.31   \n",
       "...                               ...       ...     ...     ...     ...   \n",
       "2025-03-05 10:26:00-06:00  05/03/2025  10:26:00   65.42   65.46   65.37   \n",
       "2025-03-05 10:27:00-06:00  05/03/2025  10:27:00   65.37   65.41   65.37   \n",
       "2025-03-05 10:28:00-06:00  05/03/2025  10:28:00   65.40   65.42   65.33   \n",
       "2025-03-05 10:29:00-06:00  05/03/2025  10:29:00   65.35   65.40   65.35   \n",
       "2025-03-05 10:30:00-06:00  05/03/2025  10:30:00   65.38   65.45   65.34   \n",
       "\n",
       "                            Close  Volume            Datetime  Percent_Change  \\\n",
       "Datetime_CST                                                                    \n",
       "2011-03-09 08:30:00-06:00  105.46     514 2011-03-09 08:30:00       -0.094733   \n",
       "2011-03-09 08:31:00-06:00  105.46     323 2011-03-09 08:31:00        0.000000   \n",
       "2011-03-09 08:32:00-06:00  105.32     899 2011-03-09 08:32:00       -0.132752   \n",
       "2011-03-09 08:33:00-06:00  105.33     716 2011-03-09 08:33:00        0.009495   \n",
       "2011-03-09 08:34:00-06:00  105.40     660 2011-03-09 08:34:00        0.066458   \n",
       "...                           ...     ...                 ...             ...   \n",
       "2025-03-05 10:26:00-06:00   65.38     713 2025-03-05 10:26:00       -0.061143   \n",
       "2025-03-05 10:27:00-06:00   65.39     640 2025-03-05 10:27:00        0.015295   \n",
       "2025-03-05 10:28:00-06:00   65.36     796 2025-03-05 10:28:00       -0.045879   \n",
       "2025-03-05 10:29:00-06:00   65.37     658 2025-03-05 10:29:00        0.015300   \n",
       "2025-03-05 10:30:00-06:00   65.43     842 2025-03-05 10:30:00        0.091785   \n",
       "\n",
       "                                   Release_Datetime  \n",
       "Datetime_CST                                         \n",
       "2011-03-09 08:30:00-06:00 2011-03-09 09:30:00-06:00  \n",
       "2011-03-09 08:31:00-06:00 2011-03-09 09:30:00-06:00  \n",
       "2011-03-09 08:32:00-06:00 2011-03-09 09:30:00-06:00  \n",
       "2011-03-09 08:33:00-06:00 2011-03-09 09:30:00-06:00  \n",
       "2011-03-09 08:34:00-06:00 2011-03-09 09:30:00-06:00  \n",
       "...                                             ...  \n",
       "2025-03-05 10:26:00-06:00 2025-03-05 09:30:00-06:00  \n",
       "2025-03-05 10:27:00-06:00 2025-03-05 09:30:00-06:00  \n",
       "2025-03-05 10:28:00-06:00 2025-03-05 09:30:00-06:00  \n",
       "2025-03-05 10:29:00-06:00 2025-03-05 09:30:00-06:00  \n",
       "2025-03-05 10:30:00-06:00 2025-03-05 09:30:00-06:00  \n",
       "\n",
       "[88344 rows x 10 columns]"
      ]
     },
     "metadata": {},
     "output_type": "display_data"
    }
   ],
   "source": [
    "display(price_window_60min)"
   ]
  },
  {
   "cell_type": "code",
   "execution_count": 56,
   "metadata": {},
   "outputs": [
    {
     "data": {
      "application/vnd.plotly.v1+json": {
       "config": {
        "plotlyServerURL": "https://plot.ly"
       },
       "data": [
        {
         "hovertemplate": "Time to Release: %{x:.0f} minutes<br>Average Volume: %{y:.0f}<extra></extra>",
         "marker": {
          "size": 8
         },
         "mode": "markers",
         "text": {
          "bdata": "N8Z+opA5hEDWq1evXtWAQH5hKbnY/31AINpNNQQCfUBd7AtLyb17QDx37ty5035A8xlnATZnfUB9xlmAzQ97QGVURmVUKHpAXiKrvN+VeUDrMocXhU18QLSX0F5Ce3pAC7D5jLMweUA5JYZSncB5QIM5pn8ycHlAhNR1uD3IfEBeFDbWzit7QEz/ZDDH5HhArLmaq7lSeUCvN3NV5Gx6QK2DGE6zcHtAXhy97NTgeUCAMphj+qd4QH/vRiZL2ndAOi40sfKBeEBOYNebudp6QHZiJ3Ziu3hAeq1iv3dDeEDDaRZAq5V3QEYot2+TkXtAwmKSeoaMkEA5etmpwWWKQHTnzp07i4ZAfDcyWdK5g0C/sJRc7F+CQPGtKB4Jc4RA73eJrPK6gkDIn2H6j2aBQNpNNQSi9YBAP1HIjKrrf0ALRii3b5uBQJQu4Yc0bn9A/0ul+M4Tf0CTgQpGKHd9QCx50iX8MHxAnLkqck5ggUBh3h9/Tyd/QOtzr5EgiX9AYuWjRHScfkBrHcRwmoV/QIMRyu3blIBAyN/T2VYofkDecqgNW7R8QFMpvvNYtnxA8vd0thVGfEC0m2oIRKt9QCVPuoQf8npA46HrySlRe0C73sxVkfN5QE5g15u5+n1AkRlVN8bYoEBNWVPWlEmWQMgy/ZdKkZJAURu2aA8cj0CV4juPZSqNQO+Pv6ezSZFA+ieDOaZfjkCeO3fu3BGLQEMSrAY1GYpAIQlWg5oYiUBRPBK+Ff2KQPN+l8gqx4hAZJX3u0T6hkBHJ+hpbdCFQIVvRfFItIVARowYMWLgiECJCrINAf2GQDAsJRf7ioZA3u8SWeW9hUCt8n6XyN6DQA+3B6nrxIZAPuMswOZ/hECXyCrvdzGEQL4VxSPhq4JAeLo1Pyyig0Dl/S6RVcaFQFJv+1S+woRA7ty5c+eGgkD8XSKrvNOCQLzHe7zHcoNAntcq9nuni0BrruZqrnyHQIRDOIRDooRAm6u5mquChECKndiJnQuGQAMt0AItkYZAZUlHve1rhEDTf7Quc/iCQKZf+qVf+IFAeLo1Pyz6gUBdh9uD1LmDQH2UiI4L1YFAST1DwAEhg0Ck8UqedAmCQFMNgWg3+YBAGfuJQma8hEC3wrw//laCQHa9masid4FACDggLCZZgUD3bTJQwRCBQFNysS8srYJABXa9matKgkDxQxqv5GGBQCDSeCVP6oBAUs8QcEAAgkBH3BF3xI2CQPKkS/ghFYFAiIeHh4f3gEDi9iB1HeKBQD/3GgmSVYpA/JDGK3n+q0A=",
          "dtype": "f8"
         },
         "type": "scatter",
         "x": {
          "bdata": "AAAAAAAATsAAAAAAAIBNwAAAAAAAAE3AAAAAAACATMAAAAAAAABMwAAAAAAAgEvAAAAAAAAAS8AAAAAAAIBKwAAAAAAAAErAAAAAAACAScAAAAAAAABJwAAAAAAAgEjAAAAAAAAASMAAAAAAAIBHwAAAAAAAAEfAAAAAAACARsAAAAAAAABGwAAAAAAAgEXAAAAAAAAARcAAAAAAAIBEwAAAAAAAAETAAAAAAACAQ8AAAAAAAABDwAAAAAAAgELAAAAAAAAAQsAAAAAAAIBBwAAAAAAAAEHAAAAAAACAQMAAAAAAAABAwAAAAAAAAD/AAAAAAAAAPsAAAAAAAAA9wAAAAAAAADzAAAAAAAAAO8AAAAAAAAA6wAAAAAAAADnAAAAAAAAAOMAAAAAAAAA3wAAAAAAAADbAAAAAAAAANcAAAAAAAAA0wAAAAAAAADPAAAAAAAAAMsAAAAAAAAAxwAAAAAAAADDAAAAAAAAALsAAAAAAAAAswAAAAAAAACrAAAAAAAAAKMAAAAAAAAAmwAAAAAAAACTAAAAAAAAAIsAAAAAAAAAgwAAAAAAAABzAAAAAAAAAGMAAAAAAAAAUwAAAAAAAABDAAAAAAAAACMAAAAAAAAAAwAAAAAAAAPC/AAAAAAAAAAAAAAAAAADwPwAAAAAAAABAAAAAAAAACEAAAAAAAAAQQAAAAAAAABRAAAAAAAAAGEAAAAAAAAAcQAAAAAAAACBAAAAAAAAAIkAAAAAAAAAkQAAAAAAAACZAAAAAAAAAKEAAAAAAAAAqQAAAAAAAACxAAAAAAAAALkAAAAAAAAAwQAAAAAAAADFAAAAAAAAAMkAAAAAAAAAzQAAAAAAAADRAAAAAAAAANUAAAAAAAAA2QAAAAAAAADdAAAAAAAAAOEAAAAAAAAA5QAAAAAAAADpAAAAAAAAAO0AAAAAAAAA8QAAAAAAAAD1AAAAAAAAAPkAAAAAAAAA/QAAAAAAAAEBAAAAAAACAQEAAAAAAAABBQAAAAAAAgEFAAAAAAAAAQkAAAAAAAIBCQAAAAAAAAENAAAAAAACAQ0AAAAAAAABEQAAAAAAAgERAAAAAAAAARUAAAAAAAIBFQAAAAAAAAEZAAAAAAACARkAAAAAAAABHQAAAAAAAgEdAAAAAAAAASEAAAAAAAIBIQAAAAAAAAElAAAAAAACASUAAAAAAAABKQAAAAAAAgEpAAAAAAAAAS0AAAAAAAIBLQAAAAAAAAExAAAAAAACATEAAAAAAAABNQAAAAAAAgE1AAAAAAAAATkA=",
          "dtype": "f8"
         },
         "y": {
          "bdata": "N8Z+opA5hEDWq1evXtWAQH5hKbnY/31AINpNNQQCfUBd7AtLyb17QDx37ty5035A8xlnATZnfUB9xlmAzQ97QGVURmVUKHpAXiKrvN+VeUDrMocXhU18QLSX0F5Ce3pAC7D5jLMweUA5JYZSncB5QIM5pn8ycHlAhNR1uD3IfEBeFDbWzit7QEz/ZDDH5HhArLmaq7lSeUCvN3NV5Gx6QK2DGE6zcHtAXhy97NTgeUCAMphj+qd4QH/vRiZL2ndAOi40sfKBeEBOYNebudp6QHZiJ3Ziu3hAeq1iv3dDeEDDaRZAq5V3QEYot2+TkXtAwmKSeoaMkEA5etmpwWWKQHTnzp07i4ZAfDcyWdK5g0C/sJRc7F+CQPGtKB4Jc4RA73eJrPK6gkDIn2H6j2aBQNpNNQSi9YBAP1HIjKrrf0ALRii3b5uBQJQu4Yc0bn9A/0ul+M4Tf0CTgQpGKHd9QCx50iX8MHxAnLkqck5ggUBh3h9/Tyd/QOtzr5EgiX9AYuWjRHScfkBrHcRwmoV/QIMRyu3blIBAyN/T2VYofkDecqgNW7R8QFMpvvNYtnxA8vd0thVGfEC0m2oIRKt9QCVPuoQf8npA46HrySlRe0C73sxVkfN5QE5g15u5+n1AkRlVN8bYoEBNWVPWlEmWQMgy/ZdKkZJAURu2aA8cj0CV4juPZSqNQO+Pv6ezSZFA+ieDOaZfjkCeO3fu3BGLQEMSrAY1GYpAIQlWg5oYiUBRPBK+Ff2KQPN+l8gqx4hAZJX3u0T6hkBHJ+hpbdCFQIVvRfFItIVARowYMWLgiECJCrINAf2GQDAsJRf7ioZA3u8SWeW9hUCt8n6XyN6DQA+3B6nrxIZAPuMswOZ/hECXyCrvdzGEQL4VxSPhq4JAeLo1Pyyig0Dl/S6RVcaFQFJv+1S+woRA7ty5c+eGgkD8XSKrvNOCQLzHe7zHcoNAntcq9nuni0BrruZqrnyHQIRDOIRDooRAm6u5mquChECKndiJnQuGQAMt0AItkYZAZUlHve1rhEDTf7Quc/iCQKZf+qVf+IFAeLo1Pyz6gUBdh9uD1LmDQH2UiI4L1YFAST1DwAEhg0Ck8UqedAmCQFMNgWg3+YBAGfuJQma8hEC3wrw//laCQHa9masid4FACDggLCZZgUD3bTJQwRCBQFNysS8srYJABXa9matKgkDxQxqv5GGBQCDSeCVP6oBAUs8QcEAAgkBH3BF3xI2CQPKkS/ghFYFAiIeHh4f3gEDi9iB1HeKBQD/3GgmSVYpA/JDGK3n+q0A=",
          "dtype": "f8"
         }
        }
       ],
       "layout": {
        "hovermode": "closest",
        "template": {
         "data": {
          "bar": [
           {
            "error_x": {
             "color": "#2a3f5f"
            },
            "error_y": {
             "color": "#2a3f5f"
            },
            "marker": {
             "line": {
              "color": "#E5ECF6",
              "width": 0.5
             },
             "pattern": {
              "fillmode": "overlay",
              "size": 10,
              "solidity": 0.2
             }
            },
            "type": "bar"
           }
          ],
          "barpolar": [
           {
            "marker": {
             "line": {
              "color": "#E5ECF6",
              "width": 0.5
             },
             "pattern": {
              "fillmode": "overlay",
              "size": 10,
              "solidity": 0.2
             }
            },
            "type": "barpolar"
           }
          ],
          "carpet": [
           {
            "aaxis": {
             "endlinecolor": "#2a3f5f",
             "gridcolor": "white",
             "linecolor": "white",
             "minorgridcolor": "white",
             "startlinecolor": "#2a3f5f"
            },
            "baxis": {
             "endlinecolor": "#2a3f5f",
             "gridcolor": "white",
             "linecolor": "white",
             "minorgridcolor": "white",
             "startlinecolor": "#2a3f5f"
            },
            "type": "carpet"
           }
          ],
          "choropleth": [
           {
            "colorbar": {
             "outlinewidth": 0,
             "ticks": ""
            },
            "type": "choropleth"
           }
          ],
          "contour": [
           {
            "colorbar": {
             "outlinewidth": 0,
             "ticks": ""
            },
            "colorscale": [
             [
              0,
              "#0d0887"
             ],
             [
              0.1111111111111111,
              "#46039f"
             ],
             [
              0.2222222222222222,
              "#7201a8"
             ],
             [
              0.3333333333333333,
              "#9c179e"
             ],
             [
              0.4444444444444444,
              "#bd3786"
             ],
             [
              0.5555555555555556,
              "#d8576b"
             ],
             [
              0.6666666666666666,
              "#ed7953"
             ],
             [
              0.7777777777777778,
              "#fb9f3a"
             ],
             [
              0.8888888888888888,
              "#fdca26"
             ],
             [
              1,
              "#f0f921"
             ]
            ],
            "type": "contour"
           }
          ],
          "contourcarpet": [
           {
            "colorbar": {
             "outlinewidth": 0,
             "ticks": ""
            },
            "type": "contourcarpet"
           }
          ],
          "heatmap": [
           {
            "colorbar": {
             "outlinewidth": 0,
             "ticks": ""
            },
            "colorscale": [
             [
              0,
              "#0d0887"
             ],
             [
              0.1111111111111111,
              "#46039f"
             ],
             [
              0.2222222222222222,
              "#7201a8"
             ],
             [
              0.3333333333333333,
              "#9c179e"
             ],
             [
              0.4444444444444444,
              "#bd3786"
             ],
             [
              0.5555555555555556,
              "#d8576b"
             ],
             [
              0.6666666666666666,
              "#ed7953"
             ],
             [
              0.7777777777777778,
              "#fb9f3a"
             ],
             [
              0.8888888888888888,
              "#fdca26"
             ],
             [
              1,
              "#f0f921"
             ]
            ],
            "type": "heatmap"
           }
          ],
          "histogram": [
           {
            "marker": {
             "pattern": {
              "fillmode": "overlay",
              "size": 10,
              "solidity": 0.2
             }
            },
            "type": "histogram"
           }
          ],
          "histogram2d": [
           {
            "colorbar": {
             "outlinewidth": 0,
             "ticks": ""
            },
            "colorscale": [
             [
              0,
              "#0d0887"
             ],
             [
              0.1111111111111111,
              "#46039f"
             ],
             [
              0.2222222222222222,
              "#7201a8"
             ],
             [
              0.3333333333333333,
              "#9c179e"
             ],
             [
              0.4444444444444444,
              "#bd3786"
             ],
             [
              0.5555555555555556,
              "#d8576b"
             ],
             [
              0.6666666666666666,
              "#ed7953"
             ],
             [
              0.7777777777777778,
              "#fb9f3a"
             ],
             [
              0.8888888888888888,
              "#fdca26"
             ],
             [
              1,
              "#f0f921"
             ]
            ],
            "type": "histogram2d"
           }
          ],
          "histogram2dcontour": [
           {
            "colorbar": {
             "outlinewidth": 0,
             "ticks": ""
            },
            "colorscale": [
             [
              0,
              "#0d0887"
             ],
             [
              0.1111111111111111,
              "#46039f"
             ],
             [
              0.2222222222222222,
              "#7201a8"
             ],
             [
              0.3333333333333333,
              "#9c179e"
             ],
             [
              0.4444444444444444,
              "#bd3786"
             ],
             [
              0.5555555555555556,
              "#d8576b"
             ],
             [
              0.6666666666666666,
              "#ed7953"
             ],
             [
              0.7777777777777778,
              "#fb9f3a"
             ],
             [
              0.8888888888888888,
              "#fdca26"
             ],
             [
              1,
              "#f0f921"
             ]
            ],
            "type": "histogram2dcontour"
           }
          ],
          "mesh3d": [
           {
            "colorbar": {
             "outlinewidth": 0,
             "ticks": ""
            },
            "type": "mesh3d"
           }
          ],
          "parcoords": [
           {
            "line": {
             "colorbar": {
              "outlinewidth": 0,
              "ticks": ""
             }
            },
            "type": "parcoords"
           }
          ],
          "pie": [
           {
            "automargin": true,
            "type": "pie"
           }
          ],
          "scatter": [
           {
            "fillpattern": {
             "fillmode": "overlay",
             "size": 10,
             "solidity": 0.2
            },
            "type": "scatter"
           }
          ],
          "scatter3d": [
           {
            "line": {
             "colorbar": {
              "outlinewidth": 0,
              "ticks": ""
             }
            },
            "marker": {
             "colorbar": {
              "outlinewidth": 0,
              "ticks": ""
             }
            },
            "type": "scatter3d"
           }
          ],
          "scattercarpet": [
           {
            "marker": {
             "colorbar": {
              "outlinewidth": 0,
              "ticks": ""
             }
            },
            "type": "scattercarpet"
           }
          ],
          "scattergeo": [
           {
            "marker": {
             "colorbar": {
              "outlinewidth": 0,
              "ticks": ""
             }
            },
            "type": "scattergeo"
           }
          ],
          "scattergl": [
           {
            "marker": {
             "colorbar": {
              "outlinewidth": 0,
              "ticks": ""
             }
            },
            "type": "scattergl"
           }
          ],
          "scattermap": [
           {
            "marker": {
             "colorbar": {
              "outlinewidth": 0,
              "ticks": ""
             }
            },
            "type": "scattermap"
           }
          ],
          "scattermapbox": [
           {
            "marker": {
             "colorbar": {
              "outlinewidth": 0,
              "ticks": ""
             }
            },
            "type": "scattermapbox"
           }
          ],
          "scatterpolar": [
           {
            "marker": {
             "colorbar": {
              "outlinewidth": 0,
              "ticks": ""
             }
            },
            "type": "scatterpolar"
           }
          ],
          "scatterpolargl": [
           {
            "marker": {
             "colorbar": {
              "outlinewidth": 0,
              "ticks": ""
             }
            },
            "type": "scatterpolargl"
           }
          ],
          "scatterternary": [
           {
            "marker": {
             "colorbar": {
              "outlinewidth": 0,
              "ticks": ""
             }
            },
            "type": "scatterternary"
           }
          ],
          "surface": [
           {
            "colorbar": {
             "outlinewidth": 0,
             "ticks": ""
            },
            "colorscale": [
             [
              0,
              "#0d0887"
             ],
             [
              0.1111111111111111,
              "#46039f"
             ],
             [
              0.2222222222222222,
              "#7201a8"
             ],
             [
              0.3333333333333333,
              "#9c179e"
             ],
             [
              0.4444444444444444,
              "#bd3786"
             ],
             [
              0.5555555555555556,
              "#d8576b"
             ],
             [
              0.6666666666666666,
              "#ed7953"
             ],
             [
              0.7777777777777778,
              "#fb9f3a"
             ],
             [
              0.8888888888888888,
              "#fdca26"
             ],
             [
              1,
              "#f0f921"
             ]
            ],
            "type": "surface"
           }
          ],
          "table": [
           {
            "cells": {
             "fill": {
              "color": "#EBF0F8"
             },
             "line": {
              "color": "white"
             }
            },
            "header": {
             "fill": {
              "color": "#C8D4E3"
             },
             "line": {
              "color": "white"
             }
            },
            "type": "table"
           }
          ]
         },
         "layout": {
          "annotationdefaults": {
           "arrowcolor": "#2a3f5f",
           "arrowhead": 0,
           "arrowwidth": 1
          },
          "autotypenumbers": "strict",
          "coloraxis": {
           "colorbar": {
            "outlinewidth": 0,
            "ticks": ""
           }
          },
          "colorscale": {
           "diverging": [
            [
             0,
             "#8e0152"
            ],
            [
             0.1,
             "#c51b7d"
            ],
            [
             0.2,
             "#de77ae"
            ],
            [
             0.3,
             "#f1b6da"
            ],
            [
             0.4,
             "#fde0ef"
            ],
            [
             0.5,
             "#f7f7f7"
            ],
            [
             0.6,
             "#e6f5d0"
            ],
            [
             0.7,
             "#b8e186"
            ],
            [
             0.8,
             "#7fbc41"
            ],
            [
             0.9,
             "#4d9221"
            ],
            [
             1,
             "#276419"
            ]
           ],
           "sequential": [
            [
             0,
             "#0d0887"
            ],
            [
             0.1111111111111111,
             "#46039f"
            ],
            [
             0.2222222222222222,
             "#7201a8"
            ],
            [
             0.3333333333333333,
             "#9c179e"
            ],
            [
             0.4444444444444444,
             "#bd3786"
            ],
            [
             0.5555555555555556,
             "#d8576b"
            ],
            [
             0.6666666666666666,
             "#ed7953"
            ],
            [
             0.7777777777777778,
             "#fb9f3a"
            ],
            [
             0.8888888888888888,
             "#fdca26"
            ],
            [
             1,
             "#f0f921"
            ]
           ],
           "sequentialminus": [
            [
             0,
             "#0d0887"
            ],
            [
             0.1111111111111111,
             "#46039f"
            ],
            [
             0.2222222222222222,
             "#7201a8"
            ],
            [
             0.3333333333333333,
             "#9c179e"
            ],
            [
             0.4444444444444444,
             "#bd3786"
            ],
            [
             0.5555555555555556,
             "#d8576b"
            ],
            [
             0.6666666666666666,
             "#ed7953"
            ],
            [
             0.7777777777777778,
             "#fb9f3a"
            ],
            [
             0.8888888888888888,
             "#fdca26"
            ],
            [
             1,
             "#f0f921"
            ]
           ]
          },
          "colorway": [
           "#636efa",
           "#EF553B",
           "#00cc96",
           "#ab63fa",
           "#FFA15A",
           "#19d3f3",
           "#FF6692",
           "#B6E880",
           "#FF97FF",
           "#FECB52"
          ],
          "font": {
           "color": "#2a3f5f"
          },
          "geo": {
           "bgcolor": "white",
           "lakecolor": "white",
           "landcolor": "#E5ECF6",
           "showlakes": true,
           "showland": true,
           "subunitcolor": "white"
          },
          "hoverlabel": {
           "align": "left"
          },
          "hovermode": "closest",
          "mapbox": {
           "style": "light"
          },
          "paper_bgcolor": "white",
          "plot_bgcolor": "#E5ECF6",
          "polar": {
           "angularaxis": {
            "gridcolor": "white",
            "linecolor": "white",
            "ticks": ""
           },
           "bgcolor": "#E5ECF6",
           "radialaxis": {
            "gridcolor": "white",
            "linecolor": "white",
            "ticks": ""
           }
          },
          "scene": {
           "xaxis": {
            "backgroundcolor": "#E5ECF6",
            "gridcolor": "white",
            "gridwidth": 2,
            "linecolor": "white",
            "showbackground": true,
            "ticks": "",
            "zerolinecolor": "white"
           },
           "yaxis": {
            "backgroundcolor": "#E5ECF6",
            "gridcolor": "white",
            "gridwidth": 2,
            "linecolor": "white",
            "showbackground": true,
            "ticks": "",
            "zerolinecolor": "white"
           },
           "zaxis": {
            "backgroundcolor": "#E5ECF6",
            "gridcolor": "white",
            "gridwidth": 2,
            "linecolor": "white",
            "showbackground": true,
            "ticks": "",
            "zerolinecolor": "white"
           }
          },
          "shapedefaults": {
           "line": {
            "color": "#2a3f5f"
           }
          },
          "ternary": {
           "aaxis": {
            "gridcolor": "white",
            "linecolor": "white",
            "ticks": ""
           },
           "baxis": {
            "gridcolor": "white",
            "linecolor": "white",
            "ticks": ""
           },
           "bgcolor": "#E5ECF6",
           "caxis": {
            "gridcolor": "white",
            "linecolor": "white",
            "ticks": ""
           }
          },
          "title": {
           "x": 0.05
          },
          "xaxis": {
           "automargin": true,
           "gridcolor": "white",
           "linecolor": "white",
           "ticks": "",
           "title": {
            "standoff": 15
           },
           "zerolinecolor": "white",
           "zerolinewidth": 2
          },
          "yaxis": {
           "automargin": true,
           "gridcolor": "white",
           "linecolor": "white",
           "ticks": "",
           "title": {
            "standoff": 15
           },
           "zerolinecolor": "white",
           "zerolinewidth": 2
          }
         }
        },
        "title": {
         "text": "Average Trading Volume Around EIA WPSR Release"
        },
        "xaxis": {
         "ticktext": [
          "-60",
          "-45",
          "-30",
          "-15",
          "Release",
          "+15",
          "+30",
          "+45",
          "+60"
         ],
         "tickvals": [
          -60,
          -45,
          -30,
          -15,
          0,
          15,
          30,
          45,
          60
         ],
         "title": {
          "text": "Minutes Relative to EIA Report Release"
         }
        },
        "yaxis": {
         "title": {
          "text": "Average Volume"
         }
        }
       }
      }
     },
     "metadata": {},
     "output_type": "display_data"
    }
   ],
   "source": [
    "\n",
    "# Assume your price_window_60min dataframe is already loaded\n",
    "# and has columns 'Datetime', 'Release_Datetime', and 'Volume'\n",
    "\n",
    "# --- Calculate Time to Release (in minutes) ---\n",
    "price_window_60min['Time_to_Release_Minutes'] = (price_window_60min.index - price_window_60min['Release_Datetime']).dt.total_seconds() / 60\n",
    "# --- Group by Time to Release and Calculate Average Volume ---\n",
    "average_volume_by_time = price_window_60min.groupby('Time_to_Release_Minutes')['Volume'].mean().reset_index()\n",
    "\n",
    "# --- Create Scatter Plot of Average Volume ---\n",
    "fig_volume_scatter = go.Figure(data=[go.Scatter(\n",
    "    x=average_volume_by_time['Time_to_Release_Minutes'],\n",
    "    y=average_volume_by_time['Volume'],\n",
    "    mode='markers', # Use markers for scatter plot\n",
    "    marker=dict(size=8),\n",
    "    text=average_volume_by_time['Volume'], # Hover text is the volume\n",
    "    hovertemplate=\"Time to Release: %{x:.0f} minutes<br>Average Volume: %{y:.0f}<extra></extra>\" # Custom hover template\n",
    ")])\n",
    "\n",
    "fig_volume_scatter.update_layout(\n",
    "\n",
    "    title='Average Trading Volume Around EIA WPSR Release',\n",
    "    xaxis_title='Minutes Relative to EIA Report Release',\n",
    "    yaxis_title='Average Volume',\n",
    "    xaxis=dict(\n",
    "        tickvals=[-60, -45, -30, -15, 0, 15, 30, 45, 60], # Define specific x-axis ticks\n",
    "        ticktext=['-60', '-45', '-30', '-15', 'Release', '+15', '+30', '+45', '+60'] # Custom tick labels\n",
    "    ),\n",
    "    hovermode=\"closest\"\n",
    ")\n",
    "\n",
    "fig_volume_scatter.show()"
   ]
  },
  {
   "cell_type": "markdown",
   "metadata": {},
   "source": [
    "#gonna ignore the huge uptick at +60 b/c im assuming it's the large institutional algos kicking in after market settles from EIA relase."
   ]
  },
  {
   "cell_type": "code",
   "execution_count": 108,
   "metadata": {},
   "outputs": [
    {
     "name": "stderr",
     "output_type": "stream",
     "text": [
      "C:\\Users\\evans\\AppData\\Local\\Temp\\ipykernel_23536\\1453523888.py:20: FutureWarning:\n",
      "\n",
      "The default of observed=False is deprecated and will be changed to True in a future version of pandas. Pass observed=False to retain current behavior or observed=True to adopt the future default and silence this warning.\n",
      "\n"
     ]
    },
    {
     "data": {
      "application/vnd.plotly.v1+json": {
       "config": {
        "plotlyServerURL": "https://plot.ly"
       },
       "data": [
        {
         "colorbar": {
          "title": {
           "text": "Frequency"
          }
         },
         "colorscale": [
          [
           0,
           "#440154"
          ],
          [
           0.1111111111111111,
           "#482878"
          ],
          [
           0.2222222222222222,
           "#3e4989"
          ],
          [
           0.3333333333333333,
           "#31688e"
          ],
          [
           0.4444444444444444,
           "#26828e"
          ],
          [
           0.5555555555555556,
           "#1f9e89"
          ],
          [
           0.6666666666666666,
           "#35b779"
          ],
          [
           0.7777777777777778,
           "#6ece58"
          ],
          [
           0.8888888888888888,
           "#b5de2b"
          ],
          [
           1,
           "#fde725"
          ]
         ],
         "type": "heatmap",
         "x": {
          "bdata": "AAAAAAAATsAAAAAAAIBNwAAAAAAAAE3AAAAAAACATMAAAAAAAABMwAAAAAAAgEvAAAAAAAAAS8AAAAAAAIBKwAAAAAAAAErAAAAAAACAScAAAAAAAABJwAAAAAAAgEjAAAAAAAAASMAAAAAAAIBHwAAAAAAAAEfAAAAAAACARsAAAAAAAABGwAAAAAAAgEXAAAAAAAAARcAAAAAAAIBEwAAAAAAAAETAAAAAAACAQ8AAAAAAAABDwAAAAAAAgELAAAAAAAAAQsAAAAAAAIBBwAAAAAAAAEHAAAAAAACAQMAAAAAAAABAwAAAAAAAAD/AAAAAAAAAPsAAAAAAAAA9wAAAAAAAADzAAAAAAAAAO8AAAAAAAAA6wAAAAAAAADnAAAAAAAAAOMAAAAAAAAA3wAAAAAAAADbAAAAAAAAANcAAAAAAAAA0wAAAAAAAADPAAAAAAAAAMsAAAAAAAAAxwAAAAAAAADDAAAAAAAAALsAAAAAAAAAswAAAAAAAACrAAAAAAAAAKMAAAAAAAAAmwAAAAAAAACTAAAAAAAAAIsAAAAAAAAAgwAAAAAAAABzAAAAAAAAAGMAAAAAAAAAUwAAAAAAAABDAAAAAAAAACMAAAAAAAAAAwAAAAAAAAPC/AAAAAAAAAAAAAAAAAADwPwAAAAAAAABAAAAAAAAACEAAAAAAAAAQQAAAAAAAABRAAAAAAAAAGEAAAAAAAAAcQAAAAAAAACBAAAAAAAAAIkAAAAAAAAAkQAAAAAAAACZAAAAAAAAAKEAAAAAAAAAqQAAAAAAAACxAAAAAAAAALkAAAAAAAAAwQAAAAAAAADFAAAAAAAAAMkAAAAAAAAAzQAAAAAAAADRAAAAAAAAANUAAAAAAAAA2QAAAAAAAADdAAAAAAAAAOEAAAAAAAAA5QAAAAAAAADpAAAAAAAAAO0AAAAAAAAA8QAAAAAAAAD1AAAAAAAAAPkAAAAAAAAA/QAAAAAAAAEBAAAAAAACAQEAAAAAAAABBQAAAAAAAgEFAAAAAAAAAQkAAAAAAAIBCQAAAAAAAAENAAAAAAACAQ0AAAAAAAABEQAAAAAAAgERAAAAAAAAARUAAAAAAAIBFQAAAAAAAAEZAAAAAAACARkAAAAAAAABHQAAAAAAAgEdAAAAAAAAASEAAAAAAAIBIQAAAAAAAAElAAAAAAACASUAAAAAAAABKQAAAAAAAgEpAAAAAAAAAS0AAAAAAAIBLQAAAAAAAAExAAAAAAACATEAAAAAAAABNQAAAAAAAgE1AAAAAAAAATkA=",
          "dtype": "f8"
         },
         "y": [
          "-1.00%",
          "-0.95%",
          "-0.90%",
          "-0.85%",
          "-0.80%",
          "-0.75%",
          "-0.70%",
          "-0.65%",
          "-0.60%",
          "-0.55%",
          "-0.50%",
          "-0.45%",
          "-0.40%",
          "-0.35%",
          "-0.30%",
          "-0.25%",
          "-0.20%",
          "-0.15%",
          "-0.10%",
          "-0.05%",
          "0.00%",
          "0.05%",
          "0.10%",
          "0.15%",
          "0.20%",
          "0.25%",
          "0.30%",
          "0.35%",
          "0.40%",
          "0.45%",
          "0.50%",
          "0.55%",
          "0.60%",
          "0.65%",
          "0.70%",
          "0.75%",
          "0.80%",
          "0.85%",
          "0.90%",
          "0.95%"
         ],
         "z": {
          "bdata": "AAAAAAAAAAAAAAAAAAAAAAAAAAAAAAAAAAAAAAAAAAABAAAAAAAAAAAAAAAAAAAAAAAAAAAAAAAAAAAAAAAAAAAAAAAAAAAAAAAAAAAAAAAAAAAAAAAAAAAAAAAAAAAAAAAAAAAAAAAAAAAAAAAAAAAAAAAAAAAABAAAAAAAAAAAAAAAAAAAAAAAAQAAAAAAAAAAAAAAAAAAAAAAAAAAAAAAAQAAAAAAAAAAAAAAAAAAAAAAAAAAAAAAAAAAAAAAAAAAAAAAAAAAAAAAAAAAAAAAAAAAAAAAAAABAAAAAAAAAAAAAAAAAAAAAAAAAAAAAgAAAAAAAAAAAAAAAAAAAAAAAAAAAAAAAAAAAAEAAAAAAAAAAAAAAAAAAAAAAAAAAAAAAAAAAAAAAAAAAAAAAAAAAAAAAAAAAAAAAAAAAAAAAAAAAAAAAAAAAAAAAAAAAAAAAAAAAAAAAAAAAAAAAAAAAAAAAAAAAAACAAAAAAAAAAAAAAAAAAAAAAAAAAAAAAAAAAAAAAAAAAAAAAAAAAAAAAAAAAEAAAAAAAAAAAAAAAAAAAAAAAAAAAAAAAAAAAAAAAAAAAAAAAAAAAAAAAAAAQAAAAAAAAAAAAAAAAAAAAAAAAAAAAAAAAAAAAAAAAACAAAAAAAAAAAAAAAAAAAAAAAAAAAAAAAAAAAAAAAAAAAAAAAAAAAAAAAAAAAAAAAAAAAAAAAAAAAAAAAAAAAAAAAAAAAAAAAAAAAAAAAAAAAAAAAAAAAAAAAAAAAAAAAAAAAAAAAAAAAAAAAAAAAAAAAAAAAAAAAAAAUAAQAAAAAAAAAAAAAAAAABAAAAAAAAAAAAAAAAAAAAAAAAAAAAAAAAAAAAAAAAAAAAAQAAAAAAAAAAAAAAAAAAAAAAAAABAAAAAAAAAAAAAAAAAAAAAAAAAAAAAAAAAAAAAAAAAAAAAAAAAAAAAAABAAAAAAAAAAIAAAAAAAAAAAAAAAAAAAAAAAAAAAAAAAAAAAAAAAEAAAAAAAAAAAAAAAAAAAAAAAAAAAAAAAAAAQAAAAAAAAAAAAAAAAAAAAAAAAAAAAAAAAAAAAAAAAAAAAAAAAAAAAAAAAAAAAAAAAAAAAAAAAAAAAAAAAAAAAAAAQAAAAAAAAAAAAAAAAAAAAAAAAAAAAAAAQAAAAAAAAAAAAAAAAAAAAAAAAAAAAAAAAAAAAAAAAAAAAAAAAAAAAAAAAAAAAAAAAAAAAAAAAAAAAAAAAABAAAAAAAAAAAAAAAAAAAAAAAAAAAAAAAAAAAAAAAAAAAABAABAAEAAAAAAAAAAQAAAAAAAAAAAAAAAAAAAAAAAAAAAAAAAAAAAAAAAAAAAAAAAAAAAAAAAAAAAAAAAAAAAAAAAAAAAAAAAAAAAAAAAAAAAAAAAAAAAAAAAAAAAAAAAAAAAAAAAAAAAAAAAAAAAAAAAAAAAAAAAAAAAAAAAAAAAAAAAQAAAAAAAAAAAAAAAAAAAAEAAAAAAAAAAAAAAAAAAQAAAAAAAAAAAAAAAAAAAAAAAAAAAAAAAAAAAAAAAAAAAAAAAAAAAAAAAAAAAAAAAAAAAAAAAAAAAAAAAAAAAAAAAAAAAAAAAAAAAAAAAQACAAAAAAAAAAAAAAAAAAAAAAAAAAAAAAAAAAAAAAAAAAAAAQAAAAAAAAAAAAAAAAAAAAAAAAAAAAAAAAAAAAAAAAAAAAAAAAABAAAAAQAAAAAAAAAAAAAAAAABAAAAAAAAAAAAAAAAAAAAAAAAAAAAAAAAAAAAAAAAAAIAAAAAAAAAAAAAAAEAAAAAAAAAAAAAAAAAAQAAAAAAAAAAAAAAAAAAAAAAAAAAAAAAAAAAAAAAAAAAAAEAAQAAAAAAAAAAAAAAAAAAAAAAAAAAAAAAAAAAAAEAAAAAAAAAAAAAAAAAAAAAAAAAAAAAAAAAAQABAAQAAQAAAAAAAAAAAAAAAAAAAAAAAAAAAAAAAQABAAAAAAAAAAAAAAAAAAAAAAAAAAAAAAAAAAAAAAAAAAAAAQAAAAAAAAAAAAAAAAABAAAAAAAAAAAAAAAAAAAAAAABAAAAAAAAAAAAAAAAAAAAAAAAAAAAAAAAAAAAAwAAAAAAAwABAAAAAAAAAAAAAAAAAAAAAAAAAAAAAAAAAAAAAAAAAAAAAAAAAAEAAAABAAAAAAAAAAAAAAAAAAAAAAAAAAAAAAABAAAAAAAAAAAAAAAAAAAAAAAAAAAAAAAAAAAAAAAAAAAAAAAAAAAAAAAAAAEABAAAAAAAAAAAAAAAAAAAAAAAAAAAAAAAAAAAAAAAAAAAAAAAAAAAAAEAAAABAAAAAAAAAAAAAAAAAAAAAQAAAAAAAAAAAAAAAAAAAAAAAQABAAAAAAAAAAAAAAAAAAAAAAAAAAAAAAAAAAAAAAAAAAAAAAAAAAAAAAACAAAAAQABAAAAAQAAAAEAAQAAAAAAAAAAAAAAAAAAAAEAAAAAAAEAAAABAAEAAAABAAEAAAABAAEAAAAAAAAAAAAAAAAAAAAAAAAAAAABAAAAAAAAAAAAAAAAAAAAAAABAAAAAAAAAAAAAAAAAAAAAAAAAAAAAQADAAAAAAABAAEAAAAAAAAAAAAAAAAAAAAAAAAAAAAAAAEAAAAAAAAAAAAAAAAAAAAAAAAAAAAAAAAAAAABAAAAAQAAAAAAAAAAAAAAAAAAAAAAAAAAAAAAAAAAAAAAAAAAAAAAAAAAAAAAAAAAAAAAAAAAAAAAAQAAAAYAAQAAAAEAAQACAAEAAAAAAAAAAQAAAAAAAAAAAAAAAAABAAAAAQAAAAAAAQAAAAAAAAAAAAAAAAAAAAAAAAABAAAAAAAAAAAAAAAAAAAAAAAAAAAAAAAAAAAAAAAAAAEAAAAAAAAAAAAAAAAAAAAAAAAAAAABAAoAAQABAAAAAAAAAAAAAAAAAAAAAAAAAAAAAAAAAAAAAQAAAAAAAAABAAAAAAAAAAAAAAABAAAAAAAAAAAAAAAAAAAAAAAAAAAAAAAAAAEAAAAAAAAAAAAAAAAAAAAAAAAAAAAAAAAAAAABAAAAAAABAAAAAAAAAAAABwABAAAAAAABAAAAAQAAAAIAAgAAAAAAAgABAAEAAAAAAAEAAAAAAAAAAQABAAAAAQABAAAAAAACAAEAAAAAAAAAAAAAAAEAAQAAAAAAAAABAAEAAAAAAAAAAAAAAAAAAAAAAAAAAAAAAAAAAAAAAAAAAAAAAAAABgAAAAAAAQAAAAAAAAAAAAAAAAAAAAAAAAABAAAAAAAAAAAAAAABAAEAAAAAAAAAAAAAAAAAAAAAAAAAAAAAAAMAAAAAAAAAAgAAAAAAAQAAAAAAAAAAAAEAAAAAAAAAAAAAAAAAAAAAAAAAAAAAAAAAAQAAAAAAAAAGAAIAAwABAAQAAQAAAAAAAgAAAAEAAAABAAAAAAABAAAAAAABAAEAAQABAAAAAAABAAEAAAAAAAEAAAABAAEAAQABAAAAAAABAAAAAAAAAAAAAAAAAAAAAAAAAAAAAAAAAAEAAAABAAEAAQAAAAAAAAABAAAAAgAQAAEAAAAAAAAAAQABAAEAAAABAAAAAAAAAAAAAAAAAAQAAQAAAAAAAAAAAAAAAAABAAAAAAABAAAAAAAAAAMAAwAAAAAAAQAAAAEAAQAAAAAAAAAAAAEAAAACAAIAAQAAAAEAAAAAAAEAAAAAAAMAAAAAAAAAAQAAAAYABAAEAAAAAAABAAAAAQAAAAAAAQAAAAAAAAAAAAAAAAAAAAIAAgABAAAAAgAAAAIAAAAAAAAAAAABAAEAAQAAAAEAAAABAAEAAAABAAAAAAAAAAIAAAACAAEAAAACAAEAAAABAAAAAQABAAAAAAAAAAEAAAABAAgABAADAAAAAQACAAEAAgAAAAAAAQABAAEAAQAAAAAAAQABAAEAAQAAAAEAAgAAAAAAAAAAAAAAAAAAAAAAAwAEAAEAAgACAAIAAgABAAEAAQACAAIAAAABAAAAAQAAAAAAAAAAAAEAAAABAAIAAAAAAAEAAAABAAEACQAFAAEABAAEAAUAAQADAAIAAgADAAEAAAAAAAEAAQABAAIAAAABAAAAAgAAAAMAAAAAAAIAAAABAAAAAAABAAIAAQACAAAAAAAAAAAAAgABAAAAAAADAAAAAAACAAAAAAAAAAEAAgABAAEAAQAAAAAAAAABAAIADQADAAEAAQADAAAAAgABAAEAAgABAAIAAAABAAEAAAACAAEAAgABAAAAAgACAAEAAQAAAAEAAQAAAAAAAgABAAMABAABAAEAAQABAAEAAQACAAIAAAACAAEAAQABAAIAAQAAAAAAAQACAAIAAQAAAAIAAQABAAAAAgALAAUABwACAAQACAAFAAMAAwAAAAMAAgABAAEAAAABAAEAAgABAAEABAACAAMAAQABAAIABAADAAAAAQAEAAEAAgABAAAAAwABAAEAAgAEAAIAAwABAAMAAQABAAEAAQADAAQAAgACAAIAAgABAAEAAAADAAEAAwAPAAgABQAHAAMABAACAAIAAwAEAAAAAwACAAEABAADAAEAAQADAAMAAAACAAIABAAAAAIABQAEAAUAAQACAAkABQAGAAMABAACAAcABQAGAAEABQABAAQABAADAAUAAgAEAAEAAwADAAAAAgAAAAAAAgABAAAAAgACABQADwAGAAcACAAKAAoABwAFAAQACAAFAAIAAgAEAAoACQAIAAIABAAHAAMABAAFAAIAAwABAAYABwAEAAoABQAEAAUABAADAAEABAAAAAMAAwAKAAMAAwABAAYABQAEAAIAAgAEAAIAAwADAAMABAADAAQABAADABAACwAEAAgACQAFAAcABgAEAAYAAgAGAAUAAgADAAQACwAGAAUAAgACAAcABgADAAUABAAFAAoABgACAAYAEgANAAsABwAJAAUACAAJAAQACQAKAAcAAgAFAAIACAADAAgABAAGAAsAAwADAAEABAAEAAYABwACAAUAGAAVABEACwANABIAFAALAAcACgANAAYACwAFAAYACQALAAYACQANAAkADgAHAAQABgANAAUABgALAAQACQAFAAgACwAHAAYAAwAGAAMABwAJAAkABwAHAAUACQAGAAcABwAGAAcABwAEAAQABAAGAAcABwAGAAkAGQASAA4ADwATAA8ADwAOAAoADwAKAAwACgAGAAoACgAKAA0ADAALAAwACQAPAAsADQAKAAsACgAOAAkABgAaABwAFwASAB8AEgAJAA8ACgAMABkAEQAPAAgACwAPAAkADAAOAAkACgASAAoACAAMAAgACgAJAAcAEAAYABsAGAATABYAGgAcABYACQAYABIAGAAWABEADQAQABYAFAAOABEAFwAOABUAEwAUABAAEQANAA4ACwASAA8AEAAPAA4AEAAQABUACwARAA8AFQAUAAwAEgATAA0ADgALAA0AEQAOABEADQAJAA0ACAALABEAFQAjADIAJgAcAB8AMAAfAB0AIQAjACEAHwAlAB8AGQAdABgAJAAaABoAJAAYAB0AGAAVAB4AEQAgACIAFgAiAEAANgAtACsAGwAtACMAJgAfACsAIwAkAB0AMgAcACMAJgAdAB0AFQAmACUAIAAdACIAIwAbABgAGwAeADMAOwApADQAJQAjACsAMwAzACUAOgAvACoAKQAqACgAMgAlACQAJQAkACsAIAAhACAAMwAoADEAJwAsADIAKwArADIAIgAwACQAJgAtACMALAAoAB4AHQAfADUAMAAgABoAKAAxACQAKAApACkAHwAiACQAKQAnAB8AaQBeAF4AVABRAE0AYABWAFkAWwBgAEkATgBZAGUAWABlAFoATgBYAE0AVABQAEwAUgBeAFkATgBjAF8AawBdAHcAYwBfAFUAcgBeAGwAVgBYAGIAXwBLAF4AYgBjAGIAXQBcAEsAVgBWAGMAWQBnAGIAXgBfAF8ATQBUAFUAWgBtAFoAZwBbAFQAWwBoAGcAXABaAGAAUgBfAFkAXABUAGEAZQBgAEcAXgBlAFcAVgBuAGcAZQBtAF8AawBcAFEAdgBmAFkAXwBUAHIAYwBuAFkAYwBjAGwATgBnAFYAXgBLAEwAWQBqAGQATwBiAGoAPwDSAPsA8AAMAQQBBAEMAQcB9gARAeoABwEcARwBBQH/AAUBBgEXARYBCwEKAQ4BIAEUAf0AFAEVASMB8wCnAMQAywDgAPMA0gDyAOMABgEOAdwA5wD+AAYB/wDpAPsADwHsAO4A8wAIARwBEgEKAe8AIgEiAQgB9ACPAKIAtADHANIAyQC3ANIA2ADSAMUAygDSAN8A1gDQAMYA9ADmAOsA4gDOAOgA+QDbANoA9gDqAPEA8wC0AO0A2ADGAPcA0ADWAOcA8QDbAP4A8QDkAO8A+gDfAPAA5gD2ABIB4wDkAPAA+gD9APYA8AAFAdkAzwBeAJgAnwCvAJkAqwCoAJ4AsQDAALQAyQDFALcAvQDAALkArQC6AMUAuwDGALIA1AC+AL0AtwC1AL8ApwC2AGgAdACQAJoApgCcAJwAqACjALAArgC7AK4AtADDAKsAuACgANIAwgCxAKsAtgC2AL4ArgC0ALAAxQCzAGAAhgB/AJYAhwB3AI8AjQCSAK4AkACZAJgAnwCjAKYApwCgAKsArQCYAKQApAC1AKoAngCjAK0AowCvAIMAhgCdAJwAlQCTAKcAsACpAMkAiQCWALMAtQC3AKcAmwC4ALUAnwCyALYAvACwALEAmgCsAMMArgCXAD0ARwBfAF4AaQBWAGQAXgBiAFEAWwBLAFsAVwBZAFYAXQBWAFsAVwBRAFYAYABSAFoAWgBbAFIAUQBZAGEAXABhAFsAZQBTAGkAVABcAFAAUgBbAF0AYABjAFwAYQBVAFwAUQBlAHAAYwBOAE4ATwBsAFEAUABYAGIASQBUAGYAUQBgAFYAbABhAFsAVQBWAFwAawBpAFwAXQBfAF0AWABhAGMAcABVAGgAZABaAFEAZQBOAE4AbwBgAG0AaQBnAHQAXQBVAGsAVABxAFYAYwBIAFoATQBbAFYAbQBNAFAAVwBeAGYAYQBnAGsAUQBhAF0APAAoACAAIQAeAB4AJwAiACIAIQAgACUAGwAdABYAGwAgABgAIgAXABUAHwAjABoAGQAfACMAGgAUACMAJQA6ADgALgAmACgAMAAjAC8AIgAWAC0AIQAhABoAGgArABwAGwAiACsAIgAbACAAIwAeACEAGAAcABYAGgAkADQAQwA0ACoAKwAnACoAOgAoADAAJgAxACwAMgA4ACYAIgAsACwAIgAhACwAIAAuACkALwAiAB0AHgAuAC8AKQAvACYAMQAoACIAIAAhACYAJAAkADIAIAAtACsAJgAXAB0ALwAuACUAKgAjACUAIQAfACoAKQAmABoACAAUAAkACgANAAwACgAOAAgACwAJABAABwAJAAsADgANAAkADwANAAgACAAHAAgAFQAHAAsABAAOACAAEgAQABEAFAAeABQAEAAQAA4AFgAPAA0ADgALAAsAEgATAAoACwANAAsACAAKABAADAAFAAsADgAOAB8AHAAZAB0AEwAjABQAFwAaABoAFAAaABIAFQATABQAFgAOABUACQARAA8AEAAMABIAEQANAA4AEQAKAB8ACgASAA0AEQAaAA8AEwAMAAwAEgAJAAsADgANAAsADQAMABcADAASAA0AEwALAA0AEgAQAAoAEAANACgACwANAAcACAAKAAQABwAHAAcAAwAIAAQABgACAAQABgAEAAMABwACAAYABQACAAUABgAJAAYABAAHAAgAFgATAA4ACQACAAkACQAHAAQABAAHAAUACAABAAQAAwADAAIACQAHAAYABAAEAAcAAwAFAAIABQAFAAYADQAMABEAEwAJABAABQAKAAsAAwAJAAwACgAJABAADQAMAAYACgAGAAcABgAMAAUACQAJAAsABQAGAAwADQAKAAkACQAJAAsACwADAAcABwAHAAcABgACAAkABgAJAAUACgAGAAcACwAEAAQAAwAEAAcAAwAHAAkAFAAHAAMAAgACAAIAAgAAAAMAAAADAAMAAgACAAEAAAABAAIAAAABAAAAAgAAAAIAAQABAAAAAQADAAAAAAAMAAoABgAHAAMAAwADAAIAAgAEAAAAAQACAAEAAQAEAAUAAwAEAAAAAgABAAQAAgADAAMAAwACAAAABAAOAAsACwAEAAYADAAHAAMABAAFAAcABwAEAAUABAAFAAIAAwABAAEABwAFAAEABQAFAAIAAgACAAMABQALAAYABAAFAAUABwADAAEABgADAAIAAQAGAAIAAAAHAAMABAAEAAIAAwACAAEAAgACAAMAAQABAAMACAAUAAEABAADAAIAAQABAAEAAAAAAAAAAQAEAAAAAAACAAIAAQABAAAAAwADAAAABAABAAAAAwACAAMAAgABAAUAAwAAAAQAAAADAAMAAgACAAIAAgACAAEAAAACAAIAAQACAAEAAQADAAIAAAAAAAAAAAAAAAEAAgADAAoACAAEAAIAAQAJAAEABAADAAcAAwAEAAEAAgAEAAMAAQAEAAAAAAACAAIAAwAAAAAAAAAFAAEAAgADAAQAAAACAAEAAgABAAEAAgABAAAAAAAAAAEAAwACAAEAAgABAAIAAQACAAIAAQACAAAAAAAAAAEAAgAFABoAAgABAAEAAAABAAIAAgAAAAAAAAACAAEAAAABAAAAAAAAAAAAAQAAAAIAAAAAAAIAAAAAAAAAAQABAAEAAgAEAAAAAQABAAEAAAAAAAAAAgACAAAAAQADAAAAAAABAAEAAQACAAAAAAAAAAAAAAABAAEAAQABAAIACQAGAAQAAAABAAIABAADAAAAAgACAAIAAQABAAAAAwABAAIABAABAAEAAwABAAMAAAABAAIAAQABAAEAAQABAAAAAQADAAEAAgABAAAAAgAAAAAAAAAAAAEAAgABAAAAAgABAAEAAQACAAAAAAAAAAEAAwABAAMAEQABAAIAAAABAAIAAgAAAAAAAQABAAIAAQABAAAAAAABAAIAAAAAAAEAAAABAAAAAAABAAAAAAAAAAAAAAABAAEAAAAAAAAAAAAAAAEAAQAAAAAAAgAAAAAAAQAAAAAAAAABAAAAAAAAAAAAAAAAAAAAAAAAAAEAAQAHAAMAAgABAAEAAgACAAMAAgABAAAAAQABAAAAAAAAAAAAAQAAAAAAAgABAAEAAQABAAAAAQAAAAEAAgABAAIAAAABAAAAAQABAAIAAQACAAAAAQAAAAAAAQABAAAAAAAAAAAAAAABAAAAAAAAAAAAAAABAAIAAwALAAUAAQAAAAAAAAABAAEAAAABAAAAAAAAAAAAAAAAAAEAAAAAAAAAAQABAAAAAAAAAAAAAQAAAAAAAQAAAAAAAgAAAAAAAAACAAEAAAAAAAAAAAAAAAAAAAAAAAAAAAAAAAEAAQABAAAAAQAAAAEAAAAAAAAAAAAAAAUAAAAAAAEAAwACAAEAAQABAAEAAQAAAAEAAAABAAEAAQAAAAAAAAAAAAAAAgAAAAAAAAAAAAAAAQAAAAIAAgAAAAAAAAAAAAEAAgAAAAEAAAABAAAAAAAAAAAAAAAAAAAAAAAAAAAAAAAAAAEAAQAAAAEAAAABAAoAAAAAAAAAAAAAAAAAAAAAAAAAAAACAAAAAAAAAAAAAAAAAAAAAAAAAAAAAAAAAAEAAAAAAAAAAAAAAAAAAAAAAAAAAAABAAAAAAABAAAAAAAAAAAAAAAAAAEAAAAAAAAAAAAAAAAAAwAAAAEAAAAAAAAAAAAAAAAABwACAAAAAAAAAAAAAQABAAAAAQAAAAEAAAAAAAIAAAAAAAAAAQABAAIAAAAAAAAAAAABAAAAAAAAAAAAAQAAAAAAAAAAAAEAAgAAAAAAAAAAAAAAAQAAAAAAAQAAAAAAAAAAAAAAAAAAAAAAAAABAAAAAAAAAAIACgACAAAAAAAAAAEAAAAAAAAAAAAAAAAAAAAAAAAAAAAAAAAAAAAAAAAAAAAAAAAAAQAAAAAAAAAAAAAAAAAAAAAAAAAAAAAAAQAAAAAAAAAAAAAAAQABAAAAAAAAAAAAAAAAAAAAAAAAAAAAAAAAAAAAAAAAAAAAAAADAAAAAgABAAAAAwABAAEAAAABAAEAAgAAAAAAAAAAAAEAAQAAAAAAAAAAAAAAAAABAAEAAAABAAAAAAAAAAAAAAAAAAAAAAAAAAAAAAABAAEAAQAAAAAAAAAAAAAAAAABAAAAAAAAAAAAAAAAAAEAAAABAAAAAAAEAAAAAAAAAAAAAAAAAAAAAAAAAAAAAAABAAAAAAAAAAAAAAAAAAEAAAAAAAAAAAAAAAAAAQAAAAAAAQAAAAAAAAAAAAAAAAAAAAAAAAAAAAAAAAAAAAAAAAAAAAEAAAAAAAEAAAAAAAAAAAAAAAAAAAAAAAAAAAACAAYAAQAAAAAAAgAAAAEAAAAAAAAAAAABAAAAAAABAAEAAAAAAAAAAAAAAAAAAAAAAAAAAAAAAAAAAAAAAAAAAAAAAAAAAAAAAAAAAAAAAAAAAAAAAAEAAAAAAAAAAAAAAAAAAAAAAAAAAAAAAAEAAAAAAAAAAAABAAUAAAAAAAAAAAAAAAAAAQAAAAAAAAAAAAAAAAAAAAEAAAAAAAAAAAAAAAAAAAAAAAAAAAAAAAAAAAAAAAAAAAABAAAAAQAAAAAAAAAAAAAAAAABAAAAAAAAAAAAAAAAAAAAAAAAAAEAAAAAAAAAAAAAAAAAAAAAAAAAAgAAAAAAAAAAAAAAAAAAAAEAAAAAAAAAAAAAAAAAAAAAAAAAAQAAAAAAAAAAAAAAAAAAAAAAAAAAAAAAAAAAAAAAAAABAAAAAAAAAAAAAAAAAAAAAAAAAAEAAQAAAAAAAAAAAAAAAAAAAAAAAAABAAAAAAAAAAAACAAAAAAAAAAAAAAAAAAAAAAAAAAAAAAAAAAAAAAAAAAAAAAAAAAAAAAAAAAAAAAAAAAAAAAAAAAAAAAAAAAAAAAAAAAAAAAAAAAAAAAAAQAAAAAAAAAAAAAAAAAAAAAAAQAAAAAAAAAAAAAAAAAAAAAAAAAAAAAAAAABAAAAAAAAAAEAAQAAAAAAAQAAAAAAAAAAAAAAAAAAAAAAAAAAAAAAAQAAAAAAAAAAAAAAAAAAAAEAAAAAAAAAAAAAAAEAAAAAAAAAAAAAAAEAAAAAAAAAAAAAAAAAAQAAAAAAAAAAAAAAAAAAAAAAAAAAAAAAAAAGAAAAAAAAAAAAAAAAAAAAAAABAAAAAAAAAAAAAAAAAAAAAAAAAAAAAAAAAAAAAAAAAAEAAAAAAAAAAAAAAAEAAAAAAAAAAAAAAAAAAAAAAAAAAAAAAAAAAAAAAAAAAAAAAAAAAAAAAAAAAAAAAAEAAAAAAAAAAAAAAAIAAgAAAAAAAAAAAAEAAAAAAAAAAAAAAAAAAQAAAAAAAAAAAAEAAAAAAAAAAAAAAAAAAAAAAAAAAQAAAAAAAAAAAAAAAAAAAAAAAAAAAAAAAAAAAAAAAAAAAAAAAAAAAAAAAAAAAAAAAAAAAAAAAAAAAAAAAAACAAIAAAAAAAAAAAAAAAEAAAAAAAAAAAABAAAAAAAAAAAAAAAAAAAAAAAAAAAAAAAAAAAAAAAAAAAAAAAAAAAAAAAAAAAAAAAAAAAAAAAAAAAAAAAAAAAAAAAAAAEAAAAAAAAAAAAAAAAAAQAAAAAAAAAAAAAAAAAAAAAAAAABAAAAAAAAAAEAAAAAAAAAAQAAAAAAAAAAAAAAAAAAAAAAAAAAAAAAAAAAAAAAAAAAAAAAAAAAAAAAAAAAAAAAAAAAAAAAAAAAAAAAAAAAAAAAAAAAAAAAAAAAAAAAAAAAAAAAAAAAAAAAAAAAAAAAAAAAAAAAAgAAAAAAAAAAAAAAAAAAAAAAAAAAAAAAAAAAAAAAAAAAAAAAAAAAAAAAAAAAAAAAAAAAAAAAAAAAAAAAAAAAAAAAAAAAAAAAAAAAAAAAAAAAAAAAAAAAAAAAAAAAAAAAAAAAAAEAAAAAAAAAAAAAAAAAAAAAAAAAAAACAAAAAAAAAAAAAAAAAAEAAAAAAAAAAAABAAAAAAAAAAAAAAAAAAAAAAAAAAAAAAAAAAAAAAAAAAAAAAAAAAAAAAAAAAAAAAAAAAAAAAAAAAAAAAAAAAAAAAAAAAAAAAAAAAAAAAAAAAAAAAAAAAAAAAAAAAAAAAABAAAAAAAAAAAAAAAAAAAAAAAAAAAAAAAAAAAAAAAAAAAAAAAAAAAAAAAAAAAAAAABAAAAAAAAAAAAAAAAAAAAAAAAAAAAAAAAAAAAAAAAAAAAAAAAAAAAAAAAAAAAAAAAAAAAAAAAAAAAAAABAAAAAAAAAAAAAQAAAAAAAAAAAAAAAAABAAAAAAABAAAAAAAAAAAAAAAAAAAAAAAAAAAAAAAAAAAAAAAAAAAAAAAAAAAAAAAAAAAAAAAAAAAAAAAAAAAAAAABAAAAAAAAAAAAAAAAAAAAAAAAAAAAAAAAAAAAAAAAAAAAAAAAAAAAAAAAAAUAAAAAAAAAAAAAAAAAAAAAAAAAAAAAAAAAAAAAAAAAAAAAAAAAAAAAAAAAAAAAAAAAAAAAAAAAAAAAAAAAAQAAAAAAAAAAAAEAAAAAAAAAAAAAAAAAAAAAAAAAAAAAAAAAAAAAAAAAAAABAAAAAAAAAAAAAAAAAAAAAQAAAAAAAAABAAAAAAAAAAAAAAAAAAAAAAAAAAAAAAAAAAAAAAAAAAAAAAAAAAAAAAAAAAAAAAAAAAAAAAAAAAAAAAAAAAAAAAAAAAAAAAAAAAAAAAAAAAAAAAAAAAAAAAAAAAAAAAAAAAAAAAAAAAAAAAAAAAAAAgA=",
          "dtype": "i2",
          "shape": "40, 121"
         }
        }
       ],
       "layout": {
        "template": {
         "data": {
          "bar": [
           {
            "error_x": {
             "color": "#2a3f5f"
            },
            "error_y": {
             "color": "#2a3f5f"
            },
            "marker": {
             "line": {
              "color": "#E5ECF6",
              "width": 0.5
             },
             "pattern": {
              "fillmode": "overlay",
              "size": 10,
              "solidity": 0.2
             }
            },
            "type": "bar"
           }
          ],
          "barpolar": [
           {
            "marker": {
             "line": {
              "color": "#E5ECF6",
              "width": 0.5
             },
             "pattern": {
              "fillmode": "overlay",
              "size": 10,
              "solidity": 0.2
             }
            },
            "type": "barpolar"
           }
          ],
          "carpet": [
           {
            "aaxis": {
             "endlinecolor": "#2a3f5f",
             "gridcolor": "white",
             "linecolor": "white",
             "minorgridcolor": "white",
             "startlinecolor": "#2a3f5f"
            },
            "baxis": {
             "endlinecolor": "#2a3f5f",
             "gridcolor": "white",
             "linecolor": "white",
             "minorgridcolor": "white",
             "startlinecolor": "#2a3f5f"
            },
            "type": "carpet"
           }
          ],
          "choropleth": [
           {
            "colorbar": {
             "outlinewidth": 0,
             "ticks": ""
            },
            "type": "choropleth"
           }
          ],
          "contour": [
           {
            "colorbar": {
             "outlinewidth": 0,
             "ticks": ""
            },
            "colorscale": [
             [
              0,
              "#0d0887"
             ],
             [
              0.1111111111111111,
              "#46039f"
             ],
             [
              0.2222222222222222,
              "#7201a8"
             ],
             [
              0.3333333333333333,
              "#9c179e"
             ],
             [
              0.4444444444444444,
              "#bd3786"
             ],
             [
              0.5555555555555556,
              "#d8576b"
             ],
             [
              0.6666666666666666,
              "#ed7953"
             ],
             [
              0.7777777777777778,
              "#fb9f3a"
             ],
             [
              0.8888888888888888,
              "#fdca26"
             ],
             [
              1,
              "#f0f921"
             ]
            ],
            "type": "contour"
           }
          ],
          "contourcarpet": [
           {
            "colorbar": {
             "outlinewidth": 0,
             "ticks": ""
            },
            "type": "contourcarpet"
           }
          ],
          "heatmap": [
           {
            "colorbar": {
             "outlinewidth": 0,
             "ticks": ""
            },
            "colorscale": [
             [
              0,
              "#0d0887"
             ],
             [
              0.1111111111111111,
              "#46039f"
             ],
             [
              0.2222222222222222,
              "#7201a8"
             ],
             [
              0.3333333333333333,
              "#9c179e"
             ],
             [
              0.4444444444444444,
              "#bd3786"
             ],
             [
              0.5555555555555556,
              "#d8576b"
             ],
             [
              0.6666666666666666,
              "#ed7953"
             ],
             [
              0.7777777777777778,
              "#fb9f3a"
             ],
             [
              0.8888888888888888,
              "#fdca26"
             ],
             [
              1,
              "#f0f921"
             ]
            ],
            "type": "heatmap"
           }
          ],
          "histogram": [
           {
            "marker": {
             "pattern": {
              "fillmode": "overlay",
              "size": 10,
              "solidity": 0.2
             }
            },
            "type": "histogram"
           }
          ],
          "histogram2d": [
           {
            "colorbar": {
             "outlinewidth": 0,
             "ticks": ""
            },
            "colorscale": [
             [
              0,
              "#0d0887"
             ],
             [
              0.1111111111111111,
              "#46039f"
             ],
             [
              0.2222222222222222,
              "#7201a8"
             ],
             [
              0.3333333333333333,
              "#9c179e"
             ],
             [
              0.4444444444444444,
              "#bd3786"
             ],
             [
              0.5555555555555556,
              "#d8576b"
             ],
             [
              0.6666666666666666,
              "#ed7953"
             ],
             [
              0.7777777777777778,
              "#fb9f3a"
             ],
             [
              0.8888888888888888,
              "#fdca26"
             ],
             [
              1,
              "#f0f921"
             ]
            ],
            "type": "histogram2d"
           }
          ],
          "histogram2dcontour": [
           {
            "colorbar": {
             "outlinewidth": 0,
             "ticks": ""
            },
            "colorscale": [
             [
              0,
              "#0d0887"
             ],
             [
              0.1111111111111111,
              "#46039f"
             ],
             [
              0.2222222222222222,
              "#7201a8"
             ],
             [
              0.3333333333333333,
              "#9c179e"
             ],
             [
              0.4444444444444444,
              "#bd3786"
             ],
             [
              0.5555555555555556,
              "#d8576b"
             ],
             [
              0.6666666666666666,
              "#ed7953"
             ],
             [
              0.7777777777777778,
              "#fb9f3a"
             ],
             [
              0.8888888888888888,
              "#fdca26"
             ],
             [
              1,
              "#f0f921"
             ]
            ],
            "type": "histogram2dcontour"
           }
          ],
          "mesh3d": [
           {
            "colorbar": {
             "outlinewidth": 0,
             "ticks": ""
            },
            "type": "mesh3d"
           }
          ],
          "parcoords": [
           {
            "line": {
             "colorbar": {
              "outlinewidth": 0,
              "ticks": ""
             }
            },
            "type": "parcoords"
           }
          ],
          "pie": [
           {
            "automargin": true,
            "type": "pie"
           }
          ],
          "scatter": [
           {
            "fillpattern": {
             "fillmode": "overlay",
             "size": 10,
             "solidity": 0.2
            },
            "type": "scatter"
           }
          ],
          "scatter3d": [
           {
            "line": {
             "colorbar": {
              "outlinewidth": 0,
              "ticks": ""
             }
            },
            "marker": {
             "colorbar": {
              "outlinewidth": 0,
              "ticks": ""
             }
            },
            "type": "scatter3d"
           }
          ],
          "scattercarpet": [
           {
            "marker": {
             "colorbar": {
              "outlinewidth": 0,
              "ticks": ""
             }
            },
            "type": "scattercarpet"
           }
          ],
          "scattergeo": [
           {
            "marker": {
             "colorbar": {
              "outlinewidth": 0,
              "ticks": ""
             }
            },
            "type": "scattergeo"
           }
          ],
          "scattergl": [
           {
            "marker": {
             "colorbar": {
              "outlinewidth": 0,
              "ticks": ""
             }
            },
            "type": "scattergl"
           }
          ],
          "scattermap": [
           {
            "marker": {
             "colorbar": {
              "outlinewidth": 0,
              "ticks": ""
             }
            },
            "type": "scattermap"
           }
          ],
          "scattermapbox": [
           {
            "marker": {
             "colorbar": {
              "outlinewidth": 0,
              "ticks": ""
             }
            },
            "type": "scattermapbox"
           }
          ],
          "scatterpolar": [
           {
            "marker": {
             "colorbar": {
              "outlinewidth": 0,
              "ticks": ""
             }
            },
            "type": "scatterpolar"
           }
          ],
          "scatterpolargl": [
           {
            "marker": {
             "colorbar": {
              "outlinewidth": 0,
              "ticks": ""
             }
            },
            "type": "scatterpolargl"
           }
          ],
          "scatterternary": [
           {
            "marker": {
             "colorbar": {
              "outlinewidth": 0,
              "ticks": ""
             }
            },
            "type": "scatterternary"
           }
          ],
          "surface": [
           {
            "colorbar": {
             "outlinewidth": 0,
             "ticks": ""
            },
            "colorscale": [
             [
              0,
              "#0d0887"
             ],
             [
              0.1111111111111111,
              "#46039f"
             ],
             [
              0.2222222222222222,
              "#7201a8"
             ],
             [
              0.3333333333333333,
              "#9c179e"
             ],
             [
              0.4444444444444444,
              "#bd3786"
             ],
             [
              0.5555555555555556,
              "#d8576b"
             ],
             [
              0.6666666666666666,
              "#ed7953"
             ],
             [
              0.7777777777777778,
              "#fb9f3a"
             ],
             [
              0.8888888888888888,
              "#fdca26"
             ],
             [
              1,
              "#f0f921"
             ]
            ],
            "type": "surface"
           }
          ],
          "table": [
           {
            "cells": {
             "fill": {
              "color": "#EBF0F8"
             },
             "line": {
              "color": "white"
             }
            },
            "header": {
             "fill": {
              "color": "#C8D4E3"
             },
             "line": {
              "color": "white"
             }
            },
            "type": "table"
           }
          ]
         },
         "layout": {
          "annotationdefaults": {
           "arrowcolor": "#2a3f5f",
           "arrowhead": 0,
           "arrowwidth": 1
          },
          "autotypenumbers": "strict",
          "coloraxis": {
           "colorbar": {
            "outlinewidth": 0,
            "ticks": ""
           }
          },
          "colorscale": {
           "diverging": [
            [
             0,
             "#8e0152"
            ],
            [
             0.1,
             "#c51b7d"
            ],
            [
             0.2,
             "#de77ae"
            ],
            [
             0.3,
             "#f1b6da"
            ],
            [
             0.4,
             "#fde0ef"
            ],
            [
             0.5,
             "#f7f7f7"
            ],
            [
             0.6,
             "#e6f5d0"
            ],
            [
             0.7,
             "#b8e186"
            ],
            [
             0.8,
             "#7fbc41"
            ],
            [
             0.9,
             "#4d9221"
            ],
            [
             1,
             "#276419"
            ]
           ],
           "sequential": [
            [
             0,
             "#0d0887"
            ],
            [
             0.1111111111111111,
             "#46039f"
            ],
            [
             0.2222222222222222,
             "#7201a8"
            ],
            [
             0.3333333333333333,
             "#9c179e"
            ],
            [
             0.4444444444444444,
             "#bd3786"
            ],
            [
             0.5555555555555556,
             "#d8576b"
            ],
            [
             0.6666666666666666,
             "#ed7953"
            ],
            [
             0.7777777777777778,
             "#fb9f3a"
            ],
            [
             0.8888888888888888,
             "#fdca26"
            ],
            [
             1,
             "#f0f921"
            ]
           ],
           "sequentialminus": [
            [
             0,
             "#0d0887"
            ],
            [
             0.1111111111111111,
             "#46039f"
            ],
            [
             0.2222222222222222,
             "#7201a8"
            ],
            [
             0.3333333333333333,
             "#9c179e"
            ],
            [
             0.4444444444444444,
             "#bd3786"
            ],
            [
             0.5555555555555556,
             "#d8576b"
            ],
            [
             0.6666666666666666,
             "#ed7953"
            ],
            [
             0.7777777777777778,
             "#fb9f3a"
            ],
            [
             0.8888888888888888,
             "#fdca26"
            ],
            [
             1,
             "#f0f921"
            ]
           ]
          },
          "colorway": [
           "#636efa",
           "#EF553B",
           "#00cc96",
           "#ab63fa",
           "#FFA15A",
           "#19d3f3",
           "#FF6692",
           "#B6E880",
           "#FF97FF",
           "#FECB52"
          ],
          "font": {
           "color": "#2a3f5f"
          },
          "geo": {
           "bgcolor": "white",
           "lakecolor": "white",
           "landcolor": "#E5ECF6",
           "showlakes": true,
           "showland": true,
           "subunitcolor": "white"
          },
          "hoverlabel": {
           "align": "left"
          },
          "hovermode": "closest",
          "mapbox": {
           "style": "light"
          },
          "paper_bgcolor": "white",
          "plot_bgcolor": "#E5ECF6",
          "polar": {
           "angularaxis": {
            "gridcolor": "white",
            "linecolor": "white",
            "ticks": ""
           },
           "bgcolor": "#E5ECF6",
           "radialaxis": {
            "gridcolor": "white",
            "linecolor": "white",
            "ticks": ""
           }
          },
          "scene": {
           "xaxis": {
            "backgroundcolor": "#E5ECF6",
            "gridcolor": "white",
            "gridwidth": 2,
            "linecolor": "white",
            "showbackground": true,
            "ticks": "",
            "zerolinecolor": "white"
           },
           "yaxis": {
            "backgroundcolor": "#E5ECF6",
            "gridcolor": "white",
            "gridwidth": 2,
            "linecolor": "white",
            "showbackground": true,
            "ticks": "",
            "zerolinecolor": "white"
           },
           "zaxis": {
            "backgroundcolor": "#E5ECF6",
            "gridcolor": "white",
            "gridwidth": 2,
            "linecolor": "white",
            "showbackground": true,
            "ticks": "",
            "zerolinecolor": "white"
           }
          },
          "shapedefaults": {
           "line": {
            "color": "#2a3f5f"
           }
          },
          "ternary": {
           "aaxis": {
            "gridcolor": "white",
            "linecolor": "white",
            "ticks": ""
           },
           "baxis": {
            "gridcolor": "white",
            "linecolor": "white",
            "ticks": ""
           },
           "bgcolor": "#E5ECF6",
           "caxis": {
            "gridcolor": "white",
            "linecolor": "white",
            "ticks": ""
           }
          },
          "title": {
           "x": 0.05
          },
          "xaxis": {
           "automargin": true,
           "gridcolor": "white",
           "linecolor": "white",
           "ticks": "",
           "title": {
            "standoff": 15
           },
           "zerolinecolor": "white",
           "zerolinewidth": 2
          },
          "yaxis": {
           "automargin": true,
           "gridcolor": "white",
           "linecolor": "white",
           "ticks": "",
           "title": {
            "standoff": 15
           },
           "zerolinecolor": "white",
           "zerolinewidth": 2
          }
         }
        },
        "title": {
         "text": "Frequency of Percentage Price Changes Around EIA WPSR Release"
        },
        "xaxis": {
         "ticktext": [
          -60,
          -55,
          -50,
          -45,
          -40,
          -35,
          -30,
          -25,
          -20,
          -15,
          -10,
          -5,
          0,
          5,
          10,
          15,
          20,
          25,
          30,
          35,
          40,
          45,
          50,
          55,
          60
         ],
         "tickvals": [
          -60,
          -55,
          -50,
          -45,
          -40,
          -35,
          -30,
          -25,
          -20,
          -15,
          -10,
          -5,
          0,
          5,
          10,
          15,
          20,
          25,
          30,
          35,
          40,
          45,
          50,
          55,
          60
         ],
         "title": {
          "text": "Time Relative to Release (Minutes)"
         }
        },
        "yaxis": {
         "autorange": "reversed",
         "title": {
          "text": "Percentage Price Change Bins"
         }
        }
       }
      }
     },
     "metadata": {},
     "output_type": "display_data"
    },
    {
     "data": {
      "text/html": [
       "<div>\n",
       "<style scoped>\n",
       "    .dataframe tbody tr th:only-of-type {\n",
       "        vertical-align: middle;\n",
       "    }\n",
       "\n",
       "    .dataframe tbody tr th {\n",
       "        vertical-align: top;\n",
       "    }\n",
       "\n",
       "    .dataframe thead th {\n",
       "        text-align: right;\n",
       "    }\n",
       "</style>\n",
       "<table border=\"1\" class=\"dataframe\">\n",
       "  <thead>\n",
       "    <tr style=\"text-align: right;\">\n",
       "      <th></th>\n",
       "      <th>Date</th>\n",
       "      <th>Time</th>\n",
       "      <th>Open</th>\n",
       "      <th>High</th>\n",
       "      <th>Low</th>\n",
       "      <th>Close</th>\n",
       "      <th>Volume</th>\n",
       "      <th>Datetime</th>\n",
       "      <th>Percent_Change</th>\n",
       "      <th>Release_Datetime</th>\n",
       "      <th>Time_to_Release_Minutes</th>\n",
       "      <th>Time_Delta_Minutes</th>\n",
       "      <th>Price_Change_Bin</th>\n",
       "    </tr>\n",
       "    <tr>\n",
       "      <th>Datetime_CST</th>\n",
       "      <th></th>\n",
       "      <th></th>\n",
       "      <th></th>\n",
       "      <th></th>\n",
       "      <th></th>\n",
       "      <th></th>\n",
       "      <th></th>\n",
       "      <th></th>\n",
       "      <th></th>\n",
       "      <th></th>\n",
       "      <th></th>\n",
       "      <th></th>\n",
       "      <th></th>\n",
       "    </tr>\n",
       "  </thead>\n",
       "  <tbody>\n",
       "    <tr>\n",
       "      <th>2011-03-09 08:30:00-06:00</th>\n",
       "      <td>09/03/2011</td>\n",
       "      <td>08:30:00</td>\n",
       "      <td>105.56</td>\n",
       "      <td>105.56</td>\n",
       "      <td>105.44</td>\n",
       "      <td>105.46</td>\n",
       "      <td>514</td>\n",
       "      <td>2011-03-09 08:30:00</td>\n",
       "      <td>-0.094733</td>\n",
       "      <td>2011-03-09 09:30:00-06:00</td>\n",
       "      <td>-60.0</td>\n",
       "      <td>-60.0</td>\n",
       "      <td>-0.10%</td>\n",
       "    </tr>\n",
       "    <tr>\n",
       "      <th>2011-03-09 08:31:00-06:00</th>\n",
       "      <td>09/03/2011</td>\n",
       "      <td>08:31:00</td>\n",
       "      <td>105.46</td>\n",
       "      <td>105.52</td>\n",
       "      <td>105.45</td>\n",
       "      <td>105.46</td>\n",
       "      <td>323</td>\n",
       "      <td>2011-03-09 08:31:00</td>\n",
       "      <td>0.000000</td>\n",
       "      <td>2011-03-09 09:30:00-06:00</td>\n",
       "      <td>-59.0</td>\n",
       "      <td>-59.0</td>\n",
       "      <td>-0.05%</td>\n",
       "    </tr>\n",
       "    <tr>\n",
       "      <th>2011-03-09 08:32:00-06:00</th>\n",
       "      <td>09/03/2011</td>\n",
       "      <td>08:32:00</td>\n",
       "      <td>105.45</td>\n",
       "      <td>105.47</td>\n",
       "      <td>105.31</td>\n",
       "      <td>105.32</td>\n",
       "      <td>899</td>\n",
       "      <td>2011-03-09 08:32:00</td>\n",
       "      <td>-0.132752</td>\n",
       "      <td>2011-03-09 09:30:00-06:00</td>\n",
       "      <td>-58.0</td>\n",
       "      <td>-58.0</td>\n",
       "      <td>-0.15%</td>\n",
       "    </tr>\n",
       "    <tr>\n",
       "      <th>2011-03-09 08:33:00-06:00</th>\n",
       "      <td>09/03/2011</td>\n",
       "      <td>08:33:00</td>\n",
       "      <td>105.31</td>\n",
       "      <td>105.37</td>\n",
       "      <td>105.25</td>\n",
       "      <td>105.33</td>\n",
       "      <td>716</td>\n",
       "      <td>2011-03-09 08:33:00</td>\n",
       "      <td>0.009495</td>\n",
       "      <td>2011-03-09 09:30:00-06:00</td>\n",
       "      <td>-57.0</td>\n",
       "      <td>-57.0</td>\n",
       "      <td>0.00%</td>\n",
       "    </tr>\n",
       "    <tr>\n",
       "      <th>2011-03-09 08:34:00-06:00</th>\n",
       "      <td>09/03/2011</td>\n",
       "      <td>08:34:00</td>\n",
       "      <td>105.34</td>\n",
       "      <td>105.45</td>\n",
       "      <td>105.31</td>\n",
       "      <td>105.40</td>\n",
       "      <td>660</td>\n",
       "      <td>2011-03-09 08:34:00</td>\n",
       "      <td>0.066458</td>\n",
       "      <td>2011-03-09 09:30:00-06:00</td>\n",
       "      <td>-56.0</td>\n",
       "      <td>-56.0</td>\n",
       "      <td>0.05%</td>\n",
       "    </tr>\n",
       "    <tr>\n",
       "      <th>...</th>\n",
       "      <td>...</td>\n",
       "      <td>...</td>\n",
       "      <td>...</td>\n",
       "      <td>...</td>\n",
       "      <td>...</td>\n",
       "      <td>...</td>\n",
       "      <td>...</td>\n",
       "      <td>...</td>\n",
       "      <td>...</td>\n",
       "      <td>...</td>\n",
       "      <td>...</td>\n",
       "      <td>...</td>\n",
       "      <td>...</td>\n",
       "    </tr>\n",
       "    <tr>\n",
       "      <th>2025-03-05 10:26:00-06:00</th>\n",
       "      <td>05/03/2025</td>\n",
       "      <td>10:26:00</td>\n",
       "      <td>65.42</td>\n",
       "      <td>65.46</td>\n",
       "      <td>65.37</td>\n",
       "      <td>65.38</td>\n",
       "      <td>713</td>\n",
       "      <td>2025-03-05 10:26:00</td>\n",
       "      <td>-0.061143</td>\n",
       "      <td>2025-03-05 09:30:00-06:00</td>\n",
       "      <td>56.0</td>\n",
       "      <td>56.0</td>\n",
       "      <td>-0.10%</td>\n",
       "    </tr>\n",
       "    <tr>\n",
       "      <th>2025-03-05 10:27:00-06:00</th>\n",
       "      <td>05/03/2025</td>\n",
       "      <td>10:27:00</td>\n",
       "      <td>65.37</td>\n",
       "      <td>65.41</td>\n",
       "      <td>65.37</td>\n",
       "      <td>65.39</td>\n",
       "      <td>640</td>\n",
       "      <td>2025-03-05 10:27:00</td>\n",
       "      <td>0.015295</td>\n",
       "      <td>2025-03-05 09:30:00-06:00</td>\n",
       "      <td>57.0</td>\n",
       "      <td>57.0</td>\n",
       "      <td>0.00%</td>\n",
       "    </tr>\n",
       "    <tr>\n",
       "      <th>2025-03-05 10:28:00-06:00</th>\n",
       "      <td>05/03/2025</td>\n",
       "      <td>10:28:00</td>\n",
       "      <td>65.40</td>\n",
       "      <td>65.42</td>\n",
       "      <td>65.33</td>\n",
       "      <td>65.36</td>\n",
       "      <td>796</td>\n",
       "      <td>2025-03-05 10:28:00</td>\n",
       "      <td>-0.045879</td>\n",
       "      <td>2025-03-05 09:30:00-06:00</td>\n",
       "      <td>58.0</td>\n",
       "      <td>58.0</td>\n",
       "      <td>-0.05%</td>\n",
       "    </tr>\n",
       "    <tr>\n",
       "      <th>2025-03-05 10:29:00-06:00</th>\n",
       "      <td>05/03/2025</td>\n",
       "      <td>10:29:00</td>\n",
       "      <td>65.35</td>\n",
       "      <td>65.40</td>\n",
       "      <td>65.35</td>\n",
       "      <td>65.37</td>\n",
       "      <td>658</td>\n",
       "      <td>2025-03-05 10:29:00</td>\n",
       "      <td>0.015300</td>\n",
       "      <td>2025-03-05 09:30:00-06:00</td>\n",
       "      <td>59.0</td>\n",
       "      <td>59.0</td>\n",
       "      <td>0.00%</td>\n",
       "    </tr>\n",
       "    <tr>\n",
       "      <th>2025-03-05 10:30:00-06:00</th>\n",
       "      <td>05/03/2025</td>\n",
       "      <td>10:30:00</td>\n",
       "      <td>65.38</td>\n",
       "      <td>65.45</td>\n",
       "      <td>65.34</td>\n",
       "      <td>65.43</td>\n",
       "      <td>842</td>\n",
       "      <td>2025-03-05 10:30:00</td>\n",
       "      <td>0.091785</td>\n",
       "      <td>2025-03-05 09:30:00-06:00</td>\n",
       "      <td>60.0</td>\n",
       "      <td>60.0</td>\n",
       "      <td>0.05%</td>\n",
       "    </tr>\n",
       "  </tbody>\n",
       "</table>\n",
       "<p>88344 rows × 13 columns</p>\n",
       "</div>"
      ],
      "text/plain": [
       "                                 Date      Time    Open    High     Low  \\\n",
       "Datetime_CST                                                              \n",
       "2011-03-09 08:30:00-06:00  09/03/2011  08:30:00  105.56  105.56  105.44   \n",
       "2011-03-09 08:31:00-06:00  09/03/2011  08:31:00  105.46  105.52  105.45   \n",
       "2011-03-09 08:32:00-06:00  09/03/2011  08:32:00  105.45  105.47  105.31   \n",
       "2011-03-09 08:33:00-06:00  09/03/2011  08:33:00  105.31  105.37  105.25   \n",
       "2011-03-09 08:34:00-06:00  09/03/2011  08:34:00  105.34  105.45  105.31   \n",
       "...                               ...       ...     ...     ...     ...   \n",
       "2025-03-05 10:26:00-06:00  05/03/2025  10:26:00   65.42   65.46   65.37   \n",
       "2025-03-05 10:27:00-06:00  05/03/2025  10:27:00   65.37   65.41   65.37   \n",
       "2025-03-05 10:28:00-06:00  05/03/2025  10:28:00   65.40   65.42   65.33   \n",
       "2025-03-05 10:29:00-06:00  05/03/2025  10:29:00   65.35   65.40   65.35   \n",
       "2025-03-05 10:30:00-06:00  05/03/2025  10:30:00   65.38   65.45   65.34   \n",
       "\n",
       "                            Close  Volume            Datetime  Percent_Change  \\\n",
       "Datetime_CST                                                                    \n",
       "2011-03-09 08:30:00-06:00  105.46     514 2011-03-09 08:30:00       -0.094733   \n",
       "2011-03-09 08:31:00-06:00  105.46     323 2011-03-09 08:31:00        0.000000   \n",
       "2011-03-09 08:32:00-06:00  105.32     899 2011-03-09 08:32:00       -0.132752   \n",
       "2011-03-09 08:33:00-06:00  105.33     716 2011-03-09 08:33:00        0.009495   \n",
       "2011-03-09 08:34:00-06:00  105.40     660 2011-03-09 08:34:00        0.066458   \n",
       "...                           ...     ...                 ...             ...   \n",
       "2025-03-05 10:26:00-06:00   65.38     713 2025-03-05 10:26:00       -0.061143   \n",
       "2025-03-05 10:27:00-06:00   65.39     640 2025-03-05 10:27:00        0.015295   \n",
       "2025-03-05 10:28:00-06:00   65.36     796 2025-03-05 10:28:00       -0.045879   \n",
       "2025-03-05 10:29:00-06:00   65.37     658 2025-03-05 10:29:00        0.015300   \n",
       "2025-03-05 10:30:00-06:00   65.43     842 2025-03-05 10:30:00        0.091785   \n",
       "\n",
       "                                   Release_Datetime  Time_to_Release_Minutes  \\\n",
       "Datetime_CST                                                                   \n",
       "2011-03-09 08:30:00-06:00 2011-03-09 09:30:00-06:00                    -60.0   \n",
       "2011-03-09 08:31:00-06:00 2011-03-09 09:30:00-06:00                    -59.0   \n",
       "2011-03-09 08:32:00-06:00 2011-03-09 09:30:00-06:00                    -58.0   \n",
       "2011-03-09 08:33:00-06:00 2011-03-09 09:30:00-06:00                    -57.0   \n",
       "2011-03-09 08:34:00-06:00 2011-03-09 09:30:00-06:00                    -56.0   \n",
       "...                                             ...                      ...   \n",
       "2025-03-05 10:26:00-06:00 2025-03-05 09:30:00-06:00                     56.0   \n",
       "2025-03-05 10:27:00-06:00 2025-03-05 09:30:00-06:00                     57.0   \n",
       "2025-03-05 10:28:00-06:00 2025-03-05 09:30:00-06:00                     58.0   \n",
       "2025-03-05 10:29:00-06:00 2025-03-05 09:30:00-06:00                     59.0   \n",
       "2025-03-05 10:30:00-06:00 2025-03-05 09:30:00-06:00                     60.0   \n",
       "\n",
       "                           Time_Delta_Minutes Price_Change_Bin  \n",
       "Datetime_CST                                                    \n",
       "2011-03-09 08:30:00-06:00               -60.0           -0.10%  \n",
       "2011-03-09 08:31:00-06:00               -59.0           -0.05%  \n",
       "2011-03-09 08:32:00-06:00               -58.0           -0.15%  \n",
       "2011-03-09 08:33:00-06:00               -57.0            0.00%  \n",
       "2011-03-09 08:34:00-06:00               -56.0            0.05%  \n",
       "...                                       ...              ...  \n",
       "2025-03-05 10:26:00-06:00                56.0           -0.10%  \n",
       "2025-03-05 10:27:00-06:00                57.0            0.00%  \n",
       "2025-03-05 10:28:00-06:00                58.0           -0.05%  \n",
       "2025-03-05 10:29:00-06:00                59.0            0.00%  \n",
       "2025-03-05 10:30:00-06:00                60.0            0.05%  \n",
       "\n",
       "[88344 rows x 13 columns]"
      ]
     },
     "metadata": {},
     "output_type": "display_data"
    }
   ],
   "source": [
    "\n",
    "# Assume price_window_60min dataframe is already loaded and has 'Datetime', 'Close', and 'Release_Datetime' columns\n",
    "\n",
    "# 1. Calculate Price Changes Relative to Pre-Release Minute\n",
    "price_window_60min['Time_Delta_Minutes'] = price_window_60min.index - price_window_60min['Release_Datetime']\n",
    "price_window_60min['Time_Delta_Minutes'] = price_window_60min['Time_Delta_Minutes'].apply(lambda td: td.total_seconds() / 60)\n",
    "#price_window_60min['Price_Change'] = price_window_60min.groupby('Release_Datetime')['Close'].transform(lambda x: x - x.shift(1))\n",
    "#price_window_60min['Percent_Change'] = price_window_60min.groupby('Release_Datetime')['Close'].pct_change() * 100\n",
    "\n",
    "#price_window_60min = price_window_60min.dropna(subset=['Percent_Change']) # Remove rows where shift resulted in NaN\n",
    "\n",
    "# 2. Define Time Intervals and Price Change Bins for Heatmap\n",
    "time_intervals_release = sorted(price_window_60min['Time_Delta_Minutes'].unique())\n",
    "price_change_bins_release = np.linspace(-1, 1, num=41) # Example: Bins from -1% to +1% in 0.05% increments, adjust as needed\n",
    "price_change_labels_release = [f'{bin_val:.2f}%' for bin_val in price_change_bins] # Labels for bins\n",
    "\n",
    "# 3.  Bin Price Changes and Count Frequencies\n",
    "price_window_60min['Price_Change_Bin'] = pd.cut(price_window_60min['Percent_Change'], bins=price_change_bins, labels=price_change_labels[:-1], include_lowest=True)\n",
    "\n",
    "\n",
    "heatmap_data_release = price_window_60min.groupby(['Price_Change_Bin', 'Time_Delta_Minutes']).size().unstack(fill_value=0)\n",
    "\n",
    "# Reindex columns and rows to ensure all intervals and bins are present, even if count is zero\n",
    "heatmap_data_release = heatmap_data_release.reindex(columns=time_intervals, fill_value=0)\n",
    "heatmap_data_release = heatmap_data_release.reindex(index=price_change_labels[:-1], fill_value=0)\n",
    "\n",
    "# 4. Create Interactive Heatmap with Plotly\n",
    "fig_heatmap_release = go.Figure(data=go.Heatmap(\n",
    "    z=heatmap_data_release.values,\n",
    "    x=heatmap_data_release.columns,\n",
    "    y=heatmap_data.index,\n",
    "    colorscale='Viridis', # Choose a colorscale that suits your preference\n",
    "    colorbar=dict(title='Frequency')\n",
    "))\n",
    "\n",
    "fig_heatmap_release.update_layout(\n",
    "    title='Frequency of Percentage Price Changes Around EIA WPSR Release',\n",
    "    xaxis_title='Time Relative to Release (Minutes)',\n",
    "    yaxis_title='Percentage Price Change Bins',\n",
    "    yaxis=dict(autorange=\"reversed\"), # Invert y-axis to have positive changes at the top\n",
    "    xaxis=dict(tickvals=time_intervals[::5], ticktext=[int(x) for x in time_intervals[::5]]) # Show x-axis ticks every 5 minutes\n",
    ")\n",
    "\n",
    "fig_heatmap_release.show()\n",
    "display(price_window_60min)"
   ]
  },
  {
   "cell_type": "code",
   "execution_count": 58,
   "metadata": {},
   "outputs": [
    {
     "data": {
      "text/html": [
       "<div>\n",
       "<style scoped>\n",
       "    .dataframe tbody tr th:only-of-type {\n",
       "        vertical-align: middle;\n",
       "    }\n",
       "\n",
       "    .dataframe tbody tr th {\n",
       "        vertical-align: top;\n",
       "    }\n",
       "\n",
       "    .dataframe thead th {\n",
       "        text-align: right;\n",
       "    }\n",
       "</style>\n",
       "<table border=\"1\" class=\"dataframe\">\n",
       "  <thead>\n",
       "    <tr style=\"text-align: right;\">\n",
       "      <th></th>\n",
       "      <th>Date</th>\n",
       "      <th>Time</th>\n",
       "      <th>Open</th>\n",
       "      <th>High</th>\n",
       "      <th>Low</th>\n",
       "      <th>Close</th>\n",
       "      <th>Volume</th>\n",
       "      <th>Datetime</th>\n",
       "      <th>Percent_Change</th>\n",
       "    </tr>\n",
       "    <tr>\n",
       "      <th>Datetime_CST</th>\n",
       "      <th></th>\n",
       "      <th></th>\n",
       "      <th></th>\n",
       "      <th></th>\n",
       "      <th></th>\n",
       "      <th></th>\n",
       "      <th></th>\n",
       "      <th></th>\n",
       "      <th></th>\n",
       "    </tr>\n",
       "  </thead>\n",
       "  <tbody>\n",
       "    <tr>\n",
       "      <th>2011-03-07 23:59:00-06:00</th>\n",
       "      <td>07/03/2011</td>\n",
       "      <td>23:59:00</td>\n",
       "      <td>104.74</td>\n",
       "      <td>104.77</td>\n",
       "      <td>104.73</td>\n",
       "      <td>104.73</td>\n",
       "      <td>18</td>\n",
       "      <td>2011-03-07 23:59:00</td>\n",
       "      <td>NaN</td>\n",
       "    </tr>\n",
       "    <tr>\n",
       "      <th>2011-03-08 00:00:00-06:00</th>\n",
       "      <td>08/03/2011</td>\n",
       "      <td>00:00:00</td>\n",
       "      <td>104.74</td>\n",
       "      <td>104.82</td>\n",
       "      <td>104.74</td>\n",
       "      <td>104.81</td>\n",
       "      <td>34</td>\n",
       "      <td>2011-03-08 00:00:00</td>\n",
       "      <td>0.076387</td>\n",
       "    </tr>\n",
       "    <tr>\n",
       "      <th>2011-03-08 00:01:00-06:00</th>\n",
       "      <td>08/03/2011</td>\n",
       "      <td>00:01:00</td>\n",
       "      <td>104.82</td>\n",
       "      <td>104.84</td>\n",
       "      <td>104.82</td>\n",
       "      <td>104.82</td>\n",
       "      <td>12</td>\n",
       "      <td>2011-03-08 00:01:00</td>\n",
       "      <td>0.009541</td>\n",
       "    </tr>\n",
       "    <tr>\n",
       "      <th>2011-03-08 00:02:00-06:00</th>\n",
       "      <td>08/03/2011</td>\n",
       "      <td>00:02:00</td>\n",
       "      <td>104.81</td>\n",
       "      <td>104.81</td>\n",
       "      <td>104.73</td>\n",
       "      <td>104.75</td>\n",
       "      <td>20</td>\n",
       "      <td>2011-03-08 00:02:00</td>\n",
       "      <td>-0.066781</td>\n",
       "    </tr>\n",
       "    <tr>\n",
       "      <th>2011-03-08 00:03:00-06:00</th>\n",
       "      <td>08/03/2011</td>\n",
       "      <td>00:03:00</td>\n",
       "      <td>104.74</td>\n",
       "      <td>104.76</td>\n",
       "      <td>104.71</td>\n",
       "      <td>104.76</td>\n",
       "      <td>25</td>\n",
       "      <td>2011-03-08 00:03:00</td>\n",
       "      <td>0.009547</td>\n",
       "    </tr>\n",
       "    <tr>\n",
       "      <th>...</th>\n",
       "      <td>...</td>\n",
       "      <td>...</td>\n",
       "      <td>...</td>\n",
       "      <td>...</td>\n",
       "      <td>...</td>\n",
       "      <td>...</td>\n",
       "      <td>...</td>\n",
       "      <td>...</td>\n",
       "      <td>...</td>\n",
       "    </tr>\n",
       "    <tr>\n",
       "      <th>2025-03-11 23:54:00-05:00</th>\n",
       "      <td>11/03/2025</td>\n",
       "      <td>23:54:00</td>\n",
       "      <td>66.75</td>\n",
       "      <td>66.75</td>\n",
       "      <td>66.75</td>\n",
       "      <td>66.75</td>\n",
       "      <td>13</td>\n",
       "      <td>2025-03-11 23:54:00</td>\n",
       "      <td>0.000000</td>\n",
       "    </tr>\n",
       "    <tr>\n",
       "      <th>2025-03-11 23:56:00-05:00</th>\n",
       "      <td>11/03/2025</td>\n",
       "      <td>23:56:00</td>\n",
       "      <td>66.75</td>\n",
       "      <td>66.75</td>\n",
       "      <td>66.74</td>\n",
       "      <td>66.74</td>\n",
       "      <td>3</td>\n",
       "      <td>2025-03-11 23:56:00</td>\n",
       "      <td>-0.014981</td>\n",
       "    </tr>\n",
       "    <tr>\n",
       "      <th>2025-03-11 23:58:00-05:00</th>\n",
       "      <td>11/03/2025</td>\n",
       "      <td>23:58:00</td>\n",
       "      <td>66.75</td>\n",
       "      <td>66.75</td>\n",
       "      <td>66.75</td>\n",
       "      <td>66.75</td>\n",
       "      <td>3</td>\n",
       "      <td>2025-03-11 23:58:00</td>\n",
       "      <td>0.014984</td>\n",
       "    </tr>\n",
       "    <tr>\n",
       "      <th>2025-03-11 23:59:00-05:00</th>\n",
       "      <td>11/03/2025</td>\n",
       "      <td>23:59:00</td>\n",
       "      <td>66.75</td>\n",
       "      <td>66.75</td>\n",
       "      <td>66.75</td>\n",
       "      <td>66.75</td>\n",
       "      <td>1</td>\n",
       "      <td>2025-03-11 23:59:00</td>\n",
       "      <td>0.000000</td>\n",
       "    </tr>\n",
       "    <tr>\n",
       "      <th>2025-03-12 00:00:00-05:00</th>\n",
       "      <td>12/03/2025</td>\n",
       "      <td>00:00:00</td>\n",
       "      <td>66.74</td>\n",
       "      <td>66.76</td>\n",
       "      <td>66.71</td>\n",
       "      <td>66.75</td>\n",
       "      <td>41</td>\n",
       "      <td>2025-03-12 00:00:00</td>\n",
       "      <td>0.000000</td>\n",
       "    </tr>\n",
       "  </tbody>\n",
       "</table>\n",
       "<p>4811559 rows × 9 columns</p>\n",
       "</div>"
      ],
      "text/plain": [
       "                                 Date      Time    Open    High     Low  \\\n",
       "Datetime_CST                                                              \n",
       "2011-03-07 23:59:00-06:00  07/03/2011  23:59:00  104.74  104.77  104.73   \n",
       "2011-03-08 00:00:00-06:00  08/03/2011  00:00:00  104.74  104.82  104.74   \n",
       "2011-03-08 00:01:00-06:00  08/03/2011  00:01:00  104.82  104.84  104.82   \n",
       "2011-03-08 00:02:00-06:00  08/03/2011  00:02:00  104.81  104.81  104.73   \n",
       "2011-03-08 00:03:00-06:00  08/03/2011  00:03:00  104.74  104.76  104.71   \n",
       "...                               ...       ...     ...     ...     ...   \n",
       "2025-03-11 23:54:00-05:00  11/03/2025  23:54:00   66.75   66.75   66.75   \n",
       "2025-03-11 23:56:00-05:00  11/03/2025  23:56:00   66.75   66.75   66.74   \n",
       "2025-03-11 23:58:00-05:00  11/03/2025  23:58:00   66.75   66.75   66.75   \n",
       "2025-03-11 23:59:00-05:00  11/03/2025  23:59:00   66.75   66.75   66.75   \n",
       "2025-03-12 00:00:00-05:00  12/03/2025  00:00:00   66.74   66.76   66.71   \n",
       "\n",
       "                            Close  Volume            Datetime  Percent_Change  \n",
       "Datetime_CST                                                                   \n",
       "2011-03-07 23:59:00-06:00  104.73      18 2011-03-07 23:59:00             NaN  \n",
       "2011-03-08 00:00:00-06:00  104.81      34 2011-03-08 00:00:00        0.076387  \n",
       "2011-03-08 00:01:00-06:00  104.82      12 2011-03-08 00:01:00        0.009541  \n",
       "2011-03-08 00:02:00-06:00  104.75      20 2011-03-08 00:02:00       -0.066781  \n",
       "2011-03-08 00:03:00-06:00  104.76      25 2011-03-08 00:03:00        0.009547  \n",
       "...                           ...     ...                 ...             ...  \n",
       "2025-03-11 23:54:00-05:00   66.75      13 2025-03-11 23:54:00        0.000000  \n",
       "2025-03-11 23:56:00-05:00   66.74       3 2025-03-11 23:56:00       -0.014981  \n",
       "2025-03-11 23:58:00-05:00   66.75       3 2025-03-11 23:58:00        0.014984  \n",
       "2025-03-11 23:59:00-05:00   66.75       1 2025-03-11 23:59:00        0.000000  \n",
       "2025-03-12 00:00:00-05:00   66.75      41 2025-03-12 00:00:00        0.000000  \n",
       "\n",
       "[4811559 rows x 9 columns]"
      ]
     },
     "metadata": {},
     "output_type": "display_data"
    },
    {
     "data": {
      "text/html": [
       "<div>\n",
       "<style scoped>\n",
       "    .dataframe tbody tr th:only-of-type {\n",
       "        vertical-align: middle;\n",
       "    }\n",
       "\n",
       "    .dataframe tbody tr th {\n",
       "        vertical-align: top;\n",
       "    }\n",
       "\n",
       "    .dataframe thead th {\n",
       "        text-align: right;\n",
       "    }\n",
       "</style>\n",
       "<table border=\"1\" class=\"dataframe\">\n",
       "  <thead>\n",
       "    <tr style=\"text-align: right;\">\n",
       "      <th></th>\n",
       "      <th>Release Date</th>\n",
       "      <th>Time</th>\n",
       "      <th>Actual</th>\n",
       "      <th>Forecast</th>\n",
       "      <th>Previous</th>\n",
       "      <th>Release_Datetime</th>\n",
       "      <th>Release_Datetime_EST</th>\n",
       "      <th>supply_surprise</th>\n",
       "    </tr>\n",
       "    <tr>\n",
       "      <th>Release_Datetime_CST</th>\n",
       "      <th></th>\n",
       "      <th></th>\n",
       "      <th></th>\n",
       "      <th></th>\n",
       "      <th></th>\n",
       "      <th></th>\n",
       "      <th></th>\n",
       "      <th></th>\n",
       "    </tr>\n",
       "  </thead>\n",
       "  <tbody>\n",
       "    <tr>\n",
       "      <th>2011-03-09 09:30:00-06:00</th>\n",
       "      <td>9-Mar-11</td>\n",
       "      <td>10:30</td>\n",
       "      <td>2.500M</td>\n",
       "      <td>1.100M</td>\n",
       "      <td>-0.400M</td>\n",
       "      <td>2011-03-09 10:30:00</td>\n",
       "      <td>2011-03-09 10:30:00-05:00</td>\n",
       "      <td>1.400</td>\n",
       "    </tr>\n",
       "    <tr>\n",
       "      <th>2011-03-16 08:30:00-05:00</th>\n",
       "      <td>16-Mar-11</td>\n",
       "      <td>9:30</td>\n",
       "      <td>1.700M</td>\n",
       "      <td>1.800M</td>\n",
       "      <td>2.500M</td>\n",
       "      <td>2011-03-16 09:30:00</td>\n",
       "      <td>2011-03-16 09:30:00-04:00</td>\n",
       "      <td>-0.100</td>\n",
       "    </tr>\n",
       "    <tr>\n",
       "      <th>2011-03-23 08:30:00-05:00</th>\n",
       "      <td>23-Mar-11</td>\n",
       "      <td>9:30</td>\n",
       "      <td>2.100M</td>\n",
       "      <td>2.000M</td>\n",
       "      <td>1.700M</td>\n",
       "      <td>2011-03-23 09:30:00</td>\n",
       "      <td>2011-03-23 09:30:00-04:00</td>\n",
       "      <td>0.100</td>\n",
       "    </tr>\n",
       "    <tr>\n",
       "      <th>2011-03-30 08:30:00-05:00</th>\n",
       "      <td>30-Mar-11</td>\n",
       "      <td>9:30</td>\n",
       "      <td>2.900M</td>\n",
       "      <td>2.000M</td>\n",
       "      <td>2.100M</td>\n",
       "      <td>2011-03-30 09:30:00</td>\n",
       "      <td>2011-03-30 09:30:00-04:00</td>\n",
       "      <td>0.900</td>\n",
       "    </tr>\n",
       "    <tr>\n",
       "      <th>2011-04-06 08:30:00-05:00</th>\n",
       "      <td>6-Apr-11</td>\n",
       "      <td>9:30</td>\n",
       "      <td>2.000M</td>\n",
       "      <td>1.300M</td>\n",
       "      <td>2.900M</td>\n",
       "      <td>2011-04-06 09:30:00</td>\n",
       "      <td>2011-04-06 09:30:00-04:00</td>\n",
       "      <td>0.700</td>\n",
       "    </tr>\n",
       "    <tr>\n",
       "      <th>...</th>\n",
       "      <td>...</td>\n",
       "      <td>...</td>\n",
       "      <td>...</td>\n",
       "      <td>...</td>\n",
       "      <td>...</td>\n",
       "      <td>...</td>\n",
       "      <td>...</td>\n",
       "      <td>...</td>\n",
       "    </tr>\n",
       "    <tr>\n",
       "      <th>2025-02-12 09:30:00-06:00</th>\n",
       "      <td>12-Feb-25</td>\n",
       "      <td>10:30</td>\n",
       "      <td>4.070M</td>\n",
       "      <td>2.400M</td>\n",
       "      <td>8.664M</td>\n",
       "      <td>2025-02-12 10:30:00</td>\n",
       "      <td>2025-02-12 10:30:00-05:00</td>\n",
       "      <td>1.670</td>\n",
       "    </tr>\n",
       "    <tr>\n",
       "      <th>2025-02-20 11:00:00-06:00</th>\n",
       "      <td>20-Feb-25</td>\n",
       "      <td>12:00</td>\n",
       "      <td>4.633M</td>\n",
       "      <td>3.200M</td>\n",
       "      <td>4.070M</td>\n",
       "      <td>2025-02-20 12:00:00</td>\n",
       "      <td>2025-02-20 12:00:00-05:00</td>\n",
       "      <td>1.433</td>\n",
       "    </tr>\n",
       "    <tr>\n",
       "      <th>2025-02-26 09:00:00-06:00</th>\n",
       "      <td>26-Feb-25</td>\n",
       "      <td>10:00</td>\n",
       "      <td>-2.332M</td>\n",
       "      <td>2.500M</td>\n",
       "      <td>4.633M</td>\n",
       "      <td>2025-02-26 10:00:00</td>\n",
       "      <td>2025-02-26 10:00:00-05:00</td>\n",
       "      <td>-4.832</td>\n",
       "    </tr>\n",
       "    <tr>\n",
       "      <th>2025-03-05 09:30:00-06:00</th>\n",
       "      <td>5-Mar-25</td>\n",
       "      <td>10:30</td>\n",
       "      <td>3.614M</td>\n",
       "      <td>0.600M</td>\n",
       "      <td>-2.332M</td>\n",
       "      <td>2025-03-05 10:30:00</td>\n",
       "      <td>2025-03-05 10:30:00-05:00</td>\n",
       "      <td>3.014</td>\n",
       "    </tr>\n",
       "    <tr>\n",
       "      <th>2025-03-12 07:30:00-05:00</th>\n",
       "      <td>12-Mar-25</td>\n",
       "      <td>8:30</td>\n",
       "      <td>NaN</td>\n",
       "      <td>NaN</td>\n",
       "      <td>3.614M</td>\n",
       "      <td>2025-03-12 08:30:00</td>\n",
       "      <td>2025-03-12 08:30:00-04:00</td>\n",
       "      <td>NaN</td>\n",
       "    </tr>\n",
       "  </tbody>\n",
       "</table>\n",
       "<p>732 rows × 8 columns</p>\n",
       "</div>"
      ],
      "text/plain": [
       "                          Release Date   Time   Actual Forecast Previous  \\\n",
       "Release_Datetime_CST                                                       \n",
       "2011-03-09 09:30:00-06:00     9-Mar-11  10:30   2.500M   1.100M  -0.400M   \n",
       "2011-03-16 08:30:00-05:00    16-Mar-11   9:30   1.700M   1.800M   2.500M   \n",
       "2011-03-23 08:30:00-05:00    23-Mar-11   9:30   2.100M   2.000M   1.700M   \n",
       "2011-03-30 08:30:00-05:00    30-Mar-11   9:30   2.900M   2.000M   2.100M   \n",
       "2011-04-06 08:30:00-05:00     6-Apr-11   9:30   2.000M   1.300M   2.900M   \n",
       "...                                ...    ...      ...      ...      ...   \n",
       "2025-02-12 09:30:00-06:00    12-Feb-25  10:30   4.070M   2.400M   8.664M   \n",
       "2025-02-20 11:00:00-06:00    20-Feb-25  12:00   4.633M   3.200M   4.070M   \n",
       "2025-02-26 09:00:00-06:00    26-Feb-25  10:00  -2.332M   2.500M   4.633M   \n",
       "2025-03-05 09:30:00-06:00     5-Mar-25  10:30   3.614M   0.600M  -2.332M   \n",
       "2025-03-12 07:30:00-05:00    12-Mar-25   8:30      NaN      NaN   3.614M   \n",
       "\n",
       "                             Release_Datetime      Release_Datetime_EST  \\\n",
       "Release_Datetime_CST                                                      \n",
       "2011-03-09 09:30:00-06:00 2011-03-09 10:30:00 2011-03-09 10:30:00-05:00   \n",
       "2011-03-16 08:30:00-05:00 2011-03-16 09:30:00 2011-03-16 09:30:00-04:00   \n",
       "2011-03-23 08:30:00-05:00 2011-03-23 09:30:00 2011-03-23 09:30:00-04:00   \n",
       "2011-03-30 08:30:00-05:00 2011-03-30 09:30:00 2011-03-30 09:30:00-04:00   \n",
       "2011-04-06 08:30:00-05:00 2011-04-06 09:30:00 2011-04-06 09:30:00-04:00   \n",
       "...                                       ...                       ...   \n",
       "2025-02-12 09:30:00-06:00 2025-02-12 10:30:00 2025-02-12 10:30:00-05:00   \n",
       "2025-02-20 11:00:00-06:00 2025-02-20 12:00:00 2025-02-20 12:00:00-05:00   \n",
       "2025-02-26 09:00:00-06:00 2025-02-26 10:00:00 2025-02-26 10:00:00-05:00   \n",
       "2025-03-05 09:30:00-06:00 2025-03-05 10:30:00 2025-03-05 10:30:00-05:00   \n",
       "2025-03-12 07:30:00-05:00 2025-03-12 08:30:00 2025-03-12 08:30:00-04:00   \n",
       "\n",
       "                           supply_surprise  \n",
       "Release_Datetime_CST                        \n",
       "2011-03-09 09:30:00-06:00            1.400  \n",
       "2011-03-16 08:30:00-05:00           -0.100  \n",
       "2011-03-23 08:30:00-05:00            0.100  \n",
       "2011-03-30 08:30:00-05:00            0.900  \n",
       "2011-04-06 08:30:00-05:00            0.700  \n",
       "...                                    ...  \n",
       "2025-02-12 09:30:00-06:00            1.670  \n",
       "2025-02-20 11:00:00-06:00            1.433  \n",
       "2025-02-26 09:00:00-06:00           -4.832  \n",
       "2025-03-05 09:30:00-06:00            3.014  \n",
       "2025-03-12 07:30:00-05:00              NaN  \n",
       "\n",
       "[732 rows x 8 columns]"
      ]
     },
     "metadata": {},
     "output_type": "display_data"
    }
   ],
   "source": [
    "display(min_WTI)\n",
    "display(icom_eia_forecasts)"
   ]
  },
  {
   "cell_type": "code",
   "execution_count": 59,
   "metadata": {},
   "outputs": [
    {
     "data": {
      "text/plain": [
       "np.int64(3840660)"
      ]
     },
     "metadata": {},
     "output_type": "display_data"
    },
    {
     "name": "stdout",
     "output_type": "stream",
     "text": [
      "Original min_WTI date range: 2011-03-07 to 2025-03-12\n",
      "Filtered min_WTI date range (EIA days removed): 2011-03-07 to 2025-03-11\n",
      "Original min_WTI rows: 4811559\n",
      "Filtered min_WTI rows (EIA days removed): 3840660\n"
     ]
    },
    {
     "data": {
      "text/html": [
       "<div>\n",
       "<style scoped>\n",
       "    .dataframe tbody tr th:only-of-type {\n",
       "        vertical-align: middle;\n",
       "    }\n",
       "\n",
       "    .dataframe tbody tr th {\n",
       "        vertical-align: top;\n",
       "    }\n",
       "\n",
       "    .dataframe thead th {\n",
       "        text-align: right;\n",
       "    }\n",
       "</style>\n",
       "<table border=\"1\" class=\"dataframe\">\n",
       "  <thead>\n",
       "    <tr style=\"text-align: right;\">\n",
       "      <th></th>\n",
       "      <th>Datetime_CST</th>\n",
       "      <th>Date</th>\n",
       "      <th>Time</th>\n",
       "      <th>Open</th>\n",
       "      <th>High</th>\n",
       "      <th>Low</th>\n",
       "      <th>Close</th>\n",
       "      <th>Volume</th>\n",
       "      <th>Datetime</th>\n",
       "      <th>Percent_Change</th>\n",
       "    </tr>\n",
       "  </thead>\n",
       "  <tbody>\n",
       "    <tr>\n",
       "      <th>0</th>\n",
       "      <td>2011-03-07 23:59:00-06:00</td>\n",
       "      <td>07/03/2011</td>\n",
       "      <td>23:59:00</td>\n",
       "      <td>104.74</td>\n",
       "      <td>104.77</td>\n",
       "      <td>104.73</td>\n",
       "      <td>104.73</td>\n",
       "      <td>18</td>\n",
       "      <td>2011-03-07 23:59:00</td>\n",
       "      <td>NaN</td>\n",
       "    </tr>\n",
       "    <tr>\n",
       "      <th>1</th>\n",
       "      <td>2011-03-08 00:00:00-06:00</td>\n",
       "      <td>08/03/2011</td>\n",
       "      <td>00:00:00</td>\n",
       "      <td>104.74</td>\n",
       "      <td>104.82</td>\n",
       "      <td>104.74</td>\n",
       "      <td>104.81</td>\n",
       "      <td>34</td>\n",
       "      <td>2011-03-08 00:00:00</td>\n",
       "      <td>0.076387</td>\n",
       "    </tr>\n",
       "    <tr>\n",
       "      <th>2</th>\n",
       "      <td>2011-03-08 00:01:00-06:00</td>\n",
       "      <td>08/03/2011</td>\n",
       "      <td>00:01:00</td>\n",
       "      <td>104.82</td>\n",
       "      <td>104.84</td>\n",
       "      <td>104.82</td>\n",
       "      <td>104.82</td>\n",
       "      <td>12</td>\n",
       "      <td>2011-03-08 00:01:00</td>\n",
       "      <td>0.009541</td>\n",
       "    </tr>\n",
       "    <tr>\n",
       "      <th>3</th>\n",
       "      <td>2011-03-08 00:02:00-06:00</td>\n",
       "      <td>08/03/2011</td>\n",
       "      <td>00:02:00</td>\n",
       "      <td>104.81</td>\n",
       "      <td>104.81</td>\n",
       "      <td>104.73</td>\n",
       "      <td>104.75</td>\n",
       "      <td>20</td>\n",
       "      <td>2011-03-08 00:02:00</td>\n",
       "      <td>-0.066781</td>\n",
       "    </tr>\n",
       "    <tr>\n",
       "      <th>4</th>\n",
       "      <td>2011-03-08 00:03:00-06:00</td>\n",
       "      <td>08/03/2011</td>\n",
       "      <td>00:03:00</td>\n",
       "      <td>104.74</td>\n",
       "      <td>104.76</td>\n",
       "      <td>104.71</td>\n",
       "      <td>104.76</td>\n",
       "      <td>25</td>\n",
       "      <td>2011-03-08 00:03:00</td>\n",
       "      <td>0.009547</td>\n",
       "    </tr>\n",
       "    <tr>\n",
       "      <th>...</th>\n",
       "      <td>...</td>\n",
       "      <td>...</td>\n",
       "      <td>...</td>\n",
       "      <td>...</td>\n",
       "      <td>...</td>\n",
       "      <td>...</td>\n",
       "      <td>...</td>\n",
       "      <td>...</td>\n",
       "      <td>...</td>\n",
       "      <td>...</td>\n",
       "    </tr>\n",
       "    <tr>\n",
       "      <th>4811553</th>\n",
       "      <td>2025-03-11 23:53:00-05:00</td>\n",
       "      <td>11/03/2025</td>\n",
       "      <td>23:53:00</td>\n",
       "      <td>66.75</td>\n",
       "      <td>66.76</td>\n",
       "      <td>66.74</td>\n",
       "      <td>66.75</td>\n",
       "      <td>23</td>\n",
       "      <td>2025-03-11 23:53:00</td>\n",
       "      <td>0.000000</td>\n",
       "    </tr>\n",
       "    <tr>\n",
       "      <th>4811554</th>\n",
       "      <td>2025-03-11 23:54:00-05:00</td>\n",
       "      <td>11/03/2025</td>\n",
       "      <td>23:54:00</td>\n",
       "      <td>66.75</td>\n",
       "      <td>66.75</td>\n",
       "      <td>66.75</td>\n",
       "      <td>66.75</td>\n",
       "      <td>13</td>\n",
       "      <td>2025-03-11 23:54:00</td>\n",
       "      <td>0.000000</td>\n",
       "    </tr>\n",
       "    <tr>\n",
       "      <th>4811555</th>\n",
       "      <td>2025-03-11 23:56:00-05:00</td>\n",
       "      <td>11/03/2025</td>\n",
       "      <td>23:56:00</td>\n",
       "      <td>66.75</td>\n",
       "      <td>66.75</td>\n",
       "      <td>66.74</td>\n",
       "      <td>66.74</td>\n",
       "      <td>3</td>\n",
       "      <td>2025-03-11 23:56:00</td>\n",
       "      <td>-0.014981</td>\n",
       "    </tr>\n",
       "    <tr>\n",
       "      <th>4811556</th>\n",
       "      <td>2025-03-11 23:58:00-05:00</td>\n",
       "      <td>11/03/2025</td>\n",
       "      <td>23:58:00</td>\n",
       "      <td>66.75</td>\n",
       "      <td>66.75</td>\n",
       "      <td>66.75</td>\n",
       "      <td>66.75</td>\n",
       "      <td>3</td>\n",
       "      <td>2025-03-11 23:58:00</td>\n",
       "      <td>0.014984</td>\n",
       "    </tr>\n",
       "    <tr>\n",
       "      <th>4811557</th>\n",
       "      <td>2025-03-11 23:59:00-05:00</td>\n",
       "      <td>11/03/2025</td>\n",
       "      <td>23:59:00</td>\n",
       "      <td>66.75</td>\n",
       "      <td>66.75</td>\n",
       "      <td>66.75</td>\n",
       "      <td>66.75</td>\n",
       "      <td>1</td>\n",
       "      <td>2025-03-11 23:59:00</td>\n",
       "      <td>0.000000</td>\n",
       "    </tr>\n",
       "  </tbody>\n",
       "</table>\n",
       "<p>3840660 rows × 10 columns</p>\n",
       "</div>"
      ],
      "text/plain": [
       "                     Datetime_CST        Date      Time    Open    High  \\\n",
       "0       2011-03-07 23:59:00-06:00  07/03/2011  23:59:00  104.74  104.77   \n",
       "1       2011-03-08 00:00:00-06:00  08/03/2011  00:00:00  104.74  104.82   \n",
       "2       2011-03-08 00:01:00-06:00  08/03/2011  00:01:00  104.82  104.84   \n",
       "3       2011-03-08 00:02:00-06:00  08/03/2011  00:02:00  104.81  104.81   \n",
       "4       2011-03-08 00:03:00-06:00  08/03/2011  00:03:00  104.74  104.76   \n",
       "...                           ...         ...       ...     ...     ...   \n",
       "4811553 2025-03-11 23:53:00-05:00  11/03/2025  23:53:00   66.75   66.76   \n",
       "4811554 2025-03-11 23:54:00-05:00  11/03/2025  23:54:00   66.75   66.75   \n",
       "4811555 2025-03-11 23:56:00-05:00  11/03/2025  23:56:00   66.75   66.75   \n",
       "4811556 2025-03-11 23:58:00-05:00  11/03/2025  23:58:00   66.75   66.75   \n",
       "4811557 2025-03-11 23:59:00-05:00  11/03/2025  23:59:00   66.75   66.75   \n",
       "\n",
       "            Low   Close  Volume            Datetime  Percent_Change  \n",
       "0        104.73  104.73      18 2011-03-07 23:59:00             NaN  \n",
       "1        104.74  104.81      34 2011-03-08 00:00:00        0.076387  \n",
       "2        104.82  104.82      12 2011-03-08 00:01:00        0.009541  \n",
       "3        104.73  104.75      20 2011-03-08 00:02:00       -0.066781  \n",
       "4        104.71  104.76      25 2011-03-08 00:03:00        0.009547  \n",
       "...         ...     ...     ...                 ...             ...  \n",
       "4811553   66.74   66.75      23 2025-03-11 23:53:00        0.000000  \n",
       "4811554   66.75   66.75      13 2025-03-11 23:54:00        0.000000  \n",
       "4811555   66.74   66.74       3 2025-03-11 23:56:00       -0.014981  \n",
       "4811556   66.75   66.75       3 2025-03-11 23:58:00        0.014984  \n",
       "4811557   66.75   66.75       1 2025-03-11 23:59:00        0.000000  \n",
       "\n",
       "[3840660 rows x 10 columns]"
      ]
     },
     "metadata": {},
     "output_type": "display_data"
    }
   ],
   "source": [
    "\n",
    "# 1. Extract the *dates* of EIA releases from 'icom_eia_forecasts'\n",
    "eia_release_dates = icom_eia_forecasts.reset_index()['Release_Datetime_CST'].dt.date\n",
    "# 2. Extract the *dates* from 'min_WTI['Datetime_Chicago_Aware']'\n",
    "min_wti_dates = min_WTI.reset_index()['Datetime_CST'].dt.date\n",
    "# 3. Identify dates in 'min_WTI' that are *not* in the EIA release dates list\n",
    "#    We use `.isin()` to check if each date in 'min_wti_dates' is present in 'eia_release_dates'\n",
    "#    Then we negate it with `~` to get the dates that are *not* in the EIA release dates.\n",
    "mask_non_eia_days = ~min_wti_dates.isin(eia_release_dates)\n",
    "display(mask_non_eia_days.sum())\n",
    "\n",
    "# 4. Apply the mask to filter 'min_WTI'\n",
    "min_WTI_no_eia_days = min_WTI.reset_index()[mask_non_eia_days].copy() # Use .copy() to avoid SettingWithCopyWarning if you modify later\n",
    "\n",
    "# 5. (Optional) Verify the filtering - check the date ranges of the original and filtered dataframes\n",
    "print(\"Original min_WTI date range:\", min_WTI.reset_index()['Datetime_CST'].dt.date.min(), \"to\", min_WTI.reset_index()['Datetime_CST'].dt.date.max())\n",
    "print(\"Filtered min_WTI date range (EIA days removed):\", min_WTI_no_eia_days['Datetime_CST'].dt.date.min(), \"to\", min_WTI_no_eia_days['Datetime_CST'].dt.date.max())\n",
    "\n",
    "# 6. (Optional) Count rows before and after filtering\n",
    "print(f\"Original min_WTI rows: {len(min_WTI)}\")\n",
    "print(f\"Filtered min_WTI rows (EIA days removed): {len(min_WTI_no_eia_days)}\")\n",
    "\n",
    "# Now 'min_WTI_no_eia_days' contains your minute-resolution WTI data,\n",
    "# with all rows from days that had an EIA release removed.\n",
    "\n",
    "# You can proceed with your analysis (e.g., recalculating percentage price changes, histograms)\n",
    "# using 'min_WTI_no_eia_days' instead of 'min_WTI'.\n",
    "display(min_WTI_no_eia_days)"
   ]
  },
  {
   "cell_type": "code",
   "execution_count": 60,
   "metadata": {},
   "outputs": [
    {
     "name": "stdout",
     "output_type": "stream",
     "text": [
      "                Datetime_CST      Release_Datetime_CST  Actual Forecast\n",
      "0  2011-03-07 23:59:00-06:00 2011-03-09 09:30:00-06:00  2.500M   1.100M\n",
      "1  2011-03-08 00:00:00-06:00 2011-03-09 09:30:00-06:00  2.500M   1.100M\n",
      "2  2011-03-08 00:01:00-06:00 2011-03-09 09:30:00-06:00  2.500M   1.100M\n",
      "3  2011-03-08 00:02:00-06:00 2011-03-09 09:30:00-06:00  2.500M   1.100M\n",
      "4  2011-03-08 00:03:00-06:00 2011-03-09 09:30:00-06:00  2.500M   1.100M\n",
      "5  2011-03-08 00:04:00-06:00 2011-03-09 09:30:00-06:00  2.500M   1.100M\n",
      "6  2011-03-08 00:05:00-06:00 2011-03-09 09:30:00-06:00  2.500M   1.100M\n",
      "7  2011-03-08 00:06:00-06:00 2011-03-09 09:30:00-06:00  2.500M   1.100M\n",
      "8  2011-03-08 00:07:00-06:00 2011-03-09 09:30:00-06:00  2.500M   1.100M\n",
      "9  2011-03-08 00:08:00-06:00 2011-03-09 09:30:00-06:00  2.500M   1.100M\n",
      "10 2011-03-08 00:09:00-06:00 2011-03-09 09:30:00-06:00  2.500M   1.100M\n",
      "11 2011-03-08 00:10:00-06:00 2011-03-09 09:30:00-06:00  2.500M   1.100M\n",
      "12 2011-03-08 00:11:00-06:00 2011-03-09 09:30:00-06:00  2.500M   1.100M\n",
      "13 2011-03-08 00:12:00-06:00 2011-03-09 09:30:00-06:00  2.500M   1.100M\n",
      "14 2011-03-08 00:13:00-06:00 2011-03-09 09:30:00-06:00  2.500M   1.100M\n",
      "15 2011-03-08 00:14:00-06:00 2011-03-09 09:30:00-06:00  2.500M   1.100M\n",
      "16 2011-03-08 00:15:00-06:00 2011-03-09 09:30:00-06:00  2.500M   1.100M\n",
      "17 2011-03-08 00:16:00-06:00 2011-03-09 09:30:00-06:00  2.500M   1.100M\n",
      "18 2011-03-08 00:17:00-06:00 2011-03-09 09:30:00-06:00  2.500M   1.100M\n",
      "19 2011-03-08 00:18:00-06:00 2011-03-09 09:30:00-06:00  2.500M   1.100M\n",
      "                           index        Date    Time_x    Open    High  \\\n",
      "Datetime_CST                                                             \n",
      "2011-03-07 23:59:00-06:00      0  07/03/2011  23:59:00  104.74  104.77   \n",
      "2011-03-08 00:00:00-06:00      1  08/03/2011  00:00:00  104.74  104.82   \n",
      "2011-03-08 00:01:00-06:00      2  08/03/2011  00:01:00  104.82  104.84   \n",
      "2011-03-08 00:02:00-06:00      3  08/03/2011  00:02:00  104.81  104.81   \n",
      "2011-03-08 00:03:00-06:00      4  08/03/2011  00:03:00  104.74  104.76   \n",
      "2011-03-08 00:04:00-06:00      5  08/03/2011  00:04:00  104.74  104.74   \n",
      "2011-03-08 00:05:00-06:00      6  08/03/2011  00:05:00  104.71  104.71   \n",
      "2011-03-08 00:06:00-06:00      7  08/03/2011  00:06:00  104.67  104.67   \n",
      "2011-03-08 00:07:00-06:00      8  08/03/2011  00:07:00  104.65  104.67   \n",
      "2011-03-08 00:08:00-06:00      9  08/03/2011  00:08:00  104.62  104.67   \n",
      "2011-03-08 00:09:00-06:00     10  08/03/2011  00:09:00  104.63  104.64   \n",
      "2011-03-08 00:10:00-06:00     11  08/03/2011  00:10:00  104.60  104.60   \n",
      "2011-03-08 00:11:00-06:00     12  08/03/2011  00:11:00  104.58  104.65   \n",
      "2011-03-08 00:12:00-06:00     13  08/03/2011  00:12:00  104.65  104.66   \n",
      "2011-03-08 00:13:00-06:00     14  08/03/2011  00:13:00  104.54  104.57   \n",
      "2011-03-08 00:14:00-06:00     15  08/03/2011  00:14:00  104.54  104.54   \n",
      "2011-03-08 00:15:00-06:00     16  08/03/2011  00:15:00  104.36  104.37   \n",
      "2011-03-08 00:16:00-06:00     17  08/03/2011  00:16:00  104.29  104.30   \n",
      "2011-03-08 00:17:00-06:00     18  08/03/2011  00:17:00  104.15  104.17   \n",
      "2011-03-08 00:18:00-06:00     19  08/03/2011  00:18:00  104.08  104.14   \n",
      "2011-03-08 00:19:00-06:00     20  08/03/2011  00:19:00  103.84  103.95   \n",
      "2011-03-08 00:20:00-06:00     21  08/03/2011  00:20:00  103.90  103.94   \n",
      "2011-03-08 00:21:00-06:00     22  08/03/2011  00:21:00  103.94  103.97   \n",
      "2011-03-08 00:22:00-06:00     23  08/03/2011  00:22:00  103.92  104.13   \n",
      "2011-03-08 00:23:00-06:00     24  08/03/2011  00:23:00  103.93  103.99   \n",
      "2011-03-08 00:24:00-06:00     25  08/03/2011  00:24:00  103.93  103.93   \n",
      "2011-03-08 00:25:00-06:00     26  08/03/2011  00:25:00  103.90  103.97   \n",
      "2011-03-08 00:26:00-06:00     27  08/03/2011  00:26:00  103.97  103.97   \n",
      "2011-03-08 00:27:00-06:00     28  08/03/2011  00:27:00  103.81  103.87   \n",
      "2011-03-08 00:28:00-06:00     29  08/03/2011  00:28:00  103.84  103.92   \n",
      "2011-03-08 00:29:00-06:00     30  08/03/2011  00:29:00  103.89  103.98   \n",
      "2011-03-08 00:30:00-06:00     31  08/03/2011  00:30:00  103.91  103.95   \n",
      "2011-03-08 00:31:00-06:00     32  08/03/2011  00:31:00  103.89  103.93   \n",
      "2011-03-08 00:32:00-06:00     33  08/03/2011  00:32:00  103.94  103.94   \n",
      "2011-03-08 00:33:00-06:00     34  08/03/2011  00:33:00  103.93  103.95   \n",
      "2011-03-08 00:34:00-06:00     35  08/03/2011  00:34:00  103.92  104.00   \n",
      "2011-03-08 00:35:00-06:00     36  08/03/2011  00:35:00  103.99  104.11   \n",
      "2011-03-08 00:36:00-06:00     37  08/03/2011  00:36:00  104.08  104.10   \n",
      "2011-03-08 00:37:00-06:00     38  08/03/2011  00:37:00  104.03  104.06   \n",
      "2011-03-08 00:38:00-06:00     39  08/03/2011  00:38:00  104.07  104.09   \n",
      "2011-03-08 00:39:00-06:00     40  08/03/2011  00:39:00  104.03  104.08   \n",
      "2011-03-08 00:40:00-06:00     41  08/03/2011  00:40:00  104.07  104.10   \n",
      "2011-03-08 00:41:00-06:00     42  08/03/2011  00:41:00  104.12  104.14   \n",
      "2011-03-08 00:42:00-06:00     43  08/03/2011  00:42:00  104.14  104.26   \n",
      "2011-03-08 00:43:00-06:00     44  08/03/2011  00:43:00  104.22  104.26   \n",
      "2011-03-08 00:44:00-06:00     45  08/03/2011  00:44:00  104.21  104.24   \n",
      "2011-03-08 00:45:00-06:00     46  08/03/2011  00:45:00  104.20  104.21   \n",
      "2011-03-08 00:46:00-06:00     47  08/03/2011  00:46:00  104.13  104.21   \n",
      "2011-03-08 00:47:00-06:00     48  08/03/2011  00:47:00  104.05  104.06   \n",
      "2011-03-08 00:48:00-06:00     49  08/03/2011  00:48:00  103.96  104.07   \n",
      "\n",
      "                              Low   Close  Volume            Datetime  \\\n",
      "Datetime_CST                                                            \n",
      "2011-03-07 23:59:00-06:00  104.73  104.73      18 2011-03-07 23:59:00   \n",
      "2011-03-08 00:00:00-06:00  104.74  104.81      34 2011-03-08 00:00:00   \n",
      "2011-03-08 00:01:00-06:00  104.82  104.82      12 2011-03-08 00:01:00   \n",
      "2011-03-08 00:02:00-06:00  104.73  104.75      20 2011-03-08 00:02:00   \n",
      "2011-03-08 00:03:00-06:00  104.71  104.76      25 2011-03-08 00:03:00   \n",
      "2011-03-08 00:04:00-06:00  104.70  104.70      22 2011-03-08 00:04:00   \n",
      "2011-03-08 00:05:00-06:00  104.67  104.69      26 2011-03-08 00:05:00   \n",
      "2011-03-08 00:06:00-06:00  104.64  104.64      15 2011-03-08 00:06:00   \n",
      "2011-03-08 00:07:00-06:00  104.62  104.62      20 2011-03-08 00:07:00   \n",
      "2011-03-08 00:08:00-06:00  104.62  104.63      29 2011-03-08 00:08:00   \n",
      "2011-03-08 00:09:00-06:00  104.60  104.60       9 2011-03-08 00:09:00   \n",
      "2011-03-08 00:10:00-06:00  104.55  104.56      31 2011-03-08 00:10:00   \n",
      "2011-03-08 00:11:00-06:00  104.58  104.65      25 2011-03-08 00:11:00   \n",
      "2011-03-08 00:12:00-06:00  104.54  104.54      62 2011-03-08 00:12:00   \n",
      "2011-03-08 00:13:00-06:00  104.53  104.55      31 2011-03-08 00:13:00   \n",
      "2011-03-08 00:14:00-06:00  104.32  104.34     478 2011-03-08 00:14:00   \n",
      "2011-03-08 00:15:00-06:00  104.28  104.29     301 2011-03-08 00:15:00   \n",
      "2011-03-08 00:16:00-06:00  104.15  104.15     409 2011-03-08 00:16:00   \n",
      "2011-03-08 00:17:00-06:00  104.07  104.09     208 2011-03-08 00:17:00   \n",
      "2011-03-08 00:18:00-06:00  103.75  103.85     906 2011-03-08 00:18:00   \n",
      "2011-03-08 00:19:00-06:00  103.82  103.87     229 2011-03-08 00:19:00   \n",
      "2011-03-08 00:20:00-06:00  103.85  103.94     111 2011-03-08 00:20:00   \n",
      "2011-03-08 00:21:00-06:00  103.93  103.93      76 2011-03-08 00:21:00   \n",
      "2011-03-08 00:22:00-06:00  103.91  103.93     269 2011-03-08 00:22:00   \n",
      "2011-03-08 00:23:00-06:00  103.92  103.95      48 2011-03-08 00:23:00   \n",
      "2011-03-08 00:24:00-06:00  103.86  103.89     133 2011-03-08 00:24:00   \n",
      "2011-03-08 00:25:00-06:00  103.82  103.97      99 2011-03-08 00:25:00   \n",
      "2011-03-08 00:26:00-06:00  103.77  103.80     187 2011-03-08 00:26:00   \n",
      "2011-03-08 00:27:00-06:00  103.77  103.82      55 2011-03-08 00:27:00   \n",
      "2011-03-08 00:28:00-06:00  103.84  103.90      37 2011-03-08 00:28:00   \n",
      "2011-03-08 00:29:00-06:00  103.89  103.92      65 2011-03-08 00:29:00   \n",
      "2011-03-08 00:30:00-06:00  103.89  103.89      26 2011-03-08 00:30:00   \n",
      "2011-03-08 00:31:00-06:00  103.88  103.92      34 2011-03-08 00:31:00   \n",
      "2011-03-08 00:32:00-06:00  103.86  103.89      64 2011-03-08 00:32:00   \n",
      "2011-03-08 00:33:00-06:00  103.91  103.94      23 2011-03-08 00:33:00   \n",
      "2011-03-08 00:34:00-06:00  103.88  104.00      92 2011-03-08 00:34:00   \n",
      "2011-03-08 00:35:00-06:00  103.97  104.10     132 2011-03-08 00:35:00   \n",
      "2011-03-08 00:36:00-06:00  104.02  104.02      27 2011-03-08 00:36:00   \n",
      "2011-03-08 00:37:00-06:00  104.03  104.05      20 2011-03-08 00:37:00   \n",
      "2011-03-08 00:38:00-06:00  104.03  104.03      31 2011-03-08 00:38:00   \n",
      "2011-03-08 00:39:00-06:00  103.98  104.07      39 2011-03-08 00:39:00   \n",
      "2011-03-08 00:40:00-06:00  104.06  104.10      32 2011-03-08 00:40:00   \n",
      "2011-03-08 00:41:00-06:00  104.11  104.14      39 2011-03-08 00:41:00   \n",
      "2011-03-08 00:42:00-06:00  104.13  104.21     170 2011-03-08 00:42:00   \n",
      "2011-03-08 00:43:00-06:00  104.18  104.20      90 2011-03-08 00:43:00   \n",
      "2011-03-08 00:44:00-06:00  104.19  104.19      33 2011-03-08 00:44:00   \n",
      "2011-03-08 00:45:00-06:00  104.14  104.14      37 2011-03-08 00:45:00   \n",
      "2011-03-08 00:46:00-06:00  104.05  104.05      76 2011-03-08 00:46:00   \n",
      "2011-03-08 00:47:00-06:00  103.95  103.97      62 2011-03-08 00:47:00   \n",
      "2011-03-08 00:48:00-06:00  103.95  104.05      65 2011-03-08 00:48:00   \n",
      "\n",
      "                           Percent_Change      Release_Datetime_CST  \\\n",
      "Datetime_CST                                                          \n",
      "2011-03-07 23:59:00-06:00             NaN 2011-03-09 09:30:00-06:00   \n",
      "2011-03-08 00:00:00-06:00        0.076387 2011-03-09 09:30:00-06:00   \n",
      "2011-03-08 00:01:00-06:00        0.009541 2011-03-09 09:30:00-06:00   \n",
      "2011-03-08 00:02:00-06:00       -0.066781 2011-03-09 09:30:00-06:00   \n",
      "2011-03-08 00:03:00-06:00        0.009547 2011-03-09 09:30:00-06:00   \n",
      "2011-03-08 00:04:00-06:00       -0.057274 2011-03-09 09:30:00-06:00   \n",
      "2011-03-08 00:05:00-06:00       -0.009551 2011-03-09 09:30:00-06:00   \n",
      "2011-03-08 00:06:00-06:00       -0.047760 2011-03-09 09:30:00-06:00   \n",
      "2011-03-08 00:07:00-06:00       -0.019113 2011-03-09 09:30:00-06:00   \n",
      "2011-03-08 00:08:00-06:00        0.009558 2011-03-09 09:30:00-06:00   \n",
      "2011-03-08 00:09:00-06:00       -0.028672 2011-03-09 09:30:00-06:00   \n",
      "2011-03-08 00:10:00-06:00       -0.038241 2011-03-09 09:30:00-06:00   \n",
      "2011-03-08 00:11:00-06:00        0.086075 2011-03-09 09:30:00-06:00   \n",
      "2011-03-08 00:12:00-06:00       -0.105112 2011-03-09 09:30:00-06:00   \n",
      "2011-03-08 00:13:00-06:00        0.009566 2011-03-09 09:30:00-06:00   \n",
      "2011-03-08 00:14:00-06:00       -0.200861 2011-03-09 09:30:00-06:00   \n",
      "2011-03-08 00:15:00-06:00       -0.047920 2011-03-09 09:30:00-06:00   \n",
      "2011-03-08 00:16:00-06:00       -0.134241 2011-03-09 09:30:00-06:00   \n",
      "2011-03-08 00:17:00-06:00       -0.057609 2011-03-09 09:30:00-06:00   \n",
      "2011-03-08 00:18:00-06:00       -0.230570 2011-03-09 09:30:00-06:00   \n",
      "2011-03-08 00:19:00-06:00        0.019259 2011-03-09 09:30:00-06:00   \n",
      "2011-03-08 00:20:00-06:00        0.067392 2011-03-09 09:30:00-06:00   \n",
      "2011-03-08 00:21:00-06:00       -0.009621 2011-03-09 09:30:00-06:00   \n",
      "2011-03-08 00:22:00-06:00        0.000000 2011-03-09 09:30:00-06:00   \n",
      "2011-03-08 00:23:00-06:00        0.019244 2011-03-09 09:30:00-06:00   \n",
      "2011-03-08 00:24:00-06:00       -0.057720 2011-03-09 09:30:00-06:00   \n",
      "2011-03-08 00:25:00-06:00        0.077005 2011-03-09 09:30:00-06:00   \n",
      "2011-03-08 00:26:00-06:00       -0.163509 2011-03-09 09:30:00-06:00   \n",
      "2011-03-08 00:27:00-06:00        0.019268 2011-03-09 09:30:00-06:00   \n",
      "2011-03-08 00:28:00-06:00        0.077056 2011-03-09 09:30:00-06:00   \n",
      "2011-03-08 00:29:00-06:00        0.019249 2011-03-09 09:30:00-06:00   \n",
      "2011-03-08 00:30:00-06:00       -0.028868 2011-03-09 09:30:00-06:00   \n",
      "2011-03-08 00:31:00-06:00        0.028877 2011-03-09 09:30:00-06:00   \n",
      "2011-03-08 00:32:00-06:00       -0.028868 2011-03-09 09:30:00-06:00   \n",
      "2011-03-08 00:33:00-06:00        0.048128 2011-03-09 09:30:00-06:00   \n",
      "2011-03-08 00:34:00-06:00        0.057726 2011-03-09 09:30:00-06:00   \n",
      "2011-03-08 00:35:00-06:00        0.096154 2011-03-09 09:30:00-06:00   \n",
      "2011-03-08 00:36:00-06:00       -0.076849 2011-03-09 09:30:00-06:00   \n",
      "2011-03-08 00:37:00-06:00        0.028841 2011-03-09 09:30:00-06:00   \n",
      "2011-03-08 00:38:00-06:00       -0.019222 2011-03-09 09:30:00-06:00   \n",
      "2011-03-08 00:39:00-06:00        0.038450 2011-03-09 09:30:00-06:00   \n",
      "2011-03-08 00:40:00-06:00        0.028827 2011-03-09 09:30:00-06:00   \n",
      "2011-03-08 00:41:00-06:00        0.038425 2011-03-09 09:30:00-06:00   \n",
      "2011-03-08 00:42:00-06:00        0.067217 2011-03-09 09:30:00-06:00   \n",
      "2011-03-08 00:43:00-06:00       -0.009596 2011-03-09 09:30:00-06:00   \n",
      "2011-03-08 00:44:00-06:00       -0.009597 2011-03-09 09:30:00-06:00   \n",
      "2011-03-08 00:45:00-06:00       -0.047989 2011-03-09 09:30:00-06:00   \n",
      "2011-03-08 00:46:00-06:00       -0.086422 2011-03-09 09:30:00-06:00   \n",
      "2011-03-08 00:47:00-06:00       -0.076886 2011-03-09 09:30:00-06:00   \n",
      "2011-03-08 00:48:00-06:00        0.076945 2011-03-09 09:30:00-06:00   \n",
      "\n",
      "                          Release Date Time_y  Actual Forecast Previous  \\\n",
      "Datetime_CST                                                              \n",
      "2011-03-07 23:59:00-06:00     9-Mar-11  10:30  2.500M   1.100M  -0.400M   \n",
      "2011-03-08 00:00:00-06:00     9-Mar-11  10:30  2.500M   1.100M  -0.400M   \n",
      "2011-03-08 00:01:00-06:00     9-Mar-11  10:30  2.500M   1.100M  -0.400M   \n",
      "2011-03-08 00:02:00-06:00     9-Mar-11  10:30  2.500M   1.100M  -0.400M   \n",
      "2011-03-08 00:03:00-06:00     9-Mar-11  10:30  2.500M   1.100M  -0.400M   \n",
      "2011-03-08 00:04:00-06:00     9-Mar-11  10:30  2.500M   1.100M  -0.400M   \n",
      "2011-03-08 00:05:00-06:00     9-Mar-11  10:30  2.500M   1.100M  -0.400M   \n",
      "2011-03-08 00:06:00-06:00     9-Mar-11  10:30  2.500M   1.100M  -0.400M   \n",
      "2011-03-08 00:07:00-06:00     9-Mar-11  10:30  2.500M   1.100M  -0.400M   \n",
      "2011-03-08 00:08:00-06:00     9-Mar-11  10:30  2.500M   1.100M  -0.400M   \n",
      "2011-03-08 00:09:00-06:00     9-Mar-11  10:30  2.500M   1.100M  -0.400M   \n",
      "2011-03-08 00:10:00-06:00     9-Mar-11  10:30  2.500M   1.100M  -0.400M   \n",
      "2011-03-08 00:11:00-06:00     9-Mar-11  10:30  2.500M   1.100M  -0.400M   \n",
      "2011-03-08 00:12:00-06:00     9-Mar-11  10:30  2.500M   1.100M  -0.400M   \n",
      "2011-03-08 00:13:00-06:00     9-Mar-11  10:30  2.500M   1.100M  -0.400M   \n",
      "2011-03-08 00:14:00-06:00     9-Mar-11  10:30  2.500M   1.100M  -0.400M   \n",
      "2011-03-08 00:15:00-06:00     9-Mar-11  10:30  2.500M   1.100M  -0.400M   \n",
      "2011-03-08 00:16:00-06:00     9-Mar-11  10:30  2.500M   1.100M  -0.400M   \n",
      "2011-03-08 00:17:00-06:00     9-Mar-11  10:30  2.500M   1.100M  -0.400M   \n",
      "2011-03-08 00:18:00-06:00     9-Mar-11  10:30  2.500M   1.100M  -0.400M   \n",
      "2011-03-08 00:19:00-06:00     9-Mar-11  10:30  2.500M   1.100M  -0.400M   \n",
      "2011-03-08 00:20:00-06:00     9-Mar-11  10:30  2.500M   1.100M  -0.400M   \n",
      "2011-03-08 00:21:00-06:00     9-Mar-11  10:30  2.500M   1.100M  -0.400M   \n",
      "2011-03-08 00:22:00-06:00     9-Mar-11  10:30  2.500M   1.100M  -0.400M   \n",
      "2011-03-08 00:23:00-06:00     9-Mar-11  10:30  2.500M   1.100M  -0.400M   \n",
      "2011-03-08 00:24:00-06:00     9-Mar-11  10:30  2.500M   1.100M  -0.400M   \n",
      "2011-03-08 00:25:00-06:00     9-Mar-11  10:30  2.500M   1.100M  -0.400M   \n",
      "2011-03-08 00:26:00-06:00     9-Mar-11  10:30  2.500M   1.100M  -0.400M   \n",
      "2011-03-08 00:27:00-06:00     9-Mar-11  10:30  2.500M   1.100M  -0.400M   \n",
      "2011-03-08 00:28:00-06:00     9-Mar-11  10:30  2.500M   1.100M  -0.400M   \n",
      "2011-03-08 00:29:00-06:00     9-Mar-11  10:30  2.500M   1.100M  -0.400M   \n",
      "2011-03-08 00:30:00-06:00     9-Mar-11  10:30  2.500M   1.100M  -0.400M   \n",
      "2011-03-08 00:31:00-06:00     9-Mar-11  10:30  2.500M   1.100M  -0.400M   \n",
      "2011-03-08 00:32:00-06:00     9-Mar-11  10:30  2.500M   1.100M  -0.400M   \n",
      "2011-03-08 00:33:00-06:00     9-Mar-11  10:30  2.500M   1.100M  -0.400M   \n",
      "2011-03-08 00:34:00-06:00     9-Mar-11  10:30  2.500M   1.100M  -0.400M   \n",
      "2011-03-08 00:35:00-06:00     9-Mar-11  10:30  2.500M   1.100M  -0.400M   \n",
      "2011-03-08 00:36:00-06:00     9-Mar-11  10:30  2.500M   1.100M  -0.400M   \n",
      "2011-03-08 00:37:00-06:00     9-Mar-11  10:30  2.500M   1.100M  -0.400M   \n",
      "2011-03-08 00:38:00-06:00     9-Mar-11  10:30  2.500M   1.100M  -0.400M   \n",
      "2011-03-08 00:39:00-06:00     9-Mar-11  10:30  2.500M   1.100M  -0.400M   \n",
      "2011-03-08 00:40:00-06:00     9-Mar-11  10:30  2.500M   1.100M  -0.400M   \n",
      "2011-03-08 00:41:00-06:00     9-Mar-11  10:30  2.500M   1.100M  -0.400M   \n",
      "2011-03-08 00:42:00-06:00     9-Mar-11  10:30  2.500M   1.100M  -0.400M   \n",
      "2011-03-08 00:43:00-06:00     9-Mar-11  10:30  2.500M   1.100M  -0.400M   \n",
      "2011-03-08 00:44:00-06:00     9-Mar-11  10:30  2.500M   1.100M  -0.400M   \n",
      "2011-03-08 00:45:00-06:00     9-Mar-11  10:30  2.500M   1.100M  -0.400M   \n",
      "2011-03-08 00:46:00-06:00     9-Mar-11  10:30  2.500M   1.100M  -0.400M   \n",
      "2011-03-08 00:47:00-06:00     9-Mar-11  10:30  2.500M   1.100M  -0.400M   \n",
      "2011-03-08 00:48:00-06:00     9-Mar-11  10:30  2.500M   1.100M  -0.400M   \n",
      "\n",
      "                             Release_Datetime      Release_Datetime_EST  \\\n",
      "Datetime_CST                                                              \n",
      "2011-03-07 23:59:00-06:00 2011-03-09 10:30:00 2011-03-09 10:30:00-05:00   \n",
      "2011-03-08 00:00:00-06:00 2011-03-09 10:30:00 2011-03-09 10:30:00-05:00   \n",
      "2011-03-08 00:01:00-06:00 2011-03-09 10:30:00 2011-03-09 10:30:00-05:00   \n",
      "2011-03-08 00:02:00-06:00 2011-03-09 10:30:00 2011-03-09 10:30:00-05:00   \n",
      "2011-03-08 00:03:00-06:00 2011-03-09 10:30:00 2011-03-09 10:30:00-05:00   \n",
      "2011-03-08 00:04:00-06:00 2011-03-09 10:30:00 2011-03-09 10:30:00-05:00   \n",
      "2011-03-08 00:05:00-06:00 2011-03-09 10:30:00 2011-03-09 10:30:00-05:00   \n",
      "2011-03-08 00:06:00-06:00 2011-03-09 10:30:00 2011-03-09 10:30:00-05:00   \n",
      "2011-03-08 00:07:00-06:00 2011-03-09 10:30:00 2011-03-09 10:30:00-05:00   \n",
      "2011-03-08 00:08:00-06:00 2011-03-09 10:30:00 2011-03-09 10:30:00-05:00   \n",
      "2011-03-08 00:09:00-06:00 2011-03-09 10:30:00 2011-03-09 10:30:00-05:00   \n",
      "2011-03-08 00:10:00-06:00 2011-03-09 10:30:00 2011-03-09 10:30:00-05:00   \n",
      "2011-03-08 00:11:00-06:00 2011-03-09 10:30:00 2011-03-09 10:30:00-05:00   \n",
      "2011-03-08 00:12:00-06:00 2011-03-09 10:30:00 2011-03-09 10:30:00-05:00   \n",
      "2011-03-08 00:13:00-06:00 2011-03-09 10:30:00 2011-03-09 10:30:00-05:00   \n",
      "2011-03-08 00:14:00-06:00 2011-03-09 10:30:00 2011-03-09 10:30:00-05:00   \n",
      "2011-03-08 00:15:00-06:00 2011-03-09 10:30:00 2011-03-09 10:30:00-05:00   \n",
      "2011-03-08 00:16:00-06:00 2011-03-09 10:30:00 2011-03-09 10:30:00-05:00   \n",
      "2011-03-08 00:17:00-06:00 2011-03-09 10:30:00 2011-03-09 10:30:00-05:00   \n",
      "2011-03-08 00:18:00-06:00 2011-03-09 10:30:00 2011-03-09 10:30:00-05:00   \n",
      "2011-03-08 00:19:00-06:00 2011-03-09 10:30:00 2011-03-09 10:30:00-05:00   \n",
      "2011-03-08 00:20:00-06:00 2011-03-09 10:30:00 2011-03-09 10:30:00-05:00   \n",
      "2011-03-08 00:21:00-06:00 2011-03-09 10:30:00 2011-03-09 10:30:00-05:00   \n",
      "2011-03-08 00:22:00-06:00 2011-03-09 10:30:00 2011-03-09 10:30:00-05:00   \n",
      "2011-03-08 00:23:00-06:00 2011-03-09 10:30:00 2011-03-09 10:30:00-05:00   \n",
      "2011-03-08 00:24:00-06:00 2011-03-09 10:30:00 2011-03-09 10:30:00-05:00   \n",
      "2011-03-08 00:25:00-06:00 2011-03-09 10:30:00 2011-03-09 10:30:00-05:00   \n",
      "2011-03-08 00:26:00-06:00 2011-03-09 10:30:00 2011-03-09 10:30:00-05:00   \n",
      "2011-03-08 00:27:00-06:00 2011-03-09 10:30:00 2011-03-09 10:30:00-05:00   \n",
      "2011-03-08 00:28:00-06:00 2011-03-09 10:30:00 2011-03-09 10:30:00-05:00   \n",
      "2011-03-08 00:29:00-06:00 2011-03-09 10:30:00 2011-03-09 10:30:00-05:00   \n",
      "2011-03-08 00:30:00-06:00 2011-03-09 10:30:00 2011-03-09 10:30:00-05:00   \n",
      "2011-03-08 00:31:00-06:00 2011-03-09 10:30:00 2011-03-09 10:30:00-05:00   \n",
      "2011-03-08 00:32:00-06:00 2011-03-09 10:30:00 2011-03-09 10:30:00-05:00   \n",
      "2011-03-08 00:33:00-06:00 2011-03-09 10:30:00 2011-03-09 10:30:00-05:00   \n",
      "2011-03-08 00:34:00-06:00 2011-03-09 10:30:00 2011-03-09 10:30:00-05:00   \n",
      "2011-03-08 00:35:00-06:00 2011-03-09 10:30:00 2011-03-09 10:30:00-05:00   \n",
      "2011-03-08 00:36:00-06:00 2011-03-09 10:30:00 2011-03-09 10:30:00-05:00   \n",
      "2011-03-08 00:37:00-06:00 2011-03-09 10:30:00 2011-03-09 10:30:00-05:00   \n",
      "2011-03-08 00:38:00-06:00 2011-03-09 10:30:00 2011-03-09 10:30:00-05:00   \n",
      "2011-03-08 00:39:00-06:00 2011-03-09 10:30:00 2011-03-09 10:30:00-05:00   \n",
      "2011-03-08 00:40:00-06:00 2011-03-09 10:30:00 2011-03-09 10:30:00-05:00   \n",
      "2011-03-08 00:41:00-06:00 2011-03-09 10:30:00 2011-03-09 10:30:00-05:00   \n",
      "2011-03-08 00:42:00-06:00 2011-03-09 10:30:00 2011-03-09 10:30:00-05:00   \n",
      "2011-03-08 00:43:00-06:00 2011-03-09 10:30:00 2011-03-09 10:30:00-05:00   \n",
      "2011-03-08 00:44:00-06:00 2011-03-09 10:30:00 2011-03-09 10:30:00-05:00   \n",
      "2011-03-08 00:45:00-06:00 2011-03-09 10:30:00 2011-03-09 10:30:00-05:00   \n",
      "2011-03-08 00:46:00-06:00 2011-03-09 10:30:00 2011-03-09 10:30:00-05:00   \n",
      "2011-03-08 00:47:00-06:00 2011-03-09 10:30:00 2011-03-09 10:30:00-05:00   \n",
      "2011-03-08 00:48:00-06:00 2011-03-09 10:30:00 2011-03-09 10:30:00-05:00   \n",
      "\n",
      "                           supply_surprise  \n",
      "Datetime_CST                                \n",
      "2011-03-07 23:59:00-06:00              1.4  \n",
      "2011-03-08 00:00:00-06:00              1.4  \n",
      "2011-03-08 00:01:00-06:00              1.4  \n",
      "2011-03-08 00:02:00-06:00              1.4  \n",
      "2011-03-08 00:03:00-06:00              1.4  \n",
      "2011-03-08 00:04:00-06:00              1.4  \n",
      "2011-03-08 00:05:00-06:00              1.4  \n",
      "2011-03-08 00:06:00-06:00              1.4  \n",
      "2011-03-08 00:07:00-06:00              1.4  \n",
      "2011-03-08 00:08:00-06:00              1.4  \n",
      "2011-03-08 00:09:00-06:00              1.4  \n",
      "2011-03-08 00:10:00-06:00              1.4  \n",
      "2011-03-08 00:11:00-06:00              1.4  \n",
      "2011-03-08 00:12:00-06:00              1.4  \n",
      "2011-03-08 00:13:00-06:00              1.4  \n",
      "2011-03-08 00:14:00-06:00              1.4  \n",
      "2011-03-08 00:15:00-06:00              1.4  \n",
      "2011-03-08 00:16:00-06:00              1.4  \n",
      "2011-03-08 00:17:00-06:00              1.4  \n",
      "2011-03-08 00:18:00-06:00              1.4  \n",
      "2011-03-08 00:19:00-06:00              1.4  \n",
      "2011-03-08 00:20:00-06:00              1.4  \n",
      "2011-03-08 00:21:00-06:00              1.4  \n",
      "2011-03-08 00:22:00-06:00              1.4  \n",
      "2011-03-08 00:23:00-06:00              1.4  \n",
      "2011-03-08 00:24:00-06:00              1.4  \n",
      "2011-03-08 00:25:00-06:00              1.4  \n",
      "2011-03-08 00:26:00-06:00              1.4  \n",
      "2011-03-08 00:27:00-06:00              1.4  \n",
      "2011-03-08 00:28:00-06:00              1.4  \n",
      "2011-03-08 00:29:00-06:00              1.4  \n",
      "2011-03-08 00:30:00-06:00              1.4  \n",
      "2011-03-08 00:31:00-06:00              1.4  \n",
      "2011-03-08 00:32:00-06:00              1.4  \n",
      "2011-03-08 00:33:00-06:00              1.4  \n",
      "2011-03-08 00:34:00-06:00              1.4  \n",
      "2011-03-08 00:35:00-06:00              1.4  \n",
      "2011-03-08 00:36:00-06:00              1.4  \n",
      "2011-03-08 00:37:00-06:00              1.4  \n",
      "2011-03-08 00:38:00-06:00              1.4  \n",
      "2011-03-08 00:39:00-06:00              1.4  \n",
      "2011-03-08 00:40:00-06:00              1.4  \n",
      "2011-03-08 00:41:00-06:00              1.4  \n",
      "2011-03-08 00:42:00-06:00              1.4  \n",
      "2011-03-08 00:43:00-06:00              1.4  \n",
      "2011-03-08 00:44:00-06:00              1.4  \n",
      "2011-03-08 00:45:00-06:00              1.4  \n",
      "2011-03-08 00:46:00-06:00              1.4  \n",
      "2011-03-08 00:47:00-06:00              1.4  \n",
      "2011-03-08 00:48:00-06:00              1.4  \n"
     ]
    }
   ],
   "source": [
    "\n",
    "# 2. Perform the merge_asof\n",
    "wti_with_eia_releases = pd.merge_asof(\n",
    "    left=min_WTI_no_eia_days.reset_index(), # Reset index to make 'Datetime_CST' a regular column for merge_asof\n",
    "    right=icom_eia_forecasts.reset_index(),\n",
    "    left_on='Datetime_CST',       # Column in min_WTI to merge on\n",
    "    right_on='Release_Datetime_CST', # Column in icom_eia_forecasts to merge on\n",
    "    direction='nearest',         # Match to the most recent EIA release *before* each WTI time\n",
    "    tolerance=pd.Timedelta('2D')\n",
    ")\n",
    "\n",
    "# 3. Examine the result\n",
    "print(wti_with_eia_releases[['Datetime_CST', 'Release_Datetime_CST', 'Actual', 'Forecast']].head(20))\n",
    "# You'll see that for each minute in min_WTI, the 'Release_Datetime_GMT_minus_6' column (and other EIA columns)\n",
    "# will be populated with the data from the *most recent* EIA release prior to that minute.\n",
    "# If there was no EIA release before a particular WTI time (e.g., at the very beginning of your WTI data),\n",
    "# the EIA columns will be NaN.\n",
    "\n",
    "# 4. (Optional) Clean up and set index back if needed\n",
    "wti_with_eia_releases = wti_with_eia_releases.set_index('Datetime_CST') # Set 'Datetime_CST' back as index if you prefer\n",
    "# You might want to rename 'Release_Datetime_GMT_minus_6' to something more descriptive in the merged dataframe, e.g., 'Associated_EIA_Release_Time'\n",
    "\n",
    "\n",
    "print(wti_with_eia_releases.head(50)) # Display the first few rows of the merged dataframe"
   ]
  },
  {
   "cell_type": "code",
   "execution_count": 61,
   "metadata": {},
   "outputs": [
    {
     "data": {
      "text/html": [
       "<div>\n",
       "<style scoped>\n",
       "    .dataframe tbody tr th:only-of-type {\n",
       "        vertical-align: middle;\n",
       "    }\n",
       "\n",
       "    .dataframe tbody tr th {\n",
       "        vertical-align: top;\n",
       "    }\n",
       "\n",
       "    .dataframe thead th {\n",
       "        text-align: right;\n",
       "    }\n",
       "</style>\n",
       "<table border=\"1\" class=\"dataframe\">\n",
       "  <thead>\n",
       "    <tr style=\"text-align: right;\">\n",
       "      <th></th>\n",
       "      <th>index</th>\n",
       "      <th>Date</th>\n",
       "      <th>Time_x</th>\n",
       "      <th>Open</th>\n",
       "      <th>High</th>\n",
       "      <th>Low</th>\n",
       "      <th>Close</th>\n",
       "      <th>Volume</th>\n",
       "      <th>Datetime</th>\n",
       "      <th>Percent_Change</th>\n",
       "      <th>Release_Datetime_CST</th>\n",
       "      <th>Release Date</th>\n",
       "      <th>Time_y</th>\n",
       "      <th>Actual</th>\n",
       "      <th>Forecast</th>\n",
       "      <th>Previous</th>\n",
       "      <th>Release_Datetime</th>\n",
       "      <th>Release_Datetime_EST</th>\n",
       "      <th>supply_surprise</th>\n",
       "    </tr>\n",
       "    <tr>\n",
       "      <th>Datetime_CST</th>\n",
       "      <th></th>\n",
       "      <th></th>\n",
       "      <th></th>\n",
       "      <th></th>\n",
       "      <th></th>\n",
       "      <th></th>\n",
       "      <th></th>\n",
       "      <th></th>\n",
       "      <th></th>\n",
       "      <th></th>\n",
       "      <th></th>\n",
       "      <th></th>\n",
       "      <th></th>\n",
       "      <th></th>\n",
       "      <th></th>\n",
       "      <th></th>\n",
       "      <th></th>\n",
       "      <th></th>\n",
       "      <th></th>\n",
       "    </tr>\n",
       "  </thead>\n",
       "  <tbody>\n",
       "    <tr>\n",
       "      <th>2011-03-07 23:59:00-06:00</th>\n",
       "      <td>0</td>\n",
       "      <td>07/03/2011</td>\n",
       "      <td>23:59:00</td>\n",
       "      <td>104.74</td>\n",
       "      <td>104.77</td>\n",
       "      <td>104.73</td>\n",
       "      <td>104.73</td>\n",
       "      <td>18</td>\n",
       "      <td>2011-03-07 23:59:00</td>\n",
       "      <td>NaN</td>\n",
       "      <td>2011-03-09 09:30:00-06:00</td>\n",
       "      <td>9-Mar-11</td>\n",
       "      <td>10:30</td>\n",
       "      <td>2.500M</td>\n",
       "      <td>1.100M</td>\n",
       "      <td>-0.400M</td>\n",
       "      <td>2011-03-09 10:30:00</td>\n",
       "      <td>2011-03-09 10:30:00-05:00</td>\n",
       "      <td>1.4</td>\n",
       "    </tr>\n",
       "    <tr>\n",
       "      <th>2011-03-08 00:00:00-06:00</th>\n",
       "      <td>1</td>\n",
       "      <td>08/03/2011</td>\n",
       "      <td>00:00:00</td>\n",
       "      <td>104.74</td>\n",
       "      <td>104.82</td>\n",
       "      <td>104.74</td>\n",
       "      <td>104.81</td>\n",
       "      <td>34</td>\n",
       "      <td>2011-03-08 00:00:00</td>\n",
       "      <td>0.076387</td>\n",
       "      <td>2011-03-09 09:30:00-06:00</td>\n",
       "      <td>9-Mar-11</td>\n",
       "      <td>10:30</td>\n",
       "      <td>2.500M</td>\n",
       "      <td>1.100M</td>\n",
       "      <td>-0.400M</td>\n",
       "      <td>2011-03-09 10:30:00</td>\n",
       "      <td>2011-03-09 10:30:00-05:00</td>\n",
       "      <td>1.4</td>\n",
       "    </tr>\n",
       "    <tr>\n",
       "      <th>2011-03-08 00:01:00-06:00</th>\n",
       "      <td>2</td>\n",
       "      <td>08/03/2011</td>\n",
       "      <td>00:01:00</td>\n",
       "      <td>104.82</td>\n",
       "      <td>104.84</td>\n",
       "      <td>104.82</td>\n",
       "      <td>104.82</td>\n",
       "      <td>12</td>\n",
       "      <td>2011-03-08 00:01:00</td>\n",
       "      <td>0.009541</td>\n",
       "      <td>2011-03-09 09:30:00-06:00</td>\n",
       "      <td>9-Mar-11</td>\n",
       "      <td>10:30</td>\n",
       "      <td>2.500M</td>\n",
       "      <td>1.100M</td>\n",
       "      <td>-0.400M</td>\n",
       "      <td>2011-03-09 10:30:00</td>\n",
       "      <td>2011-03-09 10:30:00-05:00</td>\n",
       "      <td>1.4</td>\n",
       "    </tr>\n",
       "    <tr>\n",
       "      <th>2011-03-08 00:02:00-06:00</th>\n",
       "      <td>3</td>\n",
       "      <td>08/03/2011</td>\n",
       "      <td>00:02:00</td>\n",
       "      <td>104.81</td>\n",
       "      <td>104.81</td>\n",
       "      <td>104.73</td>\n",
       "      <td>104.75</td>\n",
       "      <td>20</td>\n",
       "      <td>2011-03-08 00:02:00</td>\n",
       "      <td>-0.066781</td>\n",
       "      <td>2011-03-09 09:30:00-06:00</td>\n",
       "      <td>9-Mar-11</td>\n",
       "      <td>10:30</td>\n",
       "      <td>2.500M</td>\n",
       "      <td>1.100M</td>\n",
       "      <td>-0.400M</td>\n",
       "      <td>2011-03-09 10:30:00</td>\n",
       "      <td>2011-03-09 10:30:00-05:00</td>\n",
       "      <td>1.4</td>\n",
       "    </tr>\n",
       "    <tr>\n",
       "      <th>2011-03-08 00:03:00-06:00</th>\n",
       "      <td>4</td>\n",
       "      <td>08/03/2011</td>\n",
       "      <td>00:03:00</td>\n",
       "      <td>104.74</td>\n",
       "      <td>104.76</td>\n",
       "      <td>104.71</td>\n",
       "      <td>104.76</td>\n",
       "      <td>25</td>\n",
       "      <td>2011-03-08 00:03:00</td>\n",
       "      <td>0.009547</td>\n",
       "      <td>2011-03-09 09:30:00-06:00</td>\n",
       "      <td>9-Mar-11</td>\n",
       "      <td>10:30</td>\n",
       "      <td>2.500M</td>\n",
       "      <td>1.100M</td>\n",
       "      <td>-0.400M</td>\n",
       "      <td>2011-03-09 10:30:00</td>\n",
       "      <td>2011-03-09 10:30:00-05:00</td>\n",
       "      <td>1.4</td>\n",
       "    </tr>\n",
       "    <tr>\n",
       "      <th>...</th>\n",
       "      <td>...</td>\n",
       "      <td>...</td>\n",
       "      <td>...</td>\n",
       "      <td>...</td>\n",
       "      <td>...</td>\n",
       "      <td>...</td>\n",
       "      <td>...</td>\n",
       "      <td>...</td>\n",
       "      <td>...</td>\n",
       "      <td>...</td>\n",
       "      <td>...</td>\n",
       "      <td>...</td>\n",
       "      <td>...</td>\n",
       "      <td>...</td>\n",
       "      <td>...</td>\n",
       "      <td>...</td>\n",
       "      <td>...</td>\n",
       "      <td>...</td>\n",
       "      <td>...</td>\n",
       "    </tr>\n",
       "    <tr>\n",
       "      <th>2025-03-11 23:53:00-05:00</th>\n",
       "      <td>4811553</td>\n",
       "      <td>11/03/2025</td>\n",
       "      <td>23:53:00</td>\n",
       "      <td>66.75</td>\n",
       "      <td>66.76</td>\n",
       "      <td>66.74</td>\n",
       "      <td>66.75</td>\n",
       "      <td>23</td>\n",
       "      <td>2025-03-11 23:53:00</td>\n",
       "      <td>0.000000</td>\n",
       "      <td>2025-03-12 07:30:00-05:00</td>\n",
       "      <td>12-Mar-25</td>\n",
       "      <td>8:30</td>\n",
       "      <td>NaN</td>\n",
       "      <td>NaN</td>\n",
       "      <td>3.614M</td>\n",
       "      <td>2025-03-12 08:30:00</td>\n",
       "      <td>2025-03-12 08:30:00-04:00</td>\n",
       "      <td>NaN</td>\n",
       "    </tr>\n",
       "    <tr>\n",
       "      <th>2025-03-11 23:54:00-05:00</th>\n",
       "      <td>4811554</td>\n",
       "      <td>11/03/2025</td>\n",
       "      <td>23:54:00</td>\n",
       "      <td>66.75</td>\n",
       "      <td>66.75</td>\n",
       "      <td>66.75</td>\n",
       "      <td>66.75</td>\n",
       "      <td>13</td>\n",
       "      <td>2025-03-11 23:54:00</td>\n",
       "      <td>0.000000</td>\n",
       "      <td>2025-03-12 07:30:00-05:00</td>\n",
       "      <td>12-Mar-25</td>\n",
       "      <td>8:30</td>\n",
       "      <td>NaN</td>\n",
       "      <td>NaN</td>\n",
       "      <td>3.614M</td>\n",
       "      <td>2025-03-12 08:30:00</td>\n",
       "      <td>2025-03-12 08:30:00-04:00</td>\n",
       "      <td>NaN</td>\n",
       "    </tr>\n",
       "    <tr>\n",
       "      <th>2025-03-11 23:56:00-05:00</th>\n",
       "      <td>4811555</td>\n",
       "      <td>11/03/2025</td>\n",
       "      <td>23:56:00</td>\n",
       "      <td>66.75</td>\n",
       "      <td>66.75</td>\n",
       "      <td>66.74</td>\n",
       "      <td>66.74</td>\n",
       "      <td>3</td>\n",
       "      <td>2025-03-11 23:56:00</td>\n",
       "      <td>-0.014981</td>\n",
       "      <td>2025-03-12 07:30:00-05:00</td>\n",
       "      <td>12-Mar-25</td>\n",
       "      <td>8:30</td>\n",
       "      <td>NaN</td>\n",
       "      <td>NaN</td>\n",
       "      <td>3.614M</td>\n",
       "      <td>2025-03-12 08:30:00</td>\n",
       "      <td>2025-03-12 08:30:00-04:00</td>\n",
       "      <td>NaN</td>\n",
       "    </tr>\n",
       "    <tr>\n",
       "      <th>2025-03-11 23:58:00-05:00</th>\n",
       "      <td>4811556</td>\n",
       "      <td>11/03/2025</td>\n",
       "      <td>23:58:00</td>\n",
       "      <td>66.75</td>\n",
       "      <td>66.75</td>\n",
       "      <td>66.75</td>\n",
       "      <td>66.75</td>\n",
       "      <td>3</td>\n",
       "      <td>2025-03-11 23:58:00</td>\n",
       "      <td>0.014984</td>\n",
       "      <td>2025-03-12 07:30:00-05:00</td>\n",
       "      <td>12-Mar-25</td>\n",
       "      <td>8:30</td>\n",
       "      <td>NaN</td>\n",
       "      <td>NaN</td>\n",
       "      <td>3.614M</td>\n",
       "      <td>2025-03-12 08:30:00</td>\n",
       "      <td>2025-03-12 08:30:00-04:00</td>\n",
       "      <td>NaN</td>\n",
       "    </tr>\n",
       "    <tr>\n",
       "      <th>2025-03-11 23:59:00-05:00</th>\n",
       "      <td>4811557</td>\n",
       "      <td>11/03/2025</td>\n",
       "      <td>23:59:00</td>\n",
       "      <td>66.75</td>\n",
       "      <td>66.75</td>\n",
       "      <td>66.75</td>\n",
       "      <td>66.75</td>\n",
       "      <td>1</td>\n",
       "      <td>2025-03-11 23:59:00</td>\n",
       "      <td>0.000000</td>\n",
       "      <td>2025-03-12 07:30:00-05:00</td>\n",
       "      <td>12-Mar-25</td>\n",
       "      <td>8:30</td>\n",
       "      <td>NaN</td>\n",
       "      <td>NaN</td>\n",
       "      <td>3.614M</td>\n",
       "      <td>2025-03-12 08:30:00</td>\n",
       "      <td>2025-03-12 08:30:00-04:00</td>\n",
       "      <td>NaN</td>\n",
       "    </tr>\n",
       "  </tbody>\n",
       "</table>\n",
       "<p>3840660 rows × 19 columns</p>\n",
       "</div>"
      ],
      "text/plain": [
       "                             index        Date    Time_x    Open    High  \\\n",
       "Datetime_CST                                                               \n",
       "2011-03-07 23:59:00-06:00        0  07/03/2011  23:59:00  104.74  104.77   \n",
       "2011-03-08 00:00:00-06:00        1  08/03/2011  00:00:00  104.74  104.82   \n",
       "2011-03-08 00:01:00-06:00        2  08/03/2011  00:01:00  104.82  104.84   \n",
       "2011-03-08 00:02:00-06:00        3  08/03/2011  00:02:00  104.81  104.81   \n",
       "2011-03-08 00:03:00-06:00        4  08/03/2011  00:03:00  104.74  104.76   \n",
       "...                            ...         ...       ...     ...     ...   \n",
       "2025-03-11 23:53:00-05:00  4811553  11/03/2025  23:53:00   66.75   66.76   \n",
       "2025-03-11 23:54:00-05:00  4811554  11/03/2025  23:54:00   66.75   66.75   \n",
       "2025-03-11 23:56:00-05:00  4811555  11/03/2025  23:56:00   66.75   66.75   \n",
       "2025-03-11 23:58:00-05:00  4811556  11/03/2025  23:58:00   66.75   66.75   \n",
       "2025-03-11 23:59:00-05:00  4811557  11/03/2025  23:59:00   66.75   66.75   \n",
       "\n",
       "                              Low   Close  Volume            Datetime  \\\n",
       "Datetime_CST                                                            \n",
       "2011-03-07 23:59:00-06:00  104.73  104.73      18 2011-03-07 23:59:00   \n",
       "2011-03-08 00:00:00-06:00  104.74  104.81      34 2011-03-08 00:00:00   \n",
       "2011-03-08 00:01:00-06:00  104.82  104.82      12 2011-03-08 00:01:00   \n",
       "2011-03-08 00:02:00-06:00  104.73  104.75      20 2011-03-08 00:02:00   \n",
       "2011-03-08 00:03:00-06:00  104.71  104.76      25 2011-03-08 00:03:00   \n",
       "...                           ...     ...     ...                 ...   \n",
       "2025-03-11 23:53:00-05:00   66.74   66.75      23 2025-03-11 23:53:00   \n",
       "2025-03-11 23:54:00-05:00   66.75   66.75      13 2025-03-11 23:54:00   \n",
       "2025-03-11 23:56:00-05:00   66.74   66.74       3 2025-03-11 23:56:00   \n",
       "2025-03-11 23:58:00-05:00   66.75   66.75       3 2025-03-11 23:58:00   \n",
       "2025-03-11 23:59:00-05:00   66.75   66.75       1 2025-03-11 23:59:00   \n",
       "\n",
       "                           Percent_Change      Release_Datetime_CST  \\\n",
       "Datetime_CST                                                          \n",
       "2011-03-07 23:59:00-06:00             NaN 2011-03-09 09:30:00-06:00   \n",
       "2011-03-08 00:00:00-06:00        0.076387 2011-03-09 09:30:00-06:00   \n",
       "2011-03-08 00:01:00-06:00        0.009541 2011-03-09 09:30:00-06:00   \n",
       "2011-03-08 00:02:00-06:00       -0.066781 2011-03-09 09:30:00-06:00   \n",
       "2011-03-08 00:03:00-06:00        0.009547 2011-03-09 09:30:00-06:00   \n",
       "...                                   ...                       ...   \n",
       "2025-03-11 23:53:00-05:00        0.000000 2025-03-12 07:30:00-05:00   \n",
       "2025-03-11 23:54:00-05:00        0.000000 2025-03-12 07:30:00-05:00   \n",
       "2025-03-11 23:56:00-05:00       -0.014981 2025-03-12 07:30:00-05:00   \n",
       "2025-03-11 23:58:00-05:00        0.014984 2025-03-12 07:30:00-05:00   \n",
       "2025-03-11 23:59:00-05:00        0.000000 2025-03-12 07:30:00-05:00   \n",
       "\n",
       "                          Release Date Time_y  Actual Forecast Previous  \\\n",
       "Datetime_CST                                                              \n",
       "2011-03-07 23:59:00-06:00     9-Mar-11  10:30  2.500M   1.100M  -0.400M   \n",
       "2011-03-08 00:00:00-06:00     9-Mar-11  10:30  2.500M   1.100M  -0.400M   \n",
       "2011-03-08 00:01:00-06:00     9-Mar-11  10:30  2.500M   1.100M  -0.400M   \n",
       "2011-03-08 00:02:00-06:00     9-Mar-11  10:30  2.500M   1.100M  -0.400M   \n",
       "2011-03-08 00:03:00-06:00     9-Mar-11  10:30  2.500M   1.100M  -0.400M   \n",
       "...                                ...    ...     ...      ...      ...   \n",
       "2025-03-11 23:53:00-05:00    12-Mar-25   8:30     NaN      NaN   3.614M   \n",
       "2025-03-11 23:54:00-05:00    12-Mar-25   8:30     NaN      NaN   3.614M   \n",
       "2025-03-11 23:56:00-05:00    12-Mar-25   8:30     NaN      NaN   3.614M   \n",
       "2025-03-11 23:58:00-05:00    12-Mar-25   8:30     NaN      NaN   3.614M   \n",
       "2025-03-11 23:59:00-05:00    12-Mar-25   8:30     NaN      NaN   3.614M   \n",
       "\n",
       "                             Release_Datetime      Release_Datetime_EST  \\\n",
       "Datetime_CST                                                              \n",
       "2011-03-07 23:59:00-06:00 2011-03-09 10:30:00 2011-03-09 10:30:00-05:00   \n",
       "2011-03-08 00:00:00-06:00 2011-03-09 10:30:00 2011-03-09 10:30:00-05:00   \n",
       "2011-03-08 00:01:00-06:00 2011-03-09 10:30:00 2011-03-09 10:30:00-05:00   \n",
       "2011-03-08 00:02:00-06:00 2011-03-09 10:30:00 2011-03-09 10:30:00-05:00   \n",
       "2011-03-08 00:03:00-06:00 2011-03-09 10:30:00 2011-03-09 10:30:00-05:00   \n",
       "...                                       ...                       ...   \n",
       "2025-03-11 23:53:00-05:00 2025-03-12 08:30:00 2025-03-12 08:30:00-04:00   \n",
       "2025-03-11 23:54:00-05:00 2025-03-12 08:30:00 2025-03-12 08:30:00-04:00   \n",
       "2025-03-11 23:56:00-05:00 2025-03-12 08:30:00 2025-03-12 08:30:00-04:00   \n",
       "2025-03-11 23:58:00-05:00 2025-03-12 08:30:00 2025-03-12 08:30:00-04:00   \n",
       "2025-03-11 23:59:00-05:00 2025-03-12 08:30:00 2025-03-12 08:30:00-04:00   \n",
       "\n",
       "                           supply_surprise  \n",
       "Datetime_CST                                \n",
       "2011-03-07 23:59:00-06:00              1.4  \n",
       "2011-03-08 00:00:00-06:00              1.4  \n",
       "2011-03-08 00:01:00-06:00              1.4  \n",
       "2011-03-08 00:02:00-06:00              1.4  \n",
       "2011-03-08 00:03:00-06:00              1.4  \n",
       "...                                    ...  \n",
       "2025-03-11 23:53:00-05:00              NaN  \n",
       "2025-03-11 23:54:00-05:00              NaN  \n",
       "2025-03-11 23:56:00-05:00              NaN  \n",
       "2025-03-11 23:58:00-05:00              NaN  \n",
       "2025-03-11 23:59:00-05:00              NaN  \n",
       "\n",
       "[3840660 rows x 19 columns]"
      ]
     },
     "metadata": {},
     "output_type": "display_data"
    }
   ],
   "source": [
    "display(wti_with_eia_releases)"
   ]
  },
  {
   "cell_type": "code",
   "execution_count": 62,
   "metadata": {},
   "outputs": [
    {
     "data": {
      "text/plain": [
       "index                                             int64\n",
       "Date                                             object\n",
       "Time_x                                           object\n",
       "Open                                            float64\n",
       "High                                            float64\n",
       "Low                                             float64\n",
       "Close                                           float64\n",
       "Volume                                            int64\n",
       "Datetime                                 datetime64[ns]\n",
       "Percent_Change                                  float64\n",
       "Release_Datetime_CST    datetime64[ns, America/Chicago]\n",
       "Release Date                                     object\n",
       "Time_y                                           object\n",
       "Actual                                           object\n",
       "Forecast                                         object\n",
       "Previous                                         object\n",
       "Release_Datetime                         datetime64[ns]\n",
       "Release_Datetime_EST         datetime64[ns, US/Eastern]\n",
       "supply_surprise                                 float64\n",
       "dtype: object"
      ]
     },
     "execution_count": 62,
     "metadata": {},
     "output_type": "execute_result"
    }
   ],
   "source": [
    "wti_with_eia_releases.dtypes"
   ]
  },
  {
   "cell_type": "code",
   "execution_count": 99,
   "metadata": {},
   "outputs": [
    {
     "data": {
      "text/html": [
       "<div>\n",
       "<style scoped>\n",
       "    .dataframe tbody tr th:only-of-type {\n",
       "        vertical-align: middle;\n",
       "    }\n",
       "\n",
       "    .dataframe tbody tr th {\n",
       "        vertical-align: top;\n",
       "    }\n",
       "\n",
       "    .dataframe thead th {\n",
       "        text-align: right;\n",
       "    }\n",
       "</style>\n",
       "<table border=\"1\" class=\"dataframe\">\n",
       "  <thead>\n",
       "    <tr style=\"text-align: right;\">\n",
       "      <th></th>\n",
       "      <th>Open</th>\n",
       "      <th>High</th>\n",
       "      <th>Low</th>\n",
       "      <th>Close</th>\n",
       "      <th>Volume</th>\n",
       "      <th>Percent_Change</th>\n",
       "      <th>Release_Datetime_CST</th>\n",
       "      <th>Actual</th>\n",
       "      <th>Forecast</th>\n",
       "      <th>Previous</th>\n",
       "      <th>Release_Datetime_EST</th>\n",
       "      <th>supply_surprise</th>\n",
       "      <th>Time_till_Release</th>\n",
       "    </tr>\n",
       "    <tr>\n",
       "      <th>Datetime_CST</th>\n",
       "      <th></th>\n",
       "      <th></th>\n",
       "      <th></th>\n",
       "      <th></th>\n",
       "      <th></th>\n",
       "      <th></th>\n",
       "      <th></th>\n",
       "      <th></th>\n",
       "      <th></th>\n",
       "      <th></th>\n",
       "      <th></th>\n",
       "      <th></th>\n",
       "      <th></th>\n",
       "    </tr>\n",
       "  </thead>\n",
       "  <tbody>\n",
       "    <tr>\n",
       "      <th>2011-03-07 23:59:00-06:00</th>\n",
       "      <td>104.74</td>\n",
       "      <td>104.77</td>\n",
       "      <td>104.73</td>\n",
       "      <td>104.73</td>\n",
       "      <td>18</td>\n",
       "      <td>NaN</td>\n",
       "      <td>2011-03-09 09:30:00-06:00</td>\n",
       "      <td>2.500M</td>\n",
       "      <td>1.100M</td>\n",
       "      <td>-0.400M</td>\n",
       "      <td>2011-03-09 10:30:00-05:00</td>\n",
       "      <td>1.4</td>\n",
       "      <td>869.0</td>\n",
       "    </tr>\n",
       "    <tr>\n",
       "      <th>2011-03-08 00:00:00-06:00</th>\n",
       "      <td>104.74</td>\n",
       "      <td>104.82</td>\n",
       "      <td>104.74</td>\n",
       "      <td>104.81</td>\n",
       "      <td>34</td>\n",
       "      <td>0.076387</td>\n",
       "      <td>2011-03-09 09:30:00-06:00</td>\n",
       "      <td>2.500M</td>\n",
       "      <td>1.100M</td>\n",
       "      <td>-0.400M</td>\n",
       "      <td>2011-03-09 10:30:00-05:00</td>\n",
       "      <td>1.4</td>\n",
       "      <td>-570.0</td>\n",
       "    </tr>\n",
       "    <tr>\n",
       "      <th>2011-03-08 00:01:00-06:00</th>\n",
       "      <td>104.82</td>\n",
       "      <td>104.84</td>\n",
       "      <td>104.82</td>\n",
       "      <td>104.82</td>\n",
       "      <td>12</td>\n",
       "      <td>0.009541</td>\n",
       "      <td>2011-03-09 09:30:00-06:00</td>\n",
       "      <td>2.500M</td>\n",
       "      <td>1.100M</td>\n",
       "      <td>-0.400M</td>\n",
       "      <td>2011-03-09 10:30:00-05:00</td>\n",
       "      <td>1.4</td>\n",
       "      <td>-569.0</td>\n",
       "    </tr>\n",
       "    <tr>\n",
       "      <th>2011-03-08 00:02:00-06:00</th>\n",
       "      <td>104.81</td>\n",
       "      <td>104.81</td>\n",
       "      <td>104.73</td>\n",
       "      <td>104.75</td>\n",
       "      <td>20</td>\n",
       "      <td>-0.066781</td>\n",
       "      <td>2011-03-09 09:30:00-06:00</td>\n",
       "      <td>2.500M</td>\n",
       "      <td>1.100M</td>\n",
       "      <td>-0.400M</td>\n",
       "      <td>2011-03-09 10:30:00-05:00</td>\n",
       "      <td>1.4</td>\n",
       "      <td>-568.0</td>\n",
       "    </tr>\n",
       "    <tr>\n",
       "      <th>2011-03-08 00:03:00-06:00</th>\n",
       "      <td>104.74</td>\n",
       "      <td>104.76</td>\n",
       "      <td>104.71</td>\n",
       "      <td>104.76</td>\n",
       "      <td>25</td>\n",
       "      <td>0.009547</td>\n",
       "      <td>2011-03-09 09:30:00-06:00</td>\n",
       "      <td>2.500M</td>\n",
       "      <td>1.100M</td>\n",
       "      <td>-0.400M</td>\n",
       "      <td>2011-03-09 10:30:00-05:00</td>\n",
       "      <td>1.4</td>\n",
       "      <td>-567.0</td>\n",
       "    </tr>\n",
       "    <tr>\n",
       "      <th>...</th>\n",
       "      <td>...</td>\n",
       "      <td>...</td>\n",
       "      <td>...</td>\n",
       "      <td>...</td>\n",
       "      <td>...</td>\n",
       "      <td>...</td>\n",
       "      <td>...</td>\n",
       "      <td>...</td>\n",
       "      <td>...</td>\n",
       "      <td>...</td>\n",
       "      <td>...</td>\n",
       "      <td>...</td>\n",
       "      <td>...</td>\n",
       "    </tr>\n",
       "    <tr>\n",
       "      <th>2025-03-11 23:53:00-05:00</th>\n",
       "      <td>66.75</td>\n",
       "      <td>66.76</td>\n",
       "      <td>66.74</td>\n",
       "      <td>66.75</td>\n",
       "      <td>23</td>\n",
       "      <td>0.000000</td>\n",
       "      <td>2025-03-12 07:30:00-05:00</td>\n",
       "      <td>NaN</td>\n",
       "      <td>NaN</td>\n",
       "      <td>3.614M</td>\n",
       "      <td>2025-03-12 08:30:00-04:00</td>\n",
       "      <td>NaN</td>\n",
       "      <td>983.0</td>\n",
       "    </tr>\n",
       "    <tr>\n",
       "      <th>2025-03-11 23:54:00-05:00</th>\n",
       "      <td>66.75</td>\n",
       "      <td>66.75</td>\n",
       "      <td>66.75</td>\n",
       "      <td>66.75</td>\n",
       "      <td>13</td>\n",
       "      <td>0.000000</td>\n",
       "      <td>2025-03-12 07:30:00-05:00</td>\n",
       "      <td>NaN</td>\n",
       "      <td>NaN</td>\n",
       "      <td>3.614M</td>\n",
       "      <td>2025-03-12 08:30:00-04:00</td>\n",
       "      <td>NaN</td>\n",
       "      <td>984.0</td>\n",
       "    </tr>\n",
       "    <tr>\n",
       "      <th>2025-03-11 23:56:00-05:00</th>\n",
       "      <td>66.75</td>\n",
       "      <td>66.75</td>\n",
       "      <td>66.74</td>\n",
       "      <td>66.74</td>\n",
       "      <td>3</td>\n",
       "      <td>-0.014981</td>\n",
       "      <td>2025-03-12 07:30:00-05:00</td>\n",
       "      <td>NaN</td>\n",
       "      <td>NaN</td>\n",
       "      <td>3.614M</td>\n",
       "      <td>2025-03-12 08:30:00-04:00</td>\n",
       "      <td>NaN</td>\n",
       "      <td>986.0</td>\n",
       "    </tr>\n",
       "    <tr>\n",
       "      <th>2025-03-11 23:58:00-05:00</th>\n",
       "      <td>66.75</td>\n",
       "      <td>66.75</td>\n",
       "      <td>66.75</td>\n",
       "      <td>66.75</td>\n",
       "      <td>3</td>\n",
       "      <td>0.014984</td>\n",
       "      <td>2025-03-12 07:30:00-05:00</td>\n",
       "      <td>NaN</td>\n",
       "      <td>NaN</td>\n",
       "      <td>3.614M</td>\n",
       "      <td>2025-03-12 08:30:00-04:00</td>\n",
       "      <td>NaN</td>\n",
       "      <td>988.0</td>\n",
       "    </tr>\n",
       "    <tr>\n",
       "      <th>2025-03-11 23:59:00-05:00</th>\n",
       "      <td>66.75</td>\n",
       "      <td>66.75</td>\n",
       "      <td>66.75</td>\n",
       "      <td>66.75</td>\n",
       "      <td>1</td>\n",
       "      <td>0.000000</td>\n",
       "      <td>2025-03-12 07:30:00-05:00</td>\n",
       "      <td>NaN</td>\n",
       "      <td>NaN</td>\n",
       "      <td>3.614M</td>\n",
       "      <td>2025-03-12 08:30:00-04:00</td>\n",
       "      <td>NaN</td>\n",
       "      <td>989.0</td>\n",
       "    </tr>\n",
       "  </tbody>\n",
       "</table>\n",
       "<p>2779439 rows × 13 columns</p>\n",
       "</div>"
      ],
      "text/plain": [
       "                             Open    High     Low   Close  Volume  \\\n",
       "Datetime_CST                                                        \n",
       "2011-03-07 23:59:00-06:00  104.74  104.77  104.73  104.73      18   \n",
       "2011-03-08 00:00:00-06:00  104.74  104.82  104.74  104.81      34   \n",
       "2011-03-08 00:01:00-06:00  104.82  104.84  104.82  104.82      12   \n",
       "2011-03-08 00:02:00-06:00  104.81  104.81  104.73  104.75      20   \n",
       "2011-03-08 00:03:00-06:00  104.74  104.76  104.71  104.76      25   \n",
       "...                           ...     ...     ...     ...     ...   \n",
       "2025-03-11 23:53:00-05:00   66.75   66.76   66.74   66.75      23   \n",
       "2025-03-11 23:54:00-05:00   66.75   66.75   66.75   66.75      13   \n",
       "2025-03-11 23:56:00-05:00   66.75   66.75   66.74   66.74       3   \n",
       "2025-03-11 23:58:00-05:00   66.75   66.75   66.75   66.75       3   \n",
       "2025-03-11 23:59:00-05:00   66.75   66.75   66.75   66.75       1   \n",
       "\n",
       "                           Percent_Change      Release_Datetime_CST  Actual  \\\n",
       "Datetime_CST                                                                  \n",
       "2011-03-07 23:59:00-06:00             NaN 2011-03-09 09:30:00-06:00  2.500M   \n",
       "2011-03-08 00:00:00-06:00        0.076387 2011-03-09 09:30:00-06:00  2.500M   \n",
       "2011-03-08 00:01:00-06:00        0.009541 2011-03-09 09:30:00-06:00  2.500M   \n",
       "2011-03-08 00:02:00-06:00       -0.066781 2011-03-09 09:30:00-06:00  2.500M   \n",
       "2011-03-08 00:03:00-06:00        0.009547 2011-03-09 09:30:00-06:00  2.500M   \n",
       "...                                   ...                       ...     ...   \n",
       "2025-03-11 23:53:00-05:00        0.000000 2025-03-12 07:30:00-05:00     NaN   \n",
       "2025-03-11 23:54:00-05:00        0.000000 2025-03-12 07:30:00-05:00     NaN   \n",
       "2025-03-11 23:56:00-05:00       -0.014981 2025-03-12 07:30:00-05:00     NaN   \n",
       "2025-03-11 23:58:00-05:00        0.014984 2025-03-12 07:30:00-05:00     NaN   \n",
       "2025-03-11 23:59:00-05:00        0.000000 2025-03-12 07:30:00-05:00     NaN   \n",
       "\n",
       "                          Forecast Previous      Release_Datetime_EST  \\\n",
       "Datetime_CST                                                            \n",
       "2011-03-07 23:59:00-06:00   1.100M  -0.400M 2011-03-09 10:30:00-05:00   \n",
       "2011-03-08 00:00:00-06:00   1.100M  -0.400M 2011-03-09 10:30:00-05:00   \n",
       "2011-03-08 00:01:00-06:00   1.100M  -0.400M 2011-03-09 10:30:00-05:00   \n",
       "2011-03-08 00:02:00-06:00   1.100M  -0.400M 2011-03-09 10:30:00-05:00   \n",
       "2011-03-08 00:03:00-06:00   1.100M  -0.400M 2011-03-09 10:30:00-05:00   \n",
       "...                            ...      ...                       ...   \n",
       "2025-03-11 23:53:00-05:00      NaN   3.614M 2025-03-12 08:30:00-04:00   \n",
       "2025-03-11 23:54:00-05:00      NaN   3.614M 2025-03-12 08:30:00-04:00   \n",
       "2025-03-11 23:56:00-05:00      NaN   3.614M 2025-03-12 08:30:00-04:00   \n",
       "2025-03-11 23:58:00-05:00      NaN   3.614M 2025-03-12 08:30:00-04:00   \n",
       "2025-03-11 23:59:00-05:00      NaN   3.614M 2025-03-12 08:30:00-04:00   \n",
       "\n",
       "                           supply_surprise  Time_till_Release  \n",
       "Datetime_CST                                                   \n",
       "2011-03-07 23:59:00-06:00              1.4              869.0  \n",
       "2011-03-08 00:00:00-06:00              1.4             -570.0  \n",
       "2011-03-08 00:01:00-06:00              1.4             -569.0  \n",
       "2011-03-08 00:02:00-06:00              1.4             -568.0  \n",
       "2011-03-08 00:03:00-06:00              1.4             -567.0  \n",
       "...                                    ...                ...  \n",
       "2025-03-11 23:53:00-05:00              NaN              983.0  \n",
       "2025-03-11 23:54:00-05:00              NaN              984.0  \n",
       "2025-03-11 23:56:00-05:00              NaN              986.0  \n",
       "2025-03-11 23:58:00-05:00              NaN              988.0  \n",
       "2025-03-11 23:59:00-05:00              NaN              989.0  \n",
       "\n",
       "[2779439 rows x 13 columns]"
      ]
     },
     "metadata": {},
     "output_type": "display_data"
    },
    {
     "name": "stdout",
     "output_type": "stream",
     "text": [
      "                               Release_Datetime_CST  Time_till_Release\n",
      "Datetime_CST                                                          \n",
      "2011-03-07 23:59:00-06:00 2011-03-09 09:30:00-06:00              869.0\n",
      "2011-03-08 00:00:00-06:00 2011-03-09 09:30:00-06:00             -570.0\n",
      "2011-03-08 00:01:00-06:00 2011-03-09 09:30:00-06:00             -569.0\n",
      "2011-03-08 00:02:00-06:00 2011-03-09 09:30:00-06:00             -568.0\n",
      "2011-03-08 00:03:00-06:00 2011-03-09 09:30:00-06:00             -567.0\n",
      "\n",
      "Summary statistics for Time_till_Release:\n",
      "count    2.779439e+06\n",
      "mean     1.652097e+02\n",
      "std      4.138760e+02\n",
      "min     -7.200000e+02\n",
      "25%     -1.860000e+02\n",
      "50%      1.460000e+02\n",
      "75%      5.340000e+02\n",
      "max      9.890000e+02\n",
      "Name: Time_till_Release, dtype: float64\n"
     ]
    }
   ],
   "source": [
    "# 2. Calculate the time difference: Release_Datetime_CST - Datetime_CST\n",
    "#    This will give you a pandas Timedelta object.\n",
    "def time_difference(time1, time2):\n",
    "    \"\"\"\n",
    "    Calculates the time difference in seconds between two datetime.time objects.\n",
    "\n",
    "    Args:\n",
    "        time1: The first datetime.time object.\n",
    "        time2: The second datetime.time object.\n",
    "\n",
    "    Returns:\n",
    "        The time difference in minutes as a float.\n",
    "    \"\"\"\n",
    "    # Choose a dummy date (it can be any date, as we only care about time difference)\n",
    "    dummy_date = datetime.date(1, 1, 1)  # January 1, Year 1\n",
    "\n",
    "    # Combine the dummy date with the times to create datetime.datetime objects\n",
    "    datetime1 = datetime.datetime.combine(dummy_date, time1)\n",
    "    datetime2 = datetime.datetime.combine(dummy_date, time2)\n",
    "\n",
    "    # Calculate the difference (this will be a timedelta object)\n",
    "    time_delta = datetime2 - datetime1\n",
    "\n",
    "    # Return the difference in seconds (you can adjust to minutes, hours, etc.)\n",
    "    return time_delta.total_seconds() / 60\n",
    "\n",
    "wti_with_eia_releases.dropna(subset=['Release_Datetime_CST'], inplace=True)\n",
    "\n",
    "time_diff = [time_difference(t1, t2) for t1, t2 in zip(wti_with_eia_releases.reset_index()['Release_Datetime_CST'].dt.time, wti_with_eia_releases.reset_index()['Datetime_CST'].dt.time)]\n",
    "\n",
    "# 3. Convert the Timedelta to minutes\n",
    "#    Timedelta objects have a .dt.total_seconds() method, then divide by 60 to get minutes.\n",
    "time_diff_series = pd.Series(time_diff)\n",
    "wti_with_eia_releases.reset_index(inplace=True)\n",
    "wti_with_eia_releases['Time_till_Release'] = (time_diff_series)\n",
    "wti_with_eia_releases.set_index('Datetime_CST', inplace=True)\n",
    "display(wti_with_eia_releases)\n",
    "# 4. (Optional) Display the first few rows with the new column\n",
    "print(wti_with_eia_releases[['Release_Datetime_CST', 'Time_till_Release']].head())\n",
    "\n",
    "# 5. (Optional) Summary statistics of the Time_to_Release_minutes\n",
    "print(\"\\nSummary statistics for Time_till_Release:\")\n",
    "print(wti_with_eia_releases['Time_till_Release'].describe())"
   ]
  },
  {
   "cell_type": "code",
   "execution_count": 102,
   "metadata": {},
   "outputs": [
    {
     "data": {
      "text/html": [
       "<div>\n",
       "<style scoped>\n",
       "    .dataframe tbody tr th:only-of-type {\n",
       "        vertical-align: middle;\n",
       "    }\n",
       "\n",
       "    .dataframe tbody tr th {\n",
       "        vertical-align: top;\n",
       "    }\n",
       "\n",
       "    .dataframe thead th {\n",
       "        text-align: right;\n",
       "    }\n",
       "</style>\n",
       "<table border=\"1\" class=\"dataframe\">\n",
       "  <thead>\n",
       "    <tr style=\"text-align: right;\">\n",
       "      <th></th>\n",
       "      <th>Volume</th>\n",
       "      <th>Percent_Change</th>\n",
       "      <th>Actual</th>\n",
       "      <th>Forecast</th>\n",
       "      <th>Previous</th>\n",
       "      <th>supply_surprise</th>\n",
       "      <th>Time_till_Release</th>\n",
       "    </tr>\n",
       "  </thead>\n",
       "  <tbody>\n",
       "    <tr>\n",
       "      <th>0</th>\n",
       "      <td>875</td>\n",
       "      <td>-0.142383</td>\n",
       "      <td>2.500M</td>\n",
       "      <td>1.100M</td>\n",
       "      <td>-0.400M</td>\n",
       "      <td>1.4</td>\n",
       "      <td>-60.0</td>\n",
       "    </tr>\n",
       "    <tr>\n",
       "      <th>1</th>\n",
       "      <td>566</td>\n",
       "      <td>0.019011</td>\n",
       "      <td>2.500M</td>\n",
       "      <td>1.100M</td>\n",
       "      <td>-0.400M</td>\n",
       "      <td>1.4</td>\n",
       "      <td>-59.0</td>\n",
       "    </tr>\n",
       "    <tr>\n",
       "      <th>2</th>\n",
       "      <td>921</td>\n",
       "      <td>-0.076031</td>\n",
       "      <td>2.500M</td>\n",
       "      <td>1.100M</td>\n",
       "      <td>-0.400M</td>\n",
       "      <td>1.4</td>\n",
       "      <td>-58.0</td>\n",
       "    </tr>\n",
       "    <tr>\n",
       "      <th>3</th>\n",
       "      <td>574</td>\n",
       "      <td>-0.066578</td>\n",
       "      <td>2.500M</td>\n",
       "      <td>1.100M</td>\n",
       "      <td>-0.400M</td>\n",
       "      <td>1.4</td>\n",
       "      <td>-57.0</td>\n",
       "    </tr>\n",
       "    <tr>\n",
       "      <th>4</th>\n",
       "      <td>1099</td>\n",
       "      <td>-0.057105</td>\n",
       "      <td>2.500M</td>\n",
       "      <td>1.100M</td>\n",
       "      <td>-0.400M</td>\n",
       "      <td>1.4</td>\n",
       "      <td>-56.0</td>\n",
       "    </tr>\n",
       "    <tr>\n",
       "      <th>...</th>\n",
       "      <td>...</td>\n",
       "      <td>...</td>\n",
       "      <td>...</td>\n",
       "      <td>...</td>\n",
       "      <td>...</td>\n",
       "      <td>...</td>\n",
       "      <td>...</td>\n",
       "    </tr>\n",
       "    <tr>\n",
       "      <th>255333</th>\n",
       "      <td>128</td>\n",
       "      <td>0.000000</td>\n",
       "      <td>NaN</td>\n",
       "      <td>NaN</td>\n",
       "      <td>3.614M</td>\n",
       "      <td>NaN</td>\n",
       "      <td>56.0</td>\n",
       "    </tr>\n",
       "    <tr>\n",
       "      <th>255334</th>\n",
       "      <td>133</td>\n",
       "      <td>0.000000</td>\n",
       "      <td>NaN</td>\n",
       "      <td>NaN</td>\n",
       "      <td>3.614M</td>\n",
       "      <td>NaN</td>\n",
       "      <td>57.0</td>\n",
       "    </tr>\n",
       "    <tr>\n",
       "      <th>255335</th>\n",
       "      <td>88</td>\n",
       "      <td>0.014968</td>\n",
       "      <td>NaN</td>\n",
       "      <td>NaN</td>\n",
       "      <td>3.614M</td>\n",
       "      <td>NaN</td>\n",
       "      <td>58.0</td>\n",
       "    </tr>\n",
       "    <tr>\n",
       "      <th>255336</th>\n",
       "      <td>275</td>\n",
       "      <td>0.000000</td>\n",
       "      <td>NaN</td>\n",
       "      <td>NaN</td>\n",
       "      <td>3.614M</td>\n",
       "      <td>NaN</td>\n",
       "      <td>59.0</td>\n",
       "    </tr>\n",
       "    <tr>\n",
       "      <th>255337</th>\n",
       "      <td>284</td>\n",
       "      <td>0.014966</td>\n",
       "      <td>NaN</td>\n",
       "      <td>NaN</td>\n",
       "      <td>3.614M</td>\n",
       "      <td>NaN</td>\n",
       "      <td>60.0</td>\n",
       "    </tr>\n",
       "  </tbody>\n",
       "</table>\n",
       "<p>255338 rows × 7 columns</p>\n",
       "</div>"
      ],
      "text/plain": [
       "        Volume  Percent_Change  Actual Forecast Previous  supply_surprise  \\\n",
       "0          875       -0.142383  2.500M   1.100M  -0.400M              1.4   \n",
       "1          566        0.019011  2.500M   1.100M  -0.400M              1.4   \n",
       "2          921       -0.076031  2.500M   1.100M  -0.400M              1.4   \n",
       "3          574       -0.066578  2.500M   1.100M  -0.400M              1.4   \n",
       "4         1099       -0.057105  2.500M   1.100M  -0.400M              1.4   \n",
       "...        ...             ...     ...      ...      ...              ...   \n",
       "255333     128        0.000000     NaN      NaN   3.614M              NaN   \n",
       "255334     133        0.000000     NaN      NaN   3.614M              NaN   \n",
       "255335      88        0.014968     NaN      NaN   3.614M              NaN   \n",
       "255336     275        0.000000     NaN      NaN   3.614M              NaN   \n",
       "255337     284        0.014966     NaN      NaN   3.614M              NaN   \n",
       "\n",
       "        Time_till_Release  \n",
       "0                   -60.0  \n",
       "1                   -59.0  \n",
       "2                   -58.0  \n",
       "3                   -57.0  \n",
       "4                   -56.0  \n",
       "...                   ...  \n",
       "255333               56.0  \n",
       "255334               57.0  \n",
       "255335               58.0  \n",
       "255336               59.0  \n",
       "255337               60.0  \n",
       "\n",
       "[255338 rows x 7 columns]"
      ]
     },
     "metadata": {},
     "output_type": "display_data"
    }
   ],
   "source": [
    "non_release_price_windows_60min = wti_with_eia_releases.copy().loc[wti_with_eia_releases['Time_till_Release'].abs() <= 60.0]\n",
    "non_release_price_windows_60min.reset_index(inplace=True)\n",
    "non_release_price_windows_60min.drop(columns=['Datetime_CST', 'Open', 'High', 'Low', 'Close', 'Release_Datetime_CST', 'Release_Datetime_EST'], inplace=True)\n",
    "display(non_release_price_windows_60min)"
   ]
  },
  {
   "cell_type": "code",
   "execution_count": 117,
   "metadata": {},
   "outputs": [
    {
     "name": "stderr",
     "output_type": "stream",
     "text": [
      "C:\\Users\\evans\\AppData\\Local\\Temp\\ipykernel_23536\\1659211699.py:10: FutureWarning:\n",
      "\n",
      "The default of observed=False is deprecated and will be changed to True in a future version of pandas. Pass observed=False to retain current behavior or observed=True to adopt the future default and silence this warning.\n",
      "\n"
     ]
    },
    {
     "data": {
      "application/vnd.plotly.v1+json": {
       "config": {
        "plotlyServerURL": "https://plot.ly"
       },
       "data": [
        {
         "colorbar": {
          "title": {
           "text": "Frequency"
          }
         },
         "colorscale": [
          [
           0,
           "#440154"
          ],
          [
           0.1111111111111111,
           "#482878"
          ],
          [
           0.2222222222222222,
           "#3e4989"
          ],
          [
           0.3333333333333333,
           "#31688e"
          ],
          [
           0.4444444444444444,
           "#26828e"
          ],
          [
           0.5555555555555556,
           "#1f9e89"
          ],
          [
           0.6666666666666666,
           "#35b779"
          ],
          [
           0.7777777777777778,
           "#6ece58"
          ],
          [
           0.8888888888888888,
           "#b5de2b"
          ],
          [
           1,
           "#fde725"
          ]
         ],
         "type": "heatmap",
         "x": {
          "bdata": "AAAAAAAATsAAAAAAAIBNwAAAAAAAAE3AAAAAAACATMAAAAAAAABMwAAAAAAAgEvAAAAAAAAAS8AAAAAAAIBKwAAAAAAAAErAAAAAAACAScAAAAAAAABJwAAAAAAAgEjAAAAAAAAASMAAAAAAAIBHwAAAAAAAAEfAAAAAAACARsAAAAAAAABGwAAAAAAAgEXAAAAAAAAARcAAAAAAAIBEwAAAAAAAAETAAAAAAACAQ8AAAAAAAABDwAAAAAAAgELAAAAAAAAAQsAAAAAAAIBBwAAAAAAAAEHAAAAAAACAQMAAAAAAAABAwAAAAAAAAD/AAAAAAAAAPsAAAAAAAAA9wAAAAAAAADzAAAAAAAAAO8AAAAAAAAA6wAAAAAAAADnAAAAAAAAAOMAAAAAAAAA3wAAAAAAAADbAAAAAAAAANcAAAAAAAAA0wAAAAAAAADPAAAAAAAAAMsAAAAAAAAAxwAAAAAAAADDAAAAAAAAALsAAAAAAAAAswAAAAAAAACrAAAAAAAAAKMAAAAAAAAAmwAAAAAAAACTAAAAAAAAAIsAAAAAAAAAgwAAAAAAAABzAAAAAAAAAGMAAAAAAAAAUwAAAAAAAABDAAAAAAAAACMAAAAAAAAAAwAAAAAAAAPC/AAAAAAAAAAAAAAAAAADwPwAAAAAAAABAAAAAAAAACEAAAAAAAAAQQAAAAAAAABRAAAAAAAAAGEAAAAAAAAAcQAAAAAAAACBAAAAAAAAAIkAAAAAAAAAkQAAAAAAAACZAAAAAAAAAKEAAAAAAAAAqQAAAAAAAACxAAAAAAAAALkAAAAAAAAAwQAAAAAAAADFAAAAAAAAAMkAAAAAAAAAzQAAAAAAAADRAAAAAAAAANUAAAAAAAAA2QAAAAAAAADdAAAAAAAAAOEAAAAAAAAA5QAAAAAAAADpAAAAAAAAAO0AAAAAAAAA8QAAAAAAAAD1AAAAAAAAAPkAAAAAAAAA/QAAAAAAAAEBAAAAAAACAQEAAAAAAAABBQAAAAAAAgEFAAAAAAAAAQkAAAAAAAIBCQAAAAAAAAENAAAAAAACAQ0AAAAAAAABEQAAAAAAAgERAAAAAAAAARUAAAAAAAIBFQAAAAAAAAEZAAAAAAACARkAAAAAAAABHQAAAAAAAgEdAAAAAAAAASEAAAAAAAIBIQAAAAAAAAElAAAAAAACASUAAAAAAAABKQAAAAAAAgEpAAAAAAAAAS0AAAAAAAIBLQAAAAAAAAExAAAAAAACATEAAAAAAAABNQAAAAAAAgE1AAAAAAAAATkA=",
          "dtype": "f8"
         },
         "y": [
          "-1.00%",
          "-0.95%",
          "-0.90%",
          "-0.85%",
          "-0.80%",
          "-0.75%",
          "-0.70%",
          "-0.65%",
          "-0.60%",
          "-0.55%",
          "-0.50%",
          "-0.45%",
          "-0.40%",
          "-0.35%",
          "-0.30%",
          "-0.25%",
          "-0.20%",
          "-0.15%",
          "-0.10%",
          "-0.05%",
          "0.00%",
          "0.05%",
          "0.10%",
          "0.15%",
          "0.20%",
          "0.25%",
          "0.30%",
          "0.35%",
          "0.40%",
          "0.45%",
          "0.50%",
          "0.55%",
          "0.60%",
          "0.65%",
          "0.70%",
          "0.75%",
          "0.80%",
          "0.85%",
          "0.90%",
          "0.95%"
         ],
         "z": {
          "bdata": "k5Un7ho5wD8AAAAAAAAAAAAAAAAAAAAAAAAAAAAAAAAAAAAAAAAAAAAAAAAAAAAAAAAAAAAAAAAAAAAAAAAAAJOVJ+4aOcA/AAAAAAAAAAAAAAAAAAAAAAAAAAAAAAAAAAAAAAAAAAAAAAAAAAAAAAAAAAAAAAAAAAAAAAAAAAAAAAAAAAAAAAAAAAAAAAAAAAAAAAAAAACTlSfuGjnAPwAAAAAAAAAAAAAAAAAAAAAAAAAAAAAAAAAAAAAAAAAAAAAAAAAAAAAAAAAAAAAAAAAAAAAAAAAAAAAAAAAAAAAAAAAAAAAAAAAAAAAAAAAAk5Un7ho5wD8AAAAAAAAAAJOVJ+4aOcA/AAAAAAAAAAAAAAAAAAAAAJOVJ+4aOcA/AAAAAAAAAAAAAAAAAAAAAAAAAAAAAAAAAAAAAAAAAAAAAAAAAAAAAAAAAAAAAAAAAAAAAAAAAAAAAAAAAAAAAAAAAAAAAAAAAAAAAAAAAAAAAAAAAAAAAAAAAAAAAAAAAAAAAAAAAAAAAAAAAAAAAAAAAAAAAAAAAAAAAAAAAAAAAAAAAAAAAJOVJ+4aOcA/AAAAAAAAAAAAAAAAAAAAAJOVJ+4aOcA/AAAAAAAAAAAAAAAAAAAAAAAAAAAAAAAAAAAAAAAAAACTlSfuGjnAPwAAAAAAAAAAAAAAAAAAAAAAAAAAAAAAAAAAAAAAAAAAAAAAAAAAAAAAAAAAAAAAAJOVJ+4aOcA/AAAAAAAAAAAAAAAAAAAAAAAAAAAAAAAAAAAAAAAAAAAAAAAAAAAAAAAAAAAAAAAAAAAAAAAAAAAAAAAAAAAAAAAAAAAAAAAAk5Un7ho5wD8AAAAAAAAAAAAAAAAAAAAAAAAAAAAAAAAAAAAAAAAAAAAAAAAAAAAAAAAAAAAAAAAAAAAAAAAAAAAAAAAAAAAAAAAAAAAAAAAAAAAAAAAAAAAAAAAAAAAAAAAAAAAAAAAAAAAAAAAAAAAAAAAAAAAAAAAAAAAAAAAAAAAAAAAAAAAAAAAAAAAAAAAAAAAAAAAAAAAAAAAAAAAAAAAAAAAAAAAAAAAAAAAAAAAAAAAAAAAAAAAAAAAAAAAAAAAAAAAAAAAAAAAAAAAAAAAAAAAAk5Un7ho5wD8AAAAAAAAAAAAAAAAAAAAAAAAAAAAAAAAAAAAAAAAAAAAAAAAAAAAAAAAAAAAAAAAAAAAAAAAAAAAAAAAAAAAAAAAAAAAAAAAAAAAAAAAAAAAAAAAAAAAAAAAAAAAAAAAAAAAAAAAAAAAAAAAAAAAAAAAAAAAAAAAAAAAAAAAAAAAAAAAAAAAAAAAAAAAAAAAAAAAAAAAAAAAAAAAAAAAAAAAAAAAAAAAAAAAAAAAAAAAAAAAAAAAAAAAAAAAAAAAAAAAAAAAAAAAAAAAAAAAAAAAAAAAAAAAAAAAAAAAAAAAAAAAAAAAAAAAAAAAAAAAAAAAAAAAAAAAAAAAAAAAAAAAAAAAAAAAAAAAAAAAAAAAAAAAAAAAAAAAAAAAAAAAAAAAAAAAAAAAAAAAAAAAAAAAAAAAAAAAAAAAAAAAAAAAAAAAAAAAAAAAAAAAAAAAAAAAAAAAAAAAAAAAAAAAAAAAAAAAAAACTlSfuGjnAPwAAAAAAAAAAAAAAAAAAAAAAAAAAAAAAAAAAAAAAAAAAAAAAAAAAAAAAAAAAAAAAAAAAAAAAAAAAk5Un7ho5wD+TlSfuGjnAPwAAAAAAAAAAAAAAAAAAAAAAAAAAAAAAAAAAAAAAAAAAAAAAAAAAAAAAAAAAAAAAAAAAAAAAAAAAAAAAAAAAAAAAAAAAAAAAAAAAAAAAAAAAAAAAAAAAAAAAAAAAAAAAAAAAAAAAAAAAAAAAAAAAAAAAAAAAAAAAAJOVJ+4aOcA/AAAAAAAAAAAAAAAAAAAAAAAAAAAAAAAAAAAAAAAAAAAAAAAAAAAAAAAAAAAAAAAAAAAAAAAAAAAAAAAAAAAAAAAAAAAAAAAAAAAAAAAAAAAAAAAAAAAAAAAAAAAAAAAAAAAAAAAAAAAAAAAAAAAAAAAAAAAAAAAAAAAAAAAAAAAAAAAAAAAAAAAAAAAAAAAAAAAAAAAAAAAAAAAAAAAAAAAAAAAAAAAAAAAAAAAAAAAAAAAAAAAAAAAAAAAAAAAAAAAAAAAAAAAAAAAAAAAAAAAAAAAAAAAAAAAAAAAAAAAAAAAAAAAAAAAAAAAAAAAAAAAAAAAAAAAAAAAAAAAAAAAAAAAAAAAAAAAAAAAAAACTlSfuGjnQPwAAAAAAAAAAAAAAAAAAAAAAAAAAAAAAAAAAAAAAAAAAAAAAAAAAAAAAAAAAAAAAAAAAAAAAAAAAk5Un7ho5wD8AAAAAAAAAAAAAAAAAAAAAAAAAAAAAAAAAAAAAAAAAAAAAAAAAAAAAAAAAAAAAAAAAAAAAAAAAAAAAAAAAAAAAAAAAAAAAAAAAAAAAAAAAAJOVJ+4aOdA/AAAAAAAAAAAAAAAAAAAAAAAAAAAAAAAAAAAAAAAAAAAAAAAAAAAAAAAAAAAAAAAAk5Un7ho5wD8AAAAAAAAAAAAAAAAAAAAAAAAAAAAAAAAAAAAAAAAAAAAAAAAAAAAAAAAAAAAAAAAAAAAAAAAAAAAAAAAAAAAAAAAAAAAAAACTlSfuGjnAPwAAAAAAAAAAAAAAAAAAAACTlSfuGjnAPwAAAAAAAAAAk5Un7ho5wD8AAAAAAAAAAAAAAAAAAAAAAAAAAAAAAAAAAAAAAAAAAAAAAAAAAAAAAAAAAAAAAAAAAAAAAAAAAJOVJ+4aOcA/AAAAAAAAAAAAAAAAAAAAAAAAAAAAAAAAAAAAAAAAAAAAAAAAAAAAAAAAAAAAAAAAAAAAAAAAAAAAAAAAAAAAAAAAAAAAAAAAAAAAAAAAAAAAAAAAAAAAAAAAAAAAAAAAAAAAAAAAAAAAAAAAAAAAAAAAAAAAAAAAAAAAAAAAAAAAAAAAAAAAAAAAAAAAAAAAk5Un7ho5wD8AAAAAAAAAAAAAAAAAAAAAAAAAAAAAAAAAAAAAAAAAAAAAAAAAAAAAAAAAAAAAAAAAAAAAAAAAAAAAAAAAAAAAAAAAAAAAAAAAAAAAAAAAAJOVJ+4aOcA/AAAAAAAAAAAAAAAAAAAAAAAAAAAAAAAAAAAAAAAAAAAAAAAAAAAAAAAAAAAAAAAAAAAAAAAAAAAAAAAAAAAAAJOVJ+4aOcA/AAAAAAAAAAAAAAAAAAAAAAAAAAAAAAAAAAAAAAAAAAAAAAAAAAAAAJOVJ+4aOcA/AAAAAAAAAAAAAAAAAAAAAAAAAAAAAAAAAAAAAAAAAACTlSfuGjnAPwAAAAAAAAAAAAAAAAAAAACTlSfuGjnAP5OVJ+4aOcA/AAAAAAAAAACTlSfuGjnAPwAAAAAAAAAAAAAAAAAAAAAAAAAAAAAAAAAAAAAAAAAAAAAAAAAAAAAAAAAAAAAAAAAAAAAAAAAAAAAAAAAAAAAAAAAAAAAAAAAAAAAAAAAAAAAAAAAAAACTlSfuGjnAP5OVJ+4aOcA/AAAAAAAAAAAAAAAAAAAAAAAAAAAAAAAAAAAAAAAAAAAAAAAAAAAAAAAAAAAAAAAAAAAAAAAAAAAAAAAAAAAAAJOVJ+4aOcA/AAAAAAAAAAAAAAAAAAAAAAAAAAAAAAAAAAAAAAAAAAAAAAAAAAAAAAAAAAAAAAAAAAAAAAAAAAAAAAAAAAAAAAAAAAAAAAAAAAAAAAAAAAAAAAAAAAAAAAAAAAAAAAAAAAAAAAAAAAAAAAAAAAAAAAAAAAAAAAAAAAAAAAAAAAAAAAAAAAAAAAAAAAAAAAAAAAAAAAAAAAAAAAAAAAAAAJOVJ+4aOcA/k5Un7ho5wD8AAAAAAAAAAAAAAAAAAAAAk5Un7ho5wD+TlSfuGjnAPwAAAAAAAAAAAAAAAAAAAAAAAAAAAAAAAAAAAAAAAAAAAAAAAAAAAAAAAAAAAAAAAAAAAAAAAAAAAAAAAAAAAAAAAAAAAAAAAAAAAAAAAAAAAAAAAAAAAAAAAAAAAAAAAAAAAAAAAAAAAAAAAAAAAAAAAAAAAAAAAAAAAAAAAAAAAAAAAAAAAAAAAAAAAAAAAAAAAAAAAAAAAAAAAAAAAAAAAAAAAAAAAAAAAAAAAAAAAAAAAAAAAAAAAAAAAAAAAAAAAAAAAAAAk5Un7ho5wD+TlSfuGjnAPwAAAAAAAAAAAAAAAAAAAACTlSfuGjnAP5OVJ+4aOcA/AAAAAAAAAACTlSfuGjnAPwAAAAAAAAAAAAAAAAAAAACTlSfuGjnAPwAAAAAAAAAAAAAAAAAAAAAAAAAAAAAAAAAAAAAAAAAAk5Un7ho5wD8AAAAAAAAAAJOVJ+4aOcA/AAAAAAAAAAAAAAAAAAAAAAAAAAAAAAAAAAAAAAAAAAAAAAAAAAAAAAAAAAAAAAAAAAAAAAAAAAAAAAAAAAAAAAAAAAAAAAAAAAAAAAAAAAAAAAAAAAAAAAAAAAAAAAAAAAAAAAAAAAAAAAAAAAAAAAAAAAAAAAAAAAAAAAAAAACTlSfuGjnAP5OVJ+4aOcA/AAAAAAAAAAAAAAAAAAAAAJOVJ+4aOcA/AAAAAAAAAACTlSfuGjnAPwAAAAAAAAAAAAAAAAAAAAAAAAAAAAAAAF1gO2WoVdg/AAAAAAAAAAAAAAAAAAAAAAAAAAAAAAAAAAAAAAAAAAAAAAAAAAAAAAAAAAAAAAAAAAAAAAAAAAAAAAAAAAAAAAAAAAAAAAAAAAAAAAAAAAAAAAAAAAAAAAAAAAAAAAAAAAAAAAAAAAAAAAAAAAAAAAAAAAAAAAAAAAAAAAAAAAAAAAAAAAAAAAAAAAAAAAAAAAAAAAAAAACTlSfuGjnAP5OVJ+4aOcA/AAAAAAAAAAAAAAAAAAAAAJOVJ+4aOcA/AAAAAAAAAACTlSfuGjnAP5OVJ+4aOcA/AAAAAAAAAAAAAAAAAAAAAAAAAAAAAAAAAAAAAAAAAAAAAAAAAAAAAAAAAAAAAAAAAAAAAAAAAAAAAAAAAAAAAAAAAAAAAAAAAAAAAAAAAAAAAAAAAAAAAAAAAAAAAAAAAAAAAAAAAAAAAAAAAAAAAAAAAAAAAAAAAAAAAAAAAAAAAAAAAAAAAAAAAAAAAAAAAAAAAAAAAAAAAAAAAAAAAAAAAAAAAAAAAAAAAAAAAAAAAAAAAAAAAAAAAAAAAAAAAAAAAAAAAAAAAAAAAAAAAAAAAAAAAAAAAAAAAAAAAAAAAAAAAAAAAAAAAAAAAAAAAAAAAAAAAAAAAAAAAAAAAAAAAAAAAAAAAAAAAAAAAAAAAAAAAAAAAAAAAAAAAAAAAAAAAAAAAACTlSfuGjnAPwAAAAAAAAAAAAAAAAAAAAAAAAAAAAAAAAAAAAAAAAAAk5Un7ho5wD8AAAAAAAAAAAAAAAAAAAAAAAAAAAAAAAAAAAAAAAAAAJOVJ+4aOcA/AAAAAAAAAAAAAAAAAAAAAAAAAAAAAAAAAAAAAAAAAACTlSfuGjnQPwAAAAAAAAAAAAAAAAAAAAAAAAAAAAAAAJOVJ+4aOcA/AAAAAAAAAAAAAAAAAAAAAJOVJ+4aOcA/AAAAAAAAAAAAAAAAAAAAAAAAAAAAAAAAAAAAAAAAAAAAAAAAAAAAAAAAAAAAAAAAAAAAAAAAAAAAAAAAAAAAAAAAAAAAAAAAk5Un7ho5wD8AAAAAAAAAAAAAAAAAAAAAAAAAAAAAAAAAAAAAAAAAAAAAAAAAAAAAAAAAAAAAAAAAAAAAAAAAAAAAAAAAAAAAk5Un7ho5wD8AAAAAAAAAAAAAAAAAAAAAAAAAAAAAAACTlSfuGjnAPwAAAAAAAAAAAAAAAAAAAAAAAAAAAAAAAAAAAAAAAAAAAAAAAAAAAACTlSfuGjnAPwAAAAAAAAAAAAAAAAAAAAAAAAAAAAAAAAAAAAAAAAAAAAAAAAAAAAAAAAAAAAAAAAAAAAAAAAAAAAAAAAAAAAAAAAAAAAAAAJOVJ+4aOdA/AAAAAAAAAAAAAAAAAAAAAAAAAAAAAAAAAAAAAAAAAAAAAAAAAAAAAAAAAAAAAAAAAAAAAAAAAACTlSfuGjnAPwAAAAAAAAAAk5Un7ho5wD8AAAAAAAAAAAAAAAAAAAAAAAAAAAAAAAAAAAAAAAAAAJOVJ+4aOdA/AAAAAAAAAAAAAAAAAAAAAAAAAAAAAAAAAAAAAAAAAAAAAAAAAAAAAJOVJ+4aOcA/AAAAAAAAAAAAAAAAAAAAAAAAAAAAAAAAAAAAAAAAAAAAAAAAAAAAAAAAAAAAAAAAAAAAAAAAAAAAAAAAAAAAAAAAAAAAAAAAk5Un7ho5wD8AAAAAAAAAAAAAAAAAAAAAAAAAAAAAAACTlSfuGjnAPwAAAAAAAAAAAAAAAAAAAACTlSfuGjnAPwAAAAAAAAAAAAAAAAAAAAAAAAAAAAAAAAAAAAAAAAAAAAAAAAAAAAAAAAAAAAAAAJOVJ+4aOcA/k5Un7ho5wD+TlSfuGjnAPwAAAAAAAAAAAAAAAAAAAACTlSfuGjnAPwAAAAAAAAAAAAAAAAAAAAAAAAAAAAAAAJOVJ+4aOcA/AAAAAAAAAAAAAAAAAAAAAAAAAAAAAAAAAAAAAAAAAAAAAAAAAAAAAAAAAAAAAAAAk5Un7ho5wD8AAAAAAAAAAAAAAAAAAAAAAAAAAAAAAAAAAAAAAAAAAAAAAAAAAAAAAAAAAAAAAACTlSfuGjnAPwAAAAAAAAAAk5Un7ho5wD8AAAAAAAAAAAAAAAAAAAAAAAAAAAAAAAAAAAAAAAAAAF1gO2WoVdg/AAAAAAAAAAAAAAAAAAAAAAAAAAAAAAAAAAAAAAAAAACTlSfuGjnQPwAAAAAAAAAAk5Un7ho5wD8AAAAAAAAAAJOVJ+4aOcA/AAAAAAAAAAAAAAAAAAAAAAAAAAAAAAAAk5Un7ho5wD8AAAAAAAAAAAAAAAAAAAAAAAAAAAAAAAAAAAAAAAAAAAAAAAAAAAAAAAAAAAAAAAAAAAAAAAAAAAAAAAAAAAAAAAAAAAAAAACTlSfuGjnAPwAAAAAAAAAAAAAAAAAAAAAAAAAAAAAAAAAAAAAAAAAAAAAAAAAAAAAAAAAAAAAAAAAAAAAAAAAAAAAAAAAAAAAAAAAAAAAAAAAAAAAAAAAAk5Un7ho5wD8AAAAAAAAAAAAAAAAAAAAAAAAAAAAAAAAAAAAAAAAAAAAAAAAAAAAAAAAAAAAAAAAAAAAAAAAAAJOVJ+4aOcA/AAAAAAAAAAAAAAAAAAAAAAAAAAAAAAAAAAAAAAAAAACTlSfuGjnAPwAAAAAAAAAAAAAAAAAAAAAAAAAAAAAAAAAAAAAAAAAAAAAAAAAAAAAAAAAAAAAAAAAAAAAAAAAAk5Un7ho5wD8AAAAAAAAAAAAAAAAAAAAAAAAAAAAAAAAAAAAAAAAAAJOVJ+4aOdA/AAAAAAAAAAAAAAAAAAAAAJOVJ+4aOcA/AAAAAAAAAAAAAAAAAAAAAAAAAAAAAAAAAAAAAAAAAAAAAAAAAAAAAJOVJ+4aOcA/AAAAAAAAAAAAAAAAAAAAAAAAAAAAAAAAAAAAAAAAAAAAAAAAAAAAAAAAAAAAAAAAAAAAAAAAAAAAAAAAAAAAAAAAAAAAAAAAAAAAAAAAAACTlSfuGjnAPwAAAAAAAAAAAAAAAAAAAAAAAAAAAAAAAAAAAAAAAAAAAAAAAAAAAAAAAAAAAAAAAAAAAAAAAAAAAAAAAAAAAAAAAAAAAAAAAAAAAAAAAAAAk5Un7ho50D8AAAAAAAAAAJOVJ+4aOcA/AAAAAAAAAAAAAAAAAAAAAAAAAAAAAAAAAAAAAAAAAAAAAAAAAAAAAAAAAAAAAAAAk5Un7ho5wD+TlSfuGjnAP5OVJ+4aOcA/AAAAAAAAAAAAAAAAAAAAAAAAAAAAAAAAk5Un7ho5wD8AAAAAAAAAAJOVJ+4aOcA/AAAAAAAAAAAAAAAAAAAAAJOVJ+4aOcA/k5Un7ho5wD8AAAAAAAAAAAAAAAAAAAAAAAAAAAAAAAAAAAAAAAAAAAAAAAAAAAAAAAAAAAAAAAAAAAAAAAAAAAAAAAAAAAAAAAAAAAAAAACTlSfuGjnAP5OVJ+4aOcA/k5Un7ho5wD+TlSfuGjnAPwAAAAAAAAAAAAAAAAAAAACTlSfuGjnAPwAAAAAAAAAAAAAAAAAAAACTlSfuGjnAPwAAAAAAAAAAAAAAAAAAAAAAAAAAAAAAAAAAAAAAAAAAk5Un7ho50D8AAAAAAAAAAAAAAAAAAAAAk5Un7ho50D8AAAAAAAAAAAAAAAAAAAAAAAAAAAAAAACTlSfuGjnQPwAAAAAAAAAAAAAAAAAAAAAAAAAAAAAAAJOVJ+4aOcA/AAAAAAAAAAAAAAAAAAAAAAAAAAAAAAAAk5Un7ho5wD+TlSfuGjnQP5OVJ+4aOcA/AAAAAAAAAACTlSfuGjnAP5OVJ+4aOcA/k5Un7ho5wD8AAAAAAAAAAAAAAAAAAAAAAAAAAAAAAAAAAAAAAAAAAAAAAAAAAAAAAAAAAAAAAACTlSfuGjnQPwAAAAAAAAAAk5Un7ho50D8AAAAAAAAAAJOVJ+4aOcA/AAAAAAAAAAAAAAAAAAAAAAAAAAAAAAAAAAAAAAAAAAAAAAAAAAAAAAAAAAAAAAAAAAAAAAAAAAAAAAAAAAAAAAAAAAAAAAAAk5Un7ho5wD8AAAAAAAAAAAAAAAAAAAAAk5Un7ho50D+TlSfuGjnAP5OVJ+4aOcA/k5Un7ho5wD8AAAAAAAAAAAAAAAAAAAAAAAAAAAAAAAAAAAAAAAAAAAAAAAAAAAAAAAAAAAAAAAAAAAAAAAAAAAAAAAAAAAAAAAAAAAAAAAAAAAAAAAAAAAAAAAAAAAAAAAAAAAAAAAAAAAAAAAAAAJOVJ+4aOcA/k5Un7ho5wD8AAAAAAAAAAAAAAAAAAAAAAAAAAAAAAAAAAAAAAAAAAAAAAAAAAAAAAAAAAAAAAAAAAAAAAAAAAAAAAAAAAAAAAAAAAAAAAAAAAAAAAAAAAAAAAAAAAAAAAAAAAAAAAACTlSfuGjnAPwAAAAAAAAAAAAAAAAAAAAAAAAAAAAAAAAAAAAAAAAAAAAAAAAAAAAAAAAAAAAAAAAAAAAAAAAAAAAAAAAAAAACTlSfuGjnAP5OVJ+4aOcA/AAAAAAAAAACTlSfuGjnAPwAAAAAAAAAAAAAAAAAAAACTlSfuGjnAPwAAAAAAAAAAk5Un7ho5wD8AAAAAAAAAAJOVJ+4aOcA/k5Un7ho5wD8AAAAAAAAAAAAAAAAAAAAAAAAAAAAAAAAAAAAAAAAAAAAAAAAAAAAAk5Un7ho50D8AAAAAAAAAAAAAAAAAAAAAAAAAAAAAAABGiOxLPkDyPwAAAAAAAAAAk5Un7ho5wD8AAAAAAAAAAAAAAAAAAAAAk5Un7ho5wD+TlSfuGjnQPwAAAAAAAAAAk5Un7ho5wD+TlSfuGjnAP11gO2WoVdg/AAAAAAAAAAAAAAAAAAAAAAAAAAAAAAAAAAAAAAAAAAAAAAAAAAAAAJOVJ+4aOcA/AAAAAAAAAAAAAAAAAAAAAJOVJ+4aOcA/k5Un7ho50D8AAAAAAAAAAAAAAAAAAAAAAAAAAAAAAACTlSfuGjnAPwAAAAAAAAAAAAAAAAAAAAAAAAAAAAAAAAAAAAAAAAAAAAAAAAAAAACTlSfuGjnAPwAAAAAAAAAAk5Un7ho5wD+TlSfuGjnQPwAAAAAAAAAAk5Un7ho5wD+TlSfuGjnAPwAAAAAAAAAAk5Un7ho50D8AAAAAAAAAAJOVJ+4aOcA/AAAAAAAAAAAAAAAAAAAAAAAAAAAAAAAAk5Un7ho5wD9dYDtlqFXYP5OVJ+4aOcA/AAAAAAAAAAAAAAAAAAAAAJOVJ+4aOcA/AAAAAAAAAAAAAAAAAAAAAAAAAAAAAAAAAAAAAAAAAAAAAAAAAAAAAJOVJ+4aOdA/AAAAAAAAAAAAAAAAAAAAAJOVJ+4aOcA/AAAAAAAAAACTlSfuGjngPwAAAAAAAAAAAAAAAAAAAAAAAAAAAAAAAAAAAAAAAAAAk5Un7ho5wD8AAAAAAAAAAAAAAAAAAAAAk5Un7ho5wD8AAAAAAAAAAAAAAAAAAAAAk5Un7ho5wD+TlSfuGjnAPwAAAAAAAAAAAAAAAAAAAAAAAAAAAAAAAAAAAAAAAAAAAAAAAAAAAACTlSfuGjnAPwAAAAAAAAAAAAAAAAAAAAAAAAAAAAAAAJOVJ+4aOcA/AAAAAAAAAAAAAAAAAAAAAAAAAAAAAAAAAAAAAAAAAACTlSfuGjnAPwAAAAAAAAAAAAAAAAAAAACTlSfuGjnAP5OVJ+4aOcA/k5Un7ho5wD+TlSfuGjnAP5OVJ+4aOcA/AAAAAAAAAAAAAAAAAAAAAAAAAAAAAAAAk5Un7ho5wD+TlSfuGjnAPwAAAAAAAAAAAAAAAAAAAAAAAAAAAAAAAJOVJ+4aOcA/k5Un7ho5wD8AAAAAAAAAAAAAAAAAAAAAAAAAAAAAAAAAAAAAAAAAAAAAAAAAAAAAk5Un7ho5wD8AAAAAAAAAAAAAAAAAAAAAAAAAAAAAAAAAAAAAAAAAAAAAAAAAAAAAAAAAAAAAAACTlSfuGjnAPwAAAAAAAAAAAAAAAAAAAAAAAAAAAAAAAJOVJ+4aOeA/k5Un7ho5wD8AAAAAAAAAAAAAAAAAAAAAAAAAAAAAAAAAAAAAAAAAAAAAAAAAAAAAk5Un7ho50D8AAAAAAAAAAJOVJ+4aOdA/AAAAAAAAAAAAAAAAAAAAAAAAAAAAAAAAAAAAAAAAAACTlSfuGjnAPwAAAAAAAAAAk5Un7ho5wD+TlSfuGjnAPwAAAAAAAAAAAAAAAAAAAACTlSfuGjnAP5OVJ+4aOdA/AAAAAAAAAAAAAAAAAAAAAJOVJ+4aOdA/AAAAAAAAAAAAAAAAAAAAAAAAAAAAAAAAk5Un7ho50D+TlSfuGjnAP11gO2WoVeg/k5Un7ho50D8AAAAAAAAAAAAAAAAAAAAAAAAAAAAAAACTlSfuGjnAPwAAAAAAAAAAk5Un7ho50D+TlSfuGjnAP5OVJ+4aOcA/AAAAAAAAAACTlSfuGjnAPwAAAAAAAAAAk5Un7ho5wD9dYDtlqFXYPwAAAAAAAAAAAAAAAAAAAAAAAAAAAAAAAJOVJ+4aOcA/AAAAAAAAAAAAAAAAAAAAAAAAAAAAAAAAAAAAAAAAAAAAAAAAAAAAAAAAAAAAAAAAk5Un7ho5wD+TlSfuGjnAPwAAAAAAAAAAk5Un7ho5wD8AAAAAAAAAAJOVJ+4aOcA/AAAAAAAAAAAAAAAAAAAAAJOVJ+4aOdA/k5Un7ho50D8AAAAAAAAAAF1gO2WoVdg/AAAAAAAAAAAAAAAAAAAAAJOVJ+4aOcA/k5Un7ho5wD+TlSfuGjnAPwAAAAAAAAAAAAAAAAAAAAAAAAAAAAAAAJOVJ+4aOcA/AAAAAAAAAACTlSfuGjnAP5OVJ+4aOcA/AAAAAAAAAACTlSfuGjnAPwAAAAAAAAAAAAAAAAAAAAAAAAAAAAAAAAAAAAAAAAAAk5Un7ho50D8AAAAAAAAAAAAAAAAAAAAAAAAAAAAAAACTlSfuGjnAP5OVJ+4aOdA/+HqxqWFH5D+TlSfuGjnAP11gO2WoVdg/AAAAAAAAAAAAAAAAAAAAAJOVJ+4aOcA/k5Un7ho5wD+TlSfuGjnAP5OVJ+4aOcA/k5Un7ho5wD8AAAAAAAAAAAAAAAAAAAAAk5Un7ho5wD8AAAAAAAAAAJOVJ+4aOcA/AAAAAAAAAAAAAAAAAAAAAJOVJ+4aOcA/AAAAAAAAAAAAAAAAAAAAAJOVJ+4aOcA/k5Un7ho5wD+TlSfuGjnAP5OVJ+4aOcA/AAAAAAAAAACTlSfuGjnQPwAAAAAAAAAAAAAAAAAAAACTlSfuGjnAPwAAAAAAAAAA+HqxqWFH5D+TlSfuGjnQP11gO2WoVdg/k5Un7ho5wD+TlSfuGjnAP5OVJ+4aOcA/k5Un7ho5wD9dYDtlqFXYP5OVJ+4aOcA/k5Un7ho5wD+TlSfuGjnAP5OVJ+4aOcA/k5Un7ho5wD8AAAAAAAAAAJOVJ+4aOdA/k5Un7ho50D+TlSfuGjnAP5OVJ+4aOdA/AAAAAAAAAAAAAAAAAAAAAJOVJ+4aOcA/AAAAAAAAAAAAAAAAAAAAAAAAAAAAAAAAk5Un7ho5wD8AAAAAAAAAAAAAAAAAAAAAAAAAAAAAAAAAAAAAAAAAAAAAAAAAAAAAk5Un7ho50D+TlSfuGjnAPwAAAAAAAAAAk5Un7ho50D+TlSfuGjnQP5OVJ+4aOdA/k5Un7ho5wD+TlSfuGjnQPwAAAAAAAAAAk5Un7ho5wD+TlSfuGjnQPwAAAAAAAAAAk5Un7ho5wD+TlSfuGjnQPwAAAAAAAAAAk5Un7ho5wD+TlSfuGjnQPwAAAAAAAAAAk5Un7ho5wD+TlSfuGjnAPwAAAAAAAAAAk5Un7ho5wD8AAAAAAAAAAAAAAAAAAAAAAAAAAAAAAACTlSfuGjnQP5OVJ+4aOcA/AAAAAAAAAAAAAAAAAAAAAAAAAAAAAAAAk5Un7ho54D+TlSfuGjnQP5OVJ+4aOcA/k5Un7ho50D+TlSfuGjnQP5OVJ+4aOcA/k5Un7ho5wD8AAAAAAAAAAAAAAAAAAAAAAAAAAAAAAACTlSfuGjnAPwAAAAAAAAAAk5Un7ho50D8AAAAAAAAAAJOVJ+4aOdA/k5Un7ho5wD+TlSfuGjnQPwAAAAAAAAAAk5Un7ho5wD8AAAAAAAAAAJOVJ+4aOcA/AAAAAAAAAAAAAAAAAAAAAAAAAAAAAAAAAAAAAAAAAACTlSfuGjnAP5OVJ+4aOcA/AAAAAAAAAAAAAAAAAAAAAJOVJ+4aOdA/XWA7ZahV2D9dYDtlqFXYP11gO2WoVdg/k5Un7ho5wD+TlSfuGjnQPwAAAAAAAAAAk5Un7ho50D+TlSfuGjngPwAAAAAAAAAAk5Un7ho5wD8AAAAAAAAAAJOVJ+4aOdA/k5Un7ho50D8AAAAAAAAAAAAAAAAAAAAAAAAAAAAAAAAAAAAAAAAAAJOVJ+4aOcA/AAAAAAAAAAAAAAAAAAAAAAAAAAAAAAAAk5Un7ho50D8AAAAAAAAAAAAAAAAAAAAAAAAAAAAAAACTlSfuGjnAP5OVJ+4aOcA/AAAAAAAAAAAAAAAAAAAAAAAAAAAAAAAAk5Un7ho5wD/4erGpYUfkP/h6salhR+Q/k5Un7ho5wD8AAAAAAAAAAJOVJ+4aOcA/k5Un7ho54D+TlSfuGjnAP11gO2WoVdg/k5Un7ho5wD+TlSfuGjnAP5OVJ+4aOdA/k5Un7ho5wD8AAAAAAAAAAJOVJ+4aOcA/AAAAAAAAAAAAAAAAAAAAAF1gO2WoVdg/AAAAAAAAAACTlSfuGjnAP5OVJ+4aOcA/k5Un7ho5wD8AAAAAAAAAAAAAAAAAAAAAk5Un7ho5wD+TlSfuGjnAP5OVJ+4aOcA/k5Un7ho5wD+TlSfuGjnQPwAAAAAAAAAAAAAAAAAAAACTlSfuGjnAP5OVJ+4aOcA/k5Un7ho54D+TlSfuGjnAP5OVJ+4aOcA/k5Un7ho5wD9dYDtlqFXYP11gO2WoVdg/k5Un7ho5wD+TlSfuGjnAP5OVJ+4aOcA/k5Un7ho5wD8AAAAAAAAAAJOVJ+4aOdA/XWA7ZahV2D9dYDtlqFXYP5OVJ+4aOcA/AAAAAAAAAACTlSfuGjnAP5OVJ+4aOdA/k5Un7ho5wD8AAAAAAAAAAJOVJ+4aOcA/AAAAAAAAAAAAAAAAAAAAAAAAAAAAAAAAAAAAAAAAAACTlSfuGjnAPwAAAAAAAAAAk5Un7ho50D9dYDtlqFXoP11gO2WoVdg/AAAAAAAAAACTlSfuGjnAPwAAAAAAAAAAAAAAAAAAAABdYDtlqFXYP11gO2WoVdg/k5Un7ho5wD+TlSfuGjnAP5OVJ+4aOcA/k5Un7ho50D9dYDtlqFXYP5OVJ+4aOdA/XWA7ZahV2D+TlSfuGjnQP11gO2WoVdg/k5Un7ho50D9dYDtlqFXYPwAAAAAAAAAAk5Un7ho5wD+TlSfuGjnQP5OVJ+4aOdA/k5Un7ho5wD+TlSfuGjnAP5OVJ+4aOdA/XWA7ZahV2D+TlSfuGjnAP5OVJ+4aOcA/AAAAAAAAAABdYDtlqFXYP5OVJ+4aOdA/k5Un7ho50D+TlSfuGjnQP5OVJ+4aOdA/k5Un7ho50D+TlSfuGjnQP5OVJ+4aOdA/AAAAAAAAAABdYDtlqFXYPwAAAAAAAAAAk5Un7ho54D9dYDtlqFXYP5OVJ+4aOdA/XWA7ZahV2D+TlSfuGjnAP11gO2WoVdg/k5Un7ho50D+TlSfuGjnQP5OVJ+4aOcA/k5Un7ho54D9dYDtlqFXYP5OVJ+4aOcA/k5Un7ho5wD+TlSfuGjnAPwAAAAAAAAAAXWA7ZahV2D+TlSfuGjnAP11gO2WoVdg/AAAAAAAAAABdYDtlqFXYP6ttdgeFTvY/wkXFIO9j7D/4erGpYUf0P5OVJ+4aOcA/k5Un7ho54D+TlSfuGjnQPwAAAAAAAAAAk5Un7ho5wD+TlSfuGjnAPwAAAAAAAAAA+HqxqWFH5D9dYDtlqFXYP5OVJ+4aOcA/AAAAAAAAAACTlSfuGjnAP5OVJ+4aOcA/k5Un7ho50D+TlSfuGjnAP5OVJ+4aOdA/AAAAAAAAAACTlSfuGjnQP11gO2WoVdg/k5Un7ho50D+TlSfuGjnAP5OVJ+4aOcA/AAAAAAAAAACTlSfuGjnAP5OVJ+4aOdA/AAAAAAAAAACTlSfuGjnAP5OVJ+4aOeA/XWA7ZahV2D8AAAAAAAAAAF1gO2WoVeg/XWA7ZahV2D8AAAAAAAAAAJOVJ+4aOeA/wkXFIO9j7D+TlSfuGjnQP11gO2WoVdg/+HqxqWFH5D+TlSfuGjnQP5OVJ+4aOdA/k5Un7ho5wD+TlSfuGjnAP5OVJ+4aOeA/k5Un7ho54D8AAAAAAAAAAF1gO2WoVdg/k5Un7ho5wD+TlSfuGjnAP5OVJ+4aOdA/k5Un7ho5wD8AAAAAAAAAAAAAAAAAAAAAAAAAAAAAAACTlSfuGjnAP5OVJ+4aOcA/k5Un7ho5wD9dYDtlqFXYP8JFxSDvY+w/k5Un7ho50D+TlSfuGjnQP5OVJ+4aOfA/k5Un7ho50D+TlSfuGjnQP5OVJ+4aOdA/XWA7ZahV2D+TlSfuGjnQP5OVJ+4aOcA/k5Un7ho5wD+TlSfuGjngP5OVJ+4aOcA/+HqxqWFH5D+TlSfuGjnAP5OVJ+4aOdA/k5Un7ho50D8AAAAAAAAAAF1gO2WoVdg/XWA7ZahV2D8AAAAAAAAAAF1gO2WoVdg/AAAAAAAAAAAAAAAAAAAAAJOVJ+4aOdA/AAAAAAAAAACTlSfuGjnQP5OVJ+4aOcA/k5Un7ho50D+TlSfuGjnAP11gO2WoVdg/XWA7ZahV2D9dYDtlqFXYP5OVJ+4aOeA/XWA7ZahV2D9dYDtlqFXoPwAAAAAAAAAAk5Un7ho5wD/CRcUg72PsP5OVJ+4aOdA/k5Un7ho50D+TlSfuGjngP11gO2WoVdg/XWA7ZahV2D9dYDtlqFXYP5OVJ+4aOdA/XWA7ZahV2D9dYDtlqFXYP5OVJ+4aOcA/XWA7ZahV2D/4erGpYUfkP5OVJ+4aOdA/AAAAAAAAAABdYDtlqFXYPwAAAAAAAAAAk5Un7ho50D8AAAAAAAAAAJOVJ+4aOcA/k5Un7ho50D8AAAAAAAAAAPh6salhR+Q/7Q4Knaw8AUDCRcUg72PsP5OVJ+4aOcA/+HqxqWFH5D9dYDtlqFXYP/h6salhR+Q/XWA7ZahV6D+TlSfuGjnQP8JFxSDvY+w/k5Un7ho5wD+TlSfuGjnQP5OVJ+4aOdA/k5Un7ho5wD9dYDtlqFXYP11gO2WoVdg/wkXFIO9j7D+TlSfuGjngP5OVJ+4aOdA/k5Un7ho50D+TlSfuGjnQP5OVJ+4aOeA/XWA7ZahV2D9dYDtlqFXYPwAAAAAAAAAAk5Un7ho54D+TlSfuGjnQP5OVJ+4aOcA/+HqxqWFH5D9dYDtlqFXYP5OVJ+4aOdA/wkXFIO9j7D9dYDtlqFXoP5OVJ+4aOeA/XWA7ZahV2D9dYDtlqFXYP11gO2WoVeg/+HqxqWFH5D/4erGpYUfkP11gO2WoVdg/k5Un7ho5wD+TlSfuGjnQP/h6salhR+Q/k5Un7ho50D+TlSfuGjnAP5OVJ+4aOcA/k5Un7ho54D+TlSfuGjngP11gO2WoVdg/k5Un7ho50D+TlSfuGjnAP5OVJ+4aOdA/k5Un7ho50D9dYDtlqFXYP5OVJ+4aOeA/k5Un7ho50D+TlSfuGjnAP11gO2WoVdg/k5Un7ho50D/4erGpYUfkP11gO2WoVdg/q212B4VO9j9dYDtlqFX4P/h6salhR+Q/+HqxqWFH5D/4erGpYUfkP/h6salhR+Q/+HqxqWFH5D9dYDtlqFXYP5OVJ+4aOdA/XWA7ZahV2D+TlSfuGjnQP5OVJ+4aOdA/XWA7ZahV6D+TlSfuGjnQP/h6salhR+Q/+HqxqWFH5D9dYDtlqFXYP5OVJ+4aOdA/k5Un7ho50D+TlSfuGjngP8JFxSDvY+w/k5Un7ho50D9dYDtlqFXYP/h6salhR+Q/XWA7ZahV2D+TlSfuGjngP5OVJ+4aOcA/k5Un7ho5wD+TlSfuGjnAP5OVJ+4aOcA/wkXFIO9j7D+rbXYHhU72P/h6salhR/Q/XWA7ZahV6D+TlSfuGjngP8JFxSDvY+w/k5Un7ho54D/CRcUg72PsP11gO2WoVdg/k5Un7ho5wD+TlSfuGjnwP8JFxSDvY+w/XWA7ZahV2D/4erGpYUfkP5OVJ+4aOcA/+HqxqWFH5D/CRcUg72PsP11gO2WoVdg/k5Un7ho54D+TlSfuGjngP5OVJ+4aOeA/k5Un7ho5wD9dYDtlqFXYP5OVJ+4aOdA/+HqxqWFH5D+TlSfuGjnQP11gO2WoVeg/XWA7ZahV2D9dYDtlqFXYP5OVJ+4aOeA/+HqxqWFH9D8cv6fPgGcNQEaI7Es+QPI/EFMAw8tc+j91OIp+Emv+P5OVJ+4aOdA/+HqxqWFH9D9dYDtlqFXYP5OVJ+4aOfA/+HqxqWFH5D+TlSfuGjnwP5OVJ+4aOeA/k5Un7ho54D/4erGpYUfkP5OVJ+4aOfA/k5Un7ho54D/CRcUg72PsP/h6salhR+Q/XWA7ZahV2D+TlSfuGjnQP11gO2WoVeg/q212B4VO9j+TlSfuGjnQP5OVJ+4aOcA/XWA7ZahV2D/4erGpYUfkP11gO2WoVeg/XWA7ZahV2D+TlSfuGjnAP/h6salhR+Q/XWA7ZahV2D/tDgqdrDwBQMJFxSDvY+w/RojsSz5A8j/CRcUg72PsP/h6salhR+Q/RojsSz5A8j9dYDtlqFXoP5OVJ+4aOfA/XWA7ZahV+D9dYDtlqFXoP0aI7Es+QPI/k5Un7ho54D9dYDtlqFXoP11gO2WoVeg/wkXFIO9j7D/CRcUg72P8P5OVJ+4aOeA/k5Un7ho58D9dYDtlqFXoP8JFxSDvY+w/EFMAw8tc+j9dYDtlqFXoP11gO2WoVdg/XWA7ZahV6D+TlSfuGjnwP0aI7Es+QPI/k5Un7ho54D+TlSfuGjngP11gO2WoVeg/k5Un7ho5wD9GiOxLPkACQEaI7Es+QPI/wkXFIO9j7D+TlSfuGjnwP11gO2WoVdg/k5Un7ho58D9dYDtlqFX4P0aI7Es+QPI/k5Un7ho54D9dYDtlqFXoP8JFxSDvY/w/XWA7ZahV6D+TlSfuGjnwP/h6salhR+Q/XWA7ZahV2D/4erGpYUfkP8JFxSDvY+w/q212B4VO9j+TlSfuGjngP5OVJ+4aOeA/XWA7ZahV6D/4erGpYUfkP5OVJ+4aOeA/+HqxqWFH5D+TlSfuGjngP0aI7Es+QPI/k5Un7ho58D9dYDtlqFXYP11gO2WoVdg/XWA7ZahV6D+TlSfuGjngP11gO2WoVfg/XWA7ZahV+D9dYDtlqFX4P8JFxSDvY/w/XWA7ZahV+D+rbXYHhU72P+0OCp2sPAFA+HqxqWFH9D/4erGpYUf0P/h6salhR/Q/q212B4VO9j+rbXYHhU72P0aI7Es+QPI/+HqxqWFH9D+rbXYHhU72PxBTAMPLXPo/+HqxqWFH9D/4erGpYUfkP11gO2WoVfg/XWA7ZahV2D/CRcUg72PsP0aI7Es+QPI/k5Un7ho54D/4erGpYUfkP11gO2WoVdg/RojsSz5A8j9dYDtlqFXoP/h6salhR/Q/+HqxqWFH5D+TlSfuGjngP1H0k1jzShVAk5Un7ho5AEDCRcUg72MMQMJFxSDvY/w/k5Un7ho58D91OIp+Emv+P5OVJ+4aOQBAXWA7ZahV+D/CRcUg72P8P8JFxSDvY/w/+HqxqWFH9D8QUwDDy1z6P11gO2WoVeg/wkXFIO9j7D9dYDtlqFX4P3U4in4Sa/4/+HqxqWFH9D9dYDtlqFX4P11gO2WoVfg/k5Un7ho58D+TlSfuGjkAQEaI7Es+QPI/XWA7ZahV+D8QUwDDy1z6P11gO2WoVdg/k5Un7ho58D9GiOxLPkDyP5OVJ+4aOeA/k5Un7ho58D+TlSfuGjnwP1H0k1jzSgVARojsSz5AAkB1OIp+Emv+PxBTAMPLXPo/EFMAw8tc+j8E51i2FlIHQBBTAMPLXPo/XWA7ZahV+D/tDgqdrDwBQF1gO2WoVeg/XWA7ZahV+D9GiOxLPkACQF1gO2WoVfg/k5Un7ho5AEAQUwDDy1z6P3U4in4Sa/4/RojsSz5A8j9GiOxLPkACQMJFxSDvY+w/RojsSz5A8j9GiOxLPkDyP3U4in4Sa/4/RojsSz5A8j+rbXYHhU72P11gO2WoVfg/q212B4VO9j/CRcUg72PsP5OVJ+4aOfA/+HqxqWFH9D+rbXYHhU72P11gO2WoVQhA7Q4Knaw8AUCfAc/6z0MDQF1gO2WoVfg/q212B4VO9j+TlSfuGjkAQEaI7Es+QAJAdTiKfhJr/j9dYDtlqFX4P5OVJ+4aOfA/+HqxqWFH9D+TlSfuGjnwP0aI7Es+QPI/RojsSz5A8j/4erGpYUf0P+0OCp2sPAFAnwHP+s9DA0CTlSfuGjnwP/h6salhR/Q/k5Un7ho58D/CRcUg72PsP0aI7Es+QPI/wkXFIO9j7D/4erGpYUf0PxBTAMPLXPo/wkXFIO9j/D9GiOxLPkDyP0aI7Es+QPI/RojsSz5A8j9dYDtlqFX4P3U4in4Sa/4/88RdIwfCEkBdYDtlqFUIQBy/p8+AZw1A+HqxqWFHBEDtDgqdrDwBQO0OCp2sPAFA+HqxqWFHBED4erGpYUcEQHU4in4Sa/4/k5Un7ho5AECrbXYHhU72PxBTAMPLXPo/nwHP+s9DA0B1OIp+Emv+P3U4in4Sa/4/7Q4Knaw8AUAE51i2FlIHQPh6salhR/Q/7Q4Knaw8AUBR9JNY80oFQEaI7Es+QAJAUfSTWPNKBUB1OIp+Emv+P3U4in4Sa/4/+HqxqWFH9D91OIp+Emv+P11gO2WoVfg/nwHP+s9DA0D4erGpYUcEQLfZHRQ6WQlA6jPgWf95IEBdYDtlqFUYQO0OCp2sPBFAaczicV1gC0C32R0UOlkJQM6xbC2kbg9AdTiKfhJrDkBGiOxLPkACQFH0k1jzSgVAq212B4VOBkDzxF0jB8ISQPh6salhRwRAq212B4VOBkCfAc/6z0MDQKttdgeFTgZAzrFsLaRuD0BdYDtlqFUIQPh6salhRwRARojsSz5AAkCrbXYHhU4GQEaI7Es+QAJAdTiKfhJr/j91OIp+Emv+PxBTAMPLXPo/nwHP+s9DA0DtDgqdrDwBQEaI7Es+QAJAk5Un7ho5AECTlSfuGjkAQHU4in4Sa/4/aczicV1gG0CfAc/6z0MTQPh6salhRxRAk5Un7ho5EEC32R0UOlkJQM6xbC2kbg9Aq212B4VOBkAQUwDDy1wKQFH0k1jzSgVAEFMAw8tcCkCaS3t0db4RQBBTAMPLXApA7Q4Knaw8AUD4erGpYUcEQFH0k1jzSgVARojsSz5AEkDtDgqdrDwBQJOVJ+4aORBAnwHP+s9DA0DCRcUg72MMQGnM4nFdYAtAnwHP+s9DA0AE51i2FlIHQFH0k1jzSgVAq212B4VOBkAcv6fPgGcNQJ8Bz/rPQwNA+HqxqWFHBECrbXYHhU4GQFH0k1jzSgVAUfSTWPNKFUCltyKBKskUQHU4in4Saw5AUfSTWPNKBUAQUwDDy1wKQKttdgeFTgZA+HqxqWFHBEAcv6fPgGcNQATnWLYWUgdA+HqxqWFHBEBdYDtlqFUIQJ8Bz/rPQwNAaczicV1gC0BdYDtlqFX4P3U4in4Sa/4/wkXFIO9j/D/CRcUg72MMQKttdgeFTgZAaczicV1gC0DtDgqdrDwBQPh6salhRwRAEFMAw8tcCkAE51i2FlIHQHU4in4Sa/4/aczicV1gC0BpzOJxXWALQKttdgeFTgZAq212B4VOBkBdYDtlqFX4P2nM4nFdYAtAaczicV1gC0Bugjb4t+UcQGnM4nFdYBtAvI9xmpTeGkC8j3GalN4aQF1gO2WoVRhAHL+nz4BnHUD4erGpYUcUQJ8Bz/rPQxNAUfSTWPNKFUCfAc/6z0MTQPh6salhRxRAnwHP+s9DE0CaS3t0db4RQPPEXSMHwhJAdTiKfhJrDkBMPkDSmMUTQKttdgeFThZAk5Un7ho5EEDzxF0jB8ISQEDSmMXjuhBACp2sPHHXGECltyKBKskUQATnWLYWUhdAk5Un7ho5EED4erGpYUcUQO0OCp2sPBFAq212B4VOFkCfAc/6z0MTQPh6salhRwRAXWA7ZahVGEANeNZ/HpopQJwmpbcigSJARojsSz5AIkDOsWwtpG4fQMn7GKdJ6R1AdTiKfhJrHkAcv6fPgGcdQGnM4nFdYBtAsSPKjd/TF0DOsWwtpG4fQGnM4nFdYBtAaczicV1gG0D/MAUwvMwVQLEjyo3f0xdApbcigSrJFEC8j3GalN4aQGMWj+sC2xlAnwHP+s9DE0BYqufeTdAWQPh6salhRxRAzrFsLaRuH0CxI8qN39MXQO0OCp2sPBFA/zAFMLzMFUC32R0UOlkJQLEjyo3f0xdAEFMAw8tcGkBA0pjF47oQQKW3IoEqyRRA/zAFMLzMFUCxI8qN39MnQJwmpbcigSJAQNKYxeO6IEC32R0UOlkZQG6CNvi35RxAotz4PX0GJEDtDgqdrDwhQBBTAMPLXBpAEFMAw8tcGkDJ+xinSekdQEw+QNKYxSNAXWA7ZahVGEAKnaw8cdcYQMJFxSDvYxxAWKrn3k3QFkCTlSfuGjkgQJOVJ+4aOSBAk5Un7ho5IEAE51i2FlIXQLfZHRQ6WRlAyfsYp0npHUAE51i2FlIXQFiq595N0BZAWKrn3k3QFkAE51i2FlIXQKttdgeFThZACp2sPHHXGECxI8qN39MXQKW3IoEqyRRAt9kdFDpZGUCfAc/6z0MjQAEML3NpjyZAe+7dBG3wH0CaS3t0db4hQJ8Bz/rPQyNAQNKYxeO6IEAidftV2+weQP8wBTC8zBVAwkXFIO9jHEBYqufeTdAWQM6xbC2kbh9AYxaP6wLbGUAQUwDDy1waQGMWj+sC2xlA/zAFMLzMFUAcv6fPgGcdQKttdgeFThZA88RdIwfCEkCltyKBKskUQF1gO2WoVRhAsSPKjd/TF0C32R0UOlkZQO0OCp2sPCFAEFMAw8tcGkBdYDtlqFUYQG6CNvi35RxAHL+nz4BnHUAE51i2FlIXQLfZHRQ6WRlAk5Un7ho5IECcJqW3IoEiQJ8Bz/rPQzNAxiDvY5wmLUBoRku4qBgwQGbxuC6wnSpAYxaP6wLbKUANeNZ/HpopQLEjyo3f0ydAVc+9m6ANJkD4erGpYUckQKW3IoEqySRAvI9xmpTeKkBYqufeTdAmQKiSTMTXiyVAvI9xmpTeKkAHwoL5wxQoQBBTAMPLXCpACp2sPHHXKEBYqufeTdAmQAqdrDxx1yhAqJJMxNeLJUCltyKBKskkQLEjyo3f0ydAYDtlqFUYKUD/MAUwvMwlQAfCgvnDFChAYxaP6wLbKUBJYxaP6wIjQFiq595N0CZAWKrn3k3QJkBxXWA7ZagtQAEML3NpjzZAylCrMEJkM0Bu/J4+A54xQGwhdftV2zBAv2qb3UGhK0BGiOxLPkAyQMWaV6rn3jFAxiDvY5wmLUC32R0UOlkpQLfZHRQ6WSlAcV1gO2WoLUCxI8qN39MnQBQuKgZ5HytAFC4qBnkfK0AVCVRJJuIrQOoz4Fn/eTBAytZC6varLkAVCVRJJuIrQG2nDLUKIyxA/zAFMLzMJUBtpwy1CiMsQLfZHRQ6WSlAEFMAw8tcKkBVz72boA0mQGMWj+sC2ylAubRHV+cbKkBtpwy1CiMsQAEML3NpjyZArkigSjIRJ0CokkzE14slQOIo+kmseTlAGzkQFswfMkDqM+BZ/3kwQG6CNvi35SxAGOR9jNOkLEAjyo3f02c0QHHXyIGwYDJA7Q4Knaw8MUDCRcUg72MsQGwhdftV2zBAk5Un7ho5MEAVg7yPcZowQL9qm91BoStAv2qb3UGhK0AY5H2M06QsQEDSmMXjujBA7Q4Knaw8MUCTlSfuGjkwQBWDvI9xmjBAboI2+LflLEAbORAWzB8yQG6CNvi35SxAFQlUSSbiK0BxXWA7ZagtQJdwUTHI+zBAaczicV1gK0AlUCWZiK8vQG2nDLUKIyxA/FXb7A4KJUBoRku4qBgwQHeNHAgL5jNAbvyePgOeMUAYXubSHl0xQBhe5tIeXTFAcV1gO2WoLUB77t0EbfAvQGwhdftV2zBAl3BRMcj7MEDJ+xinSektQHvu3QRt8C9ARojsSz5AMkAYXubSHl0xQL/kAySNWTBAEFMAw8tcKkBdYDtlqFUoQPPEXSMHwjJAbvyePgOeMUBtpwy1CiMsQG6CNvi35SxAZvG4LrCdKkCXcFExyPswQBWDvI9xmjBADXjWfx6aKUDqM+BZ/3kwQBBTAMPLXCpAJVAlmYivL0BsIXX7VdswQGbxuC6wnSpAwkXFIO9jLEAULioGeR8rQHHXyIGwYDJAeBO0wb8tP0DW+YbgHMtAQCJ1+1Xb7D5Al3BRMcj7QECqqqqqqqpAQBWDvI9xmkBAaEZLuKgYQED3JR8gacw+QPFvy5kORz1A2dSwI8qNQUBsIXX7VdtAQCVQJZmIrz9Ak5Un7ho5QEBQnwHP+s8/QMG/LWc6HEFAWsJFxSDvQUAVg7yPcZpAQO2UoVZhhDxAytZC6varPkCgh2a0hIs+QOoz4Fn/eUBAQNKYxeO6QEBNxNeLTQ0/QMrWQur2qz5Awb8tZzocQUDqM+BZ/3lAQJOVJ+4aOUBAHL+nz4BnPUD5AEljFo8/QC9zaY+uzkFA1vmG4BzLQEDZ1LAjyo1BQMWaV6rn3kFAnwHP+s9DQ0DBvy1nOhxBQCq9FQlUSUBAbCF1+1XbQEAYXubSHl1BQP5tOdPhKEBAxZpXqufeQUC/5AMkjVlAQJdwUTHI+0BAqqqqqqqqQEBJYxaP6wJDQIM2+LflTEFAL3Npj67OQUBA0pjF47pAQNnUsCPKjUFA8Okz4Fn/QUCuhdTtV21BQMG/LWc6HEFA7Q4Knaw8QUDOsWwtpG4/QPkASWMWjz9AQNKYxeO6QEDBvy1nOhxBQJysPHHXyD1A+QBJYxaPP0B77t0EbfA/QEDSmMXjukBAtP7z0IyWSEB3jRwIC+ZDQPPEXSMHwkJARojsSz5AQkCaS3t0db5BQDrfEJxj2URA34oEqiQTQ0C/5AMkjVlAQBs5EBbMH0JAnwHP+s9DQ0DFmleq595BQPPEXSMHwkJAszsodLLyQkBsIXX7VdtAQPDpM+BZ/0FAhREi+5IPQkAyTpPSW5FCQEljFo/rAkNAnCaltyKBQkB77t0EbfA/QNyv2mZ3UEJAUJ8Bz/rPP0Dcr9pmd1BCQBhe5tIeXUFAGzkQFswfQkCFESL7kg9CQFrCRcUg70FAmkt7dHW+QUD5AEljFo8/QMn7GKdJ6T1A9yUfIGnMPkDBvy1nOhxBQHHXyIGwYEJAL3Npj67OQUBA0pjF47pAQL/kAySNWUBAYHiZS3t0Q0CxYP4wBTBCQKLc+D19BkRA3K/aZndQQkBX5xuCcyxBQEOtwgiRfUFARojsSz5AQkCDNvi35UxBQGwhdftV20BAe+7dBG3wP0Ah72OcJqVDQDgE51i2FkRAQ63CCJF9QUCDNvi35UxBQEw+QNKYxUNA5EBYMH+YREDZ1LAjyo1BQGhGS7ioGEBAGF7m0h5dQUBVDPI+xmlAQH9bznQ4ikBAnCaltyKBQkDw6TPgWf9BQNnUsCPKjUFAbvyePgOeQUAoseaV6rlSQJsadkS58VRAI8qN39NnVEBwy5kOR9FUQLUKI0T2JVZAuvF7+gx4VEDdftU2u4NVQPSTWPNK9VVATg07otz4VkDGaVJ6KxJVQFH0k1jzSlVATg07otz4VkDCgvnDFMBWQE4NO6Lc+FZABOdYthZSV0C8zKU9ujpVQJBxmpTeildA0tX5huAcWEC45UyHo+hWQLUKI0T2JVZAX2xq2BHlVUB2ge2UoVZWQGzkQFgwf1ZAUOhk5Ym7V0Ce9Z+HZrRVQJsadkS58VRALzY17IhyV0CSTMTXi01YQPCs/zw0o1dAOATnWLYWVEBdYDtlqFVIQG6CNvi35UxAroXU7VdtUUDmTIej6CdSQGB4mUt7dFNAdr4hOMeyUEDmTIej6CdSQB4UOll54lJAZi7t0dX5VEC92NSwI8pSQIjsSz5A0lJADbUKI0T2U0DyuC6wnTJVQNPhKPpJrFVAaAkXFYO8VUDrAtspQ61TQNfIgbBg/lNAh+Acy9ZCVUDkQFgwf5hUQJczHY6in1ZAlWQivl5sU0ACGF7m0h5UQLUKI0T2JVZAIr5ebGrYVkAJzrFsLaRVQHOmw1H0k1VAbORAWDB/VkDt0dX5huBWQAEML3Npj1ZALFsLqduvVkCrbXYHhU5WQLv9qm12B1JAGS3homKQVEDXyIGwYP5TQOgbgnMsW1VAV+cbgnMsUUANtQojRPZTQLzMpT26OlVAkX3JB0gaVUATa16pnntVQN+KBKokE1NARXy92NSwVEA+ujrfEJxVQFiq595N0FZAh+Acy9ZCVUA/xmlSeitTQJk/TAEML1RAv6fPgGf9VUBwy5kOR9FUQLvAdspQq1dAQqGTlSfuU0CrbXYHhU5WQFH0k1jzSlVA1rxSPfduVkAVRojsSz5WQIQF84cpgFRAodDJyhN3VkAqgOFlLu1VQAAAAAAAAFlA2Zd8gKQxV0AVg7yPcZpQQJCuzjcE51FAnwHP+s9DU0Bs5EBYMH9WQLIv+QBJY1VAszsodLLyUkDu3QRt8G9UQMZpUnorElVAYkeUG7+nVkBfbGrYEeVVQMpQqzBCZFNAkX3JB0gaVUDyuC6wnTJVQNa8Uj33blZAIr5ebGrYVkA1Kb0VCVRTQCaltyKBKlVAnvWfh2a0VUD4erGpYUdUQAup26/aZlZAY1PDjig3VEB9Q3COZWtVQCK+Xmxq2FZA1rxSPfduVkDgWf95aEZWQPh6salhR1RA9JNY80r1VUAYIbIv+QBXQJoOR9FPYldAFUaI7Es+VkB+T58Bz/pSQEZLuKgY5EdADXjWfx6aSUBugjb4t+VMQPFvy5kOR01AvI9xmpTeSkCEvI9xmpRMQMrWQur2q05Ao2KQ9zFOT0ALYHiZS3tOQFfnG4JzLFFANq9Uz72bTkCgh2a0hItOQM6xbC2kbk9A+QBJYxaPT0A5in4Sa15PQOq5dxO0wUtABKokE/H1TECXcFExyPtQQLec6XAU/U5Al3BRMcj7UEAlUCWZiK9PQOAQnGPZWk5AUJ8Bz/rPT0D+bTnT4ShQQEDSmMXjulBAYf4wBTC8TkAlUCWZiK9PQGTZWkjdfk9A0x5dnW8IUECvC2ynDLVMQPkASWMWjz9AfUNwjmVrRUCaDkfRT2JHQNmXfICkMUdADXjWfx6aSUBjFo/rAttJQCGyL/kASUlAHL+nz4BnTUBWkon4erFLQDPUKowQ2U1A06T0ViRQS0AidftV2+xOQIhy4/f0GU5A2lpI3X7VTECFl7m0R1dNQLm0R1fnG0pAK0OtwgiRS0Bh/jAFMLxOQCwe1wW2U0xAqFUYIbIvS0CrMEJkX/JLQKCHZrSEi05As8G/LWc6TkCIcuP39BlOQLec6XAU/U5APn0GPOs/S0DGIO9jnCZNQAgL5g9TAFBAjyg3fk+fT0CMTQ07otxOQI8oN35Pn09AZvG4LrCdSkDTpPRWJFBLQK8LbKcMtUxABKokE/H1TEDO7qDQycpJQBjkfYzTpExAInX7VdvsTkB4E7TBvy1PQOAQnGPZWk5AWW2zOyh0TECY9ujqfENMQMn7GKdJ6U1Ae+7dBG3wT0CPKDd+T59PQFK3X7XN7kpAxiDvY5wmTUBugjb4t+VMQOXG7+kz4E9AboI2+LflTECoVRghsi9LQMn7GKdJ6U1A0x5dnW8IUECy5pXquXdNQAiFTlaeuE1AsuaV6rl3TUBNxNeLTQ1PQFUM8j7GaVBA4JYzHY6iUEBk2VpI3X5PQIivF5sadkhA3TVyICyYTUDquXcTtMFLQEJYMH+YAkxAyfsYp0npTUDJ+xinSelNQAiFTlaeuE1AcV1gO2WoTUCEvI9xmpRMQA47otz4PU9AHL+nz4BnTUBaSN1+1TZNQIxNDTui3E5ACAvmD1MAUECeMtQqjBBQQNZ/HprREkxA8W/LmQ5HTUCMTQ07otxOQDY17Ihy41BAS29FAlWSUEDdNXIgLJhNQDavVM+9m05ADjui3Pg9T0D+bTnT4ShQQGhGS7ioGFBAdTiKfhJrTkALYHiZS3tOQPTQjJZwUVBAL/kASWMWTUCFl7m0R1dNQIDhZS7t0UtA1vmG4BzLQED0SvXcuwk+QFUM8j7GaUBA1vmG4BzLQEBA0pjF47pAQH9bznQ4ikBAInX7VdvsPkBNxNeLTQ0/QNb5huAcy0BA6jPgWf95QEBGDoQF84c9QNMeXZ1vCEBAVQzyPsZpQEDJ+xinSek9QG6CNvi35TxATcTXi00NP0AY5H2M06Q8QG2nDLUKIzxAUJ8Bz/rPP0BQnwHP+s8/QPkASWMWjz9AVQzyPsZpQECTlSfuGjlAQJvREi4qBj1AUJ8Bz/rPP0BVDPI+xmlAQMrWQur2qz5AoIdmtISLPkC/5AMkjVlAQEOtwgiRfUFAv+QDJI1ZQECI7Es+QNJCQIM2+LflTEFAgzb4t+VMQUBx18iBsGBCQJwmpbcigUJAxZpXqufeQUBA0pjF47pAQMWaV6rn3kFA2dSwI8qNQUCFESL7kg9CQCyYP0wBDEFA6jPgWf95QEBGDoQF84c9QMG/LWc6HEFAV+cbgnMsQUBu/J4+A55BQJysPHHXyD1A7Q4Knaw8QUCuhdTtV21BQOoz4Fn/eUBAQ63CCJF9QUDw6TPgWf9BQCq9FQlUSUBAVQzyPsZpQEBA0pjF47pAQO0OCp2sPEFA9yUfIGnMPkCjYpD3MU4/QCyYP0wBDEFAhtTtV22zR0BGiOxLPkBCQHgTtMG/LT9ATD5A0pjFQ0CaS3t0db5BQLFg/jAFMEJAAUljFo/rQEDW+YbgHMtAQJpLe3R1vkFAInX7VdvsPkDIdYHtlKFCQOFlLu3R1UNAwb8tZzocQUABSWMWj+tAQFrCRcUg70FAsWD+MAUwQkAEJI1ZPK5BQErprUigSj5AcdfIgbBgQkDw6TPgWf9BQKLc+D19BkRA4WUu7dHVQ0BdnW8IzrFCQAf/tpzpcEJAV+cbgnMsQUBMPkDSmMVDQPRK9dy7CT5AGF7m0h5dQUB77t0EbfA/QF2dbwjOsUJAdLLyxF0jQ0CXcFExyPtAQBhe5tIeXUFAInX7VdvsPkBx18iBsGBCQEw+QNKYxUNAAUljFo/rQECzOyh0svJCQMG/LWc6HEFA2dSwI8qNQUDcr9pmd1BCQHHXyIGwYEJAyHWB7ZShQkCuhdTtV21BQC9zaY+uzkFAi8d1ge2UQ0CuhdTtV21BQAFJYxaP60BAmkt7dHW+QUBX5xuCcyxBQB4UOll54kJAQNKYxeO6QEBVDPI+xmlAQIM2+LflTEFA34oEqiQTQ0D4erGpYUdEQK6F1O1XbUFAmkt7dHW+QUCcJqW3IoFCQDUpvRUJVENAMk6T0luRQkDGIO9jnCYtQGhGS7ioGDBAvI9xmpTeKkBYqufeTdAmQLm0R1fnGypAv2qb3UGhK0C5tEdX5xsqQBQuKgZ5HytAXWA7ZahVKEBJYxaP6wIjQGbxuC6wnSpAWKrn3k3QJkABDC9zaY8mQPxV2+wOCiVAUfSTWPNKJUBpzOJxXWArQK5IoEoyESdAqJJMxNeLJUD8VdvsDgolQE8ZahVGiCRAotz4PX0GJECxI8qN39MnQFXPvZugDSZADXjWfx6aKUCrbXYHhU4mQHU4in4Say5AB8KC+cMUKEBPGWoVRogkQJdwUTHI+yBAv2qb3UGhK0D/MAUwvMw1QMpQqzBCZDNAxZpXqufeMUBx18iBsGAyQHvu3QRt8C9Al3BRMcj7MEAbORAWzB8yQBy/p8+AZy1At9kdFDpZKUDCRcUg72MsQCJ1+1Xb7C5AbacMtQojLECuSKBKMhEnQLEjyo3f0ydAAQwvc2mPJkDGIO9jnCYtQMYg72OcJi1At9kdFDpZKUAVCVRJJuIrQG2nDLUKIyxAwkXFIO9jLEBgO2WoVRgpQF1gO2WoVShAq212B4VOJkC0/vPQjJYoQHgTtMG/LS9AWKrn3k3QJkBm8bgusJ0qQA141n8emilA7Q4Knaw8IUBdYDtlqFU4QM6xbC2kbi9AbCF1+1XbMEB4E7TBvy0vQEDSmMXjujBA8Okz4Fn/MUBu/J4+A54xQJOVJ+4aOTBAyfsYp0npLUDGIO9jnCYtQGwhdftV2zBAwkXFIO9jLEBoRku4qBgwQMJFxSDvYyxAwkXFIO9jLECcJqW3IoEyQEOtwgiRfTFA6jPgWf95MEBxXWA7ZagtQBjkfYzTpCxA6jPgWf95MEDJ+xinSektQBUJVEkm4itAcV1gO2WoLUC/apvdQaErQBWDvI9xmjBAk5Un7ho5MEB77t0EbfAvQL9qm91BoStAZvG4LrCdKkDKUKswQmQzQMh1ge2UoTJAylCrMEJkM0DJ+xinSektQEDSmMXjujBAFYO8j3GaMEDJ+xinSektQAfCgvnDFChAv2qb3UGhK0B1OIp+EmsuQBhe5tIeXTFAeBO0wb8tL0DGIO9jnCYtQMrWQur2qy5AeBO0wb8tL0BGiOxLPkAyQG6CNvi35SxAdTiKfhJrLkDBvy1nOhwxQLfZHRQ6WSlAboI2+LflLEBtpwy1CiMsQJdwUTHI+zBAwkXFIO9jLEBdYDtlqFUoQM6xbC2kbi9AbacMtQojLEBR9JNY80olQLyPcZqU3ipAxiDvY5wmLUDIdYHtlKEyQEljFo/rAiNAt9kdFDpZGUD/MAUwvMwVQLEjyo3f0xdAsSPKjd/TF0AVCVRJJuIbQLEjyo3f0xdAq212B4VOFkBGiOxLPkASQO0OCp2sPBFA/zAFMLzMFUBdYDtlqFUYQM6xbC2kbg9A+HqxqWFHFEAcv6fPgGcNQO0OCp2sPCFA88RdIwfCEkDtDgqdrDwRQKW3IoEqyRRARojsSz5AEkBpzOJxXWAbQPh6salhRxRAEFMAw8tcCkDtDgqdrDwRQJpLe3R1vhFAvI9xmpTeGkBA0pjF47oQQO0OCp2sPBFAq212B4VOFkCxI8qN39MXQFiq595N0CZABOdYthZSJ0BjFo/rAtsZQBy/p8+AZx1AzrFsLaRuH0CXcFExyPsgQMJFxSDvYxxAwkXFIO9jHEAcv6fPgGcdQLfZHRQ6WRlAFQlUSSbiG0BGiOxLPkASQGMWj+sC2xlA+HqxqWFHFECfAc/6z0MTQAqdrDxx1xhAYxaP6wLbGUBGiOxLPkASQGMWj+sC2xlA+HqxqWFHFEDtDgqdrDwhQATnWLYWUhdAHL+nz4BnDUBR9JNY80oVQG6CNvi35RxAaczicV1gG0BR9JNY80oVQKttdgeFThZAmkt7dHW+EUBGiOxLPkASQEljFo/rAiNAnwHP+s9DI0BJYxaP6wIjQPPEXSMHwiJAInX7VdvsHkBA0pjF47ogQBBTAMPLXBpAWKrn3k3QFkB77t0EbfAfQBUJVEkm4htAnwHP+s9DI0AKnaw8cdcYQMn7GKdJ6R1AnwHP+s9DE0B1OIp+EmseQCJ1+1Xb7B5AQNKYxeO6IEAE51i2FlIXQEaI7Es+QBJAvI9xmpTeGkDOsWwtpG4fQF1gO2WoVRhAt9kdFDpZGUAidftV2+weQGMWj+sC2xlAdTiKfhJrHkDJ+xinSekdQO0OCp2sPBFAnwHP+s9DE0BGiOxLPkASQKW3IoEqySRAk5Un7ho5IECXcFExyPsgQMJFxSDvYxxAYxaP6wLbGUCcJqW3IoEiQBBTAMPLXBpABOdYthZSF0AE51i2FlIXQKttdgeFThZAotz4PX0GJEDJ+xinSekdQEaI7Es+QBJAsSPKjd/TF0BpzOJxXWAbQKLc+D19BiRAsSPKjd/TF0AKnaw8cdcYQBUJVEkm4htAvI9xmpTeGkAcv6fPgGcdQFH0k1jzShVAnwHP+s9DE0Bugjb4t+UcQJpLe3R1vhFAEFMAw8tcGkDCRcUg72McQHU4in4Saw5AFQlUSSbiG0D/MAUwvMwVQJpLe3R1viFAXWA7ZahVCEDCRcUg72MMQJOVJ+4aOQBABOdYthZSB0BR9JNY80oFQBy/p8+AZw1A+HqxqWFHBEBdYDtlqFUIQJ8Bz/rPQwNAk5Un7ho5AEC32R0UOlkJQMJFxSDvY/w/q212B4VO9j9dYDtlqFX4P0aI7Es+QAJA7Q4Knaw8AUDtDgqdrDwBQMJFxSDvY/w/+HqxqWFHBEDCRcUg72P8P5OVJ+4aOQBARojsSz5A8j9R9JNY80oFQF1gO2WoVfg/wkXFIO9j/D/CRcUg72P8P6ttdgeFTvY/EFMAw8tc+j/4erGpYUcEQEaI7Es+QAJAzrFsLaRuH0CTlSfuGjkQQPPEXSMHwhJAq212B4VOBkAcv6fPgGcNQJ8Bz/rPQxNAaczicV1gC0BR9JNY80oFQATnWLYWUgdAk5Un7ho5AEBpzOJxXWALQGnM4nFdYAtAq212B4VOBkD4erGpYUcEQJOVJ+4aOQBA7Q4Knaw8AUCfAc/6z0MDQLfZHRQ6WQlA7Q4Knaw8AUCTlSfuGjkAQATnWLYWUgdAXWA7ZahVCEDCRcUg72P8P/h6salhRwRAdTiKfhJr/j/4erGpYUcEQO0OCp2sPAFAk5Un7ho58D+rbXYHhU72P11gO2WoVQhAboI2+LflHEBMPkDSmMUTQBBTAMPLXApABOdYthZSB0CTlSfuGjkQQEDSmMXjuhBAEFMAw8tcCkC32R0UOlkJQO0OCp2sPAFAXWA7ZahVCEBdYDtlqFUIQEDSmMXjuhBAwkXFIO9jDED4erGpYUcEQF1gO2WoVQhAk5Un7ho5EED4erGpYUcEQPh6salhRwRAdTiKfhJrDkC32R0UOlkJQATnWLYWUgdAdTiKfhJrDkD4erGpYUcEQJ8Bz/rPQwNAk5Un7ho5EECrbXYHhU4GQATnWLYWUgdA+HqxqWFHBECTlSfuGjkAQF1gO2WoVQhAUfSTWPNKFUBA0pjF47oQQO0OCp2sPBFAXWA7ZahVCEB1OIp+Emv+P8JFxSDvYwxA7Q4Knaw8AUCTlSfuGjkQQFH0k1jzSgVA+HqxqWFHBEBA0pjF47oQQJ8Bz/rPQwNAnwHP+s9DA0DtDgqdrDwBQMJFxSDvY/w/mkt7dHW+EUD4erGpYUcEQKttdgeFTgZAUfSTWPNKBUBGiOxLPkACQF1gO2WoVQhA7Q4Knaw8AUCfAc/6z0MDQHU4in4Sa/4/q212B4VOBkBR9JNY80oFQLfZHRQ6WQlABOdYthZSB0BdYDtlqFUIQEaI7Es+QAJAzrFsLaRuD0CfAc/6z0MDQEaI7Es+QAJA7Q4Knaw8AUCrbXYHhU72P11gO2WoVfg/wkXFIO9j7D/4erGpYUf0P8JFxSDvY+w/wkXFIO9j/D9GiOxLPkDyP/h6salhR/Q/k5Un7ho58D+rbXYHhU72PxBTAMPLXPo/XWA7ZahV6D9GiOxLPkDyP0aI7Es+QPI/wkXFIO9j7D9GiOxLPkDyP8JFxSDvY/w/wkXFIO9j7D+TlSfuGjngP0aI7Es+QPI/wkXFIO9j7D9dYDtlqFXoP5OVJ+4aOfA/q212B4VO9j+TlSfuGjngP8JFxSDvY+w/XWA7ZahV2D+aS3t0db4RQEDSmMXjuhBA+HqxqWFH9D9R9JNY80oFQKttdgeFTvY/+HqxqWFHBECfAc/6z0MDQPh6salhR/Q/wkXFIO9j7D8QUwDDy1z6P58Bz/rPQwNAwkXFIO9j7D+rbXYHhU72P11gO2WoVfg/+HqxqWFH5D9GiOxLPkDyP/h6salhR/Q/wkXFIO9j/D/CRcUg72PsP6ttdgeFTvY/RojsSz5A8j+TlSfuGjnwP5OVJ+4aOeA/XWA7ZahV+D/4erGpYUf0P0aI7Es+QPI/RojsSz5A8j9dYDtlqFXoP0aI7Es+QPI/k5Un7ho54D91OIp+EmsOQEaI7Es+QAJAq212B4VO9j8QUwDDy1z6P0aI7Es+QPI/EFMAw8tc+j9GiOxLPkDyP+0OCp2sPAFAXWA7ZahV6D9dYDtlqFX4P8JFxSDvY/w/q212B4VO9j/CRcUg72P8P0aI7Es+QPI/wkXFIO9j7D9R9JNY80oFQPh6salhR/Q/+HqxqWFH9D+TlSfuGjnwP11gO2WoVfg/EFMAw8tc+j+rbXYHhU72P6ttdgeFTvY/XWA7ZahV6D9dYDtlqFXYP/h6salhR/Q/q212B4VO9j+rbXYHhU72P/h6salhR+Q/RojsSz5A8j9pzOJxXWALQJOVJ+4aOQBAq212B4VO9j8QUwDDy1z6P0aI7Es+QPI/RojsSz5AAkAE51i2FlIHQJOVJ+4aOQBAwkXFIO9j7D9GiOxLPkDyP11gO2WoVeg/+HqxqWFHBEBdYDtlqFXYP3U4in4Sa/4/wkXFIO9j7D+TlSfuGjkAQKttdgeFTvY/+HqxqWFH9D/CRcUg72PsPxBTAMPLXPo/RojsSz5A8j+TlSfuGjnwP8JFxSDvY+w/+HqxqWFH5D9GiOxLPkDyP6ttdgeFTvY/XWA7ZahV+D9dYDtlqFX4P11gO2WoVeg/k5Un7ho58D9dYDtlqFX4P58Bz/rPQwNAXWA7ZahV6D+TlSfuGjngP5OVJ+4aOeA/RojsSz5A8j8QUwDDy1z6P11gO2WoVeg/wkXFIO9j7D/CRcUg72PsPwAAAAAAAAAAk5Un7ho54D9dYDtlqFXYP5OVJ+4aOdA/k5Un7ho50D9dYDtlqFXoP5OVJ+4aOeA/+HqxqWFH5D+TlSfuGjnQP11gO2WoVdg/+HqxqWFH5D9GiOxLPkDyP8JFxSDvY+w/XWA7ZahV2D+TlSfuGjnQP/h6salhR+Q/XWA7ZahV2D9dYDtlqFXYP5OVJ+4aOdA/k5Un7ho5wD+TlSfuGjnQP5OVJ+4aOQBAq212B4VO9j/4erGpYUf0P8JFxSDvY+w/k5Un7ho58D8QUwDDy1z6P/h6salhR/Q/+HqxqWFH5D/4erGpYUfkP11gO2WoVdg/RojsSz5A8j9dYDtlqFXoP5OVJ+4aOeA/k5Un7ho54D+TlSfuGjnAP5OVJ+4aOeA/wkXFIO9j7D/4erGpYUfkP5OVJ+4aOdA/k5Un7ho50D+TlSfuGjngP0aI7Es+QPI/RojsSz5A8j+TlSfuGjnwP5OVJ+4aOcA/k5Un7ho54D+TlSfuGjnQP5OVJ+4aOdA/+HqxqWFH5D9dYDtlqFXoP+0OCp2sPAFAq212B4VO9j9GiOxLPkDyP5OVJ+4aOfA/XWA7ZahV6D+rbXYHhU72P0aI7Es+QPI/XWA7ZahV6D/4erGpYUfkP/h6salhR+Q/+HqxqWFH5D/4erGpYUfkP11gO2WoVeg/+HqxqWFH5D9dYDtlqFXoPxBTAMPLXPo/XWA7ZahV2D/CRcUg72PsP5OVJ+4aOeA/XWA7ZahV2D+TlSfuGjnwP5OVJ+4aOeA/k5Un7ho58D9dYDtlqFXoP5OVJ+4aOeA/+HqxqWFH5D/4erGpYUfkP5OVJ+4aOeA/+HqxqWFH5D+TlSfuGjnAP0aI7Es+QAJARojsSz5A8j+TlSfuGjnwP5OVJ+4aOeA/k5Un7ho54D/4erGpYUf0P11gO2WoVdg/k5Un7ho54D9dYDtlqFXoP5OVJ+4aOdA/wkXFIO9j7D/4erGpYUf0P0aI7Es+QPI/XWA7ZahV2D+TlSfuGjngP0aI7Es+QPI/k5Un7ho54D9dYDtlqFXoP5OVJ+4aOeA/wkXFIO9j7D+TlSfuGjnwP5OVJ+4aOeA/k5Un7ho54D/CRcUg72PsP/h6salhR+Q/XWA7ZahV6D+TlSfuGjngP/h6salhR+Q/k5Un7ho54D9dYDtlqFXoP/h6salhR+Q/k5Un7ho50D9dYDtlqFXoP5OVJ+4aOfA/k5Un7ho54D+TlSfuGjngP11gO2WoVeg/k5Un7ho50D9dYDtlqFXYP/h6salhR+Q/AAAAAAAAAABdYDtlqFXoP5OVJ+4aOdA/k5Un7ho50D8AAAAAAAAAAPh6salhR+Q/XWA7ZahV2D9dYDtlqFXYP5OVJ+4aOdA/XWA7ZahV2D8AAAAAAAAAAJOVJ+4aOeA/XWA7ZahV2D+TlSfuGjnAP5OVJ+4aOcA/k5Un7ho5wD+TlSfuGjngP11gO2WoVdg/XWA7ZahV2D+TlSfuGjnQP/h6salhR+Q/wkXFIO9j/D/4erGpYUf0P5OVJ+4aOdA/+HqxqWFH5D9dYDtlqFXoP5OVJ+4aOcA/k5Un7ho50D9dYDtlqFXoP5OVJ+4aOeA/k5Un7ho54D9dYDtlqFXYP5OVJ+4aOdA/+HqxqWFH5D9dYDtlqFXYP5OVJ+4aOdA/k5Un7ho50D9dYDtlqFXYP5OVJ+4aOdA/k5Un7ho5wD8AAAAAAAAAAPh6salhR+Q/+HqxqWFH5D+TlSfuGjngP5OVJ+4aOdA/XWA7ZahV2D+TlSfuGjnAP5OVJ+4aOeA/k5Un7ho5wD+TlSfuGjnAP11gO2WoVdg/+HqxqWFH9D+TlSfuGjnQP11gO2WoVeg/k5Un7ho54D+TlSfuGjngP11gO2WoVeg/XWA7ZahV2D/4erGpYUfkP11gO2WoVdg/k5Un7ho54D+TlSfuGjnQP5OVJ+4aOdA/XWA7ZahV2D+TlSfuGjnAP5OVJ+4aOeA/XWA7ZahV2D+TlSfuGjngP11gO2WoVdg/k5Un7ho54D9dYDtlqFXYP5OVJ+4aOcA/k5Un7ho5wD9dYDtlqFXoP5OVJ+4aOeA/k5Un7ho50D/CRcUg72PsP5OVJ+4aOdA/k5Un7ho54D+TlSfuGjngP5OVJ+4aOdA/XWA7ZahV+D9dYDtlqFXYP/h6salhR+Q/XWA7ZahV2D9dYDtlqFXoP11gO2WoVeg/k5Un7ho54D/4erGpYUfkP5OVJ+4aOcA/k5Un7ho50D+TlSfuGjnAP5OVJ+4aOcA/k5Un7ho50D9dYDtlqFXYP5OVJ+4aOdA/+HqxqWFH5D+TlSfuGjnQP11gO2WoVdg/XWA7ZahV2D/4erGpYUfkP0aI7Es+QPI/+HqxqWFH5D+TlSfuGjnQP5OVJ+4aOcA/XWA7ZahV2D9dYDtlqFXYP11gO2WoVeg/k5Un7ho54D/4erGpYUfkP5OVJ+4aOcA/XWA7ZahV2D9dYDtlqFXYP11gO2WoVeg/k5Un7ho5wD+TlSfuGjngP5OVJ+4aOcA/XWA7ZahV2D+TlSfuGjnAP5OVJ+4aOdA/k5Un7ho5wD+TlSfuGjnAP11gO2WoVdg/k5Un7ho5wD9dYDtlqFXYPwAAAAAAAAAAAAAAAAAAAAAAAAAAAAAAAJOVJ+4aOdA/k5Un7ho5wD8AAAAAAAAAAJOVJ+4aOcA/k5Un7ho54D9dYDtlqFXYP11gO2WoVdg/XWA7ZahV2D+TlSfuGjnQP5OVJ+4aOcA/AAAAAAAAAAAAAAAAAAAAAF1gO2WoVdg/AAAAAAAAAABdYDtlqFXoP8JFxSDvY+w/+HqxqWFH5D+TlSfuGjnQP5OVJ+4aOdA/k5Un7ho50D+TlSfuGjnQP5OVJ+4aOeA/XWA7ZahV2D9dYDtlqFXYPwAAAAAAAAAAk5Un7ho50D+TlSfuGjngP11gO2WoVdg/k5Un7ho5wD9dYDtlqFXoP5OVJ+4aOcA/XWA7ZahV2D+TlSfuGjnAPwAAAAAAAAAAk5Un7ho54D+TlSfuGjnAP5OVJ+4aOdA/k5Un7ho50D+TlSfuGjnAPwAAAAAAAAAAXWA7ZahV2D+TlSfuGjngP5OVJ+4aOdA/k5Un7ho50D/CRcUg72PsP5OVJ+4aOcA/k5Un7ho50D9dYDtlqFXYP11gO2WoVdg/k5Un7ho54D+TlSfuGjngP5OVJ+4aOcA/AAAAAAAAAACTlSfuGjngP11gO2WoVeg/k5Un7ho50D+TlSfuGjnQP5OVJ+4aOeA/XWA7ZahV2D9dYDtlqFXYP5OVJ+4aOeA/k5Un7ho5wD+TlSfuGjnQP5OVJ+4aOcA/XWA7ZahV2D+TlSfuGjnQPwAAAAAAAAAAk5Un7ho50D9dYDtlqFXYP/h6salhR+Q/XWA7ZahV2D+TlSfuGjnAP5OVJ+4aOdA/k5Un7ho5wD/4erGpYUfkP5OVJ+4aOcA/k5Un7ho54D8AAAAAAAAAAJOVJ+4aOdA/+HqxqWFH5D+TlSfuGjnAP5OVJ+4aOeA/k5Un7ho5wD8AAAAAAAAAAJOVJ+4aOcA/XWA7ZahV2D+TlSfuGjnAP/h6salhR+Q/XWA7ZahV2D+TlSfuGjnQP11gO2WoVdg/k5Un7ho5wD+TlSfuGjnQP11gO2WoVdg/k5Un7ho5wD+TlSfuGjnAP5OVJ+4aOcA/k5Un7ho50D+TlSfuGjnAP5OVJ+4aOeA/k5Un7ho5wD+TlSfuGjnQP5OVJ+4aOcA/k5Un7ho50D8AAAAAAAAAAPh6salhR+Q/k5Un7ho5wD+TlSfuGjnQP5OVJ+4aOcA/AAAAAAAAAACTlSfuGjnAP5OVJ+4aOdA/AAAAAAAAAAAAAAAAAAAAAAAAAAAAAAAAk5Un7ho5wD8AAAAAAAAAAAAAAAAAAAAAk5Un7ho50D9dYDtlqFXYP5OVJ+4aOcA/XWA7ZahV2D+TlSfuGjnAPwAAAAAAAAAAXWA7ZahV2D9dYDtlqFXYP5OVJ+4aOcA/k5Un7ho50D+TlSfuGjnAP5OVJ+4aOcA/AAAAAAAAAACTlSfuGjnAPwAAAAAAAAAAAAAAAAAAAACTlSfuGjnAP5OVJ+4aOeA/k5Un7ho54D+TlSfuGjnQPwAAAAAAAAAAAAAAAAAAAACTlSfuGjnAP11gO2WoVdg/k5Un7ho5wD+TlSfuGjnAPwAAAAAAAAAAk5Un7ho5wD+TlSfuGjnQPwAAAAAAAAAAAAAAAAAAAAAAAAAAAAAAAF1gO2WoVdg/k5Un7ho50D8AAAAAAAAAAAAAAAAAAAAAk5Un7ho50D+TlSfuGjnAP5OVJ+4aOcA/AAAAAAAAAACTlSfuGjnAPwAAAAAAAAAAAAAAAAAAAAAAAAAAAAAAAJOVJ+4aOcA/k5Un7ho5wD+TlSfuGjnQP5OVJ+4aOdA/AAAAAAAAAAD4erGpYUfkP5OVJ+4aOcA/k5Un7ho5wD9dYDtlqFXYP5OVJ+4aOdA/k5Un7ho5wD+TlSfuGjnQP5OVJ+4aOcA/XWA7ZahV2D8AAAAAAAAAAJOVJ+4aOcA/k5Un7ho5wD8AAAAAAAAAAJOVJ+4aOeA/XWA7ZahV2D+TlSfuGjnQP5OVJ+4aOdA/k5Un7ho50D+TlSfuGjnAP5OVJ+4aOcA/k5Un7ho5wD8AAAAAAAAAAJOVJ+4aOeA/k5Un7ho5wD8AAAAAAAAAAJOVJ+4aOcA/k5Un7ho50D9dYDtlqFXYP/h6salhR+Q/k5Un7ho5wD+TlSfuGjnQP5OVJ+4aOcA/k5Un7ho5wD+TlSfuGjnAPwAAAAAAAAAAk5Un7ho5wD8AAAAAAAAAAJOVJ+4aOdA/k5Un7ho50D+TlSfuGjnQPwAAAAAAAAAAk5Un7ho5wD+TlSfuGjnQP11gO2WoVdg/k5Un7ho5wD8AAAAAAAAAAJOVJ+4aOcA/k5Un7ho5wD+TlSfuGjnAP5OVJ+4aOcA/AAAAAAAAAABdYDtlqFXYP5OVJ+4aOcA/AAAAAAAAAACTlSfuGjnAP5OVJ+4aOcA/AAAAAAAAAACTlSfuGjnQP11gO2WoVdg/AAAAAAAAAACTlSfuGjnAP5OVJ+4aOcA/AAAAAAAAAAAAAAAAAAAAAJOVJ+4aOcA/AAAAAAAAAAAAAAAAAAAAAAAAAAAAAAAAk5Un7ho5wD+TlSfuGjnAPwAAAAAAAAAAk5Un7ho5wD+TlSfuGjnAPwAAAAAAAAAAk5Un7ho50D+TlSfuGjnAPwAAAAAAAAAAXWA7ZahV2D+TlSfuGjnAPwAAAAAAAAAAk5Un7ho5wD+TlSfuGjnAP5OVJ+4aOdA/AAAAAAAAAAAAAAAAAAAAAJOVJ+4aOcA/AAAAAAAAAAAAAAAAAAAAAAAAAAAAAAAAXWA7ZahV2D+TlSfuGjnQP11gO2WoVdg/k5Un7ho5wD+TlSfuGjnQP5OVJ+4aOcA/AAAAAAAAAACTlSfuGjnAP11gO2WoVdg/k5Un7ho5wD+TlSfuGjnAP5OVJ+4aOcA/k5Un7ho5wD+TlSfuGjnQPwAAAAAAAAAAk5Un7ho50D+TlSfuGjnAPwAAAAAAAAAAk5Un7ho5wD8AAAAAAAAAAJOVJ+4aOcA/AAAAAAAAAACTlSfuGjnQPwAAAAAAAAAAAAAAAAAAAACTlSfuGjnQPwAAAAAAAAAAAAAAAAAAAAAAAAAAAAAAAJOVJ+4aOcA/AAAAAAAAAABdYDtlqFXYPwAAAAAAAAAAAAAAAAAAAACTlSfuGjnAP5OVJ+4aOdA/AAAAAAAAAAAAAAAAAAAAAAAAAAAAAAAAk5Un7ho5wD8AAAAAAAAAAJOVJ+4aOcA/AAAAAAAAAACTlSfuGjnAPwAAAAAAAAAAAAAAAAAAAACTlSfuGjnQPwAAAAAAAAAAk5Un7ho5wD8AAAAAAAAAAJOVJ+4aOcA/AAAAAAAAAACTlSfuGjnQP11gO2WoVdg/AAAAAAAAAACTlSfuGjnAPwAAAAAAAAAAk5Un7ho5wD8AAAAAAAAAAJOVJ+4aOcA/k5Un7ho50D8AAAAAAAAAAJOVJ+4aOcA/AAAAAAAAAAAAAAAAAAAAAJOVJ+4aOcA/AAAAAAAAAAAAAAAAAAAAAJOVJ+4aOcA/k5Un7ho50D8AAAAAAAAAAAAAAAAAAAAAk5Un7ho50D8AAAAAAAAAAJOVJ+4aOcA/AAAAAAAAAAAAAAAAAAAAAJOVJ+4aOcA/AAAAAAAAAAAAAAAAAAAAAAAAAAAAAAAAk5Un7ho5wD+TlSfuGjnAP5OVJ+4aOcA/k5Un7ho5wD+TlSfuGjngPwAAAAAAAAAAAAAAAAAAAAAAAAAAAAAAAAAAAAAAAAAAk5Un7ho5wD+TlSfuGjnQP5OVJ+4aOdA/AAAAAAAAAAAAAAAAAAAAAAAAAAAAAAAAAAAAAAAAAAAAAAAAAAAAAJOVJ+4aOeA/AAAAAAAAAAAAAAAAAAAAAAAAAAAAAAAAAAAAAAAAAAAAAAAAAAAAAAAAAAAAAAAAAAAAAAAAAAAAAAAAAAAAAAAAAAAAAAAAAAAAAAAAAAAAAAAAAAAAAJOVJ+4aOcA/AAAAAAAAAAAAAAAAAAAAAJOVJ+4aOdA/AAAAAAAAAAAAAAAAAAAAAJOVJ+4aOcA/AAAAAAAAAAAAAAAAAAAAAAAAAAAAAAAAAAAAAAAAAACTlSfuGjnQP5OVJ+4aOdA/AAAAAAAAAACTlSfuGjnAPwAAAAAAAAAAk5Un7ho50D8AAAAAAAAAAJOVJ+4aOdA/AAAAAAAAAACTlSfuGjnAP5OVJ+4aOcA/k5Un7ho50D+TlSfuGjnAPwAAAAAAAAAAk5Un7ho5wD+TlSfuGjnQPwAAAAAAAAAAAAAAAAAAAACTlSfuGjnQPwAAAAAAAAAAk5Un7ho5wD+TlSfuGjnAP5OVJ+4aOcA/k5Un7ho5wD+TlSfuGjnAPwAAAAAAAAAAk5Un7ho5wD8AAAAAAAAAAAAAAAAAAAAAk5Un7ho50D8AAAAAAAAAAJOVJ+4aOcA/k5Un7ho5wD+TlSfuGjnAPwAAAAAAAAAAk5Un7ho5wD8AAAAAAAAAAAAAAAAAAAAAk5Un7ho5wD8AAAAAAAAAAJOVJ+4aOcA/AAAAAAAAAACTlSfuGjnQPwAAAAAAAAAAk5Un7ho5wD+TlSfuGjnAPwAAAAAAAAAAAAAAAAAAAAAAAAAAAAAAAAAAAAAAAAAAk5Un7ho50D+TlSfuGjnAPwAAAAAAAAAAk5Un7ho5wD+TlSfuGjnAP5OVJ+4aOeA/AAAAAAAAAAAAAAAAAAAAAAAAAAAAAAAAAAAAAAAAAACTlSfuGjngPwAAAAAAAAAAAAAAAAAAAAAAAAAAAAAAAAAAAAAAAAAAAAAAAAAAAACTlSfuGjnAP5OVJ+4aOcA/AAAAAAAAAACTlSfuGjnQP5OVJ+4aOdA/AAAAAAAAAACTlSfuGjnQP5OVJ+4aOdA/k5Un7ho5wD+TlSfuGjnQP5OVJ+4aOcA/AAAAAAAAAACTlSfuGjnAPwAAAAAAAAAAAAAAAAAAAAAAAAAAAAAAAAAAAAAAAAAAk5Un7ho5wD+TlSfuGjnAPwAAAAAAAAAAAAAAAAAAAAAAAAAAAAAAAAAAAAAAAAAAAAAAAAAAAAAAAAAAAAAAAF1gO2WoVdg/AAAAAAAAAAAAAAAAAAAAAJOVJ+4aOcA/AAAAAAAAAAAAAAAAAAAAAJOVJ+4aOdA/AAAAAAAAAAAAAAAAAAAAAAAAAAAAAAAAAAAAAAAAAACTlSfuGjnAPwAAAAAAAAAAAAAAAAAAAAAAAAAAAAAAAAAAAAAAAAAAk5Un7ho5wD+TlSfuGjnAPwAAAAAAAAAAAAAAAAAAAAAAAAAAAAAAAJOVJ+4aOcA/k5Un7ho5wD8AAAAAAAAAAAAAAAAAAAAAAAAAAAAAAACTlSfuGjnAPwAAAAAAAAAAAAAAAAAAAAAAAAAAAAAAAJOVJ+4aOeA/k5Un7ho50D+TlSfuGjnAP5OVJ+4aOdA/k5Un7ho5wD+TlSfuGjnAPwAAAAAAAAAAAAAAAAAAAACTlSfuGjnAP5OVJ+4aOcA/AAAAAAAAAAAAAAAAAAAAAAAAAAAAAAAAAAAAAAAAAAAAAAAAAAAAAJOVJ+4aOcA/k5Un7ho5wD8AAAAAAAAAAAAAAAAAAAAAAAAAAAAAAACTlSfuGjnAP5OVJ+4aOcA/k5Un7ho5wD9dYDtlqFXYPwAAAAAAAAAAAAAAAAAAAAAAAAAAAAAAAAAAAAAAAAAAAAAAAAAAAACTlSfuGjnAP5OVJ+4aOcA/AAAAAAAAAAAAAAAAAAAAAJOVJ+4aOcA/AAAAAAAAAACTlSfuGjnAPwAAAAAAAAAAAAAAAAAAAAAAAAAAAAAAAAAAAAAAAAAAAAAAAAAAAAAAAAAAAAAAAJOVJ+4aOcA/AAAAAAAAAACTlSfuGjnQPwAAAAAAAAAAAAAAAAAAAACTlSfuGjnQPwAAAAAAAAAAAAAAAAAAAAAAAAAAAAAAAAAAAAAAAAAAk5Un7ho5wD8AAAAAAAAAAAAAAAAAAAAAAAAAAAAAAAAAAAAAAAAAAJOVJ+4aOcA/AAAAAAAAAAAAAAAAAAAAAAAAAAAAAAAAk5Un7ho5wD8AAAAAAAAAAAAAAAAAAAAAAAAAAAAAAAAAAAAAAAAAAAAAAAAAAAAAAAAAAAAAAAAAAAAAAAAAAJOVJ+4aOcA/AAAAAAAAAACTlSfuGjnAPwAAAAAAAAAAAAAAAAAAAACTlSfuGjnAP5OVJ+4aOcA/k5Un7ho5wD+TlSfuGjnAPwAAAAAAAAAAk5Un7ho5wD+TlSfuGjnAPwAAAAAAAAAAAAAAAAAAAAAAAAAAAAAAAJOVJ+4aOcA/AAAAAAAAAACTlSfuGjnQPwAAAAAAAAAAAAAAAAAAAAAAAAAAAAAAAAAAAAAAAAAAk5Un7ho50D+TlSfuGjnAP5OVJ+4aOcA/k5Un7ho50D8AAAAAAAAAAAAAAAAAAAAAAAAAAAAAAACTlSfuGjnAP5OVJ+4aOcA/AAAAAAAAAAAAAAAAAAAAAAAAAAAAAAAAAAAAAAAAAAAAAAAAAAAAAAAAAAAAAAAAk5Un7ho5wD+TlSfuGjnAPwAAAAAAAAAAAAAAAAAAAAAAAAAAAAAAAAAAAAAAAAAAAAAAAAAAAAAAAAAAAAAAAAAAAAAAAAAAk5Un7ho5wD8AAAAAAAAAAAAAAAAAAAAAAAAAAAAAAAAAAAAAAAAAAJOVJ+4aOcA/k5Un7ho5wD+TlSfuGjnAPwAAAAAAAAAAk5Un7ho5wD+TlSfuGjnQP5OVJ+4aOcA/AAAAAAAAAAAAAAAAAAAAAAAAAAAAAAAAAAAAAAAAAACTlSfuGjnAP5OVJ+4aOcA/AAAAAAAAAAAAAAAAAAAAAJOVJ+4aOcA/AAAAAAAAAAAAAAAAAAAAAJOVJ+4aOcA/AAAAAAAAAAAAAAAAAAAAAJOVJ+4aOcA/k5Un7ho5wD8AAAAAAAAAAAAAAAAAAAAAAAAAAAAAAAAAAAAAAAAAAAAAAAAAAAAAk5Un7ho5wD8AAAAAAAAAAJOVJ+4aOcA/AAAAAAAAAAAAAAAAAAAAAJOVJ+4aOcA/AAAAAAAAAAAAAAAAAAAAAJOVJ+4aOcA/AAAAAAAAAACTlSfuGjnAPwAAAAAAAAAAk5Un7ho5wD8AAAAAAAAAAJOVJ+4aOcA/AAAAAAAAAACTlSfuGjnAPwAAAAAAAAAAAAAAAAAAAAAAAAAAAAAAAJOVJ+4aOcA/AAAAAAAAAAAAAAAAAAAAAAAAAAAAAAAAAAAAAAAAAAAAAAAAAAAAAJOVJ+4aOcA/AAAAAAAAAAAAAAAAAAAAAAAAAAAAAAAAAAAAAAAAAAAAAAAAAAAAAJOVJ+4aOcA/k5Un7ho5wD8AAAAAAAAAAAAAAAAAAAAAAAAAAAAAAAAAAAAAAAAAAJOVJ+4aOcA/AAAAAAAAAACTlSfuGjnAP5OVJ+4aOcA/AAAAAAAAAAAAAAAAAAAAAJOVJ+4aOcA/k5Un7ho5wD8AAAAAAAAAAJOVJ+4aOcA/AAAAAAAAAAAAAAAAAAAAAAAAAAAAAAAAAAAAAAAAAAAAAAAAAAAAAAAAAAAAAAAAAAAAAAAAAAAAAAAAAAAAAAAAAAAAAAAAAAAAAAAAAAAAAAAAAAAAAAAAAAAAAAAAk5Un7ho5wD8AAAAAAAAAAAAAAAAAAAAAAAAAAAAAAACTlSfuGjnAPwAAAAAAAAAAAAAAAAAAAAAAAAAAAAAAAAAAAAAAAAAAAAAAAAAAAAAAAAAAAAAAAAAAAAAAAAAAAAAAAAAAAAAAAAAAAAAAAJOVJ+4aOcA/AAAAAAAAAAAAAAAAAAAAAJOVJ+4aOcA/AAAAAAAAAAAAAAAAAAAAAAAAAAAAAAAAAAAAAAAAAACTlSfuGjnAPwAAAAAAAAAAAAAAAAAAAAAAAAAAAAAAAAAAAAAAAAAAAAAAAAAAAAAAAAAAAAAAAAAAAAAAAAAAAAAAAAAAAAAAAAAAAAAAAAAAAAAAAAAAAAAAAAAAAABdYDtlqFXYPwAAAAAAAAAAAAAAAAAAAAAAAAAAAAAAAAAAAAAAAAAAk5Un7ho5wD8AAAAAAAAAAAAAAAAAAAAAk5Un7ho50D8AAAAAAAAAAAAAAAAAAAAAAAAAAAAAAAAAAAAAAAAAAAAAAAAAAAAAAAAAAAAAAAAAAAAAAAAAAAAAAAAAAAAAAAAAAAAAAACTlSfuGjnAPwAAAAAAAAAAAAAAAAAAAAAAAAAAAAAAAAAAAAAAAAAAAAAAAAAAAAAAAAAAAAAAAAAAAAAAAAAAAAAAAAAAAAAAAAAAAAAAAJOVJ+4aOcA/AAAAAAAAAAAAAAAAAAAAAJOVJ+4aOcA/k5Un7ho5wD8AAAAAAAAAAAAAAAAAAAAAk5Un7ho5wD8AAAAAAAAAAAAAAAAAAAAAk5Un7ho5wD+TlSfuGjnAPwAAAAAAAAAAAAAAAAAAAAAAAAAAAAAAAAAAAAAAAAAAAAAAAAAAAAAAAAAAAAAAAAAAAAAAAAAAAAAAAAAAAAAAAAAAAAAAAAAAAAAAAAAAAAAAAAAAAAAAAAAAAAAAAAAAAAAAAAAAAAAAAAAAAAAAAAAAAAAAAAAAAAAAAAAAAAAAAAAAAACTlSfuGjnAPwAAAAAAAAAAk5Un7ho5wD8AAAAAAAAAAAAAAAAAAAAAk5Un7ho5wD8AAAAAAAAAAAAAAAAAAAAAk5Un7ho5wD+TlSfuGjnAPwAAAAAAAAAAk5Un7ho5wD8AAAAAAAAAAAAAAAAAAAAAk5Un7ho50D8AAAAAAAAAAJOVJ+4aOcA/k5Un7ho5wD8AAAAAAAAAAJOVJ+4aOcA/AAAAAAAAAAAAAAAAAAAAAAAAAAAAAAAAAAAAAAAAAAAAAAAAAAAAAJOVJ+4aOcA/AAAAAAAAAAAAAAAAAAAAAAAAAAAAAAAAAAAAAAAAAAAAAAAAAAAAAAAAAAAAAAAAAAAAAAAAAAAAAAAAAAAAAJOVJ+4aOcA/k5Un7ho5wD+TlSfuGjnAPwAAAAAAAAAAAAAAAAAAAAAAAAAAAAAAAJOVJ+4aOcA/AAAAAAAAAAAAAAAAAAAAAAAAAAAAAAAAk5Un7ho5wD8AAAAAAAAAAAAAAAAAAAAAAAAAAAAAAAAAAAAAAAAAAJOVJ+4aOcA/AAAAAAAAAAAAAAAAAAAAAAAAAAAAAAAAAAAAAAAAAAAAAAAAAAAAAAAAAAAAAAAAAAAAAAAAAAAAAAAAAAAAAAAAAAAAAAAAAAAAAAAAAAAAAAAAAAAAAAAAAAAAAAAAAAAAAAAAAAAAAAAAAAAAAAAAAAAAAAAAAAAAAAAAAACTlSfuGjnAPwAAAAAAAAAAAAAAAAAAAAAAAAAAAAAAAAAAAAAAAAAAAAAAAAAAAAAAAAAAAAAAAAAAAAAAAAAAAAAAAAAAAAAAAAAAAAAAAAAAAAAAAAAAAAAAAAAAAAAAAAAAAAAAAAAAAAAAAAAAAAAAAAAAAAAAAAAAAAAAAAAAAAAAAAAAk5Un7ho50D8AAAAAAAAAAAAAAAAAAAAAAAAAAAAAAAAAAAAAAAAAAAAAAAAAAAAAAAAAAAAAAAAAAAAAAAAAAAAAAAAAAAAAAAAAAAAAAAAAAAAAAAAAAAAAAAAAAAAAAAAAAAAAAAAAAAAAAAAAAAAAAAAAAAAAAAAAAAAAAAAAAAAAAAAAAAAAAAAAAAAAAAAAAAAAAAAAAAAAAAAAAJOVJ+4aOcA/AAAAAAAAAACTlSfuGjnAPwAAAAAAAAAAAAAAAAAAAAAAAAAAAAAAAAAAAAAAAAAAk5Un7ho5wD+TlSfuGjnAP5OVJ+4aOcA/k5Un7ho5wD+TlSfuGjnAPwAAAAAAAAAAAAAAAAAAAAAAAAAAAAAAAAAAAAAAAAAAAAAAAAAAAACTlSfuGjnQPwAAAAAAAAAAAAAAAAAAAACTlSfuGjnQP5OVJ+4aOcA/AAAAAAAAAAAAAAAAAAAAAAAAAAAAAAAAAAAAAAAAAACTlSfuGjnAPwAAAAAAAAAAAAAAAAAAAAAAAAAAAAAAAAAAAAAAAAAAk5Un7ho5wD8AAAAAAAAAAAAAAAAAAAAAAAAAAAAAAAAAAAAAAAAAAAAAAAAAAAAAAAAAAAAAAAAAAAAAAAAAAAAAAAAAAAAAAAAAAAAAAAAAAAAAAAAAAAAAAAAAAAAAAAAAAAAAAAAAAAAAAAAAAAAAAAAAAAAAAAAAAAAAAAAAAAAAAAAAAAAAAAAAAAAAAAAAAAAAAAAAAAAAAAAAAAAAAAAAAAAAAAAAAAAAAACTlSfuGjnAPwAAAAAAAAAAAAAAAAAAAAAAAAAAAAAAAAAAAAAAAAAAAAAAAAAAAAAAAAAAAAAAAAAAAAAAAAAAAAAAAAAAAAAAAAAAAAAAAAAAAAAAAAAAAAAAAAAAAAAAAAAAAAAAAJOVJ+4aOcA/AAAAAAAAAAAAAAAAAAAAAAAAAAAAAAAAAAAAAAAAAAAAAAAAAAAAAAAAAAAAAAAAAAAAAAAAAAAAAAAAAAAAAAAAAAAAAAAAAAAAAAAAAAAAAAAAAAAAAAAAAAAAAAAAAAAAAAAAAAAAAAAAAAAAAAAAAAAAAAAAk5Un7ho5wD+TlSfuGjnAPwAAAAAAAAAAk5Un7ho5wD8AAAAAAAAAAAAAAAAAAAAAAAAAAAAAAAAAAAAAAAAAAJOVJ+4aOcA/AAAAAAAAAAAAAAAAAAAAAAAAAAAAAAAAAAAAAAAAAAAAAAAAAAAAAAAAAAAAAAAAAAAAAAAAAAAAAAAAAAAAAAAAAAAAAAAAAAAAAAAAAAAAAAAAAAAAAAAAAAAAAAAAAAAAAAAAAAAAAAAAAAAAAAAAAAAAAAAAAAAAAAAAAAAAAAAAAAAAAAAAAAAAAAAAAAAAAAAAAAAAAAAAAAAAAAAAAAAAAAAAAAAAAAAAAAAAAAAAAAAAAJOVJ+4aOcA/AAAAAAAAAACTlSfuGjnAPwAAAAAAAAAAk5Un7ho5wD8AAAAAAAAAAAAAAAAAAAAAAAAAAAAAAAAAAAAAAAAAAJOVJ+4aOcA/AAAAAAAAAAAAAAAAAAAAAAAAAAAAAAAAAAAAAAAAAAAAAAAAAAAAAAAAAAAAAAAAk5Un7ho5wD8AAAAAAAAAAAAAAAAAAAAAAAAAAAAAAAAAAAAAAAAAAAAAAAAAAAAAk5Un7ho5wD8AAAAAAAAAAAAAAAAAAAAAAAAAAAAAAAAAAAAAAAAAAJOVJ+4aOcA/k5Un7ho5wD+TlSfuGjnAPwAAAAAAAAAAAAAAAAAAAAAAAAAAAAAAAAAAAAAAAAAAAAAAAAAAAAAAAAAAAAAAAAAAAAAAAAAAAAAAAAAAAAAAAAAAAAAAAAAAAAAAAAAAAAAAAAAAAAAAAAAAAAAAAAAAAAAAAAAAAAAAAAAAAAAAAAAAAAAAAAAAAAAAAAAAk5Un7ho5wD8AAAAAAAAAAAAAAAAAAAAAAAAAAAAAAAAAAAAAAAAAAAAAAAAAAAAAAAAAAAAAAAAAAAAAAAAAAAAAAAAAAAAAk5Un7ho5wD8AAAAAAAAAAAAAAAAAAAAAAAAAAAAAAAAAAAAAAAAAAAAAAAAAAAAAAAAAAAAAAACTlSfuGjnAPwAAAAAAAAAAAAAAAAAAAAAAAAAAAAAAAAAAAAAAAAAAk5Un7ho5wD8AAAAAAAAAAAAAAAAAAAAAAAAAAAAAAAAAAAAAAAAAAAAAAAAAAAAAAAAAAAAAAAAAAAAAAAAAAAAAAAAAAAAAAAAAAAAAAAAAAAAAAAAAAAAAAAAAAAAAAAAAAAAAAAAAAAAAAAAAAAAAAAAAAAAAAAAAAAAAAAAAAAAAAAAAAAAAAAAAAAAAAAAAAAAAAAAAAAAAAAAAAAAAAAAAAAAAAAAAAAAAAAAAAAAAAAAAAAAAAAAAAAAAk5Un7ho5wD8AAAAAAAAAAAAAAAAAAAAAAAAAAAAAAAAAAAAAAAAAAAAAAAAAAAAAAAAAAAAAAAAAAAAAAAAAAAAAAAAAAAAAAAAAAAAAAAAAAAAAAAAAAAAAAAAAAAAAAAAAAAAAAAAAAAAAAAAAAAAAAAAAAAAAAAAAAAAAAAAAAAAAAAAAAAAAAAAAAAAAAAAAAAAAAAAAAAAAAAAAAAAAAAAAAAAAAAAAAAAAAAAAAAAAAAAAAAAAAAAAAAAAAAAAAAAAAAAAAAAAAAAAAAAAAAAAAAAAAAAAAAAAAAAAAAAAAAAAAAAAAAAAAAAAAAAAAAAAAAAAAAAAAAAAAAAAAAAAAAAAAAAAAAAAAACTlSfuGjnAPwAAAAAAAAAAAAAAAAAAAAAAAAAAAAAAAAAAAAAAAAAAAAAAAAAAAAAAAAAAAAAAAAAAAAAAAAAAAAAAAAAAAAAAAAAAAAAAAAAAAAAAAAAAAAAAAAAAAAAAAAAAAAAAAAAAAAAAAAAAk5Un7ho5wD+TlSfuGjnQPwAAAAAAAAAAk5Un7ho5wD8AAAAAAAAAAAAAAAAAAAAAAAAAAAAAAAAAAAAAAAAAAAAAAAAAAAAAAAAAAAAAAAAAAAAAAAAAAAAAAAAAAAAAk5Un7ho5wD8AAAAAAAAAAAAAAAAAAAAAAAAAAAAAAAAAAAAAAAAAAAAAAAAAAAAAAAAAAAAAAACTlSfuGjnAPwAAAAAAAAAAAAAAAAAAAACTlSfuGjnAPwAAAAAAAAAAAAAAAAAAAAAAAAAAAAAAAAAAAAAAAAAAAAAAAAAAAAAAAAAAAAAAAAAAAAAAAAAAAAAAAAAAAAAAAAAAAAAAAAAAAAAAAAAAAAAAAAAAAAAAAAAAAAAAAAAAAAAAAAAAAAAAAAAAAAAAAAAAAAAAAAAAAAAAAAAAk5Un7ho5wD+TlSfuGjnAPwAAAAAAAAAAAAAAAAAAAAAAAAAAAAAAAAAAAAAAAAAAAAAAAAAAAAAAAAAAAAAAAJOVJ+4aOcA/AAAAAAAAAAAAAAAAAAAAAAAAAAAAAAAAAAAAAAAAAAAAAAAAAAAAAAAAAAAAAAAAAAAAAAAAAAAAAAAAAAAAAAAAAAAAAAAAAAAAAAAAAAAAAAAAAAAAAAAAAAAAAAAAAAAAAAAAAAAAAAAAAAAAAAAAAAAAAAAAAAAAAAAAAAAAAAAAAAAAAAAAAAAAAAAAAAAAAAAAAAAAAAAAAAAAAAAAAAAAAAAAAAAAAAAAAAAAAAAAAAAAAJOVJ+4aOcA/k5Un7ho5wD8AAAAAAAAAAAAAAAAAAAAAAAAAAAAAAAAAAAAAAAAAAAAAAAAAAAAAAAAAAAAAAAAAAAAAAAAAAAAAAAAAAAAAAAAAAAAAAAAAAAAAAAAAAAAAAAAAAAAAAAAAAAAAAAAAAAAAAAAAAAAAAAAAAAAAAAAAAAAAAAAAAAAAAAAAAAAAAAAAAAAAAAAAAAAAAAAAAAAAAAAAAAAAAAAAAAAAAAAAAAAAAAAAAAAAAAAAAAAAAAAAAAAAAAAAAAAAAAAAAAAAAAAAAAAAAAAAAAAAAAAAAAAAAAAAAAAAAAAAAAAAAAAAAAAAAAAAAAAAAAAAAAAAAAAAAAAAAAAAAAAAAAAAAAAAAAAAAAAAAAAAAAAAAAAAAAAAAAAAAAAAAAAAAAAAAAAAAAAAAAAAAAAAAAAAAAAAAAAAAAAAAAAAAAAAAAAAAAAAAAAAAAAAAACTlSfuGjnAP5OVJ+4aOcA/AAAAAAAAAAAAAAAAAAAAAAAAAAAAAAAAAAAAAAAAAACTlSfuGjnAPwAAAAAAAAAAAAAAAAAAAAAAAAAAAAAAAAAAAAAAAAAAAAAAAAAAAAAAAAAAAAAAAAAAAAAAAAAAAAAAAAAAAAAAAAAAAAAAAAAAAAAAAAAAAAAAAAAAAACTlSfuGjnAP5OVJ+4aOcA/AAAAAAAAAAAAAAAAAAAAAAAAAAAAAAAAAAAAAAAAAAAAAAAAAAAAAAAAAAAAAAAAAAAAAAAAAAAAAAAAAAAAAAAAAAAAAAAAAAAAAAAAAAAAAAAAAAAAAAAAAAAAAAAAAAAAAAAAAAAAAAAAAAAAAAAAAAAAAAAAAAAAAAAAAAAAAAAAAAAAAAAAAAAAAAAAAAAAAAAAAAAAAAAAAAAAAAAAAAAAAAAAAAAAAAAAAAAAAAAAAAAAAAAAAAAAAAAAAAAAAAAAAAAAAAAAAAAAAAAAAAAAAAAAk5Un7ho5wD8AAAAAAAAAAAAAAAAAAAAAAAAAAAAAAAAAAAAAAAAAAAAAAAAAAAAAAAAAAAAAAAAAAAAAAAAAAAAAAAAAAAAAAAAAAAAAAAAAAAAAAAAAAAAAAAAAAAAAAAAAAAAAAAAAAAAAAAAAAAAAAAAAAAAAAAAAAAAAAAAAAAAAAAAAAAAAAAAAAAAAAAAAAAAAAAAAAAAAAAAAAAAAAAAAAAAAAAAAAAAAAAAAAAAAAAAAAJOVJ+4aOcA/AAAAAAAAAAAAAAAAAAAAAAAAAAAAAAAAAAAAAAAAAAAAAAAAAAAAAAAAAAAAAAAAAAAAAAAAAAAAAAAAAAAAAAAAAAAAAAAAAAAAAAAAAAAAAAAAAAAAAAAAAAAAAAAAk5Un7ho5wD8AAAAAAAAAAAAAAAAAAAAAAAAAAAAAAAAAAAAAAAAAAAAAAAAAAAAAAAAAAAAAAAAAAAAAAAAAAAAAAAAAAAAAAAAAAAAAAAAAAAAAAAAAAAAAAAAAAAAAAAAAAAAAAAAAAAAAAAAAAAAAAAAAAAAAAAAAAAAAAAAAAAAAAAAAAAAAAAAAAAAAAAAAAAAAAAAAAAAAAAAAAAAAAAAAAAAAAAAAAAAAAAAAAAAAAAAAAAAAAAAAAAAAAAAAAAAAAAAAAAAAAAAAAJOVJ+4aOdA/AAAAAAAAAAAAAAAAAAAAAAAAAAAAAAAAAAAAAAAAAAAAAAAAAAAAAAAAAAAAAAAAAAAAAAAAAAAAAAAAAAAAAJOVJ+4aOcA/AAAAAAAAAACTlSfuGjnAPwAAAAAAAAAAAAAAAAAAAAAAAAAAAAAAAAAAAAAAAAAAAAAAAAAAAAAAAAAAAAAAAAAAAAAAAAAAAAAAAAAAAAAAAAAAAAAAAAAAAAAAAAAAAAAAAAAAAACTlSfuGjnAP5OVJ+4aOcA/k5Un7ho5wD8AAAAAAAAAAAAAAAAAAAAAk5Un7ho5wD8AAAAAAAAAAAAAAAAAAAAAAAAAAAAAAAAAAAAAAAAAAAAAAAAAAAAAAAAAAAAAAAAAAAAAAAAAAAAAAAAAAAAAAAAAAAAAAAAAAAAAAAAAAJOVJ+4aOcA/AAAAAAAAAAAAAAAAAAAAAAAAAAAAAAAAk5Un7ho5wD8AAAAAAAAAAAAAAAAAAAAAAAAAAAAAAAAAAAAAAAAAAAAAAAAAAAAAAAAAAAAAAAAAAAAAAAAAAAAAAAAAAAAAAAAAAAAAAAAAAAAAAAAAAAAAAAAAAAAAAAAAAAAAAACTlSfuGjnAPwAAAAAAAAAAAAAAAAAAAAA=",
          "dtype": "f8",
          "shape": "40, 121"
         }
        }
       ],
       "layout": {
        "template": {
         "data": {
          "bar": [
           {
            "error_x": {
             "color": "#2a3f5f"
            },
            "error_y": {
             "color": "#2a3f5f"
            },
            "marker": {
             "line": {
              "color": "#E5ECF6",
              "width": 0.5
             },
             "pattern": {
              "fillmode": "overlay",
              "size": 10,
              "solidity": 0.2
             }
            },
            "type": "bar"
           }
          ],
          "barpolar": [
           {
            "marker": {
             "line": {
              "color": "#E5ECF6",
              "width": 0.5
             },
             "pattern": {
              "fillmode": "overlay",
              "size": 10,
              "solidity": 0.2
             }
            },
            "type": "barpolar"
           }
          ],
          "carpet": [
           {
            "aaxis": {
             "endlinecolor": "#2a3f5f",
             "gridcolor": "white",
             "linecolor": "white",
             "minorgridcolor": "white",
             "startlinecolor": "#2a3f5f"
            },
            "baxis": {
             "endlinecolor": "#2a3f5f",
             "gridcolor": "white",
             "linecolor": "white",
             "minorgridcolor": "white",
             "startlinecolor": "#2a3f5f"
            },
            "type": "carpet"
           }
          ],
          "choropleth": [
           {
            "colorbar": {
             "outlinewidth": 0,
             "ticks": ""
            },
            "type": "choropleth"
           }
          ],
          "contour": [
           {
            "colorbar": {
             "outlinewidth": 0,
             "ticks": ""
            },
            "colorscale": [
             [
              0,
              "#0d0887"
             ],
             [
              0.1111111111111111,
              "#46039f"
             ],
             [
              0.2222222222222222,
              "#7201a8"
             ],
             [
              0.3333333333333333,
              "#9c179e"
             ],
             [
              0.4444444444444444,
              "#bd3786"
             ],
             [
              0.5555555555555556,
              "#d8576b"
             ],
             [
              0.6666666666666666,
              "#ed7953"
             ],
             [
              0.7777777777777778,
              "#fb9f3a"
             ],
             [
              0.8888888888888888,
              "#fdca26"
             ],
             [
              1,
              "#f0f921"
             ]
            ],
            "type": "contour"
           }
          ],
          "contourcarpet": [
           {
            "colorbar": {
             "outlinewidth": 0,
             "ticks": ""
            },
            "type": "contourcarpet"
           }
          ],
          "heatmap": [
           {
            "colorbar": {
             "outlinewidth": 0,
             "ticks": ""
            },
            "colorscale": [
             [
              0,
              "#0d0887"
             ],
             [
              0.1111111111111111,
              "#46039f"
             ],
             [
              0.2222222222222222,
              "#7201a8"
             ],
             [
              0.3333333333333333,
              "#9c179e"
             ],
             [
              0.4444444444444444,
              "#bd3786"
             ],
             [
              0.5555555555555556,
              "#d8576b"
             ],
             [
              0.6666666666666666,
              "#ed7953"
             ],
             [
              0.7777777777777778,
              "#fb9f3a"
             ],
             [
              0.8888888888888888,
              "#fdca26"
             ],
             [
              1,
              "#f0f921"
             ]
            ],
            "type": "heatmap"
           }
          ],
          "histogram": [
           {
            "marker": {
             "pattern": {
              "fillmode": "overlay",
              "size": 10,
              "solidity": 0.2
             }
            },
            "type": "histogram"
           }
          ],
          "histogram2d": [
           {
            "colorbar": {
             "outlinewidth": 0,
             "ticks": ""
            },
            "colorscale": [
             [
              0,
              "#0d0887"
             ],
             [
              0.1111111111111111,
              "#46039f"
             ],
             [
              0.2222222222222222,
              "#7201a8"
             ],
             [
              0.3333333333333333,
              "#9c179e"
             ],
             [
              0.4444444444444444,
              "#bd3786"
             ],
             [
              0.5555555555555556,
              "#d8576b"
             ],
             [
              0.6666666666666666,
              "#ed7953"
             ],
             [
              0.7777777777777778,
              "#fb9f3a"
             ],
             [
              0.8888888888888888,
              "#fdca26"
             ],
             [
              1,
              "#f0f921"
             ]
            ],
            "type": "histogram2d"
           }
          ],
          "histogram2dcontour": [
           {
            "colorbar": {
             "outlinewidth": 0,
             "ticks": ""
            },
            "colorscale": [
             [
              0,
              "#0d0887"
             ],
             [
              0.1111111111111111,
              "#46039f"
             ],
             [
              0.2222222222222222,
              "#7201a8"
             ],
             [
              0.3333333333333333,
              "#9c179e"
             ],
             [
              0.4444444444444444,
              "#bd3786"
             ],
             [
              0.5555555555555556,
              "#d8576b"
             ],
             [
              0.6666666666666666,
              "#ed7953"
             ],
             [
              0.7777777777777778,
              "#fb9f3a"
             ],
             [
              0.8888888888888888,
              "#fdca26"
             ],
             [
              1,
              "#f0f921"
             ]
            ],
            "type": "histogram2dcontour"
           }
          ],
          "mesh3d": [
           {
            "colorbar": {
             "outlinewidth": 0,
             "ticks": ""
            },
            "type": "mesh3d"
           }
          ],
          "parcoords": [
           {
            "line": {
             "colorbar": {
              "outlinewidth": 0,
              "ticks": ""
             }
            },
            "type": "parcoords"
           }
          ],
          "pie": [
           {
            "automargin": true,
            "type": "pie"
           }
          ],
          "scatter": [
           {
            "fillpattern": {
             "fillmode": "overlay",
             "size": 10,
             "solidity": 0.2
            },
            "type": "scatter"
           }
          ],
          "scatter3d": [
           {
            "line": {
             "colorbar": {
              "outlinewidth": 0,
              "ticks": ""
             }
            },
            "marker": {
             "colorbar": {
              "outlinewidth": 0,
              "ticks": ""
             }
            },
            "type": "scatter3d"
           }
          ],
          "scattercarpet": [
           {
            "marker": {
             "colorbar": {
              "outlinewidth": 0,
              "ticks": ""
             }
            },
            "type": "scattercarpet"
           }
          ],
          "scattergeo": [
           {
            "marker": {
             "colorbar": {
              "outlinewidth": 0,
              "ticks": ""
             }
            },
            "type": "scattergeo"
           }
          ],
          "scattergl": [
           {
            "marker": {
             "colorbar": {
              "outlinewidth": 0,
              "ticks": ""
             }
            },
            "type": "scattergl"
           }
          ],
          "scattermap": [
           {
            "marker": {
             "colorbar": {
              "outlinewidth": 0,
              "ticks": ""
             }
            },
            "type": "scattermap"
           }
          ],
          "scattermapbox": [
           {
            "marker": {
             "colorbar": {
              "outlinewidth": 0,
              "ticks": ""
             }
            },
            "type": "scattermapbox"
           }
          ],
          "scatterpolar": [
           {
            "marker": {
             "colorbar": {
              "outlinewidth": 0,
              "ticks": ""
             }
            },
            "type": "scatterpolar"
           }
          ],
          "scatterpolargl": [
           {
            "marker": {
             "colorbar": {
              "outlinewidth": 0,
              "ticks": ""
             }
            },
            "type": "scatterpolargl"
           }
          ],
          "scatterternary": [
           {
            "marker": {
             "colorbar": {
              "outlinewidth": 0,
              "ticks": ""
             }
            },
            "type": "scatterternary"
           }
          ],
          "surface": [
           {
            "colorbar": {
             "outlinewidth": 0,
             "ticks": ""
            },
            "colorscale": [
             [
              0,
              "#0d0887"
             ],
             [
              0.1111111111111111,
              "#46039f"
             ],
             [
              0.2222222222222222,
              "#7201a8"
             ],
             [
              0.3333333333333333,
              "#9c179e"
             ],
             [
              0.4444444444444444,
              "#bd3786"
             ],
             [
              0.5555555555555556,
              "#d8576b"
             ],
             [
              0.6666666666666666,
              "#ed7953"
             ],
             [
              0.7777777777777778,
              "#fb9f3a"
             ],
             [
              0.8888888888888888,
              "#fdca26"
             ],
             [
              1,
              "#f0f921"
             ]
            ],
            "type": "surface"
           }
          ],
          "table": [
           {
            "cells": {
             "fill": {
              "color": "#EBF0F8"
             },
             "line": {
              "color": "white"
             }
            },
            "header": {
             "fill": {
              "color": "#C8D4E3"
             },
             "line": {
              "color": "white"
             }
            },
            "type": "table"
           }
          ]
         },
         "layout": {
          "annotationdefaults": {
           "arrowcolor": "#2a3f5f",
           "arrowhead": 0,
           "arrowwidth": 1
          },
          "autotypenumbers": "strict",
          "coloraxis": {
           "colorbar": {
            "outlinewidth": 0,
            "ticks": ""
           }
          },
          "colorscale": {
           "diverging": [
            [
             0,
             "#8e0152"
            ],
            [
             0.1,
             "#c51b7d"
            ],
            [
             0.2,
             "#de77ae"
            ],
            [
             0.3,
             "#f1b6da"
            ],
            [
             0.4,
             "#fde0ef"
            ],
            [
             0.5,
             "#f7f7f7"
            ],
            [
             0.6,
             "#e6f5d0"
            ],
            [
             0.7,
             "#b8e186"
            ],
            [
             0.8,
             "#7fbc41"
            ],
            [
             0.9,
             "#4d9221"
            ],
            [
             1,
             "#276419"
            ]
           ],
           "sequential": [
            [
             0,
             "#0d0887"
            ],
            [
             0.1111111111111111,
             "#46039f"
            ],
            [
             0.2222222222222222,
             "#7201a8"
            ],
            [
             0.3333333333333333,
             "#9c179e"
            ],
            [
             0.4444444444444444,
             "#bd3786"
            ],
            [
             0.5555555555555556,
             "#d8576b"
            ],
            [
             0.6666666666666666,
             "#ed7953"
            ],
            [
             0.7777777777777778,
             "#fb9f3a"
            ],
            [
             0.8888888888888888,
             "#fdca26"
            ],
            [
             1,
             "#f0f921"
            ]
           ],
           "sequentialminus": [
            [
             0,
             "#0d0887"
            ],
            [
             0.1111111111111111,
             "#46039f"
            ],
            [
             0.2222222222222222,
             "#7201a8"
            ],
            [
             0.3333333333333333,
             "#9c179e"
            ],
            [
             0.4444444444444444,
             "#bd3786"
            ],
            [
             0.5555555555555556,
             "#d8576b"
            ],
            [
             0.6666666666666666,
             "#ed7953"
            ],
            [
             0.7777777777777778,
             "#fb9f3a"
            ],
            [
             0.8888888888888888,
             "#fdca26"
            ],
            [
             1,
             "#f0f921"
            ]
           ]
          },
          "colorway": [
           "#636efa",
           "#EF553B",
           "#00cc96",
           "#ab63fa",
           "#FFA15A",
           "#19d3f3",
           "#FF6692",
           "#B6E880",
           "#FF97FF",
           "#FECB52"
          ],
          "font": {
           "color": "#2a3f5f"
          },
          "geo": {
           "bgcolor": "white",
           "lakecolor": "white",
           "landcolor": "#E5ECF6",
           "showlakes": true,
           "showland": true,
           "subunitcolor": "white"
          },
          "hoverlabel": {
           "align": "left"
          },
          "hovermode": "closest",
          "mapbox": {
           "style": "light"
          },
          "paper_bgcolor": "white",
          "plot_bgcolor": "#E5ECF6",
          "polar": {
           "angularaxis": {
            "gridcolor": "white",
            "linecolor": "white",
            "ticks": ""
           },
           "bgcolor": "#E5ECF6",
           "radialaxis": {
            "gridcolor": "white",
            "linecolor": "white",
            "ticks": ""
           }
          },
          "scene": {
           "xaxis": {
            "backgroundcolor": "#E5ECF6",
            "gridcolor": "white",
            "gridwidth": 2,
            "linecolor": "white",
            "showbackground": true,
            "ticks": "",
            "zerolinecolor": "white"
           },
           "yaxis": {
            "backgroundcolor": "#E5ECF6",
            "gridcolor": "white",
            "gridwidth": 2,
            "linecolor": "white",
            "showbackground": true,
            "ticks": "",
            "zerolinecolor": "white"
           },
           "zaxis": {
            "backgroundcolor": "#E5ECF6",
            "gridcolor": "white",
            "gridwidth": 2,
            "linecolor": "white",
            "showbackground": true,
            "ticks": "",
            "zerolinecolor": "white"
           }
          },
          "shapedefaults": {
           "line": {
            "color": "#2a3f5f"
           }
          },
          "ternary": {
           "aaxis": {
            "gridcolor": "white",
            "linecolor": "white",
            "ticks": ""
           },
           "baxis": {
            "gridcolor": "white",
            "linecolor": "white",
            "ticks": ""
           },
           "bgcolor": "#E5ECF6",
           "caxis": {
            "gridcolor": "white",
            "linecolor": "white",
            "ticks": ""
           }
          },
          "title": {
           "x": 0.05
          },
          "xaxis": {
           "automargin": true,
           "gridcolor": "white",
           "linecolor": "white",
           "ticks": "",
           "title": {
            "standoff": 15
           },
           "zerolinecolor": "white",
           "zerolinewidth": 2
          },
          "yaxis": {
           "automargin": true,
           "gridcolor": "white",
           "linecolor": "white",
           "ticks": "",
           "title": {
            "standoff": 15
           },
           "zerolinecolor": "white",
           "zerolinewidth": 2
          }
         }
        },
        "title": {
         "text": "Frequency of Percentage Price Changes Around EIA WPSR Release On Non-Release Days"
        },
        "xaxis": {
         "ticktext": [
          -60,
          -55,
          -50,
          -45,
          -40,
          -35,
          -30,
          -25,
          -20,
          -15,
          -10,
          -5,
          0,
          5,
          10,
          15,
          20,
          25,
          30,
          35,
          40,
          45,
          50,
          55,
          60
         ],
         "tickvals": [
          -60,
          -55,
          -50,
          -45,
          -40,
          -35,
          -30,
          -25,
          -20,
          -15,
          -10,
          -5,
          0,
          5,
          10,
          15,
          20,
          25,
          30,
          35,
          40,
          45,
          50,
          55,
          60
         ],
         "title": {
          "text": "Time Relative to Release (Minutes)"
         }
        },
        "yaxis": {
         "title": {
          "text": "Percentage Price Change Bins"
         }
        }
       }
      }
     },
     "metadata": {},
     "output_type": "display_data"
    },
    {
     "name": "stderr",
     "output_type": "stream",
     "text": [
      "C:\\Users\\evans\\AppData\\Local\\Temp\\ipykernel_23536\\1659211699.py:63: FutureWarning:\n",
      "\n",
      "The default of observed=False is deprecated and will be changed to True in a future version of pandas. Pass observed=False to retain current behavior or observed=True to adopt the future default and silence this warning.\n",
      "\n"
     ]
    },
    {
     "data": {
      "application/vnd.plotly.v1+json": {
       "config": {
        "plotlyServerURL": "https://plot.ly"
       },
       "data": [
        {
         "colorbar": {
          "title": {
           "text": "Frequency"
          }
         },
         "colorscale": [
          [
           0,
           "#440154"
          ],
          [
           0.1111111111111111,
           "#482878"
          ],
          [
           0.2222222222222222,
           "#3e4989"
          ],
          [
           0.3333333333333333,
           "#31688e"
          ],
          [
           0.4444444444444444,
           "#26828e"
          ],
          [
           0.5555555555555556,
           "#1f9e89"
          ],
          [
           0.6666666666666666,
           "#35b779"
          ],
          [
           0.7777777777777778,
           "#6ece58"
          ],
          [
           0.8888888888888888,
           "#b5de2b"
          ],
          [
           1,
           "#fde725"
          ]
         ],
         "type": "heatmap",
         "x": {
          "bdata": "AAAAAAAATsAAAAAAAIBNwAAAAAAAAE3AAAAAAACATMAAAAAAAABMwAAAAAAAgEvAAAAAAAAAS8AAAAAAAIBKwAAAAAAAAErAAAAAAACAScAAAAAAAABJwAAAAAAAgEjAAAAAAAAASMAAAAAAAIBHwAAAAAAAAEfAAAAAAACARsAAAAAAAABGwAAAAAAAgEXAAAAAAAAARcAAAAAAAIBEwAAAAAAAAETAAAAAAACAQ8AAAAAAAABDwAAAAAAAgELAAAAAAAAAQsAAAAAAAIBBwAAAAAAAAEHAAAAAAACAQMAAAAAAAABAwAAAAAAAAD/AAAAAAAAAPsAAAAAAAAA9wAAAAAAAADzAAAAAAAAAO8AAAAAAAAA6wAAAAAAAADnAAAAAAAAAOMAAAAAAAAA3wAAAAAAAADbAAAAAAAAANcAAAAAAAAA0wAAAAAAAADPAAAAAAAAAMsAAAAAAAAAxwAAAAAAAADDAAAAAAAAALsAAAAAAAAAswAAAAAAAACrAAAAAAAAAKMAAAAAAAAAmwAAAAAAAACTAAAAAAAAAIsAAAAAAAAAgwAAAAAAAABzAAAAAAAAAGMAAAAAAAAAUwAAAAAAAABDAAAAAAAAACMAAAAAAAAAAwAAAAAAAAPC/AAAAAAAAAAAAAAAAAADwPwAAAAAAAABAAAAAAAAACEAAAAAAAAAQQAAAAAAAABRAAAAAAAAAGEAAAAAAAAAcQAAAAAAAACBAAAAAAAAAIkAAAAAAAAAkQAAAAAAAACZAAAAAAAAAKEAAAAAAAAAqQAAAAAAAACxAAAAAAAAALkAAAAAAAAAwQAAAAAAAADFAAAAAAAAAMkAAAAAAAAAzQAAAAAAAADRAAAAAAAAANUAAAAAAAAA2QAAAAAAAADdAAAAAAAAAOEAAAAAAAAA5QAAAAAAAADpAAAAAAAAAO0AAAAAAAAA8QAAAAAAAAD1AAAAAAAAAPkAAAAAAAAA/QAAAAAAAAEBAAAAAAACAQEAAAAAAAABBQAAAAAAAgEFAAAAAAAAAQkAAAAAAAIBCQAAAAAAAAENAAAAAAACAQ0AAAAAAAABEQAAAAAAAgERAAAAAAAAARUAAAAAAAIBFQAAAAAAAAEZAAAAAAACARkAAAAAAAABHQAAAAAAAgEdAAAAAAAAASEAAAAAAAIBIQAAAAAAAAElAAAAAAACASUAAAAAAAABKQAAAAAAAgEpAAAAAAAAAS0AAAAAAAIBLQAAAAAAAAExAAAAAAACATEAAAAAAAABNQAAAAAAAgE1AAAAAAAAATkA=",
          "dtype": "f8"
         },
         "y": [
          "-1.00%",
          "-0.95%",
          "-0.90%",
          "-0.85%",
          "-0.80%",
          "-0.75%",
          "-0.70%",
          "-0.65%",
          "-0.60%",
          "-0.55%",
          "-0.50%",
          "-0.45%",
          "-0.40%",
          "-0.35%",
          "-0.30%",
          "-0.25%",
          "-0.20%",
          "-0.15%",
          "-0.10%",
          "-0.05%",
          "0.00%",
          "0.05%",
          "0.10%",
          "0.15%",
          "0.20%",
          "0.25%",
          "0.30%",
          "0.35%",
          "0.40%",
          "0.45%",
          "0.50%",
          "0.55%",
          "0.60%",
          "0.65%",
          "0.70%",
          "0.75%",
          "0.80%",
          "0.85%",
          "0.90%",
          "0.95%"
         ],
         "z": {
          "bdata": "AAAAAAAAAAAAAAAAAAAAAAAAAAAAAAAAAAAAAAAAAAAAAAAAAAAAAAAAAAAAAAAAAAAAAAAAAAAAAAAAAAAAAAAAAAAAAAAAAAAAAAAAAAAAAAAAAAAAAAAAAAAAAAAAAAAAAAAAAAAAAAAAAAAAAAAAAAAAAAAAAAAAAAAAAAAWbayUPf7VPwAAAAAAAAAAAAAAAAAAAAAAAAAAAAAAAAAAAAAAAAAAAAAAAAAAAAAAAAAAAAAAAAAAAAAAAAAAAAAAAAAAAAAAAAAAAAAAAAAAAAAAAAAAAAAAAAAAAAAAAAAAAAAAAAAAAAAAAAAAAAAAAAAAAAAAAAAAAAAAAAAAAAAAAAAAAAAAAAAAAAAAAAAAAAAAAAAAAAAAAAAAAAAAAAAAAAAAAAAAAAAAAAAAAAAAAAAAAAAAAAAAAAAAAAAAAAAAAAAAAAAAAAAAAAAAAAAAAAAAAAAAAAAAAAAAAAAAAAAAAAAAAAAAAAAAAAAAAAAAAAAAAAAAAAAAAAAAAAAAAAAAAAAAAAAAAAAAAAAAAAAAAAAAAAAAAAAAAAAAAAAAAAAAAAAAAAAAAAAAAAAAAAAAAAAAAAAAAAAAAAAAAAAAAAAAAAAAAAAAAAAAAAAAAAAAAAAAAAAAFm2slD3+9T8AAAAAAAAAAAAAAAAAAAAAAAAAAAAAAAAAAAAAAAAAAAAAAAAAAAAAAAAAAAAAAAAAAAAAAAAAAAAAAAAAAAAAFm2slD3+1T8AAAAAAAAAAAAAAAAAAAAAAAAAAAAAAAAAAAAAAAAAAAAAAAAAAAAAAAAAAAAAAAAAAAAAAAAAAAAAAAAAAAAAAAAAAAAAAAAAAAAAAAAAAAAAAAAAAAAAFm2slD3+1T8AAAAAAAAAAAAAAAAAAAAAAAAAAAAAAAAAAAAAAAAAAAAAAAAAAAAAAAAAAAAAAAAAAAAAAAAAAAAAAAAAAAAAAAAAAAAAAAAAAAAAAAAAAAAAAAAAAAAAAAAAAAAAAAAAAAAAAAAAAAAAAAAAAAAAAAAAAAAAAAAAAAAAAAAAAAAAAAAAAAAAAAAAAAAAAAAAAAAAAAAAAAAAAAAAAAAAAAAAAAAAAAAAAAAAAAAAAAAAAAAAAAAAAAAAAAAAAAAAAAAAAAAAAAAAAAAAAAAAAAAAAAAAAAAWbayUPf7VPwAAAAAAAAAAAAAAAAAAAAAAAAAAAAAAAAAAAAAAAAAAAAAAAAAAAAAAAAAAAAAAAAAAAAAAAAAAAAAAAAAAAAAAAAAAAAAAAAAAAAAAAAAAFm2slD3+5T8AAAAAAAAAAAAAAAAAAAAAAAAAAAAAAAAAAAAAAAAAAAAAAAAAAAAAAAAAAAAAAAAAAAAAAAAAAAAAAAAAAAAAAAAAAAAAAAAAAAAAAAAAAAAAAAAAAAAAAAAAAAAAAAAAAAAAAAAAABZtrJQ9/tU/AAAAAAAAAAAAAAAAAAAAAAAAAAAAAAAAAAAAAAAAAAAAAAAAAAAAAAAAAAAAAAAAAAAAAAAAAAAAAAAAAAAAAAAAAAAAAAAAAAAAAAAAAAAAAAAAAAAAAAAAAAAAAAAAAAAAAAAAAAAAAAAAAAAAAAAAAAAAAAAAAAAAAAAAAAAAAAAAAAAAAAAAAAAAAAAAAAAAAAAAAAAAAAAAAAAAAAAAAAAAAAAAAAAAAAAAAAAAAAAAAAAAAAAAAAAAAAAAAAAAAAAAAAAAAAAAAAAAAAAAAAAAAAAAAAAAAAAAAAAAAAAAAAAAAAAAAAAAAAAAAAAAAAAAAAAAAAAAAAAAAAAAAAAAAAAAAAAAAAAAAAAAAAAAAAAAAAAAAAAAAAAAAAAAAAAAAAAAAAAAAAAAAAAAAAAAAAAAAAAAAAAAAAAAAAAAAAAAAAAAAAAAAAAAAAAAAAAAAAAAAAAAAAAAAAAAAAAAAAAAAAAAAAAAAAAWbayUPf7lPwAAAAAAAAAAAAAAAAAAAAAAAAAAAAAAAAAAAAAAAAAAAAAAAAAAAAAAAAAAAAAAAAAAAAAAAAAAAAAAAAAAAAAAAAAAAAAAAAAAAAAAAAAAAAAAAAAAAAAAAAAAAAAAAAAAAAAAAAAAAAAAAAAAAAAAAAAAAAAAAAAAAAAAAAAAAAAAAAAAAAAAAAAAAAAAAAAAAAAAAAAAAAAAAAAAAAAAAAAAAAAAABZtrJQ9/tU/AAAAAAAAAAAAAAAAAAAAAAAAAAAAAAAAAAAAAAAAAAAAAAAAAAAAAAAAAAAAAAAAAAAAAAAAAAAAAAAAAAAAAAAAAAAAAAAAAAAAAAAAAAAAAAAAAAAAAAAAAAAAAAAAAAAAAAAAAAAAAAAAAAAAAAAAAAAAAAAAAAAAAAAAAAAAAAAAAAAAAAAAAAAAAAAAAAAAAAAAAAAAAAAAAAAAAAAAAAAAAAAAFm2slD3+1T8AAAAAAAAAAAAAAAAAAAAAAAAAAAAAAAAAAAAAAAAAAAAAAAAAAAAAAAAAAAAAAAAAAAAAAAAAAAAAAAAAAAAAAAAAAAAAAAAAAAAAAAAAAAAAAAAAAAAAAAAAAAAAAAAAAAAAAAAAAAAAAAAAAAAAAAAAAAAAAAAWbayUPf7lPwAAAAAAAAAAAAAAAAAAAAAAAAAAAAAAAAAAAAAAAAAAAAAAAAAAAAAAAAAAAAAAAAAAAAAAAAAAAAAAAAAAAAAAAAAAAAAAAAAAAAAAAAAAAAAAAAAAAAAAAAAAAAAAAAAAAAAAAAAAAAAAAAAAAAAAAAAAAAAAAAAAAAAAAAAAAAAAAAAAAAAAAAAAAAAAAAAAAAAAAAAAAAAAAAAAAAAAAAAAAAAAAAAAAAAAAAAAAAAAAAAAAAAAAAAAAAAAAAAAAAAAAAAAAAAAAAAAAAAAAAAAAAAAAAAAAAAAAAAAAAAAAAAAAAAAAAAAAAAAAAAAAAAAAAAAAAAAAAAAAAAAAAAAAAAAAAAAAAAAAAAAAAAAAAAAAAAAAAAAAAAAAAAAAAAAAAAAAAAAAAAAAAAAAAAAAAAAAAAAAAAAAAAAAAAAAAAAAAAAAAAAAAAAAAAAAAAAAAAAAAAAAAAAAAAAAAAAAAAAAAAAAAAAAAAAAAAAAAAAAAAAAAAAAAAAAAAAAAAAAAAAAAAAAAAAAAAAAAAAAAAAAAAAAAAAAAAAAAAAAAAAAAAAAAAAAAAAAAAAAAAAAAAAAAAAAAAAAAAAAAAAAAAAAAAAAAAAAAAAAAAAAAAAAAAAAAAAAAAAAFyI1/nMffs/Fm2slD3+1T8AAAAAAAAAAAAAAAAAAAAAAAAAAAAAAAAAAAAAAAAAAAAAAAAAAAAAAAAAAAAAAAAWbayUPf7VPwAAAAAAAAAAAAAAAAAAAAAAAAAAAAAAAAAAAAAAAAAAAAAAAAAAAAAAAAAAAAAAAAAAAAAAAAAAAAAAAAAAAAAAAAAAAAAAAAAAAAAAAAAAAAAAAAAAAAAAAAAAAAAAAAAAAAAAAAAAAAAAAAAAAAAAAAAAAAAAAAAAAAAAAAAAFm2slD3+1T8AAAAAAAAAAAAAAAAAAAAAAAAAAAAAAAAAAAAAAAAAAAAAAAAAAAAAAAAAAAAAAAAAAAAAAAAAAAAAAAAAAAAAAAAAAAAAAAAWbayUPf7VPwAAAAAAAAAAAAAAAAAAAAAAAAAAAAAAAAAAAAAAAAAAAAAAAAAAAAAAAAAAAAAAAAAAAAAAAAAAAAAAAAAAAAAAAAAAAAAAAAAAAAAAAAAAAAAAAAAAAAAAAAAAAAAAAAAAAAAAAAAAAAAAAAAAAAAAAAAAAAAAAAAAAAAAAAAAAAAAAAAAAAAAAAAAAAAAAAAAAAAAAAAAAAAAAAAAAAAWbayUPf7VPwAAAAAAAAAAAAAAAAAAAAAAAAAAAAAAABZtrJQ9/uU/AAAAAAAAAAAAAAAAAAAAAAAAAAAAAAAAAAAAAAAAAAAAAAAAAAAAAAAAAAAAAAAAAAAAAAAAAAAAAAAAAAAAAAAAAAAAAAAAAAAAAAAAAAAAAAAAAAAAAAAAAAAAAAAAAAAAAAAAAAAAAAAAAAAAABZtrJQ9/tU/AAAAAAAAAAAAAAAAAAAAAAAAAAAAAAAAAAAAAAAAAAAAAAAAAAAAAAAAAAAAAAAAAAAAAAAAAAAAAAAAAAAAAAAAAAAAAAAAAAAAAAAAAAAAAAAAAAAAAAAAAAAAAAAAFm2slD3+1T8AAAAAAAAAAAAAAAAAAAAAAAAAAAAAAAAAAAAAAAAAAAAAAAAAAAAAAAAAAAAAAAAAAAAAAAAAAAAAAAAAAAAAAAAAAAAAAAAAAAAAAAAAAAAAAAAAAAAAAAAAAAAAAAAAAAAAAAAAAAAAAAAAAAAAAAAAAAAAAAAAAAAAAAAAAAAAAAAAAAAAAAAAAAAAAAAAAAAAAAAAAAAAAAAAAAAAAAAAAAAAAAAAAAAAAAAAAAAAAAAAAAAAAAAAAAAAAAAAAAAAAAAAAAAAAAAAAAAAAAAAAAAAAAAAAAAAAAAAAAAAAAAAAAAAAAAAAAAAAAAAAAAAAAAAAAAAAAAAAAAAFm2slD3+1T8AAAAAAAAAAAAAAAAAAAAAAAAAAAAAAAAAAAAAAAAAAAAAAAAAAAAAAAAAAAAAAAAAAAAAAAAAAAAAAAAAAAAAAAAAAAAAAAAAAAAAAAAAAAAAAAAAAAAAFm2slD3+1T8AAAAAAAAAAAAAAAAAAAAAAAAAAAAAAAAAAAAAAAAAAAAAAAAAAAAAAAAAAAAAAAAAAAAAAAAAAAAAAAAAAAAAAAAAAAAAAAAAAAAAAAAAAAAAAAAAAAAAAAAAAAAAAAAAAAAAAAAAAAAAAAAAAAAAAAAAAAAAAAAAAAAAAAAAAAAAAAAAAAAAAAAAAAAAAAAAAAAAAAAAAAAAAAAAAAAAAAAAAAAAAAAAAAAAAAAAAAAAAAAAAAAAAAAAAAAAAAAAAAAAAAAAAAAAAAAAAAAAAAAAAAAAAAAAAAAAAAAAAAAAAAAAAAAAAAAAAAAAAAAWbayUPf7VPwAAAAAAAAAAAAAAAAAAAAAAAAAAAAAAAAAAAAAAAAAAAAAAAAAAAAAAAAAAAAAAAAAAAAAAAAAAAAAAAAAAAAAAAAAAAAAAAAAAAAAAAAAAAAAAAAAAAAAAAAAAAAAAAAAAAAAAAAAAAAAAAAAAAAAAAAAAAAAAAAAAAAAAAAAAFm2slD3+9T8WbayUPf7VPxZtrJQ9/tU/AAAAAAAAAAAAAAAAAAAAAAAAAAAAAAAAFm2slD3+1T8AAAAAAAAAAAAAAAAAAAAAAAAAAAAAAAAAAAAAAAAAAAAAAAAAAAAAAAAAAAAAAAAAAAAAAAAAAAAAAAAAAAAAAAAAAAAAAAAAAAAAAAAAAAAAAAAAAAAAAAAAAAAAAAAAAAAAAAAAAAAAAAAAAAAAAAAAAAAAAAAAAAAAAAAAAAAAAAAAAAAAAAAAAAAAAAAAAAAAAAAAAAAAAAAAAAAAAAAAAAAAAAAAAAAAAAAAAAAAAAAAAAAAAAAAAAAAAAAAAAAAAAAAAAAAAAAAAAAAAAAAAAAAAAAAAAAAAAAAAAAAAAAAAAAAAAAAAAAAAAAAAAAAAAAAAAAAAAAAAAAAAAAAAAAAAAAAAAAAAAAAAAAAAAAAAAAAAAAAAAAAAAAAAAAAAAAAAAAAAAAAAAAAAAAAAAAAAAAAAAAAAAAAAAAAAAAAAAAAAAAAAAAAAAAAAAAAAAAAAAAAAAAAAAAAAAAAAAAAAAAAAAAAAAAAAAAAAAAAAAAAAAAAAAAAAAAAAAAAAAAAAAAAAAAAAAAAAAAAAAAAAAAAAAAAAAAAAAAAAAAAAAAAAAAAAAAAAAAAAAAAAAAAAAAAAAAAAAAAAAAAAAAAAAAAAAAAAAAAAAAAAAAAAAAAFm2slD3+1T8AAAAAAAAAAAAAAAAAAAAAAAAAAAAAAAAAAAAAAAAAAAAAAAAAAAAAAAAAAAAAAAAAAAAAAAAAABZtrJQ9/tU/AAAAAAAAAAAAAAAAAAAAAAAAAAAAAAAAAAAAAAAAAAAAAAAAAAAAAAAAAAAAAAAAFm2slD3+1T8AAAAAAAAAAAAAAAAAAAAAAAAAAAAAAAAAAAAAAAAAAAAAAAAAAAAAAAAAAAAAAAAAAAAAAAAAAAAAAAAAAAAAAAAAAAAAAAAAAAAAAAAAAAAAAAAAAAAAAAAAAAAAAAAAAAAAAAAAAAAAAAAAAAAAAAAAAAAAAAAAAAAAAAAAAAAAAAAAAAAAAAAAAAAAAAAAAAAAAAAAAAAAAAAAAAAAAAAAAAAAAAAAAAAAAAAAAAAAAAAAAAAAAAAAAAAAAAAAAAAAAAAAAAAAAAAAAAAAAAAAAAAAAAAAAAAAAAAAAAAAAAAAAAAAAAAAAAAAAAAAAAAAAAAAAAAAAAAAAAAAAAAAAAAAAAAAAAAAAAAAAAAAAAAAAAAAAAAAAAAAAAAAAAAAAAAAAAAAAAAAAAAAFm2slD3+1T8WbayUPf7lPwAAAAAAAAAAAAAAAAAAAAAAAAAAAAAAAAAAAAAAAAAAAAAAAAAAAAAAAAAAAAAAAAAAAAAAAAAAAAAAAAAAAAAAAAAAAAAAAAAAAAAAAAAAAAAAAAAAAAAAAAAAAAAAAAAAAAAAAAAAAAAAAAAAAAAAAAAAAAAAAAAAAAAAAAAAFm2slD3+1T8AAAAAAAAAAAAAAAAAAAAAAAAAAAAAAAAAAAAAAAAAAAAAAAAAAAAAAAAAAAAAAAAAAAAAAAAAAAAAAAAAAAAAAAAAAAAAAAAAAAAAAAAAAAAAAAAAAAAAAAAAAAAAAAAAAAAAAAAAAAAAAAAAAAAAAAAAAAAAAAAAAAAAAAAAAAAAAAAAAAAAAAAAAAAAAAAWbayUPf7VPwAAAAAAAAAAFm2slD3+1T8AAAAAAAAAAAAAAAAAAAAAAAAAAAAAAAAAAAAAAAAAAAAAAAAAAAAAAAAAAAAAAAAWbayUPf7VPwAAAAAAAAAAAAAAAAAAAAAAAAAAAAAAAAAAAAAAAAAAAAAAAAAAAAAAAAAAAAAAAAAAAAAAAAAAAAAAAAAAAAAAAAAAAAAAAAAAAAAAAAAAAAAAAAAAAAAAAAAAAAAAAAAAAAAAAAAAAAAAAAAAAAAAAAAAAAAAABZtrJQ9/uU/AAAAAAAAAAAAAAAAAAAAAAAAAAAAAAAAAAAAAAAAAAAAAAAAAAAAABZtrJQ9/tU/AAAAAAAAAAAAAAAAAAAAAAAAAAAAAAAAAAAAAAAAAAAAAAAAAAAAAAAAAAAAAAAAFm2slD3+1T8AAAAAAAAAAAAAAAAAAAAAAAAAAAAAAAAAAAAAAAAAAAAAAAAAAAAAAAAAAAAAAAAAAAAAAAAAAAAAAAAAAAAAAAAAAAAAAAAAAAAAAAAAAAAAAAAAAAAAAAAAAAAAAAAAAAAAAAAAAAAAAAAAAAAAAAAAAAAAAAAAAAAAAAAAABZtrJQ9/tU/Fm2slD3+1T8AAAAAAAAAAAAAAAAAAAAAAAAAAAAAAAAAAAAAAAAAAAAAAAAAAAAAAAAAAAAAAAAAAAAAAAAAAAAAAAAAAAAAAAAAAAAAAAAAAAAAAAAAAAAAAAAAAAAAAAAAAAAAAAAAAAAAAAAAABZtrJQ9/tU/AAAAAAAAAAAAAAAAAAAAAAAAAAAAAAAAAAAAAAAAAAAAAAAAAAAAAAAAAAAAAAAAAAAAAAAAAAAAAAAAAAAAAAAAAAAAAAAAAAAAAAAAAAAAAAAAAAAAAAAAAAAAAAAAFm2slD3+1T8WbayUPf7VPxZtrJQ9/vU/Fm2slD3+1T8AAAAAAAAAAAAAAAAAAAAAAAAAAAAAAAAAAAAAAAAAAAAAAAAAAAAAAAAAAAAAAAAAAAAAAAAAAAAAAAAAAAAAAAAAAAAAAAAAAAAAAAAAAAAAAAAAAAAAFm2slD3+1T8WbayUPf7VPwAAAAAAAAAAAAAAAAAAAAAAAAAAAAAAAAAAAAAAAAAAAAAAAAAAAAAAAAAAAAAAAAAAAAAAAAAAAAAAAAAAAAAAAAAAAAAAAAAAAAAAAAAAAAAAAAAAAAAAAAAAAAAAAAAAAAAAAAAAAAAAAAAAAAAAAAAAAAAAAAAAAAAAAAAAFm2slD3+1T8AAAAAAAAAAAAAAAAAAAAAAAAAAAAAAAAAAAAAAAAAAAAAAAAAAAAAAAAAAAAAAAAWbayUPf7VPwAAAAAAAAAAAAAAAAAAAAAAAAAAAAAAAAAAAAAAAAAAAAAAAAAAAAAAAAAAAAAAAAAAAAAAAAAAAAAAAAAAAAAWbayUPf7VPwAAAAAAAAAAAAAAAAAAAAAAAAAAAAAAAAAAAAAAAAAAAAAAAAAAAAAAAAAAAAAAAAAAAAAAAAAAAAAAAAAAAAAAAAAAAAAAAAAAAAAAAAAAAAAAAAAAAAAAAAAAAAAAAAAAAAAAAAAA0FGBL65+8D8AAAAAAAAAAAAAAAAAAAAA0FGBL65+8D8WbayUPf7VPwAAAAAAAAAAAAAAAAAAAAAAAAAAAAAAAAAAAAAAAAAAAAAAAAAAAAAAAAAAAAAAAAAAAAAAAAAAAAAAAAAAAAAAAAAAAAAAAAAAAAAAAAAAAAAAAAAAAAAAAAAAAAAAAAAAAAAAAAAAAAAAAAAAAAAAAAAAAAAAAAAAAAAAAAAAAAAAAAAAAAAAAAAAAAAAABZtrJQ9/tU/AAAAAAAAAAAWbayUPf7VPwAAAAAAAAAAAAAAAAAAAAAAAAAAAAAAAAAAAAAAAAAAAAAAAAAAAAAAAAAAAAAAAAAAAAAAAAAAAAAAAAAAAAAAAAAAAAAAAAAAAAAAAAAAAAAAAAAAAAAWbayUPf7VPwAAAAAAAAAAAAAAAAAAAAAAAAAAAAAAAAAAAAAAAAAAAAAAAAAAAAAAAAAAAAAAAAAAAAAAAAAAAAAAAAAAAAAAAAAAAAAAAAAAAAAAAAAAAAAAAAAAAAAAAAAAAAAAAAAAAAAAAAAAAAAAAAAAAAAAAAAAAAAAAAAAAAAAAAAAAAAAAAAAAAAAAAAAAAAAAAAAAAAAAAAAAAAAAAAAAAAAAAAAAAAAABZtrJQ9/tU/Fm2slD3+9T8AAAAAAAAAAAAAAAAAAAAAAAAAAAAAAAAAAAAAAAAAAAAAAAAAAAAAAAAAAAAAAAAAAAAAAAAAAAAAAAAAAAAAAAAAAAAAAAAAAAAAAAAAAAAAAAAAAAAAAAAAAAAAAAAAAAAAAAAAAAAAAAAAAAAAAAAAAAAAAAAAAAAAAAAAAAAAAAAAAAAAAAAAAAAAAAAAAAAAAAAAABZtrJQ9/tU/AAAAAAAAAAAWbayUPf7VPwAAAAAAAAAAAAAAAAAAAAAAAAAAAAAAAAAAAAAAAAAAAAAAAAAAAAAAAAAAAAAAAAAAAAAAAAAAFm2slD3+1T8AAAAAAAAAAAAAAAAAAAAAAAAAAAAAAAAAAAAAAAAAAAAAAAAAAAAAAAAAAAAAAAAAAAAAAAAAAAAAAAAAAAAAFm2slD3+1T8WbayUPf7VPwAAAAAAAAAAAAAAAAAAAAAAAAAAAAAAAAAAAAAAAAAAAAAAAAAAAAAAAAAAAAAAAAAAAAAAAAAAAAAAAAAAAAAAAAAAAAAAAAAAAAAAAAAAAAAAAAAAAAAAAAAAAAAAAAAAAAAAAAAAAAAAAAAAAAAAAAAAAAAAAAAAAAAAAAAAAAAAAAAAAAAAAAAAAAAAAAAAAAAAAAAAAAAAAAAAAAAWbayUPf7lPwAAAAAAAAAAFm2slD3+1T8WbayUPf7VPwAAAAAAAAAAFm2slD3+1T8AAAAAAAAAABZtrJQ9/tU/Fm2slD3+1T8AAAAAAAAAAAAAAAAAAAAAAAAAAAAAAAAAAAAAAAAAAAAAAAAAAAAAAAAAAAAAAAAAAAAAAAAAABZtrJQ9/tU/AAAAAAAAAAAAAAAAAAAAABZtrJQ9/tU/AAAAAAAAAAAWbayUPf7VPxZtrJQ9/tU/AAAAAAAAAAAWbayUPf7VPxZtrJQ9/tU/AAAAAAAAAAAWbayUPf7VPxZtrJQ9/tU/AAAAAAAAAAAAAAAAAAAAAAAAAAAAAAAAAAAAAAAAAAAAAAAAAAAAAAAAAAAAAAAAAAAAAAAAAAAAAAAAAAAAAAAAAAAAAAAAAAAAAAAAAAAWbayUPf7VPwAAAAAAAAAAAAAAAAAAAAAAAAAAAAAAAAAAAAAAAAAAAAAAAAAAAAAAAAAAAAAAAAAAAAAAAAAAAAAAAAAAAAAWbayUPf7VPwAAAAAAAAAAAAAAAAAAAAAAAAAAAAAAAAAAAAAAAAAAAAAAAAAAAAAAAAAAAAAAAAAAAAAAAAAAAAAAAAAAAAAAAAAAAAAAAAAAAAAAAAAAFm2slD3+1T/QUYEvrn7wPwAAAAAAAAAAAAAAAAAAAAAWbayUPf7VPxZtrJQ9/tU/AAAAAAAAAAAAAAAAAAAAAAAAAAAAAAAAAAAAAAAAAAAAAAAAAAAAAAAAAAAAAAAAAAAAAAAAAAAAAAAAAAAAAAAAAAAAAAAAAAAAAAAAAAAAAAAAAAAAABZtrJQ9/tU/AAAAAAAAAAAAAAAAAAAAAAAAAAAAAAAAAAAAAAAAAAAAAAAAAAAAAAAAAAAAAAAAAAAAAAAAAAAAAAAAAAAAAAAAAAAAAAAAAAAAAAAAAAAAAAAAAAAAAAAAAAAAAAAAAAAAAAAAAAAWbayUPf7VPwAAAAAAAAAAFm2slD3+1T8AAAAAAAAAAAAAAAAAAAAAAAAAAAAAAAAAAAAAAAAAAAAAAAAAAAAAAAAAAAAAAAAAAAAAAAAAAAAAAAAAAAAAAAAAAAAAAAAAAAAAAAAAAAAAAAAAAAAAAAAAAAAAAAAAAAAAAAAAAAAAAAAAAAAAAAAAAAAAAAAAAAAAAAAAAAAAAAAAAAAAAAAAAAAAAAAAAAAAAAAAAAAAAAAAAAAAAAAAAAAAAAAAAAAAAAAAAAAAAAAAAAAAAAAAAAAAAAAAAAAAAAAAAAAAAAAAAAAAFm2slD3+1T8AAAAAAAAAANBRgS+ufgBAFm2slD3+1T8AAAAAAAAAABZtrJQ9/tU/Fm2slD3+1T8WbayUPf7lPxZtrJQ9/tU/AAAAAAAAAAAAAAAAAAAAAAAAAAAAAAAAFm2slD3+1T8AAAAAAAAAAAAAAAAAAAAAAAAAAAAAAAAAAAAAAAAAAAAAAAAAAAAAAAAAAAAAAAAWbayUPf7VPwAAAAAAAAAAFm2slD3+1T8AAAAAAAAAAAAAAAAAAAAAFm2slD3+1T8AAAAAAAAAAAAAAAAAAAAAAAAAAAAAAAAAAAAAAAAAAAAAAAAAAAAAAAAAAAAAAAAAAAAAAAAAAAAAAAAAAAAAAAAAAAAAAAAWbayUPf7VPwAAAAAAAAAAAAAAAAAAAAAAAAAAAAAAAAAAAAAAAAAAAAAAAAAAAAAAAAAAAAAAAAAAAAAAAAAAAAAAAAAAAAAAAAAAAAAAAAAAAAAAAAAAAAAAAAAAAAAAAAAAAAAAAAAAAAAAAAAAAAAAAAAAAAAAAAAAAAAAABZtrJQ9/tU/AAAAAAAAAAAAAAAAAAAAAAAAAAAAAAAAAAAAAAAAAAAAAAAAAAAAAAAAAAAAAAAAAAAAAAAAAAAAAAAAAAAAAAAAAAAAAAAAAAAAAAAAAAAWbayUPf7VP1yI1/nMfQtAFm2slD3+1T8WbayUPf7VPwAAAAAAAAAAAAAAAAAAAAAAAAAAAAAAAAAAAAAAAAAAAAAAAAAAAAAAAAAAAAAAAAAAAAAAAAAAAAAAAAAAAAAAAAAAAAAAAAAAAAAAAAAAAAAAAAAAAAAAAAAAAAAAAAAAAAAAAAAAFm2slD3+1T8AAAAAAAAAAAAAAAAAAAAAAAAAAAAAAAAWbayUPf7VPwAAAAAAAAAAAAAAAAAAAAAAAAAAAAAAAAAAAAAAAAAAAAAAAAAAAAAWbayUPf7VPwAAAAAAAAAAAAAAAAAAAAAAAAAAAAAAAAAAAAAAAAAAAAAAAAAAAAAAAAAAAAAAAAAAAAAAAAAAAAAAAAAAAAAAAAAAAAAAAAAAAAAAAAAAAAAAAAAAAAAAAAAAAAAAABZtrJQ9/tU/AAAAAAAAAAAAAAAAAAAAAAAAAAAAAAAAAAAAAAAAAAAAAAAAAAAAAAAAAAAAAAAAAAAAAAAAAAAAAAAAAAAAAAAAAAAAAAAAAAAAAAAAAAAAAAAAAAAAAAAAAAAAAAAAAAAAAAAAAAAWbayUPf7VPwAAAAAAAAAAAAAAAAAAAAAWbayUPf7VPwAAAAAAAAAAAAAAAAAAAAAAAAAAAAAAAAAAAAAAAAAAdN8W4nU+A0AWbayUPf7VPwAAAAAAAAAAAAAAAAAAAAAWbayUPf7VPwAAAAAAAAAAFm2slD3+1T8AAAAAAAAAABZtrJQ9/uU/Fm2slD3+5T8AAAAAAAAAAAAAAAAAAAAAFm2slD3+5T8WbayUPf7VPxZtrJQ9/tU/AAAAAAAAAAAAAAAAAAAAABZtrJQ9/tU/AAAAAAAAAAAAAAAAAAAAAAAAAAAAAAAAFm2slD3+1T8WbayUPf7VPwAAAAAAAAAAFm2slD3+1T8WbayUPf7VPwAAAAAAAAAAAAAAAAAAAAAWbayUPf7lPxZtrJQ9/tU/AAAAAAAAAAAAAAAAAAAAAAAAAAAAAAAAAAAAAAAAAAAAAAAAAAAAABZtrJQ9/tU/Fm2slD3+1T8AAAAAAAAAAAAAAAAAAAAAAAAAAAAAAAAWbayUPf7VPxZtrJQ9/tU/AAAAAAAAAAAAAAAAAAAAAAAAAAAAAAAAAAAAAAAAAAAAAAAAAAAAAAAAAAAAAAAAAAAAAAAAAAAAAAAAAAAAAAAAAAAAAAAAAAAAAAAAAAAAAAAAAAAAAAAAAAAAAAAAAAAAAAAAAAAAAAAAAAAAAAAAAAAAAAAAAAAAAAAAAAAAAAAAAAAAAAAAAAAAAAAA0FGBL65+AEAAAAAAAAAAAAAAAAAAAAAAFm2slD3+1T8AAAAAAAAAAAAAAAAAAAAAAAAAAAAAAAAAAAAAAAAAAAAAAAAAAAAAAAAAAAAAAAAAAAAAAAAAAAAAAAAAAAAAAAAAAAAAAAAWbayUPf7VPwAAAAAAAAAAAAAAAAAAAAAAAAAAAAAAAAAAAAAAAAAAAAAAAAAAAAAWbayUPf7VPxZtrJQ9/tU/AAAAAAAAAAAAAAAAAAAAAAAAAAAAAAAAAAAAAAAAAAAAAAAAAAAAAAAAAAAAAAAAAAAAAAAAAAAAAAAAAAAAAAAAAAAAAAAAAAAAAAAAAAAAAAAAAAAAANBRgS+ufvA/AAAAAAAAAAAAAAAAAAAAAAAAAAAAAAAAFm2slD3+5T8AAAAAAAAAAAAAAAAAAAAAFm2slD3+1T8AAAAAAAAAAAAAAAAAAAAAAAAAAAAAAAAAAAAAAAAAABZtrJQ9/tU/AAAAAAAAAAAAAAAAAAAAAAAAAAAAAAAAAAAAAAAAAAAAAAAAAAAAAAAAAAAAAAAAAAAAAAAAAAAAAAAAAAAAAAAAAAAAAAAAAAAAAAAAAAAAAAAAAAAAAAAAAAAAAAAAFm2slD3+1T8AAAAAAAAAAAAAAAAAAAAAAAAAAAAAAADQUYEvrn4AQBZtrJQ9/uU/0FGBL65+8D8WbayUPf7VPxZtrJQ9/vU/Fm2slD3+1T8AAAAAAAAAAAAAAAAAAAAAFm2slD3+5T8AAAAAAAAAABZtrJQ9/tU/AAAAAAAAAAAWbayUPf7VPwAAAAAAAAAAAAAAAAAAAAAWbayUPf7VPwAAAAAAAAAAAAAAAAAAAAAWbayUPf7VPxZtrJQ9/tU/Fm2slD3+1T8WbayUPf7VPwAAAAAAAAAAAAAAAAAAAAAWbayUPf7VPxZtrJQ9/tU/AAAAAAAAAAAAAAAAAAAAABZtrJQ9/tU/AAAAAAAAAAAWbayUPf7VPxZtrJQ9/tU/Fm2slD3+1T8WbayUPf7VPwAAAAAAAAAAAAAAAAAAAAAWbayUPf7VPwAAAAAAAAAAAAAAAAAAAAAAAAAAAAAAAAAAAAAAAAAAAAAAAAAAAAAAAAAAAAAAAAAAAAAAAAAAAAAAAAAAAAAAAAAAAAAAAAAAAAAAAAAAAAAAAAAAAAAAAAAAAAAAABZtrJQ9/tU/AAAAAAAAAAAWbayUPf7VPxZtrJQ9/tU/Fm2slD3+1T8AAAAAAAAAAAAAAAAAAAAAAAAAAAAAAAAWbayUPf7VPwAAAAAAAAAAFm2slD3+5T8WbayUPf4VQBZtrJQ9/tU/AAAAAAAAAAAAAAAAAAAAAAAAAAAAAAAAFm2slD3+1T8WbayUPf7VPxZtrJQ9/tU/AAAAAAAAAAAWbayUPf7VPwAAAAAAAAAAAAAAAAAAAAAAAAAAAAAAAAAAAAAAAAAAAAAAAAAAAAAAAAAAAAAAABZtrJQ9/vU/Fm2slD3+1T8AAAAAAAAAAAAAAAAAAAAAAAAAAAAAAAAAAAAAAAAAAAAAAAAAAAAAAAAAAAAAAAAWbayUPf7VPwAAAAAAAAAAAAAAAAAAAAAWbayUPf7VPwAAAAAAAAAAAAAAAAAAAAAAAAAAAAAAANBRgS+ufvA/0FGBL65+8D8AAAAAAAAAAAAAAAAAAAAAFm2slD3+1T8AAAAAAAAAABZtrJQ9/tU/Fm2slD3+1T8AAAAAAAAAAAAAAAAAAAAAAAAAAAAAAAAAAAAAAAAAABZtrJQ9/tU/AAAAAAAAAAAWbayUPf7lPxZtrJQ9/uU/Fm2slD3+1T8AAAAAAAAAABZtrJQ9/tU/AAAAAAAAAAAAAAAAAAAAABZtrJQ9/tU/AAAAAAAAAAAAAAAAAAAAANBRgS+ufvA/AAAAAAAAAAAAAAAAAAAAAAAAAAAAAAAAFm2slD3+1T8AAAAAAAAAANBRgS+ufgBAFm2slD3+9T8WbayUPf71PwAAAAAAAAAAAAAAAAAAAAAWbayUPf7VPwAAAAAAAAAAFm2slD3+1T8AAAAAAAAAAAAAAAAAAAAAFm2slD3+1T8AAAAAAAAAAAAAAAAAAAAAAAAAAAAAAAAAAAAAAAAAAAAAAAAAAAAAAAAAAAAAAAAAAAAAAAAAABZtrJQ9/uU/Fm2slD3+5T8WbayUPf7VPwAAAAAAAAAAFm2slD3+5T8AAAAAAAAAABZtrJQ9/uU/AAAAAAAAAAAAAAAAAAAAAAAAAAAAAAAAAAAAAAAAAAAWbayUPf7VPxZtrJQ9/tU/Fm2slD3+1T8AAAAAAAAAABZtrJQ9/tU/AAAAAAAAAAAWbayUPf7VPxZtrJQ9/tU/AAAAAAAAAAAWbayUPf7VPwAAAAAAAAAAAAAAAAAAAAAAAAAAAAAAABZtrJQ9/uU/AAAAAAAAAAAWbayUPf7lPxZtrJQ9/tU/AAAAAAAAAAAWbayUPf7lPxZtrJQ9/tU/AAAAAAAAAAAWbayUPf7VPwAAAAAAAAAAFm2slD3+1T8WbayUPf7VPwAAAAAAAAAAAAAAAAAAAAAAAAAAAAAAABZtrJQ9/tU/AAAAAAAAAAAWbayUPf7VPxZtrJQ9/gVAFm2slD3+9T/QUYEvrn7wPwAAAAAAAAAAFm2slD3+1T8WbayUPf7lPxZtrJQ9/tU/Fm2slD3+5T8AAAAAAAAAAAAAAAAAAAAAFm2slD3+1T8WbayUPf7VPxZtrJQ9/tU/Fm2slD3+1T8AAAAAAAAAAAAAAAAAAAAAFm2slD3+1T8WbayUPf7VPxZtrJQ9/tU/Fm2slD3+1T8AAAAAAAAAABZtrJQ9/tU/Fm2slD3+5T8AAAAAAAAAAAAAAAAAAAAAAAAAAAAAAAAAAAAAAAAAAAAAAAAAAAAAAAAAAAAAAAAAAAAAAAAAAAAAAAAAAAAA0FGBL65+8D8WbayUPf71PxZtrJQ9/tU/Fm2slD3+5T8WbayUPf7lPxZtrJQ9/uU/Fm2slD3+5T8WbayUPf7VPxZtrJQ9/tU/Fm2slD3+1T8WbayUPf7lPxZtrJQ9/uU/AAAAAAAAAAAWbayUPf7VPwAAAAAAAAAAFm2slD3+1T8AAAAAAAAAAAAAAAAAAAAAAAAAAAAAAAAAAAAAAAAAABZtrJQ9/tU/AAAAAAAAAAAWbayUPf7VPxZtrJQ9/uU/AAAAAAAAAAAAAAAAAAAAABZtrJQ9/tU/AAAAAAAAAAAWbayUPf7VPxZtrJQ9/tU/ufpBRwW+CEBciNf5zH37PxZtrJQ9/tU/Fm2slD3+9T8WbayUPf71P1yI1/nMffs/Fm2slD3+1T/QUYEvrn7wPxZtrJQ9/uU/Fm2slD3+5T/QUYEvrn7wPxZtrJQ9/tU/AAAAAAAAAAAAAAAAAAAAABZtrJQ9/tU/Fm2slD3+1T8WbayUPf7VPxZtrJQ9/uU/AAAAAAAAAAAWbayUPf7VPwAAAAAAAAAAFm2slD3+5T8AAAAAAAAAANBRgS+ufvA/AAAAAAAAAAAAAAAAAAAAABZtrJQ9/uU/AAAAAAAAAAAWbayUPf7VPwAAAAAAAAAAAAAAAAAAAAAWbayUPf7VPxZtrJQ9/uU/Fm2slD3+1T8WbayUPf7lPwAAAAAAAAAAAAAAAAAAAAAAAAAAAAAAAAAAAAAAAAAAFm2slD3+5T8WbayUPf7VPwAAAAAAAAAAAAAAAAAAAADQUYEvrn7wPwAAAAAAAAAAAAAAAAAAAAAWbayUPf7lPwAAAAAAAAAAAAAAAAAAAAAAAAAAAAAAABZtrJQ9/tU/Fm2slD3+5T8WbayUPf7VPxZtrJQ9/tU/Fm2slD3+1T8AAAAAAAAAAAAAAAAAAAAAAAAAAAAAAAAWbayUPf7VPxZtrJQ9/uU/ohjMCJLeEUDQUYEvrn7wPxZtrJQ9/tU/Fm2slD3+1T/QUYEvrn7wPwAAAAAAAAAAFm2slD3+5T8WbayUPf7VPxZtrJQ9/tU/Fm2slD3+5T8WbayUPf7VPxZtrJQ9/uU/AAAAAAAAAAAWbayUPf7VPxZtrJQ9/tU/AAAAAAAAAAAWbayUPf7lPxZtrJQ9/tU/Fm2slD3+5T8WbayUPf7VPwAAAAAAAAAAFm2slD3+5T8WbayUPf7lPxZtrJQ9/tU/Fm2slD3+1T8AAAAAAAAAABZtrJQ9/tU/Fm2slD3+1T8AAAAAAAAAAAAAAAAAAAAAFm2slD3+5T8WbayUPf7VP9BRgS+ufvA/Fm2slD3+9T8WbayUPf7VPxZtrJQ9/tU/Fm2slD3+1T8WbayUPf7VPxZtrJQ9/tU/Fm2slD3+1T8WbayUPf7lPxZtrJQ9/uU/AAAAAAAAAAAWbayUPf7lPxZtrJQ9/tU/Fm2slD3+1T8WbayUPf7VPxZtrJQ9/uU/Fm2slD3+1T8AAAAAAAAAAAAAAAAAAAAAFm2slD3+1T8WbayUPf7lPxZtrJQ9/uU/Fm2slD3+1T8AAAAAAAAAABZtrJQ9/uU/Fm2slD3+1T8WbayUPf7VPwAAAAAAAAAAFm2slD3+5T/+FW2slD0OQFyI1/nMffs/dN8W4nU+A0AWbayUPf7lPxZtrJQ9/vU/Fm2slD3+BUBciNf5zH37P9BRgS+ufvA/0FGBL65+8D8AAAAAAAAAANBRgS+ufvA/Fm2slD3+5T8WbayUPf7VPxZtrJQ9/tU/AAAAAAAAAAAWbayUPf7VPxZtrJQ9/tU/Fm2slD3+5T8WbayUPf7VPxZtrJQ9/tU/Fm2slD3+9T8WbayUPf7lP9BRgS+ufvA/Fm2slD3+1T8WbayUPf7VPxZtrJQ9/uU/Fm2slD3+9T/QUYEvrn7wPwAAAAAAAAAAFm2slD3+1T8WbayUPf71PxZtrJQ9/tU/Fm2slD3+5T8WbayUPf7VPwAAAAAAAAAA0FGBL65+8D8WbayUPf7VPxZtrJQ9/tU/Fm2slD3+5T8WbayUPf71PxZtrJQ9/uU/0FGBL65+8D8WbayUPf7VP9BRgS+ufvA/Fm2slD3+1T8WbayUPf7VPxZtrJQ9/tU/Fm2slD3+1T/QUYEvrn7wPxZtrJQ9/vU/Fm2slD3+5T8WbayUPf7lPxZtrJQ9/uU/Fm2slD3+5T8WbayUPf7VPxZtrJQ9/tU/AAAAAAAAAADQUYEvrn7wPxZtrJQ9/tU/0FGBL65+8D9EpmG7WZ4UQBZtrJQ9/gVAXIjX+cx9+z903xbidT4DQNBRgS+ufvA/Fm2slD3+9T8WbayUPf7lPxZtrJQ9/uU/0FGBL65+8D8WbayUPf71PwAAAAAAAAAA0FGBL65+8D8WbayUPf7lPxZtrJQ9/tU/Fm2slD3+9T/QUYEvrn7wPxZtrJQ9/tU/Fm2slD3+1T/QUYEvrn7wP9BRgS+ufvA/AAAAAAAAAAAWbayUPf7lPxZtrJQ9/uU/Fm2slD3+9T8AAAAAAAAAABZtrJQ9/uU/XIjX+cx9+z8WbayUPf71P1yI1/nMffs/Fm2slD3+1T8WbayUPf7lP7n6QUcFvghAXIjX+cx9+z/QUYEvrn4AQNBRgS+ufvA/Fm2slD3+9T8WbayUPf7lP3TfFuJ1PgNAXIjX+cx9+z/QUYEvrn4AQBZtrJQ9/tU/XIjX+cx9+z8WbayUPf7VPxZtrJQ9/vU/Fm2slD3+9T/QUYEvrn7wP1yI1/nMffs/Fm2slD3+5T8WbayUPf71PxZtrJQ9/tU/0FGBL65+8D/QUYEvrn7wPwAAAAAAAAAAFm2slD3+5T8AAAAAAAAAAAAAAAAAAAAAFm2slD3+5T8WbayUPf7VPwAAAAAAAAAAFm2slD3+5T8WbayUPf7lP1yI1/nMfRtARKZhu1meFEDQUYEvrn4AQHTfFuJ1PgNAFm2slD3+BUBciNf5zH0LQFyI1/nMfQtAdN8W4nU+A0BciNf5zH37PxZtrJQ9/vU/Fm2slD3+BUBciNf5zH37PxZtrJQ9/uU/Fm2slD3+5T8WbayUPf71P1yI1/nMfQtAufpBRwW+CEAWbayUPf4FQBZtrJQ9/uU/Fm2slD3+9T903xbidT4DQNBRgS+ufvA/Fm2slD3+9T9ciNf5zH37PxZtrJQ9/uU/0FGBL65+8D8WbayUPf7VP9BRgS+ufgBAdN8W4nU+A0AWbayUPf71P1yI1/nMfQtAXIjX+cx9+z8WbayUPf71P1yI1/nMffs/Fm2slD3+9T/QUYEvrn7wPxZtrJQ9/tU/Fm2slD3+9T8AAAAAAAAAANBRgS+ufvA/0FGBL65+8D9ciNf5zH0LQNBRgS+ufvA/0FGBL65+8D8WbayUPf7VP9BRgS+ufgBAXIjX+cx9+z8WbayUPf71PxZtrJQ9/uU/Fm2slD3+5T8WbayUPf71PxZtrJQ9/uU/0FGBL65+8D/QUYEvrn7wP9BRgS+ufvA/Fm2slD3+9T/QUYEvrn7wPxZtrJQ9/vU/Fm2slD3+9T/QUYEvrn7wPxZtrJQ9/hVA/hVtrJQ9DkAWbayUPf71PxZtrJQ9/gVAufpBRwW+CEBciNf5zH37P3TfFuJ1PgNA0FGBL65+AEAWbayUPf71P9BRgS+ufgBAFm2slD3+5T/QUYEvrn4AQFyI1/nMffs/Fm2slD3+5T/QUYEvrn7wPxZtrJQ9/vU//hVtrJQ9DkDQUYEvrn4AQFyI1/nMffs/Fm2slD3+5T8WbayUPf7lP3TfFuJ1PgNA0FGBL65+AEDQUYEvrn7wP1yI1/nMffs/Fm2slD3+9T9ciNf5zH37P1yI1/nMfQtA0FGBL65+AEAWbayUPf7lP9BRgS+ufgBAufpBRwW+GECiGMwIkt4RQP4VbayUPQ5AdN8W4nU+A0C5+kFHBb4IQFyI1/nMffs/Fm2slD3+BUC5+kFHBb4IQBZtrJQ9/vU/ufpBRwW+CEBciNf5zH0LQHTfFuJ1PgNAFm2slD3+5T9ciNf5zH37PxZtrJQ9/uU/Fm2slD3+BUDQUYEvrn7wPxZtrJQ9/gVAFm2slD3+9T/QUYEvrn4AQP4VbayUPQ5A0FGBL65+8D/QUYEvrn7wPxZtrJQ9/tU/Fm2slD3+9T8WbayUPf71P9BRgS+ufgBAdN8W4nU+A0AWbayUPf7lP1yI1/nMffs/0FGBL65+IEAsTyLTsN0cQOcz920hXhdA/hVtrJQ9DkCiGMwIkt4RQLn6QUcFvhhAXIjX+cx9G0D+FW2slD0OQHTfFuJ1PgNAXIjX+cx9C0CiGMwIkt4RQNBRgS+ufgBA/hVtrJQ9DkBciNf5zH37P9BRgS+ufgBAufpBRwW+CED+FW2slD0OQNBRgS+ufgBAufpBRwW+CECiGMwIkt4RQLn6QUcFvghAdN8W4nU+E0B03xbidT4DQBZtrJQ9/vU/0FGBL65+AECiGMwIkt4RQFyI1/nMffs/0FGBL65+AED+FW2slD0OQBZtrJQ9/vU/ufpBRwW+CEBciNf5zH37PxZtrJQ9/gVA/hVtrJQ9DkB03xbidT4DQNBRgS+ufgBA0FGBL65+8D/QUYEvrn4AQNBRgS+ufvA/dN8W4nU+A0C5+kFHBb4IQLn6QUcFvghAdN8W4nU+A0B03xbidT4DQFyI1/nMffs/ufpBRwW+CEDQUYEvrn4AQHTfFuJ1PgNAdN8W4nU+A0DQUYEvrn4AQHTfFuJ1PgNAdN8W4nU+A0AWbayUPf71PxZtrJQ9/vU/Fm2slD3+9T/QUYEvrn4AQHTfFuJ1PgNAdN8W4nU+A0DQUYEvrn4AQLn6QUcFvghAObUmHKAuIUC5+kFHBb4YQHTfFuJ1PhNARKZhu1meFECLwYwg6R0aQESmYbtZnhRARKZhu1meFEB03xbidT4TQFyI1/nMfQtARKZhu1meFEBciNf5zH0LQNBRgS+ufhBAXIjX+cx9C0DQUYEvrn4AQFyI1/nMfQtAXIjX+cx9C0BciNf5zH0LQKIYzAiS3hFA0FGBL65+EED+FW2slD0OQNBRgS+ufhBAufpBRwW+CEBEpmG7WZ4UQP4VbayUPQ5AohjMCJLeEUBciNf5zH0LQP4VbayUPQ5AXIjX+cx9C0B03xbidT4TQLn6QUcFvghA0FGBL65+AECiGMwIkt4hQHTfFuJ1PiNAz9y3hXidH0C5+kFHBb4YQK0JB6hLTiVAufpBRwW+GEC5+kFHBb4IQESmYbtZnhRAXIjX+cx9C0DQUYEvrn4QQDm1JhygLiFA5zP3bSFeF0BEpmG7WZ4UQBZtrJQ9/gVA/hVtrJQ9DkBEpmG7WZ4UQLn6QUcFvghA0FGBL65+EEB03xbidT4TQLn6QUcFvghAXIjX+cx9C0C5+kFHBb4YQFyI1/nMfQtAFm2slD3+BUDQUYEvrn4QQBZtrJQ9/gVAXIjX+cx9C0C5+kFHBb4IQHTfFuJ1PgNAFm2slD3+FUDQUYEvrn4gQAt8cfWDjiJA0FGBL65+IECLwYwg6R0aQP4VbayUPR5AohjMCJLeIUB03xbidT4jQP4VbayUPR5AufpBRwW+CEDQUYEvrn4gQLn6QUcFvhhA0FGBL65+IED+FW2slD0eQOcz920hXhdAohjMCJLeEUAWbayUPf4VQP4VbayUPR5AXIjX+cx9G0B03xbidT4TQOcz920hXhdAz9y3hXidH0B03xbidT4TQCxPItOw3RxAi8GMIOkdGkBciNf5zH0bQBZtrJQ9/hVA5zP3bSFeF0CiGMwIkt4RQHTfFuJ1PhNA/hVtrJQ9DkC5+kFHBb4YQESmYbtZnhRAFm2slD3+FUBEpmG7WZ4UQHTfFuJ1PhNAFm2slD3+FUAWbayUPf4VQCxPItOw3RxA/hVtrJQ9DkDnM/dtIV4XQESmYbtZnhRALE8i07DdHEBciNf5zH0bQNBRgS+ufhBAufpBRwW+GECLwYwg6R0aQKIYzAiS3hFAdN8W4nU+E0D+FW2slD0OQKIYzAiS3hFA5zP3bSFeF0B03xbidT4TQOcz920hXhdAohjMCJLeEUC5+kFHBb4IQKIYzAiS3hFAFm2slD3+BUD+FW2slD0OQOcz920hXhdALE8i07DdHEBQl5xaEw4oQDm1JhygLjFAi8GMIOkdKkB03xbidT4jQK0JB6hLTiVA0FGBL65+MECtCQeoS04lQNxCvM5n7iNAf9BRgS+uJkBQl5xaEw4oQH/QUYEvriZArQkHqEtOJUAhXucz920pQK0JB6hLTiVAObUmHKAuIUDcQrzOZ+4jQNBRgS+ufiBAufpBRwW+KECiGMwIkt4hQKIYzAiS3iFAufpBRwW+KEDQUYEvrn4gQNxCvM5n7iNA0FGBL65+IEAsTyLTsN0cQESmYbtZniRA5zP3bSFeF0AWbayUPf4lQOcz920hXidA/hVtrJQ9HkDnM/dtIV4nQBZtrJQ9/jVAC3xx9YOOMkBneRKZhu0uQJayx7+ijS1AC3xx9YOOIkBneRKZhu0uQFCXnFoTDihAi8GMIOkdKkCtCQeoS04lQJayx7+ijS1AUJecWhMOKEC5+kFHBb4oQNxCvM5n7iNAObUmHKAuMUB03xbidT4jQFCXnFoTDihAi8GMIOkdKkDcQrzOZ+4jQNxCvM5n7iNALE8i07DdHECLwYwg6R0qQCFe5zP3bSlAFm2slD3+JUDcQrzOZ+4jQOcz920hXidAUJecWhMOKEALfHH1g44iQNBRgS+ufiBAC3xx9YOOIkBEpmG7WZ4kQO1meRKZhjFAkPQOxWBGNEDE63zmvi0sQKIYzAiS3jFAIV7nM/dtKUBQl5xaEw4oQJayx7+ijS1A7WZ5EpmGMUDtZnkSmYYxQCFe5zP3bSlA3EK8zmfuM0AcoC45tSYwQCxPItOw3SxAxOt85r4tLEAsTyLTsN0sQFyI1/nMfStAObUmHKAuMUAhXucz920pQLn6QUcFvihAIV7nM/dtKUC5+kFHBb4oQJayx7+ijS1AFm2slD3+JUB/0FGBL64mQBZtrJQ9/iVA7WZ5EpmGMUBciNf5zH0rQIUD1CWn1jBA8yQyDdvNKkD+FW2slD0uQDm1JhygLjFAlrLHv6KNLUCWsse/oo0tQDm1JhygLjFA5zP3bSFeJ0DQUYEvrn4wQLn6QUcFvihAi8GMIOkdKkBneRKZhu0uQFCXnFoTDihA/hVtrJQ9LkBciNf5zH0rQESmYbtZniRA3EK8zmfuI0CtCQeoS04lQFbKHv+KNjJA0FGBL65+MEAWbayUPf4lQKIYzAiS3iFAXIjX+cx9K0CFA9Qlp9YwQLn6QUcFvihAXIjX+cx9K0DE63zmvi0sQMTrfOa+LSxArQkHqEtOJUDnM/dtIV4nQLn6QUcFvihAxOt85r4tLEDzJDIN280qQK0JB6hLTiVAfHH1g44KQkAcoC45tSZAQBygLjm1JkBALE8i07DdPEAQOirwxdU7QD9z3xbidTpA0FGBL65+QECWsse/oo09QLPHv6KNlT5AGytlj39FP0DQUYEvrn5AQG2slD3+FTlA8yQyDdvNOkCzx7+ijZU+QBMOUJecWkFA/hVtrJQ9PkATDlCXnFpBQGd5EpmG7T5A8yQyDdvNOkD+FW2slD0+QD9z3xbidTpALE8i07DdPEBciNf5zH07QIvBjCDpHTpAxOt85r4tPEAcoC45tSZAQLPHv6KNlT5A8yQyDdvNOkBfXP2gowJBQPb4V7SxUkBAMSNIeodiQkCDjgp8cfU/QGpNOEBdckRAX1z9oKMCQUD2+Fe0sVJAQOIAdcmpNT1AKJFp2G6WQ0AcoC45tSZAQAt8cfWDjkJAlrLHv6KNPUD+FW2slD0+QIUD1CWn1kBA9vhXtLFSQEDVDzoq8MU5QBygLjm1JkBAhQPUJafWQEBfXP2gowJBQIUD1CWn1kBAg44KfHH1P0DP3LeFeJ0/QNUPOirwxTlAlrLHv6KNPUCWsse/oo09QF9c/aCjAkFAs8e/oo2VPkDIv6KNlbJBQIUD1CWn1kBAHKAuObUmQED2+Fe0sVJAQPb4V7SxUkBAP3PfFuJ1OkAsTyLTsN08QOIAdcmpNT1AZ3kSmYbtPkDl1JpwgLpCQGd5EpmG7T5AyL+ijZWyQUAbK2WPf0U/QCxPItOw3TxAGytlj39FP0CiGMwIkt5BQMi/oo2VskFAz9y3hXidP0BneRKZhu0+QNBRgS+ufkBAxOt85r4tPED2+Fe0sVJAQLPHv6KNlT5Az9y3hXidP0AsTyLTsN08QKqqqqqqqkBAEw5Ql5xaQUDQUYEvrn5AQARJ71AMZjhAHKAuObUmQEATDlCXnFpBQEpkGrab5T1AlrLHv6KNPUC/LcTrfOZCQMi/oo2VskFAEw5Ql5xaQUDl1JpwgLpCQPb4V7SxUkBAMSNIeodiQkDP3LeFeJ0/QBA6KvDF1TtAkPQOxWBGREDtZnkSmYZBQLPHv6KNlT5A9vhXtLFSQEAsTyLTsN08QCiRadhulkNAX1z9oKMCQUC/LcTrfOZCQLPHv6KNlT5AX1z9oKMCQUBfXP2gowJBQAt8cfWDjkJA8yQyDdvNOkDIv6KNlbJBQJayx7+ijT1AHKAuObUmQEDVDzoq8MU5QIvBjCDpHTpAs8e/oo2VPkBWyh7/ijZCQDm1JhygLkFAp9aEA9QlO0CFA9Qlp9ZAQFbKHv+KNkJAYrtZnkSmNUB8cfWDjgpSQPUOxWBGkFVARKZhu1meVEAzgqR3KAZXQMse/4o2VlZAyx7/ijZWVkAzgqR3KAZXQBIkvUMxmFZA07DdLE8iVUBU4IurH3RXQLab5UlkGlRAEiS9QzGYVkAESe9QDGZYQARJ71AMZlhAOMuTyDRsVkCpwBdXP+hVQDjLk8g0bFZApXcoBjOCVkDj6gcdFfhXQHY+c98W4ldAxtUPOirwVkBZKXv8K9pWQA3bzfIkMldAufpBRwW+WECb5UlkGrZXQM9n7ttCvFVAm+VJZBq2V0AIkt6hGMxXQAAAAAAAAFlAjKsfdFTgVEBS9vhXtLFMQIUD1CWn1lBAgLrk1JpwUUB03xbidT5TQIyrH3RU4FRAfHH1g44KUkAf/4o2VspUQLvk1JpwgFNApXcoBjOCVkAN283yJDJXQL8txOt85lJAb5YnkWnYU0A8FIMZQdJVQKV3KAYzglZAqcAXVz/oVUBJ71AMZgRUQPUOxWBGkFVAeodiMCNIV0CQ9A7FYEZUQGpNOEBdclRAjKsfdFTgVEB/0FGBL65WQARJ71AMZlhAwYwg6R2KV0BZKXv8K9pWQNf5zH1biFRAk1NrwgHqWECTU2vCAepYQH/QUYEvrlZA+Ve0sVL2VEDeoRjMCJJIQBA6KvDF1UtAZ3kSmYbtTkDMCJLeoRhRQHxx9YOOClJApmG7WZ5EUUD1g44KfHFPQHxx9YOOClJAC3xx9YOOUkB8cfWDjgpSQPKvaGOl7FBAEw5Ql5xaUUB8cfWDjgpSQAczgqR3KFNAMSNIeodiUkCiGMwIkt5RQF9c/aCjAlFA+Ve0sVL2VEAC6pJTa8JTQCNIeodiMFRATjhAXXJqU0DIv6KNlbJRQNxCvM5n7lNAGrab5UlkVUBSgS+uftBSQOXUmnCAulJA07DdLE8iVUC2m+VJZBpUQLJS9vhXtFRAjKsfdFTgVEBneRKZhu1OQP2gowJfXFRAC3xx9YOOUkBfXP2gowJRQEBdcmpNOFVAohjMCJLeUUAxI0h6h2JSQG+WJ5Fp2FNAslL2+Fe0VEBSgS+uftBSQDwUgxlB0lVAslL2+Fe0VEAokWnYbpZTQNf5zH1biFRAh2IwI0h6VUAHM4KkdyhTQESmYbtZnlRAAuqSU2vCU0DTsN0sTyJVQMGMIOkdildAu+TUmnCAU0AokWnYbpZTQESmYbtZnlRAh2IwI0h6VUDPZ+7bQrxVQNOw3SxPIlVARKZhu1meVEA4y5PINGxWQHgoBjOCpFJANWw3y5PIUUAcoC45tSZAQIvBjCDpHUpAgS+uftBRS0AkvUMxmBFOQGUatpvlSUpAvFmeRKZhTUAsTyLTsN1MQKfWhAPUJUtA2G6WJ5FpTkDQUYEvrn5QQGd5EpmG7U5ApmG7WZ5EUUDyr2hjpexQQPWDjgp8cU9AiUzDdrM8UEDQUYEvrn5QQKk14QB1yU9AcAvxOp+5TUCDjgp8cfVPQPKvaGOl7FBAr/OZ+7YQUEBfXP2gowJRQLPHv6KNlU5AVsoe/4o2UkD2+Fe0sVJQQIlMw3azPFBA9YOOCnxxT0BB0jsUgxlPQGOl7PGvaFBAUvb4V7SxTEAbK2WPf0VPQKIYzAiS3kFA3EK8zmfuQ0C5+kFHBb5IQD9z3xbidUpAeJ3P3LeFTEDzJDIN281KQPMkMg3bzUpALE8i07DdTEDqklNrwgFMQP4VbayUPU5ASmQatpvlTUCv85n7thBQQEpkGrab5U1AZ3kSmYbtTkAXVz/oqMBQQLxZnkSmYU1Az9y3hXidT0BciNf5zH1LQHxx9YOOClJAqqqqqqqqUEDYbpYnkWlOQLxZnkSmYU1AGytlj39FT0AbK2WPf0VPQPb4V7SxUlBASmQatpvlTUBneRKZhu1OQP4VbayUPU5A8q9oY6XsUECNIOkdisFOQNBRgS+ufkBAM4KkdygGR0A8FIMZQdJFQNUPOirwxUlADdvN8iQyR0BqTThAXXJEQN6hGMwIkkhAKvDF1Q86SEBtrJQ9/hVJQEpkGrab5U1AufpBRwW+SEBlGrab5UlKQIvBjCDpHUpAgS+uftBRS0DqklNrwgFMQHidz9y3hUxAUvb4V7SxTEBciNf5zH1LQLxZnkSmYU1AcAvxOp+5TUCLwYwg6R1KQMTrfOa+LUxAxOt85r4tTEBB0jsUgxlPQOIAdcmpNU1Ap9aEA9QlS0DqklNrwgFMQHAL8TqfuU1A6pJTa8IBTEAkvUMxmBFOQKV3KAYzgkZAM4KkdygGR0DNfVuI1/lKQPMkMg3bzUpA+7YQr/OZSUBHBb64+kFJQFL2+Fe0sUxA/hVtrJQ9TkAIqEtOrQlNQKZhu1meRFFAwYwg6R2KR0DVDzoq8MVJQI0g6R2KwU5AQdI7FIMZT0D1g44KfHFPQFL2+Fe0sUxAGcwIkt6hSkDP3LeFeJ1PQEHSOxSDGU9AgS+uftBRS0Czx7+ijZVOQBsrZY9/RU9AHKAuObUmUED+FW2slD1OQNhulieRaU5AP3PfFuJ1SkCWsse/oo1NQBdXP+iowFBASmQatpvlTUCxaGOl7PFJQPlXtLFS9jRABEnvUAxmOED2+Fe0sVJAQBygLjm1JkBAfHH1g44KQkCWsse/oo09QDm1JhygLkFAHKAuObUmQECFA9Qlp9ZAQBA6KvDF1TtAGytlj39FP0DVDzoq8MU5QBsrZY9/RT9ASmQatpvlPUCzx7+ijZU+QJayx7+ijT1Ag44KfHH1P0CWsse/oo09QBsrZY9/RT9ASmQatpvlPUAQOirwxdU7QJayx7+ijT1A0FGBL65+QEDE63zmvi08QGd5EpmG7T5AZ3kSmYbtPkAbK2WPf0U/QMTrfOa+LTxAEDoq8MXVO0Czx7+ijZU+QKqqqqqqqkBAz9y3hXidP0CqqqqqqqpAQBsrZY9/RT9AEw5Ql5xaQUB4nc/ct4U8QHxx9YOOCkJALE8i07DdPEDP3LeFeJ0/QFyI1/nMfTtAxOt85r4tPEAbK2WPf0U/QIOOCnxx9T9A0FGBL65+QEBfXP2gowJBQM/ct4V4nT9AqqqqqqqqQEDiAHXJqTU9QM/ct4V4nT9AEDoq8MXVO0ATDlCXnFpBQHTfFuJ1PkNAX1z9oKMCQUDzJDIN2806QPMkMg3bzTpAp9aEA9QlO0ALfHH1g45CQBA6KvDF1TtAXIjX+cx9O0D+FW2slD0+QIUD1CWn1kBAbayUPf4VOUAsTyLTsN08QO1meRKZhkFAEDoq8MXVO0DQUYEvrn5AQJayx7+ijT1AC3xx9YOOQkCqqqqqqqpAQBsrZY9/RT9A4gB1yak1PUCWsse/oo09QM/ct4V4nT9AMSNIeodiQkB8cfWDjgpCQM/ct4V4nT9Ag44KfHH1P0D2+Fe0sVJAQIOOCnxx9T9A/hVtrJQ9PkCqqqqqqqpAQF9c/aCjAkFAdN8W4nU+Q0DiAHXJqTU9QKIYzAiS3kFAObUmHKAuQUBneRKZhu0+QBA6KvDF1TtAEw5Ql5xaQUDzJDIN2806QPMkMg3bzTpAmYbtZnkSQ0DQUYEvrn5AQOXUmnCAukJAfHH1g44KQkDIv6KNlbJBQNxCvM5n7kNAg44KfHH1P0DiAHXJqTU9QDEjSHqHYkJALE8i07DdPEBOOEBdcmpDQJayx7+ijT1AX1z9oKMCQUC5+kFHBb44QGd5EpmG7T5AP3PfFuJ1OkAbK2WPf0U/QJayx7+ijT1A5dSacIC6QkA/c98W4nU6QFyI1/nMfTtASmQatpvlPUAcoC45tSZAQO1meRKZhkFAqqqqqqqqQEDIv6KNlbJBQDEjSHqHYkJAEDoq8MXVO0CqqqqqqqpAQIOOCnxx9T9ARKZhu1meNEBciNf5zH0rQBZtrJQ9/iVAf9BRgS+uJkBEpmG7WZ4kQESmYbtZniRA8yQyDdvNKkDnM/dtIV4nQOcz920hXidAf9BRgS+uJkAWbayUPf4lQCFe5zP3bSlAC3xx9YOOIkDcQrzOZ+4jQP4VbayUPR5AC3xx9YOOIkAWbayUPf4lQNBRgS+ufiBA5zP3bSFeJ0DP3LeFeJ0fQCxPItOw3RxArQkHqEtOJUBQl5xaEw4oQKIYzAiS3iFAObUmHKAuIUCtCQeoS04lQFCXnFoTDihAohjMCJLeIUBciNf5zH0bQFCXnFoTDihAIV7nM/dtKUDcQrzOZ+4zQHTfFuJ1PjNAz9y3hXidL0CLwYwg6R0qQFyI1/nMfStA0FGBL65+MEBQl5xaEw4oQBygLjm1JjBA5zP3bSFeJ0D+FW2slD0eQGd5EpmG7S5Af9BRgS+uJkB/0FGBL64mQKIYzAiS3iFAohjMCJLeIUCWsse/oo0tQHTfFuJ1PiNAC3xx9YOOIkDnM/dtIV4nQJayx7+ijS1A5zP3bSFeJ0ALfHH1g44iQBZtrJQ9/iVAUJecWhMOKEBEpmG7WZ4kQH/QUYEvriZA0FGBL65+IEB03xbidT4jQP4VbayUPR5AohjMCJLeIUC5+kFHBb4oQKIYzAiS3jFAM4KkdygGN0CiGMwIkt4xQCxPItOw3SxAlrLHv6KNLUDzJDIN280qQCxPItOw3SxA3EK8zmfuM0BciNf5zH0rQNBRgS+ufjBAi8GMIOkdKkCFA9Qlp9YwQP4VbayUPS5AObUmHKAuMUB03xbidT4zQIvBjCDpHSpA5zP3bSFeJ0D+FW2slD0uQP4VbayUPS5A5zP3bSFeJ0B/0FGBL64mQP4VbayUPS5AFm2slD3+JUDP3LeFeJ0vQMTrfOa+LSxAHKAuObUmMEDnM/dtIV4nQNxCvM5n7iNARKZhu1meJEDP3LeFeJ0vQBygLjm1JjBAxOt85r4tLEAcoC45tSYwQIvBjCDpHSpAhQPUJafWMEBciNf5zH0rQOcz920hXidAFm2slD3+JUB/0FGBL64mQIvBjCDpHSpAufpBRwW+KEC5+kFHBb4oQDm1JhygLjFAFm2slD3+JUBneRKZhu0uQJayx7+ijS1Ai8GMIOkdKkDP3LeFeJ0fQNxCvM5n7iNAHKAuObUmMEDP3LeFeJ0vQCFe5zP3bSlALE8i07DdLEBQl5xaEw4oQCFe5zP3bSlAf9BRgS+uJkCtCQeoS04lQCxPItOw3SxAxOt85r4tLECLwYwg6R0qQKIYzAiS3iFAFm2slD3+BUBciNf5zH0bQLn6QUcFvghAXIjX+cx9C0CiGMwIkt4RQNBRgS+ufhBAXIjX+cx9C0B03xbidT4TQBZtrJQ9/gVA/hVtrJQ9DkC5+kFHBb4IQBZtrJQ9/hVAdN8W4nU+A0C5+kFHBb4IQP4VbayUPQ5AdN8W4nU+E0CiGMwIkt4RQLn6QUcFvghARKZhu1meFECiGMwIkt4RQBZtrJQ9/gVAFm2slD3+BUB03xbidT4DQBZtrJQ9/gVALE8i07DdHEB03xbidT4DQP4VbayUPQ5AFm2slD3+9T903xbidT4TQBZtrJQ9/iVAufpBRwW+GEAWbayUPf4VQOcz920hXhdAXIjX+cx9G0BEpmG7WZ4kQFyI1/nMfRtAFm2slD3+FUAWbayUPf4VQHTfFuJ1PhNA/hVtrJQ9HkBEpmG7WZ4UQKIYzAiS3hFAdN8W4nU+E0D+FW2slD0OQP4VbayUPQ5AufpBRwW+GECLwYwg6R0aQFyI1/nMfQtA/hVtrJQ9DkCiGMwIkt4RQP4VbayUPQ5AFm2slD3+BUBciNf5zH0LQBZtrJQ9/hVA0FGBL65+EEBciNf5zH37P/4VbayUPQ5AdN8W4nU+E0B03xbidT4TQK0JB6hLTiVAdN8W4nU+I0A5tSYcoC4hQNxCvM5n7iNAi8GMIOkdGkBQl5xaEw4oQFyI1/nMfRtAz9y3hXidH0CiGMwIkt4hQKIYzAiS3iFAXIjX+cx9G0CiGMwIkt4hQLn6QUcFvhhALE8i07DdHECLwYwg6R0aQFyI1/nMfRtA/hVtrJQ9HkB03xbidT4TQCxPItOw3RxAufpBRwW+CEDnM/dtIV4XQESmYbtZnhRAFm2slD3+FUDQUYEvrn4QQLn6QUcFvhhA5zP3bSFeF0CiGMwIkt4RQHTfFuJ1PhNA5zP3bSFeF0BciNf5zH0LQK0JB6hLTiVAXIjX+cx9C0C5+kFHBb4YQKIYzAiS3hFA5zP3bSFeF0CiGMwIkt4hQESmYbtZnhRAi8GMIOkdGkDQUYEvrn4QQNBRgS+ufhBAufpBRwW+GEC5+kFHBb4IQP4VbayUPQ5AdN8W4nU+E0CiGMwIkt4RQP4VbayUPQ5AohjMCJLeEUDQUYEvrn4QQM/ct4V4nR9A0FGBL65+EEC5+kFHBb4YQKIYzAiS3hFAi8GMIOkdGkD+FW2slD0OQKIYzAiS3hFAufpBRwW+GEAWbayUPf4VQFyI1/nMfQtAFm2slD3+FUCiGMwIkt4RQFyI1/nMfStA/hVtrJQ9DkCiGMwIkt4RQHTfFuJ1PgNAFm2slD3+BUBciNf5zH0LQBZtrJQ9/vU/dN8W4nU+A0B03xbidT4DQHTfFuJ1PgNA0FGBL65+8D8WbayUPf4FQBZtrJQ9/vU/0FGBL65+AEAWbayUPf7lPxZtrJQ9/vU/0FGBL65+AEAWbayUPf71P9BRgS+ufvA/dN8W4nU+A0AWbayUPf7lP9BRgS+ufgBAXIjX+cx9+z8WbayUPf7lP1yI1/nMffs/0FGBL65+AEC5+kFHBb4IQNBRgS+ufgBAFm2slD3+9T903xbidT4DQBZtrJQ9/gVA/hVtrJQ9HkCLwYwg6R0aQHTfFuJ1PhNAufpBRwW+CEAWbayUPf7lP7n6QUcFvghAufpBRwW+CEB03xbidT4DQBZtrJQ9/vU/Fm2slD3+9T903xbidT4DQFyI1/nMffs/Fm2slD3+BUAWbayUPf7VPxZtrJQ9/vU/0FGBL65+8D/QUYEvrn7wPxZtrJQ9/uU/ufpBRwW+CEB03xbidT4DQNBRgS+ufgBAFm2slD3+9T8WbayUPf71P3TfFuJ1PgNA0FGBL65+8D9ciNf5zH37PxZtrJQ9/uU/XIjX+cx9+z9ciNf5zH37P9BRgS+ufgBAohjMCJLeEUDQUYEvrn4QQOcz920hXhdAi8GMIOkdGkC5+kFHBb4IQBZtrJQ9/hVAXIjX+cx9+z9ciNf5zH0LQP4VbayUPQ5A0FGBL65+8D+5+kFHBb4IQNBRgS+ufhBAXIjX+cx9C0C5+kFHBb4IQBZtrJQ9/hVAohjMCJLeEUDQUYEvrn4QQNBRgS+ufgBAXIjX+cx9C0DQUYEvrn4AQHTfFuJ1PgNA0FGBL65+AEDQUYEvrn4QQFyI1/nMffs/ufpBRwW+CEC5+kFHBb4IQP4VbayUPQ5AXIjX+cx9+z/QUYEvrn4AQNBRgS+ufhBAohjMCJLeEUBciNf5zH0LQLn6QUcFvghAufpBRwW+CEC5+kFHBb4IQP4VbayUPQ5A/hVtrJQ9DkDQUYEvrn7wP3TfFuJ1PgNAdN8W4nU+A0B03xbidT4DQHTfFuJ1PgNA0FGBL65+AEAWbayUPf7lP7n6QUcFvghA0FGBL65+AEC5+kFHBb4IQFyI1/nMffs/XIjX+cx9C0DQUYEvrn4AQHTfFuJ1PgNA/hVtrJQ9DkAWbayUPf71PxZtrJQ9/vU/0FGBL65+8D8WbayUPf71P3TfFuJ1PgNA0FGBL65+8D903xbidT4DQLn6QUcFvghAXIjX+cx9G0B03xbidT4DQNBRgS+ufvA/Fm2slD3+5T8WbayUPf7lPxZtrJQ9/uU/Fm2slD3+5T8AAAAAAAAAANBRgS+ufvA/AAAAAAAAAADQUYEvrn7wP9BRgS+ufvA/Fm2slD3+5T8WbayUPf7lPxZtrJQ9/tU/AAAAAAAAAAAWbayUPf7VPxZtrJQ9/uU/AAAAAAAAAAAWbayUPf7VPwAAAAAAAAAAFm2slD3+5T8AAAAAAAAAABZtrJQ9/uU/Fm2slD3+1T8WbayUPf7VPwAAAAAAAAAAFm2slD3+1T/QUYEvrn7wPwAAAAAAAAAAAAAAAAAAAADQUYEvrn4QQFyI1/nMfQtA0FGBL65+AEB03xbidT4DQNBRgS+ufvA/0FGBL65+8D/QUYEvrn7wPxZtrJQ9/uU/Fm2slD3+5T8WbayUPf71PwAAAAAAAAAAFm2slD3+1T8WbayUPf7lPxZtrJQ9/tU/Fm2slD3+1T8WbayUPf71P1yI1/nMffs/0FGBL65+8D8WbayUPf71PwAAAAAAAAAAFm2slD3+5T8WbayUPf7VPxZtrJQ9/vU/Fm2slD3+5T/QUYEvrn7wP9BRgS+ufvA/0FGBL65+8D8WbayUPf7lPwAAAAAAAAAAFm2slD3+9T903xbidT4TQP4VbayUPQ5A/hVtrJQ9DkAWbayUPf71P9BRgS+ufgBA0FGBL65+EEB03xbidT4DQNBRgS+ufvA/Fm2slD3+9T9ciNf5zH37P3TfFuJ1PgNAdN8W4nU+A0AWbayUPf71P1yI1/nMffs/Fm2slD3+9T9ciNf5zH37PxZtrJQ9/uU/0FGBL65+8D8WbayUPf7VPxZtrJQ9/tU/dN8W4nU+A0BciNf5zH37PxZtrJQ9/tU/XIjX+cx9+z9ciNf5zH37PxZtrJQ9/uU/Fm2slD3+5T8WbayUPf7lP9BRgS+ufvA/XIjX+cx9+z/+FW2slD0OQNBRgS+ufgBAFm2slD3+9T9ciNf5zH37P1yI1/nMffs/dN8W4nU+A0DQUYEvrn7wPxZtrJQ9/tU/0FGBL65+AEDQUYEvrn7wPxZtrJQ9/uU/Fm2slD3+1T/QUYEvrn4AQBZtrJQ9/uU/AAAAAAAAAAB03xbidT4DQNBRgS+ufvA/Fm2slD3+9T8WbayUPf71PxZtrJQ9/uU/0FGBL65+8D8WbayUPf7lPxZtrJQ9/tU/Fm2slD3+5T8WbayUPf7lP9BRgS+ufvA/Fm2slD3+1T8WbayUPf7VP9BRgS+ufvA/Fm2slD3+BUBciNf5zH0bQBZtrJQ9/tU/Fm2slD3+9T/QUYEvrn7wPxZtrJQ9/uU/Fm2slD3+1T8WbayUPf7VPxZtrJQ9/tU/AAAAAAAAAAAAAAAAAAAAAAAAAAAAAAAAFm2slD3+1T8WbayUPf71PwAAAAAAAAAAAAAAAAAAAAAWbayUPf7lPxZtrJQ9/uU/Fm2slD3+1T8WbayUPf7VPwAAAAAAAAAA0FGBL65+8D/QUYEvrn7wPwAAAAAAAAAAFm2slD3+9T8WbayUPf7VPwAAAAAAAAAA0FGBL65+8D8WbayUPf7lP9BRgS+ufvA/Fm2slD3+5T8WbayUPf7VP1yI1/nMffs/0FGBL65+8D8AAAAAAAAAABZtrJQ9/vU/AAAAAAAAAADQUYEvrn7wP9BRgS+ufvA/Fm2slD3+5T8WbayUPf7lPxZtrJQ9/uU/Fm2slD3+5T8WbayUPf7lPxZtrJQ9/tU/AAAAAAAAAAAWbayUPf7lPxZtrJQ9/uU/Fm2slD3+1T8WbayUPf7lPxZtrJQ9/tU/Fm2slD3+1T/QUYEvrn7wPxZtrJQ9/uU/AAAAAAAAAAAAAAAAAAAAAAAAAAAAAAAAAAAAAAAAAAAAAAAAAAAAABZtrJQ9/tU/Fm2slD3+5T/QUYEvrn7wP1yI1/nMfQtAFm2slD3+BUAWbayUPf71PxZtrJQ9/uU/Fm2slD3+1T+5+kFHBb4IQBZtrJQ9/tU/Fm2slD3+9T/QUYEvrn7wP3TfFuJ1PgNA0FGBL65+8D8WbayUPf71PxZtrJQ9/tU/Fm2slD3+5T8WbayUPf71P9BRgS+ufvA/Fm2slD3+1T8WbayUPf71PwAAAAAAAAAAAAAAAAAAAAAWbayUPf7lPxZtrJQ9/uU/0FGBL65+8D8AAAAAAAAAAAAAAAAAAAAAAAAAAAAAAABciNf5zH37PxZtrJQ9/tU/Fm2slD3+5T/QUYEvrn7wPxZtrJQ9/vU/AAAAAAAAAAAWbayUPf7lPxZtrJQ9/tU/Fm2slD3+5T8WbayUPf7VPxZtrJQ9/tU/Fm2slD3+5T8WbayUPf7VPwAAAAAAAAAAAAAAAAAAAAAAAAAAAAAAABZtrJQ9/tU/0FGBL65+8D8WbayUPf7lPxZtrJQ9/tU/Fm2slD3+5T8WbayUPf7VPxZtrJQ9/uU/Fm2slD3+1T8WbayUPf7lPxZtrJQ9/uU/Fm2slD3+1T8WbayUPf7lPwAAAAAAAAAAAAAAAAAAAAAAAAAAAAAAABZtrJQ9/tU/Fm2slD3+5T9ciNf5zH37P6IYzAiS3iFAFm2slD3+5T8WbayUPf7VPxZtrJQ9/tU/AAAAAAAAAAAWbayUPf7VPxZtrJQ9/uU/Fm2slD3+5T8AAAAAAAAAAAAAAAAAAAAAAAAAAAAAAAAWbayUPf7lPxZtrJQ9/tU/AAAAAAAAAAAWbayUPf7VPwAAAAAAAAAAAAAAAAAAAAAAAAAAAAAAAAAAAAAAAAAAFm2slD3+1T8AAAAAAAAAABZtrJQ9/uU/AAAAAAAAAAAAAAAAAAAAABZtrJQ9/uU/AAAAAAAAAAAAAAAAAAAAAAAAAAAAAAAAFm2slD3+1T8WbayUPf7VPxZtrJQ9/tU/Fm2slD3+5T8WbayUPf71PwAAAAAAAAAAFm2slD3+1T8WbayUPf7VPxZtrJQ9/tU/AAAAAAAAAAAAAAAAAAAAAAAAAAAAAAAAFm2slD3+5T8WbayUPf7lPwAAAAAAAAAAFm2slD3+1T/QUYEvrn7wPwAAAAAAAAAAAAAAAAAAAAAWbayUPf7VPxZtrJQ9/tU/Fm2slD3+1T8WbayUPf7lPwAAAAAAAAAAAAAAAAAAAAAAAAAAAAAAAAAAAAAAAAAAAAAAAAAAAAAWbayUPf7VPxZtrJQ9/tU/Fm2slD3+1T8WbayUPf7VPxZtrJQ9/uU/ufpBRwW+CEDQUYEvrn4AQBZtrJQ9/vU/AAAAAAAAAAAWbayUPf7VPxZtrJQ9/uU/Fm2slD3+9T/QUYEvrn7wPwAAAAAAAAAAFm2slD3+5T8WbayUPf7lPxZtrJQ9/uU/Fm2slD3+1T8WbayUPf7VPwAAAAAAAAAA0FGBL65+8D8WbayUPf7VPxZtrJQ9/uU/Fm2slD3+9T8WbayUPf7VPxZtrJQ9/tU/0FGBL65+8D8WbayUPf7VP9BRgS+ufvA/AAAAAAAAAAAWbayUPf7VPxZtrJQ9/uU/Fm2slD3+1T8WbayUPf7VPxZtrJQ9/tU/Fm2slD3+1T8WbayUPf7VPwAAAAAAAAAAFm2slD3+1T/QUYEvrn7wPxZtrJQ9/tU/Fm2slD3+5T8WbayUPf7VPwAAAAAAAAAAFm2slD3+5T8AAAAAAAAAAAAAAAAAAAAAAAAAAAAAAAAAAAAAAAAAABZtrJQ9/tU/Fm2slD3+5T8WbayUPf7VPwAAAAAAAAAAFm2slD3+5T8WbayUPf7VPxZtrJQ9/tU/Fm2slD3+1T8WbayUPf7lPwAAAAAAAAAAAAAAAAAAAAAAAAAAAAAAABZtrJQ9/tU/0FGBL65+8D8WbayUPf7VP9BRgS+ufvA/5zP3bSFeF0AWbayUPf7VPxZtrJQ9/uU/AAAAAAAAAAAWbayUPf7VPxZtrJQ9/uU/Fm2slD3+5T8AAAAAAAAAAAAAAAAAAAAAFm2slD3+1T8WbayUPf7VPxZtrJQ9/uU/Fm2slD3+1T8WbayUPf7VPwAAAAAAAAAAAAAAAAAAAAAWbayUPf7VPxZtrJQ9/uU/AAAAAAAAAAAAAAAAAAAAABZtrJQ9/tU/AAAAAAAAAAAWbayUPf7VPwAAAAAAAAAAAAAAAAAAAAAWbayUPf7VPwAAAAAAAAAAAAAAAAAAAAAAAAAAAAAAAAAAAAAAAAAAAAAAAAAAAAAWbayUPf7VPxZtrJQ9/tU/AAAAAAAAAAAAAAAAAAAAAAAAAAAAAAAAAAAAAAAAAAAAAAAAAAAAABZtrJQ9/tU/Fm2slD3+1T8AAAAAAAAAAAAAAAAAAAAAFm2slD3+5T8AAAAAAAAAAAAAAAAAAAAAFm2slD3+1T8AAAAAAAAAAAAAAAAAAAAAAAAAAAAAAAAWbayUPf7VPwAAAAAAAAAAAAAAAAAAAAAAAAAAAAAAAAAAAAAAAAAAAAAAAAAAAAAAAAAAAAAAAAAAAAAAAAAAAAAAAAAAAAAAAAAAAAAAABZtrJQ9/tU/Fm2slD3+1T903xbidT4DQNBRgS+ufvA/Fm2slD3+5T8WbayUPf7VPxZtrJQ9/tU/Fm2slD3+5T8WbayUPf7lP9BRgS+ufvA/Fm2slD3+5T8WbayUPf7VPwAAAAAAAAAAFm2slD3+1T8WbayUPf7VPwAAAAAAAAAAAAAAAAAAAAAAAAAAAAAAAAAAAAAAAAAAFm2slD3+1T8AAAAAAAAAAAAAAAAAAAAAFm2slD3+5T8WbayUPf7VPxZtrJQ9/tU/Fm2slD3+1T8WbayUPf7VPwAAAAAAAAAAFm2slD3+1T8AAAAAAAAAABZtrJQ9/tU/Fm2slD3+5T8WbayUPf7VPxZtrJQ9/uU/AAAAAAAAAAAWbayUPf7VPwAAAAAAAAAAFm2slD3+1T8WbayUPf7VPxZtrJQ9/uU/Fm2slD3+1T8WbayUPf7lPwAAAAAAAAAAFm2slD3+1T8AAAAAAAAAAAAAAAAAAAAAFm2slD3+1T8WbayUPf7VPwAAAAAAAAAAAAAAAAAAAAAAAAAAAAAAAAAAAAAAAAAAAAAAAAAAAAAWbayUPf7VPwAAAAAAAAAAAAAAAAAAAAAAAAAAAAAAAAAAAAAAAAAAAAAAAAAAAAAWbayUPf7VPxZtrJQ9/uU/0FGBL65+8D/+FW2slD0OQFyI1/nMffs/Fm2slD3+1T8AAAAAAAAAAAAAAAAAAAAAAAAAAAAAAAAWbayUPf7VPxZtrJQ9/tU/AAAAAAAAAAAWbayUPf7VPwAAAAAAAAAAAAAAAAAAAAAAAAAAAAAAAAAAAAAAAAAAAAAAAAAAAAAAAAAAAAAAABZtrJQ9/tU/AAAAAAAAAAAAAAAAAAAAAAAAAAAAAAAAFm2slD3+1T8WbayUPf7VPwAAAAAAAAAAAAAAAAAAAAAAAAAAAAAAAAAAAAAAAAAAFm2slD3+1T8AAAAAAAAAAAAAAAAAAAAAFm2slD3+1T8AAAAAAAAAAAAAAAAAAAAAFm2slD3+5T8AAAAAAAAAAAAAAAAAAAAAAAAAAAAAAAAWbayUPf7lPxZtrJQ9/tU/AAAAAAAAAAAAAAAAAAAAAAAAAAAAAAAAAAAAAAAAAAAAAAAAAAAAAAAAAAAAAAAAAAAAAAAAAAAAAAAAAAAAAAAAAAAAAAAAAAAAAAAAAAAAAAAAAAAAABZtrJQ9/tU/Fm2slD3+1T8WbayUPf7VPwAAAAAAAAAAFm2slD3+1T8AAAAAAAAAABZtrJQ9/tU/AAAAAAAAAAAAAAAAAAAAAAAAAAAAAAAAAAAAAAAAAAAAAAAAAAAAAFyI1/nMffs/AAAAAAAAAAAAAAAAAAAAABZtrJQ9/tU/0FGBL65+8D8WbayUPf7lPxZtrJQ9/tU/Fm2slD3+1T8WbayUPf7VPxZtrJQ9/tU/Fm2slD3+1T8AAAAAAAAAABZtrJQ9/tU/AAAAAAAAAAAWbayUPf7VPxZtrJQ9/tU/Fm2slD3+1T8AAAAAAAAAAAAAAAAAAAAAAAAAAAAAAAAAAAAAAAAAAAAAAAAAAAAAFm2slD3+5T8AAAAAAAAAAAAAAAAAAAAAAAAAAAAAAAAAAAAAAAAAAAAAAAAAAAAAFm2slD3+1T8AAAAAAAAAABZtrJQ9/uU/Fm2slD3+5T8AAAAAAAAAAAAAAAAAAAAAAAAAAAAAAAAAAAAAAAAAABZtrJQ9/tU/Fm2slD3+5T8AAAAAAAAAABZtrJQ9/tU/AAAAAAAAAAAWbayUPf7VPwAAAAAAAAAAAAAAAAAAAAAAAAAAAAAAAAAAAAAAAAAAAAAAAAAAAAAAAAAAAAAAAAAAAAAAAAAAAAAAAAAAAAAAAAAAAAAAAAAAAAAAAAAAAAAAAAAAAAAAAAAAAAAAABZtrJQ9/tU/Fm2slD3+1T8AAAAAAAAAABZtrJQ9/tU/AAAAAAAAAAAWbayUPf7VP1yI1/nMfQtAAAAAAAAAAAAAAAAAAAAAAAAAAAAAAAAAAAAAAAAAAAAAAAAAAAAAAAAAAAAAAAAAAAAAAAAAAAAAAAAAAAAAAAAAAAAAAAAAAAAAAAAAAAAWbayUPf7lPwAAAAAAAAAAAAAAAAAAAAAAAAAAAAAAAAAAAAAAAAAAAAAAAAAAAAAAAAAAAAAAAAAAAAAAAAAAAAAAAAAAAAAAAAAAAAAAAAAAAAAAAAAAAAAAAAAAAAAAAAAAAAAAABZtrJQ9/tU/AAAAAAAAAAAAAAAAAAAAAAAAAAAAAAAAAAAAAAAAAAAAAAAAAAAAAAAAAAAAAAAAAAAAAAAAAAAAAAAAAAAAAAAAAAAAAAAAAAAAAAAAAAAWbayUPf7VPwAAAAAAAAAAAAAAAAAAAAAWbayUPf7VPwAAAAAAAAAAAAAAAAAAAAAAAAAAAAAAAAAAAAAAAAAAAAAAAAAAAAAAAAAAAAAAABZtrJQ9/tU/AAAAAAAAAAAAAAAAAAAAAAAAAAAAAAAAAAAAAAAAAAAAAAAAAAAAAAAAAAAAAAAA0FGBL65+8D8AAAAAAAAAABZtrJQ9/tU/AAAAAAAAAAAAAAAAAAAAAAAAAAAAAAAAAAAAAAAAAAAAAAAAAAAAAAAAAAAAAAAAdN8W4nU+A0AWbayUPf7lPwAAAAAAAAAAAAAAAAAAAAAAAAAAAAAAAAAAAAAAAAAAFm2slD3+1T8WbayUPf7VPwAAAAAAAAAAFm2slD3+1T8AAAAAAAAAABZtrJQ9/tU/AAAAAAAAAAAAAAAAAAAAABZtrJQ9/uU/AAAAAAAAAAAAAAAAAAAAAAAAAAAAAAAAFm2slD3+1T8WbayUPf7VPxZtrJQ9/uU/AAAAAAAAAAAAAAAAAAAAAAAAAAAAAAAAAAAAAAAAAAAWbayUPf7VPwAAAAAAAAAAAAAAAAAAAAAAAAAAAAAAAAAAAAAAAAAAFm2slD3+1T8AAAAAAAAAAAAAAAAAAAAAAAAAAAAAAAAAAAAAAAAAABZtrJQ9/tU/Fm2slD3+5T8AAAAAAAAAAAAAAAAAAAAAAAAAAAAAAAAAAAAAAAAAAAAAAAAAAAAAFm2slD3+1T8AAAAAAAAAAAAAAAAAAAAAFm2slD3+1T8AAAAAAAAAAAAAAAAAAAAAAAAAAAAAAAAAAAAAAAAAAAAAAAAAAAAAAAAAAAAAAAAAAAAAAAAAAAAAAAAAAAAAAAAAAAAAAAAWbayUPf7VPwAAAAAAAAAAAAAAAAAAAAAAAAAAAAAAABZtrJQ9/uU/XIjX+cx9C0AWbayUPf7lPwAAAAAAAAAAAAAAAAAAAAAAAAAAAAAAABZtrJQ9/tU/AAAAAAAAAAAAAAAAAAAAAAAAAAAAAAAAAAAAAAAAAAAAAAAAAAAAAAAAAAAAAAAAAAAAAAAAAAAAAAAAAAAAAAAAAAAAAAAAAAAAAAAAAAAAAAAAAAAAAAAAAAAAAAAAAAAAAAAAAAAAAAAAAAAAAAAAAAAAAAAAAAAAAAAAAAAAAAAAAAAAAAAAAAAAAAAAFm2slD3+1T8AAAAAAAAAAAAAAAAAAAAAAAAAAAAAAAAAAAAAAAAAAAAAAAAAAAAAAAAAAAAAAAAAAAAAAAAAAAAAAAAAAAAAAAAAAAAAAAAAAAAAAAAAAAAAAAAAAAAAFm2slD3+1T8AAAAAAAAAAAAAAAAAAAAAAAAAAAAAAAAAAAAAAAAAAAAAAAAAAAAAFm2slD3+1T8WbayUPf7VPwAAAAAAAAAAAAAAAAAAAAAAAAAAAAAAAAAAAAAAAAAAAAAAAAAAAAAAAAAAAAAAAAAAAAAAAAAAAAAAAAAAAAAAAAAAAAAAAAAAAAAAAAAAAAAAAAAAAAAAAAAAAAAAAAAAAAAAAAAAAAAAAAAAAAAAAAAAAAAAAAAAAAAAAAAAAAAAAAAAAADQUYEvrn7wPwAAAAAAAAAAFm2slD3+5T8WbayUPf7VPwAAAAAAAAAA0FGBL65+8D8WbayUPf7VPxZtrJQ9/tU/AAAAAAAAAAAWbayUPf7VPxZtrJQ9/tU/Fm2slD3+5T8AAAAAAAAAAAAAAAAAAAAAAAAAAAAAAAAAAAAAAAAAABZtrJQ9/tU/Fm2slD3+1T8AAAAAAAAAAAAAAAAAAAAAAAAAAAAAAAAAAAAAAAAAAAAAAAAAAAAAAAAAAAAAAAAWbayUPf7VPxZtrJQ9/tU/AAAAAAAAAAAWbayUPf7VPwAAAAAAAAAAAAAAAAAAAAAAAAAAAAAAAAAAAAAAAAAAAAAAAAAAAAAAAAAAAAAAAAAAAAAAAAAAAAAAAAAAAAAAAAAAAAAAAAAAAAAAAAAAAAAAAAAAAAAWbayUPf7VPxZtrJQ9/tU/Fm2slD3+1T8AAAAAAAAAAAAAAAAAAAAAAAAAAAAAAAAAAAAAAAAAAAAAAAAAAAAAAAAAAAAAAAAWbayUPf7VPwAAAAAAAAAAAAAAAAAAAAAAAAAAAAAAAAAAAAAAAAAAAAAAAAAAAAAAAAAAAAAAABZtrJQ9/tU/AAAAAAAAAAAWbayUPf7VPwAAAAAAAAAAAAAAAAAAAAAWbayUPf71PwAAAAAAAAAAAAAAAAAAAAAAAAAAAAAAAAAAAAAAAAAAAAAAAAAAAAAAAAAAAAAAAAAAAAAAAAAAAAAAAAAAAAAAAAAAAAAAAAAAAAAAAAAAAAAAAAAAAAAWbayUPf7VPwAAAAAAAAAAAAAAAAAAAAAAAAAAAAAAAAAAAAAAAAAAAAAAAAAAAAAAAAAAAAAAABZtrJQ9/tU/AAAAAAAAAAAAAAAAAAAAAAAAAAAAAAAAAAAAAAAAAAAAAAAAAAAAAAAAAAAAAAAAFm2slD3+1T8AAAAAAAAAAAAAAAAAAAAAFm2slD3+1T8AAAAAAAAAAAAAAAAAAAAAAAAAAAAAAAAAAAAAAAAAAAAAAAAAAAAAAAAAAAAAAAAAAAAAAAAAAAAAAAAAAAAAAAAAAAAAAAAAAAAAAAAAAAAAAAAAAAAAAAAAAAAAAAAAAAAAAAAAAAAAAAAAAAAAAAAAAAAAAAAAAAAAAAAAABZtrJQ9/tU/AAAAAAAAAAAAAAAAAAAAABZtrJQ9/tU/AAAAAAAAAAAAAAAAAAAAAAAAAAAAAAAAAAAAAAAAAAAAAAAAAAAAAAAAAAAAAAAAAAAAAAAAAAAAAAAAAAAAAAAAAAAAAAAAAAAAAAAAAAAWbayUPf7lP9BRgS+ufgBAFm2slD3+1T8AAAAAAAAAAAAAAAAAAAAAFm2slD3+5T8AAAAAAAAAABZtrJQ9/tU/AAAAAAAAAAAAAAAAAAAAAAAAAAAAAAAAAAAAAAAAAAAWbayUPf7VPwAAAAAAAAAAAAAAAAAAAAAWbayUPf7VPxZtrJQ9/tU/AAAAAAAAAAAAAAAAAAAAAAAAAAAAAAAAAAAAAAAAAAAAAAAAAAAAAAAAAAAAAAAAAAAAAAAAAAAAAAAAAAAAAAAAAAAAAAAAAAAAAAAAAAAAAAAAAAAAAAAAAAAAAAAAAAAAAAAAAAAAAAAAAAAAAAAAAAAAAAAAAAAAAAAAAAAAAAAAAAAAAAAAAAAAAAAAAAAAAAAAAAAAAAAAAAAAAAAAAAAAAAAAAAAAAAAAAAAAAAAAAAAAAAAAAAAAAAAAAAAAAAAAAAAAAAAAAAAAABZtrJQ9/tU/AAAAAAAAAAAAAAAAAAAAAAAAAAAAAAAAAAAAAAAAAAAAAAAAAAAAAAAAAAAAAAAAAAAAAAAAAAAAAAAAAAAAAAAAAAAAAAAAAAAAAAAAAAAAAAAAAAAAABZtrJQ9/tU/AAAAAAAAAAAAAAAAAAAAAAAAAAAAAAAAAAAAAAAAAAAWbayUPf7VP1yI1/nMffs/AAAAAAAAAAAAAAAAAAAAAAAAAAAAAAAAAAAAAAAAAAAAAAAAAAAAAAAAAAAAAAAAFm2slD3+1T8AAAAAAAAAAAAAAAAAAAAAAAAAAAAAAAAAAAAAAAAAAAAAAAAAAAAAAAAAAAAAAAAAAAAAAAAAABZtrJQ9/tU/AAAAAAAAAAAAAAAAAAAAAAAAAAAAAAAAAAAAAAAAAAAAAAAAAAAAAAAAAAAAAAAAAAAAAAAAAAAAAAAAAAAAAAAAAAAAAAAAAAAAAAAAAAAAAAAAAAAAAAAAAAAAAAAAAAAAAAAAAAAAAAAAAAAAAAAAAAAAAAAAAAAAAAAAAAAWbayUPf7VPwAAAAAAAAAAFm2slD3+1T8AAAAAAAAAAAAAAAAAAAAAAAAAAAAAAAAAAAAAAAAAAAAAAAAAAAAAAAAAAAAAAAAWbayUPf7VPwAAAAAAAAAAAAAAAAAAAAAAAAAAAAAAAAAAAAAAAAAAAAAAAAAAAAAAAAAAAAAAAAAAAAAAAAAAAAAAAAAAAAAAAAAAAAAAABZtrJQ9/tU/AAAAAAAAAAAAAAAAAAAAAAAAAAAAAAAAAAAAAAAAAAAAAAAAAAAAAAAAAAAAAAAAAAAAAAAAAAAAAAAAAAAAAAAAAAAAAAAAFm2slD3+5T8AAAAAAAAAAAAAAAAAAAAAAAAAAAAAAAAAAAAAAAAAAAAAAAAAAAAAAAAAAAAAAAAAAAAAAAAAABZtrJQ9/tU/AAAAAAAAAAAAAAAAAAAAAAAAAAAAAAAAAAAAAAAAAAAAAAAAAAAAAAAAAAAAAAAAAAAAAAAAAAAAAAAAAAAAAAAAAAAAAAAAFm2slD3+1T8AAAAAAAAAAAAAAAAAAAAAAAAAAAAAAAAAAAAAAAAAAAAAAAAAAAAAAAAAAAAAAAAAAAAAAAAAAAAAAAAAAAAAAAAAAAAAAAAAAAAAAAAAAAAAAAAAAAAAAAAAAAAAAAAAAAAAAAAAAAAAAAAAAAAAAAAAAAAAAAAWbayUPf7VPwAAAAAAAAAAAAAAAAAAAAAAAAAAAAAAAAAAAAAAAAAAAAAAAAAAAAAAAAAAAAAAAAAAAAAAAAAAAAAAAAAAAAAAAAAAAAAAABZtrJQ9/tU/Fm2slD3+1T8AAAAAAAAAAAAAAAAAAAAAAAAAAAAAAAAAAAAAAAAAAAAAAAAAAAAAAAAAAAAAAAAAAAAAAAAAAAAAAAAAAAAAAAAAAAAAAAAWbayUPf7VPwAAAAAAAAAAAAAAAAAAAAAAAAAAAAAAAAAAAAAAAAAAFm2slD3+BUAAAAAAAAAAAAAAAAAAAAAAAAAAAAAAAAAAAAAAAAAAAAAAAAAAAAAAAAAAAAAAAAAAAAAAAAAAAAAAAAAAAAAAAAAAAAAAAAAAAAAAAAAAAAAAAAAAAAAAAAAAAAAAAAAAAAAAAAAAAAAAAAAAAAAAAAAAAAAAAAAAAAAAAAAAAAAAAAAAAAAAAAAAAAAAAAAAAAAAAAAAAAAAAAAAAAAAAAAAAAAAAAAAAAAAAAAAAAAAAAAAAAAAAAAAAAAAAAAAAAAAAAAAAAAAAAAAAAAAAAAAAAAAAAAAAAAAAAAAAAAAAAAAAAAAAAAAAAAAAAAAAAAAAAAAAAAAAAAAAAAAAAAAAAAAAAAAAAAAAAAAAAAAAAAAAAAAAAAAAAAAAAAAAAAAAAAAAAAAAAAAAAAAFm2slD3+1T8AAAAAAAAAAAAAAAAAAAAAAAAAAAAAAAAAAAAAAAAAAAAAAAAAAAAAAAAAAAAAAAAAAAAAAAAAAAAAAAAAAAAAFm2slD3+1T8AAAAAAAAAAAAAAAAAAAAAAAAAAAAAAAAAAAAAAAAAAAAAAAAAAAAAAAAAAAAAAAAAAAAAAAAAAAAAAAAAAAAAAAAAAAAAAAAAAAAAAAAAAAAAAAAAAAAAAAAAAAAAAAAWbayUPf7VPwAAAAAAAAAAAAAAAAAAAAAAAAAAAAAAABZtrJQ9/tU/Fm2slD3+1T8AAAAAAAAAAAAAAAAAAAAAFm2slD3+1T8AAAAAAAAAAAAAAAAAAAAAAAAAAAAAAAAAAAAAAAAAAAAAAAAAAAAAAAAAAAAAAAAAAAAAAAAAAAAAAAAAAAAAAAAAAAAAAAAAAAAAAAAAAAAAAAAAAAAAFm2slD3+1T8AAAAAAAAAAAAAAAAAAAAAAAAAAAAAAAAAAAAAAAAAAAAAAAAAAAAAAAAAAAAAAAAAAAAAAAAAABZtrJQ9/tU/AAAAAAAAAAAAAAAAAAAAAAAAAAAAAAAAAAAAAAAAAAAAAAAAAAAAABZtrJQ9/tU/AAAAAAAAAAAAAAAAAAAAAAAAAAAAAAAAAAAAAAAAAAAAAAAAAAAAABZtrJQ9/tU/AAAAAAAAAAAAAAAAAAAAAAAAAAAAAAAAAAAAAAAAAAAAAAAAAAAAAAAAAAAAAAAAFm2slD3+1T8AAAAAAAAAAAAAAAAAAAAAAAAAAAAAAAAAAAAAAAAAAAAAAAAAAAAAAAAAAAAAAAAAAAAAAAAAAAAAAAAAAAAAAAAAAAAAAAAAAAAAAAAAAAAAAAAAAAAAAAAAAAAAAADQUYEvrn4AQAAAAAAAAAAAAAAAAAAAAAAAAAAAAAAAAAAAAAAAAAAAAAAAAAAAAAAAAAAAAAAAAAAAAAAAAAAAAAAAAAAAAAAWbayUPf7VPwAAAAAAAAAAAAAAAAAAAAAAAAAAAAAAAAAAAAAAAAAAAAAAAAAAAAAAAAAAAAAAAAAAAAAAAAAAAAAAAAAAAAAAAAAAAAAAAAAAAAAAAAAAAAAAAAAAAAAAAAAAAAAAAAAAAAAAAAAAAAAAAAAAAAAAAAAAAAAAABZtrJQ9/tU/AAAAAAAAAAAAAAAAAAAAAAAAAAAAAAAAAAAAAAAAAAAAAAAAAAAAABZtrJQ9/tU/AAAAAAAAAAAAAAAAAAAAAAAAAAAAAAAAAAAAAAAAAAAAAAAAAAAAAAAAAAAAAAAAAAAAAAAAAAAAAAAAAAAAAAAAAAAAAAAAAAAAAAAAAAAAAAAAAAAAAAAAAAAAAAAAAAAAAAAAAAAAAAAAAAAAAAAAAAAAAAAAAAAAAAAAAAAAAAAAAAAAAAAAAAAAAAAAAAAAAAAAAAAAAAAAAAAAAAAAAAAAAAAAAAAAAAAAAAAAAAAAAAAAABZtrJQ9/tU/AAAAAAAAAAAAAAAAAAAAAAAAAAAAAAAAAAAAAAAAAAAAAAAAAAAAABZtrJQ9/uU/Fm2slD3+5T8AAAAAAAAAAAAAAAAAAAAAAAAAAAAAAAAAAAAAAAAAABZtrJQ9/tU/AAAAAAAAAAAAAAAAAAAAAAAAAAAAAAAAAAAAAAAAAAAAAAAAAAAAAAAAAAAAAAAAFm2slD3+1T8AAAAAAAAAAAAAAAAAAAAAAAAAAAAAAAAAAAAAAAAAABZtrJQ9/tU/AAAAAAAAAAAAAAAAAAAAAAAAAAAAAAAAAAAAAAAAAAAAAAAAAAAAAAAAAAAAAAAAAAAAAAAAAAAAAAAAAAAAAAAAAAAAAAAAFm2slD3+1T8AAAAAAAAAAAAAAAAAAAAAAAAAAAAAAAAAAAAAAAAAAAAAAAAAAAAAAAAAAAAAAAAAAAAAAAAAAAAAAAAAAAAAAAAAAAAAAAAAAAAAAAAAAAAAAAAAAAAAAAAAAAAAAAAAAAAAAAAAAAAAAAAAAAAAAAAAAAAAAAAAAAAAAAAAAAAAAAAAAAAAAAAAAAAAAAAAAAAAAAAAAAAAAAAAAAAAAAAAAAAAAAAAAAAAAAAAAAAAAAAAAAAAAAAAAAAAAAAAAAAAAAAAAAAAAAAAAAAAAAAAAAAAAAAAAAAAAAAAAAAAAAAAAAAAAAAAAAAAAAAWbayUPf7lPxZtrJQ9/uU/AAAAAAAAAAAAAAAAAAAAAAAAAAAAAAAAAAAAAAAAAAAAAAAAAAAAABZtrJQ9/tU/AAAAAAAAAAAAAAAAAAAAAAAAAAAAAAAAAAAAAAAAAAAWbayUPf7VPwAAAAAAAAAAAAAAAAAAAAAAAAAAAAAAAAAAAAAAAAAAAAAAAAAAAAAAAAAAAAAAAAAAAAAAAAAAAAAAAAAAAAAAAAAAAAAAAAAAAAAAAAAAAAAAAAAAAAAAAAAAAAAAAAAAAAAAAAAAAAAAAAAAAAAAAAAAAAAAAAAAAAAAAAAAAAAAAAAAAAAAAAAAAAAAAAAAAAAAAAAAAAAAAAAAAAAAAAAAAAAAAAAAAAAAAAAAAAAAAAAAAAAAAAAAAAAAAAAAAAAAAAAAAAAAAAAAAAAAAAAAAAAAAAAAAAAAAAAAAAAAAAAAAAAAAAAAAAAAAAAAAAAAAAAAAAAAAAAAAAAAAAAAAAAAABZtrJQ9/tU/AAAAAAAAAAAAAAAAAAAAAAAAAAAAAAAAAAAAAAAAAAAAAAAAAAAAAAAAAAAAAAAAFm2slD3+1T8AAAAAAAAAAAAAAAAAAAAAAAAAAAAAAAAAAAAAAAAAAAAAAAAAAAAAAAAAAAAAAAAAAAAAAAAAAAAAAAAAAAAAAAAAAAAAAAAWbayUPf7VPwAAAAAAAAAAAAAAAAAAAAAAAAAAAAAAABZtrJQ9/tU/AAAAAAAAAAAAAAAAAAAAAAAAAAAAAAAAFm2slD3+1T8AAAAAAAAAAAAAAAAAAAAAAAAAAAAAAAAAAAAAAAAAAAAAAAAAAAAAAAAAAAAAAAAAAAAAAAAAAAAAAAAAAAAAAAAAAAAAAAAAAAAAAAAAAAAAAAAAAAAAAAAAAAAAAAAAAAAAAAAAAAAAAAAAAAAAAAAAAAAAAAAAAAAAAAAAAAAAAAAAAAAAAAAAAAAAAAAAAAAAAAAAAAAAAAAAAAAAAAAAAAAAAAAAAAAAAAAAAAAAAAAAAAAAAAAAAAAAAAAAAAAAAAAAAAAAAAAAAAAAAAAAAAAAAAAAAAAAAAAAAAAAAAAAAAAAAAAAAAAAAAAAAAAAAAAAAAAAAAAAAAAAAAAAAAAAAAAAAAAAAAAAAAAAAAAAAAAAAAAAAAAAAAAAAAAAAAAAAAAAAAAAAAAAAAAAAAAAAAAAAAAAAAAAAAAAAAAAAAAAAAAAAAAAAAAAAAAAAAAAAAAAAAAAAAAAAAAAAAAAAAAAAAAAAAAAAAAAAAAAAAAAAAAAAAAAAAAAAAAAAAAAAAAAAAAAAAAAFm2slD3+5T8AAAAAAAAAAAAAAAAAAAAAAAAAAAAAAAAAAAAAAAAAAAAAAAAAAAAAAAAAAAAAAAAAAAAAAAAAAAAAAAAAAAAAAAAAAAAAAAAAAAAAAAAAAAAAAAAAAAAAAAAAAAAAAAAAAAAAAAAAAAAAAAAAAAAAAAAAAAAAAAAAAAAAAAAAAAAAAAAAAAAAAAAAAAAAAAAAAAAAAAAAAAAAAAAAAAAAAAAAAAAAAAAAAAAAAAAAAAAAAAAAAAAAAAAAAAAAAAAAAAAAAAAAAAAAAAAAAAAAAAAAAAAAAAAAAAAAAAAAAAAAAAAAAAAAAAAAAAAAAAAAAAAAAAAAAAAAAAAAAAAAAAAAAAAAAAAAAAAAAAAAAAAAAAAAAAAAAAAAAAAAAAAAAAAAAAAAAAAAAAAAAAAAAAAAAAAAAAAAAAAAAAAAAAAAAAAAAAAAAAAAAAAAAAAAAAAAAAAAAAAAAAAAAAAAAAAAAAAAAAAAAAAAAAAAAAAAAAAAAAAAAAAAAAAAAAAAAAAAAAAAABZtrJQ9/tU/AAAAAAAAAAAAAAAAAAAAAAAAAAAAAAAAAAAAAAAAAAAAAAAAAAAAAAAAAAAAAAAAAAAAAAAAAAAAAAAAAAAAAAAAAAAAAAAAAAAAAAAAAAAWbayUPf7lPwAAAAAAAAAAAAAAAAAAAAAAAAAAAAAAAAAAAAAAAAAAAAAAAAAAAAAAAAAAAAAAABZtrJQ9/tU/AAAAAAAAAAAAAAAAAAAAAAAAAAAAAAAAAAAAAAAAAAAWbayUPf7VPwAAAAAAAAAAAAAAAAAAAAAAAAAAAAAAAAAAAAAAAAAAAAAAAAAAAAAAAAAAAAAAAAAAAAAAAAAAAAAAAAAAAAAAAAAAAAAAAAAAAAAAAAAAAAAAAAAAAAAAAAAAAAAAAAAAAAAAAAAAAAAAAAAAAAAAAAAAAAAAAAAAAAAAAAAAAAAAAAAAAAAAAAAAAAAAAAAAAAAAAAAAAAAAAAAAAAAAAAAAAAAAAAAAAAAAAAAAAAAAAAAAAAAAAAAAAAAAAAAAAAAAAAAAAAAAAAAAAAAAAAAAAAAAAAAAAAAAAAAAAAAAAAAAAAAAAAAAAAAAAAAAAAAAAAAAAAAAAAAAAAAAAAAAAAAAAAAAAAAAAAAAAAAAAAAAAAAAAAAAAAAAAAAAAAAAAAAAAAAAAAAAAAAAAAAAAAAAAAAAAAAAAAAAAAAAAAAAAAAAAAAAAAAAAAAAAAAAAAAAAAAAAAAAAAAAAAAAAAAAAAAAAAAAAAAAAAAAAAAAAAAWbayUPf7VPwAAAAAAAAAAAAAAAAAAAAAAAAAAAAAAAAAAAAAAAAAAAAAAAAAAAAAAAAAAAAAAAAAAAAAAAAAAAAAAAAAAAAAAAAAAAAAAAAAAAAAAAAAAAAAAAAAAAAAAAAAAAAAAAAAAAAAAAAAAAAAAAAAAAAAAAAAAAAAAAAAAAAAAAAAAAAAAAAAAAAAAAAAAAAAAAAAAAAAAAAAAAAAAAAAAAAAAAAAAAAAAAAAAAAAAAAAAAAAAAAAAAAAWbayUPf7VPwAAAAAAAAAAAAAAAAAAAAAAAAAAAAAAAAAAAAAAAAAAAAAAAAAAAAAAAAAAAAAAAAAAAAAAAAAAAAAAAAAAAAAAAAAAAAAAAAAAAAAAAAAAAAAAAAAAAAAAAAAAAAAAAAAAAAAAAAAAAAAAAAAAAAAAAAAAAAAAAAAAAAAAAAAAAAAAAAAAAAAAAAAAAAAAAAAAAAAAAAAAAAAAAAAAAAAAAAAAAAAAAAAAAAAAAAAAAAAAAAAAAAAAAAAAAAAAAAAAAAAAAAAAAAAAAAAAAAAAAAAAAAAAAAAAAAAAAAAAAAAAAAAAAAAWbayUPf7VPwAAAAAAAAAAAAAAAAAAAAAAAAAAAAAAAAAAAAAAAAAAFm2slD3+1T8AAAAAAAAAAAAAAAAAAAAAAAAAAAAAAAAAAAAAAAAAAAAAAAAAAAAAAAAAAAAAAAAWbayUPf7VPwAAAAAAAAAAAAAAAAAAAAAWbayUPf7VPwAAAAAAAAAAAAAAAAAAAAAAAAAAAAAAAAAAAAAAAAAAAAAAAAAAAAAAAAAAAAAAAAAAAAAAAAAAAAAAAAAAAAAAAAAAAAAAAAAAAAAAAAAAAAAAAAAAAAAAAAAAAAAAAAAAAAAAAAAAAAAAAAAAAAAAAAAAAAAAAAAAAAAAAAAAAAAAAAAAAAAAAAAAAAAAAAAAAAAAAAAAAAAAAAAAAAAAAAAAAAAAAAAAAAAAAAAAAAAAAAAAAAAAAAAAAAAAAAAAAAAAAAAAAAAAAAAAAAAAAAAAAAAAAAAAAAAAAAAAAAAAAAAAAAAWbayUPf7VPwAAAAAAAAAAAAAAAAAAAAAAAAAAAAAAAAAAAAAAAAAAAAAAAAAAAAAAAAAAAAAAAAAAAAAAAAAAAAAAAAAAAAAAAAAAAAAAAAAAAAAAAAAAAAAAAAAAAAAAAAAAAAAAAAAAAAAAAAAAAAAAAAAAAAAAAAAAAAAAAAAAAAAAAAAAAAAAAAAAAAAAAAAAAAAAAAAAAAAAAAAAAAAAAAAAAAAAAAAAAAAAAFyI1/nMffs/AAAAAAAAAAAAAAAAAAAAAAAAAAAAAAAAAAAAAAAAAAAAAAAAAAAAAAAAAAAAAAAAAAAAAAAAAAAAAAAAAAAAAAAAAAAAAAAAAAAAAAAAAAAAAAAAAAAAAAAAAAAAAAAAAAAAAAAAAAAAAAAAAAAAAAAAAAAAAAAAAAAAAAAAAAAAAAAAAAAAAAAAAAAAAAAAAAAAAAAAAAAAAAAAAAAAAAAAAAAAAAAAAAAAAAAAAAAAAAAAAAAAAAAAAAAAAAAAAAAAAAAAAAAAAAAAAAAAAAAAAAAAAAAAAAAAAAAAAAAAAAAAAAAAAAAAAAAAAAAAFm2slD3+1T8AAAAAAAAAAAAAAAAAAAAAAAAAAAAAAAAAAAAAAAAAABZtrJQ9/tU/AAAAAAAAAAAAAAAAAAAAAAAAAAAAAAAAAAAAAAAAAAAAAAAAAAAAAAAAAAAAAAAAAAAAAAAAAAAAAAAAAAAAAAAAAAAAAAAAAAAAAAAAAAAAAAAAAAAAAAAAAAAAAAAAAAAAAAAAAAAAAAAAAAAAAAAAAAAAAAAAAAAAAAAAAAAWbayUPf7VPwAAAAAAAAAAAAAAAAAAAAAAAAAAAAAAAAAAAAAAAAAAAAAAAAAAAAAAAAAAAAAAAAAAAAAAAAAAFm2slD3+1T8AAAAAAAAAAAAAAAAAAAAAAAAAAAAAAAAWbayUPf7VPwAAAAAAAAAAAAAAAAAAAAAAAAAAAAAAAAAAAAAAAAAAAAAAAAAAAAAAAAAAAAAAAAAAAAAAAAAAAAAAAAAAAAAAAAAAAAAAAAAAAAAAAAAAAAAAAAAAAAAAAAAAAAAAAAAAAAAAAAAAAAAAAAAAAAAAAAAAAAAAAAAAAAAAAAAAAAAAAAAAAAAAAAAAAAAAAAAAAAAAAAAAAAAAAAAAAAAAAAAAAAAAAAAAAAAAAAAAAAAAAAAAAAAAAAAAAAAAAAAAAAAAAAAAAAAAAAAAAAAAAAAAAAAAAAAAAAAAAAAAAAAAAAAAAAAAAAAAAAAAAAAAAAAAAAAAAAAAAAAAAAAAAAAAAAAAAAAAAAAAAAAAAAAAAAAAAAAAAAAAAAAAAAAAAAAAAAAAAAAAAAAAAAAAAAAAAAAAAAAAAAAAAAAAAAAAAAAAAAAAAAAAAAAAAAAAAAAAAAAAAAAAAAAAAAAAAAAAAAAAAAAAAAAAAAAAAAAAAAAAAAAAAAAAAAAAAAAAAAAAAAAAAAAAAAAAAAAAAAAAAAAAAAAAAAAAAAAAAAAAAAAAAAAAAAAAAAAAAAAAAAAAAAAAFm2slD3+5T8=",
          "dtype": "f8",
          "shape": "40, 121"
         }
        }
       ],
       "layout": {
        "template": {
         "data": {
          "bar": [
           {
            "error_x": {
             "color": "#2a3f5f"
            },
            "error_y": {
             "color": "#2a3f5f"
            },
            "marker": {
             "line": {
              "color": "#E5ECF6",
              "width": 0.5
             },
             "pattern": {
              "fillmode": "overlay",
              "size": 10,
              "solidity": 0.2
             }
            },
            "type": "bar"
           }
          ],
          "barpolar": [
           {
            "marker": {
             "line": {
              "color": "#E5ECF6",
              "width": 0.5
             },
             "pattern": {
              "fillmode": "overlay",
              "size": 10,
              "solidity": 0.2
             }
            },
            "type": "barpolar"
           }
          ],
          "carpet": [
           {
            "aaxis": {
             "endlinecolor": "#2a3f5f",
             "gridcolor": "white",
             "linecolor": "white",
             "minorgridcolor": "white",
             "startlinecolor": "#2a3f5f"
            },
            "baxis": {
             "endlinecolor": "#2a3f5f",
             "gridcolor": "white",
             "linecolor": "white",
             "minorgridcolor": "white",
             "startlinecolor": "#2a3f5f"
            },
            "type": "carpet"
           }
          ],
          "choropleth": [
           {
            "colorbar": {
             "outlinewidth": 0,
             "ticks": ""
            },
            "type": "choropleth"
           }
          ],
          "contour": [
           {
            "colorbar": {
             "outlinewidth": 0,
             "ticks": ""
            },
            "colorscale": [
             [
              0,
              "#0d0887"
             ],
             [
              0.1111111111111111,
              "#46039f"
             ],
             [
              0.2222222222222222,
              "#7201a8"
             ],
             [
              0.3333333333333333,
              "#9c179e"
             ],
             [
              0.4444444444444444,
              "#bd3786"
             ],
             [
              0.5555555555555556,
              "#d8576b"
             ],
             [
              0.6666666666666666,
              "#ed7953"
             ],
             [
              0.7777777777777778,
              "#fb9f3a"
             ],
             [
              0.8888888888888888,
              "#fdca26"
             ],
             [
              1,
              "#f0f921"
             ]
            ],
            "type": "contour"
           }
          ],
          "contourcarpet": [
           {
            "colorbar": {
             "outlinewidth": 0,
             "ticks": ""
            },
            "type": "contourcarpet"
           }
          ],
          "heatmap": [
           {
            "colorbar": {
             "outlinewidth": 0,
             "ticks": ""
            },
            "colorscale": [
             [
              0,
              "#0d0887"
             ],
             [
              0.1111111111111111,
              "#46039f"
             ],
             [
              0.2222222222222222,
              "#7201a8"
             ],
             [
              0.3333333333333333,
              "#9c179e"
             ],
             [
              0.4444444444444444,
              "#bd3786"
             ],
             [
              0.5555555555555556,
              "#d8576b"
             ],
             [
              0.6666666666666666,
              "#ed7953"
             ],
             [
              0.7777777777777778,
              "#fb9f3a"
             ],
             [
              0.8888888888888888,
              "#fdca26"
             ],
             [
              1,
              "#f0f921"
             ]
            ],
            "type": "heatmap"
           }
          ],
          "histogram": [
           {
            "marker": {
             "pattern": {
              "fillmode": "overlay",
              "size": 10,
              "solidity": 0.2
             }
            },
            "type": "histogram"
           }
          ],
          "histogram2d": [
           {
            "colorbar": {
             "outlinewidth": 0,
             "ticks": ""
            },
            "colorscale": [
             [
              0,
              "#0d0887"
             ],
             [
              0.1111111111111111,
              "#46039f"
             ],
             [
              0.2222222222222222,
              "#7201a8"
             ],
             [
              0.3333333333333333,
              "#9c179e"
             ],
             [
              0.4444444444444444,
              "#bd3786"
             ],
             [
              0.5555555555555556,
              "#d8576b"
             ],
             [
              0.6666666666666666,
              "#ed7953"
             ],
             [
              0.7777777777777778,
              "#fb9f3a"
             ],
             [
              0.8888888888888888,
              "#fdca26"
             ],
             [
              1,
              "#f0f921"
             ]
            ],
            "type": "histogram2d"
           }
          ],
          "histogram2dcontour": [
           {
            "colorbar": {
             "outlinewidth": 0,
             "ticks": ""
            },
            "colorscale": [
             [
              0,
              "#0d0887"
             ],
             [
              0.1111111111111111,
              "#46039f"
             ],
             [
              0.2222222222222222,
              "#7201a8"
             ],
             [
              0.3333333333333333,
              "#9c179e"
             ],
             [
              0.4444444444444444,
              "#bd3786"
             ],
             [
              0.5555555555555556,
              "#d8576b"
             ],
             [
              0.6666666666666666,
              "#ed7953"
             ],
             [
              0.7777777777777778,
              "#fb9f3a"
             ],
             [
              0.8888888888888888,
              "#fdca26"
             ],
             [
              1,
              "#f0f921"
             ]
            ],
            "type": "histogram2dcontour"
           }
          ],
          "mesh3d": [
           {
            "colorbar": {
             "outlinewidth": 0,
             "ticks": ""
            },
            "type": "mesh3d"
           }
          ],
          "parcoords": [
           {
            "line": {
             "colorbar": {
              "outlinewidth": 0,
              "ticks": ""
             }
            },
            "type": "parcoords"
           }
          ],
          "pie": [
           {
            "automargin": true,
            "type": "pie"
           }
          ],
          "scatter": [
           {
            "fillpattern": {
             "fillmode": "overlay",
             "size": 10,
             "solidity": 0.2
            },
            "type": "scatter"
           }
          ],
          "scatter3d": [
           {
            "line": {
             "colorbar": {
              "outlinewidth": 0,
              "ticks": ""
             }
            },
            "marker": {
             "colorbar": {
              "outlinewidth": 0,
              "ticks": ""
             }
            },
            "type": "scatter3d"
           }
          ],
          "scattercarpet": [
           {
            "marker": {
             "colorbar": {
              "outlinewidth": 0,
              "ticks": ""
             }
            },
            "type": "scattercarpet"
           }
          ],
          "scattergeo": [
           {
            "marker": {
             "colorbar": {
              "outlinewidth": 0,
              "ticks": ""
             }
            },
            "type": "scattergeo"
           }
          ],
          "scattergl": [
           {
            "marker": {
             "colorbar": {
              "outlinewidth": 0,
              "ticks": ""
             }
            },
            "type": "scattergl"
           }
          ],
          "scattermap": [
           {
            "marker": {
             "colorbar": {
              "outlinewidth": 0,
              "ticks": ""
             }
            },
            "type": "scattermap"
           }
          ],
          "scattermapbox": [
           {
            "marker": {
             "colorbar": {
              "outlinewidth": 0,
              "ticks": ""
             }
            },
            "type": "scattermapbox"
           }
          ],
          "scatterpolar": [
           {
            "marker": {
             "colorbar": {
              "outlinewidth": 0,
              "ticks": ""
             }
            },
            "type": "scatterpolar"
           }
          ],
          "scatterpolargl": [
           {
            "marker": {
             "colorbar": {
              "outlinewidth": 0,
              "ticks": ""
             }
            },
            "type": "scatterpolargl"
           }
          ],
          "scatterternary": [
           {
            "marker": {
             "colorbar": {
              "outlinewidth": 0,
              "ticks": ""
             }
            },
            "type": "scatterternary"
           }
          ],
          "surface": [
           {
            "colorbar": {
             "outlinewidth": 0,
             "ticks": ""
            },
            "colorscale": [
             [
              0,
              "#0d0887"
             ],
             [
              0.1111111111111111,
              "#46039f"
             ],
             [
              0.2222222222222222,
              "#7201a8"
             ],
             [
              0.3333333333333333,
              "#9c179e"
             ],
             [
              0.4444444444444444,
              "#bd3786"
             ],
             [
              0.5555555555555556,
              "#d8576b"
             ],
             [
              0.6666666666666666,
              "#ed7953"
             ],
             [
              0.7777777777777778,
              "#fb9f3a"
             ],
             [
              0.8888888888888888,
              "#fdca26"
             ],
             [
              1,
              "#f0f921"
             ]
            ],
            "type": "surface"
           }
          ],
          "table": [
           {
            "cells": {
             "fill": {
              "color": "#EBF0F8"
             },
             "line": {
              "color": "white"
             }
            },
            "header": {
             "fill": {
              "color": "#C8D4E3"
             },
             "line": {
              "color": "white"
             }
            },
            "type": "table"
           }
          ]
         },
         "layout": {
          "annotationdefaults": {
           "arrowcolor": "#2a3f5f",
           "arrowhead": 0,
           "arrowwidth": 1
          },
          "autotypenumbers": "strict",
          "coloraxis": {
           "colorbar": {
            "outlinewidth": 0,
            "ticks": ""
           }
          },
          "colorscale": {
           "diverging": [
            [
             0,
             "#8e0152"
            ],
            [
             0.1,
             "#c51b7d"
            ],
            [
             0.2,
             "#de77ae"
            ],
            [
             0.3,
             "#f1b6da"
            ],
            [
             0.4,
             "#fde0ef"
            ],
            [
             0.5,
             "#f7f7f7"
            ],
            [
             0.6,
             "#e6f5d0"
            ],
            [
             0.7,
             "#b8e186"
            ],
            [
             0.8,
             "#7fbc41"
            ],
            [
             0.9,
             "#4d9221"
            ],
            [
             1,
             "#276419"
            ]
           ],
           "sequential": [
            [
             0,
             "#0d0887"
            ],
            [
             0.1111111111111111,
             "#46039f"
            ],
            [
             0.2222222222222222,
             "#7201a8"
            ],
            [
             0.3333333333333333,
             "#9c179e"
            ],
            [
             0.4444444444444444,
             "#bd3786"
            ],
            [
             0.5555555555555556,
             "#d8576b"
            ],
            [
             0.6666666666666666,
             "#ed7953"
            ],
            [
             0.7777777777777778,
             "#fb9f3a"
            ],
            [
             0.8888888888888888,
             "#fdca26"
            ],
            [
             1,
             "#f0f921"
            ]
           ],
           "sequentialminus": [
            [
             0,
             "#0d0887"
            ],
            [
             0.1111111111111111,
             "#46039f"
            ],
            [
             0.2222222222222222,
             "#7201a8"
            ],
            [
             0.3333333333333333,
             "#9c179e"
            ],
            [
             0.4444444444444444,
             "#bd3786"
            ],
            [
             0.5555555555555556,
             "#d8576b"
            ],
            [
             0.6666666666666666,
             "#ed7953"
            ],
            [
             0.7777777777777778,
             "#fb9f3a"
            ],
            [
             0.8888888888888888,
             "#fdca26"
            ],
            [
             1,
             "#f0f921"
            ]
           ]
          },
          "colorway": [
           "#636efa",
           "#EF553B",
           "#00cc96",
           "#ab63fa",
           "#FFA15A",
           "#19d3f3",
           "#FF6692",
           "#B6E880",
           "#FF97FF",
           "#FECB52"
          ],
          "font": {
           "color": "#2a3f5f"
          },
          "geo": {
           "bgcolor": "white",
           "lakecolor": "white",
           "landcolor": "#E5ECF6",
           "showlakes": true,
           "showland": true,
           "subunitcolor": "white"
          },
          "hoverlabel": {
           "align": "left"
          },
          "hovermode": "closest",
          "mapbox": {
           "style": "light"
          },
          "paper_bgcolor": "white",
          "plot_bgcolor": "#E5ECF6",
          "polar": {
           "angularaxis": {
            "gridcolor": "white",
            "linecolor": "white",
            "ticks": ""
           },
           "bgcolor": "#E5ECF6",
           "radialaxis": {
            "gridcolor": "white",
            "linecolor": "white",
            "ticks": ""
           }
          },
          "scene": {
           "xaxis": {
            "backgroundcolor": "#E5ECF6",
            "gridcolor": "white",
            "gridwidth": 2,
            "linecolor": "white",
            "showbackground": true,
            "ticks": "",
            "zerolinecolor": "white"
           },
           "yaxis": {
            "backgroundcolor": "#E5ECF6",
            "gridcolor": "white",
            "gridwidth": 2,
            "linecolor": "white",
            "showbackground": true,
            "ticks": "",
            "zerolinecolor": "white"
           },
           "zaxis": {
            "backgroundcolor": "#E5ECF6",
            "gridcolor": "white",
            "gridwidth": 2,
            "linecolor": "white",
            "showbackground": true,
            "ticks": "",
            "zerolinecolor": "white"
           }
          },
          "shapedefaults": {
           "line": {
            "color": "#2a3f5f"
           }
          },
          "ternary": {
           "aaxis": {
            "gridcolor": "white",
            "linecolor": "white",
            "ticks": ""
           },
           "baxis": {
            "gridcolor": "white",
            "linecolor": "white",
            "ticks": ""
           },
           "bgcolor": "#E5ECF6",
           "caxis": {
            "gridcolor": "white",
            "linecolor": "white",
            "ticks": ""
           }
          },
          "title": {
           "x": 0.05
          },
          "xaxis": {
           "automargin": true,
           "gridcolor": "white",
           "linecolor": "white",
           "ticks": "",
           "title": {
            "standoff": 15
           },
           "zerolinecolor": "white",
           "zerolinewidth": 2
          },
          "yaxis": {
           "automargin": true,
           "gridcolor": "white",
           "linecolor": "white",
           "ticks": "",
           "title": {
            "standoff": 15
           },
           "zerolinecolor": "white",
           "zerolinewidth": 2
          }
         }
        },
        "title": {
         "text": "Frequency of Percentage Price Changes Around EIA WPSR Release On Release Days"
        },
        "xaxis": {
         "ticktext": [
          -60,
          -55,
          -50,
          -45,
          -40,
          -35,
          -30,
          -25,
          -20,
          -15,
          -10,
          -5,
          0,
          5,
          10,
          15,
          20,
          25,
          30,
          35,
          40,
          45,
          50,
          55,
          60
         ],
         "tickvals": [
          -60,
          -55,
          -50,
          -45,
          -40,
          -35,
          -30,
          -25,
          -20,
          -15,
          -10,
          -5,
          0,
          5,
          10,
          15,
          20,
          25,
          30,
          35,
          40,
          45,
          50,
          55,
          60
         ],
         "title": {
          "text": "Time Relative to Release (Minutes)"
         }
        },
        "yaxis": {
         "title": {
          "text": "Percentage Price Change Bins"
         }
        }
       }
      }
     },
     "metadata": {},
     "output_type": "display_data"
    },
    {
     "data": {
      "text/html": [
       "<div>\n",
       "<style scoped>\n",
       "    .dataframe tbody tr th:only-of-type {\n",
       "        vertical-align: middle;\n",
       "    }\n",
       "\n",
       "    .dataframe tbody tr th {\n",
       "        vertical-align: top;\n",
       "    }\n",
       "\n",
       "    .dataframe thead th {\n",
       "        text-align: right;\n",
       "    }\n",
       "</style>\n",
       "<table border=\"1\" class=\"dataframe\">\n",
       "  <thead>\n",
       "    <tr style=\"text-align: right;\">\n",
       "      <th></th>\n",
       "      <th>Date</th>\n",
       "      <th>Time</th>\n",
       "      <th>Open</th>\n",
       "      <th>High</th>\n",
       "      <th>Low</th>\n",
       "      <th>Close</th>\n",
       "      <th>Volume</th>\n",
       "      <th>Datetime</th>\n",
       "      <th>Percent_Change</th>\n",
       "      <th>Release_Datetime</th>\n",
       "      <th>Time_to_Release_Minutes</th>\n",
       "      <th>Time_Delta_Minutes</th>\n",
       "      <th>Price_Change_Bin</th>\n",
       "    </tr>\n",
       "    <tr>\n",
       "      <th>Datetime_CST</th>\n",
       "      <th></th>\n",
       "      <th></th>\n",
       "      <th></th>\n",
       "      <th></th>\n",
       "      <th></th>\n",
       "      <th></th>\n",
       "      <th></th>\n",
       "      <th></th>\n",
       "      <th></th>\n",
       "      <th></th>\n",
       "      <th></th>\n",
       "      <th></th>\n",
       "      <th></th>\n",
       "    </tr>\n",
       "  </thead>\n",
       "  <tbody>\n",
       "    <tr>\n",
       "      <th>2011-03-09 08:30:00-06:00</th>\n",
       "      <td>09/03/2011</td>\n",
       "      <td>08:30:00</td>\n",
       "      <td>105.56</td>\n",
       "      <td>105.56</td>\n",
       "      <td>105.44</td>\n",
       "      <td>105.46</td>\n",
       "      <td>514</td>\n",
       "      <td>2011-03-09 08:30:00</td>\n",
       "      <td>-0.094733</td>\n",
       "      <td>2011-03-09 09:30:00-06:00</td>\n",
       "      <td>-60.0</td>\n",
       "      <td>-60.0</td>\n",
       "      <td>-0.10%</td>\n",
       "    </tr>\n",
       "    <tr>\n",
       "      <th>2011-03-09 08:31:00-06:00</th>\n",
       "      <td>09/03/2011</td>\n",
       "      <td>08:31:00</td>\n",
       "      <td>105.46</td>\n",
       "      <td>105.52</td>\n",
       "      <td>105.45</td>\n",
       "      <td>105.46</td>\n",
       "      <td>323</td>\n",
       "      <td>2011-03-09 08:31:00</td>\n",
       "      <td>0.000000</td>\n",
       "      <td>2011-03-09 09:30:00-06:00</td>\n",
       "      <td>-59.0</td>\n",
       "      <td>-59.0</td>\n",
       "      <td>-0.05%</td>\n",
       "    </tr>\n",
       "    <tr>\n",
       "      <th>2011-03-09 08:32:00-06:00</th>\n",
       "      <td>09/03/2011</td>\n",
       "      <td>08:32:00</td>\n",
       "      <td>105.45</td>\n",
       "      <td>105.47</td>\n",
       "      <td>105.31</td>\n",
       "      <td>105.32</td>\n",
       "      <td>899</td>\n",
       "      <td>2011-03-09 08:32:00</td>\n",
       "      <td>-0.132752</td>\n",
       "      <td>2011-03-09 09:30:00-06:00</td>\n",
       "      <td>-58.0</td>\n",
       "      <td>-58.0</td>\n",
       "      <td>-0.15%</td>\n",
       "    </tr>\n",
       "    <tr>\n",
       "      <th>2011-03-09 08:33:00-06:00</th>\n",
       "      <td>09/03/2011</td>\n",
       "      <td>08:33:00</td>\n",
       "      <td>105.31</td>\n",
       "      <td>105.37</td>\n",
       "      <td>105.25</td>\n",
       "      <td>105.33</td>\n",
       "      <td>716</td>\n",
       "      <td>2011-03-09 08:33:00</td>\n",
       "      <td>0.009495</td>\n",
       "      <td>2011-03-09 09:30:00-06:00</td>\n",
       "      <td>-57.0</td>\n",
       "      <td>-57.0</td>\n",
       "      <td>0.00%</td>\n",
       "    </tr>\n",
       "    <tr>\n",
       "      <th>2011-03-09 08:34:00-06:00</th>\n",
       "      <td>09/03/2011</td>\n",
       "      <td>08:34:00</td>\n",
       "      <td>105.34</td>\n",
       "      <td>105.45</td>\n",
       "      <td>105.31</td>\n",
       "      <td>105.40</td>\n",
       "      <td>660</td>\n",
       "      <td>2011-03-09 08:34:00</td>\n",
       "      <td>0.066458</td>\n",
       "      <td>2011-03-09 09:30:00-06:00</td>\n",
       "      <td>-56.0</td>\n",
       "      <td>-56.0</td>\n",
       "      <td>0.05%</td>\n",
       "    </tr>\n",
       "    <tr>\n",
       "      <th>...</th>\n",
       "      <td>...</td>\n",
       "      <td>...</td>\n",
       "      <td>...</td>\n",
       "      <td>...</td>\n",
       "      <td>...</td>\n",
       "      <td>...</td>\n",
       "      <td>...</td>\n",
       "      <td>...</td>\n",
       "      <td>...</td>\n",
       "      <td>...</td>\n",
       "      <td>...</td>\n",
       "      <td>...</td>\n",
       "      <td>...</td>\n",
       "    </tr>\n",
       "    <tr>\n",
       "      <th>2025-03-05 10:26:00-06:00</th>\n",
       "      <td>05/03/2025</td>\n",
       "      <td>10:26:00</td>\n",
       "      <td>65.42</td>\n",
       "      <td>65.46</td>\n",
       "      <td>65.37</td>\n",
       "      <td>65.38</td>\n",
       "      <td>713</td>\n",
       "      <td>2025-03-05 10:26:00</td>\n",
       "      <td>-0.061143</td>\n",
       "      <td>2025-03-05 09:30:00-06:00</td>\n",
       "      <td>56.0</td>\n",
       "      <td>56.0</td>\n",
       "      <td>-0.10%</td>\n",
       "    </tr>\n",
       "    <tr>\n",
       "      <th>2025-03-05 10:27:00-06:00</th>\n",
       "      <td>05/03/2025</td>\n",
       "      <td>10:27:00</td>\n",
       "      <td>65.37</td>\n",
       "      <td>65.41</td>\n",
       "      <td>65.37</td>\n",
       "      <td>65.39</td>\n",
       "      <td>640</td>\n",
       "      <td>2025-03-05 10:27:00</td>\n",
       "      <td>0.015295</td>\n",
       "      <td>2025-03-05 09:30:00-06:00</td>\n",
       "      <td>57.0</td>\n",
       "      <td>57.0</td>\n",
       "      <td>0.00%</td>\n",
       "    </tr>\n",
       "    <tr>\n",
       "      <th>2025-03-05 10:28:00-06:00</th>\n",
       "      <td>05/03/2025</td>\n",
       "      <td>10:28:00</td>\n",
       "      <td>65.40</td>\n",
       "      <td>65.42</td>\n",
       "      <td>65.33</td>\n",
       "      <td>65.36</td>\n",
       "      <td>796</td>\n",
       "      <td>2025-03-05 10:28:00</td>\n",
       "      <td>-0.045879</td>\n",
       "      <td>2025-03-05 09:30:00-06:00</td>\n",
       "      <td>58.0</td>\n",
       "      <td>58.0</td>\n",
       "      <td>-0.05%</td>\n",
       "    </tr>\n",
       "    <tr>\n",
       "      <th>2025-03-05 10:29:00-06:00</th>\n",
       "      <td>05/03/2025</td>\n",
       "      <td>10:29:00</td>\n",
       "      <td>65.35</td>\n",
       "      <td>65.40</td>\n",
       "      <td>65.35</td>\n",
       "      <td>65.37</td>\n",
       "      <td>658</td>\n",
       "      <td>2025-03-05 10:29:00</td>\n",
       "      <td>0.015300</td>\n",
       "      <td>2025-03-05 09:30:00-06:00</td>\n",
       "      <td>59.0</td>\n",
       "      <td>59.0</td>\n",
       "      <td>0.00%</td>\n",
       "    </tr>\n",
       "    <tr>\n",
       "      <th>2025-03-05 10:30:00-06:00</th>\n",
       "      <td>05/03/2025</td>\n",
       "      <td>10:30:00</td>\n",
       "      <td>65.38</td>\n",
       "      <td>65.45</td>\n",
       "      <td>65.34</td>\n",
       "      <td>65.43</td>\n",
       "      <td>842</td>\n",
       "      <td>2025-03-05 10:30:00</td>\n",
       "      <td>0.091785</td>\n",
       "      <td>2025-03-05 09:30:00-06:00</td>\n",
       "      <td>60.0</td>\n",
       "      <td>60.0</td>\n",
       "      <td>0.05%</td>\n",
       "    </tr>\n",
       "  </tbody>\n",
       "</table>\n",
       "<p>88344 rows × 13 columns</p>\n",
       "</div>"
      ],
      "text/plain": [
       "                                 Date      Time    Open    High     Low  \\\n",
       "Datetime_CST                                                              \n",
       "2011-03-09 08:30:00-06:00  09/03/2011  08:30:00  105.56  105.56  105.44   \n",
       "2011-03-09 08:31:00-06:00  09/03/2011  08:31:00  105.46  105.52  105.45   \n",
       "2011-03-09 08:32:00-06:00  09/03/2011  08:32:00  105.45  105.47  105.31   \n",
       "2011-03-09 08:33:00-06:00  09/03/2011  08:33:00  105.31  105.37  105.25   \n",
       "2011-03-09 08:34:00-06:00  09/03/2011  08:34:00  105.34  105.45  105.31   \n",
       "...                               ...       ...     ...     ...     ...   \n",
       "2025-03-05 10:26:00-06:00  05/03/2025  10:26:00   65.42   65.46   65.37   \n",
       "2025-03-05 10:27:00-06:00  05/03/2025  10:27:00   65.37   65.41   65.37   \n",
       "2025-03-05 10:28:00-06:00  05/03/2025  10:28:00   65.40   65.42   65.33   \n",
       "2025-03-05 10:29:00-06:00  05/03/2025  10:29:00   65.35   65.40   65.35   \n",
       "2025-03-05 10:30:00-06:00  05/03/2025  10:30:00   65.38   65.45   65.34   \n",
       "\n",
       "                            Close  Volume            Datetime  Percent_Change  \\\n",
       "Datetime_CST                                                                    \n",
       "2011-03-09 08:30:00-06:00  105.46     514 2011-03-09 08:30:00       -0.094733   \n",
       "2011-03-09 08:31:00-06:00  105.46     323 2011-03-09 08:31:00        0.000000   \n",
       "2011-03-09 08:32:00-06:00  105.32     899 2011-03-09 08:32:00       -0.132752   \n",
       "2011-03-09 08:33:00-06:00  105.33     716 2011-03-09 08:33:00        0.009495   \n",
       "2011-03-09 08:34:00-06:00  105.40     660 2011-03-09 08:34:00        0.066458   \n",
       "...                           ...     ...                 ...             ...   \n",
       "2025-03-05 10:26:00-06:00   65.38     713 2025-03-05 10:26:00       -0.061143   \n",
       "2025-03-05 10:27:00-06:00   65.39     640 2025-03-05 10:27:00        0.015295   \n",
       "2025-03-05 10:28:00-06:00   65.36     796 2025-03-05 10:28:00       -0.045879   \n",
       "2025-03-05 10:29:00-06:00   65.37     658 2025-03-05 10:29:00        0.015300   \n",
       "2025-03-05 10:30:00-06:00   65.43     842 2025-03-05 10:30:00        0.091785   \n",
       "\n",
       "                                   Release_Datetime  Time_to_Release_Minutes  \\\n",
       "Datetime_CST                                                                   \n",
       "2011-03-09 08:30:00-06:00 2011-03-09 09:30:00-06:00                    -60.0   \n",
       "2011-03-09 08:31:00-06:00 2011-03-09 09:30:00-06:00                    -59.0   \n",
       "2011-03-09 08:32:00-06:00 2011-03-09 09:30:00-06:00                    -58.0   \n",
       "2011-03-09 08:33:00-06:00 2011-03-09 09:30:00-06:00                    -57.0   \n",
       "2011-03-09 08:34:00-06:00 2011-03-09 09:30:00-06:00                    -56.0   \n",
       "...                                             ...                      ...   \n",
       "2025-03-05 10:26:00-06:00 2025-03-05 09:30:00-06:00                     56.0   \n",
       "2025-03-05 10:27:00-06:00 2025-03-05 09:30:00-06:00                     57.0   \n",
       "2025-03-05 10:28:00-06:00 2025-03-05 09:30:00-06:00                     58.0   \n",
       "2025-03-05 10:29:00-06:00 2025-03-05 09:30:00-06:00                     59.0   \n",
       "2025-03-05 10:30:00-06:00 2025-03-05 09:30:00-06:00                     60.0   \n",
       "\n",
       "                           Time_Delta_Minutes Price_Change_Bin  \n",
       "Datetime_CST                                                    \n",
       "2011-03-09 08:30:00-06:00               -60.0           -0.10%  \n",
       "2011-03-09 08:31:00-06:00               -59.0           -0.05%  \n",
       "2011-03-09 08:32:00-06:00               -58.0           -0.15%  \n",
       "2011-03-09 08:33:00-06:00               -57.0            0.00%  \n",
       "2011-03-09 08:34:00-06:00               -56.0            0.05%  \n",
       "...                                       ...              ...  \n",
       "2025-03-05 10:26:00-06:00                56.0           -0.10%  \n",
       "2025-03-05 10:27:00-06:00                57.0            0.00%  \n",
       "2025-03-05 10:28:00-06:00                58.0           -0.05%  \n",
       "2025-03-05 10:29:00-06:00                59.0            0.00%  \n",
       "2025-03-05 10:30:00-06:00                60.0            0.05%  \n",
       "\n",
       "[88344 rows x 13 columns]"
      ]
     },
     "metadata": {},
     "output_type": "display_data"
    },
    {
     "data": {
      "text/html": [
       "<div>\n",
       "<style scoped>\n",
       "    .dataframe tbody tr th:only-of-type {\n",
       "        vertical-align: middle;\n",
       "    }\n",
       "\n",
       "    .dataframe tbody tr th {\n",
       "        vertical-align: top;\n",
       "    }\n",
       "\n",
       "    .dataframe thead th {\n",
       "        text-align: right;\n",
       "    }\n",
       "</style>\n",
       "<table border=\"1\" class=\"dataframe\">\n",
       "  <thead>\n",
       "    <tr style=\"text-align: right;\">\n",
       "      <th></th>\n",
       "      <th>Volume</th>\n",
       "      <th>Percent_Change</th>\n",
       "      <th>Actual</th>\n",
       "      <th>Forecast</th>\n",
       "      <th>Previous</th>\n",
       "      <th>supply_surprise</th>\n",
       "      <th>Time_till_Release</th>\n",
       "      <th>Time_Bin</th>\n",
       "      <th>Percent_Change_Bin</th>\n",
       "      <th>Price_Change_Bin</th>\n",
       "    </tr>\n",
       "  </thead>\n",
       "  <tbody>\n",
       "    <tr>\n",
       "      <th>0</th>\n",
       "      <td>875</td>\n",
       "      <td>-0.142383</td>\n",
       "      <td>2.500M</td>\n",
       "      <td>1.100M</td>\n",
       "      <td>-0.400M</td>\n",
       "      <td>1.4</td>\n",
       "      <td>-60.0</td>\n",
       "      <td>[-60.0, -59.0)</td>\n",
       "      <td>[-0.15, -0.1)</td>\n",
       "      <td>-0.15%</td>\n",
       "    </tr>\n",
       "    <tr>\n",
       "      <th>1</th>\n",
       "      <td>566</td>\n",
       "      <td>0.019011</td>\n",
       "      <td>2.500M</td>\n",
       "      <td>1.100M</td>\n",
       "      <td>-0.400M</td>\n",
       "      <td>1.4</td>\n",
       "      <td>-59.0</td>\n",
       "      <td>[-59.0, -58.0)</td>\n",
       "      <td>[0.0, 0.05)</td>\n",
       "      <td>0.00%</td>\n",
       "    </tr>\n",
       "    <tr>\n",
       "      <th>2</th>\n",
       "      <td>921</td>\n",
       "      <td>-0.076031</td>\n",
       "      <td>2.500M</td>\n",
       "      <td>1.100M</td>\n",
       "      <td>-0.400M</td>\n",
       "      <td>1.4</td>\n",
       "      <td>-58.0</td>\n",
       "      <td>[-58.0, -57.0)</td>\n",
       "      <td>[-0.1, -0.05)</td>\n",
       "      <td>-0.10%</td>\n",
       "    </tr>\n",
       "    <tr>\n",
       "      <th>3</th>\n",
       "      <td>574</td>\n",
       "      <td>-0.066578</td>\n",
       "      <td>2.500M</td>\n",
       "      <td>1.100M</td>\n",
       "      <td>-0.400M</td>\n",
       "      <td>1.4</td>\n",
       "      <td>-57.0</td>\n",
       "      <td>[-57.0, -56.0)</td>\n",
       "      <td>[-0.1, -0.05)</td>\n",
       "      <td>-0.10%</td>\n",
       "    </tr>\n",
       "    <tr>\n",
       "      <th>4</th>\n",
       "      <td>1099</td>\n",
       "      <td>-0.057105</td>\n",
       "      <td>2.500M</td>\n",
       "      <td>1.100M</td>\n",
       "      <td>-0.400M</td>\n",
       "      <td>1.4</td>\n",
       "      <td>-56.0</td>\n",
       "      <td>[-56.0, -55.0)</td>\n",
       "      <td>[-0.1, -0.05)</td>\n",
       "      <td>-0.10%</td>\n",
       "    </tr>\n",
       "    <tr>\n",
       "      <th>...</th>\n",
       "      <td>...</td>\n",
       "      <td>...</td>\n",
       "      <td>...</td>\n",
       "      <td>...</td>\n",
       "      <td>...</td>\n",
       "      <td>...</td>\n",
       "      <td>...</td>\n",
       "      <td>...</td>\n",
       "      <td>...</td>\n",
       "      <td>...</td>\n",
       "    </tr>\n",
       "    <tr>\n",
       "      <th>255333</th>\n",
       "      <td>128</td>\n",
       "      <td>0.000000</td>\n",
       "      <td>NaN</td>\n",
       "      <td>NaN</td>\n",
       "      <td>3.614M</td>\n",
       "      <td>NaN</td>\n",
       "      <td>56.0</td>\n",
       "      <td>[56.0, 57.0)</td>\n",
       "      <td>[0.0, 0.05)</td>\n",
       "      <td>-0.05%</td>\n",
       "    </tr>\n",
       "    <tr>\n",
       "      <th>255334</th>\n",
       "      <td>133</td>\n",
       "      <td>0.000000</td>\n",
       "      <td>NaN</td>\n",
       "      <td>NaN</td>\n",
       "      <td>3.614M</td>\n",
       "      <td>NaN</td>\n",
       "      <td>57.0</td>\n",
       "      <td>[57.0, 58.0)</td>\n",
       "      <td>[0.0, 0.05)</td>\n",
       "      <td>-0.05%</td>\n",
       "    </tr>\n",
       "    <tr>\n",
       "      <th>255335</th>\n",
       "      <td>88</td>\n",
       "      <td>0.014968</td>\n",
       "      <td>NaN</td>\n",
       "      <td>NaN</td>\n",
       "      <td>3.614M</td>\n",
       "      <td>NaN</td>\n",
       "      <td>58.0</td>\n",
       "      <td>[58.0, 59.0)</td>\n",
       "      <td>[0.0, 0.05)</td>\n",
       "      <td>0.00%</td>\n",
       "    </tr>\n",
       "    <tr>\n",
       "      <th>255336</th>\n",
       "      <td>275</td>\n",
       "      <td>0.000000</td>\n",
       "      <td>NaN</td>\n",
       "      <td>NaN</td>\n",
       "      <td>3.614M</td>\n",
       "      <td>NaN</td>\n",
       "      <td>59.0</td>\n",
       "      <td>[59.0, 60.0)</td>\n",
       "      <td>[0.0, 0.05)</td>\n",
       "      <td>-0.05%</td>\n",
       "    </tr>\n",
       "    <tr>\n",
       "      <th>255337</th>\n",
       "      <td>284</td>\n",
       "      <td>0.014966</td>\n",
       "      <td>NaN</td>\n",
       "      <td>NaN</td>\n",
       "      <td>3.614M</td>\n",
       "      <td>NaN</td>\n",
       "      <td>60.0</td>\n",
       "      <td>NaN</td>\n",
       "      <td>[0.0, 0.05)</td>\n",
       "      <td>0.00%</td>\n",
       "    </tr>\n",
       "  </tbody>\n",
       "</table>\n",
       "<p>255338 rows × 10 columns</p>\n",
       "</div>"
      ],
      "text/plain": [
       "        Volume  Percent_Change  Actual Forecast Previous  supply_surprise  \\\n",
       "0          875       -0.142383  2.500M   1.100M  -0.400M              1.4   \n",
       "1          566        0.019011  2.500M   1.100M  -0.400M              1.4   \n",
       "2          921       -0.076031  2.500M   1.100M  -0.400M              1.4   \n",
       "3          574       -0.066578  2.500M   1.100M  -0.400M              1.4   \n",
       "4         1099       -0.057105  2.500M   1.100M  -0.400M              1.4   \n",
       "...        ...             ...     ...      ...      ...              ...   \n",
       "255333     128        0.000000     NaN      NaN   3.614M              NaN   \n",
       "255334     133        0.000000     NaN      NaN   3.614M              NaN   \n",
       "255335      88        0.014968     NaN      NaN   3.614M              NaN   \n",
       "255336     275        0.000000     NaN      NaN   3.614M              NaN   \n",
       "255337     284        0.014966     NaN      NaN   3.614M              NaN   \n",
       "\n",
       "        Time_till_Release        Time_Bin Percent_Change_Bin Price_Change_Bin  \n",
       "0                   -60.0  [-60.0, -59.0)      [-0.15, -0.1)           -0.15%  \n",
       "1                   -59.0  [-59.0, -58.0)        [0.0, 0.05)            0.00%  \n",
       "2                   -58.0  [-58.0, -57.0)      [-0.1, -0.05)           -0.10%  \n",
       "3                   -57.0  [-57.0, -56.0)      [-0.1, -0.05)           -0.10%  \n",
       "4                   -56.0  [-56.0, -55.0)      [-0.1, -0.05)           -0.10%  \n",
       "...                   ...             ...                ...              ...  \n",
       "255333               56.0    [56.0, 57.0)        [0.0, 0.05)           -0.05%  \n",
       "255334               57.0    [57.0, 58.0)        [0.0, 0.05)           -0.05%  \n",
       "255335               58.0    [58.0, 59.0)        [0.0, 0.05)            0.00%  \n",
       "255336               59.0    [59.0, 60.0)        [0.0, 0.05)           -0.05%  \n",
       "255337               60.0             NaN        [0.0, 0.05)            0.00%  \n",
       "\n",
       "[255338 rows x 10 columns]"
      ]
     },
     "metadata": {},
     "output_type": "display_data"
    }
   ],
   "source": [
    "# 2. Define Time Intervals and Price Change Bins for Heatmap\n",
    "time_intervals_non_release = sorted(non_release_price_windows_60min['Time_till_Release'].unique())\n",
    "price_change_bins= np.linspace(-1, 1, num=41) # Example: Bins from -1% to +1% in 0.05% increments, adjust as needed\n",
    "price_change_labels = [f'{bin_val:.2f}%' for bin_val in price_change_bins] # Labels for bins\n",
    "\n",
    "# 3.  Bin Price Changes and Count Frequencies\n",
    "non_release_price_windows_60min['Price_Change_Bin'] = pd.cut(non_release_price_windows_60min['Percent_Change'], bins=price_change_bins, labels=price_change_labels[:-1], include_lowest=True)\n",
    "\n",
    "\n",
    "heatmap_data_non_release = non_release_price_windows_60min.groupby(['Price_Change_Bin', 'Time_till_Release']).size().unstack(fill_value=0)\n",
    "\n",
    "# Reindex columns and rows to ensure all intervals and bins are present, even if count is zero\n",
    "heatmap_data_non_release = heatmap_data_non_release.reindex(columns=time_intervals, fill_value=0)\n",
    "heatmap_data_non_release = heatmap_data_non_release.reindex(index=price_change_labels[:-1], fill_value=0)\n",
    "\n",
    "heatmap_non_release_values = heatmap_data_non_release.values\n",
    "\n",
    "min_val = np.min(heatmap_non_release_values)\n",
    "max_val = np.max(heatmap_non_release_values)\n",
    "\n",
    "if max_val > min_val: # Avoid division by zero if all values are the same\n",
    "    heatmap_non_release_values_scaled_linear = (heatmap_non_release_values - min_val) / (max_val - min_val) * 100.0\n",
    "else:\n",
    "    heatmap_non_release_values_scaled_linear = np.zeros_like(heatmap_non_release_values) # Or handle as needed if range is zero\n",
    "\n",
    "# 4. Create Interactive Heatmap with Plotly\n",
    "fig_heatmap_non_release = go.Figure(data=go.Heatmap(\n",
    "    z=heatmap_non_release_values_scaled_linear,\n",
    "    x=heatmap_data_non_release.columns,\n",
    "    y=heatmap_data_non_release.index,\n",
    "    colorscale='Viridis', # Choose a colorscale that suits your preference\n",
    "    colorbar=dict(title='Frequency')\n",
    "))\n",
    "\n",
    "fig_heatmap_non_release.update_layout(\n",
    "    title='Frequency of Percentage Price Changes Around EIA WPSR Release On Non-Release Days',\n",
    "    xaxis_title='Time Relative to Release (Minutes)',\n",
    "    yaxis_title='Percentage Price Change Bins',\n",
    "    #yaxis=dict(autorange=\"reversed\"), # Invert y-axis to have positive changes at the top\n",
    "    xaxis=dict(tickvals=time_intervals[::5], ticktext=[int(x) for x in time_intervals[::5]]) # Show x-axis ticks every 5 minutes\n",
    ")\n",
    "\n",
    "fig_heatmap_non_release.show()\n",
    "\n",
    "\n",
    "# Assume price_window_60min dataframe is already loaded and has 'Datetime', 'Close', and 'Release_Datetime' columns\n",
    "\n",
    "# 1. Calculate Price Changes Relative to Pre-Release Minute\n",
    "price_window_60min['Time_Delta_Minutes'] = price_window_60min.index - price_window_60min['Release_Datetime']\n",
    "price_window_60min['Time_Delta_Minutes'] = price_window_60min['Time_Delta_Minutes'].apply(lambda td: td.total_seconds() / 60)\n",
    "#price_window_60min['Price_Change'] = price_window_60min.groupby('Release_Datetime')['Close'].transform(lambda x: x - x.shift(1))\n",
    "#price_window_60min['Percent_Change'] = price_window_60min.groupby('Release_Datetime')['Close'].pct_change() * 100\n",
    "\n",
    "#price_window_60min = price_window_60min.dropna(subset=['Percent_Change']) # Remove rows where shift resulted in NaN\n",
    "\n",
    "# 2. Define Time Intervals and Price Change Bins for Heatmap\n",
    "time_intervals_release = sorted(price_window_60min['Time_Delta_Minutes'].unique())\n",
    "\n",
    "# 3.  Bin Price Changes and Count Frequencies\n",
    "price_window_60min['Price_Change_Bin'] = pd.cut(price_window_60min['Percent_Change'], bins=price_change_bins, labels=price_change_labels[:-1], include_lowest=True)\n",
    "\n",
    "\n",
    "heatmap_data_release = price_window_60min.groupby(['Price_Change_Bin', 'Time_Delta_Minutes']).size().unstack(fill_value=0)\n",
    "\n",
    "# Reindex columns and rows to ensure all intervals and bins are present, even if count is zero\n",
    "heatmap_data_release = heatmap_data_release.reindex(columns=time_intervals, fill_value=0)\n",
    "heatmap_data_release = heatmap_data_release.reindex(index=price_change_labels[:-1], fill_value=0)\n",
    "\n",
    "\n",
    "heatmap_release_values = heatmap_data_release.values\n",
    "\n",
    "min_val, max_val = np.min(heatmap_release_values), np.max(heatmap_release_values)\n",
    "\n",
    "if max_val > min_val: # Avoid division by zero if all values are the same\n",
    "    heatmap_release_values_scaled_linear = (heatmap_release_values - min_val) / (max_val - min_val) * 100.0\n",
    "else:\n",
    "    heatmap_release_values_scaled_linear = np.zeros_like(heatmap_release_values) # Or handle as needed if range is zero\n",
    "\n",
    "# 4. Create Interactive Heatmap with Plotly\n",
    "fig_heatmap_release = go.Figure(data=go.Heatmap(\n",
    "    z=heatmap_release_values_scaled_linear,\n",
    "    x=heatmap_data_release.columns,\n",
    "    y=heatmap_data.index,\n",
    "    colorscale='Viridis', # Choose a colorscale that suits your preference\n",
    "    colorbar=dict(title='Frequency')\n",
    "))\n",
    "\n",
    "fig_heatmap_release.update_layout(\n",
    "    title='Frequency of Percentage Price Changes Around EIA WPSR Release On Release Days',\n",
    "    xaxis_title='Time Relative to Release (Minutes)',\n",
    "    yaxis_title='Percentage Price Change Bins',\n",
    "    #yaxis=dict(autorange=\"reversed\"), # Invert y-axis to have positive changes at the top\n",
    "    xaxis=dict(tickvals=time_intervals[::5], ticktext=[int(x) for x in time_intervals[::5]]) # Show x-axis ticks every 5 minutes\n",
    ")\n",
    "\n",
    "fig_heatmap_release.show()\n",
    "display(price_window_60min)\n",
    "\n",
    "display(non_release_price_windows_60min)"
   ]
  },
  {
   "cell_type": "code",
   "execution_count": null,
   "metadata": {},
   "outputs": [
    {
     "name": "stderr",
     "output_type": "stream",
     "text": [
      "C:\\Users\\evans\\AppData\\Local\\Temp\\ipykernel_23536\\2376320699.py:10: FutureWarning:\n",
      "\n",
      "The default of observed=False is deprecated and will be changed to True in a future version of pandas. Pass observed=False to retain current behavior or observed=True to adopt the future default and silence this warning.\n",
      "\n"
     ]
    },
    {
     "data": {
      "application/vnd.plotly.v1+json": {
       "config": {
        "plotlyServerURL": "https://plot.ly"
       },
       "data": [
        {
         "colorbar": {
          "title": {
           "text": "Frequency"
          }
         },
         "colorscale": [
          [
           0,
           "#440154"
          ],
          [
           0.1111111111111111,
           "#482878"
          ],
          [
           0.2222222222222222,
           "#3e4989"
          ],
          [
           0.3333333333333333,
           "#31688e"
          ],
          [
           0.4444444444444444,
           "#26828e"
          ],
          [
           0.5555555555555556,
           "#1f9e89"
          ],
          [
           0.6666666666666666,
           "#35b779"
          ],
          [
           0.7777777777777778,
           "#6ece58"
          ],
          [
           0.8888888888888888,
           "#b5de2b"
          ],
          [
           1,
           "#fde725"
          ]
         ],
         "type": "heatmap",
         "x": {
          "bdata": "AAAAAAAATsAAAAAAAIBNwAAAAAAAAE3AAAAAAACATMAAAAAAAABMwAAAAAAAgEvAAAAAAAAAS8AAAAAAAIBKwAAAAAAAAErAAAAAAACAScAAAAAAAABJwAAAAAAAgEjAAAAAAAAASMAAAAAAAIBHwAAAAAAAAEfAAAAAAACARsAAAAAAAABGwAAAAAAAgEXAAAAAAAAARcAAAAAAAIBEwAAAAAAAAETAAAAAAACAQ8AAAAAAAABDwAAAAAAAgELAAAAAAAAAQsAAAAAAAIBBwAAAAAAAAEHAAAAAAACAQMAAAAAAAABAwAAAAAAAAD/AAAAAAAAAPsAAAAAAAAA9wAAAAAAAADzAAAAAAAAAO8AAAAAAAAA6wAAAAAAAADnAAAAAAAAAOMAAAAAAAAA3wAAAAAAAADbAAAAAAAAANcAAAAAAAAA0wAAAAAAAADPAAAAAAAAAMsAAAAAAAAAxwAAAAAAAADDAAAAAAAAALsAAAAAAAAAswAAAAAAAACrAAAAAAAAAKMAAAAAAAAAmwAAAAAAAACTAAAAAAAAAIsAAAAAAAAAgwAAAAAAAABzAAAAAAAAAGMAAAAAAAAAUwAAAAAAAABDAAAAAAAAACMAAAAAAAAAAwAAAAAAAAPC/AAAAAAAAAAAAAAAAAADwPwAAAAAAAABAAAAAAAAACEAAAAAAAAAQQAAAAAAAABRAAAAAAAAAGEAAAAAAAAAcQAAAAAAAACBAAAAAAAAAIkAAAAAAAAAkQAAAAAAAACZAAAAAAAAAKEAAAAAAAAAqQAAAAAAAACxAAAAAAAAALkAAAAAAAAAwQAAAAAAAADFAAAAAAAAAMkAAAAAAAAAzQAAAAAAAADRAAAAAAAAANUAAAAAAAAA2QAAAAAAAADdAAAAAAAAAOEAAAAAAAAA5QAAAAAAAADpAAAAAAAAAO0AAAAAAAAA8QAAAAAAAAD1AAAAAAAAAPkAAAAAAAAA/QAAAAAAAAEBAAAAAAACAQEAAAAAAAABBQAAAAAAAgEFAAAAAAAAAQkAAAAAAAIBCQAAAAAAAAENAAAAAAACAQ0AAAAAAAABEQAAAAAAAgERAAAAAAAAARUAAAAAAAIBFQAAAAAAAAEZAAAAAAACARkAAAAAAAABHQAAAAAAAgEdAAAAAAAAASEAAAAAAAIBIQAAAAAAAAElAAAAAAACASUAAAAAAAABKQAAAAAAAgEpAAAAAAAAAS0AAAAAAAIBLQAAAAAAAAExAAAAAAACATEAAAAAAAABNQAAAAAAAgE1AAAAAAAAATkA=",
          "dtype": "f8"
         },
         "y": [
          "-1.00%",
          "-0.95%",
          "-0.90%",
          "-0.85%",
          "-0.80%",
          "-0.75%",
          "-0.70%",
          "-0.65%",
          "-0.60%",
          "-0.55%",
          "-0.50%",
          "-0.45%",
          "-0.40%",
          "-0.35%",
          "-0.30%",
          "-0.25%",
          "-0.20%",
          "-0.15%",
          "-0.10%",
          "-0.05%",
          "0.00%",
          "0.05%",
          "0.10%",
          "0.15%",
          "0.20%",
          "0.25%",
          "0.30%",
          "0.35%",
          "0.40%",
          "0.45%",
          "0.50%",
          "0.55%",
          "0.60%",
          "0.65%",
          "0.70%",
          "0.75%",
          "0.80%",
          "0.85%",
          "0.90%",
          "0.95%"
         ],
         "z": {
          "bdata": "IwfCgvnDVD8AAAAAAAAAAAAAAAAAAAAAAAAAAAAAAAAAAAAAAAAAAAAAAAAAAAAAAAAAAAAAAAAAAAAAAAAAACMHwoL5w1Q/AAAAAAAAAAAAAAAAAAAAAAAAAAAAAAAAAAAAAAAAAAAAAAAAAAAAAAAAAAAAAAAAAAAAAAAAAAAAAAAAAAAAAAAAAAAAAAAAAAAAAAAAAAAjB8KC+cNUPwAAAAAAAAAAAAAAAAAAAAAAAAAAAAAAAAAAAAAAAAAAAAAAAAAAAAAAAAAAAAAAAAAAAAAAAAAAAAAAAAAAAAAAAAAAAAAAAAAAAAAAAAAAIwfCgvnDVD8AAAAAAAAAACMHwoL5w1Q/AAAAAAAAAAAAAAAAAAAAACMHwoL5w1Q/AAAAAAAAAAAAAAAAAAAAAAAAAAAAAAAAAAAAAAAAAAAAAAAAAAAAAAAAAAAAAAAAAAAAAAAAAAAAAAAAAAAAAAAAAAAAAAAAAAAAAAAAAAAAAAAAAAAAAAAAAAAAAAAAAAAAAAAAAAAAAAAAAAAAAAAAAAAAAAAAAAAAAAAAAAAAAAAAAAAAACMHwoL5w1Q/AAAAAAAAAAAAAAAAAAAAACMHwoL5w1Q/AAAAAAAAAAAAAAAAAAAAAAAAAAAAAAAAAAAAAAAAAAAjB8KC+cNUPwAAAAAAAAAAAAAAAAAAAAAAAAAAAAAAAAAAAAAAAAAAAAAAAAAAAAAAAAAAAAAAACMHwoL5w1Q/AAAAAAAAAAAAAAAAAAAAAAAAAAAAAAAAAAAAAAAAAAAAAAAAAAAAAAAAAAAAAAAAAAAAAAAAAAAAAAAAAAAAAAAAAAAAAAAAIwfCgvnDVD8AAAAAAAAAAAAAAAAAAAAAAAAAAAAAAAAAAAAAAAAAAAAAAAAAAAAAAAAAAAAAAAAAAAAAAAAAAAAAAAAAAAAAAAAAAAAAAAAAAAAAAAAAAAAAAAAAAAAAAAAAAAAAAAAAAAAAAAAAAAAAAAAAAAAAAAAAAAAAAAAAAAAAAAAAAAAAAAAAAAAAAAAAAAAAAAAAAAAAAAAAAAAAAAAAAAAAAAAAAAAAAAAAAAAAAAAAAAAAAAAAAAAAAAAAAAAAAAAAAAAAAAAAAAAAAAAAAAAAIwfCgvnDVD8AAAAAAAAAAAAAAAAAAAAAAAAAAAAAAAAAAAAAAAAAAAAAAAAAAAAAAAAAAAAAAAAAAAAAAAAAAAAAAAAAAAAAAAAAAAAAAAAAAAAAAAAAAAAAAAAAAAAAAAAAAAAAAAAAAAAAAAAAAAAAAAAAAAAAAAAAAAAAAAAAAAAAAAAAAAAAAAAAAAAAAAAAAAAAAAAAAAAAAAAAAAAAAAAAAAAAAAAAAAAAAAAAAAAAAAAAAAAAAAAAAAAAAAAAAAAAAAAAAAAAAAAAAAAAAAAAAAAAAAAAAAAAAAAAAAAAAAAAAAAAAAAAAAAAAAAAAAAAAAAAAAAAAAAAAAAAAAAAAAAAAAAAAAAAAAAAAAAAAAAAAAAAAAAAAAAAAAAAAAAAAAAAAAAAAAAAAAAAAAAAAAAAAAAAAAAAAAAAAAAAAAAAAAAAAAAAAAAAAAAAAAAAAAAAAAAAAAAAAAAAAAAAAAAAAAAAAAAAAAAjB8KC+cNUPwAAAAAAAAAAAAAAAAAAAAAAAAAAAAAAAAAAAAAAAAAAAAAAAAAAAAAAAAAAAAAAAAAAAAAAAAAAIwfCgvnDVD8jB8KC+cNUPwAAAAAAAAAAAAAAAAAAAAAAAAAAAAAAAAAAAAAAAAAAAAAAAAAAAAAAAAAAAAAAAAAAAAAAAAAAAAAAAAAAAAAAAAAAAAAAAAAAAAAAAAAAAAAAAAAAAAAAAAAAAAAAAAAAAAAAAAAAAAAAAAAAAAAAAAAAAAAAACMHwoL5w1Q/AAAAAAAAAAAAAAAAAAAAAAAAAAAAAAAAAAAAAAAAAAAAAAAAAAAAAAAAAAAAAAAAAAAAAAAAAAAAAAAAAAAAAAAAAAAAAAAAAAAAAAAAAAAAAAAAAAAAAAAAAAAAAAAAAAAAAAAAAAAAAAAAAAAAAAAAAAAAAAAAAAAAAAAAAAAAAAAAAAAAAAAAAAAAAAAAAAAAAAAAAAAAAAAAAAAAAAAAAAAAAAAAAAAAAAAAAAAAAAAAAAAAAAAAAAAAAAAAAAAAAAAAAAAAAAAAAAAAAAAAAAAAAAAAAAAAAAAAAAAAAAAAAAAAAAAAAAAAAAAAAAAAAAAAAAAAAAAAAAAAAAAAAAAAAAAAAAAAAAAAAAAjB8KC+cNkPwAAAAAAAAAAAAAAAAAAAAAAAAAAAAAAAAAAAAAAAAAAAAAAAAAAAAAAAAAAAAAAAAAAAAAAAAAAIwfCgvnDVD8AAAAAAAAAAAAAAAAAAAAAAAAAAAAAAAAAAAAAAAAAAAAAAAAAAAAAAAAAAAAAAAAAAAAAAAAAAAAAAAAAAAAAAAAAAAAAAAAAAAAAAAAAACMHwoL5w2Q/AAAAAAAAAAAAAAAAAAAAAAAAAAAAAAAAAAAAAAAAAAAAAAAAAAAAAAAAAAAAAAAAIwfCgvnDVD8AAAAAAAAAAAAAAAAAAAAAAAAAAAAAAAAAAAAAAAAAAAAAAAAAAAAAAAAAAAAAAAAAAAAAAAAAAAAAAAAAAAAAAAAAAAAAAAAjB8KC+cNUPwAAAAAAAAAAAAAAAAAAAAAjB8KC+cNUPwAAAAAAAAAAIwfCgvnDVD8AAAAAAAAAAAAAAAAAAAAAAAAAAAAAAAAAAAAAAAAAAAAAAAAAAAAAAAAAAAAAAAAAAAAAAAAAACMHwoL5w1Q/AAAAAAAAAAAAAAAAAAAAAAAAAAAAAAAAAAAAAAAAAAAAAAAAAAAAAAAAAAAAAAAAAAAAAAAAAAAAAAAAAAAAAAAAAAAAAAAAAAAAAAAAAAAAAAAAAAAAAAAAAAAAAAAAAAAAAAAAAAAAAAAAAAAAAAAAAAAAAAAAAAAAAAAAAAAAAAAAAAAAAAAAAAAAAAAAIwfCgvnDVD8AAAAAAAAAAAAAAAAAAAAAAAAAAAAAAAAAAAAAAAAAAAAAAAAAAAAAAAAAAAAAAAAAAAAAAAAAAAAAAAAAAAAAAAAAAAAAAAAAAAAAAAAAACMHwoL5w1Q/AAAAAAAAAAAAAAAAAAAAAAAAAAAAAAAAAAAAAAAAAAAAAAAAAAAAAAAAAAAAAAAAAAAAAAAAAAAAAAAAAAAAACMHwoL5w1Q/AAAAAAAAAAAAAAAAAAAAAAAAAAAAAAAAAAAAAAAAAAAAAAAAAAAAACMHwoL5w1Q/AAAAAAAAAAAAAAAAAAAAAAAAAAAAAAAAAAAAAAAAAAAjB8KC+cNUPwAAAAAAAAAAAAAAAAAAAAAjB8KC+cNUPyMHwoL5w1Q/AAAAAAAAAAAjB8KC+cNUPwAAAAAAAAAAAAAAAAAAAAAAAAAAAAAAAAAAAAAAAAAAAAAAAAAAAAAAAAAAAAAAAAAAAAAAAAAAAAAAAAAAAAAAAAAAAAAAAAAAAAAAAAAAAAAAAAAAAAAjB8KC+cNUPyMHwoL5w1Q/AAAAAAAAAAAAAAAAAAAAAAAAAAAAAAAAAAAAAAAAAAAAAAAAAAAAAAAAAAAAAAAAAAAAAAAAAAAAAAAAAAAAACMHwoL5w1Q/AAAAAAAAAAAAAAAAAAAAAAAAAAAAAAAAAAAAAAAAAAAAAAAAAAAAAAAAAAAAAAAAAAAAAAAAAAAAAAAAAAAAAAAAAAAAAAAAAAAAAAAAAAAAAAAAAAAAAAAAAAAAAAAAAAAAAAAAAAAAAAAAAAAAAAAAAAAAAAAAAAAAAAAAAAAAAAAAAAAAAAAAAAAAAAAAAAAAAAAAAAAAAAAAAAAAACMHwoL5w1Q/IwfCgvnDVD8AAAAAAAAAAAAAAAAAAAAAIwfCgvnDVD8jB8KC+cNUPwAAAAAAAAAAAAAAAAAAAAAAAAAAAAAAAAAAAAAAAAAAAAAAAAAAAAAAAAAAAAAAAAAAAAAAAAAAAAAAAAAAAAAAAAAAAAAAAAAAAAAAAAAAAAAAAAAAAAAAAAAAAAAAAAAAAAAAAAAAAAAAAAAAAAAAAAAAAAAAAAAAAAAAAAAAAAAAAAAAAAAAAAAAAAAAAAAAAAAAAAAAAAAAAAAAAAAAAAAAAAAAAAAAAAAAAAAAAAAAAAAAAAAAAAAAAAAAAAAAAAAAAAAAIwfCgvnDVD8jB8KC+cNUPwAAAAAAAAAAAAAAAAAAAAAjB8KC+cNUPyMHwoL5w1Q/AAAAAAAAAAAjB8KC+cNUPwAAAAAAAAAAAAAAAAAAAAAjB8KC+cNUPwAAAAAAAAAAAAAAAAAAAAAAAAAAAAAAAAAAAAAAAAAAIwfCgvnDVD8AAAAAAAAAACMHwoL5w1Q/AAAAAAAAAAAAAAAAAAAAAAAAAAAAAAAAAAAAAAAAAAAAAAAAAAAAAAAAAAAAAAAAAAAAAAAAAAAAAAAAAAAAAAAAAAAAAAAAAAAAAAAAAAAAAAAAAAAAAAAAAAAAAAAAAAAAAAAAAAAAAAAAAAAAAAAAAAAAAAAAAAAAAAAAAAAjB8KC+cNUPyMHwoL5w1Q/AAAAAAAAAAAAAAAAAAAAACMHwoL5w1Q/AAAAAAAAAAAjB8KC+cNUPwAAAAAAAAAAAAAAAAAAAAAAAAAAAAAAALUKI0T2JW8/AAAAAAAAAAAAAAAAAAAAAAAAAAAAAAAAAAAAAAAAAAAAAAAAAAAAAAAAAAAAAAAAAAAAAAAAAAAAAAAAAAAAAAAAAAAAAAAAAAAAAAAAAAAAAAAAAAAAAAAAAAAAAAAAAAAAAAAAAAAAAAAAAAAAAAAAAAAAAAAAAAAAAAAAAAAAAAAAAAAAAAAAAAAAAAAAAAAAAAAAAAAjB8KC+cNUPyMHwoL5w1Q/AAAAAAAAAAAAAAAAAAAAACMHwoL5w1Q/AAAAAAAAAAAjB8KC+cNUPyMHwoL5w1Q/AAAAAAAAAAAAAAAAAAAAAAAAAAAAAAAAAAAAAAAAAAAAAAAAAAAAAAAAAAAAAAAAAAAAAAAAAAAAAAAAAAAAAAAAAAAAAAAAAAAAAAAAAAAAAAAAAAAAAAAAAAAAAAAAAAAAAAAAAAAAAAAAAAAAAAAAAAAAAAAAAAAAAAAAAAAAAAAAAAAAAAAAAAAAAAAAAAAAAAAAAAAAAAAAAAAAAAAAAAAAAAAAAAAAAAAAAAAAAAAAAAAAAAAAAAAAAAAAAAAAAAAAAAAAAAAAAAAAAAAAAAAAAAAAAAAAAAAAAAAAAAAAAAAAAAAAAAAAAAAAAAAAAAAAAAAAAAAAAAAAAAAAAAAAAAAAAAAAAAAAAAAAAAAAAAAAAAAAAAAAAAAAAAAAAAAAAAAjB8KC+cNUPwAAAAAAAAAAAAAAAAAAAAAAAAAAAAAAAAAAAAAAAAAAIwfCgvnDVD8AAAAAAAAAAAAAAAAAAAAAAAAAAAAAAAAAAAAAAAAAACMHwoL5w1Q/AAAAAAAAAAAAAAAAAAAAAAAAAAAAAAAAAAAAAAAAAAAjB8KC+cNkPwAAAAAAAAAAAAAAAAAAAAAAAAAAAAAAACMHwoL5w1Q/AAAAAAAAAAAAAAAAAAAAACMHwoL5w1Q/AAAAAAAAAAAAAAAAAAAAAAAAAAAAAAAAAAAAAAAAAAAAAAAAAAAAAAAAAAAAAAAAAAAAAAAAAAAAAAAAAAAAAAAAAAAAAAAAIwfCgvnDVD8AAAAAAAAAAAAAAAAAAAAAAAAAAAAAAAAAAAAAAAAAAAAAAAAAAAAAAAAAAAAAAAAAAAAAAAAAAAAAAAAAAAAAIwfCgvnDVD8AAAAAAAAAAAAAAAAAAAAAAAAAAAAAAAAjB8KC+cNUPwAAAAAAAAAAAAAAAAAAAAAAAAAAAAAAAAAAAAAAAAAAAAAAAAAAAAAjB8KC+cNUPwAAAAAAAAAAAAAAAAAAAAAAAAAAAAAAAAAAAAAAAAAAAAAAAAAAAAAAAAAAAAAAAAAAAAAAAAAAAAAAAAAAAAAAAAAAAAAAACMHwoL5w2Q/AAAAAAAAAAAAAAAAAAAAAAAAAAAAAAAAAAAAAAAAAAAAAAAAAAAAAAAAAAAAAAAAAAAAAAAAAAAjB8KC+cNUPwAAAAAAAAAAIwfCgvnDVD8AAAAAAAAAAAAAAAAAAAAAAAAAAAAAAAAAAAAAAAAAACMHwoL5w2Q/AAAAAAAAAAAAAAAAAAAAAAAAAAAAAAAAAAAAAAAAAAAAAAAAAAAAACMHwoL5w1Q/AAAAAAAAAAAAAAAAAAAAAAAAAAAAAAAAAAAAAAAAAAAAAAAAAAAAAAAAAAAAAAAAAAAAAAAAAAAAAAAAAAAAAAAAAAAAAAAAIwfCgvnDVD8AAAAAAAAAAAAAAAAAAAAAAAAAAAAAAAAjB8KC+cNUPwAAAAAAAAAAAAAAAAAAAAAjB8KC+cNUPwAAAAAAAAAAAAAAAAAAAAAAAAAAAAAAAAAAAAAAAAAAAAAAAAAAAAAAAAAAAAAAACMHwoL5w1Q/IwfCgvnDVD8jB8KC+cNUPwAAAAAAAAAAAAAAAAAAAAAjB8KC+cNUPwAAAAAAAAAAAAAAAAAAAAAAAAAAAAAAACMHwoL5w1Q/AAAAAAAAAAAAAAAAAAAAAAAAAAAAAAAAAAAAAAAAAAAAAAAAAAAAAAAAAAAAAAAAIwfCgvnDVD8AAAAAAAAAAAAAAAAAAAAAAAAAAAAAAAAAAAAAAAAAAAAAAAAAAAAAAAAAAAAAAAAjB8KC+cNUPwAAAAAAAAAAIwfCgvnDVD8AAAAAAAAAAAAAAAAAAAAAAAAAAAAAAAAAAAAAAAAAALUKI0T2JW8/AAAAAAAAAAAAAAAAAAAAAAAAAAAAAAAAAAAAAAAAAAAjB8KC+cNkPwAAAAAAAAAAIwfCgvnDVD8AAAAAAAAAACMHwoL5w1Q/AAAAAAAAAAAAAAAAAAAAAAAAAAAAAAAAIwfCgvnDVD8AAAAAAAAAAAAAAAAAAAAAAAAAAAAAAAAAAAAAAAAAAAAAAAAAAAAAAAAAAAAAAAAAAAAAAAAAAAAAAAAAAAAAAAAAAAAAAAAjB8KC+cNUPwAAAAAAAAAAAAAAAAAAAAAAAAAAAAAAAAAAAAAAAAAAAAAAAAAAAAAAAAAAAAAAAAAAAAAAAAAAAAAAAAAAAAAAAAAAAAAAAAAAAAAAAAAAIwfCgvnDVD8AAAAAAAAAAAAAAAAAAAAAAAAAAAAAAAAAAAAAAAAAAAAAAAAAAAAAAAAAAAAAAAAAAAAAAAAAACMHwoL5w1Q/AAAAAAAAAAAAAAAAAAAAAAAAAAAAAAAAAAAAAAAAAAAjB8KC+cNUPwAAAAAAAAAAAAAAAAAAAAAAAAAAAAAAAAAAAAAAAAAAAAAAAAAAAAAAAAAAAAAAAAAAAAAAAAAAIwfCgvnDVD8AAAAAAAAAAAAAAAAAAAAAAAAAAAAAAAAAAAAAAAAAACMHwoL5w2Q/AAAAAAAAAAAAAAAAAAAAACMHwoL5w1Q/AAAAAAAAAAAAAAAAAAAAAAAAAAAAAAAAAAAAAAAAAAAAAAAAAAAAACMHwoL5w1Q/AAAAAAAAAAAAAAAAAAAAAAAAAAAAAAAAAAAAAAAAAAAAAAAAAAAAAAAAAAAAAAAAAAAAAAAAAAAAAAAAAAAAAAAAAAAAAAAAAAAAAAAAAAAjB8KC+cNUPwAAAAAAAAAAAAAAAAAAAAAAAAAAAAAAAAAAAAAAAAAAAAAAAAAAAAAAAAAAAAAAAAAAAAAAAAAAAAAAAAAAAAAAAAAAAAAAAAAAAAAAAAAAIwfCgvnDZD8AAAAAAAAAACMHwoL5w1Q/AAAAAAAAAAAAAAAAAAAAAAAAAAAAAAAAAAAAAAAAAAAAAAAAAAAAAAAAAAAAAAAAIwfCgvnDVD8jB8KC+cNUPyMHwoL5w1Q/AAAAAAAAAAAAAAAAAAAAAAAAAAAAAAAAIwfCgvnDVD8AAAAAAAAAACMHwoL5w1Q/AAAAAAAAAAAAAAAAAAAAACMHwoL5w1Q/IwfCgvnDVD8AAAAAAAAAAAAAAAAAAAAAAAAAAAAAAAAAAAAAAAAAAAAAAAAAAAAAAAAAAAAAAAAAAAAAAAAAAAAAAAAAAAAAAAAAAAAAAAAjB8KC+cNUPyMHwoL5w1Q/IwfCgvnDVD8jB8KC+cNUPwAAAAAAAAAAAAAAAAAAAAAjB8KC+cNUPwAAAAAAAAAAAAAAAAAAAAAjB8KC+cNUPwAAAAAAAAAAAAAAAAAAAAAAAAAAAAAAAAAAAAAAAAAAIwfCgvnDZD8AAAAAAAAAAAAAAAAAAAAAIwfCgvnDZD8AAAAAAAAAAAAAAAAAAAAAAAAAAAAAAAAjB8KC+cNkPwAAAAAAAAAAAAAAAAAAAAAAAAAAAAAAACMHwoL5w1Q/AAAAAAAAAAAAAAAAAAAAAAAAAAAAAAAAIwfCgvnDVD8jB8KC+cNkPyMHwoL5w1Q/AAAAAAAAAAAjB8KC+cNUPyMHwoL5w1Q/IwfCgvnDVD8AAAAAAAAAAAAAAAAAAAAAAAAAAAAAAAAAAAAAAAAAAAAAAAAAAAAAAAAAAAAAAAAjB8KC+cNkPwAAAAAAAAAAIwfCgvnDZD8AAAAAAAAAACMHwoL5w1Q/AAAAAAAAAAAAAAAAAAAAAAAAAAAAAAAAAAAAAAAAAAAAAAAAAAAAAAAAAAAAAAAAAAAAAAAAAAAAAAAAAAAAAAAAAAAAAAAAIwfCgvnDVD8AAAAAAAAAAAAAAAAAAAAAIwfCgvnDZD8jB8KC+cNUPyMHwoL5w1Q/IwfCgvnDVD8AAAAAAAAAAAAAAAAAAAAAAAAAAAAAAAAAAAAAAAAAAAAAAAAAAAAAAAAAAAAAAAAAAAAAAAAAAAAAAAAAAAAAAAAAAAAAAAAAAAAAAAAAAAAAAAAAAAAAAAAAAAAAAAAAAAAAAAAAACMHwoL5w1Q/IwfCgvnDVD8AAAAAAAAAAAAAAAAAAAAAAAAAAAAAAAAAAAAAAAAAAAAAAAAAAAAAAAAAAAAAAAAAAAAAAAAAAAAAAAAAAAAAAAAAAAAAAAAAAAAAAAAAAAAAAAAAAAAAAAAAAAAAAAAjB8KC+cNUPwAAAAAAAAAAAAAAAAAAAAAAAAAAAAAAAAAAAAAAAAAAAAAAAAAAAAAAAAAAAAAAAAAAAAAAAAAAAAAAAAAAAAAjB8KC+cNUPyMHwoL5w1Q/AAAAAAAAAAAjB8KC+cNUPwAAAAAAAAAAAAAAAAAAAAAjB8KC+cNUPwAAAAAAAAAAIwfCgvnDVD8AAAAAAAAAACMHwoL5w1Q/IwfCgvnDVD8AAAAAAAAAAAAAAAAAAAAAAAAAAAAAAAAAAAAAAAAAAAAAAAAAAAAAIwfCgvnDZD8AAAAAAAAAAAAAAAAAAAAAAAAAAAAAAAAISBqzeFyHPwAAAAAAAAAAIwfCgvnDVD8AAAAAAAAAAAAAAAAAAAAAIwfCgvnDVD8jB8KC+cNkPwAAAAAAAAAAIwfCgvnDVD8jB8KC+cNUP7UKI0T2JW8/AAAAAAAAAAAAAAAAAAAAAAAAAAAAAAAAAAAAAAAAAAAAAAAAAAAAACMHwoL5w1Q/AAAAAAAAAAAAAAAAAAAAACMHwoL5w1Q/IwfCgvnDZD8AAAAAAAAAAAAAAAAAAAAAAAAAAAAAAAAjB8KC+cNUPwAAAAAAAAAAAAAAAAAAAAAAAAAAAAAAAAAAAAAAAAAAAAAAAAAAAAAjB8KC+cNUPwAAAAAAAAAAIwfCgvnDVD8jB8KC+cNkPwAAAAAAAAAAIwfCgvnDVD8jB8KC+cNUPwAAAAAAAAAAIwfCgvnDZD8AAAAAAAAAACMHwoL5w1Q/AAAAAAAAAAAAAAAAAAAAAAAAAAAAAAAAIwfCgvnDVD+1CiNE9iVvPyMHwoL5w1Q/AAAAAAAAAAAAAAAAAAAAACMHwoL5w1Q/AAAAAAAAAAAAAAAAAAAAAAAAAAAAAAAAAAAAAAAAAAAAAAAAAAAAACMHwoL5w2Q/AAAAAAAAAAAAAAAAAAAAACMHwoL5w1Q/AAAAAAAAAAAjB8KC+cN0PwAAAAAAAAAAAAAAAAAAAAAAAAAAAAAAAAAAAAAAAAAAIwfCgvnDVD8AAAAAAAAAAAAAAAAAAAAAIwfCgvnDVD8AAAAAAAAAAAAAAAAAAAAAIwfCgvnDVD8jB8KC+cNUPwAAAAAAAAAAAAAAAAAAAAAAAAAAAAAAAAAAAAAAAAAAAAAAAAAAAAAjB8KC+cNUPwAAAAAAAAAAAAAAAAAAAAAAAAAAAAAAACMHwoL5w1Q/AAAAAAAAAAAAAAAAAAAAAAAAAAAAAAAAAAAAAAAAAAAjB8KC+cNUPwAAAAAAAAAAAAAAAAAAAAAjB8KC+cNUPyMHwoL5w1Q/IwfCgvnDVD8jB8KC+cNUPyMHwoL5w1Q/AAAAAAAAAAAAAAAAAAAAAAAAAAAAAAAAIwfCgvnDVD8jB8KC+cNUPwAAAAAAAAAAAAAAAAAAAAAAAAAAAAAAACMHwoL5w1Q/IwfCgvnDVD8AAAAAAAAAAAAAAAAAAAAAAAAAAAAAAAAAAAAAAAAAAAAAAAAAAAAAIwfCgvnDVD8AAAAAAAAAAAAAAAAAAAAAAAAAAAAAAAAAAAAAAAAAAAAAAAAAAAAAAAAAAAAAAAAjB8KC+cNUPwAAAAAAAAAAAAAAAAAAAAAAAAAAAAAAACMHwoL5w3Q/IwfCgvnDVD8AAAAAAAAAAAAAAAAAAAAAAAAAAAAAAAAAAAAAAAAAAAAAAAAAAAAAIwfCgvnDZD8AAAAAAAAAACMHwoL5w2Q/AAAAAAAAAAAAAAAAAAAAAAAAAAAAAAAAAAAAAAAAAAAjB8KC+cNUPwAAAAAAAAAAIwfCgvnDVD8jB8KC+cNUPwAAAAAAAAAAAAAAAAAAAAAjB8KC+cNUPyMHwoL5w2Q/AAAAAAAAAAAAAAAAAAAAACMHwoL5w2Q/AAAAAAAAAAAAAAAAAAAAAAAAAAAAAAAAIwfCgvnDZD8jB8KC+cNUP7UKI0T2JX8/IwfCgvnDZD8AAAAAAAAAAAAAAAAAAAAAAAAAAAAAAAAjB8KC+cNUPwAAAAAAAAAAIwfCgvnDZD8jB8KC+cNUPyMHwoL5w1Q/AAAAAAAAAAAjB8KC+cNUPwAAAAAAAAAAIwfCgvnDVD+1CiNE9iVvPwAAAAAAAAAAAAAAAAAAAAAAAAAAAAAAACMHwoL5w1Q/AAAAAAAAAAAAAAAAAAAAAAAAAAAAAAAAAAAAAAAAAAAAAAAAAAAAAAAAAAAAAAAAIwfCgvnDVD8jB8KC+cNUPwAAAAAAAAAAIwfCgvnDVD8AAAAAAAAAACMHwoL5w1Q/AAAAAAAAAAAAAAAAAAAAACMHwoL5w2Q/IwfCgvnDZD8AAAAAAAAAALUKI0T2JW8/AAAAAAAAAAAAAAAAAAAAACMHwoL5w1Q/IwfCgvnDVD8jB8KC+cNUPwAAAAAAAAAAAAAAAAAAAAAAAAAAAAAAACMHwoL5w1Q/AAAAAAAAAAAjB8KC+cNUPyMHwoL5w1Q/AAAAAAAAAAAjB8KC+cNUPwAAAAAAAAAAAAAAAAAAAAAAAAAAAAAAAAAAAAAAAAAAIwfCgvnDZD8AAAAAAAAAAAAAAAAAAAAAAAAAAAAAAAAjB8KC+cNUPyMHwoL5w2Q/7Ihy4/f0eT8jB8KC+cNUP7UKI0T2JW8/AAAAAAAAAAAAAAAAAAAAACMHwoL5w1Q/IwfCgvnDVD8jB8KC+cNUPyMHwoL5w1Q/IwfCgvnDVD8AAAAAAAAAAAAAAAAAAAAAIwfCgvnDVD8AAAAAAAAAACMHwoL5w1Q/AAAAAAAAAAAAAAAAAAAAACMHwoL5w1Q/AAAAAAAAAAAAAAAAAAAAACMHwoL5w1Q/IwfCgvnDVD8jB8KC+cNUPyMHwoL5w1Q/AAAAAAAAAAAjB8KC+cNkPwAAAAAAAAAAAAAAAAAAAAAjB8KC+cNUPwAAAAAAAAAA7Ihy4/f0eT8jB8KC+cNkP7UKI0T2JW8/IwfCgvnDVD8jB8KC+cNUPyMHwoL5w1Q/IwfCgvnDVD+1CiNE9iVvPyMHwoL5w1Q/IwfCgvnDVD8jB8KC+cNUPyMHwoL5w1Q/IwfCgvnDVD8AAAAAAAAAACMHwoL5w2Q/IwfCgvnDZD8jB8KC+cNUPyMHwoL5w2Q/AAAAAAAAAAAAAAAAAAAAACMHwoL5w1Q/AAAAAAAAAAAAAAAAAAAAAAAAAAAAAAAAIwfCgvnDVD8AAAAAAAAAAAAAAAAAAAAAAAAAAAAAAAAAAAAAAAAAAAAAAAAAAAAAIwfCgvnDZD8jB8KC+cNUPwAAAAAAAAAAIwfCgvnDZD8jB8KC+cNkPyMHwoL5w2Q/IwfCgvnDVD8jB8KC+cNkPwAAAAAAAAAAIwfCgvnDVD8jB8KC+cNkPwAAAAAAAAAAIwfCgvnDVD8jB8KC+cNkPwAAAAAAAAAAIwfCgvnDVD8jB8KC+cNkPwAAAAAAAAAAIwfCgvnDVD8jB8KC+cNUPwAAAAAAAAAAIwfCgvnDVD8AAAAAAAAAAAAAAAAAAAAAAAAAAAAAAAAjB8KC+cNkPyMHwoL5w1Q/AAAAAAAAAAAAAAAAAAAAAAAAAAAAAAAAIwfCgvnDdD8jB8KC+cNkPyMHwoL5w1Q/IwfCgvnDZD8jB8KC+cNkPyMHwoL5w1Q/IwfCgvnDVD8AAAAAAAAAAAAAAAAAAAAAAAAAAAAAAAAjB8KC+cNUPwAAAAAAAAAAIwfCgvnDZD8AAAAAAAAAACMHwoL5w2Q/IwfCgvnDVD8jB8KC+cNkPwAAAAAAAAAAIwfCgvnDVD8AAAAAAAAAACMHwoL5w1Q/AAAAAAAAAAAAAAAAAAAAAAAAAAAAAAAAAAAAAAAAAAAjB8KC+cNUPyMHwoL5w1Q/AAAAAAAAAAAAAAAAAAAAACMHwoL5w2Q/tQojRPYlbz+1CiNE9iVvP7UKI0T2JW8/IwfCgvnDVD8jB8KC+cNkPwAAAAAAAAAAIwfCgvnDZD8jB8KC+cN0PwAAAAAAAAAAIwfCgvnDVD8AAAAAAAAAACMHwoL5w2Q/IwfCgvnDZD8AAAAAAAAAAAAAAAAAAAAAAAAAAAAAAAAAAAAAAAAAACMHwoL5w1Q/AAAAAAAAAAAAAAAAAAAAAAAAAAAAAAAAIwfCgvnDZD8AAAAAAAAAAAAAAAAAAAAAAAAAAAAAAAAjB8KC+cNUPyMHwoL5w1Q/AAAAAAAAAAAAAAAAAAAAAAAAAAAAAAAAIwfCgvnDVD/siHLj9/R5P+yIcuP39Hk/IwfCgvnDVD8AAAAAAAAAACMHwoL5w1Q/IwfCgvnDdD8jB8KC+cNUP7UKI0T2JW8/IwfCgvnDVD8jB8KC+cNUPyMHwoL5w2Q/IwfCgvnDVD8AAAAAAAAAACMHwoL5w1Q/AAAAAAAAAAAAAAAAAAAAALUKI0T2JW8/AAAAAAAAAAAjB8KC+cNUPyMHwoL5w1Q/IwfCgvnDVD8AAAAAAAAAAAAAAAAAAAAAIwfCgvnDVD8jB8KC+cNUPyMHwoL5w1Q/IwfCgvnDVD8jB8KC+cNkPwAAAAAAAAAAAAAAAAAAAAAjB8KC+cNUPyMHwoL5w1Q/IwfCgvnDdD8jB8KC+cNUPyMHwoL5w1Q/IwfCgvnDVD+1CiNE9iVvP7UKI0T2JW8/IwfCgvnDVD8jB8KC+cNUPyMHwoL5w1Q/IwfCgvnDVD8AAAAAAAAAACMHwoL5w2Q/tQojRPYlbz+1CiNE9iVvPyMHwoL5w1Q/AAAAAAAAAAAjB8KC+cNUPyMHwoL5w2Q/IwfCgvnDVD8AAAAAAAAAACMHwoL5w1Q/AAAAAAAAAAAAAAAAAAAAAAAAAAAAAAAAAAAAAAAAAAAjB8KC+cNUPwAAAAAAAAAAIwfCgvnDZD+1CiNE9iV/P7UKI0T2JW8/AAAAAAAAAAAjB8KC+cNUPwAAAAAAAAAAAAAAAAAAAAC1CiNE9iVvP7UKI0T2JW8/IwfCgvnDVD8jB8KC+cNUPyMHwoL5w1Q/IwfCgvnDZD+1CiNE9iVvPyMHwoL5w2Q/tQojRPYlbz8jB8KC+cNkP7UKI0T2JW8/IwfCgvnDZD+1CiNE9iVvPwAAAAAAAAAAIwfCgvnDVD8jB8KC+cNkPyMHwoL5w2Q/IwfCgvnDVD8jB8KC+cNUPyMHwoL5w2Q/tQojRPYlbz8jB8KC+cNUPyMHwoL5w1Q/AAAAAAAAAAC1CiNE9iVvPyMHwoL5w2Q/IwfCgvnDZD8jB8KC+cNkPyMHwoL5w2Q/IwfCgvnDZD8jB8KC+cNkPyMHwoL5w2Q/AAAAAAAAAAC1CiNE9iVvPwAAAAAAAAAAIwfCgvnDdD+1CiNE9iVvPyMHwoL5w2Q/tQojRPYlbz8jB8KC+cNUP7UKI0T2JW8/IwfCgvnDZD8jB8KC+cNkPyMHwoL5w1Q/IwfCgvnDdD+1CiNE9iVvPyMHwoL5w1Q/IwfCgvnDVD8jB8KC+cNUPwAAAAAAAAAAtQojRPYlbz8jB8KC+cNUP7UKI0T2JW8/AAAAAAAAAAC1CiNE9iVvP9HJyhN3jYw/P8ZpUnorgj/siHLj9/SJPyMHwoL5w1Q/IwfCgvnDdD8jB8KC+cNkPwAAAAAAAAAAIwfCgvnDVD8jB8KC+cNUPwAAAAAAAAAA7Ihy4/f0eT+1CiNE9iVvPyMHwoL5w1Q/AAAAAAAAAAAjB8KC+cNUPyMHwoL5w1Q/IwfCgvnDZD8jB8KC+cNUPyMHwoL5w2Q/AAAAAAAAAAAjB8KC+cNkP7UKI0T2JW8/IwfCgvnDZD8jB8KC+cNUPyMHwoL5w1Q/AAAAAAAAAAAjB8KC+cNUPyMHwoL5w2Q/AAAAAAAAAAAjB8KC+cNUPyMHwoL5w3Q/tQojRPYlbz8AAAAAAAAAALUKI0T2JX8/tQojRPYlbz8AAAAAAAAAACMHwoL5w3Q/P8ZpUnorgj8jB8KC+cNkP7UKI0T2JW8/7Ihy4/f0eT8jB8KC+cNkPyMHwoL5w2Q/IwfCgvnDVD8jB8KC+cNUPyMHwoL5w3Q/IwfCgvnDdD8AAAAAAAAAALUKI0T2JW8/IwfCgvnDVD8jB8KC+cNUPyMHwoL5w2Q/IwfCgvnDVD8AAAAAAAAAAAAAAAAAAAAAAAAAAAAAAAAjB8KC+cNUPyMHwoL5w1Q/IwfCgvnDVD+1CiNE9iVvPz/GaVJ6K4I/IwfCgvnDZD8jB8KC+cNkPyMHwoL5w4Q/IwfCgvnDZD8jB8KC+cNkPyMHwoL5w2Q/tQojRPYlbz8jB8KC+cNkPyMHwoL5w1Q/IwfCgvnDVD8jB8KC+cN0PyMHwoL5w1Q/7Ihy4/f0eT8jB8KC+cNUPyMHwoL5w2Q/IwfCgvnDZD8AAAAAAAAAALUKI0T2JW8/tQojRPYlbz8AAAAAAAAAALUKI0T2JW8/AAAAAAAAAAAAAAAAAAAAACMHwoL5w2Q/AAAAAAAAAAAjB8KC+cNkPyMHwoL5w1Q/IwfCgvnDZD8jB8KC+cNUP7UKI0T2JW8/tQojRPYlbz+1CiNE9iVvPyMHwoL5w3Q/tQojRPYlbz+1CiNE9iV/PwAAAAAAAAAAIwfCgvnDVD8/xmlSeiuCPyMHwoL5w2Q/IwfCgvnDZD8jB8KC+cN0P7UKI0T2JW8/tQojRPYlbz+1CiNE9iVvPyMHwoL5w2Q/tQojRPYlbz+1CiNE9iVvPyMHwoL5w1Q/tQojRPYlbz/siHLj9/R5PyMHwoL5w2Q/AAAAAAAAAAC1CiNE9iVvPwAAAAAAAAAAIwfCgvnDZD8AAAAAAAAAACMHwoL5w1Q/IwfCgvnDZD8AAAAAAAAAAOyIcuP39Hk/lifuGjkQlj8/xmlSeiuCPyMHwoL5w1Q/7Ihy4/f0eT+1CiNE9iVvP+yIcuP39Hk/tQojRPYlfz8jB8KC+cNkPz/GaVJ6K4I/IwfCgvnDVD8jB8KC+cNkPyMHwoL5w2Q/IwfCgvnDVD+1CiNE9iVvP7UKI0T2JW8/P8ZpUnorgj8jB8KC+cN0PyMHwoL5w2Q/IwfCgvnDZD8jB8KC+cNkPyMHwoL5w3Q/tQojRPYlbz+1CiNE9iVvPwAAAAAAAAAAIwfCgvnDdD8jB8KC+cNkPyMHwoL5w1Q/7Ihy4/f0eT+1CiNE9iVvPyMHwoL5w2Q/P8ZpUnorgj+1CiNE9iV/PyMHwoL5w3Q/tQojRPYlbz+1CiNE9iVvP7UKI0T2JX8/7Ihy4/f0eT/siHLj9/R5P7UKI0T2JW8/IwfCgvnDVD8jB8KC+cNkP+yIcuP39Hk/IwfCgvnDZD8jB8KC+cNUPyMHwoL5w1Q/IwfCgvnDdD8jB8KC+cN0P7UKI0T2JW8/IwfCgvnDZD8jB8KC+cNUPyMHwoL5w2Q/IwfCgvnDZD+1CiNE9iVvPyMHwoL5w3Q/IwfCgvnDZD8jB8KC+cNUP7UKI0T2JW8/IwfCgvnDZD/siHLj9/R5P7UKI0T2JW8/0cnKE3eNjD+1CiNE9iWPP+yIcuP39Hk/7Ihy4/f0eT/siHLj9/R5P+yIcuP39Hk/7Ihy4/f0eT+1CiNE9iVvPyMHwoL5w2Q/tQojRPYlbz8jB8KC+cNkPyMHwoL5w2Q/tQojRPYlfz8jB8KC+cNkP+yIcuP39Hk/7Ihy4/f0eT+1CiNE9iVvPyMHwoL5w2Q/IwfCgvnDZD8jB8KC+cN0Pz/GaVJ6K4I/IwfCgvnDZD+1CiNE9iVvP+yIcuP39Hk/tQojRPYlbz8jB8KC+cN0PyMHwoL5w1Q/IwfCgvnDVD8jB8KC+cNUPyMHwoL5w1Q/P8ZpUnorgj/RycoTd42MP+yIcuP39Ik/tQojRPYlfz8jB8KC+cN0Pz/GaVJ6K4I/IwfCgvnDdD8/xmlSeiuCP7UKI0T2JW8/IwfCgvnDVD8jB8KC+cOEPz/GaVJ6K4I/tQojRPYlbz/siHLj9/R5PyMHwoL5w1Q/7Ihy4/f0eT8/xmlSeiuCP7UKI0T2JW8/IwfCgvnDdD8jB8KC+cN0PyMHwoL5w3Q/IwfCgvnDVD+1CiNE9iVvPyMHwoL5w2Q/7Ihy4/f0eT8jB8KC+cNkP7UKI0T2JX8/tQojRPYlbz+1CiNE9iVvPyMHwoL5w3Q/7Ihy4/f0iT941n8emtGiPwhIGrN4XIc/zaU9ujrfkD+x5pXquXeTPyMHwoL5w2Q/7Ihy4/f0iT+1CiNE9iVvPyMHwoL5w4Q/7Ihy4/f0eT8jB8KC+cOEPyMHwoL5w3Q/IwfCgvnDdD/siHLj9/R5PyMHwoL5w4Q/IwfCgvnDdD8/xmlSeiuCP+yIcuP39Hk/tQojRPYlbz8jB8KC+cNkP7UKI0T2JX8/0cnKE3eNjD8jB8KC+cNkPyMHwoL5w1Q/tQojRPYlbz/siHLj9/R5P7UKI0T2JX8/tQojRPYlbz8jB8KC+cNUP+yIcuP39Hk/tQojRPYlbz+WJ+4aORCWPz/GaVJ6K4I/CEgas3hchz8/xmlSeiuCP+yIcuP39Hk/CEgas3hchz+1CiNE9iV/PyMHwoL5w4Q/tQojRPYljz+1CiNE9iV/PwhIGrN4XIc/IwfCgvnDdD+1CiNE9iV/P7UKI0T2JX8/P8ZpUnorgj8/xmlSeiuSPyMHwoL5w3Q/IwfCgvnDhD+1CiNE9iV/Pz/GaVJ6K4I/zaU9ujrfkD+1CiNE9iV/P7UKI0T2JW8/tQojRPYlfz8jB8KC+cOEPwhIGrN4XIc/IwfCgvnDdD8jB8KC+cN0P7UKI0T2JX8/IwfCgvnDVD8ISBqzeFyXPwhIGrN4XIc/P8ZpUnorgj8jB8KC+cOEP7UKI0T2JW8/IwfCgvnDhD+1CiNE9iWPPwhIGrN4XIc/IwfCgvnDdD+1CiNE9iV/Pz/GaVJ6K5I/tQojRPYlfz8jB8KC+cOEP+yIcuP39Hk/tQojRPYlbz/siHLj9/R5Pz/GaVJ6K4I/0cnKE3eNjD8jB8KC+cN0PyMHwoL5w3Q/tQojRPYlfz/siHLj9/R5PyMHwoL5w3Q/7Ihy4/f0eT8jB8KC+cN0PwhIGrN4XIc/IwfCgvnDhD+1CiNE9iVvP7UKI0T2JW8/tQojRPYlfz8jB8KC+cN0P7UKI0T2JY8/tQojRPYljz+1CiNE9iWPPz/GaVJ6K5I/tQojRPYljz/RycoTd42MP5Yn7ho5EJY/7Ihy4/f0iT/siHLj9/SJP+yIcuP39Ik/0cnKE3eNjD/RycoTd42MPwhIGrN4XIc/7Ihy4/f0iT/RycoTd42MP82lPbo635A/7Ihy4/f0iT/siHLj9/R5P7UKI0T2JY8/tQojRPYlbz8/xmlSeiuCPwhIGrN4XIc/IwfCgvnDdD/siHLj9/R5P7UKI0T2JW8/CEgas3hchz+1CiNE9iV/P+yIcuP39Ik/7Ihy4/f0eT8jB8KC+cN0P16pnns3Qas/IwfCgvnDlD8/xmlSeiuiPz/GaVJ6K5I/IwfCgvnDhD+x5pXquXeTPyMHwoL5w5Q/tQojRPYljz8/xmlSeiuSPz/GaVJ6K5I/7Ihy4/f0iT/NpT26Ot+QP7UKI0T2JX8/P8ZpUnorgj+1CiNE9iWPP7Hmleq5d5M/7Ihy4/f0iT+1CiNE9iWPP7UKI0T2JY8/IwfCgvnDhD8jB8KC+cOUPwhIGrN4XIc/tQojRPYljz/NpT26Ot+QP7UKI0T2JW8/IwfCgvnDhD8ISBqzeFyHPyMHwoL5w3Q/IwfCgvnDhD8jB8KC+cOEP16pnns3QZs/CEgas3hclz+x5pXquXeTP82lPbo635A/zaU9ujrfkD9D6varttmdP82lPbo635A/tQojRPYljz+WJ+4aORCWP7UKI0T2JX8/tQojRPYljz8ISBqzeFyXP7UKI0T2JY8/IwfCgvnDlD/NpT26Ot+QP7Hmleq5d5M/CEgas3hchz8ISBqzeFyXPz/GaVJ6K4I/CEgas3hchz8ISBqzeFyHP7Hmleq5d5M/CEgas3hchz/RycoTd42MP7UKI0T2JY8/0cnKE3eNjD8/xmlSeiuCPyMHwoL5w4Q/7Ihy4/f0iT/RycoTd42MP7UKI0T2JZ8/lifuGjkQlj96aEZLuKiYP7UKI0T2JY8/0cnKE3eNjD8jB8KC+cOUPwhIGrN4XJc/seaV6rl3kz+1CiNE9iWPPyMHwoL5w4Q/7Ihy4/f0iT8jB8KC+cOEPwhIGrN4XIc/CEgas3hchz/siHLj9/SJP5Yn7ho5EJY/emhGS7iomD8jB8KC+cOEP+yIcuP39Ik/IwfCgvnDhD8/xmlSeiuCPwhIGrN4XIc/P8ZpUnorgj/siHLj9/SJP82lPbo635A/P8ZpUnorkj8ISBqzeFyHPwhIGrN4XIc/CEgas3hchz+1CiNE9iWPP7Hmleq5d5M/QVgwf5gCqD+1CiNE9iWfP3jWfx6a0aI/7Ihy4/f0mT+WJ+4aORCWP5Yn7ho5EJY/7Ihy4/f0mT/siHLj9/SZP7Hmleq5d5M/IwfCgvnDlD/RycoTd42MP82lPbo635A/emhGS7iomD+x5pXquXeTP7Hmleq5d5M/lifuGjkQlj9D6varttmdP+yIcuP39Ik/lifuGjkQlj9eqZ57N0GbPwhIGrN4XJc/XqmeezdBmz+x5pXquXeTP7Hmleq5d5M/7Ihy4/f0iT+x5pXquXeTP7UKI0T2JY8/emhGS7iomD/siHLj9/SZP5SVJ+4aOaA/QA/NaAkXtT+1CiNE9iWvP5Yn7ho5EKY/BrZThlqFoT+UlSfuGjmgP+r2q7bZHaQ/seaV6rl3oz8ISBqzeFyXP16pnns3QZs/0cnKE3eNnD9BWDB/mAKoP+yIcuP39Jk/0cnKE3eNnD96aEZLuKiYP9HJyhN3jZw/6varttkdpD+1CiNE9iWfP+yIcuP39Jk/CEgas3hclz/RycoTd42cPwhIGrN4XJc/seaV6rl3kz+x5pXquXeTP82lPbo635A/emhGS7iomD+WJ+4aORCWPwhIGrN4XJc/IwfCgvnDlD8jB8KC+cOUP7Hmleq5d5M/BrZThlqFsT96aEZLuKioP+yIcuP39Kk/IwfCgvnDpD+UlSfuGjmgP+r2q7bZHaQ/0cnKE3eNnD/NpT26Ot+gP16pnns3QZs/zaU9ujrfoD/PNwTnWLamP82lPbo636A/lifuGjkQlj/siHLj9/SZP16pnns3QZs/CEgas3hcpz+WJ+4aORCWPyMHwoL5w6Q/emhGS7iomD8/xmlSeiuiPwa2U4ZahaE/emhGS7iomD9D6varttmdP16pnns3QZs/0cnKE3eNnD941n8emtGiP3poRku4qJg/7Ihy4/f0mT/RycoTd42cP16pnns3QZs/XqmeezdBqz8lmYivF5uqP7Hmleq5d6M/XqmeezdBmz/NpT26Ot+gP9HJyhN3jZw/7Ihy4/f0mT941n8emtGiP0Pq9qu22Z0/7Ihy4/f0mT+1CiNE9iWfP3poRku4qJg/BrZThlqFoT+1CiNE9iWPP7Hmleq5d5M/P8ZpUnorkj8/xmlSeiuiP9HJyhN3jZw/BrZThlqFoT+WJ+4aORCWP+yIcuP39Jk/zaU9ujrfoD9D6varttmdP7Hmleq5d5M/BrZThlqFoT8GtlOGWoWhP9HJyhN3jZw/0cnKE3eNnD+1CiNE9iWPPwa2U4ZahaE/BrZThlqFoT9bznQ4in6yPwa2U4ZahbE/6a1IoEoysT/prUigSjKxP7UKI0T2Ja8/eNZ/HprRsj/siHLj9/SpP3poRku4qKg/XqmeezdBqz96aEZLuKioP+yIcuP39Kk/emhGS7ioqD/PNwTnWLamP0FYMH+YAqg/seaV6rl3oz+zeFwX2E6pP9HJyhN3jaw/IwfCgvnDpD9BWDB/mAKoP1wX2E4ZaqU/7ho5EBbMrz8lmYivF5uqP0Pq9qu22a0/IwfCgvnDpD/siHLj9/SpP5Yn7ho5EKY/0cnKE3eNrD96aEZLuKioP+yIcuP39Jk/tQojRPYlrz+iGS3homLAPyRQJZmIr7c/CEgas3hctz/q9qu22R20P5XeigSqJLM/seaV6rl3sz941n8emtGyPwa2U4ZahbE/fPoMeNZ/rj/q9qu22R20Pwa2U4ZahbE/BrZThlqFsT+YubRHV+erP3z6DHjWf64/JZmIrxebqj/prUigSjKxP7CdMtQqjLA/emhGS7ioqD8K2uDfljOtP+yIcuP39Kk/6varttkdtD98+gx41n+uP5Yn7ho5EKY/mLm0R1fnqz+UlSfuGjmgP3z6DHjWf64/zaU9ujrfsD9cF9hOGWqlPyWZiK8Xm6o/mLm0R1fnqz98+gx41n++PyRQJZmIr7c/XBfYThlqtT+UlSfuGjmwP1vOdDiKfrI/0IBn/eehuT+WJ+4aORC2P82lPbo637A/zaU9ujrfsD+V3ooEqiSzP7N4XBfYTrk/tQojRPYlrz/uGjkQFsyvPz/GaVJ6K7I/Ctrg35YzrT8jB8KC+cO0PyMHwoL5w7Q/IwfCgvnDtD9D6varttmtP5SVJ+4aObA/ld6KBKoksz9D6varttmtPwra4N+WM60/Ctrg35YzrT9D6varttmtP9HJyhN3jaw/7ho5EBbMrz98+gx41n+uPyWZiK8Xm6o/lJUn7ho5sD96aEZLuKi4P+3R1fmG4Lw/B/+2nOlwtD/PNwTnWLa2P3poRku4qLg/XBfYThlqtT/O7qDQycqzP5i5tEdX56s/P8ZpUnorsj8K2uDfljOtP+r2q7bZHbQ/sJ0y1CqMsD/NpT26Ot+wP7CdMtQqjLA/mLm0R1fnqz941n8emtGyP9HJyhN3jaw/QVgwf5gCqD8lmYivF5uqP7UKI0T2Ja8/fPoMeNZ/rj+UlSfuGjmwP5Yn7ho5ELY/zaU9ujrfsD+1CiNE9iWvP1vOdDiKfrI/eNZ/HprRsj9D6varttmtP5SVJ+4aObA/IwfCgvnDtD8kUCWZiK+3P3poRku4qMg/alJ6KxKowj8Vg7yPcZrEP9spQ63CCME/sJ0y1CqMwD+iGS3homLAP3z6DHjWf74/tMG/LWc6vD/siHLj9/S5PyWZiK8Xm7o/6a1IoEoywT8K2uDfljO9P3uxqWFHlLs/6a1IoEoywT+YAhhe5tK+P82lPbo638A/7ho5EBbMvz8K2uDfljO9P+4aORAWzL8/e7GpYUeUuz8lmYivF5u6P3z6DHjWf74/hREi+5IPwD+YubRHV+e7P5gCGF7m0r4/sJ0y1CqMwD9dYDtlqFW4Pwra4N+WM70/Ctrg35YzvT+GWoURIvvCP+3R1fmG4Mw/iOxLPkDSyD/As/7z0IzGP2ub3UGhk8U/FDpZeeKuwT8ISBqzeFzHP927Cdrg38Y/alJ6KxKowj+UlSfuGjnAP5SVJ+4aOcA/hlqFESL7wj98+gx41n++P/gxTpPSW8E/+DFOk9JbwT8ivl5satjBP0APzWgJF8U/v2qb3UGhwz8ivl5satjBPzFCZF/yAcI/mLm0R1fnuz8xQmRf8gHCP5SVJ+4aOcA/zaU9ujrfwD+0wb8tZzq8P7CdMtQqjMA/viE4x7K1wD8xQmRf8gHCP+3R1fmG4Lw/JuLrxaaGvT97salhR5S7P5tXqufeTdA/+sMUwPAyxz9AD81oCRfFP1vOdDiKfsI/TUpvRQJVwj/6DHjWfx7KPxbMH6YAhsc/lifuGjkQxj8/xmlSeivCP2ub3UGhk8U/IwfCgvnDxD9Ok9JbkUDFPxQ6WXnirsE/FDpZeeKuwT9NSm9FAlXCP1wX2E4ZasU/lifuGjkQxj8jB8KC+cPEP06T0luRQMU/W850OIp+wj/6wxTA8DLHP1vOdDiKfsI/Ir5ebGrYwT+GWoURIvvCP3kf4zQpvcU/BrZThlqFwT/5erGpYUfEPzFCZF/yAcI/QqGTlSfuuj8Vg7yPcZrEP8H8YQpgeMk/wLP+89CMxj+kq/MNwTnGP6Sr8w3BOcY/hlqFESL7wj8H/7ac6XDEP2ub3UGhk8U/eR/jNCm9xT+V3ooEqiTDPwf/tpzpcMQ/CEgas3hcxz+kq/MNwTnGPzKLx3WB7cQ/zaU9ujrfwD+1CiNE9iW/P0FYMH+YAsg/wLP+89CMxj8xQmRf8gHCP1vOdDiKfsI/2ylDrcIIwT95H+M0Kb3FP06T0luRQMU/ohkt4aJiwD9AD81oCRfFP82lPbo638A/+XqxqWFHxD9rm91BoZPFP9spQ63CCME/P8ZpUnorwj/4MU6T0lvBPxbMH6YAhsc/3HKmw1H00z9k2VpI3X7VP87uoNDJytM/eR/jNCm91T9VVVVVVVXVP06T0luRQNU/FYO8j3Ga1D/HLB7XBbbTP3EU/STWvNI/ufF7+gx41j9rm91BoZPVP/l6salhR9Q/IwfCgvnD1D8APTSjJVzUP4ej6Cex5tU/5H2M06T01j9Ok9JbkUDVP0aI7Es+QNI/v2qb3UGh0z+4qBjkfYzTP0APzWgJF9U/XBfYThlq1T/VsCPKjd/TP79qm91BodM/h6PoJ7Hm1T9AD81oCRfVPyMHwoL5w9Q/eNZ/HprR0j/xuC6wnTLUP9b5huAcy9Y/ZNlaSN1+1T+58Xv6DHjWP927Cdrg39Y/emhGS7io2D+Ho+gnsebVPyvJRHy92NQ/a5vdQaGT1T+kq/MNwTnWPxxFP4k1r9Q/3bsJ2uDf1j8yi8d1ge3UP3kf4zQpvdU/VVVVVVVV1T9dYDtlqFXYP53pcBT9JNY/1vmG4BzL1j9cF9hOGWrVP7nxe/oMeNY/6z8PzWgJ1z+rbXYHhU7WP4ej6Cex5tU/lifuGjkQ1j/q9qu22R3UP/G4LrCdMtQ/XBfYThlq1T+Ho+gnsebVP40cCAvmD9M/8bgusJ0y1D8H/7ac6XDUP1wX2E4ZatU/0hIuKgZ53z/B/GEKYHjZP0FYMH+YAtg/CEgas3hc1z/PNwTnWLbWPyxbC6nbr9o/ZSK+Xmxq2D8yi8d1ge3UP/rDFMDwMtc/emhGS7io2D/duwna4N/WP0FYMH+YAtg/Vp64a+RA2D9rm91BoZPVP+s/D81oCdc/8gGSxiwe1z8rEqiSTMTXP11gO2WoVdg/JFAlmYiv1z8H/7ac6XDUPw8Knaw8cdc/AD00oyVc1D8PCp2sPHHXP6Sr8w3BOdY/+sMUwPAy1z/yAZLGLB7XP+R9jNOk9NY/zzcE51i21j/xuC6wnTLUP5XeigSqJNM/xywe1wW20z+Ho+gnsebVPxbMH6YAhtc/1vmG4BzL1j9cF9hOGWrVPzKLx3WB7dQ/j67ONwTn2D8Bhpe5tEfXP9CAZ/3nodk/DwqdrDxx1z+OZWshdfvVP7Iv+QBJY9Y/CEgas3hc1z+d6XAU/STWP2ub3UGhk9U/B/+2nOlw1D+l9FYkUCXZP9dC6varttk/si/5AElj1j+d6XAU/STWP7N4XBfYTtk/EFMAw8tc2j+58Xv6DHjWPxWDvI9xmtQ/pKvzDcE51j85TUpvRQLVP0fRT2LNK9U/JFAlmYiv1z/rPw/NaAnXP7nxe/oMeNY/wLP+89CM1j89926CNvjnPzd+T58Bz+o/+gx41n8e6j8p+kmseaXqP7/kAySNWew/As/6z0Mz6j93UOhk5YnrP6meezdBG+w/HL+nz4Bn7T9FAlWSifjqP16pnns3Qes/HL+nz4Bn7T8DGF7m0h7tPxy/p8+AZ+0/Q+r2q7bZ7T9X5xuCcyzrP1yRQJVkIu4/nGPZWkjd7j8U/STWvFLtP7/kAySNWew/otz4PX0G7D/UKowQ2ZfsP+YPUwDDy+w/cdfIgbBg7j+NlnBRMcjrPzd+T58Bz+o/UW78nj4D7j+xqWFHlBvvP2e0hIuKQe4/10Lq9qu26T+1CiNE9iXfP1vOdDiKfuI/q212B4VO5j/9JNa8Uj3nP4+uzjcE5+g/WbYWUrdf5T/9JNa8Uj3nP0/cNXIgLOg/O98QnGPZ6j9EufF7+gzoP0gas3hcF+g/yb7kAySN6T9UhlqFESLrP4k1r1TPves/kPcxTpPS6z+oVRghsi/pP8wfpgCGl+k/W0jdftU26z8QUwDDy1zqP/STWPNK9ew/jE0NO6Lc6D/ao6vzDcHpP7/kAySNWew/DTui3Pg97T+G1O1XbbPrP38Sa16pnus/5g9TAMPL7D8RnGPZWkjtP+3R1fmG4Ow/+1Xb7A4K7T/RycoTd43sP++g0MnKE+c/DPI+xmlS6j/MH6YAhpfpP2ZrIXX7Ves/jmVrIXX75T/JvuQDJI3pP1fnG4JzLOs/SWMWj+sC6z907yZog3/rP2Uivl5saug/G3ZEufF76j+CcyxbC6nrPwra4N+WM+0/W0jdftU26z9vRQJVkonoP+JlLu3R1ek/rf88NKMl7D8p+kmseaXqP2oVRojsS+4/xV0jB8KC6T/RycoTd43sP16pnns3Qes/303QBv+27D/JB0gas3jsPwUwvMylPeo/4q6RA2HB7D+mPbo63xDsPwAAAAAAAPA/NWbxuC6w7T9Ok9JbkUDlP+Ecy9ZC6uY/emhGS7io6D/mD1MAw8vsP2nM4nFdYOs/Vp64a+RA6D/+bTnT4SjqP0UCVZKJ+Oo/+PQZ8Kz/7D+i3Pg9fQbsP4jsSz5A0ug/SWMWj+sC6z9UhlqFESLrP99N0Ab/tuw/DTui3Pg97T+BKslEfL3oP1AlmYivF+s/jZZwUTHI6z/siHLj9/TpP9vsDgqdrOw/5cbv6TPg6T9tLaRuv2rrPw07otz4Pe0/303QBv+27D/NaAkXFYPsP+yIcuP39Ok/qZ57N0Eb7D8fIGnM4nHtP0qseaV67u0/yQdIGrN47D9a/3loRkvoP4O8j3GalN4/ohkt4aJi4D9bznQ4in7iP3EU/STWvOI/6a1IoEoy4T9K6a1IoEriP79qm91BoeM/4zQpvRUJ5D+1R1fnG4LjP45layF1++U/vAna4N+W4z+4qBjkfYzjP+r2q7bZHeQ/8bgusJ0y5D/nleq5dxPkPxv823Kmw+E/Xy82NeyI4j95H+M0Kb3lP9FPYs0r1eM/eR/jNCm95T/5erGpYUfkP66F1O1XbeM/AD00oyVc5D8cRT+JNa/kP1wX2E4ZauU/w8tc2qOr4z/5erGpYUfkP+5XbbM7KOQ/DsE5lq2F5D9RqzBCZF/iP/G4LrCdMtQ/bS2kbr9q2z9KrHmleu7dPzVm8bgusN0/ohkt4aJi4D+wnTLUKozgP5A0ZvG4LuA/eNZ/HprR4j8Ymxp2RLnhP5F9yQdIGuM/AlWSifh64T/O7qDQycrjP58Bz/rPQ+M/WG2zOyh04j90db4hOMfiP74hOMeyteA/EdmXfICk4T/Dy1zao6vjPztlqFUYIeI/+5IPkDRm4T8mHyBpzOLhP7ioGOR9jOM/psNR9JNY4z+fAc/6z0PjP9FPYs0r1eM///PQjJZw4T9qUnorEqjiPwpgeJlLe+Q/9RnwrP885D/Kjd/TZ8DjP/UZ8Kz/POQ/2ylDrcII4T8CVZKJ+HrhP1GrMEJkX+I/Xy82NeyI4j+tPHHXyIHgP01Kb0UCVeI/zu6g0MnK4z/ccqbDUfTjP66F1O1XbeM/QycrT9w14j84BOdYthbiP5XeigSqJOM/B/+2nOlw5D/1GfCs/zzkP+0OCp2sPOE/alJ6KxKo4j9bznQ4in7iPwOe9Z+HZuQ/W850OIp+4j/7kg+QNGbhP5XeigSqJOM/DsE5lq2F5D98N0Eb/NviP4q7Rg6EBeM/fDdBG/zb4j/VsCPKjd/jPzlNSm9FAuU/UvSTWPNK5T/uV22zOyjkP8OOKDd+T98/g/nDFMDw4j8b/NtypsPhPyqA4WUu7eE/ld6KBKok4z+V3ooEqiTjP4q7Rg6EBeM/hlqFESL74j9K6a1IoEriP+DTZ8Cz/uM/eNZ/HprR4j9tszsodLLiP8qN39NnwOM/CmB4mUt75D8SIvuSD5DkPy3homKQ9+E/cRT9JNa84j/Kjd/TZ8DjP278nj4DnuU/SzIRXy825T+D+cMUwPDiP7wJ2uDfluM/4NNnwLP+4z8cRT+JNa/kPxWDvI9xmuQ/seaV6rl34z+1R1fnG4LjPy4qBnkf4+Q/ZvG4LrCd4j90db4hOMfiPx9dnW8IzuE/ZNlaSN1+1T+coA3+bTnTPzlNSm9FAtU/ZNlaSN1+1T9cF9hOGWrVP0fRT2LNK9U/zu6g0MnK0z/VsCPKjd/TP2TZWkjdftU/QA/NaAkX1T9/mAIYXubSPw7BOZathdQ/OU1Kb0UC1T+V3ooEqiTTP1vOdDiKftI/1bAjyo3f0z9NSm9FAlXSPzFCZF/yAdI/AD00oyVc1D8APTSjJVzUP/G4LrCdMtQ/OU1Kb0UC1T8jB8KC+cPUP2OQ9zFOk9I/AD00oyVc1D85TUpvRQLVP79qm91BodM/uKgY5H2M0z8yi8d1ge3UP7Iv+QBJY9Y/MovHdYHt1D9IGrN4XBfYP53pcBT9JNY/nelwFP0k1j8WzB+mAIbXPyRQJZmIr9c/3bsJ2uDf1j9cF9hOGWrVP927Cdrg39Y/ufF7+gx41j/yAZLGLB7XP4DhZS7t0dU/QA/NaAkX1T9/mAIYXubSP4ej6Cex5tU/jmVrIXX71T/As/7z0IzWP40cCAvmD9M/lifuGjkQ1j+rbXYHhU7WP0APzWgJF9U/si/5AElj1j/rPw/NaAnXPyvJRHy92NQ/OU1Kb0UC1T9cF9hOGWrVP5Yn7ho5ENY/xywe1wW20z/jNCm9FQnUP4DhZS7t0dU/bnYHhU5W3j8ISBqzeFzXP9xypsNR9NM/s3hcF9hO2T/PNwTnWLbWPwGGl7m0R9c/cl1gO2Wo1T9k2VpI3X7VP883BOdYttY/zu6g0MnK0z8z1CqMENnXP7o63xCcY9k/h6PoJ7Hm1T9yXWA7ZajVP+R9jNOk9NY/AYaXubRH1z/IdYHtlKHWP6okE/H1YtM/FswfpgCG1z/rPw/NaAnXP9CAZ/3nodk/ujrfEJxj2T86lq2F1O3XPx2Oop/Emtc/jmVrIXX71T+zeFwX2E7ZP5ygDf5tOdM/pKvzDcE51j8H/7ac6XDUPzqWrYXU7dc/bORAWDB/2D95H+M0Kb3VP6Sr8w3BOdY/zu6g0MnK0z8WzB+mAIbXP7N4XBfYTtk/cl1gO2Wo1T9Wnrhr5EDYP4ej6Cex5tU/ufF7+gx41j8PCp2sPHHXPxbMH6YAhtc/M9QqjBDZ1z+rbXYHhU7WP9b5huAcy9Y/njLUKowQ2T+rbXYHhU7WP3JdYDtlqNU/zzcE51i21j+OZWshdfvVP0/cNXIgLNg/XBfYThlq1T85TUpvRQLVP53pcBT9JNY/ZSK+Xmxq2D/siHLj9/TZP6ttdgeFTtY/zzcE51i21j8kUCWZiK/XP4EqyUR8vdg/KxKokkzE1z9qUnorEqjCPxWDvI9xmsQ/6a1IoEoywT8K2uDfljO9P74hOMeytcA/FDpZeeKuwT++ITjHsrXAP/gxTpPSW8E/tQojRPYlvz9dYDtlqFW4P9spQ63CCME/Ctrg35YzvT/t0dX5huC8P0Khk5Un7ro/XqmeezdBuz8GtlOGWoXBPybi68Wmhr0/e7GpYUeUuz9CoZOVJ+66PwmRfckHSLo/0IBn/eehuT98+gx41n++P7TBvy1nOrw/ohkt4aJiwD/RycoTd428P7Hmleq5d8M/mAIYXubSvj8JkX3JB0i6P3kf4zQpvbU/FDpZeeKuwT+YubRHV+fLP4jsSz5A0sg/3bsJ2uDfxj8WzB+mAIbHPwf/tpzpcMQ/eR/jNCm9xT/6wxTA8DLHP3jWfx6a0cI/lJUn7ho5wD8/xmlSeivCP87uoNDJysM/MUJkX/IBwj8m4uvFpoa9P3z6DHjWf74/7dHV+YbgvD9qUnorEqjCP2pSeisSqMI/lJUn7ho5wD8ivl5satjBPzFCZF/yAcI/P8ZpUnorwj+FESL7kg/AP7UKI0T2Jb8/0cnKE3eNvD/SEi4qBnm/P9xypsNR9MM/Ctrg35YzvT/bKUOtwgjBP6IZLeGiYsA/lifuGjkQtj+1CiNE9iXPP+r2q7bZHcQ/a5vdQaGTxT/ccqbDUfTDP1wX2E4ZasU/6z8PzWgJxz/As/7z0IzGPyMHwoL5w8Q/ld6KBKokwz9qUnorEqjCP2ub3UGhk8U/P8ZpUnorwj8Vg7yPcZrEPz/GaVJ6K8I/P8ZpUnorwj8kUCWZiK/HP7Iv+QBJY8Y/QA/NaAkXxT+GWoURIvvCP01Kb0UCVcI/QA/NaAkXxT+V3ooEqiTDPyK+Xmxq2ME/hlqFESL7wj8UOll54q7BP06T0luRQMU/IwfCgvnDxD8H/7ac6XDEPxQ6WXnirsE/2ylDrcIIwT+I7Es+QNLIPzPUKowQ2cc/iOxLPkDSyD+V3ooEqiTDP1wX2E4ZasU/TpPSW5FAxT+V3ooEqiTDP5gCGF7m0r4/FDpZeeKuwT+x5pXquXfDP6Sr8w3BOcY/3HKmw1H0wz9qUnorEqjCP79qm91BocM/3HKmw1H0wz8ISBqzeFzHP1vOdDiKfsI/seaV6rl3wz+Ho+gnsebFP5SVJ+4aOcA/W850OIp+wj8xQmRf8gHCP3kf4zQpvcU/P8ZpUnorwj+1CiNE9iW/P+r2q7bZHcQ/MUJkX/IBwj9eqZ57N0G7P+mtSKBKMsE/alJ6KxKowj8z1CqMENnHP11gO2WoVbg/lJUn7ho5sD+YubRHV+erP3z6DHjWf64/fPoMeNZ/rj8ivl5satixP3z6DHjWf64/0cnKE3eNrD8ISBqzeFynP5Yn7ho5EKY/mLm0R1fnqz+1CiNE9iWvP+r2q7bZHaQ/7Ihy4/f0qT941n8emtGiP5Yn7ho5ELY/QVgwf5gCqD+WJ+4aORCmPyWZiK8Xm6o/CEgas3hcpz8GtlOGWoWxP+yIcuP39Kk/zaU9ujrfoD+WJ+4aORCmP883BOdYtqY/6a1IoEoysT9cF9hOGWqlP5Yn7ho5EKY/0cnKE3eNrD98+gx41n+uPwra4N+WM70/Q+r2q7bZvT+wnTLUKoywP3jWfx6a0bI/6varttkdtD95H+M0Kb21Pz/GaVJ6K7I/P8ZpUnorsj941n8emtGyP5SVJ+4aObA/Ir5ebGrYsT8ISBqzeFynP7CdMtQqjLA/7Ihy4/f0qT96aEZLuKioP+4aORAWzK8/sJ0y1CqMsD8ISBqzeFynP7CdMtQqjLA/7Ihy4/f0qT+WJ+4aORC2P0Pq9qu22a0/eNZ/HprRoj9eqZ57N0GrP1vOdDiKfrI/BrZThlqFsT9eqZ57N0GrP9HJyhN3jaw/zzcE51i2pj8ISBqzeFynP11gO2WoVbg/emhGS7iouD9dYDtlqFW4P0FYMH+YArg/zu6g0MnKsz9cF9hOGWq1P82lPbo637A/Ctrg35YzrT8H/7ac6XC0PyK+Xmxq2LE/emhGS7iouD/uGjkQFsyvP5XeigSqJLM/emhGS7ioqD+x5pXquXezP87uoNDJyrM/XBfYThlqtT9D6varttmtPwhIGrN4XKc/6a1IoEoysT/q9qu22R20P7UKI0T2Ja8/lJUn7ho5sD/O7qDQycqzP7CdMtQqjLA/seaV6rl3sz+V3ooEqiSzP5Yn7ho5EKY/emhGS7ioqD8ISBqzeFynPyWZiK8Xm7o/IwfCgvnDtD95H+M0Kb21Pz/GaVJ6K7I/sJ0y1CqMsD8kUCWZiK+3P82lPbo637A/Q+r2q7bZrT9D6varttmtP9HJyhN3jaw/0IBn/eehuT+V3ooEqiSzPwhIGrN4XKc/fPoMeNZ/rj8GtlOGWoWxP9CAZ/3nobk/fPoMeNZ/rj/uGjkQFsyvPyK+Xmxq2LE/6a1IoEoysT941n8emtGyP16pnns3Qas/emhGS7ioqD9bznQ4in6yP883BOdYtqY/zaU9ujrfsD8/xmlSeiuyP7Hmleq5d6M/Ir5ebGrYsT+YubRHV+erP883BOdYtrY/tQojRPYlnz8/xmlSeiuiPyMHwoL5w5Q/Q+r2q7bZnT9eqZ57N0GbP3jWfx6a0aI/7Ihy4/f0mT+1CiNE9iWfP3poRku4qJg/IwfCgvnDlD+UlSfuGjmgPz/GaVJ6K5I/0cnKE3eNjD+1CiNE9iWPPwhIGrN4XJc/lifuGjkQlj+WJ+4aORCWPz/GaVJ6K5I/7Ihy4/f0mT8/xmlSeiuSPyMHwoL5w5Q/CEgas3hchz9eqZ57N0GbP7UKI0T2JY8/P8ZpUnorkj8/xmlSeiuSP9HJyhN3jYw/zaU9ujrfkD/siHLj9/SZPwhIGrN4XJc/6varttkdtD8jB8KC+cOkP0FYMH+YAqg/0cnKE3eNnD941n8emtGiP3poRku4qKg/BrZThlqFoT9eqZ57N0GbP0Pq9qu22Z0/IwfCgvnDlD8GtlOGWoWhPwa2U4ZahaE/0cnKE3eNnD/siHLj9/SZPyMHwoL5w5Q/lifuGjkQlj96aEZLuKiYP5SVJ+4aOaA/lifuGjkQlj8jB8KC+cOUP0Pq9qu22Z0/tQojRPYlnz8/xmlSeiuSP+yIcuP39Jk/seaV6rl3kz/siHLj9/SZP5Yn7ho5EJY/IwfCgvnDhD/RycoTd42MP7UKI0T2JZ8/W850OIp+sj+zeFwX2E6pP82lPbo636A/Q+r2q7bZnT8jB8KC+cOkP1wX2E4ZaqU/zaU9ujrfoD+UlSfuGjmgP5Yn7ho5EJY/tQojRPYlnz+1CiNE9iWfP1wX2E4ZaqU/P8ZpUnoroj/siHLj9/SZP7UKI0T2JZ8/IwfCgvnDpD/siHLj9/SZP+yIcuP39Jk/seaV6rl3oz+UlSfuGjmgP0Pq9qu22Z0/seaV6rl3oz/siHLj9/SZP3poRku4qJg/IwfCgvnDpD/RycoTd42cP0Pq9qu22Z0/7Ihy4/f0mT8jB8KC+cOUP7UKI0T2JZ8/XqmeezdBqz9cF9hOGWqlP5Yn7ho5EKY/tQojRPYlnz+x5pXquXeTPz/GaVJ6K6I/lifuGjkQlj8jB8KC+cOkP16pnns3QZs/7Ihy4/f0mT9cF9hOGWqlP3poRku4qJg/emhGS7iomD+WJ+4aORCWPz/GaVJ6K5I/zzcE51i2pj/siHLj9/SZP9HJyhN3jZw/XqmeezdBmz8ISBqzeFyXP7UKI0T2JZ8/lifuGjkQlj96aEZLuKiYP7Hmleq5d5M/0cnKE3eNnD9eqZ57N0GbP5SVJ+4aOaA/Q+r2q7bZnT+1CiNE9iWfPwhIGrN4XJc/6varttkdpD96aEZLuKiYPwhIGrN4XJc/lifuGjkQlj/RycoTd42MP7UKI0T2JY8/P8ZpUnorgj/siHLj9/SJPz/GaVJ6K4I/P8ZpUnorkj8ISBqzeFyHP+yIcuP39Ik/IwfCgvnDhD/RycoTd42MP82lPbo635A/tQojRPYlfz8ISBqzeFyHPwhIGrN4XIc/P8ZpUnorgj8ISBqzeFyHPz/GaVJ6K5I/P8ZpUnorgj8jB8KC+cN0PwhIGrN4XIc/P8ZpUnorgj+1CiNE9iV/PyMHwoL5w4Q/0cnKE3eNjD8jB8KC+cN0Pz/GaVJ6K4I/tQojRPYlbz/PNwTnWLamP1wX2E4ZaqU/7Ihy4/f0iT9eqZ57N0GbP9HJyhN3jYw/7Ihy4/f0mT96aEZLuKiYP+yIcuP39Ik/P8ZpUnorgj/NpT26Ot+QP3poRku4qJg/P8ZpUnorgj/RycoTd42MP7UKI0T2JY8/7Ihy4/f0eT8ISBqzeFyHP+yIcuP39Ik/P8ZpUnorkj8/xmlSeiuCP9HJyhN3jYw/CEgas3hchz8jB8KC+cOEPyMHwoL5w3Q/tQojRPYljz/siHLj9/SJPwhIGrN4XIc/CEgas3hchz+1CiNE9iV/PwhIGrN4XIc/IwfCgvnDdD+x5pXquXejPwhIGrN4XJc/0cnKE3eNjD/NpT26Ot+QPwhIGrN4XIc/zaU9ujrfkD8ISBqzeFyHP5Yn7ho5EJY/tQojRPYlfz+1CiNE9iWPPz/GaVJ6K5I/0cnKE3eNjD8/xmlSeiuSPwhIGrN4XIc/P8ZpUnorgj9eqZ57N0GbP+yIcuP39Ik/7Ihy4/f0iT8jB8KC+cOEP7UKI0T2JY8/zaU9ujrfkD/RycoTd42MP9HJyhN3jYw/tQojRPYlfz+1CiNE9iVvP+yIcuP39Ik/0cnKE3eNjD/RycoTd42MP+yIcuP39Hk/CEgas3hchz8GtlOGWoWhPyMHwoL5w5Q/0cnKE3eNjD/NpT26Ot+QPwhIGrN4XIc/CEgas3hclz9D6varttmdPyMHwoL5w5Q/P8ZpUnorgj8ISBqzeFyHP7UKI0T2JX8/7Ihy4/f0mT+1CiNE9iVvP7Hmleq5d5M/P8ZpUnorgj8jB8KC+cOUP9HJyhN3jYw/7Ihy4/f0iT8/xmlSeiuCP82lPbo635A/CEgas3hchz8jB8KC+cOEPz/GaVJ6K4I/7Ihy4/f0eT8ISBqzeFyHP9HJyhN3jYw/tQojRPYljz+1CiNE9iWPP7UKI0T2JX8/IwfCgvnDhD+1CiNE9iWPP3poRku4qJg/tQojRPYlfz8jB8KC+cN0PyMHwoL5w3Q/CEgas3hchz/NpT26Ot+QP7UKI0T2JX8/P8ZpUnorgj8/xmlSeiuCPwAAAAAAAAAAIwfCgvnDdD+1CiNE9iVvPyMHwoL5w2Q/IwfCgvnDZD+1CiNE9iV/PyMHwoL5w3Q/7Ihy4/f0eT8jB8KC+cNkP7UKI0T2JW8/7Ihy4/f0eT8ISBqzeFyHPz/GaVJ6K4I/tQojRPYlbz8jB8KC+cNkP+yIcuP39Hk/tQojRPYlbz+1CiNE9iVvPyMHwoL5w2Q/IwfCgvnDVD8jB8KC+cNkPyMHwoL5w5Q/0cnKE3eNjD/siHLj9/SJPz/GaVJ6K4I/IwfCgvnDhD/NpT26Ot+QP+yIcuP39Ik/7Ihy4/f0eT/siHLj9/R5P7UKI0T2JW8/CEgas3hchz+1CiNE9iV/PyMHwoL5w3Q/IwfCgvnDdD8jB8KC+cNUPyMHwoL5w3Q/P8ZpUnorgj/siHLj9/R5PyMHwoL5w2Q/IwfCgvnDZD8jB8KC+cN0PwhIGrN4XIc/CEgas3hchz8jB8KC+cOEPyMHwoL5w1Q/IwfCgvnDdD8jB8KC+cNkPyMHwoL5w2Q/7Ihy4/f0eT+1CiNE9iV/P5Yn7ho5EJY/0cnKE3eNjD8ISBqzeFyHPyMHwoL5w4Q/tQojRPYlfz/RycoTd42MPwhIGrN4XIc/tQojRPYlfz/siHLj9/R5P+yIcuP39Hk/7Ihy4/f0eT/siHLj9/R5P7UKI0T2JX8/7Ihy4/f0eT+1CiNE9iV/P82lPbo635A/tQojRPYlbz8/xmlSeiuCPyMHwoL5w3Q/tQojRPYlbz8jB8KC+cOEPyMHwoL5w3Q/IwfCgvnDhD+1CiNE9iV/PyMHwoL5w3Q/7Ihy4/f0eT/siHLj9/R5PyMHwoL5w3Q/7Ihy4/f0eT8jB8KC+cNUPwhIGrN4XJc/CEgas3hchz8jB8KC+cOEPyMHwoL5w3Q/IwfCgvnDdD/siHLj9/SJP7UKI0T2JW8/IwfCgvnDdD+1CiNE9iV/PyMHwoL5w2Q/P8ZpUnorgj/siHLj9/SJPwhIGrN4XIc/tQojRPYlbz8jB8KC+cN0PwhIGrN4XIc/IwfCgvnDdD+1CiNE9iV/PyMHwoL5w3Q/P8ZpUnorgj8jB8KC+cOEPyMHwoL5w3Q/IwfCgvnDdD8/xmlSeiuCP+yIcuP39Hk/tQojRPYlfz8jB8KC+cN0P+yIcuP39Hk/IwfCgvnDdD+1CiNE9iV/P+yIcuP39Hk/IwfCgvnDZD+1CiNE9iV/PyMHwoL5w4Q/IwfCgvnDdD8jB8KC+cN0P7UKI0T2JX8/IwfCgvnDZD+1CiNE9iVvP+yIcuP39Hk/AAAAAAAAAAC1CiNE9iV/PyMHwoL5w2Q/IwfCgvnDZD8AAAAAAAAAAOyIcuP39Hk/tQojRPYlbz+1CiNE9iVvPyMHwoL5w2Q/tQojRPYlbz8AAAAAAAAAACMHwoL5w3Q/tQojRPYlbz8jB8KC+cNUPyMHwoL5w1Q/IwfCgvnDVD8jB8KC+cN0P7UKI0T2JW8/tQojRPYlbz8jB8KC+cNkP+yIcuP39Hk/P8ZpUnorkj/siHLj9/SJPyMHwoL5w2Q/7Ihy4/f0eT+1CiNE9iV/PyMHwoL5w1Q/IwfCgvnDZD+1CiNE9iV/PyMHwoL5w3Q/IwfCgvnDdD+1CiNE9iVvPyMHwoL5w2Q/7Ihy4/f0eT+1CiNE9iVvPyMHwoL5w2Q/IwfCgvnDZD+1CiNE9iVvPyMHwoL5w2Q/IwfCgvnDVD8AAAAAAAAAAOyIcuP39Hk/7Ihy4/f0eT8jB8KC+cN0PyMHwoL5w2Q/tQojRPYlbz8jB8KC+cNUPyMHwoL5w3Q/IwfCgvnDVD8jB8KC+cNUP7UKI0T2JW8/7Ihy4/f0iT8jB8KC+cNkP7UKI0T2JX8/IwfCgvnDdD8jB8KC+cN0P7UKI0T2JX8/tQojRPYlbz/siHLj9/R5P7UKI0T2JW8/IwfCgvnDdD8jB8KC+cNkPyMHwoL5w2Q/tQojRPYlbz8jB8KC+cNUPyMHwoL5w3Q/tQojRPYlbz8jB8KC+cN0P7UKI0T2JW8/IwfCgvnDdD+1CiNE9iVvPyMHwoL5w1Q/IwfCgvnDVD+1CiNE9iV/PyMHwoL5w3Q/IwfCgvnDZD8/xmlSeiuCPyMHwoL5w2Q/IwfCgvnDdD8jB8KC+cN0PyMHwoL5w2Q/tQojRPYljz+1CiNE9iVvP+yIcuP39Hk/tQojRPYlbz+1CiNE9iV/P7UKI0T2JX8/IwfCgvnDdD/siHLj9/R5PyMHwoL5w1Q/IwfCgvnDZD8jB8KC+cNUPyMHwoL5w1Q/IwfCgvnDZD+1CiNE9iVvPyMHwoL5w2Q/7Ihy4/f0eT8jB8KC+cNkP7UKI0T2JW8/tQojRPYlbz/siHLj9/R5PwhIGrN4XIc/7Ihy4/f0eT8jB8KC+cNkPyMHwoL5w1Q/tQojRPYlbz+1CiNE9iVvP7UKI0T2JX8/IwfCgvnDdD/siHLj9/R5PyMHwoL5w1Q/tQojRPYlbz+1CiNE9iVvP7UKI0T2JX8/IwfCgvnDVD8jB8KC+cN0PyMHwoL5w1Q/tQojRPYlbz8jB8KC+cNUPyMHwoL5w2Q/IwfCgvnDVD8jB8KC+cNUP7UKI0T2JW8/IwfCgvnDVD+1CiNE9iVvPwAAAAAAAAAAAAAAAAAAAAAAAAAAAAAAACMHwoL5w2Q/IwfCgvnDVD8AAAAAAAAAACMHwoL5w1Q/IwfCgvnDdD+1CiNE9iVvP7UKI0T2JW8/tQojRPYlbz8jB8KC+cNkPyMHwoL5w1Q/AAAAAAAAAAAAAAAAAAAAALUKI0T2JW8/AAAAAAAAAAC1CiNE9iV/Pz/GaVJ6K4I/7Ihy4/f0eT8jB8KC+cNkPyMHwoL5w2Q/IwfCgvnDZD8jB8KC+cNkPyMHwoL5w3Q/tQojRPYlbz+1CiNE9iVvPwAAAAAAAAAAIwfCgvnDZD8jB8KC+cN0P7UKI0T2JW8/IwfCgvnDVD+1CiNE9iV/PyMHwoL5w1Q/tQojRPYlbz8jB8KC+cNUPwAAAAAAAAAAIwfCgvnDdD8jB8KC+cNUPyMHwoL5w2Q/IwfCgvnDZD8jB8KC+cNUPwAAAAAAAAAAtQojRPYlbz8jB8KC+cN0PyMHwoL5w2Q/IwfCgvnDZD8/xmlSeiuCPyMHwoL5w1Q/IwfCgvnDZD+1CiNE9iVvP7UKI0T2JW8/IwfCgvnDdD8jB8KC+cN0PyMHwoL5w1Q/AAAAAAAAAAAjB8KC+cN0P7UKI0T2JX8/IwfCgvnDZD8jB8KC+cNkPyMHwoL5w3Q/tQojRPYlbz+1CiNE9iVvPyMHwoL5w3Q/IwfCgvnDVD8jB8KC+cNkPyMHwoL5w1Q/tQojRPYlbz8jB8KC+cNkPwAAAAAAAAAAIwfCgvnDZD+1CiNE9iVvP+yIcuP39Hk/tQojRPYlbz8jB8KC+cNUPyMHwoL5w2Q/IwfCgvnDVD/siHLj9/R5PyMHwoL5w1Q/IwfCgvnDdD8AAAAAAAAAACMHwoL5w2Q/7Ihy4/f0eT8jB8KC+cNUPyMHwoL5w3Q/IwfCgvnDVD8AAAAAAAAAACMHwoL5w1Q/tQojRPYlbz8jB8KC+cNUP+yIcuP39Hk/tQojRPYlbz8jB8KC+cNkP7UKI0T2JW8/IwfCgvnDVD8jB8KC+cNkP7UKI0T2JW8/IwfCgvnDVD8jB8KC+cNUPyMHwoL5w1Q/IwfCgvnDZD8jB8KC+cNUPyMHwoL5w3Q/IwfCgvnDVD8jB8KC+cNkPyMHwoL5w1Q/IwfCgvnDZD8AAAAAAAAAAOyIcuP39Hk/IwfCgvnDVD8jB8KC+cNkPyMHwoL5w1Q/AAAAAAAAAAAjB8KC+cNUPyMHwoL5w2Q/AAAAAAAAAAAAAAAAAAAAAAAAAAAAAAAAIwfCgvnDVD8AAAAAAAAAAAAAAAAAAAAAIwfCgvnDZD+1CiNE9iVvPyMHwoL5w1Q/tQojRPYlbz8jB8KC+cNUPwAAAAAAAAAAtQojRPYlbz+1CiNE9iVvPyMHwoL5w1Q/IwfCgvnDZD8jB8KC+cNUPyMHwoL5w1Q/AAAAAAAAAAAjB8KC+cNUPwAAAAAAAAAAAAAAAAAAAAAjB8KC+cNUPyMHwoL5w3Q/IwfCgvnDdD8jB8KC+cNkPwAAAAAAAAAAAAAAAAAAAAAjB8KC+cNUP7UKI0T2JW8/IwfCgvnDVD8jB8KC+cNUPwAAAAAAAAAAIwfCgvnDVD8jB8KC+cNkPwAAAAAAAAAAAAAAAAAAAAAAAAAAAAAAALUKI0T2JW8/IwfCgvnDZD8AAAAAAAAAAAAAAAAAAAAAIwfCgvnDZD8jB8KC+cNUPyMHwoL5w1Q/AAAAAAAAAAAjB8KC+cNUPwAAAAAAAAAAAAAAAAAAAAAAAAAAAAAAACMHwoL5w1Q/IwfCgvnDVD8jB8KC+cNkPyMHwoL5w2Q/AAAAAAAAAADsiHLj9/R5PyMHwoL5w1Q/IwfCgvnDVD+1CiNE9iVvPyMHwoL5w2Q/IwfCgvnDVD8jB8KC+cNkPyMHwoL5w1Q/tQojRPYlbz8AAAAAAAAAACMHwoL5w1Q/IwfCgvnDVD8AAAAAAAAAACMHwoL5w3Q/tQojRPYlbz8jB8KC+cNkPyMHwoL5w2Q/IwfCgvnDZD8jB8KC+cNUPyMHwoL5w1Q/IwfCgvnDVD8AAAAAAAAAACMHwoL5w3Q/IwfCgvnDVD8AAAAAAAAAACMHwoL5w1Q/IwfCgvnDZD+1CiNE9iVvP+yIcuP39Hk/IwfCgvnDVD8jB8KC+cNkPyMHwoL5w1Q/IwfCgvnDVD8jB8KC+cNUPwAAAAAAAAAAIwfCgvnDVD8AAAAAAAAAACMHwoL5w2Q/IwfCgvnDZD8jB8KC+cNkPwAAAAAAAAAAIwfCgvnDVD8jB8KC+cNkP7UKI0T2JW8/IwfCgvnDVD8AAAAAAAAAACMHwoL5w1Q/IwfCgvnDVD8jB8KC+cNUPyMHwoL5w1Q/AAAAAAAAAAC1CiNE9iVvPyMHwoL5w1Q/AAAAAAAAAAAjB8KC+cNUPyMHwoL5w1Q/AAAAAAAAAAAjB8KC+cNkP7UKI0T2JW8/AAAAAAAAAAAjB8KC+cNUPyMHwoL5w1Q/AAAAAAAAAAAAAAAAAAAAACMHwoL5w1Q/AAAAAAAAAAAAAAAAAAAAAAAAAAAAAAAAIwfCgvnDVD8jB8KC+cNUPwAAAAAAAAAAIwfCgvnDVD8jB8KC+cNUPwAAAAAAAAAAIwfCgvnDZD8jB8KC+cNUPwAAAAAAAAAAtQojRPYlbz8jB8KC+cNUPwAAAAAAAAAAIwfCgvnDVD8jB8KC+cNUPyMHwoL5w2Q/AAAAAAAAAAAAAAAAAAAAACMHwoL5w1Q/AAAAAAAAAAAAAAAAAAAAAAAAAAAAAAAAtQojRPYlbz8jB8KC+cNkP7UKI0T2JW8/IwfCgvnDVD8jB8KC+cNkPyMHwoL5w1Q/AAAAAAAAAAAjB8KC+cNUP7UKI0T2JW8/IwfCgvnDVD8jB8KC+cNUPyMHwoL5w1Q/IwfCgvnDVD8jB8KC+cNkPwAAAAAAAAAAIwfCgvnDZD8jB8KC+cNUPwAAAAAAAAAAIwfCgvnDVD8AAAAAAAAAACMHwoL5w1Q/AAAAAAAAAAAjB8KC+cNkPwAAAAAAAAAAAAAAAAAAAAAjB8KC+cNkPwAAAAAAAAAAAAAAAAAAAAAAAAAAAAAAACMHwoL5w1Q/AAAAAAAAAAC1CiNE9iVvPwAAAAAAAAAAAAAAAAAAAAAjB8KC+cNUPyMHwoL5w2Q/AAAAAAAAAAAAAAAAAAAAAAAAAAAAAAAAIwfCgvnDVD8AAAAAAAAAACMHwoL5w1Q/AAAAAAAAAAAjB8KC+cNUPwAAAAAAAAAAAAAAAAAAAAAjB8KC+cNkPwAAAAAAAAAAIwfCgvnDVD8AAAAAAAAAACMHwoL5w1Q/AAAAAAAAAAAjB8KC+cNkP7UKI0T2JW8/AAAAAAAAAAAjB8KC+cNUPwAAAAAAAAAAIwfCgvnDVD8AAAAAAAAAACMHwoL5w1Q/IwfCgvnDZD8AAAAAAAAAACMHwoL5w1Q/AAAAAAAAAAAAAAAAAAAAACMHwoL5w1Q/AAAAAAAAAAAAAAAAAAAAACMHwoL5w1Q/IwfCgvnDZD8AAAAAAAAAAAAAAAAAAAAAIwfCgvnDZD8AAAAAAAAAACMHwoL5w1Q/AAAAAAAAAAAAAAAAAAAAACMHwoL5w1Q/AAAAAAAAAAAAAAAAAAAAAAAAAAAAAAAAIwfCgvnDVD8jB8KC+cNUPyMHwoL5w1Q/IwfCgvnDVD8jB8KC+cN0PwAAAAAAAAAAAAAAAAAAAAAAAAAAAAAAAAAAAAAAAAAAIwfCgvnDVD8jB8KC+cNkPyMHwoL5w2Q/AAAAAAAAAAAAAAAAAAAAAAAAAAAAAAAAAAAAAAAAAAAAAAAAAAAAACMHwoL5w3Q/AAAAAAAAAAAAAAAAAAAAAAAAAAAAAAAAAAAAAAAAAAAAAAAAAAAAAAAAAAAAAAAAAAAAAAAAAAAAAAAAAAAAAAAAAAAAAAAAAAAAAAAAAAAAAAAAAAAAACMHwoL5w1Q/AAAAAAAAAAAAAAAAAAAAACMHwoL5w2Q/AAAAAAAAAAAAAAAAAAAAACMHwoL5w1Q/AAAAAAAAAAAAAAAAAAAAAAAAAAAAAAAAAAAAAAAAAAAjB8KC+cNkPyMHwoL5w2Q/AAAAAAAAAAAjB8KC+cNUPwAAAAAAAAAAIwfCgvnDZD8AAAAAAAAAACMHwoL5w2Q/AAAAAAAAAAAjB8KC+cNUPyMHwoL5w1Q/IwfCgvnDZD8jB8KC+cNUPwAAAAAAAAAAIwfCgvnDVD8jB8KC+cNkPwAAAAAAAAAAAAAAAAAAAAAjB8KC+cNkPwAAAAAAAAAAIwfCgvnDVD8jB8KC+cNUPyMHwoL5w1Q/IwfCgvnDVD8jB8KC+cNUPwAAAAAAAAAAIwfCgvnDVD8AAAAAAAAAAAAAAAAAAAAAIwfCgvnDZD8AAAAAAAAAACMHwoL5w1Q/IwfCgvnDVD8jB8KC+cNUPwAAAAAAAAAAIwfCgvnDVD8AAAAAAAAAAAAAAAAAAAAAIwfCgvnDVD8AAAAAAAAAACMHwoL5w1Q/AAAAAAAAAAAjB8KC+cNkPwAAAAAAAAAAIwfCgvnDVD8jB8KC+cNUPwAAAAAAAAAAAAAAAAAAAAAAAAAAAAAAAAAAAAAAAAAAIwfCgvnDZD8jB8KC+cNUPwAAAAAAAAAAIwfCgvnDVD8jB8KC+cNUPyMHwoL5w3Q/AAAAAAAAAAAAAAAAAAAAAAAAAAAAAAAAAAAAAAAAAAAjB8KC+cN0PwAAAAAAAAAAAAAAAAAAAAAAAAAAAAAAAAAAAAAAAAAAAAAAAAAAAAAjB8KC+cNUPyMHwoL5w1Q/AAAAAAAAAAAjB8KC+cNkPyMHwoL5w2Q/AAAAAAAAAAAjB8KC+cNkPyMHwoL5w2Q/IwfCgvnDVD8jB8KC+cNkPyMHwoL5w1Q/AAAAAAAAAAAjB8KC+cNUPwAAAAAAAAAAAAAAAAAAAAAAAAAAAAAAAAAAAAAAAAAAIwfCgvnDVD8jB8KC+cNUPwAAAAAAAAAAAAAAAAAAAAAAAAAAAAAAAAAAAAAAAAAAAAAAAAAAAAAAAAAAAAAAALUKI0T2JW8/AAAAAAAAAAAAAAAAAAAAACMHwoL5w1Q/AAAAAAAAAAAAAAAAAAAAACMHwoL5w2Q/AAAAAAAAAAAAAAAAAAAAAAAAAAAAAAAAAAAAAAAAAAAjB8KC+cNUPwAAAAAAAAAAAAAAAAAAAAAAAAAAAAAAAAAAAAAAAAAAIwfCgvnDVD8jB8KC+cNUPwAAAAAAAAAAAAAAAAAAAAAAAAAAAAAAACMHwoL5w1Q/IwfCgvnDVD8AAAAAAAAAAAAAAAAAAAAAAAAAAAAAAAAjB8KC+cNUPwAAAAAAAAAAAAAAAAAAAAAAAAAAAAAAACMHwoL5w3Q/IwfCgvnDZD8jB8KC+cNUPyMHwoL5w2Q/IwfCgvnDVD8jB8KC+cNUPwAAAAAAAAAAAAAAAAAAAAAjB8KC+cNUPyMHwoL5w1Q/AAAAAAAAAAAAAAAAAAAAAAAAAAAAAAAAAAAAAAAAAAAAAAAAAAAAACMHwoL5w1Q/IwfCgvnDVD8AAAAAAAAAAAAAAAAAAAAAAAAAAAAAAAAjB8KC+cNUPyMHwoL5w1Q/IwfCgvnDVD+1CiNE9iVvPwAAAAAAAAAAAAAAAAAAAAAAAAAAAAAAAAAAAAAAAAAAAAAAAAAAAAAjB8KC+cNUPyMHwoL5w1Q/AAAAAAAAAAAAAAAAAAAAACMHwoL5w1Q/AAAAAAAAAAAjB8KC+cNUPwAAAAAAAAAAAAAAAAAAAAAAAAAAAAAAAAAAAAAAAAAAAAAAAAAAAAAAAAAAAAAAACMHwoL5w1Q/AAAAAAAAAAAjB8KC+cNkPwAAAAAAAAAAAAAAAAAAAAAjB8KC+cNkPwAAAAAAAAAAAAAAAAAAAAAAAAAAAAAAAAAAAAAAAAAAIwfCgvnDVD8AAAAAAAAAAAAAAAAAAAAAAAAAAAAAAAAAAAAAAAAAACMHwoL5w1Q/AAAAAAAAAAAAAAAAAAAAAAAAAAAAAAAAIwfCgvnDVD8AAAAAAAAAAAAAAAAAAAAAAAAAAAAAAAAAAAAAAAAAAAAAAAAAAAAAAAAAAAAAAAAAAAAAAAAAACMHwoL5w1Q/AAAAAAAAAAAjB8KC+cNUPwAAAAAAAAAAAAAAAAAAAAAjB8KC+cNUPyMHwoL5w1Q/IwfCgvnDVD8jB8KC+cNUPwAAAAAAAAAAIwfCgvnDVD8jB8KC+cNUPwAAAAAAAAAAAAAAAAAAAAAAAAAAAAAAACMHwoL5w1Q/AAAAAAAAAAAjB8KC+cNkPwAAAAAAAAAAAAAAAAAAAAAAAAAAAAAAAAAAAAAAAAAAIwfCgvnDZD8jB8KC+cNUPyMHwoL5w1Q/IwfCgvnDZD8AAAAAAAAAAAAAAAAAAAAAAAAAAAAAAAAjB8KC+cNUPyMHwoL5w1Q/AAAAAAAAAAAAAAAAAAAAAAAAAAAAAAAAAAAAAAAAAAAAAAAAAAAAAAAAAAAAAAAAIwfCgvnDVD8jB8KC+cNUPwAAAAAAAAAAAAAAAAAAAAAAAAAAAAAAAAAAAAAAAAAAAAAAAAAAAAAAAAAAAAAAAAAAAAAAAAAAIwfCgvnDVD8AAAAAAAAAAAAAAAAAAAAAAAAAAAAAAAAAAAAAAAAAACMHwoL5w1Q/IwfCgvnDVD8jB8KC+cNUPwAAAAAAAAAAIwfCgvnDVD8jB8KC+cNkPyMHwoL5w1Q/AAAAAAAAAAAAAAAAAAAAAAAAAAAAAAAAAAAAAAAAAAAjB8KC+cNUPyMHwoL5w1Q/AAAAAAAAAAAAAAAAAAAAACMHwoL5w1Q/AAAAAAAAAAAAAAAAAAAAACMHwoL5w1Q/AAAAAAAAAAAAAAAAAAAAACMHwoL5w1Q/IwfCgvnDVD8AAAAAAAAAAAAAAAAAAAAAAAAAAAAAAAAAAAAAAAAAAAAAAAAAAAAAIwfCgvnDVD8AAAAAAAAAACMHwoL5w1Q/AAAAAAAAAAAAAAAAAAAAACMHwoL5w1Q/AAAAAAAAAAAAAAAAAAAAACMHwoL5w1Q/AAAAAAAAAAAjB8KC+cNUPwAAAAAAAAAAIwfCgvnDVD8AAAAAAAAAACMHwoL5w1Q/AAAAAAAAAAAjB8KC+cNUPwAAAAAAAAAAAAAAAAAAAAAAAAAAAAAAACMHwoL5w1Q/AAAAAAAAAAAAAAAAAAAAAAAAAAAAAAAAAAAAAAAAAAAAAAAAAAAAACMHwoL5w1Q/AAAAAAAAAAAAAAAAAAAAAAAAAAAAAAAAAAAAAAAAAAAAAAAAAAAAACMHwoL5w1Q/IwfCgvnDVD8AAAAAAAAAAAAAAAAAAAAAAAAAAAAAAAAAAAAAAAAAACMHwoL5w1Q/AAAAAAAAAAAjB8KC+cNUPyMHwoL5w1Q/AAAAAAAAAAAAAAAAAAAAACMHwoL5w1Q/IwfCgvnDVD8AAAAAAAAAACMHwoL5w1Q/AAAAAAAAAAAAAAAAAAAAAAAAAAAAAAAAAAAAAAAAAAAAAAAAAAAAAAAAAAAAAAAAAAAAAAAAAAAAAAAAAAAAAAAAAAAAAAAAAAAAAAAAAAAAAAAAAAAAAAAAAAAAAAAAIwfCgvnDVD8AAAAAAAAAAAAAAAAAAAAAAAAAAAAAAAAjB8KC+cNUPwAAAAAAAAAAAAAAAAAAAAAAAAAAAAAAAAAAAAAAAAAAAAAAAAAAAAAAAAAAAAAAAAAAAAAAAAAAAAAAAAAAAAAAAAAAAAAAACMHwoL5w1Q/AAAAAAAAAAAAAAAAAAAAACMHwoL5w1Q/AAAAAAAAAAAAAAAAAAAAAAAAAAAAAAAAAAAAAAAAAAAjB8KC+cNUPwAAAAAAAAAAAAAAAAAAAAAAAAAAAAAAAAAAAAAAAAAAAAAAAAAAAAAAAAAAAAAAAAAAAAAAAAAAAAAAAAAAAAAAAAAAAAAAAAAAAAAAAAAAAAAAAAAAAAC1CiNE9iVvPwAAAAAAAAAAAAAAAAAAAAAAAAAAAAAAAAAAAAAAAAAAIwfCgvnDVD8AAAAAAAAAAAAAAAAAAAAAIwfCgvnDZD8AAAAAAAAAAAAAAAAAAAAAAAAAAAAAAAAAAAAAAAAAAAAAAAAAAAAAAAAAAAAAAAAAAAAAAAAAAAAAAAAAAAAAAAAAAAAAAAAjB8KC+cNUPwAAAAAAAAAAAAAAAAAAAAAAAAAAAAAAAAAAAAAAAAAAAAAAAAAAAAAAAAAAAAAAAAAAAAAAAAAAAAAAAAAAAAAAAAAAAAAAACMHwoL5w1Q/AAAAAAAAAAAAAAAAAAAAACMHwoL5w1Q/IwfCgvnDVD8AAAAAAAAAAAAAAAAAAAAAIwfCgvnDVD8AAAAAAAAAAAAAAAAAAAAAIwfCgvnDVD8jB8KC+cNUPwAAAAAAAAAAAAAAAAAAAAAAAAAAAAAAAAAAAAAAAAAAAAAAAAAAAAAAAAAAAAAAAAAAAAAAAAAAAAAAAAAAAAAAAAAAAAAAAAAAAAAAAAAAAAAAAAAAAAAAAAAAAAAAAAAAAAAAAAAAAAAAAAAAAAAAAAAAAAAAAAAAAAAAAAAAAAAAAAAAAAAjB8KC+cNUPwAAAAAAAAAAIwfCgvnDVD8AAAAAAAAAAAAAAAAAAAAAIwfCgvnDVD8AAAAAAAAAAAAAAAAAAAAAIwfCgvnDVD8jB8KC+cNUPwAAAAAAAAAAIwfCgvnDVD8AAAAAAAAAAAAAAAAAAAAAIwfCgvnDZD8AAAAAAAAAACMHwoL5w1Q/IwfCgvnDVD8AAAAAAAAAACMHwoL5w1Q/AAAAAAAAAAAAAAAAAAAAAAAAAAAAAAAAAAAAAAAAAAAAAAAAAAAAACMHwoL5w1Q/AAAAAAAAAAAAAAAAAAAAAAAAAAAAAAAAAAAAAAAAAAAAAAAAAAAAAAAAAAAAAAAAAAAAAAAAAAAAAAAAAAAAACMHwoL5w1Q/IwfCgvnDVD8jB8KC+cNUPwAAAAAAAAAAAAAAAAAAAAAAAAAAAAAAACMHwoL5w1Q/AAAAAAAAAAAAAAAAAAAAAAAAAAAAAAAAIwfCgvnDVD8AAAAAAAAAAAAAAAAAAAAAAAAAAAAAAAAAAAAAAAAAACMHwoL5w1Q/AAAAAAAAAAAAAAAAAAAAAAAAAAAAAAAAAAAAAAAAAAAAAAAAAAAAAAAAAAAAAAAAAAAAAAAAAAAAAAAAAAAAAAAAAAAAAAAAAAAAAAAAAAAAAAAAAAAAAAAAAAAAAAAAAAAAAAAAAAAAAAAAAAAAAAAAAAAAAAAAAAAAAAAAAAAjB8KC+cNUPwAAAAAAAAAAAAAAAAAAAAAAAAAAAAAAAAAAAAAAAAAAAAAAAAAAAAAAAAAAAAAAAAAAAAAAAAAAAAAAAAAAAAAAAAAAAAAAAAAAAAAAAAAAAAAAAAAAAAAAAAAAAAAAAAAAAAAAAAAAAAAAAAAAAAAAAAAAAAAAAAAAAAAAAAAAIwfCgvnDZD8AAAAAAAAAAAAAAAAAAAAAAAAAAAAAAAAAAAAAAAAAAAAAAAAAAAAAAAAAAAAAAAAAAAAAAAAAAAAAAAAAAAAAAAAAAAAAAAAAAAAAAAAAAAAAAAAAAAAAAAAAAAAAAAAAAAAAAAAAAAAAAAAAAAAAAAAAAAAAAAAAAAAAAAAAAAAAAAAAAAAAAAAAAAAAAAAAAAAAAAAAACMHwoL5w1Q/AAAAAAAAAAAjB8KC+cNUPwAAAAAAAAAAAAAAAAAAAAAAAAAAAAAAAAAAAAAAAAAAIwfCgvnDVD8jB8KC+cNUPyMHwoL5w1Q/IwfCgvnDVD8jB8KC+cNUPwAAAAAAAAAAAAAAAAAAAAAAAAAAAAAAAAAAAAAAAAAAAAAAAAAAAAAjB8KC+cNkPwAAAAAAAAAAAAAAAAAAAAAjB8KC+cNkPyMHwoL5w1Q/AAAAAAAAAAAAAAAAAAAAAAAAAAAAAAAAAAAAAAAAAAAjB8KC+cNUPwAAAAAAAAAAAAAAAAAAAAAAAAAAAAAAAAAAAAAAAAAAIwfCgvnDVD8AAAAAAAAAAAAAAAAAAAAAAAAAAAAAAAAAAAAAAAAAAAAAAAAAAAAAAAAAAAAAAAAAAAAAAAAAAAAAAAAAAAAAAAAAAAAAAAAAAAAAAAAAAAAAAAAAAAAAAAAAAAAAAAAAAAAAAAAAAAAAAAAAAAAAAAAAAAAAAAAAAAAAAAAAAAAAAAAAAAAAAAAAAAAAAAAAAAAAAAAAAAAAAAAAAAAAAAAAAAAAAAAjB8KC+cNUPwAAAAAAAAAAAAAAAAAAAAAAAAAAAAAAAAAAAAAAAAAAAAAAAAAAAAAAAAAAAAAAAAAAAAAAAAAAAAAAAAAAAAAAAAAAAAAAAAAAAAAAAAAAAAAAAAAAAAAAAAAAAAAAACMHwoL5w1Q/AAAAAAAAAAAAAAAAAAAAAAAAAAAAAAAAAAAAAAAAAAAAAAAAAAAAAAAAAAAAAAAAAAAAAAAAAAAAAAAAAAAAAAAAAAAAAAAAAAAAAAAAAAAAAAAAAAAAAAAAAAAAAAAAAAAAAAAAAAAAAAAAAAAAAAAAAAAAAAAAIwfCgvnDVD8jB8KC+cNUPwAAAAAAAAAAIwfCgvnDVD8AAAAAAAAAAAAAAAAAAAAAAAAAAAAAAAAAAAAAAAAAACMHwoL5w1Q/AAAAAAAAAAAAAAAAAAAAAAAAAAAAAAAAAAAAAAAAAAAAAAAAAAAAAAAAAAAAAAAAAAAAAAAAAAAAAAAAAAAAAAAAAAAAAAAAAAAAAAAAAAAAAAAAAAAAAAAAAAAAAAAAAAAAAAAAAAAAAAAAAAAAAAAAAAAAAAAAAAAAAAAAAAAAAAAAAAAAAAAAAAAAAAAAAAAAAAAAAAAAAAAAAAAAAAAAAAAAAAAAAAAAAAAAAAAAAAAAAAAAACMHwoL5w1Q/AAAAAAAAAAAjB8KC+cNUPwAAAAAAAAAAIwfCgvnDVD8AAAAAAAAAAAAAAAAAAAAAAAAAAAAAAAAAAAAAAAAAACMHwoL5w1Q/AAAAAAAAAAAAAAAAAAAAAAAAAAAAAAAAAAAAAAAAAAAAAAAAAAAAAAAAAAAAAAAAIwfCgvnDVD8AAAAAAAAAAAAAAAAAAAAAAAAAAAAAAAAAAAAAAAAAAAAAAAAAAAAAIwfCgvnDVD8AAAAAAAAAAAAAAAAAAAAAAAAAAAAAAAAAAAAAAAAAACMHwoL5w1Q/IwfCgvnDVD8jB8KC+cNUPwAAAAAAAAAAAAAAAAAAAAAAAAAAAAAAAAAAAAAAAAAAAAAAAAAAAAAAAAAAAAAAAAAAAAAAAAAAAAAAAAAAAAAAAAAAAAAAAAAAAAAAAAAAAAAAAAAAAAAAAAAAAAAAAAAAAAAAAAAAAAAAAAAAAAAAAAAAAAAAAAAAAAAAAAAAIwfCgvnDVD8AAAAAAAAAAAAAAAAAAAAAAAAAAAAAAAAAAAAAAAAAAAAAAAAAAAAAAAAAAAAAAAAAAAAAAAAAAAAAAAAAAAAAIwfCgvnDVD8AAAAAAAAAAAAAAAAAAAAAAAAAAAAAAAAAAAAAAAAAAAAAAAAAAAAAAAAAAAAAAAAjB8KC+cNUPwAAAAAAAAAAAAAAAAAAAAAAAAAAAAAAAAAAAAAAAAAAIwfCgvnDVD8AAAAAAAAAAAAAAAAAAAAAAAAAAAAAAAAAAAAAAAAAAAAAAAAAAAAAAAAAAAAAAAAAAAAAAAAAAAAAAAAAAAAAAAAAAAAAAAAAAAAAAAAAAAAAAAAAAAAAAAAAAAAAAAAAAAAAAAAAAAAAAAAAAAAAAAAAAAAAAAAAAAAAAAAAAAAAAAAAAAAAAAAAAAAAAAAAAAAAAAAAAAAAAAAAAAAAAAAAAAAAAAAAAAAAAAAAAAAAAAAAAAAAIwfCgvnDVD8AAAAAAAAAAAAAAAAAAAAAAAAAAAAAAAAAAAAAAAAAAAAAAAAAAAAAAAAAAAAAAAAAAAAAAAAAAAAAAAAAAAAAAAAAAAAAAAAAAAAAAAAAAAAAAAAAAAAAAAAAAAAAAAAAAAAAAAAAAAAAAAAAAAAAAAAAAAAAAAAAAAAAAAAAAAAAAAAAAAAAAAAAAAAAAAAAAAAAAAAAAAAAAAAAAAAAAAAAAAAAAAAAAAAAAAAAAAAAAAAAAAAAAAAAAAAAAAAAAAAAAAAAAAAAAAAAAAAAAAAAAAAAAAAAAAAAAAAAAAAAAAAAAAAAAAAAAAAAAAAAAAAAAAAAAAAAAAAAAAAAAAAAAAAAAAAjB8KC+cNUPwAAAAAAAAAAAAAAAAAAAAAAAAAAAAAAAAAAAAAAAAAAAAAAAAAAAAAAAAAAAAAAAAAAAAAAAAAAAAAAAAAAAAAAAAAAAAAAAAAAAAAAAAAAAAAAAAAAAAAAAAAAAAAAAAAAAAAAAAAAIwfCgvnDVD8jB8KC+cNkPwAAAAAAAAAAIwfCgvnDVD8AAAAAAAAAAAAAAAAAAAAAAAAAAAAAAAAAAAAAAAAAAAAAAAAAAAAAAAAAAAAAAAAAAAAAAAAAAAAAAAAAAAAAIwfCgvnDVD8AAAAAAAAAAAAAAAAAAAAAAAAAAAAAAAAAAAAAAAAAAAAAAAAAAAAAAAAAAAAAAAAjB8KC+cNUPwAAAAAAAAAAAAAAAAAAAAAjB8KC+cNUPwAAAAAAAAAAAAAAAAAAAAAAAAAAAAAAAAAAAAAAAAAAAAAAAAAAAAAAAAAAAAAAAAAAAAAAAAAAAAAAAAAAAAAAAAAAAAAAAAAAAAAAAAAAAAAAAAAAAAAAAAAAAAAAAAAAAAAAAAAAAAAAAAAAAAAAAAAAAAAAAAAAAAAAAAAAIwfCgvnDVD8jB8KC+cNUPwAAAAAAAAAAAAAAAAAAAAAAAAAAAAAAAAAAAAAAAAAAAAAAAAAAAAAAAAAAAAAAACMHwoL5w1Q/AAAAAAAAAAAAAAAAAAAAAAAAAAAAAAAAAAAAAAAAAAAAAAAAAAAAAAAAAAAAAAAAAAAAAAAAAAAAAAAAAAAAAAAAAAAAAAAAAAAAAAAAAAAAAAAAAAAAAAAAAAAAAAAAAAAAAAAAAAAAAAAAAAAAAAAAAAAAAAAAAAAAAAAAAAAAAAAAAAAAAAAAAAAAAAAAAAAAAAAAAAAAAAAAAAAAAAAAAAAAAAAAAAAAAAAAAAAAAAAAAAAAACMHwoL5w1Q/IwfCgvnDVD8AAAAAAAAAAAAAAAAAAAAAAAAAAAAAAAAAAAAAAAAAAAAAAAAAAAAAAAAAAAAAAAAAAAAAAAAAAAAAAAAAAAAAAAAAAAAAAAAAAAAAAAAAAAAAAAAAAAAAAAAAAAAAAAAAAAAAAAAAAAAAAAAAAAAAAAAAAAAAAAAAAAAAAAAAAAAAAAAAAAAAAAAAAAAAAAAAAAAAAAAAAAAAAAAAAAAAAAAAAAAAAAAAAAAAAAAAAAAAAAAAAAAAAAAAAAAAAAAAAAAAAAAAAAAAAAAAAAAAAAAAAAAAAAAAAAAAAAAAAAAAAAAAAAAAAAAAAAAAAAAAAAAAAAAAAAAAAAAAAAAAAAAAAAAAAAAAAAAAAAAAAAAAAAAAAAAAAAAAAAAAAAAAAAAAAAAAAAAAAAAAAAAAAAAAAAAAAAAAAAAAAAAAAAAAAAAAAAAAAAAAAAAAAAAjB8KC+cNUPyMHwoL5w1Q/AAAAAAAAAAAAAAAAAAAAAAAAAAAAAAAAAAAAAAAAAAAjB8KC+cNUPwAAAAAAAAAAAAAAAAAAAAAAAAAAAAAAAAAAAAAAAAAAAAAAAAAAAAAAAAAAAAAAAAAAAAAAAAAAAAAAAAAAAAAAAAAAAAAAAAAAAAAAAAAAAAAAAAAAAAAjB8KC+cNUPyMHwoL5w1Q/AAAAAAAAAAAAAAAAAAAAAAAAAAAAAAAAAAAAAAAAAAAAAAAAAAAAAAAAAAAAAAAAAAAAAAAAAAAAAAAAAAAAAAAAAAAAAAAAAAAAAAAAAAAAAAAAAAAAAAAAAAAAAAAAAAAAAAAAAAAAAAAAAAAAAAAAAAAAAAAAAAAAAAAAAAAAAAAAAAAAAAAAAAAAAAAAAAAAAAAAAAAAAAAAAAAAAAAAAAAAAAAAAAAAAAAAAAAAAAAAAAAAAAAAAAAAAAAAAAAAAAAAAAAAAAAAAAAAAAAAAAAAAAAAIwfCgvnDVD8AAAAAAAAAAAAAAAAAAAAAAAAAAAAAAAAAAAAAAAAAAAAAAAAAAAAAAAAAAAAAAAAAAAAAAAAAAAAAAAAAAAAAAAAAAAAAAAAAAAAAAAAAAAAAAAAAAAAAAAAAAAAAAAAAAAAAAAAAAAAAAAAAAAAAAAAAAAAAAAAAAAAAAAAAAAAAAAAAAAAAAAAAAAAAAAAAAAAAAAAAAAAAAAAAAAAAAAAAAAAAAAAAAAAAAAAAACMHwoL5w1Q/AAAAAAAAAAAAAAAAAAAAAAAAAAAAAAAAAAAAAAAAAAAAAAAAAAAAAAAAAAAAAAAAAAAAAAAAAAAAAAAAAAAAAAAAAAAAAAAAAAAAAAAAAAAAAAAAAAAAAAAAAAAAAAAAIwfCgvnDVD8AAAAAAAAAAAAAAAAAAAAAAAAAAAAAAAAAAAAAAAAAAAAAAAAAAAAAAAAAAAAAAAAAAAAAAAAAAAAAAAAAAAAAAAAAAAAAAAAAAAAAAAAAAAAAAAAAAAAAAAAAAAAAAAAAAAAAAAAAAAAAAAAAAAAAAAAAAAAAAAAAAAAAAAAAAAAAAAAAAAAAAAAAAAAAAAAAAAAAAAAAAAAAAAAAAAAAAAAAAAAAAAAAAAAAAAAAAAAAAAAAAAAAAAAAAAAAAAAAAAAAAAAAACMHwoL5w2Q/AAAAAAAAAAAAAAAAAAAAAAAAAAAAAAAAAAAAAAAAAAAAAAAAAAAAAAAAAAAAAAAAAAAAAAAAAAAAAAAAAAAAACMHwoL5w1Q/AAAAAAAAAAAjB8KC+cNUPwAAAAAAAAAAAAAAAAAAAAAAAAAAAAAAAAAAAAAAAAAAAAAAAAAAAAAAAAAAAAAAAAAAAAAAAAAAAAAAAAAAAAAAAAAAAAAAAAAAAAAAAAAAAAAAAAAAAAAjB8KC+cNUPyMHwoL5w1Q/IwfCgvnDVD8AAAAAAAAAAAAAAAAAAAAAIwfCgvnDVD8AAAAAAAAAAAAAAAAAAAAAAAAAAAAAAAAAAAAAAAAAAAAAAAAAAAAAAAAAAAAAAAAAAAAAAAAAAAAAAAAAAAAAAAAAAAAAAAAAAAAAAAAAACMHwoL5w1Q/AAAAAAAAAAAAAAAAAAAAAAAAAAAAAAAAIwfCgvnDVD8AAAAAAAAAAAAAAAAAAAAAAAAAAAAAAAAAAAAAAAAAAAAAAAAAAAAAAAAAAAAAAAAAAAAAAAAAAAAAAAAAAAAAAAAAAAAAAAAAAAAAAAAAAAAAAAAAAAAAAAAAAAAAAAAjB8KC+cNUPwAAAAAAAAAAAAAAAAAAAAA=",
          "dtype": "f8",
          "shape": "40, 121"
         }
        }
       ],
       "layout": {
        "template": {
         "data": {
          "bar": [
           {
            "error_x": {
             "color": "#2a3f5f"
            },
            "error_y": {
             "color": "#2a3f5f"
            },
            "marker": {
             "line": {
              "color": "#E5ECF6",
              "width": 0.5
             },
             "pattern": {
              "fillmode": "overlay",
              "size": 10,
              "solidity": 0.2
             }
            },
            "type": "bar"
           }
          ],
          "barpolar": [
           {
            "marker": {
             "line": {
              "color": "#E5ECF6",
              "width": 0.5
             },
             "pattern": {
              "fillmode": "overlay",
              "size": 10,
              "solidity": 0.2
             }
            },
            "type": "barpolar"
           }
          ],
          "carpet": [
           {
            "aaxis": {
             "endlinecolor": "#2a3f5f",
             "gridcolor": "white",
             "linecolor": "white",
             "minorgridcolor": "white",
             "startlinecolor": "#2a3f5f"
            },
            "baxis": {
             "endlinecolor": "#2a3f5f",
             "gridcolor": "white",
             "linecolor": "white",
             "minorgridcolor": "white",
             "startlinecolor": "#2a3f5f"
            },
            "type": "carpet"
           }
          ],
          "choropleth": [
           {
            "colorbar": {
             "outlinewidth": 0,
             "ticks": ""
            },
            "type": "choropleth"
           }
          ],
          "contour": [
           {
            "colorbar": {
             "outlinewidth": 0,
             "ticks": ""
            },
            "colorscale": [
             [
              0,
              "#0d0887"
             ],
             [
              0.1111111111111111,
              "#46039f"
             ],
             [
              0.2222222222222222,
              "#7201a8"
             ],
             [
              0.3333333333333333,
              "#9c179e"
             ],
             [
              0.4444444444444444,
              "#bd3786"
             ],
             [
              0.5555555555555556,
              "#d8576b"
             ],
             [
              0.6666666666666666,
              "#ed7953"
             ],
             [
              0.7777777777777778,
              "#fb9f3a"
             ],
             [
              0.8888888888888888,
              "#fdca26"
             ],
             [
              1,
              "#f0f921"
             ]
            ],
            "type": "contour"
           }
          ],
          "contourcarpet": [
           {
            "colorbar": {
             "outlinewidth": 0,
             "ticks": ""
            },
            "type": "contourcarpet"
           }
          ],
          "heatmap": [
           {
            "colorbar": {
             "outlinewidth": 0,
             "ticks": ""
            },
            "colorscale": [
             [
              0,
              "#0d0887"
             ],
             [
              0.1111111111111111,
              "#46039f"
             ],
             [
              0.2222222222222222,
              "#7201a8"
             ],
             [
              0.3333333333333333,
              "#9c179e"
             ],
             [
              0.4444444444444444,
              "#bd3786"
             ],
             [
              0.5555555555555556,
              "#d8576b"
             ],
             [
              0.6666666666666666,
              "#ed7953"
             ],
             [
              0.7777777777777778,
              "#fb9f3a"
             ],
             [
              0.8888888888888888,
              "#fdca26"
             ],
             [
              1,
              "#f0f921"
             ]
            ],
            "type": "heatmap"
           }
          ],
          "histogram": [
           {
            "marker": {
             "pattern": {
              "fillmode": "overlay",
              "size": 10,
              "solidity": 0.2
             }
            },
            "type": "histogram"
           }
          ],
          "histogram2d": [
           {
            "colorbar": {
             "outlinewidth": 0,
             "ticks": ""
            },
            "colorscale": [
             [
              0,
              "#0d0887"
             ],
             [
              0.1111111111111111,
              "#46039f"
             ],
             [
              0.2222222222222222,
              "#7201a8"
             ],
             [
              0.3333333333333333,
              "#9c179e"
             ],
             [
              0.4444444444444444,
              "#bd3786"
             ],
             [
              0.5555555555555556,
              "#d8576b"
             ],
             [
              0.6666666666666666,
              "#ed7953"
             ],
             [
              0.7777777777777778,
              "#fb9f3a"
             ],
             [
              0.8888888888888888,
              "#fdca26"
             ],
             [
              1,
              "#f0f921"
             ]
            ],
            "type": "histogram2d"
           }
          ],
          "histogram2dcontour": [
           {
            "colorbar": {
             "outlinewidth": 0,
             "ticks": ""
            },
            "colorscale": [
             [
              0,
              "#0d0887"
             ],
             [
              0.1111111111111111,
              "#46039f"
             ],
             [
              0.2222222222222222,
              "#7201a8"
             ],
             [
              0.3333333333333333,
              "#9c179e"
             ],
             [
              0.4444444444444444,
              "#bd3786"
             ],
             [
              0.5555555555555556,
              "#d8576b"
             ],
             [
              0.6666666666666666,
              "#ed7953"
             ],
             [
              0.7777777777777778,
              "#fb9f3a"
             ],
             [
              0.8888888888888888,
              "#fdca26"
             ],
             [
              1,
              "#f0f921"
             ]
            ],
            "type": "histogram2dcontour"
           }
          ],
          "mesh3d": [
           {
            "colorbar": {
             "outlinewidth": 0,
             "ticks": ""
            },
            "type": "mesh3d"
           }
          ],
          "parcoords": [
           {
            "line": {
             "colorbar": {
              "outlinewidth": 0,
              "ticks": ""
             }
            },
            "type": "parcoords"
           }
          ],
          "pie": [
           {
            "automargin": true,
            "type": "pie"
           }
          ],
          "scatter": [
           {
            "fillpattern": {
             "fillmode": "overlay",
             "size": 10,
             "solidity": 0.2
            },
            "type": "scatter"
           }
          ],
          "scatter3d": [
           {
            "line": {
             "colorbar": {
              "outlinewidth": 0,
              "ticks": ""
             }
            },
            "marker": {
             "colorbar": {
              "outlinewidth": 0,
              "ticks": ""
             }
            },
            "type": "scatter3d"
           }
          ],
          "scattercarpet": [
           {
            "marker": {
             "colorbar": {
              "outlinewidth": 0,
              "ticks": ""
             }
            },
            "type": "scattercarpet"
           }
          ],
          "scattergeo": [
           {
            "marker": {
             "colorbar": {
              "outlinewidth": 0,
              "ticks": ""
             }
            },
            "type": "scattergeo"
           }
          ],
          "scattergl": [
           {
            "marker": {
             "colorbar": {
              "outlinewidth": 0,
              "ticks": ""
             }
            },
            "type": "scattergl"
           }
          ],
          "scattermap": [
           {
            "marker": {
             "colorbar": {
              "outlinewidth": 0,
              "ticks": ""
             }
            },
            "type": "scattermap"
           }
          ],
          "scattermapbox": [
           {
            "marker": {
             "colorbar": {
              "outlinewidth": 0,
              "ticks": ""
             }
            },
            "type": "scattermapbox"
           }
          ],
          "scatterpolar": [
           {
            "marker": {
             "colorbar": {
              "outlinewidth": 0,
              "ticks": ""
             }
            },
            "type": "scatterpolar"
           }
          ],
          "scatterpolargl": [
           {
            "marker": {
             "colorbar": {
              "outlinewidth": 0,
              "ticks": ""
             }
            },
            "type": "scatterpolargl"
           }
          ],
          "scatterternary": [
           {
            "marker": {
             "colorbar": {
              "outlinewidth": 0,
              "ticks": ""
             }
            },
            "type": "scatterternary"
           }
          ],
          "surface": [
           {
            "colorbar": {
             "outlinewidth": 0,
             "ticks": ""
            },
            "colorscale": [
             [
              0,
              "#0d0887"
             ],
             [
              0.1111111111111111,
              "#46039f"
             ],
             [
              0.2222222222222222,
              "#7201a8"
             ],
             [
              0.3333333333333333,
              "#9c179e"
             ],
             [
              0.4444444444444444,
              "#bd3786"
             ],
             [
              0.5555555555555556,
              "#d8576b"
             ],
             [
              0.6666666666666666,
              "#ed7953"
             ],
             [
              0.7777777777777778,
              "#fb9f3a"
             ],
             [
              0.8888888888888888,
              "#fdca26"
             ],
             [
              1,
              "#f0f921"
             ]
            ],
            "type": "surface"
           }
          ],
          "table": [
           {
            "cells": {
             "fill": {
              "color": "#EBF0F8"
             },
             "line": {
              "color": "white"
             }
            },
            "header": {
             "fill": {
              "color": "#C8D4E3"
             },
             "line": {
              "color": "white"
             }
            },
            "type": "table"
           }
          ]
         },
         "layout": {
          "annotationdefaults": {
           "arrowcolor": "#2a3f5f",
           "arrowhead": 0,
           "arrowwidth": 1
          },
          "autotypenumbers": "strict",
          "coloraxis": {
           "colorbar": {
            "outlinewidth": 0,
            "ticks": ""
           }
          },
          "colorscale": {
           "diverging": [
            [
             0,
             "#8e0152"
            ],
            [
             0.1,
             "#c51b7d"
            ],
            [
             0.2,
             "#de77ae"
            ],
            [
             0.3,
             "#f1b6da"
            ],
            [
             0.4,
             "#fde0ef"
            ],
            [
             0.5,
             "#f7f7f7"
            ],
            [
             0.6,
             "#e6f5d0"
            ],
            [
             0.7,
             "#b8e186"
            ],
            [
             0.8,
             "#7fbc41"
            ],
            [
             0.9,
             "#4d9221"
            ],
            [
             1,
             "#276419"
            ]
           ],
           "sequential": [
            [
             0,
             "#0d0887"
            ],
            [
             0.1111111111111111,
             "#46039f"
            ],
            [
             0.2222222222222222,
             "#7201a8"
            ],
            [
             0.3333333333333333,
             "#9c179e"
            ],
            [
             0.4444444444444444,
             "#bd3786"
            ],
            [
             0.5555555555555556,
             "#d8576b"
            ],
            [
             0.6666666666666666,
             "#ed7953"
            ],
            [
             0.7777777777777778,
             "#fb9f3a"
            ],
            [
             0.8888888888888888,
             "#fdca26"
            ],
            [
             1,
             "#f0f921"
            ]
           ],
           "sequentialminus": [
            [
             0,
             "#0d0887"
            ],
            [
             0.1111111111111111,
             "#46039f"
            ],
            [
             0.2222222222222222,
             "#7201a8"
            ],
            [
             0.3333333333333333,
             "#9c179e"
            ],
            [
             0.4444444444444444,
             "#bd3786"
            ],
            [
             0.5555555555555556,
             "#d8576b"
            ],
            [
             0.6666666666666666,
             "#ed7953"
            ],
            [
             0.7777777777777778,
             "#fb9f3a"
            ],
            [
             0.8888888888888888,
             "#fdca26"
            ],
            [
             1,
             "#f0f921"
            ]
           ]
          },
          "colorway": [
           "#636efa",
           "#EF553B",
           "#00cc96",
           "#ab63fa",
           "#FFA15A",
           "#19d3f3",
           "#FF6692",
           "#B6E880",
           "#FF97FF",
           "#FECB52"
          ],
          "font": {
           "color": "#2a3f5f"
          },
          "geo": {
           "bgcolor": "white",
           "lakecolor": "white",
           "landcolor": "#E5ECF6",
           "showlakes": true,
           "showland": true,
           "subunitcolor": "white"
          },
          "hoverlabel": {
           "align": "left"
          },
          "hovermode": "closest",
          "mapbox": {
           "style": "light"
          },
          "paper_bgcolor": "white",
          "plot_bgcolor": "#E5ECF6",
          "polar": {
           "angularaxis": {
            "gridcolor": "white",
            "linecolor": "white",
            "ticks": ""
           },
           "bgcolor": "#E5ECF6",
           "radialaxis": {
            "gridcolor": "white",
            "linecolor": "white",
            "ticks": ""
           }
          },
          "scene": {
           "xaxis": {
            "backgroundcolor": "#E5ECF6",
            "gridcolor": "white",
            "gridwidth": 2,
            "linecolor": "white",
            "showbackground": true,
            "ticks": "",
            "zerolinecolor": "white"
           },
           "yaxis": {
            "backgroundcolor": "#E5ECF6",
            "gridcolor": "white",
            "gridwidth": 2,
            "linecolor": "white",
            "showbackground": true,
            "ticks": "",
            "zerolinecolor": "white"
           },
           "zaxis": {
            "backgroundcolor": "#E5ECF6",
            "gridcolor": "white",
            "gridwidth": 2,
            "linecolor": "white",
            "showbackground": true,
            "ticks": "",
            "zerolinecolor": "white"
           }
          },
          "shapedefaults": {
           "line": {
            "color": "#2a3f5f"
           }
          },
          "ternary": {
           "aaxis": {
            "gridcolor": "white",
            "linecolor": "white",
            "ticks": ""
           },
           "baxis": {
            "gridcolor": "white",
            "linecolor": "white",
            "ticks": ""
           },
           "bgcolor": "#E5ECF6",
           "caxis": {
            "gridcolor": "white",
            "linecolor": "white",
            "ticks": ""
           }
          },
          "title": {
           "x": 0.05
          },
          "xaxis": {
           "automargin": true,
           "gridcolor": "white",
           "linecolor": "white",
           "ticks": "",
           "title": {
            "standoff": 15
           },
           "zerolinecolor": "white",
           "zerolinewidth": 2
          },
          "yaxis": {
           "automargin": true,
           "gridcolor": "white",
           "linecolor": "white",
           "ticks": "",
           "title": {
            "standoff": 15
           },
           "zerolinecolor": "white",
           "zerolinewidth": 2
          }
         }
        },
        "title": {
         "text": "Frequency of Percentage Price Changes Around EIA WPSR Release On Non-Release Days"
        },
        "xaxis": {
         "ticktext": [
          -60,
          -55,
          -50,
          -45,
          -40,
          -35,
          -30,
          -25,
          -20,
          -15,
          -10,
          -5,
          0,
          5,
          10,
          15,
          20,
          25,
          30,
          35,
          40,
          45,
          50,
          55,
          60
         ],
         "tickvals": [
          -60,
          -55,
          -50,
          -45,
          -40,
          -35,
          -30,
          -25,
          -20,
          -15,
          -10,
          -5,
          0,
          5,
          10,
          15,
          20,
          25,
          30,
          35,
          40,
          45,
          50,
          55,
          60
         ],
         "title": {
          "text": "Time Relative to Release (Minutes)"
         }
        },
        "yaxis": {
         "title": {
          "text": "Percentage Price Change Bins"
         }
        }
       }
      }
     },
     "metadata": {},
     "output_type": "display_data"
    }
   ],
   "source": []
  }
 ],
 "metadata": {
  "kernelspec": {
   "display_name": "Python 3",
   "language": "python",
   "name": "python3"
  },
  "language_info": {
   "codemirror_mode": {
    "name": "ipython",
    "version": 3
   },
   "file_extension": ".py",
   "mimetype": "text/x-python",
   "name": "python",
   "nbconvert_exporter": "python",
   "pygments_lexer": "ipython3",
   "version": "3.13.1"
  }
 },
 "nbformat": 4,
 "nbformat_minor": 2
}
