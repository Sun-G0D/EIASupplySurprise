{
 "cells": [
  {
   "cell_type": "code",
   "execution_count": null,
   "metadata": {},
   "outputs": [],
   "source": [
    "import pandas as pd\n",
    "import datetime\n",
    "import pytz\n",
    "import plotly.graph_objects as go\n",
    "from plotly.offline import iplot\n",
    "from plotly.subplots import make_subplots\n",
    "from scipy import stats\n",
    "import numpy as np\n",
    "\n",
    "pd.set_option('display.max_rows', 400)\n",
    "pd.set_option('display.max_columns', 20)\n",
    "\n",
    "icom_eia_forecasts = pd.read_csv('data/InvestingcomEIA.csv')\n",
    "print(\"icom_eia_forecasts:\")\n",
    "display(icom_eia_forecasts)\n",
    "\n",
    "fxstreet_eia_forecasts = pd.read_csv('data/FXStreetEIA.csv')\n",
    "print(\"fxstreet_eia_forecasts:\")\n",
    "display(fxstreet_eia_forecasts)\n",
    "print(\"fxstreet_api_forecasts:\")\n",
    "fxstreet_api_forecasts = pd.read_csv('data/FXStreetAPI.csv')\n",
    "display(fxstreet_api_forecasts)\n",
    "\n",
    "min_WTI = pd.read_csv(\n",
    "    'data/cl-1m.csv',\n",
    "    sep=';',\n",
    "    header=None,\n",
    "    names=['Date', 'Time', 'Open', 'High', 'Low', 'Close', 'Volume']\n",
    ")\n",
    "\n",
    "# Print the head of the DataFrame to verify it's loaded correctly\n",
    "display(min_WTI)\n",
    "min_WTI = min_WTI[1225975:]\n",
    "display(min_WTI)\n",
    "\n"
   ]
  },
  {
   "cell_type": "code",
   "execution_count": null,
   "metadata": {},
   "outputs": [
    {
     "data": {
      "text/html": [
       "<div>\n",
       "<style scoped>\n",
       "    .dataframe tbody tr th:only-of-type {\n",
       "        vertical-align: middle;\n",
       "    }\n",
       "\n",
       "    .dataframe tbody tr th {\n",
       "        vertical-align: top;\n",
       "    }\n",
       "\n",
       "    .dataframe thead th {\n",
       "        text-align: right;\n",
       "    }\n",
       "</style>\n",
       "<table border=\"1\" class=\"dataframe\">\n",
       "  <thead>\n",
       "    <tr style=\"text-align: right;\">\n",
       "      <th></th>\n",
       "      <th>Date</th>\n",
       "      <th>Time</th>\n",
       "      <th>Open</th>\n",
       "      <th>High</th>\n",
       "      <th>Low</th>\n",
       "      <th>Close</th>\n",
       "      <th>Volume</th>\n",
       "      <th>Datetime</th>\n",
       "    </tr>\n",
       "    <tr>\n",
       "      <th>Datetime_CST</th>\n",
       "      <th></th>\n",
       "      <th></th>\n",
       "      <th></th>\n",
       "      <th></th>\n",
       "      <th></th>\n",
       "      <th></th>\n",
       "      <th></th>\n",
       "      <th></th>\n",
       "    </tr>\n",
       "  </thead>\n",
       "  <tbody>\n",
       "    <tr>\n",
       "      <th>2011-03-07 23:59:00-06:00</th>\n",
       "      <td>07/03/2011</td>\n",
       "      <td>23:59:00</td>\n",
       "      <td>104.74</td>\n",
       "      <td>104.77</td>\n",
       "      <td>104.73</td>\n",
       "      <td>104.73</td>\n",
       "      <td>18</td>\n",
       "      <td>2011-03-07 23:59:00</td>\n",
       "    </tr>\n",
       "    <tr>\n",
       "      <th>2011-03-08 00:00:00-06:00</th>\n",
       "      <td>08/03/2011</td>\n",
       "      <td>00:00:00</td>\n",
       "      <td>104.74</td>\n",
       "      <td>104.82</td>\n",
       "      <td>104.74</td>\n",
       "      <td>104.81</td>\n",
       "      <td>34</td>\n",
       "      <td>2011-03-08 00:00:00</td>\n",
       "    </tr>\n",
       "    <tr>\n",
       "      <th>2011-03-08 00:01:00-06:00</th>\n",
       "      <td>08/03/2011</td>\n",
       "      <td>00:01:00</td>\n",
       "      <td>104.82</td>\n",
       "      <td>104.84</td>\n",
       "      <td>104.82</td>\n",
       "      <td>104.82</td>\n",
       "      <td>12</td>\n",
       "      <td>2011-03-08 00:01:00</td>\n",
       "    </tr>\n",
       "    <tr>\n",
       "      <th>2011-03-08 00:02:00-06:00</th>\n",
       "      <td>08/03/2011</td>\n",
       "      <td>00:02:00</td>\n",
       "      <td>104.81</td>\n",
       "      <td>104.81</td>\n",
       "      <td>104.73</td>\n",
       "      <td>104.75</td>\n",
       "      <td>20</td>\n",
       "      <td>2011-03-08 00:02:00</td>\n",
       "    </tr>\n",
       "    <tr>\n",
       "      <th>2011-03-08 00:03:00-06:00</th>\n",
       "      <td>08/03/2011</td>\n",
       "      <td>00:03:00</td>\n",
       "      <td>104.74</td>\n",
       "      <td>104.76</td>\n",
       "      <td>104.71</td>\n",
       "      <td>104.76</td>\n",
       "      <td>25</td>\n",
       "      <td>2011-03-08 00:03:00</td>\n",
       "    </tr>\n",
       "    <tr>\n",
       "      <th>...</th>\n",
       "      <td>...</td>\n",
       "      <td>...</td>\n",
       "      <td>...</td>\n",
       "      <td>...</td>\n",
       "      <td>...</td>\n",
       "      <td>...</td>\n",
       "      <td>...</td>\n",
       "      <td>...</td>\n",
       "    </tr>\n",
       "    <tr>\n",
       "      <th>2025-03-11 23:54:00-05:00</th>\n",
       "      <td>11/03/2025</td>\n",
       "      <td>23:54:00</td>\n",
       "      <td>66.75</td>\n",
       "      <td>66.75</td>\n",
       "      <td>66.75</td>\n",
       "      <td>66.75</td>\n",
       "      <td>13</td>\n",
       "      <td>2025-03-11 23:54:00</td>\n",
       "    </tr>\n",
       "    <tr>\n",
       "      <th>2025-03-11 23:56:00-05:00</th>\n",
       "      <td>11/03/2025</td>\n",
       "      <td>23:56:00</td>\n",
       "      <td>66.75</td>\n",
       "      <td>66.75</td>\n",
       "      <td>66.74</td>\n",
       "      <td>66.74</td>\n",
       "      <td>3</td>\n",
       "      <td>2025-03-11 23:56:00</td>\n",
       "    </tr>\n",
       "    <tr>\n",
       "      <th>2025-03-11 23:58:00-05:00</th>\n",
       "      <td>11/03/2025</td>\n",
       "      <td>23:58:00</td>\n",
       "      <td>66.75</td>\n",
       "      <td>66.75</td>\n",
       "      <td>66.75</td>\n",
       "      <td>66.75</td>\n",
       "      <td>3</td>\n",
       "      <td>2025-03-11 23:58:00</td>\n",
       "    </tr>\n",
       "    <tr>\n",
       "      <th>2025-03-11 23:59:00-05:00</th>\n",
       "      <td>11/03/2025</td>\n",
       "      <td>23:59:00</td>\n",
       "      <td>66.75</td>\n",
       "      <td>66.75</td>\n",
       "      <td>66.75</td>\n",
       "      <td>66.75</td>\n",
       "      <td>1</td>\n",
       "      <td>2025-03-11 23:59:00</td>\n",
       "    </tr>\n",
       "    <tr>\n",
       "      <th>2025-03-12 00:00:00-05:00</th>\n",
       "      <td>12/03/2025</td>\n",
       "      <td>00:00:00</td>\n",
       "      <td>66.74</td>\n",
       "      <td>66.76</td>\n",
       "      <td>66.71</td>\n",
       "      <td>66.75</td>\n",
       "      <td>41</td>\n",
       "      <td>2025-03-12 00:00:00</td>\n",
       "    </tr>\n",
       "  </tbody>\n",
       "</table>\n",
       "<p>4811559 rows × 8 columns</p>\n",
       "</div>"
      ],
      "text/plain": [
       "                                 Date      Time    Open    High     Low  \\\n",
       "Datetime_CST                                                              \n",
       "2011-03-07 23:59:00-06:00  07/03/2011  23:59:00  104.74  104.77  104.73   \n",
       "2011-03-08 00:00:00-06:00  08/03/2011  00:00:00  104.74  104.82  104.74   \n",
       "2011-03-08 00:01:00-06:00  08/03/2011  00:01:00  104.82  104.84  104.82   \n",
       "2011-03-08 00:02:00-06:00  08/03/2011  00:02:00  104.81  104.81  104.73   \n",
       "2011-03-08 00:03:00-06:00  08/03/2011  00:03:00  104.74  104.76  104.71   \n",
       "...                               ...       ...     ...     ...     ...   \n",
       "2025-03-11 23:54:00-05:00  11/03/2025  23:54:00   66.75   66.75   66.75   \n",
       "2025-03-11 23:56:00-05:00  11/03/2025  23:56:00   66.75   66.75   66.74   \n",
       "2025-03-11 23:58:00-05:00  11/03/2025  23:58:00   66.75   66.75   66.75   \n",
       "2025-03-11 23:59:00-05:00  11/03/2025  23:59:00   66.75   66.75   66.75   \n",
       "2025-03-12 00:00:00-05:00  12/03/2025  00:00:00   66.74   66.76   66.71   \n",
       "\n",
       "                            Close  Volume            Datetime  \n",
       "Datetime_CST                                                   \n",
       "2011-03-07 23:59:00-06:00  104.73      18 2011-03-07 23:59:00  \n",
       "2011-03-08 00:00:00-06:00  104.81      34 2011-03-08 00:00:00  \n",
       "2011-03-08 00:01:00-06:00  104.82      12 2011-03-08 00:01:00  \n",
       "2011-03-08 00:02:00-06:00  104.75      20 2011-03-08 00:02:00  \n",
       "2011-03-08 00:03:00-06:00  104.76      25 2011-03-08 00:03:00  \n",
       "...                           ...     ...                 ...  \n",
       "2025-03-11 23:54:00-05:00   66.75      13 2025-03-11 23:54:00  \n",
       "2025-03-11 23:56:00-05:00   66.74       3 2025-03-11 23:56:00  \n",
       "2025-03-11 23:58:00-05:00   66.75       3 2025-03-11 23:58:00  \n",
       "2025-03-11 23:59:00-05:00   66.75       1 2025-03-11 23:59:00  \n",
       "2025-03-12 00:00:00-05:00   66.75      41 2025-03-12 00:00:00  \n",
       "\n",
       "[4811559 rows x 8 columns]"
      ]
     },
     "metadata": {},
     "output_type": "display_data"
    },
    {
     "data": {
      "text/html": [
       "<div>\n",
       "<style scoped>\n",
       "    .dataframe tbody tr th:only-of-type {\n",
       "        vertical-align: middle;\n",
       "    }\n",
       "\n",
       "    .dataframe tbody tr th {\n",
       "        vertical-align: top;\n",
       "    }\n",
       "\n",
       "    .dataframe thead th {\n",
       "        text-align: right;\n",
       "    }\n",
       "</style>\n",
       "<table border=\"1\" class=\"dataframe\">\n",
       "  <thead>\n",
       "    <tr style=\"text-align: right;\">\n",
       "      <th></th>\n",
       "      <th>Release Date</th>\n",
       "      <th>Time</th>\n",
       "      <th>Actual</th>\n",
       "      <th>Forecast</th>\n",
       "      <th>Previous</th>\n",
       "      <th>Release_Datetime</th>\n",
       "      <th>Release_Datetime_EST</th>\n",
       "      <th>supply_surprise</th>\n",
       "    </tr>\n",
       "    <tr>\n",
       "      <th>Release_Datetime_CST</th>\n",
       "      <th></th>\n",
       "      <th></th>\n",
       "      <th></th>\n",
       "      <th></th>\n",
       "      <th></th>\n",
       "      <th></th>\n",
       "      <th></th>\n",
       "      <th></th>\n",
       "    </tr>\n",
       "  </thead>\n",
       "  <tbody>\n",
       "    <tr>\n",
       "      <th>2011-03-09 09:30:00-06:00</th>\n",
       "      <td>9-Mar-11</td>\n",
       "      <td>10:30</td>\n",
       "      <td>2.500M</td>\n",
       "      <td>1.100M</td>\n",
       "      <td>-0.400M</td>\n",
       "      <td>2011-03-09 10:30:00</td>\n",
       "      <td>2011-03-09 10:30:00-05:00</td>\n",
       "      <td>1.400</td>\n",
       "    </tr>\n",
       "    <tr>\n",
       "      <th>2011-03-16 08:30:00-05:00</th>\n",
       "      <td>16-Mar-11</td>\n",
       "      <td>9:30</td>\n",
       "      <td>1.700M</td>\n",
       "      <td>1.800M</td>\n",
       "      <td>2.500M</td>\n",
       "      <td>2011-03-16 09:30:00</td>\n",
       "      <td>2011-03-16 09:30:00-04:00</td>\n",
       "      <td>-0.100</td>\n",
       "    </tr>\n",
       "    <tr>\n",
       "      <th>2011-03-23 08:30:00-05:00</th>\n",
       "      <td>23-Mar-11</td>\n",
       "      <td>9:30</td>\n",
       "      <td>2.100M</td>\n",
       "      <td>2.000M</td>\n",
       "      <td>1.700M</td>\n",
       "      <td>2011-03-23 09:30:00</td>\n",
       "      <td>2011-03-23 09:30:00-04:00</td>\n",
       "      <td>0.100</td>\n",
       "    </tr>\n",
       "    <tr>\n",
       "      <th>2011-03-30 08:30:00-05:00</th>\n",
       "      <td>30-Mar-11</td>\n",
       "      <td>9:30</td>\n",
       "      <td>2.900M</td>\n",
       "      <td>2.000M</td>\n",
       "      <td>2.100M</td>\n",
       "      <td>2011-03-30 09:30:00</td>\n",
       "      <td>2011-03-30 09:30:00-04:00</td>\n",
       "      <td>0.900</td>\n",
       "    </tr>\n",
       "    <tr>\n",
       "      <th>2011-04-06 08:30:00-05:00</th>\n",
       "      <td>6-Apr-11</td>\n",
       "      <td>9:30</td>\n",
       "      <td>2.000M</td>\n",
       "      <td>1.300M</td>\n",
       "      <td>2.900M</td>\n",
       "      <td>2011-04-06 09:30:00</td>\n",
       "      <td>2011-04-06 09:30:00-04:00</td>\n",
       "      <td>0.700</td>\n",
       "    </tr>\n",
       "    <tr>\n",
       "      <th>...</th>\n",
       "      <td>...</td>\n",
       "      <td>...</td>\n",
       "      <td>...</td>\n",
       "      <td>...</td>\n",
       "      <td>...</td>\n",
       "      <td>...</td>\n",
       "      <td>...</td>\n",
       "      <td>...</td>\n",
       "    </tr>\n",
       "    <tr>\n",
       "      <th>2025-02-12 09:30:00-06:00</th>\n",
       "      <td>12-Feb-25</td>\n",
       "      <td>10:30</td>\n",
       "      <td>4.070M</td>\n",
       "      <td>2.400M</td>\n",
       "      <td>8.664M</td>\n",
       "      <td>2025-02-12 10:30:00</td>\n",
       "      <td>2025-02-12 10:30:00-05:00</td>\n",
       "      <td>1.670</td>\n",
       "    </tr>\n",
       "    <tr>\n",
       "      <th>2025-02-20 11:00:00-06:00</th>\n",
       "      <td>20-Feb-25</td>\n",
       "      <td>12:00</td>\n",
       "      <td>4.633M</td>\n",
       "      <td>3.200M</td>\n",
       "      <td>4.070M</td>\n",
       "      <td>2025-02-20 12:00:00</td>\n",
       "      <td>2025-02-20 12:00:00-05:00</td>\n",
       "      <td>1.433</td>\n",
       "    </tr>\n",
       "    <tr>\n",
       "      <th>2025-02-26 09:00:00-06:00</th>\n",
       "      <td>26-Feb-25</td>\n",
       "      <td>10:00</td>\n",
       "      <td>-2.332M</td>\n",
       "      <td>2.500M</td>\n",
       "      <td>4.633M</td>\n",
       "      <td>2025-02-26 10:00:00</td>\n",
       "      <td>2025-02-26 10:00:00-05:00</td>\n",
       "      <td>-4.832</td>\n",
       "    </tr>\n",
       "    <tr>\n",
       "      <th>2025-03-05 09:30:00-06:00</th>\n",
       "      <td>5-Mar-25</td>\n",
       "      <td>10:30</td>\n",
       "      <td>3.614M</td>\n",
       "      <td>0.600M</td>\n",
       "      <td>-2.332M</td>\n",
       "      <td>2025-03-05 10:30:00</td>\n",
       "      <td>2025-03-05 10:30:00-05:00</td>\n",
       "      <td>3.014</td>\n",
       "    </tr>\n",
       "    <tr>\n",
       "      <th>2025-03-12 07:30:00-05:00</th>\n",
       "      <td>12-Mar-25</td>\n",
       "      <td>8:30</td>\n",
       "      <td>NaN</td>\n",
       "      <td>NaN</td>\n",
       "      <td>3.614M</td>\n",
       "      <td>2025-03-12 08:30:00</td>\n",
       "      <td>2025-03-12 08:30:00-04:00</td>\n",
       "      <td>NaN</td>\n",
       "    </tr>\n",
       "  </tbody>\n",
       "</table>\n",
       "<p>732 rows × 8 columns</p>\n",
       "</div>"
      ],
      "text/plain": [
       "                          Release Date   Time   Actual Forecast Previous  \\\n",
       "Release_Datetime_CST                                                       \n",
       "2011-03-09 09:30:00-06:00     9-Mar-11  10:30   2.500M   1.100M  -0.400M   \n",
       "2011-03-16 08:30:00-05:00    16-Mar-11   9:30   1.700M   1.800M   2.500M   \n",
       "2011-03-23 08:30:00-05:00    23-Mar-11   9:30   2.100M   2.000M   1.700M   \n",
       "2011-03-30 08:30:00-05:00    30-Mar-11   9:30   2.900M   2.000M   2.100M   \n",
       "2011-04-06 08:30:00-05:00     6-Apr-11   9:30   2.000M   1.300M   2.900M   \n",
       "...                                ...    ...      ...      ...      ...   \n",
       "2025-02-12 09:30:00-06:00    12-Feb-25  10:30   4.070M   2.400M   8.664M   \n",
       "2025-02-20 11:00:00-06:00    20-Feb-25  12:00   4.633M   3.200M   4.070M   \n",
       "2025-02-26 09:00:00-06:00    26-Feb-25  10:00  -2.332M   2.500M   4.633M   \n",
       "2025-03-05 09:30:00-06:00     5-Mar-25  10:30   3.614M   0.600M  -2.332M   \n",
       "2025-03-12 07:30:00-05:00    12-Mar-25   8:30      NaN      NaN   3.614M   \n",
       "\n",
       "                             Release_Datetime      Release_Datetime_EST  \\\n",
       "Release_Datetime_CST                                                      \n",
       "2011-03-09 09:30:00-06:00 2011-03-09 10:30:00 2011-03-09 10:30:00-05:00   \n",
       "2011-03-16 08:30:00-05:00 2011-03-16 09:30:00 2011-03-16 09:30:00-04:00   \n",
       "2011-03-23 08:30:00-05:00 2011-03-23 09:30:00 2011-03-23 09:30:00-04:00   \n",
       "2011-03-30 08:30:00-05:00 2011-03-30 09:30:00 2011-03-30 09:30:00-04:00   \n",
       "2011-04-06 08:30:00-05:00 2011-04-06 09:30:00 2011-04-06 09:30:00-04:00   \n",
       "...                                       ...                       ...   \n",
       "2025-02-12 09:30:00-06:00 2025-02-12 10:30:00 2025-02-12 10:30:00-05:00   \n",
       "2025-02-20 11:00:00-06:00 2025-02-20 12:00:00 2025-02-20 12:00:00-05:00   \n",
       "2025-02-26 09:00:00-06:00 2025-02-26 10:00:00 2025-02-26 10:00:00-05:00   \n",
       "2025-03-05 09:30:00-06:00 2025-03-05 10:30:00 2025-03-05 10:30:00-05:00   \n",
       "2025-03-12 07:30:00-05:00 2025-03-12 08:30:00 2025-03-12 08:30:00-04:00   \n",
       "\n",
       "                           supply_surprise  \n",
       "Release_Datetime_CST                        \n",
       "2011-03-09 09:30:00-06:00            1.400  \n",
       "2011-03-16 08:30:00-05:00           -0.100  \n",
       "2011-03-23 08:30:00-05:00            0.100  \n",
       "2011-03-30 08:30:00-05:00            0.900  \n",
       "2011-04-06 08:30:00-05:00            0.700  \n",
       "...                                    ...  \n",
       "2025-02-12 09:30:00-06:00            1.670  \n",
       "2025-02-20 11:00:00-06:00            1.433  \n",
       "2025-02-26 09:00:00-06:00           -4.832  \n",
       "2025-03-05 09:30:00-06:00            3.014  \n",
       "2025-03-12 07:30:00-05:00              NaN  \n",
       "\n",
       "[732 rows x 8 columns]"
      ]
     },
     "metadata": {},
     "output_type": "display_data"
    }
   ],
   "source": [
    "display(min_WTI)\n",
    "display(icom_eia_forecasts)"
   ]
  },
  {
   "cell_type": "code",
   "execution_count": null,
   "metadata": {},
   "outputs": [],
   "source": [
    "def standardize_eia_datetime(row):\n",
    "    release_date = pd.to_datetime(row['Release Date'], format='%d-%b-%y', errors='coerce').date()\n",
    "    release_time = pd.to_datetime(row['Time'], format='%H:%M', errors='coerce').time()\n",
    "\n",
    "    if pd.isna(release_date) or pd.isna(release_time):\n",
    "        print('nan') #If this triggers, something is wrong\n",
    "        return pd.NaT\n",
    "\n",
    "    combined_datetime = pd.Timestamp.combine(release_date, release_time)\n",
    "    return combined_datetime\n",
    "\n",
    "icom_eia_forecasts['Release_Datetime'] = icom_eia_forecasts.apply(standardize_eia_datetime, axis=1)\n",
    "\n",
    "display(icom_eia_forecasts)\n",
    "\n",
    "eastern_tz = pytz.timezone('US/Eastern')\n",
    "icom_eia_forecasts['Release_Datetime_EST'] = icom_eia_forecasts['Release_Datetime'].dt.tz_localize(eastern_tz, ambiguous='infer', nonexistent='shift_forward')\n",
    "\n",
    "chicago_tz = pytz.timezone('America/Chicago')\n",
    "icom_eia_forecasts['Release_Datetime_CST'] = icom_eia_forecasts['Release_Datetime_EST'].dt.tz_convert(chicago_tz)\n",
    "\n",
    "display(icom_eia_forecasts)"
   ]
  },
  {
   "cell_type": "code",
   "execution_count": null,
   "metadata": {},
   "outputs": [],
   "source": [
    "def standardize_wti_datetime(row):\n",
    "    \"\"\"Standardizes datetime for min_res_OIH dataframe.\"\"\"\n",
    "    date_str = row['Date']\n",
    "    time_str = row['Time']\n",
    "\n",
    "    #print(date_str + ' ' + time_str)#debug\n",
    "\n",
    "    combined_datetime = pd.to_datetime(date_str + ' ' + time_str, format='%d/%m/%Y %H:%M:%S', errors='coerce') # Combined format\n",
    "\n",
    "    #print(combined_datetime)#debug\n",
    "\n",
    "    if pd.isna(combined_datetime):\n",
    "        print('nan')#If this triggers, something is wrong\n",
    "        return pd.NaT\n",
    "    return combined_datetime\n",
    "\n",
    "min_WTI['Datetime'] = min_WTI.apply(standardize_wti_datetime, axis=1)\n",
    "\n",
    "min_WTI['Datetime_CST'] = min_WTI['Datetime'].dt.tz_localize(chicago_tz, ambiguous='infer', nonexistent='shift_forward')\n",
    "display(min_WTI)"
   ]
  },
  {
   "cell_type": "code",
   "execution_count": null,
   "metadata": {},
   "outputs": [],
   "source": [
    "icom_eia_forecasts = icom_eia_forecasts.set_index('Release_Datetime_CST').sort_index()\n",
    "min_WTI = min_WTI.set_index('Datetime_CST').sort_index()"
   ]
  },
  {
   "cell_type": "code",
   "execution_count": null,
   "metadata": {},
   "outputs": [],
   "source": [
    "display(icom_eia_forecasts)\n",
    "display(min_WTI)\n"
   ]
  },
  {
   "cell_type": "code",
   "execution_count": null,
   "metadata": {},
   "outputs": [],
   "source": [
    "'''\n",
    "def calculate_price_change(eia_release_times, price_data, time_interval_minutes):\n",
    "    \"\"\"\n",
    "    Calculates the percentage price change in the price_data dataframe\n",
    "    for each release time in eia_release_times, over the specified time interval.\n",
    "\n",
    "    Args:\n",
    "        eia_release_times (pd.DatetimeIndex): Index of the icom_eia_forecasts dataframe (release datetimes).\n",
    "        price_data (pd.DataFrame): min_res_OIH dataframe with Datetime index and 'Close' price column.\n",
    "        time_interval_minutes (int): Time interval in minutes for price change calculation.\n",
    "\n",
    "    Returns:\n",
    "        list: List of price changes for each release event, or pd.NA if data is missing.\n",
    "    \"\"\"\n",
    "    price_changes = []\n",
    "    for release_time in eia_release_times:\n",
    "        try:\n",
    "            # Get price at release time\n",
    "            release_price = price_data.loc[release_time]['Close']\n",
    "\n",
    "            # Get price at time_interval_minutes after release\n",
    "            future_time = release_time + pd.Timedelta(minutes=time_interval_minutes)\n",
    "            future_price = price_data.loc[future_time]['Close']\n",
    "\n",
    "            price_change = ((future_price - release_price) / release_price) * 100.0\n",
    "            price_changes.append(price_change)\n",
    "\n",
    "        except KeyError:\n",
    "            #price data is missing when 0 volume so give 0 % price change\n",
    "            price_changes.append(0.0)\n",
    "\n",
    "    return price_changes\n",
    "\n",
    "time_intervals_minutes = [1, 5, 10, 60]\n",
    "\n",
    "price_change_column_names = []\n",
    "for interval in time_intervals_minutes:\n",
    "    col_name = f'{interval}_Minute_Percent_Price_Change' if interval < 60 else f'{interval//60}_Hour_Percent_Price_Change'\n",
    "    price_change_column_names.append(col_name)\n",
    "\n",
    "# remove cols if already there\n",
    "columns_to_drop = [col for col in price_change_column_names if col in icom_eia_forecasts.columns]\n",
    "if columns_to_drop:\n",
    "    print(f\"Removing existing columns: {columns_to_drop}\")\n",
    "    icom_eia_forecasts.drop(columns=columns_to_drop, inplace=True)\n",
    "\n",
    "# add % price change columns\n",
    "for interval, col_name in zip(time_intervals_minutes, price_change_column_names):\n",
    "    icom_eia_forecasts[col_name] = calculate_price_change(icom_eia_forecasts.index, min_res_OIH, interval)\n",
    "\n",
    "\n",
    "display(icom_eia_forecasts)\n",
    "'''"
   ]
  },
  {
   "cell_type": "code",
   "execution_count": null,
   "metadata": {},
   "outputs": [],
   "source": [
    "'''\n",
    "\n",
    "percentage_change_columns = [\n",
    "    '1_Minute_Percent_Price_Change',\n",
    "    '5_Minute_Percent_Price_Change',\n",
    "    '10_Minute_Percent_Price_Change',\n",
    "    '1_Hour_Percent_Price_Change'\n",
    "]\n",
    "\n",
    "average_price_changes = icom_eia_forecasts[percentage_change_columns].abs().mean() # want to look at raw magnitude of price change values, so abs()\n",
    "\n",
    "intervals = [\n",
    "    '1-Minute',\n",
    "    '5-Minute',\n",
    "    '10-Minute',\n",
    "    '1-Hour'\n",
    "]\n",
    "\n",
    "\n",
    "fig = go.Figure(data=[go.Bar(x=intervals, y=average_price_changes.values,\n",
    "                            text=average_price_changes.values.round(3), # Display values on bars\n",
    "                            textposition='outside')])\n",
    "\n",
    "fig.update_layout(\n",
    "    title='Average Percentage Price Change Following EIA WPSR Report Releases',\n",
    "    xaxis_title='Time Interval After Release',\n",
    "    yaxis_title='Average Percentage Price Change',\n",
    "    yaxis_gridcolor='lightgray' # Add light gray grid lines for better readability\n",
    ")\n",
    "\n",
    "iplot(fig)\n",
    "'''"
   ]
  },
  {
   "cell_type": "code",
   "execution_count": null,
   "metadata": {},
   "outputs": [],
   "source": [
    "def calculate_supply_surprise(df):\n",
    "    \"\"\"\n",
    "    Calculates the 'supply_surprise' column as the difference between 'Actual' and 'Forecast'.\n",
    "    Handles 'M' suffix and converts to numeric.\n",
    "\n",
    "    Args:\n",
    "        df (pd.DataFrame): icom_eia_forecasts DataFrame.\n",
    "\n",
    "    Returns:\n",
    "        pd.Series: Supply surprise values.\n",
    "    \"\"\"\n",
    "    actual = df['Actual'].str.replace('M', '', regex=False).astype(float)\n",
    "    forecast = df['Forecast'].str.replace('M', '', regex=False).astype(float)\n",
    "    supply_surprise = actual - forecast\n",
    "    return supply_surprise\n",
    "\n",
    "icom_eia_forecasts['supply_surprise'] = calculate_supply_surprise(icom_eia_forecasts)\n",
    "\n",
    "display(icom_eia_forecasts)"
   ]
  },
  {
   "cell_type": "code",
   "execution_count": null,
   "metadata": {},
   "outputs": [],
   "source": [
    "supply_surprise_data = icom_eia_forecasts['supply_surprise']\n",
    "\n",
    "fig_hist = go.Figure(data=[go.Histogram(x=supply_surprise_data, nbinsx=100)])\n",
    "\n",
    "fig_hist.update_layout(\n",
    "    title='Histogram of EIA WPSR Crude Oil Supply Surprise',\n",
    "    xaxis_title='Supply Surprise (Actual - Forecast, Million Barrels)',\n",
    "    yaxis_title='Frequency (Number of Releases)',\n",
    "    bargap=0.1\n",
    ")\n",
    "\n",
    "fig_hist.show()"
   ]
  },
  {
   "cell_type": "code",
   "execution_count": null,
   "metadata": {},
   "outputs": [],
   "source": [
    "'''\n",
    "price_change_columns = [\n",
    "    '1_Minute_Percent_Price_Change',\n",
    "    '5_Minute_Percent_Price_Change',\n",
    "    '10_Minute_Percent_Price_Change',\n",
    "    '1_Hour_Percent_Price_Change'\n",
    "]\n",
    "\n",
    "for col in price_change_columns:\n",
    "    price_change_data = icom_eia_forecasts[col].dropna()\n",
    "\n",
    "    fig_hist_price_change = go.Figure(data=[go.Histogram(x=price_change_data, nbinsx=100)])\n",
    "\n",
    "    fig_hist_price_change.update_layout(\n",
    "        title=f'Histogram of {col} After EIA WPSR Release',\n",
    "        xaxis_title='Percentage Price Change (%)',\n",
    "        yaxis_title='Frequency (Number of Releases)',\n",
    "        bargap=0.1\n",
    "    )\n",
    "\n",
    "    fig_hist_price_change.show()\n",
    "'''"
   ]
  },
  {
   "cell_type": "code",
   "execution_count": null,
   "metadata": {},
   "outputs": [],
   "source": [
    "'''\n",
    "from plotly.subplots import make_subplots\n",
    "from scipy import stats  # Import scipy.stats for statistical tests\n",
    "\n",
    "# Assume your dataframes are already loaded as icom_eia_forecasts and min_res_OIH\n",
    "# and that you have run all the previous code blocks, including price change calculations and supply_surprise\n",
    "\n",
    "# --- Kolmogorov-Smirnov Test ---\n",
    "\n",
    "price_change_columns = [\n",
    "    '1_Minute_Percent_Price_Change',\n",
    "    '5_Minute_Percent_Price_Change',\n",
    "    '10_Minute_Percent_Price_Change',\n",
    "    '1_Hour_Percent_Price_Change'\n",
    "]\n",
    "\n",
    "print(\"Kolmogorov-Smirnov Test for Normality of Price Changes:\\n\")\n",
    "\n",
    "for col in price_change_columns:\n",
    "    price_change_data = icom_eia_forecasts[col].dropna() # Drop NA values\n",
    "\n",
    "    # Standardize the data to have mean=0 and std=1 for comparison with standard normal\n",
    "    standardized_data = (price_change_data - price_change_data.mean()) / price_change_data.std()\n",
    "\n",
    "    # Perform Kolmogorov-Smirnov test against standard normal distribution (cdf='norm')\n",
    "    ks_statistic, p_value = stats.kstest(standardized_data, 'norm')\n",
    "\n",
    "    print(f\"Column: {col}\")\n",
    "    print(f\"KS Statistic: {ks_statistic:.4f}\")\n",
    "    print(f\"P-value: {p_value:.4f}\")\n",
    "\n",
    "    alpha = 0.05  # Significance level\n",
    "    if p_value < alpha:\n",
    "        print(f\"P-value < {alpha}: Reject the null hypothesis. Distribution is significantly different from normal.\\n\")\n",
    "    else:\n",
    "        print(f\"P-value >= {alpha}: Fail to reject the null hypothesis. Distribution is not significantly different from normal (at alpha={alpha}).\\n\")\n",
    "    print(\"-\" * 40)\n",
    "'''"
   ]
  },
  {
   "cell_type": "code",
   "execution_count": null,
   "metadata": {},
   "outputs": [],
   "source": [
    "display(min_WTI.head())"
   ]
  },
  {
   "cell_type": "code",
   "execution_count": null,
   "metadata": {},
   "outputs": [],
   "source": [
    "#1 minute 30 seconds\n",
    "\n",
    "percentage_price_changes_1min_wti = []\n",
    "previous_close_price = None\n",
    "\n",
    "for index, row in min_WTI.iterrows():\n",
    "    current_close_price = row['Close']\n",
    "    if previous_close_price is not None and previous_close_price != 0:\n",
    "        percentage_change = ((current_close_price - previous_close_price) / previous_close_price) * 100.0\n",
    "        percentage_price_changes_1min_wti.append(percentage_change)\n",
    "    else:\n",
    "        percentage_price_changes_1min_wti.append(float('nan'))\n",
    "    previous_close_price = current_close_price\n",
    "\n",
    "percentage_price_changes_1min_wti_series = pd.Series(percentage_price_changes_1min_wti, index=min_WTI.index)\n",
    "display(percentage_price_changes_1min_wti_series)\n",
    "min_WTI['Percent_Change'] = percentage_price_changes_1min_wti_series\n",
    "percentage_price_changes_1min_wti_series = percentage_price_changes_1min_wti_series.dropna()\n",
    "\n",
    "# --- Histogram of Filtered One-Minute Percentage Price Changes in min_res_OIH ---\n",
    "\n",
    "fig_hist_1min_wti = go.Figure(data=[go.Histogram(x=percentage_price_changes_1min_wti, nbinsx=1600)])\n",
    "\n",
    "fig_hist_1min_wti.update_layout(\n",
    "    title='Histogram of One-Minute Percentage Price Changes in Crude Price',\n",
    "    xaxis_title='One-Minute Percentage Price Change (%)',\n",
    "    yaxis_title='Frequency (Number of Minutes)',\n",
    "    xaxis_range=[-3, 3],\n",
    "    #yaxis_range=[0, 300000]\n",
    ")\n",
    "\n",
    "fig_hist_1min_wti.show()\n"
   ]
  },
  {
   "cell_type": "code",
   "execution_count": 48,
   "metadata": {},
   "outputs": [
    {
     "data": {
      "text/html": [
       "<div>\n",
       "<style scoped>\n",
       "    .dataframe tbody tr th:only-of-type {\n",
       "        vertical-align: middle;\n",
       "    }\n",
       "\n",
       "    .dataframe tbody tr th {\n",
       "        vertical-align: top;\n",
       "    }\n",
       "\n",
       "    .dataframe thead th {\n",
       "        text-align: right;\n",
       "    }\n",
       "</style>\n",
       "<table border=\"1\" class=\"dataframe\">\n",
       "  <thead>\n",
       "    <tr style=\"text-align: right;\">\n",
       "      <th></th>\n",
       "      <th>Date</th>\n",
       "      <th>Time</th>\n",
       "      <th>Open</th>\n",
       "      <th>High</th>\n",
       "      <th>Low</th>\n",
       "      <th>Close</th>\n",
       "      <th>Volume</th>\n",
       "      <th>Datetime</th>\n",
       "      <th>Percent_Change</th>\n",
       "    </tr>\n",
       "    <tr>\n",
       "      <th>Datetime_CST</th>\n",
       "      <th></th>\n",
       "      <th></th>\n",
       "      <th></th>\n",
       "      <th></th>\n",
       "      <th></th>\n",
       "      <th></th>\n",
       "      <th></th>\n",
       "      <th></th>\n",
       "      <th></th>\n",
       "    </tr>\n",
       "  </thead>\n",
       "  <tbody>\n",
       "    <tr>\n",
       "      <th>2011-03-07 23:59:00-06:00</th>\n",
       "      <td>07/03/2011</td>\n",
       "      <td>23:59:00</td>\n",
       "      <td>104.74</td>\n",
       "      <td>104.77</td>\n",
       "      <td>104.73</td>\n",
       "      <td>104.73</td>\n",
       "      <td>18</td>\n",
       "      <td>2011-03-07 23:59:00</td>\n",
       "      <td>NaN</td>\n",
       "    </tr>\n",
       "    <tr>\n",
       "      <th>2011-03-08 00:00:00-06:00</th>\n",
       "      <td>08/03/2011</td>\n",
       "      <td>00:00:00</td>\n",
       "      <td>104.74</td>\n",
       "      <td>104.82</td>\n",
       "      <td>104.74</td>\n",
       "      <td>104.81</td>\n",
       "      <td>34</td>\n",
       "      <td>2011-03-08 00:00:00</td>\n",
       "      <td>0.076387</td>\n",
       "    </tr>\n",
       "    <tr>\n",
       "      <th>2011-03-08 00:01:00-06:00</th>\n",
       "      <td>08/03/2011</td>\n",
       "      <td>00:01:00</td>\n",
       "      <td>104.82</td>\n",
       "      <td>104.84</td>\n",
       "      <td>104.82</td>\n",
       "      <td>104.82</td>\n",
       "      <td>12</td>\n",
       "      <td>2011-03-08 00:01:00</td>\n",
       "      <td>0.009541</td>\n",
       "    </tr>\n",
       "    <tr>\n",
       "      <th>2011-03-08 00:02:00-06:00</th>\n",
       "      <td>08/03/2011</td>\n",
       "      <td>00:02:00</td>\n",
       "      <td>104.81</td>\n",
       "      <td>104.81</td>\n",
       "      <td>104.73</td>\n",
       "      <td>104.75</td>\n",
       "      <td>20</td>\n",
       "      <td>2011-03-08 00:02:00</td>\n",
       "      <td>-0.066781</td>\n",
       "    </tr>\n",
       "    <tr>\n",
       "      <th>2011-03-08 00:03:00-06:00</th>\n",
       "      <td>08/03/2011</td>\n",
       "      <td>00:03:00</td>\n",
       "      <td>104.74</td>\n",
       "      <td>104.76</td>\n",
       "      <td>104.71</td>\n",
       "      <td>104.76</td>\n",
       "      <td>25</td>\n",
       "      <td>2011-03-08 00:03:00</td>\n",
       "      <td>0.009547</td>\n",
       "    </tr>\n",
       "    <tr>\n",
       "      <th>...</th>\n",
       "      <td>...</td>\n",
       "      <td>...</td>\n",
       "      <td>...</td>\n",
       "      <td>...</td>\n",
       "      <td>...</td>\n",
       "      <td>...</td>\n",
       "      <td>...</td>\n",
       "      <td>...</td>\n",
       "      <td>...</td>\n",
       "    </tr>\n",
       "    <tr>\n",
       "      <th>2025-03-11 23:54:00-05:00</th>\n",
       "      <td>11/03/2025</td>\n",
       "      <td>23:54:00</td>\n",
       "      <td>66.75</td>\n",
       "      <td>66.75</td>\n",
       "      <td>66.75</td>\n",
       "      <td>66.75</td>\n",
       "      <td>13</td>\n",
       "      <td>2025-03-11 23:54:00</td>\n",
       "      <td>0.000000</td>\n",
       "    </tr>\n",
       "    <tr>\n",
       "      <th>2025-03-11 23:56:00-05:00</th>\n",
       "      <td>11/03/2025</td>\n",
       "      <td>23:56:00</td>\n",
       "      <td>66.75</td>\n",
       "      <td>66.75</td>\n",
       "      <td>66.74</td>\n",
       "      <td>66.74</td>\n",
       "      <td>3</td>\n",
       "      <td>2025-03-11 23:56:00</td>\n",
       "      <td>-0.014981</td>\n",
       "    </tr>\n",
       "    <tr>\n",
       "      <th>2025-03-11 23:58:00-05:00</th>\n",
       "      <td>11/03/2025</td>\n",
       "      <td>23:58:00</td>\n",
       "      <td>66.75</td>\n",
       "      <td>66.75</td>\n",
       "      <td>66.75</td>\n",
       "      <td>66.75</td>\n",
       "      <td>3</td>\n",
       "      <td>2025-03-11 23:58:00</td>\n",
       "      <td>0.014984</td>\n",
       "    </tr>\n",
       "    <tr>\n",
       "      <th>2025-03-11 23:59:00-05:00</th>\n",
       "      <td>11/03/2025</td>\n",
       "      <td>23:59:00</td>\n",
       "      <td>66.75</td>\n",
       "      <td>66.75</td>\n",
       "      <td>66.75</td>\n",
       "      <td>66.75</td>\n",
       "      <td>1</td>\n",
       "      <td>2025-03-11 23:59:00</td>\n",
       "      <td>0.000000</td>\n",
       "    </tr>\n",
       "    <tr>\n",
       "      <th>2025-03-12 00:00:00-05:00</th>\n",
       "      <td>12/03/2025</td>\n",
       "      <td>00:00:00</td>\n",
       "      <td>66.74</td>\n",
       "      <td>66.76</td>\n",
       "      <td>66.71</td>\n",
       "      <td>66.75</td>\n",
       "      <td>41</td>\n",
       "      <td>2025-03-12 00:00:00</td>\n",
       "      <td>0.000000</td>\n",
       "    </tr>\n",
       "  </tbody>\n",
       "</table>\n",
       "<p>4811559 rows × 9 columns</p>\n",
       "</div>"
      ],
      "text/plain": [
       "                                 Date      Time    Open    High     Low  \\\n",
       "Datetime_CST                                                              \n",
       "2011-03-07 23:59:00-06:00  07/03/2011  23:59:00  104.74  104.77  104.73   \n",
       "2011-03-08 00:00:00-06:00  08/03/2011  00:00:00  104.74  104.82  104.74   \n",
       "2011-03-08 00:01:00-06:00  08/03/2011  00:01:00  104.82  104.84  104.82   \n",
       "2011-03-08 00:02:00-06:00  08/03/2011  00:02:00  104.81  104.81  104.73   \n",
       "2011-03-08 00:03:00-06:00  08/03/2011  00:03:00  104.74  104.76  104.71   \n",
       "...                               ...       ...     ...     ...     ...   \n",
       "2025-03-11 23:54:00-05:00  11/03/2025  23:54:00   66.75   66.75   66.75   \n",
       "2025-03-11 23:56:00-05:00  11/03/2025  23:56:00   66.75   66.75   66.74   \n",
       "2025-03-11 23:58:00-05:00  11/03/2025  23:58:00   66.75   66.75   66.75   \n",
       "2025-03-11 23:59:00-05:00  11/03/2025  23:59:00   66.75   66.75   66.75   \n",
       "2025-03-12 00:00:00-05:00  12/03/2025  00:00:00   66.74   66.76   66.71   \n",
       "\n",
       "                            Close  Volume            Datetime  Percent_Change  \n",
       "Datetime_CST                                                                   \n",
       "2011-03-07 23:59:00-06:00  104.73      18 2011-03-07 23:59:00             NaN  \n",
       "2011-03-08 00:00:00-06:00  104.81      34 2011-03-08 00:00:00        0.076387  \n",
       "2011-03-08 00:01:00-06:00  104.82      12 2011-03-08 00:01:00        0.009541  \n",
       "2011-03-08 00:02:00-06:00  104.75      20 2011-03-08 00:02:00       -0.066781  \n",
       "2011-03-08 00:03:00-06:00  104.76      25 2011-03-08 00:03:00        0.009547  \n",
       "...                           ...     ...                 ...             ...  \n",
       "2025-03-11 23:54:00-05:00   66.75      13 2025-03-11 23:54:00        0.000000  \n",
       "2025-03-11 23:56:00-05:00   66.74       3 2025-03-11 23:56:00       -0.014981  \n",
       "2025-03-11 23:58:00-05:00   66.75       3 2025-03-11 23:58:00        0.014984  \n",
       "2025-03-11 23:59:00-05:00   66.75       1 2025-03-11 23:59:00        0.000000  \n",
       "2025-03-12 00:00:00-05:00   66.75      41 2025-03-12 00:00:00        0.000000  \n",
       "\n",
       "[4811559 rows x 9 columns]"
      ]
     },
     "metadata": {},
     "output_type": "display_data"
    }
   ],
   "source": [
    "min_WTI.describe().apply(lambda s: s.apply('{0:.5f}'.format))\n",
    "display(min_WTI)"
   ]
  },
  {
   "cell_type": "code",
   "execution_count": null,
   "metadata": {},
   "outputs": [],
   "source": [
    "'''\n",
    "price_change_columns_eia = [\n",
    "    '1_Minute_Percent_Price_Change',\n",
    "    '5_Minute_Percent_Price_Change',\n",
    "    '10_Minute_Percent_Price_Change',\n",
    "    '1_Hour_Percent_Price_Change'\n",
    "]\n",
    "\n",
    "print(\"Kolmogorov-Smirnov Test Comparing Distributions:\\n\"\n",
    "      \"  Distribution 1: One-Minute Percentage Price Changes (All Minutes)\\n\"\n",
    "      \"  Distribution 2: Percentage Price Changes After EIA WPSR Release (at different intervals)\\n\\n\")\n",
    "\n",
    "for col_eia in price_change_columns_eia:\n",
    "    price_change_data_eia = icom_eia_forecasts[col_eia].dropna() # Drop NA values from EIA release price changes\n",
    "\n",
    "    # Ensure both datasets have data to compare, if not skip this column\n",
    "    if price_change_data_eia.empty or percentage_price_changes_1min_oih_series.empty:\n",
    "        print(f\"Warning: Skipping KS test for {col_eia} due to empty data in one or both samples.\")\n",
    "        print(\"-\" * 40)\n",
    "        continue\n",
    "\n",
    "\n",
    "    # Perform 2-sample Kolmogorov-Smirnov test to compare EIA release price changes vs. all 1-minute price changes\n",
    "    ks_statistic_2samp, p_value_2samp = stats.ks_2samp(price_change_data_eia, percentage_price_changes_1min_oih_series)\n",
    "\n",
    "    print(f\"EIA Release Price Change Column: {col_eia}\")\n",
    "    print(f\"KS Statistic (2-sample): {ks_statistic_2samp:.4f}\")\n",
    "    print(f\"P-value (2-sample): {p_value_2samp:.4f}\")\n",
    "\n",
    "    alpha = 0.05  # Significance level\n",
    "    if p_value_2samp < alpha:\n",
    "        print(f\"P-value < {alpha}: Reject the null hypothesis. Distributions are significantly different.\\n\")\n",
    "    else:\n",
    "        print(f\"P-value >= {alpha}: Fail to reject the null hypothesis. Distributions are not significantly different (at alpha={alpha}).\\n\")\n",
    "    print(\"-\" * 40)\n",
    "'''"
   ]
  },
  {
   "cell_type": "code",
   "execution_count": 54,
   "metadata": {},
   "outputs": [
    {
     "name": "stdout",
     "output_type": "stream",
     "text": [
      "Price data windows extracted successfully!\n",
      "\n",
      "Shape of price_window_60min: (88344, 10)\n"
     ]
    }
   ],
   "source": [
    "def get_price_windows(eia_release_times, price_data, window_minutes_before=60, window_minutes_after=60):\n",
    "    \"\"\"\n",
    "    Extracts price data windows around EIA report release times.\n",
    "\n",
    "    Args:\n",
    "        eia_release_times (pd.DatetimeIndex): Index of icom_eia_forecasts (release datetimes).\n",
    "        price_data (pd.DataFrame): min_res_OIH dataframe with Datetime index.\n",
    "        window_minutes_before (int): Minutes to include before release time.\n",
    "        window_minutes_after (int): Minutes to include after release time.\n",
    "\n",
    "    Returns:\n",
    "        pd.DataFrame: A DataFrame containing price data for all events, within the specified windows.\n",
    "                      Returns an empty DataFrame if no data is found within any window.\n",
    "    \"\"\"\n",
    "    price_windows_list = []\n",
    "\n",
    "    for release_time in eia_release_times:\n",
    "        start_time = release_time - pd.Timedelta(minutes=window_minutes_before)\n",
    "        #print(start_time)\n",
    "        end_time = release_time + pd.Timedelta(minutes=window_minutes_after)\n",
    "        #print(end_time)\n",
    "\n",
    "        # Select rows from min_res_OIH within the time window\n",
    "        window_data = price_data.loc[start_time:end_time].copy()\n",
    "        #display(window_data.head)\n",
    "\n",
    "        if not window_data.empty: # Only append if there is data in the window\n",
    "            window_data['Release_Datetime'] = release_time # Add release time as a column for reference\n",
    "            price_windows_list.append(window_data)\n",
    "\n",
    "    if price_windows_list:\n",
    "        price_windows_df = pd.concat(price_windows_list)\n",
    "        return price_windows_df\n",
    "    else:\n",
    "        return pd.DataFrame() # Return empty DataFrame if no data found in any window\n",
    "\n",
    "# --- Extract Price Windows ---\n",
    "price_window_60min = get_price_windows(icom_eia_forecasts.index, min_WTI, window_minutes_before=60, window_minutes_after=60)\n",
    "price_window_60min.sort_index(inplace=True)\n",
    "if not price_window_60min.empty:\n",
    "    print(\"Price data windows extracted successfully!\")\n",
    "    print(f\"\\nShape of price_window_60min: {price_window_60min.shape}\")\n",
    "else:\n",
    "    print(\"No price data found within the specified windows around EIA releases.\")\n"
   ]
  },
  {
   "cell_type": "code",
   "execution_count": 55,
   "metadata": {},
   "outputs": [
    {
     "data": {
      "text/html": [
       "<div>\n",
       "<style scoped>\n",
       "    .dataframe tbody tr th:only-of-type {\n",
       "        vertical-align: middle;\n",
       "    }\n",
       "\n",
       "    .dataframe tbody tr th {\n",
       "        vertical-align: top;\n",
       "    }\n",
       "\n",
       "    .dataframe thead th {\n",
       "        text-align: right;\n",
       "    }\n",
       "</style>\n",
       "<table border=\"1\" class=\"dataframe\">\n",
       "  <thead>\n",
       "    <tr style=\"text-align: right;\">\n",
       "      <th></th>\n",
       "      <th>Date</th>\n",
       "      <th>Time</th>\n",
       "      <th>Open</th>\n",
       "      <th>High</th>\n",
       "      <th>Low</th>\n",
       "      <th>Close</th>\n",
       "      <th>Volume</th>\n",
       "      <th>Datetime</th>\n",
       "      <th>Percent_Change</th>\n",
       "      <th>Release_Datetime</th>\n",
       "    </tr>\n",
       "    <tr>\n",
       "      <th>Datetime_CST</th>\n",
       "      <th></th>\n",
       "      <th></th>\n",
       "      <th></th>\n",
       "      <th></th>\n",
       "      <th></th>\n",
       "      <th></th>\n",
       "      <th></th>\n",
       "      <th></th>\n",
       "      <th></th>\n",
       "      <th></th>\n",
       "    </tr>\n",
       "  </thead>\n",
       "  <tbody>\n",
       "    <tr>\n",
       "      <th>2011-03-09 08:30:00-06:00</th>\n",
       "      <td>09/03/2011</td>\n",
       "      <td>08:30:00</td>\n",
       "      <td>105.56</td>\n",
       "      <td>105.56</td>\n",
       "      <td>105.44</td>\n",
       "      <td>105.46</td>\n",
       "      <td>514</td>\n",
       "      <td>2011-03-09 08:30:00</td>\n",
       "      <td>-0.094733</td>\n",
       "      <td>2011-03-09 09:30:00-06:00</td>\n",
       "    </tr>\n",
       "    <tr>\n",
       "      <th>2011-03-09 08:31:00-06:00</th>\n",
       "      <td>09/03/2011</td>\n",
       "      <td>08:31:00</td>\n",
       "      <td>105.46</td>\n",
       "      <td>105.52</td>\n",
       "      <td>105.45</td>\n",
       "      <td>105.46</td>\n",
       "      <td>323</td>\n",
       "      <td>2011-03-09 08:31:00</td>\n",
       "      <td>0.000000</td>\n",
       "      <td>2011-03-09 09:30:00-06:00</td>\n",
       "    </tr>\n",
       "    <tr>\n",
       "      <th>2011-03-09 08:32:00-06:00</th>\n",
       "      <td>09/03/2011</td>\n",
       "      <td>08:32:00</td>\n",
       "      <td>105.45</td>\n",
       "      <td>105.47</td>\n",
       "      <td>105.31</td>\n",
       "      <td>105.32</td>\n",
       "      <td>899</td>\n",
       "      <td>2011-03-09 08:32:00</td>\n",
       "      <td>-0.132752</td>\n",
       "      <td>2011-03-09 09:30:00-06:00</td>\n",
       "    </tr>\n",
       "    <tr>\n",
       "      <th>2011-03-09 08:33:00-06:00</th>\n",
       "      <td>09/03/2011</td>\n",
       "      <td>08:33:00</td>\n",
       "      <td>105.31</td>\n",
       "      <td>105.37</td>\n",
       "      <td>105.25</td>\n",
       "      <td>105.33</td>\n",
       "      <td>716</td>\n",
       "      <td>2011-03-09 08:33:00</td>\n",
       "      <td>0.009495</td>\n",
       "      <td>2011-03-09 09:30:00-06:00</td>\n",
       "    </tr>\n",
       "    <tr>\n",
       "      <th>2011-03-09 08:34:00-06:00</th>\n",
       "      <td>09/03/2011</td>\n",
       "      <td>08:34:00</td>\n",
       "      <td>105.34</td>\n",
       "      <td>105.45</td>\n",
       "      <td>105.31</td>\n",
       "      <td>105.40</td>\n",
       "      <td>660</td>\n",
       "      <td>2011-03-09 08:34:00</td>\n",
       "      <td>0.066458</td>\n",
       "      <td>2011-03-09 09:30:00-06:00</td>\n",
       "    </tr>\n",
       "    <tr>\n",
       "      <th>...</th>\n",
       "      <td>...</td>\n",
       "      <td>...</td>\n",
       "      <td>...</td>\n",
       "      <td>...</td>\n",
       "      <td>...</td>\n",
       "      <td>...</td>\n",
       "      <td>...</td>\n",
       "      <td>...</td>\n",
       "      <td>...</td>\n",
       "      <td>...</td>\n",
       "    </tr>\n",
       "    <tr>\n",
       "      <th>2025-03-05 10:26:00-06:00</th>\n",
       "      <td>05/03/2025</td>\n",
       "      <td>10:26:00</td>\n",
       "      <td>65.42</td>\n",
       "      <td>65.46</td>\n",
       "      <td>65.37</td>\n",
       "      <td>65.38</td>\n",
       "      <td>713</td>\n",
       "      <td>2025-03-05 10:26:00</td>\n",
       "      <td>-0.061143</td>\n",
       "      <td>2025-03-05 09:30:00-06:00</td>\n",
       "    </tr>\n",
       "    <tr>\n",
       "      <th>2025-03-05 10:27:00-06:00</th>\n",
       "      <td>05/03/2025</td>\n",
       "      <td>10:27:00</td>\n",
       "      <td>65.37</td>\n",
       "      <td>65.41</td>\n",
       "      <td>65.37</td>\n",
       "      <td>65.39</td>\n",
       "      <td>640</td>\n",
       "      <td>2025-03-05 10:27:00</td>\n",
       "      <td>0.015295</td>\n",
       "      <td>2025-03-05 09:30:00-06:00</td>\n",
       "    </tr>\n",
       "    <tr>\n",
       "      <th>2025-03-05 10:28:00-06:00</th>\n",
       "      <td>05/03/2025</td>\n",
       "      <td>10:28:00</td>\n",
       "      <td>65.40</td>\n",
       "      <td>65.42</td>\n",
       "      <td>65.33</td>\n",
       "      <td>65.36</td>\n",
       "      <td>796</td>\n",
       "      <td>2025-03-05 10:28:00</td>\n",
       "      <td>-0.045879</td>\n",
       "      <td>2025-03-05 09:30:00-06:00</td>\n",
       "    </tr>\n",
       "    <tr>\n",
       "      <th>2025-03-05 10:29:00-06:00</th>\n",
       "      <td>05/03/2025</td>\n",
       "      <td>10:29:00</td>\n",
       "      <td>65.35</td>\n",
       "      <td>65.40</td>\n",
       "      <td>65.35</td>\n",
       "      <td>65.37</td>\n",
       "      <td>658</td>\n",
       "      <td>2025-03-05 10:29:00</td>\n",
       "      <td>0.015300</td>\n",
       "      <td>2025-03-05 09:30:00-06:00</td>\n",
       "    </tr>\n",
       "    <tr>\n",
       "      <th>2025-03-05 10:30:00-06:00</th>\n",
       "      <td>05/03/2025</td>\n",
       "      <td>10:30:00</td>\n",
       "      <td>65.38</td>\n",
       "      <td>65.45</td>\n",
       "      <td>65.34</td>\n",
       "      <td>65.43</td>\n",
       "      <td>842</td>\n",
       "      <td>2025-03-05 10:30:00</td>\n",
       "      <td>0.091785</td>\n",
       "      <td>2025-03-05 09:30:00-06:00</td>\n",
       "    </tr>\n",
       "  </tbody>\n",
       "</table>\n",
       "<p>88344 rows × 10 columns</p>\n",
       "</div>"
      ],
      "text/plain": [
       "                                 Date      Time    Open    High     Low  \\\n",
       "Datetime_CST                                                              \n",
       "2011-03-09 08:30:00-06:00  09/03/2011  08:30:00  105.56  105.56  105.44   \n",
       "2011-03-09 08:31:00-06:00  09/03/2011  08:31:00  105.46  105.52  105.45   \n",
       "2011-03-09 08:32:00-06:00  09/03/2011  08:32:00  105.45  105.47  105.31   \n",
       "2011-03-09 08:33:00-06:00  09/03/2011  08:33:00  105.31  105.37  105.25   \n",
       "2011-03-09 08:34:00-06:00  09/03/2011  08:34:00  105.34  105.45  105.31   \n",
       "...                               ...       ...     ...     ...     ...   \n",
       "2025-03-05 10:26:00-06:00  05/03/2025  10:26:00   65.42   65.46   65.37   \n",
       "2025-03-05 10:27:00-06:00  05/03/2025  10:27:00   65.37   65.41   65.37   \n",
       "2025-03-05 10:28:00-06:00  05/03/2025  10:28:00   65.40   65.42   65.33   \n",
       "2025-03-05 10:29:00-06:00  05/03/2025  10:29:00   65.35   65.40   65.35   \n",
       "2025-03-05 10:30:00-06:00  05/03/2025  10:30:00   65.38   65.45   65.34   \n",
       "\n",
       "                            Close  Volume            Datetime  Percent_Change  \\\n",
       "Datetime_CST                                                                    \n",
       "2011-03-09 08:30:00-06:00  105.46     514 2011-03-09 08:30:00       -0.094733   \n",
       "2011-03-09 08:31:00-06:00  105.46     323 2011-03-09 08:31:00        0.000000   \n",
       "2011-03-09 08:32:00-06:00  105.32     899 2011-03-09 08:32:00       -0.132752   \n",
       "2011-03-09 08:33:00-06:00  105.33     716 2011-03-09 08:33:00        0.009495   \n",
       "2011-03-09 08:34:00-06:00  105.40     660 2011-03-09 08:34:00        0.066458   \n",
       "...                           ...     ...                 ...             ...   \n",
       "2025-03-05 10:26:00-06:00   65.38     713 2025-03-05 10:26:00       -0.061143   \n",
       "2025-03-05 10:27:00-06:00   65.39     640 2025-03-05 10:27:00        0.015295   \n",
       "2025-03-05 10:28:00-06:00   65.36     796 2025-03-05 10:28:00       -0.045879   \n",
       "2025-03-05 10:29:00-06:00   65.37     658 2025-03-05 10:29:00        0.015300   \n",
       "2025-03-05 10:30:00-06:00   65.43     842 2025-03-05 10:30:00        0.091785   \n",
       "\n",
       "                                   Release_Datetime  \n",
       "Datetime_CST                                         \n",
       "2011-03-09 08:30:00-06:00 2011-03-09 09:30:00-06:00  \n",
       "2011-03-09 08:31:00-06:00 2011-03-09 09:30:00-06:00  \n",
       "2011-03-09 08:32:00-06:00 2011-03-09 09:30:00-06:00  \n",
       "2011-03-09 08:33:00-06:00 2011-03-09 09:30:00-06:00  \n",
       "2011-03-09 08:34:00-06:00 2011-03-09 09:30:00-06:00  \n",
       "...                                             ...  \n",
       "2025-03-05 10:26:00-06:00 2025-03-05 09:30:00-06:00  \n",
       "2025-03-05 10:27:00-06:00 2025-03-05 09:30:00-06:00  \n",
       "2025-03-05 10:28:00-06:00 2025-03-05 09:30:00-06:00  \n",
       "2025-03-05 10:29:00-06:00 2025-03-05 09:30:00-06:00  \n",
       "2025-03-05 10:30:00-06:00 2025-03-05 09:30:00-06:00  \n",
       "\n",
       "[88344 rows x 10 columns]"
      ]
     },
     "metadata": {},
     "output_type": "display_data"
    }
   ],
   "source": [
    "display(price_window_60min)"
   ]
  },
  {
   "cell_type": "code",
   "execution_count": 56,
   "metadata": {},
   "outputs": [
    {
     "data": {
      "application/vnd.plotly.v1+json": {
       "config": {
        "plotlyServerURL": "https://plot.ly"
       },
       "data": [
        {
         "hovertemplate": "Time to Release: %{x:.0f} minutes<br>Average Volume: %{y:.0f}<extra></extra>",
         "marker": {
          "size": 8
         },
         "mode": "markers",
         "text": {
          "bdata": "N8Z+opA5hEDWq1evXtWAQH5hKbnY/31AINpNNQQCfUBd7AtLyb17QDx37ty5035A8xlnATZnfUB9xlmAzQ97QGVURmVUKHpAXiKrvN+VeUDrMocXhU18QLSX0F5Ce3pAC7D5jLMweUA5JYZSncB5QIM5pn8ycHlAhNR1uD3IfEBeFDbWzit7QEz/ZDDH5HhArLmaq7lSeUCvN3NV5Gx6QK2DGE6zcHtAXhy97NTgeUCAMphj+qd4QH/vRiZL2ndAOi40sfKBeEBOYNebudp6QHZiJ3Ziu3hAeq1iv3dDeEDDaRZAq5V3QEYot2+TkXtAwmKSeoaMkEA5etmpwWWKQHTnzp07i4ZAfDcyWdK5g0C/sJRc7F+CQPGtKB4Jc4RA73eJrPK6gkDIn2H6j2aBQNpNNQSi9YBAP1HIjKrrf0ALRii3b5uBQJQu4Yc0bn9A/0ul+M4Tf0CTgQpGKHd9QCx50iX8MHxAnLkqck5ggUBh3h9/Tyd/QOtzr5EgiX9AYuWjRHScfkBrHcRwmoV/QIMRyu3blIBAyN/T2VYofkDecqgNW7R8QFMpvvNYtnxA8vd0thVGfEC0m2oIRKt9QCVPuoQf8npA46HrySlRe0C73sxVkfN5QE5g15u5+n1AkRlVN8bYoEBNWVPWlEmWQMgy/ZdKkZJAURu2aA8cj0CV4juPZSqNQO+Pv6ezSZFA+ieDOaZfjkCeO3fu3BGLQEMSrAY1GYpAIQlWg5oYiUBRPBK+Ff2KQPN+l8gqx4hAZJX3u0T6hkBHJ+hpbdCFQIVvRfFItIVARowYMWLgiECJCrINAf2GQDAsJRf7ioZA3u8SWeW9hUCt8n6XyN6DQA+3B6nrxIZAPuMswOZ/hECXyCrvdzGEQL4VxSPhq4JAeLo1Pyyig0Dl/S6RVcaFQFJv+1S+woRA7ty5c+eGgkD8XSKrvNOCQLzHe7zHcoNAntcq9nuni0BrruZqrnyHQIRDOIRDooRAm6u5mquChECKndiJnQuGQAMt0AItkYZAZUlHve1rhEDTf7Quc/iCQKZf+qVf+IFAeLo1Pyz6gUBdh9uD1LmDQH2UiI4L1YFAST1DwAEhg0Ck8UqedAmCQFMNgWg3+YBAGfuJQma8hEC3wrw//laCQHa9masid4FACDggLCZZgUD3bTJQwRCBQFNysS8srYJABXa9matKgkDxQxqv5GGBQCDSeCVP6oBAUs8QcEAAgkBH3BF3xI2CQPKkS/ghFYFAiIeHh4f3gEDi9iB1HeKBQD/3GgmSVYpA/JDGK3n+q0A=",
          "dtype": "f8"
         },
         "type": "scatter",
         "x": {
          "bdata": "AAAAAAAATsAAAAAAAIBNwAAAAAAAAE3AAAAAAACATMAAAAAAAABMwAAAAAAAgEvAAAAAAAAAS8AAAAAAAIBKwAAAAAAAAErAAAAAAACAScAAAAAAAABJwAAAAAAAgEjAAAAAAAAASMAAAAAAAIBHwAAAAAAAAEfAAAAAAACARsAAAAAAAABGwAAAAAAAgEXAAAAAAAAARcAAAAAAAIBEwAAAAAAAAETAAAAAAACAQ8AAAAAAAABDwAAAAAAAgELAAAAAAAAAQsAAAAAAAIBBwAAAAAAAAEHAAAAAAACAQMAAAAAAAABAwAAAAAAAAD/AAAAAAAAAPsAAAAAAAAA9wAAAAAAAADzAAAAAAAAAO8AAAAAAAAA6wAAAAAAAADnAAAAAAAAAOMAAAAAAAAA3wAAAAAAAADbAAAAAAAAANcAAAAAAAAA0wAAAAAAAADPAAAAAAAAAMsAAAAAAAAAxwAAAAAAAADDAAAAAAAAALsAAAAAAAAAswAAAAAAAACrAAAAAAAAAKMAAAAAAAAAmwAAAAAAAACTAAAAAAAAAIsAAAAAAAAAgwAAAAAAAABzAAAAAAAAAGMAAAAAAAAAUwAAAAAAAABDAAAAAAAAACMAAAAAAAAAAwAAAAAAAAPC/AAAAAAAAAAAAAAAAAADwPwAAAAAAAABAAAAAAAAACEAAAAAAAAAQQAAAAAAAABRAAAAAAAAAGEAAAAAAAAAcQAAAAAAAACBAAAAAAAAAIkAAAAAAAAAkQAAAAAAAACZAAAAAAAAAKEAAAAAAAAAqQAAAAAAAACxAAAAAAAAALkAAAAAAAAAwQAAAAAAAADFAAAAAAAAAMkAAAAAAAAAzQAAAAAAAADRAAAAAAAAANUAAAAAAAAA2QAAAAAAAADdAAAAAAAAAOEAAAAAAAAA5QAAAAAAAADpAAAAAAAAAO0AAAAAAAAA8QAAAAAAAAD1AAAAAAAAAPkAAAAAAAAA/QAAAAAAAAEBAAAAAAACAQEAAAAAAAABBQAAAAAAAgEFAAAAAAAAAQkAAAAAAAIBCQAAAAAAAAENAAAAAAACAQ0AAAAAAAABEQAAAAAAAgERAAAAAAAAARUAAAAAAAIBFQAAAAAAAAEZAAAAAAACARkAAAAAAAABHQAAAAAAAgEdAAAAAAAAASEAAAAAAAIBIQAAAAAAAAElAAAAAAACASUAAAAAAAABKQAAAAAAAgEpAAAAAAAAAS0AAAAAAAIBLQAAAAAAAAExAAAAAAACATEAAAAAAAABNQAAAAAAAgE1AAAAAAAAATkA=",
          "dtype": "f8"
         },
         "y": {
          "bdata": "N8Z+opA5hEDWq1evXtWAQH5hKbnY/31AINpNNQQCfUBd7AtLyb17QDx37ty5035A8xlnATZnfUB9xlmAzQ97QGVURmVUKHpAXiKrvN+VeUDrMocXhU18QLSX0F5Ce3pAC7D5jLMweUA5JYZSncB5QIM5pn8ycHlAhNR1uD3IfEBeFDbWzit7QEz/ZDDH5HhArLmaq7lSeUCvN3NV5Gx6QK2DGE6zcHtAXhy97NTgeUCAMphj+qd4QH/vRiZL2ndAOi40sfKBeEBOYNebudp6QHZiJ3Ziu3hAeq1iv3dDeEDDaRZAq5V3QEYot2+TkXtAwmKSeoaMkEA5etmpwWWKQHTnzp07i4ZAfDcyWdK5g0C/sJRc7F+CQPGtKB4Jc4RA73eJrPK6gkDIn2H6j2aBQNpNNQSi9YBAP1HIjKrrf0ALRii3b5uBQJQu4Yc0bn9A/0ul+M4Tf0CTgQpGKHd9QCx50iX8MHxAnLkqck5ggUBh3h9/Tyd/QOtzr5EgiX9AYuWjRHScfkBrHcRwmoV/QIMRyu3blIBAyN/T2VYofkDecqgNW7R8QFMpvvNYtnxA8vd0thVGfEC0m2oIRKt9QCVPuoQf8npA46HrySlRe0C73sxVkfN5QE5g15u5+n1AkRlVN8bYoEBNWVPWlEmWQMgy/ZdKkZJAURu2aA8cj0CV4juPZSqNQO+Pv6ezSZFA+ieDOaZfjkCeO3fu3BGLQEMSrAY1GYpAIQlWg5oYiUBRPBK+Ff2KQPN+l8gqx4hAZJX3u0T6hkBHJ+hpbdCFQIVvRfFItIVARowYMWLgiECJCrINAf2GQDAsJRf7ioZA3u8SWeW9hUCt8n6XyN6DQA+3B6nrxIZAPuMswOZ/hECXyCrvdzGEQL4VxSPhq4JAeLo1Pyyig0Dl/S6RVcaFQFJv+1S+woRA7ty5c+eGgkD8XSKrvNOCQLzHe7zHcoNAntcq9nuni0BrruZqrnyHQIRDOIRDooRAm6u5mquChECKndiJnQuGQAMt0AItkYZAZUlHve1rhEDTf7Quc/iCQKZf+qVf+IFAeLo1Pyz6gUBdh9uD1LmDQH2UiI4L1YFAST1DwAEhg0Ck8UqedAmCQFMNgWg3+YBAGfuJQma8hEC3wrw//laCQHa9masid4FACDggLCZZgUD3bTJQwRCBQFNysS8srYJABXa9matKgkDxQxqv5GGBQCDSeCVP6oBAUs8QcEAAgkBH3BF3xI2CQPKkS/ghFYFAiIeHh4f3gEDi9iB1HeKBQD/3GgmSVYpA/JDGK3n+q0A=",
          "dtype": "f8"
         }
        }
       ],
       "layout": {
        "hovermode": "closest",
        "template": {
         "data": {
          "bar": [
           {
            "error_x": {
             "color": "#2a3f5f"
            },
            "error_y": {
             "color": "#2a3f5f"
            },
            "marker": {
             "line": {
              "color": "#E5ECF6",
              "width": 0.5
             },
             "pattern": {
              "fillmode": "overlay",
              "size": 10,
              "solidity": 0.2
             }
            },
            "type": "bar"
           }
          ],
          "barpolar": [
           {
            "marker": {
             "line": {
              "color": "#E5ECF6",
              "width": 0.5
             },
             "pattern": {
              "fillmode": "overlay",
              "size": 10,
              "solidity": 0.2
             }
            },
            "type": "barpolar"
           }
          ],
          "carpet": [
           {
            "aaxis": {
             "endlinecolor": "#2a3f5f",
             "gridcolor": "white",
             "linecolor": "white",
             "minorgridcolor": "white",
             "startlinecolor": "#2a3f5f"
            },
            "baxis": {
             "endlinecolor": "#2a3f5f",
             "gridcolor": "white",
             "linecolor": "white",
             "minorgridcolor": "white",
             "startlinecolor": "#2a3f5f"
            },
            "type": "carpet"
           }
          ],
          "choropleth": [
           {
            "colorbar": {
             "outlinewidth": 0,
             "ticks": ""
            },
            "type": "choropleth"
           }
          ],
          "contour": [
           {
            "colorbar": {
             "outlinewidth": 0,
             "ticks": ""
            },
            "colorscale": [
             [
              0,
              "#0d0887"
             ],
             [
              0.1111111111111111,
              "#46039f"
             ],
             [
              0.2222222222222222,
              "#7201a8"
             ],
             [
              0.3333333333333333,
              "#9c179e"
             ],
             [
              0.4444444444444444,
              "#bd3786"
             ],
             [
              0.5555555555555556,
              "#d8576b"
             ],
             [
              0.6666666666666666,
              "#ed7953"
             ],
             [
              0.7777777777777778,
              "#fb9f3a"
             ],
             [
              0.8888888888888888,
              "#fdca26"
             ],
             [
              1,
              "#f0f921"
             ]
            ],
            "type": "contour"
           }
          ],
          "contourcarpet": [
           {
            "colorbar": {
             "outlinewidth": 0,
             "ticks": ""
            },
            "type": "contourcarpet"
           }
          ],
          "heatmap": [
           {
            "colorbar": {
             "outlinewidth": 0,
             "ticks": ""
            },
            "colorscale": [
             [
              0,
              "#0d0887"
             ],
             [
              0.1111111111111111,
              "#46039f"
             ],
             [
              0.2222222222222222,
              "#7201a8"
             ],
             [
              0.3333333333333333,
              "#9c179e"
             ],
             [
              0.4444444444444444,
              "#bd3786"
             ],
             [
              0.5555555555555556,
              "#d8576b"
             ],
             [
              0.6666666666666666,
              "#ed7953"
             ],
             [
              0.7777777777777778,
              "#fb9f3a"
             ],
             [
              0.8888888888888888,
              "#fdca26"
             ],
             [
              1,
              "#f0f921"
             ]
            ],
            "type": "heatmap"
           }
          ],
          "histogram": [
           {
            "marker": {
             "pattern": {
              "fillmode": "overlay",
              "size": 10,
              "solidity": 0.2
             }
            },
            "type": "histogram"
           }
          ],
          "histogram2d": [
           {
            "colorbar": {
             "outlinewidth": 0,
             "ticks": ""
            },
            "colorscale": [
             [
              0,
              "#0d0887"
             ],
             [
              0.1111111111111111,
              "#46039f"
             ],
             [
              0.2222222222222222,
              "#7201a8"
             ],
             [
              0.3333333333333333,
              "#9c179e"
             ],
             [
              0.4444444444444444,
              "#bd3786"
             ],
             [
              0.5555555555555556,
              "#d8576b"
             ],
             [
              0.6666666666666666,
              "#ed7953"
             ],
             [
              0.7777777777777778,
              "#fb9f3a"
             ],
             [
              0.8888888888888888,
              "#fdca26"
             ],
             [
              1,
              "#f0f921"
             ]
            ],
            "type": "histogram2d"
           }
          ],
          "histogram2dcontour": [
           {
            "colorbar": {
             "outlinewidth": 0,
             "ticks": ""
            },
            "colorscale": [
             [
              0,
              "#0d0887"
             ],
             [
              0.1111111111111111,
              "#46039f"
             ],
             [
              0.2222222222222222,
              "#7201a8"
             ],
             [
              0.3333333333333333,
              "#9c179e"
             ],
             [
              0.4444444444444444,
              "#bd3786"
             ],
             [
              0.5555555555555556,
              "#d8576b"
             ],
             [
              0.6666666666666666,
              "#ed7953"
             ],
             [
              0.7777777777777778,
              "#fb9f3a"
             ],
             [
              0.8888888888888888,
              "#fdca26"
             ],
             [
              1,
              "#f0f921"
             ]
            ],
            "type": "histogram2dcontour"
           }
          ],
          "mesh3d": [
           {
            "colorbar": {
             "outlinewidth": 0,
             "ticks": ""
            },
            "type": "mesh3d"
           }
          ],
          "parcoords": [
           {
            "line": {
             "colorbar": {
              "outlinewidth": 0,
              "ticks": ""
             }
            },
            "type": "parcoords"
           }
          ],
          "pie": [
           {
            "automargin": true,
            "type": "pie"
           }
          ],
          "scatter": [
           {
            "fillpattern": {
             "fillmode": "overlay",
             "size": 10,
             "solidity": 0.2
            },
            "type": "scatter"
           }
          ],
          "scatter3d": [
           {
            "line": {
             "colorbar": {
              "outlinewidth": 0,
              "ticks": ""
             }
            },
            "marker": {
             "colorbar": {
              "outlinewidth": 0,
              "ticks": ""
             }
            },
            "type": "scatter3d"
           }
          ],
          "scattercarpet": [
           {
            "marker": {
             "colorbar": {
              "outlinewidth": 0,
              "ticks": ""
             }
            },
            "type": "scattercarpet"
           }
          ],
          "scattergeo": [
           {
            "marker": {
             "colorbar": {
              "outlinewidth": 0,
              "ticks": ""
             }
            },
            "type": "scattergeo"
           }
          ],
          "scattergl": [
           {
            "marker": {
             "colorbar": {
              "outlinewidth": 0,
              "ticks": ""
             }
            },
            "type": "scattergl"
           }
          ],
          "scattermap": [
           {
            "marker": {
             "colorbar": {
              "outlinewidth": 0,
              "ticks": ""
             }
            },
            "type": "scattermap"
           }
          ],
          "scattermapbox": [
           {
            "marker": {
             "colorbar": {
              "outlinewidth": 0,
              "ticks": ""
             }
            },
            "type": "scattermapbox"
           }
          ],
          "scatterpolar": [
           {
            "marker": {
             "colorbar": {
              "outlinewidth": 0,
              "ticks": ""
             }
            },
            "type": "scatterpolar"
           }
          ],
          "scatterpolargl": [
           {
            "marker": {
             "colorbar": {
              "outlinewidth": 0,
              "ticks": ""
             }
            },
            "type": "scatterpolargl"
           }
          ],
          "scatterternary": [
           {
            "marker": {
             "colorbar": {
              "outlinewidth": 0,
              "ticks": ""
             }
            },
            "type": "scatterternary"
           }
          ],
          "surface": [
           {
            "colorbar": {
             "outlinewidth": 0,
             "ticks": ""
            },
            "colorscale": [
             [
              0,
              "#0d0887"
             ],
             [
              0.1111111111111111,
              "#46039f"
             ],
             [
              0.2222222222222222,
              "#7201a8"
             ],
             [
              0.3333333333333333,
              "#9c179e"
             ],
             [
              0.4444444444444444,
              "#bd3786"
             ],
             [
              0.5555555555555556,
              "#d8576b"
             ],
             [
              0.6666666666666666,
              "#ed7953"
             ],
             [
              0.7777777777777778,
              "#fb9f3a"
             ],
             [
              0.8888888888888888,
              "#fdca26"
             ],
             [
              1,
              "#f0f921"
             ]
            ],
            "type": "surface"
           }
          ],
          "table": [
           {
            "cells": {
             "fill": {
              "color": "#EBF0F8"
             },
             "line": {
              "color": "white"
             }
            },
            "header": {
             "fill": {
              "color": "#C8D4E3"
             },
             "line": {
              "color": "white"
             }
            },
            "type": "table"
           }
          ]
         },
         "layout": {
          "annotationdefaults": {
           "arrowcolor": "#2a3f5f",
           "arrowhead": 0,
           "arrowwidth": 1
          },
          "autotypenumbers": "strict",
          "coloraxis": {
           "colorbar": {
            "outlinewidth": 0,
            "ticks": ""
           }
          },
          "colorscale": {
           "diverging": [
            [
             0,
             "#8e0152"
            ],
            [
             0.1,
             "#c51b7d"
            ],
            [
             0.2,
             "#de77ae"
            ],
            [
             0.3,
             "#f1b6da"
            ],
            [
             0.4,
             "#fde0ef"
            ],
            [
             0.5,
             "#f7f7f7"
            ],
            [
             0.6,
             "#e6f5d0"
            ],
            [
             0.7,
             "#b8e186"
            ],
            [
             0.8,
             "#7fbc41"
            ],
            [
             0.9,
             "#4d9221"
            ],
            [
             1,
             "#276419"
            ]
           ],
           "sequential": [
            [
             0,
             "#0d0887"
            ],
            [
             0.1111111111111111,
             "#46039f"
            ],
            [
             0.2222222222222222,
             "#7201a8"
            ],
            [
             0.3333333333333333,
             "#9c179e"
            ],
            [
             0.4444444444444444,
             "#bd3786"
            ],
            [
             0.5555555555555556,
             "#d8576b"
            ],
            [
             0.6666666666666666,
             "#ed7953"
            ],
            [
             0.7777777777777778,
             "#fb9f3a"
            ],
            [
             0.8888888888888888,
             "#fdca26"
            ],
            [
             1,
             "#f0f921"
            ]
           ],
           "sequentialminus": [
            [
             0,
             "#0d0887"
            ],
            [
             0.1111111111111111,
             "#46039f"
            ],
            [
             0.2222222222222222,
             "#7201a8"
            ],
            [
             0.3333333333333333,
             "#9c179e"
            ],
            [
             0.4444444444444444,
             "#bd3786"
            ],
            [
             0.5555555555555556,
             "#d8576b"
            ],
            [
             0.6666666666666666,
             "#ed7953"
            ],
            [
             0.7777777777777778,
             "#fb9f3a"
            ],
            [
             0.8888888888888888,
             "#fdca26"
            ],
            [
             1,
             "#f0f921"
            ]
           ]
          },
          "colorway": [
           "#636efa",
           "#EF553B",
           "#00cc96",
           "#ab63fa",
           "#FFA15A",
           "#19d3f3",
           "#FF6692",
           "#B6E880",
           "#FF97FF",
           "#FECB52"
          ],
          "font": {
           "color": "#2a3f5f"
          },
          "geo": {
           "bgcolor": "white",
           "lakecolor": "white",
           "landcolor": "#E5ECF6",
           "showlakes": true,
           "showland": true,
           "subunitcolor": "white"
          },
          "hoverlabel": {
           "align": "left"
          },
          "hovermode": "closest",
          "mapbox": {
           "style": "light"
          },
          "paper_bgcolor": "white",
          "plot_bgcolor": "#E5ECF6",
          "polar": {
           "angularaxis": {
            "gridcolor": "white",
            "linecolor": "white",
            "ticks": ""
           },
           "bgcolor": "#E5ECF6",
           "radialaxis": {
            "gridcolor": "white",
            "linecolor": "white",
            "ticks": ""
           }
          },
          "scene": {
           "xaxis": {
            "backgroundcolor": "#E5ECF6",
            "gridcolor": "white",
            "gridwidth": 2,
            "linecolor": "white",
            "showbackground": true,
            "ticks": "",
            "zerolinecolor": "white"
           },
           "yaxis": {
            "backgroundcolor": "#E5ECF6",
            "gridcolor": "white",
            "gridwidth": 2,
            "linecolor": "white",
            "showbackground": true,
            "ticks": "",
            "zerolinecolor": "white"
           },
           "zaxis": {
            "backgroundcolor": "#E5ECF6",
            "gridcolor": "white",
            "gridwidth": 2,
            "linecolor": "white",
            "showbackground": true,
            "ticks": "",
            "zerolinecolor": "white"
           }
          },
          "shapedefaults": {
           "line": {
            "color": "#2a3f5f"
           }
          },
          "ternary": {
           "aaxis": {
            "gridcolor": "white",
            "linecolor": "white",
            "ticks": ""
           },
           "baxis": {
            "gridcolor": "white",
            "linecolor": "white",
            "ticks": ""
           },
           "bgcolor": "#E5ECF6",
           "caxis": {
            "gridcolor": "white",
            "linecolor": "white",
            "ticks": ""
           }
          },
          "title": {
           "x": 0.05
          },
          "xaxis": {
           "automargin": true,
           "gridcolor": "white",
           "linecolor": "white",
           "ticks": "",
           "title": {
            "standoff": 15
           },
           "zerolinecolor": "white",
           "zerolinewidth": 2
          },
          "yaxis": {
           "automargin": true,
           "gridcolor": "white",
           "linecolor": "white",
           "ticks": "",
           "title": {
            "standoff": 15
           },
           "zerolinecolor": "white",
           "zerolinewidth": 2
          }
         }
        },
        "title": {
         "text": "Average Trading Volume Around EIA WPSR Release"
        },
        "xaxis": {
         "ticktext": [
          "-60",
          "-45",
          "-30",
          "-15",
          "Release",
          "+15",
          "+30",
          "+45",
          "+60"
         ],
         "tickvals": [
          -60,
          -45,
          -30,
          -15,
          0,
          15,
          30,
          45,
          60
         ],
         "title": {
          "text": "Minutes Relative to EIA Report Release"
         }
        },
        "yaxis": {
         "title": {
          "text": "Average Volume"
         }
        }
       }
      }
     },
     "metadata": {},
     "output_type": "display_data"
    }
   ],
   "source": [
    "\n",
    "# Assume your price_window_60min dataframe is already loaded\n",
    "# and has columns 'Datetime', 'Release_Datetime', and 'Volume'\n",
    "\n",
    "# --- Calculate Time to Release (in minutes) ---\n",
    "price_window_60min['Time_to_Release_Minutes'] = (price_window_60min.index - price_window_60min['Release_Datetime']).dt.total_seconds() / 60\n",
    "# --- Group by Time to Release and Calculate Average Volume ---\n",
    "average_volume_by_time = price_window_60min.groupby('Time_to_Release_Minutes')['Volume'].mean().reset_index()\n",
    "\n",
    "# --- Create Scatter Plot of Average Volume ---\n",
    "fig_volume_scatter = go.Figure(data=[go.Scatter(\n",
    "    x=average_volume_by_time['Time_to_Release_Minutes'],\n",
    "    y=average_volume_by_time['Volume'],\n",
    "    mode='markers', # Use markers for scatter plot\n",
    "    marker=dict(size=8),\n",
    "    text=average_volume_by_time['Volume'], # Hover text is the volume\n",
    "    hovertemplate=\"Time to Release: %{x:.0f} minutes<br>Average Volume: %{y:.0f}<extra></extra>\" # Custom hover template\n",
    ")])\n",
    "\n",
    "fig_volume_scatter.update_layout(\n",
    "\n",
    "    title='Average Trading Volume Around EIA WPSR Release',\n",
    "    xaxis_title='Minutes Relative to EIA Report Release',\n",
    "    yaxis_title='Average Volume',\n",
    "    xaxis=dict(\n",
    "        tickvals=[-60, -45, -30, -15, 0, 15, 30, 45, 60], # Define specific x-axis ticks\n",
    "        ticktext=['-60', '-45', '-30', '-15', 'Release', '+15', '+30', '+45', '+60'] # Custom tick labels\n",
    "    ),\n",
    "    hovermode=\"closest\"\n",
    ")\n",
    "\n",
    "fig_volume_scatter.show()"
   ]
  },
  {
   "cell_type": "markdown",
   "metadata": {},
   "source": [
    "#gonna ignore the huge uptick at +60 b/c im assuming it's the large institutional algos kicking in after market settles from EIA relase."
   ]
  },
  {
   "cell_type": "code",
   "execution_count": 108,
   "metadata": {},
   "outputs": [
    {
     "name": "stderr",
     "output_type": "stream",
     "text": [
      "C:\\Users\\evans\\AppData\\Local\\Temp\\ipykernel_23536\\1453523888.py:20: FutureWarning:\n",
      "\n",
      "The default of observed=False is deprecated and will be changed to True in a future version of pandas. Pass observed=False to retain current behavior or observed=True to adopt the future default and silence this warning.\n",
      "\n"
     ]
    },
    {
     "data": {
      "application/vnd.plotly.v1+json": {
       "config": {
        "plotlyServerURL": "https://plot.ly"
       },
       "data": [
        {
         "colorbar": {
          "title": {
           "text": "Frequency"
          }
         },
         "colorscale": [
          [
           0,
           "#440154"
          ],
          [
           0.1111111111111111,
           "#482878"
          ],
          [
           0.2222222222222222,
           "#3e4989"
          ],
          [
           0.3333333333333333,
           "#31688e"
          ],
          [
           0.4444444444444444,
           "#26828e"
          ],
          [
           0.5555555555555556,
           "#1f9e89"
          ],
          [
           0.6666666666666666,
           "#35b779"
          ],
          [
           0.7777777777777778,
           "#6ece58"
          ],
          [
           0.8888888888888888,
           "#b5de2b"
          ],
          [
           1,
           "#fde725"
          ]
         ],
         "type": "heatmap",
         "x": {
          "bdata": "AAAAAAAATsAAAAAAAIBNwAAAAAAAAE3AAAAAAACATMAAAAAAAABMwAAAAAAAgEvAAAAAAAAAS8AAAAAAAIBKwAAAAAAAAErAAAAAAACAScAAAAAAAABJwAAAAAAAgEjAAAAAAAAASMAAAAAAAIBHwAAAAAAAAEfAAAAAAACARsAAAAAAAABGwAAAAAAAgEXAAAAAAAAARcAAAAAAAIBEwAAAAAAAAETAAAAAAACAQ8AAAAAAAABDwAAAAAAAgELAAAAAAAAAQsAAAAAAAIBBwAAAAAAAAEHAAAAAAACAQMAAAAAAAABAwAAAAAAAAD/AAAAAAAAAPsAAAAAAAAA9wAAAAAAAADzAAAAAAAAAO8AAAAAAAAA6wAAAAAAAADnAAAAAAAAAOMAAAAAAAAA3wAAAAAAAADbAAAAAAAAANcAAAAAAAAA0wAAAAAAAADPAAAAAAAAAMsAAAAAAAAAxwAAAAAAAADDAAAAAAAAALsAAAAAAAAAswAAAAAAAACrAAAAAAAAAKMAAAAAAAAAmwAAAAAAAACTAAAAAAAAAIsAAAAAAAAAgwAAAAAAAABzAAAAAAAAAGMAAAAAAAAAUwAAAAAAAABDAAAAAAAAACMAAAAAAAAAAwAAAAAAAAPC/AAAAAAAAAAAAAAAAAADwPwAAAAAAAABAAAAAAAAACEAAAAAAAAAQQAAAAAAAABRAAAAAAAAAGEAAAAAAAAAcQAAAAAAAACBAAAAAAAAAIkAAAAAAAAAkQAAAAAAAACZAAAAAAAAAKEAAAAAAAAAqQAAAAAAAACxAAAAAAAAALkAAAAAAAAAwQAAAAAAAADFAAAAAAAAAMkAAAAAAAAAzQAAAAAAAADRAAAAAAAAANUAAAAAAAAA2QAAAAAAAADdAAAAAAAAAOEAAAAAAAAA5QAAAAAAAADpAAAAAAAAAO0AAAAAAAAA8QAAAAAAAAD1AAAAAAAAAPkAAAAAAAAA/QAAAAAAAAEBAAAAAAACAQEAAAAAAAABBQAAAAAAAgEFAAAAAAAAAQkAAAAAAAIBCQAAAAAAAAENAAAAAAACAQ0AAAAAAAABEQAAAAAAAgERAAAAAAAAARUAAAAAAAIBFQAAAAAAAAEZAAAAAAACARkAAAAAAAABHQAAAAAAAgEdAAAAAAAAASEAAAAAAAIBIQAAAAAAAAElAAAAAAACASUAAAAAAAABKQAAAAAAAgEpAAAAAAAAAS0AAAAAAAIBLQAAAAAAAAExAAAAAAACATEAAAAAAAABNQAAAAAAAgE1AAAAAAAAATkA=",
          "dtype": "f8"
         },
         "y": [
          "-1.00%",
          "-0.95%",
          "-0.90%",
          "-0.85%",
          "-0.80%",
          "-0.75%",
          "-0.70%",
          "-0.65%",
          "-0.60%",
          "-0.55%",
          "-0.50%",
          "-0.45%",
          "-0.40%",
          "-0.35%",
          "-0.30%",
          "-0.25%",
          "-0.20%",
          "-0.15%",
          "-0.10%",
          "-0.05%",
          "0.00%",
          "0.05%",
          "0.10%",
          "0.15%",
          "0.20%",
          "0.25%",
          "0.30%",
          "0.35%",
          "0.40%",
          "0.45%",
          "0.50%",
          "0.55%",
          "0.60%",
          "0.65%",
          "0.70%",
          "0.75%",
          "0.80%",
          "0.85%",
          "0.90%",
          "0.95%"
         ],
         "z": {
          "bdata": "AAAAAAAAAAAAAAAAAAAAAAAAAAAAAAAAAAAAAAAAAAABAAAAAAAAAAAAAAAAAAAAAAAAAAAAAAAAAAAAAAAAAAAAAAAAAAAAAAAAAAAAAAAAAAAAAAAAAAAAAAAAAAAAAAAAAAAAAAAAAAAAAAAAAAAAAAAAAAAABAAAAAAAAAAAAAAAAAAAAAAAAQAAAAAAAAAAAAAAAAAAAAAAAAAAAAAAAQAAAAAAAAAAAAAAAAAAAAAAAAAAAAAAAAAAAAAAAAAAAAAAAAAAAAAAAAAAAAAAAAAAAAAAAAABAAAAAAAAAAAAAAAAAAAAAAAAAAAAAgAAAAAAAAAAAAAAAAAAAAAAAAAAAAAAAAAAAAEAAAAAAAAAAAAAAAAAAAAAAAAAAAAAAAAAAAAAAAAAAAAAAAAAAAAAAAAAAAAAAAAAAAAAAAAAAAAAAAAAAAAAAAAAAAAAAAAAAAAAAAAAAAAAAAAAAAAAAAAAAAACAAAAAAAAAAAAAAAAAAAAAAAAAAAAAAAAAAAAAAAAAAAAAAAAAAAAAAAAAAEAAAAAAAAAAAAAAAAAAAAAAAAAAAAAAAAAAAAAAAAAAAAAAAAAAAAAAAAAAQAAAAAAAAAAAAAAAAAAAAAAAAAAAAAAAAAAAAAAAAACAAAAAAAAAAAAAAAAAAAAAAAAAAAAAAAAAAAAAAAAAAAAAAAAAAAAAAAAAAAAAAAAAAAAAAAAAAAAAAAAAAAAAAAAAAAAAAAAAAAAAAAAAAAAAAAAAAAAAAAAAAAAAAAAAAAAAAAAAAAAAAAAAAAAAAAAAAAAAAAAAAUAAQAAAAAAAAAAAAAAAAABAAAAAAAAAAAAAAAAAAAAAAAAAAAAAAAAAAAAAAAAAAAAAQAAAAAAAAAAAAAAAAAAAAAAAAABAAAAAAAAAAAAAAAAAAAAAAAAAAAAAAAAAAAAAAAAAAAAAAAAAAAAAAABAAAAAAAAAAIAAAAAAAAAAAAAAAAAAAAAAAAAAAAAAAAAAAAAAAEAAAAAAAAAAAAAAAAAAAAAAAAAAAAAAAAAAQAAAAAAAAAAAAAAAAAAAAAAAAAAAAAAAAAAAAAAAAAAAAAAAAAAAAAAAAAAAAAAAAAAAAAAAAAAAAAAAAAAAAAAAQAAAAAAAAAAAAAAAAAAAAAAAAAAAAAAAQAAAAAAAAAAAAAAAAAAAAAAAAAAAAAAAAAAAAAAAAAAAAAAAAAAAAAAAAAAAAAAAAAAAAAAAAAAAAAAAAABAAAAAAAAAAAAAAAAAAAAAAAAAAAAAAAAAAAAAAAAAAAABAABAAEAAAAAAAAAAQAAAAAAAAAAAAAAAAAAAAAAAAAAAAAAAAAAAAAAAAAAAAAAAAAAAAAAAAAAAAAAAAAAAAAAAAAAAAAAAAAAAAAAAAAAAAAAAAAAAAAAAAAAAAAAAAAAAAAAAAAAAAAAAAAAAAAAAAAAAAAAAAAAAAAAAAAAAAAAAQAAAAAAAAAAAAAAAAAAAAEAAAAAAAAAAAAAAAAAAQAAAAAAAAAAAAAAAAAAAAAAAAAAAAAAAAAAAAAAAAAAAAAAAAAAAAAAAAAAAAAAAAAAAAAAAAAAAAAAAAAAAAAAAAAAAAAAAAAAAAAAAQACAAAAAAAAAAAAAAAAAAAAAAAAAAAAAAAAAAAAAAAAAAAAAQAAAAAAAAAAAAAAAAAAAAAAAAAAAAAAAAAAAAAAAAAAAAAAAAABAAAAAQAAAAAAAAAAAAAAAAABAAAAAAAAAAAAAAAAAAAAAAAAAAAAAAAAAAAAAAAAAAIAAAAAAAAAAAAAAAEAAAAAAAAAAAAAAAAAAQAAAAAAAAAAAAAAAAAAAAAAAAAAAAAAAAAAAAAAAAAAAAEAAQAAAAAAAAAAAAAAAAAAAAAAAAAAAAAAAAAAAAEAAAAAAAAAAAAAAAAAAAAAAAAAAAAAAAAAAQABAAQAAQAAAAAAAAAAAAAAAAAAAAAAAAAAAAAAAQABAAAAAAAAAAAAAAAAAAAAAAAAAAAAAAAAAAAAAAAAAAAAAQAAAAAAAAAAAAAAAAABAAAAAAAAAAAAAAAAAAAAAAABAAAAAAAAAAAAAAAAAAAAAAAAAAAAAAAAAAAAAwAAAAAAAwABAAAAAAAAAAAAAAAAAAAAAAAAAAAAAAAAAAAAAAAAAAAAAAAAAAEAAAABAAAAAAAAAAAAAAAAAAAAAAAAAAAAAAABAAAAAAAAAAAAAAAAAAAAAAAAAAAAAAAAAAAAAAAAAAAAAAAAAAAAAAAAAAEABAAAAAAAAAAAAAAAAAAAAAAAAAAAAAAAAAAAAAAAAAAAAAAAAAAAAAEAAAABAAAAAAAAAAAAAAAAAAAAAQAAAAAAAAAAAAAAAAAAAAAAAQABAAAAAAAAAAAAAAAAAAAAAAAAAAAAAAAAAAAAAAAAAAAAAAAAAAAAAAACAAAAAQABAAAAAQAAAAEAAQAAAAAAAAAAAAAAAAAAAAEAAAAAAAEAAAABAAEAAAABAAEAAAABAAEAAAAAAAAAAAAAAAAAAAAAAAAAAAABAAAAAAAAAAAAAAAAAAAAAAABAAAAAAAAAAAAAAAAAAAAAAAAAAAAAQADAAAAAAABAAEAAAAAAAAAAAAAAAAAAAAAAAAAAAAAAAEAAAAAAAAAAAAAAAAAAAAAAAAAAAAAAAAAAAABAAAAAQAAAAAAAAAAAAAAAAAAAAAAAAAAAAAAAAAAAAAAAAAAAAAAAAAAAAAAAAAAAAAAAAAAAAAAAQAAAAYAAQAAAAEAAQACAAEAAAAAAAAAAQAAAAAAAAAAAAAAAAABAAAAAQAAAAAAAQAAAAAAAAAAAAAAAAAAAAAAAAABAAAAAAAAAAAAAAAAAAAAAAAAAAAAAAAAAAAAAAAAAAEAAAAAAAAAAAAAAAAAAAAAAAAAAAABAAoAAQABAAAAAAAAAAAAAAAAAAAAAAAAAAAAAAAAAAAAAQAAAAAAAAABAAAAAAAAAAAAAAABAAAAAAAAAAAAAAAAAAAAAAAAAAAAAAAAAAEAAAAAAAAAAAAAAAAAAAAAAAAAAAAAAAAAAAABAAAAAAABAAAAAAAAAAAABwABAAAAAAABAAAAAQAAAAIAAgAAAAAAAgABAAEAAAAAAAEAAAAAAAAAAQABAAAAAQABAAAAAAACAAEAAAAAAAAAAAAAAAEAAQAAAAAAAAABAAEAAAAAAAAAAAAAAAAAAAAAAAAAAAAAAAAAAAAAAAAAAAAAAAAABgAAAAAAAQAAAAAAAAAAAAAAAAAAAAAAAAABAAAAAAAAAAAAAAABAAEAAAAAAAAAAAAAAAAAAAAAAAAAAAAAAAMAAAAAAAAAAgAAAAAAAQAAAAAAAAAAAAEAAAAAAAAAAAAAAAAAAAAAAAAAAAAAAAAAAQAAAAAAAAAGAAIAAwABAAQAAQAAAAAAAgAAAAEAAAABAAAAAAABAAAAAAABAAEAAQABAAAAAAABAAEAAAAAAAEAAAABAAEAAQABAAAAAAABAAAAAAAAAAAAAAAAAAAAAAAAAAAAAAAAAAEAAAABAAEAAQAAAAAAAAABAAAAAgAQAAEAAAAAAAAAAQABAAEAAAABAAAAAAAAAAAAAAAAAAQAAQAAAAAAAAAAAAAAAAABAAAAAAABAAAAAAAAAAMAAwAAAAAAAQAAAAEAAQAAAAAAAAAAAAEAAAACAAIAAQAAAAEAAAAAAAEAAAAAAAMAAAAAAAAAAQAAAAYABAAEAAAAAAABAAAAAQAAAAAAAQAAAAAAAAAAAAAAAAAAAAIAAgABAAAAAgAAAAIAAAAAAAAAAAABAAEAAQAAAAEAAAABAAEAAAABAAAAAAAAAAIAAAACAAEAAAACAAEAAAABAAAAAQABAAAAAAAAAAEAAAABAAgABAADAAAAAQACAAEAAgAAAAAAAQABAAEAAQAAAAAAAQABAAEAAQAAAAEAAgAAAAAAAAAAAAAAAAAAAAAAAwAEAAEAAgACAAIAAgABAAEAAQACAAIAAAABAAAAAQAAAAAAAAAAAAEAAAABAAIAAAAAAAEAAAABAAEACQAFAAEABAAEAAUAAQADAAIAAgADAAEAAAAAAAEAAQABAAIAAAABAAAAAgAAAAMAAAAAAAIAAAABAAAAAAABAAIAAQACAAAAAAAAAAAAAgABAAAAAAADAAAAAAACAAAAAAAAAAEAAgABAAEAAQAAAAAAAAABAAIADQADAAEAAQADAAAAAgABAAEAAgABAAIAAAABAAEAAAACAAEAAgABAAAAAgACAAEAAQAAAAEAAQAAAAAAAgABAAMABAABAAEAAQABAAEAAQACAAIAAAACAAEAAQABAAIAAQAAAAAAAQACAAIAAQAAAAIAAQABAAAAAgALAAUABwACAAQACAAFAAMAAwAAAAMAAgABAAEAAAABAAEAAgABAAEABAACAAMAAQABAAIABAADAAAAAQAEAAEAAgABAAAAAwABAAEAAgAEAAIAAwABAAMAAQABAAEAAQADAAQAAgACAAIAAgABAAEAAAADAAEAAwAPAAgABQAHAAMABAACAAIAAwAEAAAAAwACAAEABAADAAEAAQADAAMAAAACAAIABAAAAAIABQAEAAUAAQACAAkABQAGAAMABAACAAcABQAGAAEABQABAAQABAADAAUAAgAEAAEAAwADAAAAAgAAAAAAAgABAAAAAgACABQADwAGAAcACAAKAAoABwAFAAQACAAFAAIAAgAEAAoACQAIAAIABAAHAAMABAAFAAIAAwABAAYABwAEAAoABQAEAAUABAADAAEABAAAAAMAAwAKAAMAAwABAAYABQAEAAIAAgAEAAIAAwADAAMABAADAAQABAADABAACwAEAAgACQAFAAcABgAEAAYAAgAGAAUAAgADAAQACwAGAAUAAgACAAcABgADAAUABAAFAAoABgACAAYAEgANAAsABwAJAAUACAAJAAQACQAKAAcAAgAFAAIACAADAAgABAAGAAsAAwADAAEABAAEAAYABwACAAUAGAAVABEACwANABIAFAALAAcACgANAAYACwAFAAYACQALAAYACQANAAkADgAHAAQABgANAAUABgALAAQACQAFAAgACwAHAAYAAwAGAAMABwAJAAkABwAHAAUACQAGAAcABwAGAAcABwAEAAQABAAGAAcABwAGAAkAGQASAA4ADwATAA8ADwAOAAoADwAKAAwACgAGAAoACgAKAA0ADAALAAwACQAPAAsADQAKAAsACgAOAAkABgAaABwAFwASAB8AEgAJAA8ACgAMABkAEQAPAAgACwAPAAkADAAOAAkACgASAAoACAAMAAgACgAJAAcAEAAYABsAGAATABYAGgAcABYACQAYABIAGAAWABEADQAQABYAFAAOABEAFwAOABUAEwAUABAAEQANAA4ACwASAA8AEAAPAA4AEAAQABUACwARAA8AFQAUAAwAEgATAA0ADgALAA0AEQAOABEADQAJAA0ACAALABEAFQAjADIAJgAcAB8AMAAfAB0AIQAjACEAHwAlAB8AGQAdABgAJAAaABoAJAAYAB0AGAAVAB4AEQAgACIAFgAiAEAANgAtACsAGwAtACMAJgAfACsAIwAkAB0AMgAcACMAJgAdAB0AFQAmACUAIAAdACIAIwAbABgAGwAeADMAOwApADQAJQAjACsAMwAzACUAOgAvACoAKQAqACgAMgAlACQAJQAkACsAIAAhACAAMwAoADEAJwAsADIAKwArADIAIgAwACQAJgAtACMALAAoAB4AHQAfADUAMAAgABoAKAAxACQAKAApACkAHwAiACQAKQAnAB8AaQBeAF4AVABRAE0AYABWAFkAWwBgAEkATgBZAGUAWABlAFoATgBYAE0AVABQAEwAUgBeAFkATgBjAF8AawBdAHcAYwBfAFUAcgBeAGwAVgBYAGIAXwBLAF4AYgBjAGIAXQBcAEsAVgBWAGMAWQBnAGIAXgBfAF8ATQBUAFUAWgBtAFoAZwBbAFQAWwBoAGcAXABaAGAAUgBfAFkAXABUAGEAZQBgAEcAXgBlAFcAVgBuAGcAZQBtAF8AawBcAFEAdgBmAFkAXwBUAHIAYwBuAFkAYwBjAGwATgBnAFYAXgBLAEwAWQBqAGQATwBiAGoAPwDSAPsA8AAMAQQBBAEMAQcB9gARAeoABwEcARwBBQH/AAUBBgEXARYBCwEKAQ4BIAEUAf0AFAEVASMB8wCnAMQAywDgAPMA0gDyAOMABgEOAdwA5wD+AAYB/wDpAPsADwHsAO4A8wAIARwBEgEKAe8AIgEiAQgB9ACPAKIAtADHANIAyQC3ANIA2ADSAMUAygDSAN8A1gDQAMYA9ADmAOsA4gDOAOgA+QDbANoA9gDqAPEA8wC0AO0A2ADGAPcA0ADWAOcA8QDbAP4A8QDkAO8A+gDfAPAA5gD2ABIB4wDkAPAA+gD9APYA8AAFAdkAzwBeAJgAnwCvAJkAqwCoAJ4AsQDAALQAyQDFALcAvQDAALkArQC6AMUAuwDGALIA1AC+AL0AtwC1AL8ApwC2AGgAdACQAJoApgCcAJwAqACjALAArgC7AK4AtADDAKsAuACgANIAwgCxAKsAtgC2AL4ArgC0ALAAxQCzAGAAhgB/AJYAhwB3AI8AjQCSAK4AkACZAJgAnwCjAKYApwCgAKsArQCYAKQApAC1AKoAngCjAK0AowCvAIMAhgCdAJwAlQCTAKcAsACpAMkAiQCWALMAtQC3AKcAmwC4ALUAnwCyALYAvACwALEAmgCsAMMArgCXAD0ARwBfAF4AaQBWAGQAXgBiAFEAWwBLAFsAVwBZAFYAXQBWAFsAVwBRAFYAYABSAFoAWgBbAFIAUQBZAGEAXABhAFsAZQBTAGkAVABcAFAAUgBbAF0AYABjAFwAYQBVAFwAUQBlAHAAYwBOAE4ATwBsAFEAUABYAGIASQBUAGYAUQBgAFYAbABhAFsAVQBWAFwAawBpAFwAXQBfAF0AWABhAGMAcABVAGgAZABaAFEAZQBOAE4AbwBgAG0AaQBnAHQAXQBVAGsAVABxAFYAYwBIAFoATQBbAFYAbQBNAFAAVwBeAGYAYQBnAGsAUQBhAF0APAAoACAAIQAeAB4AJwAiACIAIQAgACUAGwAdABYAGwAgABgAIgAXABUAHwAjABoAGQAfACMAGgAUACMAJQA6ADgALgAmACgAMAAjAC8AIgAWAC0AIQAhABoAGgArABwAGwAiACsAIgAbACAAIwAeACEAGAAcABYAGgAkADQAQwA0ACoAKwAnACoAOgAoADAAJgAxACwAMgA4ACYAIgAsACwAIgAhACwAIAAuACkALwAiAB0AHgAuAC8AKQAvACYAMQAoACIAIAAhACYAJAAkADIAIAAtACsAJgAXAB0ALwAuACUAKgAjACUAIQAfACoAKQAmABoACAAUAAkACgANAAwACgAOAAgACwAJABAABwAJAAsADgANAAkADwANAAgACAAHAAgAFQAHAAsABAAOACAAEgAQABEAFAAeABQAEAAQAA4AFgAPAA0ADgALAAsAEgATAAoACwANAAsACAAKABAADAAFAAsADgAOAB8AHAAZAB0AEwAjABQAFwAaABoAFAAaABIAFQATABQAFgAOABUACQARAA8AEAAMABIAEQANAA4AEQAKAB8ACgASAA0AEQAaAA8AEwAMAAwAEgAJAAsADgANAAsADQAMABcADAASAA0AEwALAA0AEgAQAAoAEAANACgACwANAAcACAAKAAQABwAHAAcAAwAIAAQABgACAAQABgAEAAMABwACAAYABQACAAUABgAJAAYABAAHAAgAFgATAA4ACQACAAkACQAHAAQABAAHAAUACAABAAQAAwADAAIACQAHAAYABAAEAAcAAwAFAAIABQAFAAYADQAMABEAEwAJABAABQAKAAsAAwAJAAwACgAJABAADQAMAAYACgAGAAcABgAMAAUACQAJAAsABQAGAAwADQAKAAkACQAJAAsACwADAAcABwAHAAcABgACAAkABgAJAAUACgAGAAcACwAEAAQAAwAEAAcAAwAHAAkAFAAHAAMAAgACAAIAAgAAAAMAAAADAAMAAgACAAEAAAABAAIAAAABAAAAAgAAAAIAAQABAAAAAQADAAAAAAAMAAoABgAHAAMAAwADAAIAAgAEAAAAAQACAAEAAQAEAAUAAwAEAAAAAgABAAQAAgADAAMAAwACAAAABAAOAAsACwAEAAYADAAHAAMABAAFAAcABwAEAAUABAAFAAIAAwABAAEABwAFAAEABQAFAAIAAgACAAMABQALAAYABAAFAAUABwADAAEABgADAAIAAQAGAAIAAAAHAAMABAAEAAIAAwACAAEAAgACAAMAAQABAAMACAAUAAEABAADAAIAAQABAAEAAAAAAAAAAQAEAAAAAAACAAIAAQABAAAAAwADAAAABAABAAAAAwACAAMAAgABAAUAAwAAAAQAAAADAAMAAgACAAIAAgACAAEAAAACAAIAAQACAAEAAQADAAIAAAAAAAAAAAAAAAEAAgADAAoACAAEAAIAAQAJAAEABAADAAcAAwAEAAEAAgAEAAMAAQAEAAAAAAACAAIAAwAAAAAAAAAFAAEAAgADAAQAAAACAAEAAgABAAEAAgABAAAAAAAAAAEAAwACAAEAAgABAAIAAQACAAIAAQACAAAAAAAAAAEAAgAFABoAAgABAAEAAAABAAIAAgAAAAAAAAACAAEAAAABAAAAAAAAAAAAAQAAAAIAAAAAAAIAAAAAAAAAAQABAAEAAgAEAAAAAQABAAEAAAAAAAAAAgACAAAAAQADAAAAAAABAAEAAQACAAAAAAAAAAAAAAABAAEAAQABAAIACQAGAAQAAAABAAIABAADAAAAAgACAAIAAQABAAAAAwABAAIABAABAAEAAwABAAMAAAABAAIAAQABAAEAAQABAAAAAQADAAEAAgABAAAAAgAAAAAAAAAAAAEAAgABAAAAAgABAAEAAQACAAAAAAAAAAEAAwABAAMAEQABAAIAAAABAAIAAgAAAAAAAQABAAIAAQABAAAAAAABAAIAAAAAAAEAAAABAAAAAAABAAAAAAAAAAAAAAABAAEAAAAAAAAAAAAAAAEAAQAAAAAAAgAAAAAAAQAAAAAAAAABAAAAAAAAAAAAAAAAAAAAAAAAAAEAAQAHAAMAAgABAAEAAgACAAMAAgABAAAAAQABAAAAAAAAAAAAAQAAAAAAAgABAAEAAQABAAAAAQAAAAEAAgABAAIAAAABAAAAAQABAAIAAQACAAAAAQAAAAAAAQABAAAAAAAAAAAAAAABAAAAAAAAAAAAAAABAAIAAwALAAUAAQAAAAAAAAABAAEAAAABAAAAAAAAAAAAAAAAAAEAAAAAAAAAAQABAAAAAAAAAAAAAQAAAAAAAQAAAAAAAgAAAAAAAAACAAEAAAAAAAAAAAAAAAAAAAAAAAAAAAAAAAEAAQABAAAAAQAAAAEAAAAAAAAAAAAAAAUAAAAAAAEAAwACAAEAAQABAAEAAQAAAAEAAAABAAEAAQAAAAAAAAAAAAAAAgAAAAAAAAAAAAAAAQAAAAIAAgAAAAAAAAAAAAEAAgAAAAEAAAABAAAAAAAAAAAAAAAAAAAAAAAAAAAAAAAAAAEAAQAAAAEAAAABAAoAAAAAAAAAAAAAAAAAAAAAAAAAAAACAAAAAAAAAAAAAAAAAAAAAAAAAAAAAAAAAAEAAAAAAAAAAAAAAAAAAAAAAAAAAAABAAAAAAABAAAAAAAAAAAAAAAAAAEAAAAAAAAAAAAAAAAAAwAAAAEAAAAAAAAAAAAAAAAABwACAAAAAAAAAAAAAQABAAAAAQAAAAEAAAAAAAIAAAAAAAAAAQABAAIAAAAAAAAAAAABAAAAAAAAAAAAAQAAAAAAAAAAAAEAAgAAAAAAAAAAAAAAAQAAAAAAAQAAAAAAAAAAAAAAAAAAAAAAAAABAAAAAAAAAAIACgACAAAAAAAAAAEAAAAAAAAAAAAAAAAAAAAAAAAAAAAAAAAAAAAAAAAAAAAAAAAAAQAAAAAAAAAAAAAAAAAAAAAAAAAAAAAAAQAAAAAAAAAAAAAAAQABAAAAAAAAAAAAAAAAAAAAAAAAAAAAAAAAAAAAAAAAAAAAAAADAAAAAgABAAAAAwABAAEAAAABAAEAAgAAAAAAAAAAAAEAAQAAAAAAAAAAAAAAAAABAAEAAAABAAAAAAAAAAAAAAAAAAAAAAAAAAAAAAABAAEAAQAAAAAAAAAAAAAAAAABAAAAAAAAAAAAAAAAAAEAAAABAAAAAAAEAAAAAAAAAAAAAAAAAAAAAAAAAAAAAAABAAAAAAAAAAAAAAAAAAEAAAAAAAAAAAAAAAAAAQAAAAAAAQAAAAAAAAAAAAAAAAAAAAAAAAAAAAAAAAAAAAAAAAAAAAEAAAAAAAEAAAAAAAAAAAAAAAAAAAAAAAAAAAACAAYAAQAAAAAAAgAAAAEAAAAAAAAAAAABAAAAAAABAAEAAAAAAAAAAAAAAAAAAAAAAAAAAAAAAAAAAAAAAAAAAAAAAAAAAAAAAAAAAAAAAAAAAAAAAAEAAAAAAAAAAAAAAAAAAAAAAAAAAAAAAAEAAAAAAAAAAAABAAUAAAAAAAAAAAAAAAAAAQAAAAAAAAAAAAAAAAAAAAEAAAAAAAAAAAAAAAAAAAAAAAAAAAAAAAAAAAAAAAAAAAABAAAAAQAAAAAAAAAAAAAAAAABAAAAAAAAAAAAAAAAAAAAAAAAAAEAAAAAAAAAAAAAAAAAAAAAAAAAAgAAAAAAAAAAAAAAAAAAAAEAAAAAAAAAAAAAAAAAAAAAAAAAAQAAAAAAAAAAAAAAAAAAAAAAAAAAAAAAAAAAAAAAAAABAAAAAAAAAAAAAAAAAAAAAAAAAAEAAQAAAAAAAAAAAAAAAAAAAAAAAAABAAAAAAAAAAAACAAAAAAAAAAAAAAAAAAAAAAAAAAAAAAAAAAAAAAAAAAAAAAAAAAAAAAAAAAAAAAAAAAAAAAAAAAAAAAAAAAAAAAAAAAAAAAAAAAAAAAAAQAAAAAAAAAAAAAAAAAAAAAAAQAAAAAAAAAAAAAAAAAAAAAAAAAAAAAAAAABAAAAAAAAAAEAAQAAAAAAAQAAAAAAAAAAAAAAAAAAAAAAAAAAAAAAAQAAAAAAAAAAAAAAAAAAAAEAAAAAAAAAAAAAAAEAAAAAAAAAAAAAAAEAAAAAAAAAAAAAAAAAAQAAAAAAAAAAAAAAAAAAAAAAAAAAAAAAAAAGAAAAAAAAAAAAAAAAAAAAAAABAAAAAAAAAAAAAAAAAAAAAAAAAAAAAAAAAAAAAAAAAAEAAAAAAAAAAAAAAAEAAAAAAAAAAAAAAAAAAAAAAAAAAAAAAAAAAAAAAAAAAAAAAAAAAAAAAAAAAAAAAAEAAAAAAAAAAAAAAAIAAgAAAAAAAAAAAAEAAAAAAAAAAAAAAAAAAQAAAAAAAAAAAAEAAAAAAAAAAAAAAAAAAAAAAAAAAQAAAAAAAAAAAAAAAAAAAAAAAAAAAAAAAAAAAAAAAAAAAAAAAAAAAAAAAAAAAAAAAAAAAAAAAAAAAAAAAAACAAIAAAAAAAAAAAAAAAEAAAAAAAAAAAABAAAAAAAAAAAAAAAAAAAAAAAAAAAAAAAAAAAAAAAAAAAAAAAAAAAAAAAAAAAAAAAAAAAAAAAAAAAAAAAAAAAAAAAAAAEAAAAAAAAAAAAAAAAAAQAAAAAAAAAAAAAAAAAAAAAAAAABAAAAAAAAAAEAAAAAAAAAAQAAAAAAAAAAAAAAAAAAAAAAAAAAAAAAAAAAAAAAAAAAAAAAAAAAAAAAAAAAAAAAAAAAAAAAAAAAAAAAAAAAAAAAAAAAAAAAAAAAAAAAAAAAAAAAAAAAAAAAAAAAAAAAAAAAAAAAAgAAAAAAAAAAAAAAAAAAAAAAAAAAAAAAAAAAAAAAAAAAAAAAAAAAAAAAAAAAAAAAAAAAAAAAAAAAAAAAAAAAAAAAAAAAAAAAAAAAAAAAAAAAAAAAAAAAAAAAAAAAAAAAAAAAAAEAAAAAAAAAAAAAAAAAAAAAAAAAAAACAAAAAAAAAAAAAAAAAAEAAAAAAAAAAAABAAAAAAAAAAAAAAAAAAAAAAAAAAAAAAAAAAAAAAAAAAAAAAAAAAAAAAAAAAAAAAAAAAAAAAAAAAAAAAAAAAAAAAAAAAAAAAAAAAAAAAAAAAAAAAAAAAAAAAAAAAAAAAABAAAAAAAAAAAAAAAAAAAAAAAAAAAAAAAAAAAAAAAAAAAAAAAAAAAAAAAAAAAAAAABAAAAAAAAAAAAAAAAAAAAAAAAAAAAAAAAAAAAAAAAAAAAAAAAAAAAAAAAAAAAAAAAAAAAAAAAAAAAAAABAAAAAAAAAAAAAQAAAAAAAAAAAAAAAAABAAAAAAABAAAAAAAAAAAAAAAAAAAAAAAAAAAAAAAAAAAAAAAAAAAAAAAAAAAAAAAAAAAAAAAAAAAAAAAAAAAAAAABAAAAAAAAAAAAAAAAAAAAAAAAAAAAAAAAAAAAAAAAAAAAAAAAAAAAAAAAAAUAAAAAAAAAAAAAAAAAAAAAAAAAAAAAAAAAAAAAAAAAAAAAAAAAAAAAAAAAAAAAAAAAAAAAAAAAAAAAAAAAAQAAAAAAAAAAAAEAAAAAAAAAAAAAAAAAAAAAAAAAAAAAAAAAAAAAAAAAAAABAAAAAAAAAAAAAAAAAAAAAQAAAAAAAAABAAAAAAAAAAAAAAAAAAAAAAAAAAAAAAAAAAAAAAAAAAAAAAAAAAAAAAAAAAAAAAAAAAAAAAAAAAAAAAAAAAAAAAAAAAAAAAAAAAAAAAAAAAAAAAAAAAAAAAAAAAAAAAAAAAAAAAAAAAAAAAAAAAAAAgA=",
          "dtype": "i2",
          "shape": "40, 121"
         }
        }
       ],
       "layout": {
        "template": {
         "data": {
          "bar": [
           {
            "error_x": {
             "color": "#2a3f5f"
            },
            "error_y": {
             "color": "#2a3f5f"
            },
            "marker": {
             "line": {
              "color": "#E5ECF6",
              "width": 0.5
             },
             "pattern": {
              "fillmode": "overlay",
              "size": 10,
              "solidity": 0.2
             }
            },
            "type": "bar"
           }
          ],
          "barpolar": [
           {
            "marker": {
             "line": {
              "color": "#E5ECF6",
              "width": 0.5
             },
             "pattern": {
              "fillmode": "overlay",
              "size": 10,
              "solidity": 0.2
             }
            },
            "type": "barpolar"
           }
          ],
          "carpet": [
           {
            "aaxis": {
             "endlinecolor": "#2a3f5f",
             "gridcolor": "white",
             "linecolor": "white",
             "minorgridcolor": "white",
             "startlinecolor": "#2a3f5f"
            },
            "baxis": {
             "endlinecolor": "#2a3f5f",
             "gridcolor": "white",
             "linecolor": "white",
             "minorgridcolor": "white",
             "startlinecolor": "#2a3f5f"
            },
            "type": "carpet"
           }
          ],
          "choropleth": [
           {
            "colorbar": {
             "outlinewidth": 0,
             "ticks": ""
            },
            "type": "choropleth"
           }
          ],
          "contour": [
           {
            "colorbar": {
             "outlinewidth": 0,
             "ticks": ""
            },
            "colorscale": [
             [
              0,
              "#0d0887"
             ],
             [
              0.1111111111111111,
              "#46039f"
             ],
             [
              0.2222222222222222,
              "#7201a8"
             ],
             [
              0.3333333333333333,
              "#9c179e"
             ],
             [
              0.4444444444444444,
              "#bd3786"
             ],
             [
              0.5555555555555556,
              "#d8576b"
             ],
             [
              0.6666666666666666,
              "#ed7953"
             ],
             [
              0.7777777777777778,
              "#fb9f3a"
             ],
             [
              0.8888888888888888,
              "#fdca26"
             ],
             [
              1,
              "#f0f921"
             ]
            ],
            "type": "contour"
           }
          ],
          "contourcarpet": [
           {
            "colorbar": {
             "outlinewidth": 0,
             "ticks": ""
            },
            "type": "contourcarpet"
           }
          ],
          "heatmap": [
           {
            "colorbar": {
             "outlinewidth": 0,
             "ticks": ""
            },
            "colorscale": [
             [
              0,
              "#0d0887"
             ],
             [
              0.1111111111111111,
              "#46039f"
             ],
             [
              0.2222222222222222,
              "#7201a8"
             ],
             [
              0.3333333333333333,
              "#9c179e"
             ],
             [
              0.4444444444444444,
              "#bd3786"
             ],
             [
              0.5555555555555556,
              "#d8576b"
             ],
             [
              0.6666666666666666,
              "#ed7953"
             ],
             [
              0.7777777777777778,
              "#fb9f3a"
             ],
             [
              0.8888888888888888,
              "#fdca26"
             ],
             [
              1,
              "#f0f921"
             ]
            ],
            "type": "heatmap"
           }
          ],
          "histogram": [
           {
            "marker": {
             "pattern": {
              "fillmode": "overlay",
              "size": 10,
              "solidity": 0.2
             }
            },
            "type": "histogram"
           }
          ],
          "histogram2d": [
           {
            "colorbar": {
             "outlinewidth": 0,
             "ticks": ""
            },
            "colorscale": [
             [
              0,
              "#0d0887"
             ],
             [
              0.1111111111111111,
              "#46039f"
             ],
             [
              0.2222222222222222,
              "#7201a8"
             ],
             [
              0.3333333333333333,
              "#9c179e"
             ],
             [
              0.4444444444444444,
              "#bd3786"
             ],
             [
              0.5555555555555556,
              "#d8576b"
             ],
             [
              0.6666666666666666,
              "#ed7953"
             ],
             [
              0.7777777777777778,
              "#fb9f3a"
             ],
             [
              0.8888888888888888,
              "#fdca26"
             ],
             [
              1,
              "#f0f921"
             ]
            ],
            "type": "histogram2d"
           }
          ],
          "histogram2dcontour": [
           {
            "colorbar": {
             "outlinewidth": 0,
             "ticks": ""
            },
            "colorscale": [
             [
              0,
              "#0d0887"
             ],
             [
              0.1111111111111111,
              "#46039f"
             ],
             [
              0.2222222222222222,
              "#7201a8"
             ],
             [
              0.3333333333333333,
              "#9c179e"
             ],
             [
              0.4444444444444444,
              "#bd3786"
             ],
             [
              0.5555555555555556,
              "#d8576b"
             ],
             [
              0.6666666666666666,
              "#ed7953"
             ],
             [
              0.7777777777777778,
              "#fb9f3a"
             ],
             [
              0.8888888888888888,
              "#fdca26"
             ],
             [
              1,
              "#f0f921"
             ]
            ],
            "type": "histogram2dcontour"
           }
          ],
          "mesh3d": [
           {
            "colorbar": {
             "outlinewidth": 0,
             "ticks": ""
            },
            "type": "mesh3d"
           }
          ],
          "parcoords": [
           {
            "line": {
             "colorbar": {
              "outlinewidth": 0,
              "ticks": ""
             }
            },
            "type": "parcoords"
           }
          ],
          "pie": [
           {
            "automargin": true,
            "type": "pie"
           }
          ],
          "scatter": [
           {
            "fillpattern": {
             "fillmode": "overlay",
             "size": 10,
             "solidity": 0.2
            },
            "type": "scatter"
           }
          ],
          "scatter3d": [
           {
            "line": {
             "colorbar": {
              "outlinewidth": 0,
              "ticks": ""
             }
            },
            "marker": {
             "colorbar": {
              "outlinewidth": 0,
              "ticks": ""
             }
            },
            "type": "scatter3d"
           }
          ],
          "scattercarpet": [
           {
            "marker": {
             "colorbar": {
              "outlinewidth": 0,
              "ticks": ""
             }
            },
            "type": "scattercarpet"
           }
          ],
          "scattergeo": [
           {
            "marker": {
             "colorbar": {
              "outlinewidth": 0,
              "ticks": ""
             }
            },
            "type": "scattergeo"
           }
          ],
          "scattergl": [
           {
            "marker": {
             "colorbar": {
              "outlinewidth": 0,
              "ticks": ""
             }
            },
            "type": "scattergl"
           }
          ],
          "scattermap": [
           {
            "marker": {
             "colorbar": {
              "outlinewidth": 0,
              "ticks": ""
             }
            },
            "type": "scattermap"
           }
          ],
          "scattermapbox": [
           {
            "marker": {
             "colorbar": {
              "outlinewidth": 0,
              "ticks": ""
             }
            },
            "type": "scattermapbox"
           }
          ],
          "scatterpolar": [
           {
            "marker": {
             "colorbar": {
              "outlinewidth": 0,
              "ticks": ""
             }
            },
            "type": "scatterpolar"
           }
          ],
          "scatterpolargl": [
           {
            "marker": {
             "colorbar": {
              "outlinewidth": 0,
              "ticks": ""
             }
            },
            "type": "scatterpolargl"
           }
          ],
          "scatterternary": [
           {
            "marker": {
             "colorbar": {
              "outlinewidth": 0,
              "ticks": ""
             }
            },
            "type": "scatterternary"
           }
          ],
          "surface": [
           {
            "colorbar": {
             "outlinewidth": 0,
             "ticks": ""
            },
            "colorscale": [
             [
              0,
              "#0d0887"
             ],
             [
              0.1111111111111111,
              "#46039f"
             ],
             [
              0.2222222222222222,
              "#7201a8"
             ],
             [
              0.3333333333333333,
              "#9c179e"
             ],
             [
              0.4444444444444444,
              "#bd3786"
             ],
             [
              0.5555555555555556,
              "#d8576b"
             ],
             [
              0.6666666666666666,
              "#ed7953"
             ],
             [
              0.7777777777777778,
              "#fb9f3a"
             ],
             [
              0.8888888888888888,
              "#fdca26"
             ],
             [
              1,
              "#f0f921"
             ]
            ],
            "type": "surface"
           }
          ],
          "table": [
           {
            "cells": {
             "fill": {
              "color": "#EBF0F8"
             },
             "line": {
              "color": "white"
             }
            },
            "header": {
             "fill": {
              "color": "#C8D4E3"
             },
             "line": {
              "color": "white"
             }
            },
            "type": "table"
           }
          ]
         },
         "layout": {
          "annotationdefaults": {
           "arrowcolor": "#2a3f5f",
           "arrowhead": 0,
           "arrowwidth": 1
          },
          "autotypenumbers": "strict",
          "coloraxis": {
           "colorbar": {
            "outlinewidth": 0,
            "ticks": ""
           }
          },
          "colorscale": {
           "diverging": [
            [
             0,
             "#8e0152"
            ],
            [
             0.1,
             "#c51b7d"
            ],
            [
             0.2,
             "#de77ae"
            ],
            [
             0.3,
             "#f1b6da"
            ],
            [
             0.4,
             "#fde0ef"
            ],
            [
             0.5,
             "#f7f7f7"
            ],
            [
             0.6,
             "#e6f5d0"
            ],
            [
             0.7,
             "#b8e186"
            ],
            [
             0.8,
             "#7fbc41"
            ],
            [
             0.9,
             "#4d9221"
            ],
            [
             1,
             "#276419"
            ]
           ],
           "sequential": [
            [
             0,
             "#0d0887"
            ],
            [
             0.1111111111111111,
             "#46039f"
            ],
            [
             0.2222222222222222,
             "#7201a8"
            ],
            [
             0.3333333333333333,
             "#9c179e"
            ],
            [
             0.4444444444444444,
             "#bd3786"
            ],
            [
             0.5555555555555556,
             "#d8576b"
            ],
            [
             0.6666666666666666,
             "#ed7953"
            ],
            [
             0.7777777777777778,
             "#fb9f3a"
            ],
            [
             0.8888888888888888,
             "#fdca26"
            ],
            [
             1,
             "#f0f921"
            ]
           ],
           "sequentialminus": [
            [
             0,
             "#0d0887"
            ],
            [
             0.1111111111111111,
             "#46039f"
            ],
            [
             0.2222222222222222,
             "#7201a8"
            ],
            [
             0.3333333333333333,
             "#9c179e"
            ],
            [
             0.4444444444444444,
             "#bd3786"
            ],
            [
             0.5555555555555556,
             "#d8576b"
            ],
            [
             0.6666666666666666,
             "#ed7953"
            ],
            [
             0.7777777777777778,
             "#fb9f3a"
            ],
            [
             0.8888888888888888,
             "#fdca26"
            ],
            [
             1,
             "#f0f921"
            ]
           ]
          },
          "colorway": [
           "#636efa",
           "#EF553B",
           "#00cc96",
           "#ab63fa",
           "#FFA15A",
           "#19d3f3",
           "#FF6692",
           "#B6E880",
           "#FF97FF",
           "#FECB52"
          ],
          "font": {
           "color": "#2a3f5f"
          },
          "geo": {
           "bgcolor": "white",
           "lakecolor": "white",
           "landcolor": "#E5ECF6",
           "showlakes": true,
           "showland": true,
           "subunitcolor": "white"
          },
          "hoverlabel": {
           "align": "left"
          },
          "hovermode": "closest",
          "mapbox": {
           "style": "light"
          },
          "paper_bgcolor": "white",
          "plot_bgcolor": "#E5ECF6",
          "polar": {
           "angularaxis": {
            "gridcolor": "white",
            "linecolor": "white",
            "ticks": ""
           },
           "bgcolor": "#E5ECF6",
           "radialaxis": {
            "gridcolor": "white",
            "linecolor": "white",
            "ticks": ""
           }
          },
          "scene": {
           "xaxis": {
            "backgroundcolor": "#E5ECF6",
            "gridcolor": "white",
            "gridwidth": 2,
            "linecolor": "white",
            "showbackground": true,
            "ticks": "",
            "zerolinecolor": "white"
           },
           "yaxis": {
            "backgroundcolor": "#E5ECF6",
            "gridcolor": "white",
            "gridwidth": 2,
            "linecolor": "white",
            "showbackground": true,
            "ticks": "",
            "zerolinecolor": "white"
           },
           "zaxis": {
            "backgroundcolor": "#E5ECF6",
            "gridcolor": "white",
            "gridwidth": 2,
            "linecolor": "white",
            "showbackground": true,
            "ticks": "",
            "zerolinecolor": "white"
           }
          },
          "shapedefaults": {
           "line": {
            "color": "#2a3f5f"
           }
          },
          "ternary": {
           "aaxis": {
            "gridcolor": "white",
            "linecolor": "white",
            "ticks": ""
           },
           "baxis": {
            "gridcolor": "white",
            "linecolor": "white",
            "ticks": ""
           },
           "bgcolor": "#E5ECF6",
           "caxis": {
            "gridcolor": "white",
            "linecolor": "white",
            "ticks": ""
           }
          },
          "title": {
           "x": 0.05
          },
          "xaxis": {
           "automargin": true,
           "gridcolor": "white",
           "linecolor": "white",
           "ticks": "",
           "title": {
            "standoff": 15
           },
           "zerolinecolor": "white",
           "zerolinewidth": 2
          },
          "yaxis": {
           "automargin": true,
           "gridcolor": "white",
           "linecolor": "white",
           "ticks": "",
           "title": {
            "standoff": 15
           },
           "zerolinecolor": "white",
           "zerolinewidth": 2
          }
         }
        },
        "title": {
         "text": "Frequency of Percentage Price Changes Around EIA WPSR Release"
        },
        "xaxis": {
         "ticktext": [
          -60,
          -55,
          -50,
          -45,
          -40,
          -35,
          -30,
          -25,
          -20,
          -15,
          -10,
          -5,
          0,
          5,
          10,
          15,
          20,
          25,
          30,
          35,
          40,
          45,
          50,
          55,
          60
         ],
         "tickvals": [
          -60,
          -55,
          -50,
          -45,
          -40,
          -35,
          -30,
          -25,
          -20,
          -15,
          -10,
          -5,
          0,
          5,
          10,
          15,
          20,
          25,
          30,
          35,
          40,
          45,
          50,
          55,
          60
         ],
         "title": {
          "text": "Time Relative to Release (Minutes)"
         }
        },
        "yaxis": {
         "autorange": "reversed",
         "title": {
          "text": "Percentage Price Change Bins"
         }
        }
       }
      }
     },
     "metadata": {},
     "output_type": "display_data"
    },
    {
     "data": {
      "text/html": [
       "<div>\n",
       "<style scoped>\n",
       "    .dataframe tbody tr th:only-of-type {\n",
       "        vertical-align: middle;\n",
       "    }\n",
       "\n",
       "    .dataframe tbody tr th {\n",
       "        vertical-align: top;\n",
       "    }\n",
       "\n",
       "    .dataframe thead th {\n",
       "        text-align: right;\n",
       "    }\n",
       "</style>\n",
       "<table border=\"1\" class=\"dataframe\">\n",
       "  <thead>\n",
       "    <tr style=\"text-align: right;\">\n",
       "      <th></th>\n",
       "      <th>Date</th>\n",
       "      <th>Time</th>\n",
       "      <th>Open</th>\n",
       "      <th>High</th>\n",
       "      <th>Low</th>\n",
       "      <th>Close</th>\n",
       "      <th>Volume</th>\n",
       "      <th>Datetime</th>\n",
       "      <th>Percent_Change</th>\n",
       "      <th>Release_Datetime</th>\n",
       "      <th>Time_to_Release_Minutes</th>\n",
       "      <th>Time_Delta_Minutes</th>\n",
       "      <th>Price_Change_Bin</th>\n",
       "    </tr>\n",
       "    <tr>\n",
       "      <th>Datetime_CST</th>\n",
       "      <th></th>\n",
       "      <th></th>\n",
       "      <th></th>\n",
       "      <th></th>\n",
       "      <th></th>\n",
       "      <th></th>\n",
       "      <th></th>\n",
       "      <th></th>\n",
       "      <th></th>\n",
       "      <th></th>\n",
       "      <th></th>\n",
       "      <th></th>\n",
       "      <th></th>\n",
       "    </tr>\n",
       "  </thead>\n",
       "  <tbody>\n",
       "    <tr>\n",
       "      <th>2011-03-09 08:30:00-06:00</th>\n",
       "      <td>09/03/2011</td>\n",
       "      <td>08:30:00</td>\n",
       "      <td>105.56</td>\n",
       "      <td>105.56</td>\n",
       "      <td>105.44</td>\n",
       "      <td>105.46</td>\n",
       "      <td>514</td>\n",
       "      <td>2011-03-09 08:30:00</td>\n",
       "      <td>-0.094733</td>\n",
       "      <td>2011-03-09 09:30:00-06:00</td>\n",
       "      <td>-60.0</td>\n",
       "      <td>-60.0</td>\n",
       "      <td>-0.10%</td>\n",
       "    </tr>\n",
       "    <tr>\n",
       "      <th>2011-03-09 08:31:00-06:00</th>\n",
       "      <td>09/03/2011</td>\n",
       "      <td>08:31:00</td>\n",
       "      <td>105.46</td>\n",
       "      <td>105.52</td>\n",
       "      <td>105.45</td>\n",
       "      <td>105.46</td>\n",
       "      <td>323</td>\n",
       "      <td>2011-03-09 08:31:00</td>\n",
       "      <td>0.000000</td>\n",
       "      <td>2011-03-09 09:30:00-06:00</td>\n",
       "      <td>-59.0</td>\n",
       "      <td>-59.0</td>\n",
       "      <td>-0.05%</td>\n",
       "    </tr>\n",
       "    <tr>\n",
       "      <th>2011-03-09 08:32:00-06:00</th>\n",
       "      <td>09/03/2011</td>\n",
       "      <td>08:32:00</td>\n",
       "      <td>105.45</td>\n",
       "      <td>105.47</td>\n",
       "      <td>105.31</td>\n",
       "      <td>105.32</td>\n",
       "      <td>899</td>\n",
       "      <td>2011-03-09 08:32:00</td>\n",
       "      <td>-0.132752</td>\n",
       "      <td>2011-03-09 09:30:00-06:00</td>\n",
       "      <td>-58.0</td>\n",
       "      <td>-58.0</td>\n",
       "      <td>-0.15%</td>\n",
       "    </tr>\n",
       "    <tr>\n",
       "      <th>2011-03-09 08:33:00-06:00</th>\n",
       "      <td>09/03/2011</td>\n",
       "      <td>08:33:00</td>\n",
       "      <td>105.31</td>\n",
       "      <td>105.37</td>\n",
       "      <td>105.25</td>\n",
       "      <td>105.33</td>\n",
       "      <td>716</td>\n",
       "      <td>2011-03-09 08:33:00</td>\n",
       "      <td>0.009495</td>\n",
       "      <td>2011-03-09 09:30:00-06:00</td>\n",
       "      <td>-57.0</td>\n",
       "      <td>-57.0</td>\n",
       "      <td>0.00%</td>\n",
       "    </tr>\n",
       "    <tr>\n",
       "      <th>2011-03-09 08:34:00-06:00</th>\n",
       "      <td>09/03/2011</td>\n",
       "      <td>08:34:00</td>\n",
       "      <td>105.34</td>\n",
       "      <td>105.45</td>\n",
       "      <td>105.31</td>\n",
       "      <td>105.40</td>\n",
       "      <td>660</td>\n",
       "      <td>2011-03-09 08:34:00</td>\n",
       "      <td>0.066458</td>\n",
       "      <td>2011-03-09 09:30:00-06:00</td>\n",
       "      <td>-56.0</td>\n",
       "      <td>-56.0</td>\n",
       "      <td>0.05%</td>\n",
       "    </tr>\n",
       "    <tr>\n",
       "      <th>...</th>\n",
       "      <td>...</td>\n",
       "      <td>...</td>\n",
       "      <td>...</td>\n",
       "      <td>...</td>\n",
       "      <td>...</td>\n",
       "      <td>...</td>\n",
       "      <td>...</td>\n",
       "      <td>...</td>\n",
       "      <td>...</td>\n",
       "      <td>...</td>\n",
       "      <td>...</td>\n",
       "      <td>...</td>\n",
       "      <td>...</td>\n",
       "    </tr>\n",
       "    <tr>\n",
       "      <th>2025-03-05 10:26:00-06:00</th>\n",
       "      <td>05/03/2025</td>\n",
       "      <td>10:26:00</td>\n",
       "      <td>65.42</td>\n",
       "      <td>65.46</td>\n",
       "      <td>65.37</td>\n",
       "      <td>65.38</td>\n",
       "      <td>713</td>\n",
       "      <td>2025-03-05 10:26:00</td>\n",
       "      <td>-0.061143</td>\n",
       "      <td>2025-03-05 09:30:00-06:00</td>\n",
       "      <td>56.0</td>\n",
       "      <td>56.0</td>\n",
       "      <td>-0.10%</td>\n",
       "    </tr>\n",
       "    <tr>\n",
       "      <th>2025-03-05 10:27:00-06:00</th>\n",
       "      <td>05/03/2025</td>\n",
       "      <td>10:27:00</td>\n",
       "      <td>65.37</td>\n",
       "      <td>65.41</td>\n",
       "      <td>65.37</td>\n",
       "      <td>65.39</td>\n",
       "      <td>640</td>\n",
       "      <td>2025-03-05 10:27:00</td>\n",
       "      <td>0.015295</td>\n",
       "      <td>2025-03-05 09:30:00-06:00</td>\n",
       "      <td>57.0</td>\n",
       "      <td>57.0</td>\n",
       "      <td>0.00%</td>\n",
       "    </tr>\n",
       "    <tr>\n",
       "      <th>2025-03-05 10:28:00-06:00</th>\n",
       "      <td>05/03/2025</td>\n",
       "      <td>10:28:00</td>\n",
       "      <td>65.40</td>\n",
       "      <td>65.42</td>\n",
       "      <td>65.33</td>\n",
       "      <td>65.36</td>\n",
       "      <td>796</td>\n",
       "      <td>2025-03-05 10:28:00</td>\n",
       "      <td>-0.045879</td>\n",
       "      <td>2025-03-05 09:30:00-06:00</td>\n",
       "      <td>58.0</td>\n",
       "      <td>58.0</td>\n",
       "      <td>-0.05%</td>\n",
       "    </tr>\n",
       "    <tr>\n",
       "      <th>2025-03-05 10:29:00-06:00</th>\n",
       "      <td>05/03/2025</td>\n",
       "      <td>10:29:00</td>\n",
       "      <td>65.35</td>\n",
       "      <td>65.40</td>\n",
       "      <td>65.35</td>\n",
       "      <td>65.37</td>\n",
       "      <td>658</td>\n",
       "      <td>2025-03-05 10:29:00</td>\n",
       "      <td>0.015300</td>\n",
       "      <td>2025-03-05 09:30:00-06:00</td>\n",
       "      <td>59.0</td>\n",
       "      <td>59.0</td>\n",
       "      <td>0.00%</td>\n",
       "    </tr>\n",
       "    <tr>\n",
       "      <th>2025-03-05 10:30:00-06:00</th>\n",
       "      <td>05/03/2025</td>\n",
       "      <td>10:30:00</td>\n",
       "      <td>65.38</td>\n",
       "      <td>65.45</td>\n",
       "      <td>65.34</td>\n",
       "      <td>65.43</td>\n",
       "      <td>842</td>\n",
       "      <td>2025-03-05 10:30:00</td>\n",
       "      <td>0.091785</td>\n",
       "      <td>2025-03-05 09:30:00-06:00</td>\n",
       "      <td>60.0</td>\n",
       "      <td>60.0</td>\n",
       "      <td>0.05%</td>\n",
       "    </tr>\n",
       "  </tbody>\n",
       "</table>\n",
       "<p>88344 rows × 13 columns</p>\n",
       "</div>"
      ],
      "text/plain": [
       "                                 Date      Time    Open    High     Low  \\\n",
       "Datetime_CST                                                              \n",
       "2011-03-09 08:30:00-06:00  09/03/2011  08:30:00  105.56  105.56  105.44   \n",
       "2011-03-09 08:31:00-06:00  09/03/2011  08:31:00  105.46  105.52  105.45   \n",
       "2011-03-09 08:32:00-06:00  09/03/2011  08:32:00  105.45  105.47  105.31   \n",
       "2011-03-09 08:33:00-06:00  09/03/2011  08:33:00  105.31  105.37  105.25   \n",
       "2011-03-09 08:34:00-06:00  09/03/2011  08:34:00  105.34  105.45  105.31   \n",
       "...                               ...       ...     ...     ...     ...   \n",
       "2025-03-05 10:26:00-06:00  05/03/2025  10:26:00   65.42   65.46   65.37   \n",
       "2025-03-05 10:27:00-06:00  05/03/2025  10:27:00   65.37   65.41   65.37   \n",
       "2025-03-05 10:28:00-06:00  05/03/2025  10:28:00   65.40   65.42   65.33   \n",
       "2025-03-05 10:29:00-06:00  05/03/2025  10:29:00   65.35   65.40   65.35   \n",
       "2025-03-05 10:30:00-06:00  05/03/2025  10:30:00   65.38   65.45   65.34   \n",
       "\n",
       "                            Close  Volume            Datetime  Percent_Change  \\\n",
       "Datetime_CST                                                                    \n",
       "2011-03-09 08:30:00-06:00  105.46     514 2011-03-09 08:30:00       -0.094733   \n",
       "2011-03-09 08:31:00-06:00  105.46     323 2011-03-09 08:31:00        0.000000   \n",
       "2011-03-09 08:32:00-06:00  105.32     899 2011-03-09 08:32:00       -0.132752   \n",
       "2011-03-09 08:33:00-06:00  105.33     716 2011-03-09 08:33:00        0.009495   \n",
       "2011-03-09 08:34:00-06:00  105.40     660 2011-03-09 08:34:00        0.066458   \n",
       "...                           ...     ...                 ...             ...   \n",
       "2025-03-05 10:26:00-06:00   65.38     713 2025-03-05 10:26:00       -0.061143   \n",
       "2025-03-05 10:27:00-06:00   65.39     640 2025-03-05 10:27:00        0.015295   \n",
       "2025-03-05 10:28:00-06:00   65.36     796 2025-03-05 10:28:00       -0.045879   \n",
       "2025-03-05 10:29:00-06:00   65.37     658 2025-03-05 10:29:00        0.015300   \n",
       "2025-03-05 10:30:00-06:00   65.43     842 2025-03-05 10:30:00        0.091785   \n",
       "\n",
       "                                   Release_Datetime  Time_to_Release_Minutes  \\\n",
       "Datetime_CST                                                                   \n",
       "2011-03-09 08:30:00-06:00 2011-03-09 09:30:00-06:00                    -60.0   \n",
       "2011-03-09 08:31:00-06:00 2011-03-09 09:30:00-06:00                    -59.0   \n",
       "2011-03-09 08:32:00-06:00 2011-03-09 09:30:00-06:00                    -58.0   \n",
       "2011-03-09 08:33:00-06:00 2011-03-09 09:30:00-06:00                    -57.0   \n",
       "2011-03-09 08:34:00-06:00 2011-03-09 09:30:00-06:00                    -56.0   \n",
       "...                                             ...                      ...   \n",
       "2025-03-05 10:26:00-06:00 2025-03-05 09:30:00-06:00                     56.0   \n",
       "2025-03-05 10:27:00-06:00 2025-03-05 09:30:00-06:00                     57.0   \n",
       "2025-03-05 10:28:00-06:00 2025-03-05 09:30:00-06:00                     58.0   \n",
       "2025-03-05 10:29:00-06:00 2025-03-05 09:30:00-06:00                     59.0   \n",
       "2025-03-05 10:30:00-06:00 2025-03-05 09:30:00-06:00                     60.0   \n",
       "\n",
       "                           Time_Delta_Minutes Price_Change_Bin  \n",
       "Datetime_CST                                                    \n",
       "2011-03-09 08:30:00-06:00               -60.0           -0.10%  \n",
       "2011-03-09 08:31:00-06:00               -59.0           -0.05%  \n",
       "2011-03-09 08:32:00-06:00               -58.0           -0.15%  \n",
       "2011-03-09 08:33:00-06:00               -57.0            0.00%  \n",
       "2011-03-09 08:34:00-06:00               -56.0            0.05%  \n",
       "...                                       ...              ...  \n",
       "2025-03-05 10:26:00-06:00                56.0           -0.10%  \n",
       "2025-03-05 10:27:00-06:00                57.0            0.00%  \n",
       "2025-03-05 10:28:00-06:00                58.0           -0.05%  \n",
       "2025-03-05 10:29:00-06:00                59.0            0.00%  \n",
       "2025-03-05 10:30:00-06:00                60.0            0.05%  \n",
       "\n",
       "[88344 rows x 13 columns]"
      ]
     },
     "metadata": {},
     "output_type": "display_data"
    }
   ],
   "source": [
    "\n",
    "# Assume price_window_60min dataframe is already loaded and has 'Datetime', 'Close', and 'Release_Datetime' columns\n",
    "\n",
    "# 1. Calculate Price Changes Relative to Pre-Release Minute\n",
    "price_window_60min['Time_Delta_Minutes'] = price_window_60min.index - price_window_60min['Release_Datetime']\n",
    "price_window_60min['Time_Delta_Minutes'] = price_window_60min['Time_Delta_Minutes'].apply(lambda td: td.total_seconds() / 60)\n",
    "#price_window_60min['Price_Change'] = price_window_60min.groupby('Release_Datetime')['Close'].transform(lambda x: x - x.shift(1))\n",
    "#price_window_60min['Percent_Change'] = price_window_60min.groupby('Release_Datetime')['Close'].pct_change() * 100\n",
    "\n",
    "#price_window_60min = price_window_60min.dropna(subset=['Percent_Change']) # Remove rows where shift resulted in NaN\n",
    "\n",
    "# 2. Define Time Intervals and Price Change Bins for Heatmap\n",
    "time_intervals_release = sorted(price_window_60min['Time_Delta_Minutes'].unique())\n",
    "price_change_bins_release = np.linspace(-1, 1, num=41) # Example: Bins from -1% to +1% in 0.05% increments, adjust as needed\n",
    "price_change_labels_release = [f'{bin_val:.2f}%' for bin_val in price_change_bins] # Labels for bins\n",
    "\n",
    "# 3.  Bin Price Changes and Count Frequencies\n",
    "price_window_60min['Price_Change_Bin'] = pd.cut(price_window_60min['Percent_Change'], bins=price_change_bins, labels=price_change_labels[:-1], include_lowest=True)\n",
    "\n",
    "\n",
    "heatmap_data_release = price_window_60min.groupby(['Price_Change_Bin', 'Time_Delta_Minutes']).size().unstack(fill_value=0)\n",
    "\n",
    "# Reindex columns and rows to ensure all intervals and bins are present, even if count is zero\n",
    "heatmap_data_release = heatmap_data_release.reindex(columns=time_intervals, fill_value=0)\n",
    "heatmap_data_release = heatmap_data_release.reindex(index=price_change_labels[:-1], fill_value=0)\n",
    "\n",
    "# 4. Create Interactive Heatmap with Plotly\n",
    "fig_heatmap_release = go.Figure(data=go.Heatmap(\n",
    "    z=heatmap_data_release.values,\n",
    "    x=heatmap_data_release.columns,\n",
    "    y=heatmap_data.index,\n",
    "    colorscale='Viridis', # Choose a colorscale that suits your preference\n",
    "    colorbar=dict(title='Frequency')\n",
    "))\n",
    "\n",
    "fig_heatmap_release.update_layout(\n",
    "    title='Frequency of Percentage Price Changes Around EIA WPSR Release',\n",
    "    xaxis_title='Time Relative to Release (Minutes)',\n",
    "    yaxis_title='Percentage Price Change Bins',\n",
    "    yaxis=dict(autorange=\"reversed\"), # Invert y-axis to have positive changes at the top\n",
    "    xaxis=dict(tickvals=time_intervals[::5], ticktext=[int(x) for x in time_intervals[::5]]) # Show x-axis ticks every 5 minutes\n",
    ")\n",
    "\n",
    "fig_heatmap_release.show()\n",
    "display(price_window_60min)"
   ]
  },
  {
   "cell_type": "code",
   "execution_count": 58,
   "metadata": {},
   "outputs": [
    {
     "data": {
      "text/html": [
       "<div>\n",
       "<style scoped>\n",
       "    .dataframe tbody tr th:only-of-type {\n",
       "        vertical-align: middle;\n",
       "    }\n",
       "\n",
       "    .dataframe tbody tr th {\n",
       "        vertical-align: top;\n",
       "    }\n",
       "\n",
       "    .dataframe thead th {\n",
       "        text-align: right;\n",
       "    }\n",
       "</style>\n",
       "<table border=\"1\" class=\"dataframe\">\n",
       "  <thead>\n",
       "    <tr style=\"text-align: right;\">\n",
       "      <th></th>\n",
       "      <th>Date</th>\n",
       "      <th>Time</th>\n",
       "      <th>Open</th>\n",
       "      <th>High</th>\n",
       "      <th>Low</th>\n",
       "      <th>Close</th>\n",
       "      <th>Volume</th>\n",
       "      <th>Datetime</th>\n",
       "      <th>Percent_Change</th>\n",
       "    </tr>\n",
       "    <tr>\n",
       "      <th>Datetime_CST</th>\n",
       "      <th></th>\n",
       "      <th></th>\n",
       "      <th></th>\n",
       "      <th></th>\n",
       "      <th></th>\n",
       "      <th></th>\n",
       "      <th></th>\n",
       "      <th></th>\n",
       "      <th></th>\n",
       "    </tr>\n",
       "  </thead>\n",
       "  <tbody>\n",
       "    <tr>\n",
       "      <th>2011-03-07 23:59:00-06:00</th>\n",
       "      <td>07/03/2011</td>\n",
       "      <td>23:59:00</td>\n",
       "      <td>104.74</td>\n",
       "      <td>104.77</td>\n",
       "      <td>104.73</td>\n",
       "      <td>104.73</td>\n",
       "      <td>18</td>\n",
       "      <td>2011-03-07 23:59:00</td>\n",
       "      <td>NaN</td>\n",
       "    </tr>\n",
       "    <tr>\n",
       "      <th>2011-03-08 00:00:00-06:00</th>\n",
       "      <td>08/03/2011</td>\n",
       "      <td>00:00:00</td>\n",
       "      <td>104.74</td>\n",
       "      <td>104.82</td>\n",
       "      <td>104.74</td>\n",
       "      <td>104.81</td>\n",
       "      <td>34</td>\n",
       "      <td>2011-03-08 00:00:00</td>\n",
       "      <td>0.076387</td>\n",
       "    </tr>\n",
       "    <tr>\n",
       "      <th>2011-03-08 00:01:00-06:00</th>\n",
       "      <td>08/03/2011</td>\n",
       "      <td>00:01:00</td>\n",
       "      <td>104.82</td>\n",
       "      <td>104.84</td>\n",
       "      <td>104.82</td>\n",
       "      <td>104.82</td>\n",
       "      <td>12</td>\n",
       "      <td>2011-03-08 00:01:00</td>\n",
       "      <td>0.009541</td>\n",
       "    </tr>\n",
       "    <tr>\n",
       "      <th>2011-03-08 00:02:00-06:00</th>\n",
       "      <td>08/03/2011</td>\n",
       "      <td>00:02:00</td>\n",
       "      <td>104.81</td>\n",
       "      <td>104.81</td>\n",
       "      <td>104.73</td>\n",
       "      <td>104.75</td>\n",
       "      <td>20</td>\n",
       "      <td>2011-03-08 00:02:00</td>\n",
       "      <td>-0.066781</td>\n",
       "    </tr>\n",
       "    <tr>\n",
       "      <th>2011-03-08 00:03:00-06:00</th>\n",
       "      <td>08/03/2011</td>\n",
       "      <td>00:03:00</td>\n",
       "      <td>104.74</td>\n",
       "      <td>104.76</td>\n",
       "      <td>104.71</td>\n",
       "      <td>104.76</td>\n",
       "      <td>25</td>\n",
       "      <td>2011-03-08 00:03:00</td>\n",
       "      <td>0.009547</td>\n",
       "    </tr>\n",
       "    <tr>\n",
       "      <th>...</th>\n",
       "      <td>...</td>\n",
       "      <td>...</td>\n",
       "      <td>...</td>\n",
       "      <td>...</td>\n",
       "      <td>...</td>\n",
       "      <td>...</td>\n",
       "      <td>...</td>\n",
       "      <td>...</td>\n",
       "      <td>...</td>\n",
       "    </tr>\n",
       "    <tr>\n",
       "      <th>2025-03-11 23:54:00-05:00</th>\n",
       "      <td>11/03/2025</td>\n",
       "      <td>23:54:00</td>\n",
       "      <td>66.75</td>\n",
       "      <td>66.75</td>\n",
       "      <td>66.75</td>\n",
       "      <td>66.75</td>\n",
       "      <td>13</td>\n",
       "      <td>2025-03-11 23:54:00</td>\n",
       "      <td>0.000000</td>\n",
       "    </tr>\n",
       "    <tr>\n",
       "      <th>2025-03-11 23:56:00-05:00</th>\n",
       "      <td>11/03/2025</td>\n",
       "      <td>23:56:00</td>\n",
       "      <td>66.75</td>\n",
       "      <td>66.75</td>\n",
       "      <td>66.74</td>\n",
       "      <td>66.74</td>\n",
       "      <td>3</td>\n",
       "      <td>2025-03-11 23:56:00</td>\n",
       "      <td>-0.014981</td>\n",
       "    </tr>\n",
       "    <tr>\n",
       "      <th>2025-03-11 23:58:00-05:00</th>\n",
       "      <td>11/03/2025</td>\n",
       "      <td>23:58:00</td>\n",
       "      <td>66.75</td>\n",
       "      <td>66.75</td>\n",
       "      <td>66.75</td>\n",
       "      <td>66.75</td>\n",
       "      <td>3</td>\n",
       "      <td>2025-03-11 23:58:00</td>\n",
       "      <td>0.014984</td>\n",
       "    </tr>\n",
       "    <tr>\n",
       "      <th>2025-03-11 23:59:00-05:00</th>\n",
       "      <td>11/03/2025</td>\n",
       "      <td>23:59:00</td>\n",
       "      <td>66.75</td>\n",
       "      <td>66.75</td>\n",
       "      <td>66.75</td>\n",
       "      <td>66.75</td>\n",
       "      <td>1</td>\n",
       "      <td>2025-03-11 23:59:00</td>\n",
       "      <td>0.000000</td>\n",
       "    </tr>\n",
       "    <tr>\n",
       "      <th>2025-03-12 00:00:00-05:00</th>\n",
       "      <td>12/03/2025</td>\n",
       "      <td>00:00:00</td>\n",
       "      <td>66.74</td>\n",
       "      <td>66.76</td>\n",
       "      <td>66.71</td>\n",
       "      <td>66.75</td>\n",
       "      <td>41</td>\n",
       "      <td>2025-03-12 00:00:00</td>\n",
       "      <td>0.000000</td>\n",
       "    </tr>\n",
       "  </tbody>\n",
       "</table>\n",
       "<p>4811559 rows × 9 columns</p>\n",
       "</div>"
      ],
      "text/plain": [
       "                                 Date      Time    Open    High     Low  \\\n",
       "Datetime_CST                                                              \n",
       "2011-03-07 23:59:00-06:00  07/03/2011  23:59:00  104.74  104.77  104.73   \n",
       "2011-03-08 00:00:00-06:00  08/03/2011  00:00:00  104.74  104.82  104.74   \n",
       "2011-03-08 00:01:00-06:00  08/03/2011  00:01:00  104.82  104.84  104.82   \n",
       "2011-03-08 00:02:00-06:00  08/03/2011  00:02:00  104.81  104.81  104.73   \n",
       "2011-03-08 00:03:00-06:00  08/03/2011  00:03:00  104.74  104.76  104.71   \n",
       "...                               ...       ...     ...     ...     ...   \n",
       "2025-03-11 23:54:00-05:00  11/03/2025  23:54:00   66.75   66.75   66.75   \n",
       "2025-03-11 23:56:00-05:00  11/03/2025  23:56:00   66.75   66.75   66.74   \n",
       "2025-03-11 23:58:00-05:00  11/03/2025  23:58:00   66.75   66.75   66.75   \n",
       "2025-03-11 23:59:00-05:00  11/03/2025  23:59:00   66.75   66.75   66.75   \n",
       "2025-03-12 00:00:00-05:00  12/03/2025  00:00:00   66.74   66.76   66.71   \n",
       "\n",
       "                            Close  Volume            Datetime  Percent_Change  \n",
       "Datetime_CST                                                                   \n",
       "2011-03-07 23:59:00-06:00  104.73      18 2011-03-07 23:59:00             NaN  \n",
       "2011-03-08 00:00:00-06:00  104.81      34 2011-03-08 00:00:00        0.076387  \n",
       "2011-03-08 00:01:00-06:00  104.82      12 2011-03-08 00:01:00        0.009541  \n",
       "2011-03-08 00:02:00-06:00  104.75      20 2011-03-08 00:02:00       -0.066781  \n",
       "2011-03-08 00:03:00-06:00  104.76      25 2011-03-08 00:03:00        0.009547  \n",
       "...                           ...     ...                 ...             ...  \n",
       "2025-03-11 23:54:00-05:00   66.75      13 2025-03-11 23:54:00        0.000000  \n",
       "2025-03-11 23:56:00-05:00   66.74       3 2025-03-11 23:56:00       -0.014981  \n",
       "2025-03-11 23:58:00-05:00   66.75       3 2025-03-11 23:58:00        0.014984  \n",
       "2025-03-11 23:59:00-05:00   66.75       1 2025-03-11 23:59:00        0.000000  \n",
       "2025-03-12 00:00:00-05:00   66.75      41 2025-03-12 00:00:00        0.000000  \n",
       "\n",
       "[4811559 rows x 9 columns]"
      ]
     },
     "metadata": {},
     "output_type": "display_data"
    },
    {
     "data": {
      "text/html": [
       "<div>\n",
       "<style scoped>\n",
       "    .dataframe tbody tr th:only-of-type {\n",
       "        vertical-align: middle;\n",
       "    }\n",
       "\n",
       "    .dataframe tbody tr th {\n",
       "        vertical-align: top;\n",
       "    }\n",
       "\n",
       "    .dataframe thead th {\n",
       "        text-align: right;\n",
       "    }\n",
       "</style>\n",
       "<table border=\"1\" class=\"dataframe\">\n",
       "  <thead>\n",
       "    <tr style=\"text-align: right;\">\n",
       "      <th></th>\n",
       "      <th>Release Date</th>\n",
       "      <th>Time</th>\n",
       "      <th>Actual</th>\n",
       "      <th>Forecast</th>\n",
       "      <th>Previous</th>\n",
       "      <th>Release_Datetime</th>\n",
       "      <th>Release_Datetime_EST</th>\n",
       "      <th>supply_surprise</th>\n",
       "    </tr>\n",
       "    <tr>\n",
       "      <th>Release_Datetime_CST</th>\n",
       "      <th></th>\n",
       "      <th></th>\n",
       "      <th></th>\n",
       "      <th></th>\n",
       "      <th></th>\n",
       "      <th></th>\n",
       "      <th></th>\n",
       "      <th></th>\n",
       "    </tr>\n",
       "  </thead>\n",
       "  <tbody>\n",
       "    <tr>\n",
       "      <th>2011-03-09 09:30:00-06:00</th>\n",
       "      <td>9-Mar-11</td>\n",
       "      <td>10:30</td>\n",
       "      <td>2.500M</td>\n",
       "      <td>1.100M</td>\n",
       "      <td>-0.400M</td>\n",
       "      <td>2011-03-09 10:30:00</td>\n",
       "      <td>2011-03-09 10:30:00-05:00</td>\n",
       "      <td>1.400</td>\n",
       "    </tr>\n",
       "    <tr>\n",
       "      <th>2011-03-16 08:30:00-05:00</th>\n",
       "      <td>16-Mar-11</td>\n",
       "      <td>9:30</td>\n",
       "      <td>1.700M</td>\n",
       "      <td>1.800M</td>\n",
       "      <td>2.500M</td>\n",
       "      <td>2011-03-16 09:30:00</td>\n",
       "      <td>2011-03-16 09:30:00-04:00</td>\n",
       "      <td>-0.100</td>\n",
       "    </tr>\n",
       "    <tr>\n",
       "      <th>2011-03-23 08:30:00-05:00</th>\n",
       "      <td>23-Mar-11</td>\n",
       "      <td>9:30</td>\n",
       "      <td>2.100M</td>\n",
       "      <td>2.000M</td>\n",
       "      <td>1.700M</td>\n",
       "      <td>2011-03-23 09:30:00</td>\n",
       "      <td>2011-03-23 09:30:00-04:00</td>\n",
       "      <td>0.100</td>\n",
       "    </tr>\n",
       "    <tr>\n",
       "      <th>2011-03-30 08:30:00-05:00</th>\n",
       "      <td>30-Mar-11</td>\n",
       "      <td>9:30</td>\n",
       "      <td>2.900M</td>\n",
       "      <td>2.000M</td>\n",
       "      <td>2.100M</td>\n",
       "      <td>2011-03-30 09:30:00</td>\n",
       "      <td>2011-03-30 09:30:00-04:00</td>\n",
       "      <td>0.900</td>\n",
       "    </tr>\n",
       "    <tr>\n",
       "      <th>2011-04-06 08:30:00-05:00</th>\n",
       "      <td>6-Apr-11</td>\n",
       "      <td>9:30</td>\n",
       "      <td>2.000M</td>\n",
       "      <td>1.300M</td>\n",
       "      <td>2.900M</td>\n",
       "      <td>2011-04-06 09:30:00</td>\n",
       "      <td>2011-04-06 09:30:00-04:00</td>\n",
       "      <td>0.700</td>\n",
       "    </tr>\n",
       "    <tr>\n",
       "      <th>...</th>\n",
       "      <td>...</td>\n",
       "      <td>...</td>\n",
       "      <td>...</td>\n",
       "      <td>...</td>\n",
       "      <td>...</td>\n",
       "      <td>...</td>\n",
       "      <td>...</td>\n",
       "      <td>...</td>\n",
       "    </tr>\n",
       "    <tr>\n",
       "      <th>2025-02-12 09:30:00-06:00</th>\n",
       "      <td>12-Feb-25</td>\n",
       "      <td>10:30</td>\n",
       "      <td>4.070M</td>\n",
       "      <td>2.400M</td>\n",
       "      <td>8.664M</td>\n",
       "      <td>2025-02-12 10:30:00</td>\n",
       "      <td>2025-02-12 10:30:00-05:00</td>\n",
       "      <td>1.670</td>\n",
       "    </tr>\n",
       "    <tr>\n",
       "      <th>2025-02-20 11:00:00-06:00</th>\n",
       "      <td>20-Feb-25</td>\n",
       "      <td>12:00</td>\n",
       "      <td>4.633M</td>\n",
       "      <td>3.200M</td>\n",
       "      <td>4.070M</td>\n",
       "      <td>2025-02-20 12:00:00</td>\n",
       "      <td>2025-02-20 12:00:00-05:00</td>\n",
       "      <td>1.433</td>\n",
       "    </tr>\n",
       "    <tr>\n",
       "      <th>2025-02-26 09:00:00-06:00</th>\n",
       "      <td>26-Feb-25</td>\n",
       "      <td>10:00</td>\n",
       "      <td>-2.332M</td>\n",
       "      <td>2.500M</td>\n",
       "      <td>4.633M</td>\n",
       "      <td>2025-02-26 10:00:00</td>\n",
       "      <td>2025-02-26 10:00:00-05:00</td>\n",
       "      <td>-4.832</td>\n",
       "    </tr>\n",
       "    <tr>\n",
       "      <th>2025-03-05 09:30:00-06:00</th>\n",
       "      <td>5-Mar-25</td>\n",
       "      <td>10:30</td>\n",
       "      <td>3.614M</td>\n",
       "      <td>0.600M</td>\n",
       "      <td>-2.332M</td>\n",
       "      <td>2025-03-05 10:30:00</td>\n",
       "      <td>2025-03-05 10:30:00-05:00</td>\n",
       "      <td>3.014</td>\n",
       "    </tr>\n",
       "    <tr>\n",
       "      <th>2025-03-12 07:30:00-05:00</th>\n",
       "      <td>12-Mar-25</td>\n",
       "      <td>8:30</td>\n",
       "      <td>NaN</td>\n",
       "      <td>NaN</td>\n",
       "      <td>3.614M</td>\n",
       "      <td>2025-03-12 08:30:00</td>\n",
       "      <td>2025-03-12 08:30:00-04:00</td>\n",
       "      <td>NaN</td>\n",
       "    </tr>\n",
       "  </tbody>\n",
       "</table>\n",
       "<p>732 rows × 8 columns</p>\n",
       "</div>"
      ],
      "text/plain": [
       "                          Release Date   Time   Actual Forecast Previous  \\\n",
       "Release_Datetime_CST                                                       \n",
       "2011-03-09 09:30:00-06:00     9-Mar-11  10:30   2.500M   1.100M  -0.400M   \n",
       "2011-03-16 08:30:00-05:00    16-Mar-11   9:30   1.700M   1.800M   2.500M   \n",
       "2011-03-23 08:30:00-05:00    23-Mar-11   9:30   2.100M   2.000M   1.700M   \n",
       "2011-03-30 08:30:00-05:00    30-Mar-11   9:30   2.900M   2.000M   2.100M   \n",
       "2011-04-06 08:30:00-05:00     6-Apr-11   9:30   2.000M   1.300M   2.900M   \n",
       "...                                ...    ...      ...      ...      ...   \n",
       "2025-02-12 09:30:00-06:00    12-Feb-25  10:30   4.070M   2.400M   8.664M   \n",
       "2025-02-20 11:00:00-06:00    20-Feb-25  12:00   4.633M   3.200M   4.070M   \n",
       "2025-02-26 09:00:00-06:00    26-Feb-25  10:00  -2.332M   2.500M   4.633M   \n",
       "2025-03-05 09:30:00-06:00     5-Mar-25  10:30   3.614M   0.600M  -2.332M   \n",
       "2025-03-12 07:30:00-05:00    12-Mar-25   8:30      NaN      NaN   3.614M   \n",
       "\n",
       "                             Release_Datetime      Release_Datetime_EST  \\\n",
       "Release_Datetime_CST                                                      \n",
       "2011-03-09 09:30:00-06:00 2011-03-09 10:30:00 2011-03-09 10:30:00-05:00   \n",
       "2011-03-16 08:30:00-05:00 2011-03-16 09:30:00 2011-03-16 09:30:00-04:00   \n",
       "2011-03-23 08:30:00-05:00 2011-03-23 09:30:00 2011-03-23 09:30:00-04:00   \n",
       "2011-03-30 08:30:00-05:00 2011-03-30 09:30:00 2011-03-30 09:30:00-04:00   \n",
       "2011-04-06 08:30:00-05:00 2011-04-06 09:30:00 2011-04-06 09:30:00-04:00   \n",
       "...                                       ...                       ...   \n",
       "2025-02-12 09:30:00-06:00 2025-02-12 10:30:00 2025-02-12 10:30:00-05:00   \n",
       "2025-02-20 11:00:00-06:00 2025-02-20 12:00:00 2025-02-20 12:00:00-05:00   \n",
       "2025-02-26 09:00:00-06:00 2025-02-26 10:00:00 2025-02-26 10:00:00-05:00   \n",
       "2025-03-05 09:30:00-06:00 2025-03-05 10:30:00 2025-03-05 10:30:00-05:00   \n",
       "2025-03-12 07:30:00-05:00 2025-03-12 08:30:00 2025-03-12 08:30:00-04:00   \n",
       "\n",
       "                           supply_surprise  \n",
       "Release_Datetime_CST                        \n",
       "2011-03-09 09:30:00-06:00            1.400  \n",
       "2011-03-16 08:30:00-05:00           -0.100  \n",
       "2011-03-23 08:30:00-05:00            0.100  \n",
       "2011-03-30 08:30:00-05:00            0.900  \n",
       "2011-04-06 08:30:00-05:00            0.700  \n",
       "...                                    ...  \n",
       "2025-02-12 09:30:00-06:00            1.670  \n",
       "2025-02-20 11:00:00-06:00            1.433  \n",
       "2025-02-26 09:00:00-06:00           -4.832  \n",
       "2025-03-05 09:30:00-06:00            3.014  \n",
       "2025-03-12 07:30:00-05:00              NaN  \n",
       "\n",
       "[732 rows x 8 columns]"
      ]
     },
     "metadata": {},
     "output_type": "display_data"
    }
   ],
   "source": [
    "display(min_WTI)\n",
    "display(icom_eia_forecasts)"
   ]
  },
  {
   "cell_type": "code",
   "execution_count": 59,
   "metadata": {},
   "outputs": [
    {
     "data": {
      "text/plain": [
       "np.int64(3840660)"
      ]
     },
     "metadata": {},
     "output_type": "display_data"
    },
    {
     "name": "stdout",
     "output_type": "stream",
     "text": [
      "Original min_WTI date range: 2011-03-07 to 2025-03-12\n",
      "Filtered min_WTI date range (EIA days removed): 2011-03-07 to 2025-03-11\n",
      "Original min_WTI rows: 4811559\n",
      "Filtered min_WTI rows (EIA days removed): 3840660\n"
     ]
    },
    {
     "data": {
      "text/html": [
       "<div>\n",
       "<style scoped>\n",
       "    .dataframe tbody tr th:only-of-type {\n",
       "        vertical-align: middle;\n",
       "    }\n",
       "\n",
       "    .dataframe tbody tr th {\n",
       "        vertical-align: top;\n",
       "    }\n",
       "\n",
       "    .dataframe thead th {\n",
       "        text-align: right;\n",
       "    }\n",
       "</style>\n",
       "<table border=\"1\" class=\"dataframe\">\n",
       "  <thead>\n",
       "    <tr style=\"text-align: right;\">\n",
       "      <th></th>\n",
       "      <th>Datetime_CST</th>\n",
       "      <th>Date</th>\n",
       "      <th>Time</th>\n",
       "      <th>Open</th>\n",
       "      <th>High</th>\n",
       "      <th>Low</th>\n",
       "      <th>Close</th>\n",
       "      <th>Volume</th>\n",
       "      <th>Datetime</th>\n",
       "      <th>Percent_Change</th>\n",
       "    </tr>\n",
       "  </thead>\n",
       "  <tbody>\n",
       "    <tr>\n",
       "      <th>0</th>\n",
       "      <td>2011-03-07 23:59:00-06:00</td>\n",
       "      <td>07/03/2011</td>\n",
       "      <td>23:59:00</td>\n",
       "      <td>104.74</td>\n",
       "      <td>104.77</td>\n",
       "      <td>104.73</td>\n",
       "      <td>104.73</td>\n",
       "      <td>18</td>\n",
       "      <td>2011-03-07 23:59:00</td>\n",
       "      <td>NaN</td>\n",
       "    </tr>\n",
       "    <tr>\n",
       "      <th>1</th>\n",
       "      <td>2011-03-08 00:00:00-06:00</td>\n",
       "      <td>08/03/2011</td>\n",
       "      <td>00:00:00</td>\n",
       "      <td>104.74</td>\n",
       "      <td>104.82</td>\n",
       "      <td>104.74</td>\n",
       "      <td>104.81</td>\n",
       "      <td>34</td>\n",
       "      <td>2011-03-08 00:00:00</td>\n",
       "      <td>0.076387</td>\n",
       "    </tr>\n",
       "    <tr>\n",
       "      <th>2</th>\n",
       "      <td>2011-03-08 00:01:00-06:00</td>\n",
       "      <td>08/03/2011</td>\n",
       "      <td>00:01:00</td>\n",
       "      <td>104.82</td>\n",
       "      <td>104.84</td>\n",
       "      <td>104.82</td>\n",
       "      <td>104.82</td>\n",
       "      <td>12</td>\n",
       "      <td>2011-03-08 00:01:00</td>\n",
       "      <td>0.009541</td>\n",
       "    </tr>\n",
       "    <tr>\n",
       "      <th>3</th>\n",
       "      <td>2011-03-08 00:02:00-06:00</td>\n",
       "      <td>08/03/2011</td>\n",
       "      <td>00:02:00</td>\n",
       "      <td>104.81</td>\n",
       "      <td>104.81</td>\n",
       "      <td>104.73</td>\n",
       "      <td>104.75</td>\n",
       "      <td>20</td>\n",
       "      <td>2011-03-08 00:02:00</td>\n",
       "      <td>-0.066781</td>\n",
       "    </tr>\n",
       "    <tr>\n",
       "      <th>4</th>\n",
       "      <td>2011-03-08 00:03:00-06:00</td>\n",
       "      <td>08/03/2011</td>\n",
       "      <td>00:03:00</td>\n",
       "      <td>104.74</td>\n",
       "      <td>104.76</td>\n",
       "      <td>104.71</td>\n",
       "      <td>104.76</td>\n",
       "      <td>25</td>\n",
       "      <td>2011-03-08 00:03:00</td>\n",
       "      <td>0.009547</td>\n",
       "    </tr>\n",
       "    <tr>\n",
       "      <th>...</th>\n",
       "      <td>...</td>\n",
       "      <td>...</td>\n",
       "      <td>...</td>\n",
       "      <td>...</td>\n",
       "      <td>...</td>\n",
       "      <td>...</td>\n",
       "      <td>...</td>\n",
       "      <td>...</td>\n",
       "      <td>...</td>\n",
       "      <td>...</td>\n",
       "    </tr>\n",
       "    <tr>\n",
       "      <th>4811553</th>\n",
       "      <td>2025-03-11 23:53:00-05:00</td>\n",
       "      <td>11/03/2025</td>\n",
       "      <td>23:53:00</td>\n",
       "      <td>66.75</td>\n",
       "      <td>66.76</td>\n",
       "      <td>66.74</td>\n",
       "      <td>66.75</td>\n",
       "      <td>23</td>\n",
       "      <td>2025-03-11 23:53:00</td>\n",
       "      <td>0.000000</td>\n",
       "    </tr>\n",
       "    <tr>\n",
       "      <th>4811554</th>\n",
       "      <td>2025-03-11 23:54:00-05:00</td>\n",
       "      <td>11/03/2025</td>\n",
       "      <td>23:54:00</td>\n",
       "      <td>66.75</td>\n",
       "      <td>66.75</td>\n",
       "      <td>66.75</td>\n",
       "      <td>66.75</td>\n",
       "      <td>13</td>\n",
       "      <td>2025-03-11 23:54:00</td>\n",
       "      <td>0.000000</td>\n",
       "    </tr>\n",
       "    <tr>\n",
       "      <th>4811555</th>\n",
       "      <td>2025-03-11 23:56:00-05:00</td>\n",
       "      <td>11/03/2025</td>\n",
       "      <td>23:56:00</td>\n",
       "      <td>66.75</td>\n",
       "      <td>66.75</td>\n",
       "      <td>66.74</td>\n",
       "      <td>66.74</td>\n",
       "      <td>3</td>\n",
       "      <td>2025-03-11 23:56:00</td>\n",
       "      <td>-0.014981</td>\n",
       "    </tr>\n",
       "    <tr>\n",
       "      <th>4811556</th>\n",
       "      <td>2025-03-11 23:58:00-05:00</td>\n",
       "      <td>11/03/2025</td>\n",
       "      <td>23:58:00</td>\n",
       "      <td>66.75</td>\n",
       "      <td>66.75</td>\n",
       "      <td>66.75</td>\n",
       "      <td>66.75</td>\n",
       "      <td>3</td>\n",
       "      <td>2025-03-11 23:58:00</td>\n",
       "      <td>0.014984</td>\n",
       "    </tr>\n",
       "    <tr>\n",
       "      <th>4811557</th>\n",
       "      <td>2025-03-11 23:59:00-05:00</td>\n",
       "      <td>11/03/2025</td>\n",
       "      <td>23:59:00</td>\n",
       "      <td>66.75</td>\n",
       "      <td>66.75</td>\n",
       "      <td>66.75</td>\n",
       "      <td>66.75</td>\n",
       "      <td>1</td>\n",
       "      <td>2025-03-11 23:59:00</td>\n",
       "      <td>0.000000</td>\n",
       "    </tr>\n",
       "  </tbody>\n",
       "</table>\n",
       "<p>3840660 rows × 10 columns</p>\n",
       "</div>"
      ],
      "text/plain": [
       "                     Datetime_CST        Date      Time    Open    High  \\\n",
       "0       2011-03-07 23:59:00-06:00  07/03/2011  23:59:00  104.74  104.77   \n",
       "1       2011-03-08 00:00:00-06:00  08/03/2011  00:00:00  104.74  104.82   \n",
       "2       2011-03-08 00:01:00-06:00  08/03/2011  00:01:00  104.82  104.84   \n",
       "3       2011-03-08 00:02:00-06:00  08/03/2011  00:02:00  104.81  104.81   \n",
       "4       2011-03-08 00:03:00-06:00  08/03/2011  00:03:00  104.74  104.76   \n",
       "...                           ...         ...       ...     ...     ...   \n",
       "4811553 2025-03-11 23:53:00-05:00  11/03/2025  23:53:00   66.75   66.76   \n",
       "4811554 2025-03-11 23:54:00-05:00  11/03/2025  23:54:00   66.75   66.75   \n",
       "4811555 2025-03-11 23:56:00-05:00  11/03/2025  23:56:00   66.75   66.75   \n",
       "4811556 2025-03-11 23:58:00-05:00  11/03/2025  23:58:00   66.75   66.75   \n",
       "4811557 2025-03-11 23:59:00-05:00  11/03/2025  23:59:00   66.75   66.75   \n",
       "\n",
       "            Low   Close  Volume            Datetime  Percent_Change  \n",
       "0        104.73  104.73      18 2011-03-07 23:59:00             NaN  \n",
       "1        104.74  104.81      34 2011-03-08 00:00:00        0.076387  \n",
       "2        104.82  104.82      12 2011-03-08 00:01:00        0.009541  \n",
       "3        104.73  104.75      20 2011-03-08 00:02:00       -0.066781  \n",
       "4        104.71  104.76      25 2011-03-08 00:03:00        0.009547  \n",
       "...         ...     ...     ...                 ...             ...  \n",
       "4811553   66.74   66.75      23 2025-03-11 23:53:00        0.000000  \n",
       "4811554   66.75   66.75      13 2025-03-11 23:54:00        0.000000  \n",
       "4811555   66.74   66.74       3 2025-03-11 23:56:00       -0.014981  \n",
       "4811556   66.75   66.75       3 2025-03-11 23:58:00        0.014984  \n",
       "4811557   66.75   66.75       1 2025-03-11 23:59:00        0.000000  \n",
       "\n",
       "[3840660 rows x 10 columns]"
      ]
     },
     "metadata": {},
     "output_type": "display_data"
    }
   ],
   "source": [
    "\n",
    "# 1. Extract the *dates* of EIA releases from 'icom_eia_forecasts'\n",
    "eia_release_dates = icom_eia_forecasts.reset_index()['Release_Datetime_CST'].dt.date\n",
    "# 2. Extract the *dates* from 'min_WTI['Datetime_Chicago_Aware']'\n",
    "min_wti_dates = min_WTI.reset_index()['Datetime_CST'].dt.date\n",
    "# 3. Identify dates in 'min_WTI' that are *not* in the EIA release dates list\n",
    "#    We use `.isin()` to check if each date in 'min_wti_dates' is present in 'eia_release_dates'\n",
    "#    Then we negate it with `~` to get the dates that are *not* in the EIA release dates.\n",
    "mask_non_eia_days = ~min_wti_dates.isin(eia_release_dates)\n",
    "display(mask_non_eia_days.sum())\n",
    "\n",
    "# 4. Apply the mask to filter 'min_WTI'\n",
    "min_WTI_no_eia_days = min_WTI.reset_index()[mask_non_eia_days].copy() # Use .copy() to avoid SettingWithCopyWarning if you modify later\n",
    "\n",
    "# 5. (Optional) Verify the filtering - check the date ranges of the original and filtered dataframes\n",
    "print(\"Original min_WTI date range:\", min_WTI.reset_index()['Datetime_CST'].dt.date.min(), \"to\", min_WTI.reset_index()['Datetime_CST'].dt.date.max())\n",
    "print(\"Filtered min_WTI date range (EIA days removed):\", min_WTI_no_eia_days['Datetime_CST'].dt.date.min(), \"to\", min_WTI_no_eia_days['Datetime_CST'].dt.date.max())\n",
    "\n",
    "# 6. (Optional) Count rows before and after filtering\n",
    "print(f\"Original min_WTI rows: {len(min_WTI)}\")\n",
    "print(f\"Filtered min_WTI rows (EIA days removed): {len(min_WTI_no_eia_days)}\")\n",
    "\n",
    "# Now 'min_WTI_no_eia_days' contains your minute-resolution WTI data,\n",
    "# with all rows from days that had an EIA release removed.\n",
    "\n",
    "# You can proceed with your analysis (e.g., recalculating percentage price changes, histograms)\n",
    "# using 'min_WTI_no_eia_days' instead of 'min_WTI'.\n",
    "display(min_WTI_no_eia_days)"
   ]
  },
  {
   "cell_type": "code",
   "execution_count": 60,
   "metadata": {},
   "outputs": [
    {
     "name": "stdout",
     "output_type": "stream",
     "text": [
      "                Datetime_CST      Release_Datetime_CST  Actual Forecast\n",
      "0  2011-03-07 23:59:00-06:00 2011-03-09 09:30:00-06:00  2.500M   1.100M\n",
      "1  2011-03-08 00:00:00-06:00 2011-03-09 09:30:00-06:00  2.500M   1.100M\n",
      "2  2011-03-08 00:01:00-06:00 2011-03-09 09:30:00-06:00  2.500M   1.100M\n",
      "3  2011-03-08 00:02:00-06:00 2011-03-09 09:30:00-06:00  2.500M   1.100M\n",
      "4  2011-03-08 00:03:00-06:00 2011-03-09 09:30:00-06:00  2.500M   1.100M\n",
      "5  2011-03-08 00:04:00-06:00 2011-03-09 09:30:00-06:00  2.500M   1.100M\n",
      "6  2011-03-08 00:05:00-06:00 2011-03-09 09:30:00-06:00  2.500M   1.100M\n",
      "7  2011-03-08 00:06:00-06:00 2011-03-09 09:30:00-06:00  2.500M   1.100M\n",
      "8  2011-03-08 00:07:00-06:00 2011-03-09 09:30:00-06:00  2.500M   1.100M\n",
      "9  2011-03-08 00:08:00-06:00 2011-03-09 09:30:00-06:00  2.500M   1.100M\n",
      "10 2011-03-08 00:09:00-06:00 2011-03-09 09:30:00-06:00  2.500M   1.100M\n",
      "11 2011-03-08 00:10:00-06:00 2011-03-09 09:30:00-06:00  2.500M   1.100M\n",
      "12 2011-03-08 00:11:00-06:00 2011-03-09 09:30:00-06:00  2.500M   1.100M\n",
      "13 2011-03-08 00:12:00-06:00 2011-03-09 09:30:00-06:00  2.500M   1.100M\n",
      "14 2011-03-08 00:13:00-06:00 2011-03-09 09:30:00-06:00  2.500M   1.100M\n",
      "15 2011-03-08 00:14:00-06:00 2011-03-09 09:30:00-06:00  2.500M   1.100M\n",
      "16 2011-03-08 00:15:00-06:00 2011-03-09 09:30:00-06:00  2.500M   1.100M\n",
      "17 2011-03-08 00:16:00-06:00 2011-03-09 09:30:00-06:00  2.500M   1.100M\n",
      "18 2011-03-08 00:17:00-06:00 2011-03-09 09:30:00-06:00  2.500M   1.100M\n",
      "19 2011-03-08 00:18:00-06:00 2011-03-09 09:30:00-06:00  2.500M   1.100M\n",
      "                           index        Date    Time_x    Open    High  \\\n",
      "Datetime_CST                                                             \n",
      "2011-03-07 23:59:00-06:00      0  07/03/2011  23:59:00  104.74  104.77   \n",
      "2011-03-08 00:00:00-06:00      1  08/03/2011  00:00:00  104.74  104.82   \n",
      "2011-03-08 00:01:00-06:00      2  08/03/2011  00:01:00  104.82  104.84   \n",
      "2011-03-08 00:02:00-06:00      3  08/03/2011  00:02:00  104.81  104.81   \n",
      "2011-03-08 00:03:00-06:00      4  08/03/2011  00:03:00  104.74  104.76   \n",
      "2011-03-08 00:04:00-06:00      5  08/03/2011  00:04:00  104.74  104.74   \n",
      "2011-03-08 00:05:00-06:00      6  08/03/2011  00:05:00  104.71  104.71   \n",
      "2011-03-08 00:06:00-06:00      7  08/03/2011  00:06:00  104.67  104.67   \n",
      "2011-03-08 00:07:00-06:00      8  08/03/2011  00:07:00  104.65  104.67   \n",
      "2011-03-08 00:08:00-06:00      9  08/03/2011  00:08:00  104.62  104.67   \n",
      "2011-03-08 00:09:00-06:00     10  08/03/2011  00:09:00  104.63  104.64   \n",
      "2011-03-08 00:10:00-06:00     11  08/03/2011  00:10:00  104.60  104.60   \n",
      "2011-03-08 00:11:00-06:00     12  08/03/2011  00:11:00  104.58  104.65   \n",
      "2011-03-08 00:12:00-06:00     13  08/03/2011  00:12:00  104.65  104.66   \n",
      "2011-03-08 00:13:00-06:00     14  08/03/2011  00:13:00  104.54  104.57   \n",
      "2011-03-08 00:14:00-06:00     15  08/03/2011  00:14:00  104.54  104.54   \n",
      "2011-03-08 00:15:00-06:00     16  08/03/2011  00:15:00  104.36  104.37   \n",
      "2011-03-08 00:16:00-06:00     17  08/03/2011  00:16:00  104.29  104.30   \n",
      "2011-03-08 00:17:00-06:00     18  08/03/2011  00:17:00  104.15  104.17   \n",
      "2011-03-08 00:18:00-06:00     19  08/03/2011  00:18:00  104.08  104.14   \n",
      "2011-03-08 00:19:00-06:00     20  08/03/2011  00:19:00  103.84  103.95   \n",
      "2011-03-08 00:20:00-06:00     21  08/03/2011  00:20:00  103.90  103.94   \n",
      "2011-03-08 00:21:00-06:00     22  08/03/2011  00:21:00  103.94  103.97   \n",
      "2011-03-08 00:22:00-06:00     23  08/03/2011  00:22:00  103.92  104.13   \n",
      "2011-03-08 00:23:00-06:00     24  08/03/2011  00:23:00  103.93  103.99   \n",
      "2011-03-08 00:24:00-06:00     25  08/03/2011  00:24:00  103.93  103.93   \n",
      "2011-03-08 00:25:00-06:00     26  08/03/2011  00:25:00  103.90  103.97   \n",
      "2011-03-08 00:26:00-06:00     27  08/03/2011  00:26:00  103.97  103.97   \n",
      "2011-03-08 00:27:00-06:00     28  08/03/2011  00:27:00  103.81  103.87   \n",
      "2011-03-08 00:28:00-06:00     29  08/03/2011  00:28:00  103.84  103.92   \n",
      "2011-03-08 00:29:00-06:00     30  08/03/2011  00:29:00  103.89  103.98   \n",
      "2011-03-08 00:30:00-06:00     31  08/03/2011  00:30:00  103.91  103.95   \n",
      "2011-03-08 00:31:00-06:00     32  08/03/2011  00:31:00  103.89  103.93   \n",
      "2011-03-08 00:32:00-06:00     33  08/03/2011  00:32:00  103.94  103.94   \n",
      "2011-03-08 00:33:00-06:00     34  08/03/2011  00:33:00  103.93  103.95   \n",
      "2011-03-08 00:34:00-06:00     35  08/03/2011  00:34:00  103.92  104.00   \n",
      "2011-03-08 00:35:00-06:00     36  08/03/2011  00:35:00  103.99  104.11   \n",
      "2011-03-08 00:36:00-06:00     37  08/03/2011  00:36:00  104.08  104.10   \n",
      "2011-03-08 00:37:00-06:00     38  08/03/2011  00:37:00  104.03  104.06   \n",
      "2011-03-08 00:38:00-06:00     39  08/03/2011  00:38:00  104.07  104.09   \n",
      "2011-03-08 00:39:00-06:00     40  08/03/2011  00:39:00  104.03  104.08   \n",
      "2011-03-08 00:40:00-06:00     41  08/03/2011  00:40:00  104.07  104.10   \n",
      "2011-03-08 00:41:00-06:00     42  08/03/2011  00:41:00  104.12  104.14   \n",
      "2011-03-08 00:42:00-06:00     43  08/03/2011  00:42:00  104.14  104.26   \n",
      "2011-03-08 00:43:00-06:00     44  08/03/2011  00:43:00  104.22  104.26   \n",
      "2011-03-08 00:44:00-06:00     45  08/03/2011  00:44:00  104.21  104.24   \n",
      "2011-03-08 00:45:00-06:00     46  08/03/2011  00:45:00  104.20  104.21   \n",
      "2011-03-08 00:46:00-06:00     47  08/03/2011  00:46:00  104.13  104.21   \n",
      "2011-03-08 00:47:00-06:00     48  08/03/2011  00:47:00  104.05  104.06   \n",
      "2011-03-08 00:48:00-06:00     49  08/03/2011  00:48:00  103.96  104.07   \n",
      "\n",
      "                              Low   Close  Volume            Datetime  \\\n",
      "Datetime_CST                                                            \n",
      "2011-03-07 23:59:00-06:00  104.73  104.73      18 2011-03-07 23:59:00   \n",
      "2011-03-08 00:00:00-06:00  104.74  104.81      34 2011-03-08 00:00:00   \n",
      "2011-03-08 00:01:00-06:00  104.82  104.82      12 2011-03-08 00:01:00   \n",
      "2011-03-08 00:02:00-06:00  104.73  104.75      20 2011-03-08 00:02:00   \n",
      "2011-03-08 00:03:00-06:00  104.71  104.76      25 2011-03-08 00:03:00   \n",
      "2011-03-08 00:04:00-06:00  104.70  104.70      22 2011-03-08 00:04:00   \n",
      "2011-03-08 00:05:00-06:00  104.67  104.69      26 2011-03-08 00:05:00   \n",
      "2011-03-08 00:06:00-06:00  104.64  104.64      15 2011-03-08 00:06:00   \n",
      "2011-03-08 00:07:00-06:00  104.62  104.62      20 2011-03-08 00:07:00   \n",
      "2011-03-08 00:08:00-06:00  104.62  104.63      29 2011-03-08 00:08:00   \n",
      "2011-03-08 00:09:00-06:00  104.60  104.60       9 2011-03-08 00:09:00   \n",
      "2011-03-08 00:10:00-06:00  104.55  104.56      31 2011-03-08 00:10:00   \n",
      "2011-03-08 00:11:00-06:00  104.58  104.65      25 2011-03-08 00:11:00   \n",
      "2011-03-08 00:12:00-06:00  104.54  104.54      62 2011-03-08 00:12:00   \n",
      "2011-03-08 00:13:00-06:00  104.53  104.55      31 2011-03-08 00:13:00   \n",
      "2011-03-08 00:14:00-06:00  104.32  104.34     478 2011-03-08 00:14:00   \n",
      "2011-03-08 00:15:00-06:00  104.28  104.29     301 2011-03-08 00:15:00   \n",
      "2011-03-08 00:16:00-06:00  104.15  104.15     409 2011-03-08 00:16:00   \n",
      "2011-03-08 00:17:00-06:00  104.07  104.09     208 2011-03-08 00:17:00   \n",
      "2011-03-08 00:18:00-06:00  103.75  103.85     906 2011-03-08 00:18:00   \n",
      "2011-03-08 00:19:00-06:00  103.82  103.87     229 2011-03-08 00:19:00   \n",
      "2011-03-08 00:20:00-06:00  103.85  103.94     111 2011-03-08 00:20:00   \n",
      "2011-03-08 00:21:00-06:00  103.93  103.93      76 2011-03-08 00:21:00   \n",
      "2011-03-08 00:22:00-06:00  103.91  103.93     269 2011-03-08 00:22:00   \n",
      "2011-03-08 00:23:00-06:00  103.92  103.95      48 2011-03-08 00:23:00   \n",
      "2011-03-08 00:24:00-06:00  103.86  103.89     133 2011-03-08 00:24:00   \n",
      "2011-03-08 00:25:00-06:00  103.82  103.97      99 2011-03-08 00:25:00   \n",
      "2011-03-08 00:26:00-06:00  103.77  103.80     187 2011-03-08 00:26:00   \n",
      "2011-03-08 00:27:00-06:00  103.77  103.82      55 2011-03-08 00:27:00   \n",
      "2011-03-08 00:28:00-06:00  103.84  103.90      37 2011-03-08 00:28:00   \n",
      "2011-03-08 00:29:00-06:00  103.89  103.92      65 2011-03-08 00:29:00   \n",
      "2011-03-08 00:30:00-06:00  103.89  103.89      26 2011-03-08 00:30:00   \n",
      "2011-03-08 00:31:00-06:00  103.88  103.92      34 2011-03-08 00:31:00   \n",
      "2011-03-08 00:32:00-06:00  103.86  103.89      64 2011-03-08 00:32:00   \n",
      "2011-03-08 00:33:00-06:00  103.91  103.94      23 2011-03-08 00:33:00   \n",
      "2011-03-08 00:34:00-06:00  103.88  104.00      92 2011-03-08 00:34:00   \n",
      "2011-03-08 00:35:00-06:00  103.97  104.10     132 2011-03-08 00:35:00   \n",
      "2011-03-08 00:36:00-06:00  104.02  104.02      27 2011-03-08 00:36:00   \n",
      "2011-03-08 00:37:00-06:00  104.03  104.05      20 2011-03-08 00:37:00   \n",
      "2011-03-08 00:38:00-06:00  104.03  104.03      31 2011-03-08 00:38:00   \n",
      "2011-03-08 00:39:00-06:00  103.98  104.07      39 2011-03-08 00:39:00   \n",
      "2011-03-08 00:40:00-06:00  104.06  104.10      32 2011-03-08 00:40:00   \n",
      "2011-03-08 00:41:00-06:00  104.11  104.14      39 2011-03-08 00:41:00   \n",
      "2011-03-08 00:42:00-06:00  104.13  104.21     170 2011-03-08 00:42:00   \n",
      "2011-03-08 00:43:00-06:00  104.18  104.20      90 2011-03-08 00:43:00   \n",
      "2011-03-08 00:44:00-06:00  104.19  104.19      33 2011-03-08 00:44:00   \n",
      "2011-03-08 00:45:00-06:00  104.14  104.14      37 2011-03-08 00:45:00   \n",
      "2011-03-08 00:46:00-06:00  104.05  104.05      76 2011-03-08 00:46:00   \n",
      "2011-03-08 00:47:00-06:00  103.95  103.97      62 2011-03-08 00:47:00   \n",
      "2011-03-08 00:48:00-06:00  103.95  104.05      65 2011-03-08 00:48:00   \n",
      "\n",
      "                           Percent_Change      Release_Datetime_CST  \\\n",
      "Datetime_CST                                                          \n",
      "2011-03-07 23:59:00-06:00             NaN 2011-03-09 09:30:00-06:00   \n",
      "2011-03-08 00:00:00-06:00        0.076387 2011-03-09 09:30:00-06:00   \n",
      "2011-03-08 00:01:00-06:00        0.009541 2011-03-09 09:30:00-06:00   \n",
      "2011-03-08 00:02:00-06:00       -0.066781 2011-03-09 09:30:00-06:00   \n",
      "2011-03-08 00:03:00-06:00        0.009547 2011-03-09 09:30:00-06:00   \n",
      "2011-03-08 00:04:00-06:00       -0.057274 2011-03-09 09:30:00-06:00   \n",
      "2011-03-08 00:05:00-06:00       -0.009551 2011-03-09 09:30:00-06:00   \n",
      "2011-03-08 00:06:00-06:00       -0.047760 2011-03-09 09:30:00-06:00   \n",
      "2011-03-08 00:07:00-06:00       -0.019113 2011-03-09 09:30:00-06:00   \n",
      "2011-03-08 00:08:00-06:00        0.009558 2011-03-09 09:30:00-06:00   \n",
      "2011-03-08 00:09:00-06:00       -0.028672 2011-03-09 09:30:00-06:00   \n",
      "2011-03-08 00:10:00-06:00       -0.038241 2011-03-09 09:30:00-06:00   \n",
      "2011-03-08 00:11:00-06:00        0.086075 2011-03-09 09:30:00-06:00   \n",
      "2011-03-08 00:12:00-06:00       -0.105112 2011-03-09 09:30:00-06:00   \n",
      "2011-03-08 00:13:00-06:00        0.009566 2011-03-09 09:30:00-06:00   \n",
      "2011-03-08 00:14:00-06:00       -0.200861 2011-03-09 09:30:00-06:00   \n",
      "2011-03-08 00:15:00-06:00       -0.047920 2011-03-09 09:30:00-06:00   \n",
      "2011-03-08 00:16:00-06:00       -0.134241 2011-03-09 09:30:00-06:00   \n",
      "2011-03-08 00:17:00-06:00       -0.057609 2011-03-09 09:30:00-06:00   \n",
      "2011-03-08 00:18:00-06:00       -0.230570 2011-03-09 09:30:00-06:00   \n",
      "2011-03-08 00:19:00-06:00        0.019259 2011-03-09 09:30:00-06:00   \n",
      "2011-03-08 00:20:00-06:00        0.067392 2011-03-09 09:30:00-06:00   \n",
      "2011-03-08 00:21:00-06:00       -0.009621 2011-03-09 09:30:00-06:00   \n",
      "2011-03-08 00:22:00-06:00        0.000000 2011-03-09 09:30:00-06:00   \n",
      "2011-03-08 00:23:00-06:00        0.019244 2011-03-09 09:30:00-06:00   \n",
      "2011-03-08 00:24:00-06:00       -0.057720 2011-03-09 09:30:00-06:00   \n",
      "2011-03-08 00:25:00-06:00        0.077005 2011-03-09 09:30:00-06:00   \n",
      "2011-03-08 00:26:00-06:00       -0.163509 2011-03-09 09:30:00-06:00   \n",
      "2011-03-08 00:27:00-06:00        0.019268 2011-03-09 09:30:00-06:00   \n",
      "2011-03-08 00:28:00-06:00        0.077056 2011-03-09 09:30:00-06:00   \n",
      "2011-03-08 00:29:00-06:00        0.019249 2011-03-09 09:30:00-06:00   \n",
      "2011-03-08 00:30:00-06:00       -0.028868 2011-03-09 09:30:00-06:00   \n",
      "2011-03-08 00:31:00-06:00        0.028877 2011-03-09 09:30:00-06:00   \n",
      "2011-03-08 00:32:00-06:00       -0.028868 2011-03-09 09:30:00-06:00   \n",
      "2011-03-08 00:33:00-06:00        0.048128 2011-03-09 09:30:00-06:00   \n",
      "2011-03-08 00:34:00-06:00        0.057726 2011-03-09 09:30:00-06:00   \n",
      "2011-03-08 00:35:00-06:00        0.096154 2011-03-09 09:30:00-06:00   \n",
      "2011-03-08 00:36:00-06:00       -0.076849 2011-03-09 09:30:00-06:00   \n",
      "2011-03-08 00:37:00-06:00        0.028841 2011-03-09 09:30:00-06:00   \n",
      "2011-03-08 00:38:00-06:00       -0.019222 2011-03-09 09:30:00-06:00   \n",
      "2011-03-08 00:39:00-06:00        0.038450 2011-03-09 09:30:00-06:00   \n",
      "2011-03-08 00:40:00-06:00        0.028827 2011-03-09 09:30:00-06:00   \n",
      "2011-03-08 00:41:00-06:00        0.038425 2011-03-09 09:30:00-06:00   \n",
      "2011-03-08 00:42:00-06:00        0.067217 2011-03-09 09:30:00-06:00   \n",
      "2011-03-08 00:43:00-06:00       -0.009596 2011-03-09 09:30:00-06:00   \n",
      "2011-03-08 00:44:00-06:00       -0.009597 2011-03-09 09:30:00-06:00   \n",
      "2011-03-08 00:45:00-06:00       -0.047989 2011-03-09 09:30:00-06:00   \n",
      "2011-03-08 00:46:00-06:00       -0.086422 2011-03-09 09:30:00-06:00   \n",
      "2011-03-08 00:47:00-06:00       -0.076886 2011-03-09 09:30:00-06:00   \n",
      "2011-03-08 00:48:00-06:00        0.076945 2011-03-09 09:30:00-06:00   \n",
      "\n",
      "                          Release Date Time_y  Actual Forecast Previous  \\\n",
      "Datetime_CST                                                              \n",
      "2011-03-07 23:59:00-06:00     9-Mar-11  10:30  2.500M   1.100M  -0.400M   \n",
      "2011-03-08 00:00:00-06:00     9-Mar-11  10:30  2.500M   1.100M  -0.400M   \n",
      "2011-03-08 00:01:00-06:00     9-Mar-11  10:30  2.500M   1.100M  -0.400M   \n",
      "2011-03-08 00:02:00-06:00     9-Mar-11  10:30  2.500M   1.100M  -0.400M   \n",
      "2011-03-08 00:03:00-06:00     9-Mar-11  10:30  2.500M   1.100M  -0.400M   \n",
      "2011-03-08 00:04:00-06:00     9-Mar-11  10:30  2.500M   1.100M  -0.400M   \n",
      "2011-03-08 00:05:00-06:00     9-Mar-11  10:30  2.500M   1.100M  -0.400M   \n",
      "2011-03-08 00:06:00-06:00     9-Mar-11  10:30  2.500M   1.100M  -0.400M   \n",
      "2011-03-08 00:07:00-06:00     9-Mar-11  10:30  2.500M   1.100M  -0.400M   \n",
      "2011-03-08 00:08:00-06:00     9-Mar-11  10:30  2.500M   1.100M  -0.400M   \n",
      "2011-03-08 00:09:00-06:00     9-Mar-11  10:30  2.500M   1.100M  -0.400M   \n",
      "2011-03-08 00:10:00-06:00     9-Mar-11  10:30  2.500M   1.100M  -0.400M   \n",
      "2011-03-08 00:11:00-06:00     9-Mar-11  10:30  2.500M   1.100M  -0.400M   \n",
      "2011-03-08 00:12:00-06:00     9-Mar-11  10:30  2.500M   1.100M  -0.400M   \n",
      "2011-03-08 00:13:00-06:00     9-Mar-11  10:30  2.500M   1.100M  -0.400M   \n",
      "2011-03-08 00:14:00-06:00     9-Mar-11  10:30  2.500M   1.100M  -0.400M   \n",
      "2011-03-08 00:15:00-06:00     9-Mar-11  10:30  2.500M   1.100M  -0.400M   \n",
      "2011-03-08 00:16:00-06:00     9-Mar-11  10:30  2.500M   1.100M  -0.400M   \n",
      "2011-03-08 00:17:00-06:00     9-Mar-11  10:30  2.500M   1.100M  -0.400M   \n",
      "2011-03-08 00:18:00-06:00     9-Mar-11  10:30  2.500M   1.100M  -0.400M   \n",
      "2011-03-08 00:19:00-06:00     9-Mar-11  10:30  2.500M   1.100M  -0.400M   \n",
      "2011-03-08 00:20:00-06:00     9-Mar-11  10:30  2.500M   1.100M  -0.400M   \n",
      "2011-03-08 00:21:00-06:00     9-Mar-11  10:30  2.500M   1.100M  -0.400M   \n",
      "2011-03-08 00:22:00-06:00     9-Mar-11  10:30  2.500M   1.100M  -0.400M   \n",
      "2011-03-08 00:23:00-06:00     9-Mar-11  10:30  2.500M   1.100M  -0.400M   \n",
      "2011-03-08 00:24:00-06:00     9-Mar-11  10:30  2.500M   1.100M  -0.400M   \n",
      "2011-03-08 00:25:00-06:00     9-Mar-11  10:30  2.500M   1.100M  -0.400M   \n",
      "2011-03-08 00:26:00-06:00     9-Mar-11  10:30  2.500M   1.100M  -0.400M   \n",
      "2011-03-08 00:27:00-06:00     9-Mar-11  10:30  2.500M   1.100M  -0.400M   \n",
      "2011-03-08 00:28:00-06:00     9-Mar-11  10:30  2.500M   1.100M  -0.400M   \n",
      "2011-03-08 00:29:00-06:00     9-Mar-11  10:30  2.500M   1.100M  -0.400M   \n",
      "2011-03-08 00:30:00-06:00     9-Mar-11  10:30  2.500M   1.100M  -0.400M   \n",
      "2011-03-08 00:31:00-06:00     9-Mar-11  10:30  2.500M   1.100M  -0.400M   \n",
      "2011-03-08 00:32:00-06:00     9-Mar-11  10:30  2.500M   1.100M  -0.400M   \n",
      "2011-03-08 00:33:00-06:00     9-Mar-11  10:30  2.500M   1.100M  -0.400M   \n",
      "2011-03-08 00:34:00-06:00     9-Mar-11  10:30  2.500M   1.100M  -0.400M   \n",
      "2011-03-08 00:35:00-06:00     9-Mar-11  10:30  2.500M   1.100M  -0.400M   \n",
      "2011-03-08 00:36:00-06:00     9-Mar-11  10:30  2.500M   1.100M  -0.400M   \n",
      "2011-03-08 00:37:00-06:00     9-Mar-11  10:30  2.500M   1.100M  -0.400M   \n",
      "2011-03-08 00:38:00-06:00     9-Mar-11  10:30  2.500M   1.100M  -0.400M   \n",
      "2011-03-08 00:39:00-06:00     9-Mar-11  10:30  2.500M   1.100M  -0.400M   \n",
      "2011-03-08 00:40:00-06:00     9-Mar-11  10:30  2.500M   1.100M  -0.400M   \n",
      "2011-03-08 00:41:00-06:00     9-Mar-11  10:30  2.500M   1.100M  -0.400M   \n",
      "2011-03-08 00:42:00-06:00     9-Mar-11  10:30  2.500M   1.100M  -0.400M   \n",
      "2011-03-08 00:43:00-06:00     9-Mar-11  10:30  2.500M   1.100M  -0.400M   \n",
      "2011-03-08 00:44:00-06:00     9-Mar-11  10:30  2.500M   1.100M  -0.400M   \n",
      "2011-03-08 00:45:00-06:00     9-Mar-11  10:30  2.500M   1.100M  -0.400M   \n",
      "2011-03-08 00:46:00-06:00     9-Mar-11  10:30  2.500M   1.100M  -0.400M   \n",
      "2011-03-08 00:47:00-06:00     9-Mar-11  10:30  2.500M   1.100M  -0.400M   \n",
      "2011-03-08 00:48:00-06:00     9-Mar-11  10:30  2.500M   1.100M  -0.400M   \n",
      "\n",
      "                             Release_Datetime      Release_Datetime_EST  \\\n",
      "Datetime_CST                                                              \n",
      "2011-03-07 23:59:00-06:00 2011-03-09 10:30:00 2011-03-09 10:30:00-05:00   \n",
      "2011-03-08 00:00:00-06:00 2011-03-09 10:30:00 2011-03-09 10:30:00-05:00   \n",
      "2011-03-08 00:01:00-06:00 2011-03-09 10:30:00 2011-03-09 10:30:00-05:00   \n",
      "2011-03-08 00:02:00-06:00 2011-03-09 10:30:00 2011-03-09 10:30:00-05:00   \n",
      "2011-03-08 00:03:00-06:00 2011-03-09 10:30:00 2011-03-09 10:30:00-05:00   \n",
      "2011-03-08 00:04:00-06:00 2011-03-09 10:30:00 2011-03-09 10:30:00-05:00   \n",
      "2011-03-08 00:05:00-06:00 2011-03-09 10:30:00 2011-03-09 10:30:00-05:00   \n",
      "2011-03-08 00:06:00-06:00 2011-03-09 10:30:00 2011-03-09 10:30:00-05:00   \n",
      "2011-03-08 00:07:00-06:00 2011-03-09 10:30:00 2011-03-09 10:30:00-05:00   \n",
      "2011-03-08 00:08:00-06:00 2011-03-09 10:30:00 2011-03-09 10:30:00-05:00   \n",
      "2011-03-08 00:09:00-06:00 2011-03-09 10:30:00 2011-03-09 10:30:00-05:00   \n",
      "2011-03-08 00:10:00-06:00 2011-03-09 10:30:00 2011-03-09 10:30:00-05:00   \n",
      "2011-03-08 00:11:00-06:00 2011-03-09 10:30:00 2011-03-09 10:30:00-05:00   \n",
      "2011-03-08 00:12:00-06:00 2011-03-09 10:30:00 2011-03-09 10:30:00-05:00   \n",
      "2011-03-08 00:13:00-06:00 2011-03-09 10:30:00 2011-03-09 10:30:00-05:00   \n",
      "2011-03-08 00:14:00-06:00 2011-03-09 10:30:00 2011-03-09 10:30:00-05:00   \n",
      "2011-03-08 00:15:00-06:00 2011-03-09 10:30:00 2011-03-09 10:30:00-05:00   \n",
      "2011-03-08 00:16:00-06:00 2011-03-09 10:30:00 2011-03-09 10:30:00-05:00   \n",
      "2011-03-08 00:17:00-06:00 2011-03-09 10:30:00 2011-03-09 10:30:00-05:00   \n",
      "2011-03-08 00:18:00-06:00 2011-03-09 10:30:00 2011-03-09 10:30:00-05:00   \n",
      "2011-03-08 00:19:00-06:00 2011-03-09 10:30:00 2011-03-09 10:30:00-05:00   \n",
      "2011-03-08 00:20:00-06:00 2011-03-09 10:30:00 2011-03-09 10:30:00-05:00   \n",
      "2011-03-08 00:21:00-06:00 2011-03-09 10:30:00 2011-03-09 10:30:00-05:00   \n",
      "2011-03-08 00:22:00-06:00 2011-03-09 10:30:00 2011-03-09 10:30:00-05:00   \n",
      "2011-03-08 00:23:00-06:00 2011-03-09 10:30:00 2011-03-09 10:30:00-05:00   \n",
      "2011-03-08 00:24:00-06:00 2011-03-09 10:30:00 2011-03-09 10:30:00-05:00   \n",
      "2011-03-08 00:25:00-06:00 2011-03-09 10:30:00 2011-03-09 10:30:00-05:00   \n",
      "2011-03-08 00:26:00-06:00 2011-03-09 10:30:00 2011-03-09 10:30:00-05:00   \n",
      "2011-03-08 00:27:00-06:00 2011-03-09 10:30:00 2011-03-09 10:30:00-05:00   \n",
      "2011-03-08 00:28:00-06:00 2011-03-09 10:30:00 2011-03-09 10:30:00-05:00   \n",
      "2011-03-08 00:29:00-06:00 2011-03-09 10:30:00 2011-03-09 10:30:00-05:00   \n",
      "2011-03-08 00:30:00-06:00 2011-03-09 10:30:00 2011-03-09 10:30:00-05:00   \n",
      "2011-03-08 00:31:00-06:00 2011-03-09 10:30:00 2011-03-09 10:30:00-05:00   \n",
      "2011-03-08 00:32:00-06:00 2011-03-09 10:30:00 2011-03-09 10:30:00-05:00   \n",
      "2011-03-08 00:33:00-06:00 2011-03-09 10:30:00 2011-03-09 10:30:00-05:00   \n",
      "2011-03-08 00:34:00-06:00 2011-03-09 10:30:00 2011-03-09 10:30:00-05:00   \n",
      "2011-03-08 00:35:00-06:00 2011-03-09 10:30:00 2011-03-09 10:30:00-05:00   \n",
      "2011-03-08 00:36:00-06:00 2011-03-09 10:30:00 2011-03-09 10:30:00-05:00   \n",
      "2011-03-08 00:37:00-06:00 2011-03-09 10:30:00 2011-03-09 10:30:00-05:00   \n",
      "2011-03-08 00:38:00-06:00 2011-03-09 10:30:00 2011-03-09 10:30:00-05:00   \n",
      "2011-03-08 00:39:00-06:00 2011-03-09 10:30:00 2011-03-09 10:30:00-05:00   \n",
      "2011-03-08 00:40:00-06:00 2011-03-09 10:30:00 2011-03-09 10:30:00-05:00   \n",
      "2011-03-08 00:41:00-06:00 2011-03-09 10:30:00 2011-03-09 10:30:00-05:00   \n",
      "2011-03-08 00:42:00-06:00 2011-03-09 10:30:00 2011-03-09 10:30:00-05:00   \n",
      "2011-03-08 00:43:00-06:00 2011-03-09 10:30:00 2011-03-09 10:30:00-05:00   \n",
      "2011-03-08 00:44:00-06:00 2011-03-09 10:30:00 2011-03-09 10:30:00-05:00   \n",
      "2011-03-08 00:45:00-06:00 2011-03-09 10:30:00 2011-03-09 10:30:00-05:00   \n",
      "2011-03-08 00:46:00-06:00 2011-03-09 10:30:00 2011-03-09 10:30:00-05:00   \n",
      "2011-03-08 00:47:00-06:00 2011-03-09 10:30:00 2011-03-09 10:30:00-05:00   \n",
      "2011-03-08 00:48:00-06:00 2011-03-09 10:30:00 2011-03-09 10:30:00-05:00   \n",
      "\n",
      "                           supply_surprise  \n",
      "Datetime_CST                                \n",
      "2011-03-07 23:59:00-06:00              1.4  \n",
      "2011-03-08 00:00:00-06:00              1.4  \n",
      "2011-03-08 00:01:00-06:00              1.4  \n",
      "2011-03-08 00:02:00-06:00              1.4  \n",
      "2011-03-08 00:03:00-06:00              1.4  \n",
      "2011-03-08 00:04:00-06:00              1.4  \n",
      "2011-03-08 00:05:00-06:00              1.4  \n",
      "2011-03-08 00:06:00-06:00              1.4  \n",
      "2011-03-08 00:07:00-06:00              1.4  \n",
      "2011-03-08 00:08:00-06:00              1.4  \n",
      "2011-03-08 00:09:00-06:00              1.4  \n",
      "2011-03-08 00:10:00-06:00              1.4  \n",
      "2011-03-08 00:11:00-06:00              1.4  \n",
      "2011-03-08 00:12:00-06:00              1.4  \n",
      "2011-03-08 00:13:00-06:00              1.4  \n",
      "2011-03-08 00:14:00-06:00              1.4  \n",
      "2011-03-08 00:15:00-06:00              1.4  \n",
      "2011-03-08 00:16:00-06:00              1.4  \n",
      "2011-03-08 00:17:00-06:00              1.4  \n",
      "2011-03-08 00:18:00-06:00              1.4  \n",
      "2011-03-08 00:19:00-06:00              1.4  \n",
      "2011-03-08 00:20:00-06:00              1.4  \n",
      "2011-03-08 00:21:00-06:00              1.4  \n",
      "2011-03-08 00:22:00-06:00              1.4  \n",
      "2011-03-08 00:23:00-06:00              1.4  \n",
      "2011-03-08 00:24:00-06:00              1.4  \n",
      "2011-03-08 00:25:00-06:00              1.4  \n",
      "2011-03-08 00:26:00-06:00              1.4  \n",
      "2011-03-08 00:27:00-06:00              1.4  \n",
      "2011-03-08 00:28:00-06:00              1.4  \n",
      "2011-03-08 00:29:00-06:00              1.4  \n",
      "2011-03-08 00:30:00-06:00              1.4  \n",
      "2011-03-08 00:31:00-06:00              1.4  \n",
      "2011-03-08 00:32:00-06:00              1.4  \n",
      "2011-03-08 00:33:00-06:00              1.4  \n",
      "2011-03-08 00:34:00-06:00              1.4  \n",
      "2011-03-08 00:35:00-06:00              1.4  \n",
      "2011-03-08 00:36:00-06:00              1.4  \n",
      "2011-03-08 00:37:00-06:00              1.4  \n",
      "2011-03-08 00:38:00-06:00              1.4  \n",
      "2011-03-08 00:39:00-06:00              1.4  \n",
      "2011-03-08 00:40:00-06:00              1.4  \n",
      "2011-03-08 00:41:00-06:00              1.4  \n",
      "2011-03-08 00:42:00-06:00              1.4  \n",
      "2011-03-08 00:43:00-06:00              1.4  \n",
      "2011-03-08 00:44:00-06:00              1.4  \n",
      "2011-03-08 00:45:00-06:00              1.4  \n",
      "2011-03-08 00:46:00-06:00              1.4  \n",
      "2011-03-08 00:47:00-06:00              1.4  \n",
      "2011-03-08 00:48:00-06:00              1.4  \n"
     ]
    }
   ],
   "source": [
    "\n",
    "# 2. Perform the merge_asof\n",
    "wti_with_eia_releases = pd.merge_asof(\n",
    "    left=min_WTI_no_eia_days.reset_index(), # Reset index to make 'Datetime_CST' a regular column for merge_asof\n",
    "    right=icom_eia_forecasts.reset_index(),\n",
    "    left_on='Datetime_CST',       # Column in min_WTI to merge on\n",
    "    right_on='Release_Datetime_CST', # Column in icom_eia_forecasts to merge on\n",
    "    direction='nearest',         # Match to the most recent EIA release *before* each WTI time\n",
    "    tolerance=pd.Timedelta('2D')\n",
    ")\n",
    "\n",
    "# 3. Examine the result\n",
    "print(wti_with_eia_releases[['Datetime_CST', 'Release_Datetime_CST', 'Actual', 'Forecast']].head(20))\n",
    "# You'll see that for each minute in min_WTI, the 'Release_Datetime_GMT_minus_6' column (and other EIA columns)\n",
    "# will be populated with the data from the *most recent* EIA release prior to that minute.\n",
    "# If there was no EIA release before a particular WTI time (e.g., at the very beginning of your WTI data),\n",
    "# the EIA columns will be NaN.\n",
    "\n",
    "# 4. (Optional) Clean up and set index back if needed\n",
    "wti_with_eia_releases = wti_with_eia_releases.set_index('Datetime_CST') # Set 'Datetime_CST' back as index if you prefer\n",
    "# You might want to rename 'Release_Datetime_GMT_minus_6' to something more descriptive in the merged dataframe, e.g., 'Associated_EIA_Release_Time'\n",
    "\n",
    "\n",
    "print(wti_with_eia_releases.head(50)) # Display the first few rows of the merged dataframe"
   ]
  },
  {
   "cell_type": "code",
   "execution_count": 61,
   "metadata": {},
   "outputs": [
    {
     "data": {
      "text/html": [
       "<div>\n",
       "<style scoped>\n",
       "    .dataframe tbody tr th:only-of-type {\n",
       "        vertical-align: middle;\n",
       "    }\n",
       "\n",
       "    .dataframe tbody tr th {\n",
       "        vertical-align: top;\n",
       "    }\n",
       "\n",
       "    .dataframe thead th {\n",
       "        text-align: right;\n",
       "    }\n",
       "</style>\n",
       "<table border=\"1\" class=\"dataframe\">\n",
       "  <thead>\n",
       "    <tr style=\"text-align: right;\">\n",
       "      <th></th>\n",
       "      <th>index</th>\n",
       "      <th>Date</th>\n",
       "      <th>Time_x</th>\n",
       "      <th>Open</th>\n",
       "      <th>High</th>\n",
       "      <th>Low</th>\n",
       "      <th>Close</th>\n",
       "      <th>Volume</th>\n",
       "      <th>Datetime</th>\n",
       "      <th>Percent_Change</th>\n",
       "      <th>Release_Datetime_CST</th>\n",
       "      <th>Release Date</th>\n",
       "      <th>Time_y</th>\n",
       "      <th>Actual</th>\n",
       "      <th>Forecast</th>\n",
       "      <th>Previous</th>\n",
       "      <th>Release_Datetime</th>\n",
       "      <th>Release_Datetime_EST</th>\n",
       "      <th>supply_surprise</th>\n",
       "    </tr>\n",
       "    <tr>\n",
       "      <th>Datetime_CST</th>\n",
       "      <th></th>\n",
       "      <th></th>\n",
       "      <th></th>\n",
       "      <th></th>\n",
       "      <th></th>\n",
       "      <th></th>\n",
       "      <th></th>\n",
       "      <th></th>\n",
       "      <th></th>\n",
       "      <th></th>\n",
       "      <th></th>\n",
       "      <th></th>\n",
       "      <th></th>\n",
       "      <th></th>\n",
       "      <th></th>\n",
       "      <th></th>\n",
       "      <th></th>\n",
       "      <th></th>\n",
       "      <th></th>\n",
       "    </tr>\n",
       "  </thead>\n",
       "  <tbody>\n",
       "    <tr>\n",
       "      <th>2011-03-07 23:59:00-06:00</th>\n",
       "      <td>0</td>\n",
       "      <td>07/03/2011</td>\n",
       "      <td>23:59:00</td>\n",
       "      <td>104.74</td>\n",
       "      <td>104.77</td>\n",
       "      <td>104.73</td>\n",
       "      <td>104.73</td>\n",
       "      <td>18</td>\n",
       "      <td>2011-03-07 23:59:00</td>\n",
       "      <td>NaN</td>\n",
       "      <td>2011-03-09 09:30:00-06:00</td>\n",
       "      <td>9-Mar-11</td>\n",
       "      <td>10:30</td>\n",
       "      <td>2.500M</td>\n",
       "      <td>1.100M</td>\n",
       "      <td>-0.400M</td>\n",
       "      <td>2011-03-09 10:30:00</td>\n",
       "      <td>2011-03-09 10:30:00-05:00</td>\n",
       "      <td>1.4</td>\n",
       "    </tr>\n",
       "    <tr>\n",
       "      <th>2011-03-08 00:00:00-06:00</th>\n",
       "      <td>1</td>\n",
       "      <td>08/03/2011</td>\n",
       "      <td>00:00:00</td>\n",
       "      <td>104.74</td>\n",
       "      <td>104.82</td>\n",
       "      <td>104.74</td>\n",
       "      <td>104.81</td>\n",
       "      <td>34</td>\n",
       "      <td>2011-03-08 00:00:00</td>\n",
       "      <td>0.076387</td>\n",
       "      <td>2011-03-09 09:30:00-06:00</td>\n",
       "      <td>9-Mar-11</td>\n",
       "      <td>10:30</td>\n",
       "      <td>2.500M</td>\n",
       "      <td>1.100M</td>\n",
       "      <td>-0.400M</td>\n",
       "      <td>2011-03-09 10:30:00</td>\n",
       "      <td>2011-03-09 10:30:00-05:00</td>\n",
       "      <td>1.4</td>\n",
       "    </tr>\n",
       "    <tr>\n",
       "      <th>2011-03-08 00:01:00-06:00</th>\n",
       "      <td>2</td>\n",
       "      <td>08/03/2011</td>\n",
       "      <td>00:01:00</td>\n",
       "      <td>104.82</td>\n",
       "      <td>104.84</td>\n",
       "      <td>104.82</td>\n",
       "      <td>104.82</td>\n",
       "      <td>12</td>\n",
       "      <td>2011-03-08 00:01:00</td>\n",
       "      <td>0.009541</td>\n",
       "      <td>2011-03-09 09:30:00-06:00</td>\n",
       "      <td>9-Mar-11</td>\n",
       "      <td>10:30</td>\n",
       "      <td>2.500M</td>\n",
       "      <td>1.100M</td>\n",
       "      <td>-0.400M</td>\n",
       "      <td>2011-03-09 10:30:00</td>\n",
       "      <td>2011-03-09 10:30:00-05:00</td>\n",
       "      <td>1.4</td>\n",
       "    </tr>\n",
       "    <tr>\n",
       "      <th>2011-03-08 00:02:00-06:00</th>\n",
       "      <td>3</td>\n",
       "      <td>08/03/2011</td>\n",
       "      <td>00:02:00</td>\n",
       "      <td>104.81</td>\n",
       "      <td>104.81</td>\n",
       "      <td>104.73</td>\n",
       "      <td>104.75</td>\n",
       "      <td>20</td>\n",
       "      <td>2011-03-08 00:02:00</td>\n",
       "      <td>-0.066781</td>\n",
       "      <td>2011-03-09 09:30:00-06:00</td>\n",
       "      <td>9-Mar-11</td>\n",
       "      <td>10:30</td>\n",
       "      <td>2.500M</td>\n",
       "      <td>1.100M</td>\n",
       "      <td>-0.400M</td>\n",
       "      <td>2011-03-09 10:30:00</td>\n",
       "      <td>2011-03-09 10:30:00-05:00</td>\n",
       "      <td>1.4</td>\n",
       "    </tr>\n",
       "    <tr>\n",
       "      <th>2011-03-08 00:03:00-06:00</th>\n",
       "      <td>4</td>\n",
       "      <td>08/03/2011</td>\n",
       "      <td>00:03:00</td>\n",
       "      <td>104.74</td>\n",
       "      <td>104.76</td>\n",
       "      <td>104.71</td>\n",
       "      <td>104.76</td>\n",
       "      <td>25</td>\n",
       "      <td>2011-03-08 00:03:00</td>\n",
       "      <td>0.009547</td>\n",
       "      <td>2011-03-09 09:30:00-06:00</td>\n",
       "      <td>9-Mar-11</td>\n",
       "      <td>10:30</td>\n",
       "      <td>2.500M</td>\n",
       "      <td>1.100M</td>\n",
       "      <td>-0.400M</td>\n",
       "      <td>2011-03-09 10:30:00</td>\n",
       "      <td>2011-03-09 10:30:00-05:00</td>\n",
       "      <td>1.4</td>\n",
       "    </tr>\n",
       "    <tr>\n",
       "      <th>...</th>\n",
       "      <td>...</td>\n",
       "      <td>...</td>\n",
       "      <td>...</td>\n",
       "      <td>...</td>\n",
       "      <td>...</td>\n",
       "      <td>...</td>\n",
       "      <td>...</td>\n",
       "      <td>...</td>\n",
       "      <td>...</td>\n",
       "      <td>...</td>\n",
       "      <td>...</td>\n",
       "      <td>...</td>\n",
       "      <td>...</td>\n",
       "      <td>...</td>\n",
       "      <td>...</td>\n",
       "      <td>...</td>\n",
       "      <td>...</td>\n",
       "      <td>...</td>\n",
       "      <td>...</td>\n",
       "    </tr>\n",
       "    <tr>\n",
       "      <th>2025-03-11 23:53:00-05:00</th>\n",
       "      <td>4811553</td>\n",
       "      <td>11/03/2025</td>\n",
       "      <td>23:53:00</td>\n",
       "      <td>66.75</td>\n",
       "      <td>66.76</td>\n",
       "      <td>66.74</td>\n",
       "      <td>66.75</td>\n",
       "      <td>23</td>\n",
       "      <td>2025-03-11 23:53:00</td>\n",
       "      <td>0.000000</td>\n",
       "      <td>2025-03-12 07:30:00-05:00</td>\n",
       "      <td>12-Mar-25</td>\n",
       "      <td>8:30</td>\n",
       "      <td>NaN</td>\n",
       "      <td>NaN</td>\n",
       "      <td>3.614M</td>\n",
       "      <td>2025-03-12 08:30:00</td>\n",
       "      <td>2025-03-12 08:30:00-04:00</td>\n",
       "      <td>NaN</td>\n",
       "    </tr>\n",
       "    <tr>\n",
       "      <th>2025-03-11 23:54:00-05:00</th>\n",
       "      <td>4811554</td>\n",
       "      <td>11/03/2025</td>\n",
       "      <td>23:54:00</td>\n",
       "      <td>66.75</td>\n",
       "      <td>66.75</td>\n",
       "      <td>66.75</td>\n",
       "      <td>66.75</td>\n",
       "      <td>13</td>\n",
       "      <td>2025-03-11 23:54:00</td>\n",
       "      <td>0.000000</td>\n",
       "      <td>2025-03-12 07:30:00-05:00</td>\n",
       "      <td>12-Mar-25</td>\n",
       "      <td>8:30</td>\n",
       "      <td>NaN</td>\n",
       "      <td>NaN</td>\n",
       "      <td>3.614M</td>\n",
       "      <td>2025-03-12 08:30:00</td>\n",
       "      <td>2025-03-12 08:30:00-04:00</td>\n",
       "      <td>NaN</td>\n",
       "    </tr>\n",
       "    <tr>\n",
       "      <th>2025-03-11 23:56:00-05:00</th>\n",
       "      <td>4811555</td>\n",
       "      <td>11/03/2025</td>\n",
       "      <td>23:56:00</td>\n",
       "      <td>66.75</td>\n",
       "      <td>66.75</td>\n",
       "      <td>66.74</td>\n",
       "      <td>66.74</td>\n",
       "      <td>3</td>\n",
       "      <td>2025-03-11 23:56:00</td>\n",
       "      <td>-0.014981</td>\n",
       "      <td>2025-03-12 07:30:00-05:00</td>\n",
       "      <td>12-Mar-25</td>\n",
       "      <td>8:30</td>\n",
       "      <td>NaN</td>\n",
       "      <td>NaN</td>\n",
       "      <td>3.614M</td>\n",
       "      <td>2025-03-12 08:30:00</td>\n",
       "      <td>2025-03-12 08:30:00-04:00</td>\n",
       "      <td>NaN</td>\n",
       "    </tr>\n",
       "    <tr>\n",
       "      <th>2025-03-11 23:58:00-05:00</th>\n",
       "      <td>4811556</td>\n",
       "      <td>11/03/2025</td>\n",
       "      <td>23:58:00</td>\n",
       "      <td>66.75</td>\n",
       "      <td>66.75</td>\n",
       "      <td>66.75</td>\n",
       "      <td>66.75</td>\n",
       "      <td>3</td>\n",
       "      <td>2025-03-11 23:58:00</td>\n",
       "      <td>0.014984</td>\n",
       "      <td>2025-03-12 07:30:00-05:00</td>\n",
       "      <td>12-Mar-25</td>\n",
       "      <td>8:30</td>\n",
       "      <td>NaN</td>\n",
       "      <td>NaN</td>\n",
       "      <td>3.614M</td>\n",
       "      <td>2025-03-12 08:30:00</td>\n",
       "      <td>2025-03-12 08:30:00-04:00</td>\n",
       "      <td>NaN</td>\n",
       "    </tr>\n",
       "    <tr>\n",
       "      <th>2025-03-11 23:59:00-05:00</th>\n",
       "      <td>4811557</td>\n",
       "      <td>11/03/2025</td>\n",
       "      <td>23:59:00</td>\n",
       "      <td>66.75</td>\n",
       "      <td>66.75</td>\n",
       "      <td>66.75</td>\n",
       "      <td>66.75</td>\n",
       "      <td>1</td>\n",
       "      <td>2025-03-11 23:59:00</td>\n",
       "      <td>0.000000</td>\n",
       "      <td>2025-03-12 07:30:00-05:00</td>\n",
       "      <td>12-Mar-25</td>\n",
       "      <td>8:30</td>\n",
       "      <td>NaN</td>\n",
       "      <td>NaN</td>\n",
       "      <td>3.614M</td>\n",
       "      <td>2025-03-12 08:30:00</td>\n",
       "      <td>2025-03-12 08:30:00-04:00</td>\n",
       "      <td>NaN</td>\n",
       "    </tr>\n",
       "  </tbody>\n",
       "</table>\n",
       "<p>3840660 rows × 19 columns</p>\n",
       "</div>"
      ],
      "text/plain": [
       "                             index        Date    Time_x    Open    High  \\\n",
       "Datetime_CST                                                               \n",
       "2011-03-07 23:59:00-06:00        0  07/03/2011  23:59:00  104.74  104.77   \n",
       "2011-03-08 00:00:00-06:00        1  08/03/2011  00:00:00  104.74  104.82   \n",
       "2011-03-08 00:01:00-06:00        2  08/03/2011  00:01:00  104.82  104.84   \n",
       "2011-03-08 00:02:00-06:00        3  08/03/2011  00:02:00  104.81  104.81   \n",
       "2011-03-08 00:03:00-06:00        4  08/03/2011  00:03:00  104.74  104.76   \n",
       "...                            ...         ...       ...     ...     ...   \n",
       "2025-03-11 23:53:00-05:00  4811553  11/03/2025  23:53:00   66.75   66.76   \n",
       "2025-03-11 23:54:00-05:00  4811554  11/03/2025  23:54:00   66.75   66.75   \n",
       "2025-03-11 23:56:00-05:00  4811555  11/03/2025  23:56:00   66.75   66.75   \n",
       "2025-03-11 23:58:00-05:00  4811556  11/03/2025  23:58:00   66.75   66.75   \n",
       "2025-03-11 23:59:00-05:00  4811557  11/03/2025  23:59:00   66.75   66.75   \n",
       "\n",
       "                              Low   Close  Volume            Datetime  \\\n",
       "Datetime_CST                                                            \n",
       "2011-03-07 23:59:00-06:00  104.73  104.73      18 2011-03-07 23:59:00   \n",
       "2011-03-08 00:00:00-06:00  104.74  104.81      34 2011-03-08 00:00:00   \n",
       "2011-03-08 00:01:00-06:00  104.82  104.82      12 2011-03-08 00:01:00   \n",
       "2011-03-08 00:02:00-06:00  104.73  104.75      20 2011-03-08 00:02:00   \n",
       "2011-03-08 00:03:00-06:00  104.71  104.76      25 2011-03-08 00:03:00   \n",
       "...                           ...     ...     ...                 ...   \n",
       "2025-03-11 23:53:00-05:00   66.74   66.75      23 2025-03-11 23:53:00   \n",
       "2025-03-11 23:54:00-05:00   66.75   66.75      13 2025-03-11 23:54:00   \n",
       "2025-03-11 23:56:00-05:00   66.74   66.74       3 2025-03-11 23:56:00   \n",
       "2025-03-11 23:58:00-05:00   66.75   66.75       3 2025-03-11 23:58:00   \n",
       "2025-03-11 23:59:00-05:00   66.75   66.75       1 2025-03-11 23:59:00   \n",
       "\n",
       "                           Percent_Change      Release_Datetime_CST  \\\n",
       "Datetime_CST                                                          \n",
       "2011-03-07 23:59:00-06:00             NaN 2011-03-09 09:30:00-06:00   \n",
       "2011-03-08 00:00:00-06:00        0.076387 2011-03-09 09:30:00-06:00   \n",
       "2011-03-08 00:01:00-06:00        0.009541 2011-03-09 09:30:00-06:00   \n",
       "2011-03-08 00:02:00-06:00       -0.066781 2011-03-09 09:30:00-06:00   \n",
       "2011-03-08 00:03:00-06:00        0.009547 2011-03-09 09:30:00-06:00   \n",
       "...                                   ...                       ...   \n",
       "2025-03-11 23:53:00-05:00        0.000000 2025-03-12 07:30:00-05:00   \n",
       "2025-03-11 23:54:00-05:00        0.000000 2025-03-12 07:30:00-05:00   \n",
       "2025-03-11 23:56:00-05:00       -0.014981 2025-03-12 07:30:00-05:00   \n",
       "2025-03-11 23:58:00-05:00        0.014984 2025-03-12 07:30:00-05:00   \n",
       "2025-03-11 23:59:00-05:00        0.000000 2025-03-12 07:30:00-05:00   \n",
       "\n",
       "                          Release Date Time_y  Actual Forecast Previous  \\\n",
       "Datetime_CST                                                              \n",
       "2011-03-07 23:59:00-06:00     9-Mar-11  10:30  2.500M   1.100M  -0.400M   \n",
       "2011-03-08 00:00:00-06:00     9-Mar-11  10:30  2.500M   1.100M  -0.400M   \n",
       "2011-03-08 00:01:00-06:00     9-Mar-11  10:30  2.500M   1.100M  -0.400M   \n",
       "2011-03-08 00:02:00-06:00     9-Mar-11  10:30  2.500M   1.100M  -0.400M   \n",
       "2011-03-08 00:03:00-06:00     9-Mar-11  10:30  2.500M   1.100M  -0.400M   \n",
       "...                                ...    ...     ...      ...      ...   \n",
       "2025-03-11 23:53:00-05:00    12-Mar-25   8:30     NaN      NaN   3.614M   \n",
       "2025-03-11 23:54:00-05:00    12-Mar-25   8:30     NaN      NaN   3.614M   \n",
       "2025-03-11 23:56:00-05:00    12-Mar-25   8:30     NaN      NaN   3.614M   \n",
       "2025-03-11 23:58:00-05:00    12-Mar-25   8:30     NaN      NaN   3.614M   \n",
       "2025-03-11 23:59:00-05:00    12-Mar-25   8:30     NaN      NaN   3.614M   \n",
       "\n",
       "                             Release_Datetime      Release_Datetime_EST  \\\n",
       "Datetime_CST                                                              \n",
       "2011-03-07 23:59:00-06:00 2011-03-09 10:30:00 2011-03-09 10:30:00-05:00   \n",
       "2011-03-08 00:00:00-06:00 2011-03-09 10:30:00 2011-03-09 10:30:00-05:00   \n",
       "2011-03-08 00:01:00-06:00 2011-03-09 10:30:00 2011-03-09 10:30:00-05:00   \n",
       "2011-03-08 00:02:00-06:00 2011-03-09 10:30:00 2011-03-09 10:30:00-05:00   \n",
       "2011-03-08 00:03:00-06:00 2011-03-09 10:30:00 2011-03-09 10:30:00-05:00   \n",
       "...                                       ...                       ...   \n",
       "2025-03-11 23:53:00-05:00 2025-03-12 08:30:00 2025-03-12 08:30:00-04:00   \n",
       "2025-03-11 23:54:00-05:00 2025-03-12 08:30:00 2025-03-12 08:30:00-04:00   \n",
       "2025-03-11 23:56:00-05:00 2025-03-12 08:30:00 2025-03-12 08:30:00-04:00   \n",
       "2025-03-11 23:58:00-05:00 2025-03-12 08:30:00 2025-03-12 08:30:00-04:00   \n",
       "2025-03-11 23:59:00-05:00 2025-03-12 08:30:00 2025-03-12 08:30:00-04:00   \n",
       "\n",
       "                           supply_surprise  \n",
       "Datetime_CST                                \n",
       "2011-03-07 23:59:00-06:00              1.4  \n",
       "2011-03-08 00:00:00-06:00              1.4  \n",
       "2011-03-08 00:01:00-06:00              1.4  \n",
       "2011-03-08 00:02:00-06:00              1.4  \n",
       "2011-03-08 00:03:00-06:00              1.4  \n",
       "...                                    ...  \n",
       "2025-03-11 23:53:00-05:00              NaN  \n",
       "2025-03-11 23:54:00-05:00              NaN  \n",
       "2025-03-11 23:56:00-05:00              NaN  \n",
       "2025-03-11 23:58:00-05:00              NaN  \n",
       "2025-03-11 23:59:00-05:00              NaN  \n",
       "\n",
       "[3840660 rows x 19 columns]"
      ]
     },
     "metadata": {},
     "output_type": "display_data"
    }
   ],
   "source": [
    "display(wti_with_eia_releases)"
   ]
  },
  {
   "cell_type": "code",
   "execution_count": 62,
   "metadata": {},
   "outputs": [
    {
     "data": {
      "text/plain": [
       "index                                             int64\n",
       "Date                                             object\n",
       "Time_x                                           object\n",
       "Open                                            float64\n",
       "High                                            float64\n",
       "Low                                             float64\n",
       "Close                                           float64\n",
       "Volume                                            int64\n",
       "Datetime                                 datetime64[ns]\n",
       "Percent_Change                                  float64\n",
       "Release_Datetime_CST    datetime64[ns, America/Chicago]\n",
       "Release Date                                     object\n",
       "Time_y                                           object\n",
       "Actual                                           object\n",
       "Forecast                                         object\n",
       "Previous                                         object\n",
       "Release_Datetime                         datetime64[ns]\n",
       "Release_Datetime_EST         datetime64[ns, US/Eastern]\n",
       "supply_surprise                                 float64\n",
       "dtype: object"
      ]
     },
     "execution_count": 62,
     "metadata": {},
     "output_type": "execute_result"
    }
   ],
   "source": [
    "wti_with_eia_releases.dtypes"
   ]
  },
  {
   "cell_type": "code",
   "execution_count": 99,
   "metadata": {},
   "outputs": [
    {
     "data": {
      "text/html": [
       "<div>\n",
       "<style scoped>\n",
       "    .dataframe tbody tr th:only-of-type {\n",
       "        vertical-align: middle;\n",
       "    }\n",
       "\n",
       "    .dataframe tbody tr th {\n",
       "        vertical-align: top;\n",
       "    }\n",
       "\n",
       "    .dataframe thead th {\n",
       "        text-align: right;\n",
       "    }\n",
       "</style>\n",
       "<table border=\"1\" class=\"dataframe\">\n",
       "  <thead>\n",
       "    <tr style=\"text-align: right;\">\n",
       "      <th></th>\n",
       "      <th>Open</th>\n",
       "      <th>High</th>\n",
       "      <th>Low</th>\n",
       "      <th>Close</th>\n",
       "      <th>Volume</th>\n",
       "      <th>Percent_Change</th>\n",
       "      <th>Release_Datetime_CST</th>\n",
       "      <th>Actual</th>\n",
       "      <th>Forecast</th>\n",
       "      <th>Previous</th>\n",
       "      <th>Release_Datetime_EST</th>\n",
       "      <th>supply_surprise</th>\n",
       "      <th>Time_till_Release</th>\n",
       "    </tr>\n",
       "    <tr>\n",
       "      <th>Datetime_CST</th>\n",
       "      <th></th>\n",
       "      <th></th>\n",
       "      <th></th>\n",
       "      <th></th>\n",
       "      <th></th>\n",
       "      <th></th>\n",
       "      <th></th>\n",
       "      <th></th>\n",
       "      <th></th>\n",
       "      <th></th>\n",
       "      <th></th>\n",
       "      <th></th>\n",
       "      <th></th>\n",
       "    </tr>\n",
       "  </thead>\n",
       "  <tbody>\n",
       "    <tr>\n",
       "      <th>2011-03-07 23:59:00-06:00</th>\n",
       "      <td>104.74</td>\n",
       "      <td>104.77</td>\n",
       "      <td>104.73</td>\n",
       "      <td>104.73</td>\n",
       "      <td>18</td>\n",
       "      <td>NaN</td>\n",
       "      <td>2011-03-09 09:30:00-06:00</td>\n",
       "      <td>2.500M</td>\n",
       "      <td>1.100M</td>\n",
       "      <td>-0.400M</td>\n",
       "      <td>2011-03-09 10:30:00-05:00</td>\n",
       "      <td>1.4</td>\n",
       "      <td>869.0</td>\n",
       "    </tr>\n",
       "    <tr>\n",
       "      <th>2011-03-08 00:00:00-06:00</th>\n",
       "      <td>104.74</td>\n",
       "      <td>104.82</td>\n",
       "      <td>104.74</td>\n",
       "      <td>104.81</td>\n",
       "      <td>34</td>\n",
       "      <td>0.076387</td>\n",
       "      <td>2011-03-09 09:30:00-06:00</td>\n",
       "      <td>2.500M</td>\n",
       "      <td>1.100M</td>\n",
       "      <td>-0.400M</td>\n",
       "      <td>2011-03-09 10:30:00-05:00</td>\n",
       "      <td>1.4</td>\n",
       "      <td>-570.0</td>\n",
       "    </tr>\n",
       "    <tr>\n",
       "      <th>2011-03-08 00:01:00-06:00</th>\n",
       "      <td>104.82</td>\n",
       "      <td>104.84</td>\n",
       "      <td>104.82</td>\n",
       "      <td>104.82</td>\n",
       "      <td>12</td>\n",
       "      <td>0.009541</td>\n",
       "      <td>2011-03-09 09:30:00-06:00</td>\n",
       "      <td>2.500M</td>\n",
       "      <td>1.100M</td>\n",
       "      <td>-0.400M</td>\n",
       "      <td>2011-03-09 10:30:00-05:00</td>\n",
       "      <td>1.4</td>\n",
       "      <td>-569.0</td>\n",
       "    </tr>\n",
       "    <tr>\n",
       "      <th>2011-03-08 00:02:00-06:00</th>\n",
       "      <td>104.81</td>\n",
       "      <td>104.81</td>\n",
       "      <td>104.73</td>\n",
       "      <td>104.75</td>\n",
       "      <td>20</td>\n",
       "      <td>-0.066781</td>\n",
       "      <td>2011-03-09 09:30:00-06:00</td>\n",
       "      <td>2.500M</td>\n",
       "      <td>1.100M</td>\n",
       "      <td>-0.400M</td>\n",
       "      <td>2011-03-09 10:30:00-05:00</td>\n",
       "      <td>1.4</td>\n",
       "      <td>-568.0</td>\n",
       "    </tr>\n",
       "    <tr>\n",
       "      <th>2011-03-08 00:03:00-06:00</th>\n",
       "      <td>104.74</td>\n",
       "      <td>104.76</td>\n",
       "      <td>104.71</td>\n",
       "      <td>104.76</td>\n",
       "      <td>25</td>\n",
       "      <td>0.009547</td>\n",
       "      <td>2011-03-09 09:30:00-06:00</td>\n",
       "      <td>2.500M</td>\n",
       "      <td>1.100M</td>\n",
       "      <td>-0.400M</td>\n",
       "      <td>2011-03-09 10:30:00-05:00</td>\n",
       "      <td>1.4</td>\n",
       "      <td>-567.0</td>\n",
       "    </tr>\n",
       "    <tr>\n",
       "      <th>...</th>\n",
       "      <td>...</td>\n",
       "      <td>...</td>\n",
       "      <td>...</td>\n",
       "      <td>...</td>\n",
       "      <td>...</td>\n",
       "      <td>...</td>\n",
       "      <td>...</td>\n",
       "      <td>...</td>\n",
       "      <td>...</td>\n",
       "      <td>...</td>\n",
       "      <td>...</td>\n",
       "      <td>...</td>\n",
       "      <td>...</td>\n",
       "    </tr>\n",
       "    <tr>\n",
       "      <th>2025-03-11 23:53:00-05:00</th>\n",
       "      <td>66.75</td>\n",
       "      <td>66.76</td>\n",
       "      <td>66.74</td>\n",
       "      <td>66.75</td>\n",
       "      <td>23</td>\n",
       "      <td>0.000000</td>\n",
       "      <td>2025-03-12 07:30:00-05:00</td>\n",
       "      <td>NaN</td>\n",
       "      <td>NaN</td>\n",
       "      <td>3.614M</td>\n",
       "      <td>2025-03-12 08:30:00-04:00</td>\n",
       "      <td>NaN</td>\n",
       "      <td>983.0</td>\n",
       "    </tr>\n",
       "    <tr>\n",
       "      <th>2025-03-11 23:54:00-05:00</th>\n",
       "      <td>66.75</td>\n",
       "      <td>66.75</td>\n",
       "      <td>66.75</td>\n",
       "      <td>66.75</td>\n",
       "      <td>13</td>\n",
       "      <td>0.000000</td>\n",
       "      <td>2025-03-12 07:30:00-05:00</td>\n",
       "      <td>NaN</td>\n",
       "      <td>NaN</td>\n",
       "      <td>3.614M</td>\n",
       "      <td>2025-03-12 08:30:00-04:00</td>\n",
       "      <td>NaN</td>\n",
       "      <td>984.0</td>\n",
       "    </tr>\n",
       "    <tr>\n",
       "      <th>2025-03-11 23:56:00-05:00</th>\n",
       "      <td>66.75</td>\n",
       "      <td>66.75</td>\n",
       "      <td>66.74</td>\n",
       "      <td>66.74</td>\n",
       "      <td>3</td>\n",
       "      <td>-0.014981</td>\n",
       "      <td>2025-03-12 07:30:00-05:00</td>\n",
       "      <td>NaN</td>\n",
       "      <td>NaN</td>\n",
       "      <td>3.614M</td>\n",
       "      <td>2025-03-12 08:30:00-04:00</td>\n",
       "      <td>NaN</td>\n",
       "      <td>986.0</td>\n",
       "    </tr>\n",
       "    <tr>\n",
       "      <th>2025-03-11 23:58:00-05:00</th>\n",
       "      <td>66.75</td>\n",
       "      <td>66.75</td>\n",
       "      <td>66.75</td>\n",
       "      <td>66.75</td>\n",
       "      <td>3</td>\n",
       "      <td>0.014984</td>\n",
       "      <td>2025-03-12 07:30:00-05:00</td>\n",
       "      <td>NaN</td>\n",
       "      <td>NaN</td>\n",
       "      <td>3.614M</td>\n",
       "      <td>2025-03-12 08:30:00-04:00</td>\n",
       "      <td>NaN</td>\n",
       "      <td>988.0</td>\n",
       "    </tr>\n",
       "    <tr>\n",
       "      <th>2025-03-11 23:59:00-05:00</th>\n",
       "      <td>66.75</td>\n",
       "      <td>66.75</td>\n",
       "      <td>66.75</td>\n",
       "      <td>66.75</td>\n",
       "      <td>1</td>\n",
       "      <td>0.000000</td>\n",
       "      <td>2025-03-12 07:30:00-05:00</td>\n",
       "      <td>NaN</td>\n",
       "      <td>NaN</td>\n",
       "      <td>3.614M</td>\n",
       "      <td>2025-03-12 08:30:00-04:00</td>\n",
       "      <td>NaN</td>\n",
       "      <td>989.0</td>\n",
       "    </tr>\n",
       "  </tbody>\n",
       "</table>\n",
       "<p>2779439 rows × 13 columns</p>\n",
       "</div>"
      ],
      "text/plain": [
       "                             Open    High     Low   Close  Volume  \\\n",
       "Datetime_CST                                                        \n",
       "2011-03-07 23:59:00-06:00  104.74  104.77  104.73  104.73      18   \n",
       "2011-03-08 00:00:00-06:00  104.74  104.82  104.74  104.81      34   \n",
       "2011-03-08 00:01:00-06:00  104.82  104.84  104.82  104.82      12   \n",
       "2011-03-08 00:02:00-06:00  104.81  104.81  104.73  104.75      20   \n",
       "2011-03-08 00:03:00-06:00  104.74  104.76  104.71  104.76      25   \n",
       "...                           ...     ...     ...     ...     ...   \n",
       "2025-03-11 23:53:00-05:00   66.75   66.76   66.74   66.75      23   \n",
       "2025-03-11 23:54:00-05:00   66.75   66.75   66.75   66.75      13   \n",
       "2025-03-11 23:56:00-05:00   66.75   66.75   66.74   66.74       3   \n",
       "2025-03-11 23:58:00-05:00   66.75   66.75   66.75   66.75       3   \n",
       "2025-03-11 23:59:00-05:00   66.75   66.75   66.75   66.75       1   \n",
       "\n",
       "                           Percent_Change      Release_Datetime_CST  Actual  \\\n",
       "Datetime_CST                                                                  \n",
       "2011-03-07 23:59:00-06:00             NaN 2011-03-09 09:30:00-06:00  2.500M   \n",
       "2011-03-08 00:00:00-06:00        0.076387 2011-03-09 09:30:00-06:00  2.500M   \n",
       "2011-03-08 00:01:00-06:00        0.009541 2011-03-09 09:30:00-06:00  2.500M   \n",
       "2011-03-08 00:02:00-06:00       -0.066781 2011-03-09 09:30:00-06:00  2.500M   \n",
       "2011-03-08 00:03:00-06:00        0.009547 2011-03-09 09:30:00-06:00  2.500M   \n",
       "...                                   ...                       ...     ...   \n",
       "2025-03-11 23:53:00-05:00        0.000000 2025-03-12 07:30:00-05:00     NaN   \n",
       "2025-03-11 23:54:00-05:00        0.000000 2025-03-12 07:30:00-05:00     NaN   \n",
       "2025-03-11 23:56:00-05:00       -0.014981 2025-03-12 07:30:00-05:00     NaN   \n",
       "2025-03-11 23:58:00-05:00        0.014984 2025-03-12 07:30:00-05:00     NaN   \n",
       "2025-03-11 23:59:00-05:00        0.000000 2025-03-12 07:30:00-05:00     NaN   \n",
       "\n",
       "                          Forecast Previous      Release_Datetime_EST  \\\n",
       "Datetime_CST                                                            \n",
       "2011-03-07 23:59:00-06:00   1.100M  -0.400M 2011-03-09 10:30:00-05:00   \n",
       "2011-03-08 00:00:00-06:00   1.100M  -0.400M 2011-03-09 10:30:00-05:00   \n",
       "2011-03-08 00:01:00-06:00   1.100M  -0.400M 2011-03-09 10:30:00-05:00   \n",
       "2011-03-08 00:02:00-06:00   1.100M  -0.400M 2011-03-09 10:30:00-05:00   \n",
       "2011-03-08 00:03:00-06:00   1.100M  -0.400M 2011-03-09 10:30:00-05:00   \n",
       "...                            ...      ...                       ...   \n",
       "2025-03-11 23:53:00-05:00      NaN   3.614M 2025-03-12 08:30:00-04:00   \n",
       "2025-03-11 23:54:00-05:00      NaN   3.614M 2025-03-12 08:30:00-04:00   \n",
       "2025-03-11 23:56:00-05:00      NaN   3.614M 2025-03-12 08:30:00-04:00   \n",
       "2025-03-11 23:58:00-05:00      NaN   3.614M 2025-03-12 08:30:00-04:00   \n",
       "2025-03-11 23:59:00-05:00      NaN   3.614M 2025-03-12 08:30:00-04:00   \n",
       "\n",
       "                           supply_surprise  Time_till_Release  \n",
       "Datetime_CST                                                   \n",
       "2011-03-07 23:59:00-06:00              1.4              869.0  \n",
       "2011-03-08 00:00:00-06:00              1.4             -570.0  \n",
       "2011-03-08 00:01:00-06:00              1.4             -569.0  \n",
       "2011-03-08 00:02:00-06:00              1.4             -568.0  \n",
       "2011-03-08 00:03:00-06:00              1.4             -567.0  \n",
       "...                                    ...                ...  \n",
       "2025-03-11 23:53:00-05:00              NaN              983.0  \n",
       "2025-03-11 23:54:00-05:00              NaN              984.0  \n",
       "2025-03-11 23:56:00-05:00              NaN              986.0  \n",
       "2025-03-11 23:58:00-05:00              NaN              988.0  \n",
       "2025-03-11 23:59:00-05:00              NaN              989.0  \n",
       "\n",
       "[2779439 rows x 13 columns]"
      ]
     },
     "metadata": {},
     "output_type": "display_data"
    },
    {
     "name": "stdout",
     "output_type": "stream",
     "text": [
      "                               Release_Datetime_CST  Time_till_Release\n",
      "Datetime_CST                                                          \n",
      "2011-03-07 23:59:00-06:00 2011-03-09 09:30:00-06:00              869.0\n",
      "2011-03-08 00:00:00-06:00 2011-03-09 09:30:00-06:00             -570.0\n",
      "2011-03-08 00:01:00-06:00 2011-03-09 09:30:00-06:00             -569.0\n",
      "2011-03-08 00:02:00-06:00 2011-03-09 09:30:00-06:00             -568.0\n",
      "2011-03-08 00:03:00-06:00 2011-03-09 09:30:00-06:00             -567.0\n",
      "\n",
      "Summary statistics for Time_till_Release:\n",
      "count    2.779439e+06\n",
      "mean     1.652097e+02\n",
      "std      4.138760e+02\n",
      "min     -7.200000e+02\n",
      "25%     -1.860000e+02\n",
      "50%      1.460000e+02\n",
      "75%      5.340000e+02\n",
      "max      9.890000e+02\n",
      "Name: Time_till_Release, dtype: float64\n"
     ]
    }
   ],
   "source": [
    "# 2. Calculate the time difference: Release_Datetime_CST - Datetime_CST\n",
    "#    This will give you a pandas Timedelta object.\n",
    "def time_difference(time1, time2):\n",
    "    \"\"\"\n",
    "    Calculates the time difference in seconds between two datetime.time objects.\n",
    "\n",
    "    Args:\n",
    "        time1: The first datetime.time object.\n",
    "        time2: The second datetime.time object.\n",
    "\n",
    "    Returns:\n",
    "        The time difference in minutes as a float.\n",
    "    \"\"\"\n",
    "    # Choose a dummy date (it can be any date, as we only care about time difference)\n",
    "    dummy_date = datetime.date(1, 1, 1)  # January 1, Year 1\n",
    "\n",
    "    # Combine the dummy date with the times to create datetime.datetime objects\n",
    "    datetime1 = datetime.datetime.combine(dummy_date, time1)\n",
    "    datetime2 = datetime.datetime.combine(dummy_date, time2)\n",
    "\n",
    "    # Calculate the difference (this will be a timedelta object)\n",
    "    time_delta = datetime2 - datetime1\n",
    "\n",
    "    # Return the difference in seconds (you can adjust to minutes, hours, etc.)\n",
    "    return time_delta.total_seconds() / 60\n",
    "\n",
    "wti_with_eia_releases.dropna(subset=['Release_Datetime_CST'], inplace=True)\n",
    "\n",
    "time_diff = [time_difference(t1, t2) for t1, t2 in zip(wti_with_eia_releases.reset_index()['Release_Datetime_CST'].dt.time, wti_with_eia_releases.reset_index()['Datetime_CST'].dt.time)]\n",
    "\n",
    "# 3. Convert the Timedelta to minutes\n",
    "#    Timedelta objects have a .dt.total_seconds() method, then divide by 60 to get minutes.\n",
    "time_diff_series = pd.Series(time_diff)\n",
    "wti_with_eia_releases.reset_index(inplace=True)\n",
    "wti_with_eia_releases['Time_till_Release'] = (time_diff_series)\n",
    "wti_with_eia_releases.set_index('Datetime_CST', inplace=True)\n",
    "display(wti_with_eia_releases)\n",
    "# 4. (Optional) Display the first few rows with the new column\n",
    "print(wti_with_eia_releases[['Release_Datetime_CST', 'Time_till_Release']].head())\n",
    "\n",
    "# 5. (Optional) Summary statistics of the Time_to_Release_minutes\n",
    "print(\"\\nSummary statistics for Time_till_Release:\")\n",
    "print(wti_with_eia_releases['Time_till_Release'].describe())"
   ]
  },
  {
   "cell_type": "code",
   "execution_count": 102,
   "metadata": {},
   "outputs": [
    {
     "data": {
      "text/html": [
       "<div>\n",
       "<style scoped>\n",
       "    .dataframe tbody tr th:only-of-type {\n",
       "        vertical-align: middle;\n",
       "    }\n",
       "\n",
       "    .dataframe tbody tr th {\n",
       "        vertical-align: top;\n",
       "    }\n",
       "\n",
       "    .dataframe thead th {\n",
       "        text-align: right;\n",
       "    }\n",
       "</style>\n",
       "<table border=\"1\" class=\"dataframe\">\n",
       "  <thead>\n",
       "    <tr style=\"text-align: right;\">\n",
       "      <th></th>\n",
       "      <th>Volume</th>\n",
       "      <th>Percent_Change</th>\n",
       "      <th>Actual</th>\n",
       "      <th>Forecast</th>\n",
       "      <th>Previous</th>\n",
       "      <th>supply_surprise</th>\n",
       "      <th>Time_till_Release</th>\n",
       "    </tr>\n",
       "  </thead>\n",
       "  <tbody>\n",
       "    <tr>\n",
       "      <th>0</th>\n",
       "      <td>875</td>\n",
       "      <td>-0.142383</td>\n",
       "      <td>2.500M</td>\n",
       "      <td>1.100M</td>\n",
       "      <td>-0.400M</td>\n",
       "      <td>1.4</td>\n",
       "      <td>-60.0</td>\n",
       "    </tr>\n",
       "    <tr>\n",
       "      <th>1</th>\n",
       "      <td>566</td>\n",
       "      <td>0.019011</td>\n",
       "      <td>2.500M</td>\n",
       "      <td>1.100M</td>\n",
       "      <td>-0.400M</td>\n",
       "      <td>1.4</td>\n",
       "      <td>-59.0</td>\n",
       "    </tr>\n",
       "    <tr>\n",
       "      <th>2</th>\n",
       "      <td>921</td>\n",
       "      <td>-0.076031</td>\n",
       "      <td>2.500M</td>\n",
       "      <td>1.100M</td>\n",
       "      <td>-0.400M</td>\n",
       "      <td>1.4</td>\n",
       "      <td>-58.0</td>\n",
       "    </tr>\n",
       "    <tr>\n",
       "      <th>3</th>\n",
       "      <td>574</td>\n",
       "      <td>-0.066578</td>\n",
       "      <td>2.500M</td>\n",
       "      <td>1.100M</td>\n",
       "      <td>-0.400M</td>\n",
       "      <td>1.4</td>\n",
       "      <td>-57.0</td>\n",
       "    </tr>\n",
       "    <tr>\n",
       "      <th>4</th>\n",
       "      <td>1099</td>\n",
       "      <td>-0.057105</td>\n",
       "      <td>2.500M</td>\n",
       "      <td>1.100M</td>\n",
       "      <td>-0.400M</td>\n",
       "      <td>1.4</td>\n",
       "      <td>-56.0</td>\n",
       "    </tr>\n",
       "    <tr>\n",
       "      <th>...</th>\n",
       "      <td>...</td>\n",
       "      <td>...</td>\n",
       "      <td>...</td>\n",
       "      <td>...</td>\n",
       "      <td>...</td>\n",
       "      <td>...</td>\n",
       "      <td>...</td>\n",
       "    </tr>\n",
       "    <tr>\n",
       "      <th>255333</th>\n",
       "      <td>128</td>\n",
       "      <td>0.000000</td>\n",
       "      <td>NaN</td>\n",
       "      <td>NaN</td>\n",
       "      <td>3.614M</td>\n",
       "      <td>NaN</td>\n",
       "      <td>56.0</td>\n",
       "    </tr>\n",
       "    <tr>\n",
       "      <th>255334</th>\n",
       "      <td>133</td>\n",
       "      <td>0.000000</td>\n",
       "      <td>NaN</td>\n",
       "      <td>NaN</td>\n",
       "      <td>3.614M</td>\n",
       "      <td>NaN</td>\n",
       "      <td>57.0</td>\n",
       "    </tr>\n",
       "    <tr>\n",
       "      <th>255335</th>\n",
       "      <td>88</td>\n",
       "      <td>0.014968</td>\n",
       "      <td>NaN</td>\n",
       "      <td>NaN</td>\n",
       "      <td>3.614M</td>\n",
       "      <td>NaN</td>\n",
       "      <td>58.0</td>\n",
       "    </tr>\n",
       "    <tr>\n",
       "      <th>255336</th>\n",
       "      <td>275</td>\n",
       "      <td>0.000000</td>\n",
       "      <td>NaN</td>\n",
       "      <td>NaN</td>\n",
       "      <td>3.614M</td>\n",
       "      <td>NaN</td>\n",
       "      <td>59.0</td>\n",
       "    </tr>\n",
       "    <tr>\n",
       "      <th>255337</th>\n",
       "      <td>284</td>\n",
       "      <td>0.014966</td>\n",
       "      <td>NaN</td>\n",
       "      <td>NaN</td>\n",
       "      <td>3.614M</td>\n",
       "      <td>NaN</td>\n",
       "      <td>60.0</td>\n",
       "    </tr>\n",
       "  </tbody>\n",
       "</table>\n",
       "<p>255338 rows × 7 columns</p>\n",
       "</div>"
      ],
      "text/plain": [
       "        Volume  Percent_Change  Actual Forecast Previous  supply_surprise  \\\n",
       "0          875       -0.142383  2.500M   1.100M  -0.400M              1.4   \n",
       "1          566        0.019011  2.500M   1.100M  -0.400M              1.4   \n",
       "2          921       -0.076031  2.500M   1.100M  -0.400M              1.4   \n",
       "3          574       -0.066578  2.500M   1.100M  -0.400M              1.4   \n",
       "4         1099       -0.057105  2.500M   1.100M  -0.400M              1.4   \n",
       "...        ...             ...     ...      ...      ...              ...   \n",
       "255333     128        0.000000     NaN      NaN   3.614M              NaN   \n",
       "255334     133        0.000000     NaN      NaN   3.614M              NaN   \n",
       "255335      88        0.014968     NaN      NaN   3.614M              NaN   \n",
       "255336     275        0.000000     NaN      NaN   3.614M              NaN   \n",
       "255337     284        0.014966     NaN      NaN   3.614M              NaN   \n",
       "\n",
       "        Time_till_Release  \n",
       "0                   -60.0  \n",
       "1                   -59.0  \n",
       "2                   -58.0  \n",
       "3                   -57.0  \n",
       "4                   -56.0  \n",
       "...                   ...  \n",
       "255333               56.0  \n",
       "255334               57.0  \n",
       "255335               58.0  \n",
       "255336               59.0  \n",
       "255337               60.0  \n",
       "\n",
       "[255338 rows x 7 columns]"
      ]
     },
     "metadata": {},
     "output_type": "display_data"
    }
   ],
   "source": [
    "non_release_price_windows_60min = wti_with_eia_releases.copy().loc[wti_with_eia_releases['Time_till_Release'].abs() <= 60.0]\n",
    "non_release_price_windows_60min.reset_index(inplace=True)\n",
    "non_release_price_windows_60min.drop(columns=['Datetime_CST', 'Open', 'High', 'Low', 'Close', 'Release_Datetime_CST', 'Release_Datetime_EST'], inplace=True)\n",
    "display(non_release_price_windows_60min)"
   ]
  },
  {
   "cell_type": "code",
   "execution_count": 110,
   "metadata": {},
   "outputs": [
    {
     "name": "stderr",
     "output_type": "stream",
     "text": [
      "C:\\Users\\evans\\AppData\\Local\\Temp\\ipykernel_23536\\3650890387.py:10: FutureWarning:\n",
      "\n",
      "The default of observed=False is deprecated and will be changed to True in a future version of pandas. Pass observed=False to retain current behavior or observed=True to adopt the future default and silence this warning.\n",
      "\n"
     ]
    },
    {
     "data": {
      "application/vnd.plotly.v1+json": {
       "config": {
        "plotlyServerURL": "https://plot.ly"
       },
       "data": [
        {
         "colorbar": {
          "title": {
           "text": "Frequency"
          }
         },
         "colorscale": [
          [
           0,
           "#440154"
          ],
          [
           0.1111111111111111,
           "#482878"
          ],
          [
           0.2222222222222222,
           "#3e4989"
          ],
          [
           0.3333333333333333,
           "#31688e"
          ],
          [
           0.4444444444444444,
           "#26828e"
          ],
          [
           0.5555555555555556,
           "#1f9e89"
          ],
          [
           0.6666666666666666,
           "#35b779"
          ],
          [
           0.7777777777777778,
           "#6ece58"
          ],
          [
           0.8888888888888888,
           "#b5de2b"
          ],
          [
           1,
           "#fde725"
          ]
         ],
         "type": "heatmap",
         "x": {
          "bdata": "AAAAAAAATsAAAAAAAIBNwAAAAAAAAE3AAAAAAACATMAAAAAAAABMwAAAAAAAgEvAAAAAAAAAS8AAAAAAAIBKwAAAAAAAAErAAAAAAACAScAAAAAAAABJwAAAAAAAgEjAAAAAAAAASMAAAAAAAIBHwAAAAAAAAEfAAAAAAACARsAAAAAAAABGwAAAAAAAgEXAAAAAAAAARcAAAAAAAIBEwAAAAAAAAETAAAAAAACAQ8AAAAAAAABDwAAAAAAAgELAAAAAAAAAQsAAAAAAAIBBwAAAAAAAAEHAAAAAAACAQMAAAAAAAABAwAAAAAAAAD/AAAAAAAAAPsAAAAAAAAA9wAAAAAAAADzAAAAAAAAAO8AAAAAAAAA6wAAAAAAAADnAAAAAAAAAOMAAAAAAAAA3wAAAAAAAADbAAAAAAAAANcAAAAAAAAA0wAAAAAAAADPAAAAAAAAAMsAAAAAAAAAxwAAAAAAAADDAAAAAAAAALsAAAAAAAAAswAAAAAAAACrAAAAAAAAAKMAAAAAAAAAmwAAAAAAAACTAAAAAAAAAIsAAAAAAAAAgwAAAAAAAABzAAAAAAAAAGMAAAAAAAAAUwAAAAAAAABDAAAAAAAAACMAAAAAAAAAAwAAAAAAAAPC/AAAAAAAAAAAAAAAAAADwPwAAAAAAAABAAAAAAAAACEAAAAAAAAAQQAAAAAAAABRAAAAAAAAAGEAAAAAAAAAcQAAAAAAAACBAAAAAAAAAIkAAAAAAAAAkQAAAAAAAACZAAAAAAAAAKEAAAAAAAAAqQAAAAAAAACxAAAAAAAAALkAAAAAAAAAwQAAAAAAAADFAAAAAAAAAMkAAAAAAAAAzQAAAAAAAADRAAAAAAAAANUAAAAAAAAA2QAAAAAAAADdAAAAAAAAAOEAAAAAAAAA5QAAAAAAAADpAAAAAAAAAO0AAAAAAAAA8QAAAAAAAAD1AAAAAAAAAPkAAAAAAAAA/QAAAAAAAAEBAAAAAAACAQEAAAAAAAABBQAAAAAAAgEFAAAAAAAAAQkAAAAAAAIBCQAAAAAAAAENAAAAAAACAQ0AAAAAAAABEQAAAAAAAgERAAAAAAAAARUAAAAAAAIBFQAAAAAAAAEZAAAAAAACARkAAAAAAAABHQAAAAAAAgEdAAAAAAAAASEAAAAAAAIBIQAAAAAAAAElAAAAAAACASUAAAAAAAABKQAAAAAAAgEpAAAAAAAAAS0AAAAAAAIBLQAAAAAAAAExAAAAAAACATEAAAAAAAABNQAAAAAAAgE1AAAAAAAAATkA=",
          "dtype": "f8"
         },
         "y": [
          "-1.00%",
          "-0.95%",
          "-0.90%",
          "-0.85%",
          "-0.80%",
          "-0.75%",
          "-0.70%",
          "-0.65%",
          "-0.60%",
          "-0.55%",
          "-0.50%",
          "-0.45%",
          "-0.40%",
          "-0.35%",
          "-0.30%",
          "-0.25%",
          "-0.20%",
          "-0.15%",
          "-0.10%",
          "-0.05%",
          "0.00%",
          "0.05%",
          "0.10%",
          "0.15%",
          "0.20%",
          "0.25%",
          "0.30%",
          "0.35%",
          "0.40%",
          "0.45%",
          "0.50%",
          "0.55%",
          "0.60%",
          "0.65%",
          "0.70%",
          "0.75%",
          "0.80%",
          "0.85%",
          "0.90%",
          "0.95%"
         ],
         "z": {
          "bdata": "AQAAAAAAAAAAAAAAAAAAAAEAAAAAAAAAAAAAAAAAAAAAAAAAAAABAAAAAAAAAAAAAAAAAAAAAAAAAAAAAQAAAAEAAAAAAAEAAAAAAAAAAAAAAAAAAAAAAAAAAAAAAAAAAAAAAAAAAAAAAAEAAAAAAAEAAAAAAAAAAAABAAAAAAAAAAAAAAAAAAEAAAAAAAAAAAAAAAAAAAAAAAAAAQAAAAAAAAAAAAAAAAAAAAAAAAAAAAAAAAAAAAAAAAAAAAAAAAAAAAAAAAAAAAAAAAAAAAAAAQAAAAAAAAAAAAAAAAAAAAAAAAAAAAAAAAAAAAAAAAAAAAAAAAAAAAAAAAAAAAAAAAAAAAAAAAAAAAAAAAAAAAAAAAAAAAAAAAAAAAAAAAAAAAAAAAAAAAAAAAABAAAAAAAAAAAAAAAAAAAAAQABAAAAAAAAAAAAAAAAAAAAAAAAAAAAAAAAAAAAAAAAAAEAAAAAAAAAAAAAAAAAAAAAAAAAAAAAAAAAAAAAAAAAAAAAAAAAAAAAAAAAAAAAAAAAAAAAAAAAAAAAAAAAAAAAAAAAAAACAAAAAAAAAAAAAAAAAAAAAQAAAAAAAAAAAAAAAAAAAAAAAAAAAAIAAAAAAAAAAAAAAAAAAQAAAAAAAAAAAAAAAAAAAAAAAAABAAAAAAABAAAAAQAAAAAAAAAAAAAAAAAAAAEAAAAAAAAAAAAAAAAAAAAAAAAAAAAAAAAAAAAAAAAAAAAAAAAAAQAAAAAAAAAAAAAAAAAAAAAAAAAAAAEAAAAAAAAAAAAAAAAAAAAAAAEAAAAAAAAAAAAAAAEAAAAAAAAAAAABAAAAAAABAAEAAAABAAAAAAAAAAAAAAAAAAAAAAAAAAAAAAABAAEAAAAAAAAAAAAAAAAAAAAAAAEAAAAAAAAAAAAAAAAAAAAAAAAAAAAAAAAAAAAAAAAAAAAAAAAAAAAAAAEAAQAAAAAAAQABAAAAAAAAAAAAAAAAAAAAAAAAAAAAAAAAAAAAAAAAAAAAAAAAAAAAAAAAAAAAAAAAAAAAAQABAAAAAAABAAEAAAABAAAAAAABAAAAAAAAAAAAAQAAAAEAAAAAAAAAAAAAAAAAAAAAAAAAAAAAAAAAAAAAAAAAAAABAAEAAAAAAAEAAAABAAAAAAAAAAMAAAAAAAAAAAAAAAAAAAAAAAAAAAAAAAAAAAAAAAAAAAAAAAAAAAABAAEAAAAAAAEAAAABAAEAAAAAAAAAAAAAAAAAAAAAAAAAAAAAAAAAAAAAAAAAAAAAAAAAAAAAAAAAAAAAAAAAAAAAAAAAAAAAAAAAAAAAAAAAAAAAAAAAAAABAAAAAAAAAAAAAQAAAAAAAAAAAAEAAAAAAAAAAAACAAAAAAAAAAEAAAAAAAEAAAAAAAAAAAAAAAAAAAAAAAAAAQAAAAAAAAAAAAAAAAAAAAAAAQAAAAAAAAABAAAAAAAAAAAAAAABAAAAAAAAAAAAAAAAAAAAAAAAAAIAAAAAAAAAAAAAAAAAAAABAAAAAQAAAAAAAAAAAAIAAAAAAAAAAAAAAAEAAAAAAAAAAAAAAAAAAAAAAAAAAQAAAAAAAAABAAAAAAABAAAAAAAAAAAAAAAAAAEAAQABAAAAAAABAAAAAAAAAAEAAAAAAAAAAAAAAAAAAQAAAAAAAAAAAAAAAAABAAAAAQAAAAAAAAAAAAMAAAAAAAAAAAACAAAAAQAAAAEAAAAAAAAAAQAAAAAAAAAAAAAAAAAAAAAAAAABAAAAAAAAAAAAAAAAAAAAAAAAAAAAAQAAAAAAAAAAAAAAAAAAAAEAAAAAAAAAAAABAAAAAAAAAAAAAAAAAAAAAQAAAAAAAAAAAAIAAAAAAAEAAAAAAAAAAAAAAAEAAAAAAAAAAAAAAAAAAAAAAAAAAAABAAAAAAAAAAAAAAAAAAAAAAAAAAAAAgAAAAEAAAAAAAAAAAAAAAAAAQABAAEAAAAAAAAAAQAAAAEAAAAAAAEAAQAAAAAAAAAAAAAAAAAAAAAAAAABAAEAAQABAAAAAAABAAAAAAABAAAAAAAAAAAAAgAAAAAAAgAAAAAAAAACAAAAAAAAAAEAAAAAAAAAAQACAAEAAAABAAEAAQAAAAAAAAAAAAAAAAACAAAAAgAAAAEAAAAAAAAAAAAAAAAAAAAAAAAAAQAAAAAAAgABAAEAAQAAAAAAAAAAAAAAAAAAAAAAAAAAAAAAAAAAAAEAAQAAAAAAAAAAAAAAAAAAAAAAAAAAAAAAAAABAAAAAAAAAAAAAAAAAAAAAAABAAEAAAABAAAAAAABAAAAAQAAAAEAAQAAAAAAAAAAAAAAAgAAAAAAAAAJAAAAAQAAAAAAAQACAAAAAQABAAMAAAAAAAAAAAAAAAEAAAAAAAEAAgAAAAAAAAABAAAAAAAAAAAAAAABAAAAAQACAAAAAQABAAAAAgAAAAEAAAAAAAAAAQADAAEAAAAAAAEAAAAAAAAAAAAAAAIAAAAAAAEAAAAEAAAAAAAAAAAAAQAAAAAAAQAAAAAAAQABAAAAAAAAAAAAAAABAAAAAAAAAAEAAAAAAAAAAAABAAAAAAABAAEAAQABAAEAAAAAAAAAAQABAAAAAAAAAAEAAQAAAAAAAAAAAAAAAQAAAAAAAAAAAAAAAAABAAAAAAAAAAQAAQAAAAAAAAAAAAAAAgAAAAIAAAAAAAAAAAABAAAAAQABAAAAAAABAAIAAAAAAAIAAAAAAAAAAgABAAYAAgAAAAAAAAABAAAAAgABAAEAAAABAAAAAQADAAAAAAAAAAEAAAAAAAAAAAAAAAAAAQABAAAAAQAAAAEAAAAAAAIAAgAAAAMAAAAAAAEAAQABAAAAAAAAAAEAAAABAAEAAAABAAAAAAAAAAAAAgAAAAAAAAABAAIABQABAAMAAAAAAAEAAQABAAEAAQAAAAAAAQAAAAEAAAAAAAEAAAAAAAEAAQABAAEAAAACAAAAAAABAAAABQACAAMAAQABAAEAAQADAAEAAQABAAEAAQAAAAIAAgABAAIAAAAAAAEAAAAAAAAAAQAAAAAAAAAAAAAAAgABAAAAAgACAAIAAQACAAAAAQACAAAAAQACAAAAAQACAAAAAQABAAAAAQAAAAAAAAACAAEAAAAAAAAABAACAAEAAgACAAEAAQAAAAAAAAABAAAAAgAAAAIAAQACAAAAAQAAAAEAAAAAAAAAAAABAAEAAAAAAAIAAwADAAMAAQACAAAAAgAEAAAAAQAAAAIAAgAAAAAAAAAAAAEAAAAAAAAAAgAAAAAAAAABAAEAAAAAAAAAAQAFAAUAAQAAAAEABAABAAMAAQABAAIAAQAAAAEAAAAAAAMAAAABAAEAAQAAAAAAAQABAAEAAQACAAAAAAABAAEABAABAAEAAQADAAMAAQABAAEAAQAAAAIAAwADAAEAAAABAAIAAQAAAAEAAAAAAAAAAAABAAAAAgAGAAMAAAABAAAAAAADAAMAAQABAAEAAgADAAIAAwACAAMAAgADAAAAAQACAAIAAQABAAIAAwABAAEAAAADAAIAAgACAAIAAgACAAIAAAADAAAABAADAAIAAwABAAMAAgACAAEABAADAAEAAQABAAAAAwABAAMAAAADAAsABwAKAAEABAACAAAAAQABAAAABQADAAEAAAABAAEAAgABAAIAAAACAAMAAgABAAEAAAABAAIAAAABAAQAAwAAAAYAAwAAAAQABwACAAMABQACAAIAAQABAAQABAAAAAMAAQABAAIAAQAAAAAAAAABAAEAAQADAAcAAgACAAgAAgACAAIAAwACAAEAAQAEAAEABQABAAIAAgAAAAMAAwAAAAMAAAAAAAIAAAACAAEAAgABAAMAAwADAAQAAwAGAAAAAQAHAAIAAgAEAAMAAwADAAIAAwADAAEAAwAFAAIAAAADAAAAAgAAAAEAAgAAAAUAEQAHAAEABQADAAUABgACAAcAAQACAAIAAQADAAMABwAEAAIAAgACAAQAAwADAAAABAACAAEABQADAAIABwAGAAQAAwADAAYABQAFAAMAAQACAAUAAgABAAEABAAEAAMAAgABAAIAAgADAAQAAgABAAMAAgAFAAMACwAMAAUABQAFAAUABQADAAIAAwACAAIABgACAAUABQADAAIAAgAEAAcAAgADAAUAAwAEAAEAAQABAAEABwALAAoABgAEAAcABAAHAAMAAQAIAAcAAwAFAAEABQAHAAMABAAEAAQAAQADAAIABQACAAYAAwADAAQACgAdAAkADQAPAAIACgADAAgABQAIAAQABAAFAAgABAAHAAUAAwACAAYACwACAAEAAwAFAAYAAwABAAUAAwARAAcACQAHAAUACQAGAAgADAAGAAkABAAGAAYABwAOAAQACAAGAAcADQAGAAMABgAIAAkABAAEAAYAAQASAAkABwAIAAMACAAMAAkABAAGAA4ABgAIAAUAAwAFAAcACwAEAAQABgAFAAQABQAEAAkACAADAAMABgAEAAwADAAMAA4ADAALABEACgAKAAoACwALAAkACgALAA0ACgAFAAwAAwAHAAkABAAFAAMACQAGAAoABQAEACoAEAAcAA4ACAAPABAADAAOAA4ACgANAAYABwAMAA8ACgAMAAwACAAQAAkADAANAAMACAAJAAQACAAIABUAEgAPAA0ADQAXAA0ADAARAAYADAASAAwAEAANAA8ACQASAAcACQAJAA8ACQALAAwACwAHAAgACgALABgAEQATAAwACwAQABIADwAMAAgACgAIAAkACQAKABEAEwAIAAoACAAHAAkABwAKAA0ADgAJAAkACQAMAA8AJQAYAB0AFAARABEAFAAUAA8AEAALAA0AEwAPAA8AEQAXAAoAEQAVABIAFQAPAA8ACgAPAAwAEwAUABkAQQAwACIAGwAZAB8AHgASABUAFgAlABQAFgATABYAHwAYABQAEgAWABIADwAPAA0AEwARABIAEAAQAA8ANgAmACgAIAAZAB8AFgAaABUAGgAjABoAEQAUABUAJAARACAAEwAcABsAEwAXABUAFgAdABMAFAAWABUAKgApAB4AFQAaABYAFAAdABcAFAAYABMAGwAMAA8ADgAcABYAGwARABQAGgAXAA8AGwAbABYAFgAMABsAGwA5ADYANQA1ADAAOgAoACYAKgAmACgAJgAjACUAHgAnACwAIAAlACEAMQApAC4AIAAoACIALAAmABQAMABlAEkASAA+ADsAPAA6ADYALwA+ADYANgArAC8AKQA1ADMAJgAtACgAPgAvACIAKwAZAC8ANAAhACkAKwBeAEkAQgAyADkATwBEADQANAA7AE4AMAAxADgALQBAAEAAQAAuADIAOwAuAC0ALQAuACwAMQAvACkAMgBMAFkAPwBGAEwAQgA9ACsAOAAtAD4AMwA0ADMAKwA6ACwAJQApADAALwAyAEQANAAwADkAOgAuADIAQABJAJgAcwB/AGkAZgBlAF4AVwBQAFIAagBaAFUAagBfAGgAYgBaAGIAVQBSAF4AYwBWAF8AZgBLAFoAWgB1ALIAmQCLAIUAbQCQAI0AcwBkAGQAdQBeAGsAawBuAIIAeQBuAG8AVgBvAGQAaABXAGYAZwBvAFkAWwBVAMkAjwCCAHIAcQChAJEAiABwAIUAgACDAG0AbQBxAIQAiACAAIMAcgCPAHIAbgB1AIYAbAB9AG8AUwB/AJ0AiwCJAIkAdQB+AIUAhgB2AH4AkACJAIEAaABgAJQAiwBvAHIAaQCGAIMAZQCCAGgAfQCFAGkAcABrAJEA9gAJAfQADAEHAQYB/gDzAOcAFQEKAfoAAAH7AA4BGwEGAeEA8gDxAAQBCAH1APIADgEEAQAB6AD5ABkBCQEVARoBMAEOAQEBCgESAf8AGgECAQwBBwEsAREBGQEIARUBHAETAQ4BEAH4APkACAEOAesA+QD8AAgBhAE6ASgBIAEYAUkBLQECAR4BMAEaASgBKwEKARwBHQElASwBJAH8ACEB+wAhARIBHgEdARsBGAH5AOwA8wAOASIBGQEIAQIBMwEfATwBIQEPARQBIAERAQoB/AA2AT0BFAERATgBRQEVAf4AEgEDAQUBJAEcARUBFgFPApUChAKRArsChgKnArUC1QKZAqAC1QLOAtUC4AKeAucC+QLTArsCswLBAsYC7QKtApUC5AL/AuoCegKAAcgBJgI9AmYCDwI9AlQClgJRAlICdgKdAqwCrgJtAncCnwKKAsoCZQJ7ArsC0QKrAqkCxgLSAsgCzALAAjkCiQJ3AqICHgJ2Ap4CmgKmAloCjQKqAtACnwJdAn0CtgKRAusCdQLAAqACxAK+AocCxQK0AhUD3AIMAjUCYALGAqMCVgKFApkCywKzAmQCmgKdAsQC0QJiApwCrQKAAsMCfgKkAtECxAK/AoACtQLWAuICvgJXAnkBlAHIAc4BqAHDAeQB7gHhAR4C4wHiAfAB8gHvAbYByQEYAukBGAL0Ad8B9gH+ARAC5QH0AfEB+gHFAfkAUgFxAW4BlAGYAY8B0AG1AdcBrwHoAdsBxwHPAZwBswHlAb8BrQG5AeIB3QHbAekBrgHMAfkB8wHnAfMBpAGvAcUByQGXAcQB6AHsAd8BwQG+AdgB+AHzAakBzAHIAfcByAGtAdgB+gHRAdUB0QHqAQYCDQLxAYIB0wG2AboB2AHYAdUB1AHDAe0B0AHNAecB+QH7AbsBzgHnARUCCwLTAeMB7QH+AfwB4AHhAQMCywHPAbcBCQHtAAMBCQEIAQUB9AD1AAkBBAHpAP0AAwHsAOQA9QDiAN4A+wD7APkAAwEAAeUA+wADAfIA8QACARQBAgEpAREBEQEiASQBGgEIARoBFQEdAQ0BBAHpAA4BDwEWAesAEAETAQQBFAEcAQEBAwEIARAB8wD3AA0BdgEgAfYAOAEYAR8BCwEJARgB9AAmATkBDgELARsBHwEXAe8AIgEcATwBOQEnASMBDwE4Ae0AEgH8ACcBLgEMARIB9AAiATgBCwErAQ4BFQEhASIBJgETARkBNQETAQsBGAEPASoBCAEDAREBLQFAARMBGAEkATEBJQFzAH8AagBaAGcAbQBnAGsAYABLAGkAWgBZAFMAVABsAFsAVQBTAFEATwBeAFcAZQBYAHgAXwBRAEMAbQCsAJkAjQCRAH4AhgCPAHQAZABwAHoAbwBbAF4AWQBzAHMAZABuAG8AcABjAGAAWABhAHsAWgBpAGUARADAAHwAhQB7AIQAjgCLAIAAdgBzAIUAcAB/AHAAcACSAIoAggB1AHEAggB2AG4AdQBtAIMAgAB+AG0AaQCZAJMAmQB2AIQAgwB2AF8AbQB4AIkAewBzAHkAewCQAHIAeACHAGQAcgBvAIYAcABgAHwAbwBUAGoAcwCTAEsAMgArAC8ALwA3AC8ALAAkACIAKwAwAB8AKAAdAEQAJQAiACkAJAA2ACgAGgAiACMANQAhACIALAAvAFoAXAAzADoAPgBDADgAOAA6ADIANwAkADMAKAAmADEAMwAkADMAKABEAC4AHQAqADkANgAqACwAIwAkAEsATABLAEoAPQBCADQALQA/ADcATAAxADsAJgA8AD0AQgAuACQANQA+ADAAMgA9ADMAPAA7ACIAJgAkAFIAQABDADgAMwBJADQALgAuACwATwA7ACQALwA2AE8ALwAxADcANQA6ACoAJgA5ACMANAA4AB4ANwArAEYAGAAcABAAFwAVAB0AFAAYABMAEAAZAA4ACwAMABIAEQARAA4AFAAOABAACQAVAAwADgAOAAsADQAUABIAPgAgACUAFgAdACYAGwAVABcAEAAbABsAFgAUABAAEQATABkAEQAQABcAGAAOABQADwAUABEACAALABgAOQAnABoAFwAgACEAGgAZABEAGAAYACEAHAAUABgAIAAUABQAHgAZABcAHgAUABMAIAAWABcAFAAQABgAKgAhACIAGAAPABwAEQAgABUAFAAhABMAEwARAA4AIwAUABYAFQASABgAEQATAA8AFgAVABkAFwAYABIAHwATABIAEQALAAwABwAKAAcADgAJAAoACAALAA0ABgAJAAkABwAJAA4ABwAEAAkABwAGAAgACwAEAAcAAwAjACEACgAVAAsAFAATAAoABwANABMABwALAAwABQAJAAoADgAHAAsACQAIAAQADAAKAAkACQAGAAkABAAeABIACwANAAkADQAJABEABgAMAA4ACwAOAAkABwAVAAoACgAIAAwADQALAAsABgADAAoACwALAAUACQAbABAACwANAAkAEgAXABAABwAJAAYAFAADAA8ABwAQAAsACgAHAA0ACQAIAAcABQAJAAsADAAMAAYACAAMABMABgAEAAQACQANAAYABwAHAAAABAADAAIAAgAGAAQABQACAAMABQAJAAcAAwACAAUAAwADAAIAAQACABAACwAKAAcACAANAAoABQAFAAMACQAGAAQABAABAAQABwAFAAIAAgAEAAkACQAIAAEABAACAAIABQAGABEACwAJAAgABgALAAkABgAFAAUABQAFAAYABQAGAA0AAwAHAAQAAwAIAAQACAAGAAQABQAFAAQABQABABIACQAIAAQABAAKAAMABAAGAAIABwAKAAkAAwAEAAkABAAGAAQABwAIAAQABAAHAAUABgAEAAUABAAGAAUAAgAGAAgABAAEAAYAAgADAAUAAAAGAAIAAgAAAAUAAwADAAIAAwAAAAQAAwABAAEAAQAEAAMAAwACAAUADgAKAAIABQAGAAEAAgAGAAQABAADAAIABQADAAIAAgADAAIAAQAAAAUABQAEAAIAAwABAAQAAQABAAMACgACAAYABAAEAAYAAwAFAAMABAACAAIAAwABAAQAAwAEAAMABAADAAEAAQAGAAQAAgAHAAIABAAEAAIADAADAAUAAwAGAAYABAAFAAEAAgABAAEAAgADAAIABQACAAMAAwAFAAkABQACAAEAAwADAAYABAAFAAEAAwADAAYAAQAEAAEAAwABAAIAAQABAAMAAQADAAAAAAAAAAIAAQAAAAEABAADAAMAAwACAAEAAAAAAAMAAAAGAAcABQACAAIAAgACAAQAAwADAAAAAgAEAAMAAQAGAAEAAwABAAAABAABAAIAAgABAAAAAwAEAAIAAgAHAAEAAgADAAMABAAEAAEAAAAEAAYAAgACAAQAAwADAAQAAQACAAEAAwACAAAAAgADAAUAAwABAAIAAQAFAAEABAAAAAIABQABAAQAAQAAAAEAAwABAAUAAwACAAMAAQACAAMAAQABAAEAAgABAAQAAQACAAEAAgAAAAUAAQACAAEAAAABAAIAAAAAAAAAAQAAAAAAAgADAAEAAwABAAAAAwADAAEAAgABAAEAAAABAAAAAAABAAQABAACAAAAAAABAAMAAQABAAAAAQACAAAAAAAAAAMAAgAAAAAAAgABAAEAAAABAAAAAAAAAAEAAQACAAIAAAAFAAEAAQADAAIAAQACAAEAAwAAAAEAAQAAAAQAAwACAAIAAgABAAEAAQAAAAQAAQAAAAEAAgADAAUAAQACAAEAAQABAAAAAQAAAAIAAgACAAAAAQACAAMAAQAAAAEAAQABAAEAAAADAAEAAAABAAEAAAACAAMAAAABAAEAAAAAAAEAAAAAAAAAAQABAAAAAQABAAAAAgABAAAAAwABAAAAAQABAAIAAAAAAAEAAAAAAAAAAwACAAMAAQACAAEAAAABAAMAAQABAAEAAQACAAAAAgABAAAAAQAAAAEAAAACAAAAAAACAAAAAAAAAAEAAAADAAAAAAABAAIAAAAAAAAAAQAAAAEAAAABAAAAAAACAAAAAQAAAAEAAAACAAMAAAABAAAAAQAAAAEAAgAAAAEAAAAAAAEAAAAAAAEAAgAAAAAAAgAAAAEAAAAAAAEAAAAAAAAAAQABAAEAAQAEAAAAAAAAAAAAAQACAAIAAAAAAAAAAAAAAAQAAAAAAAAAAAAAAAAAAAAAAAAAAAAAAAEAAAAAAAIAAAAAAAEAAAAAAAAAAAACAAIAAAABAAAAAgAAAAIAAAABAAEAAgABAAAAAQACAAAAAAACAAAAAQABAAEAAQABAAAAAQAAAAAAAgAAAAEAAQABAAAAAQAAAAAAAQAAAAEAAAACAAAAAQABAAAAAAAAAAAAAgABAAAAAQABAAQAAAAAAAAAAAAEAAAAAAAAAAAAAAABAAEAAAACAAIAAAACAAIAAQACAAEAAAABAAAAAAAAAAAAAQABAAAAAAAAAAAAAAAAAAMAAAAAAAEAAAAAAAIAAAAAAAAAAAABAAAAAAAAAAAAAQABAAAAAAAAAAEAAQAAAAAAAAABAAAAAAAAAAQAAgABAAIAAQABAAAAAAABAAEAAAAAAAAAAAAAAAEAAQAAAAAAAAABAAEAAQADAAAAAAAAAAAAAAABAAEAAAAAAAEAAAABAAAAAAAAAAAAAAAAAAEAAAACAAAAAAACAAAAAAAAAAAAAQAAAAAAAAAAAAEAAAAAAAAAAQAAAAAAAAAAAAAAAAAAAAEAAAABAAAAAAABAAEAAQABAAAAAQABAAAAAAAAAAEAAAACAAAAAAAAAAAAAgABAAEAAgAAAAAAAAABAAEAAAAAAAAAAAAAAAAAAQABAAAAAAAAAAAAAAAAAAAAAQAAAAAAAAAAAAEAAQABAAAAAQACAAEAAAAAAAAAAAABAAEAAAAAAAEAAAAAAAEAAAAAAAEAAQAAAAAAAAAAAAAAAQAAAAEAAAAAAAEAAAAAAAEAAAABAAAAAQAAAAEAAAABAAAAAAAAAAEAAAAAAAAAAAAAAAEAAAAAAAAAAAAAAAEAAQAAAAAAAAAAAAEAAAABAAEAAAAAAAEAAQAAAAEAAAAAAAAAAAAAAAAAAAAAAAAAAAAAAAAAAQAAAAAAAAABAAAAAAAAAAAAAAAAAAAAAAAAAAEAAAAAAAEAAAAAAAAAAAABAAAAAAAAAAAAAAAAAAAAAAAAAAAAAAADAAAAAAAAAAAAAQAAAAAAAgAAAAAAAAAAAAAAAAAAAAAAAAABAAAAAAAAAAAAAAAAAAAAAAAAAAEAAAAAAAEAAQAAAAAAAQAAAAAAAQABAAAAAAAAAAAAAAAAAAAAAAAAAAAAAAAAAAAAAAAAAAAAAAABAAAAAQAAAAAAAQAAAAAAAQABAAAAAQAAAAAAAgAAAAEAAQAAAAEAAAAAAAAAAAAAAAEAAAAAAAAAAAAAAAAAAAAAAAEAAQABAAAAAAAAAAEAAAAAAAAAAQAAAAAAAAAAAAEAAAAAAAAAAAAAAAAAAAAAAAAAAAAAAAAAAAAAAAAAAAABAAAAAAAAAAAAAAAAAAAAAAAAAAAAAAAAAAAAAAAAAAAAAgAAAAAAAAAAAAAAAAAAAAAAAAAAAAAAAAAAAAAAAAAAAAAAAAAAAAEAAAABAAAAAAAAAAAAAQABAAEAAQABAAAAAAAAAAAAAAACAAAAAAACAAEAAAAAAAAAAAABAAAAAAAAAAAAAQAAAAAAAAAAAAAAAAAAAAAAAAAAAAAAAAAAAAAAAAAAAAAAAAAAAAAAAAABAAAAAAAAAAAAAAAAAAAAAAAAAAAAAAAAAAEAAAAAAAAAAAAAAAAAAAAAAAAAAAAAAAAAAAAAAAAAAQABAAAAAQAAAAAAAAAAAAEAAAAAAAAAAAAAAAAAAAAAAAAAAAAAAAAAAAAAAAAAAAAAAAAAAAAAAAAAAAAAAAEAAAABAAAAAQAAAAAAAAAAAAEAAAAAAAAAAAAAAAAAAQAAAAAAAAAAAAAAAQAAAAAAAAAAAAEAAQABAAAAAAAAAAAAAAAAAAAAAAAAAAAAAAAAAAAAAAAAAAAAAQAAAAAAAAAAAAAAAAAAAAAAAQAAAAAAAAAAAAAAAAABAAAAAAAAAAAAAQAAAAAAAAAAAAAAAAAAAAAAAAAAAAAAAAAAAAAAAAAAAAAAAAAAAAAAAAAAAAAAAQAAAAAAAAAAAAAAAAAAAAAAAAAAAAAAAAAAAAAAAAAAAAAAAAAAAAAAAAAAAAAAAAAAAAAAAAAAAAAAAAAAAAAAAAABAAAAAAAAAAAAAAAAAAAAAAAAAAAAAAAAAAAAAQACAAAAAQAAAAAAAAAAAAAAAAAAAAAAAQAAAAAAAAAAAAAAAAABAAAAAAABAAAAAAAAAAAAAAAAAAAAAAAAAAAAAAAAAAAAAAAAAAAAAQABAAAAAAAAAAAAAAAAAAEAAAAAAAAAAAAAAAAAAAAAAAAAAAAAAAAAAAAAAAAAAAAAAAAAAAAAAAAAAAAAAAEAAQAAAAAAAAAAAAAAAAAAAAAAAAAAAAAAAAAAAAAAAAAAAAAAAAAAAAAAAAAAAAAAAAAAAAAAAAAAAAAAAAAAAAAAAAAAAAAAAAAAAAAAAAAAAAAAAAABAAEAAAAAAAAAAAABAAAAAAAAAAAAAAAAAAAAAAAAAAAAAAABAAEAAAAAAAAAAAAAAAAAAAAAAAAAAAAAAAAAAAAAAAAAAAAAAAAAAAAAAAAAAAAAAAAAAAAAAAAAAQAAAAAAAAAAAAAAAAAAAAAAAAAAAAAAAAAAAAAAAAAAAAAAAAAAAAAAAAAAAAEAAAAAAAAAAAAAAAAAAAAAAAAAAAAAAAAAAQAAAAAAAAAAAAAAAAAAAAAAAAAAAAAAAAAAAAAAAAAAAAAAAAAAAAAAAAAAAAAAAAAAAAIAAAAAAAAAAAAAAAAAAAAAAAEAAAABAAAAAAAAAAAAAAAAAAAAAAAAAAAAAAABAAEAAQAAAAAAAQAAAAAAAAAAAAAAAAAAAAAAAAAAAAEAAAAAAAAAAQAAAAAAAAAAAAAAAAAAAAAAAAAAAAAAAAABAAAAAAA=",
          "dtype": "i2",
          "shape": "40, 121"
         }
        }
       ],
       "layout": {
        "template": {
         "data": {
          "bar": [
           {
            "error_x": {
             "color": "#2a3f5f"
            },
            "error_y": {
             "color": "#2a3f5f"
            },
            "marker": {
             "line": {
              "color": "#E5ECF6",
              "width": 0.5
             },
             "pattern": {
              "fillmode": "overlay",
              "size": 10,
              "solidity": 0.2
             }
            },
            "type": "bar"
           }
          ],
          "barpolar": [
           {
            "marker": {
             "line": {
              "color": "#E5ECF6",
              "width": 0.5
             },
             "pattern": {
              "fillmode": "overlay",
              "size": 10,
              "solidity": 0.2
             }
            },
            "type": "barpolar"
           }
          ],
          "carpet": [
           {
            "aaxis": {
             "endlinecolor": "#2a3f5f",
             "gridcolor": "white",
             "linecolor": "white",
             "minorgridcolor": "white",
             "startlinecolor": "#2a3f5f"
            },
            "baxis": {
             "endlinecolor": "#2a3f5f",
             "gridcolor": "white",
             "linecolor": "white",
             "minorgridcolor": "white",
             "startlinecolor": "#2a3f5f"
            },
            "type": "carpet"
           }
          ],
          "choropleth": [
           {
            "colorbar": {
             "outlinewidth": 0,
             "ticks": ""
            },
            "type": "choropleth"
           }
          ],
          "contour": [
           {
            "colorbar": {
             "outlinewidth": 0,
             "ticks": ""
            },
            "colorscale": [
             [
              0,
              "#0d0887"
             ],
             [
              0.1111111111111111,
              "#46039f"
             ],
             [
              0.2222222222222222,
              "#7201a8"
             ],
             [
              0.3333333333333333,
              "#9c179e"
             ],
             [
              0.4444444444444444,
              "#bd3786"
             ],
             [
              0.5555555555555556,
              "#d8576b"
             ],
             [
              0.6666666666666666,
              "#ed7953"
             ],
             [
              0.7777777777777778,
              "#fb9f3a"
             ],
             [
              0.8888888888888888,
              "#fdca26"
             ],
             [
              1,
              "#f0f921"
             ]
            ],
            "type": "contour"
           }
          ],
          "contourcarpet": [
           {
            "colorbar": {
             "outlinewidth": 0,
             "ticks": ""
            },
            "type": "contourcarpet"
           }
          ],
          "heatmap": [
           {
            "colorbar": {
             "outlinewidth": 0,
             "ticks": ""
            },
            "colorscale": [
             [
              0,
              "#0d0887"
             ],
             [
              0.1111111111111111,
              "#46039f"
             ],
             [
              0.2222222222222222,
              "#7201a8"
             ],
             [
              0.3333333333333333,
              "#9c179e"
             ],
             [
              0.4444444444444444,
              "#bd3786"
             ],
             [
              0.5555555555555556,
              "#d8576b"
             ],
             [
              0.6666666666666666,
              "#ed7953"
             ],
             [
              0.7777777777777778,
              "#fb9f3a"
             ],
             [
              0.8888888888888888,
              "#fdca26"
             ],
             [
              1,
              "#f0f921"
             ]
            ],
            "type": "heatmap"
           }
          ],
          "histogram": [
           {
            "marker": {
             "pattern": {
              "fillmode": "overlay",
              "size": 10,
              "solidity": 0.2
             }
            },
            "type": "histogram"
           }
          ],
          "histogram2d": [
           {
            "colorbar": {
             "outlinewidth": 0,
             "ticks": ""
            },
            "colorscale": [
             [
              0,
              "#0d0887"
             ],
             [
              0.1111111111111111,
              "#46039f"
             ],
             [
              0.2222222222222222,
              "#7201a8"
             ],
             [
              0.3333333333333333,
              "#9c179e"
             ],
             [
              0.4444444444444444,
              "#bd3786"
             ],
             [
              0.5555555555555556,
              "#d8576b"
             ],
             [
              0.6666666666666666,
              "#ed7953"
             ],
             [
              0.7777777777777778,
              "#fb9f3a"
             ],
             [
              0.8888888888888888,
              "#fdca26"
             ],
             [
              1,
              "#f0f921"
             ]
            ],
            "type": "histogram2d"
           }
          ],
          "histogram2dcontour": [
           {
            "colorbar": {
             "outlinewidth": 0,
             "ticks": ""
            },
            "colorscale": [
             [
              0,
              "#0d0887"
             ],
             [
              0.1111111111111111,
              "#46039f"
             ],
             [
              0.2222222222222222,
              "#7201a8"
             ],
             [
              0.3333333333333333,
              "#9c179e"
             ],
             [
              0.4444444444444444,
              "#bd3786"
             ],
             [
              0.5555555555555556,
              "#d8576b"
             ],
             [
              0.6666666666666666,
              "#ed7953"
             ],
             [
              0.7777777777777778,
              "#fb9f3a"
             ],
             [
              0.8888888888888888,
              "#fdca26"
             ],
             [
              1,
              "#f0f921"
             ]
            ],
            "type": "histogram2dcontour"
           }
          ],
          "mesh3d": [
           {
            "colorbar": {
             "outlinewidth": 0,
             "ticks": ""
            },
            "type": "mesh3d"
           }
          ],
          "parcoords": [
           {
            "line": {
             "colorbar": {
              "outlinewidth": 0,
              "ticks": ""
             }
            },
            "type": "parcoords"
           }
          ],
          "pie": [
           {
            "automargin": true,
            "type": "pie"
           }
          ],
          "scatter": [
           {
            "fillpattern": {
             "fillmode": "overlay",
             "size": 10,
             "solidity": 0.2
            },
            "type": "scatter"
           }
          ],
          "scatter3d": [
           {
            "line": {
             "colorbar": {
              "outlinewidth": 0,
              "ticks": ""
             }
            },
            "marker": {
             "colorbar": {
              "outlinewidth": 0,
              "ticks": ""
             }
            },
            "type": "scatter3d"
           }
          ],
          "scattercarpet": [
           {
            "marker": {
             "colorbar": {
              "outlinewidth": 0,
              "ticks": ""
             }
            },
            "type": "scattercarpet"
           }
          ],
          "scattergeo": [
           {
            "marker": {
             "colorbar": {
              "outlinewidth": 0,
              "ticks": ""
             }
            },
            "type": "scattergeo"
           }
          ],
          "scattergl": [
           {
            "marker": {
             "colorbar": {
              "outlinewidth": 0,
              "ticks": ""
             }
            },
            "type": "scattergl"
           }
          ],
          "scattermap": [
           {
            "marker": {
             "colorbar": {
              "outlinewidth": 0,
              "ticks": ""
             }
            },
            "type": "scattermap"
           }
          ],
          "scattermapbox": [
           {
            "marker": {
             "colorbar": {
              "outlinewidth": 0,
              "ticks": ""
             }
            },
            "type": "scattermapbox"
           }
          ],
          "scatterpolar": [
           {
            "marker": {
             "colorbar": {
              "outlinewidth": 0,
              "ticks": ""
             }
            },
            "type": "scatterpolar"
           }
          ],
          "scatterpolargl": [
           {
            "marker": {
             "colorbar": {
              "outlinewidth": 0,
              "ticks": ""
             }
            },
            "type": "scatterpolargl"
           }
          ],
          "scatterternary": [
           {
            "marker": {
             "colorbar": {
              "outlinewidth": 0,
              "ticks": ""
             }
            },
            "type": "scatterternary"
           }
          ],
          "surface": [
           {
            "colorbar": {
             "outlinewidth": 0,
             "ticks": ""
            },
            "colorscale": [
             [
              0,
              "#0d0887"
             ],
             [
              0.1111111111111111,
              "#46039f"
             ],
             [
              0.2222222222222222,
              "#7201a8"
             ],
             [
              0.3333333333333333,
              "#9c179e"
             ],
             [
              0.4444444444444444,
              "#bd3786"
             ],
             [
              0.5555555555555556,
              "#d8576b"
             ],
             [
              0.6666666666666666,
              "#ed7953"
             ],
             [
              0.7777777777777778,
              "#fb9f3a"
             ],
             [
              0.8888888888888888,
              "#fdca26"
             ],
             [
              1,
              "#f0f921"
             ]
            ],
            "type": "surface"
           }
          ],
          "table": [
           {
            "cells": {
             "fill": {
              "color": "#EBF0F8"
             },
             "line": {
              "color": "white"
             }
            },
            "header": {
             "fill": {
              "color": "#C8D4E3"
             },
             "line": {
              "color": "white"
             }
            },
            "type": "table"
           }
          ]
         },
         "layout": {
          "annotationdefaults": {
           "arrowcolor": "#2a3f5f",
           "arrowhead": 0,
           "arrowwidth": 1
          },
          "autotypenumbers": "strict",
          "coloraxis": {
           "colorbar": {
            "outlinewidth": 0,
            "ticks": ""
           }
          },
          "colorscale": {
           "diverging": [
            [
             0,
             "#8e0152"
            ],
            [
             0.1,
             "#c51b7d"
            ],
            [
             0.2,
             "#de77ae"
            ],
            [
             0.3,
             "#f1b6da"
            ],
            [
             0.4,
             "#fde0ef"
            ],
            [
             0.5,
             "#f7f7f7"
            ],
            [
             0.6,
             "#e6f5d0"
            ],
            [
             0.7,
             "#b8e186"
            ],
            [
             0.8,
             "#7fbc41"
            ],
            [
             0.9,
             "#4d9221"
            ],
            [
             1,
             "#276419"
            ]
           ],
           "sequential": [
            [
             0,
             "#0d0887"
            ],
            [
             0.1111111111111111,
             "#46039f"
            ],
            [
             0.2222222222222222,
             "#7201a8"
            ],
            [
             0.3333333333333333,
             "#9c179e"
            ],
            [
             0.4444444444444444,
             "#bd3786"
            ],
            [
             0.5555555555555556,
             "#d8576b"
            ],
            [
             0.6666666666666666,
             "#ed7953"
            ],
            [
             0.7777777777777778,
             "#fb9f3a"
            ],
            [
             0.8888888888888888,
             "#fdca26"
            ],
            [
             1,
             "#f0f921"
            ]
           ],
           "sequentialminus": [
            [
             0,
             "#0d0887"
            ],
            [
             0.1111111111111111,
             "#46039f"
            ],
            [
             0.2222222222222222,
             "#7201a8"
            ],
            [
             0.3333333333333333,
             "#9c179e"
            ],
            [
             0.4444444444444444,
             "#bd3786"
            ],
            [
             0.5555555555555556,
             "#d8576b"
            ],
            [
             0.6666666666666666,
             "#ed7953"
            ],
            [
             0.7777777777777778,
             "#fb9f3a"
            ],
            [
             0.8888888888888888,
             "#fdca26"
            ],
            [
             1,
             "#f0f921"
            ]
           ]
          },
          "colorway": [
           "#636efa",
           "#EF553B",
           "#00cc96",
           "#ab63fa",
           "#FFA15A",
           "#19d3f3",
           "#FF6692",
           "#B6E880",
           "#FF97FF",
           "#FECB52"
          ],
          "font": {
           "color": "#2a3f5f"
          },
          "geo": {
           "bgcolor": "white",
           "lakecolor": "white",
           "landcolor": "#E5ECF6",
           "showlakes": true,
           "showland": true,
           "subunitcolor": "white"
          },
          "hoverlabel": {
           "align": "left"
          },
          "hovermode": "closest",
          "mapbox": {
           "style": "light"
          },
          "paper_bgcolor": "white",
          "plot_bgcolor": "#E5ECF6",
          "polar": {
           "angularaxis": {
            "gridcolor": "white",
            "linecolor": "white",
            "ticks": ""
           },
           "bgcolor": "#E5ECF6",
           "radialaxis": {
            "gridcolor": "white",
            "linecolor": "white",
            "ticks": ""
           }
          },
          "scene": {
           "xaxis": {
            "backgroundcolor": "#E5ECF6",
            "gridcolor": "white",
            "gridwidth": 2,
            "linecolor": "white",
            "showbackground": true,
            "ticks": "",
            "zerolinecolor": "white"
           },
           "yaxis": {
            "backgroundcolor": "#E5ECF6",
            "gridcolor": "white",
            "gridwidth": 2,
            "linecolor": "white",
            "showbackground": true,
            "ticks": "",
            "zerolinecolor": "white"
           },
           "zaxis": {
            "backgroundcolor": "#E5ECF6",
            "gridcolor": "white",
            "gridwidth": 2,
            "linecolor": "white",
            "showbackground": true,
            "ticks": "",
            "zerolinecolor": "white"
           }
          },
          "shapedefaults": {
           "line": {
            "color": "#2a3f5f"
           }
          },
          "ternary": {
           "aaxis": {
            "gridcolor": "white",
            "linecolor": "white",
            "ticks": ""
           },
           "baxis": {
            "gridcolor": "white",
            "linecolor": "white",
            "ticks": ""
           },
           "bgcolor": "#E5ECF6",
           "caxis": {
            "gridcolor": "white",
            "linecolor": "white",
            "ticks": ""
           }
          },
          "title": {
           "x": 0.05
          },
          "xaxis": {
           "automargin": true,
           "gridcolor": "white",
           "linecolor": "white",
           "ticks": "",
           "title": {
            "standoff": 15
           },
           "zerolinecolor": "white",
           "zerolinewidth": 2
          },
          "yaxis": {
           "automargin": true,
           "gridcolor": "white",
           "linecolor": "white",
           "ticks": "",
           "title": {
            "standoff": 15
           },
           "zerolinecolor": "white",
           "zerolinewidth": 2
          }
         }
        },
        "title": {
         "text": "Frequency of Percentage Price Changes Around EIA WPSR Release On Non-Release Days"
        },
        "xaxis": {
         "ticktext": [
          -60,
          -55,
          -50,
          -45,
          -40,
          -35,
          -30,
          -25,
          -20,
          -15,
          -10,
          -5,
          0,
          5,
          10,
          15,
          20,
          25,
          30,
          35,
          40,
          45,
          50,
          55,
          60
         ],
         "tickvals": [
          -60,
          -55,
          -50,
          -45,
          -40,
          -35,
          -30,
          -25,
          -20,
          -15,
          -10,
          -5,
          0,
          5,
          10,
          15,
          20,
          25,
          30,
          35,
          40,
          45,
          50,
          55,
          60
         ],
         "title": {
          "text": "Time Relative to Release (Minutes)"
         }
        },
        "yaxis": {
         "autorange": "reversed",
         "title": {
          "text": "Percentage Price Change Bins"
         }
        }
       }
      }
     },
     "metadata": {},
     "output_type": "display_data"
    },
    {
     "name": "stderr",
     "output_type": "stream",
     "text": [
      "C:\\Users\\evans\\AppData\\Local\\Temp\\ipykernel_23536\\3650890387.py:53: FutureWarning:\n",
      "\n",
      "The default of observed=False is deprecated and will be changed to True in a future version of pandas. Pass observed=False to retain current behavior or observed=True to adopt the future default and silence this warning.\n",
      "\n"
     ]
    },
    {
     "data": {
      "application/vnd.plotly.v1+json": {
       "config": {
        "plotlyServerURL": "https://plot.ly"
       },
       "data": [
        {
         "colorbar": {
          "title": {
           "text": "Frequency"
          }
         },
         "colorscale": [
          [
           0,
           "#440154"
          ],
          [
           0.1111111111111111,
           "#482878"
          ],
          [
           0.2222222222222222,
           "#3e4989"
          ],
          [
           0.3333333333333333,
           "#31688e"
          ],
          [
           0.4444444444444444,
           "#26828e"
          ],
          [
           0.5555555555555556,
           "#1f9e89"
          ],
          [
           0.6666666666666666,
           "#35b779"
          ],
          [
           0.7777777777777778,
           "#6ece58"
          ],
          [
           0.8888888888888888,
           "#b5de2b"
          ],
          [
           1,
           "#fde725"
          ]
         ],
         "type": "heatmap",
         "x": {
          "bdata": "AAAAAAAATsAAAAAAAIBNwAAAAAAAAE3AAAAAAACATMAAAAAAAABMwAAAAAAAgEvAAAAAAAAAS8AAAAAAAIBKwAAAAAAAAErAAAAAAACAScAAAAAAAABJwAAAAAAAgEjAAAAAAAAASMAAAAAAAIBHwAAAAAAAAEfAAAAAAACARsAAAAAAAABGwAAAAAAAgEXAAAAAAAAARcAAAAAAAIBEwAAAAAAAAETAAAAAAACAQ8AAAAAAAABDwAAAAAAAgELAAAAAAAAAQsAAAAAAAIBBwAAAAAAAAEHAAAAAAACAQMAAAAAAAABAwAAAAAAAAD/AAAAAAAAAPsAAAAAAAAA9wAAAAAAAADzAAAAAAAAAO8AAAAAAAAA6wAAAAAAAADnAAAAAAAAAOMAAAAAAAAA3wAAAAAAAADbAAAAAAAAANcAAAAAAAAA0wAAAAAAAADPAAAAAAAAAMsAAAAAAAAAxwAAAAAAAADDAAAAAAAAALsAAAAAAAAAswAAAAAAAACrAAAAAAAAAKMAAAAAAAAAmwAAAAAAAACTAAAAAAAAAIsAAAAAAAAAgwAAAAAAAABzAAAAAAAAAGMAAAAAAAAAUwAAAAAAAABDAAAAAAAAACMAAAAAAAAAAwAAAAAAAAPC/AAAAAAAAAAAAAAAAAADwPwAAAAAAAABAAAAAAAAACEAAAAAAAAAQQAAAAAAAABRAAAAAAAAAGEAAAAAAAAAcQAAAAAAAACBAAAAAAAAAIkAAAAAAAAAkQAAAAAAAACZAAAAAAAAAKEAAAAAAAAAqQAAAAAAAACxAAAAAAAAALkAAAAAAAAAwQAAAAAAAADFAAAAAAAAAMkAAAAAAAAAzQAAAAAAAADRAAAAAAAAANUAAAAAAAAA2QAAAAAAAADdAAAAAAAAAOEAAAAAAAAA5QAAAAAAAADpAAAAAAAAAO0AAAAAAAAA8QAAAAAAAAD1AAAAAAAAAPkAAAAAAAAA/QAAAAAAAAEBAAAAAAACAQEAAAAAAAABBQAAAAAAAgEFAAAAAAAAAQkAAAAAAAIBCQAAAAAAAAENAAAAAAACAQ0AAAAAAAABEQAAAAAAAgERAAAAAAAAARUAAAAAAAIBFQAAAAAAAAEZAAAAAAACARkAAAAAAAABHQAAAAAAAgEdAAAAAAAAASEAAAAAAAIBIQAAAAAAAAElAAAAAAACASUAAAAAAAABKQAAAAAAAgEpAAAAAAAAAS0AAAAAAAIBLQAAAAAAAAExAAAAAAACATEAAAAAAAABNQAAAAAAAgE1AAAAAAAAATkA=",
          "dtype": "f8"
         },
         "y": [
          "-1.00%",
          "-0.95%",
          "-0.90%",
          "-0.85%",
          "-0.80%",
          "-0.75%",
          "-0.70%",
          "-0.65%",
          "-0.60%",
          "-0.55%",
          "-0.50%",
          "-0.45%",
          "-0.40%",
          "-0.35%",
          "-0.30%",
          "-0.25%",
          "-0.20%",
          "-0.15%",
          "-0.10%",
          "-0.05%",
          "0.00%",
          "0.05%",
          "0.10%",
          "0.15%",
          "0.20%",
          "0.25%",
          "0.30%",
          "0.35%",
          "0.40%",
          "0.45%",
          "0.50%",
          "0.55%",
          "0.60%",
          "0.65%",
          "0.70%",
          "0.75%",
          "0.80%",
          "0.85%",
          "0.90%",
          "0.95%"
         ],
         "z": {
          "bdata": "AAAAAAAAAAAAAAAAAAAAAAAAAAAAAAAAAAAAAAAAAAABAAAAAAAAAAAAAAAAAAAAAAAAAAAAAAAAAAAAAAAAAAAAAAAAAAAAAAAAAAAAAAAAAAAAAAAAAAAAAAAAAAAAAAAAAAAAAAAAAAAAAAAAAAAAAAAAAAAABAAAAAAAAAAAAAAAAAAAAAAAAQAAAAAAAAAAAAAAAAAAAAAAAAAAAAAAAQAAAAAAAAAAAAAAAAAAAAAAAAAAAAAAAAAAAAAAAAAAAAAAAAAAAAAAAAAAAAAAAAAAAAAAAAABAAAAAAAAAAAAAAAAAAAAAAAAAAAAAgAAAAAAAAAAAAAAAAAAAAAAAAAAAAAAAAAAAAEAAAAAAAAAAAAAAAAAAAAAAAAAAAAAAAAAAAAAAAAAAAAAAAAAAAAAAAAAAAAAAAAAAAAAAAAAAAAAAAAAAAAAAAAAAAAAAAAAAAAAAAAAAAAAAAAAAAAAAAAAAAACAAAAAAAAAAAAAAAAAAAAAAAAAAAAAAAAAAAAAAAAAAAAAAAAAAAAAAAAAAEAAAAAAAAAAAAAAAAAAAAAAAAAAAAAAAAAAAAAAAAAAAAAAAAAAAAAAAAAAQAAAAAAAAAAAAAAAAAAAAAAAAAAAAAAAAAAAAAAAAACAAAAAAAAAAAAAAAAAAAAAAAAAAAAAAAAAAAAAAAAAAAAAAAAAAAAAAAAAAAAAAAAAAAAAAAAAAAAAAAAAAAAAAAAAAAAAAAAAAAAAAAAAAAAAAAAAAAAAAAAAAAAAAAAAAAAAAAAAAAAAAAAAAAAAAAAAAAAAAAAAAUAAQAAAAAAAAAAAAAAAAABAAAAAAAAAAAAAAAAAAAAAAAAAAAAAAAAAAAAAAAAAAAAAQAAAAAAAAAAAAAAAAAAAAAAAAABAAAAAAAAAAAAAAAAAAAAAAAAAAAAAAAAAAAAAAAAAAAAAAAAAAAAAAABAAAAAAAAAAIAAAAAAAAAAAAAAAAAAAAAAAAAAAAAAAAAAAAAAAEAAAAAAAAAAAAAAAAAAAAAAAAAAAAAAAAAAQAAAAAAAAAAAAAAAAAAAAAAAAAAAAAAAAAAAAAAAAAAAAAAAAAAAAAAAAAAAAAAAAAAAAAAAAAAAAAAAAAAAAAAAQAAAAAAAAAAAAAAAAAAAAAAAAAAAAAAAQAAAAAAAAAAAAAAAAAAAAAAAAAAAAAAAAAAAAAAAAAAAAAAAAAAAAAAAAAAAAAAAAAAAAAAAAAAAAAAAAABAAAAAAAAAAAAAAAAAAAAAAAAAAAAAAAAAAAAAAAAAAAABAABAAEAAAAAAAAAAQAAAAAAAAAAAAAAAAAAAAAAAAAAAAAAAAAAAAAAAAAAAAAAAAAAAAAAAAAAAAAAAAAAAAAAAAAAAAAAAAAAAAAAAAAAAAAAAAAAAAAAAAAAAAAAAAAAAAAAAAAAAAAAAAAAAAAAAAAAAAAAAAAAAAAAAAAAAAAAAQAAAAAAAAAAAAAAAAAAAAEAAAAAAAAAAAAAAAAAAQAAAAAAAAAAAAAAAAAAAAAAAAAAAAAAAAAAAAAAAAAAAAAAAAAAAAAAAAAAAAAAAAAAAAAAAAAAAAAAAAAAAAAAAAAAAAAAAAAAAAAAAQACAAAAAAAAAAAAAAAAAAAAAAAAAAAAAAAAAAAAAAAAAAAAAQAAAAAAAAAAAAAAAAAAAAAAAAAAAAAAAAAAAAAAAAAAAAAAAAABAAAAAQAAAAAAAAAAAAAAAAABAAAAAAAAAAAAAAAAAAAAAAAAAAAAAAAAAAAAAAAAAAIAAAAAAAAAAAAAAAEAAAAAAAAAAAAAAAAAAQAAAAAAAAAAAAAAAAAAAAAAAAAAAAAAAAAAAAAAAAAAAAEAAQAAAAAAAAAAAAAAAAAAAAAAAAAAAAAAAAAAAAEAAAAAAAAAAAAAAAAAAAAAAAAAAAAAAAAAAQABAAQAAQAAAAAAAAAAAAAAAAAAAAAAAAAAAAAAAQABAAAAAAAAAAAAAAAAAAAAAAAAAAAAAAAAAAAAAAAAAAAAAQAAAAAAAAAAAAAAAAABAAAAAAAAAAAAAAAAAAAAAAABAAAAAAAAAAAAAAAAAAAAAAAAAAAAAAAAAAAAAwAAAAAAAwABAAAAAAAAAAAAAAAAAAAAAAAAAAAAAAAAAAAAAAAAAAAAAAAAAAEAAAABAAAAAAAAAAAAAAAAAAAAAAAAAAAAAAABAAAAAAAAAAAAAAAAAAAAAAAAAAAAAAAAAAAAAAAAAAAAAAAAAAAAAAAAAAEABAAAAAAAAAAAAAAAAAAAAAAAAAAAAAAAAAAAAAAAAAAAAAAAAAAAAAEAAAABAAAAAAAAAAAAAAAAAAAAAQAAAAAAAAAAAAAAAAAAAAAAAQABAAAAAAAAAAAAAAAAAAAAAAAAAAAAAAAAAAAAAAAAAAAAAAAAAAAAAAACAAAAAQABAAAAAQAAAAEAAQAAAAAAAAAAAAAAAAAAAAEAAAAAAAEAAAABAAEAAAABAAEAAAABAAEAAAAAAAAAAAAAAAAAAAAAAAAAAAABAAAAAAAAAAAAAAAAAAAAAAABAAAAAAAAAAAAAAAAAAAAAAAAAAAAAQADAAAAAAABAAEAAAAAAAAAAAAAAAAAAAAAAAAAAAAAAAEAAAAAAAAAAAAAAAAAAAAAAAAAAAAAAAAAAAABAAAAAQAAAAAAAAAAAAAAAAAAAAAAAAAAAAAAAAAAAAAAAAAAAAAAAAAAAAAAAAAAAAAAAAAAAAAAAQAAAAYAAQAAAAEAAQACAAEAAAAAAAAAAQAAAAAAAAAAAAAAAAABAAAAAQAAAAAAAQAAAAAAAAAAAAAAAAAAAAAAAAABAAAAAAAAAAAAAAAAAAAAAAAAAAAAAAAAAAAAAAAAAAEAAAAAAAAAAAAAAAAAAAAAAAAAAAABAAoAAQABAAAAAAAAAAAAAAAAAAAAAAAAAAAAAAAAAAAAAQAAAAAAAAABAAAAAAAAAAAAAAABAAAAAAAAAAAAAAAAAAAAAAAAAAAAAAAAAAEAAAAAAAAAAAAAAAAAAAAAAAAAAAAAAAAAAAABAAAAAAABAAAAAAAAAAAABwABAAAAAAABAAAAAQAAAAIAAgAAAAAAAgABAAEAAAAAAAEAAAAAAAAAAQABAAAAAQABAAAAAAACAAEAAAAAAAAAAAAAAAEAAQAAAAAAAAABAAEAAAAAAAAAAAAAAAAAAAAAAAAAAAAAAAAAAAAAAAAAAAAAAAAABgAAAAAAAQAAAAAAAAAAAAAAAAAAAAAAAAABAAAAAAAAAAAAAAABAAEAAAAAAAAAAAAAAAAAAAAAAAAAAAAAAAMAAAAAAAAAAgAAAAAAAQAAAAAAAAAAAAEAAAAAAAAAAAAAAAAAAAAAAAAAAAAAAAAAAQAAAAAAAAAGAAIAAwABAAQAAQAAAAAAAgAAAAEAAAABAAAAAAABAAAAAAABAAEAAQABAAAAAAABAAEAAAAAAAEAAAABAAEAAQABAAAAAAABAAAAAAAAAAAAAAAAAAAAAAAAAAAAAAAAAAEAAAABAAEAAQAAAAAAAAABAAAAAgAQAAEAAAAAAAAAAQABAAEAAAABAAAAAAAAAAAAAAAAAAQAAQAAAAAAAAAAAAAAAAABAAAAAAABAAAAAAAAAAMAAwAAAAAAAQAAAAEAAQAAAAAAAAAAAAEAAAACAAIAAQAAAAEAAAAAAAEAAAAAAAMAAAAAAAAAAQAAAAYABAAEAAAAAAABAAAAAQAAAAAAAQAAAAAAAAAAAAAAAAAAAAIAAgABAAAAAgAAAAIAAAAAAAAAAAABAAEAAQAAAAEAAAABAAEAAAABAAAAAAAAAAIAAAACAAEAAAACAAEAAAABAAAAAQABAAAAAAAAAAEAAAABAAgABAADAAAAAQACAAEAAgAAAAAAAQABAAEAAQAAAAAAAQABAAEAAQAAAAEAAgAAAAAAAAAAAAAAAAAAAAAAAwAEAAEAAgACAAIAAgABAAEAAQACAAIAAAABAAAAAQAAAAAAAAAAAAEAAAABAAIAAAAAAAEAAAABAAEACQAFAAEABAAEAAUAAQADAAIAAgADAAEAAAAAAAEAAQABAAIAAAABAAAAAgAAAAMAAAAAAAIAAAABAAAAAAABAAIAAQACAAAAAAAAAAAAAgABAAAAAAADAAAAAAACAAAAAAAAAAEAAgABAAEAAQAAAAAAAAABAAIADQADAAEAAQADAAAAAgABAAEAAgABAAIAAAABAAEAAAACAAEAAgABAAAAAgACAAEAAQAAAAEAAQAAAAAAAgABAAMABAABAAEAAQABAAEAAQACAAIAAAACAAEAAQABAAIAAQAAAAAAAQACAAIAAQAAAAIAAQABAAAAAgALAAUABwACAAQACAAFAAMAAwAAAAMAAgABAAEAAAABAAEAAgABAAEABAACAAMAAQABAAIABAADAAAAAQAEAAEAAgABAAAAAwABAAEAAgAEAAIAAwABAAMAAQABAAEAAQADAAQAAgACAAIAAgABAAEAAAADAAEAAwAPAAgABQAHAAMABAACAAIAAwAEAAAAAwACAAEABAADAAEAAQADAAMAAAACAAIABAAAAAIABQAEAAUAAQACAAkABQAGAAMABAACAAcABQAGAAEABQABAAQABAADAAUAAgAEAAEAAwADAAAAAgAAAAAAAgABAAAAAgACABQADwAGAAcACAAKAAoABwAFAAQACAAFAAIAAgAEAAoACQAIAAIABAAHAAMABAAFAAIAAwABAAYABwAEAAoABQAEAAUABAADAAEABAAAAAMAAwAKAAMAAwABAAYABQAEAAIAAgAEAAIAAwADAAMABAADAAQABAADABAACwAEAAgACQAFAAcABgAEAAYAAgAGAAUAAgADAAQACwAGAAUAAgACAAcABgADAAUABAAFAAoABgACAAYAEgANAAsABwAJAAUACAAJAAQACQAKAAcAAgAFAAIACAADAAgABAAGAAsAAwADAAEABAAEAAYABwACAAUAGAAVABEACwANABIAFAALAAcACgANAAYACwAFAAYACQALAAYACQANAAkADgAHAAQABgANAAUABgALAAQACQAFAAgACwAHAAYAAwAGAAMABwAJAAkABwAHAAUACQAGAAcABwAGAAcABwAEAAQABAAGAAcABwAGAAkAGQASAA4ADwATAA8ADwAOAAoADwAKAAwACgAGAAoACgAKAA0ADAALAAwACQAPAAsADQAKAAsACgAOAAkABgAaABwAFwASAB8AEgAJAA8ACgAMABkAEQAPAAgACwAPAAkADAAOAAkACgASAAoACAAMAAgACgAJAAcAEAAYABsAGAATABYAGgAcABYACQAYABIAGAAWABEADQAQABYAFAAOABEAFwAOABUAEwAUABAAEQANAA4ACwASAA8AEAAPAA4AEAAQABUACwARAA8AFQAUAAwAEgATAA0ADgALAA0AEQAOABEADQAJAA0ACAALABEAFQAjADIAJgAcAB8AMAAfAB0AIQAjACEAHwAlAB8AGQAdABgAJAAaABoAJAAYAB0AGAAVAB4AEQAgACIAFgAiAEAANgAtACsAGwAtACMAJgAfACsAIwAkAB0AMgAcACMAJgAdAB0AFQAmACUAIAAdACIAIwAbABgAGwAeADMAOwApADQAJQAjACsAMwAzACUAOgAvACoAKQAqACgAMgAlACQAJQAkACsAIAAhACAAMwAoADEAJwAsADIAKwArADIAIgAwACQAJgAtACMALAAoAB4AHQAfADUAMAAgABoAKAAxACQAKAApACkAHwAiACQAKQAnAB8AaQBeAF4AVABRAE0AYABWAFkAWwBgAEkATgBZAGUAWABlAFoATgBYAE0AVABQAEwAUgBeAFkATgBjAF8AawBdAHcAYwBfAFUAcgBeAGwAVgBYAGIAXwBLAF4AYgBjAGIAXQBcAEsAVgBWAGMAWQBnAGIAXgBfAF8ATQBUAFUAWgBtAFoAZwBbAFQAWwBoAGcAXABaAGAAUgBfAFkAXABUAGEAZQBgAEcAXgBlAFcAVgBuAGcAZQBtAF8AawBcAFEAdgBmAFkAXwBUAHIAYwBuAFkAYwBjAGwATgBnAFYAXgBLAEwAWQBqAGQATwBiAGoAPwDSAPsA8AAMAQQBBAEMAQcB9gARAeoABwEcARwBBQH/AAUBBgEXARYBCwEKAQ4BIAEUAf0AFAEVASMB8wCnAMQAywDgAPMA0gDyAOMABgEOAdwA5wD+AAYB/wDpAPsADwHsAO4A8wAIARwBEgEKAe8AIgEiAQgB9ACPAKIAtADHANIAyQC3ANIA2ADSAMUAygDSAN8A1gDQAMYA9ADmAOsA4gDOAOgA+QDbANoA9gDqAPEA8wC0AO0A2ADGAPcA0ADWAOcA8QDbAP4A8QDkAO8A+gDfAPAA5gD2ABIB4wDkAPAA+gD9APYA8AAFAdkAzwBeAJgAnwCvAJkAqwCoAJ4AsQDAALQAyQDFALcAvQDAALkArQC6AMUAuwDGALIA1AC+AL0AtwC1AL8ApwC2AGgAdACQAJoApgCcAJwAqACjALAArgC7AK4AtADDAKsAuACgANIAwgCxAKsAtgC2AL4ArgC0ALAAxQCzAGAAhgB/AJYAhwB3AI8AjQCSAK4AkACZAJgAnwCjAKYApwCgAKsArQCYAKQApAC1AKoAngCjAK0AowCvAIMAhgCdAJwAlQCTAKcAsACpAMkAiQCWALMAtQC3AKcAmwC4ALUAnwCyALYAvACwALEAmgCsAMMArgCXAD0ARwBfAF4AaQBWAGQAXgBiAFEAWwBLAFsAVwBZAFYAXQBWAFsAVwBRAFYAYABSAFoAWgBbAFIAUQBZAGEAXABhAFsAZQBTAGkAVABcAFAAUgBbAF0AYABjAFwAYQBVAFwAUQBlAHAAYwBOAE4ATwBsAFEAUABYAGIASQBUAGYAUQBgAFYAbABhAFsAVQBWAFwAawBpAFwAXQBfAF0AWABhAGMAcABVAGgAZABaAFEAZQBOAE4AbwBgAG0AaQBnAHQAXQBVAGsAVABxAFYAYwBIAFoATQBbAFYAbQBNAFAAVwBeAGYAYQBnAGsAUQBhAF0APAAoACAAIQAeAB4AJwAiACIAIQAgACUAGwAdABYAGwAgABgAIgAXABUAHwAjABoAGQAfACMAGgAUACMAJQA6ADgALgAmACgAMAAjAC8AIgAWAC0AIQAhABoAGgArABwAGwAiACsAIgAbACAAIwAeACEAGAAcABYAGgAkADQAQwA0ACoAKwAnACoAOgAoADAAJgAxACwAMgA4ACYAIgAsACwAIgAhACwAIAAuACkALwAiAB0AHgAuAC8AKQAvACYAMQAoACIAIAAhACYAJAAkADIAIAAtACsAJgAXAB0ALwAuACUAKgAjACUAIQAfACoAKQAmABoACAAUAAkACgANAAwACgAOAAgACwAJABAABwAJAAsADgANAAkADwANAAgACAAHAAgAFQAHAAsABAAOACAAEgAQABEAFAAeABQAEAAQAA4AFgAPAA0ADgALAAsAEgATAAoACwANAAsACAAKABAADAAFAAsADgAOAB8AHAAZAB0AEwAjABQAFwAaABoAFAAaABIAFQATABQAFgAOABUACQARAA8AEAAMABIAEQANAA4AEQAKAB8ACgASAA0AEQAaAA8AEwAMAAwAEgAJAAsADgANAAsADQAMABcADAASAA0AEwALAA0AEgAQAAoAEAANACgACwANAAcACAAKAAQABwAHAAcAAwAIAAQABgACAAQABgAEAAMABwACAAYABQACAAUABgAJAAYABAAHAAgAFgATAA4ACQACAAkACQAHAAQABAAHAAUACAABAAQAAwADAAIACQAHAAYABAAEAAcAAwAFAAIABQAFAAYADQAMABEAEwAJABAABQAKAAsAAwAJAAwACgAJABAADQAMAAYACgAGAAcABgAMAAUACQAJAAsABQAGAAwADQAKAAkACQAJAAsACwADAAcABwAHAAcABgACAAkABgAJAAUACgAGAAcACwAEAAQAAwAEAAcAAwAHAAkAFAAHAAMAAgACAAIAAgAAAAMAAAADAAMAAgACAAEAAAABAAIAAAABAAAAAgAAAAIAAQABAAAAAQADAAAAAAAMAAoABgAHAAMAAwADAAIAAgAEAAAAAQACAAEAAQAEAAUAAwAEAAAAAgABAAQAAgADAAMAAwACAAAABAAOAAsACwAEAAYADAAHAAMABAAFAAcABwAEAAUABAAFAAIAAwABAAEABwAFAAEABQAFAAIAAgACAAMABQALAAYABAAFAAUABwADAAEABgADAAIAAQAGAAIAAAAHAAMABAAEAAIAAwACAAEAAgACAAMAAQABAAMACAAUAAEABAADAAIAAQABAAEAAAAAAAAAAQAEAAAAAAACAAIAAQABAAAAAwADAAAABAABAAAAAwACAAMAAgABAAUAAwAAAAQAAAADAAMAAgACAAIAAgACAAEAAAACAAIAAQACAAEAAQADAAIAAAAAAAAAAAAAAAEAAgADAAoACAAEAAIAAQAJAAEABAADAAcAAwAEAAEAAgAEAAMAAQAEAAAAAAACAAIAAwAAAAAAAAAFAAEAAgADAAQAAAACAAEAAgABAAEAAgABAAAAAAAAAAEAAwACAAEAAgABAAIAAQACAAIAAQACAAAAAAAAAAEAAgAFABoAAgABAAEAAAABAAIAAgAAAAAAAAACAAEAAAABAAAAAAAAAAAAAQAAAAIAAAAAAAIAAAAAAAAAAQABAAEAAgAEAAAAAQABAAEAAAAAAAAAAgACAAAAAQADAAAAAAABAAEAAQACAAAAAAAAAAAAAAABAAEAAQABAAIACQAGAAQAAAABAAIABAADAAAAAgACAAIAAQABAAAAAwABAAIABAABAAEAAwABAAMAAAABAAIAAQABAAEAAQABAAAAAQADAAEAAgABAAAAAgAAAAAAAAAAAAEAAgABAAAAAgABAAEAAQACAAAAAAAAAAEAAwABAAMAEQABAAIAAAABAAIAAgAAAAAAAQABAAIAAQABAAAAAAABAAIAAAAAAAEAAAABAAAAAAABAAAAAAAAAAAAAAABAAEAAAAAAAAAAAAAAAEAAQAAAAAAAgAAAAAAAQAAAAAAAAABAAAAAAAAAAAAAAAAAAAAAAAAAAEAAQAHAAMAAgABAAEAAgACAAMAAgABAAAAAQABAAAAAAAAAAAAAQAAAAAAAgABAAEAAQABAAAAAQAAAAEAAgABAAIAAAABAAAAAQABAAIAAQACAAAAAQAAAAAAAQABAAAAAAAAAAAAAAABAAAAAAAAAAAAAAABAAIAAwALAAUAAQAAAAAAAAABAAEAAAABAAAAAAAAAAAAAAAAAAEAAAAAAAAAAQABAAAAAAAAAAAAAQAAAAAAAQAAAAAAAgAAAAAAAAACAAEAAAAAAAAAAAAAAAAAAAAAAAAAAAAAAAEAAQABAAAAAQAAAAEAAAAAAAAAAAAAAAUAAAAAAAEAAwACAAEAAQABAAEAAQAAAAEAAAABAAEAAQAAAAAAAAAAAAAAAgAAAAAAAAAAAAAAAQAAAAIAAgAAAAAAAAAAAAEAAgAAAAEAAAABAAAAAAAAAAAAAAAAAAAAAAAAAAAAAAAAAAEAAQAAAAEAAAABAAoAAAAAAAAAAAAAAAAAAAAAAAAAAAACAAAAAAAAAAAAAAAAAAAAAAAAAAAAAAAAAAEAAAAAAAAAAAAAAAAAAAAAAAAAAAABAAAAAAABAAAAAAAAAAAAAAAAAAEAAAAAAAAAAAAAAAAAAwAAAAEAAAAAAAAAAAAAAAAABwACAAAAAAAAAAAAAQABAAAAAQAAAAEAAAAAAAIAAAAAAAAAAQABAAIAAAAAAAAAAAABAAAAAAAAAAAAAQAAAAAAAAAAAAEAAgAAAAAAAAAAAAAAAQAAAAAAAQAAAAAAAAAAAAAAAAAAAAAAAAABAAAAAAAAAAIACgACAAAAAAAAAAEAAAAAAAAAAAAAAAAAAAAAAAAAAAAAAAAAAAAAAAAAAAAAAAAAAQAAAAAAAAAAAAAAAAAAAAAAAAAAAAAAAQAAAAAAAAAAAAAAAQABAAAAAAAAAAAAAAAAAAAAAAAAAAAAAAAAAAAAAAAAAAAAAAADAAAAAgABAAAAAwABAAEAAAABAAEAAgAAAAAAAAAAAAEAAQAAAAAAAAAAAAAAAAABAAEAAAABAAAAAAAAAAAAAAAAAAAAAAAAAAAAAAABAAEAAQAAAAAAAAAAAAAAAAABAAAAAAAAAAAAAAAAAAEAAAABAAAAAAAEAAAAAAAAAAAAAAAAAAAAAAAAAAAAAAABAAAAAAAAAAAAAAAAAAEAAAAAAAAAAAAAAAAAAQAAAAAAAQAAAAAAAAAAAAAAAAAAAAAAAAAAAAAAAAAAAAAAAAAAAAEAAAAAAAEAAAAAAAAAAAAAAAAAAAAAAAAAAAACAAYAAQAAAAAAAgAAAAEAAAAAAAAAAAABAAAAAAABAAEAAAAAAAAAAAAAAAAAAAAAAAAAAAAAAAAAAAAAAAAAAAAAAAAAAAAAAAAAAAAAAAAAAAAAAAEAAAAAAAAAAAAAAAAAAAAAAAAAAAAAAAEAAAAAAAAAAAABAAUAAAAAAAAAAAAAAAAAAQAAAAAAAAAAAAAAAAAAAAEAAAAAAAAAAAAAAAAAAAAAAAAAAAAAAAAAAAAAAAAAAAABAAAAAQAAAAAAAAAAAAAAAAABAAAAAAAAAAAAAAAAAAAAAAAAAAEAAAAAAAAAAAAAAAAAAAAAAAAAAgAAAAAAAAAAAAAAAAAAAAEAAAAAAAAAAAAAAAAAAAAAAAAAAQAAAAAAAAAAAAAAAAAAAAAAAAAAAAAAAAAAAAAAAAABAAAAAAAAAAAAAAAAAAAAAAAAAAEAAQAAAAAAAAAAAAAAAAAAAAAAAAABAAAAAAAAAAAACAAAAAAAAAAAAAAAAAAAAAAAAAAAAAAAAAAAAAAAAAAAAAAAAAAAAAAAAAAAAAAAAAAAAAAAAAAAAAAAAAAAAAAAAAAAAAAAAAAAAAAAAQAAAAAAAAAAAAAAAAAAAAAAAQAAAAAAAAAAAAAAAAAAAAAAAAAAAAAAAAABAAAAAAAAAAEAAQAAAAAAAQAAAAAAAAAAAAAAAAAAAAAAAAAAAAAAAQAAAAAAAAAAAAAAAAAAAAEAAAAAAAAAAAAAAAEAAAAAAAAAAAAAAAEAAAAAAAAAAAAAAAAAAQAAAAAAAAAAAAAAAAAAAAAAAAAAAAAAAAAGAAAAAAAAAAAAAAAAAAAAAAABAAAAAAAAAAAAAAAAAAAAAAAAAAAAAAAAAAAAAAAAAAEAAAAAAAAAAAAAAAEAAAAAAAAAAAAAAAAAAAAAAAAAAAAAAAAAAAAAAAAAAAAAAAAAAAAAAAAAAAAAAAEAAAAAAAAAAAAAAAIAAgAAAAAAAAAAAAEAAAAAAAAAAAAAAAAAAQAAAAAAAAAAAAEAAAAAAAAAAAAAAAAAAAAAAAAAAQAAAAAAAAAAAAAAAAAAAAAAAAAAAAAAAAAAAAAAAAAAAAAAAAAAAAAAAAAAAAAAAAAAAAAAAAAAAAAAAAACAAIAAAAAAAAAAAAAAAEAAAAAAAAAAAABAAAAAAAAAAAAAAAAAAAAAAAAAAAAAAAAAAAAAAAAAAAAAAAAAAAAAAAAAAAAAAAAAAAAAAAAAAAAAAAAAAAAAAAAAAEAAAAAAAAAAAAAAAAAAQAAAAAAAAAAAAAAAAAAAAAAAAABAAAAAAAAAAEAAAAAAAAAAQAAAAAAAAAAAAAAAAAAAAAAAAAAAAAAAAAAAAAAAAAAAAAAAAAAAAAAAAAAAAAAAAAAAAAAAAAAAAAAAAAAAAAAAAAAAAAAAAAAAAAAAAAAAAAAAAAAAAAAAAAAAAAAAAAAAAAAAgAAAAAAAAAAAAAAAAAAAAAAAAAAAAAAAAAAAAAAAAAAAAAAAAAAAAAAAAAAAAAAAAAAAAAAAAAAAAAAAAAAAAAAAAAAAAAAAAAAAAAAAAAAAAAAAAAAAAAAAAAAAAAAAAAAAAEAAAAAAAAAAAAAAAAAAAAAAAAAAAACAAAAAAAAAAAAAAAAAAEAAAAAAAAAAAABAAAAAAAAAAAAAAAAAAAAAAAAAAAAAAAAAAAAAAAAAAAAAAAAAAAAAAAAAAAAAAAAAAAAAAAAAAAAAAAAAAAAAAAAAAAAAAAAAAAAAAAAAAAAAAAAAAAAAAAAAAAAAAABAAAAAAAAAAAAAAAAAAAAAAAAAAAAAAAAAAAAAAAAAAAAAAAAAAAAAAAAAAAAAAABAAAAAAAAAAAAAAAAAAAAAAAAAAAAAAAAAAAAAAAAAAAAAAAAAAAAAAAAAAAAAAAAAAAAAAAAAAAAAAABAAAAAAAAAAAAAQAAAAAAAAAAAAAAAAABAAAAAAABAAAAAAAAAAAAAAAAAAAAAAAAAAAAAAAAAAAAAAAAAAAAAAAAAAAAAAAAAAAAAAAAAAAAAAAAAAAAAAABAAAAAAAAAAAAAAAAAAAAAAAAAAAAAAAAAAAAAAAAAAAAAAAAAAAAAAAAAAUAAAAAAAAAAAAAAAAAAAAAAAAAAAAAAAAAAAAAAAAAAAAAAAAAAAAAAAAAAAAAAAAAAAAAAAAAAAAAAAAAAQAAAAAAAAAAAAEAAAAAAAAAAAAAAAAAAAAAAAAAAAAAAAAAAAAAAAAAAAABAAAAAAAAAAAAAAAAAAAAAQAAAAAAAAABAAAAAAAAAAAAAAAAAAAAAAAAAAAAAAAAAAAAAAAAAAAAAAAAAAAAAAAAAAAAAAAAAAAAAAAAAAAAAAAAAAAAAAAAAAAAAAAAAAAAAAAAAAAAAAAAAAAAAAAAAAAAAAAAAAAAAAAAAAAAAAAAAAAAAgA=",
          "dtype": "i2",
          "shape": "40, 121"
         }
        }
       ],
       "layout": {
        "template": {
         "data": {
          "bar": [
           {
            "error_x": {
             "color": "#2a3f5f"
            },
            "error_y": {
             "color": "#2a3f5f"
            },
            "marker": {
             "line": {
              "color": "#E5ECF6",
              "width": 0.5
             },
             "pattern": {
              "fillmode": "overlay",
              "size": 10,
              "solidity": 0.2
             }
            },
            "type": "bar"
           }
          ],
          "barpolar": [
           {
            "marker": {
             "line": {
              "color": "#E5ECF6",
              "width": 0.5
             },
             "pattern": {
              "fillmode": "overlay",
              "size": 10,
              "solidity": 0.2
             }
            },
            "type": "barpolar"
           }
          ],
          "carpet": [
           {
            "aaxis": {
             "endlinecolor": "#2a3f5f",
             "gridcolor": "white",
             "linecolor": "white",
             "minorgridcolor": "white",
             "startlinecolor": "#2a3f5f"
            },
            "baxis": {
             "endlinecolor": "#2a3f5f",
             "gridcolor": "white",
             "linecolor": "white",
             "minorgridcolor": "white",
             "startlinecolor": "#2a3f5f"
            },
            "type": "carpet"
           }
          ],
          "choropleth": [
           {
            "colorbar": {
             "outlinewidth": 0,
             "ticks": ""
            },
            "type": "choropleth"
           }
          ],
          "contour": [
           {
            "colorbar": {
             "outlinewidth": 0,
             "ticks": ""
            },
            "colorscale": [
             [
              0,
              "#0d0887"
             ],
             [
              0.1111111111111111,
              "#46039f"
             ],
             [
              0.2222222222222222,
              "#7201a8"
             ],
             [
              0.3333333333333333,
              "#9c179e"
             ],
             [
              0.4444444444444444,
              "#bd3786"
             ],
             [
              0.5555555555555556,
              "#d8576b"
             ],
             [
              0.6666666666666666,
              "#ed7953"
             ],
             [
              0.7777777777777778,
              "#fb9f3a"
             ],
             [
              0.8888888888888888,
              "#fdca26"
             ],
             [
              1,
              "#f0f921"
             ]
            ],
            "type": "contour"
           }
          ],
          "contourcarpet": [
           {
            "colorbar": {
             "outlinewidth": 0,
             "ticks": ""
            },
            "type": "contourcarpet"
           }
          ],
          "heatmap": [
           {
            "colorbar": {
             "outlinewidth": 0,
             "ticks": ""
            },
            "colorscale": [
             [
              0,
              "#0d0887"
             ],
             [
              0.1111111111111111,
              "#46039f"
             ],
             [
              0.2222222222222222,
              "#7201a8"
             ],
             [
              0.3333333333333333,
              "#9c179e"
             ],
             [
              0.4444444444444444,
              "#bd3786"
             ],
             [
              0.5555555555555556,
              "#d8576b"
             ],
             [
              0.6666666666666666,
              "#ed7953"
             ],
             [
              0.7777777777777778,
              "#fb9f3a"
             ],
             [
              0.8888888888888888,
              "#fdca26"
             ],
             [
              1,
              "#f0f921"
             ]
            ],
            "type": "heatmap"
           }
          ],
          "histogram": [
           {
            "marker": {
             "pattern": {
              "fillmode": "overlay",
              "size": 10,
              "solidity": 0.2
             }
            },
            "type": "histogram"
           }
          ],
          "histogram2d": [
           {
            "colorbar": {
             "outlinewidth": 0,
             "ticks": ""
            },
            "colorscale": [
             [
              0,
              "#0d0887"
             ],
             [
              0.1111111111111111,
              "#46039f"
             ],
             [
              0.2222222222222222,
              "#7201a8"
             ],
             [
              0.3333333333333333,
              "#9c179e"
             ],
             [
              0.4444444444444444,
              "#bd3786"
             ],
             [
              0.5555555555555556,
              "#d8576b"
             ],
             [
              0.6666666666666666,
              "#ed7953"
             ],
             [
              0.7777777777777778,
              "#fb9f3a"
             ],
             [
              0.8888888888888888,
              "#fdca26"
             ],
             [
              1,
              "#f0f921"
             ]
            ],
            "type": "histogram2d"
           }
          ],
          "histogram2dcontour": [
           {
            "colorbar": {
             "outlinewidth": 0,
             "ticks": ""
            },
            "colorscale": [
             [
              0,
              "#0d0887"
             ],
             [
              0.1111111111111111,
              "#46039f"
             ],
             [
              0.2222222222222222,
              "#7201a8"
             ],
             [
              0.3333333333333333,
              "#9c179e"
             ],
             [
              0.4444444444444444,
              "#bd3786"
             ],
             [
              0.5555555555555556,
              "#d8576b"
             ],
             [
              0.6666666666666666,
              "#ed7953"
             ],
             [
              0.7777777777777778,
              "#fb9f3a"
             ],
             [
              0.8888888888888888,
              "#fdca26"
             ],
             [
              1,
              "#f0f921"
             ]
            ],
            "type": "histogram2dcontour"
           }
          ],
          "mesh3d": [
           {
            "colorbar": {
             "outlinewidth": 0,
             "ticks": ""
            },
            "type": "mesh3d"
           }
          ],
          "parcoords": [
           {
            "line": {
             "colorbar": {
              "outlinewidth": 0,
              "ticks": ""
             }
            },
            "type": "parcoords"
           }
          ],
          "pie": [
           {
            "automargin": true,
            "type": "pie"
           }
          ],
          "scatter": [
           {
            "fillpattern": {
             "fillmode": "overlay",
             "size": 10,
             "solidity": 0.2
            },
            "type": "scatter"
           }
          ],
          "scatter3d": [
           {
            "line": {
             "colorbar": {
              "outlinewidth": 0,
              "ticks": ""
             }
            },
            "marker": {
             "colorbar": {
              "outlinewidth": 0,
              "ticks": ""
             }
            },
            "type": "scatter3d"
           }
          ],
          "scattercarpet": [
           {
            "marker": {
             "colorbar": {
              "outlinewidth": 0,
              "ticks": ""
             }
            },
            "type": "scattercarpet"
           }
          ],
          "scattergeo": [
           {
            "marker": {
             "colorbar": {
              "outlinewidth": 0,
              "ticks": ""
             }
            },
            "type": "scattergeo"
           }
          ],
          "scattergl": [
           {
            "marker": {
             "colorbar": {
              "outlinewidth": 0,
              "ticks": ""
             }
            },
            "type": "scattergl"
           }
          ],
          "scattermap": [
           {
            "marker": {
             "colorbar": {
              "outlinewidth": 0,
              "ticks": ""
             }
            },
            "type": "scattermap"
           }
          ],
          "scattermapbox": [
           {
            "marker": {
             "colorbar": {
              "outlinewidth": 0,
              "ticks": ""
             }
            },
            "type": "scattermapbox"
           }
          ],
          "scatterpolar": [
           {
            "marker": {
             "colorbar": {
              "outlinewidth": 0,
              "ticks": ""
             }
            },
            "type": "scatterpolar"
           }
          ],
          "scatterpolargl": [
           {
            "marker": {
             "colorbar": {
              "outlinewidth": 0,
              "ticks": ""
             }
            },
            "type": "scatterpolargl"
           }
          ],
          "scatterternary": [
           {
            "marker": {
             "colorbar": {
              "outlinewidth": 0,
              "ticks": ""
             }
            },
            "type": "scatterternary"
           }
          ],
          "surface": [
           {
            "colorbar": {
             "outlinewidth": 0,
             "ticks": ""
            },
            "colorscale": [
             [
              0,
              "#0d0887"
             ],
             [
              0.1111111111111111,
              "#46039f"
             ],
             [
              0.2222222222222222,
              "#7201a8"
             ],
             [
              0.3333333333333333,
              "#9c179e"
             ],
             [
              0.4444444444444444,
              "#bd3786"
             ],
             [
              0.5555555555555556,
              "#d8576b"
             ],
             [
              0.6666666666666666,
              "#ed7953"
             ],
             [
              0.7777777777777778,
              "#fb9f3a"
             ],
             [
              0.8888888888888888,
              "#fdca26"
             ],
             [
              1,
              "#f0f921"
             ]
            ],
            "type": "surface"
           }
          ],
          "table": [
           {
            "cells": {
             "fill": {
              "color": "#EBF0F8"
             },
             "line": {
              "color": "white"
             }
            },
            "header": {
             "fill": {
              "color": "#C8D4E3"
             },
             "line": {
              "color": "white"
             }
            },
            "type": "table"
           }
          ]
         },
         "layout": {
          "annotationdefaults": {
           "arrowcolor": "#2a3f5f",
           "arrowhead": 0,
           "arrowwidth": 1
          },
          "autotypenumbers": "strict",
          "coloraxis": {
           "colorbar": {
            "outlinewidth": 0,
            "ticks": ""
           }
          },
          "colorscale": {
           "diverging": [
            [
             0,
             "#8e0152"
            ],
            [
             0.1,
             "#c51b7d"
            ],
            [
             0.2,
             "#de77ae"
            ],
            [
             0.3,
             "#f1b6da"
            ],
            [
             0.4,
             "#fde0ef"
            ],
            [
             0.5,
             "#f7f7f7"
            ],
            [
             0.6,
             "#e6f5d0"
            ],
            [
             0.7,
             "#b8e186"
            ],
            [
             0.8,
             "#7fbc41"
            ],
            [
             0.9,
             "#4d9221"
            ],
            [
             1,
             "#276419"
            ]
           ],
           "sequential": [
            [
             0,
             "#0d0887"
            ],
            [
             0.1111111111111111,
             "#46039f"
            ],
            [
             0.2222222222222222,
             "#7201a8"
            ],
            [
             0.3333333333333333,
             "#9c179e"
            ],
            [
             0.4444444444444444,
             "#bd3786"
            ],
            [
             0.5555555555555556,
             "#d8576b"
            ],
            [
             0.6666666666666666,
             "#ed7953"
            ],
            [
             0.7777777777777778,
             "#fb9f3a"
            ],
            [
             0.8888888888888888,
             "#fdca26"
            ],
            [
             1,
             "#f0f921"
            ]
           ],
           "sequentialminus": [
            [
             0,
             "#0d0887"
            ],
            [
             0.1111111111111111,
             "#46039f"
            ],
            [
             0.2222222222222222,
             "#7201a8"
            ],
            [
             0.3333333333333333,
             "#9c179e"
            ],
            [
             0.4444444444444444,
             "#bd3786"
            ],
            [
             0.5555555555555556,
             "#d8576b"
            ],
            [
             0.6666666666666666,
             "#ed7953"
            ],
            [
             0.7777777777777778,
             "#fb9f3a"
            ],
            [
             0.8888888888888888,
             "#fdca26"
            ],
            [
             1,
             "#f0f921"
            ]
           ]
          },
          "colorway": [
           "#636efa",
           "#EF553B",
           "#00cc96",
           "#ab63fa",
           "#FFA15A",
           "#19d3f3",
           "#FF6692",
           "#B6E880",
           "#FF97FF",
           "#FECB52"
          ],
          "font": {
           "color": "#2a3f5f"
          },
          "geo": {
           "bgcolor": "white",
           "lakecolor": "white",
           "landcolor": "#E5ECF6",
           "showlakes": true,
           "showland": true,
           "subunitcolor": "white"
          },
          "hoverlabel": {
           "align": "left"
          },
          "hovermode": "closest",
          "mapbox": {
           "style": "light"
          },
          "paper_bgcolor": "white",
          "plot_bgcolor": "#E5ECF6",
          "polar": {
           "angularaxis": {
            "gridcolor": "white",
            "linecolor": "white",
            "ticks": ""
           },
           "bgcolor": "#E5ECF6",
           "radialaxis": {
            "gridcolor": "white",
            "linecolor": "white",
            "ticks": ""
           }
          },
          "scene": {
           "xaxis": {
            "backgroundcolor": "#E5ECF6",
            "gridcolor": "white",
            "gridwidth": 2,
            "linecolor": "white",
            "showbackground": true,
            "ticks": "",
            "zerolinecolor": "white"
           },
           "yaxis": {
            "backgroundcolor": "#E5ECF6",
            "gridcolor": "white",
            "gridwidth": 2,
            "linecolor": "white",
            "showbackground": true,
            "ticks": "",
            "zerolinecolor": "white"
           },
           "zaxis": {
            "backgroundcolor": "#E5ECF6",
            "gridcolor": "white",
            "gridwidth": 2,
            "linecolor": "white",
            "showbackground": true,
            "ticks": "",
            "zerolinecolor": "white"
           }
          },
          "shapedefaults": {
           "line": {
            "color": "#2a3f5f"
           }
          },
          "ternary": {
           "aaxis": {
            "gridcolor": "white",
            "linecolor": "white",
            "ticks": ""
           },
           "baxis": {
            "gridcolor": "white",
            "linecolor": "white",
            "ticks": ""
           },
           "bgcolor": "#E5ECF6",
           "caxis": {
            "gridcolor": "white",
            "linecolor": "white",
            "ticks": ""
           }
          },
          "title": {
           "x": 0.05
          },
          "xaxis": {
           "automargin": true,
           "gridcolor": "white",
           "linecolor": "white",
           "ticks": "",
           "title": {
            "standoff": 15
           },
           "zerolinecolor": "white",
           "zerolinewidth": 2
          },
          "yaxis": {
           "automargin": true,
           "gridcolor": "white",
           "linecolor": "white",
           "ticks": "",
           "title": {
            "standoff": 15
           },
           "zerolinecolor": "white",
           "zerolinewidth": 2
          }
         }
        },
        "title": {
         "text": "Frequency of Percentage Price Changes Around EIA WPSR Release On Release Days"
        },
        "xaxis": {
         "ticktext": [
          -60,
          -55,
          -50,
          -45,
          -40,
          -35,
          -30,
          -25,
          -20,
          -15,
          -10,
          -5,
          0,
          5,
          10,
          15,
          20,
          25,
          30,
          35,
          40,
          45,
          50,
          55,
          60
         ],
         "tickvals": [
          -60,
          -55,
          -50,
          -45,
          -40,
          -35,
          -30,
          -25,
          -20,
          -15,
          -10,
          -5,
          0,
          5,
          10,
          15,
          20,
          25,
          30,
          35,
          40,
          45,
          50,
          55,
          60
         ],
         "title": {
          "text": "Time Relative to Release (Minutes)"
         }
        },
        "yaxis": {
         "autorange": "reversed",
         "title": {
          "text": "Percentage Price Change Bins"
         }
        }
       }
      }
     },
     "metadata": {},
     "output_type": "display_data"
    },
    {
     "data": {
      "text/html": [
       "<div>\n",
       "<style scoped>\n",
       "    .dataframe tbody tr th:only-of-type {\n",
       "        vertical-align: middle;\n",
       "    }\n",
       "\n",
       "    .dataframe tbody tr th {\n",
       "        vertical-align: top;\n",
       "    }\n",
       "\n",
       "    .dataframe thead th {\n",
       "        text-align: right;\n",
       "    }\n",
       "</style>\n",
       "<table border=\"1\" class=\"dataframe\">\n",
       "  <thead>\n",
       "    <tr style=\"text-align: right;\">\n",
       "      <th></th>\n",
       "      <th>Date</th>\n",
       "      <th>Time</th>\n",
       "      <th>Open</th>\n",
       "      <th>High</th>\n",
       "      <th>Low</th>\n",
       "      <th>Close</th>\n",
       "      <th>Volume</th>\n",
       "      <th>Datetime</th>\n",
       "      <th>Percent_Change</th>\n",
       "      <th>Release_Datetime</th>\n",
       "      <th>Time_to_Release_Minutes</th>\n",
       "      <th>Time_Delta_Minutes</th>\n",
       "      <th>Price_Change_Bin</th>\n",
       "    </tr>\n",
       "    <tr>\n",
       "      <th>Datetime_CST</th>\n",
       "      <th></th>\n",
       "      <th></th>\n",
       "      <th></th>\n",
       "      <th></th>\n",
       "      <th></th>\n",
       "      <th></th>\n",
       "      <th></th>\n",
       "      <th></th>\n",
       "      <th></th>\n",
       "      <th></th>\n",
       "      <th></th>\n",
       "      <th></th>\n",
       "      <th></th>\n",
       "    </tr>\n",
       "  </thead>\n",
       "  <tbody>\n",
       "    <tr>\n",
       "      <th>2011-03-09 08:30:00-06:00</th>\n",
       "      <td>09/03/2011</td>\n",
       "      <td>08:30:00</td>\n",
       "      <td>105.56</td>\n",
       "      <td>105.56</td>\n",
       "      <td>105.44</td>\n",
       "      <td>105.46</td>\n",
       "      <td>514</td>\n",
       "      <td>2011-03-09 08:30:00</td>\n",
       "      <td>-0.094733</td>\n",
       "      <td>2011-03-09 09:30:00-06:00</td>\n",
       "      <td>-60.0</td>\n",
       "      <td>-60.0</td>\n",
       "      <td>-0.10%</td>\n",
       "    </tr>\n",
       "    <tr>\n",
       "      <th>2011-03-09 08:31:00-06:00</th>\n",
       "      <td>09/03/2011</td>\n",
       "      <td>08:31:00</td>\n",
       "      <td>105.46</td>\n",
       "      <td>105.52</td>\n",
       "      <td>105.45</td>\n",
       "      <td>105.46</td>\n",
       "      <td>323</td>\n",
       "      <td>2011-03-09 08:31:00</td>\n",
       "      <td>0.000000</td>\n",
       "      <td>2011-03-09 09:30:00-06:00</td>\n",
       "      <td>-59.0</td>\n",
       "      <td>-59.0</td>\n",
       "      <td>-0.05%</td>\n",
       "    </tr>\n",
       "    <tr>\n",
       "      <th>2011-03-09 08:32:00-06:00</th>\n",
       "      <td>09/03/2011</td>\n",
       "      <td>08:32:00</td>\n",
       "      <td>105.45</td>\n",
       "      <td>105.47</td>\n",
       "      <td>105.31</td>\n",
       "      <td>105.32</td>\n",
       "      <td>899</td>\n",
       "      <td>2011-03-09 08:32:00</td>\n",
       "      <td>-0.132752</td>\n",
       "      <td>2011-03-09 09:30:00-06:00</td>\n",
       "      <td>-58.0</td>\n",
       "      <td>-58.0</td>\n",
       "      <td>-0.15%</td>\n",
       "    </tr>\n",
       "    <tr>\n",
       "      <th>2011-03-09 08:33:00-06:00</th>\n",
       "      <td>09/03/2011</td>\n",
       "      <td>08:33:00</td>\n",
       "      <td>105.31</td>\n",
       "      <td>105.37</td>\n",
       "      <td>105.25</td>\n",
       "      <td>105.33</td>\n",
       "      <td>716</td>\n",
       "      <td>2011-03-09 08:33:00</td>\n",
       "      <td>0.009495</td>\n",
       "      <td>2011-03-09 09:30:00-06:00</td>\n",
       "      <td>-57.0</td>\n",
       "      <td>-57.0</td>\n",
       "      <td>0.00%</td>\n",
       "    </tr>\n",
       "    <tr>\n",
       "      <th>2011-03-09 08:34:00-06:00</th>\n",
       "      <td>09/03/2011</td>\n",
       "      <td>08:34:00</td>\n",
       "      <td>105.34</td>\n",
       "      <td>105.45</td>\n",
       "      <td>105.31</td>\n",
       "      <td>105.40</td>\n",
       "      <td>660</td>\n",
       "      <td>2011-03-09 08:34:00</td>\n",
       "      <td>0.066458</td>\n",
       "      <td>2011-03-09 09:30:00-06:00</td>\n",
       "      <td>-56.0</td>\n",
       "      <td>-56.0</td>\n",
       "      <td>0.05%</td>\n",
       "    </tr>\n",
       "    <tr>\n",
       "      <th>...</th>\n",
       "      <td>...</td>\n",
       "      <td>...</td>\n",
       "      <td>...</td>\n",
       "      <td>...</td>\n",
       "      <td>...</td>\n",
       "      <td>...</td>\n",
       "      <td>...</td>\n",
       "      <td>...</td>\n",
       "      <td>...</td>\n",
       "      <td>...</td>\n",
       "      <td>...</td>\n",
       "      <td>...</td>\n",
       "      <td>...</td>\n",
       "    </tr>\n",
       "    <tr>\n",
       "      <th>2025-03-05 10:26:00-06:00</th>\n",
       "      <td>05/03/2025</td>\n",
       "      <td>10:26:00</td>\n",
       "      <td>65.42</td>\n",
       "      <td>65.46</td>\n",
       "      <td>65.37</td>\n",
       "      <td>65.38</td>\n",
       "      <td>713</td>\n",
       "      <td>2025-03-05 10:26:00</td>\n",
       "      <td>-0.061143</td>\n",
       "      <td>2025-03-05 09:30:00-06:00</td>\n",
       "      <td>56.0</td>\n",
       "      <td>56.0</td>\n",
       "      <td>-0.10%</td>\n",
       "    </tr>\n",
       "    <tr>\n",
       "      <th>2025-03-05 10:27:00-06:00</th>\n",
       "      <td>05/03/2025</td>\n",
       "      <td>10:27:00</td>\n",
       "      <td>65.37</td>\n",
       "      <td>65.41</td>\n",
       "      <td>65.37</td>\n",
       "      <td>65.39</td>\n",
       "      <td>640</td>\n",
       "      <td>2025-03-05 10:27:00</td>\n",
       "      <td>0.015295</td>\n",
       "      <td>2025-03-05 09:30:00-06:00</td>\n",
       "      <td>57.0</td>\n",
       "      <td>57.0</td>\n",
       "      <td>0.00%</td>\n",
       "    </tr>\n",
       "    <tr>\n",
       "      <th>2025-03-05 10:28:00-06:00</th>\n",
       "      <td>05/03/2025</td>\n",
       "      <td>10:28:00</td>\n",
       "      <td>65.40</td>\n",
       "      <td>65.42</td>\n",
       "      <td>65.33</td>\n",
       "      <td>65.36</td>\n",
       "      <td>796</td>\n",
       "      <td>2025-03-05 10:28:00</td>\n",
       "      <td>-0.045879</td>\n",
       "      <td>2025-03-05 09:30:00-06:00</td>\n",
       "      <td>58.0</td>\n",
       "      <td>58.0</td>\n",
       "      <td>-0.05%</td>\n",
       "    </tr>\n",
       "    <tr>\n",
       "      <th>2025-03-05 10:29:00-06:00</th>\n",
       "      <td>05/03/2025</td>\n",
       "      <td>10:29:00</td>\n",
       "      <td>65.35</td>\n",
       "      <td>65.40</td>\n",
       "      <td>65.35</td>\n",
       "      <td>65.37</td>\n",
       "      <td>658</td>\n",
       "      <td>2025-03-05 10:29:00</td>\n",
       "      <td>0.015300</td>\n",
       "      <td>2025-03-05 09:30:00-06:00</td>\n",
       "      <td>59.0</td>\n",
       "      <td>59.0</td>\n",
       "      <td>0.00%</td>\n",
       "    </tr>\n",
       "    <tr>\n",
       "      <th>2025-03-05 10:30:00-06:00</th>\n",
       "      <td>05/03/2025</td>\n",
       "      <td>10:30:00</td>\n",
       "      <td>65.38</td>\n",
       "      <td>65.45</td>\n",
       "      <td>65.34</td>\n",
       "      <td>65.43</td>\n",
       "      <td>842</td>\n",
       "      <td>2025-03-05 10:30:00</td>\n",
       "      <td>0.091785</td>\n",
       "      <td>2025-03-05 09:30:00-06:00</td>\n",
       "      <td>60.0</td>\n",
       "      <td>60.0</td>\n",
       "      <td>0.05%</td>\n",
       "    </tr>\n",
       "  </tbody>\n",
       "</table>\n",
       "<p>88344 rows × 13 columns</p>\n",
       "</div>"
      ],
      "text/plain": [
       "                                 Date      Time    Open    High     Low  \\\n",
       "Datetime_CST                                                              \n",
       "2011-03-09 08:30:00-06:00  09/03/2011  08:30:00  105.56  105.56  105.44   \n",
       "2011-03-09 08:31:00-06:00  09/03/2011  08:31:00  105.46  105.52  105.45   \n",
       "2011-03-09 08:32:00-06:00  09/03/2011  08:32:00  105.45  105.47  105.31   \n",
       "2011-03-09 08:33:00-06:00  09/03/2011  08:33:00  105.31  105.37  105.25   \n",
       "2011-03-09 08:34:00-06:00  09/03/2011  08:34:00  105.34  105.45  105.31   \n",
       "...                               ...       ...     ...     ...     ...   \n",
       "2025-03-05 10:26:00-06:00  05/03/2025  10:26:00   65.42   65.46   65.37   \n",
       "2025-03-05 10:27:00-06:00  05/03/2025  10:27:00   65.37   65.41   65.37   \n",
       "2025-03-05 10:28:00-06:00  05/03/2025  10:28:00   65.40   65.42   65.33   \n",
       "2025-03-05 10:29:00-06:00  05/03/2025  10:29:00   65.35   65.40   65.35   \n",
       "2025-03-05 10:30:00-06:00  05/03/2025  10:30:00   65.38   65.45   65.34   \n",
       "\n",
       "                            Close  Volume            Datetime  Percent_Change  \\\n",
       "Datetime_CST                                                                    \n",
       "2011-03-09 08:30:00-06:00  105.46     514 2011-03-09 08:30:00       -0.094733   \n",
       "2011-03-09 08:31:00-06:00  105.46     323 2011-03-09 08:31:00        0.000000   \n",
       "2011-03-09 08:32:00-06:00  105.32     899 2011-03-09 08:32:00       -0.132752   \n",
       "2011-03-09 08:33:00-06:00  105.33     716 2011-03-09 08:33:00        0.009495   \n",
       "2011-03-09 08:34:00-06:00  105.40     660 2011-03-09 08:34:00        0.066458   \n",
       "...                           ...     ...                 ...             ...   \n",
       "2025-03-05 10:26:00-06:00   65.38     713 2025-03-05 10:26:00       -0.061143   \n",
       "2025-03-05 10:27:00-06:00   65.39     640 2025-03-05 10:27:00        0.015295   \n",
       "2025-03-05 10:28:00-06:00   65.36     796 2025-03-05 10:28:00       -0.045879   \n",
       "2025-03-05 10:29:00-06:00   65.37     658 2025-03-05 10:29:00        0.015300   \n",
       "2025-03-05 10:30:00-06:00   65.43     842 2025-03-05 10:30:00        0.091785   \n",
       "\n",
       "                                   Release_Datetime  Time_to_Release_Minutes  \\\n",
       "Datetime_CST                                                                   \n",
       "2011-03-09 08:30:00-06:00 2011-03-09 09:30:00-06:00                    -60.0   \n",
       "2011-03-09 08:31:00-06:00 2011-03-09 09:30:00-06:00                    -59.0   \n",
       "2011-03-09 08:32:00-06:00 2011-03-09 09:30:00-06:00                    -58.0   \n",
       "2011-03-09 08:33:00-06:00 2011-03-09 09:30:00-06:00                    -57.0   \n",
       "2011-03-09 08:34:00-06:00 2011-03-09 09:30:00-06:00                    -56.0   \n",
       "...                                             ...                      ...   \n",
       "2025-03-05 10:26:00-06:00 2025-03-05 09:30:00-06:00                     56.0   \n",
       "2025-03-05 10:27:00-06:00 2025-03-05 09:30:00-06:00                     57.0   \n",
       "2025-03-05 10:28:00-06:00 2025-03-05 09:30:00-06:00                     58.0   \n",
       "2025-03-05 10:29:00-06:00 2025-03-05 09:30:00-06:00                     59.0   \n",
       "2025-03-05 10:30:00-06:00 2025-03-05 09:30:00-06:00                     60.0   \n",
       "\n",
       "                           Time_Delta_Minutes Price_Change_Bin  \n",
       "Datetime_CST                                                    \n",
       "2011-03-09 08:30:00-06:00               -60.0           -0.10%  \n",
       "2011-03-09 08:31:00-06:00               -59.0           -0.05%  \n",
       "2011-03-09 08:32:00-06:00               -58.0           -0.15%  \n",
       "2011-03-09 08:33:00-06:00               -57.0            0.00%  \n",
       "2011-03-09 08:34:00-06:00               -56.0            0.05%  \n",
       "...                                       ...              ...  \n",
       "2025-03-05 10:26:00-06:00                56.0           -0.10%  \n",
       "2025-03-05 10:27:00-06:00                57.0            0.00%  \n",
       "2025-03-05 10:28:00-06:00                58.0           -0.05%  \n",
       "2025-03-05 10:29:00-06:00                59.0            0.00%  \n",
       "2025-03-05 10:30:00-06:00                60.0            0.05%  \n",
       "\n",
       "[88344 rows x 13 columns]"
      ]
     },
     "metadata": {},
     "output_type": "display_data"
    },
    {
     "data": {
      "text/html": [
       "<div>\n",
       "<style scoped>\n",
       "    .dataframe tbody tr th:only-of-type {\n",
       "        vertical-align: middle;\n",
       "    }\n",
       "\n",
       "    .dataframe tbody tr th {\n",
       "        vertical-align: top;\n",
       "    }\n",
       "\n",
       "    .dataframe thead th {\n",
       "        text-align: right;\n",
       "    }\n",
       "</style>\n",
       "<table border=\"1\" class=\"dataframe\">\n",
       "  <thead>\n",
       "    <tr style=\"text-align: right;\">\n",
       "      <th></th>\n",
       "      <th>Volume</th>\n",
       "      <th>Percent_Change</th>\n",
       "      <th>Actual</th>\n",
       "      <th>Forecast</th>\n",
       "      <th>Previous</th>\n",
       "      <th>supply_surprise</th>\n",
       "      <th>Time_till_Release</th>\n",
       "      <th>Time_Bin</th>\n",
       "      <th>Percent_Change_Bin</th>\n",
       "      <th>Price_Change_Bin</th>\n",
       "    </tr>\n",
       "  </thead>\n",
       "  <tbody>\n",
       "    <tr>\n",
       "      <th>0</th>\n",
       "      <td>875</td>\n",
       "      <td>-0.142383</td>\n",
       "      <td>2.500M</td>\n",
       "      <td>1.100M</td>\n",
       "      <td>-0.400M</td>\n",
       "      <td>1.4</td>\n",
       "      <td>-60.0</td>\n",
       "      <td>[-60.0, -59.0)</td>\n",
       "      <td>[-0.15, -0.1)</td>\n",
       "      <td>-0.15%</td>\n",
       "    </tr>\n",
       "    <tr>\n",
       "      <th>1</th>\n",
       "      <td>566</td>\n",
       "      <td>0.019011</td>\n",
       "      <td>2.500M</td>\n",
       "      <td>1.100M</td>\n",
       "      <td>-0.400M</td>\n",
       "      <td>1.4</td>\n",
       "      <td>-59.0</td>\n",
       "      <td>[-59.0, -58.0)</td>\n",
       "      <td>[0.0, 0.05)</td>\n",
       "      <td>0.00%</td>\n",
       "    </tr>\n",
       "    <tr>\n",
       "      <th>2</th>\n",
       "      <td>921</td>\n",
       "      <td>-0.076031</td>\n",
       "      <td>2.500M</td>\n",
       "      <td>1.100M</td>\n",
       "      <td>-0.400M</td>\n",
       "      <td>1.4</td>\n",
       "      <td>-58.0</td>\n",
       "      <td>[-58.0, -57.0)</td>\n",
       "      <td>[-0.1, -0.05)</td>\n",
       "      <td>-0.10%</td>\n",
       "    </tr>\n",
       "    <tr>\n",
       "      <th>3</th>\n",
       "      <td>574</td>\n",
       "      <td>-0.066578</td>\n",
       "      <td>2.500M</td>\n",
       "      <td>1.100M</td>\n",
       "      <td>-0.400M</td>\n",
       "      <td>1.4</td>\n",
       "      <td>-57.0</td>\n",
       "      <td>[-57.0, -56.0)</td>\n",
       "      <td>[-0.1, -0.05)</td>\n",
       "      <td>-0.10%</td>\n",
       "    </tr>\n",
       "    <tr>\n",
       "      <th>4</th>\n",
       "      <td>1099</td>\n",
       "      <td>-0.057105</td>\n",
       "      <td>2.500M</td>\n",
       "      <td>1.100M</td>\n",
       "      <td>-0.400M</td>\n",
       "      <td>1.4</td>\n",
       "      <td>-56.0</td>\n",
       "      <td>[-56.0, -55.0)</td>\n",
       "      <td>[-0.1, -0.05)</td>\n",
       "      <td>-0.10%</td>\n",
       "    </tr>\n",
       "    <tr>\n",
       "      <th>...</th>\n",
       "      <td>...</td>\n",
       "      <td>...</td>\n",
       "      <td>...</td>\n",
       "      <td>...</td>\n",
       "      <td>...</td>\n",
       "      <td>...</td>\n",
       "      <td>...</td>\n",
       "      <td>...</td>\n",
       "      <td>...</td>\n",
       "      <td>...</td>\n",
       "    </tr>\n",
       "    <tr>\n",
       "      <th>255333</th>\n",
       "      <td>128</td>\n",
       "      <td>0.000000</td>\n",
       "      <td>NaN</td>\n",
       "      <td>NaN</td>\n",
       "      <td>3.614M</td>\n",
       "      <td>NaN</td>\n",
       "      <td>56.0</td>\n",
       "      <td>[56.0, 57.0)</td>\n",
       "      <td>[0.0, 0.05)</td>\n",
       "      <td>-0.05%</td>\n",
       "    </tr>\n",
       "    <tr>\n",
       "      <th>255334</th>\n",
       "      <td>133</td>\n",
       "      <td>0.000000</td>\n",
       "      <td>NaN</td>\n",
       "      <td>NaN</td>\n",
       "      <td>3.614M</td>\n",
       "      <td>NaN</td>\n",
       "      <td>57.0</td>\n",
       "      <td>[57.0, 58.0)</td>\n",
       "      <td>[0.0, 0.05)</td>\n",
       "      <td>-0.05%</td>\n",
       "    </tr>\n",
       "    <tr>\n",
       "      <th>255335</th>\n",
       "      <td>88</td>\n",
       "      <td>0.014968</td>\n",
       "      <td>NaN</td>\n",
       "      <td>NaN</td>\n",
       "      <td>3.614M</td>\n",
       "      <td>NaN</td>\n",
       "      <td>58.0</td>\n",
       "      <td>[58.0, 59.0)</td>\n",
       "      <td>[0.0, 0.05)</td>\n",
       "      <td>0.00%</td>\n",
       "    </tr>\n",
       "    <tr>\n",
       "      <th>255336</th>\n",
       "      <td>275</td>\n",
       "      <td>0.000000</td>\n",
       "      <td>NaN</td>\n",
       "      <td>NaN</td>\n",
       "      <td>3.614M</td>\n",
       "      <td>NaN</td>\n",
       "      <td>59.0</td>\n",
       "      <td>[59.0, 60.0)</td>\n",
       "      <td>[0.0, 0.05)</td>\n",
       "      <td>-0.05%</td>\n",
       "    </tr>\n",
       "    <tr>\n",
       "      <th>255337</th>\n",
       "      <td>284</td>\n",
       "      <td>0.014966</td>\n",
       "      <td>NaN</td>\n",
       "      <td>NaN</td>\n",
       "      <td>3.614M</td>\n",
       "      <td>NaN</td>\n",
       "      <td>60.0</td>\n",
       "      <td>NaN</td>\n",
       "      <td>[0.0, 0.05)</td>\n",
       "      <td>0.00%</td>\n",
       "    </tr>\n",
       "  </tbody>\n",
       "</table>\n",
       "<p>255338 rows × 10 columns</p>\n",
       "</div>"
      ],
      "text/plain": [
       "        Volume  Percent_Change  Actual Forecast Previous  supply_surprise  \\\n",
       "0          875       -0.142383  2.500M   1.100M  -0.400M              1.4   \n",
       "1          566        0.019011  2.500M   1.100M  -0.400M              1.4   \n",
       "2          921       -0.076031  2.500M   1.100M  -0.400M              1.4   \n",
       "3          574       -0.066578  2.500M   1.100M  -0.400M              1.4   \n",
       "4         1099       -0.057105  2.500M   1.100M  -0.400M              1.4   \n",
       "...        ...             ...     ...      ...      ...              ...   \n",
       "255333     128        0.000000     NaN      NaN   3.614M              NaN   \n",
       "255334     133        0.000000     NaN      NaN   3.614M              NaN   \n",
       "255335      88        0.014968     NaN      NaN   3.614M              NaN   \n",
       "255336     275        0.000000     NaN      NaN   3.614M              NaN   \n",
       "255337     284        0.014966     NaN      NaN   3.614M              NaN   \n",
       "\n",
       "        Time_till_Release        Time_Bin Percent_Change_Bin Price_Change_Bin  \n",
       "0                   -60.0  [-60.0, -59.0)      [-0.15, -0.1)           -0.15%  \n",
       "1                   -59.0  [-59.0, -58.0)        [0.0, 0.05)            0.00%  \n",
       "2                   -58.0  [-58.0, -57.0)      [-0.1, -0.05)           -0.10%  \n",
       "3                   -57.0  [-57.0, -56.0)      [-0.1, -0.05)           -0.10%  \n",
       "4                   -56.0  [-56.0, -55.0)      [-0.1, -0.05)           -0.10%  \n",
       "...                   ...             ...                ...              ...  \n",
       "255333               56.0    [56.0, 57.0)        [0.0, 0.05)           -0.05%  \n",
       "255334               57.0    [57.0, 58.0)        [0.0, 0.05)           -0.05%  \n",
       "255335               58.0    [58.0, 59.0)        [0.0, 0.05)            0.00%  \n",
       "255336               59.0    [59.0, 60.0)        [0.0, 0.05)           -0.05%  \n",
       "255337               60.0             NaN        [0.0, 0.05)            0.00%  \n",
       "\n",
       "[255338 rows x 10 columns]"
      ]
     },
     "metadata": {},
     "output_type": "display_data"
    }
   ],
   "source": [
    "# 2. Define Time Intervals and Price Change Bins for Heatmap\n",
    "time_intervals_non_release = sorted(non_release_price_windows_60min['Time_till_Release'].unique())\n",
    "price_change_bins= np.linspace(-1, 1, num=41) # Example: Bins from -1% to +1% in 0.05% increments, adjust as needed\n",
    "price_change_labels = [f'{bin_val:.2f}%' for bin_val in price_change_bins] # Labels for bins\n",
    "\n",
    "# 3.  Bin Price Changes and Count Frequencies\n",
    "non_release_price_windows_60min['Price_Change_Bin'] = pd.cut(non_release_price_windows_60min['Percent_Change'], bins=price_change_bins, labels=price_change_labels[:-1], include_lowest=True)\n",
    "\n",
    "\n",
    "heatmap_data_non_release = non_release_price_windows_60min.groupby(['Price_Change_Bin', 'Time_till_Release']).size().unstack(fill_value=0)\n",
    "\n",
    "# Reindex columns and rows to ensure all intervals and bins are present, even if count is zero\n",
    "heatmap_data_non_release = heatmap_data_non_release.reindex(columns=time_intervals, fill_value=0)\n",
    "heatmap_data_non_release = heatmap_data_non_release.reindex(index=price_change_labels[:-1], fill_value=0)\n",
    "\n",
    "# 4. Create Interactive Heatmap with Plotly\n",
    "fig_heatmap_non_release = go.Figure(data=go.Heatmap(\n",
    "    z=heatmap_data_non_release.values,\n",
    "    x=heatmap_data_non_release.columns,\n",
    "    y=heatmap_data_non_release.index,\n",
    "    colorscale='Viridis', # Choose a colorscale that suits your preference\n",
    "    colorbar=dict(title='Frequency')\n",
    "))\n",
    "\n",
    "fig_heatmap_non_release.update_layout(\n",
    "    title='Frequency of Percentage Price Changes Around EIA WPSR Release On Non-Release Days',\n",
    "    xaxis_title='Time Relative to Release (Minutes)',\n",
    "    yaxis_title='Percentage Price Change Bins',\n",
    "    yaxis=dict(autorange=\"reversed\"), # Invert y-axis to have positive changes at the top\n",
    "    xaxis=dict(tickvals=time_intervals[::5], ticktext=[int(x) for x in time_intervals[::5]]) # Show x-axis ticks every 5 minutes\n",
    ")\n",
    "\n",
    "fig_heatmap_non_release.show()\n",
    "\n",
    "\n",
    "# Assume price_window_60min dataframe is already loaded and has 'Datetime', 'Close', and 'Release_Datetime' columns\n",
    "\n",
    "# 1. Calculate Price Changes Relative to Pre-Release Minute\n",
    "price_window_60min['Time_Delta_Minutes'] = price_window_60min.index - price_window_60min['Release_Datetime']\n",
    "price_window_60min['Time_Delta_Minutes'] = price_window_60min['Time_Delta_Minutes'].apply(lambda td: td.total_seconds() / 60)\n",
    "#price_window_60min['Price_Change'] = price_window_60min.groupby('Release_Datetime')['Close'].transform(lambda x: x - x.shift(1))\n",
    "#price_window_60min['Percent_Change'] = price_window_60min.groupby('Release_Datetime')['Close'].pct_change() * 100\n",
    "\n",
    "#price_window_60min = price_window_60min.dropna(subset=['Percent_Change']) # Remove rows where shift resulted in NaN\n",
    "\n",
    "# 2. Define Time Intervals and Price Change Bins for Heatmap\n",
    "time_intervals_release = sorted(price_window_60min['Time_Delta_Minutes'].unique())\n",
    "\n",
    "# 3.  Bin Price Changes and Count Frequencies\n",
    "price_window_60min['Price_Change_Bin'] = pd.cut(price_window_60min['Percent_Change'], bins=price_change_bins, labels=price_change_labels[:-1], include_lowest=True)\n",
    "\n",
    "\n",
    "heatmap_data_release = price_window_60min.groupby(['Price_Change_Bin', 'Time_Delta_Minutes']).size().unstack(fill_value=0)\n",
    "\n",
    "# Reindex columns and rows to ensure all intervals and bins are present, even if count is zero\n",
    "heatmap_data_release = heatmap_data_release.reindex(columns=time_intervals, fill_value=0)\n",
    "heatmap_data_release = heatmap_data_release.reindex(index=price_change_labels[:-1], fill_value=0)\n",
    "\n",
    "# 4. Create Interactive Heatmap with Plotly\n",
    "fig_heatmap_release = go.Figure(data=go.Heatmap(\n",
    "    z=heatmap_data_release.values,\n",
    "    x=heatmap_data_release.columns,\n",
    "    y=heatmap_data.index,\n",
    "    colorscale='Viridis', # Choose a colorscale that suits your preference\n",
    "    colorbar=dict(title='Frequency')\n",
    "))\n",
    "\n",
    "fig_heatmap_release.update_layout(\n",
    "    title='Frequency of Percentage Price Changes Around EIA WPSR Release On Release Days',\n",
    "    xaxis_title='Time Relative to Release (Minutes)',\n",
    "    yaxis_title='Percentage Price Change Bins',\n",
    "    yaxis=dict(autorange=\"reversed\"), # Invert y-axis to have positive changes at the top\n",
    "    xaxis=dict(tickvals=time_intervals[::5], ticktext=[int(x) for x in time_intervals[::5]]) # Show x-axis ticks every 5 minutes\n",
    ")\n",
    "\n",
    "fig_heatmap_release.show()\n",
    "display(price_window_60min)\n",
    "\n",
    "display(non_release_price_windows_60min)"
   ]
  }
 ],
 "metadata": {
  "kernelspec": {
   "display_name": "Python 3",
   "language": "python",
   "name": "python3"
  },
  "language_info": {
   "codemirror_mode": {
    "name": "ipython",
    "version": 3
   },
   "file_extension": ".py",
   "mimetype": "text/x-python",
   "name": "python",
   "nbconvert_exporter": "python",
   "pygments_lexer": "ipython3",
   "version": "3.13.1"
  }
 },
 "nbformat": 4,
 "nbformat_minor": 2
}
